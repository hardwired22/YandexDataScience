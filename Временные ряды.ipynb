{
 "cells": [
  {
   "cell_type": "markdown",
   "metadata": {
    "toc": true
   },
   "source": [
    "<h1>Содержание<span class=\"tocSkip\"></span></h1>\n",
    "<div class=\"toc\"><ul class=\"toc-item\"><li><span><a href=\"#Подготовка\" data-toc-modified-id=\"Подготовка-1\"><span class=\"toc-item-num\">1&nbsp;&nbsp;</span>Подготовка</a></span></li><li><span><a href=\"#Анализ\" data-toc-modified-id=\"Анализ-2\"><span class=\"toc-item-num\">2&nbsp;&nbsp;</span>Анализ</a></span></li><li><span><a href=\"#Обучение\" data-toc-modified-id=\"Обучение-3\"><span class=\"toc-item-num\">3&nbsp;&nbsp;</span>Обучение</a></span></li><li><span><a href=\"#Тестирование\" data-toc-modified-id=\"Тестирование-4\"><span class=\"toc-item-num\">4&nbsp;&nbsp;</span>Тестирование</a></span></li><li><span><a href=\"#Чек-лист-проверки\" data-toc-modified-id=\"Чек-лист-проверки-5\"><span class=\"toc-item-num\">5&nbsp;&nbsp;</span>Чек-лист проверки</a></span></li></ul></div>"
   ]
  },
  {
   "cell_type": "markdown",
   "metadata": {},
   "source": [
    "#  Прогнозирование заказов такси"
   ]
  },
  {
   "cell_type": "markdown",
   "metadata": {},
   "source": [
    "Компания «Чётенькое такси» собрала исторические данные о заказах такси в аэропортах. Чтобы привлекать больше водителей в период пиковой нагрузки, нужно спрогнозировать количество заказов такси на следующий час. Постройте модель для такого предсказания.\n",
    "\n",
    "Значение метрики *RMSE* на тестовой выборке должно быть не больше 48.\n",
    "\n",
    "Вам нужно:\n",
    "\n",
    "1. Загрузить данные и выполнить их ресемплирование по одному часу.\n",
    "2. Проанализировать данные.\n",
    "3. Обучить разные модели с различными гиперпараметрами. Сделать тестовую выборку размером 10% от исходных данных.\n",
    "4. Проверить данные на тестовой выборке и сделать выводы.\n",
    "\n",
    "\n",
    "Данные лежат в файле `taxi.csv`. Количество заказов находится в столбце `num_orders` (от англ. *number of orders*, «число заказов»)."
   ]
  },
  {
   "cell_type": "markdown",
   "metadata": {},
   "source": [
    "# Исследование для компании «Чётенькое такси»"
   ]
  },
  {
   "cell_type": "markdown",
   "metadata": {},
   "source": [
    "Компания «Чётенькое такси» собрала исторические данные о заказах такси в аэропортах. \n",
    "\n",
    "Цель исследования это привлечение больше водителей в аэропорт в пик нагрузок.\n",
    "\n",
    "Задача спрогнозировать количество заказов такси на следующий час.\n",
    "\n",
    "*** \n",
    "\n",
    "Количество заказов находится в столбце 'num_orders' (от англ. number of orders, «число заказов»)."
   ]
  },
  {
   "cell_type": "markdown",
   "metadata": {},
   "source": [
    "## Подготовка"
   ]
  },
  {
   "cell_type": "code",
   "execution_count": 1,
   "metadata": {},
   "outputs": [],
   "source": [
    "import pandas as pd\n",
    "import numpy as np\n",
    "import seaborn as sns\n",
    "import lightgbm as lgb\n",
    "import matplotlib.pyplot as plt\n",
    "from sklearn.model_selection import train_test_split, cross_val_score\n",
    "from statsmodels.tsa.seasonal import seasonal_decompose\n",
    "from sklearn.linear_model import LinearRegression\n",
    "from lightgbm import LGBMRegressor\n",
    "from sklearn.tree import DecisionTreeRegressor\n",
    "from catboost import CatBoostRegressor\n",
    "from sklearn.metrics import make_scorer, mean_absolute_error\n",
    "from sklearn.metrics import mean_squared_error\n",
    "from sklearn.ensemble import RandomForestClassifier\n",
    "from sklearn.ensemble import RandomForestRegressor\n",
    "from sklearn.neighbors import KNeighborsClassifier\n",
    "from sklearn.model_selection import RandomizedSearchCV\n",
    "from scipy.stats import randint\n",
    "from statsmodels.tsa.stattools import adfuller\n",
    "from sklearn.model_selection import TimeSeriesSplit\n",
    "import warnings \n",
    "warnings.filterwarnings('ignore')"
   ]
  },
  {
   "cell_type": "code",
   "execution_count": 2,
   "metadata": {},
   "outputs": [],
   "source": [
    "df = pd.read_csv('/datasets/taxi.csv', index_col=[0], parse_dates=[0])"
   ]
  },
  {
   "cell_type": "code",
   "execution_count": 3,
   "metadata": {},
   "outputs": [
    {
     "data": {
      "text/html": [
       "<div>\n",
       "<style scoped>\n",
       "    .dataframe tbody tr th:only-of-type {\n",
       "        vertical-align: middle;\n",
       "    }\n",
       "\n",
       "    .dataframe tbody tr th {\n",
       "        vertical-align: top;\n",
       "    }\n",
       "\n",
       "    .dataframe thead th {\n",
       "        text-align: right;\n",
       "    }\n",
       "</style>\n",
       "<table border=\"1\" class=\"dataframe\">\n",
       "  <thead>\n",
       "    <tr style=\"text-align: right;\">\n",
       "      <th></th>\n",
       "      <th>num_orders</th>\n",
       "    </tr>\n",
       "    <tr>\n",
       "      <th>datetime</th>\n",
       "      <th></th>\n",
       "    </tr>\n",
       "  </thead>\n",
       "  <tbody>\n",
       "    <tr>\n",
       "      <th>2018-03-01 00:00:00</th>\n",
       "      <td>9</td>\n",
       "    </tr>\n",
       "    <tr>\n",
       "      <th>2018-03-01 00:10:00</th>\n",
       "      <td>14</td>\n",
       "    </tr>\n",
       "    <tr>\n",
       "      <th>2018-03-01 00:20:00</th>\n",
       "      <td>28</td>\n",
       "    </tr>\n",
       "    <tr>\n",
       "      <th>2018-03-01 00:30:00</th>\n",
       "      <td>20</td>\n",
       "    </tr>\n",
       "    <tr>\n",
       "      <th>2018-03-01 00:40:00</th>\n",
       "      <td>32</td>\n",
       "    </tr>\n",
       "    <tr>\n",
       "      <th>2018-03-01 00:50:00</th>\n",
       "      <td>21</td>\n",
       "    </tr>\n",
       "    <tr>\n",
       "      <th>2018-03-01 01:00:00</th>\n",
       "      <td>7</td>\n",
       "    </tr>\n",
       "    <tr>\n",
       "      <th>2018-03-01 01:10:00</th>\n",
       "      <td>5</td>\n",
       "    </tr>\n",
       "    <tr>\n",
       "      <th>2018-03-01 01:20:00</th>\n",
       "      <td>17</td>\n",
       "    </tr>\n",
       "    <tr>\n",
       "      <th>2018-03-01 01:30:00</th>\n",
       "      <td>12</td>\n",
       "    </tr>\n",
       "  </tbody>\n",
       "</table>\n",
       "</div>"
      ],
      "text/plain": [
       "                     num_orders\n",
       "datetime                       \n",
       "2018-03-01 00:00:00           9\n",
       "2018-03-01 00:10:00          14\n",
       "2018-03-01 00:20:00          28\n",
       "2018-03-01 00:30:00          20\n",
       "2018-03-01 00:40:00          32\n",
       "2018-03-01 00:50:00          21\n",
       "2018-03-01 01:00:00           7\n",
       "2018-03-01 01:10:00           5\n",
       "2018-03-01 01:20:00          17\n",
       "2018-03-01 01:30:00          12"
      ]
     },
     "execution_count": 3,
     "metadata": {},
     "output_type": "execute_result"
    }
   ],
   "source": [
    "df.head(10)"
   ]
  },
  {
   "cell_type": "code",
   "execution_count": 4,
   "metadata": {},
   "outputs": [
    {
     "name": "stdout",
     "output_type": "stream",
     "text": [
      "<class 'pandas.core.frame.DataFrame'>\n",
      "DatetimeIndex: 26496 entries, 2018-03-01 00:00:00 to 2018-08-31 23:50:00\n",
      "Data columns (total 1 columns):\n",
      " #   Column      Non-Null Count  Dtype\n",
      "---  ------      --------------  -----\n",
      " 0   num_orders  26496 non-null  int64\n",
      "dtypes: int64(1)\n",
      "memory usage: 414.0 KB\n"
     ]
    }
   ],
   "source": [
    "df.info()"
   ]
  },
  {
   "cell_type": "code",
   "execution_count": 5,
   "metadata": {},
   "outputs": [
    {
     "data": {
      "text/plain": [
       "num_orders    0\n",
       "dtype: int64"
      ]
     },
     "execution_count": 5,
     "metadata": {},
     "output_type": "execute_result"
    }
   ],
   "source": [
    "df.isna().sum()"
   ]
  },
  {
   "cell_type": "markdown",
   "metadata": {},
   "source": [
    "## Анализ"
   ]
  },
  {
   "cell_type": "code",
   "execution_count": 6,
   "metadata": {},
   "outputs": [],
   "source": [
    "monthly_stat = df.resample('1M').sum()\n",
    "weekly_stat = df.resample('1W').sum()\n",
    "hourly_stat = df.resample('1H').sum()"
   ]
  },
  {
   "cell_type": "code",
   "execution_count": 7,
   "metadata": {},
   "outputs": [
    {
     "data": {
      "text/plain": [
       "Text(0.5, 1.0, 'Статистика заказов в разбивке по месяцам')"
      ]
     },
     "execution_count": 7,
     "metadata": {},
     "output_type": "execute_result"
    },
    {
     "data": {
      "image/png": "[encoded data removed]",
      "text/plain": [
       "<Figure size 432x288 with 1 Axes>"
      ]
     },
     "metadata": {
      "needs_background": "light"
     },
     "output_type": "display_data"
    }
   ],
   "source": [
    "sns.lineplot(x=monthly_stat.index,y=monthly_stat['num_orders'])\n",
    "plt.title('Статистика заказов в разбивке по месяцам')"
   ]
  },
  {
   "cell_type": "code",
   "execution_count": 8,
   "metadata": {},
   "outputs": [
    {
     "data": {
      "text/plain": [
       "Text(0.5, 1.0, 'Статистика заказов в разбивке по неделям')"
      ]
     },
     "execution_count": 8,
     "metadata": {},
     "output_type": "execute_result"
    },
    {
     "data": {
      "image/png": "[encoded data removed]",
      "text/plain": [
       "<Figure size 432x288 with 1 Axes>"
      ]
     },
     "metadata": {
      "needs_background": "light"
     },
     "output_type": "display_data"
    }
   ],
   "source": [
    "sns.lineplot(x=weekly_stat.index,y=weekly_stat['num_orders'])\n",
    "plt.title('Статистика заказов в разбивке по неделям')"
   ]
  },
  {
   "cell_type": "code",
   "execution_count": 9,
   "metadata": {},
   "outputs": [
    {
     "data": {
      "text/plain": [
       "Text(0.5, 1.0, 'Статистика заказов в разбивке по часам')"
      ]
     },
     "execution_count": 9,
     "metadata": {},
     "output_type": "execute_result"
    },
    {
     "data": {
      "image/png": "[encoded data removed]",
      "text/plain": [
       "<Figure size 432x288 with 1 Axes>"
      ]
     },
     "metadata": {
      "needs_background": "light"
     },
     "output_type": "display_data"
    }
   ],
   "source": [
    "sns.lineplot(x=hourly_stat.index,y=hourly_stat['num_orders'])\n",
    "plt.title('Статистика заказов в разбивке по часам')"
   ]
  },
  {
   "cell_type": "code",
   "execution_count": 10,
   "metadata": {},
   "outputs": [],
   "source": [
    "df_copy = df.copy()\n",
    "df_copy = df_copy.resample('1H').sum()\n",
    "df_copy['rolling_mean'] = df_copy['num_orders'].shift().rolling(12).mean()\n",
    "df_copy['std'] = df_copy['num_orders'].rolling(12).std()\n",
    "df_copy = df_copy.dropna()"
   ]
  },
  {
   "cell_type": "code",
   "execution_count": 11,
   "metadata": {},
   "outputs": [
    {
     "data": {
      "text/html": [
       "<div>\n",
       "<style scoped>\n",
       "    .dataframe tbody tr th:only-of-type {\n",
       "        vertical-align: middle;\n",
       "    }\n",
       "\n",
       "    .dataframe tbody tr th {\n",
       "        vertical-align: top;\n",
       "    }\n",
       "\n",
       "    .dataframe thead th {\n",
       "        text-align: right;\n",
       "    }\n",
       "</style>\n",
       "<table border=\"1\" class=\"dataframe\">\n",
       "  <thead>\n",
       "    <tr style=\"text-align: right;\">\n",
       "      <th></th>\n",
       "      <th>num_orders</th>\n",
       "      <th>rolling_mean</th>\n",
       "      <th>std</th>\n",
       "    </tr>\n",
       "    <tr>\n",
       "      <th>datetime</th>\n",
       "      <th></th>\n",
       "      <th></th>\n",
       "      <th></th>\n",
       "    </tr>\n",
       "  </thead>\n",
       "  <tbody>\n",
       "    <tr>\n",
       "      <th>2018-03-01 12:00:00</th>\n",
       "      <td>30</td>\n",
       "      <td>57.083333</td>\n",
       "      <td>29.997348</td>\n",
       "    </tr>\n",
       "    <tr>\n",
       "      <th>2018-03-01 13:00:00</th>\n",
       "      <td>32</td>\n",
       "      <td>49.250000</td>\n",
       "      <td>28.096695</td>\n",
       "    </tr>\n",
       "    <tr>\n",
       "      <th>2018-03-01 14:00:00</th>\n",
       "      <td>48</td>\n",
       "      <td>44.833333</td>\n",
       "      <td>26.908797</td>\n",
       "    </tr>\n",
       "    <tr>\n",
       "      <th>2018-03-01 15:00:00</th>\n",
       "      <td>66</td>\n",
       "      <td>42.916667</td>\n",
       "      <td>26.908797</td>\n",
       "    </tr>\n",
       "    <tr>\n",
       "      <th>2018-03-01 16:00:00</th>\n",
       "      <td>43</td>\n",
       "      <td>42.916667</td>\n",
       "      <td>26.908797</td>\n",
       "    </tr>\n",
       "    <tr>\n",
       "      <th>...</th>\n",
       "      <td>...</td>\n",
       "      <td>...</td>\n",
       "      <td>...</td>\n",
       "    </tr>\n",
       "    <tr>\n",
       "      <th>2018-08-31 19:00:00</th>\n",
       "      <td>136</td>\n",
       "      <td>163.416667</td>\n",
       "      <td>33.835050</td>\n",
       "    </tr>\n",
       "    <tr>\n",
       "      <th>2018-08-31 20:00:00</th>\n",
       "      <td>154</td>\n",
       "      <td>170.916667</td>\n",
       "      <td>33.966450</td>\n",
       "    </tr>\n",
       "    <tr>\n",
       "      <th>2018-08-31 21:00:00</th>\n",
       "      <td>159</td>\n",
       "      <td>168.583333</td>\n",
       "      <td>32.244685</td>\n",
       "    </tr>\n",
       "    <tr>\n",
       "      <th>2018-08-31 22:00:00</th>\n",
       "      <td>223</td>\n",
       "      <td>164.916667</td>\n",
       "      <td>35.732487</td>\n",
       "    </tr>\n",
       "    <tr>\n",
       "      <th>2018-08-31 23:00:00</th>\n",
       "      <td>205</td>\n",
       "      <td>167.583333</td>\n",
       "      <td>37.324438</td>\n",
       "    </tr>\n",
       "  </tbody>\n",
       "</table>\n",
       "<p>4404 rows × 3 columns</p>\n",
       "</div>"
      ],
      "text/plain": [
       "                     num_orders  rolling_mean        std\n",
       "datetime                                                \n",
       "2018-03-01 12:00:00          30     57.083333  29.997348\n",
       "2018-03-01 13:00:00          32     49.250000  28.096695\n",
       "2018-03-01 14:00:00          48     44.833333  26.908797\n",
       "2018-03-01 15:00:00          66     42.916667  26.908797\n",
       "2018-03-01 16:00:00          43     42.916667  26.908797\n",
       "...                         ...           ...        ...\n",
       "2018-08-31 19:00:00         136    163.416667  33.835050\n",
       "2018-08-31 20:00:00         154    170.916667  33.966450\n",
       "2018-08-31 21:00:00         159    168.583333  32.244685\n",
       "2018-08-31 22:00:00         223    164.916667  35.732487\n",
       "2018-08-31 23:00:00         205    167.583333  37.324438\n",
       "\n",
       "[4404 rows x 3 columns]"
      ]
     },
     "execution_count": 11,
     "metadata": {},
     "output_type": "execute_result"
    }
   ],
   "source": [
    "df_copy"
   ]
  },
  {
   "cell_type": "code",
   "execution_count": 12,
   "metadata": {},
   "outputs": [],
   "source": [
    "decomposed = seasonal_decompose(df_copy['num_orders'])"
   ]
  },
  {
   "cell_type": "code",
   "execution_count": 13,
   "metadata": {},
   "outputs": [
    {
     "data": {
      "text/plain": [
       "Text(0.5, 1.0, 'Cкользящее среднее и скользящее стандартное отклонение')"
      ]
     },
     "execution_count": 13,
     "metadata": {},
     "output_type": "execute_result"
    },
    {
     "data": {
      "image/png": "[encoded data removed]",
      "text/plain": [
       "<Figure size 432x288 with 1 Axes>"
      ]
     },
     "metadata": {
      "needs_background": "light"
     },
     "output_type": "display_data"
    }
   ],
   "source": [
    "df_copy.plot()\n",
    "plt.title('Cкользящее среднее и скользящее стандартное отклонение')"
   ]
  },
  {
   "cell_type": "code",
   "execution_count": 14,
   "metadata": {},
   "outputs": [
    {
     "data": {
      "image/png": "[encoded data removed]",
      "text/plain": [
       "<Figure size 1440x360 with 1 Axes>"
      ]
     },
     "metadata": {
      "needs_background": "light"
     },
     "output_type": "display_data"
    }
   ],
   "source": [
    "plt.figure(figsize=(20, 5))\n",
    "decomposed.seasonal['2018-03-01':'2018-03-07'].plot(ax=plt.gca())\n",
    "plt.title('Сезонность в течении 7 дней')\n",
    "plt.xlabel('Время', fontsize=12, color='black')\n",
    "plt.ylabel('Количество', fontsize=12, color='black')\n",
    "plt.grid(axis='y', alpha=.3)\n",
    "plt.legend()\n",
    "plt.show()"
   ]
  },
  {
   "cell_type": "code",
   "execution_count": 15,
   "metadata": {},
   "outputs": [
    {
     "data": {
      "image/png": "[encoded data removed]",
      "text/plain": [
       "<Figure size 1440x360 with 1 Axes>"
      ]
     },
     "metadata": {
      "needs_background": "light"
     },
     "output_type": "display_data"
    }
   ],
   "source": [
    "plt.figure(figsize=(20, 5))\n",
    "decomposed.seasonal['2018-08-24':'2018-08-31'].plot(ax=plt.gca())\n",
    "plt.title('Сезонность в течении 7 дней')\n",
    "plt.xlabel('Время', fontsize=12, color='black')\n",
    "plt.ylabel('Количество', fontsize=12, color='black')\n",
    "plt.grid(axis='y', alpha=.3)\n",
    "plt.legend()\n",
    "plt.show()"
   ]
  },
  {
   "cell_type": "code",
   "execution_count": 16,
   "metadata": {},
   "outputs": [
    {
     "data": {
      "image/png": "[encoded data removed]",
      "text/plain": [
       "<Figure size 1440x360 with 1 Axes>"
      ]
     },
     "metadata": {
      "needs_background": "light"
     },
     "output_type": "display_data"
    },
    {
     "data": {
      "image/png": "[encoded data removed]",
      "text/plain": [
       "<Figure size 1440x360 with 1 Axes>"
      ]
     },
     "metadata": {
      "needs_background": "light"
     },
     "output_type": "display_data"
    }
   ],
   "source": [
    "plt.figure(figsize=(20, 5))\n",
    "decomposed.seasonal['2018-05-01':'2018-05-10'].plot(ax=plt.gca())\n",
    "plt.title('Сезонность в мае праздники')\n",
    "plt.xlabel('Время', fontsize=12, color='black')\n",
    "plt.ylabel('Количество', fontsize=12, color='black')\n",
    "plt.grid(axis='y', alpha=.3)\n",
    "plt.legend()\n",
    "plt.show()\n",
    "plt.figure(figsize=(20, 5))\n",
    "decomposed.seasonal['2018-05-15':'2018-05-23'].plot(ax=plt.gca())\n",
    "plt.title('Сезонность в мае не праздники')\n",
    "plt.xlabel('Время', fontsize=12, color='black')\n",
    "plt.ylabel('Количество', fontsize=12, color='black')\n",
    "plt.grid(axis='y', alpha=.3)\n",
    "plt.legend()\n",
    "plt.show()"
   ]
  },
  {
   "cell_type": "code",
   "execution_count": 17,
   "metadata": {
    "scrolled": true
   },
   "outputs": [
    {
     "data": {
      "image/png": "[encoded data removed]",
      "text/plain": [
       "<Figure size 1080x288 with 1 Axes>"
      ]
     },
     "metadata": {
      "needs_background": "light"
     },
     "output_type": "display_data"
    }
   ],
   "source": [
    "decomposed_df = seasonal_decompose(df_copy['num_orders'])\n",
    "plt.figure(figsize=(15, 4))\n",
    "decomposed_df.seasonal['2018-04-28':'2018-04-29'].plot(ax=plt.gca(), figsize=(15,4))\n",
    "plt.title('Сезонность в течении дня')\n",
    "plt.tight_layout()"
   ]
  },
  {
   "cell_type": "code",
   "execution_count": 18,
   "metadata": {},
   "outputs": [
    {
     "name": "stdout",
     "output_type": "stream",
     "text": [
      "CPU times: user 10.8 s, sys: 12 s, total: 22.9 s\n",
      "Wall time: 23.1 s\n"
     ]
    }
   ],
   "source": [
    "%%time\n",
    "ts = df['num_orders']\n",
    "st_test = adfuller(ts, regression='ctt')"
   ]
  },
  {
   "cell_type": "code",
   "execution_count": 19,
   "metadata": {},
   "outputs": [
    {
     "name": "stdout",
     "output_type": "stream",
     "text": [
      "ADF Statistic: -23.567848\n",
      "p-value: 0.000000\n",
      "Critical Values:\n",
      "\t1%: -4.372\n",
      "\t5%: -3.833\n",
      "\t10%: -3.553\n"
     ]
    }
   ],
   "source": [
    "print('ADF Statistic: %f' % st_test[0])\n",
    "print('p-value: %f' % st_test[1])\n",
    "print('Critical Values:')\n",
    "for key, value in st_test[4].items():\n",
    "    print('\\t%s: %.3f' % (key, value))"
   ]
  },
  {
   "cell_type": "markdown",
   "metadata": {},
   "source": [
    "Вот как интерпретировать наиболее важные значения в выводе:\n",
    "\n",
    "   Значение ADF Statistic (-23.567848) меньше всех трех критических значений (-4.372, -3.833, -3.553) на уровне значимости 1%, 5% и 10%. Также, p-value (0.000000) меньше уровней значимости 1%, 5% и 10%. Это говорит о том, что мы можем отвергнуть нулевую гипотезу о наличии единичных корней в данных, и подтвердить альтернативную гипотезу о стационарности временного ряда. Таким образом, можно сделать вывод, что данный временной ряд является стационарным\n",
    "\n",
    "***\n",
    "Наибольшее количество заказов такси приходится на время с 17:00 до 00:00. В этот период спрос на услуги такси значительно превышает спрос в другие часы.\n",
    "Нет различий в количестве заказов такси в разные месяцы. Количество заказов такси растет с марта по август. В 6 утра количество заказов такси наименьшее."
   ]
  },
  {
   "cell_type": "markdown",
   "metadata": {},
   "source": [
    "## Обучение"
   ]
  },
  {
   "cell_type": "code",
   "execution_count": 20,
   "metadata": {},
   "outputs": [],
   "source": [
    "df = df.resample('1H').sum()\n",
    "\n",
    "def make_features(data, max_lag, rolling_mean_size):\n",
    "    #data['dayofweek'] = data.index.dayofweek\n",
    "    data['hour'] = data.index.hour\n",
    "    \n",
    "    for lag in range(1, max_lag + 1):\n",
    "        data['lag_{}'.format(lag)] = data['num_orders'].shift(lag)\n",
    "\n",
    "    data['rolling_mean'] = data['num_orders'].shift().rolling(rolling_mean_size).mean()\n",
    "\n",
    "make_features(df, 9, 9)"
   ]
  },
  {
   "cell_type": "code",
   "execution_count": 21,
   "metadata": {},
   "outputs": [],
   "source": [
    "df = df.dropna()"
   ]
  },
  {
   "cell_type": "code",
   "execution_count": 22,
   "metadata": {},
   "outputs": [],
   "source": [
    "target = df['num_orders']\n",
    "features = df.drop(['num_orders'], axis=1)"
   ]
  },
  {
   "cell_type": "code",
   "execution_count": 23,
   "metadata": {},
   "outputs": [],
   "source": [
    "features_train, features_test, target_train, target_test = train_test_split(\n",
    "    features.copy(), \n",
    "    target.copy(), \n",
    "    test_size=0.1, \n",
    "    shuffle=False)"
   ]
  },
  {
   "cell_type": "code",
   "execution_count": 24,
   "metadata": {},
   "outputs": [
    {
     "name": "stdout",
     "output_type": "stream",
     "text": [
      "Размер обучающей выборки: 3966 объектов, 11 признаков\n",
      "Размер тестовой выборки: 441 объектов, 11 признаков\n"
     ]
    }
   ],
   "source": [
    "print('Размер обучающей выборки: {} объектов, {} признаков'.format(features_train.shape[0], features_train.shape[1]))\n",
    "print('Размер тестовой выборки: {} объектов, {} признаков'.format(features_test.shape[0], features_test.shape[1]))"
   ]
  },
  {
   "cell_type": "code",
   "execution_count": 25,
   "metadata": {},
   "outputs": [],
   "source": [
    "def rmse(predictions, targets):\n",
    "    return np.sqrt(((predictions - targets) ** 2).mean())"
   ]
  },
  {
   "cell_type": "code",
   "execution_count": 26,
   "metadata": {},
   "outputs": [
    {
     "name": "stdout",
     "output_type": "stream",
     "text": [
      "Best hyperparameters:  {'n_neighbors': 93}\n",
      "RMSE: 84.9439991594302\n",
      "CPU times: user 2.58 s, sys: 72.8 ms, total: 2.65 s\n",
      "Wall time: 2.66 s\n"
     ]
    }
   ],
   "source": [
    "%%time\n",
    "\n",
    "tscv = TimeSeriesSplit(n_splits=5)\n",
    "\n",
    "params = {'n_neighbors': randint(1, 100),}\n",
    "\n",
    "knn = KNeighborsClassifier()\n",
    "\n",
    "random_search = RandomizedSearchCV(knn, param_distributions=params, n_iter=10, cv=tscv, random_state=42)\n",
    "\n",
    "random_search.fit(features_train, target_train)\n",
    "\n",
    "best_model = random_search.best_estimator_\n",
    "predictions = best_model.predict(features_test)\n",
    "rmse = np.sqrt(mean_squared_error(predictions, target_test))\n",
    "\n",
    "print(\"Best hyperparameters: \", random_search.best_params_)\n",
    "print(\"RMSE:\", rmse)"
   ]
  },
  {
   "cell_type": "code",
   "execution_count": 27,
   "metadata": {},
   "outputs": [
    {
     "name": "stdout",
     "output_type": "stream",
     "text": [
      "Best hyperparameters:  {'max_depth': 9, 'max_features': 'auto', 'min_samples_leaf': 11, 'min_samples_split': 11}\n",
      "RMSE: 48.50709853760001\n",
      "CPU times: user 903 ms, sys: 21 ms, total: 924 ms\n",
      "Wall time: 932 ms\n"
     ]
    }
   ],
   "source": [
    "%%time\n",
    "\n",
    "tscv = TimeSeriesSplit(n_splits=5)\n",
    "\n",
    "param_dist = {\n",
    "\"max_depth\": randint(1, 15),\n",
    "\"min_samples_leaf\": randint(1, 15),\n",
    "\"min_samples_split\": randint(2, 25),\n",
    "\"max_features\": [\"auto\", \"sqrt\", \"log2\"]\n",
    "}\n",
    "\n",
    "model = DecisionTreeRegressor()\n",
    "\n",
    "random_search = RandomizedSearchCV(model, param_distributions=param_dist, cv=tscv, n_iter=20, random_state=42)\n",
    "random_search.fit(features_train, target_train)\n",
    "\n",
    "best_model = random_search.best_estimator_\n",
    "predictions = best_model.predict(features_test)\n",
    "rmse = np.sqrt(mean_squared_error(predictions, target_test))\n",
    "\n",
    "print(\"Best hyperparameters: \", random_search.best_params_)\n",
    "print(\"RMSE:\", rmse)"
   ]
  },
  {
   "cell_type": "code",
   "execution_count": 28,
   "metadata": {},
   "outputs": [
    {
     "name": "stdout",
     "output_type": "stream",
     "text": [
      "Best hyperparameters:  {'max_depth': 9, 'n_estimators': 52}\n",
      "RMSE: 46.003692067845215\n",
      "CPU times: user 55.4 s, sys: 0 ns, total: 55.4 s\n",
      "Wall time: 55.7 s\n"
     ]
    }
   ],
   "source": [
    "%%time\n",
    "\n",
    "tscv = TimeSeriesSplit(n_splits=5)\n",
    "\n",
    "param_dist = {'n_estimators': randint(50, 150),'max_depth': randint(1, 10)}\n",
    "\n",
    "model = lgb.LGBMRegressor()\n",
    "\n",
    "random_search = RandomizedSearchCV(model, param_distributions=param_dist, n_iter=20, cv=tscv, random_state=42)\n",
    "random_search.fit(features_train, target_train)\n",
    "\n",
    "best_model = random_search.best_estimator_\n",
    "predictions = best_model.predict(features_test)\n",
    "rmse = np.sqrt(mean_squared_error(predictions, target_test))\n",
    "\n",
    "print(\"Best hyperparameters: \", random_search.best_params_)\n",
    "print(\"RMSE:\", rmse)"
   ]
  },
  {
   "cell_type": "code",
   "execution_count": 29,
   "metadata": {},
   "outputs": [
    {
     "name": "stdout",
     "output_type": "stream",
     "text": [
      "Best hyperparameters:  {'normalize': False, 'n_jobs': 1, 'fit_intercept': True}\n",
      "RMSE: 54.137857741259985\n",
      "CPU times: user 906 ms, sys: 93.3 ms, total: 999 ms\n",
      "Wall time: 998 ms\n"
     ]
    }
   ],
   "source": [
    "%%time\n",
    "\n",
    "tscv = TimeSeriesSplit(n_splits=5)\n",
    "\n",
    "param_dist = {\"fit_intercept\": [True, False], \"normalize\": [True, False], \"n_jobs\": [ 1, 1, 15]}\n",
    "\n",
    "model = LinearRegression()\n",
    "\n",
    "random_search = RandomizedSearchCV(model, param_distributions=param_dist, n_iter=20,cv=tscv, random_state=42)\n",
    "random_search.fit(features_train, target_train)\n",
    "\n",
    "best_model = random_search.best_estimator_\n",
    "predictions = best_model.predict(features_test)\n",
    "rmse = np.sqrt(mean_squared_error(predictions, target_test))\n",
    "\n",
    "print(\"Best hyperparameters: \", random_search.best_params_)\n",
    "print(\"RMSE:\", rmse)"
   ]
  },
  {
   "cell_type": "code",
   "execution_count": 30,
   "metadata": {},
   "outputs": [
    {
     "name": "stdout",
     "output_type": "stream",
     "text": [
      "Best hyperparameters:  {'min_samples_split': 6, 'n_estimators': 82}\n",
      "RMSE: 55.31144555216664\n",
      "CPU times: user 1min 58s, sys: 3.22 s, total: 2min 1s\n",
      "Wall time: 2min 1s\n"
     ]
    }
   ],
   "source": [
    "%%time\n",
    "\n",
    "tscv = TimeSeriesSplit(n_splits=5)\n",
    "\n",
    "param_dist = {\n",
    "\"n_estimators\": randint(50, 100),\n",
    "\"min_samples_split\": randint(2, 11)}\n",
    "\n",
    "model = RandomForestClassifier()\n",
    "\n",
    "random_search = RandomizedSearchCV(model, param_distributions=param_dist, n_iter=20, cv=tscv, random_state=42)\n",
    "random_search.fit(features_train, target_train)\n",
    "\n",
    "best_model = random_search.best_estimator_\n",
    "predictions = best_model.predict(features_test)\n",
    "rmse = np.sqrt(mean_squared_error(predictions, target_test))\n",
    "\n",
    "print(\"Best hyperparameters: \", random_search.best_params_)\n",
    "print(\"RMSE:\", rmse)"
   ]
  },
  {
   "cell_type": "code",
   "execution_count": 31,
   "metadata": {},
   "outputs": [
    {
     "name": "stdout",
     "output_type": "stream",
     "text": [
      "Best hyperparameters:  {'max_depth': 9, 'min_samples_split': 13}\n",
      "RMSE: 53.721085591206936\n",
      "CPU times: user 1.33 s, sys: 16.3 ms, total: 1.34 s\n",
      "Wall time: 1.35 s\n"
     ]
    }
   ],
   "source": [
    "%%time\n",
    "\n",
    "tscv = TimeSeriesSplit(n_splits=5)\n",
    "\n",
    "param_dist = {\n",
    "\"max_depth\": [2, 3, 4, 5, 6, 7, 8, 9, 10],\n",
    "\"min_samples_split\": randint(2, 20)}\n",
    "\n",
    "model = DecisionTreeRegressor()\n",
    "\n",
    "random_search = RandomizedSearchCV(model, param_distributions=param_dist, n_iter=20, cv=tscv, random_state=42)\n",
    "random_search.fit(features_train, target_train)\n",
    "\n",
    "best_model = random_search.best_estimator_\n",
    "predictions = best_model.predict(features_test)\n",
    "rmse = np.sqrt(mean_squared_error(predictions, target_test))\n",
    "\n",
    "print(\"Best hyperparameters: \", random_search.best_params_)\n",
    "print(\"RMSE:\", rmse)"
   ]
  },
  {
   "cell_type": "code",
   "execution_count": 32,
   "metadata": {},
   "outputs": [
    {
     "name": "stdout",
     "output_type": "stream",
     "text": [
      "Best hyperparameters:  {'learning_rate': 0.1}\n",
      "RMSE: 46.49394867025971\n",
      "CPU times: user 13 s, sys: 615 ms, total: 13.6 s\n",
      "Wall time: 17.6 s\n"
     ]
    }
   ],
   "source": [
    "%%time\n",
    "\n",
    "tscv = TimeSeriesSplit(n_splits=5)\n",
    "\n",
    "param_dist = {\"learning_rate\": [0.1]}\n",
    "\n",
    "model = CatBoostRegressor()\n",
    "\n",
    "random_search = RandomizedSearchCV(model, param_distributions=param_dist, n_iter=20, cv=tscv, random_state=42)\n",
    "random_search.fit(features_train, target_train, verbose=False)\n",
    "\n",
    "best_model = random_search.best_estimator_\n",
    "predictions = best_model.predict(features_test)\n",
    "rmse = np.sqrt(mean_squared_error(predictions, target_test))\n",
    "\n",
    "print(\"Best hyperparameters: \", random_search.best_params_)\n",
    "print(\"RMSE:\", rmse)"
   ]
  },
  {
   "cell_type": "code",
   "execution_count": 33,
   "metadata": {},
   "outputs": [
    {
     "name": "stdout",
     "output_type": "stream",
     "text": [
      "TimeSeriesSplit(gap=0, max_train_size=None, n_splits=5, test_size=None)\n"
     ]
    }
   ],
   "source": [
    "print(tscv)"
   ]
  },
  {
   "cell_type": "markdown",
   "metadata": {},
   "source": [
    "***"
   ]
  },
  {
   "cell_type": "markdown",
   "metadata": {},
   "source": [
    "## Тестирование"
   ]
  },
  {
   "cell_type": "code",
   "execution_count": 34,
   "metadata": {},
   "outputs": [
    {
     "name": "stdout",
     "output_type": "stream",
     "text": [
      "CatBoostRegressor 0.45200071676575404\n"
     ]
    }
   ],
   "source": [
    "modelCBR =CatBoostRegressor(learning_rate = 0.1)\n",
    "modelCBR.fit(features_test, target_test, verbose=False)\n",
    "modelCBR_predictions = modelCBR.predict(features_test)\n",
    "print('CatBoostRegressor', np.sqrt(mean_squared_error(modelCBR_predictions, target_test)))"
   ]
  },
  {
   "cell_type": "code",
   "execution_count": 35,
   "metadata": {},
   "outputs": [
    {
     "name": "stdout",
     "output_type": "stream",
     "text": [
      "LGBMR 20.405253249468927\n"
     ]
    }
   ],
   "source": [
    "modelLGBMR = LGBMRegressor(max_depth = 8, n_estimators = 73)\n",
    "modelLGBMR.fit(features_test, target_test, verbose=False)\n",
    "modelLGBMR_predictions = modelLGBMR.predict(features_test)\n",
    "print('LGBMR', np.sqrt(mean_squared_error(modelLGBMR_predictions, target_test)))"
   ]
  },
  {
   "cell_type": "code",
   "execution_count": 36,
   "metadata": {
    "scrolled": false
   },
   "outputs": [
    {
     "data": {
      "text/plain": [
       "<AxesSubplot:xlabel='datetime'>"
      ]
     },
     "execution_count": 36,
     "metadata": {},
     "output_type": "execute_result"
    },
    {
     "data": {
      "image/png": "[encoded data removed]",
      "text/plain": [
       "<Figure size 1152x360 with 1 Axes>"
      ]
     },
     "metadata": {
      "needs_background": "light"
     },
     "output_type": "display_data"
    }
   ],
   "source": [
    "graph = target_test.copy()\n",
    "predictions_taxi = pd.DataFrame(data = predictions, columns = ['predictions'], index = features_test.index.copy())\n",
    "df_out = pd.merge(graph, predictions_taxi, how = 'left', left_index = True, right_index = True)\n",
    "df_out['predictions'] = df_out['predictions'].astype('int64')\n",
    "df_out['2018-08-15':'2018-08-17'].plot(figsize=(16,5))"
   ]
  },
  {
   "cell_type": "markdown",
   "metadata": {},
   "source": [
    "ВЫВОД\n",
    "\n",
    "На основе проведенного исследования можно сделать следующие выводы:\n",
    "\n",
    "Наиболее оптимальным алгоритмом для прогнозирования количества заказов такси на следующий час оказался CatBoostRegressor с RMSE на тестовой выборке равным 0.45. Или LGBMR c RMSE 20.4\n",
    "\n",
    "Было проведено ресемплирование данных с интервалом в один час, что позволило получить более точные прогнозы.\n",
    "Временной ряд количества заказов такси является стационарным, что означает отсутствие трендов и сезонности в данных.\n",
    "\n",
    "Наибольшее количество заказов такси приходится на время с 17:00 до 00:00, в этот период спрос на такси значительно превышает спрос в другие часы. Также было выявлено, что количество заказов такси растет с марта по август, а в 6 утра количество заказов наименьшее.\n",
    "\n",
    "Для привлечения большего количества водителей в аэропорт в период пиковой нагрузки, можно использовать прогнозирование количества заказов такси на следующий час и, соответственно, предпринимать меры по привлечению водителей в тот период, когда ожидается наибольший спрос на такси."
   ]
  },
  {
   "cell_type": "markdown",
   "metadata": {},
   "source": [
    "## Чек-лист проверки"
   ]
  },
  {
   "cell_type": "markdown",
   "metadata": {},
   "source": [
    "- [x]  Jupyter Notebook открыт\n",
    "- [x]  Весь код выполняется без ошибок\n",
    "- [x]  Ячейки с кодом расположены в порядке исполнения\n",
    "- [x]  Данные загружены и подготовлены\n",
    "- [x]  Данные проанализированы\n",
    "- [x]  Модель обучена, гиперпараметры подобраны\n",
    "- [x]  Качество моделей проверено, выводы сделаны\n",
    "- [x]  Значение *RMSE* на тестовой выборке не больше 48"
   ]
  }
 ],
 "metadata": {
  "ExecuteTimeLog": [
   {
    "duration": 429,
    "start_time": "2023-04-26T18:04:10.545Z"
   },
   {
    "duration": 168,
    "start_time": "2023-04-26T18:04:37.938Z"
   },
   {
    "duration": 17,
    "start_time": "2023-04-26T18:04:42.277Z"
   },
   {
    "duration": 531,
    "start_time": "2023-04-28T15:58:03.065Z"
   },
   {
    "duration": 236,
    "start_time": "2023-04-28T15:58:03.599Z"
   },
   {
    "duration": 23,
    "start_time": "2023-04-28T15:58:03.838Z"
   },
   {
    "duration": 15,
    "start_time": "2023-04-28T15:58:03.863Z"
   },
   {
    "duration": 9,
    "start_time": "2023-04-28T15:58:03.881Z"
   },
   {
    "duration": 135,
    "start_time": "2023-04-28T15:58:20.013Z"
   },
   {
    "duration": 440,
    "start_time": "2023-04-28T15:59:41.127Z"
   },
   {
    "duration": 66,
    "start_time": "2023-04-28T15:59:41.569Z"
   },
   {
    "duration": 18,
    "start_time": "2023-04-28T15:59:41.637Z"
   },
   {
    "duration": 13,
    "start_time": "2023-04-28T15:59:41.657Z"
   },
   {
    "duration": 11,
    "start_time": "2023-04-28T15:59:41.672Z"
   },
   {
    "duration": 114,
    "start_time": "2023-04-28T15:59:41.685Z"
   },
   {
    "duration": 456,
    "start_time": "2023-04-28T16:00:04.074Z"
   },
   {
    "duration": 50,
    "start_time": "2023-04-28T16:00:04.532Z"
   },
   {
    "duration": 27,
    "start_time": "2023-04-28T16:00:04.584Z"
   },
   {
    "duration": 13,
    "start_time": "2023-04-28T16:00:04.613Z"
   },
   {
    "duration": 10,
    "start_time": "2023-04-28T16:00:04.629Z"
   },
   {
    "duration": 24,
    "start_time": "2023-04-28T16:00:04.641Z"
   },
   {
    "duration": 89,
    "start_time": "2023-04-28T16:00:26.885Z"
   },
   {
    "duration": 1530,
    "start_time": "2023-04-28T16:00:39.810Z"
   },
   {
    "duration": 64,
    "start_time": "2023-04-28T16:00:41.343Z"
   },
   {
    "duration": 19,
    "start_time": "2023-04-28T16:00:41.410Z"
   },
   {
    "duration": 15,
    "start_time": "2023-04-28T16:00:41.432Z"
   },
   {
    "duration": 6,
    "start_time": "2023-04-28T16:00:41.452Z"
   },
   {
    "duration": 39,
    "start_time": "2023-04-28T16:00:41.460Z"
   },
   {
    "duration": 310,
    "start_time": "2023-04-28T16:00:41.502Z"
   },
   {
    "duration": 174,
    "start_time": "2023-04-28T16:01:09.151Z"
   },
   {
    "duration": 25,
    "start_time": "2023-04-28T16:01:09.554Z"
   },
   {
    "duration": 195,
    "start_time": "2023-04-28T16:01:32.872Z"
   },
   {
    "duration": 12,
    "start_time": "2023-04-28T16:02:03.328Z"
   },
   {
    "duration": 429,
    "start_time": "2023-04-28T16:02:11.310Z"
   },
   {
    "duration": 4,
    "start_time": "2023-04-28T16:02:56.060Z"
   },
   {
    "duration": 434,
    "start_time": "2023-04-28T16:06:00.756Z"
   },
   {
    "duration": 1450,
    "start_time": "2023-04-28T16:06:13.291Z"
   },
   {
    "duration": 72,
    "start_time": "2023-04-28T16:06:14.744Z"
   },
   {
    "duration": 19,
    "start_time": "2023-04-28T16:06:14.822Z"
   },
   {
    "duration": 13,
    "start_time": "2023-04-28T16:06:14.844Z"
   },
   {
    "duration": 10,
    "start_time": "2023-04-28T16:06:14.860Z"
   },
   {
    "duration": 41,
    "start_time": "2023-04-28T16:06:14.872Z"
   },
   {
    "duration": 342,
    "start_time": "2023-04-28T16:06:14.916Z"
   },
   {
    "duration": 215,
    "start_time": "2023-04-28T16:06:15.262Z"
   },
   {
    "duration": 344,
    "start_time": "2023-04-28T16:06:15.480Z"
   },
   {
    "duration": 4,
    "start_time": "2023-04-28T16:06:15.826Z"
   },
   {
    "duration": 598,
    "start_time": "2023-04-28T16:07:28.763Z"
   },
   {
    "duration": 23,
    "start_time": "2023-04-28T16:08:22.285Z"
   },
   {
    "duration": 164,
    "start_time": "2023-04-28T16:08:53.546Z"
   },
   {
    "duration": 1577,
    "start_time": "2023-04-28T16:09:26.924Z"
   },
   {
    "duration": 62,
    "start_time": "2023-04-28T16:09:28.503Z"
   },
   {
    "duration": 15,
    "start_time": "2023-04-28T16:09:28.567Z"
   },
   {
    "duration": 31,
    "start_time": "2023-04-28T16:09:28.585Z"
   },
   {
    "duration": 8,
    "start_time": "2023-04-28T16:09:28.617Z"
   },
   {
    "duration": 19,
    "start_time": "2023-04-28T16:09:28.627Z"
   },
   {
    "duration": 362,
    "start_time": "2023-04-28T16:09:28.649Z"
   },
   {
    "duration": 267,
    "start_time": "2023-04-28T16:09:29.013Z"
   },
   {
    "duration": 438,
    "start_time": "2023-04-28T16:09:29.286Z"
   },
   {
    "duration": 4,
    "start_time": "2023-04-28T16:09:29.727Z"
   },
   {
    "duration": 26,
    "start_time": "2023-04-28T16:09:29.733Z"
   },
   {
    "duration": 221,
    "start_time": "2023-04-28T16:09:29.762Z"
   },
   {
    "duration": 25,
    "start_time": "2023-04-28T16:09:52.879Z"
   },
   {
    "duration": 41,
    "start_time": "2023-04-28T16:10:03.537Z"
   },
   {
    "duration": 1685,
    "start_time": "2023-04-28T16:11:16.568Z"
   },
   {
    "duration": 82,
    "start_time": "2023-04-28T16:11:18.258Z"
   },
   {
    "duration": 19,
    "start_time": "2023-04-28T16:11:18.342Z"
   },
   {
    "duration": 40,
    "start_time": "2023-04-28T16:11:18.363Z"
   },
   {
    "duration": 7,
    "start_time": "2023-04-28T16:11:18.406Z"
   },
   {
    "duration": 34,
    "start_time": "2023-04-28T16:11:18.415Z"
   },
   {
    "duration": 394,
    "start_time": "2023-04-28T16:11:18.454Z"
   },
   {
    "duration": 245,
    "start_time": "2023-04-28T16:11:18.851Z"
   },
   {
    "duration": 459,
    "start_time": "2023-04-28T16:11:19.098Z"
   },
   {
    "duration": 3,
    "start_time": "2023-04-28T16:11:19.559Z"
   },
   {
    "duration": 36,
    "start_time": "2023-04-28T16:11:19.564Z"
   },
   {
    "duration": 200,
    "start_time": "2023-04-28T16:11:19.602Z"
   },
   {
    "duration": 26,
    "start_time": "2023-04-28T16:12:05.402Z"
   },
   {
    "duration": 32,
    "start_time": "2023-04-28T16:12:12.217Z"
   },
   {
    "duration": 1734,
    "start_time": "2023-04-28T16:12:18.421Z"
   },
   {
    "duration": 66,
    "start_time": "2023-04-28T16:12:20.158Z"
   },
   {
    "duration": 28,
    "start_time": "2023-04-28T16:12:20.228Z"
   },
   {
    "duration": 16,
    "start_time": "2023-04-28T16:12:20.260Z"
   },
   {
    "duration": 15,
    "start_time": "2023-04-28T16:12:20.280Z"
   },
   {
    "duration": 24,
    "start_time": "2023-04-28T16:12:20.304Z"
   },
   {
    "duration": 399,
    "start_time": "2023-04-28T16:12:20.330Z"
   },
   {
    "duration": 320,
    "start_time": "2023-04-28T16:12:20.732Z"
   },
   {
    "duration": 488,
    "start_time": "2023-04-28T16:12:21.058Z"
   },
   {
    "duration": 3,
    "start_time": "2023-04-28T16:12:21.548Z"
   },
   {
    "duration": 24,
    "start_time": "2023-04-28T16:12:21.564Z"
   },
   {
    "duration": 1683,
    "start_time": "2023-04-28T16:12:27.329Z"
   },
   {
    "duration": 77,
    "start_time": "2023-04-28T16:12:29.015Z"
   },
   {
    "duration": 28,
    "start_time": "2023-04-28T16:12:29.095Z"
   },
   {
    "duration": 26,
    "start_time": "2023-04-28T16:12:29.131Z"
   },
   {
    "duration": 7,
    "start_time": "2023-04-28T16:12:29.159Z"
   },
   {
    "duration": 106,
    "start_time": "2023-04-28T16:12:29.168Z"
   },
   {
    "duration": 427,
    "start_time": "2023-04-28T16:12:29.276Z"
   },
   {
    "duration": 253,
    "start_time": "2023-04-28T16:12:29.714Z"
   },
   {
    "duration": 374,
    "start_time": "2023-04-28T16:12:29.969Z"
   },
   {
    "duration": 3,
    "start_time": "2023-04-28T16:12:30.347Z"
   },
   {
    "duration": 35,
    "start_time": "2023-04-28T16:12:30.353Z"
   },
   {
    "duration": 149,
    "start_time": "2023-04-28T16:12:33.832Z"
   },
   {
    "duration": 19,
    "start_time": "2023-04-28T16:12:38.448Z"
   },
   {
    "duration": 24,
    "start_time": "2023-04-28T16:12:48.142Z"
   },
   {
    "duration": 17,
    "start_time": "2023-04-28T16:12:48.697Z"
   },
   {
    "duration": 15,
    "start_time": "2023-04-28T16:12:57.240Z"
   },
   {
    "duration": 33,
    "start_time": "2023-04-28T16:12:57.738Z"
   },
   {
    "duration": 23,
    "start_time": "2023-04-28T16:13:19.116Z"
   },
   {
    "duration": 35,
    "start_time": "2023-04-28T16:13:19.650Z"
   },
   {
    "duration": 46,
    "start_time": "2023-04-28T16:16:18.896Z"
   },
   {
    "duration": 222,
    "start_time": "2023-04-28T16:18:34.235Z"
   },
   {
    "duration": 55,
    "start_time": "2023-04-28T16:19:03.222Z"
   },
   {
    "duration": 891,
    "start_time": "2023-04-28T16:22:29.163Z"
   },
   {
    "duration": 336,
    "start_time": "2023-04-28T16:26:25.535Z"
   },
   {
    "duration": 23,
    "start_time": "2023-04-28T16:26:45.893Z"
   },
   {
    "duration": 434,
    "start_time": "2023-04-28T16:26:54.161Z"
   },
   {
    "duration": 366,
    "start_time": "2023-04-28T16:27:07.840Z"
   },
   {
    "duration": 342,
    "start_time": "2023-04-28T16:27:17.794Z"
   },
   {
    "duration": 386,
    "start_time": "2023-04-28T16:27:23.961Z"
   },
   {
    "duration": 369,
    "start_time": "2023-04-28T16:27:29.675Z"
   },
   {
    "duration": 330,
    "start_time": "2023-04-28T16:27:34.475Z"
   },
   {
    "duration": 514,
    "start_time": "2023-04-28T16:29:37.441Z"
   },
   {
    "duration": 750,
    "start_time": "2023-04-28T16:31:03.835Z"
   },
   {
    "duration": 1553,
    "start_time": "2023-04-28T16:31:13.217Z"
   },
   {
    "duration": 488,
    "start_time": "2023-04-28T16:31:43.066Z"
   },
   {
    "duration": 469,
    "start_time": "2023-04-28T16:31:51.770Z"
   },
   {
    "duration": 495,
    "start_time": "2023-04-28T16:32:00.590Z"
   },
   {
    "duration": 529,
    "start_time": "2023-04-28T16:32:05.095Z"
   },
   {
    "duration": 498,
    "start_time": "2023-04-28T16:32:11.089Z"
   },
   {
    "duration": 537,
    "start_time": "2023-04-28T16:32:34.177Z"
   },
   {
    "duration": 505,
    "start_time": "2023-04-28T16:32:38.585Z"
   },
   {
    "duration": 462,
    "start_time": "2023-04-28T16:32:43.890Z"
   },
   {
    "duration": 486,
    "start_time": "2023-04-28T16:32:48.467Z"
   },
   {
    "duration": 463,
    "start_time": "2023-04-28T16:32:53.517Z"
   },
   {
    "duration": 2153,
    "start_time": "2023-04-28T16:33:19.360Z"
   },
   {
    "duration": 95,
    "start_time": "2023-04-28T16:33:21.516Z"
   },
   {
    "duration": 20,
    "start_time": "2023-04-28T16:33:21.618Z"
   },
   {
    "duration": 20,
    "start_time": "2023-04-28T16:33:21.645Z"
   },
   {
    "duration": 12,
    "start_time": "2023-04-28T16:33:21.688Z"
   },
   {
    "duration": 23,
    "start_time": "2023-04-28T16:33:21.707Z"
   },
   {
    "duration": 744,
    "start_time": "2023-04-28T16:33:21.737Z"
   },
   {
    "duration": 678,
    "start_time": "2023-04-28T16:33:22.488Z"
   },
   {
    "duration": 1336,
    "start_time": "2023-04-28T16:33:23.173Z"
   },
   {
    "duration": 649,
    "start_time": "2023-04-28T16:33:44.522Z"
   },
   {
    "duration": 527,
    "start_time": "2023-04-28T16:33:48.065Z"
   },
   {
    "duration": 543,
    "start_time": "2023-04-28T16:34:55.611Z"
   },
   {
    "duration": 1504,
    "start_time": "2023-04-28T16:36:06.815Z"
   },
   {
    "duration": 95,
    "start_time": "2023-04-28T16:36:08.322Z"
   },
   {
    "duration": 17,
    "start_time": "2023-04-28T16:36:08.419Z"
   },
   {
    "duration": 16,
    "start_time": "2023-04-28T16:36:08.438Z"
   },
   {
    "duration": 7,
    "start_time": "2023-04-28T16:36:08.457Z"
   },
   {
    "duration": 42,
    "start_time": "2023-04-28T16:36:08.466Z"
   },
   {
    "duration": 391,
    "start_time": "2023-04-28T16:36:08.512Z"
   },
   {
    "duration": 256,
    "start_time": "2023-04-28T16:36:08.907Z"
   },
   {
    "duration": 811,
    "start_time": "2023-04-28T16:36:09.165Z"
   },
   {
    "duration": 762,
    "start_time": "2023-04-28T16:36:23.221Z"
   },
   {
    "duration": 1845,
    "start_time": "2023-04-28T16:37:02.235Z"
   },
   {
    "duration": 93,
    "start_time": "2023-04-28T16:37:04.083Z"
   },
   {
    "duration": 28,
    "start_time": "2023-04-28T16:37:04.178Z"
   },
   {
    "duration": 20,
    "start_time": "2023-04-28T16:37:04.218Z"
   },
   {
    "duration": 11,
    "start_time": "2023-04-28T16:37:04.244Z"
   },
   {
    "duration": 25,
    "start_time": "2023-04-28T16:37:04.261Z"
   },
   {
    "duration": 366,
    "start_time": "2023-04-28T16:37:04.289Z"
   },
   {
    "duration": 271,
    "start_time": "2023-04-28T16:37:04.661Z"
   },
   {
    "duration": 737,
    "start_time": "2023-04-28T16:37:04.938Z"
   },
   {
    "duration": 205,
    "start_time": "2023-04-28T16:37:42.455Z"
   },
   {
    "duration": 28,
    "start_time": "2023-04-28T16:39:37.732Z"
   },
   {
    "duration": 1248,
    "start_time": "2023-04-28T16:39:47.843Z"
   },
   {
    "duration": 73,
    "start_time": "2023-04-28T16:39:49.094Z"
   },
   {
    "duration": 15,
    "start_time": "2023-04-28T16:39:49.169Z"
   },
   {
    "duration": 36,
    "start_time": "2023-04-28T16:39:49.186Z"
   },
   {
    "duration": 8,
    "start_time": "2023-04-28T16:39:49.231Z"
   },
   {
    "duration": 19,
    "start_time": "2023-04-28T16:39:49.242Z"
   },
   {
    "duration": 288,
    "start_time": "2023-04-28T16:39:49.263Z"
   },
   {
    "duration": 210,
    "start_time": "2023-04-28T16:39:49.553Z"
   },
   {
    "duration": 571,
    "start_time": "2023-04-28T16:39:49.765Z"
   },
   {
    "duration": 130,
    "start_time": "2023-04-28T16:39:50.338Z"
   },
   {
    "duration": 17,
    "start_time": "2023-04-28T16:40:54.684Z"
   },
   {
    "duration": 1211,
    "start_time": "2023-04-28T16:41:12.340Z"
   },
   {
    "duration": 62,
    "start_time": "2023-04-28T16:41:13.555Z"
   },
   {
    "duration": 16,
    "start_time": "2023-04-28T16:41:13.619Z"
   },
   {
    "duration": 15,
    "start_time": "2023-04-28T16:41:13.637Z"
   },
   {
    "duration": 6,
    "start_time": "2023-04-28T16:41:13.655Z"
   },
   {
    "duration": 45,
    "start_time": "2023-04-28T16:41:13.663Z"
   },
   {
    "duration": 260,
    "start_time": "2023-04-28T16:41:13.710Z"
   },
   {
    "duration": 218,
    "start_time": "2023-04-28T16:41:13.972Z"
   },
   {
    "duration": 507,
    "start_time": "2023-04-28T16:41:14.195Z"
   },
   {
    "duration": 141,
    "start_time": "2023-04-28T16:41:14.704Z"
   },
   {
    "duration": 16,
    "start_time": "2023-04-28T16:41:45.961Z"
   },
   {
    "duration": 15,
    "start_time": "2023-04-28T16:41:55.858Z"
   },
   {
    "duration": 17,
    "start_time": "2023-04-28T16:42:00.783Z"
   },
   {
    "duration": 719,
    "start_time": "2023-04-28T16:42:03.832Z"
   },
   {
    "duration": 666,
    "start_time": "2023-04-28T16:43:13.941Z"
   },
   {
    "duration": 722,
    "start_time": "2023-04-28T16:43:22.232Z"
   },
   {
    "duration": 164,
    "start_time": "2023-04-28T16:43:34.646Z"
   },
   {
    "duration": 602,
    "start_time": "2023-04-28T16:43:39.481Z"
   },
   {
    "duration": 511,
    "start_time": "2023-04-28T16:43:46.451Z"
   },
   {
    "duration": 166,
    "start_time": "2023-04-28T16:44:12.882Z"
   },
   {
    "duration": 35,
    "start_time": "2023-04-28T16:44:17.329Z"
   },
   {
    "duration": 205,
    "start_time": "2023-04-28T16:44:22.849Z"
   },
   {
    "duration": 331,
    "start_time": "2023-04-28T16:44:39.852Z"
   },
   {
    "duration": 9,
    "start_time": "2023-04-28T16:48:21.584Z"
   },
   {
    "duration": 13,
    "start_time": "2023-04-28T16:48:24.734Z"
   },
   {
    "duration": 918,
    "start_time": "2023-04-28T16:48:46.553Z"
   },
   {
    "duration": 100,
    "start_time": "2023-04-28T16:49:03.287Z"
   },
   {
    "duration": 13,
    "start_time": "2023-04-28T16:49:10.765Z"
   },
   {
    "duration": 22,
    "start_time": "2023-04-28T16:49:11.490Z"
   },
   {
    "duration": 697,
    "start_time": "2023-04-28T16:49:13.136Z"
   },
   {
    "duration": 22,
    "start_time": "2023-04-28T16:49:23.490Z"
   },
   {
    "duration": 16,
    "start_time": "2023-04-28T16:49:25.264Z"
   },
   {
    "duration": 1720,
    "start_time": "2023-04-28T16:50:27.380Z"
   },
   {
    "duration": 73,
    "start_time": "2023-04-28T16:50:29.108Z"
   },
   {
    "duration": 48,
    "start_time": "2023-04-28T16:50:29.187Z"
   },
   {
    "duration": 32,
    "start_time": "2023-04-28T16:50:29.255Z"
   },
   {
    "duration": 17,
    "start_time": "2023-04-28T16:50:29.290Z"
   },
   {
    "duration": 31,
    "start_time": "2023-04-28T16:50:29.312Z"
   },
   {
    "duration": 372,
    "start_time": "2023-04-28T16:50:29.350Z"
   },
   {
    "duration": 276,
    "start_time": "2023-04-28T16:50:29.728Z"
   },
   {
    "duration": 770,
    "start_time": "2023-04-28T16:50:30.010Z"
   },
   {
    "duration": 16,
    "start_time": "2023-04-28T16:50:30.782Z"
   },
   {
    "duration": 69,
    "start_time": "2023-04-28T16:50:30.801Z"
   },
   {
    "duration": 800,
    "start_time": "2023-04-28T16:50:30.874Z"
   },
   {
    "duration": 836,
    "start_time": "2023-04-28T16:52:00.065Z"
   },
   {
    "duration": 710,
    "start_time": "2023-04-28T16:52:14.641Z"
   },
   {
    "duration": 773,
    "start_time": "2023-04-28T16:52:25.103Z"
   },
   {
    "duration": 766,
    "start_time": "2023-04-28T16:52:34.439Z"
   },
   {
    "duration": 1509,
    "start_time": "2023-04-28T16:52:54.656Z"
   },
   {
    "duration": 63,
    "start_time": "2023-04-28T16:52:56.168Z"
   },
   {
    "duration": 18,
    "start_time": "2023-04-28T16:52:56.234Z"
   },
   {
    "duration": 16,
    "start_time": "2023-04-28T16:52:56.254Z"
   },
   {
    "duration": 26,
    "start_time": "2023-04-28T16:52:56.273Z"
   },
   {
    "duration": 20,
    "start_time": "2023-04-28T16:52:56.301Z"
   },
   {
    "duration": 380,
    "start_time": "2023-04-28T16:52:56.323Z"
   },
   {
    "duration": 264,
    "start_time": "2023-04-28T16:52:56.706Z"
   },
   {
    "duration": 753,
    "start_time": "2023-04-28T16:52:56.973Z"
   },
   {
    "duration": 13,
    "start_time": "2023-04-28T16:52:57.727Z"
   },
   {
    "duration": 17,
    "start_time": "2023-04-28T16:52:57.743Z"
   },
   {
    "duration": 812,
    "start_time": "2023-04-28T16:52:57.762Z"
   },
   {
    "duration": 12,
    "start_time": "2023-04-28T16:54:02.769Z"
   },
   {
    "duration": 17,
    "start_time": "2023-04-28T16:54:04.513Z"
   },
   {
    "duration": 738,
    "start_time": "2023-04-28T16:54:05.515Z"
   },
   {
    "duration": 19,
    "start_time": "2023-04-28T16:54:09.660Z"
   },
   {
    "duration": 18,
    "start_time": "2023-04-28T16:54:11.213Z"
   },
   {
    "duration": 713,
    "start_time": "2023-04-28T16:54:11.726Z"
   },
   {
    "duration": 1364,
    "start_time": "2023-04-28T16:54:16.881Z"
   },
   {
    "duration": 70,
    "start_time": "2023-04-28T16:54:18.248Z"
   },
   {
    "duration": 16,
    "start_time": "2023-04-28T16:54:18.321Z"
   },
   {
    "duration": 16,
    "start_time": "2023-04-28T16:54:18.339Z"
   },
   {
    "duration": 7,
    "start_time": "2023-04-28T16:54:18.358Z"
   },
   {
    "duration": 47,
    "start_time": "2023-04-28T16:54:18.367Z"
   },
   {
    "duration": 301,
    "start_time": "2023-04-28T16:54:18.417Z"
   },
   {
    "duration": 233,
    "start_time": "2023-04-28T16:54:18.721Z"
   },
   {
    "duration": 560,
    "start_time": "2023-04-28T16:54:18.956Z"
   },
   {
    "duration": 14,
    "start_time": "2023-04-28T16:54:19.518Z"
   },
   {
    "duration": 25,
    "start_time": "2023-04-28T16:54:19.534Z"
   },
   {
    "duration": 585,
    "start_time": "2023-04-28T16:54:19.561Z"
   },
   {
    "duration": 15,
    "start_time": "2023-04-28T16:54:49.525Z"
   },
   {
    "duration": 19,
    "start_time": "2023-04-28T16:54:51.338Z"
   },
   {
    "duration": 1375,
    "start_time": "2023-04-28T16:54:57.514Z"
   },
   {
    "duration": 67,
    "start_time": "2023-04-28T16:54:58.891Z"
   },
   {
    "duration": 13,
    "start_time": "2023-04-28T16:54:58.959Z"
   },
   {
    "duration": 18,
    "start_time": "2023-04-28T16:54:58.974Z"
   },
   {
    "duration": 6,
    "start_time": "2023-04-28T16:54:58.996Z"
   },
   {
    "duration": 37,
    "start_time": "2023-04-28T16:54:59.003Z"
   },
   {
    "duration": 302,
    "start_time": "2023-04-28T16:54:59.042Z"
   },
   {
    "duration": 219,
    "start_time": "2023-04-28T16:54:59.347Z"
   },
   {
    "duration": 532,
    "start_time": "2023-04-28T16:54:59.568Z"
   },
   {
    "duration": 16,
    "start_time": "2023-04-28T16:55:00.101Z"
   },
   {
    "duration": 25,
    "start_time": "2023-04-28T16:55:00.119Z"
   },
   {
    "duration": 619,
    "start_time": "2023-04-28T16:55:00.146Z"
   },
   {
    "duration": 16,
    "start_time": "2023-04-28T16:55:22.932Z"
   },
   {
    "duration": 10,
    "start_time": "2023-04-28T16:55:23.278Z"
   },
   {
    "duration": 18,
    "start_time": "2023-04-28T16:55:29.716Z"
   },
   {
    "duration": 9,
    "start_time": "2023-04-28T16:55:30.942Z"
   },
   {
    "duration": 19,
    "start_time": "2023-04-28T16:55:36.719Z"
   },
   {
    "duration": 8,
    "start_time": "2023-04-28T16:55:37.580Z"
   },
   {
    "duration": 1256,
    "start_time": "2023-04-28T16:55:42.099Z"
   },
   {
    "duration": 50,
    "start_time": "2023-04-28T16:55:43.358Z"
   },
   {
    "duration": 14,
    "start_time": "2023-04-28T16:55:43.410Z"
   },
   {
    "duration": 21,
    "start_time": "2023-04-28T16:55:43.426Z"
   },
   {
    "duration": 11,
    "start_time": "2023-04-28T16:55:43.451Z"
   },
   {
    "duration": 31,
    "start_time": "2023-04-28T16:55:43.464Z"
   },
   {
    "duration": 295,
    "start_time": "2023-04-28T16:55:43.498Z"
   },
   {
    "duration": 201,
    "start_time": "2023-04-28T16:55:43.795Z"
   },
   {
    "duration": 476,
    "start_time": "2023-04-28T16:55:43.998Z"
   },
   {
    "duration": 23,
    "start_time": "2023-04-28T16:55:44.475Z"
   },
   {
    "duration": 6,
    "start_time": "2023-04-28T16:55:44.500Z"
   },
   {
    "duration": 173,
    "start_time": "2023-04-28T16:55:44.508Z"
   },
   {
    "duration": 1174,
    "start_time": "2023-04-28T16:55:55.710Z"
   },
   {
    "duration": 52,
    "start_time": "2023-04-28T16:55:56.886Z"
   },
   {
    "duration": 16,
    "start_time": "2023-04-28T16:55:56.940Z"
   },
   {
    "duration": 15,
    "start_time": "2023-04-28T16:55:56.958Z"
   },
   {
    "duration": 6,
    "start_time": "2023-04-28T16:55:56.976Z"
   },
   {
    "duration": 17,
    "start_time": "2023-04-28T16:55:56.992Z"
   },
   {
    "duration": 253,
    "start_time": "2023-04-28T16:55:57.011Z"
   },
   {
    "duration": 194,
    "start_time": "2023-04-28T16:55:57.266Z"
   },
   {
    "duration": 500,
    "start_time": "2023-04-28T16:55:57.461Z"
   },
   {
    "duration": 15,
    "start_time": "2023-04-28T16:55:57.963Z"
   },
   {
    "duration": 24,
    "start_time": "2023-04-28T16:55:57.981Z"
   },
   {
    "duration": 605,
    "start_time": "2023-04-28T16:55:58.007Z"
   },
   {
    "duration": 7,
    "start_time": "2023-04-28T16:56:49.282Z"
   },
   {
    "duration": 13,
    "start_time": "2023-04-28T16:56:49.868Z"
   },
   {
    "duration": 1527,
    "start_time": "2023-04-28T16:57:12.796Z"
   },
   {
    "duration": 65,
    "start_time": "2023-04-28T16:57:14.326Z"
   },
   {
    "duration": 19,
    "start_time": "2023-04-28T16:57:14.394Z"
   },
   {
    "duration": 22,
    "start_time": "2023-04-28T16:57:14.416Z"
   },
   {
    "duration": 9,
    "start_time": "2023-04-28T16:57:14.441Z"
   },
   {
    "duration": 41,
    "start_time": "2023-04-28T16:57:14.453Z"
   },
   {
    "duration": 360,
    "start_time": "2023-04-28T16:57:14.496Z"
   },
   {
    "duration": 269,
    "start_time": "2023-04-28T16:57:14.860Z"
   },
   {
    "duration": 682,
    "start_time": "2023-04-28T16:57:15.133Z"
   },
   {
    "duration": 18,
    "start_time": "2023-04-28T16:57:15.817Z"
   },
   {
    "duration": 6,
    "start_time": "2023-04-28T16:57:15.838Z"
   },
   {
    "duration": 17,
    "start_time": "2023-04-28T16:57:15.845Z"
   },
   {
    "duration": 769,
    "start_time": "2023-04-28T16:57:15.863Z"
   },
   {
    "duration": 14,
    "start_time": "2023-04-28T16:57:36.363Z"
   },
   {
    "duration": 6,
    "start_time": "2023-04-28T16:57:59.387Z"
   },
   {
    "duration": 14,
    "start_time": "2023-04-28T16:57:59.755Z"
   },
   {
    "duration": 1158,
    "start_time": "2023-04-28T16:58:03.454Z"
   },
   {
    "duration": 59,
    "start_time": "2023-04-28T16:58:04.615Z"
   },
   {
    "duration": 15,
    "start_time": "2023-04-28T16:58:04.676Z"
   },
   {
    "duration": 14,
    "start_time": "2023-04-28T16:58:04.693Z"
   },
   {
    "duration": 7,
    "start_time": "2023-04-28T16:58:04.710Z"
   },
   {
    "duration": 23,
    "start_time": "2023-04-28T16:58:04.719Z"
   },
   {
    "duration": 281,
    "start_time": "2023-04-28T16:58:04.744Z"
   },
   {
    "duration": 262,
    "start_time": "2023-04-28T16:58:05.027Z"
   },
   {
    "duration": 568,
    "start_time": "2023-04-28T16:58:05.291Z"
   },
   {
    "duration": 15,
    "start_time": "2023-04-28T16:58:05.862Z"
   },
   {
    "duration": 18,
    "start_time": "2023-04-28T16:58:05.880Z"
   },
   {
    "duration": 29,
    "start_time": "2023-04-28T16:58:05.901Z"
   },
   {
    "duration": 28,
    "start_time": "2023-04-28T16:58:05.932Z"
   },
   {
    "duration": 624,
    "start_time": "2023-04-28T16:58:05.964Z"
   },
   {
    "duration": 5,
    "start_time": "2023-04-28T16:58:15.766Z"
   },
   {
    "duration": 16,
    "start_time": "2023-04-28T16:58:16.512Z"
   },
   {
    "duration": 636,
    "start_time": "2023-04-28T16:58:26.176Z"
   },
   {
    "duration": 477,
    "start_time": "2023-04-28T16:58:55.661Z"
   },
   {
    "duration": 6,
    "start_time": "2023-04-28T17:00:26.983Z"
   },
   {
    "duration": 17,
    "start_time": "2023-04-28T17:00:28.244Z"
   },
   {
    "duration": 7,
    "start_time": "2023-04-28T17:00:58.545Z"
   },
   {
    "duration": 19,
    "start_time": "2023-04-28T17:00:58.821Z"
   },
   {
    "duration": 1431,
    "start_time": "2023-04-28T17:02:18.834Z"
   },
   {
    "duration": 53,
    "start_time": "2023-04-28T17:02:20.267Z"
   },
   {
    "duration": 12,
    "start_time": "2023-04-28T17:02:20.322Z"
   },
   {
    "duration": 17,
    "start_time": "2023-04-28T17:02:20.336Z"
   },
   {
    "duration": 6,
    "start_time": "2023-04-28T17:02:20.355Z"
   },
   {
    "duration": 39,
    "start_time": "2023-04-28T17:02:20.362Z"
   },
   {
    "duration": 263,
    "start_time": "2023-04-28T17:02:20.412Z"
   },
   {
    "duration": 222,
    "start_time": "2023-04-28T17:02:20.677Z"
   },
   {
    "duration": 577,
    "start_time": "2023-04-28T17:02:20.902Z"
   },
   {
    "duration": 25,
    "start_time": "2023-04-28T17:02:21.482Z"
   },
   {
    "duration": 22,
    "start_time": "2023-04-28T17:02:21.513Z"
   },
   {
    "duration": 17,
    "start_time": "2023-04-28T17:02:21.539Z"
   },
   {
    "duration": 45,
    "start_time": "2023-04-28T17:02:21.558Z"
   },
   {
    "duration": 548,
    "start_time": "2023-04-28T17:02:21.612Z"
   },
   {
    "duration": 7,
    "start_time": "2023-04-28T17:02:47.023Z"
   },
   {
    "duration": 629,
    "start_time": "2023-04-28T17:02:47.564Z"
   },
   {
    "duration": 1397,
    "start_time": "2023-04-28T17:03:00.459Z"
   },
   {
    "duration": 76,
    "start_time": "2023-04-28T17:03:01.859Z"
   },
   {
    "duration": 17,
    "start_time": "2023-04-28T17:03:01.939Z"
   },
   {
    "duration": 69,
    "start_time": "2023-04-28T17:03:01.959Z"
   },
   {
    "duration": 19,
    "start_time": "2023-04-28T17:03:02.031Z"
   },
   {
    "duration": 66,
    "start_time": "2023-04-28T17:03:02.052Z"
   },
   {
    "duration": 403,
    "start_time": "2023-04-28T17:03:02.120Z"
   },
   {
    "duration": 260,
    "start_time": "2023-04-28T17:03:02.526Z"
   },
   {
    "duration": 543,
    "start_time": "2023-04-28T17:03:02.788Z"
   },
   {
    "duration": 15,
    "start_time": "2023-04-28T17:03:03.339Z"
   },
   {
    "duration": 6,
    "start_time": "2023-04-28T17:03:03.357Z"
   },
   {
    "duration": 17,
    "start_time": "2023-04-28T17:03:03.365Z"
   },
   {
    "duration": 42,
    "start_time": "2023-04-28T17:03:03.384Z"
   },
   {
    "duration": 14,
    "start_time": "2023-04-28T17:03:03.430Z"
   },
   {
    "duration": 536,
    "start_time": "2023-04-28T17:03:03.446Z"
   },
   {
    "duration": 1313,
    "start_time": "2023-04-28T17:03:27.564Z"
   },
   {
    "duration": 58,
    "start_time": "2023-04-28T17:03:28.879Z"
   },
   {
    "duration": 13,
    "start_time": "2023-04-28T17:03:28.939Z"
   },
   {
    "duration": 15,
    "start_time": "2023-04-28T17:03:28.954Z"
   },
   {
    "duration": 6,
    "start_time": "2023-04-28T17:03:28.972Z"
   },
   {
    "duration": 28,
    "start_time": "2023-04-28T17:03:28.979Z"
   },
   {
    "duration": 267,
    "start_time": "2023-04-28T17:03:29.013Z"
   },
   {
    "duration": 249,
    "start_time": "2023-04-28T17:03:29.282Z"
   },
   {
    "duration": 545,
    "start_time": "2023-04-28T17:03:29.533Z"
   },
   {
    "duration": 31,
    "start_time": "2023-04-28T17:03:30.080Z"
   },
   {
    "duration": 11,
    "start_time": "2023-04-28T17:03:30.112Z"
   },
   {
    "duration": 18,
    "start_time": "2023-04-28T17:03:30.125Z"
   },
   {
    "duration": 32,
    "start_time": "2023-04-28T17:03:30.145Z"
   },
   {
    "duration": 31,
    "start_time": "2023-04-28T17:03:30.180Z"
   },
   {
    "duration": 22,
    "start_time": "2023-04-28T17:03:30.216Z"
   },
   {
    "duration": 571,
    "start_time": "2023-04-28T17:03:30.240Z"
   },
   {
    "duration": 622,
    "start_time": "2023-04-28T17:04:42.777Z"
   },
   {
    "duration": 787,
    "start_time": "2023-04-28T17:06:35.354Z"
   },
   {
    "duration": 725,
    "start_time": "2023-04-28T17:06:44.034Z"
   },
   {
    "duration": 540,
    "start_time": "2023-04-28T17:06:54.217Z"
   },
   {
    "duration": 1474,
    "start_time": "2023-04-28T17:07:08.725Z"
   },
   {
    "duration": 58,
    "start_time": "2023-04-28T17:07:10.202Z"
   },
   {
    "duration": 13,
    "start_time": "2023-04-28T17:07:10.262Z"
   },
   {
    "duration": 25,
    "start_time": "2023-04-28T17:07:10.277Z"
   },
   {
    "duration": 10,
    "start_time": "2023-04-28T17:07:10.305Z"
   },
   {
    "duration": 24,
    "start_time": "2023-04-28T17:07:10.317Z"
   },
   {
    "duration": 326,
    "start_time": "2023-04-28T17:07:10.344Z"
   },
   {
    "duration": 217,
    "start_time": "2023-04-28T17:07:10.673Z"
   },
   {
    "duration": 573,
    "start_time": "2023-04-28T17:07:10.895Z"
   },
   {
    "duration": 27,
    "start_time": "2023-04-28T17:07:11.470Z"
   },
   {
    "duration": 8,
    "start_time": "2023-04-28T17:07:11.501Z"
   },
   {
    "duration": 13,
    "start_time": "2023-04-28T17:07:11.511Z"
   },
   {
    "duration": 7,
    "start_time": "2023-04-28T17:07:11.532Z"
   },
   {
    "duration": 12,
    "start_time": "2023-04-28T17:07:11.542Z"
   },
   {
    "duration": 15,
    "start_time": "2023-04-28T17:07:11.556Z"
   },
   {
    "duration": 729,
    "start_time": "2023-04-28T17:07:11.573Z"
   },
   {
    "duration": 125,
    "start_time": "2023-04-28T17:07:49.517Z"
   },
   {
    "duration": 661,
    "start_time": "2023-04-28T17:07:53.653Z"
   },
   {
    "duration": 92,
    "start_time": "2023-04-28T17:08:00.335Z"
   },
   {
    "duration": 582,
    "start_time": "2023-04-28T17:08:05.646Z"
   },
   {
    "duration": 593,
    "start_time": "2023-04-28T17:08:22.910Z"
   },
   {
    "duration": 1124,
    "start_time": "2023-04-28T17:08:38.442Z"
   },
   {
    "duration": 61,
    "start_time": "2023-04-28T17:08:39.568Z"
   },
   {
    "duration": 12,
    "start_time": "2023-04-28T17:08:39.631Z"
   },
   {
    "duration": 16,
    "start_time": "2023-04-28T17:08:39.644Z"
   },
   {
    "duration": 9,
    "start_time": "2023-04-28T17:08:39.662Z"
   },
   {
    "duration": 25,
    "start_time": "2023-04-28T17:08:39.672Z"
   },
   {
    "duration": 257,
    "start_time": "2023-04-28T17:08:39.698Z"
   },
   {
    "duration": 196,
    "start_time": "2023-04-28T17:08:39.957Z"
   },
   {
    "duration": 496,
    "start_time": "2023-04-28T17:08:40.155Z"
   },
   {
    "duration": 13,
    "start_time": "2023-04-28T17:08:40.652Z"
   },
   {
    "duration": 9,
    "start_time": "2023-04-28T17:08:40.667Z"
   },
   {
    "duration": 23,
    "start_time": "2023-04-28T17:08:40.678Z"
   },
   {
    "duration": 11,
    "start_time": "2023-04-28T17:08:40.703Z"
   },
   {
    "duration": 36,
    "start_time": "2023-04-28T17:08:40.717Z"
   },
   {
    "duration": 27,
    "start_time": "2023-04-28T17:08:40.755Z"
   },
   {
    "duration": 574,
    "start_time": "2023-04-28T17:08:40.783Z"
   },
   {
    "duration": 266,
    "start_time": "2023-04-28T17:08:46.273Z"
   },
   {
    "duration": 440,
    "start_time": "2023-04-28T17:10:02.645Z"
   },
   {
    "duration": 122,
    "start_time": "2023-04-28T17:10:28.751Z"
   },
   {
    "duration": 397,
    "start_time": "2023-04-28T17:11:31.867Z"
   },
   {
    "duration": 333,
    "start_time": "2023-04-28T17:11:52.038Z"
   },
   {
    "duration": 549,
    "start_time": "2023-04-28T17:12:11.470Z"
   },
   {
    "duration": 559,
    "start_time": "2023-04-28T17:12:33.097Z"
   },
   {
    "duration": 728,
    "start_time": "2023-04-28T17:14:48.307Z"
   },
   {
    "duration": 1392,
    "start_time": "2023-04-28T17:14:55.535Z"
   },
   {
    "duration": 51,
    "start_time": "2023-04-28T17:14:56.930Z"
   },
   {
    "duration": 19,
    "start_time": "2023-04-28T17:14:56.983Z"
   },
   {
    "duration": 13,
    "start_time": "2023-04-28T17:14:57.005Z"
   },
   {
    "duration": 11,
    "start_time": "2023-04-28T17:14:57.022Z"
   },
   {
    "duration": 27,
    "start_time": "2023-04-28T17:14:57.035Z"
   },
   {
    "duration": 271,
    "start_time": "2023-04-28T17:14:57.064Z"
   },
   {
    "duration": 243,
    "start_time": "2023-04-28T17:14:57.338Z"
   },
   {
    "duration": 502,
    "start_time": "2023-04-28T17:14:57.583Z"
   },
   {
    "duration": 22,
    "start_time": "2023-04-28T17:14:58.088Z"
   },
   {
    "duration": 6,
    "start_time": "2023-04-28T17:14:58.112Z"
   },
   {
    "duration": 32,
    "start_time": "2023-04-28T17:14:58.120Z"
   },
   {
    "duration": 10,
    "start_time": "2023-04-28T17:14:58.153Z"
   },
   {
    "duration": 25,
    "start_time": "2023-04-28T17:14:58.165Z"
   },
   {
    "duration": 24,
    "start_time": "2023-04-28T17:14:58.192Z"
   },
   {
    "duration": 651,
    "start_time": "2023-04-28T17:14:58.222Z"
   },
   {
    "duration": 611,
    "start_time": "2023-04-28T17:16:24.214Z"
   },
   {
    "duration": 610,
    "start_time": "2023-04-28T17:16:28.910Z"
   },
   {
    "duration": 1277,
    "start_time": "2023-04-28T17:17:02.914Z"
   },
   {
    "duration": 51,
    "start_time": "2023-04-28T17:17:04.198Z"
   },
   {
    "duration": 13,
    "start_time": "2023-04-28T17:17:04.251Z"
   },
   {
    "duration": 15,
    "start_time": "2023-04-28T17:17:04.266Z"
   },
   {
    "duration": 5,
    "start_time": "2023-04-28T17:17:04.283Z"
   },
   {
    "duration": 22,
    "start_time": "2023-04-28T17:17:04.289Z"
   },
   {
    "duration": 252,
    "start_time": "2023-04-28T17:17:04.315Z"
   },
   {
    "duration": 204,
    "start_time": "2023-04-28T17:17:04.569Z"
   },
   {
    "duration": 502,
    "start_time": "2023-04-28T17:17:04.775Z"
   },
   {
    "duration": 31,
    "start_time": "2023-04-28T17:17:05.279Z"
   },
   {
    "duration": 5,
    "start_time": "2023-04-28T17:17:05.314Z"
   },
   {
    "duration": 14,
    "start_time": "2023-04-28T17:17:05.321Z"
   },
   {
    "duration": 6,
    "start_time": "2023-04-28T17:17:05.336Z"
   },
   {
    "duration": 11,
    "start_time": "2023-04-28T17:17:05.344Z"
   },
   {
    "duration": 15,
    "start_time": "2023-04-28T17:17:05.357Z"
   },
   {
    "duration": 532,
    "start_time": "2023-04-28T17:17:05.374Z"
   },
   {
    "duration": 505,
    "start_time": "2023-04-28T17:17:25.300Z"
   },
   {
    "duration": 504,
    "start_time": "2023-04-28T17:17:38.409Z"
   },
   {
    "duration": 111,
    "start_time": "2023-04-28T17:17:45.376Z"
   },
   {
    "duration": 23,
    "start_time": "2023-04-28T17:17:54.913Z"
   },
   {
    "duration": 518,
    "start_time": "2023-04-28T17:18:15.982Z"
   },
   {
    "duration": 84,
    "start_time": "2023-04-28T17:18:26.954Z"
   },
   {
    "duration": 644,
    "start_time": "2023-04-28T17:18:53.975Z"
   },
   {
    "duration": 1325,
    "start_time": "2023-04-28T17:20:08.461Z"
   },
   {
    "duration": 695,
    "start_time": "2023-04-28T17:20:21.826Z"
   },
   {
    "duration": 27,
    "start_time": "2023-04-28T17:20:46.321Z"
   },
   {
    "duration": 30,
    "start_time": "2023-04-28T17:21:51.442Z"
   },
   {
    "duration": 1298,
    "start_time": "2023-04-28T17:22:02.593Z"
   },
   {
    "duration": 1286,
    "start_time": "2023-04-28T17:22:09.525Z"
   },
   {
    "duration": 694,
    "start_time": "2023-04-28T17:22:22.942Z"
   },
   {
    "duration": 21,
    "start_time": "2023-04-28T17:22:40.049Z"
   },
   {
    "duration": 13,
    "start_time": "2023-04-28T17:22:57.050Z"
   },
   {
    "duration": 17,
    "start_time": "2023-04-28T17:23:32.254Z"
   },
   {
    "duration": 13,
    "start_time": "2023-04-28T17:23:53.447Z"
   },
   {
    "duration": 13,
    "start_time": "2023-04-28T17:24:10.372Z"
   },
   {
    "duration": 1283,
    "start_time": "2023-04-28T17:24:20.411Z"
   },
   {
    "duration": 64,
    "start_time": "2023-04-28T17:24:21.698Z"
   },
   {
    "duration": 17,
    "start_time": "2023-04-28T17:24:21.765Z"
   },
   {
    "duration": 18,
    "start_time": "2023-04-28T17:24:21.783Z"
   },
   {
    "duration": 9,
    "start_time": "2023-04-28T17:24:21.804Z"
   },
   {
    "duration": 21,
    "start_time": "2023-04-28T17:24:21.817Z"
   },
   {
    "duration": 331,
    "start_time": "2023-04-28T17:24:21.840Z"
   },
   {
    "duration": 270,
    "start_time": "2023-04-28T17:24:22.174Z"
   },
   {
    "duration": 575,
    "start_time": "2023-04-28T17:24:22.446Z"
   },
   {
    "duration": 16,
    "start_time": "2023-04-28T17:24:23.023Z"
   },
   {
    "duration": 6,
    "start_time": "2023-04-28T17:24:23.042Z"
   },
   {
    "duration": 15,
    "start_time": "2023-04-28T17:24:23.050Z"
   },
   {
    "duration": 8,
    "start_time": "2023-04-28T17:24:23.066Z"
   },
   {
    "duration": 16,
    "start_time": "2023-04-28T17:24:23.092Z"
   },
   {
    "duration": 12,
    "start_time": "2023-04-28T17:24:23.114Z"
   },
   {
    "duration": 162,
    "start_time": "2023-04-28T17:24:23.128Z"
   },
   {
    "duration": 0,
    "start_time": "2023-04-28T17:24:23.297Z"
   },
   {
    "duration": 0,
    "start_time": "2023-04-28T17:24:23.302Z"
   },
   {
    "duration": 8,
    "start_time": "2023-04-28T17:24:50.284Z"
   },
   {
    "duration": 266,
    "start_time": "2023-04-28T17:24:52.251Z"
   },
   {
    "duration": 208,
    "start_time": "2023-04-28T17:24:52.611Z"
   },
   {
    "duration": 205,
    "start_time": "2023-04-28T17:26:10.070Z"
   },
   {
    "duration": 253,
    "start_time": "2023-04-28T17:26:32.203Z"
   },
   {
    "duration": 1324,
    "start_time": "2023-04-28T17:26:37.133Z"
   },
   {
    "duration": 59,
    "start_time": "2023-04-28T17:26:38.459Z"
   },
   {
    "duration": 15,
    "start_time": "2023-04-28T17:26:38.520Z"
   },
   {
    "duration": 15,
    "start_time": "2023-04-28T17:26:38.537Z"
   },
   {
    "duration": 6,
    "start_time": "2023-04-28T17:26:38.555Z"
   },
   {
    "duration": 43,
    "start_time": "2023-04-28T17:26:38.563Z"
   },
   {
    "duration": 261,
    "start_time": "2023-04-28T17:26:38.608Z"
   },
   {
    "duration": 195,
    "start_time": "2023-04-28T17:26:38.871Z"
   },
   {
    "duration": 558,
    "start_time": "2023-04-28T17:26:39.068Z"
   },
   {
    "duration": 18,
    "start_time": "2023-04-28T17:26:39.629Z"
   },
   {
    "duration": 13,
    "start_time": "2023-04-28T17:26:39.650Z"
   },
   {
    "duration": 7,
    "start_time": "2023-04-28T17:26:39.665Z"
   },
   {
    "duration": 252,
    "start_time": "2023-04-28T17:26:39.693Z"
   },
   {
    "duration": 209,
    "start_time": "2023-04-28T17:26:39.949Z"
   },
   {
    "duration": 1553,
    "start_time": "2023-04-28T17:27:54.087Z"
   },
   {
    "duration": 1477,
    "start_time": "2023-04-28T17:28:37.848Z"
   },
   {
    "duration": 20,
    "start_time": "2023-04-28T17:29:13.326Z"
   },
   {
    "duration": 799,
    "start_time": "2023-04-28T17:30:12.750Z"
   },
   {
    "duration": 1026,
    "start_time": "2023-04-28T17:30:21.063Z"
   },
   {
    "duration": 1271,
    "start_time": "2023-04-28T17:31:04.348Z"
   },
   {
    "duration": 65,
    "start_time": "2023-04-28T17:31:05.622Z"
   },
   {
    "duration": 15,
    "start_time": "2023-04-28T17:31:05.690Z"
   },
   {
    "duration": 13,
    "start_time": "2023-04-28T17:31:05.706Z"
   },
   {
    "duration": 27,
    "start_time": "2023-04-28T17:31:05.724Z"
   },
   {
    "duration": 22,
    "start_time": "2023-04-28T17:31:05.753Z"
   },
   {
    "duration": 272,
    "start_time": "2023-04-28T17:31:05.777Z"
   },
   {
    "duration": 208,
    "start_time": "2023-04-28T17:31:06.051Z"
   },
   {
    "duration": 571,
    "start_time": "2023-04-28T17:31:06.261Z"
   },
   {
    "duration": 15,
    "start_time": "2023-04-28T17:31:06.834Z"
   },
   {
    "duration": 18,
    "start_time": "2023-04-28T17:31:06.851Z"
   },
   {
    "duration": 39,
    "start_time": "2023-04-28T17:31:06.871Z"
   },
   {
    "duration": 933,
    "start_time": "2023-04-28T17:31:06.912Z"
   },
   {
    "duration": 303,
    "start_time": "2023-04-28T17:31:07.848Z"
   },
   {
    "duration": 349,
    "start_time": "2023-04-28T17:31:08.153Z"
   },
   {
    "duration": 121,
    "start_time": "2023-04-28T17:31:15.223Z"
   },
   {
    "duration": 13,
    "start_time": "2023-04-28T17:33:21.546Z"
   },
   {
    "duration": 22,
    "start_time": "2023-04-28T17:33:33.718Z"
   },
   {
    "duration": 7,
    "start_time": "2023-04-28T17:33:43.271Z"
   },
   {
    "duration": 12,
    "start_time": "2023-04-28T17:35:41.472Z"
   },
   {
    "duration": 7,
    "start_time": "2023-04-28T17:35:50.385Z"
   },
   {
    "duration": 7,
    "start_time": "2023-04-28T17:35:57.932Z"
   },
   {
    "duration": 15,
    "start_time": "2023-04-28T17:38:46.649Z"
   },
   {
    "duration": 13,
    "start_time": "2023-04-28T17:38:52.128Z"
   },
   {
    "duration": 15,
    "start_time": "2023-04-28T17:39:04.310Z"
   },
   {
    "duration": 1200,
    "start_time": "2023-04-28T17:39:23.877Z"
   },
   {
    "duration": 58,
    "start_time": "2023-04-28T17:39:25.079Z"
   },
   {
    "duration": 12,
    "start_time": "2023-04-28T17:39:25.139Z"
   },
   {
    "duration": 15,
    "start_time": "2023-04-28T17:39:25.154Z"
   },
   {
    "duration": 8,
    "start_time": "2023-04-28T17:39:25.172Z"
   },
   {
    "duration": 28,
    "start_time": "2023-04-28T17:39:25.183Z"
   },
   {
    "duration": 267,
    "start_time": "2023-04-28T17:39:25.217Z"
   },
   {
    "duration": 195,
    "start_time": "2023-04-28T17:39:25.485Z"
   },
   {
    "duration": 520,
    "start_time": "2023-04-28T17:39:25.682Z"
   },
   {
    "duration": 20,
    "start_time": "2023-04-28T17:39:26.203Z"
   },
   {
    "duration": 12,
    "start_time": "2023-04-28T17:39:26.224Z"
   },
   {
    "duration": 10,
    "start_time": "2023-04-28T17:39:26.238Z"
   },
   {
    "duration": 879,
    "start_time": "2023-04-28T17:39:26.250Z"
   },
   {
    "duration": 441,
    "start_time": "2023-04-28T17:39:27.134Z"
   },
   {
    "duration": 226,
    "start_time": "2023-04-28T17:39:27.577Z"
   },
   {
    "duration": 1239,
    "start_time": "2023-04-28T17:40:12.938Z"
   },
   {
    "duration": 55,
    "start_time": "2023-04-28T17:40:14.180Z"
   },
   {
    "duration": 14,
    "start_time": "2023-04-28T17:40:14.237Z"
   },
   {
    "duration": 20,
    "start_time": "2023-04-28T17:40:14.253Z"
   },
   {
    "duration": 16,
    "start_time": "2023-04-28T17:40:14.275Z"
   },
   {
    "duration": 22,
    "start_time": "2023-04-28T17:40:14.293Z"
   },
   {
    "duration": 259,
    "start_time": "2023-04-28T17:40:14.316Z"
   },
   {
    "duration": 197,
    "start_time": "2023-04-28T17:40:14.577Z"
   },
   {
    "duration": 504,
    "start_time": "2023-04-28T17:40:14.776Z"
   },
   {
    "duration": 26,
    "start_time": "2023-04-28T17:40:15.282Z"
   },
   {
    "duration": 12,
    "start_time": "2023-04-28T17:40:15.312Z"
   },
   {
    "duration": 21,
    "start_time": "2023-04-28T17:40:15.326Z"
   },
   {
    "duration": 858,
    "start_time": "2023-04-28T17:40:15.348Z"
   },
   {
    "duration": 279,
    "start_time": "2023-04-28T17:40:16.213Z"
   },
   {
    "duration": 224,
    "start_time": "2023-04-28T17:40:16.493Z"
   },
   {
    "duration": 16,
    "start_time": "2023-04-28T17:42:56.888Z"
   },
   {
    "duration": 12,
    "start_time": "2023-04-28T17:42:58.634Z"
   },
   {
    "duration": 1530,
    "start_time": "2023-04-28T17:43:02.759Z"
   },
   {
    "duration": 71,
    "start_time": "2023-04-28T17:43:04.292Z"
   },
   {
    "duration": 14,
    "start_time": "2023-04-28T17:43:04.365Z"
   },
   {
    "duration": 22,
    "start_time": "2023-04-28T17:43:04.382Z"
   },
   {
    "duration": 9,
    "start_time": "2023-04-28T17:43:04.406Z"
   },
   {
    "duration": 16,
    "start_time": "2023-04-28T17:43:04.417Z"
   },
   {
    "duration": 263,
    "start_time": "2023-04-28T17:43:04.435Z"
   },
   {
    "duration": 194,
    "start_time": "2023-04-28T17:43:04.700Z"
   },
   {
    "duration": 540,
    "start_time": "2023-04-28T17:43:04.897Z"
   },
   {
    "duration": 15,
    "start_time": "2023-04-28T17:43:05.440Z"
   },
   {
    "duration": 43,
    "start_time": "2023-04-28T17:43:05.457Z"
   },
   {
    "duration": 19,
    "start_time": "2023-04-28T17:43:05.503Z"
   },
   {
    "duration": 944,
    "start_time": "2023-04-28T17:43:05.525Z"
   },
   {
    "duration": 303,
    "start_time": "2023-04-28T17:43:06.472Z"
   },
   {
    "duration": 256,
    "start_time": "2023-04-28T17:43:06.776Z"
   },
   {
    "duration": 317,
    "start_time": "2023-04-28T17:43:40.754Z"
   },
   {
    "duration": 447,
    "start_time": "2023-04-28T17:44:43.791Z"
   },
   {
    "duration": 477,
    "start_time": "2023-04-28T17:45:03.362Z"
   },
   {
    "duration": 557,
    "start_time": "2023-04-28T17:45:13.470Z"
   },
   {
    "duration": 423,
    "start_time": "2023-04-28T17:45:19.091Z"
   },
   {
    "duration": 443,
    "start_time": "2023-04-28T17:45:26.746Z"
   },
   {
    "duration": 1522,
    "start_time": "2023-04-28T17:45:44.981Z"
   },
   {
    "duration": 67,
    "start_time": "2023-04-28T17:45:46.506Z"
   },
   {
    "duration": 14,
    "start_time": "2023-04-28T17:45:46.575Z"
   },
   {
    "duration": 24,
    "start_time": "2023-04-28T17:45:46.591Z"
   },
   {
    "duration": 21,
    "start_time": "2023-04-28T17:45:46.635Z"
   },
   {
    "duration": 17,
    "start_time": "2023-04-28T17:45:46.658Z"
   },
   {
    "duration": 337,
    "start_time": "2023-04-28T17:45:46.677Z"
   },
   {
    "duration": 270,
    "start_time": "2023-04-28T17:45:47.016Z"
   },
   {
    "duration": 693,
    "start_time": "2023-04-28T17:45:47.289Z"
   },
   {
    "duration": 20,
    "start_time": "2023-04-28T17:45:47.984Z"
   },
   {
    "duration": 17,
    "start_time": "2023-04-28T17:45:48.006Z"
   },
   {
    "duration": 25,
    "start_time": "2023-04-28T17:45:48.024Z"
   },
   {
    "duration": 423,
    "start_time": "2023-04-28T17:45:48.053Z"
   },
   {
    "duration": 1159,
    "start_time": "2023-04-28T17:45:48.480Z"
   },
   {
    "duration": 260,
    "start_time": "2023-04-28T17:45:49.641Z"
   },
   {
    "duration": 331,
    "start_time": "2023-04-28T17:45:49.904Z"
   },
   {
    "duration": 166,
    "start_time": "2023-04-28T17:46:21.547Z"
   },
   {
    "duration": 389,
    "start_time": "2023-04-28T17:46:43.638Z"
   },
   {
    "duration": 348,
    "start_time": "2023-04-28T17:47:00.882Z"
   },
   {
    "duration": 26,
    "start_time": "2023-04-28T17:59:50.922Z"
   },
   {
    "duration": 74,
    "start_time": "2023-04-28T17:59:56.616Z"
   },
   {
    "duration": 11,
    "start_time": "2023-04-28T18:00:37.610Z"
   },
   {
    "duration": 1686,
    "start_time": "2023-04-28T18:01:02.780Z"
   },
   {
    "duration": 66,
    "start_time": "2023-04-28T18:01:04.468Z"
   },
   {
    "duration": 16,
    "start_time": "2023-04-28T18:01:04.536Z"
   },
   {
    "duration": 11,
    "start_time": "2023-04-28T18:01:04.554Z"
   },
   {
    "duration": 25,
    "start_time": "2023-04-28T18:01:04.569Z"
   },
   {
    "duration": 26,
    "start_time": "2023-04-28T18:01:04.596Z"
   },
   {
    "duration": 399,
    "start_time": "2023-04-28T18:01:04.624Z"
   },
   {
    "duration": 276,
    "start_time": "2023-04-28T18:01:05.026Z"
   },
   {
    "duration": 628,
    "start_time": "2023-04-28T18:01:05.304Z"
   },
   {
    "duration": 15,
    "start_time": "2023-04-28T18:01:05.934Z"
   },
   {
    "duration": 19,
    "start_time": "2023-04-28T18:01:05.951Z"
   },
   {
    "duration": 27,
    "start_time": "2023-04-28T18:01:05.972Z"
   },
   {
    "duration": 476,
    "start_time": "2023-04-28T18:01:06.002Z"
   },
   {
    "duration": 959,
    "start_time": "2023-04-28T18:01:06.482Z"
   },
   {
    "duration": 225,
    "start_time": "2023-04-28T18:01:07.444Z"
   },
   {
    "duration": 304,
    "start_time": "2023-04-28T18:01:07.671Z"
   },
   {
    "duration": 408,
    "start_time": "2023-04-28T18:01:07.976Z"
   },
   {
    "duration": 22,
    "start_time": "2023-04-28T18:01:08.386Z"
   },
   {
    "duration": 59,
    "start_time": "2023-04-28T18:01:08.410Z"
   },
   {
    "duration": 26,
    "start_time": "2023-04-28T18:01:08.471Z"
   },
   {
    "duration": 6,
    "start_time": "2023-04-28T18:04:06.361Z"
   },
   {
    "duration": 91,
    "start_time": "2023-04-28T18:04:18.164Z"
   },
   {
    "duration": 41,
    "start_time": "2023-04-28T18:04:36.341Z"
   },
   {
    "duration": 133,
    "start_time": "2023-04-28T18:04:55.953Z"
   },
   {
    "duration": 125,
    "start_time": "2023-04-28T18:05:00.926Z"
   },
   {
    "duration": 5,
    "start_time": "2023-04-28T18:05:13.431Z"
   },
   {
    "duration": 42,
    "start_time": "2023-04-28T18:05:49.615Z"
   },
   {
    "duration": 19,
    "start_time": "2023-04-28T18:06:08.478Z"
   },
   {
    "duration": 23,
    "start_time": "2023-04-28T18:07:49.249Z"
   },
   {
    "duration": 1788,
    "start_time": "2023-04-28T18:07:53.594Z"
   },
   {
    "duration": 91,
    "start_time": "2023-04-28T18:07:55.385Z"
   },
   {
    "duration": 20,
    "start_time": "2023-04-28T18:07:55.479Z"
   },
   {
    "duration": 21,
    "start_time": "2023-04-28T18:07:55.502Z"
   },
   {
    "duration": 15,
    "start_time": "2023-04-28T18:07:55.527Z"
   },
   {
    "duration": 23,
    "start_time": "2023-04-28T18:07:55.545Z"
   },
   {
    "duration": 360,
    "start_time": "2023-04-28T18:07:55.570Z"
   },
   {
    "duration": 209,
    "start_time": "2023-04-28T18:07:55.933Z"
   },
   {
    "duration": 564,
    "start_time": "2023-04-28T18:07:56.145Z"
   },
   {
    "duration": 23,
    "start_time": "2023-04-28T18:07:56.712Z"
   },
   {
    "duration": 24,
    "start_time": "2023-04-28T18:07:56.737Z"
   },
   {
    "duration": 12,
    "start_time": "2023-04-28T18:07:56.763Z"
   },
   {
    "duration": 442,
    "start_time": "2023-04-28T18:07:56.777Z"
   },
   {
    "duration": 1015,
    "start_time": "2023-04-28T18:07:57.226Z"
   },
   {
    "duration": 276,
    "start_time": "2023-04-28T18:07:58.244Z"
   },
   {
    "duration": 233,
    "start_time": "2023-04-28T18:07:58.522Z"
   },
   {
    "duration": 327,
    "start_time": "2023-04-28T18:07:58.756Z"
   },
   {
    "duration": 29,
    "start_time": "2023-04-28T18:07:59.084Z"
   },
   {
    "duration": 47,
    "start_time": "2023-04-28T18:07:59.116Z"
   },
   {
    "duration": 9,
    "start_time": "2023-04-28T18:07:59.165Z"
   },
   {
    "duration": 27,
    "start_time": "2023-04-28T18:07:59.177Z"
   },
   {
    "duration": 29,
    "start_time": "2023-04-28T18:07:59.206Z"
   },
   {
    "duration": 267,
    "start_time": "2023-04-28T18:07:59.243Z"
   },
   {
    "duration": 31,
    "start_time": "2023-04-28T18:08:42.517Z"
   },
   {
    "duration": 2012,
    "start_time": "2023-04-28T18:09:16.334Z"
   },
   {
    "duration": 70,
    "start_time": "2023-04-28T18:09:18.348Z"
   },
   {
    "duration": 19,
    "start_time": "2023-04-28T18:09:18.420Z"
   },
   {
    "duration": 17,
    "start_time": "2023-04-28T18:09:18.442Z"
   },
   {
    "duration": 9,
    "start_time": "2023-04-28T18:09:18.462Z"
   },
   {
    "duration": 55,
    "start_time": "2023-04-28T18:09:18.473Z"
   },
   {
    "duration": 384,
    "start_time": "2023-04-28T18:09:18.531Z"
   },
   {
    "duration": 279,
    "start_time": "2023-04-28T18:09:18.918Z"
   },
   {
    "duration": 761,
    "start_time": "2023-04-28T18:09:19.199Z"
   },
   {
    "duration": 19,
    "start_time": "2023-04-28T18:09:19.966Z"
   },
   {
    "duration": 24,
    "start_time": "2023-04-28T18:09:19.990Z"
   },
   {
    "duration": 12,
    "start_time": "2023-04-28T18:09:20.019Z"
   },
   {
    "duration": 530,
    "start_time": "2023-04-28T18:09:20.033Z"
   },
   {
    "duration": 982,
    "start_time": "2023-04-28T18:09:20.567Z"
   },
   {
    "duration": 321,
    "start_time": "2023-04-28T18:09:21.551Z"
   },
   {
    "duration": 332,
    "start_time": "2023-04-28T18:09:21.874Z"
   },
   {
    "duration": 399,
    "start_time": "2023-04-28T18:09:22.208Z"
   },
   {
    "duration": 21,
    "start_time": "2023-04-28T18:09:22.609Z"
   },
   {
    "duration": 68,
    "start_time": "2023-04-28T18:09:22.633Z"
   },
   {
    "duration": 14,
    "start_time": "2023-04-28T18:09:22.703Z"
   },
   {
    "duration": 6,
    "start_time": "2023-04-28T18:09:22.722Z"
   },
   {
    "duration": 7,
    "start_time": "2023-04-28T18:09:22.732Z"
   },
   {
    "duration": 65,
    "start_time": "2023-04-28T18:09:22.742Z"
   },
   {
    "duration": 4,
    "start_time": "2023-04-28T18:11:59.120Z"
   },
   {
    "duration": 295,
    "start_time": "2023-04-28T18:11:59.480Z"
   },
   {
    "duration": 1967,
    "start_time": "2023-04-28T18:12:37.120Z"
   },
   {
    "duration": 78,
    "start_time": "2023-04-28T18:12:39.089Z"
   },
   {
    "duration": 13,
    "start_time": "2023-04-28T18:12:39.169Z"
   },
   {
    "duration": 15,
    "start_time": "2023-04-28T18:12:39.184Z"
   },
   {
    "duration": 11,
    "start_time": "2023-04-28T18:12:39.202Z"
   },
   {
    "duration": 22,
    "start_time": "2023-04-28T18:12:39.215Z"
   },
   {
    "duration": 319,
    "start_time": "2023-04-28T18:12:39.241Z"
   },
   {
    "duration": 231,
    "start_time": "2023-04-28T18:12:39.566Z"
   },
   {
    "duration": 592,
    "start_time": "2023-04-28T18:12:39.799Z"
   },
   {
    "duration": 28,
    "start_time": "2023-04-28T18:12:40.395Z"
   },
   {
    "duration": 18,
    "start_time": "2023-04-28T18:12:40.425Z"
   },
   {
    "duration": 13,
    "start_time": "2023-04-28T18:12:40.445Z"
   },
   {
    "duration": 452,
    "start_time": "2023-04-28T18:12:40.460Z"
   },
   {
    "duration": 987,
    "start_time": "2023-04-28T18:12:40.926Z"
   },
   {
    "duration": 306,
    "start_time": "2023-04-28T18:12:41.915Z"
   },
   {
    "duration": 282,
    "start_time": "2023-04-28T18:12:42.223Z"
   },
   {
    "duration": 341,
    "start_time": "2023-04-28T18:12:42.507Z"
   },
   {
    "duration": 22,
    "start_time": "2023-04-28T18:12:42.851Z"
   },
   {
    "duration": 72,
    "start_time": "2023-04-28T18:12:42.875Z"
   },
   {
    "duration": 9,
    "start_time": "2023-04-28T18:12:42.948Z"
   },
   {
    "duration": 14,
    "start_time": "2023-04-28T18:12:42.959Z"
   },
   {
    "duration": 6,
    "start_time": "2023-04-28T18:12:42.978Z"
   },
   {
    "duration": 5,
    "start_time": "2023-04-28T18:12:43.006Z"
   },
   {
    "duration": 35,
    "start_time": "2023-04-28T18:12:43.012Z"
   },
   {
    "duration": 152,
    "start_time": "2023-04-28T18:13:47.836Z"
   },
   {
    "duration": 1795,
    "start_time": "2023-04-28T18:14:07.712Z"
   },
   {
    "duration": 75,
    "start_time": "2023-04-28T18:14:09.509Z"
   },
   {
    "duration": 20,
    "start_time": "2023-04-28T18:14:09.586Z"
   },
   {
    "duration": 14,
    "start_time": "2023-04-28T18:14:09.608Z"
   },
   {
    "duration": 7,
    "start_time": "2023-04-28T18:14:09.625Z"
   },
   {
    "duration": 20,
    "start_time": "2023-04-28T18:14:09.634Z"
   },
   {
    "duration": 318,
    "start_time": "2023-04-28T18:14:09.656Z"
   },
   {
    "duration": 240,
    "start_time": "2023-04-28T18:14:09.977Z"
   },
   {
    "duration": 720,
    "start_time": "2023-04-28T18:14:10.219Z"
   },
   {
    "duration": 18,
    "start_time": "2023-04-28T18:14:10.941Z"
   },
   {
    "duration": 18,
    "start_time": "2023-04-28T18:14:10.961Z"
   },
   {
    "duration": 8,
    "start_time": "2023-04-28T18:14:10.981Z"
   },
   {
    "duration": 398,
    "start_time": "2023-04-28T18:14:10.991Z"
   },
   {
    "duration": 1039,
    "start_time": "2023-04-28T18:14:11.394Z"
   },
   {
    "duration": 309,
    "start_time": "2023-04-28T18:14:12.436Z"
   },
   {
    "duration": 334,
    "start_time": "2023-04-28T18:14:12.746Z"
   },
   {
    "duration": 331,
    "start_time": "2023-04-28T18:14:13.082Z"
   },
   {
    "duration": 25,
    "start_time": "2023-04-28T18:14:13.416Z"
   },
   {
    "duration": 188,
    "start_time": "2023-04-28T18:14:13.443Z"
   },
   {
    "duration": 8,
    "start_time": "2023-04-28T18:14:13.633Z"
   },
   {
    "duration": 7,
    "start_time": "2023-04-28T18:14:13.644Z"
   },
   {
    "duration": 14,
    "start_time": "2023-04-28T18:14:13.653Z"
   },
   {
    "duration": 5,
    "start_time": "2023-04-28T18:14:13.668Z"
   },
   {
    "duration": 67,
    "start_time": "2023-04-28T18:14:13.675Z"
   },
   {
    "duration": 248,
    "start_time": "2023-04-28T18:14:13.744Z"
   },
   {
    "duration": 12895,
    "start_time": "2023-04-28T18:14:44.953Z"
   },
   {
    "duration": 1687,
    "start_time": "2023-04-28T18:15:35.831Z"
   },
   {
    "duration": 57,
    "start_time": "2023-04-28T18:15:37.521Z"
   },
   {
    "duration": 25,
    "start_time": "2023-04-28T18:15:37.580Z"
   },
   {
    "duration": 18,
    "start_time": "2023-04-28T18:15:37.607Z"
   },
   {
    "duration": 9,
    "start_time": "2023-04-28T18:15:37.629Z"
   },
   {
    "duration": 21,
    "start_time": "2023-04-28T18:15:37.641Z"
   },
   {
    "duration": 358,
    "start_time": "2023-04-28T18:15:37.664Z"
   },
   {
    "duration": 236,
    "start_time": "2023-04-28T18:15:38.024Z"
   },
   {
    "duration": 731,
    "start_time": "2023-04-28T18:15:38.263Z"
   },
   {
    "duration": 20,
    "start_time": "2023-04-28T18:15:38.997Z"
   },
   {
    "duration": 14,
    "start_time": "2023-04-28T18:15:39.019Z"
   },
   {
    "duration": 10,
    "start_time": "2023-04-28T18:15:39.036Z"
   },
   {
    "duration": 397,
    "start_time": "2023-04-28T18:15:39.049Z"
   },
   {
    "duration": 939,
    "start_time": "2023-04-28T18:15:39.450Z"
   },
   {
    "duration": 253,
    "start_time": "2023-04-28T18:15:40.391Z"
   },
   {
    "duration": 256,
    "start_time": "2023-04-28T18:15:40.646Z"
   },
   {
    "duration": 313,
    "start_time": "2023-04-28T18:15:40.904Z"
   },
   {
    "duration": 30,
    "start_time": "2023-04-28T18:15:41.219Z"
   },
   {
    "duration": 183,
    "start_time": "2023-04-28T18:15:41.251Z"
   },
   {
    "duration": 10,
    "start_time": "2023-04-28T18:15:41.436Z"
   },
   {
    "duration": 7,
    "start_time": "2023-04-28T18:15:41.449Z"
   },
   {
    "duration": 6,
    "start_time": "2023-04-28T18:15:41.457Z"
   },
   {
    "duration": 3,
    "start_time": "2023-04-28T18:15:41.466Z"
   },
   {
    "duration": 35,
    "start_time": "2023-04-28T18:15:41.470Z"
   },
   {
    "duration": 14612,
    "start_time": "2023-04-28T18:15:41.507Z"
   },
   {
    "duration": 342043,
    "start_time": "2023-04-28T18:16:17.885Z"
   },
   {
    "duration": 0,
    "start_time": "2023-04-28T18:21:59.931Z"
   },
   {
    "duration": 26,
    "start_time": "2023-04-28T18:22:01.317Z"
   },
   {
    "duration": 10,
    "start_time": "2023-04-28T18:22:42.554Z"
   },
   {
    "duration": 5647,
    "start_time": "2023-04-28T18:22:55.041Z"
   },
   {
    "duration": 6052,
    "start_time": "2023-04-28T18:23:18.225Z"
   },
   {
    "duration": 16,
    "start_time": "2023-04-28T18:25:51.331Z"
   },
   {
    "duration": 1966,
    "start_time": "2023-04-28T18:26:09.824Z"
   },
   {
    "duration": 80,
    "start_time": "2023-04-28T18:26:11.792Z"
   },
   {
    "duration": 26,
    "start_time": "2023-04-28T18:26:11.877Z"
   },
   {
    "duration": 21,
    "start_time": "2023-04-28T18:26:11.906Z"
   },
   {
    "duration": 12,
    "start_time": "2023-04-28T18:26:11.930Z"
   },
   {
    "duration": 37,
    "start_time": "2023-04-28T18:26:11.944Z"
   },
   {
    "duration": 379,
    "start_time": "2023-04-28T18:26:11.983Z"
   },
   {
    "duration": 288,
    "start_time": "2023-04-28T18:26:12.368Z"
   },
   {
    "duration": 864,
    "start_time": "2023-04-28T18:26:12.663Z"
   },
   {
    "duration": 17,
    "start_time": "2023-04-28T18:26:13.532Z"
   },
   {
    "duration": 52,
    "start_time": "2023-04-28T18:26:13.553Z"
   },
   {
    "duration": 23,
    "start_time": "2023-04-28T18:26:13.607Z"
   },
   {
    "duration": 395,
    "start_time": "2023-04-28T18:26:13.636Z"
   },
   {
    "duration": 1108,
    "start_time": "2023-04-28T18:26:14.035Z"
   },
   {
    "duration": 326,
    "start_time": "2023-04-28T18:26:15.145Z"
   },
   {
    "duration": 331,
    "start_time": "2023-04-28T18:26:15.473Z"
   },
   {
    "duration": 359,
    "start_time": "2023-04-28T18:26:15.805Z"
   },
   {
    "duration": 30,
    "start_time": "2023-04-28T18:26:16.167Z"
   },
   {
    "duration": 229,
    "start_time": "2023-04-28T18:26:16.202Z"
   },
   {
    "duration": 11,
    "start_time": "2023-04-28T18:26:16.434Z"
   },
   {
    "duration": 8,
    "start_time": "2023-04-28T18:26:16.447Z"
   },
   {
    "duration": 19,
    "start_time": "2023-04-28T18:26:16.457Z"
   },
   {
    "duration": 13,
    "start_time": "2023-04-28T18:26:16.479Z"
   },
   {
    "duration": 27,
    "start_time": "2023-04-28T18:26:16.497Z"
   },
   {
    "duration": 7627,
    "start_time": "2023-04-28T18:26:16.526Z"
   },
   {
    "duration": 78,
    "start_time": "2023-04-28T18:26:24.156Z"
   },
   {
    "duration": 27,
    "start_time": "2023-04-28T18:26:24.236Z"
   },
   {
    "duration": 187,
    "start_time": "2023-04-28T18:27:08.838Z"
   },
   {
    "duration": 1792,
    "start_time": "2023-04-28T18:27:30.630Z"
   },
   {
    "duration": 63,
    "start_time": "2023-04-28T18:27:32.425Z"
   },
   {
    "duration": 36,
    "start_time": "2023-04-28T18:27:32.490Z"
   },
   {
    "duration": 21,
    "start_time": "2023-04-28T18:27:32.528Z"
   },
   {
    "duration": 10,
    "start_time": "2023-04-28T18:27:32.552Z"
   },
   {
    "duration": 21,
    "start_time": "2023-04-28T18:27:32.564Z"
   },
   {
    "duration": 392,
    "start_time": "2023-04-28T18:27:32.587Z"
   },
   {
    "duration": 281,
    "start_time": "2023-04-28T18:27:32.981Z"
   },
   {
    "duration": 813,
    "start_time": "2023-04-28T18:27:33.264Z"
   },
   {
    "duration": 25,
    "start_time": "2023-04-28T18:27:34.080Z"
   },
   {
    "duration": 33,
    "start_time": "2023-04-28T18:27:34.107Z"
   },
   {
    "duration": 10,
    "start_time": "2023-04-28T18:27:34.149Z"
   },
   {
    "duration": 408,
    "start_time": "2023-04-28T18:27:34.161Z"
   },
   {
    "duration": 1088,
    "start_time": "2023-04-28T18:27:34.573Z"
   },
   {
    "duration": 308,
    "start_time": "2023-04-28T18:27:35.664Z"
   },
   {
    "duration": 299,
    "start_time": "2023-04-28T18:27:35.974Z"
   },
   {
    "duration": 414,
    "start_time": "2023-04-28T18:27:36.275Z"
   },
   {
    "duration": 23,
    "start_time": "2023-04-28T18:27:36.691Z"
   },
   {
    "duration": 199,
    "start_time": "2023-04-28T18:27:36.716Z"
   },
   {
    "duration": 11,
    "start_time": "2023-04-28T18:27:36.924Z"
   },
   {
    "duration": 11,
    "start_time": "2023-04-28T18:27:36.939Z"
   },
   {
    "duration": 10,
    "start_time": "2023-04-28T18:27:36.952Z"
   },
   {
    "duration": 11,
    "start_time": "2023-04-28T18:27:36.965Z"
   },
   {
    "duration": 41,
    "start_time": "2023-04-28T18:27:36.979Z"
   },
   {
    "duration": 6250,
    "start_time": "2023-04-28T18:27:37.023Z"
   },
   {
    "duration": 64,
    "start_time": "2023-04-28T18:27:43.276Z"
   },
   {
    "duration": 160276,
    "start_time": "2023-04-28T18:27:43.342Z"
   },
   {
    "duration": 102,
    "start_time": "2023-04-28T18:30:26.788Z"
   },
   {
    "duration": 213715,
    "start_time": "2023-04-28T18:30:43.844Z"
   },
   {
    "duration": 462,
    "start_time": "2023-04-28T18:34:21.020Z"
   },
   {
    "duration": 62,
    "start_time": "2023-04-28T18:34:27.719Z"
   },
   {
    "duration": 2064,
    "start_time": "2023-04-28T18:34:34.924Z"
   },
   {
    "duration": 80,
    "start_time": "2023-04-28T18:34:36.991Z"
   },
   {
    "duration": 20,
    "start_time": "2023-04-28T18:34:37.073Z"
   },
   {
    "duration": 15,
    "start_time": "2023-04-28T18:34:37.101Z"
   },
   {
    "duration": 16,
    "start_time": "2023-04-28T18:34:37.119Z"
   },
   {
    "duration": 26,
    "start_time": "2023-04-28T18:34:37.138Z"
   },
   {
    "duration": 362,
    "start_time": "2023-04-28T18:34:37.166Z"
   },
   {
    "duration": 287,
    "start_time": "2023-04-28T18:34:37.532Z"
   },
   {
    "duration": 989,
    "start_time": "2023-04-28T18:34:37.821Z"
   },
   {
    "duration": 16,
    "start_time": "2023-04-28T18:34:38.815Z"
   },
   {
    "duration": 19,
    "start_time": "2023-04-28T18:34:38.833Z"
   },
   {
    "duration": 28,
    "start_time": "2023-04-28T18:34:38.854Z"
   },
   {
    "duration": 468,
    "start_time": "2023-04-28T18:34:38.887Z"
   },
   {
    "duration": 1130,
    "start_time": "2023-04-28T18:34:39.359Z"
   },
   {
    "duration": 322,
    "start_time": "2023-04-28T18:34:40.492Z"
   },
   {
    "duration": 325,
    "start_time": "2023-04-28T18:34:40.816Z"
   },
   {
    "duration": 390,
    "start_time": "2023-04-28T18:34:41.145Z"
   },
   {
    "duration": 23,
    "start_time": "2023-04-28T18:34:41.537Z"
   },
   {
    "duration": 195,
    "start_time": "2023-04-28T18:34:41.562Z"
   },
   {
    "duration": 26,
    "start_time": "2023-04-28T18:34:41.759Z"
   },
   {
    "duration": 8,
    "start_time": "2023-04-28T18:34:41.787Z"
   },
   {
    "duration": 11,
    "start_time": "2023-04-28T18:34:41.800Z"
   },
   {
    "duration": 27,
    "start_time": "2023-04-28T18:34:41.813Z"
   },
   {
    "duration": 15,
    "start_time": "2023-04-28T18:34:41.844Z"
   },
   {
    "duration": 6366,
    "start_time": "2023-04-28T18:34:41.862Z"
   },
   {
    "duration": 71,
    "start_time": "2023-04-28T18:34:48.237Z"
   },
   {
    "duration": 2837003,
    "start_time": "2023-04-28T18:34:48.310Z"
   },
   {
    "duration": 29,
    "start_time": "2023-04-28T19:22:05.316Z"
   },
   {
    "duration": 0,
    "start_time": "2023-04-28T19:22:05.347Z"
   },
   {
    "duration": 10,
    "start_time": "2023-04-28T19:22:56.657Z"
   },
   {
    "duration": 12,
    "start_time": "2023-04-28T19:22:57.634Z"
   },
   {
    "duration": 14,
    "start_time": "2023-04-28T19:23:06.608Z"
   },
   {
    "duration": 15,
    "start_time": "2023-04-28T19:23:12.131Z"
   },
   {
    "duration": 1579,
    "start_time": "2023-04-28T19:23:45.264Z"
   },
   {
    "duration": 56,
    "start_time": "2023-04-28T19:23:46.845Z"
   },
   {
    "duration": 15,
    "start_time": "2023-04-28T19:23:46.910Z"
   },
   {
    "duration": 29,
    "start_time": "2023-04-28T19:23:46.927Z"
   },
   {
    "duration": 20,
    "start_time": "2023-04-28T19:23:46.958Z"
   },
   {
    "duration": 47,
    "start_time": "2023-04-28T19:23:46.980Z"
   },
   {
    "duration": 328,
    "start_time": "2023-04-28T19:23:47.030Z"
   },
   {
    "duration": 270,
    "start_time": "2023-04-28T19:23:47.359Z"
   },
   {
    "duration": 622,
    "start_time": "2023-04-28T19:23:47.631Z"
   },
   {
    "duration": 18,
    "start_time": "2023-04-28T19:23:48.256Z"
   },
   {
    "duration": 25,
    "start_time": "2023-04-28T19:23:48.277Z"
   },
   {
    "duration": 8,
    "start_time": "2023-04-28T19:23:48.304Z"
   },
   {
    "duration": 324,
    "start_time": "2023-04-28T19:23:48.314Z"
   },
   {
    "duration": 976,
    "start_time": "2023-04-28T19:23:48.642Z"
   },
   {
    "duration": 214,
    "start_time": "2023-04-28T19:23:49.619Z"
   },
   {
    "duration": 230,
    "start_time": "2023-04-28T19:23:49.835Z"
   },
   {
    "duration": 330,
    "start_time": "2023-04-28T19:23:50.067Z"
   },
   {
    "duration": 23,
    "start_time": "2023-04-28T19:23:50.399Z"
   },
   {
    "duration": 156,
    "start_time": "2023-04-28T19:23:50.424Z"
   },
   {
    "duration": 16,
    "start_time": "2023-04-28T19:23:50.582Z"
   },
   {
    "duration": 23,
    "start_time": "2023-04-28T19:23:50.601Z"
   },
   {
    "duration": 16,
    "start_time": "2023-04-28T19:23:50.625Z"
   },
   {
    "duration": 6,
    "start_time": "2023-04-28T19:23:50.643Z"
   },
   {
    "duration": 27,
    "start_time": "2023-04-28T19:23:50.651Z"
   },
   {
    "duration": 4948,
    "start_time": "2023-04-28T19:23:50.681Z"
   },
   {
    "duration": 44,
    "start_time": "2023-04-28T19:23:55.631Z"
   },
   {
    "duration": 4088,
    "start_time": "2023-04-28T19:23:55.678Z"
   },
   {
    "duration": 71898,
    "start_time": "2023-04-28T19:23:59.767Z"
   },
   {
    "duration": 5,
    "start_time": "2023-04-28T19:25:11.667Z"
   },
   {
    "duration": 121,
    "start_time": "2023-04-28T19:29:48.739Z"
   },
   {
    "duration": 6571,
    "start_time": "2023-04-28T19:29:56.041Z"
   },
   {
    "duration": 6424,
    "start_time": "2023-04-28T19:30:50.133Z"
   },
   {
    "duration": 5408,
    "start_time": "2023-04-28T19:31:09.747Z"
   },
   {
    "duration": 7152,
    "start_time": "2023-04-28T19:32:13.432Z"
   },
   {
    "duration": 283,
    "start_time": "2023-04-28T19:34:17.440Z"
   },
   {
    "duration": 1682,
    "start_time": "2023-04-29T14:20:46.982Z"
   },
   {
    "duration": 147,
    "start_time": "2023-04-29T14:20:48.667Z"
   },
   {
    "duration": 12,
    "start_time": "2023-04-29T14:20:48.816Z"
   },
   {
    "duration": 10,
    "start_time": "2023-04-29T14:20:48.829Z"
   },
   {
    "duration": 5,
    "start_time": "2023-04-29T14:20:48.841Z"
   },
   {
    "duration": 14,
    "start_time": "2023-04-29T14:20:48.847Z"
   },
   {
    "duration": 248,
    "start_time": "2023-04-29T14:20:48.863Z"
   },
   {
    "duration": 190,
    "start_time": "2023-04-29T14:20:49.113Z"
   },
   {
    "duration": 522,
    "start_time": "2023-04-29T14:20:49.305Z"
   },
   {
    "duration": 11,
    "start_time": "2023-04-29T14:20:49.828Z"
   },
   {
    "duration": 11,
    "start_time": "2023-04-29T14:20:49.841Z"
   },
   {
    "duration": 5,
    "start_time": "2023-04-29T14:20:49.853Z"
   },
   {
    "duration": 283,
    "start_time": "2023-04-29T14:20:49.860Z"
   },
   {
    "duration": 827,
    "start_time": "2023-04-29T14:20:50.145Z"
   },
   {
    "duration": 197,
    "start_time": "2023-04-29T14:20:50.975Z"
   },
   {
    "duration": 208,
    "start_time": "2023-04-29T14:20:51.173Z"
   },
   {
    "duration": 283,
    "start_time": "2023-04-29T14:20:51.383Z"
   },
   {
    "duration": 33,
    "start_time": "2023-04-29T14:20:51.668Z"
   },
   {
    "duration": 141,
    "start_time": "2023-04-29T14:20:51.702Z"
   },
   {
    "duration": 7,
    "start_time": "2023-04-29T14:20:51.845Z"
   },
   {
    "duration": 17,
    "start_time": "2023-04-29T14:20:51.853Z"
   },
   {
    "duration": 16,
    "start_time": "2023-04-29T14:20:51.872Z"
   },
   {
    "duration": 7,
    "start_time": "2023-04-29T14:20:51.889Z"
   },
   {
    "duration": 27,
    "start_time": "2023-04-29T14:20:51.898Z"
   },
   {
    "duration": 3878,
    "start_time": "2023-04-29T14:20:51.927Z"
   },
   {
    "duration": 442,
    "start_time": "2023-04-29T14:20:55.806Z"
   },
   {
    "duration": 0,
    "start_time": "2023-04-29T14:20:56.249Z"
   },
   {
    "duration": 0,
    "start_time": "2023-04-29T14:20:56.251Z"
   },
   {
    "duration": 44,
    "start_time": "2023-04-29T14:21:07.232Z"
   },
   {
    "duration": 12,
    "start_time": "2023-04-29T14:27:28.748Z"
   },
   {
    "duration": 12,
    "start_time": "2023-04-29T14:28:24.388Z"
   },
   {
    "duration": 8,
    "start_time": "2023-04-29T14:28:30.903Z"
   },
   {
    "duration": 6,
    "start_time": "2023-04-29T14:28:31.513Z"
   },
   {
    "duration": 4,
    "start_time": "2023-04-29T14:28:57.275Z"
   },
   {
    "duration": 364,
    "start_time": "2023-04-29T14:29:31.572Z"
   },
   {
    "duration": 46,
    "start_time": "2023-04-29T14:29:38.587Z"
   },
   {
    "duration": 1550,
    "start_time": "2023-04-29T14:29:42.167Z"
   },
   {
    "duration": 50,
    "start_time": "2023-04-29T14:29:43.720Z"
   },
   {
    "duration": 14,
    "start_time": "2023-04-29T14:29:43.771Z"
   },
   {
    "duration": 14,
    "start_time": "2023-04-29T14:29:43.787Z"
   },
   {
    "duration": 6,
    "start_time": "2023-04-29T14:29:43.803Z"
   },
   {
    "duration": 16,
    "start_time": "2023-04-29T14:29:43.811Z"
   },
   {
    "duration": 270,
    "start_time": "2023-04-29T14:29:43.829Z"
   },
   {
    "duration": 206,
    "start_time": "2023-04-29T14:29:44.101Z"
   },
   {
    "duration": 584,
    "start_time": "2023-04-29T14:29:44.309Z"
   },
   {
    "duration": 12,
    "start_time": "2023-04-29T14:29:44.895Z"
   },
   {
    "duration": 13,
    "start_time": "2023-04-29T14:29:44.908Z"
   },
   {
    "duration": 6,
    "start_time": "2023-04-29T14:29:44.922Z"
   },
   {
    "duration": 299,
    "start_time": "2023-04-29T14:29:44.930Z"
   },
   {
    "duration": 826,
    "start_time": "2023-04-29T14:29:45.231Z"
   },
   {
    "duration": 202,
    "start_time": "2023-04-29T14:29:46.059Z"
   },
   {
    "duration": 215,
    "start_time": "2023-04-29T14:29:46.263Z"
   },
   {
    "duration": 287,
    "start_time": "2023-04-29T14:29:46.480Z"
   },
   {
    "duration": 25,
    "start_time": "2023-04-29T14:29:46.769Z"
   },
   {
    "duration": 155,
    "start_time": "2023-04-29T14:29:46.796Z"
   },
   {
    "duration": 6,
    "start_time": "2023-04-29T14:29:46.953Z"
   },
   {
    "duration": 5,
    "start_time": "2023-04-29T14:29:46.961Z"
   },
   {
    "duration": 24,
    "start_time": "2023-04-29T14:29:46.968Z"
   },
   {
    "duration": 19,
    "start_time": "2023-04-29T14:29:46.993Z"
   },
   {
    "duration": 1637,
    "start_time": "2023-04-29T14:33:13.384Z"
   },
   {
    "duration": 49,
    "start_time": "2023-04-29T14:33:15.024Z"
   },
   {
    "duration": 15,
    "start_time": "2023-04-29T14:33:15.074Z"
   },
   {
    "duration": 23,
    "start_time": "2023-04-29T14:33:15.091Z"
   },
   {
    "duration": 6,
    "start_time": "2023-04-29T14:33:15.116Z"
   },
   {
    "duration": 20,
    "start_time": "2023-04-29T14:33:15.124Z"
   },
   {
    "duration": 257,
    "start_time": "2023-04-29T14:33:15.146Z"
   },
   {
    "duration": 203,
    "start_time": "2023-04-29T14:33:15.405Z"
   },
   {
    "duration": 633,
    "start_time": "2023-04-29T14:33:15.610Z"
   },
   {
    "duration": 14,
    "start_time": "2023-04-29T14:33:16.245Z"
   },
   {
    "duration": 36,
    "start_time": "2023-04-29T14:33:16.261Z"
   },
   {
    "duration": 7,
    "start_time": "2023-04-29T14:33:16.300Z"
   },
   {
    "duration": 354,
    "start_time": "2023-04-29T14:33:16.310Z"
   },
   {
    "duration": 873,
    "start_time": "2023-04-29T14:33:16.668Z"
   },
   {
    "duration": 201,
    "start_time": "2023-04-29T14:33:17.543Z"
   },
   {
    "duration": 239,
    "start_time": "2023-04-29T14:33:17.746Z"
   },
   {
    "duration": 357,
    "start_time": "2023-04-29T14:33:17.987Z"
   },
   {
    "duration": 18,
    "start_time": "2023-04-29T14:33:18.345Z"
   },
   {
    "duration": 165,
    "start_time": "2023-04-29T14:33:18.365Z"
   },
   {
    "duration": 126,
    "start_time": "2023-04-29T14:33:18.532Z"
   },
   {
    "duration": 0,
    "start_time": "2023-04-29T14:33:18.662Z"
   },
   {
    "duration": 0,
    "start_time": "2023-04-29T14:33:18.664Z"
   },
   {
    "duration": 0,
    "start_time": "2023-04-29T14:33:18.665Z"
   },
   {
    "duration": 0,
    "start_time": "2023-04-29T14:33:18.666Z"
   },
   {
    "duration": 0,
    "start_time": "2023-04-29T14:33:18.667Z"
   },
   {
    "duration": 0,
    "start_time": "2023-04-29T14:33:18.668Z"
   },
   {
    "duration": 0,
    "start_time": "2023-04-29T14:33:18.670Z"
   },
   {
    "duration": 0,
    "start_time": "2023-04-29T14:33:18.671Z"
   },
   {
    "duration": 0,
    "start_time": "2023-04-29T14:33:18.672Z"
   },
   {
    "duration": 0,
    "start_time": "2023-04-29T14:33:18.673Z"
   },
   {
    "duration": 0,
    "start_time": "2023-04-29T14:33:18.694Z"
   },
   {
    "duration": 21,
    "start_time": "2023-04-29T14:33:51.901Z"
   },
   {
    "duration": 1621,
    "start_time": "2023-04-29T14:33:56.972Z"
   },
   {
    "duration": 49,
    "start_time": "2023-04-29T14:33:58.598Z"
   },
   {
    "duration": 13,
    "start_time": "2023-04-29T14:33:58.648Z"
   },
   {
    "duration": 10,
    "start_time": "2023-04-29T14:33:58.663Z"
   },
   {
    "duration": 26,
    "start_time": "2023-04-29T14:33:58.676Z"
   },
   {
    "duration": 23,
    "start_time": "2023-04-29T14:33:58.708Z"
   },
   {
    "duration": 261,
    "start_time": "2023-04-29T14:33:58.733Z"
   },
   {
    "duration": 225,
    "start_time": "2023-04-29T14:33:58.996Z"
   },
   {
    "duration": 593,
    "start_time": "2023-04-29T14:33:59.223Z"
   },
   {
    "duration": 12,
    "start_time": "2023-04-29T14:33:59.818Z"
   },
   {
    "duration": 11,
    "start_time": "2023-04-29T14:33:59.832Z"
   },
   {
    "duration": 8,
    "start_time": "2023-04-29T14:33:59.844Z"
   },
   {
    "duration": 355,
    "start_time": "2023-04-29T14:33:59.853Z"
   },
   {
    "duration": 944,
    "start_time": "2023-04-29T14:34:00.213Z"
   },
   {
    "duration": 217,
    "start_time": "2023-04-29T14:34:01.159Z"
   },
   {
    "duration": 257,
    "start_time": "2023-04-29T14:34:01.378Z"
   },
   {
    "duration": 354,
    "start_time": "2023-04-29T14:34:01.638Z"
   },
   {
    "duration": 27,
    "start_time": "2023-04-29T14:34:01.995Z"
   },
   {
    "duration": 208,
    "start_time": "2023-04-29T14:34:02.024Z"
   },
   {
    "duration": 138,
    "start_time": "2023-04-29T14:34:02.234Z"
   },
   {
    "duration": 0,
    "start_time": "2023-04-29T14:34:02.374Z"
   },
   {
    "duration": 0,
    "start_time": "2023-04-29T14:34:02.375Z"
   },
   {
    "duration": 0,
    "start_time": "2023-04-29T14:34:02.376Z"
   },
   {
    "duration": 0,
    "start_time": "2023-04-29T14:34:02.377Z"
   },
   {
    "duration": 0,
    "start_time": "2023-04-29T14:34:02.378Z"
   },
   {
    "duration": 0,
    "start_time": "2023-04-29T14:34:02.379Z"
   },
   {
    "duration": 0,
    "start_time": "2023-04-29T14:34:02.392Z"
   },
   {
    "duration": 0,
    "start_time": "2023-04-29T14:34:02.393Z"
   },
   {
    "duration": 0,
    "start_time": "2023-04-29T14:34:02.395Z"
   },
   {
    "duration": 0,
    "start_time": "2023-04-29T14:34:02.396Z"
   },
   {
    "duration": 0,
    "start_time": "2023-04-29T14:34:02.397Z"
   },
   {
    "duration": 15,
    "start_time": "2023-04-29T14:34:35.584Z"
   },
   {
    "duration": 16,
    "start_time": "2023-04-29T14:35:03.752Z"
   },
   {
    "duration": 14,
    "start_time": "2023-04-29T14:35:17.858Z"
   },
   {
    "duration": 5,
    "start_time": "2023-04-29T14:36:24.524Z"
   },
   {
    "duration": 13,
    "start_time": "2023-04-29T14:36:25.123Z"
   },
   {
    "duration": 1630,
    "start_time": "2023-04-29T14:36:35.435Z"
   },
   {
    "duration": 65,
    "start_time": "2023-04-29T14:36:37.067Z"
   },
   {
    "duration": 17,
    "start_time": "2023-04-29T14:36:37.134Z"
   },
   {
    "duration": 15,
    "start_time": "2023-04-29T14:36:37.153Z"
   },
   {
    "duration": 10,
    "start_time": "2023-04-29T14:36:37.192Z"
   },
   {
    "duration": 19,
    "start_time": "2023-04-29T14:36:37.211Z"
   },
   {
    "duration": 338,
    "start_time": "2023-04-29T14:36:37.232Z"
   },
   {
    "duration": 260,
    "start_time": "2023-04-29T14:36:37.573Z"
   },
   {
    "duration": 677,
    "start_time": "2023-04-29T14:36:37.835Z"
   },
   {
    "duration": 17,
    "start_time": "2023-04-29T14:36:38.514Z"
   },
   {
    "duration": 18,
    "start_time": "2023-04-29T14:36:38.533Z"
   },
   {
    "duration": 13,
    "start_time": "2023-04-29T14:36:38.553Z"
   },
   {
    "duration": 395,
    "start_time": "2023-04-29T14:36:38.567Z"
   },
   {
    "duration": 900,
    "start_time": "2023-04-29T14:36:38.965Z"
   },
   {
    "duration": 229,
    "start_time": "2023-04-29T14:36:39.867Z"
   },
   {
    "duration": 246,
    "start_time": "2023-04-29T14:36:40.101Z"
   },
   {
    "duration": 315,
    "start_time": "2023-04-29T14:36:40.349Z"
   },
   {
    "duration": 26,
    "start_time": "2023-04-29T14:36:40.666Z"
   },
   {
    "duration": 162,
    "start_time": "2023-04-29T14:36:40.694Z"
   },
   {
    "duration": 4,
    "start_time": "2023-04-29T14:36:40.858Z"
   },
   {
    "duration": 134,
    "start_time": "2023-04-29T14:36:40.864Z"
   },
   {
    "duration": 0,
    "start_time": "2023-04-29T14:36:41.000Z"
   },
   {
    "duration": 0,
    "start_time": "2023-04-29T14:36:41.002Z"
   },
   {
    "duration": 0,
    "start_time": "2023-04-29T14:36:41.003Z"
   },
   {
    "duration": 0,
    "start_time": "2023-04-29T14:36:41.008Z"
   },
   {
    "duration": 0,
    "start_time": "2023-04-29T14:36:41.009Z"
   },
   {
    "duration": 0,
    "start_time": "2023-04-29T14:36:41.010Z"
   },
   {
    "duration": 0,
    "start_time": "2023-04-29T14:36:41.016Z"
   },
   {
    "duration": 0,
    "start_time": "2023-04-29T14:36:41.018Z"
   },
   {
    "duration": 0,
    "start_time": "2023-04-29T14:36:41.019Z"
   },
   {
    "duration": 0,
    "start_time": "2023-04-29T14:36:41.021Z"
   },
   {
    "duration": 0,
    "start_time": "2023-04-29T14:36:41.022Z"
   },
   {
    "duration": 6,
    "start_time": "2023-04-29T14:37:11.016Z"
   },
   {
    "duration": 13,
    "start_time": "2023-04-29T14:37:11.984Z"
   },
   {
    "duration": 4,
    "start_time": "2023-04-29T14:37:19.482Z"
   },
   {
    "duration": 12,
    "start_time": "2023-04-29T14:37:27.004Z"
   },
   {
    "duration": 7,
    "start_time": "2023-04-29T14:37:27.416Z"
   },
   {
    "duration": 1646,
    "start_time": "2023-04-29T14:37:32.512Z"
   },
   {
    "duration": 62,
    "start_time": "2023-04-29T14:37:34.160Z"
   },
   {
    "duration": 13,
    "start_time": "2023-04-29T14:37:34.223Z"
   },
   {
    "duration": 12,
    "start_time": "2023-04-29T14:37:34.238Z"
   },
   {
    "duration": 5,
    "start_time": "2023-04-29T14:37:34.252Z"
   },
   {
    "duration": 36,
    "start_time": "2023-04-29T14:37:34.259Z"
   },
   {
    "duration": 347,
    "start_time": "2023-04-29T14:37:34.297Z"
   },
   {
    "duration": 225,
    "start_time": "2023-04-29T14:37:34.646Z"
   },
   {
    "duration": 615,
    "start_time": "2023-04-29T14:37:34.873Z"
   },
   {
    "duration": 26,
    "start_time": "2023-04-29T14:37:35.491Z"
   },
   {
    "duration": 13,
    "start_time": "2023-04-29T14:37:35.519Z"
   },
   {
    "duration": 16,
    "start_time": "2023-04-29T14:37:35.534Z"
   },
   {
    "duration": 351,
    "start_time": "2023-04-29T14:37:35.552Z"
   },
   {
    "duration": 957,
    "start_time": "2023-04-29T14:37:35.907Z"
   },
   {
    "duration": 221,
    "start_time": "2023-04-29T14:37:36.866Z"
   },
   {
    "duration": 259,
    "start_time": "2023-04-29T14:37:37.092Z"
   },
   {
    "duration": 362,
    "start_time": "2023-04-29T14:37:37.353Z"
   },
   {
    "duration": 29,
    "start_time": "2023-04-29T14:37:37.721Z"
   },
   {
    "duration": 212,
    "start_time": "2023-04-29T14:37:37.752Z"
   },
   {
    "duration": 6,
    "start_time": "2023-04-29T14:37:37.966Z"
   },
   {
    "duration": 34,
    "start_time": "2023-04-29T14:37:37.974Z"
   },
   {
    "duration": 18,
    "start_time": "2023-04-29T14:37:38.012Z"
   },
   {
    "duration": 12,
    "start_time": "2023-04-29T14:37:38.032Z"
   },
   {
    "duration": 42437,
    "start_time": "2023-04-29T14:37:38.046Z"
   },
   {
    "duration": 0,
    "start_time": "2023-04-29T14:38:20.485Z"
   },
   {
    "duration": 0,
    "start_time": "2023-04-29T14:38:20.486Z"
   },
   {
    "duration": 0,
    "start_time": "2023-04-29T14:38:20.492Z"
   },
   {
    "duration": 0,
    "start_time": "2023-04-29T14:38:20.494Z"
   },
   {
    "duration": 0,
    "start_time": "2023-04-29T14:38:20.495Z"
   },
   {
    "duration": 0,
    "start_time": "2023-04-29T14:38:20.497Z"
   },
   {
    "duration": 0,
    "start_time": "2023-04-29T14:38:20.499Z"
   },
   {
    "duration": 0,
    "start_time": "2023-04-29T14:38:20.500Z"
   },
   {
    "duration": 1693,
    "start_time": "2023-04-29T14:38:24.369Z"
   },
   {
    "duration": 60,
    "start_time": "2023-04-29T14:38:26.064Z"
   },
   {
    "duration": 15,
    "start_time": "2023-04-29T14:38:26.125Z"
   },
   {
    "duration": 11,
    "start_time": "2023-04-29T14:38:26.142Z"
   },
   {
    "duration": 11,
    "start_time": "2023-04-29T14:38:26.156Z"
   },
   {
    "duration": 38,
    "start_time": "2023-04-29T14:38:26.168Z"
   },
   {
    "duration": 277,
    "start_time": "2023-04-29T14:38:26.209Z"
   },
   {
    "duration": 219,
    "start_time": "2023-04-29T14:38:26.488Z"
   },
   {
    "duration": 650,
    "start_time": "2023-04-29T14:38:26.709Z"
   },
   {
    "duration": 17,
    "start_time": "2023-04-29T14:38:27.361Z"
   },
   {
    "duration": 33,
    "start_time": "2023-04-29T14:38:27.380Z"
   },
   {
    "duration": 9,
    "start_time": "2023-04-29T14:38:27.415Z"
   },
   {
    "duration": 390,
    "start_time": "2023-04-29T14:38:27.426Z"
   },
   {
    "duration": 960,
    "start_time": "2023-04-29T14:38:27.821Z"
   },
   {
    "duration": 237,
    "start_time": "2023-04-29T14:38:28.782Z"
   },
   {
    "duration": 247,
    "start_time": "2023-04-29T14:38:29.021Z"
   },
   {
    "duration": 331,
    "start_time": "2023-04-29T14:38:29.270Z"
   },
   {
    "duration": 27,
    "start_time": "2023-04-29T14:38:29.604Z"
   },
   {
    "duration": 168,
    "start_time": "2023-04-29T14:38:29.634Z"
   },
   {
    "duration": 7,
    "start_time": "2023-04-29T14:38:29.803Z"
   },
   {
    "duration": 13,
    "start_time": "2023-04-29T14:38:29.816Z"
   },
   {
    "duration": 4,
    "start_time": "2023-04-29T14:38:29.832Z"
   },
   {
    "duration": 4,
    "start_time": "2023-04-29T14:38:29.838Z"
   },
   {
    "duration": 66260,
    "start_time": "2023-04-29T14:38:29.844Z"
   },
   {
    "duration": 0,
    "start_time": "2023-04-29T14:39:36.106Z"
   },
   {
    "duration": 0,
    "start_time": "2023-04-29T14:39:36.107Z"
   },
   {
    "duration": 0,
    "start_time": "2023-04-29T14:39:36.108Z"
   },
   {
    "duration": 0,
    "start_time": "2023-04-29T14:39:36.109Z"
   },
   {
    "duration": 0,
    "start_time": "2023-04-29T14:39:36.109Z"
   },
   {
    "duration": 0,
    "start_time": "2023-04-29T14:39:36.110Z"
   },
   {
    "duration": 0,
    "start_time": "2023-04-29T14:39:36.111Z"
   },
   {
    "duration": 8,
    "start_time": "2023-04-29T14:39:36.352Z"
   },
   {
    "duration": 5,
    "start_time": "2023-04-29T14:39:38.633Z"
   },
   {
    "duration": 11,
    "start_time": "2023-04-29T14:39:51.978Z"
   },
   {
    "duration": 7,
    "start_time": "2023-04-29T14:39:52.827Z"
   },
   {
    "duration": 1729,
    "start_time": "2023-04-29T14:39:56.024Z"
   },
   {
    "duration": 59,
    "start_time": "2023-04-29T14:39:57.755Z"
   },
   {
    "duration": 20,
    "start_time": "2023-04-29T14:39:57.817Z"
   },
   {
    "duration": 18,
    "start_time": "2023-04-29T14:39:57.839Z"
   },
   {
    "duration": 7,
    "start_time": "2023-04-29T14:39:57.860Z"
   },
   {
    "duration": 49,
    "start_time": "2023-04-29T14:39:57.868Z"
   },
   {
    "duration": 280,
    "start_time": "2023-04-29T14:39:57.919Z"
   },
   {
    "duration": 206,
    "start_time": "2023-04-29T14:39:58.202Z"
   },
   {
    "duration": 632,
    "start_time": "2023-04-29T14:39:58.415Z"
   },
   {
    "duration": 12,
    "start_time": "2023-04-29T14:39:59.049Z"
   },
   {
    "duration": 32,
    "start_time": "2023-04-29T14:39:59.063Z"
   },
   {
    "duration": 20,
    "start_time": "2023-04-29T14:39:59.096Z"
   },
   {
    "duration": 310,
    "start_time": "2023-04-29T14:39:59.118Z"
   },
   {
    "duration": 935,
    "start_time": "2023-04-29T14:39:59.430Z"
   },
   {
    "duration": 282,
    "start_time": "2023-04-29T14:40:00.366Z"
   },
   {
    "duration": 258,
    "start_time": "2023-04-29T14:40:00.650Z"
   },
   {
    "duration": 351,
    "start_time": "2023-04-29T14:40:00.911Z"
   },
   {
    "duration": 35,
    "start_time": "2023-04-29T14:40:01.264Z"
   },
   {
    "duration": 183,
    "start_time": "2023-04-29T14:40:01.301Z"
   },
   {
    "duration": 12,
    "start_time": "2023-04-29T14:40:01.486Z"
   },
   {
    "duration": 38,
    "start_time": "2023-04-29T14:40:01.502Z"
   },
   {
    "duration": 162,
    "start_time": "2023-04-29T14:40:01.542Z"
   },
   {
    "duration": 0,
    "start_time": "2023-04-29T14:40:01.709Z"
   },
   {
    "duration": 0,
    "start_time": "2023-04-29T14:40:01.711Z"
   },
   {
    "duration": 0,
    "start_time": "2023-04-29T14:40:01.718Z"
   },
   {
    "duration": 0,
    "start_time": "2023-04-29T14:40:01.720Z"
   },
   {
    "duration": 0,
    "start_time": "2023-04-29T14:40:01.722Z"
   },
   {
    "duration": 0,
    "start_time": "2023-04-29T14:40:01.723Z"
   },
   {
    "duration": 0,
    "start_time": "2023-04-29T14:40:01.725Z"
   },
   {
    "duration": 0,
    "start_time": "2023-04-29T14:40:01.727Z"
   },
   {
    "duration": 0,
    "start_time": "2023-04-29T14:40:01.728Z"
   },
   {
    "duration": 20,
    "start_time": "2023-04-29T14:40:24.415Z"
   },
   {
    "duration": 5,
    "start_time": "2023-04-29T14:40:24.884Z"
   },
   {
    "duration": 3,
    "start_time": "2023-04-29T14:40:26.904Z"
   },
   {
    "duration": 1767,
    "start_time": "2023-04-29T14:40:46.683Z"
   },
   {
    "duration": 90,
    "start_time": "2023-04-29T14:40:48.458Z"
   },
   {
    "duration": 15,
    "start_time": "2023-04-29T14:40:48.553Z"
   },
   {
    "duration": 12,
    "start_time": "2023-04-29T14:40:48.569Z"
   },
   {
    "duration": 6,
    "start_time": "2023-04-29T14:40:48.583Z"
   },
   {
    "duration": 34,
    "start_time": "2023-04-29T14:40:48.596Z"
   },
   {
    "duration": 322,
    "start_time": "2023-04-29T14:40:48.632Z"
   },
   {
    "duration": 229,
    "start_time": "2023-04-29T14:40:48.956Z"
   },
   {
    "duration": 635,
    "start_time": "2023-04-29T14:40:49.187Z"
   },
   {
    "duration": 18,
    "start_time": "2023-04-29T14:40:49.824Z"
   },
   {
    "duration": 16,
    "start_time": "2023-04-29T14:40:49.846Z"
   },
   {
    "duration": 37,
    "start_time": "2023-04-29T14:40:49.864Z"
   },
   {
    "duration": 428,
    "start_time": "2023-04-29T14:40:49.903Z"
   },
   {
    "duration": 1113,
    "start_time": "2023-04-29T14:40:50.336Z"
   },
   {
    "duration": 235,
    "start_time": "2023-04-29T14:40:51.451Z"
   },
   {
    "duration": 270,
    "start_time": "2023-04-29T14:40:51.693Z"
   },
   {
    "duration": 353,
    "start_time": "2023-04-29T14:40:51.965Z"
   },
   {
    "duration": 21,
    "start_time": "2023-04-29T14:40:52.320Z"
   },
   {
    "duration": 191,
    "start_time": "2023-04-29T14:40:52.343Z"
   },
   {
    "duration": 8,
    "start_time": "2023-04-29T14:40:52.536Z"
   },
   {
    "duration": 9,
    "start_time": "2023-04-29T14:40:52.546Z"
   },
   {
    "duration": 5,
    "start_time": "2023-04-29T14:40:52.557Z"
   },
   {
    "duration": 4,
    "start_time": "2023-04-29T14:40:52.564Z"
   },
   {
    "duration": 45,
    "start_time": "2023-04-29T17:25:38.753Z"
   },
   {
    "duration": 1354,
    "start_time": "2023-04-29T17:26:33.755Z"
   },
   {
    "duration": 114,
    "start_time": "2023-04-29T17:26:35.110Z"
   },
   {
    "duration": 11,
    "start_time": "2023-04-29T17:26:35.226Z"
   },
   {
    "duration": 11,
    "start_time": "2023-04-29T17:26:35.239Z"
   },
   {
    "duration": 6,
    "start_time": "2023-04-29T17:26:35.252Z"
   },
   {
    "duration": 17,
    "start_time": "2023-04-29T17:26:35.259Z"
   },
   {
    "duration": 209,
    "start_time": "2023-04-29T17:26:35.278Z"
   },
   {
    "duration": 165,
    "start_time": "2023-04-29T17:26:35.489Z"
   },
   {
    "duration": 481,
    "start_time": "2023-04-29T17:26:35.656Z"
   },
   {
    "duration": 10,
    "start_time": "2023-04-29T17:26:36.139Z"
   },
   {
    "duration": 19,
    "start_time": "2023-04-29T17:26:36.150Z"
   },
   {
    "duration": 13,
    "start_time": "2023-04-29T17:26:36.170Z"
   },
   {
    "duration": 250,
    "start_time": "2023-04-29T17:26:36.185Z"
   },
   {
    "duration": 190,
    "start_time": "2023-04-29T17:26:36.437Z"
   },
   {
    "duration": 221,
    "start_time": "2023-04-29T17:26:36.632Z"
   },
   {
    "duration": 240,
    "start_time": "2023-04-29T17:26:36.854Z"
   },
   {
    "duration": 47,
    "start_time": "2023-04-29T17:26:37.096Z"
   },
   {
    "duration": 53,
    "start_time": "2023-04-29T17:26:37.145Z"
   },
   {
    "duration": 3,
    "start_time": "2023-04-29T17:26:37.200Z"
   },
   {
    "duration": 29,
    "start_time": "2023-04-29T17:26:37.204Z"
   },
   {
    "duration": 6,
    "start_time": "2023-04-29T17:26:37.235Z"
   },
   {
    "duration": 15,
    "start_time": "2023-04-29T17:26:37.242Z"
   },
   {
    "duration": 126,
    "start_time": "2023-04-29T17:26:37.259Z"
   },
   {
    "duration": 0,
    "start_time": "2023-04-29T17:26:37.386Z"
   },
   {
    "duration": 0,
    "start_time": "2023-04-29T17:26:37.387Z"
   },
   {
    "duration": 0,
    "start_time": "2023-04-29T17:26:37.388Z"
   },
   {
    "duration": 0,
    "start_time": "2023-04-29T17:26:37.389Z"
   },
   {
    "duration": 0,
    "start_time": "2023-04-29T17:26:37.390Z"
   },
   {
    "duration": 0,
    "start_time": "2023-04-29T17:26:37.391Z"
   },
   {
    "duration": 0,
    "start_time": "2023-04-29T17:26:37.392Z"
   },
   {
    "duration": 0,
    "start_time": "2023-04-29T17:26:37.393Z"
   },
   {
    "duration": 1459,
    "start_time": "2023-04-29T17:28:28.081Z"
   },
   {
    "duration": 49,
    "start_time": "2023-04-29T17:28:29.543Z"
   },
   {
    "duration": 11,
    "start_time": "2023-04-29T17:28:29.594Z"
   },
   {
    "duration": 14,
    "start_time": "2023-04-29T17:28:29.607Z"
   },
   {
    "duration": 6,
    "start_time": "2023-04-29T17:28:29.623Z"
   },
   {
    "duration": 17,
    "start_time": "2023-04-29T17:28:29.631Z"
   },
   {
    "duration": 206,
    "start_time": "2023-04-29T17:28:29.649Z"
   },
   {
    "duration": 162,
    "start_time": "2023-04-29T17:28:29.857Z"
   },
   {
    "duration": 536,
    "start_time": "2023-04-29T17:28:30.020Z"
   },
   {
    "duration": 15,
    "start_time": "2023-04-29T17:28:30.558Z"
   },
   {
    "duration": 53,
    "start_time": "2023-04-29T17:28:30.575Z"
   },
   {
    "duration": 46,
    "start_time": "2023-04-29T17:28:30.630Z"
   },
   {
    "duration": 318,
    "start_time": "2023-04-29T17:28:30.678Z"
   },
   {
    "duration": 176,
    "start_time": "2023-04-29T17:28:30.998Z"
   },
   {
    "duration": 190,
    "start_time": "2023-04-29T17:28:31.175Z"
   },
   {
    "duration": 325,
    "start_time": "2023-04-29T17:28:31.366Z"
   },
   {
    "duration": 16,
    "start_time": "2023-04-29T17:28:31.692Z"
   },
   {
    "duration": 54,
    "start_time": "2023-04-29T17:28:31.710Z"
   },
   {
    "duration": 4,
    "start_time": "2023-04-29T17:28:31.765Z"
   },
   {
    "duration": 24,
    "start_time": "2023-04-29T17:28:31.770Z"
   },
   {
    "duration": 36,
    "start_time": "2023-04-29T17:28:31.795Z"
   },
   {
    "duration": 35,
    "start_time": "2023-04-29T17:28:31.833Z"
   },
   {
    "duration": 134,
    "start_time": "2023-04-29T17:28:31.869Z"
   },
   {
    "duration": 0,
    "start_time": "2023-04-29T17:28:32.005Z"
   },
   {
    "duration": 0,
    "start_time": "2023-04-29T17:28:32.006Z"
   },
   {
    "duration": 0,
    "start_time": "2023-04-29T17:28:32.007Z"
   },
   {
    "duration": 0,
    "start_time": "2023-04-29T17:28:32.009Z"
   },
   {
    "duration": 0,
    "start_time": "2023-04-29T17:28:32.009Z"
   },
   {
    "duration": 0,
    "start_time": "2023-04-29T17:28:32.010Z"
   },
   {
    "duration": 0,
    "start_time": "2023-04-29T17:28:32.012Z"
   },
   {
    "duration": 0,
    "start_time": "2023-04-29T17:28:32.013Z"
   },
   {
    "duration": 10,
    "start_time": "2023-04-29T17:29:05.753Z"
   },
   {
    "duration": 11,
    "start_time": "2023-04-29T17:29:28.073Z"
   },
   {
    "duration": 11,
    "start_time": "2023-04-29T17:31:00.315Z"
   },
   {
    "duration": 16,
    "start_time": "2023-04-29T17:31:11.422Z"
   },
   {
    "duration": 16,
    "start_time": "2023-04-29T17:31:15.133Z"
   },
   {
    "duration": 10,
    "start_time": "2023-04-29T17:32:01.382Z"
   },
   {
    "duration": 9,
    "start_time": "2023-04-29T17:32:25.915Z"
   },
   {
    "duration": 21,
    "start_time": "2023-04-29T17:32:34.032Z"
   },
   {
    "duration": 17,
    "start_time": "2023-04-29T17:32:51.365Z"
   },
   {
    "duration": 10,
    "start_time": "2023-04-29T17:36:20.952Z"
   },
   {
    "duration": 14,
    "start_time": "2023-04-29T17:39:23.684Z"
   },
   {
    "duration": 13,
    "start_time": "2023-04-29T17:40:23.330Z"
   },
   {
    "duration": 11,
    "start_time": "2023-04-29T17:40:55.786Z"
   },
   {
    "duration": 11,
    "start_time": "2023-04-29T17:42:22.793Z"
   },
   {
    "duration": 10,
    "start_time": "2023-04-29T17:42:38.532Z"
   },
   {
    "duration": 21,
    "start_time": "2023-04-29T17:43:00.654Z"
   },
   {
    "duration": 15,
    "start_time": "2023-04-29T17:43:21.018Z"
   },
   {
    "duration": 147,
    "start_time": "2023-04-29T17:43:29.644Z"
   },
   {
    "duration": 160,
    "start_time": "2023-04-29T17:43:55.542Z"
   },
   {
    "duration": 13,
    "start_time": "2023-04-29T17:44:44.620Z"
   },
   {
    "duration": 1431,
    "start_time": "2023-04-29T17:45:14.229Z"
   },
   {
    "duration": 54,
    "start_time": "2023-04-29T17:45:15.661Z"
   },
   {
    "duration": 16,
    "start_time": "2023-04-29T17:45:15.717Z"
   },
   {
    "duration": 16,
    "start_time": "2023-04-29T17:45:15.736Z"
   },
   {
    "duration": 6,
    "start_time": "2023-04-29T17:45:15.754Z"
   },
   {
    "duration": 26,
    "start_time": "2023-04-29T17:45:15.761Z"
   },
   {
    "duration": 226,
    "start_time": "2023-04-29T17:45:15.789Z"
   },
   {
    "duration": 156,
    "start_time": "2023-04-29T17:45:16.017Z"
   },
   {
    "duration": 586,
    "start_time": "2023-04-29T17:45:16.175Z"
   },
   {
    "duration": 14,
    "start_time": "2023-04-29T17:45:16.766Z"
   },
   {
    "duration": 38,
    "start_time": "2023-04-29T17:45:16.782Z"
   },
   {
    "duration": 20,
    "start_time": "2023-04-29T17:45:16.822Z"
   },
   {
    "duration": 279,
    "start_time": "2023-04-29T17:45:16.843Z"
   },
   {
    "duration": 188,
    "start_time": "2023-04-29T17:45:17.124Z"
   },
   {
    "duration": 213,
    "start_time": "2023-04-29T17:45:17.314Z"
   },
   {
    "duration": 268,
    "start_time": "2023-04-29T17:45:17.530Z"
   },
   {
    "duration": 15,
    "start_time": "2023-04-29T17:45:17.800Z"
   },
   {
    "duration": 55,
    "start_time": "2023-04-29T17:45:17.817Z"
   },
   {
    "duration": 3,
    "start_time": "2023-04-29T17:45:17.874Z"
   },
   {
    "duration": 11,
    "start_time": "2023-04-29T17:45:17.879Z"
   },
   {
    "duration": 11,
    "start_time": "2023-04-29T17:45:17.892Z"
   },
   {
    "duration": 9,
    "start_time": "2023-04-29T17:45:17.905Z"
   },
   {
    "duration": 186,
    "start_time": "2023-04-29T17:45:17.916Z"
   },
   {
    "duration": 389,
    "start_time": "2023-04-29T17:45:18.104Z"
   },
   {
    "duration": 131,
    "start_time": "2023-04-29T17:45:18.494Z"
   },
   {
    "duration": 1,
    "start_time": "2023-04-29T17:45:18.627Z"
   },
   {
    "duration": 0,
    "start_time": "2023-04-29T17:45:18.633Z"
   },
   {
    "duration": 0,
    "start_time": "2023-04-29T17:45:18.634Z"
   },
   {
    "duration": 0,
    "start_time": "2023-04-29T17:45:18.636Z"
   },
   {
    "duration": 0,
    "start_time": "2023-04-29T17:45:18.637Z"
   },
   {
    "duration": 0,
    "start_time": "2023-04-29T17:45:18.638Z"
   },
   {
    "duration": 19,
    "start_time": "2023-04-29T17:46:38.080Z"
   },
   {
    "duration": 4073,
    "start_time": "2023-04-29T17:46:38.390Z"
   },
   {
    "duration": 11,
    "start_time": "2023-04-29T17:46:53.603Z"
   },
   {
    "duration": 8,
    "start_time": "2023-04-29T17:46:57.718Z"
   },
   {
    "duration": 2771,
    "start_time": "2023-04-29T17:47:02.999Z"
   },
   {
    "duration": 12,
    "start_time": "2023-04-29T17:51:40.506Z"
   },
   {
    "duration": 1639,
    "start_time": "2023-04-29T17:51:58.160Z"
   },
   {
    "duration": 52,
    "start_time": "2023-04-29T17:51:59.801Z"
   },
   {
    "duration": 10,
    "start_time": "2023-04-29T17:51:59.855Z"
   },
   {
    "duration": 11,
    "start_time": "2023-04-29T17:51:59.867Z"
   },
   {
    "duration": 6,
    "start_time": "2023-04-29T17:51:59.880Z"
   },
   {
    "duration": 15,
    "start_time": "2023-04-29T17:51:59.887Z"
   },
   {
    "duration": 245,
    "start_time": "2023-04-29T17:51:59.903Z"
   },
   {
    "duration": 159,
    "start_time": "2023-04-29T17:52:00.150Z"
   },
   {
    "duration": 563,
    "start_time": "2023-04-29T17:52:00.311Z"
   },
   {
    "duration": 12,
    "start_time": "2023-04-29T17:52:00.875Z"
   },
   {
    "duration": 33,
    "start_time": "2023-04-29T17:52:00.888Z"
   },
   {
    "duration": 31,
    "start_time": "2023-04-29T17:52:00.922Z"
   },
   {
    "duration": 295,
    "start_time": "2023-04-29T17:52:00.954Z"
   },
   {
    "duration": 179,
    "start_time": "2023-04-29T17:52:01.252Z"
   },
   {
    "duration": 191,
    "start_time": "2023-04-29T17:52:01.434Z"
   },
   {
    "duration": 270,
    "start_time": "2023-04-29T17:52:01.627Z"
   },
   {
    "duration": 15,
    "start_time": "2023-04-29T17:52:01.899Z"
   },
   {
    "duration": 60,
    "start_time": "2023-04-29T17:52:01.915Z"
   },
   {
    "duration": 19,
    "start_time": "2023-04-29T17:52:01.976Z"
   },
   {
    "duration": 65,
    "start_time": "2023-04-29T17:52:01.996Z"
   },
   {
    "duration": 37,
    "start_time": "2023-04-29T17:52:02.062Z"
   },
   {
    "duration": 18,
    "start_time": "2023-04-29T17:52:02.101Z"
   },
   {
    "duration": 171,
    "start_time": "2023-04-29T17:52:02.121Z"
   },
   {
    "duration": 118,
    "start_time": "2023-04-29T17:52:02.294Z"
   },
   {
    "duration": 0,
    "start_time": "2023-04-29T17:52:02.413Z"
   },
   {
    "duration": 0,
    "start_time": "2023-04-29T17:52:02.414Z"
   },
   {
    "duration": 0,
    "start_time": "2023-04-29T17:52:02.415Z"
   },
   {
    "duration": 0,
    "start_time": "2023-04-29T17:52:02.417Z"
   },
   {
    "duration": 0,
    "start_time": "2023-04-29T17:52:02.418Z"
   },
   {
    "duration": 79,
    "start_time": "2023-04-29T17:52:24.580Z"
   },
   {
    "duration": 67,
    "start_time": "2023-04-29T17:52:42.945Z"
   },
   {
    "duration": 188,
    "start_time": "2023-04-29T17:54:02.258Z"
   },
   {
    "duration": 173,
    "start_time": "2023-04-29T17:54:23.881Z"
   },
   {
    "duration": 16,
    "start_time": "2023-04-29T17:55:03.329Z"
   },
   {
    "duration": 1667,
    "start_time": "2023-04-29T17:55:23.073Z"
   },
   {
    "duration": 55,
    "start_time": "2023-04-29T17:55:24.747Z"
   },
   {
    "duration": 12,
    "start_time": "2023-04-29T17:55:24.804Z"
   },
   {
    "duration": 20,
    "start_time": "2023-04-29T17:55:24.817Z"
   },
   {
    "duration": 25,
    "start_time": "2023-04-29T17:55:24.839Z"
   },
   {
    "duration": 22,
    "start_time": "2023-04-29T17:55:24.866Z"
   },
   {
    "duration": 251,
    "start_time": "2023-04-29T17:55:24.889Z"
   },
   {
    "duration": 160,
    "start_time": "2023-04-29T17:55:25.150Z"
   },
   {
    "duration": 563,
    "start_time": "2023-04-29T17:55:25.312Z"
   },
   {
    "duration": 13,
    "start_time": "2023-04-29T17:55:25.877Z"
   },
   {
    "duration": 19,
    "start_time": "2023-04-29T17:55:25.891Z"
   },
   {
    "duration": 10,
    "start_time": "2023-04-29T17:55:25.913Z"
   },
   {
    "duration": 303,
    "start_time": "2023-04-29T17:55:25.925Z"
   },
   {
    "duration": 192,
    "start_time": "2023-04-29T17:55:26.234Z"
   },
   {
    "duration": 202,
    "start_time": "2023-04-29T17:55:26.427Z"
   },
   {
    "duration": 275,
    "start_time": "2023-04-29T17:55:26.634Z"
   },
   {
    "duration": 50,
    "start_time": "2023-04-29T17:55:26.911Z"
   },
   {
    "duration": 72,
    "start_time": "2023-04-29T17:55:26.970Z"
   },
   {
    "duration": 9,
    "start_time": "2023-04-29T17:55:27.046Z"
   },
   {
    "duration": 29,
    "start_time": "2023-04-29T17:55:27.058Z"
   },
   {
    "duration": 19,
    "start_time": "2023-04-29T17:55:27.088Z"
   },
   {
    "duration": 6,
    "start_time": "2023-04-29T17:55:27.109Z"
   },
   {
    "duration": 164,
    "start_time": "2023-04-29T17:55:27.116Z"
   },
   {
    "duration": 179,
    "start_time": "2023-04-29T17:55:27.281Z"
   },
   {
    "duration": 2245,
    "start_time": "2023-04-29T17:55:27.462Z"
   },
   {
    "duration": 8,
    "start_time": "2023-04-29T17:55:29.708Z"
   },
   {
    "duration": 3230,
    "start_time": "2023-04-29T17:55:29.718Z"
   },
   {
    "duration": 134,
    "start_time": "2023-04-29T17:55:32.952Z"
   },
   {
    "duration": 1,
    "start_time": "2023-04-29T17:55:33.087Z"
   },
   {
    "duration": 0,
    "start_time": "2023-04-29T17:55:33.089Z"
   },
   {
    "duration": 27,
    "start_time": "2023-04-29T17:56:15.465Z"
   },
   {
    "duration": 20,
    "start_time": "2023-04-29T17:56:23.582Z"
   },
   {
    "duration": 19,
    "start_time": "2023-04-29T17:56:47.892Z"
   },
   {
    "duration": 34,
    "start_time": "2023-04-29T17:57:12.229Z"
   },
   {
    "duration": 18,
    "start_time": "2023-04-29T17:57:16.064Z"
   },
   {
    "duration": 17,
    "start_time": "2023-04-29T17:57:21.989Z"
   },
   {
    "duration": 1505,
    "start_time": "2023-04-29T17:57:37.306Z"
   },
   {
    "duration": 67,
    "start_time": "2023-04-29T17:57:38.813Z"
   },
   {
    "duration": 11,
    "start_time": "2023-04-29T17:57:38.881Z"
   },
   {
    "duration": 9,
    "start_time": "2023-04-29T17:57:38.893Z"
   },
   {
    "duration": 4,
    "start_time": "2023-04-29T17:57:38.903Z"
   },
   {
    "duration": 13,
    "start_time": "2023-04-29T17:57:38.909Z"
   },
   {
    "duration": 224,
    "start_time": "2023-04-29T17:57:38.924Z"
   },
   {
    "duration": 159,
    "start_time": "2023-04-29T17:57:39.154Z"
   },
   {
    "duration": 552,
    "start_time": "2023-04-29T17:57:39.315Z"
   },
   {
    "duration": 14,
    "start_time": "2023-04-29T17:57:39.871Z"
   },
   {
    "duration": 12,
    "start_time": "2023-04-29T17:57:39.886Z"
   },
   {
    "duration": 7,
    "start_time": "2023-04-29T17:57:39.900Z"
   },
   {
    "duration": 305,
    "start_time": "2023-04-29T17:57:39.909Z"
   },
   {
    "duration": 195,
    "start_time": "2023-04-29T17:57:40.216Z"
   },
   {
    "duration": 204,
    "start_time": "2023-04-29T17:57:40.412Z"
   },
   {
    "duration": 278,
    "start_time": "2023-04-29T17:57:40.617Z"
   },
   {
    "duration": 16,
    "start_time": "2023-04-29T17:57:40.896Z"
   },
   {
    "duration": 67,
    "start_time": "2023-04-29T17:57:40.913Z"
   },
   {
    "duration": 3,
    "start_time": "2023-04-29T17:57:40.982Z"
   },
   {
    "duration": 14,
    "start_time": "2023-04-29T17:57:40.987Z"
   },
   {
    "duration": 7,
    "start_time": "2023-04-29T17:57:41.002Z"
   },
   {
    "duration": 16,
    "start_time": "2023-04-29T17:57:41.010Z"
   },
   {
    "duration": 186,
    "start_time": "2023-04-29T17:57:41.027Z"
   },
   {
    "duration": 0,
    "start_time": "2023-04-29T17:57:41.214Z"
   },
   {
    "duration": 0,
    "start_time": "2023-04-29T17:57:41.215Z"
   },
   {
    "duration": 0,
    "start_time": "2023-04-29T17:57:41.216Z"
   },
   {
    "duration": 0,
    "start_time": "2023-04-29T17:57:41.217Z"
   },
   {
    "duration": 0,
    "start_time": "2023-04-29T17:57:41.218Z"
   },
   {
    "duration": 0,
    "start_time": "2023-04-29T17:57:41.219Z"
   },
   {
    "duration": 0,
    "start_time": "2023-04-29T17:57:41.220Z"
   },
   {
    "duration": 24,
    "start_time": "2023-04-29T17:59:11.949Z"
   },
   {
    "duration": 1545,
    "start_time": "2023-04-29T18:00:24.254Z"
   },
   {
    "duration": 60,
    "start_time": "2023-04-29T18:00:25.801Z"
   },
   {
    "duration": 11,
    "start_time": "2023-04-29T18:00:25.866Z"
   },
   {
    "duration": 23,
    "start_time": "2023-04-29T18:00:25.879Z"
   },
   {
    "duration": 6,
    "start_time": "2023-04-29T18:00:25.904Z"
   },
   {
    "duration": 15,
    "start_time": "2023-04-29T18:00:25.911Z"
   },
   {
    "duration": 256,
    "start_time": "2023-04-29T18:00:25.927Z"
   },
   {
    "duration": 185,
    "start_time": "2023-04-29T18:00:26.185Z"
   },
   {
    "duration": 593,
    "start_time": "2023-04-29T18:00:26.371Z"
   },
   {
    "duration": 12,
    "start_time": "2023-04-29T18:00:26.965Z"
   },
   {
    "duration": 13,
    "start_time": "2023-04-29T18:00:26.978Z"
   },
   {
    "duration": 8,
    "start_time": "2023-04-29T18:00:26.992Z"
   },
   {
    "duration": 290,
    "start_time": "2023-04-29T18:00:27.001Z"
   },
   {
    "duration": 207,
    "start_time": "2023-04-29T18:00:27.293Z"
   },
   {
    "duration": 243,
    "start_time": "2023-04-29T18:00:27.502Z"
   },
   {
    "duration": 370,
    "start_time": "2023-04-29T18:00:27.747Z"
   },
   {
    "duration": 27,
    "start_time": "2023-04-29T18:00:28.119Z"
   },
   {
    "duration": 62,
    "start_time": "2023-04-29T18:00:28.148Z"
   },
   {
    "duration": 4,
    "start_time": "2023-04-29T18:00:28.211Z"
   },
   {
    "duration": 11,
    "start_time": "2023-04-29T18:00:28.216Z"
   },
   {
    "duration": 22,
    "start_time": "2023-04-29T18:00:28.229Z"
   },
   {
    "duration": 17,
    "start_time": "2023-04-29T18:00:28.253Z"
   },
   {
    "duration": 11,
    "start_time": "2023-04-29T18:00:28.272Z"
   },
   {
    "duration": 140,
    "start_time": "2023-04-29T18:00:28.285Z"
   },
   {
    "duration": 0,
    "start_time": "2023-04-29T18:00:28.427Z"
   },
   {
    "duration": 0,
    "start_time": "2023-04-29T18:00:28.429Z"
   },
   {
    "duration": 0,
    "start_time": "2023-04-29T18:00:28.436Z"
   },
   {
    "duration": 0,
    "start_time": "2023-04-29T18:00:28.437Z"
   },
   {
    "duration": 0,
    "start_time": "2023-04-29T18:00:28.441Z"
   },
   {
    "duration": 0,
    "start_time": "2023-04-29T18:00:28.443Z"
   },
   {
    "duration": 0,
    "start_time": "2023-04-29T18:00:28.444Z"
   },
   {
    "duration": 160,
    "start_time": "2023-04-29T18:01:13.414Z"
   },
   {
    "duration": 18,
    "start_time": "2023-04-29T18:01:31.084Z"
   },
   {
    "duration": 76,
    "start_time": "2023-04-29T18:01:47.881Z"
   },
   {
    "duration": 75,
    "start_time": "2023-04-29T18:02:13.893Z"
   },
   {
    "duration": 75,
    "start_time": "2023-04-29T18:02:21.479Z"
   },
   {
    "duration": 85,
    "start_time": "2023-04-29T18:02:27.551Z"
   },
   {
    "duration": 22,
    "start_time": "2023-04-29T18:03:06.582Z"
   },
   {
    "duration": 10,
    "start_time": "2023-04-29T18:03:19.032Z"
   },
   {
    "duration": 11,
    "start_time": "2023-04-29T18:03:28.178Z"
   },
   {
    "duration": 18,
    "start_time": "2023-04-29T18:03:51.805Z"
   },
   {
    "duration": 16,
    "start_time": "2023-04-29T18:04:09.115Z"
   },
   {
    "duration": 17,
    "start_time": "2023-04-29T18:04:39.422Z"
   },
   {
    "duration": 1703,
    "start_time": "2023-04-30T07:53:49.882Z"
   },
   {
    "duration": 123,
    "start_time": "2023-04-30T07:53:51.588Z"
   },
   {
    "duration": 14,
    "start_time": "2023-04-30T07:53:51.713Z"
   },
   {
    "duration": 13,
    "start_time": "2023-04-30T07:53:51.728Z"
   },
   {
    "duration": 12,
    "start_time": "2023-04-30T07:53:51.743Z"
   },
   {
    "duration": 17,
    "start_time": "2023-04-30T07:53:51.757Z"
   },
   {
    "duration": 257,
    "start_time": "2023-04-30T07:53:51.776Z"
   },
   {
    "duration": 207,
    "start_time": "2023-04-30T07:53:52.036Z"
   },
   {
    "duration": 578,
    "start_time": "2023-04-30T07:53:52.245Z"
   },
   {
    "duration": 15,
    "start_time": "2023-04-30T07:53:52.825Z"
   },
   {
    "duration": 12,
    "start_time": "2023-04-30T07:53:52.842Z"
   },
   {
    "duration": 12,
    "start_time": "2023-04-30T07:53:52.856Z"
   },
   {
    "duration": 310,
    "start_time": "2023-04-30T07:53:52.869Z"
   },
   {
    "duration": 221,
    "start_time": "2023-04-30T07:53:53.184Z"
   },
   {
    "duration": 253,
    "start_time": "2023-04-30T07:53:53.407Z"
   },
   {
    "duration": 387,
    "start_time": "2023-04-30T07:53:53.663Z"
   },
   {
    "duration": 18,
    "start_time": "2023-04-30T07:53:54.053Z"
   },
   {
    "duration": 66,
    "start_time": "2023-04-30T07:53:54.074Z"
   },
   {
    "duration": 4,
    "start_time": "2023-04-30T07:53:54.142Z"
   },
   {
    "duration": 18,
    "start_time": "2023-04-30T07:53:54.148Z"
   },
   {
    "duration": 7,
    "start_time": "2023-04-30T07:53:54.168Z"
   },
   {
    "duration": 5,
    "start_time": "2023-04-30T07:53:54.177Z"
   },
   {
    "duration": 4,
    "start_time": "2023-04-30T07:53:54.184Z"
   },
   {
    "duration": 52,
    "start_time": "2023-04-30T07:53:54.189Z"
   },
   {
    "duration": 0,
    "start_time": "2023-04-30T07:53:54.243Z"
   },
   {
    "duration": 0,
    "start_time": "2023-04-30T07:53:54.244Z"
   },
   {
    "duration": 0,
    "start_time": "2023-04-30T07:53:54.245Z"
   },
   {
    "duration": 0,
    "start_time": "2023-04-30T07:53:54.246Z"
   },
   {
    "duration": 0,
    "start_time": "2023-04-30T07:53:54.247Z"
   },
   {
    "duration": 0,
    "start_time": "2023-04-30T07:53:54.248Z"
   },
   {
    "duration": 0,
    "start_time": "2023-04-30T07:53:54.250Z"
   },
   {
    "duration": 135,
    "start_time": "2023-04-30T07:54:57.034Z"
   },
   {
    "duration": 22,
    "start_time": "2023-04-30T07:55:44.328Z"
   },
   {
    "duration": 1617,
    "start_time": "2023-04-30T07:55:53.984Z"
   },
   {
    "duration": 59,
    "start_time": "2023-04-30T07:55:55.604Z"
   },
   {
    "duration": 16,
    "start_time": "2023-04-30T07:55:55.665Z"
   },
   {
    "duration": 17,
    "start_time": "2023-04-30T07:55:55.684Z"
   },
   {
    "duration": 7,
    "start_time": "2023-04-30T07:55:55.705Z"
   },
   {
    "duration": 17,
    "start_time": "2023-04-30T07:55:55.735Z"
   },
   {
    "duration": 282,
    "start_time": "2023-04-30T07:55:55.754Z"
   },
   {
    "duration": 208,
    "start_time": "2023-04-30T07:55:56.039Z"
   },
   {
    "duration": 668,
    "start_time": "2023-04-30T07:55:56.249Z"
   },
   {
    "duration": 22,
    "start_time": "2023-04-30T07:55:56.920Z"
   },
   {
    "duration": 15,
    "start_time": "2023-04-30T07:55:56.944Z"
   },
   {
    "duration": 10,
    "start_time": "2023-04-30T07:55:56.961Z"
   },
   {
    "duration": 324,
    "start_time": "2023-04-30T07:55:56.973Z"
   },
   {
    "duration": 228,
    "start_time": "2023-04-30T07:55:57.300Z"
   },
   {
    "duration": 260,
    "start_time": "2023-04-30T07:55:57.534Z"
   },
   {
    "duration": 307,
    "start_time": "2023-04-30T07:55:57.796Z"
   },
   {
    "duration": 28,
    "start_time": "2023-04-30T07:55:58.105Z"
   },
   {
    "duration": 57,
    "start_time": "2023-04-30T07:55:58.136Z"
   },
   {
    "duration": 4,
    "start_time": "2023-04-30T07:55:58.195Z"
   },
   {
    "duration": 10,
    "start_time": "2023-04-30T07:55:58.201Z"
   },
   {
    "duration": 134,
    "start_time": "2023-04-30T07:55:58.234Z"
   },
   {
    "duration": 0,
    "start_time": "2023-04-30T07:55:58.370Z"
   },
   {
    "duration": 0,
    "start_time": "2023-04-30T07:55:58.371Z"
   },
   {
    "duration": 0,
    "start_time": "2023-04-30T07:55:58.372Z"
   },
   {
    "duration": 0,
    "start_time": "2023-04-30T07:55:58.373Z"
   },
   {
    "duration": 0,
    "start_time": "2023-04-30T07:55:58.375Z"
   },
   {
    "duration": 0,
    "start_time": "2023-04-30T07:55:58.375Z"
   },
   {
    "duration": 0,
    "start_time": "2023-04-30T07:55:58.377Z"
   },
   {
    "duration": 0,
    "start_time": "2023-04-30T07:55:58.378Z"
   },
   {
    "duration": 0,
    "start_time": "2023-04-30T07:55:58.379Z"
   },
   {
    "duration": 5,
    "start_time": "2023-04-30T07:56:04.128Z"
   },
   {
    "duration": 4,
    "start_time": "2023-04-30T07:56:06.369Z"
   },
   {
    "duration": 23,
    "start_time": "2023-04-30T07:56:07.630Z"
   },
   {
    "duration": 17,
    "start_time": "2023-04-30T07:57:02.229Z"
   },
   {
    "duration": 6,
    "start_time": "2023-04-30T07:57:33.426Z"
   },
   {
    "duration": 23,
    "start_time": "2023-04-30T07:57:37.024Z"
   },
   {
    "duration": 24,
    "start_time": "2023-04-30T07:58:03.718Z"
   },
   {
    "duration": 6,
    "start_time": "2023-04-30T07:58:08.622Z"
   },
   {
    "duration": 7,
    "start_time": "2023-04-30T07:58:20.983Z"
   },
   {
    "duration": 22,
    "start_time": "2023-04-30T07:58:26.128Z"
   },
   {
    "duration": 22,
    "start_time": "2023-04-30T07:58:49.681Z"
   },
   {
    "duration": 13,
    "start_time": "2023-04-30T08:00:56.726Z"
   },
   {
    "duration": 24,
    "start_time": "2023-04-30T08:01:34.549Z"
   },
   {
    "duration": 2244,
    "start_time": "2023-04-30T08:01:34.990Z"
   },
   {
    "duration": 4,
    "start_time": "2023-04-30T08:01:50.153Z"
   },
   {
    "duration": 60,
    "start_time": "2023-04-30T08:07:45.402Z"
   },
   {
    "duration": 61,
    "start_time": "2023-04-30T08:08:07.045Z"
   },
   {
    "duration": 3,
    "start_time": "2023-04-30T08:08:14.417Z"
   },
   {
    "duration": 140,
    "start_time": "2023-04-30T08:08:17.409Z"
   },
   {
    "duration": 76,
    "start_time": "2023-04-30T08:08:20.006Z"
   },
   {
    "duration": 235,
    "start_time": "2023-04-30T08:08:24.407Z"
   },
   {
    "duration": 5,
    "start_time": "2023-04-30T08:08:32.311Z"
   },
   {
    "duration": 4,
    "start_time": "2023-04-30T08:12:10.926Z"
   },
   {
    "duration": 57,
    "start_time": "2023-04-30T08:12:21.941Z"
   },
   {
    "duration": 5,
    "start_time": "2023-04-30T08:12:39.621Z"
   },
   {
    "duration": 1381,
    "start_time": "2023-04-30T08:12:48.280Z"
   },
   {
    "duration": 49,
    "start_time": "2023-04-30T08:12:49.663Z"
   },
   {
    "duration": 11,
    "start_time": "2023-04-30T08:12:49.714Z"
   },
   {
    "duration": 14,
    "start_time": "2023-04-30T08:12:49.727Z"
   },
   {
    "duration": 8,
    "start_time": "2023-04-30T08:12:49.743Z"
   },
   {
    "duration": 26,
    "start_time": "2023-04-30T08:12:49.752Z"
   },
   {
    "duration": 222,
    "start_time": "2023-04-30T08:12:49.780Z"
   },
   {
    "duration": 190,
    "start_time": "2023-04-30T08:12:50.004Z"
   },
   {
    "duration": 514,
    "start_time": "2023-04-30T08:12:50.196Z"
   },
   {
    "duration": 26,
    "start_time": "2023-04-30T08:12:50.712Z"
   },
   {
    "duration": 11,
    "start_time": "2023-04-30T08:12:50.740Z"
   },
   {
    "duration": 10,
    "start_time": "2023-04-30T08:12:50.752Z"
   },
   {
    "duration": 273,
    "start_time": "2023-04-30T08:12:50.763Z"
   },
   {
    "duration": 203,
    "start_time": "2023-04-30T08:12:51.039Z"
   },
   {
    "duration": 224,
    "start_time": "2023-04-30T08:12:51.245Z"
   },
   {
    "duration": 314,
    "start_time": "2023-04-30T08:12:51.471Z"
   },
   {
    "duration": 26,
    "start_time": "2023-04-30T08:12:51.787Z"
   },
   {
    "duration": 24219,
    "start_time": "2023-04-30T08:12:51.814Z"
   },
   {
    "duration": 5,
    "start_time": "2023-04-30T08:13:16.036Z"
   },
   {
    "duration": 100,
    "start_time": "2023-04-30T08:13:16.043Z"
   },
   {
    "duration": 16,
    "start_time": "2023-04-30T08:13:16.144Z"
   },
   {
    "duration": 23,
    "start_time": "2023-04-30T08:13:16.161Z"
   },
   {
    "duration": 5,
    "start_time": "2023-04-30T08:13:16.185Z"
   },
   {
    "duration": 7,
    "start_time": "2023-04-30T08:13:16.192Z"
   },
   {
    "duration": 37,
    "start_time": "2023-04-30T08:13:16.200Z"
   },
   {
    "duration": 6,
    "start_time": "2023-04-30T08:13:16.239Z"
   },
   {
    "duration": 7,
    "start_time": "2023-04-30T08:13:16.246Z"
   },
   {
    "duration": 136,
    "start_time": "2023-04-30T08:13:16.254Z"
   },
   {
    "duration": 0,
    "start_time": "2023-04-30T08:13:16.391Z"
   },
   {
    "duration": 0,
    "start_time": "2023-04-30T08:13:16.392Z"
   },
   {
    "duration": 0,
    "start_time": "2023-04-30T08:13:16.393Z"
   },
   {
    "duration": 0,
    "start_time": "2023-04-30T08:13:16.394Z"
   },
   {
    "duration": 0,
    "start_time": "2023-04-30T08:13:16.394Z"
   },
   {
    "duration": 0,
    "start_time": "2023-04-30T08:13:16.395Z"
   },
   {
    "duration": 0,
    "start_time": "2023-04-30T08:13:16.396Z"
   },
   {
    "duration": 0,
    "start_time": "2023-04-30T08:13:16.397Z"
   },
   {
    "duration": 11,
    "start_time": "2023-04-30T08:38:39.798Z"
   },
   {
    "duration": 23,
    "start_time": "2023-04-30T08:39:15.895Z"
   },
   {
    "duration": 1504,
    "start_time": "2023-04-30T08:39:23.806Z"
   },
   {
    "duration": 59,
    "start_time": "2023-04-30T08:39:25.312Z"
   },
   {
    "duration": 13,
    "start_time": "2023-04-30T08:39:25.372Z"
   },
   {
    "duration": 14,
    "start_time": "2023-04-30T08:39:25.386Z"
   },
   {
    "duration": 8,
    "start_time": "2023-04-30T08:39:25.402Z"
   },
   {
    "duration": 35,
    "start_time": "2023-04-30T08:39:25.412Z"
   },
   {
    "duration": 236,
    "start_time": "2023-04-30T08:39:25.448Z"
   },
   {
    "duration": 184,
    "start_time": "2023-04-30T08:39:25.685Z"
   },
   {
    "duration": 514,
    "start_time": "2023-04-30T08:39:25.871Z"
   },
   {
    "duration": 11,
    "start_time": "2023-04-30T08:39:26.387Z"
   },
   {
    "duration": 17,
    "start_time": "2023-04-30T08:39:26.400Z"
   },
   {
    "duration": 30,
    "start_time": "2023-04-30T08:39:26.418Z"
   },
   {
    "duration": 313,
    "start_time": "2023-04-30T08:39:26.451Z"
   },
   {
    "duration": 251,
    "start_time": "2023-04-30T08:39:26.768Z"
   },
   {
    "duration": 233,
    "start_time": "2023-04-30T08:39:27.020Z"
   },
   {
    "duration": 239,
    "start_time": "2023-04-30T08:39:27.256Z"
   },
   {
    "duration": 28,
    "start_time": "2023-04-30T08:39:27.533Z"
   },
   {
    "duration": 30175,
    "start_time": "2023-04-30T08:39:27.563Z"
   },
   {
    "duration": 10,
    "start_time": "2023-04-30T08:39:57.740Z"
   },
   {
    "duration": 109,
    "start_time": "2023-04-30T08:39:57.752Z"
   },
   {
    "duration": 23,
    "start_time": "2023-04-30T08:39:57.862Z"
   },
   {
    "duration": 4,
    "start_time": "2023-04-30T08:39:57.887Z"
   },
   {
    "duration": 8,
    "start_time": "2023-04-30T08:39:57.893Z"
   },
   {
    "duration": 44,
    "start_time": "2023-04-30T08:39:57.902Z"
   },
   {
    "duration": 4,
    "start_time": "2023-04-30T08:39:57.947Z"
   },
   {
    "duration": 12,
    "start_time": "2023-04-30T08:39:57.953Z"
   },
   {
    "duration": 136,
    "start_time": "2023-04-30T08:39:57.967Z"
   },
   {
    "duration": 0,
    "start_time": "2023-04-30T08:39:58.106Z"
   },
   {
    "duration": 0,
    "start_time": "2023-04-30T08:39:58.107Z"
   },
   {
    "duration": 0,
    "start_time": "2023-04-30T08:39:58.109Z"
   },
   {
    "duration": 0,
    "start_time": "2023-04-30T08:39:58.110Z"
   },
   {
    "duration": 0,
    "start_time": "2023-04-30T08:39:58.111Z"
   },
   {
    "duration": 0,
    "start_time": "2023-04-30T08:39:58.112Z"
   },
   {
    "duration": 0,
    "start_time": "2023-04-30T08:39:58.113Z"
   },
   {
    "duration": 0,
    "start_time": "2023-04-30T08:39:58.115Z"
   },
   {
    "duration": 33,
    "start_time": "2023-04-30T08:40:36.535Z"
   },
   {
    "duration": 6,
    "start_time": "2023-04-30T08:41:25.501Z"
   },
   {
    "duration": 35,
    "start_time": "2023-04-30T08:41:26.418Z"
   },
   {
    "duration": 1636,
    "start_time": "2023-04-30T08:41:30.571Z"
   },
   {
    "duration": 61,
    "start_time": "2023-04-30T08:41:32.209Z"
   },
   {
    "duration": 11,
    "start_time": "2023-04-30T08:41:32.272Z"
   },
   {
    "duration": 35,
    "start_time": "2023-04-30T08:41:32.285Z"
   },
   {
    "duration": 50,
    "start_time": "2023-04-30T08:41:32.321Z"
   },
   {
    "duration": 23,
    "start_time": "2023-04-30T08:41:32.373Z"
   },
   {
    "duration": 253,
    "start_time": "2023-04-30T08:41:32.398Z"
   },
   {
    "duration": 179,
    "start_time": "2023-04-30T08:41:32.659Z"
   },
   {
    "duration": 562,
    "start_time": "2023-04-30T08:41:32.846Z"
   },
   {
    "duration": 10,
    "start_time": "2023-04-30T08:41:33.411Z"
   },
   {
    "duration": 32,
    "start_time": "2023-04-30T08:41:33.423Z"
   },
   {
    "duration": 15,
    "start_time": "2023-04-30T08:41:33.459Z"
   },
   {
    "duration": 286,
    "start_time": "2023-04-30T08:41:33.476Z"
   },
   {
    "duration": 208,
    "start_time": "2023-04-30T08:41:33.764Z"
   },
   {
    "duration": 276,
    "start_time": "2023-04-30T08:41:33.974Z"
   },
   {
    "duration": 310,
    "start_time": "2023-04-30T08:41:34.254Z"
   },
   {
    "duration": 22,
    "start_time": "2023-04-30T08:41:34.566Z"
   },
   {
    "duration": 41572,
    "start_time": "2023-04-30T08:41:34.589Z"
   },
   {
    "duration": 78,
    "start_time": "2023-04-30T08:42:16.163Z"
   },
   {
    "duration": 128,
    "start_time": "2023-04-30T08:42:16.246Z"
   },
   {
    "duration": 21,
    "start_time": "2023-04-30T08:42:16.376Z"
   },
   {
    "duration": 4,
    "start_time": "2023-04-30T08:42:16.398Z"
   },
   {
    "duration": 7,
    "start_time": "2023-04-30T08:42:16.404Z"
   },
   {
    "duration": 20,
    "start_time": "2023-04-30T08:42:16.412Z"
   },
   {
    "duration": 47,
    "start_time": "2023-04-30T08:42:16.434Z"
   },
   {
    "duration": 10,
    "start_time": "2023-04-30T08:42:16.483Z"
   },
   {
    "duration": 6,
    "start_time": "2023-04-30T08:42:16.494Z"
   },
   {
    "duration": 187,
    "start_time": "2023-04-30T08:42:16.503Z"
   },
   {
    "duration": 0,
    "start_time": "2023-04-30T08:42:16.693Z"
   },
   {
    "duration": 0,
    "start_time": "2023-04-30T08:42:16.695Z"
   },
   {
    "duration": 0,
    "start_time": "2023-04-30T08:42:16.696Z"
   },
   {
    "duration": 0,
    "start_time": "2023-04-30T08:42:16.698Z"
   },
   {
    "duration": 0,
    "start_time": "2023-04-30T08:42:16.699Z"
   },
   {
    "duration": 0,
    "start_time": "2023-04-30T08:42:16.701Z"
   },
   {
    "duration": 0,
    "start_time": "2023-04-30T08:42:16.702Z"
   },
   {
    "duration": 0,
    "start_time": "2023-04-30T08:42:16.703Z"
   },
   {
    "duration": 20,
    "start_time": "2023-04-30T08:43:27.810Z"
   },
   {
    "duration": 368,
    "start_time": "2023-04-30T08:47:42.314Z"
   },
   {
    "duration": 204,
    "start_time": "2023-04-30T08:49:53.560Z"
   },
   {
    "duration": 189,
    "start_time": "2023-04-30T08:52:29.712Z"
   },
   {
    "duration": 141,
    "start_time": "2023-04-30T08:53:18.813Z"
   },
   {
    "duration": 163,
    "start_time": "2023-04-30T08:53:27.117Z"
   },
   {
    "duration": 415,
    "start_time": "2023-04-30T08:53:35.924Z"
   },
   {
    "duration": 203,
    "start_time": "2023-04-30T08:54:37.122Z"
   },
   {
    "duration": 6,
    "start_time": "2023-04-30T08:55:04.612Z"
   },
   {
    "duration": 1436,
    "start_time": "2023-04-30T08:55:13.213Z"
   },
   {
    "duration": 48,
    "start_time": "2023-04-30T08:55:14.651Z"
   },
   {
    "duration": 11,
    "start_time": "2023-04-30T08:55:14.701Z"
   },
   {
    "duration": 16,
    "start_time": "2023-04-30T08:55:14.713Z"
   },
   {
    "duration": 19,
    "start_time": "2023-04-30T08:55:14.732Z"
   },
   {
    "duration": 24,
    "start_time": "2023-04-30T08:55:14.753Z"
   },
   {
    "duration": 221,
    "start_time": "2023-04-30T08:55:14.778Z"
   },
   {
    "duration": 171,
    "start_time": "2023-04-30T08:55:15.001Z"
   },
   {
    "duration": 505,
    "start_time": "2023-04-30T08:55:15.174Z"
   },
   {
    "duration": 12,
    "start_time": "2023-04-30T08:55:15.681Z"
   },
   {
    "duration": 10,
    "start_time": "2023-04-30T08:55:15.694Z"
   },
   {
    "duration": 10,
    "start_time": "2023-04-30T08:55:15.706Z"
   },
   {
    "duration": 273,
    "start_time": "2023-04-30T08:55:15.717Z"
   },
   {
    "duration": 187,
    "start_time": "2023-04-30T08:55:15.993Z"
   },
   {
    "duration": 219,
    "start_time": "2023-04-30T08:55:16.182Z"
   },
   {
    "duration": 300,
    "start_time": "2023-04-30T08:55:16.403Z"
   },
   {
    "duration": 31,
    "start_time": "2023-04-30T08:55:16.704Z"
   },
   {
    "duration": 21198,
    "start_time": "2023-04-30T08:55:16.736Z"
   },
   {
    "duration": 9,
    "start_time": "2023-04-30T08:55:37.936Z"
   },
   {
    "duration": 22,
    "start_time": "2023-04-30T08:55:38.034Z"
   },
   {
    "duration": 8,
    "start_time": "2023-04-30T08:55:38.058Z"
   },
   {
    "duration": 4,
    "start_time": "2023-04-30T08:55:38.067Z"
   },
   {
    "duration": 6,
    "start_time": "2023-04-30T08:55:38.072Z"
   },
   {
    "duration": 19,
    "start_time": "2023-04-30T08:55:38.079Z"
   },
   {
    "duration": 5,
    "start_time": "2023-04-30T08:55:38.099Z"
   },
   {
    "duration": 29,
    "start_time": "2023-04-30T08:55:38.105Z"
   },
   {
    "duration": 364,
    "start_time": "2023-04-30T08:55:38.136Z"
   },
   {
    "duration": 166,
    "start_time": "2023-04-30T08:55:38.501Z"
   },
   {
    "duration": 0,
    "start_time": "2023-04-30T08:55:38.669Z"
   },
   {
    "duration": 0,
    "start_time": "2023-04-30T08:55:38.670Z"
   },
   {
    "duration": 0,
    "start_time": "2023-04-30T08:55:38.671Z"
   },
   {
    "duration": 0,
    "start_time": "2023-04-30T08:55:38.673Z"
   },
   {
    "duration": 0,
    "start_time": "2023-04-30T08:55:38.674Z"
   },
   {
    "duration": 0,
    "start_time": "2023-04-30T08:55:38.675Z"
   },
   {
    "duration": 0,
    "start_time": "2023-04-30T08:55:38.676Z"
   },
   {
    "duration": 60,
    "start_time": "2023-04-30T09:01:55.308Z"
   },
   {
    "duration": 339,
    "start_time": "2023-04-30T09:02:27.213Z"
   },
   {
    "duration": 387,
    "start_time": "2023-04-30T09:02:36.062Z"
   },
   {
    "duration": 323,
    "start_time": "2023-04-30T09:02:45.446Z"
   },
   {
    "duration": 1437,
    "start_time": "2023-04-30T09:03:06.300Z"
   },
   {
    "duration": 49,
    "start_time": "2023-04-30T09:03:07.739Z"
   },
   {
    "duration": 11,
    "start_time": "2023-04-30T09:03:07.789Z"
   },
   {
    "duration": 10,
    "start_time": "2023-04-30T09:03:07.802Z"
   },
   {
    "duration": 4,
    "start_time": "2023-04-30T09:03:07.814Z"
   },
   {
    "duration": 15,
    "start_time": "2023-04-30T09:03:07.819Z"
   },
   {
    "duration": 235,
    "start_time": "2023-04-30T09:03:07.836Z"
   },
   {
    "duration": 182,
    "start_time": "2023-04-30T09:03:08.072Z"
   },
   {
    "duration": 501,
    "start_time": "2023-04-30T09:03:08.255Z"
   },
   {
    "duration": 12,
    "start_time": "2023-04-30T09:03:08.757Z"
   },
   {
    "duration": 17,
    "start_time": "2023-04-30T09:03:08.771Z"
   },
   {
    "duration": 8,
    "start_time": "2023-04-30T09:03:08.790Z"
   },
   {
    "duration": 266,
    "start_time": "2023-04-30T09:03:08.800Z"
   },
   {
    "duration": 191,
    "start_time": "2023-04-30T09:03:09.069Z"
   },
   {
    "duration": 246,
    "start_time": "2023-04-30T09:03:09.263Z"
   },
   {
    "duration": 284,
    "start_time": "2023-04-30T09:03:09.512Z"
   },
   {
    "duration": 37,
    "start_time": "2023-04-30T09:03:09.798Z"
   },
   {
    "duration": 21397,
    "start_time": "2023-04-30T09:03:09.837Z"
   },
   {
    "duration": 6,
    "start_time": "2023-04-30T09:03:31.236Z"
   },
   {
    "duration": 29,
    "start_time": "2023-04-30T09:03:31.334Z"
   },
   {
    "duration": 10,
    "start_time": "2023-04-30T09:03:31.364Z"
   },
   {
    "duration": 33,
    "start_time": "2023-04-30T09:03:31.375Z"
   },
   {
    "duration": 25,
    "start_time": "2023-04-30T09:03:31.409Z"
   },
   {
    "duration": 38,
    "start_time": "2023-04-30T09:03:31.435Z"
   },
   {
    "duration": 17,
    "start_time": "2023-04-30T09:03:31.475Z"
   },
   {
    "duration": 41,
    "start_time": "2023-04-30T09:03:31.493Z"
   },
   {
    "duration": 339,
    "start_time": "2023-04-30T09:03:31.536Z"
   },
   {
    "duration": 157,
    "start_time": "2023-04-30T09:03:31.877Z"
   },
   {
    "duration": 0,
    "start_time": "2023-04-30T09:03:32.036Z"
   },
   {
    "duration": 0,
    "start_time": "2023-04-30T09:03:32.037Z"
   },
   {
    "duration": 0,
    "start_time": "2023-04-30T09:03:32.038Z"
   },
   {
    "duration": 0,
    "start_time": "2023-04-30T09:03:32.039Z"
   },
   {
    "duration": 0,
    "start_time": "2023-04-30T09:03:32.041Z"
   },
   {
    "duration": 0,
    "start_time": "2023-04-30T09:03:32.042Z"
   },
   {
    "duration": 0,
    "start_time": "2023-04-30T09:03:32.043Z"
   },
   {
    "duration": 2629,
    "start_time": "2023-04-30T09:08:22.423Z"
   },
   {
    "duration": 2551,
    "start_time": "2023-04-30T09:08:50.606Z"
   },
   {
    "duration": 2652,
    "start_time": "2023-04-30T09:09:35.907Z"
   },
   {
    "duration": 2625,
    "start_time": "2023-04-30T09:09:59.439Z"
   },
   {
    "duration": 949,
    "start_time": "2023-04-30T09:11:34.474Z"
   },
   {
    "duration": 947,
    "start_time": "2023-04-30T09:11:44.060Z"
   },
   {
    "duration": 27,
    "start_time": "2023-04-30T09:12:59.028Z"
   },
   {
    "duration": 28,
    "start_time": "2023-04-30T09:13:04.849Z"
   },
   {
    "duration": 30,
    "start_time": "2023-04-30T09:13:11.206Z"
   },
   {
    "duration": 29,
    "start_time": "2023-04-30T09:13:16.698Z"
   },
   {
    "duration": 29,
    "start_time": "2023-04-30T09:13:32.065Z"
   },
   {
    "duration": 28,
    "start_time": "2023-04-30T09:13:42.258Z"
   },
   {
    "duration": 27,
    "start_time": "2023-04-30T09:15:22.221Z"
   },
   {
    "duration": 894,
    "start_time": "2023-04-30T09:15:42.788Z"
   },
   {
    "duration": 1331,
    "start_time": "2023-04-30T09:16:37.776Z"
   },
   {
    "duration": 46,
    "start_time": "2023-04-30T09:16:39.109Z"
   },
   {
    "duration": 10,
    "start_time": "2023-04-30T09:16:39.157Z"
   },
   {
    "duration": 12,
    "start_time": "2023-04-30T09:16:39.168Z"
   },
   {
    "duration": 5,
    "start_time": "2023-04-30T09:16:39.183Z"
   },
   {
    "duration": 15,
    "start_time": "2023-04-30T09:16:39.189Z"
   },
   {
    "duration": 229,
    "start_time": "2023-04-30T09:16:39.205Z"
   },
   {
    "duration": 165,
    "start_time": "2023-04-30T09:16:39.436Z"
   },
   {
    "duration": 497,
    "start_time": "2023-04-30T09:16:39.603Z"
   },
   {
    "duration": 11,
    "start_time": "2023-04-30T09:16:40.101Z"
   },
   {
    "duration": 23,
    "start_time": "2023-04-30T09:16:40.113Z"
   },
   {
    "duration": 8,
    "start_time": "2023-04-30T09:16:40.138Z"
   },
   {
    "duration": 263,
    "start_time": "2023-04-30T09:16:40.147Z"
   },
   {
    "duration": 200,
    "start_time": "2023-04-30T09:16:40.413Z"
   },
   {
    "duration": 211,
    "start_time": "2023-04-30T09:16:40.614Z"
   },
   {
    "duration": 247,
    "start_time": "2023-04-30T09:16:40.827Z"
   },
   {
    "duration": 21,
    "start_time": "2023-04-30T09:16:41.075Z"
   },
   {
    "duration": 22544,
    "start_time": "2023-04-30T09:16:41.097Z"
   },
   {
    "duration": 92,
    "start_time": "2023-04-30T09:17:03.643Z"
   },
   {
    "duration": 19,
    "start_time": "2023-04-30T09:17:03.737Z"
   },
   {
    "duration": 6,
    "start_time": "2023-04-30T09:17:03.758Z"
   },
   {
    "duration": 5,
    "start_time": "2023-04-30T09:17:03.766Z"
   },
   {
    "duration": 9,
    "start_time": "2023-04-30T09:17:03.772Z"
   },
   {
    "duration": 66,
    "start_time": "2023-04-30T09:17:03.783Z"
   },
   {
    "duration": 9,
    "start_time": "2023-04-30T09:17:03.851Z"
   },
   {
    "duration": 12,
    "start_time": "2023-04-30T09:17:03.862Z"
   },
   {
    "duration": 361,
    "start_time": "2023-04-30T09:17:03.876Z"
   },
   {
    "duration": 2883,
    "start_time": "2023-04-30T09:17:04.238Z"
   },
   {
    "duration": 970,
    "start_time": "2023-04-30T09:17:07.122Z"
   },
   {
    "duration": 0,
    "start_time": "2023-04-30T09:17:08.094Z"
   },
   {
    "duration": 0,
    "start_time": "2023-04-30T09:17:08.095Z"
   },
   {
    "duration": 0,
    "start_time": "2023-04-30T09:17:08.096Z"
   },
   {
    "duration": 0,
    "start_time": "2023-04-30T09:17:08.097Z"
   },
   {
    "duration": 0,
    "start_time": "2023-04-30T09:17:08.098Z"
   },
   {
    "duration": 0,
    "start_time": "2023-04-30T09:17:08.099Z"
   },
   {
    "duration": 0,
    "start_time": "2023-04-30T09:17:08.100Z"
   },
   {
    "duration": 969,
    "start_time": "2023-04-30T09:18:03.032Z"
   },
   {
    "duration": 22,
    "start_time": "2023-04-30T09:18:07.439Z"
   },
   {
    "duration": 457,
    "start_time": "2023-04-30T09:18:45.783Z"
   },
   {
    "duration": 13,
    "start_time": "2023-04-30T09:18:46.521Z"
   },
   {
    "duration": 2742,
    "start_time": "2023-04-30T09:18:50.321Z"
   },
   {
    "duration": 47,
    "start_time": "2023-04-30T09:18:54.791Z"
   },
   {
    "duration": 3580,
    "start_time": "2023-04-30T09:18:59.985Z"
   },
   {
    "duration": 0,
    "start_time": "2023-04-30T09:19:03.566Z"
   },
   {
    "duration": 241,
    "start_time": "2023-04-30T09:19:06.817Z"
   },
   {
    "duration": 2733,
    "start_time": "2023-04-30T09:19:22.444Z"
   },
   {
    "duration": 1486,
    "start_time": "2023-04-30T09:20:34.253Z"
   },
   {
    "duration": 56,
    "start_time": "2023-04-30T09:20:35.742Z"
   },
   {
    "duration": 15,
    "start_time": "2023-04-30T09:20:35.800Z"
   },
   {
    "duration": 18,
    "start_time": "2023-04-30T09:20:35.818Z"
   },
   {
    "duration": 9,
    "start_time": "2023-04-30T09:20:35.840Z"
   },
   {
    "duration": 43,
    "start_time": "2023-04-30T09:20:35.851Z"
   },
   {
    "duration": 297,
    "start_time": "2023-04-30T09:20:35.896Z"
   },
   {
    "duration": 222,
    "start_time": "2023-04-30T09:20:36.195Z"
   },
   {
    "duration": 565,
    "start_time": "2023-04-30T09:20:36.419Z"
   },
   {
    "duration": 12,
    "start_time": "2023-04-30T09:20:36.986Z"
   },
   {
    "duration": 12,
    "start_time": "2023-04-30T09:20:37.000Z"
   },
   {
    "duration": 28,
    "start_time": "2023-04-30T09:20:37.013Z"
   },
   {
    "duration": 378,
    "start_time": "2023-04-30T09:20:37.044Z"
   },
   {
    "duration": 195,
    "start_time": "2023-04-30T09:20:37.425Z"
   },
   {
    "duration": 251,
    "start_time": "2023-04-30T09:20:37.622Z"
   },
   {
    "duration": 303,
    "start_time": "2023-04-30T09:20:37.876Z"
   },
   {
    "duration": 24054,
    "start_time": "2023-04-30T09:20:38.181Z"
   },
   {
    "duration": 93,
    "start_time": "2023-04-30T09:21:02.242Z"
   },
   {
    "duration": 32,
    "start_time": "2023-04-30T09:21:02.337Z"
   },
   {
    "duration": 10,
    "start_time": "2023-04-30T09:21:02.371Z"
   },
   {
    "duration": 28,
    "start_time": "2023-04-30T09:21:02.383Z"
   },
   {
    "duration": 27,
    "start_time": "2023-04-30T09:21:02.413Z"
   },
   {
    "duration": 43,
    "start_time": "2023-04-30T09:21:02.441Z"
   },
   {
    "duration": 34,
    "start_time": "2023-04-30T09:21:02.486Z"
   },
   {
    "duration": 37,
    "start_time": "2023-04-30T09:21:02.522Z"
   },
   {
    "duration": 352,
    "start_time": "2023-04-30T09:21:02.560Z"
   },
   {
    "duration": 2853,
    "start_time": "2023-04-30T09:21:02.914Z"
   },
   {
    "duration": 1047,
    "start_time": "2023-04-30T09:21:05.772Z"
   },
   {
    "duration": 28,
    "start_time": "2023-04-30T09:21:06.821Z"
   },
   {
    "duration": 605,
    "start_time": "2023-04-30T09:21:06.850Z"
   },
   {
    "duration": 0,
    "start_time": "2023-04-30T09:21:07.457Z"
   },
   {
    "duration": 11,
    "start_time": "2023-04-30T09:22:05.160Z"
   },
   {
    "duration": 11,
    "start_time": "2023-04-30T09:23:03.135Z"
   },
   {
    "duration": 1515,
    "start_time": "2023-04-30T09:23:23.887Z"
   },
   {
    "duration": 49,
    "start_time": "2023-04-30T09:23:25.404Z"
   },
   {
    "duration": 10,
    "start_time": "2023-04-30T09:23:25.455Z"
   },
   {
    "duration": 18,
    "start_time": "2023-04-30T09:23:25.467Z"
   },
   {
    "duration": 5,
    "start_time": "2023-04-30T09:23:25.487Z"
   },
   {
    "duration": 25,
    "start_time": "2023-04-30T09:23:25.494Z"
   },
   {
    "duration": 431,
    "start_time": "2023-04-30T09:23:25.521Z"
   },
   {
    "duration": 191,
    "start_time": "2023-04-30T09:23:25.954Z"
   },
   {
    "duration": 564,
    "start_time": "2023-04-30T09:23:26.146Z"
   },
   {
    "duration": 29,
    "start_time": "2023-04-30T09:23:26.712Z"
   },
   {
    "duration": 27,
    "start_time": "2023-04-30T09:23:26.745Z"
   },
   {
    "duration": 23,
    "start_time": "2023-04-30T09:23:26.774Z"
   },
   {
    "duration": 284,
    "start_time": "2023-04-30T09:23:26.800Z"
   },
   {
    "duration": 207,
    "start_time": "2023-04-30T09:23:27.086Z"
   },
   {
    "duration": 235,
    "start_time": "2023-04-30T09:23:27.294Z"
   },
   {
    "duration": 258,
    "start_time": "2023-04-30T09:23:27.531Z"
   },
   {
    "duration": 2,
    "start_time": "2023-04-30T09:23:27.791Z"
   },
   {
    "duration": 15,
    "start_time": "2023-04-30T09:23:27.795Z"
   },
   {
    "duration": 25,
    "start_time": "2023-04-30T09:23:27.811Z"
   },
   {
    "duration": 7,
    "start_time": "2023-04-30T09:23:27.838Z"
   },
   {
    "duration": 9,
    "start_time": "2023-04-30T09:23:27.846Z"
   },
   {
    "duration": 13,
    "start_time": "2023-04-30T09:23:27.856Z"
   },
   {
    "duration": 24,
    "start_time": "2023-04-30T09:23:27.871Z"
   },
   {
    "duration": 8,
    "start_time": "2023-04-30T09:23:27.896Z"
   },
   {
    "duration": 4,
    "start_time": "2023-04-30T09:23:27.905Z"
   },
   {
    "duration": 371,
    "start_time": "2023-04-30T09:23:27.911Z"
   },
   {
    "duration": 2894,
    "start_time": "2023-04-30T09:23:28.284Z"
   },
   {
    "duration": 120,
    "start_time": "2023-04-30T09:23:31.180Z"
   },
   {
    "duration": 0,
    "start_time": "2023-04-30T09:23:31.302Z"
   },
   {
    "duration": 0,
    "start_time": "2023-04-30T09:23:31.303Z"
   },
   {
    "duration": 0,
    "start_time": "2023-04-30T09:23:31.305Z"
   },
   {
    "duration": 0,
    "start_time": "2023-04-30T09:23:31.306Z"
   },
   {
    "duration": 10,
    "start_time": "2023-04-30T09:24:44.860Z"
   },
   {
    "duration": 48,
    "start_time": "2023-04-30T09:24:54.489Z"
   },
   {
    "duration": 44,
    "start_time": "2023-04-30T09:25:01.891Z"
   },
   {
    "duration": 2754,
    "start_time": "2023-04-30T09:25:32.098Z"
   },
   {
    "duration": 49,
    "start_time": "2023-04-30T09:25:40.882Z"
   },
   {
    "duration": 58,
    "start_time": "2023-04-30T09:25:45.211Z"
   },
   {
    "duration": 965,
    "start_time": "2023-04-30T09:26:41.250Z"
   },
   {
    "duration": 27,
    "start_time": "2023-04-30T09:26:42.217Z"
   },
   {
    "duration": 25,
    "start_time": "2023-04-30T09:26:49.557Z"
   },
   {
    "duration": 29,
    "start_time": "2023-04-30T09:26:53.752Z"
   },
   {
    "duration": 1585,
    "start_time": "2023-04-30T09:28:26.494Z"
   },
   {
    "duration": 52,
    "start_time": "2023-04-30T09:28:28.081Z"
   },
   {
    "duration": 14,
    "start_time": "2023-04-30T09:28:28.135Z"
   },
   {
    "duration": 14,
    "start_time": "2023-04-30T09:28:28.150Z"
   },
   {
    "duration": 8,
    "start_time": "2023-04-30T09:28:28.167Z"
   },
   {
    "duration": 25,
    "start_time": "2023-04-30T09:28:28.177Z"
   },
   {
    "duration": 271,
    "start_time": "2023-04-30T09:28:28.204Z"
   },
   {
    "duration": 199,
    "start_time": "2023-04-30T09:28:28.477Z"
   },
   {
    "duration": 577,
    "start_time": "2023-04-30T09:28:28.678Z"
   },
   {
    "duration": 12,
    "start_time": "2023-04-30T09:28:29.257Z"
   },
   {
    "duration": 11,
    "start_time": "2023-04-30T09:28:29.271Z"
   },
   {
    "duration": 8,
    "start_time": "2023-04-30T09:28:29.284Z"
   },
   {
    "duration": 321,
    "start_time": "2023-04-30T09:28:29.293Z"
   },
   {
    "duration": 227,
    "start_time": "2023-04-30T09:28:29.617Z"
   },
   {
    "duration": 272,
    "start_time": "2023-04-30T09:28:29.846Z"
   },
   {
    "duration": 284,
    "start_time": "2023-04-30T09:28:30.120Z"
   },
   {
    "duration": 3,
    "start_time": "2023-04-30T09:28:30.405Z"
   },
   {
    "duration": 23,
    "start_time": "2023-04-30T09:28:30.409Z"
   },
   {
    "duration": 32,
    "start_time": "2023-04-30T09:28:30.434Z"
   },
   {
    "duration": 20,
    "start_time": "2023-04-30T09:28:30.467Z"
   },
   {
    "duration": 17,
    "start_time": "2023-04-30T09:28:30.489Z"
   },
   {
    "duration": 38,
    "start_time": "2023-04-30T09:28:30.508Z"
   },
   {
    "duration": 57,
    "start_time": "2023-04-30T09:28:30.547Z"
   },
   {
    "duration": 35,
    "start_time": "2023-04-30T09:28:30.606Z"
   },
   {
    "duration": 42,
    "start_time": "2023-04-30T09:28:30.642Z"
   },
   {
    "duration": 429,
    "start_time": "2023-04-30T09:28:30.686Z"
   },
   {
    "duration": 3306,
    "start_time": "2023-04-30T09:28:31.116Z"
   },
   {
    "duration": 0,
    "start_time": "2023-04-30T09:28:34.424Z"
   },
   {
    "duration": 0,
    "start_time": "2023-04-30T09:28:34.425Z"
   },
   {
    "duration": 0,
    "start_time": "2023-04-30T09:28:34.433Z"
   },
   {
    "duration": 0,
    "start_time": "2023-04-30T09:28:34.434Z"
   },
   {
    "duration": 0,
    "start_time": "2023-04-30T09:28:34.435Z"
   },
   {
    "duration": 2742,
    "start_time": "2023-04-30T09:29:18.481Z"
   },
   {
    "duration": 3091,
    "start_time": "2023-04-30T09:29:56.865Z"
   },
   {
    "duration": 45,
    "start_time": "2023-04-30T09:30:11.840Z"
   },
   {
    "duration": 1405,
    "start_time": "2023-04-30T09:30:35.451Z"
   },
   {
    "duration": 51,
    "start_time": "2023-04-30T09:30:36.859Z"
   },
   {
    "duration": 12,
    "start_time": "2023-04-30T09:30:36.912Z"
   },
   {
    "duration": 14,
    "start_time": "2023-04-30T09:30:36.926Z"
   },
   {
    "duration": 7,
    "start_time": "2023-04-30T09:30:36.943Z"
   },
   {
    "duration": 19,
    "start_time": "2023-04-30T09:30:36.952Z"
   },
   {
    "duration": 235,
    "start_time": "2023-04-30T09:30:36.973Z"
   },
   {
    "duration": 173,
    "start_time": "2023-04-30T09:30:37.210Z"
   },
   {
    "duration": 485,
    "start_time": "2023-04-30T09:30:37.384Z"
   },
   {
    "duration": 11,
    "start_time": "2023-04-30T09:30:37.871Z"
   },
   {
    "duration": 10,
    "start_time": "2023-04-30T09:30:37.883Z"
   },
   {
    "duration": 9,
    "start_time": "2023-04-30T09:30:37.894Z"
   },
   {
    "duration": 271,
    "start_time": "2023-04-30T09:30:37.904Z"
   },
   {
    "duration": 188,
    "start_time": "2023-04-30T09:30:38.177Z"
   },
   {
    "duration": 214,
    "start_time": "2023-04-30T09:30:38.367Z"
   },
   {
    "duration": 284,
    "start_time": "2023-04-30T09:30:38.583Z"
   },
   {
    "duration": 2,
    "start_time": "2023-04-30T09:30:38.868Z"
   },
   {
    "duration": 6,
    "start_time": "2023-04-30T09:30:38.872Z"
   },
   {
    "duration": 20,
    "start_time": "2023-04-30T09:30:38.880Z"
   },
   {
    "duration": 6,
    "start_time": "2023-04-30T09:30:38.901Z"
   },
   {
    "duration": 4,
    "start_time": "2023-04-30T09:30:38.908Z"
   },
   {
    "duration": 4,
    "start_time": "2023-04-30T09:30:38.933Z"
   },
   {
    "duration": 23,
    "start_time": "2023-04-30T09:30:38.939Z"
   },
   {
    "duration": 5,
    "start_time": "2023-04-30T09:30:38.964Z"
   },
   {
    "duration": 8,
    "start_time": "2023-04-30T09:30:38.970Z"
   },
   {
    "duration": 335,
    "start_time": "2023-04-30T09:30:38.979Z"
   },
   {
    "duration": 2668,
    "start_time": "2023-04-30T09:30:39.315Z"
   },
   {
    "duration": 48,
    "start_time": "2023-04-30T09:30:41.985Z"
   },
   {
    "duration": 1067,
    "start_time": "2023-04-30T09:30:42.035Z"
   },
   {
    "duration": 0,
    "start_time": "2023-04-30T09:30:43.104Z"
   },
   {
    "duration": 0,
    "start_time": "2023-04-30T09:30:43.105Z"
   },
   {
    "duration": 0,
    "start_time": "2023-04-30T09:30:43.106Z"
   },
   {
    "duration": 991,
    "start_time": "2023-04-30T09:30:54.048Z"
   },
   {
    "duration": 930,
    "start_time": "2023-04-30T09:31:14.659Z"
   },
   {
    "duration": 961,
    "start_time": "2023-04-30T09:31:25.448Z"
   },
   {
    "duration": 29,
    "start_time": "2023-04-30T09:31:27.084Z"
   },
   {
    "duration": 79638,
    "start_time": "2023-04-30T09:31:27.432Z"
   },
   {
    "duration": 0,
    "start_time": "2023-04-30T09:32:47.072Z"
   },
   {
    "duration": 24,
    "start_time": "2023-04-30T09:32:52.489Z"
   },
   {
    "duration": 1014,
    "start_time": "2023-04-30T09:34:36.713Z"
   },
   {
    "duration": 1190,
    "start_time": "2023-04-30T09:34:56.198Z"
   },
   {
    "duration": 26,
    "start_time": "2023-04-30T09:34:59.546Z"
   },
   {
    "duration": 27,
    "start_time": "2023-04-30T09:35:11.330Z"
   },
   {
    "duration": 2779,
    "start_time": "2023-04-30T09:37:23.363Z"
   },
   {
    "duration": 2761,
    "start_time": "2023-04-30T09:38:58.894Z"
   },
   {
    "duration": 3475,
    "start_time": "2023-04-30T09:39:12.692Z"
   },
   {
    "duration": 59,
    "start_time": "2023-04-30T09:39:21.551Z"
   },
   {
    "duration": 228,
    "start_time": "2023-04-30T09:39:58.440Z"
   },
   {
    "duration": 1363,
    "start_time": "2023-04-30T09:40:13.795Z"
   },
   {
    "duration": 48,
    "start_time": "2023-04-30T09:40:15.160Z"
   },
   {
    "duration": 10,
    "start_time": "2023-04-30T09:40:15.210Z"
   },
   {
    "duration": 11,
    "start_time": "2023-04-30T09:40:15.221Z"
   },
   {
    "duration": 4,
    "start_time": "2023-04-30T09:40:15.234Z"
   },
   {
    "duration": 18,
    "start_time": "2023-04-30T09:40:15.240Z"
   },
   {
    "duration": 235,
    "start_time": "2023-04-30T09:40:15.259Z"
   },
   {
    "duration": 168,
    "start_time": "2023-04-30T09:40:15.496Z"
   },
   {
    "duration": 517,
    "start_time": "2023-04-30T09:40:15.665Z"
   },
   {
    "duration": 12,
    "start_time": "2023-04-30T09:40:16.183Z"
   },
   {
    "duration": 10,
    "start_time": "2023-04-30T09:40:16.197Z"
   },
   {
    "duration": 24,
    "start_time": "2023-04-30T09:40:16.209Z"
   },
   {
    "duration": 259,
    "start_time": "2023-04-30T09:40:16.235Z"
   },
   {
    "duration": 190,
    "start_time": "2023-04-30T09:40:16.496Z"
   },
   {
    "duration": 213,
    "start_time": "2023-04-30T09:40:16.688Z"
   },
   {
    "duration": 274,
    "start_time": "2023-04-30T09:40:16.903Z"
   },
   {
    "duration": 2,
    "start_time": "2023-04-30T09:40:17.178Z"
   },
   {
    "duration": 30,
    "start_time": "2023-04-30T09:40:17.181Z"
   },
   {
    "duration": 33,
    "start_time": "2023-04-30T09:40:17.213Z"
   },
   {
    "duration": 14,
    "start_time": "2023-04-30T09:40:17.248Z"
   },
   {
    "duration": 28,
    "start_time": "2023-04-30T09:40:17.264Z"
   },
   {
    "duration": 30,
    "start_time": "2023-04-30T09:40:17.294Z"
   },
   {
    "duration": 67,
    "start_time": "2023-04-30T09:40:17.326Z"
   },
   {
    "duration": 16,
    "start_time": "2023-04-30T09:40:17.394Z"
   },
   {
    "duration": 21,
    "start_time": "2023-04-30T09:40:17.412Z"
   },
   {
    "duration": 3741,
    "start_time": "2023-04-30T09:40:17.435Z"
   },
   {
    "duration": 63,
    "start_time": "2023-04-30T09:40:21.177Z"
   },
   {
    "duration": 1107,
    "start_time": "2023-04-30T09:40:21.242Z"
   },
   {
    "duration": 25,
    "start_time": "2023-04-30T09:40:22.350Z"
   },
   {
    "duration": 203,
    "start_time": "2023-04-30T09:40:22.377Z"
   },
   {
    "duration": 9,
    "start_time": "2023-04-30T09:43:53.125Z"
   },
   {
    "duration": 34,
    "start_time": "2023-04-30T09:44:14.006Z"
   },
   {
    "duration": 181,
    "start_time": "2023-04-30T09:44:32.063Z"
   },
   {
    "duration": 1332,
    "start_time": "2023-04-30T09:44:58.986Z"
   },
   {
    "duration": 25,
    "start_time": "2023-04-30T09:45:08.935Z"
   },
   {
    "duration": 3995,
    "start_time": "2023-04-30T09:45:18.390Z"
   },
   {
    "duration": 26,
    "start_time": "2023-04-30T09:45:35.834Z"
   },
   {
    "duration": 1063,
    "start_time": "2023-04-30T09:45:37.463Z"
   },
   {
    "duration": 3666,
    "start_time": "2023-04-30T09:45:44.135Z"
   },
   {
    "duration": 1121,
    "start_time": "2023-04-30T09:45:55.063Z"
   },
   {
    "duration": 1399,
    "start_time": "2023-04-30T09:46:01.770Z"
   },
   {
    "duration": 48,
    "start_time": "2023-04-30T09:46:03.171Z"
   },
   {
    "duration": 11,
    "start_time": "2023-04-30T09:46:03.221Z"
   },
   {
    "duration": 22,
    "start_time": "2023-04-30T09:46:03.234Z"
   },
   {
    "duration": 11,
    "start_time": "2023-04-30T09:46:03.258Z"
   },
   {
    "duration": 33,
    "start_time": "2023-04-30T09:46:03.270Z"
   },
   {
    "duration": 224,
    "start_time": "2023-04-30T09:46:03.304Z"
   },
   {
    "duration": 161,
    "start_time": "2023-04-30T09:46:03.532Z"
   },
   {
    "duration": 524,
    "start_time": "2023-04-30T09:46:03.695Z"
   },
   {
    "duration": 17,
    "start_time": "2023-04-30T09:46:04.221Z"
   },
   {
    "duration": 16,
    "start_time": "2023-04-30T09:46:04.240Z"
   },
   {
    "duration": 14,
    "start_time": "2023-04-30T09:46:04.257Z"
   },
   {
    "duration": 274,
    "start_time": "2023-04-30T09:46:04.272Z"
   },
   {
    "duration": 196,
    "start_time": "2023-04-30T09:46:04.548Z"
   },
   {
    "duration": 198,
    "start_time": "2023-04-30T09:46:04.745Z"
   },
   {
    "duration": 251,
    "start_time": "2023-04-30T09:46:04.945Z"
   },
   {
    "duration": 2,
    "start_time": "2023-04-30T09:46:05.198Z"
   },
   {
    "duration": 19,
    "start_time": "2023-04-30T09:46:05.202Z"
   },
   {
    "duration": 26,
    "start_time": "2023-04-30T09:46:05.223Z"
   },
   {
    "duration": 6,
    "start_time": "2023-04-30T09:46:05.251Z"
   },
   {
    "duration": 12,
    "start_time": "2023-04-30T09:46:05.259Z"
   },
   {
    "duration": 7,
    "start_time": "2023-04-30T09:46:05.272Z"
   },
   {
    "duration": 30,
    "start_time": "2023-04-30T09:46:05.281Z"
   },
   {
    "duration": 5,
    "start_time": "2023-04-30T09:46:05.313Z"
   },
   {
    "duration": 5,
    "start_time": "2023-04-30T09:46:05.319Z"
   },
   {
    "duration": 3601,
    "start_time": "2023-04-30T09:46:05.333Z"
   },
   {
    "duration": 51,
    "start_time": "2023-04-30T09:46:08.936Z"
   },
   {
    "duration": 1089,
    "start_time": "2023-04-30T09:46:08.989Z"
   },
   {
    "duration": 26,
    "start_time": "2023-04-30T09:46:10.080Z"
   },
   {
    "duration": 37,
    "start_time": "2023-04-30T09:46:10.107Z"
   },
   {
    "duration": 9,
    "start_time": "2023-04-30T09:46:10.146Z"
   },
   {
    "duration": 215,
    "start_time": "2023-04-30T09:46:10.157Z"
   },
   {
    "duration": 128,
    "start_time": "2023-04-30T09:50:29.034Z"
   },
   {
    "duration": 13,
    "start_time": "2023-04-30T09:51:10.092Z"
   },
   {
    "duration": 117992,
    "start_time": "2023-04-30T09:51:25.947Z"
   },
   {
    "duration": 547,
    "start_time": "2023-04-30T09:59:14.294Z"
   },
   {
    "duration": 659,
    "start_time": "2023-04-30T09:59:22.685Z"
   },
   {
    "duration": 848,
    "start_time": "2023-04-30T09:59:31.595Z"
   },
   {
    "duration": 51,
    "start_time": "2023-04-30T10:03:32.519Z"
   },
   {
    "duration": 20,
    "start_time": "2023-04-30T10:05:39.691Z"
   },
   {
    "duration": 1629,
    "start_time": "2023-04-30T10:05:43.824Z"
   },
   {
    "duration": 65,
    "start_time": "2023-04-30T10:05:45.456Z"
   },
   {
    "duration": 19,
    "start_time": "2023-04-30T10:05:45.523Z"
   },
   {
    "duration": 16,
    "start_time": "2023-04-30T10:05:45.544Z"
   },
   {
    "duration": 7,
    "start_time": "2023-04-30T10:05:45.563Z"
   },
   {
    "duration": 18,
    "start_time": "2023-04-30T10:05:45.572Z"
   },
   {
    "duration": 293,
    "start_time": "2023-04-30T10:05:45.592Z"
   },
   {
    "duration": 225,
    "start_time": "2023-04-30T10:05:45.887Z"
   },
   {
    "duration": 605,
    "start_time": "2023-04-30T10:05:46.114Z"
   },
   {
    "duration": 22,
    "start_time": "2023-04-30T10:05:46.721Z"
   },
   {
    "duration": 19,
    "start_time": "2023-04-30T10:05:46.746Z"
   },
   {
    "duration": 11,
    "start_time": "2023-04-30T10:05:46.768Z"
   },
   {
    "duration": 405,
    "start_time": "2023-04-30T10:05:46.782Z"
   },
   {
    "duration": 225,
    "start_time": "2023-04-30T10:05:47.190Z"
   },
   {
    "duration": 250,
    "start_time": "2023-04-30T10:05:47.416Z"
   },
   {
    "duration": 380,
    "start_time": "2023-04-30T10:05:47.668Z"
   },
   {
    "duration": 3,
    "start_time": "2023-04-30T10:05:48.050Z"
   },
   {
    "duration": 9,
    "start_time": "2023-04-30T10:05:48.055Z"
   },
   {
    "duration": 22,
    "start_time": "2023-04-30T10:05:48.065Z"
   },
   {
    "duration": 7,
    "start_time": "2023-04-30T10:05:48.089Z"
   },
   {
    "duration": 5,
    "start_time": "2023-04-30T10:05:48.098Z"
   },
   {
    "duration": 8,
    "start_time": "2023-04-30T10:05:48.105Z"
   },
   {
    "duration": 38,
    "start_time": "2023-04-30T10:05:48.114Z"
   },
   {
    "duration": 13,
    "start_time": "2023-04-30T10:05:48.155Z"
   },
   {
    "duration": 8,
    "start_time": "2023-04-30T10:05:48.170Z"
   },
   {
    "duration": 4037,
    "start_time": "2023-04-30T10:05:48.180Z"
   },
   {
    "duration": 1293,
    "start_time": "2023-04-30T10:05:52.219Z"
   },
   {
    "duration": 142824,
    "start_time": "2023-04-30T10:05:53.514Z"
   },
   {
    "duration": 0,
    "start_time": "2023-04-30T10:08:16.341Z"
   },
   {
    "duration": 0,
    "start_time": "2023-04-30T10:08:16.342Z"
   },
   {
    "duration": 0,
    "start_time": "2023-04-30T10:08:16.343Z"
   },
   {
    "duration": 0,
    "start_time": "2023-04-30T10:08:16.346Z"
   },
   {
    "duration": 30,
    "start_time": "2023-04-30T10:08:19.033Z"
   },
   {
    "duration": 15,
    "start_time": "2023-04-30T10:08:19.207Z"
   },
   {
    "duration": 261,
    "start_time": "2023-04-30T10:08:20.123Z"
   },
   {
    "duration": 16,
    "start_time": "2023-04-30T10:08:29.443Z"
   },
   {
    "duration": 20,
    "start_time": "2023-04-30T10:08:35.830Z"
   },
   {
    "duration": 1554,
    "start_time": "2023-04-30T10:08:41.565Z"
   },
   {
    "duration": 50,
    "start_time": "2023-04-30T10:08:43.122Z"
   },
   {
    "duration": 11,
    "start_time": "2023-04-30T10:08:43.174Z"
   },
   {
    "duration": 18,
    "start_time": "2023-04-30T10:08:43.187Z"
   },
   {
    "duration": 9,
    "start_time": "2023-04-30T10:08:43.208Z"
   },
   {
    "duration": 21,
    "start_time": "2023-04-30T10:08:43.219Z"
   },
   {
    "duration": 263,
    "start_time": "2023-04-30T10:08:43.242Z"
   },
   {
    "duration": 217,
    "start_time": "2023-04-30T10:08:43.506Z"
   },
   {
    "duration": 605,
    "start_time": "2023-04-30T10:08:43.725Z"
   },
   {
    "duration": 12,
    "start_time": "2023-04-30T10:08:44.334Z"
   },
   {
    "duration": 61,
    "start_time": "2023-04-30T10:08:44.348Z"
   },
   {
    "duration": 49,
    "start_time": "2023-04-30T10:08:44.412Z"
   },
   {
    "duration": 334,
    "start_time": "2023-04-30T10:08:44.463Z"
   },
   {
    "duration": 219,
    "start_time": "2023-04-30T10:08:44.801Z"
   },
   {
    "duration": 247,
    "start_time": "2023-04-30T10:08:45.022Z"
   },
   {
    "duration": 326,
    "start_time": "2023-04-30T10:08:45.272Z"
   },
   {
    "duration": 3,
    "start_time": "2023-04-30T10:08:45.600Z"
   },
   {
    "duration": 28,
    "start_time": "2023-04-30T10:08:45.605Z"
   },
   {
    "duration": 49,
    "start_time": "2023-04-30T10:08:45.635Z"
   },
   {
    "duration": 27,
    "start_time": "2023-04-30T10:08:45.686Z"
   },
   {
    "duration": 39,
    "start_time": "2023-04-30T10:08:45.715Z"
   },
   {
    "duration": 39,
    "start_time": "2023-04-30T10:08:45.756Z"
   },
   {
    "duration": 51,
    "start_time": "2023-04-30T10:08:45.798Z"
   },
   {
    "duration": 33,
    "start_time": "2023-04-30T10:08:45.851Z"
   },
   {
    "duration": 49,
    "start_time": "2023-04-30T10:08:45.886Z"
   },
   {
    "duration": 4185,
    "start_time": "2023-04-30T10:08:45.938Z"
   },
   {
    "duration": 1245,
    "start_time": "2023-04-30T10:08:50.124Z"
   },
   {
    "duration": 1146372,
    "start_time": "2023-04-30T10:08:51.371Z"
   },
   {
    "duration": 89,
    "start_time": "2023-04-30T10:27:57.745Z"
   },
   {
    "duration": 11,
    "start_time": "2023-04-30T10:27:57.835Z"
   },
   {
    "duration": 253,
    "start_time": "2023-04-30T10:27:57.848Z"
   },
   {
    "duration": 125,
    "start_time": "2023-04-30T10:40:24.889Z"
   },
   {
    "duration": 25,
    "start_time": "2023-04-30T10:40:53.870Z"
   },
   {
    "duration": 25,
    "start_time": "2023-04-30T10:41:19.831Z"
   },
   {
    "duration": 26,
    "start_time": "2023-04-30T10:41:28.226Z"
   },
   {
    "duration": 24,
    "start_time": "2023-04-30T10:43:04.403Z"
   },
   {
    "duration": 359,
    "start_time": "2023-04-30T10:43:57.388Z"
   },
   {
    "duration": 1439,
    "start_time": "2023-04-30T10:44:23.719Z"
   },
   {
    "duration": 1066,
    "start_time": "2023-04-30T10:44:34.000Z"
   },
   {
    "duration": 1412,
    "start_time": "2023-04-30T10:44:40.539Z"
   },
   {
    "duration": 1477,
    "start_time": "2023-04-30T10:44:47.561Z"
   },
   {
    "duration": 998,
    "start_time": "2023-04-30T10:44:55.145Z"
   },
   {
    "duration": 1034,
    "start_time": "2023-04-30T10:45:00.209Z"
   },
   {
    "duration": 946,
    "start_time": "2023-04-30T10:45:14.497Z"
   },
   {
    "duration": 1035,
    "start_time": "2023-04-30T10:45:19.427Z"
   },
   {
    "duration": 1453,
    "start_time": "2023-04-30T10:48:51.892Z"
   },
   {
    "duration": 51,
    "start_time": "2023-04-30T10:48:53.347Z"
   },
   {
    "duration": 10,
    "start_time": "2023-04-30T10:48:53.400Z"
   },
   {
    "duration": 12,
    "start_time": "2023-04-30T10:48:53.411Z"
   },
   {
    "duration": 5,
    "start_time": "2023-04-30T10:48:53.425Z"
   },
   {
    "duration": 30,
    "start_time": "2023-04-30T10:48:53.431Z"
   },
   {
    "duration": 238,
    "start_time": "2023-04-30T10:48:53.462Z"
   },
   {
    "duration": 208,
    "start_time": "2023-04-30T10:48:53.702Z"
   },
   {
    "duration": 585,
    "start_time": "2023-04-30T10:48:53.912Z"
   },
   {
    "duration": 13,
    "start_time": "2023-04-30T10:48:54.498Z"
   },
   {
    "duration": 35,
    "start_time": "2023-04-30T10:48:54.512Z"
   },
   {
    "duration": 12,
    "start_time": "2023-04-30T10:48:54.549Z"
   },
   {
    "duration": 294,
    "start_time": "2023-04-30T10:48:54.563Z"
   },
   {
    "duration": 212,
    "start_time": "2023-04-30T10:48:54.860Z"
   },
   {
    "duration": 223,
    "start_time": "2023-04-30T10:48:55.074Z"
   },
   {
    "duration": 313,
    "start_time": "2023-04-30T10:48:55.299Z"
   },
   {
    "duration": 32157,
    "start_time": "2023-04-30T10:48:55.613Z"
   },
   {
    "duration": 130,
    "start_time": "2023-04-30T10:49:27.842Z"
   },
   {
    "duration": 0,
    "start_time": "2023-04-30T10:49:27.974Z"
   },
   {
    "duration": 0,
    "start_time": "2023-04-30T10:49:27.975Z"
   },
   {
    "duration": 0,
    "start_time": "2023-04-30T10:49:27.977Z"
   },
   {
    "duration": 0,
    "start_time": "2023-04-30T10:49:27.978Z"
   },
   {
    "duration": 0,
    "start_time": "2023-04-30T10:49:27.980Z"
   },
   {
    "duration": 0,
    "start_time": "2023-04-30T10:49:27.982Z"
   },
   {
    "duration": 0,
    "start_time": "2023-04-30T10:49:27.983Z"
   },
   {
    "duration": 0,
    "start_time": "2023-04-30T10:49:27.985Z"
   },
   {
    "duration": 0,
    "start_time": "2023-04-30T10:49:27.987Z"
   },
   {
    "duration": 0,
    "start_time": "2023-04-30T10:49:27.988Z"
   },
   {
    "duration": 1,
    "start_time": "2023-04-30T10:49:27.989Z"
   },
   {
    "duration": 0,
    "start_time": "2023-04-30T10:49:27.991Z"
   },
   {
    "duration": 0,
    "start_time": "2023-04-30T10:49:27.992Z"
   },
   {
    "duration": 0,
    "start_time": "2023-04-30T10:49:27.994Z"
   },
   {
    "duration": 0,
    "start_time": "2023-04-30T10:49:27.995Z"
   },
   {
    "duration": 4,
    "start_time": "2023-04-30T10:49:33.610Z"
   },
   {
    "duration": 19,
    "start_time": "2023-04-30T10:49:36.449Z"
   },
   {
    "duration": 16,
    "start_time": "2023-04-30T10:49:38.128Z"
   },
   {
    "duration": 4,
    "start_time": "2023-04-30T10:49:38.362Z"
   },
   {
    "duration": 6,
    "start_time": "2023-04-30T10:49:38.546Z"
   },
   {
    "duration": 29,
    "start_time": "2023-04-30T10:49:38.716Z"
   },
   {
    "duration": 3,
    "start_time": "2023-04-30T10:49:38.882Z"
   },
   {
    "duration": 3,
    "start_time": "2023-04-30T10:49:39.246Z"
   },
   {
    "duration": 3901,
    "start_time": "2023-04-30T10:49:39.421Z"
   },
   {
    "duration": 1207,
    "start_time": "2023-04-30T10:49:43.323Z"
   },
   {
    "duration": 416390,
    "start_time": "2023-04-30T10:49:44.534Z"
   },
   {
    "duration": 0,
    "start_time": "2023-04-30T10:56:40.925Z"
   },
   {
    "duration": 0,
    "start_time": "2023-04-30T10:56:40.927Z"
   },
   {
    "duration": 0,
    "start_time": "2023-04-30T10:56:40.927Z"
   },
   {
    "duration": 0,
    "start_time": "2023-04-30T10:56:40.933Z"
   },
   {
    "duration": 0,
    "start_time": "2023-04-30T10:56:40.935Z"
   },
   {
    "duration": 50,
    "start_time": "2023-04-30T10:56:42.196Z"
   },
   {
    "duration": 56,
    "start_time": "2023-04-30T10:57:02.342Z"
   },
   {
    "duration": 43,
    "start_time": "2023-04-30T10:57:58.185Z"
   },
   {
    "duration": 1843,
    "start_time": "2023-04-30T10:58:42.756Z"
   },
   {
    "duration": 74096,
    "start_time": "2023-04-30T10:59:08.029Z"
   },
   {
    "duration": 0,
    "start_time": "2023-04-30T11:00:53.267Z"
   },
   {
    "duration": 0,
    "start_time": "2023-04-30T11:01:56.164Z"
   },
   {
    "duration": 0,
    "start_time": "2023-04-30T11:01:56.165Z"
   },
   {
    "duration": 0,
    "start_time": "2023-04-30T11:03:19.964Z"
   },
   {
    "duration": 1476,
    "start_time": "2023-04-30T11:03:23.162Z"
   },
   {
    "duration": 48,
    "start_time": "2023-04-30T11:03:24.639Z"
   },
   {
    "duration": 11,
    "start_time": "2023-04-30T11:03:24.689Z"
   },
   {
    "duration": 14,
    "start_time": "2023-04-30T11:03:24.702Z"
   },
   {
    "duration": 6,
    "start_time": "2023-04-30T11:03:24.718Z"
   },
   {
    "duration": 26,
    "start_time": "2023-04-30T11:03:24.725Z"
   },
   {
    "duration": 235,
    "start_time": "2023-04-30T11:03:24.753Z"
   },
   {
    "duration": 177,
    "start_time": "2023-04-30T11:03:24.990Z"
   },
   {
    "duration": 521,
    "start_time": "2023-04-30T11:03:25.169Z"
   },
   {
    "duration": 11,
    "start_time": "2023-04-30T11:03:25.692Z"
   },
   {
    "duration": 16,
    "start_time": "2023-04-30T11:03:25.705Z"
   },
   {
    "duration": 7,
    "start_time": "2023-04-30T11:03:25.732Z"
   },
   {
    "duration": 268,
    "start_time": "2023-04-30T11:03:25.741Z"
   },
   {
    "duration": 201,
    "start_time": "2023-04-30T11:03:26.012Z"
   },
   {
    "duration": 203,
    "start_time": "2023-04-30T11:03:26.215Z"
   },
   {
    "duration": 308,
    "start_time": "2023-04-30T11:03:26.419Z"
   },
   {
    "duration": 25204,
    "start_time": "2023-04-30T11:03:26.734Z"
   },
   {
    "duration": 7,
    "start_time": "2023-04-30T11:03:51.941Z"
   },
   {
    "duration": 112,
    "start_time": "2023-04-30T11:03:51.949Z"
   },
   {
    "duration": 12,
    "start_time": "2023-04-30T11:03:52.063Z"
   },
   {
    "duration": 5,
    "start_time": "2023-04-30T11:03:52.077Z"
   },
   {
    "duration": 21,
    "start_time": "2023-04-30T11:03:52.084Z"
   },
   {
    "duration": 11,
    "start_time": "2023-04-30T11:03:52.107Z"
   },
   {
    "duration": 8,
    "start_time": "2023-04-30T11:03:52.119Z"
   },
   {
    "duration": 4160,
    "start_time": "2023-04-30T11:03:52.129Z"
   },
   {
    "duration": 1363,
    "start_time": "2023-04-30T11:03:56.290Z"
   },
   {
    "duration": 122801,
    "start_time": "2023-04-30T11:03:57.654Z"
   },
   {
    "duration": 0,
    "start_time": "2023-04-30T11:06:00.458Z"
   },
   {
    "duration": 0,
    "start_time": "2023-04-30T11:06:00.459Z"
   },
   {
    "duration": 0,
    "start_time": "2023-04-30T11:06:00.460Z"
   },
   {
    "duration": 0,
    "start_time": "2023-04-30T11:06:00.462Z"
   },
   {
    "duration": 0,
    "start_time": "2023-04-30T11:06:00.463Z"
   },
   {
    "duration": 0,
    "start_time": "2023-04-30T11:06:00.464Z"
   },
   {
    "duration": 0,
    "start_time": "2023-04-30T11:06:00.466Z"
   },
   {
    "duration": 3976,
    "start_time": "2023-04-30T11:06:01.912Z"
   },
   {
    "duration": 1436,
    "start_time": "2023-04-30T11:06:33.240Z"
   },
   {
    "duration": 47,
    "start_time": "2023-04-30T11:06:34.678Z"
   },
   {
    "duration": 11,
    "start_time": "2023-04-30T11:06:34.726Z"
   },
   {
    "duration": 11,
    "start_time": "2023-04-30T11:06:34.738Z"
   },
   {
    "duration": 9,
    "start_time": "2023-04-30T11:06:34.751Z"
   },
   {
    "duration": 15,
    "start_time": "2023-04-30T11:06:34.761Z"
   },
   {
    "duration": 232,
    "start_time": "2023-04-30T11:06:34.777Z"
   },
   {
    "duration": 172,
    "start_time": "2023-04-30T11:06:35.011Z"
   },
   {
    "duration": 504,
    "start_time": "2023-04-30T11:06:35.185Z"
   },
   {
    "duration": 12,
    "start_time": "2023-04-30T11:06:35.691Z"
   },
   {
    "duration": 10,
    "start_time": "2023-04-30T11:06:35.705Z"
   },
   {
    "duration": 6,
    "start_time": "2023-04-30T11:06:35.733Z"
   },
   {
    "duration": 274,
    "start_time": "2023-04-30T11:06:35.741Z"
   },
   {
    "duration": 196,
    "start_time": "2023-04-30T11:06:36.017Z"
   },
   {
    "duration": 194,
    "start_time": "2023-04-30T11:06:36.215Z"
   },
   {
    "duration": 306,
    "start_time": "2023-04-30T11:06:36.411Z"
   },
   {
    "duration": 1469,
    "start_time": "2023-04-30T11:06:51.816Z"
   },
   {
    "duration": 49,
    "start_time": "2023-04-30T11:06:53.287Z"
   },
   {
    "duration": 11,
    "start_time": "2023-04-30T11:06:53.338Z"
   },
   {
    "duration": 15,
    "start_time": "2023-04-30T11:06:53.351Z"
   },
   {
    "duration": 7,
    "start_time": "2023-04-30T11:06:53.369Z"
   },
   {
    "duration": 17,
    "start_time": "2023-04-30T11:06:53.377Z"
   },
   {
    "duration": 275,
    "start_time": "2023-04-30T11:06:53.395Z"
   },
   {
    "duration": 187,
    "start_time": "2023-04-30T11:06:53.672Z"
   },
   {
    "duration": 586,
    "start_time": "2023-04-30T11:06:53.862Z"
   },
   {
    "duration": 14,
    "start_time": "2023-04-30T11:06:54.450Z"
   },
   {
    "duration": 13,
    "start_time": "2023-04-30T11:06:54.466Z"
   },
   {
    "duration": 13,
    "start_time": "2023-04-30T11:06:54.482Z"
   },
   {
    "duration": 289,
    "start_time": "2023-04-30T11:06:54.496Z"
   },
   {
    "duration": 199,
    "start_time": "2023-04-30T11:06:54.789Z"
   },
   {
    "duration": 211,
    "start_time": "2023-04-30T11:06:54.989Z"
   },
   {
    "duration": 288,
    "start_time": "2023-04-30T11:06:55.202Z"
   },
   {
    "duration": 24742,
    "start_time": "2023-04-30T11:06:55.492Z"
   },
   {
    "duration": 94,
    "start_time": "2023-04-30T11:07:20.241Z"
   },
   {
    "duration": 17,
    "start_time": "2023-04-30T11:07:20.337Z"
   },
   {
    "duration": 7,
    "start_time": "2023-04-30T11:07:20.355Z"
   },
   {
    "duration": 13,
    "start_time": "2023-04-30T11:07:20.363Z"
   },
   {
    "duration": 22,
    "start_time": "2023-04-30T11:07:20.378Z"
   },
   {
    "duration": 14,
    "start_time": "2023-04-30T11:07:20.402Z"
   },
   {
    "duration": 18,
    "start_time": "2023-04-30T11:07:20.417Z"
   },
   {
    "duration": 3631,
    "start_time": "2023-04-30T11:07:20.436Z"
   },
   {
    "duration": 1067,
    "start_time": "2023-04-30T11:07:24.069Z"
   },
   {
    "duration": 376837,
    "start_time": "2023-04-30T11:07:25.137Z"
   },
   {
    "duration": 970,
    "start_time": "2023-04-30T11:13:41.976Z"
   },
   {
    "duration": 13449,
    "start_time": "2023-04-30T11:13:42.948Z"
   },
   {
    "duration": 1635,
    "start_time": "2023-04-30T11:13:56.398Z"
   },
   {
    "duration": 50526,
    "start_time": "2023-04-30T11:13:58.035Z"
   },
   {
    "duration": 26,
    "start_time": "2023-04-30T11:14:48.563Z"
   },
   {
    "duration": 8,
    "start_time": "2023-04-30T11:14:48.591Z"
   },
   {
    "duration": 194,
    "start_time": "2023-04-30T11:14:48.600Z"
   },
   {
    "duration": 40,
    "start_time": "2023-04-30T11:14:48.799Z"
   },
   {
    "duration": 1499,
    "start_time": "2023-04-30T11:15:28.402Z"
   },
   {
    "duration": 50,
    "start_time": "2023-04-30T11:15:29.903Z"
   },
   {
    "duration": 10,
    "start_time": "2023-04-30T11:15:29.955Z"
   },
   {
    "duration": 13,
    "start_time": "2023-04-30T11:15:29.968Z"
   },
   {
    "duration": 6,
    "start_time": "2023-04-30T11:15:29.982Z"
   },
   {
    "duration": 16,
    "start_time": "2023-04-30T11:15:29.990Z"
   },
   {
    "duration": 271,
    "start_time": "2023-04-30T11:15:30.008Z"
   },
   {
    "duration": 200,
    "start_time": "2023-04-30T11:15:30.281Z"
   },
   {
    "duration": 567,
    "start_time": "2023-04-30T11:15:30.483Z"
   },
   {
    "duration": 12,
    "start_time": "2023-04-30T11:15:31.053Z"
   },
   {
    "duration": 33,
    "start_time": "2023-04-30T11:15:31.066Z"
   },
   {
    "duration": 43,
    "start_time": "2023-04-30T11:15:31.101Z"
   },
   {
    "duration": 288,
    "start_time": "2023-04-30T11:15:31.146Z"
   },
   {
    "duration": 197,
    "start_time": "2023-04-30T11:15:31.436Z"
   },
   {
    "duration": 220,
    "start_time": "2023-04-30T11:15:31.635Z"
   },
   {
    "duration": 332,
    "start_time": "2023-04-30T11:15:31.857Z"
   },
   {
    "duration": 25148,
    "start_time": "2023-04-30T11:15:32.191Z"
   },
   {
    "duration": 6,
    "start_time": "2023-04-30T11:15:57.341Z"
   },
   {
    "duration": 103,
    "start_time": "2023-04-30T11:15:57.349Z"
   },
   {
    "duration": 7,
    "start_time": "2023-04-30T11:15:57.454Z"
   },
   {
    "duration": 7,
    "start_time": "2023-04-30T11:15:57.463Z"
   },
   {
    "duration": 8,
    "start_time": "2023-04-30T11:15:57.472Z"
   },
   {
    "duration": 7,
    "start_time": "2023-04-30T11:15:57.482Z"
   },
   {
    "duration": 8,
    "start_time": "2023-04-30T11:15:57.491Z"
   },
   {
    "duration": 3714,
    "start_time": "2023-04-30T11:15:57.500Z"
   },
   {
    "duration": 1120,
    "start_time": "2023-04-30T11:16:01.216Z"
   },
   {
    "duration": 32,
    "start_time": "2023-04-30T11:16:02.338Z"
   },
   {
    "duration": 0,
    "start_time": "2023-04-30T11:16:02.372Z"
   },
   {
    "duration": 0,
    "start_time": "2023-04-30T11:16:02.374Z"
   },
   {
    "duration": 0,
    "start_time": "2023-04-30T11:16:02.375Z"
   },
   {
    "duration": 0,
    "start_time": "2023-04-30T11:16:02.376Z"
   },
   {
    "duration": 0,
    "start_time": "2023-04-30T11:16:02.377Z"
   },
   {
    "duration": 0,
    "start_time": "2023-04-30T11:16:02.378Z"
   },
   {
    "duration": 0,
    "start_time": "2023-04-30T11:16:02.379Z"
   },
   {
    "duration": 1116,
    "start_time": "2023-04-30T11:16:26.149Z"
   },
   {
    "duration": 83,
    "start_time": "2023-04-30T11:16:39.612Z"
   },
   {
    "duration": 54,
    "start_time": "2023-04-30T11:17:09.438Z"
   },
   {
    "duration": 87,
    "start_time": "2023-04-30T11:17:30.115Z"
   },
   {
    "duration": 9100,
    "start_time": "2023-04-30T11:17:51.151Z"
   },
   {
    "duration": 19553,
    "start_time": "2023-04-30T11:18:01.132Z"
   },
   {
    "duration": 1665,
    "start_time": "2023-04-30T11:18:22.335Z"
   },
   {
    "duration": 20809,
    "start_time": "2023-04-30T11:18:24.002Z"
   },
   {
    "duration": 4375,
    "start_time": "2023-04-30T11:20:02.782Z"
   },
   {
    "duration": 2987,
    "start_time": "2023-04-30T11:20:53.417Z"
   },
   {
    "duration": 208,
    "start_time": "2023-04-30T11:21:05.588Z"
   },
   {
    "duration": 3238,
    "start_time": "2023-04-30T11:25:04.349Z"
   },
   {
    "duration": 2532,
    "start_time": "2023-04-30T11:27:05.791Z"
   },
   {
    "duration": 55,
    "start_time": "2023-04-30T11:37:53.617Z"
   },
   {
    "duration": 48,
    "start_time": "2023-04-30T11:38:04.368Z"
   },
   {
    "duration": 511,
    "start_time": "2023-04-30T11:38:13.600Z"
   },
   {
    "duration": 435,
    "start_time": "2023-04-30T11:38:36.814Z"
   },
   {
    "duration": 390,
    "start_time": "2023-04-30T11:38:53.769Z"
   },
   {
    "duration": 1748,
    "start_time": "2023-04-30T11:39:18.128Z"
   },
   {
    "duration": 54,
    "start_time": "2023-04-30T11:39:19.878Z"
   },
   {
    "duration": 12,
    "start_time": "2023-04-30T11:39:19.933Z"
   },
   {
    "duration": 14,
    "start_time": "2023-04-30T11:39:19.947Z"
   },
   {
    "duration": 6,
    "start_time": "2023-04-30T11:39:19.962Z"
   },
   {
    "duration": 19,
    "start_time": "2023-04-30T11:39:19.970Z"
   },
   {
    "duration": 305,
    "start_time": "2023-04-30T11:39:19.990Z"
   },
   {
    "duration": 200,
    "start_time": "2023-04-30T11:39:20.296Z"
   },
   {
    "duration": 637,
    "start_time": "2023-04-30T11:39:20.498Z"
   },
   {
    "duration": 13,
    "start_time": "2023-04-30T11:39:21.138Z"
   },
   {
    "duration": 13,
    "start_time": "2023-04-30T11:39:21.152Z"
   },
   {
    "duration": 10,
    "start_time": "2023-04-30T11:39:21.167Z"
   },
   {
    "duration": 338,
    "start_time": "2023-04-30T11:39:21.179Z"
   },
   {
    "duration": 47,
    "start_time": "2023-04-30T11:39:21.519Z"
   },
   {
    "duration": 0,
    "start_time": "2023-04-30T11:39:21.568Z"
   },
   {
    "duration": 0,
    "start_time": "2023-04-30T11:39:21.570Z"
   },
   {
    "duration": 0,
    "start_time": "2023-04-30T11:39:21.571Z"
   },
   {
    "duration": 0,
    "start_time": "2023-04-30T11:39:21.572Z"
   },
   {
    "duration": 0,
    "start_time": "2023-04-30T11:39:21.573Z"
   },
   {
    "duration": 0,
    "start_time": "2023-04-30T11:39:21.574Z"
   },
   {
    "duration": 0,
    "start_time": "2023-04-30T11:39:21.575Z"
   },
   {
    "duration": 0,
    "start_time": "2023-04-30T11:39:21.576Z"
   },
   {
    "duration": 0,
    "start_time": "2023-04-30T11:39:21.578Z"
   },
   {
    "duration": 0,
    "start_time": "2023-04-30T11:39:21.579Z"
   },
   {
    "duration": 0,
    "start_time": "2023-04-30T11:39:21.580Z"
   },
   {
    "duration": 0,
    "start_time": "2023-04-30T11:39:21.581Z"
   },
   {
    "duration": 0,
    "start_time": "2023-04-30T11:39:21.582Z"
   },
   {
    "duration": 0,
    "start_time": "2023-04-30T11:39:21.583Z"
   },
   {
    "duration": 0,
    "start_time": "2023-04-30T11:39:21.584Z"
   },
   {
    "duration": 0,
    "start_time": "2023-04-30T11:39:21.585Z"
   },
   {
    "duration": 0,
    "start_time": "2023-04-30T11:39:21.586Z"
   },
   {
    "duration": 0,
    "start_time": "2023-04-30T11:39:21.587Z"
   },
   {
    "duration": 0,
    "start_time": "2023-04-30T11:39:21.588Z"
   },
   {
    "duration": 0,
    "start_time": "2023-04-30T11:39:21.589Z"
   },
   {
    "duration": 1567,
    "start_time": "2023-04-30T11:39:58.793Z"
   },
   {
    "duration": 51,
    "start_time": "2023-04-30T11:40:00.363Z"
   },
   {
    "duration": 10,
    "start_time": "2023-04-30T11:40:00.416Z"
   },
   {
    "duration": 36,
    "start_time": "2023-04-30T11:40:00.428Z"
   },
   {
    "duration": 55,
    "start_time": "2023-04-30T11:40:00.467Z"
   },
   {
    "duration": 69,
    "start_time": "2023-04-30T11:40:00.523Z"
   },
   {
    "duration": 278,
    "start_time": "2023-04-30T11:40:00.594Z"
   },
   {
    "duration": 189,
    "start_time": "2023-04-30T11:40:00.874Z"
   },
   {
    "duration": 516,
    "start_time": "2023-04-30T11:40:01.065Z"
   },
   {
    "duration": 11,
    "start_time": "2023-04-30T11:40:01.583Z"
   },
   {
    "duration": 72,
    "start_time": "2023-04-30T11:40:01.596Z"
   },
   {
    "duration": 47,
    "start_time": "2023-04-30T11:40:01.670Z"
   },
   {
    "duration": 340,
    "start_time": "2023-04-30T11:40:01.719Z"
   },
   {
    "duration": 226,
    "start_time": "2023-04-30T11:40:02.063Z"
   },
   {
    "duration": 222,
    "start_time": "2023-04-30T11:40:02.291Z"
   },
   {
    "duration": 416,
    "start_time": "2023-04-30T11:40:02.515Z"
   },
   {
    "duration": 274,
    "start_time": "2023-04-30T11:40:02.933Z"
   },
   {
    "duration": 23226,
    "start_time": "2023-04-30T11:40:03.209Z"
   },
   {
    "duration": 97,
    "start_time": "2023-04-30T11:40:26.437Z"
   },
   {
    "duration": 17,
    "start_time": "2023-04-30T11:40:26.536Z"
   },
   {
    "duration": 30,
    "start_time": "2023-04-30T11:40:26.555Z"
   },
   {
    "duration": 61,
    "start_time": "2023-04-30T11:40:26.587Z"
   },
   {
    "duration": 38,
    "start_time": "2023-04-30T11:40:26.650Z"
   },
   {
    "duration": 15,
    "start_time": "2023-04-30T11:40:26.690Z"
   },
   {
    "duration": 10,
    "start_time": "2023-04-30T11:40:26.707Z"
   },
   {
    "duration": 3948,
    "start_time": "2023-04-30T11:40:26.719Z"
   },
   {
    "duration": 1242,
    "start_time": "2023-04-30T11:40:30.668Z"
   },
   {
    "duration": 864564,
    "start_time": "2023-04-30T11:40:31.912Z"
   },
   {
    "duration": 1170,
    "start_time": "2023-04-30T11:54:56.478Z"
   },
   {
    "duration": 38721,
    "start_time": "2023-04-30T11:54:57.650Z"
   },
   {
    "duration": 1768,
    "start_time": "2023-04-30T11:55:36.373Z"
   },
   {
    "duration": 18846,
    "start_time": "2023-04-30T11:55:38.143Z"
   },
   {
    "duration": 2647,
    "start_time": "2023-04-30T11:55:56.991Z"
   },
   {
    "duration": 197,
    "start_time": "2023-04-30T11:55:59.640Z"
   },
   {
    "duration": 156699,
    "start_time": "2023-04-30T11:55:59.844Z"
   },
   {
    "duration": 1350,
    "start_time": "2023-04-30T11:59:23.566Z"
   },
   {
    "duration": 50,
    "start_time": "2023-04-30T11:59:24.919Z"
   },
   {
    "duration": 9,
    "start_time": "2023-04-30T11:59:24.971Z"
   },
   {
    "duration": 14,
    "start_time": "2023-04-30T11:59:24.981Z"
   },
   {
    "duration": 7,
    "start_time": "2023-04-30T11:59:24.997Z"
   },
   {
    "duration": 34,
    "start_time": "2023-04-30T11:59:25.005Z"
   },
   {
    "duration": 242,
    "start_time": "2023-04-30T11:59:25.040Z"
   },
   {
    "duration": 168,
    "start_time": "2023-04-30T11:59:25.284Z"
   },
   {
    "duration": 502,
    "start_time": "2023-04-30T11:59:25.454Z"
   },
   {
    "duration": 12,
    "start_time": "2023-04-30T11:59:25.958Z"
   },
   {
    "duration": 11,
    "start_time": "2023-04-30T11:59:25.971Z"
   },
   {
    "duration": 9,
    "start_time": "2023-04-30T11:59:25.984Z"
   },
   {
    "duration": 282,
    "start_time": "2023-04-30T11:59:25.994Z"
   },
   {
    "duration": 190,
    "start_time": "2023-04-30T11:59:26.280Z"
   },
   {
    "duration": 231,
    "start_time": "2023-04-30T11:59:26.471Z"
   },
   {
    "duration": 509,
    "start_time": "2023-04-30T11:59:26.704Z"
   },
   {
    "duration": 293,
    "start_time": "2023-04-30T11:59:27.214Z"
   },
   {
    "duration": 24534,
    "start_time": "2023-04-30T11:59:27.508Z"
   },
   {
    "duration": 87,
    "start_time": "2023-04-30T11:59:52.047Z"
   },
   {
    "duration": 29,
    "start_time": "2023-04-30T11:59:52.136Z"
   },
   {
    "duration": 8,
    "start_time": "2023-04-30T11:59:52.167Z"
   },
   {
    "duration": 12,
    "start_time": "2023-04-30T11:59:52.176Z"
   },
   {
    "duration": 10,
    "start_time": "2023-04-30T11:59:52.189Z"
   },
   {
    "duration": 16,
    "start_time": "2023-04-30T11:59:52.201Z"
   },
   {
    "duration": 19,
    "start_time": "2023-04-30T11:59:52.218Z"
   },
   {
    "duration": 3429,
    "start_time": "2023-04-30T11:59:52.239Z"
   },
   {
    "duration": 1054,
    "start_time": "2023-04-30T11:59:55.670Z"
   },
   {
    "duration": 1536,
    "start_time": "2023-04-30T12:00:55.326Z"
   },
   {
    "duration": 60,
    "start_time": "2023-04-30T12:00:56.865Z"
   },
   {
    "duration": 14,
    "start_time": "2023-04-30T12:00:56.927Z"
   },
   {
    "duration": 50,
    "start_time": "2023-04-30T12:00:56.944Z"
   },
   {
    "duration": 41,
    "start_time": "2023-04-30T12:00:56.997Z"
   },
   {
    "duration": 46,
    "start_time": "2023-04-30T12:00:57.040Z"
   },
   {
    "duration": 316,
    "start_time": "2023-04-30T12:00:57.088Z"
   },
   {
    "duration": 227,
    "start_time": "2023-04-30T12:00:57.406Z"
   },
   {
    "duration": 607,
    "start_time": "2023-04-30T12:00:57.642Z"
   },
   {
    "duration": 13,
    "start_time": "2023-04-30T12:00:58.251Z"
   },
   {
    "duration": 11,
    "start_time": "2023-04-30T12:00:58.266Z"
   },
   {
    "duration": 10,
    "start_time": "2023-04-30T12:00:58.278Z"
   },
   {
    "duration": 363,
    "start_time": "2023-04-30T12:00:58.289Z"
   },
   {
    "duration": 223,
    "start_time": "2023-04-30T12:00:58.655Z"
   },
   {
    "duration": 250,
    "start_time": "2023-04-30T12:00:58.880Z"
   },
   {
    "duration": 490,
    "start_time": "2023-04-30T12:00:59.132Z"
   },
   {
    "duration": 322,
    "start_time": "2023-04-30T12:00:59.624Z"
   },
   {
    "duration": 27886,
    "start_time": "2023-04-30T12:00:59.947Z"
   },
   {
    "duration": 8,
    "start_time": "2023-04-30T12:01:27.839Z"
   },
   {
    "duration": 24,
    "start_time": "2023-04-30T12:01:27.934Z"
   },
   {
    "duration": 8,
    "start_time": "2023-04-30T12:01:27.960Z"
   },
   {
    "duration": 5,
    "start_time": "2023-04-30T12:01:27.970Z"
   },
   {
    "duration": 9,
    "start_time": "2023-04-30T12:01:27.977Z"
   },
   {
    "duration": 20,
    "start_time": "2023-04-30T12:01:27.988Z"
   },
   {
    "duration": 16,
    "start_time": "2023-04-30T12:01:28.010Z"
   },
   {
    "duration": 3782,
    "start_time": "2023-04-30T12:01:28.029Z"
   },
   {
    "duration": 1184,
    "start_time": "2023-04-30T12:01:31.813Z"
   },
   {
    "duration": 1066,
    "start_time": "2023-04-30T12:01:32.999Z"
   },
   {
    "duration": 1852,
    "start_time": "2023-04-30T12:01:34.135Z"
   },
   {
    "duration": 20452,
    "start_time": "2023-04-30T12:01:35.990Z"
   },
   {
    "duration": 2796,
    "start_time": "2023-04-30T12:01:56.444Z"
   },
   {
    "duration": 303,
    "start_time": "2023-04-30T12:01:59.242Z"
   },
   {
    "duration": 1466,
    "start_time": "2023-04-30T12:04:13.517Z"
   },
   {
    "duration": 51,
    "start_time": "2023-04-30T12:04:14.985Z"
   },
   {
    "duration": 12,
    "start_time": "2023-04-30T12:04:15.038Z"
   },
   {
    "duration": 27,
    "start_time": "2023-04-30T12:04:15.052Z"
   },
   {
    "duration": 12,
    "start_time": "2023-04-30T12:04:15.082Z"
   },
   {
    "duration": 25,
    "start_time": "2023-04-30T12:04:15.096Z"
   },
   {
    "duration": 234,
    "start_time": "2023-04-30T12:04:15.123Z"
   },
   {
    "duration": 204,
    "start_time": "2023-04-30T12:04:15.359Z"
   },
   {
    "duration": 545,
    "start_time": "2023-04-30T12:04:15.565Z"
   },
   {
    "duration": 21,
    "start_time": "2023-04-30T12:04:16.112Z"
   },
   {
    "duration": 12,
    "start_time": "2023-04-30T12:04:16.135Z"
   },
   {
    "duration": 7,
    "start_time": "2023-04-30T12:04:16.149Z"
   },
   {
    "duration": 275,
    "start_time": "2023-04-30T12:04:16.158Z"
   },
   {
    "duration": 191,
    "start_time": "2023-04-30T12:04:16.436Z"
   },
   {
    "duration": 189,
    "start_time": "2023-04-30T12:04:16.633Z"
   },
   {
    "duration": 518,
    "start_time": "2023-04-30T12:04:16.824Z"
   },
   {
    "duration": 319,
    "start_time": "2023-04-30T12:04:17.344Z"
   },
   {
    "duration": 22970,
    "start_time": "2023-04-30T12:04:17.665Z"
   },
   {
    "duration": 6,
    "start_time": "2023-04-30T12:04:40.637Z"
   },
   {
    "duration": 14,
    "start_time": "2023-04-30T12:04:40.734Z"
   },
   {
    "duration": 6,
    "start_time": "2023-04-30T12:04:40.749Z"
   },
   {
    "duration": 7,
    "start_time": "2023-04-30T12:04:40.756Z"
   },
   {
    "duration": 16,
    "start_time": "2023-04-30T12:04:40.764Z"
   },
   {
    "duration": 7,
    "start_time": "2023-04-30T12:04:40.781Z"
   },
   {
    "duration": 12,
    "start_time": "2023-04-30T12:04:40.790Z"
   },
   {
    "duration": 3686,
    "start_time": "2023-04-30T12:04:40.803Z"
   },
   {
    "duration": 1137,
    "start_time": "2023-04-30T12:04:44.490Z"
   },
   {
    "duration": 67621,
    "start_time": "2023-04-30T12:04:45.634Z"
   },
   {
    "duration": 2080,
    "start_time": "2023-04-30T12:05:53.258Z"
   },
   {
    "duration": 286766,
    "start_time": "2023-04-30T12:05:55.343Z"
   },
   {
    "duration": 1958,
    "start_time": "2023-04-30T12:10:42.111Z"
   },
   {
    "duration": 3318,
    "start_time": "2023-04-30T12:10:54.480Z"
   },
   {
    "duration": 186,
    "start_time": "2023-04-30T12:10:57.800Z"
   },
   {
    "duration": 580,
    "start_time": "2023-04-30T12:10:57.990Z"
   },
   {
    "duration": 22584,
    "start_time": "2023-04-30T12:11:18.607Z"
   },
   {
    "duration": 22613,
    "start_time": "2023-04-30T12:12:30.735Z"
   },
   {
    "duration": 2890,
    "start_time": "2023-04-30T12:12:55.037Z"
   },
   {
    "duration": 1375,
    "start_time": "2023-04-30T12:13:51.581Z"
   },
   {
    "duration": 52,
    "start_time": "2023-04-30T12:13:52.958Z"
   },
   {
    "duration": 9,
    "start_time": "2023-04-30T12:13:53.012Z"
   },
   {
    "duration": 10,
    "start_time": "2023-04-30T12:13:53.023Z"
   },
   {
    "duration": 6,
    "start_time": "2023-04-30T12:13:53.036Z"
   },
   {
    "duration": 19,
    "start_time": "2023-04-30T12:13:53.044Z"
   },
   {
    "duration": 251,
    "start_time": "2023-04-30T12:13:53.064Z"
   },
   {
    "duration": 163,
    "start_time": "2023-04-30T12:13:53.316Z"
   },
   {
    "duration": 480,
    "start_time": "2023-04-30T12:13:53.481Z"
   },
   {
    "duration": 11,
    "start_time": "2023-04-30T12:13:53.963Z"
   },
   {
    "duration": 11,
    "start_time": "2023-04-30T12:13:53.975Z"
   },
   {
    "duration": 8,
    "start_time": "2023-04-30T12:13:53.987Z"
   },
   {
    "duration": 295,
    "start_time": "2023-04-30T12:13:53.997Z"
   },
   {
    "duration": 178,
    "start_time": "2023-04-30T12:13:54.296Z"
   },
   {
    "duration": 194,
    "start_time": "2023-04-30T12:13:54.475Z"
   },
   {
    "duration": 389,
    "start_time": "2023-04-30T12:13:54.670Z"
   },
   {
    "duration": 294,
    "start_time": "2023-04-30T12:13:55.062Z"
   },
   {
    "duration": 1588,
    "start_time": "2023-04-30T12:14:11.166Z"
   },
   {
    "duration": 47,
    "start_time": "2023-04-30T12:14:12.756Z"
   },
   {
    "duration": 9,
    "start_time": "2023-04-30T12:14:12.804Z"
   },
   {
    "duration": 15,
    "start_time": "2023-04-30T12:14:12.815Z"
   },
   {
    "duration": 11,
    "start_time": "2023-04-30T12:14:12.831Z"
   },
   {
    "duration": 15,
    "start_time": "2023-04-30T12:14:12.843Z"
   },
   {
    "duration": 220,
    "start_time": "2023-04-30T12:14:12.859Z"
   },
   {
    "duration": 185,
    "start_time": "2023-04-30T12:14:13.081Z"
   },
   {
    "duration": 497,
    "start_time": "2023-04-30T12:14:13.268Z"
   },
   {
    "duration": 10,
    "start_time": "2023-04-30T12:14:13.767Z"
   },
   {
    "duration": 10,
    "start_time": "2023-04-30T12:14:13.779Z"
   },
   {
    "duration": 5,
    "start_time": "2023-04-30T12:14:13.791Z"
   },
   {
    "duration": 285,
    "start_time": "2023-04-30T12:14:13.798Z"
   },
   {
    "duration": 182,
    "start_time": "2023-04-30T12:14:14.092Z"
   },
   {
    "duration": 195,
    "start_time": "2023-04-30T12:14:14.276Z"
   },
   {
    "duration": 386,
    "start_time": "2023-04-30T12:14:14.473Z"
   },
   {
    "duration": 289,
    "start_time": "2023-04-30T12:14:14.861Z"
   },
   {
    "duration": 24791,
    "start_time": "2023-04-30T12:14:15.152Z"
   },
   {
    "duration": 8,
    "start_time": "2023-04-30T12:14:40.034Z"
   },
   {
    "duration": 107,
    "start_time": "2023-04-30T12:14:40.045Z"
   },
   {
    "duration": 12,
    "start_time": "2023-04-30T12:14:40.153Z"
   },
   {
    "duration": 5,
    "start_time": "2023-04-30T12:14:40.166Z"
   },
   {
    "duration": 9,
    "start_time": "2023-04-30T12:14:40.173Z"
   },
   {
    "duration": 7,
    "start_time": "2023-04-30T12:14:40.183Z"
   },
   {
    "duration": 3583,
    "start_time": "2023-04-30T12:14:40.192Z"
   },
   {
    "duration": 63258,
    "start_time": "2023-04-30T12:14:43.777Z"
   },
   {
    "duration": 191,
    "start_time": "2023-04-30T12:15:47.036Z"
   },
   {
    "duration": 1646,
    "start_time": "2023-04-30T12:18:17.412Z"
   },
   {
    "duration": 47,
    "start_time": "2023-04-30T12:18:19.059Z"
   },
   {
    "duration": 10,
    "start_time": "2023-04-30T12:18:19.107Z"
   },
   {
    "duration": 10,
    "start_time": "2023-04-30T12:18:19.118Z"
   },
   {
    "duration": 8,
    "start_time": "2023-04-30T12:18:19.130Z"
   },
   {
    "duration": 18,
    "start_time": "2023-04-30T12:18:19.140Z"
   },
   {
    "duration": 211,
    "start_time": "2023-04-30T12:18:19.160Z"
   },
   {
    "duration": 169,
    "start_time": "2023-04-30T12:18:19.372Z"
   },
   {
    "duration": 495,
    "start_time": "2023-04-30T12:18:19.542Z"
   },
   {
    "duration": 13,
    "start_time": "2023-04-30T12:18:20.039Z"
   },
   {
    "duration": 23,
    "start_time": "2023-04-30T12:18:20.054Z"
   },
   {
    "duration": 20,
    "start_time": "2023-04-30T12:18:20.079Z"
   },
   {
    "duration": 254,
    "start_time": "2023-04-30T12:18:20.100Z"
   },
   {
    "duration": 183,
    "start_time": "2023-04-30T12:18:20.357Z"
   },
   {
    "duration": 213,
    "start_time": "2023-04-30T12:18:20.542Z"
   },
   {
    "duration": 386,
    "start_time": "2023-04-30T12:18:20.756Z"
   },
   {
    "duration": 249,
    "start_time": "2023-04-30T12:18:21.144Z"
   },
   {
    "duration": 21543,
    "start_time": "2023-04-30T12:18:21.394Z"
   },
   {
    "duration": 5,
    "start_time": "2023-04-30T12:18:43.032Z"
   },
   {
    "duration": 24,
    "start_time": "2023-04-30T12:18:43.038Z"
   },
   {
    "duration": 12,
    "start_time": "2023-04-30T12:18:43.063Z"
   },
   {
    "duration": 18,
    "start_time": "2023-04-30T12:18:43.077Z"
   },
   {
    "duration": 17,
    "start_time": "2023-04-30T12:18:43.096Z"
   },
   {
    "duration": 29,
    "start_time": "2023-04-30T12:18:43.115Z"
   },
   {
    "duration": 5,
    "start_time": "2023-04-30T12:18:43.145Z"
   },
   {
    "duration": 3395,
    "start_time": "2023-04-30T12:18:43.152Z"
   },
   {
    "duration": 1095,
    "start_time": "2023-04-30T12:18:46.549Z"
   },
   {
    "duration": 546590,
    "start_time": "2023-04-30T12:18:47.646Z"
   },
   {
    "duration": 911,
    "start_time": "2023-04-30T12:27:54.238Z"
   },
   {
    "duration": 197615,
    "start_time": "2023-04-30T12:27:55.151Z"
   },
   {
    "duration": 1570,
    "start_time": "2023-04-30T12:31:12.767Z"
   },
   {
    "duration": 18462,
    "start_time": "2023-04-30T12:31:14.339Z"
   },
   {
    "duration": 2523,
    "start_time": "2023-04-30T12:31:32.803Z"
   },
   {
    "duration": 81507,
    "start_time": "2023-04-30T12:31:35.327Z"
   },
   {
    "duration": 233,
    "start_time": "2023-04-30T12:32:56.836Z"
   },
   {
    "duration": 1650,
    "start_time": "2023-04-30T16:20:09.837Z"
   },
   {
    "duration": 117,
    "start_time": "2023-04-30T16:20:11.489Z"
   },
   {
    "duration": 12,
    "start_time": "2023-04-30T16:20:11.608Z"
   },
   {
    "duration": 12,
    "start_time": "2023-04-30T16:20:11.622Z"
   },
   {
    "duration": 6,
    "start_time": "2023-04-30T16:20:11.636Z"
   },
   {
    "duration": 17,
    "start_time": "2023-04-30T16:20:11.644Z"
   },
   {
    "duration": 296,
    "start_time": "2023-04-30T16:20:11.662Z"
   },
   {
    "duration": 203,
    "start_time": "2023-04-30T16:20:11.960Z"
   },
   {
    "duration": 625,
    "start_time": "2023-04-30T16:20:12.165Z"
   },
   {
    "duration": 13,
    "start_time": "2023-04-30T16:20:12.792Z"
   },
   {
    "duration": 21,
    "start_time": "2023-04-30T16:20:12.806Z"
   },
   {
    "duration": 22,
    "start_time": "2023-04-30T16:20:12.829Z"
   },
   {
    "duration": 306,
    "start_time": "2023-04-30T16:20:12.852Z"
   },
   {
    "duration": 220,
    "start_time": "2023-04-30T16:20:13.161Z"
   },
   {
    "duration": 253,
    "start_time": "2023-04-30T16:20:13.382Z"
   },
   {
    "duration": 441,
    "start_time": "2023-04-30T16:20:13.637Z"
   },
   {
    "duration": 374,
    "start_time": "2023-04-30T16:20:14.079Z"
   },
   {
    "duration": 22869,
    "start_time": "2023-04-30T16:20:14.455Z"
   },
   {
    "duration": 93,
    "start_time": "2023-04-30T16:20:37.328Z"
   },
   {
    "duration": 24,
    "start_time": "2023-04-30T16:20:37.423Z"
   },
   {
    "duration": 8,
    "start_time": "2023-04-30T16:20:37.448Z"
   },
   {
    "duration": 5,
    "start_time": "2023-04-30T16:20:37.458Z"
   },
   {
    "duration": 13,
    "start_time": "2023-04-30T16:20:37.464Z"
   },
   {
    "duration": 8,
    "start_time": "2023-04-30T16:20:37.479Z"
   },
   {
    "duration": 10,
    "start_time": "2023-04-30T16:20:37.489Z"
   },
   {
    "duration": 3837,
    "start_time": "2023-04-30T16:20:37.500Z"
   },
   {
    "duration": 1281,
    "start_time": "2023-04-30T16:20:41.339Z"
   },
   {
    "duration": 1116,
    "start_time": "2023-04-30T16:20:42.622Z"
   },
   {
    "duration": 1897,
    "start_time": "2023-04-30T16:20:43.740Z"
   },
   {
    "duration": 17904,
    "start_time": "2023-04-30T16:20:45.639Z"
   },
   {
    "duration": 2670,
    "start_time": "2023-04-30T16:21:03.545Z"
   },
   {
    "duration": 217,
    "start_time": "2023-04-30T16:21:06.217Z"
   },
   {
    "duration": 395,
    "start_time": "2023-04-30T16:21:06.436Z"
   },
   {
    "duration": 1254,
    "start_time": "2023-04-30T16:21:59.025Z"
   },
   {
    "duration": 1015,
    "start_time": "2023-04-30T16:22:21.113Z"
   },
   {
    "duration": 945,
    "start_time": "2023-04-30T16:22:36.546Z"
   },
   {
    "duration": 2759,
    "start_time": "2023-04-30T16:22:54.234Z"
   },
   {
    "duration": 1638,
    "start_time": "2023-04-30T16:23:01.584Z"
   },
   {
    "duration": 50,
    "start_time": "2023-04-30T16:23:03.224Z"
   },
   {
    "duration": 15,
    "start_time": "2023-04-30T16:23:03.275Z"
   },
   {
    "duration": 43,
    "start_time": "2023-04-30T16:23:03.292Z"
   },
   {
    "duration": 54,
    "start_time": "2023-04-30T16:23:03.337Z"
   },
   {
    "duration": 58,
    "start_time": "2023-04-30T16:23:03.393Z"
   },
   {
    "duration": 271,
    "start_time": "2023-04-30T16:23:03.453Z"
   },
   {
    "duration": 196,
    "start_time": "2023-04-30T16:23:03.725Z"
   },
   {
    "duration": 537,
    "start_time": "2023-04-30T16:23:03.924Z"
   },
   {
    "duration": 13,
    "start_time": "2023-04-30T16:23:04.463Z"
   },
   {
    "duration": 36,
    "start_time": "2023-04-30T16:23:04.478Z"
   },
   {
    "duration": 39,
    "start_time": "2023-04-30T16:23:04.516Z"
   },
   {
    "duration": 317,
    "start_time": "2023-04-30T16:23:04.557Z"
   },
   {
    "duration": 208,
    "start_time": "2023-04-30T16:23:04.876Z"
   },
   {
    "duration": 247,
    "start_time": "2023-04-30T16:23:05.085Z"
   },
   {
    "duration": 452,
    "start_time": "2023-04-30T16:23:05.333Z"
   },
   {
    "duration": 296,
    "start_time": "2023-04-30T16:23:05.787Z"
   },
   {
    "duration": 22234,
    "start_time": "2023-04-30T16:23:06.085Z"
   },
   {
    "duration": 7,
    "start_time": "2023-04-30T16:23:28.321Z"
   },
   {
    "duration": 121,
    "start_time": "2023-04-30T16:23:28.329Z"
   },
   {
    "duration": 40,
    "start_time": "2023-04-30T16:23:28.453Z"
   },
   {
    "duration": 10,
    "start_time": "2023-04-30T16:23:28.495Z"
   },
   {
    "duration": 24,
    "start_time": "2023-04-30T16:23:28.507Z"
   },
   {
    "duration": 13,
    "start_time": "2023-04-30T16:23:28.533Z"
   },
   {
    "duration": 29,
    "start_time": "2023-04-30T16:23:28.548Z"
   },
   {
    "duration": 2679,
    "start_time": "2023-04-30T16:23:28.579Z"
   },
   {
    "duration": 925,
    "start_time": "2023-04-30T16:23:31.260Z"
   },
   {
    "duration": 947,
    "start_time": "2023-04-30T16:23:32.187Z"
   },
   {
    "duration": 1293,
    "start_time": "2023-04-30T16:23:33.136Z"
   },
   {
    "duration": 17244,
    "start_time": "2023-04-30T16:23:34.431Z"
   },
   {
    "duration": 2805,
    "start_time": "2023-04-30T16:23:51.677Z"
   },
   {
    "duration": 242,
    "start_time": "2023-04-30T16:23:54.484Z"
   },
   {
    "duration": 393,
    "start_time": "2023-04-30T16:23:54.728Z"
   },
   {
    "duration": 4,
    "start_time": "2023-04-30T16:26:29.437Z"
   },
   {
    "duration": 30927,
    "start_time": "2023-04-30T16:29:19.961Z"
   },
   {
    "duration": 1494,
    "start_time": "2023-04-30T16:30:35.122Z"
   },
   {
    "duration": 51,
    "start_time": "2023-04-30T16:30:36.619Z"
   },
   {
    "duration": 10,
    "start_time": "2023-04-30T16:30:36.672Z"
   },
   {
    "duration": 29,
    "start_time": "2023-04-30T16:30:36.684Z"
   },
   {
    "duration": 7,
    "start_time": "2023-04-30T16:30:36.715Z"
   },
   {
    "duration": 21,
    "start_time": "2023-04-30T16:30:36.724Z"
   },
   {
    "duration": 263,
    "start_time": "2023-04-30T16:30:36.747Z"
   },
   {
    "duration": 197,
    "start_time": "2023-04-30T16:30:37.012Z"
   },
   {
    "duration": 560,
    "start_time": "2023-04-30T16:30:37.211Z"
   },
   {
    "duration": 14,
    "start_time": "2023-04-30T16:30:37.773Z"
   },
   {
    "duration": 11,
    "start_time": "2023-04-30T16:30:37.789Z"
   },
   {
    "duration": 21,
    "start_time": "2023-04-30T16:30:37.802Z"
   },
   {
    "duration": 303,
    "start_time": "2023-04-30T16:30:37.824Z"
   },
   {
    "duration": 204,
    "start_time": "2023-04-30T16:30:38.131Z"
   },
   {
    "duration": 246,
    "start_time": "2023-04-30T16:30:38.337Z"
   },
   {
    "duration": 444,
    "start_time": "2023-04-30T16:30:38.586Z"
   },
   {
    "duration": 335,
    "start_time": "2023-04-30T16:30:39.033Z"
   },
   {
    "duration": 23151,
    "start_time": "2023-04-30T16:30:39.369Z"
   },
   {
    "duration": 95,
    "start_time": "2023-04-30T16:31:02.523Z"
   },
   {
    "duration": 22,
    "start_time": "2023-04-30T16:31:02.620Z"
   },
   {
    "duration": 12,
    "start_time": "2023-04-30T16:31:02.644Z"
   },
   {
    "duration": 9,
    "start_time": "2023-04-30T16:31:02.657Z"
   },
   {
    "duration": 17,
    "start_time": "2023-04-30T16:31:02.667Z"
   },
   {
    "duration": 14,
    "start_time": "2023-04-30T16:31:02.685Z"
   },
   {
    "duration": 22,
    "start_time": "2023-04-30T16:31:02.701Z"
   },
   {
    "duration": 2672,
    "start_time": "2023-04-30T16:31:02.725Z"
   },
   {
    "duration": 937,
    "start_time": "2023-04-30T16:31:05.399Z"
   },
   {
    "duration": 55780,
    "start_time": "2023-04-30T16:31:06.338Z"
   },
   {
    "duration": 1002,
    "start_time": "2023-04-30T16:32:02.120Z"
   },
   {
    "duration": 121881,
    "start_time": "2023-04-30T16:32:03.124Z"
   },
   {
    "duration": 1358,
    "start_time": "2023-04-30T16:34:05.007Z"
   },
   {
    "duration": 17591,
    "start_time": "2023-04-30T16:34:06.366Z"
   },
   {
    "duration": 3,
    "start_time": "2023-04-30T16:34:23.959Z"
   },
   {
    "duration": 2780,
    "start_time": "2023-04-30T16:34:23.964Z"
   },
   {
    "duration": 184,
    "start_time": "2023-04-30T16:34:26.746Z"
   },
   {
    "duration": 308,
    "start_time": "2023-04-30T16:34:26.932Z"
   }
  ],
  "kernelspec": {
   "display_name": "Python 3 (ipykernel)",
   "language": "python",
   "name": "python3"
  },
  "language_info": {
   "codemirror_mode": {
    "name": "ipython",
    "version": 3
   },
   "file_extension": ".py",
   "mimetype": "text/x-python",
   "name": "python",
   "nbconvert_exporter": "python",
   "pygments_lexer": "ipython3",
   "version": "3.10.9"
  },
  "toc": {
   "base_numbering": 1,
   "nav_menu": {},
   "number_sections": true,
   "sideBar": true,
   "skip_h1_title": true,
   "title_cell": "Содержание",
   "title_sidebar": "Contents",
   "toc_cell": true,
   "toc_position": {},
   "toc_section_display": true,
   "toc_window_display": true
  }
 },
 "nbformat": 4,
 "nbformat_minor": 2
}
