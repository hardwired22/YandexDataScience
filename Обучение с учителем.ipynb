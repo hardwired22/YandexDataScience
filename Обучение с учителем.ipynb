{
 "cells": [
  {
   "cell_type": "markdown",
   "metadata": {
    "toc": true
   },
   "source": [
    "<h1>Содержание<span class=\"tocSkip\"></span></h1>\n",
    "<div class=\"toc\"><ul class=\"toc-item\"><li><span><a href=\"#Подготовка-данных\" data-toc-modified-id=\"Подготовка-данных-1\"><span class=\"toc-item-num\">1&nbsp;&nbsp;</span>Подготовка данных</a></span></li><li><span><a href=\"#Исследование-задачи\" data-toc-modified-id=\"Исследование-задачи-2\"><span class=\"toc-item-num\">2&nbsp;&nbsp;</span>Исследование задачи</a></span></li><li><span><a href=\"#Борьба-с-дисбалансом\" data-toc-modified-id=\"Борьба-с-дисбалансом-3\"><span class=\"toc-item-num\">3&nbsp;&nbsp;</span>Борьба с дисбалансом</a></span></li><li><span><a href=\"#Тестирование-модели\" data-toc-modified-id=\"Тестирование-модели-4\"><span class=\"toc-item-num\">4&nbsp;&nbsp;</span>Тестирование модели</a></span></li></ul></div>"
   ]
  },
  {
   "cell_type": "markdown",
   "metadata": {},
   "source": [
    "# Отток клиентов"
   ]
  },
  {
   "cell_type": "markdown",
   "metadata": {},
   "source": [
    "Из «Бета-Банка» стали уходить клиенты. Каждый месяц. Немного, но заметно. Банковские маркетологи посчитали: сохранять текущих клиентов дешевле, чем привлекать новых.\n",
    "\n",
    "Нужно спрогнозировать, уйдёт клиент из банка в ближайшее время или нет. Вам предоставлены исторические данные о поведении клиентов и расторжении договоров с банком. \n",
    "\n",
    "Постройте модель с предельно большим значением *F1*-меры. Чтобы сдать проект успешно, нужно довести метрику до 0.59. Проверьте *F1*-меру на тестовой выборке самостоятельно.\n",
    "\n",
    "Дополнительно измеряйте *AUC-ROC*, сравнивайте её значение с *F1*-мерой.\n",
    "\n",
    "Источник данных: [https://www.kaggle.com/barelydedicated/bank-customer-churn-modeling](https://www.kaggle.com/barelydedicated/bank-customer-churn-modeling)"
   ]
  },
  {
   "cell_type": "markdown",
   "metadata": {},
   "source": [
    "Цель спрогнозировать, уйдёт клиент из банка в ближайшее время или нет.\n",
    "\n",
    "Задача найти баланс классов, обучить модель без учёта дисбаланса и найдите лучшую."
   ]
  },
  {
   "cell_type": "markdown",
   "metadata": {},
   "source": [
    "Признаки\n",
    "\n",
    "RowNumber — индекс строки в данных\n",
    "\n",
    "CustomerId — уникальный идентификатор клиента\n",
    "\n",
    "Surname — фамилия\n",
    "\n",
    "CreditScore — кредитный рейтинг\n",
    "\n",
    "Geography — страна проживания\n",
    "\n",
    "Gender — пол\n",
    "\n",
    "Age — возраст\n",
    "\n",
    "Tenure — сколько лет человек является клиентом банка\n",
    "\n",
    "Balance — баланс на счёте\n",
    "\n",
    "NumOfProducts — количество продуктов банка, используемых клиентом\n",
    "\n",
    "HasCrCard — наличие кредитной карты\n",
    "\n",
    "IsActiveMember — активность клиента\n",
    "\n",
    "EstimatedSalary — предполагаемая зарплата\n",
    "\n",
    "Целевой признак\n",
    "\n",
    "Exited — факт ухода клиента"
   ]
  },
  {
   "cell_type": "markdown",
   "metadata": {},
   "source": [
    "## Подготовка данных"
   ]
  },
  {
   "cell_type": "code",
   "execution_count": 1,
   "metadata": {},
   "outputs": [],
   "source": [
    "import pandas as pd\n",
    "from sklearn.model_selection import train_test_split\n",
    "from sklearn.linear_model import LinearRegression\n",
    "from sklearn.tree import DecisionTreeRegressor\n",
    "from sklearn.ensemble import RandomForestRegressor\n",
    "from sklearn.metrics import mean_absolute_error\n",
    "from sklearn.metrics import f1_score, roc_auc_score, roc_curve, precision_score, recall_score\n",
    "from sklearn.metrics import precision_recall_curve, accuracy_score\n",
    "from sklearn.linear_model import LogisticRegression\n",
    "from sklearn.ensemble import RandomForestClassifier\n",
    "from sklearn.utils import shuffle\n",
    "from sklearn.preprocessing import StandardScaler\n",
    "from sklearn.tree import DecisionTreeClassifier\n",
    "import matplotlib.pyplot as plt\n",
    "import seaborn as sns\n",
    "from sklearn.preprocessing import StandardScaler\n",
    "import warnings \n",
    "warnings.filterwarnings('ignore')"
   ]
  },
  {
   "cell_type": "code",
   "execution_count": 2,
   "metadata": {},
   "outputs": [],
   "source": [
    "df = pd.read_csv('/datasets/Churn.csv')"
   ]
  },
  {
   "cell_type": "code",
   "execution_count": 3,
   "metadata": {},
   "outputs": [
    {
     "data": {
      "text/html": [
       "<div>\n",
       "<style scoped>\n",
       "    .dataframe tbody tr th:only-of-type {\n",
       "        vertical-align: middle;\n",
       "    }\n",
       "\n",
       "    .dataframe tbody tr th {\n",
       "        vertical-align: top;\n",
       "    }\n",
       "\n",
       "    .dataframe thead th {\n",
       "        text-align: right;\n",
       "    }\n",
       "</style>\n",
       "<table border=\"1\" class=\"dataframe\">\n",
       "  <thead>\n",
       "    <tr style=\"text-align: right;\">\n",
       "      <th></th>\n",
       "      <th>RowNumber</th>\n",
       "      <th>CustomerId</th>\n",
       "      <th>Surname</th>\n",
       "      <th>CreditScore</th>\n",
       "      <th>Geography</th>\n",
       "      <th>Gender</th>\n",
       "      <th>Age</th>\n",
       "      <th>Tenure</th>\n",
       "      <th>Balance</th>\n",
       "      <th>NumOfProducts</th>\n",
       "      <th>HasCrCard</th>\n",
       "      <th>IsActiveMember</th>\n",
       "      <th>EstimatedSalary</th>\n",
       "      <th>Exited</th>\n",
       "    </tr>\n",
       "  </thead>\n",
       "  <tbody>\n",
       "    <tr>\n",
       "      <th>0</th>\n",
       "      <td>1</td>\n",
       "      <td>15634602</td>\n",
       "      <td>Hargrave</td>\n",
       "      <td>619</td>\n",
       "      <td>France</td>\n",
       "      <td>Female</td>\n",
       "      <td>42</td>\n",
       "      <td>2.0</td>\n",
       "      <td>0.00</td>\n",
       "      <td>1</td>\n",
       "      <td>1</td>\n",
       "      <td>1</td>\n",
       "      <td>101348.88</td>\n",
       "      <td>1</td>\n",
       "    </tr>\n",
       "    <tr>\n",
       "      <th>1</th>\n",
       "      <td>2</td>\n",
       "      <td>15647311</td>\n",
       "      <td>Hill</td>\n",
       "      <td>608</td>\n",
       "      <td>Spain</td>\n",
       "      <td>Female</td>\n",
       "      <td>41</td>\n",
       "      <td>1.0</td>\n",
       "      <td>83807.86</td>\n",
       "      <td>1</td>\n",
       "      <td>0</td>\n",
       "      <td>1</td>\n",
       "      <td>112542.58</td>\n",
       "      <td>0</td>\n",
       "    </tr>\n",
       "    <tr>\n",
       "      <th>2</th>\n",
       "      <td>3</td>\n",
       "      <td>15619304</td>\n",
       "      <td>Onio</td>\n",
       "      <td>502</td>\n",
       "      <td>France</td>\n",
       "      <td>Female</td>\n",
       "      <td>42</td>\n",
       "      <td>8.0</td>\n",
       "      <td>159660.80</td>\n",
       "      <td>3</td>\n",
       "      <td>1</td>\n",
       "      <td>0</td>\n",
       "      <td>113931.57</td>\n",
       "      <td>1</td>\n",
       "    </tr>\n",
       "    <tr>\n",
       "      <th>3</th>\n",
       "      <td>4</td>\n",
       "      <td>15701354</td>\n",
       "      <td>Boni</td>\n",
       "      <td>699</td>\n",
       "      <td>France</td>\n",
       "      <td>Female</td>\n",
       "      <td>39</td>\n",
       "      <td>1.0</td>\n",
       "      <td>0.00</td>\n",
       "      <td>2</td>\n",
       "      <td>0</td>\n",
       "      <td>0</td>\n",
       "      <td>93826.63</td>\n",
       "      <td>0</td>\n",
       "    </tr>\n",
       "    <tr>\n",
       "      <th>4</th>\n",
       "      <td>5</td>\n",
       "      <td>15737888</td>\n",
       "      <td>Mitchell</td>\n",
       "      <td>850</td>\n",
       "      <td>Spain</td>\n",
       "      <td>Female</td>\n",
       "      <td>43</td>\n",
       "      <td>2.0</td>\n",
       "      <td>125510.82</td>\n",
       "      <td>1</td>\n",
       "      <td>1</td>\n",
       "      <td>1</td>\n",
       "      <td>79084.10</td>\n",
       "      <td>0</td>\n",
       "    </tr>\n",
       "    <tr>\n",
       "      <th>...</th>\n",
       "      <td>...</td>\n",
       "      <td>...</td>\n",
       "      <td>...</td>\n",
       "      <td>...</td>\n",
       "      <td>...</td>\n",
       "      <td>...</td>\n",
       "      <td>...</td>\n",
       "      <td>...</td>\n",
       "      <td>...</td>\n",
       "      <td>...</td>\n",
       "      <td>...</td>\n",
       "      <td>...</td>\n",
       "      <td>...</td>\n",
       "      <td>...</td>\n",
       "    </tr>\n",
       "    <tr>\n",
       "      <th>9995</th>\n",
       "      <td>9996</td>\n",
       "      <td>15606229</td>\n",
       "      <td>Obijiaku</td>\n",
       "      <td>771</td>\n",
       "      <td>France</td>\n",
       "      <td>Male</td>\n",
       "      <td>39</td>\n",
       "      <td>5.0</td>\n",
       "      <td>0.00</td>\n",
       "      <td>2</td>\n",
       "      <td>1</td>\n",
       "      <td>0</td>\n",
       "      <td>96270.64</td>\n",
       "      <td>0</td>\n",
       "    </tr>\n",
       "    <tr>\n",
       "      <th>9996</th>\n",
       "      <td>9997</td>\n",
       "      <td>15569892</td>\n",
       "      <td>Johnstone</td>\n",
       "      <td>516</td>\n",
       "      <td>France</td>\n",
       "      <td>Male</td>\n",
       "      <td>35</td>\n",
       "      <td>10.0</td>\n",
       "      <td>57369.61</td>\n",
       "      <td>1</td>\n",
       "      <td>1</td>\n",
       "      <td>1</td>\n",
       "      <td>101699.77</td>\n",
       "      <td>0</td>\n",
       "    </tr>\n",
       "    <tr>\n",
       "      <th>9997</th>\n",
       "      <td>9998</td>\n",
       "      <td>15584532</td>\n",
       "      <td>Liu</td>\n",
       "      <td>709</td>\n",
       "      <td>France</td>\n",
       "      <td>Female</td>\n",
       "      <td>36</td>\n",
       "      <td>7.0</td>\n",
       "      <td>0.00</td>\n",
       "      <td>1</td>\n",
       "      <td>0</td>\n",
       "      <td>1</td>\n",
       "      <td>42085.58</td>\n",
       "      <td>1</td>\n",
       "    </tr>\n",
       "    <tr>\n",
       "      <th>9998</th>\n",
       "      <td>9999</td>\n",
       "      <td>15682355</td>\n",
       "      <td>Sabbatini</td>\n",
       "      <td>772</td>\n",
       "      <td>Germany</td>\n",
       "      <td>Male</td>\n",
       "      <td>42</td>\n",
       "      <td>3.0</td>\n",
       "      <td>75075.31</td>\n",
       "      <td>2</td>\n",
       "      <td>1</td>\n",
       "      <td>0</td>\n",
       "      <td>92888.52</td>\n",
       "      <td>1</td>\n",
       "    </tr>\n",
       "    <tr>\n",
       "      <th>9999</th>\n",
       "      <td>10000</td>\n",
       "      <td>15628319</td>\n",
       "      <td>Walker</td>\n",
       "      <td>792</td>\n",
       "      <td>France</td>\n",
       "      <td>Female</td>\n",
       "      <td>28</td>\n",
       "      <td>NaN</td>\n",
       "      <td>130142.79</td>\n",
       "      <td>1</td>\n",
       "      <td>1</td>\n",
       "      <td>0</td>\n",
       "      <td>38190.78</td>\n",
       "      <td>0</td>\n",
       "    </tr>\n",
       "  </tbody>\n",
       "</table>\n",
       "<p>10000 rows × 14 columns</p>\n",
       "</div>"
      ],
      "text/plain": [
       "      RowNumber  CustomerId    Surname  CreditScore Geography  Gender  Age  \\\n",
       "0             1    15634602   Hargrave          619    France  Female   42   \n",
       "1             2    15647311       Hill          608     Spain  Female   41   \n",
       "2             3    15619304       Onio          502    France  Female   42   \n",
       "3             4    15701354       Boni          699    France  Female   39   \n",
       "4             5    15737888   Mitchell          850     Spain  Female   43   \n",
       "...         ...         ...        ...          ...       ...     ...  ...   \n",
       "9995       9996    15606229   Obijiaku          771    France    Male   39   \n",
       "9996       9997    15569892  Johnstone          516    France    Male   35   \n",
       "9997       9998    15584532        Liu          709    France  Female   36   \n",
       "9998       9999    15682355  Sabbatini          772   Germany    Male   42   \n",
       "9999      10000    15628319     Walker          792    France  Female   28   \n",
       "\n",
       "      Tenure    Balance  NumOfProducts  HasCrCard  IsActiveMember  \\\n",
       "0        2.0       0.00              1          1               1   \n",
       "1        1.0   83807.86              1          0               1   \n",
       "2        8.0  159660.80              3          1               0   \n",
       "3        1.0       0.00              2          0               0   \n",
       "4        2.0  125510.82              1          1               1   \n",
       "...      ...        ...            ...        ...             ...   \n",
       "9995     5.0       0.00              2          1               0   \n",
       "9996    10.0   57369.61              1          1               1   \n",
       "9997     7.0       0.00              1          0               1   \n",
       "9998     3.0   75075.31              2          1               0   \n",
       "9999     NaN  130142.79              1          1               0   \n",
       "\n",
       "      EstimatedSalary  Exited  \n",
       "0           101348.88       1  \n",
       "1           112542.58       0  \n",
       "2           113931.57       1  \n",
       "3            93826.63       0  \n",
       "4            79084.10       0  \n",
       "...               ...     ...  \n",
       "9995         96270.64       0  \n",
       "9996        101699.77       0  \n",
       "9997         42085.58       1  \n",
       "9998         92888.52       1  \n",
       "9999         38190.78       0  \n",
       "\n",
       "[10000 rows x 14 columns]"
      ]
     },
     "execution_count": 3,
     "metadata": {},
     "output_type": "execute_result"
    }
   ],
   "source": [
    "df"
   ]
  },
  {
   "cell_type": "code",
   "execution_count": 4,
   "metadata": {},
   "outputs": [
    {
     "name": "stdout",
     "output_type": "stream",
     "text": [
      "<class 'pandas.core.frame.DataFrame'>\n",
      "RangeIndex: 10000 entries, 0 to 9999\n",
      "Data columns (total 14 columns):\n",
      " #   Column           Non-Null Count  Dtype  \n",
      "---  ------           --------------  -----  \n",
      " 0   RowNumber        10000 non-null  int64  \n",
      " 1   CustomerId       10000 non-null  int64  \n",
      " 2   Surname          10000 non-null  object \n",
      " 3   CreditScore      10000 non-null  int64  \n",
      " 4   Geography        10000 non-null  object \n",
      " 5   Gender           10000 non-null  object \n",
      " 6   Age              10000 non-null  int64  \n",
      " 7   Tenure           9091 non-null   float64\n",
      " 8   Balance          10000 non-null  float64\n",
      " 9   NumOfProducts    10000 non-null  int64  \n",
      " 10  HasCrCard        10000 non-null  int64  \n",
      " 11  IsActiveMember   10000 non-null  int64  \n",
      " 12  EstimatedSalary  10000 non-null  float64\n",
      " 13  Exited           10000 non-null  int64  \n",
      "dtypes: float64(3), int64(8), object(3)\n",
      "memory usage: 1.1+ MB\n"
     ]
    }
   ],
   "source": [
    "df.info()"
   ]
  },
  {
   "cell_type": "code",
   "execution_count": 5,
   "metadata": {},
   "outputs": [],
   "source": [
    "#scaler = StandardScaler()\n",
    "#numeric = ['CreditScore', 'Age', 'Balance', 'EstimatedSalary']\n",
    "#scaler.fit(df[numeric])\n",
    "#df[numeric] = scaler.transform(df[numeric])"
   ]
  },
  {
   "cell_type": "code",
   "execution_count": 6,
   "metadata": {},
   "outputs": [],
   "source": [
    "df.columns = df.columns.str.lower()"
   ]
  },
  {
   "cell_type": "code",
   "execution_count": 7,
   "metadata": {},
   "outputs": [],
   "source": [
    "df.columns = ['row_number', 'customer_id', 'surname', 'creditscore', 'geography',\n",
    "       'gender', 'age', 'tenure', 'balance', 'num_of_products', 'has_crcard',\n",
    "       'isactive_member', 'estimated_salary', 'exited']     "
   ]
  },
  {
   "cell_type": "code",
   "execution_count": 8,
   "metadata": {},
   "outputs": [
    {
     "name": "stdout",
     "output_type": "stream",
     "text": [
      "<class 'pandas.core.frame.DataFrame'>\n",
      "RangeIndex: 10000 entries, 0 to 9999\n",
      "Data columns (total 14 columns):\n",
      " #   Column            Non-Null Count  Dtype  \n",
      "---  ------            --------------  -----  \n",
      " 0   row_number        10000 non-null  int64  \n",
      " 1   customer_id       10000 non-null  int64  \n",
      " 2   surname           10000 non-null  object \n",
      " 3   creditscore       10000 non-null  int64  \n",
      " 4   geography         10000 non-null  object \n",
      " 5   gender            10000 non-null  object \n",
      " 6   age               10000 non-null  int64  \n",
      " 7   tenure            9091 non-null   float64\n",
      " 8   balance           10000 non-null  float64\n",
      " 9   num_of_products   10000 non-null  int64  \n",
      " 10  has_crcard        10000 non-null  int64  \n",
      " 11  isactive_member   10000 non-null  int64  \n",
      " 12  estimated_salary  10000 non-null  float64\n",
      " 13  exited            10000 non-null  int64  \n",
      "dtypes: float64(3), int64(8), object(3)\n",
      "memory usage: 1.1+ MB\n"
     ]
    }
   ],
   "source": [
    "df.info()"
   ]
  },
  {
   "cell_type": "code",
   "execution_count": 9,
   "metadata": {},
   "outputs": [
    {
     "data": {
      "text/plain": [
       "row_number            0\n",
       "customer_id           0\n",
       "surname               0\n",
       "creditscore           0\n",
       "geography             0\n",
       "gender                0\n",
       "age                   0\n",
       "tenure              909\n",
       "balance               0\n",
       "num_of_products       0\n",
       "has_crcard            0\n",
       "isactive_member       0\n",
       "estimated_salary      0\n",
       "exited                0\n",
       "dtype: int64"
      ]
     },
     "execution_count": 9,
     "metadata": {},
     "output_type": "execute_result"
    }
   ],
   "source": [
    "df.isnull().sum()"
   ]
  },
  {
   "cell_type": "code",
   "execution_count": 10,
   "metadata": {},
   "outputs": [
    {
     "data": {
      "text/plain": [
       "0"
      ]
     },
     "execution_count": 10,
     "metadata": {},
     "output_type": "execute_result"
    }
   ],
   "source": [
    "df.duplicated().sum()"
   ]
  },
  {
   "cell_type": "code",
   "execution_count": 11,
   "metadata": {},
   "outputs": [
    {
     "data": {
      "text/plain": [
       "Male      5457\n",
       "Female    4543\n",
       "Name: gender, dtype: int64"
      ]
     },
     "execution_count": 11,
     "metadata": {},
     "output_type": "execute_result"
    }
   ],
   "source": [
    "df['gender'].value_counts()"
   ]
  },
  {
   "cell_type": "code",
   "execution_count": 12,
   "metadata": {},
   "outputs": [
    {
     "data": {
      "text/plain": [
       "France     5014\n",
       "Germany    2509\n",
       "Spain      2477\n",
       "Name: geography, dtype: int64"
      ]
     },
     "execution_count": 12,
     "metadata": {},
     "output_type": "execute_result"
    }
   ],
   "source": [
    "df['geography'].value_counts()"
   ]
  },
  {
   "cell_type": "code",
   "execution_count": 13,
   "metadata": {},
   "outputs": [],
   "source": [
    "clean_data = df.drop(['row_number', 'customer_id', 'surname'], axis=1).copy()"
   ]
  },
  {
   "cell_type": "code",
   "execution_count": 14,
   "metadata": {},
   "outputs": [],
   "source": [
    "#clean_data = pd.concat([clean_data, gender_ohe, country_ohe], axis=1)"
   ]
  },
  {
   "cell_type": "code",
   "execution_count": 15,
   "metadata": {},
   "outputs": [
    {
     "name": "stdout",
     "output_type": "stream",
     "text": [
      "<class 'pandas.core.frame.DataFrame'>\n",
      "RangeIndex: 10000 entries, 0 to 9999\n",
      "Data columns (total 11 columns):\n",
      " #   Column            Non-Null Count  Dtype  \n",
      "---  ------            --------------  -----  \n",
      " 0   creditscore       10000 non-null  int64  \n",
      " 1   geography         10000 non-null  object \n",
      " 2   gender            10000 non-null  object \n",
      " 3   age               10000 non-null  int64  \n",
      " 4   tenure            9091 non-null   float64\n",
      " 5   balance           10000 non-null  float64\n",
      " 6   num_of_products   10000 non-null  int64  \n",
      " 7   has_crcard        10000 non-null  int64  \n",
      " 8   isactive_member   10000 non-null  int64  \n",
      " 9   estimated_salary  10000 non-null  float64\n",
      " 10  exited            10000 non-null  int64  \n",
      "dtypes: float64(3), int64(6), object(2)\n",
      "memory usage: 859.5+ KB\n"
     ]
    }
   ],
   "source": [
    "clean_data.info()"
   ]
  },
  {
   "cell_type": "code",
   "execution_count": 16,
   "metadata": {},
   "outputs": [
    {
     "data": {
      "text/plain": [
       "5.0"
      ]
     },
     "execution_count": 16,
     "metadata": {},
     "output_type": "execute_result"
    }
   ],
   "source": [
    "clean_data['tenure'].median()"
   ]
  },
  {
   "cell_type": "code",
   "execution_count": 17,
   "metadata": {},
   "outputs": [],
   "source": [
    "clean_data['tenure'] = clean_data['tenure'].fillna(5.0)"
   ]
  },
  {
   "cell_type": "code",
   "execution_count": 18,
   "metadata": {},
   "outputs": [
    {
     "data": {
      "text/html": [
       "<div>\n",
       "<style scoped>\n",
       "    .dataframe tbody tr th:only-of-type {\n",
       "        vertical-align: middle;\n",
       "    }\n",
       "\n",
       "    .dataframe tbody tr th {\n",
       "        vertical-align: top;\n",
       "    }\n",
       "\n",
       "    .dataframe thead th {\n",
       "        text-align: right;\n",
       "    }\n",
       "</style>\n",
       "<table border=\"1\" class=\"dataframe\">\n",
       "  <thead>\n",
       "    <tr style=\"text-align: right;\">\n",
       "      <th></th>\n",
       "      <th>creditscore</th>\n",
       "      <th>geography</th>\n",
       "      <th>gender</th>\n",
       "      <th>age</th>\n",
       "      <th>tenure</th>\n",
       "      <th>balance</th>\n",
       "      <th>num_of_products</th>\n",
       "      <th>has_crcard</th>\n",
       "      <th>isactive_member</th>\n",
       "      <th>estimated_salary</th>\n",
       "      <th>exited</th>\n",
       "    </tr>\n",
       "  </thead>\n",
       "  <tbody>\n",
       "    <tr>\n",
       "      <th>0</th>\n",
       "      <td>619</td>\n",
       "      <td>France</td>\n",
       "      <td>Female</td>\n",
       "      <td>42</td>\n",
       "      <td>2.0</td>\n",
       "      <td>0.00</td>\n",
       "      <td>1</td>\n",
       "      <td>1</td>\n",
       "      <td>1</td>\n",
       "      <td>101348.88</td>\n",
       "      <td>1</td>\n",
       "    </tr>\n",
       "    <tr>\n",
       "      <th>1</th>\n",
       "      <td>608</td>\n",
       "      <td>Spain</td>\n",
       "      <td>Female</td>\n",
       "      <td>41</td>\n",
       "      <td>1.0</td>\n",
       "      <td>83807.86</td>\n",
       "      <td>1</td>\n",
       "      <td>0</td>\n",
       "      <td>1</td>\n",
       "      <td>112542.58</td>\n",
       "      <td>0</td>\n",
       "    </tr>\n",
       "    <tr>\n",
       "      <th>2</th>\n",
       "      <td>502</td>\n",
       "      <td>France</td>\n",
       "      <td>Female</td>\n",
       "      <td>42</td>\n",
       "      <td>8.0</td>\n",
       "      <td>159660.80</td>\n",
       "      <td>3</td>\n",
       "      <td>1</td>\n",
       "      <td>0</td>\n",
       "      <td>113931.57</td>\n",
       "      <td>1</td>\n",
       "    </tr>\n",
       "    <tr>\n",
       "      <th>3</th>\n",
       "      <td>699</td>\n",
       "      <td>France</td>\n",
       "      <td>Female</td>\n",
       "      <td>39</td>\n",
       "      <td>1.0</td>\n",
       "      <td>0.00</td>\n",
       "      <td>2</td>\n",
       "      <td>0</td>\n",
       "      <td>0</td>\n",
       "      <td>93826.63</td>\n",
       "      <td>0</td>\n",
       "    </tr>\n",
       "    <tr>\n",
       "      <th>4</th>\n",
       "      <td>850</td>\n",
       "      <td>Spain</td>\n",
       "      <td>Female</td>\n",
       "      <td>43</td>\n",
       "      <td>2.0</td>\n",
       "      <td>125510.82</td>\n",
       "      <td>1</td>\n",
       "      <td>1</td>\n",
       "      <td>1</td>\n",
       "      <td>79084.10</td>\n",
       "      <td>0</td>\n",
       "    </tr>\n",
       "    <tr>\n",
       "      <th>...</th>\n",
       "      <td>...</td>\n",
       "      <td>...</td>\n",
       "      <td>...</td>\n",
       "      <td>...</td>\n",
       "      <td>...</td>\n",
       "      <td>...</td>\n",
       "      <td>...</td>\n",
       "      <td>...</td>\n",
       "      <td>...</td>\n",
       "      <td>...</td>\n",
       "      <td>...</td>\n",
       "    </tr>\n",
       "    <tr>\n",
       "      <th>9995</th>\n",
       "      <td>771</td>\n",
       "      <td>France</td>\n",
       "      <td>Male</td>\n",
       "      <td>39</td>\n",
       "      <td>5.0</td>\n",
       "      <td>0.00</td>\n",
       "      <td>2</td>\n",
       "      <td>1</td>\n",
       "      <td>0</td>\n",
       "      <td>96270.64</td>\n",
       "      <td>0</td>\n",
       "    </tr>\n",
       "    <tr>\n",
       "      <th>9996</th>\n",
       "      <td>516</td>\n",
       "      <td>France</td>\n",
       "      <td>Male</td>\n",
       "      <td>35</td>\n",
       "      <td>10.0</td>\n",
       "      <td>57369.61</td>\n",
       "      <td>1</td>\n",
       "      <td>1</td>\n",
       "      <td>1</td>\n",
       "      <td>101699.77</td>\n",
       "      <td>0</td>\n",
       "    </tr>\n",
       "    <tr>\n",
       "      <th>9997</th>\n",
       "      <td>709</td>\n",
       "      <td>France</td>\n",
       "      <td>Female</td>\n",
       "      <td>36</td>\n",
       "      <td>7.0</td>\n",
       "      <td>0.00</td>\n",
       "      <td>1</td>\n",
       "      <td>0</td>\n",
       "      <td>1</td>\n",
       "      <td>42085.58</td>\n",
       "      <td>1</td>\n",
       "    </tr>\n",
       "    <tr>\n",
       "      <th>9998</th>\n",
       "      <td>772</td>\n",
       "      <td>Germany</td>\n",
       "      <td>Male</td>\n",
       "      <td>42</td>\n",
       "      <td>3.0</td>\n",
       "      <td>75075.31</td>\n",
       "      <td>2</td>\n",
       "      <td>1</td>\n",
       "      <td>0</td>\n",
       "      <td>92888.52</td>\n",
       "      <td>1</td>\n",
       "    </tr>\n",
       "    <tr>\n",
       "      <th>9999</th>\n",
       "      <td>792</td>\n",
       "      <td>France</td>\n",
       "      <td>Female</td>\n",
       "      <td>28</td>\n",
       "      <td>5.0</td>\n",
       "      <td>130142.79</td>\n",
       "      <td>1</td>\n",
       "      <td>1</td>\n",
       "      <td>0</td>\n",
       "      <td>38190.78</td>\n",
       "      <td>0</td>\n",
       "    </tr>\n",
       "  </tbody>\n",
       "</table>\n",
       "<p>10000 rows × 11 columns</p>\n",
       "</div>"
      ],
      "text/plain": [
       "      creditscore geography  gender  age  tenure    balance  num_of_products  \\\n",
       "0             619    France  Female   42     2.0       0.00                1   \n",
       "1             608     Spain  Female   41     1.0   83807.86                1   \n",
       "2             502    France  Female   42     8.0  159660.80                3   \n",
       "3             699    France  Female   39     1.0       0.00                2   \n",
       "4             850     Spain  Female   43     2.0  125510.82                1   \n",
       "...           ...       ...     ...  ...     ...        ...              ...   \n",
       "9995          771    France    Male   39     5.0       0.00                2   \n",
       "9996          516    France    Male   35    10.0   57369.61                1   \n",
       "9997          709    France  Female   36     7.0       0.00                1   \n",
       "9998          772   Germany    Male   42     3.0   75075.31                2   \n",
       "9999          792    France  Female   28     5.0  130142.79                1   \n",
       "\n",
       "      has_crcard  isactive_member  estimated_salary  exited  \n",
       "0              1                1         101348.88       1  \n",
       "1              0                1         112542.58       0  \n",
       "2              1                0         113931.57       1  \n",
       "3              0                0          93826.63       0  \n",
       "4              1                1          79084.10       0  \n",
       "...          ...              ...               ...     ...  \n",
       "9995           1                0          96270.64       0  \n",
       "9996           1                1         101699.77       0  \n",
       "9997           0                1          42085.58       1  \n",
       "9998           1                0          92888.52       1  \n",
       "9999           1                0          38190.78       0  \n",
       "\n",
       "[10000 rows x 11 columns]"
      ]
     },
     "execution_count": 18,
     "metadata": {},
     "output_type": "execute_result"
    }
   ],
   "source": [
    "clean_data"
   ]
  },
  {
   "cell_type": "markdown",
   "metadata": {},
   "source": [
    "Дубликатов нет.\n",
    "\n",
    "Столбец row_number, surname,customer_id  удалили так как в них нету пользы"
   ]
  },
  {
   "cell_type": "markdown",
   "metadata": {},
   "source": [
    "## Исследование задачи"
   ]
  },
  {
   "cell_type": "code",
   "execution_count": 19,
   "metadata": {},
   "outputs": [
    {
     "name": "stdout",
     "output_type": "stream",
     "text": [
      "Training set size: 6000\n",
      "Validating set size: 2000\n",
      "Test set size: 2000\n"
     ]
    }
   ],
   "source": [
    "features = clean_data.drop(['exited'], axis=1)\n",
    "target = clean_data['exited']\n",
    "\n",
    "features_train, features_valid, target_train, target_valid = train_test_split(features, target, train_size=0.6, test_size=0.4, random_state=12345)\n",
    "features_test, features_valid, target_test, target_valid = train_test_split(features_valid, target_valid, test_size=0.5, random_state=12345)\n",
    "\n",
    "features_train = pd.get_dummies(features_train, drop_first=True)\n",
    "features_valid = pd.get_dummies(features_valid, drop_first=True)\n",
    "features_test = pd.get_dummies(features_test, drop_first=True)\n",
    "gender_ohe = pd.get_dummies(clean_data['gender'], drop_first=True)\n",
    "country_ohe = pd.get_dummies(clean_data['geography'], drop_first=True)\n",
    "\n",
    "clean_data.drop(['gender', 'geography'], axis=1, inplace=True)\n",
    "\n",
    "print('Training set size:', features_train.shape[0])\n",
    "print('Validating set size:', features_valid.shape[0])\n",
    "print('Test set size:',features_test.shape[0])"
   ]
  },
  {
   "cell_type": "code",
   "execution_count": 20,
   "metadata": {},
   "outputs": [
    {
     "data": {
      "text/html": [
       "<div>\n",
       "<style scoped>\n",
       "    .dataframe tbody tr th:only-of-type {\n",
       "        vertical-align: middle;\n",
       "    }\n",
       "\n",
       "    .dataframe tbody tr th {\n",
       "        vertical-align: top;\n",
       "    }\n",
       "\n",
       "    .dataframe thead th {\n",
       "        text-align: right;\n",
       "    }\n",
       "</style>\n",
       "<table border=\"1\" class=\"dataframe\">\n",
       "  <thead>\n",
       "    <tr style=\"text-align: right;\">\n",
       "      <th></th>\n",
       "      <th>creditscore</th>\n",
       "      <th>age</th>\n",
       "      <th>tenure</th>\n",
       "      <th>balance</th>\n",
       "      <th>num_of_products</th>\n",
       "      <th>has_crcard</th>\n",
       "      <th>isactive_member</th>\n",
       "      <th>estimated_salary</th>\n",
       "      <th>exited</th>\n",
       "    </tr>\n",
       "  </thead>\n",
       "  <tbody>\n",
       "    <tr>\n",
       "      <th>0</th>\n",
       "      <td>619</td>\n",
       "      <td>42</td>\n",
       "      <td>2.0</td>\n",
       "      <td>0.00</td>\n",
       "      <td>1</td>\n",
       "      <td>1</td>\n",
       "      <td>1</td>\n",
       "      <td>101348.88</td>\n",
       "      <td>1</td>\n",
       "    </tr>\n",
       "    <tr>\n",
       "      <th>1</th>\n",
       "      <td>608</td>\n",
       "      <td>41</td>\n",
       "      <td>1.0</td>\n",
       "      <td>83807.86</td>\n",
       "      <td>1</td>\n",
       "      <td>0</td>\n",
       "      <td>1</td>\n",
       "      <td>112542.58</td>\n",
       "      <td>0</td>\n",
       "    </tr>\n",
       "    <tr>\n",
       "      <th>2</th>\n",
       "      <td>502</td>\n",
       "      <td>42</td>\n",
       "      <td>8.0</td>\n",
       "      <td>159660.80</td>\n",
       "      <td>3</td>\n",
       "      <td>1</td>\n",
       "      <td>0</td>\n",
       "      <td>113931.57</td>\n",
       "      <td>1</td>\n",
       "    </tr>\n",
       "    <tr>\n",
       "      <th>3</th>\n",
       "      <td>699</td>\n",
       "      <td>39</td>\n",
       "      <td>1.0</td>\n",
       "      <td>0.00</td>\n",
       "      <td>2</td>\n",
       "      <td>0</td>\n",
       "      <td>0</td>\n",
       "      <td>93826.63</td>\n",
       "      <td>0</td>\n",
       "    </tr>\n",
       "    <tr>\n",
       "      <th>4</th>\n",
       "      <td>850</td>\n",
       "      <td>43</td>\n",
       "      <td>2.0</td>\n",
       "      <td>125510.82</td>\n",
       "      <td>1</td>\n",
       "      <td>1</td>\n",
       "      <td>1</td>\n",
       "      <td>79084.10</td>\n",
       "      <td>0</td>\n",
       "    </tr>\n",
       "    <tr>\n",
       "      <th>...</th>\n",
       "      <td>...</td>\n",
       "      <td>...</td>\n",
       "      <td>...</td>\n",
       "      <td>...</td>\n",
       "      <td>...</td>\n",
       "      <td>...</td>\n",
       "      <td>...</td>\n",
       "      <td>...</td>\n",
       "      <td>...</td>\n",
       "    </tr>\n",
       "    <tr>\n",
       "      <th>9995</th>\n",
       "      <td>771</td>\n",
       "      <td>39</td>\n",
       "      <td>5.0</td>\n",
       "      <td>0.00</td>\n",
       "      <td>2</td>\n",
       "      <td>1</td>\n",
       "      <td>0</td>\n",
       "      <td>96270.64</td>\n",
       "      <td>0</td>\n",
       "    </tr>\n",
       "    <tr>\n",
       "      <th>9996</th>\n",
       "      <td>516</td>\n",
       "      <td>35</td>\n",
       "      <td>10.0</td>\n",
       "      <td>57369.61</td>\n",
       "      <td>1</td>\n",
       "      <td>1</td>\n",
       "      <td>1</td>\n",
       "      <td>101699.77</td>\n",
       "      <td>0</td>\n",
       "    </tr>\n",
       "    <tr>\n",
       "      <th>9997</th>\n",
       "      <td>709</td>\n",
       "      <td>36</td>\n",
       "      <td>7.0</td>\n",
       "      <td>0.00</td>\n",
       "      <td>1</td>\n",
       "      <td>0</td>\n",
       "      <td>1</td>\n",
       "      <td>42085.58</td>\n",
       "      <td>1</td>\n",
       "    </tr>\n",
       "    <tr>\n",
       "      <th>9998</th>\n",
       "      <td>772</td>\n",
       "      <td>42</td>\n",
       "      <td>3.0</td>\n",
       "      <td>75075.31</td>\n",
       "      <td>2</td>\n",
       "      <td>1</td>\n",
       "      <td>0</td>\n",
       "      <td>92888.52</td>\n",
       "      <td>1</td>\n",
       "    </tr>\n",
       "    <tr>\n",
       "      <th>9999</th>\n",
       "      <td>792</td>\n",
       "      <td>28</td>\n",
       "      <td>5.0</td>\n",
       "      <td>130142.79</td>\n",
       "      <td>1</td>\n",
       "      <td>1</td>\n",
       "      <td>0</td>\n",
       "      <td>38190.78</td>\n",
       "      <td>0</td>\n",
       "    </tr>\n",
       "  </tbody>\n",
       "</table>\n",
       "<p>10000 rows × 9 columns</p>\n",
       "</div>"
      ],
      "text/plain": [
       "      creditscore  age  tenure    balance  num_of_products  has_crcard  \\\n",
       "0             619   42     2.0       0.00                1           1   \n",
       "1             608   41     1.0   83807.86                1           0   \n",
       "2             502   42     8.0  159660.80                3           1   \n",
       "3             699   39     1.0       0.00                2           0   \n",
       "4             850   43     2.0  125510.82                1           1   \n",
       "...           ...  ...     ...        ...              ...         ...   \n",
       "9995          771   39     5.0       0.00                2           1   \n",
       "9996          516   35    10.0   57369.61                1           1   \n",
       "9997          709   36     7.0       0.00                1           0   \n",
       "9998          772   42     3.0   75075.31                2           1   \n",
       "9999          792   28     5.0  130142.79                1           1   \n",
       "\n",
       "      isactive_member  estimated_salary  exited  \n",
       "0                   1         101348.88       1  \n",
       "1                   1         112542.58       0  \n",
       "2                   0         113931.57       1  \n",
       "3                   0          93826.63       0  \n",
       "4                   1          79084.10       0  \n",
       "...               ...               ...     ...  \n",
       "9995                0          96270.64       0  \n",
       "9996                1         101699.77       0  \n",
       "9997                1          42085.58       1  \n",
       "9998                0          92888.52       1  \n",
       "9999                0          38190.78       0  \n",
       "\n",
       "[10000 rows x 9 columns]"
      ]
     },
     "execution_count": 20,
     "metadata": {},
     "output_type": "execute_result"
    }
   ],
   "source": [
    "clean_data"
   ]
  },
  {
   "cell_type": "code",
   "execution_count": 21,
   "metadata": {},
   "outputs": [
    {
     "name": "stdout",
     "output_type": "stream",
     "text": [
      "Accuracy is: 0.85\n",
      "F1_Score is: 0.5481927710843374\n",
      "Precision 0.7551867219917012\n",
      "Recall 0.4302600472813239\n"
     ]
    }
   ],
   "source": [
    "model = RandomForestClassifier(random_state=12345)\n",
    "model.fit(features_train, target_train)\n",
    "predicted_valid = model.predict(features_valid)\n",
    "accuracy_valid = accuracy_score(predicted_valid, target_valid)\n",
    "print('Accuracy is:', accuracy_valid)\n",
    "print('F1_Score is:', f1_score(target_valid, predicted_valid))\n",
    "print('Precision', precision_score(target_valid, predicted_valid))\n",
    "print('Recall', recall_score(target_valid, predicted_valid))"
   ]
  },
  {
   "cell_type": "code",
   "execution_count": 22,
   "metadata": {},
   "outputs": [
    {
     "name": "stdout",
     "output_type": "stream",
     "text": [
      "Accuracy is: 0.7875\n",
      "F1_Score is: 0.13441955193482688\n",
      "Precision 0.4852941176470588\n",
      "Recall 0.07801418439716312\n"
     ]
    }
   ],
   "source": [
    "model = LogisticRegression(random_state=12345, solver='liblinear')\n",
    "model.fit(features_train, target_train)\n",
    "predicted_valid = model.predict(features_valid)\n",
    "accuracy_valid = accuracy_score(predicted_valid, target_valid)\n",
    "print('Accuracy is:', accuracy_valid)\n",
    "print('F1_Score is:', f1_score(target_valid, predicted_valid))\n",
    "print('Precision', precision_score(target_valid, predicted_valid))\n",
    "print('Recall', recall_score(target_valid, predicted_valid))"
   ]
  },
  {
   "cell_type": "code",
   "execution_count": 23,
   "metadata": {},
   "outputs": [
    {
     "name": "stdout",
     "output_type": "stream",
     "text": [
      "Accuracy 0.7865\n",
      "Precision 0.4852941176470588\n",
      "Recall 0.07801418439716312\n",
      "F1 0.13441955193482688\n"
     ]
    }
   ],
   "source": [
    "model = DecisionTreeClassifier(random_state=12345, max_depth=100)\n",
    "model.fit(features_train, target_train)\n",
    "prediction = model.predict(features_valid)\n",
    "print('Accuracy', accuracy_score(target_valid, prediction))\n",
    "print('Precision', precision_score(target_valid, predicted_valid))\n",
    "print('Recall', recall_score(target_valid, predicted_valid))\n",
    "print('F1', f1_score(target_valid, predicted_valid))"
   ]
  },
  {
   "cell_type": "markdown",
   "metadata": {},
   "source": [
    "Вывод: \n",
    "       \n",
    "       Случайный лес показывает наилучшие результаты. без учета дисбаланса f1 дает очень слабые резултаты. \n",
    "       \n",
    "       Без учета дисбаланса f1 дает очень слабые резултаты."
   ]
  },
  {
   "cell_type": "markdown",
   "metadata": {},
   "source": [
    "## Борьба с дисбалансом"
   ]
  },
  {
   "cell_type": "code",
   "execution_count": 24,
   "metadata": {},
   "outputs": [
    {
     "data": {
      "text/plain": [
       "exited\n",
       "0    7963\n",
       "1    2037\n",
       "Name: exited, dtype: int64"
      ]
     },
     "execution_count": 24,
     "metadata": {},
     "output_type": "execute_result"
    }
   ],
   "source": [
    "clean_data.groupby('exited')['exited'].count()"
   ]
  },
  {
   "cell_type": "markdown",
   "metadata": {},
   "source": [
    "Каждый четвертый покидает банк"
   ]
  },
  {
   "cell_type": "code",
   "execution_count": 25,
   "metadata": {},
   "outputs": [
    {
     "name": "stdout",
     "output_type": "stream",
     "text": [
      "Accuracy is: 0.847\n",
      "F1_Score is: 0.5277777777777778\n",
      "Precision 0.76\n",
      "Recall 0.40425531914893614\n"
     ]
    }
   ],
   "source": [
    "model = RandomForestClassifier(random_state=12345, class_weight='balanced')\n",
    "model.fit(features_train, target_train)\n",
    "predicted_valid = model.predict(features_valid)\n",
    "accuracy_valid = accuracy_score(predicted_valid, target_valid)\n",
    "print('Accuracy is:', accuracy_valid)\n",
    "print('F1_Score is:', f1_score(target_valid, predicted_valid))\n",
    "print('Precision', precision_score(target_valid, predicted_valid))\n",
    "print('Recall', recall_score(target_valid, predicted_valid))"
   ]
  },
  {
   "cell_type": "code",
   "execution_count": 26,
   "metadata": {},
   "outputs": [
    {
     "name": "stdout",
     "output_type": "stream",
     "text": [
      "Accuracy is: 0.736\n",
      "F1_Score is: 0.5226039783001809\n",
      "\n",
      "Accuracy is: 0.7585\n",
      "F1_Score is: 0.5473289597000938\n",
      "\n",
      "Accuracy is: 0.769\n",
      "F1_Score is: 0.5682242990654206\n",
      "\n",
      "Accuracy is: 0.781\n",
      "F1_Score is: 0.5828571428571429\n",
      "\n",
      "Accuracy is: 0.79\n",
      "F1_Score is: 0.58984375\n",
      "\n",
      "Accuracy is: 0.801\n",
      "F1_Score is: 0.5979797979797978\n",
      "\n",
      "Accuracy is: 0.8125\n",
      "F1_Score is: 0.6130030959752322\n",
      "\n",
      "Accuracy is: 0.819\n",
      "F1_Score is: 0.6090712742980561\n",
      "\n",
      "Accuracy is: 0.8285\n",
      "F1_Score is: 0.6106696935300795\n",
      "\n",
      "Accuracy is: 0.837\n",
      "F1_Score is: 0.6072289156626506\n",
      "\n",
      "Accuracy is: 0.847\n",
      "F1_Score is: 0.6096938775510206\n",
      "\n",
      "Accuracy is: 0.8445\n",
      "F1_Score is: 0.5858854860186419\n",
      "\n",
      "Accuracy is: 0.8485\n",
      "F1_Score is: 0.5785813630041725\n",
      "\n",
      "Accuracy is: 0.8475\n",
      "F1_Score is: 0.5573294629898403\n",
      "\n",
      "Accuracy is: 0.8475\n",
      "F1_Score is: 0.5547445255474452\n",
      "\n"
     ]
    }
   ],
   "source": [
    "for depth in range(1, 16, 1):\n",
    "    model = RandomForestClassifier(random_state=12345, max_depth=depth, n_estimators=123, class_weight='balanced')\n",
    "    model.fit(features_train, target_train)\n",
    "    predictions = model.predict(features_valid)\n",
    "    score = accuracy_score(predictions, target_valid)\n",
    "    fscore = f1_score(target_valid, predictions)\n",
    "    print('Accuracy is:',score)\n",
    "    print('F1_Score is:',fscore)\n",
    "    print()"
   ]
  },
  {
   "cell_type": "code",
   "execution_count": 27,
   "metadata": {},
   "outputs": [
    {
     "name": "stdout",
     "output_type": "stream",
     "text": [
      "Accuracy is: 0.8125\n",
      "F1_Score is: 0.6130030959752322\n"
     ]
    }
   ],
   "source": [
    "model = RandomForestClassifier(random_state=12345, max_depth=7, n_estimators=123, class_weight='balanced')\n",
    "model.fit(features_train, target_train)\n",
    "predictions = model.predict(features_valid)\n",
    "print('Accuracy is:',accuracy_score(predictions, target_valid))\n",
    "print('F1_Score is:', f1_score(target_valid, predictions))"
   ]
  },
  {
   "cell_type": "markdown",
   "metadata": {},
   "source": [
    "При глубине деревьев 7 и числе деревьев 123. F1_score показал наилучший результат : 0.6105919003115264 и accuracy_score :0.8125. Попробуем улучшить показатели"
   ]
  },
  {
   "cell_type": "code",
   "execution_count": 28,
   "metadata": {},
   "outputs": [
    {
     "name": "stdout",
     "output_type": "stream",
     "text": [
      "F1: 0.6047430830039525\n"
     ]
    }
   ],
   "source": [
    "model = RandomForestClassifier(random_state=12345, max_depth=7, n_estimators=123, class_weight='balanced')\n",
    "model.fit(features_train, target_train)\n",
    "predictions = model.predict(features_valid)\n",
    "\n",
    "def upsample(features, target, repeat):\n",
    "    features_zeros = features[target == 0]\n",
    "    features_ones = features[target == 1]\n",
    "    target_zeros = target[target == 0]\n",
    "    target_ones = target[target == 1]\n",
    "\n",
    "    features_upsampled = pd.concat([features_zeros] + [features_ones] * repeat)\n",
    "    target_upsampled = pd.concat([target_zeros] + [target_ones] * repeat)\n",
    "    \n",
    "    features_upsampled, target_upsampled = shuffle(\n",
    "        features_upsampled, target_upsampled, random_state=12345)\n",
    "    \n",
    "    return features_upsampled, target_upsampled\n",
    "\n",
    "features_upsampled, target_upsampled = upsample(features_train, target_train, 4)\n",
    "\n",
    "model = RandomForestClassifier(random_state=12345, max_depth=7, n_estimators=123, class_weight='balanced')\n",
    "\n",
    "model.fit(features_upsampled, target_upsampled)\n",
    "\n",
    "predicted_valid = model.predict(features_valid)\n",
    "\n",
    "print(\"F1:\", f1_score(target_valid, predicted_valid))"
   ]
  },
  {
   "cell_type": "code",
   "execution_count": 29,
   "metadata": {},
   "outputs": [
    {
     "data": {
      "text/plain": [
       "0    4804\n",
       "1    4784\n",
       "Name: exited, dtype: int64"
      ]
     },
     "execution_count": 29,
     "metadata": {},
     "output_type": "execute_result"
    }
   ],
   "source": [
    "target_upsampled.value_counts()"
   ]
  },
  {
   "cell_type": "code",
   "execution_count": 30,
   "metadata": {},
   "outputs": [
    {
     "name": "stdout",
     "output_type": "stream",
     "text": [
      "F1: 0.5850860420650096\n"
     ]
    }
   ],
   "source": [
    "model = RandomForestClassifier(random_state=12345, max_depth=7, n_estimators=123, class_weight='balanced')\n",
    "model.fit(features_train, target_train)\n",
    "predictions = model.predict(features_valid)\n",
    "\n",
    "def downsample(features, target, fraction):\n",
    "    features_zeros = features[target == 0]\n",
    "    features_ones = features[target == 1]\n",
    "    target_zeros = target[target == 0]\n",
    "    target_ones = target[target == 1]\n",
    "\n",
    "    features_downsampled = pd.concat(\n",
    "        [features_zeros.sample(frac=fraction, random_state=12345)] + [features_ones])\n",
    "    target_downsampled = pd.concat(\n",
    "        [target_zeros.sample(frac=fraction, random_state=12345)] + [target_ones])\n",
    "    \n",
    "    features_downsampled, target_downsampled = shuffle(\n",
    "        features_downsampled, target_downsampled, random_state=12345)\n",
    "    \n",
    "    return features_downsampled, target_downsampled\n",
    "\n",
    "features_downsampled, target_downsampled = downsample(features_train, target_train, 0.260)\n",
    "\n",
    "model = RandomForestClassifier(random_state=12345, max_depth=7, n_estimators=123, class_weight='balanced')\n",
    "\n",
    "model.fit(features_downsampled, target_downsampled)\n",
    "\n",
    "predicted_valid = model.predict(features_valid)\n",
    "\n",
    "score = model.score(features_valid, target_valid)\n",
    "\n",
    "print(\"F1:\", f1_score(target_valid, predicted_valid))"
   ]
  },
  {
   "cell_type": "code",
   "execution_count": 31,
   "metadata": {},
   "outputs": [
    {
     "data": {
      "text/plain": [
       "0    1249\n",
       "1    1196\n",
       "Name: exited, dtype: int64"
      ]
     },
     "execution_count": 31,
     "metadata": {},
     "output_type": "execute_result"
    }
   ],
   "source": [
    "target_downsampled.value_counts()"
   ]
  },
  {
   "cell_type": "markdown",
   "metadata": {},
   "source": [
    "Вывод:\n",
    "\n",
    "    Улучшение модели F1 score путем увеличения и уменьшения выборок не удалось.\n",
    "\n",
    "    При глубине деревьев 7 и числе деревьев 123. F1_score показал наилучший результат : 0.6105919003115264 и accuracy_score :0.8125."
   ]
  },
  {
   "cell_type": "markdown",
   "metadata": {},
   "source": [
    "## Тестирование модели"
   ]
  },
  {
   "cell_type": "code",
   "execution_count": 32,
   "metadata": {},
   "outputs": [
    {
     "name": "stdout",
     "output_type": "stream",
     "text": [
      "Accuracy is: 0.8125\n",
      "F1_Score is: 0.6130030959752322\n",
      "AUC ROC is: 0.854841538606835\n"
     ]
    }
   ],
   "source": [
    "model = RandomForestClassifier(random_state=12345, max_depth=7, n_estimators=123, class_weight='balanced')\n",
    "model.fit(features_train, target_train)\n",
    "predictions = model.predict(features_valid)\n",
    "\n",
    "\n",
    "print('Accuracy is:',accuracy_score(predictions, target_valid))\n",
    "print('F1_Score is:', f1_score(target_valid, predictions))\n",
    "model =  RandomForestClassifier(random_state=12345, max_depth=7, n_estimators=123, class_weight='balanced')\n",
    "model.fit(features_train, target_train)\n",
    "\n",
    "probabilities_valid = model.predict_proba(features_valid)\n",
    "probabilities_one_valid = probabilities_valid[:, 1]\n",
    "\n",
    "auc_roc = roc_auc_score(target_valid, probabilities_one_valid)\n",
    "\n",
    "print('AUC ROC is:', auc_roc)\n",
    "fpr, tpr, thresholds = roc_curve(target_valid, probabilities_one_valid)"
   ]
  },
  {
   "cell_type": "code",
   "execution_count": 33,
   "metadata": {},
   "outputs": [
    {
     "data": {
      "text/plain": [
       "<Figure size 432x288 with 0 Axes>"
      ]
     },
     "metadata": {},
     "output_type": "display_data"
    },
    {
     "data": {
      "image/png": "[encoded data removed]",
      "text/plain": [
       "<Figure size 720x288 with 1 Axes>"
      ]
     },
     "metadata": {
      "needs_background": "light"
     },
     "output_type": "display_data"
    }
   ],
   "source": [
    "plt.figure();\n",
    "\n",
    "plt.figure(figsize=(10,4))\n",
    "plt.plot([0, 1], [0, 1])\n",
    "plt.xlim([0.0, 1.0])\n",
    "plt.ylim([0.0, 1.0])\n",
    "plt.plot(fpr,tpr)\n",
    "plt.xlabel('FPR')\n",
    "plt.ylabel('TPR')\n",
    "plt.title('ROC')\n",
    "plt.legend(('Случайная модель','Тестируемая модель'), loc= 'upper left') \n",
    "plt.show()"
   ]
  },
  {
   "cell_type": "markdown",
   "metadata": {},
   "source": [
    "Отрисовали ROC кривую и получили roc auc score : 0.85, что значительно больше случайного порога в 0.5. модель предсказывает хорошо."
   ]
  },
  {
   "cell_type": "markdown",
   "metadata": {},
   "source": [
    "# Общий вывод"
   ]
  },
  {
   "cell_type": "markdown",
   "metadata": {},
   "source": [
    "Был подготовлен датасет прогнозирования оттока клиентов. Данные были приведены к стилистической норме и убранны ненужные столбцы. \n",
    "\n",
    "Были исследованы модели  RandomForestClassifier, LogisticRegression и DecisionTreeClassifier. Лучшую модель показала RandomForestClassifier.\n",
    "\n",
    "Попытался уменьшить и увеличить выборку не помогло.\n",
    "\n",
    "Удалось достичь F1-меры F1_Score is: 0.6105919003115264.\n",
    "\n",
    "Была отрисованна ROC кривая roc auc score : 0.85. "
   ]
  }
 ],
 "metadata": {
  "ExecuteTimeLog": [
   {
    "duration": 1166,
    "start_time": "2023-02-15T06:40:18.600Z"
   },
   {
    "duration": 169,
    "start_time": "2023-02-15T06:40:46.457Z"
   },
   {
    "duration": 29,
    "start_time": "2023-02-15T06:41:01.800Z"
   },
   {
    "duration": 11,
    "start_time": "2023-02-15T06:41:19.147Z"
   },
   {
    "duration": 49,
    "start_time": "2023-02-15T15:11:29.994Z"
   },
   {
    "duration": 1083,
    "start_time": "2023-02-15T15:11:33.977Z"
   },
   {
    "duration": 84,
    "start_time": "2023-02-15T15:11:35.062Z"
   },
   {
    "duration": 36,
    "start_time": "2023-02-15T15:11:35.148Z"
   },
   {
    "duration": 16,
    "start_time": "2023-02-15T15:11:35.186Z"
   },
   {
    "duration": 102,
    "start_time": "2023-02-15T15:11:51.848Z"
   },
   {
    "duration": 8,
    "start_time": "2023-02-15T15:16:48.733Z"
   },
   {
    "duration": 11,
    "start_time": "2023-02-15T15:17:01.295Z"
   },
   {
    "duration": 70,
    "start_time": "2023-02-15T15:18:38.527Z"
   },
   {
    "duration": 3,
    "start_time": "2023-02-15T15:18:44.298Z"
   },
   {
    "duration": 36,
    "start_time": "2023-02-15T15:18:52.074Z"
   },
   {
    "duration": 21,
    "start_time": "2023-02-15T15:18:52.414Z"
   },
   {
    "duration": 12,
    "start_time": "2023-02-15T15:18:52.635Z"
   },
   {
    "duration": 9,
    "start_time": "2023-02-15T15:18:53.126Z"
   },
   {
    "duration": 14,
    "start_time": "2023-02-15T15:18:53.578Z"
   },
   {
    "duration": 7,
    "start_time": "2023-02-15T15:32:20.420Z"
   },
   {
    "duration": 6,
    "start_time": "2023-02-15T15:32:20.732Z"
   },
   {
    "duration": 199,
    "start_time": "2023-02-15T16:20:28.496Z"
   },
   {
    "duration": 34,
    "start_time": "2023-02-15T16:20:34.083Z"
   },
   {
    "duration": 4,
    "start_time": "2023-02-15T16:23:00.516Z"
   },
   {
    "duration": 13,
    "start_time": "2023-02-15T16:23:56.628Z"
   },
   {
    "duration": 11,
    "start_time": "2023-02-15T16:25:52.780Z"
   },
   {
    "duration": 1037,
    "start_time": "2023-02-15T16:26:40.811Z"
   },
   {
    "duration": 37,
    "start_time": "2023-02-15T16:26:41.850Z"
   },
   {
    "duration": 27,
    "start_time": "2023-02-15T16:26:41.889Z"
   },
   {
    "duration": 13,
    "start_time": "2023-02-15T16:26:41.918Z"
   },
   {
    "duration": 7,
    "start_time": "2023-02-15T16:26:41.933Z"
   },
   {
    "duration": 30,
    "start_time": "2023-02-15T16:26:41.941Z"
   },
   {
    "duration": 6,
    "start_time": "2023-02-15T16:26:41.973Z"
   },
   {
    "duration": 7,
    "start_time": "2023-02-15T16:26:41.980Z"
   },
   {
    "duration": 11,
    "start_time": "2023-02-15T16:26:41.989Z"
   },
   {
    "duration": 135,
    "start_time": "2023-02-15T16:26:42.002Z"
   },
   {
    "duration": 24,
    "start_time": "2023-02-15T16:27:07.547Z"
   },
   {
    "duration": 19,
    "start_time": "2023-02-15T16:28:43.348Z"
   },
   {
    "duration": 8,
    "start_time": "2023-02-15T16:29:34.727Z"
   },
   {
    "duration": 13,
    "start_time": "2023-02-15T16:29:50.735Z"
   },
   {
    "duration": 9,
    "start_time": "2023-02-15T16:29:52.319Z"
   },
   {
    "duration": 11,
    "start_time": "2023-02-15T16:30:53.335Z"
   },
   {
    "duration": 18,
    "start_time": "2023-02-15T16:30:54.355Z"
   },
   {
    "duration": 194,
    "start_time": "2023-02-15T16:32:38.872Z"
   },
   {
    "duration": 146,
    "start_time": "2023-02-15T16:32:39.324Z"
   },
   {
    "duration": 106,
    "start_time": "2023-02-15T16:32:42.128Z"
   },
   {
    "duration": 110,
    "start_time": "2023-02-15T16:32:50.884Z"
   },
   {
    "duration": 98,
    "start_time": "2023-02-15T16:32:52.056Z"
   },
   {
    "duration": 1199,
    "start_time": "2023-02-15T16:32:57.363Z"
   },
   {
    "duration": 46,
    "start_time": "2023-02-15T16:32:58.564Z"
   },
   {
    "duration": 25,
    "start_time": "2023-02-15T16:32:58.611Z"
   },
   {
    "duration": 11,
    "start_time": "2023-02-15T16:32:58.638Z"
   },
   {
    "duration": 13,
    "start_time": "2023-02-15T16:32:58.651Z"
   },
   {
    "duration": 16,
    "start_time": "2023-02-15T16:32:58.667Z"
   },
   {
    "duration": 6,
    "start_time": "2023-02-15T16:32:58.685Z"
   },
   {
    "duration": 9,
    "start_time": "2023-02-15T16:32:58.692Z"
   },
   {
    "duration": 113,
    "start_time": "2023-02-15T16:32:58.702Z"
   },
   {
    "duration": 0,
    "start_time": "2023-02-15T16:32:58.816Z"
   },
   {
    "duration": 12,
    "start_time": "2023-02-15T16:33:28.561Z"
   },
   {
    "duration": 21,
    "start_time": "2023-02-15T16:33:29.781Z"
   },
   {
    "duration": 21,
    "start_time": "2023-02-15T16:35:05.870Z"
   },
   {
    "duration": 4,
    "start_time": "2023-02-15T16:35:26.665Z"
   },
   {
    "duration": 1141,
    "start_time": "2023-02-15T16:35:30.534Z"
   },
   {
    "duration": 37,
    "start_time": "2023-02-15T16:35:31.677Z"
   },
   {
    "duration": 27,
    "start_time": "2023-02-15T16:35:31.715Z"
   },
   {
    "duration": 13,
    "start_time": "2023-02-15T16:35:31.744Z"
   },
   {
    "duration": 7,
    "start_time": "2023-02-15T16:35:31.760Z"
   },
   {
    "duration": 16,
    "start_time": "2023-02-15T16:35:31.769Z"
   },
   {
    "duration": 5,
    "start_time": "2023-02-15T16:35:31.787Z"
   },
   {
    "duration": 8,
    "start_time": "2023-02-15T16:35:31.794Z"
   },
   {
    "duration": 31,
    "start_time": "2023-02-15T16:35:31.804Z"
   },
   {
    "duration": 118,
    "start_time": "2023-02-15T16:35:31.837Z"
   },
   {
    "duration": 0,
    "start_time": "2023-02-15T16:35:31.956Z"
   },
   {
    "duration": 10,
    "start_time": "2023-02-15T16:35:37.496Z"
   },
   {
    "duration": 3,
    "start_time": "2023-02-15T16:36:02.530Z"
   },
   {
    "duration": 22,
    "start_time": "2023-02-15T16:36:05.790Z"
   },
   {
    "duration": 20,
    "start_time": "2023-02-15T16:36:08.290Z"
   },
   {
    "duration": 1087,
    "start_time": "2023-02-15T16:36:14.087Z"
   },
   {
    "duration": 38,
    "start_time": "2023-02-15T16:36:15.176Z"
   },
   {
    "duration": 30,
    "start_time": "2023-02-15T16:36:15.216Z"
   },
   {
    "duration": 14,
    "start_time": "2023-02-15T16:36:15.248Z"
   },
   {
    "duration": 7,
    "start_time": "2023-02-15T16:36:15.264Z"
   },
   {
    "duration": 16,
    "start_time": "2023-02-15T16:36:15.272Z"
   },
   {
    "duration": 5,
    "start_time": "2023-02-15T16:36:15.290Z"
   },
   {
    "duration": 18,
    "start_time": "2023-02-15T16:36:15.297Z"
   },
   {
    "duration": 14,
    "start_time": "2023-02-15T16:36:15.316Z"
   },
   {
    "duration": 131,
    "start_time": "2023-02-15T16:36:15.332Z"
   },
   {
    "duration": 0,
    "start_time": "2023-02-15T16:36:15.464Z"
   },
   {
    "duration": 13,
    "start_time": "2023-02-15T16:37:50.000Z"
   },
   {
    "duration": 19,
    "start_time": "2023-02-15T16:37:51.172Z"
   },
   {
    "duration": 21,
    "start_time": "2023-02-15T16:37:52.243Z"
   },
   {
    "duration": 11,
    "start_time": "2023-02-15T16:38:23.655Z"
   },
   {
    "duration": 3,
    "start_time": "2023-02-15T16:43:22.686Z"
   },
   {
    "duration": 12,
    "start_time": "2023-02-15T16:43:28.871Z"
   },
   {
    "duration": 3,
    "start_time": "2023-02-15T16:43:40.421Z"
   },
   {
    "duration": 12,
    "start_time": "2023-02-15T16:43:40.918Z"
   },
   {
    "duration": 1100,
    "start_time": "2023-02-15T16:43:57.955Z"
   },
   {
    "duration": 36,
    "start_time": "2023-02-15T16:43:59.058Z"
   },
   {
    "duration": 25,
    "start_time": "2023-02-15T16:43:59.095Z"
   },
   {
    "duration": 11,
    "start_time": "2023-02-15T16:43:59.122Z"
   },
   {
    "duration": 2,
    "start_time": "2023-02-15T16:43:59.135Z"
   },
   {
    "duration": 4,
    "start_time": "2023-02-15T16:43:59.139Z"
   },
   {
    "duration": 10,
    "start_time": "2023-02-15T16:43:59.153Z"
   },
   {
    "duration": 6,
    "start_time": "2023-02-15T16:43:59.165Z"
   },
   {
    "duration": 11,
    "start_time": "2023-02-15T16:43:59.172Z"
   },
   {
    "duration": 1239,
    "start_time": "2023-02-15T16:43:59.184Z"
   },
   {
    "duration": 0,
    "start_time": "2023-02-15T16:44:00.425Z"
   },
   {
    "duration": 0,
    "start_time": "2023-02-15T16:44:00.426Z"
   },
   {
    "duration": 6,
    "start_time": "2023-02-15T16:44:12.881Z"
   },
   {
    "duration": 6,
    "start_time": "2023-02-15T16:44:23.205Z"
   },
   {
    "duration": 13,
    "start_time": "2023-02-15T16:44:23.793Z"
   },
   {
    "duration": 2589,
    "start_time": "2023-02-15T16:45:45.014Z"
   },
   {
    "duration": 63,
    "start_time": "2023-02-15T16:46:06.817Z"
   },
   {
    "duration": 1408,
    "start_time": "2023-02-15T16:46:11.129Z"
   },
   {
    "duration": 35,
    "start_time": "2023-02-15T16:46:12.539Z"
   },
   {
    "duration": 21,
    "start_time": "2023-02-15T16:46:12.576Z"
   },
   {
    "duration": 10,
    "start_time": "2023-02-15T16:46:12.599Z"
   },
   {
    "duration": 5,
    "start_time": "2023-02-15T16:46:12.611Z"
   },
   {
    "duration": 5,
    "start_time": "2023-02-15T16:46:12.618Z"
   },
   {
    "duration": 14,
    "start_time": "2023-02-15T16:46:12.625Z"
   },
   {
    "duration": 16,
    "start_time": "2023-02-15T16:46:12.640Z"
   },
   {
    "duration": 11,
    "start_time": "2023-02-15T16:46:12.657Z"
   },
   {
    "duration": 19,
    "start_time": "2023-02-15T16:46:12.670Z"
   },
   {
    "duration": 12,
    "start_time": "2023-02-15T16:46:12.691Z"
   },
   {
    "duration": 2000,
    "start_time": "2023-02-15T16:46:12.705Z"
   },
   {
    "duration": 13,
    "start_time": "2023-02-15T16:46:14.706Z"
   },
   {
    "duration": 14,
    "start_time": "2023-02-15T16:46:38.704Z"
   },
   {
    "duration": 6,
    "start_time": "2023-02-15T16:48:17.289Z"
   },
   {
    "duration": 19,
    "start_time": "2023-02-15T16:48:21.177Z"
   },
   {
    "duration": 6,
    "start_time": "2023-02-15T16:48:49.820Z"
   },
   {
    "duration": 11,
    "start_time": "2023-02-15T16:48:52.125Z"
   },
   {
    "duration": 4,
    "start_time": "2023-02-15T16:49:01.873Z"
   },
   {
    "duration": 8,
    "start_time": "2023-02-15T16:49:18.762Z"
   },
   {
    "duration": 4,
    "start_time": "2023-02-15T16:49:32.097Z"
   },
   {
    "duration": 121,
    "start_time": "2023-02-15T16:49:55.058Z"
   },
   {
    "duration": 19,
    "start_time": "2023-02-15T16:50:02.790Z"
   },
   {
    "duration": 14,
    "start_time": "2023-02-15T16:50:24.309Z"
   },
   {
    "duration": 1174,
    "start_time": "2023-02-15T16:50:42.179Z"
   },
   {
    "duration": 0,
    "start_time": "2023-02-15T16:50:43.355Z"
   },
   {
    "duration": 0,
    "start_time": "2023-02-15T16:50:43.361Z"
   },
   {
    "duration": 19,
    "start_time": "2023-02-15T16:51:06.274Z"
   },
   {
    "duration": 1413,
    "start_time": "2023-02-15T16:51:11.547Z"
   },
   {
    "duration": 36,
    "start_time": "2023-02-15T16:51:12.962Z"
   },
   {
    "duration": 23,
    "start_time": "2023-02-15T16:51:13.000Z"
   },
   {
    "duration": 12,
    "start_time": "2023-02-15T16:51:13.024Z"
   },
   {
    "duration": 3,
    "start_time": "2023-02-15T16:51:13.038Z"
   },
   {
    "duration": 18,
    "start_time": "2023-02-15T16:51:13.042Z"
   },
   {
    "duration": 18,
    "start_time": "2023-02-15T16:51:13.061Z"
   },
   {
    "duration": 9,
    "start_time": "2023-02-15T16:51:13.081Z"
   },
   {
    "duration": 16,
    "start_time": "2023-02-15T16:51:13.091Z"
   },
   {
    "duration": 7,
    "start_time": "2023-02-15T16:51:13.108Z"
   },
   {
    "duration": 14,
    "start_time": "2023-02-15T16:51:13.116Z"
   },
   {
    "duration": 2115,
    "start_time": "2023-02-15T16:51:13.131Z"
   },
   {
    "duration": 7,
    "start_time": "2023-02-15T16:51:15.253Z"
   },
   {
    "duration": 24,
    "start_time": "2023-02-15T16:51:15.263Z"
   },
   {
    "duration": 5,
    "start_time": "2023-02-15T16:51:15.289Z"
   },
   {
    "duration": 5,
    "start_time": "2023-02-15T16:51:15.296Z"
   },
   {
    "duration": 16,
    "start_time": "2023-02-15T16:51:15.302Z"
   },
   {
    "duration": 42,
    "start_time": "2023-02-15T16:51:15.319Z"
   },
   {
    "duration": 132,
    "start_time": "2023-02-15T16:51:40.808Z"
   },
   {
    "duration": 18,
    "start_time": "2023-02-15T16:51:55.464Z"
   },
   {
    "duration": 1533,
    "start_time": "2023-02-15T16:52:06.925Z"
   },
   {
    "duration": 38,
    "start_time": "2023-02-15T16:52:08.460Z"
   },
   {
    "duration": 25,
    "start_time": "2023-02-15T16:52:08.500Z"
   },
   {
    "duration": 16,
    "start_time": "2023-02-15T16:52:08.527Z"
   },
   {
    "duration": 7,
    "start_time": "2023-02-15T16:52:08.546Z"
   },
   {
    "duration": 4,
    "start_time": "2023-02-15T16:52:08.555Z"
   },
   {
    "duration": 18,
    "start_time": "2023-02-15T16:52:08.560Z"
   },
   {
    "duration": 7,
    "start_time": "2023-02-15T16:52:08.579Z"
   },
   {
    "duration": 19,
    "start_time": "2023-02-15T16:52:08.588Z"
   },
   {
    "duration": 6,
    "start_time": "2023-02-15T16:52:08.608Z"
   },
   {
    "duration": 7,
    "start_time": "2023-02-15T16:52:08.616Z"
   },
   {
    "duration": 2102,
    "start_time": "2023-02-15T16:52:08.625Z"
   },
   {
    "duration": 5,
    "start_time": "2023-02-15T16:52:10.729Z"
   },
   {
    "duration": 28,
    "start_time": "2023-02-15T16:52:10.737Z"
   },
   {
    "duration": 4,
    "start_time": "2023-02-15T16:52:10.767Z"
   },
   {
    "duration": 6,
    "start_time": "2023-02-15T16:52:10.772Z"
   },
   {
    "duration": 9,
    "start_time": "2023-02-15T16:52:10.779Z"
   },
   {
    "duration": 18,
    "start_time": "2023-02-15T16:52:10.789Z"
   },
   {
    "duration": 11,
    "start_time": "2023-02-15T16:52:10.809Z"
   },
   {
    "duration": 127,
    "start_time": "2023-02-15T16:52:38.771Z"
   },
   {
    "duration": 18,
    "start_time": "2023-02-15T16:52:39.440Z"
   },
   {
    "duration": 1421,
    "start_time": "2023-02-15T16:52:43.228Z"
   },
   {
    "duration": 36,
    "start_time": "2023-02-15T16:52:44.652Z"
   },
   {
    "duration": 26,
    "start_time": "2023-02-15T16:52:44.690Z"
   },
   {
    "duration": 12,
    "start_time": "2023-02-15T16:52:44.718Z"
   },
   {
    "duration": 4,
    "start_time": "2023-02-15T16:52:44.732Z"
   },
   {
    "duration": 16,
    "start_time": "2023-02-15T16:52:44.737Z"
   },
   {
    "duration": 14,
    "start_time": "2023-02-15T16:52:44.755Z"
   },
   {
    "duration": 7,
    "start_time": "2023-02-15T16:52:44.771Z"
   },
   {
    "duration": 13,
    "start_time": "2023-02-15T16:52:44.779Z"
   },
   {
    "duration": 6,
    "start_time": "2023-02-15T16:52:44.793Z"
   },
   {
    "duration": 8,
    "start_time": "2023-02-15T16:52:44.801Z"
   },
   {
    "duration": 2121,
    "start_time": "2023-02-15T16:52:44.810Z"
   },
   {
    "duration": 5,
    "start_time": "2023-02-15T16:52:46.933Z"
   },
   {
    "duration": 20,
    "start_time": "2023-02-15T16:52:46.952Z"
   },
   {
    "duration": 10,
    "start_time": "2023-02-15T16:52:46.974Z"
   },
   {
    "duration": 18,
    "start_time": "2023-02-15T16:52:46.986Z"
   },
   {
    "duration": 10,
    "start_time": "2023-02-15T16:52:47.006Z"
   },
   {
    "duration": 122,
    "start_time": "2023-02-15T16:52:47.018Z"
   },
   {
    "duration": 0,
    "start_time": "2023-02-15T16:52:47.142Z"
   },
   {
    "duration": 16,
    "start_time": "2023-02-15T16:52:56.383Z"
   },
   {
    "duration": 1447,
    "start_time": "2023-02-15T16:53:11.853Z"
   },
   {
    "duration": 35,
    "start_time": "2023-02-15T16:53:13.302Z"
   },
   {
    "duration": 25,
    "start_time": "2023-02-15T16:53:13.338Z"
   },
   {
    "duration": 13,
    "start_time": "2023-02-15T16:53:13.365Z"
   },
   {
    "duration": 4,
    "start_time": "2023-02-15T16:53:13.380Z"
   },
   {
    "duration": 7,
    "start_time": "2023-02-15T16:53:13.386Z"
   },
   {
    "duration": 14,
    "start_time": "2023-02-15T16:53:13.395Z"
   },
   {
    "duration": 7,
    "start_time": "2023-02-15T16:53:13.410Z"
   },
   {
    "duration": 45,
    "start_time": "2023-02-15T16:53:13.418Z"
   },
   {
    "duration": 8,
    "start_time": "2023-02-15T16:53:13.466Z"
   },
   {
    "duration": 38,
    "start_time": "2023-02-15T16:53:13.476Z"
   },
   {
    "duration": 2015,
    "start_time": "2023-02-15T16:53:13.517Z"
   },
   {
    "duration": 6,
    "start_time": "2023-02-15T16:53:15.534Z"
   },
   {
    "duration": 25,
    "start_time": "2023-02-15T16:53:15.554Z"
   },
   {
    "duration": 6,
    "start_time": "2023-02-15T16:53:15.580Z"
   },
   {
    "duration": 5,
    "start_time": "2023-02-15T16:53:15.587Z"
   },
   {
    "duration": 18,
    "start_time": "2023-02-15T16:53:15.594Z"
   },
   {
    "duration": 11,
    "start_time": "2023-02-15T16:53:15.614Z"
   },
   {
    "duration": 5,
    "start_time": "2023-02-15T16:54:20.251Z"
   },
   {
    "duration": 1241,
    "start_time": "2023-02-15T16:54:20.607Z"
   },
   {
    "duration": 0,
    "start_time": "2023-02-15T16:54:21.850Z"
   },
   {
    "duration": 1500,
    "start_time": "2023-02-15T16:54:37.170Z"
   },
   {
    "duration": 37,
    "start_time": "2023-02-15T16:54:38.672Z"
   },
   {
    "duration": 27,
    "start_time": "2023-02-15T16:54:38.710Z"
   },
   {
    "duration": 17,
    "start_time": "2023-02-15T16:54:38.739Z"
   },
   {
    "duration": 3,
    "start_time": "2023-02-15T16:54:38.757Z"
   },
   {
    "duration": 6,
    "start_time": "2023-02-15T16:54:38.762Z"
   },
   {
    "duration": 18,
    "start_time": "2023-02-15T16:54:38.769Z"
   },
   {
    "duration": 9,
    "start_time": "2023-02-15T16:54:38.789Z"
   },
   {
    "duration": 16,
    "start_time": "2023-02-15T16:54:38.799Z"
   },
   {
    "duration": 9,
    "start_time": "2023-02-15T16:54:38.818Z"
   },
   {
    "duration": 7,
    "start_time": "2023-02-15T16:54:38.853Z"
   },
   {
    "duration": 2180,
    "start_time": "2023-02-15T16:54:38.862Z"
   },
   {
    "duration": 11,
    "start_time": "2023-02-15T16:54:41.044Z"
   },
   {
    "duration": 6,
    "start_time": "2023-02-15T16:54:41.057Z"
   },
   {
    "duration": 1364,
    "start_time": "2023-02-15T16:54:41.065Z"
   },
   {
    "duration": 0,
    "start_time": "2023-02-15T16:54:42.431Z"
   },
   {
    "duration": 0,
    "start_time": "2023-02-15T16:54:42.432Z"
   },
   {
    "duration": 1184,
    "start_time": "2023-02-15T16:55:06.883Z"
   },
   {
    "duration": 9,
    "start_time": "2023-02-15T16:55:20.349Z"
   },
   {
    "duration": 1141,
    "start_time": "2023-02-15T16:55:42.700Z"
   },
   {
    "duration": 0,
    "start_time": "2023-02-15T16:55:43.843Z"
   },
   {
    "duration": 1470,
    "start_time": "2023-02-15T16:56:05.830Z"
   },
   {
    "duration": 39,
    "start_time": "2023-02-15T16:56:07.302Z"
   },
   {
    "duration": 27,
    "start_time": "2023-02-15T16:56:07.343Z"
   },
   {
    "duration": 14,
    "start_time": "2023-02-15T16:56:07.372Z"
   },
   {
    "duration": 20,
    "start_time": "2023-02-15T16:56:07.388Z"
   },
   {
    "duration": 15,
    "start_time": "2023-02-15T16:56:07.410Z"
   },
   {
    "duration": 23,
    "start_time": "2023-02-15T16:56:07.427Z"
   },
   {
    "duration": 19,
    "start_time": "2023-02-15T16:56:07.454Z"
   },
   {
    "duration": 20,
    "start_time": "2023-02-15T16:56:07.476Z"
   },
   {
    "duration": 8,
    "start_time": "2023-02-15T16:56:07.498Z"
   },
   {
    "duration": 13,
    "start_time": "2023-02-15T16:56:07.508Z"
   },
   {
    "duration": 2209,
    "start_time": "2023-02-15T16:56:07.523Z"
   },
   {
    "duration": 5,
    "start_time": "2023-02-15T16:56:09.734Z"
   },
   {
    "duration": 15,
    "start_time": "2023-02-15T16:56:09.754Z"
   },
   {
    "duration": 28,
    "start_time": "2023-02-15T16:56:09.771Z"
   },
   {
    "duration": 16,
    "start_time": "2023-02-15T16:56:09.801Z"
   },
   {
    "duration": 149,
    "start_time": "2023-02-15T16:58:35.019Z"
   },
   {
    "duration": 1486,
    "start_time": "2023-02-15T16:58:42.443Z"
   },
   {
    "duration": 43,
    "start_time": "2023-02-15T16:58:43.931Z"
   },
   {
    "duration": 32,
    "start_time": "2023-02-15T16:58:43.976Z"
   },
   {
    "duration": 17,
    "start_time": "2023-02-15T16:58:44.010Z"
   },
   {
    "duration": 24,
    "start_time": "2023-02-15T16:58:44.029Z"
   },
   {
    "duration": 3,
    "start_time": "2023-02-15T16:58:44.055Z"
   },
   {
    "duration": 17,
    "start_time": "2023-02-15T16:58:44.060Z"
   },
   {
    "duration": 11,
    "start_time": "2023-02-15T16:58:44.079Z"
   },
   {
    "duration": 14,
    "start_time": "2023-02-15T16:58:44.092Z"
   },
   {
    "duration": 6,
    "start_time": "2023-02-15T16:58:44.108Z"
   },
   {
    "duration": 12,
    "start_time": "2023-02-15T16:58:44.115Z"
   },
   {
    "duration": 2179,
    "start_time": "2023-02-15T16:58:44.129Z"
   },
   {
    "duration": 5,
    "start_time": "2023-02-15T16:58:46.310Z"
   },
   {
    "duration": 8,
    "start_time": "2023-02-15T16:58:46.317Z"
   },
   {
    "duration": 37,
    "start_time": "2023-02-15T16:58:46.327Z"
   },
   {
    "duration": 19,
    "start_time": "2023-02-15T16:58:52.553Z"
   },
   {
    "duration": 144,
    "start_time": "2023-02-15T16:59:50.910Z"
   },
   {
    "duration": 4,
    "start_time": "2023-02-15T17:00:09.984Z"
   },
   {
    "duration": 1454,
    "start_time": "2023-02-15T17:00:12.967Z"
   },
   {
    "duration": 37,
    "start_time": "2023-02-15T17:00:14.423Z"
   },
   {
    "duration": 24,
    "start_time": "2023-02-15T17:00:14.462Z"
   },
   {
    "duration": 12,
    "start_time": "2023-02-15T17:00:14.487Z"
   },
   {
    "duration": 3,
    "start_time": "2023-02-15T17:00:14.501Z"
   },
   {
    "duration": 7,
    "start_time": "2023-02-15T17:00:14.505Z"
   },
   {
    "duration": 13,
    "start_time": "2023-02-15T17:00:14.513Z"
   },
   {
    "duration": 8,
    "start_time": "2023-02-15T17:00:14.553Z"
   },
   {
    "duration": 11,
    "start_time": "2023-02-15T17:00:14.563Z"
   },
   {
    "duration": 5,
    "start_time": "2023-02-15T17:00:14.576Z"
   },
   {
    "duration": 17,
    "start_time": "2023-02-15T17:00:14.583Z"
   },
   {
    "duration": 2193,
    "start_time": "2023-02-15T17:00:14.601Z"
   },
   {
    "duration": 6,
    "start_time": "2023-02-15T17:00:16.795Z"
   },
   {
    "duration": 149,
    "start_time": "2023-02-15T17:00:16.804Z"
   },
   {
    "duration": 0,
    "start_time": "2023-02-15T17:00:16.955Z"
   },
   {
    "duration": 0,
    "start_time": "2023-02-15T17:00:16.956Z"
   },
   {
    "duration": 27,
    "start_time": "2023-02-15T17:00:43.083Z"
   },
   {
    "duration": 1425,
    "start_time": "2023-02-15T17:01:22.116Z"
   },
   {
    "duration": 41,
    "start_time": "2023-02-15T17:01:23.543Z"
   },
   {
    "duration": 36,
    "start_time": "2023-02-15T17:01:23.586Z"
   },
   {
    "duration": 18,
    "start_time": "2023-02-15T17:01:23.624Z"
   },
   {
    "duration": 7,
    "start_time": "2023-02-15T17:01:23.652Z"
   },
   {
    "duration": 6,
    "start_time": "2023-02-15T17:01:23.660Z"
   },
   {
    "duration": 16,
    "start_time": "2023-02-15T17:01:23.668Z"
   },
   {
    "duration": 8,
    "start_time": "2023-02-15T17:01:23.685Z"
   },
   {
    "duration": 19,
    "start_time": "2023-02-15T17:01:23.695Z"
   },
   {
    "duration": 6,
    "start_time": "2023-02-15T17:01:23.716Z"
   },
   {
    "duration": 32,
    "start_time": "2023-02-15T17:01:23.723Z"
   },
   {
    "duration": 2129,
    "start_time": "2023-02-15T17:01:23.757Z"
   },
   {
    "duration": 6,
    "start_time": "2023-02-15T17:01:25.889Z"
   },
   {
    "duration": 184,
    "start_time": "2023-02-15T17:01:25.898Z"
   },
   {
    "duration": 0,
    "start_time": "2023-02-15T17:01:26.083Z"
   },
   {
    "duration": 0,
    "start_time": "2023-02-15T17:01:26.085Z"
   },
   {
    "duration": 26,
    "start_time": "2023-02-15T17:01:44.606Z"
   },
   {
    "duration": 23,
    "start_time": "2023-02-15T17:02:26.537Z"
   },
   {
    "duration": 17,
    "start_time": "2023-02-15T17:02:26.909Z"
   },
   {
    "duration": 11,
    "start_time": "2023-02-15T17:03:14.073Z"
   },
   {
    "duration": 24,
    "start_time": "2023-02-15T17:04:37.490Z"
   },
   {
    "duration": 19,
    "start_time": "2023-02-15T17:05:00.451Z"
   },
   {
    "duration": 11,
    "start_time": "2023-02-15T17:05:08.926Z"
   },
   {
    "duration": 11,
    "start_time": "2023-02-15T17:05:17.453Z"
   },
   {
    "duration": 9,
    "start_time": "2023-02-15T17:05:25.582Z"
   },
   {
    "duration": 4,
    "start_time": "2023-02-15T17:05:45.454Z"
   },
   {
    "duration": 1391,
    "start_time": "2023-02-15T17:06:00.262Z"
   },
   {
    "duration": 39,
    "start_time": "2023-02-15T17:06:01.655Z"
   },
   {
    "duration": 22,
    "start_time": "2023-02-15T17:06:01.696Z"
   },
   {
    "duration": 13,
    "start_time": "2023-02-15T17:06:01.720Z"
   },
   {
    "duration": 3,
    "start_time": "2023-02-15T17:06:01.735Z"
   },
   {
    "duration": 30,
    "start_time": "2023-02-15T17:06:01.740Z"
   },
   {
    "duration": 20,
    "start_time": "2023-02-15T17:06:01.772Z"
   },
   {
    "duration": 7,
    "start_time": "2023-02-15T17:06:01.793Z"
   },
   {
    "duration": 17,
    "start_time": "2023-02-15T17:06:01.801Z"
   },
   {
    "duration": 5,
    "start_time": "2023-02-15T17:06:01.819Z"
   },
   {
    "duration": 11,
    "start_time": "2023-02-15T17:06:01.826Z"
   },
   {
    "duration": 7,
    "start_time": "2023-02-15T17:06:01.838Z"
   },
   {
    "duration": 23,
    "start_time": "2023-02-15T17:06:01.846Z"
   },
   {
    "duration": 23,
    "start_time": "2023-02-15T17:06:01.871Z"
   },
   {
    "duration": 131,
    "start_time": "2023-02-15T17:06:01.895Z"
   },
   {
    "duration": 0,
    "start_time": "2023-02-15T17:06:02.028Z"
   },
   {
    "duration": 19,
    "start_time": "2023-02-15T17:06:13.453Z"
   },
   {
    "duration": 17,
    "start_time": "2023-02-15T17:10:08.718Z"
   },
   {
    "duration": 18,
    "start_time": "2023-02-15T17:10:09.974Z"
   },
   {
    "duration": 1157,
    "start_time": "2023-02-15T17:10:33.486Z"
   },
   {
    "duration": 0,
    "start_time": "2023-02-15T17:10:34.644Z"
   },
   {
    "duration": 1431,
    "start_time": "2023-02-15T17:10:43.827Z"
   },
   {
    "duration": 38,
    "start_time": "2023-02-15T17:10:45.260Z"
   },
   {
    "duration": 25,
    "start_time": "2023-02-15T17:10:45.300Z"
   },
   {
    "duration": 14,
    "start_time": "2023-02-15T17:10:45.327Z"
   },
   {
    "duration": 11,
    "start_time": "2023-02-15T17:10:45.344Z"
   },
   {
    "duration": 10,
    "start_time": "2023-02-15T17:10:45.357Z"
   },
   {
    "duration": 15,
    "start_time": "2023-02-15T17:10:45.369Z"
   },
   {
    "duration": 9,
    "start_time": "2023-02-15T17:10:45.386Z"
   },
   {
    "duration": 12,
    "start_time": "2023-02-15T17:10:45.397Z"
   },
   {
    "duration": 6,
    "start_time": "2023-02-15T17:10:45.411Z"
   },
   {
    "duration": 38,
    "start_time": "2023-02-15T17:10:45.419Z"
   },
   {
    "duration": 6,
    "start_time": "2023-02-15T17:10:45.459Z"
   },
   {
    "duration": 21,
    "start_time": "2023-02-15T17:10:45.467Z"
   },
   {
    "duration": 27,
    "start_time": "2023-02-15T17:10:45.491Z"
   },
   {
    "duration": 13,
    "start_time": "2023-02-15T17:12:18.261Z"
   },
   {
    "duration": 1395,
    "start_time": "2023-02-15T17:13:27.281Z"
   },
   {
    "duration": 36,
    "start_time": "2023-02-15T17:13:28.678Z"
   },
   {
    "duration": 23,
    "start_time": "2023-02-15T17:13:28.716Z"
   },
   {
    "duration": 12,
    "start_time": "2023-02-15T17:13:28.740Z"
   },
   {
    "duration": 3,
    "start_time": "2023-02-15T17:13:28.754Z"
   },
   {
    "duration": 5,
    "start_time": "2023-02-15T17:13:28.758Z"
   },
   {
    "duration": 13,
    "start_time": "2023-02-15T17:13:28.764Z"
   },
   {
    "duration": 8,
    "start_time": "2023-02-15T17:13:28.779Z"
   },
   {
    "duration": 12,
    "start_time": "2023-02-15T17:13:28.788Z"
   },
   {
    "duration": 5,
    "start_time": "2023-02-15T17:13:28.801Z"
   },
   {
    "duration": 7,
    "start_time": "2023-02-15T17:13:28.808Z"
   },
   {
    "duration": 38,
    "start_time": "2023-02-15T17:13:28.816Z"
   },
   {
    "duration": 21,
    "start_time": "2023-02-15T17:13:28.856Z"
   },
   {
    "duration": 11,
    "start_time": "2023-02-15T17:13:28.880Z"
   },
   {
    "duration": 12,
    "start_time": "2023-02-15T17:14:24.860Z"
   },
   {
    "duration": 136,
    "start_time": "2023-02-15T17:14:37.578Z"
   },
   {
    "duration": 4,
    "start_time": "2023-02-15T17:15:56.990Z"
   },
   {
    "duration": 1336,
    "start_time": "2023-02-15T17:16:18.203Z"
   },
   {
    "duration": 38,
    "start_time": "2023-02-15T17:16:19.541Z"
   },
   {
    "duration": 30,
    "start_time": "2023-02-15T17:16:19.582Z"
   },
   {
    "duration": 11,
    "start_time": "2023-02-15T17:16:19.614Z"
   },
   {
    "duration": 15,
    "start_time": "2023-02-15T17:16:19.627Z"
   },
   {
    "duration": 3,
    "start_time": "2023-02-15T17:16:19.652Z"
   },
   {
    "duration": 12,
    "start_time": "2023-02-15T17:16:19.657Z"
   },
   {
    "duration": 13,
    "start_time": "2023-02-15T17:16:19.670Z"
   },
   {
    "duration": 9,
    "start_time": "2023-02-15T17:16:19.684Z"
   },
   {
    "duration": 41,
    "start_time": "2023-02-15T17:16:19.695Z"
   },
   {
    "duration": 7,
    "start_time": "2023-02-15T17:16:19.738Z"
   },
   {
    "duration": 17,
    "start_time": "2023-02-15T17:16:19.747Z"
   },
   {
    "duration": 12,
    "start_time": "2023-02-15T17:16:19.765Z"
   },
   {
    "duration": 10,
    "start_time": "2023-02-15T17:16:19.780Z"
   },
   {
    "duration": 22,
    "start_time": "2023-02-15T17:16:19.792Z"
   },
   {
    "duration": 11,
    "start_time": "2023-02-15T17:16:19.816Z"
   },
   {
    "duration": 125,
    "start_time": "2023-02-15T17:16:19.829Z"
   },
   {
    "duration": 18,
    "start_time": "2023-02-15T17:16:31.438Z"
   },
   {
    "duration": 50,
    "start_time": "2023-02-16T06:08:21.301Z"
   },
   {
    "duration": 1685,
    "start_time": "2023-02-16T06:08:25.637Z"
   },
   {
    "duration": 195,
    "start_time": "2023-02-16T06:08:27.325Z"
   },
   {
    "duration": 37,
    "start_time": "2023-02-16T06:08:27.521Z"
   },
   {
    "duration": 19,
    "start_time": "2023-02-16T06:08:27.560Z"
   },
   {
    "duration": 21,
    "start_time": "2023-02-16T06:08:27.581Z"
   },
   {
    "duration": 12,
    "start_time": "2023-02-16T06:08:27.606Z"
   },
   {
    "duration": 5,
    "start_time": "2023-02-16T06:08:27.620Z"
   },
   {
    "duration": 15,
    "start_time": "2023-02-16T06:08:27.627Z"
   },
   {
    "duration": 7,
    "start_time": "2023-02-16T06:08:27.643Z"
   },
   {
    "duration": 10,
    "start_time": "2023-02-16T06:08:27.652Z"
   },
   {
    "duration": 31,
    "start_time": "2023-02-16T06:08:27.664Z"
   },
   {
    "duration": 24,
    "start_time": "2023-02-16T06:08:27.697Z"
   },
   {
    "duration": 8,
    "start_time": "2023-02-16T06:08:27.723Z"
   },
   {
    "duration": 9,
    "start_time": "2023-02-16T06:08:27.733Z"
   },
   {
    "duration": 12,
    "start_time": "2023-02-16T06:08:27.744Z"
   },
   {
    "duration": 38,
    "start_time": "2023-02-16T06:08:27.757Z"
   },
   {
    "duration": 4,
    "start_time": "2023-02-16T06:13:46.276Z"
   },
   {
    "duration": 19,
    "start_time": "2023-02-16T06:13:46.931Z"
   },
   {
    "duration": 154,
    "start_time": "2023-02-16T06:13:58.947Z"
   },
   {
    "duration": 20,
    "start_time": "2023-02-16T06:14:01.453Z"
   },
   {
    "duration": 15,
    "start_time": "2023-02-16T06:14:09.610Z"
   },
   {
    "duration": 21,
    "start_time": "2023-02-16T06:14:10.271Z"
   },
   {
    "duration": 15,
    "start_time": "2023-02-16T06:14:16.307Z"
   },
   {
    "duration": 19,
    "start_time": "2023-02-16T06:14:18.546Z"
   },
   {
    "duration": 1349,
    "start_time": "2023-02-16T06:14:23.227Z"
   },
   {
    "duration": 49,
    "start_time": "2023-02-16T06:14:24.578Z"
   },
   {
    "duration": 34,
    "start_time": "2023-02-16T06:14:24.629Z"
   },
   {
    "duration": 14,
    "start_time": "2023-02-16T06:14:24.666Z"
   },
   {
    "duration": 28,
    "start_time": "2023-02-16T06:14:24.682Z"
   },
   {
    "duration": 9,
    "start_time": "2023-02-16T06:14:24.711Z"
   },
   {
    "duration": 6,
    "start_time": "2023-02-16T06:14:24.722Z"
   },
   {
    "duration": 16,
    "start_time": "2023-02-16T06:14:24.730Z"
   },
   {
    "duration": 7,
    "start_time": "2023-02-16T06:14:24.748Z"
   },
   {
    "duration": 11,
    "start_time": "2023-02-16T06:14:24.757Z"
   },
   {
    "duration": 31,
    "start_time": "2023-02-16T06:14:24.770Z"
   },
   {
    "duration": 27,
    "start_time": "2023-02-16T06:14:24.803Z"
   },
   {
    "duration": 7,
    "start_time": "2023-02-16T06:14:24.832Z"
   },
   {
    "duration": 13,
    "start_time": "2023-02-16T06:14:24.841Z"
   },
   {
    "duration": 12,
    "start_time": "2023-02-16T06:14:24.856Z"
   },
   {
    "duration": 145,
    "start_time": "2023-02-16T06:14:24.870Z"
   },
   {
    "duration": 0,
    "start_time": "2023-02-16T06:14:25.016Z"
   },
   {
    "duration": 26,
    "start_time": "2023-02-16T06:14:28.538Z"
   },
   {
    "duration": 4,
    "start_time": "2023-02-16T06:14:40.309Z"
   },
   {
    "duration": 19,
    "start_time": "2023-02-16T06:14:41.120Z"
   },
   {
    "duration": 4,
    "start_time": "2023-02-16T06:15:10.837Z"
   },
   {
    "duration": 28,
    "start_time": "2023-02-16T06:15:11.173Z"
   },
   {
    "duration": 13,
    "start_time": "2023-02-16T06:16:51.655Z"
   },
   {
    "duration": 757,
    "start_time": "2023-02-16T06:17:00.558Z"
   },
   {
    "duration": 731,
    "start_time": "2023-02-16T06:17:10.372Z"
   },
   {
    "duration": 48,
    "start_time": "2023-02-16T06:17:27.551Z"
   },
   {
    "duration": 10,
    "start_time": "2023-02-16T06:24:50.540Z"
   },
   {
    "duration": 813,
    "start_time": "2023-02-16T06:24:51.087Z"
   },
   {
    "duration": 97,
    "start_time": "2023-02-16T06:24:51.902Z"
   },
   {
    "duration": 794,
    "start_time": "2023-02-16T06:24:54.729Z"
   },
   {
    "duration": 23,
    "start_time": "2023-02-16T06:24:55.831Z"
   },
   {
    "duration": 6,
    "start_time": "2023-02-16T06:27:02.449Z"
   },
   {
    "duration": 1416,
    "start_time": "2023-02-16T06:27:10.426Z"
   },
   {
    "duration": 40,
    "start_time": "2023-02-16T06:27:11.844Z"
   },
   {
    "duration": 36,
    "start_time": "2023-02-16T06:27:11.886Z"
   },
   {
    "duration": 29,
    "start_time": "2023-02-16T06:27:11.924Z"
   },
   {
    "duration": 14,
    "start_time": "2023-02-16T06:27:11.955Z"
   },
   {
    "duration": 19,
    "start_time": "2023-02-16T06:27:11.970Z"
   },
   {
    "duration": 36,
    "start_time": "2023-02-16T06:27:11.990Z"
   },
   {
    "duration": 13,
    "start_time": "2023-02-16T06:27:12.028Z"
   },
   {
    "duration": 7,
    "start_time": "2023-02-16T06:27:12.043Z"
   },
   {
    "duration": 11,
    "start_time": "2023-02-16T06:27:12.052Z"
   },
   {
    "duration": 5,
    "start_time": "2023-02-16T06:27:12.064Z"
   },
   {
    "duration": 8,
    "start_time": "2023-02-16T06:27:12.071Z"
   },
   {
    "duration": 5,
    "start_time": "2023-02-16T06:27:12.081Z"
   },
   {
    "duration": 13,
    "start_time": "2023-02-16T06:27:12.102Z"
   },
   {
    "duration": 21,
    "start_time": "2023-02-16T06:27:12.116Z"
   },
   {
    "duration": 5,
    "start_time": "2023-02-16T06:27:12.138Z"
   },
   {
    "duration": 6,
    "start_time": "2023-02-16T06:27:12.144Z"
   },
   {
    "duration": 18,
    "start_time": "2023-02-16T06:27:12.151Z"
   },
   {
    "duration": 11,
    "start_time": "2023-02-16T06:27:12.170Z"
   },
   {
    "duration": 739,
    "start_time": "2023-02-16T06:27:12.196Z"
   },
   {
    "duration": 274,
    "start_time": "2023-02-16T06:27:12.937Z"
   },
   {
    "duration": 4,
    "start_time": "2023-02-16T06:27:28.948Z"
   },
   {
    "duration": 18,
    "start_time": "2023-02-16T06:27:29.571Z"
   },
   {
    "duration": 1371,
    "start_time": "2023-02-16T06:27:46.265Z"
   },
   {
    "duration": 41,
    "start_time": "2023-02-16T06:27:47.638Z"
   },
   {
    "duration": 33,
    "start_time": "2023-02-16T06:27:47.681Z"
   },
   {
    "duration": 19,
    "start_time": "2023-02-16T06:27:47.715Z"
   },
   {
    "duration": 16,
    "start_time": "2023-02-16T06:27:47.737Z"
   },
   {
    "duration": 4,
    "start_time": "2023-02-16T06:27:47.754Z"
   },
   {
    "duration": 8,
    "start_time": "2023-02-16T06:27:47.759Z"
   },
   {
    "duration": 25,
    "start_time": "2023-02-16T06:27:47.768Z"
   },
   {
    "duration": 12,
    "start_time": "2023-02-16T06:27:47.800Z"
   },
   {
    "duration": 28,
    "start_time": "2023-02-16T06:27:47.813Z"
   },
   {
    "duration": 5,
    "start_time": "2023-02-16T06:27:47.843Z"
   },
   {
    "duration": 7,
    "start_time": "2023-02-16T06:27:47.850Z"
   },
   {
    "duration": 8,
    "start_time": "2023-02-16T06:27:47.858Z"
   },
   {
    "duration": 7,
    "start_time": "2023-02-16T06:27:47.868Z"
   },
   {
    "duration": 16,
    "start_time": "2023-02-16T06:27:47.877Z"
   },
   {
    "duration": 8,
    "start_time": "2023-02-16T06:27:47.894Z"
   },
   {
    "duration": 18,
    "start_time": "2023-02-16T06:27:47.908Z"
   },
   {
    "duration": 18,
    "start_time": "2023-02-16T06:27:47.928Z"
   },
   {
    "duration": 10,
    "start_time": "2023-02-16T06:27:47.948Z"
   },
   {
    "duration": 759,
    "start_time": "2023-02-16T06:27:47.960Z"
   },
   {
    "duration": 72,
    "start_time": "2023-02-16T06:27:48.721Z"
   },
   {
    "duration": 10,
    "start_time": "2023-02-16T06:28:35.992Z"
   },
   {
    "duration": 1408,
    "start_time": "2023-02-16T06:28:40.224Z"
   },
   {
    "duration": 43,
    "start_time": "2023-02-16T06:28:41.634Z"
   },
   {
    "duration": 34,
    "start_time": "2023-02-16T06:28:41.679Z"
   },
   {
    "duration": 16,
    "start_time": "2023-02-16T06:28:41.716Z"
   },
   {
    "duration": 15,
    "start_time": "2023-02-16T06:28:41.734Z"
   },
   {
    "duration": 3,
    "start_time": "2023-02-16T06:28:41.750Z"
   },
   {
    "duration": 6,
    "start_time": "2023-02-16T06:28:41.754Z"
   },
   {
    "duration": 12,
    "start_time": "2023-02-16T06:28:41.762Z"
   },
   {
    "duration": 35,
    "start_time": "2023-02-16T06:28:41.776Z"
   },
   {
    "duration": 20,
    "start_time": "2023-02-16T06:28:41.813Z"
   },
   {
    "duration": 5,
    "start_time": "2023-02-16T06:28:41.835Z"
   },
   {
    "duration": 8,
    "start_time": "2023-02-16T06:28:41.842Z"
   },
   {
    "duration": 6,
    "start_time": "2023-02-16T06:28:41.851Z"
   },
   {
    "duration": 10,
    "start_time": "2023-02-16T06:28:41.860Z"
   },
   {
    "duration": 21,
    "start_time": "2023-02-16T06:28:41.872Z"
   },
   {
    "duration": 4,
    "start_time": "2023-02-16T06:28:41.895Z"
   },
   {
    "duration": 19,
    "start_time": "2023-02-16T06:28:41.905Z"
   },
   {
    "duration": 23,
    "start_time": "2023-02-16T06:28:41.926Z"
   },
   {
    "duration": 10,
    "start_time": "2023-02-16T06:28:41.950Z"
   },
   {
    "duration": 751,
    "start_time": "2023-02-16T06:28:41.962Z"
   },
   {
    "duration": 87,
    "start_time": "2023-02-16T06:28:42.715Z"
   },
   {
    "duration": 4,
    "start_time": "2023-02-16T06:28:53.715Z"
   },
   {
    "duration": 16,
    "start_time": "2023-02-16T06:28:54.172Z"
   },
   {
    "duration": 23,
    "start_time": "2023-02-16T06:28:58.288Z"
   },
   {
    "duration": 746,
    "start_time": "2023-02-16T06:28:58.886Z"
   },
   {
    "duration": 44,
    "start_time": "2023-02-16T06:28:59.782Z"
   },
   {
    "duration": 1449,
    "start_time": "2023-02-16T06:29:19.373Z"
   },
   {
    "duration": 40,
    "start_time": "2023-02-16T06:29:20.824Z"
   },
   {
    "duration": 36,
    "start_time": "2023-02-16T06:29:20.866Z"
   },
   {
    "duration": 20,
    "start_time": "2023-02-16T06:29:20.904Z"
   },
   {
    "duration": 21,
    "start_time": "2023-02-16T06:29:20.926Z"
   },
   {
    "duration": 12,
    "start_time": "2023-02-16T06:29:20.949Z"
   },
   {
    "duration": 10,
    "start_time": "2023-02-16T06:29:20.962Z"
   },
   {
    "duration": 14,
    "start_time": "2023-02-16T06:29:20.973Z"
   },
   {
    "duration": 40,
    "start_time": "2023-02-16T06:29:20.989Z"
   },
   {
    "duration": 26,
    "start_time": "2023-02-16T06:29:21.030Z"
   },
   {
    "duration": 13,
    "start_time": "2023-02-16T06:29:21.058Z"
   },
   {
    "duration": 28,
    "start_time": "2023-02-16T06:29:21.073Z"
   },
   {
    "duration": 26,
    "start_time": "2023-02-16T06:29:21.107Z"
   },
   {
    "duration": 16,
    "start_time": "2023-02-16T06:29:21.136Z"
   },
   {
    "duration": 12,
    "start_time": "2023-02-16T06:29:21.154Z"
   },
   {
    "duration": 6,
    "start_time": "2023-02-16T06:29:21.168Z"
   },
   {
    "duration": 13,
    "start_time": "2023-02-16T06:29:21.175Z"
   },
   {
    "duration": 55,
    "start_time": "2023-02-16T06:29:21.190Z"
   },
   {
    "duration": 11,
    "start_time": "2023-02-16T06:29:21.247Z"
   },
   {
    "duration": 712,
    "start_time": "2023-02-16T06:29:21.260Z"
   },
   {
    "duration": 48,
    "start_time": "2023-02-16T06:29:21.973Z"
   },
   {
    "duration": 122,
    "start_time": "2023-02-16T06:38:31.237Z"
   },
   {
    "duration": 11,
    "start_time": "2023-02-16T06:38:51.577Z"
   },
   {
    "duration": 14,
    "start_time": "2023-02-16T06:39:02.183Z"
   },
   {
    "duration": 9,
    "start_time": "2023-02-16T06:39:19.090Z"
   },
   {
    "duration": 1421,
    "start_time": "2023-02-16T06:39:23.432Z"
   },
   {
    "duration": 45,
    "start_time": "2023-02-16T06:39:24.855Z"
   },
   {
    "duration": 36,
    "start_time": "2023-02-16T06:39:24.902Z"
   },
   {
    "duration": 19,
    "start_time": "2023-02-16T06:39:24.940Z"
   },
   {
    "duration": 16,
    "start_time": "2023-02-16T06:39:24.962Z"
   },
   {
    "duration": 6,
    "start_time": "2023-02-16T06:39:24.991Z"
   },
   {
    "duration": 28,
    "start_time": "2023-02-16T06:39:25.000Z"
   },
   {
    "duration": 35,
    "start_time": "2023-02-16T06:39:25.029Z"
   },
   {
    "duration": 11,
    "start_time": "2023-02-16T06:39:25.066Z"
   },
   {
    "duration": 21,
    "start_time": "2023-02-16T06:39:25.078Z"
   },
   {
    "duration": 29,
    "start_time": "2023-02-16T06:39:25.100Z"
   },
   {
    "duration": 12,
    "start_time": "2023-02-16T06:39:25.131Z"
   },
   {
    "duration": 10,
    "start_time": "2023-02-16T06:39:25.145Z"
   },
   {
    "duration": 13,
    "start_time": "2023-02-16T06:39:25.158Z"
   },
   {
    "duration": 12,
    "start_time": "2023-02-16T06:39:25.172Z"
   },
   {
    "duration": 4,
    "start_time": "2023-02-16T06:39:25.186Z"
   },
   {
    "duration": 46,
    "start_time": "2023-02-16T06:39:25.192Z"
   },
   {
    "duration": 27,
    "start_time": "2023-02-16T06:39:25.240Z"
   },
   {
    "duration": 11,
    "start_time": "2023-02-16T06:39:25.269Z"
   },
   {
    "duration": 788,
    "start_time": "2023-02-16T06:39:25.282Z"
   },
   {
    "duration": 133,
    "start_time": "2023-02-16T06:39:26.074Z"
   },
   {
    "duration": 205,
    "start_time": "2023-02-16T06:39:26.210Z"
   },
   {
    "duration": 11,
    "start_time": "2023-02-16T06:39:40.036Z"
   },
   {
    "duration": 53,
    "start_time": "2023-02-16T06:39:48.660Z"
   },
   {
    "duration": 40,
    "start_time": "2023-02-16T06:39:58.306Z"
   },
   {
    "duration": 806,
    "start_time": "2023-02-16T06:40:26.009Z"
   },
   {
    "duration": 74,
    "start_time": "2023-02-16T06:40:26.821Z"
   },
   {
    "duration": 126,
    "start_time": "2023-02-16T06:40:26.901Z"
   },
   {
    "duration": 1536,
    "start_time": "2023-02-16T06:42:14.383Z"
   },
   {
    "duration": 42,
    "start_time": "2023-02-16T06:42:15.921Z"
   },
   {
    "duration": 109,
    "start_time": "2023-02-16T06:42:15.965Z"
   },
   {
    "duration": 18,
    "start_time": "2023-02-16T06:42:16.076Z"
   },
   {
    "duration": 30,
    "start_time": "2023-02-16T06:42:16.097Z"
   },
   {
    "duration": 26,
    "start_time": "2023-02-16T06:42:16.131Z"
   },
   {
    "duration": 22,
    "start_time": "2023-02-16T06:42:16.159Z"
   },
   {
    "duration": 61,
    "start_time": "2023-02-16T06:42:16.184Z"
   },
   {
    "duration": 13,
    "start_time": "2023-02-16T06:42:16.247Z"
   },
   {
    "duration": 15,
    "start_time": "2023-02-16T06:42:16.262Z"
   },
   {
    "duration": 15,
    "start_time": "2023-02-16T06:42:16.279Z"
   },
   {
    "duration": 54,
    "start_time": "2023-02-16T06:42:16.296Z"
   },
   {
    "duration": 15,
    "start_time": "2023-02-16T06:42:16.352Z"
   },
   {
    "duration": 16,
    "start_time": "2023-02-16T06:42:16.370Z"
   },
   {
    "duration": 52,
    "start_time": "2023-02-16T06:42:16.388Z"
   },
   {
    "duration": 8,
    "start_time": "2023-02-16T06:42:16.441Z"
   },
   {
    "duration": 21,
    "start_time": "2023-02-16T06:42:16.451Z"
   },
   {
    "duration": 54,
    "start_time": "2023-02-16T06:42:16.474Z"
   },
   {
    "duration": 47,
    "start_time": "2023-02-16T06:42:16.530Z"
   },
   {
    "duration": 880,
    "start_time": "2023-02-16T06:42:16.580Z"
   },
   {
    "duration": 0,
    "start_time": "2023-02-16T06:42:17.462Z"
   },
   {
    "duration": 0,
    "start_time": "2023-02-16T06:42:17.463Z"
   },
   {
    "duration": 761,
    "start_time": "2023-02-16T06:42:38.617Z"
   },
   {
    "duration": 747,
    "start_time": "2023-02-16T06:42:47.531Z"
   },
   {
    "duration": 41,
    "start_time": "2023-02-16T06:43:12.559Z"
   },
   {
    "duration": 734,
    "start_time": "2023-02-16T06:43:27.016Z"
   },
   {
    "duration": 46,
    "start_time": "2023-02-16T06:43:27.752Z"
   },
   {
    "duration": 40,
    "start_time": "2023-02-16T06:43:28.288Z"
   },
   {
    "duration": 1403,
    "start_time": "2023-02-16T06:43:37.820Z"
   },
   {
    "duration": 41,
    "start_time": "2023-02-16T06:43:39.226Z"
   },
   {
    "duration": 41,
    "start_time": "2023-02-16T06:43:39.269Z"
   },
   {
    "duration": 16,
    "start_time": "2023-02-16T06:43:39.314Z"
   },
   {
    "duration": 17,
    "start_time": "2023-02-16T06:43:39.333Z"
   },
   {
    "duration": 2,
    "start_time": "2023-02-16T06:43:39.352Z"
   },
   {
    "duration": 8,
    "start_time": "2023-02-16T06:43:39.356Z"
   },
   {
    "duration": 15,
    "start_time": "2023-02-16T06:43:39.365Z"
   },
   {
    "duration": 18,
    "start_time": "2023-02-16T06:43:39.382Z"
   },
   {
    "duration": 28,
    "start_time": "2023-02-16T06:43:39.401Z"
   },
   {
    "duration": 5,
    "start_time": "2023-02-16T06:43:39.431Z"
   },
   {
    "duration": 7,
    "start_time": "2023-02-16T06:43:39.438Z"
   },
   {
    "duration": 9,
    "start_time": "2023-02-16T06:43:39.447Z"
   },
   {
    "duration": 8,
    "start_time": "2023-02-16T06:43:39.459Z"
   },
   {
    "duration": 27,
    "start_time": "2023-02-16T06:43:39.468Z"
   },
   {
    "duration": 7,
    "start_time": "2023-02-16T06:43:39.496Z"
   },
   {
    "duration": 7,
    "start_time": "2023-02-16T06:43:39.505Z"
   },
   {
    "duration": 29,
    "start_time": "2023-02-16T06:43:39.514Z"
   },
   {
    "duration": 10,
    "start_time": "2023-02-16T06:43:39.545Z"
   },
   {
    "duration": 791,
    "start_time": "2023-02-16T06:43:39.556Z"
   },
   {
    "duration": 63,
    "start_time": "2023-02-16T06:43:40.349Z"
   },
   {
    "duration": 129,
    "start_time": "2023-02-16T06:43:40.414Z"
   },
   {
    "duration": 44,
    "start_time": "2023-02-16T06:45:11.231Z"
   },
   {
    "duration": 1479,
    "start_time": "2023-02-16T06:45:54.333Z"
   },
   {
    "duration": 41,
    "start_time": "2023-02-16T06:45:55.822Z"
   },
   {
    "duration": 45,
    "start_time": "2023-02-16T06:45:55.865Z"
   },
   {
    "duration": 20,
    "start_time": "2023-02-16T06:45:55.913Z"
   },
   {
    "duration": 46,
    "start_time": "2023-02-16T06:45:55.936Z"
   },
   {
    "duration": 4,
    "start_time": "2023-02-16T06:45:55.984Z"
   },
   {
    "duration": 43,
    "start_time": "2023-02-16T06:45:55.991Z"
   },
   {
    "duration": 36,
    "start_time": "2023-02-16T06:45:56.036Z"
   },
   {
    "duration": 17,
    "start_time": "2023-02-16T06:45:56.074Z"
   },
   {
    "duration": 45,
    "start_time": "2023-02-16T06:45:56.092Z"
   },
   {
    "duration": 16,
    "start_time": "2023-02-16T06:45:56.139Z"
   },
   {
    "duration": 19,
    "start_time": "2023-02-16T06:45:56.157Z"
   },
   {
    "duration": 39,
    "start_time": "2023-02-16T06:45:56.178Z"
   },
   {
    "duration": 24,
    "start_time": "2023-02-16T06:45:56.222Z"
   },
   {
    "duration": 17,
    "start_time": "2023-02-16T06:45:56.249Z"
   },
   {
    "duration": 6,
    "start_time": "2023-02-16T06:45:56.268Z"
   },
   {
    "duration": 55,
    "start_time": "2023-02-16T06:45:56.276Z"
   },
   {
    "duration": 33,
    "start_time": "2023-02-16T06:45:56.336Z"
   },
   {
    "duration": 15,
    "start_time": "2023-02-16T06:45:56.371Z"
   },
   {
    "duration": 789,
    "start_time": "2023-02-16T06:45:56.387Z"
   },
   {
    "duration": 148,
    "start_time": "2023-02-16T06:45:57.178Z"
   },
   {
    "duration": 109,
    "start_time": "2023-02-16T06:45:57.328Z"
   },
   {
    "duration": 131,
    "start_time": "2023-02-16T06:52:36.855Z"
   },
   {
    "duration": 752,
    "start_time": "2023-02-16T06:52:42.872Z"
   },
   {
    "duration": 773,
    "start_time": "2023-02-16T06:53:16.621Z"
   },
   {
    "duration": 12,
    "start_time": "2023-02-16T06:55:14.933Z"
   },
   {
    "duration": 10,
    "start_time": "2023-02-16T06:55:57.669Z"
   },
   {
    "duration": 11,
    "start_time": "2023-02-16T06:56:33.752Z"
   },
   {
    "duration": 82,
    "start_time": "2023-02-16T06:56:42.296Z"
   },
   {
    "duration": 77,
    "start_time": "2023-02-16T06:56:55.217Z"
   },
   {
    "duration": 1731,
    "start_time": "2023-02-16T06:57:21.928Z"
   },
   {
    "duration": 1857,
    "start_time": "2023-02-16T06:57:45.119Z"
   },
   {
    "duration": 1867,
    "start_time": "2023-02-16T06:58:15.087Z"
   },
   {
    "duration": 1800,
    "start_time": "2023-02-16T06:58:29.984Z"
   },
   {
    "duration": 1868,
    "start_time": "2023-02-16T07:00:43.342Z"
   },
   {
    "duration": 1806,
    "start_time": "2023-02-16T07:01:09.133Z"
   },
   {
    "duration": 81,
    "start_time": "2023-02-16T07:01:20.913Z"
   },
   {
    "duration": 1895,
    "start_time": "2023-02-16T07:01:25.746Z"
   },
   {
    "duration": 1740,
    "start_time": "2023-02-16T07:01:31.783Z"
   },
   {
    "duration": 1761,
    "start_time": "2023-02-16T07:01:45.817Z"
   },
   {
    "duration": 57,
    "start_time": "2023-02-16T07:03:32.316Z"
   },
   {
    "duration": 169,
    "start_time": "2023-02-16T07:03:45.805Z"
   },
   {
    "duration": 181,
    "start_time": "2023-02-16T07:03:55.868Z"
   },
   {
    "duration": 197,
    "start_time": "2023-02-16T07:04:05.922Z"
   },
   {
    "duration": 2509,
    "start_time": "2023-02-16T07:04:16.822Z"
   },
   {
    "duration": 7975,
    "start_time": "2023-02-16T07:04:27.440Z"
   },
   {
    "duration": 1876,
    "start_time": "2023-02-16T07:04:44.375Z"
   },
   {
    "duration": 24,
    "start_time": "2023-02-16T07:05:38.161Z"
   },
   {
    "duration": 1568,
    "start_time": "2023-02-16T07:06:07.336Z"
   },
   {
    "duration": 53,
    "start_time": "2023-02-16T07:06:08.906Z"
   },
   {
    "duration": 29,
    "start_time": "2023-02-16T07:06:08.961Z"
   },
   {
    "duration": 19,
    "start_time": "2023-02-16T07:06:08.993Z"
   },
   {
    "duration": 30,
    "start_time": "2023-02-16T07:06:09.021Z"
   },
   {
    "duration": 3,
    "start_time": "2023-02-16T07:06:09.053Z"
   },
   {
    "duration": 7,
    "start_time": "2023-02-16T07:06:09.057Z"
   },
   {
    "duration": 17,
    "start_time": "2023-02-16T07:06:09.065Z"
   },
   {
    "duration": 10,
    "start_time": "2023-02-16T07:06:09.084Z"
   },
   {
    "duration": 43,
    "start_time": "2023-02-16T07:06:09.100Z"
   },
   {
    "duration": 7,
    "start_time": "2023-02-16T07:06:09.145Z"
   },
   {
    "duration": 13,
    "start_time": "2023-02-16T07:06:09.154Z"
   },
   {
    "duration": 21,
    "start_time": "2023-02-16T07:06:09.169Z"
   },
   {
    "duration": 63,
    "start_time": "2023-02-16T07:06:09.192Z"
   },
   {
    "duration": 31,
    "start_time": "2023-02-16T07:06:09.257Z"
   },
   {
    "duration": 55,
    "start_time": "2023-02-16T07:06:09.290Z"
   },
   {
    "duration": 12,
    "start_time": "2023-02-16T07:06:09.346Z"
   },
   {
    "duration": 27,
    "start_time": "2023-02-16T07:06:09.360Z"
   },
   {
    "duration": 58,
    "start_time": "2023-02-16T07:06:09.388Z"
   },
   {
    "duration": 869,
    "start_time": "2023-02-16T07:06:09.448Z"
   },
   {
    "duration": 88,
    "start_time": "2023-02-16T07:06:10.319Z"
   },
   {
    "duration": 156,
    "start_time": "2023-02-16T07:06:10.409Z"
   },
   {
    "duration": 832,
    "start_time": "2023-02-16T07:06:10.567Z"
   },
   {
    "duration": 1869,
    "start_time": "2023-02-16T07:06:11.403Z"
   },
   {
    "duration": 174,
    "start_time": "2023-02-16T07:06:13.274Z"
   },
   {
    "duration": 163,
    "start_time": "2023-02-16T07:06:13.449Z"
   },
   {
    "duration": 325,
    "start_time": "2023-02-16T07:06:49.936Z"
   },
   {
    "duration": 310,
    "start_time": "2023-02-16T07:07:13.677Z"
   },
   {
    "duration": 153,
    "start_time": "2023-02-16T07:08:30.231Z"
   },
   {
    "duration": 159,
    "start_time": "2023-02-16T07:08:46.520Z"
   },
   {
    "duration": 305,
    "start_time": "2023-02-16T07:09:12.958Z"
   },
   {
    "duration": 93,
    "start_time": "2023-02-16T07:11:27.218Z"
   },
   {
    "duration": 469,
    "start_time": "2023-02-16T07:11:58.161Z"
   },
   {
    "duration": 298,
    "start_time": "2023-02-16T07:12:24.838Z"
   },
   {
    "duration": 64,
    "start_time": "2023-02-16T07:12:29.029Z"
   },
   {
    "duration": 146,
    "start_time": "2023-02-16T07:15:33.630Z"
   },
   {
    "duration": 286,
    "start_time": "2023-02-16T07:15:42.836Z"
   },
   {
    "duration": 24,
    "start_time": "2023-02-16T07:15:44.231Z"
   },
   {
    "duration": 142,
    "start_time": "2023-02-16T07:20:24.638Z"
   },
   {
    "duration": 661,
    "start_time": "2023-02-16T07:21:09.254Z"
   },
   {
    "duration": 9909,
    "start_time": "2023-02-16T07:21:25.830Z"
   },
   {
    "duration": 626,
    "start_time": "2023-02-16T07:22:13.424Z"
   },
   {
    "duration": 318,
    "start_time": "2023-02-16T07:22:24.994Z"
   },
   {
    "duration": 117,
    "start_time": "2023-02-16T07:22:25.593Z"
   },
   {
    "duration": 906,
    "start_time": "2023-02-16T07:22:43.329Z"
   },
   {
    "duration": 666,
    "start_time": "2023-02-16T07:22:53.743Z"
   },
   {
    "duration": 1492,
    "start_time": "2023-02-16T07:22:58.903Z"
   },
   {
    "duration": 63,
    "start_time": "2023-02-16T07:23:00.399Z"
   },
   {
    "duration": 40,
    "start_time": "2023-02-16T07:23:00.464Z"
   },
   {
    "duration": 32,
    "start_time": "2023-02-16T07:23:00.513Z"
   },
   {
    "duration": 29,
    "start_time": "2023-02-16T07:23:00.548Z"
   },
   {
    "duration": 48,
    "start_time": "2023-02-16T07:23:00.579Z"
   },
   {
    "duration": 38,
    "start_time": "2023-02-16T07:23:00.630Z"
   },
   {
    "duration": 68,
    "start_time": "2023-02-16T07:23:00.670Z"
   },
   {
    "duration": 34,
    "start_time": "2023-02-16T07:23:00.741Z"
   },
   {
    "duration": 57,
    "start_time": "2023-02-16T07:23:00.777Z"
   },
   {
    "duration": 89,
    "start_time": "2023-02-16T07:23:00.835Z"
   },
   {
    "duration": 44,
    "start_time": "2023-02-16T07:23:00.926Z"
   },
   {
    "duration": 67,
    "start_time": "2023-02-16T07:23:00.971Z"
   },
   {
    "duration": 32,
    "start_time": "2023-02-16T07:23:01.041Z"
   },
   {
    "duration": 56,
    "start_time": "2023-02-16T07:23:01.075Z"
   },
   {
    "duration": 17,
    "start_time": "2023-02-16T07:23:01.133Z"
   },
   {
    "duration": 32,
    "start_time": "2023-02-16T07:23:01.152Z"
   },
   {
    "duration": 74,
    "start_time": "2023-02-16T07:23:01.186Z"
   },
   {
    "duration": 31,
    "start_time": "2023-02-16T07:23:01.262Z"
   },
   {
    "duration": 816,
    "start_time": "2023-02-16T07:23:01.294Z"
   },
   {
    "duration": 95,
    "start_time": "2023-02-16T07:23:02.112Z"
   },
   {
    "duration": 132,
    "start_time": "2023-02-16T07:23:02.215Z"
   },
   {
    "duration": 756,
    "start_time": "2023-02-16T07:23:02.349Z"
   },
   {
    "duration": 9900,
    "start_time": "2023-02-16T07:23:03.112Z"
   },
   {
    "duration": 623,
    "start_time": "2023-02-16T07:23:13.014Z"
   },
   {
    "duration": 901,
    "start_time": "2023-02-16T07:23:13.639Z"
   },
   {
    "duration": 757,
    "start_time": "2023-02-16T07:23:14.542Z"
   },
   {
    "duration": 696,
    "start_time": "2023-02-16T07:23:15.302Z"
   },
   {
    "duration": 1549,
    "start_time": "2023-02-16T07:25:20.573Z"
   },
   {
    "duration": 46,
    "start_time": "2023-02-16T07:25:22.129Z"
   },
   {
    "duration": 41,
    "start_time": "2023-02-16T07:25:22.177Z"
   },
   {
    "duration": 57,
    "start_time": "2023-02-16T07:25:22.220Z"
   },
   {
    "duration": 21,
    "start_time": "2023-02-16T07:25:22.280Z"
   },
   {
    "duration": 18,
    "start_time": "2023-02-16T07:25:22.308Z"
   },
   {
    "duration": 11,
    "start_time": "2023-02-16T07:25:22.329Z"
   },
   {
    "duration": 19,
    "start_time": "2023-02-16T07:25:22.342Z"
   },
   {
    "duration": 16,
    "start_time": "2023-02-16T07:25:22.362Z"
   },
   {
    "duration": 12,
    "start_time": "2023-02-16T07:25:22.380Z"
   },
   {
    "duration": 49,
    "start_time": "2023-02-16T07:25:22.394Z"
   },
   {
    "duration": 19,
    "start_time": "2023-02-16T07:25:22.445Z"
   },
   {
    "duration": 13,
    "start_time": "2023-02-16T07:25:22.466Z"
   },
   {
    "duration": 8,
    "start_time": "2023-02-16T07:25:22.482Z"
   },
   {
    "duration": 40,
    "start_time": "2023-02-16T07:25:22.492Z"
   },
   {
    "duration": 5,
    "start_time": "2023-02-16T07:25:22.533Z"
   },
   {
    "duration": 6,
    "start_time": "2023-02-16T07:25:22.540Z"
   },
   {
    "duration": 20,
    "start_time": "2023-02-16T07:25:22.548Z"
   },
   {
    "duration": 10,
    "start_time": "2023-02-16T07:25:22.569Z"
   },
   {
    "duration": 790,
    "start_time": "2023-02-16T07:25:22.581Z"
   },
   {
    "duration": 130,
    "start_time": "2023-02-16T07:25:23.373Z"
   },
   {
    "duration": 138,
    "start_time": "2023-02-16T07:25:23.506Z"
   },
   {
    "duration": 766,
    "start_time": "2023-02-16T07:25:23.645Z"
   },
   {
    "duration": 9707,
    "start_time": "2023-02-16T07:25:24.419Z"
   },
   {
    "duration": 674,
    "start_time": "2023-02-16T07:25:34.128Z"
   },
   {
    "duration": 953,
    "start_time": "2023-02-16T07:25:34.804Z"
   },
   {
    "duration": 747,
    "start_time": "2023-02-16T07:25:35.758Z"
   },
   {
    "duration": 750,
    "start_time": "2023-02-16T07:25:36.508Z"
   },
   {
    "duration": 165,
    "start_time": "2023-02-16T07:26:43.773Z"
   },
   {
    "duration": 50,
    "start_time": "2023-02-16T07:27:08.932Z"
   },
   {
    "duration": 12,
    "start_time": "2023-02-16T07:27:31.567Z"
   },
   {
    "duration": 13,
    "start_time": "2023-02-16T07:27:43.528Z"
   },
   {
    "duration": 696,
    "start_time": "2023-02-16T07:28:09.452Z"
   },
   {
    "duration": 654,
    "start_time": "2023-02-16T07:28:21.136Z"
   },
   {
    "duration": 667,
    "start_time": "2023-02-16T07:28:21.799Z"
   },
   {
    "duration": 704,
    "start_time": "2023-02-16T07:28:41.333Z"
   },
   {
    "duration": 666,
    "start_time": "2023-02-16T07:29:07.129Z"
   },
   {
    "duration": 145,
    "start_time": "2023-02-16T07:29:24.836Z"
   },
   {
    "duration": 199,
    "start_time": "2023-02-16T07:29:56.218Z"
   },
   {
    "duration": 175,
    "start_time": "2023-02-16T07:30:03.492Z"
   },
   {
    "duration": 53,
    "start_time": "2023-02-16T07:30:13.814Z"
   },
   {
    "duration": 234,
    "start_time": "2023-02-16T07:30:17.232Z"
   },
   {
    "duration": 1260,
    "start_time": "2023-02-16T07:31:07.564Z"
   },
   {
    "duration": 179,
    "start_time": "2023-02-16T07:31:15.560Z"
   },
   {
    "duration": 1257,
    "start_time": "2023-02-16T07:31:43.072Z"
   },
   {
    "duration": 1597,
    "start_time": "2023-02-16T07:32:55.227Z"
   },
   {
    "duration": 43,
    "start_time": "2023-02-16T07:32:56.833Z"
   },
   {
    "duration": 29,
    "start_time": "2023-02-16T07:32:56.878Z"
   },
   {
    "duration": 28,
    "start_time": "2023-02-16T07:32:56.914Z"
   },
   {
    "duration": 17,
    "start_time": "2023-02-16T07:32:56.945Z"
   },
   {
    "duration": 3,
    "start_time": "2023-02-16T07:32:56.963Z"
   },
   {
    "duration": 5,
    "start_time": "2023-02-16T07:32:56.968Z"
   },
   {
    "duration": 14,
    "start_time": "2023-02-16T07:32:56.975Z"
   },
   {
    "duration": 16,
    "start_time": "2023-02-16T07:32:56.991Z"
   },
   {
    "duration": 39,
    "start_time": "2023-02-16T07:32:57.010Z"
   },
   {
    "duration": 6,
    "start_time": "2023-02-16T07:32:57.050Z"
   },
   {
    "duration": 11,
    "start_time": "2023-02-16T07:32:57.057Z"
   },
   {
    "duration": 7,
    "start_time": "2023-02-16T07:32:57.069Z"
   },
   {
    "duration": 14,
    "start_time": "2023-02-16T07:32:57.078Z"
   },
   {
    "duration": 31,
    "start_time": "2023-02-16T07:32:57.103Z"
   },
   {
    "duration": 5,
    "start_time": "2023-02-16T07:32:57.136Z"
   },
   {
    "duration": 9,
    "start_time": "2023-02-16T07:32:57.142Z"
   },
   {
    "duration": 20,
    "start_time": "2023-02-16T07:32:57.153Z"
   },
   {
    "duration": 11,
    "start_time": "2023-02-16T07:32:57.175Z"
   },
   {
    "duration": 824,
    "start_time": "2023-02-16T07:32:57.188Z"
   },
   {
    "duration": 81,
    "start_time": "2023-02-16T07:32:58.015Z"
   },
   {
    "duration": 155,
    "start_time": "2023-02-16T07:32:58.098Z"
   },
   {
    "duration": 796,
    "start_time": "2023-02-16T07:32:58.254Z"
   },
   {
    "duration": 10067,
    "start_time": "2023-02-16T07:32:59.052Z"
   },
   {
    "duration": 675,
    "start_time": "2023-02-16T07:33:09.120Z"
   },
   {
    "duration": 967,
    "start_time": "2023-02-16T07:33:09.797Z"
   },
   {
    "duration": 675,
    "start_time": "2023-02-16T07:33:10.765Z"
   },
   {
    "duration": 1429,
    "start_time": "2023-02-16T07:33:11.442Z"
   },
   {
    "duration": 284,
    "start_time": "2023-02-16T07:33:12.873Z"
   },
   {
    "duration": 144,
    "start_time": "2023-02-16T07:33:28.757Z"
   },
   {
    "duration": 137,
    "start_time": "2023-02-16T07:33:43.234Z"
   },
   {
    "duration": 222,
    "start_time": "2023-02-16T07:33:49.216Z"
   },
   {
    "duration": 150,
    "start_time": "2023-02-16T07:34:01.947Z"
   },
   {
    "duration": 1291,
    "start_time": "2023-02-16T07:36:10.358Z"
   },
   {
    "duration": 193,
    "start_time": "2023-02-16T07:36:15.811Z"
   },
   {
    "duration": 185,
    "start_time": "2023-02-16T07:36:25.485Z"
   },
   {
    "duration": 177,
    "start_time": "2023-02-16T07:36:33.960Z"
   },
   {
    "duration": 1645,
    "start_time": "2023-02-16T10:28:55.086Z"
   },
   {
    "duration": 84,
    "start_time": "2023-02-16T10:28:56.733Z"
   },
   {
    "duration": 36,
    "start_time": "2023-02-16T10:28:56.819Z"
   },
   {
    "duration": 13,
    "start_time": "2023-02-16T10:28:56.856Z"
   },
   {
    "duration": 17,
    "start_time": "2023-02-16T10:28:56.871Z"
   },
   {
    "duration": 3,
    "start_time": "2023-02-16T10:28:56.890Z"
   },
   {
    "duration": 32,
    "start_time": "2023-02-16T10:28:56.895Z"
   },
   {
    "duration": 13,
    "start_time": "2023-02-16T10:28:56.929Z"
   },
   {
    "duration": 7,
    "start_time": "2023-02-16T10:28:56.944Z"
   },
   {
    "duration": 11,
    "start_time": "2023-02-16T10:28:56.953Z"
   },
   {
    "duration": 5,
    "start_time": "2023-02-16T10:28:56.966Z"
   },
   {
    "duration": 9,
    "start_time": "2023-02-16T10:28:56.973Z"
   },
   {
    "duration": 6,
    "start_time": "2023-02-16T10:28:56.983Z"
   },
   {
    "duration": 42,
    "start_time": "2023-02-16T10:28:56.992Z"
   },
   {
    "duration": 17,
    "start_time": "2023-02-16T10:28:57.036Z"
   },
   {
    "duration": 6,
    "start_time": "2023-02-16T10:28:57.055Z"
   },
   {
    "duration": 7,
    "start_time": "2023-02-16T10:28:57.062Z"
   },
   {
    "duration": 22,
    "start_time": "2023-02-16T10:28:57.071Z"
   },
   {
    "duration": 33,
    "start_time": "2023-02-16T10:28:57.095Z"
   },
   {
    "duration": 718,
    "start_time": "2023-02-16T10:28:57.130Z"
   },
   {
    "duration": 80,
    "start_time": "2023-02-16T10:28:57.850Z"
   },
   {
    "duration": 125,
    "start_time": "2023-02-16T10:28:57.932Z"
   },
   {
    "duration": 709,
    "start_time": "2023-02-16T10:28:58.058Z"
   },
   {
    "duration": 9088,
    "start_time": "2023-02-16T10:28:58.768Z"
   },
   {
    "duration": 595,
    "start_time": "2023-02-16T10:29:07.859Z"
   },
   {
    "duration": 871,
    "start_time": "2023-02-16T10:29:08.456Z"
   },
   {
    "duration": 799,
    "start_time": "2023-02-16T10:29:09.328Z"
   },
   {
    "duration": 1835,
    "start_time": "2023-02-16T10:29:10.135Z"
   },
   {
    "duration": 393,
    "start_time": "2023-02-16T10:29:11.973Z"
   },
   {
    "duration": 1509,
    "start_time": "2023-02-16T10:34:09.579Z"
   },
   {
    "duration": 39,
    "start_time": "2023-02-16T10:34:11.091Z"
   },
   {
    "duration": 24,
    "start_time": "2023-02-16T10:34:11.133Z"
   },
   {
    "duration": 12,
    "start_time": "2023-02-16T10:34:11.159Z"
   },
   {
    "duration": 27,
    "start_time": "2023-02-16T10:34:11.173Z"
   },
   {
    "duration": 3,
    "start_time": "2023-02-16T10:34:11.202Z"
   },
   {
    "duration": 6,
    "start_time": "2023-02-16T10:34:11.226Z"
   },
   {
    "duration": 15,
    "start_time": "2023-02-16T10:34:11.234Z"
   },
   {
    "duration": 8,
    "start_time": "2023-02-16T10:34:11.250Z"
   },
   {
    "duration": 14,
    "start_time": "2023-02-16T10:34:11.260Z"
   },
   {
    "duration": 6,
    "start_time": "2023-02-16T10:34:11.276Z"
   },
   {
    "duration": 8,
    "start_time": "2023-02-16T10:34:11.284Z"
   },
   {
    "duration": 155,
    "start_time": "2023-02-16T10:34:11.294Z"
   },
   {
    "duration": 0,
    "start_time": "2023-02-16T10:34:11.451Z"
   },
   {
    "duration": 0,
    "start_time": "2023-02-16T10:34:11.453Z"
   },
   {
    "duration": 0,
    "start_time": "2023-02-16T10:34:11.454Z"
   },
   {
    "duration": 0,
    "start_time": "2023-02-16T10:34:11.456Z"
   },
   {
    "duration": 0,
    "start_time": "2023-02-16T10:34:11.457Z"
   },
   {
    "duration": 0,
    "start_time": "2023-02-16T10:34:11.459Z"
   },
   {
    "duration": 0,
    "start_time": "2023-02-16T10:34:11.460Z"
   },
   {
    "duration": 0,
    "start_time": "2023-02-16T10:34:11.462Z"
   },
   {
    "duration": 0,
    "start_time": "2023-02-16T10:34:11.463Z"
   },
   {
    "duration": 0,
    "start_time": "2023-02-16T10:34:11.464Z"
   },
   {
    "duration": 0,
    "start_time": "2023-02-16T10:34:11.465Z"
   },
   {
    "duration": 0,
    "start_time": "2023-02-16T10:34:11.466Z"
   },
   {
    "duration": 0,
    "start_time": "2023-02-16T10:34:11.467Z"
   },
   {
    "duration": 0,
    "start_time": "2023-02-16T10:34:11.468Z"
   },
   {
    "duration": 0,
    "start_time": "2023-02-16T10:34:11.470Z"
   },
   {
    "duration": 0,
    "start_time": "2023-02-16T10:34:11.471Z"
   },
   {
    "duration": 5,
    "start_time": "2023-02-16T10:34:30.276Z"
   },
   {
    "duration": 13,
    "start_time": "2023-02-16T10:34:33.447Z"
   },
   {
    "duration": 14,
    "start_time": "2023-02-16T10:34:41.437Z"
   },
   {
    "duration": 1496,
    "start_time": "2023-02-16T10:34:51.896Z"
   },
   {
    "duration": 41,
    "start_time": "2023-02-16T10:34:53.394Z"
   },
   {
    "duration": 27,
    "start_time": "2023-02-16T10:34:53.437Z"
   },
   {
    "duration": 13,
    "start_time": "2023-02-16T10:34:53.465Z"
   },
   {
    "duration": 20,
    "start_time": "2023-02-16T10:34:53.480Z"
   },
   {
    "duration": 4,
    "start_time": "2023-02-16T10:34:53.501Z"
   },
   {
    "duration": 24,
    "start_time": "2023-02-16T10:34:53.507Z"
   },
   {
    "duration": 31,
    "start_time": "2023-02-16T10:34:53.533Z"
   },
   {
    "duration": 18,
    "start_time": "2023-02-16T10:34:53.566Z"
   },
   {
    "duration": 50,
    "start_time": "2023-02-16T10:34:53.586Z"
   },
   {
    "duration": 1363,
    "start_time": "2023-02-16T10:34:53.638Z"
   },
   {
    "duration": 0,
    "start_time": "2023-02-16T10:34:55.003Z"
   },
   {
    "duration": 0,
    "start_time": "2023-02-16T10:34:55.004Z"
   },
   {
    "duration": 0,
    "start_time": "2023-02-16T10:34:55.006Z"
   },
   {
    "duration": 0,
    "start_time": "2023-02-16T10:34:55.008Z"
   },
   {
    "duration": 0,
    "start_time": "2023-02-16T10:34:55.009Z"
   },
   {
    "duration": 0,
    "start_time": "2023-02-16T10:34:55.010Z"
   },
   {
    "duration": 0,
    "start_time": "2023-02-16T10:34:55.012Z"
   },
   {
    "duration": 0,
    "start_time": "2023-02-16T10:34:55.013Z"
   },
   {
    "duration": 0,
    "start_time": "2023-02-16T10:34:55.015Z"
   },
   {
    "duration": 0,
    "start_time": "2023-02-16T10:34:55.016Z"
   },
   {
    "duration": 0,
    "start_time": "2023-02-16T10:34:55.018Z"
   },
   {
    "duration": 0,
    "start_time": "2023-02-16T10:34:55.020Z"
   },
   {
    "duration": 0,
    "start_time": "2023-02-16T10:34:55.022Z"
   },
   {
    "duration": 0,
    "start_time": "2023-02-16T10:34:55.023Z"
   },
   {
    "duration": 0,
    "start_time": "2023-02-16T10:34:55.024Z"
   },
   {
    "duration": 0,
    "start_time": "2023-02-16T10:34:55.025Z"
   },
   {
    "duration": 0,
    "start_time": "2023-02-16T10:34:55.027Z"
   },
   {
    "duration": 0,
    "start_time": "2023-02-16T10:34:55.028Z"
   },
   {
    "duration": 5,
    "start_time": "2023-02-16T10:35:11.761Z"
   },
   {
    "duration": 18,
    "start_time": "2023-02-16T10:35:12.637Z"
   },
   {
    "duration": 1460,
    "start_time": "2023-02-16T10:35:16.897Z"
   },
   {
    "duration": 41,
    "start_time": "2023-02-16T10:35:18.359Z"
   },
   {
    "duration": 33,
    "start_time": "2023-02-16T10:35:18.402Z"
   },
   {
    "duration": 14,
    "start_time": "2023-02-16T10:35:18.437Z"
   },
   {
    "duration": 18,
    "start_time": "2023-02-16T10:35:18.454Z"
   },
   {
    "duration": 4,
    "start_time": "2023-02-16T10:35:18.474Z"
   },
   {
    "duration": 14,
    "start_time": "2023-02-16T10:35:18.479Z"
   },
   {
    "duration": 16,
    "start_time": "2023-02-16T10:35:18.495Z"
   },
   {
    "duration": 7,
    "start_time": "2023-02-16T10:35:18.527Z"
   },
   {
    "duration": 13,
    "start_time": "2023-02-16T10:35:18.536Z"
   },
   {
    "duration": 6,
    "start_time": "2023-02-16T10:35:18.551Z"
   },
   {
    "duration": 9,
    "start_time": "2023-02-16T10:35:18.559Z"
   },
   {
    "duration": 167,
    "start_time": "2023-02-16T10:35:18.569Z"
   },
   {
    "duration": 1,
    "start_time": "2023-02-16T10:35:18.737Z"
   },
   {
    "duration": 0,
    "start_time": "2023-02-16T10:35:18.739Z"
   },
   {
    "duration": 0,
    "start_time": "2023-02-16T10:35:18.740Z"
   },
   {
    "duration": 0,
    "start_time": "2023-02-16T10:35:18.741Z"
   },
   {
    "duration": 0,
    "start_time": "2023-02-16T10:35:18.743Z"
   },
   {
    "duration": 0,
    "start_time": "2023-02-16T10:35:18.744Z"
   },
   {
    "duration": 0,
    "start_time": "2023-02-16T10:35:18.745Z"
   },
   {
    "duration": 0,
    "start_time": "2023-02-16T10:35:18.747Z"
   },
   {
    "duration": 0,
    "start_time": "2023-02-16T10:35:18.748Z"
   },
   {
    "duration": 0,
    "start_time": "2023-02-16T10:35:18.750Z"
   },
   {
    "duration": 0,
    "start_time": "2023-02-16T10:35:18.752Z"
   },
   {
    "duration": 0,
    "start_time": "2023-02-16T10:35:18.753Z"
   },
   {
    "duration": 0,
    "start_time": "2023-02-16T10:35:18.755Z"
   },
   {
    "duration": 0,
    "start_time": "2023-02-16T10:35:18.756Z"
   },
   {
    "duration": 1,
    "start_time": "2023-02-16T10:35:18.757Z"
   },
   {
    "duration": 0,
    "start_time": "2023-02-16T10:35:18.760Z"
   },
   {
    "duration": 1444,
    "start_time": "2023-02-16T10:35:42.806Z"
   },
   {
    "duration": 36,
    "start_time": "2023-02-16T10:35:44.252Z"
   },
   {
    "duration": 24,
    "start_time": "2023-02-16T10:35:44.290Z"
   },
   {
    "duration": 12,
    "start_time": "2023-02-16T10:35:44.316Z"
   },
   {
    "duration": 16,
    "start_time": "2023-02-16T10:35:44.330Z"
   },
   {
    "duration": 3,
    "start_time": "2023-02-16T10:35:44.347Z"
   },
   {
    "duration": 6,
    "start_time": "2023-02-16T10:35:44.352Z"
   },
   {
    "duration": 16,
    "start_time": "2023-02-16T10:35:44.360Z"
   },
   {
    "duration": 8,
    "start_time": "2023-02-16T10:35:44.377Z"
   },
   {
    "duration": 42,
    "start_time": "2023-02-16T10:35:44.386Z"
   },
   {
    "duration": 6,
    "start_time": "2023-02-16T10:35:44.430Z"
   },
   {
    "duration": 7,
    "start_time": "2023-02-16T10:35:44.437Z"
   },
   {
    "duration": 5,
    "start_time": "2023-02-16T10:35:44.446Z"
   },
   {
    "duration": 11,
    "start_time": "2023-02-16T10:35:44.454Z"
   },
   {
    "duration": 12,
    "start_time": "2023-02-16T10:35:44.466Z"
   },
   {
    "duration": 5,
    "start_time": "2023-02-16T10:35:44.479Z"
   },
   {
    "duration": 7,
    "start_time": "2023-02-16T10:35:44.485Z"
   },
   {
    "duration": 19,
    "start_time": "2023-02-16T10:35:44.526Z"
   },
   {
    "duration": 11,
    "start_time": "2023-02-16T10:35:44.547Z"
   },
   {
    "duration": 720,
    "start_time": "2023-02-16T10:35:44.560Z"
   },
   {
    "duration": 48,
    "start_time": "2023-02-16T10:35:45.281Z"
   },
   {
    "duration": 126,
    "start_time": "2023-02-16T10:35:45.331Z"
   },
   {
    "duration": 704,
    "start_time": "2023-02-16T10:35:45.459Z"
   },
   {
    "duration": 9810,
    "start_time": "2023-02-16T10:35:46.165Z"
   },
   {
    "duration": 595,
    "start_time": "2023-02-16T10:35:55.976Z"
   },
   {
    "duration": 862,
    "start_time": "2023-02-16T10:35:56.573Z"
   },
   {
    "duration": 690,
    "start_time": "2023-02-16T10:35:57.437Z"
   },
   {
    "duration": 1303,
    "start_time": "2023-02-16T10:35:58.129Z"
   },
   {
    "duration": 163,
    "start_time": "2023-02-16T10:35:59.434Z"
   },
   {
    "duration": 1914,
    "start_time": "2023-02-17T07:19:14.125Z"
   },
   {
    "duration": 240,
    "start_time": "2023-02-17T07:19:16.043Z"
   },
   {
    "duration": 63,
    "start_time": "2023-02-17T07:19:16.303Z"
   },
   {
    "duration": 55,
    "start_time": "2023-02-17T07:19:16.369Z"
   },
   {
    "duration": 35,
    "start_time": "2023-02-17T07:19:16.426Z"
   },
   {
    "duration": 7,
    "start_time": "2023-02-17T07:19:16.463Z"
   },
   {
    "duration": 38,
    "start_time": "2023-02-17T07:19:16.472Z"
   },
   {
    "duration": 26,
    "start_time": "2023-02-17T07:19:16.512Z"
   },
   {
    "duration": 33,
    "start_time": "2023-02-17T07:19:16.540Z"
   },
   {
    "duration": 26,
    "start_time": "2023-02-17T07:19:16.603Z"
   },
   {
    "duration": 46,
    "start_time": "2023-02-17T07:19:16.631Z"
   },
   {
    "duration": 36,
    "start_time": "2023-02-17T07:19:16.679Z"
   },
   {
    "duration": 54,
    "start_time": "2023-02-17T07:19:16.717Z"
   },
   {
    "duration": 18,
    "start_time": "2023-02-17T07:19:16.773Z"
   },
   {
    "duration": 27,
    "start_time": "2023-02-17T07:19:16.810Z"
   },
   {
    "duration": 28,
    "start_time": "2023-02-17T07:19:16.842Z"
   },
   {
    "duration": 34,
    "start_time": "2023-02-17T07:19:16.872Z"
   },
   {
    "duration": 44,
    "start_time": "2023-02-17T07:19:16.908Z"
   },
   {
    "duration": 73,
    "start_time": "2023-02-17T07:19:16.954Z"
   },
   {
    "duration": 1700,
    "start_time": "2023-02-17T07:19:17.029Z"
   },
   {
    "duration": 75,
    "start_time": "2023-02-17T07:19:18.732Z"
   },
   {
    "duration": 146,
    "start_time": "2023-02-17T07:19:18.809Z"
   },
   {
    "duration": 867,
    "start_time": "2023-02-17T07:19:18.957Z"
   },
   {
    "duration": 12194,
    "start_time": "2023-02-17T07:19:19.825Z"
   },
   {
    "duration": 710,
    "start_time": "2023-02-17T07:19:32.022Z"
   },
   {
    "duration": 1035,
    "start_time": "2023-02-17T07:19:32.735Z"
   },
   {
    "duration": 760,
    "start_time": "2023-02-17T07:19:33.772Z"
   },
   {
    "duration": 1446,
    "start_time": "2023-02-17T07:19:34.609Z"
   },
   {
    "duration": 196,
    "start_time": "2023-02-17T07:19:36.057Z"
   },
   {
    "duration": 2097,
    "start_time": "2023-02-17T07:22:59.639Z"
   },
   {
    "duration": 83,
    "start_time": "2023-02-17T07:23:01.738Z"
   },
   {
    "duration": 55,
    "start_time": "2023-02-17T07:23:01.823Z"
   },
   {
    "duration": 73,
    "start_time": "2023-02-17T07:23:01.904Z"
   },
   {
    "duration": 2,
    "start_time": "2023-02-17T07:23:01.980Z"
   },
   {
    "duration": 7,
    "start_time": "2023-02-17T07:23:01.984Z"
   },
   {
    "duration": 62,
    "start_time": "2023-02-17T07:23:02.013Z"
   },
   {
    "duration": 36,
    "start_time": "2023-02-17T07:23:02.077Z"
   },
   {
    "duration": 13,
    "start_time": "2023-02-17T07:23:02.115Z"
   },
   {
    "duration": 108,
    "start_time": "2023-02-17T07:23:02.130Z"
   },
   {
    "duration": 35,
    "start_time": "2023-02-17T07:23:02.240Z"
   },
   {
    "duration": 8,
    "start_time": "2023-02-17T07:23:02.277Z"
   },
   {
    "duration": 6,
    "start_time": "2023-02-17T07:23:02.312Z"
   },
   {
    "duration": 86,
    "start_time": "2023-02-17T07:23:02.324Z"
   },
   {
    "duration": 23,
    "start_time": "2023-02-17T07:23:02.416Z"
   },
   {
    "duration": 69,
    "start_time": "2023-02-17T07:23:02.441Z"
   },
   {
    "duration": 102,
    "start_time": "2023-02-17T07:23:02.512Z"
   },
   {
    "duration": 90,
    "start_time": "2023-02-17T07:23:02.616Z"
   },
   {
    "duration": 36,
    "start_time": "2023-02-17T07:23:02.708Z"
   },
   {
    "duration": 470,
    "start_time": "2023-02-17T07:23:02.747Z"
   },
   {
    "duration": 0,
    "start_time": "2023-02-17T07:23:03.220Z"
   },
   {
    "duration": 0,
    "start_time": "2023-02-17T07:23:03.222Z"
   },
   {
    "duration": 0,
    "start_time": "2023-02-17T07:23:03.224Z"
   },
   {
    "duration": 0,
    "start_time": "2023-02-17T07:23:03.226Z"
   },
   {
    "duration": 0,
    "start_time": "2023-02-17T07:23:03.228Z"
   },
   {
    "duration": 0,
    "start_time": "2023-02-17T07:23:03.231Z"
   },
   {
    "duration": 0,
    "start_time": "2023-02-17T07:23:03.232Z"
   },
   {
    "duration": 0,
    "start_time": "2023-02-17T07:23:03.234Z"
   },
   {
    "duration": 0,
    "start_time": "2023-02-17T07:23:03.236Z"
   },
   {
    "duration": 27,
    "start_time": "2023-02-17T07:23:27.262Z"
   },
   {
    "duration": 2010,
    "start_time": "2023-02-17T07:23:35.795Z"
   },
   {
    "duration": 75,
    "start_time": "2023-02-17T07:23:37.807Z"
   },
   {
    "duration": 132,
    "start_time": "2023-02-17T07:23:37.883Z"
   },
   {
    "duration": 67,
    "start_time": "2023-02-17T07:23:38.020Z"
   },
   {
    "duration": 27,
    "start_time": "2023-02-17T07:23:38.088Z"
   },
   {
    "duration": 50,
    "start_time": "2023-02-17T07:23:38.119Z"
   },
   {
    "duration": 7,
    "start_time": "2023-02-17T07:23:38.171Z"
   },
   {
    "duration": 44,
    "start_time": "2023-02-17T07:23:38.224Z"
   },
   {
    "duration": 34,
    "start_time": "2023-02-17T07:23:38.304Z"
   },
   {
    "duration": 66,
    "start_time": "2023-02-17T07:23:38.342Z"
   },
   {
    "duration": 11,
    "start_time": "2023-02-17T07:23:38.410Z"
   },
   {
    "duration": 60,
    "start_time": "2023-02-17T07:23:38.423Z"
   },
   {
    "duration": 57,
    "start_time": "2023-02-17T07:23:38.505Z"
   },
   {
    "duration": 55,
    "start_time": "2023-02-17T07:23:38.565Z"
   },
   {
    "duration": 22,
    "start_time": "2023-02-17T07:23:38.622Z"
   },
   {
    "duration": 66,
    "start_time": "2023-02-17T07:23:38.652Z"
   },
   {
    "duration": 53,
    "start_time": "2023-02-17T07:23:38.720Z"
   },
   {
    "duration": 63,
    "start_time": "2023-02-17T07:23:38.775Z"
   },
   {
    "duration": 31,
    "start_time": "2023-02-17T07:23:38.840Z"
   },
   {
    "duration": 1226,
    "start_time": "2023-02-17T07:23:38.904Z"
   },
   {
    "duration": 109,
    "start_time": "2023-02-17T07:23:40.132Z"
   },
   {
    "duration": 118,
    "start_time": "2023-02-17T07:23:40.243Z"
   },
   {
    "duration": 851,
    "start_time": "2023-02-17T07:23:40.363Z"
   },
   {
    "duration": 11197,
    "start_time": "2023-02-17T07:23:41.216Z"
   },
   {
    "duration": 769,
    "start_time": "2023-02-17T07:23:52.415Z"
   },
   {
    "duration": 1077,
    "start_time": "2023-02-17T07:23:53.185Z"
   },
   {
    "duration": 897,
    "start_time": "2023-02-17T07:23:54.264Z"
   },
   {
    "duration": 1459,
    "start_time": "2023-02-17T07:23:55.203Z"
   },
   {
    "duration": 201,
    "start_time": "2023-02-17T07:23:56.666Z"
   },
   {
    "duration": 1932,
    "start_time": "2023-02-17T07:24:02.026Z"
   },
   {
    "duration": 80,
    "start_time": "2023-02-17T07:24:03.960Z"
   },
   {
    "duration": 117,
    "start_time": "2023-02-17T07:24:04.042Z"
   },
   {
    "duration": 54,
    "start_time": "2023-02-17T07:24:04.164Z"
   },
   {
    "duration": 55,
    "start_time": "2023-02-17T07:24:04.221Z"
   },
   {
    "duration": 6,
    "start_time": "2023-02-17T07:24:04.277Z"
   },
   {
    "duration": 4,
    "start_time": "2023-02-17T07:24:04.305Z"
   },
   {
    "duration": 63,
    "start_time": "2023-02-17T07:24:04.311Z"
   },
   {
    "duration": 18,
    "start_time": "2023-02-17T07:24:04.406Z"
   },
   {
    "duration": 80,
    "start_time": "2023-02-17T07:24:04.427Z"
   },
   {
    "duration": 24,
    "start_time": "2023-02-17T07:24:04.510Z"
   },
   {
    "duration": 73,
    "start_time": "2023-02-17T07:24:04.537Z"
   },
   {
    "duration": 66,
    "start_time": "2023-02-17T07:24:04.612Z"
   },
   {
    "duration": 390,
    "start_time": "2023-02-17T07:24:04.682Z"
   },
   {
    "duration": 0,
    "start_time": "2023-02-17T07:24:05.075Z"
   },
   {
    "duration": 0,
    "start_time": "2023-02-17T07:24:05.076Z"
   },
   {
    "duration": 0,
    "start_time": "2023-02-17T07:24:05.080Z"
   },
   {
    "duration": 0,
    "start_time": "2023-02-17T07:24:05.084Z"
   },
   {
    "duration": 0,
    "start_time": "2023-02-17T07:24:05.085Z"
   },
   {
    "duration": 0,
    "start_time": "2023-02-17T07:24:05.106Z"
   },
   {
    "duration": 0,
    "start_time": "2023-02-17T07:24:05.108Z"
   },
   {
    "duration": 0,
    "start_time": "2023-02-17T07:24:05.109Z"
   },
   {
    "duration": 0,
    "start_time": "2023-02-17T07:24:05.110Z"
   },
   {
    "duration": 0,
    "start_time": "2023-02-17T07:24:05.112Z"
   },
   {
    "duration": 0,
    "start_time": "2023-02-17T07:24:05.113Z"
   },
   {
    "duration": 0,
    "start_time": "2023-02-17T07:24:05.114Z"
   },
   {
    "duration": 0,
    "start_time": "2023-02-17T07:24:05.119Z"
   },
   {
    "duration": 0,
    "start_time": "2023-02-17T07:24:05.121Z"
   },
   {
    "duration": 1,
    "start_time": "2023-02-17T07:24:05.124Z"
   },
   {
    "duration": 2080,
    "start_time": "2023-02-17T07:24:29.881Z"
   },
   {
    "duration": 74,
    "start_time": "2023-02-17T07:24:32.003Z"
   },
   {
    "duration": 60,
    "start_time": "2023-02-17T07:24:32.103Z"
   },
   {
    "duration": 71,
    "start_time": "2023-02-17T07:24:32.167Z"
   },
   {
    "duration": 33,
    "start_time": "2023-02-17T07:24:32.240Z"
   },
   {
    "duration": 8,
    "start_time": "2023-02-17T07:24:32.275Z"
   },
   {
    "duration": 8,
    "start_time": "2023-02-17T07:24:32.307Z"
   },
   {
    "duration": 62,
    "start_time": "2023-02-17T07:24:32.317Z"
   },
   {
    "duration": 8,
    "start_time": "2023-02-17T07:24:32.381Z"
   },
   {
    "duration": 51,
    "start_time": "2023-02-17T07:24:32.411Z"
   },
   {
    "duration": 115,
    "start_time": "2023-02-17T07:24:32.464Z"
   },
   {
    "duration": 12,
    "start_time": "2023-02-17T07:24:32.581Z"
   },
   {
    "duration": 20,
    "start_time": "2023-02-17T07:24:32.594Z"
   },
   {
    "duration": 76,
    "start_time": "2023-02-17T07:24:32.618Z"
   },
   {
    "duration": 30,
    "start_time": "2023-02-17T07:24:32.707Z"
   },
   {
    "duration": 38,
    "start_time": "2023-02-17T07:24:32.742Z"
   },
   {
    "duration": 8,
    "start_time": "2023-02-17T07:24:32.782Z"
   },
   {
    "duration": 64,
    "start_time": "2023-02-17T07:24:32.791Z"
   },
   {
    "duration": 83,
    "start_time": "2023-02-17T07:24:32.857Z"
   },
   {
    "duration": 1197,
    "start_time": "2023-02-17T07:24:32.942Z"
   },
   {
    "duration": 88,
    "start_time": "2023-02-17T07:24:34.141Z"
   },
   {
    "duration": 144,
    "start_time": "2023-02-17T07:24:34.233Z"
   },
   {
    "duration": 993,
    "start_time": "2023-02-17T07:24:34.381Z"
   },
   {
    "duration": 11062,
    "start_time": "2023-02-17T07:24:35.377Z"
   },
   {
    "duration": 759,
    "start_time": "2023-02-17T07:24:46.440Z"
   },
   {
    "duration": 1072,
    "start_time": "2023-02-17T07:24:47.202Z"
   },
   {
    "duration": 850,
    "start_time": "2023-02-17T07:24:48.276Z"
   },
   {
    "duration": 1506,
    "start_time": "2023-02-17T07:24:49.140Z"
   },
   {
    "duration": 177,
    "start_time": "2023-02-17T07:24:50.653Z"
   },
   {
    "duration": 1904,
    "start_time": "2023-02-17T07:26:24.903Z"
   },
   {
    "duration": 77,
    "start_time": "2023-02-17T07:26:26.811Z"
   },
   {
    "duration": 47,
    "start_time": "2023-02-17T07:26:26.891Z"
   },
   {
    "duration": 79,
    "start_time": "2023-02-17T07:26:26.940Z"
   },
   {
    "duration": 87,
    "start_time": "2023-02-17T07:26:27.024Z"
   },
   {
    "duration": 67,
    "start_time": "2023-02-17T07:26:27.113Z"
   },
   {
    "duration": 28,
    "start_time": "2023-02-17T07:26:27.181Z"
   },
   {
    "duration": 60,
    "start_time": "2023-02-17T07:26:27.216Z"
   },
   {
    "duration": 33,
    "start_time": "2023-02-17T07:26:27.278Z"
   },
   {
    "duration": 67,
    "start_time": "2023-02-17T07:26:27.318Z"
   },
   {
    "duration": 29,
    "start_time": "2023-02-17T07:26:27.388Z"
   },
   {
    "duration": 59,
    "start_time": "2023-02-17T07:26:27.419Z"
   },
   {
    "duration": 30,
    "start_time": "2023-02-17T07:26:27.480Z"
   },
   {
    "duration": 350,
    "start_time": "2023-02-17T07:26:27.514Z"
   },
   {
    "duration": 0,
    "start_time": "2023-02-17T07:26:27.865Z"
   },
   {
    "duration": 0,
    "start_time": "2023-02-17T07:26:27.866Z"
   },
   {
    "duration": 0,
    "start_time": "2023-02-17T07:26:27.867Z"
   },
   {
    "duration": 0,
    "start_time": "2023-02-17T07:26:27.868Z"
   },
   {
    "duration": 0,
    "start_time": "2023-02-17T07:26:27.869Z"
   },
   {
    "duration": 0,
    "start_time": "2023-02-17T07:26:27.910Z"
   },
   {
    "duration": 0,
    "start_time": "2023-02-17T07:26:27.911Z"
   },
   {
    "duration": 0,
    "start_time": "2023-02-17T07:26:27.913Z"
   },
   {
    "duration": 0,
    "start_time": "2023-02-17T07:26:27.914Z"
   },
   {
    "duration": 0,
    "start_time": "2023-02-17T07:26:27.915Z"
   },
   {
    "duration": 0,
    "start_time": "2023-02-17T07:26:27.916Z"
   },
   {
    "duration": 0,
    "start_time": "2023-02-17T07:26:27.917Z"
   },
   {
    "duration": 0,
    "start_time": "2023-02-17T07:26:27.919Z"
   },
   {
    "duration": 0,
    "start_time": "2023-02-17T07:26:27.921Z"
   },
   {
    "duration": 0,
    "start_time": "2023-02-17T07:26:27.923Z"
   },
   {
    "duration": 3,
    "start_time": "2023-02-17T07:26:44.059Z"
   },
   {
    "duration": 13,
    "start_time": "2023-02-17T07:26:45.575Z"
   },
   {
    "duration": 5,
    "start_time": "2023-02-17T07:26:49.336Z"
   },
   {
    "duration": 5,
    "start_time": "2023-02-17T07:26:50.032Z"
   },
   {
    "duration": 24,
    "start_time": "2023-02-17T07:26:51.138Z"
   },
   {
    "duration": 35,
    "start_time": "2023-02-17T07:26:56.860Z"
   },
   {
    "duration": 934,
    "start_time": "2023-02-17T07:26:58.696Z"
   },
   {
    "duration": 214,
    "start_time": "2023-02-17T07:26:59.793Z"
   },
   {
    "duration": 47,
    "start_time": "2023-02-17T07:27:03.526Z"
   },
   {
    "duration": 19,
    "start_time": "2023-02-17T07:27:19.639Z"
   },
   {
    "duration": 1662,
    "start_time": "2023-02-17T07:27:40.433Z"
   },
   {
    "duration": 70,
    "start_time": "2023-02-17T07:27:42.097Z"
   },
   {
    "duration": 23,
    "start_time": "2023-02-17T07:27:42.168Z"
   },
   {
    "duration": 16,
    "start_time": "2023-02-17T07:27:42.193Z"
   },
   {
    "duration": 5,
    "start_time": "2023-02-17T07:27:42.212Z"
   },
   {
    "duration": 46,
    "start_time": "2023-02-17T07:27:42.218Z"
   },
   {
    "duration": 5,
    "start_time": "2023-02-17T07:27:42.266Z"
   },
   {
    "duration": 13,
    "start_time": "2023-02-17T07:27:42.273Z"
   },
   {
    "duration": 7,
    "start_time": "2023-02-17T07:27:42.288Z"
   },
   {
    "duration": 20,
    "start_time": "2023-02-17T07:27:42.296Z"
   },
   {
    "duration": 47,
    "start_time": "2023-02-17T07:27:42.317Z"
   },
   {
    "duration": 8,
    "start_time": "2023-02-17T07:27:42.365Z"
   },
   {
    "duration": 7,
    "start_time": "2023-02-17T07:27:42.375Z"
   },
   {
    "duration": 7,
    "start_time": "2023-02-17T07:27:42.385Z"
   },
   {
    "duration": 22,
    "start_time": "2023-02-17T07:27:42.393Z"
   },
   {
    "duration": 41,
    "start_time": "2023-02-17T07:27:42.424Z"
   },
   {
    "duration": 5,
    "start_time": "2023-02-17T07:27:42.467Z"
   },
   {
    "duration": 21,
    "start_time": "2023-02-17T07:27:42.473Z"
   },
   {
    "duration": 44,
    "start_time": "2023-02-17T07:27:42.496Z"
   },
   {
    "duration": 34,
    "start_time": "2023-02-17T07:27:42.542Z"
   },
   {
    "duration": 888,
    "start_time": "2023-02-17T07:27:42.578Z"
   },
   {
    "duration": 146,
    "start_time": "2023-02-17T07:27:43.468Z"
   },
   {
    "duration": 120,
    "start_time": "2023-02-17T07:27:43.616Z"
   },
   {
    "duration": 1826,
    "start_time": "2023-02-17T07:27:43.738Z"
   },
   {
    "duration": 11075,
    "start_time": "2023-02-17T07:27:45.566Z"
   },
   {
    "duration": 778,
    "start_time": "2023-02-17T07:27:56.643Z"
   },
   {
    "duration": 1047,
    "start_time": "2023-02-17T07:27:57.433Z"
   },
   {
    "duration": 744,
    "start_time": "2023-02-17T07:27:58.482Z"
   },
   {
    "duration": 1473,
    "start_time": "2023-02-17T07:27:59.229Z"
   },
   {
    "duration": 197,
    "start_time": "2023-02-17T07:28:00.703Z"
   },
   {
    "duration": 6,
    "start_time": "2023-02-17T07:35:34.263Z"
   },
   {
    "duration": 680,
    "start_time": "2023-02-17T07:39:45.802Z"
   },
   {
    "duration": 736,
    "start_time": "2023-02-17T07:39:51.730Z"
   },
   {
    "duration": 868,
    "start_time": "2023-02-17T07:41:14.774Z"
   },
   {
    "duration": 751,
    "start_time": "2023-02-17T07:41:55.725Z"
   },
   {
    "duration": 1481,
    "start_time": "2023-02-17T07:42:47.247Z"
   },
   {
    "duration": 42,
    "start_time": "2023-02-17T07:42:48.733Z"
   },
   {
    "duration": 36,
    "start_time": "2023-02-17T07:42:48.776Z"
   },
   {
    "duration": 15,
    "start_time": "2023-02-17T07:42:48.814Z"
   },
   {
    "duration": 9,
    "start_time": "2023-02-17T07:42:48.833Z"
   },
   {
    "duration": 5,
    "start_time": "2023-02-17T07:42:48.844Z"
   },
   {
    "duration": 6,
    "start_time": "2023-02-17T07:42:48.850Z"
   },
   {
    "duration": 61,
    "start_time": "2023-02-17T07:42:48.857Z"
   },
   {
    "duration": 31,
    "start_time": "2023-02-17T07:42:48.920Z"
   },
   {
    "duration": 55,
    "start_time": "2023-02-17T07:42:48.952Z"
   },
   {
    "duration": 10,
    "start_time": "2023-02-17T07:42:49.009Z"
   },
   {
    "duration": 30,
    "start_time": "2023-02-17T07:42:49.021Z"
   },
   {
    "duration": 6,
    "start_time": "2023-02-17T07:42:49.052Z"
   },
   {
    "duration": 7,
    "start_time": "2023-02-17T07:42:49.061Z"
   },
   {
    "duration": 52,
    "start_time": "2023-02-17T07:42:49.070Z"
   },
   {
    "duration": 27,
    "start_time": "2023-02-17T07:42:49.125Z"
   },
   {
    "duration": 5,
    "start_time": "2023-02-17T07:42:49.154Z"
   },
   {
    "duration": 69,
    "start_time": "2023-02-17T07:42:49.160Z"
   },
   {
    "duration": 79,
    "start_time": "2023-02-17T07:42:49.230Z"
   },
   {
    "duration": 21,
    "start_time": "2023-02-17T07:42:49.311Z"
   },
   {
    "duration": 1922,
    "start_time": "2023-02-17T07:42:49.334Z"
   },
   {
    "duration": 176,
    "start_time": "2023-02-17T07:42:51.258Z"
   },
   {
    "duration": 169,
    "start_time": "2023-02-17T07:42:51.436Z"
   },
   {
    "duration": 11,
    "start_time": "2023-02-17T07:42:51.607Z"
   },
   {
    "duration": 1739,
    "start_time": "2023-02-17T07:42:51.620Z"
   },
   {
    "duration": 12655,
    "start_time": "2023-02-17T07:42:53.411Z"
   },
   {
    "duration": 648,
    "start_time": "2023-02-17T07:43:06.068Z"
   },
   {
    "duration": 766,
    "start_time": "2023-02-17T07:43:06.723Z"
   },
   {
    "duration": 749,
    "start_time": "2023-02-17T07:43:07.491Z"
   },
   {
    "duration": 0,
    "start_time": "2023-02-17T07:43:08.241Z"
   },
   {
    "duration": 0,
    "start_time": "2023-02-17T07:43:08.242Z"
   },
   {
    "duration": 714,
    "start_time": "2023-02-17T07:43:24.641Z"
   },
   {
    "duration": 687,
    "start_time": "2023-02-17T07:43:34.238Z"
   },
   {
    "duration": 886,
    "start_time": "2023-02-17T07:45:42.278Z"
   },
   {
    "duration": 842,
    "start_time": "2023-02-17T07:45:47.929Z"
   },
   {
    "duration": 862,
    "start_time": "2023-02-17T07:46:10.191Z"
   },
   {
    "duration": 797,
    "start_time": "2023-02-17T07:46:22.229Z"
   },
   {
    "duration": 1142,
    "start_time": "2023-02-17T07:47:36.949Z"
   },
   {
    "duration": 1870,
    "start_time": "2023-02-17T07:47:50.692Z"
   },
   {
    "duration": 1739,
    "start_time": "2023-02-17T07:48:26.430Z"
   },
   {
    "duration": 1683,
    "start_time": "2023-02-17T07:53:34.743Z"
   },
   {
    "duration": 37,
    "start_time": "2023-02-17T07:53:52.218Z"
   },
   {
    "duration": 6,
    "start_time": "2023-02-17T07:54:18.498Z"
   },
   {
    "duration": 12,
    "start_time": "2023-02-17T07:55:52.932Z"
   },
   {
    "duration": 1162,
    "start_time": "2023-02-17T07:55:59.375Z"
   },
   {
    "duration": 6,
    "start_time": "2023-02-17T07:56:00.540Z"
   },
   {
    "duration": 1659,
    "start_time": "2023-02-17T07:56:05.897Z"
   },
   {
    "duration": 39,
    "start_time": "2023-02-17T07:56:07.559Z"
   },
   {
    "duration": 45,
    "start_time": "2023-02-17T07:56:07.602Z"
   },
   {
    "duration": 13,
    "start_time": "2023-02-17T07:56:07.649Z"
   },
   {
    "duration": 3,
    "start_time": "2023-02-17T07:56:07.664Z"
   },
   {
    "duration": 14,
    "start_time": "2023-02-17T07:56:07.668Z"
   },
   {
    "duration": 6,
    "start_time": "2023-02-17T07:56:07.683Z"
   },
   {
    "duration": 17,
    "start_time": "2023-02-17T07:56:07.692Z"
   },
   {
    "duration": 39,
    "start_time": "2023-02-17T07:56:07.711Z"
   },
   {
    "duration": 10,
    "start_time": "2023-02-17T07:56:07.752Z"
   },
   {
    "duration": 5,
    "start_time": "2023-02-17T07:56:07.764Z"
   },
   {
    "duration": 7,
    "start_time": "2023-02-17T07:56:07.770Z"
   },
   {
    "duration": 4,
    "start_time": "2023-02-17T07:56:07.779Z"
   },
   {
    "duration": 5,
    "start_time": "2023-02-17T07:56:07.785Z"
   },
   {
    "duration": 19,
    "start_time": "2023-02-17T07:56:07.792Z"
   },
   {
    "duration": 29,
    "start_time": "2023-02-17T07:56:07.813Z"
   },
   {
    "duration": 4,
    "start_time": "2023-02-17T07:56:07.844Z"
   },
   {
    "duration": 18,
    "start_time": "2023-02-17T07:56:07.849Z"
   },
   {
    "duration": 61,
    "start_time": "2023-02-17T07:56:07.869Z"
   },
   {
    "duration": 16,
    "start_time": "2023-02-17T07:56:07.937Z"
   },
   {
    "duration": 829,
    "start_time": "2023-02-17T07:56:07.954Z"
   },
   {
    "duration": 134,
    "start_time": "2023-02-17T07:56:08.785Z"
   },
   {
    "duration": 128,
    "start_time": "2023-02-17T07:56:08.921Z"
   },
   {
    "duration": 10,
    "start_time": "2023-02-17T07:56:09.051Z"
   },
   {
    "duration": 1750,
    "start_time": "2023-02-17T07:56:09.103Z"
   },
   {
    "duration": 10775,
    "start_time": "2023-02-17T07:56:10.855Z"
   },
   {
    "duration": 618,
    "start_time": "2023-02-17T07:56:21.632Z"
   },
   {
    "duration": 1507,
    "start_time": "2023-02-17T07:56:22.252Z"
   },
   {
    "duration": 5,
    "start_time": "2023-02-17T07:56:23.760Z"
   },
   {
    "duration": 1075,
    "start_time": "2023-02-17T07:56:23.767Z"
   },
   {
    "duration": 6,
    "start_time": "2023-02-17T07:56:24.844Z"
   },
   {
    "duration": 1331,
    "start_time": "2023-02-17T07:56:24.852Z"
   },
   {
    "duration": 184,
    "start_time": "2023-02-17T07:56:26.185Z"
   },
   {
    "duration": 1113,
    "start_time": "2023-02-17T07:57:21.756Z"
   },
   {
    "duration": 6,
    "start_time": "2023-02-17T07:57:22.871Z"
   },
   {
    "duration": 1096,
    "start_time": "2023-02-17T07:57:35.364Z"
   },
   {
    "duration": 5,
    "start_time": "2023-02-17T07:57:36.462Z"
   },
   {
    "duration": 1631,
    "start_time": "2023-02-17T07:58:25.439Z"
   },
   {
    "duration": 46,
    "start_time": "2023-02-17T07:58:27.072Z"
   },
   {
    "duration": 36,
    "start_time": "2023-02-17T07:58:27.119Z"
   },
   {
    "duration": 11,
    "start_time": "2023-02-17T07:58:27.157Z"
   },
   {
    "duration": 2,
    "start_time": "2023-02-17T07:58:27.170Z"
   },
   {
    "duration": 7,
    "start_time": "2023-02-17T07:58:27.173Z"
   },
   {
    "duration": 7,
    "start_time": "2023-02-17T07:58:27.182Z"
   },
   {
    "duration": 30,
    "start_time": "2023-02-17T07:58:27.190Z"
   },
   {
    "duration": 30,
    "start_time": "2023-02-17T07:58:27.222Z"
   },
   {
    "duration": 11,
    "start_time": "2023-02-17T07:58:27.254Z"
   },
   {
    "duration": 5,
    "start_time": "2023-02-17T07:58:27.266Z"
   },
   {
    "duration": 8,
    "start_time": "2023-02-17T07:58:27.272Z"
   },
   {
    "duration": 6,
    "start_time": "2023-02-17T07:58:27.281Z"
   },
   {
    "duration": 6,
    "start_time": "2023-02-17T07:58:27.290Z"
   },
   {
    "duration": 18,
    "start_time": "2023-02-17T07:58:27.298Z"
   },
   {
    "duration": 34,
    "start_time": "2023-02-17T07:58:27.318Z"
   },
   {
    "duration": 6,
    "start_time": "2023-02-17T07:58:27.354Z"
   },
   {
    "duration": 20,
    "start_time": "2023-02-17T07:58:27.361Z"
   },
   {
    "duration": 44,
    "start_time": "2023-02-17T07:58:27.383Z"
   },
   {
    "duration": 27,
    "start_time": "2023-02-17T07:58:27.429Z"
   },
   {
    "duration": 828,
    "start_time": "2023-02-17T07:58:27.457Z"
   },
   {
    "duration": 132,
    "start_time": "2023-02-17T07:58:28.287Z"
   },
   {
    "duration": 126,
    "start_time": "2023-02-17T07:58:28.430Z"
   },
   {
    "duration": 6,
    "start_time": "2023-02-17T07:58:28.558Z"
   },
   {
    "duration": 828,
    "start_time": "2023-02-17T07:58:28.565Z"
   },
   {
    "duration": 10435,
    "start_time": "2023-02-17T07:58:29.395Z"
   },
   {
    "duration": 714,
    "start_time": "2023-02-17T07:58:39.836Z"
   },
   {
    "duration": 1647,
    "start_time": "2023-02-17T07:58:40.552Z"
   },
   {
    "duration": 7,
    "start_time": "2023-02-17T07:58:42.201Z"
   },
   {
    "duration": 1212,
    "start_time": "2023-02-17T07:58:42.210Z"
   },
   {
    "duration": 14,
    "start_time": "2023-02-17T07:58:43.432Z"
   },
   {
    "duration": 1323,
    "start_time": "2023-02-17T07:58:43.451Z"
   },
   {
    "duration": 216,
    "start_time": "2023-02-17T07:58:44.776Z"
   },
   {
    "duration": 1436,
    "start_time": "2023-03-03T11:40:33.066Z"
   },
   {
    "duration": 155,
    "start_time": "2023-03-03T11:40:34.504Z"
   },
   {
    "duration": 25,
    "start_time": "2023-03-03T11:40:34.661Z"
   },
   {
    "duration": 16,
    "start_time": "2023-03-03T11:40:34.687Z"
   },
   {
    "duration": 2,
    "start_time": "2023-03-03T11:40:34.706Z"
   },
   {
    "duration": 4,
    "start_time": "2023-03-03T11:40:34.710Z"
   },
   {
    "duration": 26,
    "start_time": "2023-03-03T11:40:34.715Z"
   },
   {
    "duration": 17,
    "start_time": "2023-03-03T11:40:34.743Z"
   },
   {
    "duration": 9,
    "start_time": "2023-03-03T11:40:34.762Z"
   },
   {
    "duration": 15,
    "start_time": "2023-03-03T11:40:34.772Z"
   },
   {
    "duration": 6,
    "start_time": "2023-03-03T11:40:34.789Z"
   },
   {
    "duration": 25,
    "start_time": "2023-03-03T11:40:34.797Z"
   },
   {
    "duration": 23,
    "start_time": "2023-03-03T11:40:34.824Z"
   },
   {
    "duration": 8,
    "start_time": "2023-03-03T11:40:34.851Z"
   },
   {
    "duration": 21,
    "start_time": "2023-03-03T11:40:34.861Z"
   },
   {
    "duration": 7,
    "start_time": "2023-03-03T11:40:34.883Z"
   },
   {
    "duration": 14,
    "start_time": "2023-03-03T11:40:34.891Z"
   },
   {
    "duration": 34,
    "start_time": "2023-03-03T11:40:34.907Z"
   },
   {
    "duration": 39,
    "start_time": "2023-03-03T11:40:34.944Z"
   },
   {
    "duration": 22,
    "start_time": "2023-03-03T11:40:34.985Z"
   },
   {
    "duration": 797,
    "start_time": "2023-03-03T11:40:35.008Z"
   },
   {
    "duration": 245,
    "start_time": "2023-03-03T11:40:35.807Z"
   },
   {
    "duration": 103,
    "start_time": "2023-03-03T11:40:36.057Z"
   },
   {
    "duration": 7,
    "start_time": "2023-03-03T11:40:36.162Z"
   },
   {
    "duration": 821,
    "start_time": "2023-03-03T11:40:36.171Z"
   },
   {
    "duration": 9071,
    "start_time": "2023-03-03T11:40:36.993Z"
   },
   {
    "duration": 645,
    "start_time": "2023-03-03T11:40:46.067Z"
   },
   {
    "duration": 1555,
    "start_time": "2023-03-03T11:40:46.714Z"
   },
   {
    "duration": 6,
    "start_time": "2023-03-03T11:40:48.271Z"
   },
   {
    "duration": 1037,
    "start_time": "2023-03-03T11:40:48.279Z"
   },
   {
    "duration": 5,
    "start_time": "2023-03-03T11:40:49.318Z"
   },
   {
    "duration": 1747,
    "start_time": "2023-03-03T11:40:49.324Z"
   },
   {
    "duration": 497,
    "start_time": "2023-03-03T11:40:51.073Z"
   }
  ],
  "kernelspec": {
   "display_name": "Python 3 (ipykernel)",
   "language": "python",
   "name": "python3"
  },
  "language_info": {
   "codemirror_mode": {
    "name": "ipython",
    "version": 3
   },
   "file_extension": ".py",
   "mimetype": "text/x-python",
   "name": "python",
   "nbconvert_exporter": "python",
   "pygments_lexer": "ipython3",
   "version": "3.10.9"
  },
  "toc": {
   "base_numbering": 1,
   "nav_menu": {},
   "number_sections": true,
   "sideBar": true,
   "skip_h1_title": true,
   "title_cell": "Содержание",
   "title_sidebar": "Contents",
   "toc_cell": true,
   "toc_position": {
    "height": "calc(100% - 180px)",
    "left": "10px",
    "top": "150px",
    "width": "165px"
   },
   "toc_section_display": true,
   "toc_window_display": true
  }
 },
 "nbformat": 4,
 "nbformat_minor": 2
}
