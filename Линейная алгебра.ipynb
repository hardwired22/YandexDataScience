{
 "cells": [
  {
   "cell_type": "markdown",
   "metadata": {
    "toc": true
   },
   "source": [
    "<h1>Содержание<span class=\"tocSkip\"></span></h1>\n",
    "<div class=\"toc\"><ul class=\"toc-item\"><li><span><a href=\"#Загрузка-данных\" data-toc-modified-id=\"Загрузка-данных-1\"><span class=\"toc-item-num\">1&nbsp;&nbsp;</span>Загрузка данных</a></span></li><li><span><a href=\"#Умножение-матриц\" data-toc-modified-id=\"Умножение-матриц-2\"><span class=\"toc-item-num\">2&nbsp;&nbsp;</span>Умножение матриц</a></span></li><li><span><a href=\"#Алгоритм-преобразования\" data-toc-modified-id=\"Алгоритм-преобразования-3\"><span class=\"toc-item-num\">3&nbsp;&nbsp;</span>Алгоритм преобразования</a></span></li><li><span><a href=\"#Проверка-алгоритма\" data-toc-modified-id=\"Проверка-алгоритма-4\"><span class=\"toc-item-num\">4&nbsp;&nbsp;</span>Проверка алгоритма</a></span></li><li><span><a href=\"#Чек-лист-проверки\" data-toc-modified-id=\"Чек-лист-проверки-5\"><span class=\"toc-item-num\">5&nbsp;&nbsp;</span>Чек-лист проверки</a></span></li></ul></div>"
   ]
  },
  {
   "cell_type": "markdown",
   "metadata": {},
   "source": [
    "# Защита персональных данных клиентов"
   ]
  },
  {
   "cell_type": "markdown",
   "metadata": {},
   "source": [
    "Вам нужно защитить данные клиентов страховой компании «Хоть потоп». Разработайте такой метод преобразования данных, чтобы по ним было сложно восстановить персональную информацию. Обоснуйте корректность его работы.\n",
    "\n",
    "Нужно защитить данные, чтобы при преобразовании качество моделей машинного обучения не ухудшилось. Подбирать наилучшую модель не требуется."
   ]
  },
  {
   "cell_type": "markdown",
   "metadata": {},
   "source": [
    "## Загрузка данных"
   ]
  },
  {
   "cell_type": "code",
   "execution_count": 1,
   "metadata": {},
   "outputs": [],
   "source": [
    "import pandas as pd\n",
    "from sklearn.linear_model import LinearRegression\n",
    "from sklearn.metrics import f1_score, roc_auc_score, roc_curve\n",
    "import seaborn as sns\n",
    "from sklearn.preprocessing import StandardScaler\n",
    "import warnings \n",
    "warnings.filterwarnings('ignore')\n",
    "from sklearn.metrics import make_scorer, mean_absolute_error, mean_squared_error, r2_score\n",
    "import numpy as np"
   ]
  },
  {
   "cell_type": "code",
   "execution_count": 2,
   "metadata": {},
   "outputs": [],
   "source": [
    "df = pd.read_csv('/datasets/insurance.csv')"
   ]
  },
  {
   "cell_type": "code",
   "execution_count": 3,
   "metadata": {},
   "outputs": [
    {
     "data": {
      "text/html": [
       "<div>\n",
       "<style scoped>\n",
       "    .dataframe tbody tr th:only-of-type {\n",
       "        vertical-align: middle;\n",
       "    }\n",
       "\n",
       "    .dataframe tbody tr th {\n",
       "        vertical-align: top;\n",
       "    }\n",
       "\n",
       "    .dataframe thead th {\n",
       "        text-align: right;\n",
       "    }\n",
       "</style>\n",
       "<table border=\"1\" class=\"dataframe\">\n",
       "  <thead>\n",
       "    <tr style=\"text-align: right;\">\n",
       "      <th></th>\n",
       "      <th>Пол</th>\n",
       "      <th>Возраст</th>\n",
       "      <th>Зарплата</th>\n",
       "      <th>Члены семьи</th>\n",
       "      <th>Страховые выплаты</th>\n",
       "    </tr>\n",
       "  </thead>\n",
       "  <tbody>\n",
       "    <tr>\n",
       "      <th>0</th>\n",
       "      <td>1</td>\n",
       "      <td>41.0</td>\n",
       "      <td>49600.0</td>\n",
       "      <td>1</td>\n",
       "      <td>0</td>\n",
       "    </tr>\n",
       "    <tr>\n",
       "      <th>1</th>\n",
       "      <td>0</td>\n",
       "      <td>46.0</td>\n",
       "      <td>38000.0</td>\n",
       "      <td>1</td>\n",
       "      <td>1</td>\n",
       "    </tr>\n",
       "    <tr>\n",
       "      <th>2</th>\n",
       "      <td>0</td>\n",
       "      <td>29.0</td>\n",
       "      <td>21000.0</td>\n",
       "      <td>0</td>\n",
       "      <td>0</td>\n",
       "    </tr>\n",
       "    <tr>\n",
       "      <th>3</th>\n",
       "      <td>0</td>\n",
       "      <td>21.0</td>\n",
       "      <td>41700.0</td>\n",
       "      <td>2</td>\n",
       "      <td>0</td>\n",
       "    </tr>\n",
       "    <tr>\n",
       "      <th>4</th>\n",
       "      <td>1</td>\n",
       "      <td>28.0</td>\n",
       "      <td>26100.0</td>\n",
       "      <td>0</td>\n",
       "      <td>0</td>\n",
       "    </tr>\n",
       "    <tr>\n",
       "      <th>...</th>\n",
       "      <td>...</td>\n",
       "      <td>...</td>\n",
       "      <td>...</td>\n",
       "      <td>...</td>\n",
       "      <td>...</td>\n",
       "    </tr>\n",
       "    <tr>\n",
       "      <th>4995</th>\n",
       "      <td>0</td>\n",
       "      <td>28.0</td>\n",
       "      <td>35700.0</td>\n",
       "      <td>2</td>\n",
       "      <td>0</td>\n",
       "    </tr>\n",
       "    <tr>\n",
       "      <th>4996</th>\n",
       "      <td>0</td>\n",
       "      <td>34.0</td>\n",
       "      <td>52400.0</td>\n",
       "      <td>1</td>\n",
       "      <td>0</td>\n",
       "    </tr>\n",
       "    <tr>\n",
       "      <th>4997</th>\n",
       "      <td>0</td>\n",
       "      <td>20.0</td>\n",
       "      <td>33900.0</td>\n",
       "      <td>2</td>\n",
       "      <td>0</td>\n",
       "    </tr>\n",
       "    <tr>\n",
       "      <th>4998</th>\n",
       "      <td>1</td>\n",
       "      <td>22.0</td>\n",
       "      <td>32700.0</td>\n",
       "      <td>3</td>\n",
       "      <td>0</td>\n",
       "    </tr>\n",
       "    <tr>\n",
       "      <th>4999</th>\n",
       "      <td>1</td>\n",
       "      <td>28.0</td>\n",
       "      <td>40600.0</td>\n",
       "      <td>1</td>\n",
       "      <td>0</td>\n",
       "    </tr>\n",
       "  </tbody>\n",
       "</table>\n",
       "<p>5000 rows × 5 columns</p>\n",
       "</div>"
      ],
      "text/plain": [
       "      Пол  Возраст  Зарплата  Члены семьи  Страховые выплаты\n",
       "0       1     41.0   49600.0            1                  0\n",
       "1       0     46.0   38000.0            1                  1\n",
       "2       0     29.0   21000.0            0                  0\n",
       "3       0     21.0   41700.0            2                  0\n",
       "4       1     28.0   26100.0            0                  0\n",
       "...   ...      ...       ...          ...                ...\n",
       "4995    0     28.0   35700.0            2                  0\n",
       "4996    0     34.0   52400.0            1                  0\n",
       "4997    0     20.0   33900.0            2                  0\n",
       "4998    1     22.0   32700.0            3                  0\n",
       "4999    1     28.0   40600.0            1                  0\n",
       "\n",
       "[5000 rows x 5 columns]"
      ]
     },
     "metadata": {},
     "output_type": "display_data"
    },
    {
     "name": "stdout",
     "output_type": "stream",
     "text": [
      "<class 'pandas.core.frame.DataFrame'>\n",
      "RangeIndex: 5000 entries, 0 to 4999\n",
      "Data columns (total 5 columns):\n",
      " #   Column             Non-Null Count  Dtype  \n",
      "---  ------             --------------  -----  \n",
      " 0   Пол                5000 non-null   int64  \n",
      " 1   Возраст            5000 non-null   float64\n",
      " 2   Зарплата           5000 non-null   float64\n",
      " 3   Члены семьи        5000 non-null   int64  \n",
      " 4   Страховые выплаты  5000 non-null   int64  \n",
      "dtypes: float64(2), int64(3)\n",
      "memory usage: 195.4 KB\n"
     ]
    },
    {
     "data": {
      "text/plain": [
       "None"
      ]
     },
     "metadata": {},
     "output_type": "display_data"
    },
    {
     "data": {
      "text/html": [
       "<div>\n",
       "<style scoped>\n",
       "    .dataframe tbody tr th:only-of-type {\n",
       "        vertical-align: middle;\n",
       "    }\n",
       "\n",
       "    .dataframe tbody tr th {\n",
       "        vertical-align: top;\n",
       "    }\n",
       "\n",
       "    .dataframe thead th {\n",
       "        text-align: right;\n",
       "    }\n",
       "</style>\n",
       "<table border=\"1\" class=\"dataframe\">\n",
       "  <thead>\n",
       "    <tr style=\"text-align: right;\">\n",
       "      <th></th>\n",
       "      <th>Пол</th>\n",
       "      <th>Возраст</th>\n",
       "      <th>Зарплата</th>\n",
       "      <th>Члены семьи</th>\n",
       "      <th>Страховые выплаты</th>\n",
       "    </tr>\n",
       "  </thead>\n",
       "  <tbody>\n",
       "    <tr>\n",
       "      <th>count</th>\n",
       "      <td>5000.000000</td>\n",
       "      <td>5000.000000</td>\n",
       "      <td>5000.000000</td>\n",
       "      <td>5000.000000</td>\n",
       "      <td>5000.000000</td>\n",
       "    </tr>\n",
       "    <tr>\n",
       "      <th>mean</th>\n",
       "      <td>0.499000</td>\n",
       "      <td>30.952800</td>\n",
       "      <td>39916.360000</td>\n",
       "      <td>1.194200</td>\n",
       "      <td>0.148000</td>\n",
       "    </tr>\n",
       "    <tr>\n",
       "      <th>std</th>\n",
       "      <td>0.500049</td>\n",
       "      <td>8.440807</td>\n",
       "      <td>9900.083569</td>\n",
       "      <td>1.091387</td>\n",
       "      <td>0.463183</td>\n",
       "    </tr>\n",
       "    <tr>\n",
       "      <th>min</th>\n",
       "      <td>0.000000</td>\n",
       "      <td>18.000000</td>\n",
       "      <td>5300.000000</td>\n",
       "      <td>0.000000</td>\n",
       "      <td>0.000000</td>\n",
       "    </tr>\n",
       "    <tr>\n",
       "      <th>25%</th>\n",
       "      <td>0.000000</td>\n",
       "      <td>24.000000</td>\n",
       "      <td>33300.000000</td>\n",
       "      <td>0.000000</td>\n",
       "      <td>0.000000</td>\n",
       "    </tr>\n",
       "    <tr>\n",
       "      <th>50%</th>\n",
       "      <td>0.000000</td>\n",
       "      <td>30.000000</td>\n",
       "      <td>40200.000000</td>\n",
       "      <td>1.000000</td>\n",
       "      <td>0.000000</td>\n",
       "    </tr>\n",
       "    <tr>\n",
       "      <th>75%</th>\n",
       "      <td>1.000000</td>\n",
       "      <td>37.000000</td>\n",
       "      <td>46600.000000</td>\n",
       "      <td>2.000000</td>\n",
       "      <td>0.000000</td>\n",
       "    </tr>\n",
       "    <tr>\n",
       "      <th>max</th>\n",
       "      <td>1.000000</td>\n",
       "      <td>65.000000</td>\n",
       "      <td>79000.000000</td>\n",
       "      <td>6.000000</td>\n",
       "      <td>5.000000</td>\n",
       "    </tr>\n",
       "  </tbody>\n",
       "</table>\n",
       "</div>"
      ],
      "text/plain": [
       "               Пол      Возраст      Зарплата  Члены семьи  Страховые выплаты\n",
       "count  5000.000000  5000.000000   5000.000000  5000.000000        5000.000000\n",
       "mean      0.499000    30.952800  39916.360000     1.194200           0.148000\n",
       "std       0.500049     8.440807   9900.083569     1.091387           0.463183\n",
       "min       0.000000    18.000000   5300.000000     0.000000           0.000000\n",
       "25%       0.000000    24.000000  33300.000000     0.000000           0.000000\n",
       "50%       0.000000    30.000000  40200.000000     1.000000           0.000000\n",
       "75%       1.000000    37.000000  46600.000000     2.000000           0.000000\n",
       "max       1.000000    65.000000  79000.000000     6.000000           5.000000"
      ]
     },
     "metadata": {},
     "output_type": "display_data"
    }
   ],
   "source": [
    "display(df)\n",
    "display(df.info())\n",
    "display(df.describe())"
   ]
  },
  {
   "cell_type": "code",
   "execution_count": 4,
   "metadata": {
    "scrolled": true
   },
   "outputs": [
    {
     "data": {
      "text/plain": [
       "153"
      ]
     },
     "execution_count": 4,
     "metadata": {},
     "output_type": "execute_result"
    }
   ],
   "source": [
    "df.duplicated().sum()"
   ]
  },
  {
   "cell_type": "code",
   "execution_count": 5,
   "metadata": {},
   "outputs": [
    {
     "data": {
      "text/plain": [
       "Пол                  0\n",
       "Возраст              0\n",
       "Зарплата             0\n",
       "Члены семьи          0\n",
       "Страховые выплаты    0\n",
       "dtype: int64"
      ]
     },
     "execution_count": 5,
     "metadata": {},
     "output_type": "execute_result"
    }
   ],
   "source": [
    "df.isna().sum()"
   ]
  },
  {
   "cell_type": "code",
   "execution_count": 6,
   "metadata": {},
   "outputs": [],
   "source": [
    "data = df[['Возраст','Зарплата','Члены семьи','Страховые выплаты']]"
   ]
  },
  {
   "cell_type": "code",
   "execution_count": 7,
   "metadata": {
    "scrolled": false
   },
   "outputs": [
    {
     "data": {
      "text/plain": [
       "<AxesSubplot:>"
      ]
     },
     "execution_count": 7,
     "metadata": {},
     "output_type": "execute_result"
    },
    {
     "data": {
      "image/png": "[encoded data removed]",
      "text/plain": [
       "<Figure size 432x288 with 2 Axes>"
      ]
     },
     "metadata": {
      "needs_background": "light"
     },
     "output_type": "display_data"
    }
   ],
   "source": [
    "sns.heatmap(data.corr(), annot = False, vmin=-1, vmax=1, center= 0, cmap= 'coolwarm', linewidths=0.003, linecolor='black')"
   ]
  },
  {
   "cell_type": "code",
   "execution_count": 8,
   "metadata": {},
   "outputs": [
    {
     "data": {
      "text/plain": [
       "153"
      ]
     },
     "execution_count": 8,
     "metadata": {},
     "output_type": "execute_result"
    }
   ],
   "source": [
    "df.duplicated().sum()"
   ]
  },
  {
   "cell_type": "code",
   "execution_count": 9,
   "metadata": {},
   "outputs": [],
   "source": [
    "df= df.drop_duplicates()"
   ]
  },
  {
   "cell_type": "code",
   "execution_count": 10,
   "metadata": {},
   "outputs": [
    {
     "data": {
      "text/plain": [
       "0"
      ]
     },
     "execution_count": 10,
     "metadata": {},
     "output_type": "execute_result"
    }
   ],
   "source": [
    "df.duplicated().sum()"
   ]
  },
  {
   "cell_type": "code",
   "execution_count": 11,
   "metadata": {},
   "outputs": [
    {
     "data": {
      "text/plain": [
       "Пол                    int64\n",
       "Возраст              float64\n",
       "Зарплата             float64\n",
       "Члены семьи            int64\n",
       "Страховые выплаты      int64\n",
       "dtype: object"
      ]
     },
     "execution_count": 11,
     "metadata": {},
     "output_type": "execute_result"
    }
   ],
   "source": [
    "df.dtypes"
   ]
  },
  {
   "cell_type": "code",
   "execution_count": 12,
   "metadata": {},
   "outputs": [],
   "source": [
    "df['Возраст'] = df['Возраст'].astype(int)\n",
    "df['Зарплата'] = df['Зарплата'].astype(int)"
   ]
  },
  {
   "cell_type": "code",
   "execution_count": 13,
   "metadata": {},
   "outputs": [
    {
     "data": {
      "text/plain": [
       "Пол                  int64\n",
       "Возраст              int64\n",
       "Зарплата             int64\n",
       "Члены семьи          int64\n",
       "Страховые выплаты    int64\n",
       "dtype: object"
      ]
     },
     "execution_count": 13,
     "metadata": {},
     "output_type": "execute_result"
    }
   ],
   "source": [
    "df.dtypes"
   ]
  },
  {
   "cell_type": "code",
   "execution_count": 14,
   "metadata": {
    "scrolled": true
   },
   "outputs": [
    {
     "data": {
      "text/html": [
       "<div>\n",
       "<style scoped>\n",
       "    .dataframe tbody tr th:only-of-type {\n",
       "        vertical-align: middle;\n",
       "    }\n",
       "\n",
       "    .dataframe tbody tr th {\n",
       "        vertical-align: top;\n",
       "    }\n",
       "\n",
       "    .dataframe thead th {\n",
       "        text-align: right;\n",
       "    }\n",
       "</style>\n",
       "<table border=\"1\" class=\"dataframe\">\n",
       "  <thead>\n",
       "    <tr style=\"text-align: right;\">\n",
       "      <th></th>\n",
       "      <th>Пол</th>\n",
       "      <th>Возраст</th>\n",
       "      <th>Зарплата</th>\n",
       "      <th>Члены семьи</th>\n",
       "      <th>Страховые выплаты</th>\n",
       "    </tr>\n",
       "  </thead>\n",
       "  <tbody>\n",
       "    <tr>\n",
       "      <th>0</th>\n",
       "      <td>1</td>\n",
       "      <td>41</td>\n",
       "      <td>49600</td>\n",
       "      <td>1</td>\n",
       "      <td>0</td>\n",
       "    </tr>\n",
       "    <tr>\n",
       "      <th>1</th>\n",
       "      <td>0</td>\n",
       "      <td>46</td>\n",
       "      <td>38000</td>\n",
       "      <td>1</td>\n",
       "      <td>1</td>\n",
       "    </tr>\n",
       "    <tr>\n",
       "      <th>2</th>\n",
       "      <td>0</td>\n",
       "      <td>29</td>\n",
       "      <td>21000</td>\n",
       "      <td>0</td>\n",
       "      <td>0</td>\n",
       "    </tr>\n",
       "    <tr>\n",
       "      <th>3</th>\n",
       "      <td>0</td>\n",
       "      <td>21</td>\n",
       "      <td>41700</td>\n",
       "      <td>2</td>\n",
       "      <td>0</td>\n",
       "    </tr>\n",
       "    <tr>\n",
       "      <th>4</th>\n",
       "      <td>1</td>\n",
       "      <td>28</td>\n",
       "      <td>26100</td>\n",
       "      <td>0</td>\n",
       "      <td>0</td>\n",
       "    </tr>\n",
       "    <tr>\n",
       "      <th>...</th>\n",
       "      <td>...</td>\n",
       "      <td>...</td>\n",
       "      <td>...</td>\n",
       "      <td>...</td>\n",
       "      <td>...</td>\n",
       "    </tr>\n",
       "    <tr>\n",
       "      <th>4995</th>\n",
       "      <td>0</td>\n",
       "      <td>28</td>\n",
       "      <td>35700</td>\n",
       "      <td>2</td>\n",
       "      <td>0</td>\n",
       "    </tr>\n",
       "    <tr>\n",
       "      <th>4996</th>\n",
       "      <td>0</td>\n",
       "      <td>34</td>\n",
       "      <td>52400</td>\n",
       "      <td>1</td>\n",
       "      <td>0</td>\n",
       "    </tr>\n",
       "    <tr>\n",
       "      <th>4997</th>\n",
       "      <td>0</td>\n",
       "      <td>20</td>\n",
       "      <td>33900</td>\n",
       "      <td>2</td>\n",
       "      <td>0</td>\n",
       "    </tr>\n",
       "    <tr>\n",
       "      <th>4998</th>\n",
       "      <td>1</td>\n",
       "      <td>22</td>\n",
       "      <td>32700</td>\n",
       "      <td>3</td>\n",
       "      <td>0</td>\n",
       "    </tr>\n",
       "    <tr>\n",
       "      <th>4999</th>\n",
       "      <td>1</td>\n",
       "      <td>28</td>\n",
       "      <td>40600</td>\n",
       "      <td>1</td>\n",
       "      <td>0</td>\n",
       "    </tr>\n",
       "  </tbody>\n",
       "</table>\n",
       "<p>4847 rows × 5 columns</p>\n",
       "</div>"
      ],
      "text/plain": [
       "      Пол  Возраст  Зарплата  Члены семьи  Страховые выплаты\n",
       "0       1       41     49600            1                  0\n",
       "1       0       46     38000            1                  1\n",
       "2       0       29     21000            0                  0\n",
       "3       0       21     41700            2                  0\n",
       "4       1       28     26100            0                  0\n",
       "...   ...      ...       ...          ...                ...\n",
       "4995    0       28     35700            2                  0\n",
       "4996    0       34     52400            1                  0\n",
       "4997    0       20     33900            2                  0\n",
       "4998    1       22     32700            3                  0\n",
       "4999    1       28     40600            1                  0\n",
       "\n",
       "[4847 rows x 5 columns]"
      ]
     },
     "metadata": {},
     "output_type": "display_data"
    }
   ],
   "source": [
    "display(df)"
   ]
  },
  {
   "cell_type": "markdown",
   "metadata": {},
   "source": [
    "## Умножение матриц"
   ]
  },
  {
   "cell_type": "markdown",
   "metadata": {},
   "source": [
    "В этом задании вы можете записывать формулы в *Jupyter Notebook.*\n",
    "\n",
    "Чтобы записать формулу внутри текста, окружите её символами доллара \\\\$; если снаружи —  двойными символами \\\\$\\\\$. Эти формулы записываются на языке вёрстки *LaTeX.* \n",
    "\n",
    "Для примера мы записали формулы линейной регрессии. Можете их скопировать и отредактировать, чтобы решить задачу.\n",
    "\n",
    "Работать в *LaTeX* необязательно."
   ]
  },
  {
   "cell_type": "markdown",
   "metadata": {},
   "source": [
    "Обозначения:\n",
    "\n",
    "- $X$ — матрица признаков (нулевой столбец состоит из единиц)\n",
    "\n",
    "- $y$ — вектор целевого признака\n",
    "\n",
    "- $P$ — матрица, на которую умножаются признаки\n",
    "\n",
    "- $w$ — вектор весов линейной регрессии (нулевой элемент равен сдвигу)"
   ]
  },
  {
   "cell_type": "markdown",
   "metadata": {},
   "source": [
    "Предсказания:\n",
    "\n",
    "$$\n",
    "a = Xw\n",
    "$$\n",
    "\n",
    "Задача обучения:\n",
    "\n",
    "$$\n",
    "w = \\arg\\min_w MSE(Xw, y)\n",
    "$$\n",
    "\n",
    "Формула обучения:\n",
    "\n",
    "$$\n",
    "w = (X^T X)^{-1} X^T y\n",
    "$$"
   ]
  },
  {
   "cell_type": "markdown",
   "metadata": {},
   "source": [
    "**Ответ:** ...\n",
    "\n",
    "**Обоснование:** ..."
   ]
  },
  {
   "cell_type": "markdown",
   "metadata": {},
   "source": [
    "Новая матрица признаков как произведение старой на матрицу (обратимую):"
   ]
  },
  {
   "cell_type": "markdown",
   "metadata": {},
   "source": [
    "$$\n",
    "X1 = X * P\n",
    "$$"
   ]
  },
  {
   "cell_type": "markdown",
   "metadata": {},
   "source": [
    "Подставим новое значение X1 в формулу w1:"
   ]
  },
  {
   "cell_type": "markdown",
   "metadata": {},
   "source": [
    "$$\n",
    "w1 = ((XP)^T XP)^{-1} (XP)^T y\n",
    "$$"
   ]
  },
  {
   "cell_type": "markdown",
   "metadata": {},
   "source": [
    "Раскроем первое произведение"
   ]
  },
  {
   "cell_type": "markdown",
   "metadata": {},
   "source": [
    "$$\n",
    "w1 = (P^T X^T XP)^{-1}P^T X^Ty\n",
    "$$"
   ]
  },
  {
   "cell_type": "markdown",
   "metadata": {},
   "source": [
    "Перегруппируем множители в скобках, чтобы это выглядело как произведение трех множителей:"
   ]
  },
  {
   "cell_type": "markdown",
   "metadata": {},
   "source": [
    "$$\n",
    "w1 = (P^T (X^T X)P)^{-1}P^T X^Ty\n",
    "$$"
   ]
  },
  {
   "cell_type": "markdown",
   "metadata": {},
   "source": [
    "Раскроем скобки"
   ]
  },
  {
   "cell_type": "markdown",
   "metadata": {},
   "source": [
    "$$\n",
    "w1 = P^{-1} (X^T X)P)^{-1}(P^T)^{-1} X^Ty\n",
    "$$"
   ]
  },
  {
   "cell_type": "markdown",
   "metadata": {},
   "source": [
    "Так как P по условию обратимая, переводим в E"
   ]
  },
  {
   "cell_type": "markdown",
   "metadata": {},
   "source": [
    "$$\n",
    "w1 = P^{-1} (X^T X)^{-1}EX^Ty = P^{-1} (X^T X)^{-1} X^Ty\n",
    "$$"
   ]
  },
  {
   "cell_type": "markdown",
   "metadata": {},
   "source": [
    "Подставим новое значение весов 𝑤1 в формулу для предсказаний линейной регрессии. Предсказания модели расчитываются по формуле:"
   ]
  },
  {
   "cell_type": "markdown",
   "metadata": {},
   "source": [
    "$$\n",
    "a = Xw\n",
    "$$"
   ]
  },
  {
   "cell_type": "markdown",
   "metadata": {},
   "source": [
    "Подставим в эту формулу значения X1 и w1 для того, чтобы на их основе вычислить предсказания модели a1:"
   ]
  },
  {
   "cell_type": "markdown",
   "metadata": {},
   "source": [
    "$$\n",
    "a1 = X1w1 = XPP^-1w\n",
    "$$"
   ]
  },
  {
   "cell_type": "markdown",
   "metadata": {},
   "source": [
    "Так как P по условию обратимая, то произведение PP1 снова равно E "
   ]
  },
  {
   "cell_type": "markdown",
   "metadata": {},
   "source": [
    "$$\n",
    "a1 = XPP^{-1}w = XEw = Xw = a\n",
    "$$"
   ]
  },
  {
   "cell_type": "markdown",
   "metadata": {},
   "source": [
    "Мы доказали, что предсказания a1 для матрицы признаков, умноженных на обратимую матрицу P равны предсказаниям a.\n",
    "Следовательно, отвечая на вопрос изменится ли качество линейной регрессии при умножении признаков на обратимую матрицу - нет, не изменится. В данном случае, параметры линейной регрессии в исходной задаче w и в преобразованной w1 связаны следующим образом:"
   ]
  },
  {
   "cell_type": "markdown",
   "metadata": {},
   "source": [
    "$$\n",
    "w1 = P^{-1}w\n",
    "$$"
   ]
  },
  {
   "cell_type": "markdown",
   "metadata": {},
   "source": [
    "При умножении признаков на обратимую матрицу, предсказания модели не поменяется, но поменяются веса для новых признаков. Придется переобучать модель на новых признаках."
   ]
  },
  {
   "cell_type": "markdown",
   "metadata": {},
   "source": [
    "## Алгоритм преобразования"
   ]
  },
  {
   "cell_type": "code",
   "execution_count": 15,
   "metadata": {},
   "outputs": [],
   "source": [
    "features = df.drop('Страховые выплаты', axis = 1)\n",
    "target = df['Страховые выплаты']"
   ]
  },
  {
   "cell_type": "code",
   "execution_count": 16,
   "metadata": {},
   "outputs": [
    {
     "data": {
      "text/plain": [
       "array([[100.17109995, 100.7115238 ,  99.96973155, 102.22652922],\n",
       "       [ 99.94716992, 100.58372636, 101.77265351,  99.46468594],\n",
       "       [101.60324168,  99.83101786, 101.0229168 , 100.14236577],\n",
       "       [ 99.12446952,  99.53509916,  99.09893993,  98.56139964]])"
      ]
     },
     "execution_count": 16,
     "metadata": {},
     "output_type": "execute_result"
    }
   ],
   "source": [
    "random_matrix = np.random.normal(100,size = (4, 4))\n",
    "random_matrix"
   ]
  },
  {
   "cell_type": "code",
   "execution_count": 17,
   "metadata": {},
   "outputs": [
    {
     "data": {
      "text/plain": [
       "array([[-0.22986407, -0.44215072,  0.39984889,  0.27835213],\n",
       "       [-0.15682607, -0.15887741, -0.48106233,  0.81177009],\n",
       "       [ 0.00095372,  0.55721345,  0.05659059, -0.62080766],\n",
       "       [ 0.38859371,  0.04487124,  0.0267824 , -0.46539256]])"
      ]
     },
     "execution_count": 17,
     "metadata": {},
     "output_type": "execute_result"
    }
   ],
   "source": [
    "matrix_inverted = np.linalg.inv(random_matrix)\n",
    "matrix_inverted"
   ]
  },
  {
   "cell_type": "code",
   "execution_count": 18,
   "metadata": {},
   "outputs": [],
   "source": [
    "scaler = StandardScaler()\n",
    "scaler.fit(features)\n",
    "\n",
    "features_scaled = scaler.transform(features)"
   ]
  },
  {
   "cell_type": "code",
   "execution_count": 19,
   "metadata": {},
   "outputs": [],
   "source": [
    "w = np.linalg.inv(features_scaled.T.dot(features_scaled)).dot(features_scaled.T).dot(target)"
   ]
  },
  {
   "cell_type": "code",
   "execution_count": 20,
   "metadata": {},
   "outputs": [],
   "source": [
    "a = features_scaled @ w"
   ]
  },
  {
   "cell_type": "code",
   "execution_count": 21,
   "metadata": {},
   "outputs": [],
   "source": [
    "features_scaled_p = features_scaled @ random_matrix"
   ]
  },
  {
   "cell_type": "code",
   "execution_count": 22,
   "metadata": {},
   "outputs": [],
   "source": [
    "w1 = np.linalg.inv(features_scaled_p.T.dot(features_scaled_p)).dot(features_scaled_p.T).dot(target)"
   ]
  },
  {
   "cell_type": "code",
   "execution_count": 23,
   "metadata": {},
   "outputs": [],
   "source": [
    "a1 = features_scaled_p @ w1"
   ]
  },
  {
   "cell_type": "code",
   "execution_count": 24,
   "metadata": {},
   "outputs": [],
   "source": [
    "diff = a - a1"
   ]
  },
  {
   "cell_type": "code",
   "execution_count": 25,
   "metadata": {},
   "outputs": [
    {
     "data": {
      "text/plain": [
       "-1.5934562155005272e-12"
      ]
     },
     "execution_count": 25,
     "metadata": {},
     "output_type": "execute_result"
    }
   ],
   "source": [
    "diff.sum()"
   ]
  },
  {
   "cell_type": "markdown",
   "metadata": {},
   "source": [
    "Исходя из полученных данных мы видим, что сумма расхождений совсем маленькая. Это значит 𝑎 равен 𝑎1. Мы доказали, что преобразование не приводит к разным предсказаниям модели и не ухудшает качество модели."
   ]
  },
  {
   "cell_type": "markdown",
   "metadata": {},
   "source": [
    "## Проверка алгоритма"
   ]
  },
  {
   "cell_type": "code",
   "execution_count": 26,
   "metadata": {},
   "outputs": [
    {
     "name": "stdout",
     "output_type": "stream",
     "text": [
      "MSE Score: 0.1252726382276536\n",
      "R2_Score на исходных данных:  0.4302010046633359\n"
     ]
    }
   ],
   "source": [
    "model = LinearRegression(normalize = True)\n",
    "model.fit(features, target)\n",
    "predictions = model.predict(features)\n",
    "mse = mean_squared_error(target, predictions)\n",
    "print('MSE Score:', mse)\n",
    "print('R2_Score на исходных данных: ',r2_score(target, predictions))"
   ]
  },
  {
   "cell_type": "code",
   "execution_count": 27,
   "metadata": {},
   "outputs": [
    {
     "name": "stdout",
     "output_type": "stream",
     "text": [
      "MSE Score: 0.1252726382276536\n",
      "R2_Score для преобразованных  признаков:  0.4302010046633362\n"
     ]
    }
   ],
   "source": [
    "features_matrix = features_scaled @ random_matrix\n",
    "model.fit(features_matrix, target)\n",
    "predictions_matrix = model.predict(features_matrix)\n",
    "mse = mean_squared_error(target, predictions)\n",
    "print('MSE Score:', mse)\n",
    "print('R2_Score для преобразованных  признаков: ',r2_score(target, predictions_matrix))"
   ]
  },
  {
   "cell_type": "markdown",
   "metadata": {},
   "source": [
    "Вывод:\n",
    "\n",
    "Исходя их полученных результатов, можно сказать, что преобразованные данные схожи с результатами исходных данных. То есть, мы защитили данные пользователей и при этом не ухудшили качество модели машинного обучения."
   ]
  },
  {
   "cell_type": "markdown",
   "metadata": {},
   "source": [
    "## Чек-лист проверки"
   ]
  },
  {
   "cell_type": "markdown",
   "metadata": {},
   "source": [
    "Поставьте 'x' в выполненных пунктах. Далее нажмите Shift+Enter."
   ]
  },
  {
   "cell_type": "markdown",
   "metadata": {},
   "source": [
    "- [x]  Jupyter Notebook открыт\n",
    "- [x]  Весь код выполняется без ошибок\n",
    "- [x]  Ячейки с кодом расположены в порядке исполнения\n",
    "- [x]  Выполнен шаг 1: данные загружены\n",
    "- [x]  Выполнен шаг 2: получен ответ на вопрос об умножении матриц\n",
    "    - [x]  Указан правильный вариант ответа\n",
    "    - [x]  Вариант обоснован\n",
    "- [x]  Выполнен шаг 3: предложен алгоритм преобразования\n",
    "    - [x]  Алгоритм описан\n",
    "    - [x]  Алгоритм обоснован\n",
    "- [x]  Выполнен шаг 4: алгоритм проверен\n",
    "    - [x]  Алгоритм реализован\n",
    "    - [x]  Проведено сравнение качества моделей до и после преобразования"
   ]
  }
 ],
 "metadata": {
  "ExecuteTimeLog": [
   {
    "duration": 1950,
    "start_time": "2023-04-03T15:11:45.395Z"
   },
   {
    "duration": 116,
    "start_time": "2023-04-03T15:12:06.591Z"
   },
   {
    "duration": 17,
    "start_time": "2023-04-03T15:12:09.196Z"
   },
   {
    "duration": 13,
    "start_time": "2023-04-03T15:12:40.703Z"
   },
   {
    "duration": 22,
    "start_time": "2023-04-03T15:12:52.511Z"
   },
   {
    "duration": 12,
    "start_time": "2023-04-03T15:12:53.298Z"
   },
   {
    "duration": 14,
    "start_time": "2023-04-03T15:12:59.548Z"
   },
   {
    "duration": 7,
    "start_time": "2023-04-03T15:13:25.100Z"
   },
   {
    "duration": 28,
    "start_time": "2023-04-03T15:14:07.416Z"
   },
   {
    "duration": 6,
    "start_time": "2023-04-03T15:14:37.176Z"
   },
   {
    "duration": 368,
    "start_time": "2023-04-03T15:14:57.616Z"
   },
   {
    "duration": 8,
    "start_time": "2023-04-03T15:15:58.398Z"
   },
   {
    "duration": 1352,
    "start_time": "2023-04-03T15:16:34.900Z"
   },
   {
    "duration": 10,
    "start_time": "2023-04-03T15:16:53.896Z"
   },
   {
    "duration": 9,
    "start_time": "2023-04-03T15:17:03.206Z"
   },
   {
    "duration": 7,
    "start_time": "2023-04-03T15:17:13.077Z"
   },
   {
    "duration": 7,
    "start_time": "2023-04-03T15:17:29.345Z"
   },
   {
    "duration": 8,
    "start_time": "2023-04-03T15:17:38.139Z"
   },
   {
    "duration": 12,
    "start_time": "2023-04-03T15:18:13.404Z"
   },
   {
    "duration": 6,
    "start_time": "2023-04-03T15:18:48.207Z"
   },
   {
    "duration": 9,
    "start_time": "2023-04-03T15:19:06.202Z"
   },
   {
    "duration": 1513,
    "start_time": "2023-04-03T15:20:37.743Z"
   },
   {
    "duration": 29,
    "start_time": "2023-04-03T15:20:39.257Z"
   },
   {
    "duration": 51,
    "start_time": "2023-04-03T15:20:39.288Z"
   },
   {
    "duration": 7,
    "start_time": "2023-04-03T15:20:39.346Z"
   },
   {
    "duration": 39,
    "start_time": "2023-04-03T15:20:39.356Z"
   },
   {
    "duration": 366,
    "start_time": "2023-04-03T15:20:39.397Z"
   },
   {
    "duration": 6,
    "start_time": "2023-04-03T15:20:39.764Z"
   },
   {
    "duration": 14,
    "start_time": "2023-04-03T15:20:39.772Z"
   },
   {
    "duration": 7,
    "start_time": "2023-04-03T15:21:17.142Z"
   },
   {
    "duration": 8,
    "start_time": "2023-04-03T15:21:24.028Z"
   },
   {
    "duration": 7,
    "start_time": "2023-04-03T15:21:29.172Z"
   },
   {
    "duration": 5,
    "start_time": "2023-04-03T15:21:40.650Z"
   },
   {
    "duration": 5,
    "start_time": "2023-04-03T15:21:46.590Z"
   },
   {
    "duration": 6,
    "start_time": "2023-04-03T15:21:51.743Z"
   },
   {
    "duration": 11,
    "start_time": "2023-04-03T15:22:04.782Z"
   },
   {
    "duration": 1921,
    "start_time": "2023-04-11T13:30:01.194Z"
   },
   {
    "duration": 80,
    "start_time": "2023-04-11T13:30:03.117Z"
   },
   {
    "duration": 52,
    "start_time": "2023-04-11T13:30:03.198Z"
   },
   {
    "duration": 7,
    "start_time": "2023-04-11T13:30:03.252Z"
   },
   {
    "duration": 44,
    "start_time": "2023-04-11T13:30:03.261Z"
   },
   {
    "duration": 398,
    "start_time": "2023-04-11T13:30:03.307Z"
   },
   {
    "duration": 7,
    "start_time": "2023-04-11T13:30:03.707Z"
   },
   {
    "duration": 25,
    "start_time": "2023-04-11T13:30:03.716Z"
   },
   {
    "duration": 13,
    "start_time": "2023-04-11T13:30:03.743Z"
   },
   {
    "duration": 17,
    "start_time": "2023-04-11T13:30:03.758Z"
   },
   {
    "duration": 17,
    "start_time": "2023-04-11T13:30:03.776Z"
   },
   {
    "duration": 36,
    "start_time": "2023-04-11T13:30:03.794Z"
   },
   {
    "duration": 19,
    "start_time": "2023-04-11T13:30:03.832Z"
   },
   {
    "duration": 13,
    "start_time": "2023-04-11T13:30:03.853Z"
   },
   {
    "duration": 318,
    "start_time": "2023-04-11T13:30:25.726Z"
   },
   {
    "duration": 1404,
    "start_time": "2023-04-11T13:31:05.779Z"
   },
   {
    "duration": 27,
    "start_time": "2023-04-11T13:31:07.185Z"
   },
   {
    "duration": 47,
    "start_time": "2023-04-11T13:31:07.214Z"
   },
   {
    "duration": 6,
    "start_time": "2023-04-11T13:31:07.263Z"
   },
   {
    "duration": 11,
    "start_time": "2023-04-11T13:31:07.272Z"
   },
   {
    "duration": 346,
    "start_time": "2023-04-11T13:31:07.285Z"
   },
   {
    "duration": 5,
    "start_time": "2023-04-11T13:31:07.633Z"
   },
   {
    "duration": 8,
    "start_time": "2023-04-11T13:31:07.649Z"
   },
   {
    "duration": 9,
    "start_time": "2023-04-11T13:31:07.659Z"
   },
   {
    "duration": 9,
    "start_time": "2023-04-11T13:31:07.669Z"
   },
   {
    "duration": 55,
    "start_time": "2023-04-11T13:31:07.680Z"
   },
   {
    "duration": 30,
    "start_time": "2023-04-11T13:31:07.737Z"
   },
   {
    "duration": 19,
    "start_time": "2023-04-11T13:31:07.768Z"
   },
   {
    "duration": 10,
    "start_time": "2023-04-11T13:31:07.789Z"
   },
   {
    "duration": 353,
    "start_time": "2023-04-11T13:31:07.800Z"
   },
   {
    "duration": 6,
    "start_time": "2023-04-11T13:31:24.398Z"
   },
   {
    "duration": 1366,
    "start_time": "2023-04-11T13:31:26.965Z"
   },
   {
    "duration": 26,
    "start_time": "2023-04-11T13:31:28.333Z"
   },
   {
    "duration": 43,
    "start_time": "2023-04-11T13:31:28.361Z"
   },
   {
    "duration": 6,
    "start_time": "2023-04-11T13:31:28.405Z"
   },
   {
    "duration": 7,
    "start_time": "2023-04-11T13:31:28.413Z"
   },
   {
    "duration": 342,
    "start_time": "2023-04-11T13:31:28.421Z"
   },
   {
    "duration": 5,
    "start_time": "2023-04-11T13:31:28.765Z"
   },
   {
    "duration": 8,
    "start_time": "2023-04-11T13:31:28.771Z"
   },
   {
    "duration": 6,
    "start_time": "2023-04-11T13:31:28.781Z"
   },
   {
    "duration": 4,
    "start_time": "2023-04-11T13:31:28.788Z"
   },
   {
    "duration": 12,
    "start_time": "2023-04-11T13:31:28.794Z"
   },
   {
    "duration": 9,
    "start_time": "2023-04-11T13:31:28.808Z"
   },
   {
    "duration": 38,
    "start_time": "2023-04-11T13:31:28.818Z"
   },
   {
    "duration": 7,
    "start_time": "2023-04-11T13:31:28.859Z"
   },
   {
    "duration": 82,
    "start_time": "2023-04-11T13:31:28.868Z"
   },
   {
    "duration": 78,
    "start_time": "2023-04-11T13:32:36.017Z"
   },
   {
    "duration": 109,
    "start_time": "2023-04-11T14:15:34.024Z"
   },
   {
    "duration": 117,
    "start_time": "2023-04-11T14:42:02.065Z"
   },
   {
    "duration": 4,
    "start_time": "2023-04-11T14:47:46.248Z"
   },
   {
    "duration": 6,
    "start_time": "2023-04-11T14:47:53.203Z"
   },
   {
    "duration": 7,
    "start_time": "2023-04-11T14:48:05.308Z"
   },
   {
    "duration": 1847,
    "start_time": "2023-04-11T14:49:29.860Z"
   },
   {
    "duration": 28,
    "start_time": "2023-04-11T14:49:31.709Z"
   },
   {
    "duration": 43,
    "start_time": "2023-04-11T14:49:31.738Z"
   },
   {
    "duration": 10,
    "start_time": "2023-04-11T14:49:31.782Z"
   },
   {
    "duration": 28,
    "start_time": "2023-04-11T14:49:31.794Z"
   },
   {
    "duration": 331,
    "start_time": "2023-04-11T14:49:31.824Z"
   },
   {
    "duration": 5,
    "start_time": "2023-04-11T14:49:32.157Z"
   },
   {
    "duration": 28,
    "start_time": "2023-04-11T14:49:32.164Z"
   },
   {
    "duration": 35,
    "start_time": "2023-04-11T14:49:32.194Z"
   },
   {
    "duration": 19,
    "start_time": "2023-04-11T14:49:32.231Z"
   },
   {
    "duration": 26,
    "start_time": "2023-04-11T14:49:32.251Z"
   },
   {
    "duration": 20,
    "start_time": "2023-04-11T14:49:32.278Z"
   },
   {
    "duration": 29,
    "start_time": "2023-04-11T14:49:32.300Z"
   },
   {
    "duration": 31,
    "start_time": "2023-04-11T14:49:32.332Z"
   },
   {
    "duration": 22,
    "start_time": "2023-04-11T14:49:32.365Z"
   },
   {
    "duration": 9,
    "start_time": "2023-04-11T14:49:32.389Z"
   },
   {
    "duration": 50,
    "start_time": "2023-04-11T14:49:32.399Z"
   },
   {
    "duration": 99,
    "start_time": "2023-04-11T14:49:32.451Z"
   },
   {
    "duration": 98,
    "start_time": "2023-04-11T14:49:32.552Z"
   },
   {
    "duration": 94,
    "start_time": "2023-04-11T14:49:32.655Z"
   },
   {
    "duration": 5,
    "start_time": "2023-04-11T14:49:32.751Z"
   },
   {
    "duration": 92,
    "start_time": "2023-04-11T14:49:32.758Z"
   },
   {
    "duration": 106,
    "start_time": "2023-04-11T14:49:32.852Z"
   },
   {
    "duration": 5,
    "start_time": "2023-04-11T14:49:33.050Z"
   },
   {
    "duration": 56,
    "start_time": "2023-04-11T14:49:33.056Z"
   },
   {
    "duration": 36,
    "start_time": "2023-04-11T14:49:33.113Z"
   },
   {
    "duration": 8,
    "start_time": "2023-04-11T14:49:52.873Z"
   },
   {
    "duration": 1384,
    "start_time": "2023-04-11T14:50:45.282Z"
   },
   {
    "duration": 27,
    "start_time": "2023-04-11T14:50:46.667Z"
   },
   {
    "duration": 42,
    "start_time": "2023-04-11T14:50:46.696Z"
   },
   {
    "duration": 5,
    "start_time": "2023-04-11T14:50:46.740Z"
   },
   {
    "duration": 13,
    "start_time": "2023-04-11T14:50:46.748Z"
   },
   {
    "duration": 319,
    "start_time": "2023-04-11T14:50:46.763Z"
   },
   {
    "duration": 6,
    "start_time": "2023-04-11T14:50:47.084Z"
   },
   {
    "duration": 7,
    "start_time": "2023-04-11T14:50:47.091Z"
   },
   {
    "duration": 7,
    "start_time": "2023-04-11T14:50:47.100Z"
   },
   {
    "duration": 6,
    "start_time": "2023-04-11T14:50:47.108Z"
   },
   {
    "duration": 5,
    "start_time": "2023-04-11T14:50:47.116Z"
   },
   {
    "duration": 28,
    "start_time": "2023-04-11T14:50:47.122Z"
   },
   {
    "duration": 11,
    "start_time": "2023-04-11T14:50:47.152Z"
   },
   {
    "duration": 5,
    "start_time": "2023-04-11T14:50:47.166Z"
   },
   {
    "duration": 23,
    "start_time": "2023-04-11T14:50:47.172Z"
   },
   {
    "duration": 9,
    "start_time": "2023-04-11T14:50:47.197Z"
   },
   {
    "duration": 56,
    "start_time": "2023-04-11T14:50:47.208Z"
   },
   {
    "duration": 85,
    "start_time": "2023-04-11T14:50:47.266Z"
   },
   {
    "duration": 99,
    "start_time": "2023-04-11T14:50:47.353Z"
   },
   {
    "duration": 102,
    "start_time": "2023-04-11T14:50:47.456Z"
   },
   {
    "duration": 90,
    "start_time": "2023-04-11T14:50:47.559Z"
   },
   {
    "duration": 8,
    "start_time": "2023-04-11T14:50:47.651Z"
   },
   {
    "duration": 96,
    "start_time": "2023-04-11T14:50:47.660Z"
   },
   {
    "duration": 11,
    "start_time": "2023-04-11T14:50:47.848Z"
   },
   {
    "duration": 12,
    "start_time": "2023-04-11T14:50:47.860Z"
   },
   {
    "duration": 177,
    "start_time": "2023-04-11T14:50:47.873Z"
   },
   {
    "duration": 2674,
    "start_time": "2023-04-11T16:37:42.160Z"
   },
   {
    "duration": 1661,
    "start_time": "2023-04-11T17:23:32.098Z"
   },
   {
    "duration": 107,
    "start_time": "2023-04-11T17:23:33.762Z"
   },
   {
    "duration": 55,
    "start_time": "2023-04-11T17:23:33.871Z"
   },
   {
    "duration": 5,
    "start_time": "2023-04-11T17:23:33.928Z"
   },
   {
    "duration": 5,
    "start_time": "2023-04-11T17:23:33.935Z"
   },
   {
    "duration": 392,
    "start_time": "2023-04-11T17:23:33.942Z"
   },
   {
    "duration": 6,
    "start_time": "2023-04-11T17:23:34.336Z"
   },
   {
    "duration": 21,
    "start_time": "2023-04-11T17:23:34.344Z"
   },
   {
    "duration": 19,
    "start_time": "2023-04-11T17:23:34.366Z"
   },
   {
    "duration": 6,
    "start_time": "2023-04-11T17:23:34.406Z"
   },
   {
    "duration": 15,
    "start_time": "2023-04-11T17:23:34.414Z"
   },
   {
    "duration": 16,
    "start_time": "2023-04-11T17:23:34.431Z"
   },
   {
    "duration": 17,
    "start_time": "2023-04-11T17:23:34.449Z"
   },
   {
    "duration": 39,
    "start_time": "2023-04-11T17:23:34.468Z"
   },
   {
    "duration": 8,
    "start_time": "2023-04-11T17:23:34.509Z"
   },
   {
    "duration": 9,
    "start_time": "2023-04-11T17:23:34.518Z"
   },
   {
    "duration": 48,
    "start_time": "2023-04-11T17:23:34.529Z"
   },
   {
    "duration": 14,
    "start_time": "2023-04-11T17:23:34.579Z"
   },
   {
    "duration": 114,
    "start_time": "2023-04-11T17:23:34.594Z"
   },
   {
    "duration": 171,
    "start_time": "2023-04-11T17:23:34.709Z"
   },
   {
    "duration": 24,
    "start_time": "2023-04-11T17:23:34.882Z"
   },
   {
    "duration": 6,
    "start_time": "2023-04-11T17:23:34.908Z"
   },
   {
    "duration": 72,
    "start_time": "2023-04-11T17:23:34.915Z"
   },
   {
    "duration": 123,
    "start_time": "2023-04-11T17:23:34.989Z"
   },
   {
    "duration": 166,
    "start_time": "2023-04-11T17:23:35.114Z"
   },
   {
    "duration": 93,
    "start_time": "2023-04-11T17:23:35.283Z"
   },
   {
    "duration": 1676,
    "start_time": "2023-04-11T17:24:29.294Z"
   },
   {
    "duration": 48,
    "start_time": "2023-04-11T17:24:30.979Z"
   },
   {
    "duration": 100,
    "start_time": "2023-04-11T17:24:31.029Z"
   },
   {
    "duration": 12,
    "start_time": "2023-04-11T17:24:31.131Z"
   },
   {
    "duration": 44,
    "start_time": "2023-04-11T17:24:31.145Z"
   },
   {
    "duration": 408,
    "start_time": "2023-04-11T17:24:31.190Z"
   },
   {
    "duration": 6,
    "start_time": "2023-04-11T17:24:31.600Z"
   },
   {
    "duration": 44,
    "start_time": "2023-04-11T17:24:31.607Z"
   },
   {
    "duration": 54,
    "start_time": "2023-04-11T17:24:31.652Z"
   },
   {
    "duration": 19,
    "start_time": "2023-04-11T17:24:31.707Z"
   },
   {
    "duration": 36,
    "start_time": "2023-04-11T17:24:31.728Z"
   },
   {
    "duration": 74,
    "start_time": "2023-04-11T17:24:31.765Z"
   },
   {
    "duration": 92,
    "start_time": "2023-04-11T17:24:31.840Z"
   },
   {
    "duration": 35,
    "start_time": "2023-04-11T17:24:31.934Z"
   },
   {
    "duration": 56,
    "start_time": "2023-04-11T17:24:31.975Z"
   },
   {
    "duration": 24,
    "start_time": "2023-04-11T17:24:32.033Z"
   },
   {
    "duration": 131,
    "start_time": "2023-04-11T17:24:32.062Z"
   },
   {
    "duration": 7,
    "start_time": "2023-04-11T17:24:32.196Z"
   },
   {
    "duration": 88,
    "start_time": "2023-04-11T17:24:32.205Z"
   },
   {
    "duration": 124,
    "start_time": "2023-04-11T17:24:32.295Z"
   },
   {
    "duration": 80,
    "start_time": "2023-04-11T17:24:32.420Z"
   },
   {
    "duration": 11,
    "start_time": "2023-04-11T17:24:32.501Z"
   },
   {
    "duration": 76,
    "start_time": "2023-04-11T17:24:32.513Z"
   },
   {
    "duration": 93,
    "start_time": "2023-04-11T17:24:32.590Z"
   },
   {
    "duration": 40,
    "start_time": "2023-04-11T17:24:32.684Z"
   },
   {
    "duration": 191,
    "start_time": "2023-04-11T17:24:32.728Z"
   },
   {
    "duration": 11,
    "start_time": "2023-04-11T17:26:00.599Z"
   },
   {
    "duration": 5,
    "start_time": "2023-04-11T17:26:01.339Z"
   },
   {
    "duration": 1618,
    "start_time": "2023-04-11T17:26:04.900Z"
   },
   {
    "duration": 30,
    "start_time": "2023-04-11T17:26:06.520Z"
   },
   {
    "duration": 68,
    "start_time": "2023-04-11T17:26:06.552Z"
   },
   {
    "duration": 6,
    "start_time": "2023-04-11T17:26:06.623Z"
   },
   {
    "duration": 8,
    "start_time": "2023-04-11T17:26:06.631Z"
   },
   {
    "duration": 325,
    "start_time": "2023-04-11T17:26:06.641Z"
   },
   {
    "duration": 15,
    "start_time": "2023-04-11T17:26:06.967Z"
   },
   {
    "duration": 28,
    "start_time": "2023-04-11T17:26:06.988Z"
   },
   {
    "duration": 7,
    "start_time": "2023-04-11T17:26:07.018Z"
   },
   {
    "duration": 5,
    "start_time": "2023-04-11T17:26:07.027Z"
   },
   {
    "duration": 8,
    "start_time": "2023-04-11T17:26:07.034Z"
   },
   {
    "duration": 6,
    "start_time": "2023-04-11T17:26:07.043Z"
   },
   {
    "duration": 13,
    "start_time": "2023-04-11T17:26:07.050Z"
   },
   {
    "duration": 5,
    "start_time": "2023-04-11T17:26:07.066Z"
   },
   {
    "duration": 42,
    "start_time": "2023-04-11T17:26:07.078Z"
   },
   {
    "duration": 8,
    "start_time": "2023-04-11T17:26:07.122Z"
   },
   {
    "duration": 10,
    "start_time": "2023-04-11T17:26:07.132Z"
   },
   {
    "duration": 53,
    "start_time": "2023-04-11T17:26:07.144Z"
   },
   {
    "duration": 106,
    "start_time": "2023-04-11T17:26:07.199Z"
   },
   {
    "duration": 10,
    "start_time": "2023-04-11T17:26:07.307Z"
   },
   {
    "duration": 19,
    "start_time": "2023-04-11T17:26:07.376Z"
   },
   {
    "duration": 79,
    "start_time": "2023-04-11T17:26:07.399Z"
   },
   {
    "duration": 10,
    "start_time": "2023-04-11T17:26:07.480Z"
   },
   {
    "duration": 119,
    "start_time": "2023-04-11T17:26:07.491Z"
   },
   {
    "duration": 15,
    "start_time": "2023-04-11T17:26:07.612Z"
   },
   {
    "duration": 71,
    "start_time": "2023-04-11T17:26:07.630Z"
   },
   {
    "duration": 1383,
    "start_time": "2023-04-11T17:28:51.624Z"
   },
   {
    "duration": 28,
    "start_time": "2023-04-11T17:28:53.015Z"
   },
   {
    "duration": 52,
    "start_time": "2023-04-11T17:28:53.045Z"
   },
   {
    "duration": 6,
    "start_time": "2023-04-11T17:28:53.098Z"
   },
   {
    "duration": 31,
    "start_time": "2023-04-11T17:28:53.106Z"
   },
   {
    "duration": 354,
    "start_time": "2023-04-11T17:28:53.139Z"
   },
   {
    "duration": 9,
    "start_time": "2023-04-11T17:28:53.494Z"
   },
   {
    "duration": 16,
    "start_time": "2023-04-11T17:28:53.506Z"
   },
   {
    "duration": 14,
    "start_time": "2023-04-11T17:28:53.523Z"
   },
   {
    "duration": 9,
    "start_time": "2023-04-11T17:28:53.538Z"
   },
   {
    "duration": 15,
    "start_time": "2023-04-11T17:28:53.549Z"
   },
   {
    "duration": 23,
    "start_time": "2023-04-11T17:28:53.566Z"
   },
   {
    "duration": 28,
    "start_time": "2023-04-11T17:28:53.592Z"
   },
   {
    "duration": 4,
    "start_time": "2023-04-11T17:28:53.623Z"
   },
   {
    "duration": 5,
    "start_time": "2023-04-11T17:28:53.628Z"
   },
   {
    "duration": 10,
    "start_time": "2023-04-11T17:28:53.634Z"
   },
   {
    "duration": 44,
    "start_time": "2023-04-11T17:28:53.646Z"
   },
   {
    "duration": 11,
    "start_time": "2023-04-11T17:28:53.698Z"
   },
   {
    "duration": 74,
    "start_time": "2023-04-11T17:28:53.711Z"
   },
   {
    "duration": 2,
    "start_time": "2023-04-11T17:28:53.787Z"
   },
   {
    "duration": 107,
    "start_time": "2023-04-11T17:28:53.790Z"
   },
   {
    "duration": 21,
    "start_time": "2023-04-11T17:28:53.899Z"
   },
   {
    "duration": 187,
    "start_time": "2023-04-11T17:28:53.922Z"
   },
   {
    "duration": 7,
    "start_time": "2023-04-11T17:28:54.111Z"
   },
   {
    "duration": 9,
    "start_time": "2023-04-11T17:28:54.120Z"
   },
   {
    "duration": 164,
    "start_time": "2023-04-11T17:28:54.131Z"
   },
   {
    "duration": 111,
    "start_time": "2023-04-11T17:32:31.708Z"
   },
   {
    "duration": 19,
    "start_time": "2023-04-11T17:32:39.366Z"
   },
   {
    "duration": 310,
    "start_time": "2023-04-11T17:32:47.693Z"
   },
   {
    "duration": 12,
    "start_time": "2023-04-11T17:35:13.397Z"
   },
   {
    "duration": 9,
    "start_time": "2023-04-11T17:35:21.499Z"
   },
   {
    "duration": 282,
    "start_time": "2023-04-11T17:35:26.010Z"
   },
   {
    "duration": 82,
    "start_time": "2023-04-11T17:37:05.201Z"
   },
   {
    "duration": 320,
    "start_time": "2023-04-11T17:37:13.468Z"
   },
   {
    "duration": 13,
    "start_time": "2023-04-11T17:37:24.670Z"
   },
   {
    "duration": 408,
    "start_time": "2023-04-11T17:37:29.903Z"
   },
   {
    "duration": 288,
    "start_time": "2023-04-11T17:37:35.557Z"
   },
   {
    "duration": 2123,
    "start_time": "2023-04-11T17:42:54.797Z"
   },
   {
    "duration": 0,
    "start_time": "2023-04-11T17:42:56.923Z"
   },
   {
    "duration": 0,
    "start_time": "2023-04-11T17:42:56.924Z"
   },
   {
    "duration": 0,
    "start_time": "2023-04-11T17:42:56.925Z"
   },
   {
    "duration": 0,
    "start_time": "2023-04-11T17:42:56.927Z"
   },
   {
    "duration": 0,
    "start_time": "2023-04-11T17:42:56.928Z"
   },
   {
    "duration": 0,
    "start_time": "2023-04-11T17:42:56.930Z"
   },
   {
    "duration": 0,
    "start_time": "2023-04-11T17:42:56.931Z"
   },
   {
    "duration": 0,
    "start_time": "2023-04-11T17:42:56.932Z"
   },
   {
    "duration": 0,
    "start_time": "2023-04-11T17:42:56.934Z"
   },
   {
    "duration": 0,
    "start_time": "2023-04-11T17:42:56.935Z"
   },
   {
    "duration": 0,
    "start_time": "2023-04-11T17:42:56.937Z"
   },
   {
    "duration": 0,
    "start_time": "2023-04-11T17:42:56.939Z"
   },
   {
    "duration": 0,
    "start_time": "2023-04-11T17:42:56.940Z"
   },
   {
    "duration": 0,
    "start_time": "2023-04-11T17:42:56.942Z"
   },
   {
    "duration": 0,
    "start_time": "2023-04-11T17:42:56.974Z"
   },
   {
    "duration": 0,
    "start_time": "2023-04-11T17:42:56.978Z"
   },
   {
    "duration": 0,
    "start_time": "2023-04-11T17:42:56.978Z"
   },
   {
    "duration": 0,
    "start_time": "2023-04-11T17:42:56.979Z"
   },
   {
    "duration": 0,
    "start_time": "2023-04-11T17:42:56.980Z"
   },
   {
    "duration": 0,
    "start_time": "2023-04-11T17:42:56.981Z"
   },
   {
    "duration": 0,
    "start_time": "2023-04-11T17:42:56.982Z"
   },
   {
    "duration": 0,
    "start_time": "2023-04-11T17:42:56.983Z"
   },
   {
    "duration": 0,
    "start_time": "2023-04-11T17:42:56.987Z"
   },
   {
    "duration": 0,
    "start_time": "2023-04-11T17:42:56.988Z"
   },
   {
    "duration": 0,
    "start_time": "2023-04-11T17:42:56.993Z"
   },
   {
    "duration": 0,
    "start_time": "2023-04-11T17:42:56.994Z"
   },
   {
    "duration": 1599,
    "start_time": "2023-04-11T17:43:19.065Z"
   },
   {
    "duration": 48,
    "start_time": "2023-04-11T17:43:20.666Z"
   },
   {
    "duration": 37,
    "start_time": "2023-04-11T17:43:20.716Z"
   },
   {
    "duration": 4,
    "start_time": "2023-04-11T17:43:20.754Z"
   },
   {
    "duration": 8,
    "start_time": "2023-04-11T17:43:20.759Z"
   },
   {
    "duration": 171,
    "start_time": "2023-04-11T17:43:20.768Z"
   },
   {
    "duration": 0,
    "start_time": "2023-04-11T17:43:20.942Z"
   },
   {
    "duration": 0,
    "start_time": "2023-04-11T17:43:20.944Z"
   },
   {
    "duration": 0,
    "start_time": "2023-04-11T17:43:20.945Z"
   },
   {
    "duration": 0,
    "start_time": "2023-04-11T17:43:20.947Z"
   },
   {
    "duration": 0,
    "start_time": "2023-04-11T17:43:20.948Z"
   },
   {
    "duration": 0,
    "start_time": "2023-04-11T17:43:20.949Z"
   },
   {
    "duration": 0,
    "start_time": "2023-04-11T17:43:20.950Z"
   },
   {
    "duration": 0,
    "start_time": "2023-04-11T17:43:20.950Z"
   },
   {
    "duration": 0,
    "start_time": "2023-04-11T17:43:20.953Z"
   },
   {
    "duration": 1,
    "start_time": "2023-04-11T17:43:20.954Z"
   },
   {
    "duration": 0,
    "start_time": "2023-04-11T17:43:20.955Z"
   },
   {
    "duration": 0,
    "start_time": "2023-04-11T17:43:20.956Z"
   },
   {
    "duration": 0,
    "start_time": "2023-04-11T17:43:20.957Z"
   },
   {
    "duration": 0,
    "start_time": "2023-04-11T17:43:20.958Z"
   },
   {
    "duration": 0,
    "start_time": "2023-04-11T17:43:20.959Z"
   },
   {
    "duration": 0,
    "start_time": "2023-04-11T17:43:20.960Z"
   },
   {
    "duration": 0,
    "start_time": "2023-04-11T17:43:20.961Z"
   },
   {
    "duration": 0,
    "start_time": "2023-04-11T17:43:20.962Z"
   },
   {
    "duration": 0,
    "start_time": "2023-04-11T17:43:20.963Z"
   },
   {
    "duration": 0,
    "start_time": "2023-04-11T17:43:20.964Z"
   },
   {
    "duration": 2783,
    "start_time": "2023-04-11T17:43:35.414Z"
   },
   {
    "duration": 9,
    "start_time": "2023-04-11T17:43:52.115Z"
   },
   {
    "duration": 2674,
    "start_time": "2023-04-11T17:43:58.548Z"
   },
   {
    "duration": 357,
    "start_time": "2023-04-11T17:44:44.548Z"
   },
   {
    "duration": 1387,
    "start_time": "2023-04-11T17:44:49.902Z"
   },
   {
    "duration": 38,
    "start_time": "2023-04-11T17:44:51.298Z"
   },
   {
    "duration": 60,
    "start_time": "2023-04-11T17:44:51.337Z"
   },
   {
    "duration": 6,
    "start_time": "2023-04-11T17:44:51.410Z"
   },
   {
    "duration": 38,
    "start_time": "2023-04-11T17:44:51.418Z"
   },
   {
    "duration": 335,
    "start_time": "2023-04-11T17:44:51.458Z"
   },
   {
    "duration": 7,
    "start_time": "2023-04-11T17:44:51.794Z"
   },
   {
    "duration": 43,
    "start_time": "2023-04-11T17:44:51.802Z"
   },
   {
    "duration": 64,
    "start_time": "2023-04-11T17:44:51.847Z"
   },
   {
    "duration": 29,
    "start_time": "2023-04-11T17:44:51.912Z"
   },
   {
    "duration": 76,
    "start_time": "2023-04-11T17:44:51.942Z"
   },
   {
    "duration": 35,
    "start_time": "2023-04-11T17:44:52.020Z"
   },
   {
    "duration": 63,
    "start_time": "2023-04-11T17:44:52.056Z"
   },
   {
    "duration": 12,
    "start_time": "2023-04-11T17:44:52.122Z"
   },
   {
    "duration": 30,
    "start_time": "2023-04-11T17:44:52.135Z"
   },
   {
    "duration": 53,
    "start_time": "2023-04-11T17:44:52.167Z"
   },
   {
    "duration": 16,
    "start_time": "2023-04-11T17:44:52.221Z"
   },
   {
    "duration": 50,
    "start_time": "2023-04-11T17:44:52.239Z"
   },
   {
    "duration": 291,
    "start_time": "2023-04-11T17:44:52.290Z"
   },
   {
    "duration": 9,
    "start_time": "2023-04-11T17:44:52.584Z"
   },
   {
    "duration": 27,
    "start_time": "2023-04-11T17:44:52.594Z"
   },
   {
    "duration": 66,
    "start_time": "2023-04-11T17:44:52.623Z"
   },
   {
    "duration": 9,
    "start_time": "2023-04-11T17:44:52.696Z"
   },
   {
    "duration": 79,
    "start_time": "2023-04-11T17:44:52.706Z"
   },
   {
    "duration": 85,
    "start_time": "2023-04-11T17:44:52.789Z"
   },
   {
    "duration": 156,
    "start_time": "2023-04-11T17:44:52.875Z"
   },
   {
    "duration": 129,
    "start_time": "2023-04-11T17:47:13.028Z"
   },
   {
    "duration": 2042,
    "start_time": "2023-04-11T17:47:32.418Z"
   },
   {
    "duration": 300,
    "start_time": "2023-04-11T17:47:43.106Z"
   },
   {
    "duration": 1722,
    "start_time": "2023-04-11T17:49:57.132Z"
   },
   {
    "duration": 1795,
    "start_time": "2023-04-11T17:50:20.106Z"
   },
   {
    "duration": 1614,
    "start_time": "2023-04-11T17:50:52.067Z"
   },
   {
    "duration": 281,
    "start_time": "2023-04-11T17:51:01.620Z"
   },
   {
    "duration": 1369,
    "start_time": "2023-04-11T17:51:17.768Z"
   },
   {
    "duration": 3,
    "start_time": "2023-04-11T17:51:59.241Z"
   },
   {
    "duration": 243,
    "start_time": "2023-04-11T17:52:04.533Z"
   },
   {
    "duration": 9,
    "start_time": "2023-04-11T17:52:26.900Z"
   },
   {
    "duration": 281,
    "start_time": "2023-04-11T17:52:27.424Z"
   },
   {
    "duration": 1604,
    "start_time": "2023-04-11T17:52:35.192Z"
   },
   {
    "duration": 29,
    "start_time": "2023-04-11T17:52:36.812Z"
   },
   {
    "duration": 68,
    "start_time": "2023-04-11T17:52:36.842Z"
   },
   {
    "duration": 5,
    "start_time": "2023-04-11T17:52:36.912Z"
   },
   {
    "duration": 6,
    "start_time": "2023-04-11T17:52:36.919Z"
   },
   {
    "duration": 4,
    "start_time": "2023-04-11T17:52:36.926Z"
   },
   {
    "duration": 283,
    "start_time": "2023-04-11T17:52:36.931Z"
   },
   {
    "duration": 6,
    "start_time": "2023-04-11T17:52:37.216Z"
   },
   {
    "duration": 8,
    "start_time": "2023-04-11T17:52:37.225Z"
   },
   {
    "duration": 6,
    "start_time": "2023-04-11T17:52:37.235Z"
   },
   {
    "duration": 6,
    "start_time": "2023-04-11T17:52:37.242Z"
   },
   {
    "duration": 8,
    "start_time": "2023-04-11T17:52:37.250Z"
   },
   {
    "duration": 42,
    "start_time": "2023-04-11T17:52:37.259Z"
   },
   {
    "duration": 14,
    "start_time": "2023-04-11T17:52:37.310Z"
   },
   {
    "duration": 6,
    "start_time": "2023-04-11T17:52:37.325Z"
   },
   {
    "duration": 6,
    "start_time": "2023-04-11T17:52:37.332Z"
   },
   {
    "duration": 7,
    "start_time": "2023-04-11T17:52:37.339Z"
   },
   {
    "duration": 49,
    "start_time": "2023-04-11T17:52:37.347Z"
   },
   {
    "duration": 12,
    "start_time": "2023-04-11T17:52:37.410Z"
   },
   {
    "duration": 55,
    "start_time": "2023-04-11T17:52:37.471Z"
   },
   {
    "duration": 120,
    "start_time": "2023-04-11T17:52:37.590Z"
   },
   {
    "duration": 6,
    "start_time": "2023-04-11T17:52:37.711Z"
   },
   {
    "duration": 9,
    "start_time": "2023-04-11T17:52:37.719Z"
   },
   {
    "duration": 178,
    "start_time": "2023-04-11T17:52:37.729Z"
   },
   {
    "duration": 23,
    "start_time": "2023-04-11T17:52:37.909Z"
   },
   {
    "duration": 13,
    "start_time": "2023-04-11T17:52:37.933Z"
   },
   {
    "duration": 199,
    "start_time": "2023-04-11T17:52:37.948Z"
   }
  ],
  "kernelspec": {
   "display_name": "Python 3 (ipykernel)",
   "language": "python",
   "name": "python3"
  },
  "language_info": {
   "codemirror_mode": {
    "name": "ipython",
    "version": 3
   },
   "file_extension": ".py",
   "mimetype": "text/x-python",
   "name": "python",
   "nbconvert_exporter": "python",
   "pygments_lexer": "ipython3",
   "version": "3.10.9"
  },
  "toc": {
   "base_numbering": 1,
   "nav_menu": {},
   "number_sections": true,
   "sideBar": true,
   "skip_h1_title": true,
   "title_cell": "Содержание",
   "title_sidebar": "Contents",
   "toc_cell": true,
   "toc_position": {
    "height": "calc(100% - 180px)",
    "left": "10px",
    "top": "150px",
    "width": "165px"
   },
   "toc_section_display": true,
   "toc_window_display": true
  }
 },
 "nbformat": 4,
 "nbformat_minor": 2
}
