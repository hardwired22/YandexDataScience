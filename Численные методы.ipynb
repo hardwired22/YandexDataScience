{
 "cells": [
  {
   "cell_type": "markdown",
   "metadata": {},
   "source": [
    "# Определение стоимости автомобилей"
   ]
  },
  {
   "cell_type": "markdown",
   "metadata": {},
   "source": [
    "Сервис по продаже автомобилей с пробегом «Не бит, не крашен» разрабатывает приложение для привлечения новых клиентов. В нём можно быстро узнать рыночную стоимость своего автомобиля. В вашем распоряжении исторические данные: технические характеристики, комплектации и цены автомобилей. Вам нужно построить модель для определения стоимости. \n",
    "\n",
    "Заказчику важны:\n",
    "\n",
    "- качество предсказания;\n",
    "- скорость предсказания;\n",
    "- время обучения."
   ]
  },
  {
   "cell_type": "markdown",
   "metadata": {},
   "source": [
    "Цель проекта узнать рыночную стоимость автомобиля основываясь на данные\n",
    "\n",
    "Задача с помощью разных моделей найти  оптимальную модель с лучшим временем обучения и предсказания.\n",
    "\n",
    "Признаки\n",
    "\n",
    "DateCrawled — дата скачивания анкеты из базы\n",
    "\n",
    "VehicleType — тип автомобильного кузова\n",
    "\n",
    "RegistrationYear — год регистрации автомобиля\n",
    "\n",
    "Gearbox — тип коробки передач\n",
    "\n",
    "Power — мощность (л. с.)\n",
    "\n",
    "Model — модель автомобиля\n",
    "\n",
    "Kilometer — пробег (км)\n",
    "\n",
    "RegistrationMonth — месяц регистрации автомобиля\n",
    "\n",
    "FuelType — тип топлива\n",
    "\n",
    "Brand — марка автомобиля\n",
    "\n",
    "Repaired — была машина в ремонте или нет\n",
    "\n",
    "DateCreated — дата создания анкеты\n",
    "\n",
    "NumberOfPictures — количество фотографий автомобиля\n",
    "\n",
    "PostalCode — почтовый индекс владельца анкеты (пользователя)\n",
    "\n",
    "LastSeen — дата последней активности пользователя\n",
    "\n",
    "Целевой признак\n",
    "\n",
    "Price — цена (евро)"
   ]
  },
  {
   "cell_type": "markdown",
   "metadata": {},
   "source": [
    "## Подготовка данных"
   ]
  },
  {
   "cell_type": "code",
   "execution_count": 1,
   "metadata": {},
   "outputs": [],
   "source": [
    "import pandas as pd\n",
    "import warnings \n",
    "warnings.filterwarnings('ignore')\n",
    "import seaborn as sns\n",
    "import matplotlib.pyplot as plt\n",
    "from sklearn.model_selection import train_test_split\n",
    "from catboost import CatBoostRegressor\n",
    "import time\n",
    "from sklearn.model_selection import train_test_split, KFold, GridSearchCV\n",
    "from sklearn.tree import DecisionTreeRegressor\n",
    "from sklearn.metrics import mean_squared_error as mse, make_scorer\n",
    "from sklearn.linear_model import LinearRegression\n",
    "from sklearn.preprocessing import StandardScaler\n",
    "from lightgbm import LGBMRegressor\n",
    "from sklearn.preprocessing import OrdinalEncoder\n",
    "from sklearn.metrics import mean_squared_error"
   ]
  },
  {
   "cell_type": "code",
   "execution_count": 2,
   "metadata": {},
   "outputs": [],
   "source": [
    "df = pd.read_csv('/datasets/autos.csv')\n",
    "dirty = pd.read_csv('/datasets/autos.csv')"
   ]
  },
  {
   "cell_type": "code",
   "execution_count": 3,
   "metadata": {},
   "outputs": [
    {
     "name": "stdout",
     "output_type": "stream",
     "text": [
      "<class 'pandas.core.frame.DataFrame'>\n",
      "RangeIndex: 354369 entries, 0 to 354368\n",
      "Data columns (total 16 columns):\n",
      " #   Column             Non-Null Count   Dtype \n",
      "---  ------             --------------   ----- \n",
      " 0   DateCrawled        354369 non-null  object\n",
      " 1   Price              354369 non-null  int64 \n",
      " 2   VehicleType        316879 non-null  object\n",
      " 3   RegistrationYear   354369 non-null  int64 \n",
      " 4   Gearbox            334536 non-null  object\n",
      " 5   Power              354369 non-null  int64 \n",
      " 6   Model              334664 non-null  object\n",
      " 7   Kilometer          354369 non-null  int64 \n",
      " 8   RegistrationMonth  354369 non-null  int64 \n",
      " 9   FuelType           321474 non-null  object\n",
      " 10  Brand              354369 non-null  object\n",
      " 11  Repaired           283215 non-null  object\n",
      " 12  DateCreated        354369 non-null  object\n",
      " 13  NumberOfPictures   354369 non-null  int64 \n",
      " 14  PostalCode         354369 non-null  int64 \n",
      " 15  LastSeen           354369 non-null  object\n",
      "dtypes: int64(7), object(9)\n",
      "memory usage: 43.3+ MB\n"
     ]
    }
   ],
   "source": [
    "df.info()"
   ]
  },
  {
   "cell_type": "code",
   "execution_count": 4,
   "metadata": {},
   "outputs": [
    {
     "data": {
      "text/html": [
       "<div>\n",
       "<style scoped>\n",
       "    .dataframe tbody tr th:only-of-type {\n",
       "        vertical-align: middle;\n",
       "    }\n",
       "\n",
       "    .dataframe tbody tr th {\n",
       "        vertical-align: top;\n",
       "    }\n",
       "\n",
       "    .dataframe thead th {\n",
       "        text-align: right;\n",
       "    }\n",
       "</style>\n",
       "<table border=\"1\" class=\"dataframe\">\n",
       "  <thead>\n",
       "    <tr style=\"text-align: right;\">\n",
       "      <th></th>\n",
       "      <th>DateCrawled</th>\n",
       "      <th>Price</th>\n",
       "      <th>VehicleType</th>\n",
       "      <th>RegistrationYear</th>\n",
       "      <th>Gearbox</th>\n",
       "      <th>Power</th>\n",
       "      <th>Model</th>\n",
       "      <th>Kilometer</th>\n",
       "      <th>RegistrationMonth</th>\n",
       "      <th>FuelType</th>\n",
       "      <th>Brand</th>\n",
       "      <th>Repaired</th>\n",
       "      <th>DateCreated</th>\n",
       "      <th>NumberOfPictures</th>\n",
       "      <th>PostalCode</th>\n",
       "      <th>LastSeen</th>\n",
       "    </tr>\n",
       "  </thead>\n",
       "  <tbody>\n",
       "    <tr>\n",
       "      <th>0</th>\n",
       "      <td>2016-03-24 11:52:17</td>\n",
       "      <td>480</td>\n",
       "      <td>NaN</td>\n",
       "      <td>1993</td>\n",
       "      <td>manual</td>\n",
       "      <td>0</td>\n",
       "      <td>golf</td>\n",
       "      <td>150000</td>\n",
       "      <td>0</td>\n",
       "      <td>petrol</td>\n",
       "      <td>volkswagen</td>\n",
       "      <td>NaN</td>\n",
       "      <td>2016-03-24 00:00:00</td>\n",
       "      <td>0</td>\n",
       "      <td>70435</td>\n",
       "      <td>2016-04-07 03:16:57</td>\n",
       "    </tr>\n",
       "    <tr>\n",
       "      <th>1</th>\n",
       "      <td>2016-03-24 10:58:45</td>\n",
       "      <td>18300</td>\n",
       "      <td>coupe</td>\n",
       "      <td>2011</td>\n",
       "      <td>manual</td>\n",
       "      <td>190</td>\n",
       "      <td>NaN</td>\n",
       "      <td>125000</td>\n",
       "      <td>5</td>\n",
       "      <td>gasoline</td>\n",
       "      <td>audi</td>\n",
       "      <td>yes</td>\n",
       "      <td>2016-03-24 00:00:00</td>\n",
       "      <td>0</td>\n",
       "      <td>66954</td>\n",
       "      <td>2016-04-07 01:46:50</td>\n",
       "    </tr>\n",
       "    <tr>\n",
       "      <th>2</th>\n",
       "      <td>2016-03-14 12:52:21</td>\n",
       "      <td>9800</td>\n",
       "      <td>suv</td>\n",
       "      <td>2004</td>\n",
       "      <td>auto</td>\n",
       "      <td>163</td>\n",
       "      <td>grand</td>\n",
       "      <td>125000</td>\n",
       "      <td>8</td>\n",
       "      <td>gasoline</td>\n",
       "      <td>jeep</td>\n",
       "      <td>NaN</td>\n",
       "      <td>2016-03-14 00:00:00</td>\n",
       "      <td>0</td>\n",
       "      <td>90480</td>\n",
       "      <td>2016-04-05 12:47:46</td>\n",
       "    </tr>\n",
       "    <tr>\n",
       "      <th>3</th>\n",
       "      <td>2016-03-17 16:54:04</td>\n",
       "      <td>1500</td>\n",
       "      <td>small</td>\n",
       "      <td>2001</td>\n",
       "      <td>manual</td>\n",
       "      <td>75</td>\n",
       "      <td>golf</td>\n",
       "      <td>150000</td>\n",
       "      <td>6</td>\n",
       "      <td>petrol</td>\n",
       "      <td>volkswagen</td>\n",
       "      <td>no</td>\n",
       "      <td>2016-03-17 00:00:00</td>\n",
       "      <td>0</td>\n",
       "      <td>91074</td>\n",
       "      <td>2016-03-17 17:40:17</td>\n",
       "    </tr>\n",
       "    <tr>\n",
       "      <th>4</th>\n",
       "      <td>2016-03-31 17:25:20</td>\n",
       "      <td>3600</td>\n",
       "      <td>small</td>\n",
       "      <td>2008</td>\n",
       "      <td>manual</td>\n",
       "      <td>69</td>\n",
       "      <td>fabia</td>\n",
       "      <td>90000</td>\n",
       "      <td>7</td>\n",
       "      <td>gasoline</td>\n",
       "      <td>skoda</td>\n",
       "      <td>no</td>\n",
       "      <td>2016-03-31 00:00:00</td>\n",
       "      <td>0</td>\n",
       "      <td>60437</td>\n",
       "      <td>2016-04-06 10:17:21</td>\n",
       "    </tr>\n",
       "    <tr>\n",
       "      <th>...</th>\n",
       "      <td>...</td>\n",
       "      <td>...</td>\n",
       "      <td>...</td>\n",
       "      <td>...</td>\n",
       "      <td>...</td>\n",
       "      <td>...</td>\n",
       "      <td>...</td>\n",
       "      <td>...</td>\n",
       "      <td>...</td>\n",
       "      <td>...</td>\n",
       "      <td>...</td>\n",
       "      <td>...</td>\n",
       "      <td>...</td>\n",
       "      <td>...</td>\n",
       "      <td>...</td>\n",
       "      <td>...</td>\n",
       "    </tr>\n",
       "    <tr>\n",
       "      <th>354364</th>\n",
       "      <td>2016-03-21 09:50:58</td>\n",
       "      <td>0</td>\n",
       "      <td>NaN</td>\n",
       "      <td>2005</td>\n",
       "      <td>manual</td>\n",
       "      <td>0</td>\n",
       "      <td>colt</td>\n",
       "      <td>150000</td>\n",
       "      <td>7</td>\n",
       "      <td>petrol</td>\n",
       "      <td>mitsubishi</td>\n",
       "      <td>yes</td>\n",
       "      <td>2016-03-21 00:00:00</td>\n",
       "      <td>0</td>\n",
       "      <td>2694</td>\n",
       "      <td>2016-03-21 10:42:49</td>\n",
       "    </tr>\n",
       "    <tr>\n",
       "      <th>354365</th>\n",
       "      <td>2016-03-14 17:48:27</td>\n",
       "      <td>2200</td>\n",
       "      <td>NaN</td>\n",
       "      <td>2005</td>\n",
       "      <td>NaN</td>\n",
       "      <td>0</td>\n",
       "      <td>NaN</td>\n",
       "      <td>20000</td>\n",
       "      <td>1</td>\n",
       "      <td>NaN</td>\n",
       "      <td>sonstige_autos</td>\n",
       "      <td>NaN</td>\n",
       "      <td>2016-03-14 00:00:00</td>\n",
       "      <td>0</td>\n",
       "      <td>39576</td>\n",
       "      <td>2016-04-06 00:46:52</td>\n",
       "    </tr>\n",
       "    <tr>\n",
       "      <th>354366</th>\n",
       "      <td>2016-03-05 19:56:21</td>\n",
       "      <td>1199</td>\n",
       "      <td>convertible</td>\n",
       "      <td>2000</td>\n",
       "      <td>auto</td>\n",
       "      <td>101</td>\n",
       "      <td>fortwo</td>\n",
       "      <td>125000</td>\n",
       "      <td>3</td>\n",
       "      <td>petrol</td>\n",
       "      <td>smart</td>\n",
       "      <td>no</td>\n",
       "      <td>2016-03-05 00:00:00</td>\n",
       "      <td>0</td>\n",
       "      <td>26135</td>\n",
       "      <td>2016-03-11 18:17:12</td>\n",
       "    </tr>\n",
       "    <tr>\n",
       "      <th>354367</th>\n",
       "      <td>2016-03-19 18:57:12</td>\n",
       "      <td>9200</td>\n",
       "      <td>bus</td>\n",
       "      <td>1996</td>\n",
       "      <td>manual</td>\n",
       "      <td>102</td>\n",
       "      <td>transporter</td>\n",
       "      <td>150000</td>\n",
       "      <td>3</td>\n",
       "      <td>gasoline</td>\n",
       "      <td>volkswagen</td>\n",
       "      <td>no</td>\n",
       "      <td>2016-03-19 00:00:00</td>\n",
       "      <td>0</td>\n",
       "      <td>87439</td>\n",
       "      <td>2016-04-07 07:15:26</td>\n",
       "    </tr>\n",
       "    <tr>\n",
       "      <th>354368</th>\n",
       "      <td>2016-03-20 19:41:08</td>\n",
       "      <td>3400</td>\n",
       "      <td>wagon</td>\n",
       "      <td>2002</td>\n",
       "      <td>manual</td>\n",
       "      <td>100</td>\n",
       "      <td>golf</td>\n",
       "      <td>150000</td>\n",
       "      <td>6</td>\n",
       "      <td>gasoline</td>\n",
       "      <td>volkswagen</td>\n",
       "      <td>NaN</td>\n",
       "      <td>2016-03-20 00:00:00</td>\n",
       "      <td>0</td>\n",
       "      <td>40764</td>\n",
       "      <td>2016-03-24 12:45:21</td>\n",
       "    </tr>\n",
       "  </tbody>\n",
       "</table>\n",
       "<p>354369 rows × 16 columns</p>\n",
       "</div>"
      ],
      "text/plain": [
       "                DateCrawled  Price  VehicleType  RegistrationYear Gearbox  \\\n",
       "0       2016-03-24 11:52:17    480          NaN              1993  manual   \n",
       "1       2016-03-24 10:58:45  18300        coupe              2011  manual   \n",
       "2       2016-03-14 12:52:21   9800          suv              2004    auto   \n",
       "3       2016-03-17 16:54:04   1500        small              2001  manual   \n",
       "4       2016-03-31 17:25:20   3600        small              2008  manual   \n",
       "...                     ...    ...          ...               ...     ...   \n",
       "354364  2016-03-21 09:50:58      0          NaN              2005  manual   \n",
       "354365  2016-03-14 17:48:27   2200          NaN              2005     NaN   \n",
       "354366  2016-03-05 19:56:21   1199  convertible              2000    auto   \n",
       "354367  2016-03-19 18:57:12   9200          bus              1996  manual   \n",
       "354368  2016-03-20 19:41:08   3400        wagon              2002  manual   \n",
       "\n",
       "        Power        Model  Kilometer  RegistrationMonth  FuelType  \\\n",
       "0           0         golf     150000                  0    petrol   \n",
       "1         190          NaN     125000                  5  gasoline   \n",
       "2         163        grand     125000                  8  gasoline   \n",
       "3          75         golf     150000                  6    petrol   \n",
       "4          69        fabia      90000                  7  gasoline   \n",
       "...       ...          ...        ...                ...       ...   \n",
       "354364      0         colt     150000                  7    petrol   \n",
       "354365      0          NaN      20000                  1       NaN   \n",
       "354366    101       fortwo     125000                  3    petrol   \n",
       "354367    102  transporter     150000                  3  gasoline   \n",
       "354368    100         golf     150000                  6  gasoline   \n",
       "\n",
       "                 Brand Repaired          DateCreated  NumberOfPictures  \\\n",
       "0           volkswagen      NaN  2016-03-24 00:00:00                 0   \n",
       "1                 audi      yes  2016-03-24 00:00:00                 0   \n",
       "2                 jeep      NaN  2016-03-14 00:00:00                 0   \n",
       "3           volkswagen       no  2016-03-17 00:00:00                 0   \n",
       "4                skoda       no  2016-03-31 00:00:00                 0   \n",
       "...                ...      ...                  ...               ...   \n",
       "354364      mitsubishi      yes  2016-03-21 00:00:00                 0   \n",
       "354365  sonstige_autos      NaN  2016-03-14 00:00:00                 0   \n",
       "354366           smart       no  2016-03-05 00:00:00                 0   \n",
       "354367      volkswagen       no  2016-03-19 00:00:00                 0   \n",
       "354368      volkswagen      NaN  2016-03-20 00:00:00                 0   \n",
       "\n",
       "        PostalCode             LastSeen  \n",
       "0            70435  2016-04-07 03:16:57  \n",
       "1            66954  2016-04-07 01:46:50  \n",
       "2            90480  2016-04-05 12:47:46  \n",
       "3            91074  2016-03-17 17:40:17  \n",
       "4            60437  2016-04-06 10:17:21  \n",
       "...            ...                  ...  \n",
       "354364        2694  2016-03-21 10:42:49  \n",
       "354365       39576  2016-04-06 00:46:52  \n",
       "354366       26135  2016-03-11 18:17:12  \n",
       "354367       87439  2016-04-07 07:15:26  \n",
       "354368       40764  2016-03-24 12:45:21  \n",
       "\n",
       "[354369 rows x 16 columns]"
      ]
     },
     "execution_count": 4,
     "metadata": {},
     "output_type": "execute_result"
    }
   ],
   "source": [
    "df"
   ]
  },
  {
   "cell_type": "code",
   "execution_count": 5,
   "metadata": {},
   "outputs": [
    {
     "data": {
      "text/plain": [
       "DateCrawled              0\n",
       "Price                    0\n",
       "VehicleType          37490\n",
       "RegistrationYear         0\n",
       "Gearbox              19833\n",
       "Power                    0\n",
       "Model                19705\n",
       "Kilometer                0\n",
       "RegistrationMonth        0\n",
       "FuelType             32895\n",
       "Brand                    0\n",
       "Repaired             71154\n",
       "DateCreated              0\n",
       "NumberOfPictures         0\n",
       "PostalCode               0\n",
       "LastSeen                 0\n",
       "dtype: int64"
      ]
     },
     "execution_count": 5,
     "metadata": {},
     "output_type": "execute_result"
    }
   ],
   "source": [
    "df.isna().sum()"
   ]
  },
  {
   "cell_type": "code",
   "execution_count": 6,
   "metadata": {},
   "outputs": [],
   "source": [
    "column_names = ['Brand','Model','FuelType','RegistrationYear','Price','Gearbox','Power','Kilometer','Repaired','RegistrationMonth','VehicleType']\n",
    "df = df.reindex(columns=column_names)"
   ]
  },
  {
   "cell_type": "code",
   "execution_count": 7,
   "metadata": {},
   "outputs": [],
   "source": [
    "df['Repaired'] = df['Repaired'].map({'yes':1, 'no':0})"
   ]
  },
  {
   "cell_type": "code",
   "execution_count": 8,
   "metadata": {},
   "outputs": [],
   "source": [
    "df['Repaired'] = df['Repaired'].fillna(0)"
   ]
  },
  {
   "cell_type": "code",
   "execution_count": 9,
   "metadata": {},
   "outputs": [],
   "source": [
    "df['Repaired'] = df['Repaired'].astype('int64')"
   ]
  },
  {
   "cell_type": "markdown",
   "metadata": {},
   "source": [
    "Убираем ненужные колонки"
   ]
  },
  {
   "cell_type": "code",
   "execution_count": 10,
   "metadata": {},
   "outputs": [
    {
     "data": {
      "text/plain": [
       "array([0, 1])"
      ]
     },
     "execution_count": 10,
     "metadata": {},
     "output_type": "execute_result"
    }
   ],
   "source": [
    "df['Repaired'].unique()"
   ]
  },
  {
   "cell_type": "markdown",
   "metadata": {},
   "source": [
    "Меняем все Nan на unknown во все колонках"
   ]
  },
  {
   "cell_type": "code",
   "execution_count": 11,
   "metadata": {},
   "outputs": [
    {
     "data": {
      "text/html": [
       "<div>\n",
       "<style scoped>\n",
       "    .dataframe tbody tr th:only-of-type {\n",
       "        vertical-align: middle;\n",
       "    }\n",
       "\n",
       "    .dataframe tbody tr th {\n",
       "        vertical-align: top;\n",
       "    }\n",
       "\n",
       "    .dataframe thead th {\n",
       "        text-align: right;\n",
       "    }\n",
       "</style>\n",
       "<table border=\"1\" class=\"dataframe\">\n",
       "  <thead>\n",
       "    <tr style=\"text-align: right;\">\n",
       "      <th></th>\n",
       "      <th>Brand</th>\n",
       "      <th>Model</th>\n",
       "      <th>FuelType</th>\n",
       "      <th>RegistrationYear</th>\n",
       "      <th>Price</th>\n",
       "      <th>Gearbox</th>\n",
       "      <th>Power</th>\n",
       "      <th>Kilometer</th>\n",
       "      <th>Repaired</th>\n",
       "      <th>RegistrationMonth</th>\n",
       "      <th>VehicleType</th>\n",
       "    </tr>\n",
       "  </thead>\n",
       "  <tbody>\n",
       "    <tr>\n",
       "      <th>0</th>\n",
       "      <td>volkswagen</td>\n",
       "      <td>golf</td>\n",
       "      <td>petrol</td>\n",
       "      <td>1993</td>\n",
       "      <td>480</td>\n",
       "      <td>manual</td>\n",
       "      <td>0</td>\n",
       "      <td>150000</td>\n",
       "      <td>0</td>\n",
       "      <td>0</td>\n",
       "      <td>NaN</td>\n",
       "    </tr>\n",
       "    <tr>\n",
       "      <th>1</th>\n",
       "      <td>audi</td>\n",
       "      <td>NaN</td>\n",
       "      <td>gasoline</td>\n",
       "      <td>2011</td>\n",
       "      <td>18300</td>\n",
       "      <td>manual</td>\n",
       "      <td>190</td>\n",
       "      <td>125000</td>\n",
       "      <td>1</td>\n",
       "      <td>5</td>\n",
       "      <td>coupe</td>\n",
       "    </tr>\n",
       "    <tr>\n",
       "      <th>2</th>\n",
       "      <td>jeep</td>\n",
       "      <td>grand</td>\n",
       "      <td>gasoline</td>\n",
       "      <td>2004</td>\n",
       "      <td>9800</td>\n",
       "      <td>auto</td>\n",
       "      <td>163</td>\n",
       "      <td>125000</td>\n",
       "      <td>0</td>\n",
       "      <td>8</td>\n",
       "      <td>suv</td>\n",
       "    </tr>\n",
       "    <tr>\n",
       "      <th>3</th>\n",
       "      <td>volkswagen</td>\n",
       "      <td>golf</td>\n",
       "      <td>petrol</td>\n",
       "      <td>2001</td>\n",
       "      <td>1500</td>\n",
       "      <td>manual</td>\n",
       "      <td>75</td>\n",
       "      <td>150000</td>\n",
       "      <td>0</td>\n",
       "      <td>6</td>\n",
       "      <td>small</td>\n",
       "    </tr>\n",
       "    <tr>\n",
       "      <th>4</th>\n",
       "      <td>skoda</td>\n",
       "      <td>fabia</td>\n",
       "      <td>gasoline</td>\n",
       "      <td>2008</td>\n",
       "      <td>3600</td>\n",
       "      <td>manual</td>\n",
       "      <td>69</td>\n",
       "      <td>90000</td>\n",
       "      <td>0</td>\n",
       "      <td>7</td>\n",
       "      <td>small</td>\n",
       "    </tr>\n",
       "    <tr>\n",
       "      <th>...</th>\n",
       "      <td>...</td>\n",
       "      <td>...</td>\n",
       "      <td>...</td>\n",
       "      <td>...</td>\n",
       "      <td>...</td>\n",
       "      <td>...</td>\n",
       "      <td>...</td>\n",
       "      <td>...</td>\n",
       "      <td>...</td>\n",
       "      <td>...</td>\n",
       "      <td>...</td>\n",
       "    </tr>\n",
       "    <tr>\n",
       "      <th>354364</th>\n",
       "      <td>mitsubishi</td>\n",
       "      <td>colt</td>\n",
       "      <td>petrol</td>\n",
       "      <td>2005</td>\n",
       "      <td>0</td>\n",
       "      <td>manual</td>\n",
       "      <td>0</td>\n",
       "      <td>150000</td>\n",
       "      <td>1</td>\n",
       "      <td>7</td>\n",
       "      <td>NaN</td>\n",
       "    </tr>\n",
       "    <tr>\n",
       "      <th>354365</th>\n",
       "      <td>sonstige_autos</td>\n",
       "      <td>NaN</td>\n",
       "      <td>NaN</td>\n",
       "      <td>2005</td>\n",
       "      <td>2200</td>\n",
       "      <td>NaN</td>\n",
       "      <td>0</td>\n",
       "      <td>20000</td>\n",
       "      <td>0</td>\n",
       "      <td>1</td>\n",
       "      <td>NaN</td>\n",
       "    </tr>\n",
       "    <tr>\n",
       "      <th>354366</th>\n",
       "      <td>smart</td>\n",
       "      <td>fortwo</td>\n",
       "      <td>petrol</td>\n",
       "      <td>2000</td>\n",
       "      <td>1199</td>\n",
       "      <td>auto</td>\n",
       "      <td>101</td>\n",
       "      <td>125000</td>\n",
       "      <td>0</td>\n",
       "      <td>3</td>\n",
       "      <td>convertible</td>\n",
       "    </tr>\n",
       "    <tr>\n",
       "      <th>354367</th>\n",
       "      <td>volkswagen</td>\n",
       "      <td>transporter</td>\n",
       "      <td>gasoline</td>\n",
       "      <td>1996</td>\n",
       "      <td>9200</td>\n",
       "      <td>manual</td>\n",
       "      <td>102</td>\n",
       "      <td>150000</td>\n",
       "      <td>0</td>\n",
       "      <td>3</td>\n",
       "      <td>bus</td>\n",
       "    </tr>\n",
       "    <tr>\n",
       "      <th>354368</th>\n",
       "      <td>volkswagen</td>\n",
       "      <td>golf</td>\n",
       "      <td>gasoline</td>\n",
       "      <td>2002</td>\n",
       "      <td>3400</td>\n",
       "      <td>manual</td>\n",
       "      <td>100</td>\n",
       "      <td>150000</td>\n",
       "      <td>0</td>\n",
       "      <td>6</td>\n",
       "      <td>wagon</td>\n",
       "    </tr>\n",
       "  </tbody>\n",
       "</table>\n",
       "<p>354369 rows × 11 columns</p>\n",
       "</div>"
      ],
      "text/plain": [
       "                 Brand        Model  FuelType  RegistrationYear  Price  \\\n",
       "0           volkswagen         golf    petrol              1993    480   \n",
       "1                 audi          NaN  gasoline              2011  18300   \n",
       "2                 jeep        grand  gasoline              2004   9800   \n",
       "3           volkswagen         golf    petrol              2001   1500   \n",
       "4                skoda        fabia  gasoline              2008   3600   \n",
       "...                ...          ...       ...               ...    ...   \n",
       "354364      mitsubishi         colt    petrol              2005      0   \n",
       "354365  sonstige_autos          NaN       NaN              2005   2200   \n",
       "354366           smart       fortwo    petrol              2000   1199   \n",
       "354367      volkswagen  transporter  gasoline              1996   9200   \n",
       "354368      volkswagen         golf  gasoline              2002   3400   \n",
       "\n",
       "       Gearbox  Power  Kilometer  Repaired  RegistrationMonth  VehicleType  \n",
       "0       manual      0     150000         0                  0          NaN  \n",
       "1       manual    190     125000         1                  5        coupe  \n",
       "2         auto    163     125000         0                  8          suv  \n",
       "3       manual     75     150000         0                  6        small  \n",
       "4       manual     69      90000         0                  7        small  \n",
       "...        ...    ...        ...       ...                ...          ...  \n",
       "354364  manual      0     150000         1                  7          NaN  \n",
       "354365     NaN      0      20000         0                  1          NaN  \n",
       "354366    auto    101     125000         0                  3  convertible  \n",
       "354367  manual    102     150000         0                  3          bus  \n",
       "354368  manual    100     150000         0                  6        wagon  \n",
       "\n",
       "[354369 rows x 11 columns]"
      ]
     },
     "execution_count": 11,
     "metadata": {},
     "output_type": "execute_result"
    }
   ],
   "source": [
    "df"
   ]
  },
  {
   "cell_type": "code",
   "execution_count": 12,
   "metadata": {},
   "outputs": [
    {
     "data": {
      "text/plain": [
       "array(['volkswagen', 'audi', 'jeep', 'skoda', 'bmw', 'peugeot', 'ford',\n",
       "       'mazda', 'nissan', 'renault', 'mercedes_benz', 'opel', 'seat',\n",
       "       'citroen', 'honda', 'fiat', 'mini', 'smart', 'hyundai',\n",
       "       'sonstige_autos', 'alfa_romeo', 'subaru', 'volvo', 'mitsubishi',\n",
       "       'kia', 'suzuki', 'lancia', 'toyota', 'chevrolet', 'dacia',\n",
       "       'daihatsu', 'trabant', 'saab', 'chrysler', 'jaguar', 'daewoo',\n",
       "       'porsche', 'rover', 'land_rover', 'lada'], dtype=object)"
      ]
     },
     "execution_count": 12,
     "metadata": {},
     "output_type": "execute_result"
    }
   ],
   "source": [
    "df['Brand'].unique()"
   ]
  },
  {
   "cell_type": "code",
   "execution_count": 13,
   "metadata": {
    "scrolled": true
   },
   "outputs": [
    {
     "data": {
      "text/plain": [
       "array(['golf', nan, 'grand', 'fabia', '3er', '2_reihe', 'other', 'c_max',\n",
       "       '3_reihe', 'passat', 'navara', 'ka', 'polo', 'twingo', 'a_klasse',\n",
       "       'scirocco', '5er', 'meriva', 'arosa', 'c4', 'civic', 'transporter',\n",
       "       'punto', 'e_klasse', 'clio', 'kadett', 'kangoo', 'corsa', 'one',\n",
       "       'fortwo', '1er', 'b_klasse', 'signum', 'astra', 'a8', 'jetta',\n",
       "       'fiesta', 'c_klasse', 'micra', 'vito', 'sprinter', '156', 'escort',\n",
       "       'forester', 'xc_reihe', 'scenic', 'a4', 'a1', 'insignia', 'combo',\n",
       "       'focus', 'tt', 'a6', 'jazz', 'omega', 'slk', '7er', '80', '147',\n",
       "       '100', 'z_reihe', 'sportage', 'sorento', 'v40', 'ibiza', 'mustang',\n",
       "       'eos', 'touran', 'getz', 'a3', 'almera', 'megane', 'lupo', 'r19',\n",
       "       'zafira', 'caddy', 'mondeo', 'cordoba', 'colt', 'impreza',\n",
       "       'vectra', 'berlingo', 'tiguan', 'i_reihe', 'espace', 'sharan',\n",
       "       '6_reihe', 'panda', 'up', 'seicento', 'ceed', '5_reihe', 'yeti',\n",
       "       'octavia', 'mii', 'rx_reihe', '6er', 'modus', 'fox', 'matiz',\n",
       "       'beetle', 'c1', 'rio', 'touareg', 'logan', 'spider', 'cuore',\n",
       "       's_max', 'a2', 'galaxy', 'c3', 'viano', 's_klasse', '1_reihe',\n",
       "       'avensis', 'roomster', 'sl', 'kaefer', 'santa', 'cooper', 'leon',\n",
       "       '4_reihe', 'a5', '500', 'laguna', 'ptcruiser', 'clk', 'primera',\n",
       "       'x_reihe', 'exeo', '159', 'transit', 'juke', 'qashqai', 'carisma',\n",
       "       'accord', 'corolla', 'lanos', 'phaeton', 'verso', 'swift', 'rav',\n",
       "       'picanto', 'boxster', 'kalos', 'superb', 'stilo', 'alhambra',\n",
       "       'mx_reihe', 'roadster', 'ypsilon', 'cayenne', 'galant', 'justy',\n",
       "       '90', 'sirion', 'crossfire', 'agila', 'duster', 'cr_reihe', 'v50',\n",
       "       'c_reihe', 'v_klasse', 'm_klasse', 'yaris', 'c5', 'aygo', 'cc',\n",
       "       'carnival', 'fusion', '911', 'bora', 'forfour', 'm_reihe', 'cl',\n",
       "       'tigra', '300c', 'spark', 'v70', 'kuga', 'x_type', 'ducato',\n",
       "       's_type', 'x_trail', 'toledo', 'altea', 'voyager', 'calibra',\n",
       "       'bravo', 'antara', 'tucson', 'citigo', 'jimny', 'wrangler',\n",
       "       'lybra', 'q7', 'lancer', 'captiva', 'c2', 'discovery',\n",
       "       'freelander', 'sandero', 'note', '900', 'cherokee', 'clubman',\n",
       "       'samara', 'defender', '601', 'cx_reihe', 'legacy', 'pajero',\n",
       "       'auris', 'niva', 's60', 'nubira', 'vivaro', 'g_klasse', 'lodgy',\n",
       "       '850', 'range_rover', 'q3', 'serie_2', 'glk', 'charade', 'croma',\n",
       "       'outlander', 'doblo', 'musa', 'move', '9000', 'v60', '145', 'aveo',\n",
       "       '200', 'b_max', 'range_rover_sport', 'terios', 'rangerover', 'q5',\n",
       "       'range_rover_evoque', 'materia', 'delta', 'gl', 'kalina', 'amarok',\n",
       "       'elefantino', 'i3', 'kappa', 'serie_3', 'serie_1'], dtype=object)"
      ]
     },
     "execution_count": 13,
     "metadata": {},
     "output_type": "execute_result"
    }
   ],
   "source": [
    "df['Model'].unique()"
   ]
  },
  {
   "cell_type": "code",
   "execution_count": 14,
   "metadata": {},
   "outputs": [
    {
     "data": {
      "text/plain": [
       "array(['petrol', 'gasoline', nan, 'lpg', 'other', 'hybrid', 'cng',\n",
       "       'electric'], dtype=object)"
      ]
     },
     "execution_count": 14,
     "metadata": {},
     "output_type": "execute_result"
    }
   ],
   "source": [
    "df['FuelType'].unique()"
   ]
  },
  {
   "cell_type": "code",
   "execution_count": 15,
   "metadata": {},
   "outputs": [],
   "source": [
    "df['FuelType'] = df['FuelType'].fillna('unknown')"
   ]
  },
  {
   "cell_type": "code",
   "execution_count": 16,
   "metadata": {},
   "outputs": [
    {
     "data": {
      "text/plain": [
       "array([1993, 2011, 2004, 2001, 2008, 1995, 1980, 2014, 1998, 2005, 1910,\n",
       "       2016, 2007, 2009, 2002, 2018, 1997, 1990, 2017, 1981, 2003, 1994,\n",
       "       1991, 1984, 2006, 1999, 2012, 2010, 2000, 1992, 2013, 1996, 1985,\n",
       "       1989, 2015, 1982, 1976, 1983, 1973, 1111, 1969, 1971, 1987, 1986,\n",
       "       1988, 1970, 1965, 1945, 1925, 1974, 1979, 1955, 1978, 1972, 1968,\n",
       "       1977, 1961, 1960, 1966, 1975, 1963, 1964, 5000, 1954, 1958, 1967,\n",
       "       1959, 9999, 1956, 3200, 1000, 1941, 8888, 1500, 2200, 4100, 1962,\n",
       "       1929, 1957, 1940, 3000, 2066, 1949, 2019, 1937, 1951, 1800, 1953,\n",
       "       1234, 8000, 5300, 9000, 2900, 6000, 5900, 5911, 1933, 1400, 1950,\n",
       "       4000, 1948, 1952, 1200, 8500, 1932, 1255, 3700, 3800, 4800, 1942,\n",
       "       7000, 1935, 1936, 6500, 1923, 2290, 2500, 1930, 1001, 9450, 1944,\n",
       "       1943, 1934, 1938, 1688, 2800, 1253, 1928, 1919, 5555, 5600, 1600,\n",
       "       2222, 1039, 9996, 1300, 8455, 1931, 1915, 4500, 1920, 1602, 7800,\n",
       "       9229, 1947, 1927, 7100, 8200, 1946, 7500, 3500])"
      ]
     },
     "execution_count": 16,
     "metadata": {},
     "output_type": "execute_result"
    }
   ],
   "source": [
    "df['RegistrationYear'].unique()"
   ]
  },
  {
   "cell_type": "code",
   "execution_count": 17,
   "metadata": {},
   "outputs": [],
   "source": [
    "df = df[(df['RegistrationYear'] >= 1886) & (df['RegistrationYear'] <= 2016)]"
   ]
  },
  {
   "cell_type": "code",
   "execution_count": 18,
   "metadata": {},
   "outputs": [
    {
     "data": {
      "text/plain": [
       "array([1993, 2011, 2004, 2001, 2008, 1995, 1980, 2014, 1998, 2005, 1910,\n",
       "       2016, 2007, 2009, 2002, 1997, 1990, 1981, 2003, 1994, 1991, 1984,\n",
       "       2006, 1999, 2012, 2010, 2000, 1992, 2013, 1996, 1985, 1989, 2015,\n",
       "       1982, 1976, 1983, 1973, 1969, 1971, 1987, 1986, 1988, 1970, 1965,\n",
       "       1945, 1925, 1974, 1979, 1955, 1978, 1972, 1968, 1977, 1961, 1960,\n",
       "       1966, 1975, 1963, 1964, 1954, 1958, 1967, 1959, 1956, 1941, 1962,\n",
       "       1929, 1957, 1940, 1949, 1937, 1951, 1953, 1933, 1950, 1948, 1952,\n",
       "       1932, 1942, 1935, 1936, 1923, 1930, 1944, 1943, 1934, 1938, 1928,\n",
       "       1919, 1931, 1915, 1920, 1947, 1927, 1946])"
      ]
     },
     "execution_count": 18,
     "metadata": {},
     "output_type": "execute_result"
    }
   ],
   "source": [
    "df['RegistrationYear'].unique()"
   ]
  },
  {
   "cell_type": "code",
   "execution_count": 19,
   "metadata": {},
   "outputs": [
    {
     "data": {
      "text/html": [
       "<div>\n",
       "<style scoped>\n",
       "    .dataframe tbody tr th:only-of-type {\n",
       "        vertical-align: middle;\n",
       "    }\n",
       "\n",
       "    .dataframe tbody tr th {\n",
       "        vertical-align: top;\n",
       "    }\n",
       "\n",
       "    .dataframe thead th {\n",
       "        text-align: right;\n",
       "    }\n",
       "</style>\n",
       "<table border=\"1\" class=\"dataframe\">\n",
       "  <thead>\n",
       "    <tr style=\"text-align: right;\">\n",
       "      <th></th>\n",
       "      <th>Brand</th>\n",
       "      <th>Model</th>\n",
       "      <th>FuelType</th>\n",
       "      <th>RegistrationYear</th>\n",
       "      <th>Price</th>\n",
       "      <th>Gearbox</th>\n",
       "      <th>Power</th>\n",
       "      <th>Kilometer</th>\n",
       "      <th>Repaired</th>\n",
       "      <th>RegistrationMonth</th>\n",
       "      <th>VehicleType</th>\n",
       "    </tr>\n",
       "  </thead>\n",
       "  <tbody>\n",
       "    <tr>\n",
       "      <th>0</th>\n",
       "      <td>volkswagen</td>\n",
       "      <td>golf</td>\n",
       "      <td>petrol</td>\n",
       "      <td>1993</td>\n",
       "      <td>480</td>\n",
       "      <td>manual</td>\n",
       "      <td>0</td>\n",
       "      <td>150000</td>\n",
       "      <td>0</td>\n",
       "      <td>0</td>\n",
       "      <td>NaN</td>\n",
       "    </tr>\n",
       "    <tr>\n",
       "      <th>1</th>\n",
       "      <td>audi</td>\n",
       "      <td>NaN</td>\n",
       "      <td>gasoline</td>\n",
       "      <td>2011</td>\n",
       "      <td>18300</td>\n",
       "      <td>manual</td>\n",
       "      <td>190</td>\n",
       "      <td>125000</td>\n",
       "      <td>1</td>\n",
       "      <td>5</td>\n",
       "      <td>coupe</td>\n",
       "    </tr>\n",
       "    <tr>\n",
       "      <th>2</th>\n",
       "      <td>jeep</td>\n",
       "      <td>grand</td>\n",
       "      <td>gasoline</td>\n",
       "      <td>2004</td>\n",
       "      <td>9800</td>\n",
       "      <td>auto</td>\n",
       "      <td>163</td>\n",
       "      <td>125000</td>\n",
       "      <td>0</td>\n",
       "      <td>8</td>\n",
       "      <td>suv</td>\n",
       "    </tr>\n",
       "    <tr>\n",
       "      <th>3</th>\n",
       "      <td>volkswagen</td>\n",
       "      <td>golf</td>\n",
       "      <td>petrol</td>\n",
       "      <td>2001</td>\n",
       "      <td>1500</td>\n",
       "      <td>manual</td>\n",
       "      <td>75</td>\n",
       "      <td>150000</td>\n",
       "      <td>0</td>\n",
       "      <td>6</td>\n",
       "      <td>small</td>\n",
       "    </tr>\n",
       "    <tr>\n",
       "      <th>4</th>\n",
       "      <td>skoda</td>\n",
       "      <td>fabia</td>\n",
       "      <td>gasoline</td>\n",
       "      <td>2008</td>\n",
       "      <td>3600</td>\n",
       "      <td>manual</td>\n",
       "      <td>69</td>\n",
       "      <td>90000</td>\n",
       "      <td>0</td>\n",
       "      <td>7</td>\n",
       "      <td>small</td>\n",
       "    </tr>\n",
       "    <tr>\n",
       "      <th>...</th>\n",
       "      <td>...</td>\n",
       "      <td>...</td>\n",
       "      <td>...</td>\n",
       "      <td>...</td>\n",
       "      <td>...</td>\n",
       "      <td>...</td>\n",
       "      <td>...</td>\n",
       "      <td>...</td>\n",
       "      <td>...</td>\n",
       "      <td>...</td>\n",
       "      <td>...</td>\n",
       "    </tr>\n",
       "    <tr>\n",
       "      <th>354364</th>\n",
       "      <td>mitsubishi</td>\n",
       "      <td>colt</td>\n",
       "      <td>petrol</td>\n",
       "      <td>2005</td>\n",
       "      <td>0</td>\n",
       "      <td>manual</td>\n",
       "      <td>0</td>\n",
       "      <td>150000</td>\n",
       "      <td>1</td>\n",
       "      <td>7</td>\n",
       "      <td>NaN</td>\n",
       "    </tr>\n",
       "    <tr>\n",
       "      <th>354365</th>\n",
       "      <td>sonstige_autos</td>\n",
       "      <td>NaN</td>\n",
       "      <td>unknown</td>\n",
       "      <td>2005</td>\n",
       "      <td>2200</td>\n",
       "      <td>NaN</td>\n",
       "      <td>0</td>\n",
       "      <td>20000</td>\n",
       "      <td>0</td>\n",
       "      <td>1</td>\n",
       "      <td>NaN</td>\n",
       "    </tr>\n",
       "    <tr>\n",
       "      <th>354366</th>\n",
       "      <td>smart</td>\n",
       "      <td>fortwo</td>\n",
       "      <td>petrol</td>\n",
       "      <td>2000</td>\n",
       "      <td>1199</td>\n",
       "      <td>auto</td>\n",
       "      <td>101</td>\n",
       "      <td>125000</td>\n",
       "      <td>0</td>\n",
       "      <td>3</td>\n",
       "      <td>convertible</td>\n",
       "    </tr>\n",
       "    <tr>\n",
       "      <th>354367</th>\n",
       "      <td>volkswagen</td>\n",
       "      <td>transporter</td>\n",
       "      <td>gasoline</td>\n",
       "      <td>1996</td>\n",
       "      <td>9200</td>\n",
       "      <td>manual</td>\n",
       "      <td>102</td>\n",
       "      <td>150000</td>\n",
       "      <td>0</td>\n",
       "      <td>3</td>\n",
       "      <td>bus</td>\n",
       "    </tr>\n",
       "    <tr>\n",
       "      <th>354368</th>\n",
       "      <td>volkswagen</td>\n",
       "      <td>golf</td>\n",
       "      <td>gasoline</td>\n",
       "      <td>2002</td>\n",
       "      <td>3400</td>\n",
       "      <td>manual</td>\n",
       "      <td>100</td>\n",
       "      <td>150000</td>\n",
       "      <td>0</td>\n",
       "      <td>6</td>\n",
       "      <td>wagon</td>\n",
       "    </tr>\n",
       "  </tbody>\n",
       "</table>\n",
       "<p>339773 rows × 11 columns</p>\n",
       "</div>"
      ],
      "text/plain": [
       "                 Brand        Model  FuelType  RegistrationYear  Price  \\\n",
       "0           volkswagen         golf    petrol              1993    480   \n",
       "1                 audi          NaN  gasoline              2011  18300   \n",
       "2                 jeep        grand  gasoline              2004   9800   \n",
       "3           volkswagen         golf    petrol              2001   1500   \n",
       "4                skoda        fabia  gasoline              2008   3600   \n",
       "...                ...          ...       ...               ...    ...   \n",
       "354364      mitsubishi         colt    petrol              2005      0   \n",
       "354365  sonstige_autos          NaN   unknown              2005   2200   \n",
       "354366           smart       fortwo    petrol              2000   1199   \n",
       "354367      volkswagen  transporter  gasoline              1996   9200   \n",
       "354368      volkswagen         golf  gasoline              2002   3400   \n",
       "\n",
       "       Gearbox  Power  Kilometer  Repaired  RegistrationMonth  VehicleType  \n",
       "0       manual      0     150000         0                  0          NaN  \n",
       "1       manual    190     125000         1                  5        coupe  \n",
       "2         auto    163     125000         0                  8          suv  \n",
       "3       manual     75     150000         0                  6        small  \n",
       "4       manual     69      90000         0                  7        small  \n",
       "...        ...    ...        ...       ...                ...          ...  \n",
       "354364  manual      0     150000         1                  7          NaN  \n",
       "354365     NaN      0      20000         0                  1          NaN  \n",
       "354366    auto    101     125000         0                  3  convertible  \n",
       "354367  manual    102     150000         0                  3          bus  \n",
       "354368  manual    100     150000         0                  6        wagon  \n",
       "\n",
       "[339773 rows x 11 columns]"
      ]
     },
     "execution_count": 19,
     "metadata": {},
     "output_type": "execute_result"
    }
   ],
   "source": [
    "df"
   ]
  },
  {
   "cell_type": "code",
   "execution_count": 20,
   "metadata": {},
   "outputs": [
    {
     "data": {
      "text/plain": [
       "array(['manual', 'auto', nan], dtype=object)"
      ]
     },
     "execution_count": 20,
     "metadata": {},
     "output_type": "execute_result"
    }
   ],
   "source": [
    "df['Gearbox'].unique()"
   ]
  },
  {
   "cell_type": "code",
   "execution_count": 21,
   "metadata": {},
   "outputs": [],
   "source": [
    "df['Gearbox'] = df['Gearbox'].fillna('unknown')"
   ]
  },
  {
   "cell_type": "code",
   "execution_count": 22,
   "metadata": {},
   "outputs": [],
   "source": [
    "df['VehicleType'] = df['VehicleType'].fillna('unknown')"
   ]
  },
  {
   "cell_type": "code",
   "execution_count": 23,
   "metadata": {},
   "outputs": [],
   "source": [
    "df['Model'] = df['Model'].fillna('unknown')"
   ]
  },
  {
   "cell_type": "code",
   "execution_count": 24,
   "metadata": {
    "scrolled": true
   },
   "outputs": [
    {
     "data": {
      "text/plain": [
       "array([    0,   190,   163,    75,    69,   102,   109,    50,   125,\n",
       "         101,   105,   140,   115,   131,    60,   136,   160,   231,\n",
       "         118,   193,    99,   113,   218,   122,   129,    70,   306,\n",
       "          95,    61,   177,   170,    55,   143,   286,   232,   150,\n",
       "         156,    80,    82,    90,   155,    54,   185,    87,   180,\n",
       "          86,    84,   224,   235,   200,   178,   265,    77,   110,\n",
       "         144,   120,   116,   184,   126,   204,    88,   194,    64,\n",
       "         305,   197,   179,   250,    45,   313,    41,   165,    98,\n",
       "         130,   114,   211,    56,   201,   213,    58,   107,    83,\n",
       "         174,   100,   220,    73,   192,    68,    66,   299,    74,\n",
       "          52,   147,   310,    71,    97,    65,   239,   203,     5,\n",
       "         300,   103,    85,   258,   320,    63,    81,   148,    44,\n",
       "         145,   230,   280,   260,   104,   188,   333,   186,   117,\n",
       "         141,   132,   234,   158,    39,    92,    51,   135,    59,\n",
       "          53,   209,    43,   146,    67,   106,   166,   276,   344,\n",
       "          72,   249,   237,   245,   111,   326,   279,    23,   138,\n",
       "         175,    96,   226,    26,    37,   301,   334,   128,   133,\n",
       "         124,    33,   219,   241,   167,    94,   182,   196,   238,\n",
       "        1398,   228,   112,    48,   272,   139,  1799,   240,    79,\n",
       "         256,   360,   243,   375,   252,   396,   340,   121,   345,\n",
       "         187,   289,   222,   198,   284,   450,   233,   387,   152,\n",
       "         347,   172,    57,   137,   212,   476,   314,    30,     7,\n",
       "          47,   173,   290,   207,   205,   171,    78,    91,    89,\n",
       "         349,    40,   108,   325,    76,   350,   953,    93,   142,\n",
       "         500,   343,   199,   119,   164,    16,   264,   367,   208,\n",
       "         210,    46,   435,  1001,   225,   127,   176,   161,   603,\n",
       "         307,   354,    35,   206,   771,   355,   273,   223,   255,\n",
       "         151,   123,   154,   149,  7515,  1400,   268,   620,   400,\n",
       "         275,    34,     2,   242,  1779,   285,   162,   328,  1753,\n",
       "         329,   134,   420,   247,   168, 10317,   215,    18,   330,\n",
       "         283,    62,    10,   214,   183,   254,    15,   321,   315,\n",
       "         952,   169,   600,   181,   426,   379,   999,    22,   157,\n",
       "          42,   195,   553,     4,   309,   507,   381,   271,   440,\n",
       "         189,   401,  1111,  2729,    21,   236,  1240,  1704,   521,\n",
       "           1,  1900,   270,    24,   159,   292,   515,  1200,   303,\n",
       "          29,    38,  1993,    14,   216,   610,   504,    49,   267,\n",
       "         331,   363,   261,   385,  1011,   253,   696, 10520,   376,\n",
       "         227,   311,    27,   217,    20,   322,  1999,    11,  1056,\n",
       "          25,   394,    12,   298,   296,  1659,   294,   551,  6920,\n",
       "         246,    17,  1625,   368,   390,   221,  1367,   259,   606,\n",
       "        1597,   266,   374,   392,     9,   405,    13,   262,   601,\n",
       "         430,   295,     8,   411,   900,   541,  7512,   382, 10218,\n",
       "        7544,  1102,   287,    19,   751,   297,  1090,   457,   282,\n",
       "         602,   388,     6,  1000,  5411,   335,  1360,   202,  3750,\n",
       "         805,  1062,  2017,   750,  1024, 11530,   364,  1796,   269,\n",
       "         460,  1002,   288,  1780, 12012, 17932,   316,  2005,  1800,\n",
       "        1399,   191,   278,   380,   257,   449,  1256,   153,  1653,\n",
       "         520,   560,   281, 12510,     3,  1500,   386,    32,  1202,\n",
       "        2016,  1436,  1405,   671,   274,  1288,  1055, 10912, 15016,\n",
       "        6226,  1115,   277,  1105,   341,  1223,  2340,  8404,  1968,\n",
       "         338,   445,  1920,   370,   517,  4400, 10710, 10522,   431,\n",
       "        1164, 11509,   371,  1501,   428, 11635,    36,   304,   348,\n",
       "        1703,  1910,  1995,   579, 10000,   580,   408,    31,   358,\n",
       "        1403,   489,  5575, 19211,   585,   960,   365,   353,   490,\n",
       "         352,  1801,   346,   550,  3199,   800,  7508,  1312,  1937,\n",
       "         950,  4700,  1600,  3454, 19208,   251,   850,   337,   700,\n",
       "        8011,  2331,  2789,   487,   519,  2461,  6006,  3500,  5815,\n",
       "        6018,  1781,  1503,   612,  1596,   229,  1506,  5809, 15020,\n",
       "        1300,  5867,  2172,  1598, 17410,  1363,   584,  1054,   851,\n",
       "        1339,   318,   510,   525,  1700,    28,  1151,   685,  6011,\n",
       "         317,   703,  1771, 15001,   514,   362,   332,  5000,   324,\n",
       "        6045,   530,   425,   308,  6010,   475,   903,   640,  2000,\n",
       "         248,   651,  2799, 17011,   505,  1103,  1521,   351, 16051,\n",
       "         398,   599,  1998, 10311,   409,  1230, 17019, 12684,  8259,\n",
       "        1895,  1317,   871,   909,  2201,  1595,   776, 17700, 11011,\n",
       "        1199,   459,   357,  1162,  1120,   327, 15033,  1896,   339,\n",
       "         361,   574,  6512,   454,   650, 13616,   604, 16312,  1082,\n",
       "         336, 20000,   416,   678,  1401,  1021,  1870, 13636,  1250,\n",
       "        9710,  6012,   323,  1158,  2009,   902,  6062,  1275,   572,\n",
       "         244,   399,  1016,   743,  1221,  2402,  1362,   544,   645,\n",
       "         907,   702,  1003,  1432,  9013,   442,  1017, 15017, 10910,\n",
       "        1992,   540,  2018, 11025,  1433,  1701,  2792,  1502,  1239,\n",
       "        1390, 14009,  1160, 11111,  1783,  9007,   923,  1149,   754,\n",
       "        1988,  2004,  5420,  1793,  1324,   356, 12512,  7511,  1299,\n",
       "         293, 19312,  1079,  1689,   998,  1100,  1933,   508, 16311,\n",
       "         682,  1922,  7529,   732,  2389,  1005,  2200,  1707,  1416,\n",
       "        8500,  1012,   485, 10110,   421,  4507,  1631,  7518,   377,\n",
       "        1004,  9012,  2007,  2598,  1548,  1241])"
      ]
     },
     "execution_count": 24,
     "metadata": {},
     "output_type": "execute_result"
    }
   ],
   "source": [
    "df['Power'].unique()"
   ]
  },
  {
   "cell_type": "code",
   "execution_count": 25,
   "metadata": {},
   "outputs": [],
   "source": [
    "df = df[(df['Power'] <= 1500)]"
   ]
  },
  {
   "cell_type": "code",
   "execution_count": 26,
   "metadata": {},
   "outputs": [
    {
     "data": {
      "text/html": [
       "<div>\n",
       "<style scoped>\n",
       "    .dataframe tbody tr th:only-of-type {\n",
       "        vertical-align: middle;\n",
       "    }\n",
       "\n",
       "    .dataframe tbody tr th {\n",
       "        vertical-align: top;\n",
       "    }\n",
       "\n",
       "    .dataframe thead th {\n",
       "        text-align: right;\n",
       "    }\n",
       "</style>\n",
       "<table border=\"1\" class=\"dataframe\">\n",
       "  <thead>\n",
       "    <tr style=\"text-align: right;\">\n",
       "      <th></th>\n",
       "      <th>RegistrationYear</th>\n",
       "      <th>Price</th>\n",
       "      <th>Power</th>\n",
       "      <th>Kilometer</th>\n",
       "      <th>Repaired</th>\n",
       "      <th>RegistrationMonth</th>\n",
       "    </tr>\n",
       "  </thead>\n",
       "  <tbody>\n",
       "    <tr>\n",
       "      <th>count</th>\n",
       "      <td>339587.000000</td>\n",
       "      <td>339587.000000</td>\n",
       "      <td>339587.00000</td>\n",
       "      <td>339587.000000</td>\n",
       "      <td>339587.000000</td>\n",
       "      <td>339587.000000</td>\n",
       "    </tr>\n",
       "    <tr>\n",
       "      <th>mean</th>\n",
       "      <td>2002.482881</td>\n",
       "      <td>4472.004267</td>\n",
       "      <td>107.99108</td>\n",
       "      <td>128087.176482</td>\n",
       "      <td>0.102651</td>\n",
       "      <td>5.756222</td>\n",
       "    </tr>\n",
       "    <tr>\n",
       "      <th>std</th>\n",
       "      <td>7.091245</td>\n",
       "      <td>4546.405703</td>\n",
       "      <td>66.53755</td>\n",
       "      <td>37891.120423</td>\n",
       "      <td>0.303503</td>\n",
       "      <td>3.708124</td>\n",
       "    </tr>\n",
       "    <tr>\n",
       "      <th>min</th>\n",
       "      <td>1910.000000</td>\n",
       "      <td>0.000000</td>\n",
       "      <td>0.00000</td>\n",
       "      <td>5000.000000</td>\n",
       "      <td>0.000000</td>\n",
       "      <td>0.000000</td>\n",
       "    </tr>\n",
       "    <tr>\n",
       "      <th>25%</th>\n",
       "      <td>1999.000000</td>\n",
       "      <td>1099.000000</td>\n",
       "      <td>69.00000</td>\n",
       "      <td>125000.000000</td>\n",
       "      <td>0.000000</td>\n",
       "      <td>3.000000</td>\n",
       "    </tr>\n",
       "    <tr>\n",
       "      <th>50%</th>\n",
       "      <td>2003.000000</td>\n",
       "      <td>2799.000000</td>\n",
       "      <td>105.00000</td>\n",
       "      <td>150000.000000</td>\n",
       "      <td>0.000000</td>\n",
       "      <td>6.000000</td>\n",
       "    </tr>\n",
       "    <tr>\n",
       "      <th>75%</th>\n",
       "      <td>2007.000000</td>\n",
       "      <td>6500.000000</td>\n",
       "      <td>143.00000</td>\n",
       "      <td>150000.000000</td>\n",
       "      <td>0.000000</td>\n",
       "      <td>9.000000</td>\n",
       "    </tr>\n",
       "    <tr>\n",
       "      <th>max</th>\n",
       "      <td>2016.000000</td>\n",
       "      <td>20000.000000</td>\n",
       "      <td>1500.00000</td>\n",
       "      <td>150000.000000</td>\n",
       "      <td>1.000000</td>\n",
       "      <td>12.000000</td>\n",
       "    </tr>\n",
       "  </tbody>\n",
       "</table>\n",
       "</div>"
      ],
      "text/plain": [
       "       RegistrationYear          Price         Power      Kilometer  \\\n",
       "count     339587.000000  339587.000000  339587.00000  339587.000000   \n",
       "mean        2002.482881    4472.004267     107.99108  128087.176482   \n",
       "std            7.091245    4546.405703      66.53755   37891.120423   \n",
       "min         1910.000000       0.000000       0.00000    5000.000000   \n",
       "25%         1999.000000    1099.000000      69.00000  125000.000000   \n",
       "50%         2003.000000    2799.000000     105.00000  150000.000000   \n",
       "75%         2007.000000    6500.000000     143.00000  150000.000000   \n",
       "max         2016.000000   20000.000000    1500.00000  150000.000000   \n",
       "\n",
       "            Repaired  RegistrationMonth  \n",
       "count  339587.000000      339587.000000  \n",
       "mean        0.102651           5.756222  \n",
       "std         0.303503           3.708124  \n",
       "min         0.000000           0.000000  \n",
       "25%         0.000000           3.000000  \n",
       "50%         0.000000           6.000000  \n",
       "75%         0.000000           9.000000  \n",
       "max         1.000000          12.000000  "
      ]
     },
     "metadata": {},
     "output_type": "display_data"
    }
   ],
   "source": [
    "display(df.describe())"
   ]
  },
  {
   "cell_type": "code",
   "execution_count": 27,
   "metadata": {},
   "outputs": [
    {
     "data": {
      "text/plain": [
       "30119"
      ]
     },
     "execution_count": 27,
     "metadata": {},
     "output_type": "execute_result"
    }
   ],
   "source": [
    "df.duplicated().sum()"
   ]
  },
  {
   "cell_type": "code",
   "execution_count": 28,
   "metadata": {},
   "outputs": [],
   "source": [
    "df= df.drop_duplicates()"
   ]
  },
  {
   "cell_type": "code",
   "execution_count": 29,
   "metadata": {},
   "outputs": [
    {
     "data": {
      "text/plain": [
       "0"
      ]
     },
     "execution_count": 29,
     "metadata": {},
     "output_type": "execute_result"
    }
   ],
   "source": [
    "df.duplicated().sum()"
   ]
  },
  {
   "cell_type": "code",
   "execution_count": 30,
   "metadata": {},
   "outputs": [
    {
     "data": {
      "text/plain": [
       "Brand                object\n",
       "Model                object\n",
       "FuelType             object\n",
       "RegistrationYear      int64\n",
       "Price                 int64\n",
       "Gearbox              object\n",
       "Power                 int64\n",
       "Kilometer             int64\n",
       "Repaired              int64\n",
       "RegistrationMonth     int64\n",
       "VehicleType          object\n",
       "dtype: object"
      ]
     },
     "execution_count": 30,
     "metadata": {},
     "output_type": "execute_result"
    }
   ],
   "source": [
    "df.dtypes"
   ]
  },
  {
   "cell_type": "code",
   "execution_count": 31,
   "metadata": {},
   "outputs": [
    {
     "data": {
      "text/plain": [
       "Brand                0\n",
       "Model                0\n",
       "FuelType             0\n",
       "RegistrationYear     0\n",
       "Price                0\n",
       "Gearbox              0\n",
       "Power                0\n",
       "Kilometer            0\n",
       "Repaired             0\n",
       "RegistrationMonth    0\n",
       "VehicleType          0\n",
       "dtype: int64"
      ]
     },
     "execution_count": 31,
     "metadata": {},
     "output_type": "execute_result"
    }
   ],
   "source": [
    "df.isna().sum()"
   ]
  },
  {
   "cell_type": "code",
   "execution_count": 32,
   "metadata": {},
   "outputs": [
    {
     "data": {
      "text/html": [
       "<div>\n",
       "<style scoped>\n",
       "    .dataframe tbody tr th:only-of-type {\n",
       "        vertical-align: middle;\n",
       "    }\n",
       "\n",
       "    .dataframe tbody tr th {\n",
       "        vertical-align: top;\n",
       "    }\n",
       "\n",
       "    .dataframe thead th {\n",
       "        text-align: right;\n",
       "    }\n",
       "</style>\n",
       "<table border=\"1\" class=\"dataframe\">\n",
       "  <thead>\n",
       "    <tr style=\"text-align: right;\">\n",
       "      <th></th>\n",
       "      <th>Brand</th>\n",
       "      <th>Model</th>\n",
       "      <th>FuelType</th>\n",
       "      <th>RegistrationYear</th>\n",
       "      <th>Price</th>\n",
       "      <th>Gearbox</th>\n",
       "      <th>Power</th>\n",
       "      <th>Kilometer</th>\n",
       "      <th>Repaired</th>\n",
       "      <th>RegistrationMonth</th>\n",
       "      <th>VehicleType</th>\n",
       "    </tr>\n",
       "  </thead>\n",
       "  <tbody>\n",
       "    <tr>\n",
       "      <th>0</th>\n",
       "      <td>volkswagen</td>\n",
       "      <td>golf</td>\n",
       "      <td>petrol</td>\n",
       "      <td>1993</td>\n",
       "      <td>480</td>\n",
       "      <td>manual</td>\n",
       "      <td>0</td>\n",
       "      <td>150000</td>\n",
       "      <td>0</td>\n",
       "      <td>0</td>\n",
       "      <td>unknown</td>\n",
       "    </tr>\n",
       "    <tr>\n",
       "      <th>1</th>\n",
       "      <td>audi</td>\n",
       "      <td>unknown</td>\n",
       "      <td>gasoline</td>\n",
       "      <td>2011</td>\n",
       "      <td>18300</td>\n",
       "      <td>manual</td>\n",
       "      <td>190</td>\n",
       "      <td>125000</td>\n",
       "      <td>1</td>\n",
       "      <td>5</td>\n",
       "      <td>coupe</td>\n",
       "    </tr>\n",
       "    <tr>\n",
       "      <th>2</th>\n",
       "      <td>jeep</td>\n",
       "      <td>grand</td>\n",
       "      <td>gasoline</td>\n",
       "      <td>2004</td>\n",
       "      <td>9800</td>\n",
       "      <td>auto</td>\n",
       "      <td>163</td>\n",
       "      <td>125000</td>\n",
       "      <td>0</td>\n",
       "      <td>8</td>\n",
       "      <td>suv</td>\n",
       "    </tr>\n",
       "    <tr>\n",
       "      <th>3</th>\n",
       "      <td>volkswagen</td>\n",
       "      <td>golf</td>\n",
       "      <td>petrol</td>\n",
       "      <td>2001</td>\n",
       "      <td>1500</td>\n",
       "      <td>manual</td>\n",
       "      <td>75</td>\n",
       "      <td>150000</td>\n",
       "      <td>0</td>\n",
       "      <td>6</td>\n",
       "      <td>small</td>\n",
       "    </tr>\n",
       "    <tr>\n",
       "      <th>4</th>\n",
       "      <td>skoda</td>\n",
       "      <td>fabia</td>\n",
       "      <td>gasoline</td>\n",
       "      <td>2008</td>\n",
       "      <td>3600</td>\n",
       "      <td>manual</td>\n",
       "      <td>69</td>\n",
       "      <td>90000</td>\n",
       "      <td>0</td>\n",
       "      <td>7</td>\n",
       "      <td>small</td>\n",
       "    </tr>\n",
       "    <tr>\n",
       "      <th>...</th>\n",
       "      <td>...</td>\n",
       "      <td>...</td>\n",
       "      <td>...</td>\n",
       "      <td>...</td>\n",
       "      <td>...</td>\n",
       "      <td>...</td>\n",
       "      <td>...</td>\n",
       "      <td>...</td>\n",
       "      <td>...</td>\n",
       "      <td>...</td>\n",
       "      <td>...</td>\n",
       "    </tr>\n",
       "    <tr>\n",
       "      <th>354364</th>\n",
       "      <td>mitsubishi</td>\n",
       "      <td>colt</td>\n",
       "      <td>petrol</td>\n",
       "      <td>2005</td>\n",
       "      <td>0</td>\n",
       "      <td>manual</td>\n",
       "      <td>0</td>\n",
       "      <td>150000</td>\n",
       "      <td>1</td>\n",
       "      <td>7</td>\n",
       "      <td>unknown</td>\n",
       "    </tr>\n",
       "    <tr>\n",
       "      <th>354365</th>\n",
       "      <td>sonstige_autos</td>\n",
       "      <td>unknown</td>\n",
       "      <td>unknown</td>\n",
       "      <td>2005</td>\n",
       "      <td>2200</td>\n",
       "      <td>unknown</td>\n",
       "      <td>0</td>\n",
       "      <td>20000</td>\n",
       "      <td>0</td>\n",
       "      <td>1</td>\n",
       "      <td>unknown</td>\n",
       "    </tr>\n",
       "    <tr>\n",
       "      <th>354366</th>\n",
       "      <td>smart</td>\n",
       "      <td>fortwo</td>\n",
       "      <td>petrol</td>\n",
       "      <td>2000</td>\n",
       "      <td>1199</td>\n",
       "      <td>auto</td>\n",
       "      <td>101</td>\n",
       "      <td>125000</td>\n",
       "      <td>0</td>\n",
       "      <td>3</td>\n",
       "      <td>convertible</td>\n",
       "    </tr>\n",
       "    <tr>\n",
       "      <th>354367</th>\n",
       "      <td>volkswagen</td>\n",
       "      <td>transporter</td>\n",
       "      <td>gasoline</td>\n",
       "      <td>1996</td>\n",
       "      <td>9200</td>\n",
       "      <td>manual</td>\n",
       "      <td>102</td>\n",
       "      <td>150000</td>\n",
       "      <td>0</td>\n",
       "      <td>3</td>\n",
       "      <td>bus</td>\n",
       "    </tr>\n",
       "    <tr>\n",
       "      <th>354368</th>\n",
       "      <td>volkswagen</td>\n",
       "      <td>golf</td>\n",
       "      <td>gasoline</td>\n",
       "      <td>2002</td>\n",
       "      <td>3400</td>\n",
       "      <td>manual</td>\n",
       "      <td>100</td>\n",
       "      <td>150000</td>\n",
       "      <td>0</td>\n",
       "      <td>6</td>\n",
       "      <td>wagon</td>\n",
       "    </tr>\n",
       "  </tbody>\n",
       "</table>\n",
       "<p>309468 rows × 11 columns</p>\n",
       "</div>"
      ],
      "text/plain": [
       "                 Brand        Model  FuelType  RegistrationYear  Price  \\\n",
       "0           volkswagen         golf    petrol              1993    480   \n",
       "1                 audi      unknown  gasoline              2011  18300   \n",
       "2                 jeep        grand  gasoline              2004   9800   \n",
       "3           volkswagen         golf    petrol              2001   1500   \n",
       "4                skoda        fabia  gasoline              2008   3600   \n",
       "...                ...          ...       ...               ...    ...   \n",
       "354364      mitsubishi         colt    petrol              2005      0   \n",
       "354365  sonstige_autos      unknown   unknown              2005   2200   \n",
       "354366           smart       fortwo    petrol              2000   1199   \n",
       "354367      volkswagen  transporter  gasoline              1996   9200   \n",
       "354368      volkswagen         golf  gasoline              2002   3400   \n",
       "\n",
       "        Gearbox  Power  Kilometer  Repaired  RegistrationMonth  VehicleType  \n",
       "0        manual      0     150000         0                  0      unknown  \n",
       "1        manual    190     125000         1                  5        coupe  \n",
       "2          auto    163     125000         0                  8          suv  \n",
       "3        manual     75     150000         0                  6        small  \n",
       "4        manual     69      90000         0                  7        small  \n",
       "...         ...    ...        ...       ...                ...          ...  \n",
       "354364   manual      0     150000         1                  7      unknown  \n",
       "354365  unknown      0      20000         0                  1      unknown  \n",
       "354366     auto    101     125000         0                  3  convertible  \n",
       "354367   manual    102     150000         0                  3          bus  \n",
       "354368   manual    100     150000         0                  6        wagon  \n",
       "\n",
       "[309468 rows x 11 columns]"
      ]
     },
     "execution_count": 32,
     "metadata": {},
     "output_type": "execute_result"
    }
   ],
   "source": [
    "df"
   ]
  },
  {
   "cell_type": "code",
   "execution_count": 33,
   "metadata": {},
   "outputs": [],
   "source": [
    "df['RegistrationYear'] = df['RegistrationYear'].astype('object')"
   ]
  },
  {
   "cell_type": "code",
   "execution_count": 34,
   "metadata": {},
   "outputs": [
    {
     "data": {
      "text/plain": [
       "<AxesSubplot:>"
      ]
     },
     "execution_count": 34,
     "metadata": {},
     "output_type": "execute_result"
    },
    {
     "data": {
      "image/png": "[encoded data removed]",
      "text/plain": [
       "<Figure size 432x288 with 1 Axes>"
      ]
     },
     "metadata": {
      "needs_background": "light"
     },
     "output_type": "display_data"
    }
   ],
   "source": [
    "df['VehicleType'].hist(bins=20)"
   ]
  },
  {
   "cell_type": "code",
   "execution_count": 35,
   "metadata": {},
   "outputs": [
    {
     "data": {
      "image/png": "[encoded data removed]",
      "text/plain": [
       "<Figure size 800x480 with 1 Axes>"
      ]
     },
     "metadata": {
      "needs_background": "light"
     },
     "output_type": "display_data"
    }
   ],
   "source": [
    "plt.figure(figsize=(10,6), dpi= 80)\n",
    "sns.violinplot(y='Power', data=df, scale='width', inner='quartile', grid=True)\n",
    "\n",
    "plt.title('Бокс-плот по выборке по мощности л.с.', fontsize=10)\n",
    "plt.show()"
   ]
  },
  {
   "cell_type": "code",
   "execution_count": 36,
   "metadata": {},
   "outputs": [
    {
     "data": {
      "image/png": "[encoded data removed]",
      "text/plain": [
       "<Figure size 800x480 with 1 Axes>"
      ]
     },
     "metadata": {
      "needs_background": "light"
     },
     "output_type": "display_data"
    }
   ],
   "source": [
    "plt.figure(figsize=(10,6), dpi= 80)\n",
    "sns.violinplot(y='Price', data=df, scale='width', inner='quartile', grid=True)\n",
    "\n",
    "plt.title('Бокс-плот по выборке по цене.', fontsize=10)\n",
    "plt.show()"
   ]
  },
  {
   "cell_type": "code",
   "execution_count": 37,
   "metadata": {},
   "outputs": [
    {
     "data": {
      "image/png": "[encoded data removed]",
      "text/plain": [
       "<Figure size 800x480 with 1 Axes>"
      ]
     },
     "metadata": {
      "needs_background": "light"
     },
     "output_type": "display_data"
    }
   ],
   "source": [
    "plt.figure(figsize=(10,6), dpi= 80)\n",
    "sns.violinplot(y='Kilometer', data=df, scale='width', inner='quartile', grid=True)\n",
    "\n",
    "plt.title('Бокс-плот по выборке по пробегу.', fontsize=10)\n",
    "plt.show()"
   ]
  },
  {
   "cell_type": "code",
   "execution_count": 38,
   "metadata": {},
   "outputs": [
    {
     "data": {
      "text/html": [
       "<div>\n",
       "<style scoped>\n",
       "    .dataframe tbody tr th:only-of-type {\n",
       "        vertical-align: middle;\n",
       "    }\n",
       "\n",
       "    .dataframe tbody tr th {\n",
       "        vertical-align: top;\n",
       "    }\n",
       "\n",
       "    .dataframe thead th {\n",
       "        text-align: right;\n",
       "    }\n",
       "</style>\n",
       "<table border=\"1\" class=\"dataframe\">\n",
       "  <thead>\n",
       "    <tr style=\"text-align: right;\">\n",
       "      <th></th>\n",
       "      <th>Price</th>\n",
       "      <th>Power</th>\n",
       "      <th>Kilometer</th>\n",
       "      <th>Repaired</th>\n",
       "      <th>RegistrationMonth</th>\n",
       "    </tr>\n",
       "  </thead>\n",
       "  <tbody>\n",
       "    <tr>\n",
       "      <th>count</th>\n",
       "      <td>309468.000000</td>\n",
       "      <td>309468.000000</td>\n",
       "      <td>309468.000000</td>\n",
       "      <td>309468.000000</td>\n",
       "      <td>309468.000000</td>\n",
       "    </tr>\n",
       "    <tr>\n",
       "      <th>mean</th>\n",
       "      <td>4465.457188</td>\n",
       "      <td>107.947513</td>\n",
       "      <td>127939.286130</td>\n",
       "      <td>0.107517</td>\n",
       "      <td>5.734800</td>\n",
       "    </tr>\n",
       "    <tr>\n",
       "      <th>std</th>\n",
       "      <td>4557.295368</td>\n",
       "      <td>66.804974</td>\n",
       "      <td>37995.571851</td>\n",
       "      <td>0.309770</td>\n",
       "      <td>3.706279</td>\n",
       "    </tr>\n",
       "    <tr>\n",
       "      <th>min</th>\n",
       "      <td>0.000000</td>\n",
       "      <td>0.000000</td>\n",
       "      <td>5000.000000</td>\n",
       "      <td>0.000000</td>\n",
       "      <td>0.000000</td>\n",
       "    </tr>\n",
       "    <tr>\n",
       "      <th>25%</th>\n",
       "      <td>1050.000000</td>\n",
       "      <td>69.000000</td>\n",
       "      <td>125000.000000</td>\n",
       "      <td>0.000000</td>\n",
       "      <td>3.000000</td>\n",
       "    </tr>\n",
       "    <tr>\n",
       "      <th>50%</th>\n",
       "      <td>2750.000000</td>\n",
       "      <td>105.000000</td>\n",
       "      <td>150000.000000</td>\n",
       "      <td>0.000000</td>\n",
       "      <td>6.000000</td>\n",
       "    </tr>\n",
       "    <tr>\n",
       "      <th>75%</th>\n",
       "      <td>6500.000000</td>\n",
       "      <td>143.000000</td>\n",
       "      <td>150000.000000</td>\n",
       "      <td>0.000000</td>\n",
       "      <td>9.000000</td>\n",
       "    </tr>\n",
       "    <tr>\n",
       "      <th>max</th>\n",
       "      <td>20000.000000</td>\n",
       "      <td>1500.000000</td>\n",
       "      <td>150000.000000</td>\n",
       "      <td>1.000000</td>\n",
       "      <td>12.000000</td>\n",
       "    </tr>\n",
       "  </tbody>\n",
       "</table>\n",
       "</div>"
      ],
      "text/plain": [
       "               Price          Power      Kilometer       Repaired  \\\n",
       "count  309468.000000  309468.000000  309468.000000  309468.000000   \n",
       "mean     4465.457188     107.947513  127939.286130       0.107517   \n",
       "std      4557.295368      66.804974   37995.571851       0.309770   \n",
       "min         0.000000       0.000000    5000.000000       0.000000   \n",
       "25%      1050.000000      69.000000  125000.000000       0.000000   \n",
       "50%      2750.000000     105.000000  150000.000000       0.000000   \n",
       "75%      6500.000000     143.000000  150000.000000       0.000000   \n",
       "max     20000.000000    1500.000000  150000.000000       1.000000   \n",
       "\n",
       "       RegistrationMonth  \n",
       "count      309468.000000  \n",
       "mean            5.734800  \n",
       "std             3.706279  \n",
       "min             0.000000  \n",
       "25%             3.000000  \n",
       "50%             6.000000  \n",
       "75%             9.000000  \n",
       "max            12.000000  "
      ]
     },
     "metadata": {},
     "output_type": "display_data"
    }
   ],
   "source": [
    "display(df.describe())"
   ]
  },
  {
   "cell_type": "code",
   "execution_count": 39,
   "metadata": {},
   "outputs": [],
   "source": [
    "df = df.drop(df[df['Price'] == 0].index)"
   ]
  },
  {
   "cell_type": "code",
   "execution_count": 40,
   "metadata": {},
   "outputs": [],
   "source": [
    "df = df.drop(df[df['Price'] == 1].index)"
   ]
  },
  {
   "cell_type": "code",
   "execution_count": 41,
   "metadata": {},
   "outputs": [
    {
     "name": "stdout",
     "output_type": "stream",
     "text": [
      "<class 'pandas.core.frame.DataFrame'>\n",
      "Int64Index: 299866 entries, 0 to 354368\n",
      "Data columns (total 11 columns):\n",
      " #   Column             Non-Null Count   Dtype \n",
      "---  ------             --------------   ----- \n",
      " 0   Brand              299866 non-null  object\n",
      " 1   Model              299866 non-null  object\n",
      " 2   FuelType           299866 non-null  object\n",
      " 3   RegistrationYear   299866 non-null  object\n",
      " 4   Price              299866 non-null  int64 \n",
      " 5   Gearbox            299866 non-null  object\n",
      " 6   Power              299866 non-null  int64 \n",
      " 7   Kilometer          299866 non-null  int64 \n",
      " 8   Repaired           299866 non-null  int64 \n",
      " 9   RegistrationMonth  299866 non-null  int64 \n",
      " 10  VehicleType        299866 non-null  object\n",
      "dtypes: int64(5), object(6)\n",
      "memory usage: 27.5+ MB\n"
     ]
    },
    {
     "data": {
      "text/plain": [
       "None"
      ]
     },
     "metadata": {},
     "output_type": "display_data"
    }
   ],
   "source": [
    "display(df.info())"
   ]
  },
  {
   "cell_type": "code",
   "execution_count": 42,
   "metadata": {},
   "outputs": [],
   "source": [
    "#df = df.drop(df[df['Power'] == 0].index)"
   ]
  },
  {
   "cell_type": "code",
   "execution_count": 43,
   "metadata": {},
   "outputs": [
    {
     "data": {
      "text/plain": [
       "0.8461970431950876"
      ]
     },
     "execution_count": 43,
     "metadata": {},
     "output_type": "execute_result"
    }
   ],
   "source": [
    "df.shape[0] / dirty.shape[0]"
   ]
  },
  {
   "cell_type": "code",
   "execution_count": 44,
   "metadata": {},
   "outputs": [
    {
     "data": {
      "text/plain": [
       "<AxesSubplot:>"
      ]
     },
     "execution_count": 44,
     "metadata": {},
     "output_type": "execute_result"
    },
    {
     "data": {
      "image/png": "[encoded data removed]",
      "text/plain": [
       "<Figure size 432x288 with 2 Axes>"
      ]
     },
     "metadata": {
      "needs_background": "light"
     },
     "output_type": "display_data"
    }
   ],
   "source": [
    "sns.heatmap (df.corr(), annot=True)"
   ]
  },
  {
   "cell_type": "markdown",
   "metadata": {},
   "source": [
    "Наибольшая корелляция у цены с кол-вом л.с."
   ]
  },
  {
   "cell_type": "markdown",
   "metadata": {},
   "source": [
    "Вывод\n",
    "\n",
    "Удалил дубликаты\n",
    "\n",
    "Поменял столбцах тип данных\n",
    "\n",
    "Избавился от ненужных столбцов"
   ]
  },
  {
   "cell_type": "markdown",
   "metadata": {},
   "source": [
    "## Обучение моделей"
   ]
  },
  {
   "cell_type": "code",
   "execution_count": 45,
   "metadata": {},
   "outputs": [],
   "source": [
    "target = df['Price']\n",
    "features = df.drop('Price', axis=1)"
   ]
  },
  {
   "cell_type": "code",
   "execution_count": 46,
   "metadata": {},
   "outputs": [],
   "source": [
    "features_train, features_inter, target_train, target_inter = train_test_split(\n",
    "    features.copy(), \n",
    "    target.copy(), \n",
    "    test_size=0.4, \n",
    "    random_state=42)\n",
    "\n",
    "features_valid, features_test, target_valid, target_test = train_test_split(\n",
    "    features_inter.copy(),\n",
    "    target_inter.copy(),\n",
    "    test_size=0.5,\n",
    "    random_state=42)"
   ]
  },
  {
   "cell_type": "code",
   "execution_count": 47,
   "metadata": {},
   "outputs": [],
   "source": [
    "features_train_ohe = pd.get_dummies(features_train, drop_first=True)\n",
    "features_valid_ohe = pd.get_dummies(features_valid, drop_first=True)\n",
    "features_test_ohe = pd.get_dummies(features_test, drop_first=True)\n",
    "\n",
    "common_columns = set(features_train_ohe.columns) & set(features_valid_ohe.columns) & set(features_test_ohe.columns)\n",
    "\n",
    "features_train_ohe = features_train_ohe[list(common_columns)]\n",
    "features_valid_ohe = features_valid_ohe[list(common_columns)]\n",
    "features_test_ohe = features_test_ohe[list(common_columns)]"
   ]
  },
  {
   "cell_type": "code",
   "execution_count": 48,
   "metadata": {},
   "outputs": [],
   "source": [
    "encoder = OrdinalEncoder(handle_unknown='use_encoded_value', unknown_value=9999)\n",
    "cat_columns = ['VehicleType','Gearbox','FuelType','Brand','Model']\n",
    "encoder.fit(features_train[cat_columns])\n",
    "\n",
    "features_train_ord = features_train.copy()\n",
    "features_valid_ord = features_valid.copy()\n",
    "features_test_ord = features_test.copy()\n",
    "\n",
    "features_train_ord[cat_columns] = encoder.transform(features_train_ord[cat_columns])\n",
    "features_valid_ord[cat_columns] = encoder.transform(features_valid_ord[cat_columns])\n",
    "features_test_ord[cat_columns] = encoder.transform(features_test_ord[cat_columns])"
   ]
  },
  {
   "cell_type": "code",
   "execution_count": 49,
   "metadata": {},
   "outputs": [
    {
     "data": {
      "text/plain": [
       "['VehicleType', 'Gearbox', 'FuelType', 'Brand', 'Model']"
      ]
     },
     "execution_count": 49,
     "metadata": {},
     "output_type": "execute_result"
    }
   ],
   "source": [
    "cat_columns"
   ]
  },
  {
   "cell_type": "markdown",
   "metadata": {},
   "source": [
    "```python\n",
    "# прямое кодирование (для линейных моделей)\n",
    "features_train_ohe = pd.get_dummies(features_train, drop_first=True)\n",
    "features_valid_ohe = pd.get_dummies(features_valid, drop_first=True)\n",
    "features_test_ohe = pd.get_dummies(features_test, drop_first=True)\n",
    "# после прямого кодирования кол-во признаков в выборках будет отличаться\n",
    "# поэтому стоит удалить лишние признаки в каждой выборке\n",
    "\n",
    "# Найдем общие признаки между обучающей, валидационной и тестовой выборками\n",
    "common_columns = set(features_train_ohe.columns) & set(features_valid_ohe.columns) & set(features_test_ohe.columns)\n",
    "\n",
    "# Оставим в каждой выборке только общие признаки\n",
    "features_train_ohe = features_train_ohe[list(common_columns)]\n",
    "features_valid_ohe = features_valid_ohe[list(common_columns)]\n",
    "features_test_ohe = features_test_ohe[list(common_columns)]\n",
    "```"
   ]
  },
  {
   "cell_type": "markdown",
   "metadata": {},
   "source": [
    "```python\n",
    "# порядковое кодирование\n",
    "encoder = OrdinalEncoder(handle_unknown='use_encoded_value', unknown_value=9999)\n",
    "cat_columns = [список всех категориальных признаков]\n",
    "encoder.fit(features_train[cat_columns])\n",
    "\n",
    "features_train_ord = features_train.copy()\n",
    "features_valid_ord = features_valid.copy()\n",
    "features_test_ord = features_test.copy()\n",
    "\n",
    "features_train_ord[cat_columns] = encoder.transform(features_train_ord[cat_columns])\n",
    "features_valid_ord[cat_columns] = encoder.transform(features_valid_ord[cat_columns])\n",
    "features_test_ord[cat_columns] = encoder.transform(features_test_ord[cat_columns])\n",
    "```"
   ]
  },
  {
   "cell_type": "code",
   "execution_count": 50,
   "metadata": {},
   "outputs": [],
   "source": [
    "features_train_ord = features_train_ord.reset_index(drop=True)\n",
    "features_test_ord = features_test_ord.reset_index(drop=True)\n",
    "features_valid_ord = features_valid_ord.reset_index(drop=True)\n",
    "\n",
    "features_train_ohe = features_train_ohe.reset_index(drop=True)\n",
    "features_test_ohe = features_test_ohe.reset_index(drop=True)\n",
    "features_valid_ohe = features_valid_ohe.reset_index(drop=True)"
   ]
  },
  {
   "cell_type": "code",
   "execution_count": 51,
   "metadata": {},
   "outputs": [],
   "source": [
    "def rmse(y, predictions):\n",
    "    return mse(y, predictions) ** .5\n",
    "\n",
    "rmse_score = make_scorer(rmse, greater_is_better=False)"
   ]
  },
  {
   "cell_type": "code",
   "execution_count": 52,
   "metadata": {
    "scrolled": false
   },
   "outputs": [
    {
     "name": "stdout",
     "output_type": "stream",
     "text": [
      "CPU times: user 2min 57s, sys: 3.43 s, total: 3min\n",
      "Wall time: 3min 1s\n"
     ]
    },
    {
     "data": {
      "text/plain": [
       "-2280.30574836527"
      ]
     },
     "execution_count": 52,
     "metadata": {},
     "output_type": "execute_result"
    }
   ],
   "source": [
    "%%time\n",
    "state = 42\n",
    "cv = KFold()\n",
    "model = DecisionTreeRegressor(random_state=state)\n",
    "    \n",
    "\n",
    "param_dict = {'max_depth': range(1, 8),\n",
    "              'min_samples_leaf' : range (1,6),\n",
    "              'max_features' : range(1,7)}\n",
    "\n",
    "griddtr = GridSearchCV(model, param_dict, cv = cv, scoring=rmse_score, n_jobs = -1)\n",
    "\n",
    "griddtr.fit(features_train_ord, target_train)\n",
    "griddtr.best_score_"
   ]
  },
  {
   "cell_type": "code",
   "execution_count": 53,
   "metadata": {},
   "outputs": [
    {
     "name": "stdout",
     "output_type": "stream",
     "text": [
      "DecisionTreeRegressor(max_depth=7, max_features=6, min_samples_leaf=3,\n",
      "                      random_state=42)\n",
      "\n",
      "{'max_depth': 7, 'max_features': 6, 'min_samples_leaf': 3}\n",
      "\n",
      "-2280.30574836527\n"
     ]
    }
   ],
   "source": [
    "print(griddtr.best_estimator_)\n",
    "print()\n",
    "print(griddtr.best_params_)\n",
    "print()\n",
    "print(griddtr.best_score_)"
   ]
  },
  {
   "cell_type": "code",
   "execution_count": 54,
   "metadata": {},
   "outputs": [],
   "source": [
    "scaler = StandardScaler()\n",
    "X_train = scaler.fit_transform(features_train_ohe)\n",
    "X_valid = scaler.transform(features_valid_ohe)\n",
    "X_test = scaler.transform(features_test_ohe)"
   ]
  },
  {
   "cell_type": "code",
   "execution_count": 55,
   "metadata": {},
   "outputs": [],
   "source": [
    "y_train = target_train\n",
    "y_test = target_test\n",
    "y_valid = target_valid"
   ]
  },
  {
   "cell_type": "code",
   "execution_count": 56,
   "metadata": {},
   "outputs": [
    {
     "name": "stdout",
     "output_type": "stream",
     "text": [
      "CPU times: user 3min 25s, sys: 2min 35s, total: 6min\n",
      "Wall time: 6min 1s\n"
     ]
    },
    {
     "data": {
      "text/plain": [
       "-2192.7601309918728"
      ]
     },
     "execution_count": 56,
     "metadata": {},
     "output_type": "execute_result"
    }
   ],
   "source": [
    "%%time\n",
    "state = 42\n",
    "cv = KFold()\n",
    "model = LinearRegression()\n",
    "    \n",
    "\n",
    "param_dict = {'fit_intercept':[True, False],\n",
    "                    'copy_X':[True, False]}\n",
    "\n",
    "griddlr = GridSearchCV(model, param_dict, cv = cv, scoring=rmse_score, n_jobs = -1)\n",
    "griddlr.fit(X_train, y_train)\n",
    "griddlr.best_score_"
   ]
  },
  {
   "cell_type": "code",
   "execution_count": 57,
   "metadata": {},
   "outputs": [
    {
     "name": "stdout",
     "output_type": "stream",
     "text": [
      "LinearRegression()\n",
      "\n",
      "{'copy_X': True, 'fit_intercept': True}\n",
      "\n",
      "-2192.7601309918728\n"
     ]
    }
   ],
   "source": [
    "print(griddlr.best_estimator_)\n",
    "print()\n",
    "print(griddlr.best_params_)\n",
    "print()\n",
    "print(griddlr.best_score_)"
   ]
  },
  {
   "cell_type": "code",
   "execution_count": 58,
   "metadata": {},
   "outputs": [
    {
     "name": "stdout",
     "output_type": "stream",
     "text": [
      "\n"
     ]
    },
    {
     "data": {
      "text/plain": [
       "-1639.8838142344703"
      ]
     },
     "execution_count": 58,
     "metadata": {},
     "output_type": "execute_result"
    }
   ],
   "source": [
    "model = CatBoostRegressor() \n",
    "param_dict = [{'learning_rate':[0.1, 0.5, 0.8],\n",
    "                'random_state':[42],\n",
    "                'verbose':[False]}]\n",
    "\n",
    "print()\n",
    "gridcb = GridSearchCV(model, param_dict, scoring=rmse_score,n_jobs = -1)\n",
    "gridcb.fit(features_train_ord, target_train)\n",
    "gridcb.best_score_"
   ]
  },
  {
   "cell_type": "code",
   "execution_count": 59,
   "metadata": {},
   "outputs": [
    {
     "name": "stdout",
     "output_type": "stream",
     "text": [
      "<catboost.core.CatBoostRegressor object at 0x7f97530c1af0>\n",
      "\n",
      "{'learning_rate': 0.1, 'random_state': 42, 'verbose': False}\n",
      "\n",
      "-1639.8838142344703\n",
      "CPU times: user 700 µs, sys: 158 µs, total: 858 µs\n",
      "Wall time: 519 µs\n"
     ]
    }
   ],
   "source": [
    "%%time\n",
    "print(gridcb.best_estimator_)\n",
    "print()\n",
    "print(gridcb.best_params_)\n",
    "print()\n",
    "print(gridcb.best_score_)"
   ]
  },
  {
   "cell_type": "code",
   "execution_count": 60,
   "metadata": {},
   "outputs": [
    {
     "name": "stdout",
     "output_type": "stream",
     "text": [
      "DecisionTreeRegressor:  2308.241725658256\n",
      "Время обучения:  0.298691987991333\n",
      "Время предсказания:  0.33732032775878906\n"
     ]
    }
   ],
   "source": [
    "model1 = DecisionTreeRegressor(random_state=42,\n",
    "                               max_depth =7, \n",
    "                               max_features=6,\n",
    "                               min_samples_leaf=3) \n",
    "start = time.time()\n",
    "model1.fit(features_train_ord, target_train) \n",
    "fit_time = time.time() - start\n",
    "predictions_1 = model1.predict(features_valid_ord)\n",
    "pred_time = time.time() - start\n",
    "result1 = rmse(target_valid,predictions_1)\n",
    "\n",
    "\n",
    "print('DecisionTreeRegressor: ', result1)\n",
    "print(\"Время обучения: \", fit_time)\n",
    "print(\"Время предсказания: \", pred_time)"
   ]
  },
  {
   "cell_type": "code",
   "execution_count": 61,
   "metadata": {},
   "outputs": [
    {
     "name": "stdout",
     "output_type": "stream",
     "text": [
      "LinearRegression:  3155.025666839666\n",
      "Время обучения:  0.15411138534545898\n",
      "Время предсказания:  0.2312319278717041\n"
     ]
    }
   ],
   "source": [
    "model2 = LinearRegression(copy_X = True,\n",
    "                          fit_intercept = True) \n",
    "start = time.time()\n",
    "model2.fit(features_train_ord, target_train) \n",
    "fit_time = time.time() - start\n",
    "predictions_2 = model2.predict(features_valid_ord)\n",
    "pred_time = time.time() - start\n",
    "result2 = rmse(target_valid,predictions_2)\n",
    "\n",
    "\n",
    "print('LinearRegression: ', result2)\n",
    "print(\"Время обучения: \", fit_time)\n",
    "print(\"Время предсказания: \", pred_time)"
   ]
  },
  {
   "cell_type": "code",
   "execution_count": 62,
   "metadata": {},
   "outputs": [
    {
     "name": "stdout",
     "output_type": "stream",
     "text": [
      "Best parameters: {'learning_rate': 0.2, 'max_depth': 4, 'n_estimators': 100, 'num_leaves': 20}\n",
      "RMSE on validation set: 1923.033089543174\n"
     ]
    }
   ],
   "source": [
    "params = {\n",
    "    'learning_rate': [0.1, 0.2],\n",
    "    'n_estimators': [50, 100],\n",
    "    'max_depth': [3, 4],\n",
    "    'num_leaves': [10, 20],\n",
    "}\n",
    "\n",
    "model = LGBMRegressor(random_state=42)\n",
    "grid_search = GridSearchCV(model, params, cv=5, scoring='neg_root_mean_squared_error', n_jobs=-1)\n",
    "grid_search.fit(features_train_ohe, target_train)\n",
    "\n",
    "print('Best parameters:', grid_search.best_params_)\n",
    "print('RMSE on validation set:', -grid_search.best_score_)"
   ]
  },
  {
   "cell_type": "markdown",
   "metadata": {},
   "source": [
    "## Тестирование лучшей модели"
   ]
  },
  {
   "cell_type": "code",
   "execution_count": 63,
   "metadata": {},
   "outputs": [
    {
     "name": "stdout",
     "output_type": "stream",
     "text": [
      "RMSE на валидационной выборке для LGBMRegressor: 1919.8293049229537\n"
     ]
    }
   ],
   "source": [
    "model_lgbm = LGBMRegressor(learning_rate=0.2,\n",
    "n_estimators=100,\n",
    "max_depth=4,\n",
    "num_leaves=20)\n",
    "\n",
    "model_lgbm.fit(features_train_ohe, target_train)\n",
    "\n",
    "predictions_lgbm = model_lgbm.predict(features_test_ohe)\n",
    "\n",
    "rmse_lgbm = mean_squared_error(target_test, predictions_lgbm)**0.5\n",
    "\n",
    "print('RMSE на валидационной выборке для LGBMRegressor:', rmse_lgbm)"
   ]
  },
  {
   "cell_type": "markdown",
   "metadata": {},
   "source": [
    "Итоговый вывод\n",
    "\n",
    "Модели поделили на группы и для каждой закодировали признаки(ohe и ordinal)\n",
    "\n",
    "После чего обучили модели и проверили сколько по времени обучается модели, сколько она предсказывает и с каким показателем rmse\n",
    "\n",
    "самая точная LGBMRegressor\n",
    "\n"
   ]
  }
 ],
 "metadata": {
  "ExecuteTimeLog": [
   {
    "duration": 376,
    "start_time": "2023-04-15T14:01:41.636Z"
   },
   {
    "duration": 2973,
    "start_time": "2023-04-15T14:02:45.907Z"
   },
   {
    "duration": 24,
    "start_time": "2023-04-15T14:02:51.303Z"
   },
   {
    "duration": 124,
    "start_time": "2023-04-15T14:04:48.794Z"
   },
   {
    "duration": 90,
    "start_time": "2023-04-15T14:05:54.263Z"
   },
   {
    "duration": 401,
    "start_time": "2023-04-15T14:07:30.013Z"
   },
   {
    "duration": 437,
    "start_time": "2023-04-15T14:07:37.298Z"
   },
   {
    "duration": 406,
    "start_time": "2023-04-15T14:07:40.967Z"
   },
   {
    "duration": 7,
    "start_time": "2023-04-15T14:07:52.943Z"
   },
   {
    "duration": 151,
    "start_time": "2023-04-15T14:08:35.204Z"
   },
   {
    "duration": 30,
    "start_time": "2023-04-15T14:11:25.594Z"
   },
   {
    "duration": 16,
    "start_time": "2023-04-15T14:11:29.746Z"
   },
   {
    "duration": 393,
    "start_time": "2023-04-15T14:11:55.272Z"
   },
   {
    "duration": 765,
    "start_time": "2023-04-15T14:11:55.667Z"
   },
   {
    "duration": 29,
    "start_time": "2023-04-15T14:11:56.434Z"
   },
   {
    "duration": 28,
    "start_time": "2023-04-15T14:11:56.474Z"
   },
   {
    "duration": 20,
    "start_time": "2023-04-15T14:11:56.505Z"
   },
   {
    "duration": 77,
    "start_time": "2023-04-15T14:11:56.527Z"
   },
   {
    "duration": 88,
    "start_time": "2023-04-15T14:11:56.605Z"
   },
   {
    "duration": 155,
    "start_time": "2023-04-15T14:11:56.695Z"
   },
   {
    "duration": 184,
    "start_time": "2023-04-15T14:11:56.852Z"
   },
   {
    "duration": 163,
    "start_time": "2023-04-15T14:11:57.038Z"
   },
   {
    "duration": 6,
    "start_time": "2023-04-15T14:11:57.202Z"
   },
   {
    "duration": 70,
    "start_time": "2023-04-15T14:11:57.210Z"
   },
   {
    "duration": 823,
    "start_time": "2023-04-15T14:13:17.290Z"
   },
   {
    "duration": 5,
    "start_time": "2023-04-15T14:13:22.172Z"
   },
   {
    "duration": 30,
    "start_time": "2023-04-15T14:13:31.346Z"
   },
   {
    "duration": 10,
    "start_time": "2023-04-15T14:13:56.041Z"
   },
   {
    "duration": 402,
    "start_time": "2023-04-15T14:14:54.959Z"
   },
   {
    "duration": 731,
    "start_time": "2023-04-15T14:14:55.363Z"
   },
   {
    "duration": 25,
    "start_time": "2023-04-15T14:14:56.095Z"
   },
   {
    "duration": 23,
    "start_time": "2023-04-15T14:14:56.121Z"
   },
   {
    "duration": 33,
    "start_time": "2023-04-15T14:14:56.146Z"
   },
   {
    "duration": 24,
    "start_time": "2023-04-15T14:14:56.181Z"
   },
   {
    "duration": 23,
    "start_time": "2023-04-15T14:14:56.207Z"
   },
   {
    "duration": 39,
    "start_time": "2023-04-15T14:14:56.233Z"
   },
   {
    "duration": 7,
    "start_time": "2023-04-15T14:14:56.273Z"
   },
   {
    "duration": 19,
    "start_time": "2023-04-15T14:14:56.282Z"
   },
   {
    "duration": 30,
    "start_time": "2023-04-15T14:14:56.302Z"
   },
   {
    "duration": 129,
    "start_time": "2023-04-15T14:14:56.333Z"
   },
   {
    "duration": 112,
    "start_time": "2023-04-15T14:14:56.464Z"
   },
   {
    "duration": 161,
    "start_time": "2023-04-15T14:14:56.578Z"
   },
   {
    "duration": 192,
    "start_time": "2023-04-15T14:14:56.741Z"
   },
   {
    "duration": 153,
    "start_time": "2023-04-15T14:14:56.934Z"
   },
   {
    "duration": 11,
    "start_time": "2023-04-15T14:14:57.089Z"
   },
   {
    "duration": 66,
    "start_time": "2023-04-15T14:14:57.102Z"
   },
   {
    "duration": 30,
    "start_time": "2023-04-15T14:31:16.744Z"
   },
   {
    "duration": 15,
    "start_time": "2023-04-15T14:31:21.170Z"
   },
   {
    "duration": 69,
    "start_time": "2023-04-15T14:31:42.047Z"
   },
   {
    "duration": 5,
    "start_time": "2023-04-15T14:34:34.230Z"
   },
   {
    "duration": 8,
    "start_time": "2023-04-15T14:34:51.454Z"
   },
   {
    "duration": 5,
    "start_time": "2023-04-15T14:35:41.139Z"
   },
   {
    "duration": 5,
    "start_time": "2023-04-15T14:35:41.734Z"
   },
   {
    "duration": 5,
    "start_time": "2023-04-15T14:35:53.547Z"
   },
   {
    "duration": 4,
    "start_time": "2023-04-15T14:35:53.964Z"
   },
   {
    "duration": 350,
    "start_time": "2023-04-15T14:35:57.028Z"
   },
   {
    "duration": 710,
    "start_time": "2023-04-15T14:35:57.380Z"
   },
   {
    "duration": 114,
    "start_time": "2023-04-15T14:35:58.091Z"
   },
   {
    "duration": 35,
    "start_time": "2023-04-15T14:35:58.206Z"
   },
   {
    "duration": 38,
    "start_time": "2023-04-15T14:35:58.243Z"
   },
   {
    "duration": 23,
    "start_time": "2023-04-15T14:35:58.283Z"
   },
   {
    "duration": 52,
    "start_time": "2023-04-15T14:35:58.308Z"
   },
   {
    "duration": 42,
    "start_time": "2023-04-15T14:35:58.362Z"
   },
   {
    "duration": 24,
    "start_time": "2023-04-15T14:35:58.406Z"
   },
   {
    "duration": 17,
    "start_time": "2023-04-15T14:35:58.431Z"
   },
   {
    "duration": 44,
    "start_time": "2023-04-15T14:35:58.449Z"
   },
   {
    "duration": 5,
    "start_time": "2023-04-15T14:35:58.495Z"
   },
   {
    "duration": 22,
    "start_time": "2023-04-15T14:35:58.502Z"
   },
   {
    "duration": 27,
    "start_time": "2023-04-15T14:35:58.526Z"
   },
   {
    "duration": 18,
    "start_time": "2023-04-15T14:35:58.555Z"
   },
   {
    "duration": 98,
    "start_time": "2023-04-15T14:35:58.575Z"
   },
   {
    "duration": 149,
    "start_time": "2023-04-15T14:35:58.674Z"
   },
   {
    "duration": 167,
    "start_time": "2023-04-15T14:35:58.825Z"
   },
   {
    "duration": 145,
    "start_time": "2023-04-15T14:35:58.994Z"
   },
   {
    "duration": 5,
    "start_time": "2023-04-15T14:35:59.140Z"
   },
   {
    "duration": 96,
    "start_time": "2023-04-15T14:35:59.147Z"
   },
   {
    "duration": 405,
    "start_time": "2023-04-15T14:41:33.285Z"
   },
   {
    "duration": 729,
    "start_time": "2023-04-15T14:41:33.692Z"
   },
   {
    "duration": 120,
    "start_time": "2023-04-15T14:41:34.423Z"
   },
   {
    "duration": 36,
    "start_time": "2023-04-15T14:41:34.544Z"
   },
   {
    "duration": 26,
    "start_time": "2023-04-15T14:41:34.583Z"
   },
   {
    "duration": 19,
    "start_time": "2023-04-15T14:41:34.611Z"
   },
   {
    "duration": 52,
    "start_time": "2023-04-15T14:41:34.631Z"
   },
   {
    "duration": 22,
    "start_time": "2023-04-15T14:41:34.684Z"
   },
   {
    "duration": 22,
    "start_time": "2023-04-15T14:41:34.707Z"
   },
   {
    "duration": 10,
    "start_time": "2023-04-15T14:41:34.730Z"
   },
   {
    "duration": 51,
    "start_time": "2023-04-15T14:41:34.742Z"
   },
   {
    "duration": 6,
    "start_time": "2023-04-15T14:41:34.796Z"
   },
   {
    "duration": 15,
    "start_time": "2023-04-15T14:41:34.803Z"
   },
   {
    "duration": 23,
    "start_time": "2023-04-15T14:41:34.820Z"
   },
   {
    "duration": 28,
    "start_time": "2023-04-15T14:41:34.845Z"
   },
   {
    "duration": 120,
    "start_time": "2023-04-15T14:41:34.875Z"
   },
   {
    "duration": 177,
    "start_time": "2023-04-15T14:41:34.997Z"
   },
   {
    "duration": 186,
    "start_time": "2023-04-15T14:41:35.176Z"
   },
   {
    "duration": 159,
    "start_time": "2023-04-15T14:41:35.364Z"
   },
   {
    "duration": 5,
    "start_time": "2023-04-15T14:41:35.524Z"
   },
   {
    "duration": 69,
    "start_time": "2023-04-15T14:41:35.531Z"
   },
   {
    "duration": 17,
    "start_time": "2023-04-15T14:51:38.310Z"
   },
   {
    "duration": 9,
    "start_time": "2023-04-15T14:54:40.302Z"
   },
   {
    "duration": 95,
    "start_time": "2023-04-15T14:54:49.615Z"
   },
   {
    "duration": 50,
    "start_time": "2023-04-15T14:54:57.240Z"
   },
   {
    "duration": 17,
    "start_time": "2023-04-15T14:54:58.335Z"
   },
   {
    "duration": 18,
    "start_time": "2023-04-15T14:55:32.497Z"
   },
   {
    "duration": 416,
    "start_time": "2023-04-15T14:55:36.772Z"
   },
   {
    "duration": 848,
    "start_time": "2023-04-15T14:55:37.190Z"
   },
   {
    "duration": 137,
    "start_time": "2023-04-15T14:55:38.040Z"
   },
   {
    "duration": 36,
    "start_time": "2023-04-15T14:55:38.178Z"
   },
   {
    "duration": 25,
    "start_time": "2023-04-15T14:55:38.217Z"
   },
   {
    "duration": 30,
    "start_time": "2023-04-15T14:55:38.243Z"
   },
   {
    "duration": 50,
    "start_time": "2023-04-15T14:55:38.275Z"
   },
   {
    "duration": 25,
    "start_time": "2023-04-15T14:55:38.327Z"
   },
   {
    "duration": 43,
    "start_time": "2023-04-15T14:55:38.372Z"
   },
   {
    "duration": 32,
    "start_time": "2023-04-15T14:55:38.417Z"
   },
   {
    "duration": 21,
    "start_time": "2023-04-15T14:55:38.472Z"
   },
   {
    "duration": 12,
    "start_time": "2023-04-15T14:55:38.495Z"
   },
   {
    "duration": 110,
    "start_time": "2023-04-15T14:55:38.508Z"
   },
   {
    "duration": 6,
    "start_time": "2023-04-15T14:55:38.621Z"
   },
   {
    "duration": 20,
    "start_time": "2023-04-15T14:55:38.629Z"
   },
   {
    "duration": 34,
    "start_time": "2023-04-15T14:55:38.650Z"
   },
   {
    "duration": 16,
    "start_time": "2023-04-15T14:55:38.685Z"
   },
   {
    "duration": 82,
    "start_time": "2023-04-15T14:55:38.703Z"
   },
   {
    "duration": 153,
    "start_time": "2023-04-15T14:55:38.787Z"
   },
   {
    "duration": 195,
    "start_time": "2023-04-15T14:55:38.941Z"
   },
   {
    "duration": 148,
    "start_time": "2023-04-15T14:55:39.138Z"
   },
   {
    "duration": 4,
    "start_time": "2023-04-15T14:55:39.288Z"
   },
   {
    "duration": 120,
    "start_time": "2023-04-15T14:55:39.294Z"
   },
   {
    "duration": 19,
    "start_time": "2023-04-15T14:55:39.416Z"
   },
   {
    "duration": 26,
    "start_time": "2023-04-15T14:56:01.970Z"
   },
   {
    "duration": 327,
    "start_time": "2023-04-15T14:58:20.619Z"
   },
   {
    "duration": 708,
    "start_time": "2023-04-15T14:58:20.948Z"
   },
   {
    "duration": 120,
    "start_time": "2023-04-15T14:58:21.658Z"
   },
   {
    "duration": 21,
    "start_time": "2023-04-15T14:58:21.780Z"
   },
   {
    "duration": 22,
    "start_time": "2023-04-15T14:58:21.803Z"
   },
   {
    "duration": 60,
    "start_time": "2023-04-15T14:58:21.826Z"
   },
   {
    "duration": 6,
    "start_time": "2023-04-15T14:58:21.888Z"
   },
   {
    "duration": 41,
    "start_time": "2023-04-15T14:58:21.895Z"
   },
   {
    "duration": 17,
    "start_time": "2023-04-15T14:58:21.937Z"
   },
   {
    "duration": 28,
    "start_time": "2023-04-15T14:58:21.956Z"
   },
   {
    "duration": 22,
    "start_time": "2023-04-15T14:58:21.985Z"
   },
   {
    "duration": 20,
    "start_time": "2023-04-15T14:58:22.008Z"
   },
   {
    "duration": 27,
    "start_time": "2023-04-15T14:58:22.029Z"
   },
   {
    "duration": 7,
    "start_time": "2023-04-15T14:58:22.071Z"
   },
   {
    "duration": 97,
    "start_time": "2023-04-15T14:58:22.080Z"
   },
   {
    "duration": 6,
    "start_time": "2023-04-15T14:58:22.179Z"
   },
   {
    "duration": 15,
    "start_time": "2023-04-15T14:58:22.187Z"
   },
   {
    "duration": 16,
    "start_time": "2023-04-15T14:58:22.203Z"
   },
   {
    "duration": 10,
    "start_time": "2023-04-15T14:58:22.220Z"
   },
   {
    "duration": 97,
    "start_time": "2023-04-15T14:58:22.232Z"
   },
   {
    "duration": 159,
    "start_time": "2023-04-15T14:58:22.330Z"
   },
   {
    "duration": 183,
    "start_time": "2023-04-15T14:58:22.491Z"
   },
   {
    "duration": 153,
    "start_time": "2023-04-15T14:58:22.675Z"
   },
   {
    "duration": 5,
    "start_time": "2023-04-15T14:58:22.829Z"
   },
   {
    "duration": 65,
    "start_time": "2023-04-15T14:58:22.835Z"
   },
   {
    "duration": 15,
    "start_time": "2023-04-15T14:58:22.901Z"
   },
   {
    "duration": 348,
    "start_time": "2023-04-15T14:58:31.411Z"
   },
   {
    "duration": 726,
    "start_time": "2023-04-15T14:58:31.761Z"
   },
   {
    "duration": 106,
    "start_time": "2023-04-15T14:58:32.490Z"
   },
   {
    "duration": 22,
    "start_time": "2023-04-15T14:58:32.599Z"
   },
   {
    "duration": 16,
    "start_time": "2023-04-15T14:58:32.623Z"
   },
   {
    "duration": 55,
    "start_time": "2023-04-15T14:58:32.640Z"
   },
   {
    "duration": 4,
    "start_time": "2023-04-15T14:58:32.697Z"
   },
   {
    "duration": 9,
    "start_time": "2023-04-15T14:58:32.702Z"
   },
   {
    "duration": 17,
    "start_time": "2023-04-15T14:58:32.712Z"
   },
   {
    "duration": 49,
    "start_time": "2023-04-15T14:58:32.730Z"
   },
   {
    "duration": 21,
    "start_time": "2023-04-15T14:58:32.781Z"
   },
   {
    "duration": 21,
    "start_time": "2023-04-15T14:58:32.804Z"
   },
   {
    "duration": 8,
    "start_time": "2023-04-15T14:58:32.828Z"
   },
   {
    "duration": 67,
    "start_time": "2023-04-15T14:58:32.837Z"
   },
   {
    "duration": 5,
    "start_time": "2023-04-15T14:58:32.906Z"
   },
   {
    "duration": 33,
    "start_time": "2023-04-15T14:58:32.913Z"
   },
   {
    "duration": 26,
    "start_time": "2023-04-15T14:58:32.947Z"
   },
   {
    "duration": 9,
    "start_time": "2023-04-15T14:58:32.975Z"
   },
   {
    "duration": 92,
    "start_time": "2023-04-15T14:58:32.985Z"
   },
   {
    "duration": 161,
    "start_time": "2023-04-15T14:58:33.079Z"
   },
   {
    "duration": 176,
    "start_time": "2023-04-15T14:58:33.242Z"
   },
   {
    "duration": 141,
    "start_time": "2023-04-15T14:58:33.419Z"
   },
   {
    "duration": 5,
    "start_time": "2023-04-15T14:58:33.561Z"
   },
   {
    "duration": 50,
    "start_time": "2023-04-15T14:58:33.571Z"
   },
   {
    "duration": 15,
    "start_time": "2023-04-15T14:58:33.623Z"
   },
   {
    "duration": 4,
    "start_time": "2023-04-15T14:59:09.806Z"
   },
   {
    "duration": 402,
    "start_time": "2023-04-15T15:00:33.664Z"
   },
   {
    "duration": 741,
    "start_time": "2023-04-15T15:00:34.068Z"
   },
   {
    "duration": 118,
    "start_time": "2023-04-15T15:00:34.811Z"
   },
   {
    "duration": 24,
    "start_time": "2023-04-15T15:00:34.930Z"
   },
   {
    "duration": 40,
    "start_time": "2023-04-15T15:00:34.956Z"
   },
   {
    "duration": 1367,
    "start_time": "2023-04-15T15:00:34.997Z"
   },
   {
    "duration": 0,
    "start_time": "2023-04-15T15:00:36.366Z"
   },
   {
    "duration": 0,
    "start_time": "2023-04-15T15:00:36.369Z"
   },
   {
    "duration": 0,
    "start_time": "2023-04-15T15:00:36.371Z"
   },
   {
    "duration": 0,
    "start_time": "2023-04-15T15:00:36.372Z"
   },
   {
    "duration": 0,
    "start_time": "2023-04-15T15:00:36.373Z"
   },
   {
    "duration": 0,
    "start_time": "2023-04-15T15:00:36.374Z"
   },
   {
    "duration": 0,
    "start_time": "2023-04-15T15:00:36.375Z"
   },
   {
    "duration": 0,
    "start_time": "2023-04-15T15:00:36.377Z"
   },
   {
    "duration": 0,
    "start_time": "2023-04-15T15:00:36.378Z"
   },
   {
    "duration": 0,
    "start_time": "2023-04-15T15:00:36.380Z"
   },
   {
    "duration": 0,
    "start_time": "2023-04-15T15:00:36.381Z"
   },
   {
    "duration": 0,
    "start_time": "2023-04-15T15:00:36.383Z"
   },
   {
    "duration": 0,
    "start_time": "2023-04-15T15:00:36.384Z"
   },
   {
    "duration": 0,
    "start_time": "2023-04-15T15:00:36.386Z"
   },
   {
    "duration": 0,
    "start_time": "2023-04-15T15:00:36.387Z"
   },
   {
    "duration": 0,
    "start_time": "2023-04-15T15:00:36.389Z"
   },
   {
    "duration": 0,
    "start_time": "2023-04-15T15:00:36.390Z"
   },
   {
    "duration": 0,
    "start_time": "2023-04-15T15:00:36.391Z"
   },
   {
    "duration": 0,
    "start_time": "2023-04-15T15:00:36.392Z"
   },
   {
    "duration": 368,
    "start_time": "2023-04-15T15:00:59.382Z"
   },
   {
    "duration": 729,
    "start_time": "2023-04-15T15:00:59.752Z"
   },
   {
    "duration": 108,
    "start_time": "2023-04-15T15:01:00.482Z"
   },
   {
    "duration": 38,
    "start_time": "2023-04-15T15:01:00.591Z"
   },
   {
    "duration": 55,
    "start_time": "2023-04-15T15:01:00.630Z"
   },
   {
    "duration": 46,
    "start_time": "2023-04-15T15:01:00.686Z"
   },
   {
    "duration": 44,
    "start_time": "2023-04-15T15:01:00.735Z"
   },
   {
    "duration": 59,
    "start_time": "2023-04-15T15:01:00.781Z"
   },
   {
    "duration": 48,
    "start_time": "2023-04-15T15:01:00.842Z"
   },
   {
    "duration": 82,
    "start_time": "2023-04-15T15:01:00.894Z"
   },
   {
    "duration": 45,
    "start_time": "2023-04-15T15:01:00.977Z"
   },
   {
    "duration": 66,
    "start_time": "2023-04-15T15:01:01.025Z"
   },
   {
    "duration": 7,
    "start_time": "2023-04-15T15:01:01.093Z"
   },
   {
    "duration": 30,
    "start_time": "2023-04-15T15:01:01.102Z"
   },
   {
    "duration": 53,
    "start_time": "2023-04-15T15:01:01.133Z"
   },
   {
    "duration": 22,
    "start_time": "2023-04-15T15:01:01.187Z"
   },
   {
    "duration": 94,
    "start_time": "2023-04-15T15:01:01.210Z"
   },
   {
    "duration": 186,
    "start_time": "2023-04-15T15:01:01.305Z"
   },
   {
    "duration": 211,
    "start_time": "2023-04-15T15:01:01.493Z"
   },
   {
    "duration": 157,
    "start_time": "2023-04-15T15:01:01.706Z"
   },
   {
    "duration": 9,
    "start_time": "2023-04-15T15:01:01.864Z"
   },
   {
    "duration": 127,
    "start_time": "2023-04-15T15:01:01.874Z"
   },
   {
    "duration": 62,
    "start_time": "2023-04-15T15:01:02.002Z"
   },
   {
    "duration": 67,
    "start_time": "2023-04-15T15:02:40.246Z"
   },
   {
    "duration": 19,
    "start_time": "2023-04-15T15:02:45.294Z"
   },
   {
    "duration": 16,
    "start_time": "2023-04-15T15:02:45.991Z"
   },
   {
    "duration": 337,
    "start_time": "2023-04-15T15:04:32.235Z"
   },
   {
    "duration": 800,
    "start_time": "2023-04-15T15:04:32.574Z"
   },
   {
    "duration": 133,
    "start_time": "2023-04-15T15:04:33.375Z"
   },
   {
    "duration": 25,
    "start_time": "2023-04-15T15:04:33.509Z"
   },
   {
    "duration": 45,
    "start_time": "2023-04-15T15:04:33.536Z"
   },
   {
    "duration": 29,
    "start_time": "2023-04-15T15:04:33.583Z"
   },
   {
    "duration": 43,
    "start_time": "2023-04-15T15:04:33.614Z"
   },
   {
    "duration": 22,
    "start_time": "2023-04-15T15:04:33.658Z"
   },
   {
    "duration": 33,
    "start_time": "2023-04-15T15:04:33.682Z"
   },
   {
    "duration": 21,
    "start_time": "2023-04-15T15:04:33.717Z"
   },
   {
    "duration": 20,
    "start_time": "2023-04-15T15:04:33.740Z"
   },
   {
    "duration": 18,
    "start_time": "2023-04-15T15:04:33.761Z"
   },
   {
    "duration": 52,
    "start_time": "2023-04-15T15:04:33.780Z"
   },
   {
    "duration": 6,
    "start_time": "2023-04-15T15:04:33.835Z"
   },
   {
    "duration": 18,
    "start_time": "2023-04-15T15:04:33.842Z"
   },
   {
    "duration": 27,
    "start_time": "2023-04-15T15:04:33.861Z"
   },
   {
    "duration": 15,
    "start_time": "2023-04-15T15:04:33.889Z"
   },
   {
    "duration": 71,
    "start_time": "2023-04-15T15:04:33.906Z"
   },
   {
    "duration": 166,
    "start_time": "2023-04-15T15:04:33.986Z"
   },
   {
    "duration": 205,
    "start_time": "2023-04-15T15:04:34.154Z"
   },
   {
    "duration": 165,
    "start_time": "2023-04-15T15:04:34.360Z"
   },
   {
    "duration": 4,
    "start_time": "2023-04-15T15:04:34.527Z"
   },
   {
    "duration": 74,
    "start_time": "2023-04-15T15:04:34.533Z"
   },
   {
    "duration": 15,
    "start_time": "2023-04-15T15:04:34.609Z"
   },
   {
    "duration": 938,
    "start_time": "2023-04-15T15:04:56.191Z"
   },
   {
    "duration": 1089,
    "start_time": "2023-04-15T15:04:59.116Z"
   },
   {
    "duration": 783,
    "start_time": "2023-04-15T15:05:00.206Z"
   },
   {
    "duration": 121,
    "start_time": "2023-04-15T15:05:00.990Z"
   },
   {
    "duration": 26,
    "start_time": "2023-04-15T15:05:01.112Z"
   },
   {
    "duration": 80,
    "start_time": "2023-04-15T15:05:01.141Z"
   },
   {
    "duration": 55,
    "start_time": "2023-04-15T15:05:01.222Z"
   },
   {
    "duration": 128,
    "start_time": "2023-04-15T15:05:01.282Z"
   },
   {
    "duration": 117,
    "start_time": "2023-04-15T15:05:01.411Z"
   },
   {
    "duration": 109,
    "start_time": "2023-04-15T15:05:01.529Z"
   },
   {
    "duration": 66,
    "start_time": "2023-04-15T15:05:01.639Z"
   },
   {
    "duration": 58,
    "start_time": "2023-04-15T15:05:01.707Z"
   },
   {
    "duration": 44,
    "start_time": "2023-04-15T15:05:01.767Z"
   },
   {
    "duration": 53,
    "start_time": "2023-04-15T15:05:01.813Z"
   },
   {
    "duration": 24,
    "start_time": "2023-04-15T15:05:01.869Z"
   },
   {
    "duration": 66,
    "start_time": "2023-04-15T15:05:01.895Z"
   },
   {
    "duration": 53,
    "start_time": "2023-04-15T15:05:01.963Z"
   },
   {
    "duration": 41,
    "start_time": "2023-04-15T15:05:02.018Z"
   },
   {
    "duration": 118,
    "start_time": "2023-04-15T15:05:02.061Z"
   },
   {
    "duration": 181,
    "start_time": "2023-04-15T15:05:02.180Z"
   },
   {
    "duration": 202,
    "start_time": "2023-04-15T15:05:02.362Z"
   },
   {
    "duration": 167,
    "start_time": "2023-04-15T15:05:02.565Z"
   },
   {
    "duration": 4,
    "start_time": "2023-04-15T15:05:02.734Z"
   },
   {
    "duration": 82,
    "start_time": "2023-04-15T15:05:02.739Z"
   },
   {
    "duration": 16,
    "start_time": "2023-04-15T15:05:02.823Z"
   },
   {
    "duration": 18,
    "start_time": "2023-04-15T15:06:02.261Z"
   },
   {
    "duration": 22,
    "start_time": "2023-04-15T15:06:04.379Z"
   },
   {
    "duration": 21,
    "start_time": "2023-04-15T15:06:13.443Z"
   },
   {
    "duration": 28,
    "start_time": "2023-04-15T15:08:29.212Z"
   },
   {
    "duration": 19,
    "start_time": "2023-04-15T15:08:30.483Z"
   },
   {
    "duration": 16,
    "start_time": "2023-04-15T15:08:43.590Z"
   },
   {
    "duration": 57,
    "start_time": "2023-04-15T15:10:00.458Z"
   },
   {
    "duration": 1092,
    "start_time": "2023-04-15T15:10:21.450Z"
   },
   {
    "duration": 743,
    "start_time": "2023-04-15T15:10:22.544Z"
   },
   {
    "duration": 116,
    "start_time": "2023-04-15T15:10:23.288Z"
   },
   {
    "duration": 22,
    "start_time": "2023-04-15T15:10:23.406Z"
   },
   {
    "duration": 123,
    "start_time": "2023-04-15T15:10:23.430Z"
   },
   {
    "duration": 30,
    "start_time": "2023-04-15T15:10:23.555Z"
   },
   {
    "duration": 22,
    "start_time": "2023-04-15T15:10:23.586Z"
   },
   {
    "duration": 26,
    "start_time": "2023-04-15T15:10:23.609Z"
   },
   {
    "duration": 16,
    "start_time": "2023-04-15T15:10:23.637Z"
   },
   {
    "duration": 28,
    "start_time": "2023-04-15T15:10:23.671Z"
   },
   {
    "duration": 21,
    "start_time": "2023-04-15T15:10:23.701Z"
   },
   {
    "duration": 20,
    "start_time": "2023-04-15T15:10:23.724Z"
   },
   {
    "duration": 43,
    "start_time": "2023-04-15T15:10:23.746Z"
   },
   {
    "duration": 6,
    "start_time": "2023-04-15T15:10:23.792Z"
   },
   {
    "duration": 32,
    "start_time": "2023-04-15T15:10:23.800Z"
   },
   {
    "duration": 6,
    "start_time": "2023-04-15T15:10:23.834Z"
   },
   {
    "duration": 41,
    "start_time": "2023-04-15T15:10:23.841Z"
   },
   {
    "duration": 17,
    "start_time": "2023-04-15T15:10:23.884Z"
   },
   {
    "duration": 26,
    "start_time": "2023-04-15T15:10:23.902Z"
   },
   {
    "duration": 7,
    "start_time": "2023-04-15T15:10:23.929Z"
   },
   {
    "duration": 89,
    "start_time": "2023-04-15T15:10:23.938Z"
   },
   {
    "duration": 175,
    "start_time": "2023-04-15T15:10:24.029Z"
   },
   {
    "duration": 199,
    "start_time": "2023-04-15T15:10:24.206Z"
   },
   {
    "duration": 151,
    "start_time": "2023-04-15T15:10:24.406Z"
   },
   {
    "duration": 14,
    "start_time": "2023-04-15T15:10:24.559Z"
   },
   {
    "duration": 62,
    "start_time": "2023-04-15T15:10:24.575Z"
   },
   {
    "duration": 16,
    "start_time": "2023-04-15T15:10:24.638Z"
   },
   {
    "duration": 1083,
    "start_time": "2023-04-15T15:11:26.704Z"
   },
   {
    "duration": 800,
    "start_time": "2023-04-15T15:11:27.789Z"
   },
   {
    "duration": 117,
    "start_time": "2023-04-15T15:11:28.590Z"
   },
   {
    "duration": 23,
    "start_time": "2023-04-15T15:11:28.709Z"
   },
   {
    "duration": 149,
    "start_time": "2023-04-15T15:11:28.734Z"
   },
   {
    "duration": 23,
    "start_time": "2023-04-15T15:11:28.884Z"
   },
   {
    "duration": 20,
    "start_time": "2023-04-15T15:11:28.909Z"
   },
   {
    "duration": 43,
    "start_time": "2023-04-15T15:11:28.931Z"
   },
   {
    "duration": 14,
    "start_time": "2023-04-15T15:11:28.976Z"
   },
   {
    "duration": 26,
    "start_time": "2023-04-15T15:11:28.992Z"
   },
   {
    "duration": 18,
    "start_time": "2023-04-15T15:11:29.020Z"
   },
   {
    "duration": 40,
    "start_time": "2023-04-15T15:11:29.040Z"
   },
   {
    "duration": 26,
    "start_time": "2023-04-15T15:11:29.081Z"
   },
   {
    "duration": 6,
    "start_time": "2023-04-15T15:11:29.110Z"
   },
   {
    "duration": 31,
    "start_time": "2023-04-15T15:11:29.118Z"
   },
   {
    "duration": 24,
    "start_time": "2023-04-15T15:11:29.151Z"
   },
   {
    "duration": 16,
    "start_time": "2023-04-15T15:11:29.176Z"
   },
   {
    "duration": 41,
    "start_time": "2023-04-15T15:11:29.194Z"
   },
   {
    "duration": 47,
    "start_time": "2023-04-15T15:11:29.237Z"
   },
   {
    "duration": 35,
    "start_time": "2023-04-15T15:11:29.285Z"
   },
   {
    "duration": 48,
    "start_time": "2023-04-15T15:11:29.322Z"
   },
   {
    "duration": 7,
    "start_time": "2023-04-15T15:11:29.372Z"
   },
   {
    "duration": 68,
    "start_time": "2023-04-15T15:11:29.380Z"
   },
   {
    "duration": 181,
    "start_time": "2023-04-15T15:11:29.449Z"
   },
   {
    "duration": 184,
    "start_time": "2023-04-15T15:11:29.632Z"
   },
   {
    "duration": 151,
    "start_time": "2023-04-15T15:11:29.818Z"
   },
   {
    "duration": 4,
    "start_time": "2023-04-15T15:11:29.972Z"
   },
   {
    "duration": 60,
    "start_time": "2023-04-15T15:11:29.978Z"
   },
   {
    "duration": 25,
    "start_time": "2023-04-15T15:11:30.039Z"
   },
   {
    "duration": 5,
    "start_time": "2023-04-15T15:12:40.505Z"
   },
   {
    "duration": 124,
    "start_time": "2023-04-15T15:13:05.621Z"
   },
   {
    "duration": 226,
    "start_time": "2023-04-15T15:13:29.940Z"
   },
   {
    "duration": 256,
    "start_time": "2023-04-15T15:13:43.625Z"
   },
   {
    "duration": 184,
    "start_time": "2023-04-15T15:13:56.742Z"
   },
   {
    "duration": 4,
    "start_time": "2023-04-15T15:19:00.745Z"
   },
   {
    "duration": 193,
    "start_time": "2023-04-15T15:19:05.893Z"
   },
   {
    "duration": 1119,
    "start_time": "2023-04-15T15:19:17.905Z"
   },
   {
    "duration": 737,
    "start_time": "2023-04-15T15:19:19.026Z"
   },
   {
    "duration": 126,
    "start_time": "2023-04-15T15:19:19.765Z"
   },
   {
    "duration": 24,
    "start_time": "2023-04-15T15:19:19.892Z"
   },
   {
    "duration": 119,
    "start_time": "2023-04-15T15:19:19.919Z"
   },
   {
    "duration": 28,
    "start_time": "2023-04-15T15:19:20.039Z"
   },
   {
    "duration": 37,
    "start_time": "2023-04-15T15:19:20.068Z"
   },
   {
    "duration": 27,
    "start_time": "2023-04-15T15:19:20.107Z"
   },
   {
    "duration": 17,
    "start_time": "2023-04-15T15:19:20.135Z"
   },
   {
    "duration": 40,
    "start_time": "2023-04-15T15:19:20.154Z"
   },
   {
    "duration": 24,
    "start_time": "2023-04-15T15:19:20.195Z"
   },
   {
    "duration": 19,
    "start_time": "2023-04-15T15:19:20.221Z"
   },
   {
    "duration": 36,
    "start_time": "2023-04-15T15:19:20.241Z"
   },
   {
    "duration": 8,
    "start_time": "2023-04-15T15:19:20.280Z"
   },
   {
    "duration": 42,
    "start_time": "2023-04-15T15:19:20.289Z"
   },
   {
    "duration": 6,
    "start_time": "2023-04-15T15:19:20.333Z"
   },
   {
    "duration": 14,
    "start_time": "2023-04-15T15:19:20.341Z"
   },
   {
    "duration": 32,
    "start_time": "2023-04-15T15:19:20.357Z"
   },
   {
    "duration": 25,
    "start_time": "2023-04-15T15:19:20.391Z"
   },
   {
    "duration": 39,
    "start_time": "2023-04-15T15:19:20.417Z"
   },
   {
    "duration": 48,
    "start_time": "2023-04-15T15:19:20.457Z"
   },
   {
    "duration": 33,
    "start_time": "2023-04-15T15:19:20.507Z"
   },
   {
    "duration": 26,
    "start_time": "2023-04-15T15:19:20.542Z"
   },
   {
    "duration": 77,
    "start_time": "2023-04-15T15:19:20.570Z"
   },
   {
    "duration": 170,
    "start_time": "2023-04-15T15:19:20.649Z"
   },
   {
    "duration": 190,
    "start_time": "2023-04-15T15:19:20.821Z"
   },
   {
    "duration": 175,
    "start_time": "2023-04-15T15:19:21.012Z"
   },
   {
    "duration": 4,
    "start_time": "2023-04-15T15:19:21.189Z"
   },
   {
    "duration": 58,
    "start_time": "2023-04-15T15:19:21.194Z"
   },
   {
    "duration": 39,
    "start_time": "2023-04-15T15:19:21.253Z"
   },
   {
    "duration": 224,
    "start_time": "2023-04-15T15:19:21.294Z"
   },
   {
    "duration": 127,
    "start_time": "2023-04-15T15:19:21.519Z"
   },
   {
    "duration": 1104,
    "start_time": "2023-04-15T15:19:51.143Z"
   },
   {
    "duration": 844,
    "start_time": "2023-04-15T15:19:52.249Z"
   },
   {
    "duration": 145,
    "start_time": "2023-04-15T15:19:53.099Z"
   },
   {
    "duration": 45,
    "start_time": "2023-04-15T15:19:53.245Z"
   },
   {
    "duration": 128,
    "start_time": "2023-04-15T15:19:53.293Z"
   },
   {
    "duration": 20,
    "start_time": "2023-04-15T15:19:53.423Z"
   },
   {
    "duration": 43,
    "start_time": "2023-04-15T15:19:53.445Z"
   },
   {
    "duration": 25,
    "start_time": "2023-04-15T15:19:53.490Z"
   },
   {
    "duration": 15,
    "start_time": "2023-04-15T15:19:53.517Z"
   },
   {
    "duration": 58,
    "start_time": "2023-04-15T15:19:53.533Z"
   },
   {
    "duration": 27,
    "start_time": "2023-04-15T15:19:53.593Z"
   },
   {
    "duration": 33,
    "start_time": "2023-04-15T15:19:53.621Z"
   },
   {
    "duration": 30,
    "start_time": "2023-04-15T15:19:53.655Z"
   },
   {
    "duration": 8,
    "start_time": "2023-04-15T15:19:53.688Z"
   },
   {
    "duration": 48,
    "start_time": "2023-04-15T15:19:53.697Z"
   },
   {
    "duration": 5,
    "start_time": "2023-04-15T15:19:53.747Z"
   },
   {
    "duration": 20,
    "start_time": "2023-04-15T15:19:53.754Z"
   },
   {
    "duration": 32,
    "start_time": "2023-04-15T15:19:53.775Z"
   },
   {
    "duration": 34,
    "start_time": "2023-04-15T15:19:53.809Z"
   },
   {
    "duration": 24,
    "start_time": "2023-04-15T15:19:53.844Z"
   },
   {
    "duration": 38,
    "start_time": "2023-04-15T15:19:53.869Z"
   },
   {
    "duration": 32,
    "start_time": "2023-04-15T15:19:53.908Z"
   },
   {
    "duration": 40,
    "start_time": "2023-04-15T15:19:53.942Z"
   },
   {
    "duration": 68,
    "start_time": "2023-04-15T15:19:53.983Z"
   },
   {
    "duration": 170,
    "start_time": "2023-04-15T15:19:54.053Z"
   },
   {
    "duration": 191,
    "start_time": "2023-04-15T15:19:54.225Z"
   },
   {
    "duration": 168,
    "start_time": "2023-04-15T15:19:54.418Z"
   },
   {
    "duration": 5,
    "start_time": "2023-04-15T15:19:54.588Z"
   },
   {
    "duration": 61,
    "start_time": "2023-04-15T15:19:54.595Z"
   },
   {
    "duration": 22,
    "start_time": "2023-04-15T15:19:54.658Z"
   },
   {
    "duration": 252,
    "start_time": "2023-04-15T15:19:54.681Z"
   },
   {
    "duration": 164,
    "start_time": "2023-04-15T15:19:54.935Z"
   },
   {
    "duration": 75,
    "start_time": "2023-04-15T15:20:36.058Z"
   },
   {
    "duration": 17,
    "start_time": "2023-04-15T15:24:43.791Z"
   },
   {
    "duration": 1039,
    "start_time": "2023-04-15T15:24:47.010Z"
   },
   {
    "duration": 738,
    "start_time": "2023-04-15T15:24:48.051Z"
   },
   {
    "duration": 106,
    "start_time": "2023-04-15T15:24:48.791Z"
   },
   {
    "duration": 21,
    "start_time": "2023-04-15T15:24:48.898Z"
   },
   {
    "duration": 126,
    "start_time": "2023-04-15T15:24:48.921Z"
   },
   {
    "duration": 37,
    "start_time": "2023-04-15T15:24:49.049Z"
   },
   {
    "duration": 37,
    "start_time": "2023-04-15T15:24:49.087Z"
   },
   {
    "duration": 31,
    "start_time": "2023-04-15T15:24:49.125Z"
   },
   {
    "duration": 29,
    "start_time": "2023-04-15T15:24:49.158Z"
   },
   {
    "duration": 22,
    "start_time": "2023-04-15T15:24:49.188Z"
   },
   {
    "duration": 18,
    "start_time": "2023-04-15T15:24:49.212Z"
   },
   {
    "duration": 20,
    "start_time": "2023-04-15T15:24:49.232Z"
   },
   {
    "duration": 32,
    "start_time": "2023-04-15T15:24:49.254Z"
   },
   {
    "duration": 6,
    "start_time": "2023-04-15T15:24:49.289Z"
   },
   {
    "duration": 38,
    "start_time": "2023-04-15T15:24:49.296Z"
   },
   {
    "duration": 6,
    "start_time": "2023-04-15T15:24:49.336Z"
   },
   {
    "duration": 27,
    "start_time": "2023-04-15T15:24:49.343Z"
   },
   {
    "duration": 35,
    "start_time": "2023-04-15T15:24:49.372Z"
   },
   {
    "duration": 19,
    "start_time": "2023-04-15T15:24:49.409Z"
   },
   {
    "duration": 16,
    "start_time": "2023-04-15T15:24:49.429Z"
   },
   {
    "duration": 18,
    "start_time": "2023-04-15T15:24:49.446Z"
   },
   {
    "duration": 8,
    "start_time": "2023-04-15T15:24:49.465Z"
   },
   {
    "duration": 39,
    "start_time": "2023-04-15T15:24:49.473Z"
   },
   {
    "duration": 74,
    "start_time": "2023-04-15T15:24:49.513Z"
   },
   {
    "duration": 158,
    "start_time": "2023-04-15T15:24:49.589Z"
   },
   {
    "duration": 193,
    "start_time": "2023-04-15T15:24:49.749Z"
   },
   {
    "duration": 162,
    "start_time": "2023-04-15T15:24:49.943Z"
   },
   {
    "duration": 4,
    "start_time": "2023-04-15T15:24:50.107Z"
   },
   {
    "duration": 95,
    "start_time": "2023-04-15T15:24:50.113Z"
   },
   {
    "duration": 20,
    "start_time": "2023-04-15T15:24:50.210Z"
   },
   {
    "duration": 20,
    "start_time": "2023-04-15T15:24:50.232Z"
   },
   {
    "duration": 249,
    "start_time": "2023-04-15T15:24:50.254Z"
   },
   {
    "duration": 156,
    "start_time": "2023-04-15T15:24:50.504Z"
   },
   {
    "duration": 94,
    "start_time": "2023-04-15T15:24:50.661Z"
   },
   {
    "duration": 16,
    "start_time": "2023-04-15T15:25:16.847Z"
   },
   {
    "duration": 70,
    "start_time": "2023-04-15T15:25:26.499Z"
   },
   {
    "duration": 117,
    "start_time": "2023-04-15T15:26:55.240Z"
   },
   {
    "duration": 99,
    "start_time": "2023-04-15T15:27:14.038Z"
   },
   {
    "duration": 1094,
    "start_time": "2023-04-15T15:27:40.803Z"
   },
   {
    "duration": 747,
    "start_time": "2023-04-15T15:27:41.899Z"
   },
   {
    "duration": 130,
    "start_time": "2023-04-15T15:27:42.648Z"
   },
   {
    "duration": 30,
    "start_time": "2023-04-15T15:27:42.780Z"
   },
   {
    "duration": 114,
    "start_time": "2023-04-15T15:27:42.812Z"
   },
   {
    "duration": 55,
    "start_time": "2023-04-15T15:27:42.928Z"
   },
   {
    "duration": 31,
    "start_time": "2023-04-15T15:27:42.992Z"
   },
   {
    "duration": 22,
    "start_time": "2023-04-15T15:27:43.024Z"
   },
   {
    "duration": 22,
    "start_time": "2023-04-15T15:27:43.048Z"
   },
   {
    "duration": 64,
    "start_time": "2023-04-15T15:27:43.078Z"
   },
   {
    "duration": 21,
    "start_time": "2023-04-15T15:27:43.144Z"
   },
   {
    "duration": 50,
    "start_time": "2023-04-15T15:27:43.166Z"
   },
   {
    "duration": 23,
    "start_time": "2023-04-15T15:27:43.218Z"
   },
   {
    "duration": 6,
    "start_time": "2023-04-15T15:27:43.244Z"
   },
   {
    "duration": 41,
    "start_time": "2023-04-15T15:27:43.251Z"
   },
   {
    "duration": 5,
    "start_time": "2023-04-15T15:27:43.294Z"
   },
   {
    "duration": 17,
    "start_time": "2023-04-15T15:27:43.301Z"
   },
   {
    "duration": 29,
    "start_time": "2023-04-15T15:27:43.320Z"
   },
   {
    "duration": 36,
    "start_time": "2023-04-15T15:27:43.350Z"
   },
   {
    "duration": 29,
    "start_time": "2023-04-15T15:27:43.387Z"
   },
   {
    "duration": 19,
    "start_time": "2023-04-15T15:27:43.418Z"
   },
   {
    "duration": 13,
    "start_time": "2023-04-15T15:27:43.438Z"
   },
   {
    "duration": 35,
    "start_time": "2023-04-15T15:27:43.452Z"
   },
   {
    "duration": 69,
    "start_time": "2023-04-15T15:27:43.488Z"
   },
   {
    "duration": 181,
    "start_time": "2023-04-15T15:27:43.558Z"
   },
   {
    "duration": 198,
    "start_time": "2023-04-15T15:27:43.740Z"
   },
   {
    "duration": 161,
    "start_time": "2023-04-15T15:27:43.939Z"
   },
   {
    "duration": 4,
    "start_time": "2023-04-15T15:27:44.102Z"
   },
   {
    "duration": 82,
    "start_time": "2023-04-15T15:27:44.108Z"
   },
   {
    "duration": 19,
    "start_time": "2023-04-15T15:27:44.192Z"
   },
   {
    "duration": 22,
    "start_time": "2023-04-15T15:27:44.212Z"
   },
   {
    "duration": 233,
    "start_time": "2023-04-15T15:27:44.235Z"
   },
   {
    "duration": 158,
    "start_time": "2023-04-15T15:27:44.471Z"
   },
   {
    "duration": 790,
    "start_time": "2023-04-15T15:27:44.630Z"
   },
   {
    "duration": 115,
    "start_time": "2023-04-15T15:27:45.422Z"
   },
   {
    "duration": 84,
    "start_time": "2023-04-15T15:27:45.539Z"
   },
   {
    "duration": 735,
    "start_time": "2023-04-15T15:28:29.936Z"
   },
   {
    "duration": 787,
    "start_time": "2023-04-15T15:28:39.408Z"
   },
   {
    "duration": 45,
    "start_time": "2023-04-15T15:30:01.297Z"
   },
   {
    "duration": 1233,
    "start_time": "2023-04-15T15:30:04.598Z"
   },
   {
    "duration": 868,
    "start_time": "2023-04-15T15:30:05.833Z"
   },
   {
    "duration": 116,
    "start_time": "2023-04-15T15:30:06.703Z"
   },
   {
    "duration": 21,
    "start_time": "2023-04-15T15:30:06.821Z"
   },
   {
    "duration": 121,
    "start_time": "2023-04-15T15:30:06.844Z"
   },
   {
    "duration": 27,
    "start_time": "2023-04-15T15:30:06.973Z"
   },
   {
    "duration": 21,
    "start_time": "2023-04-15T15:30:07.001Z"
   },
   {
    "duration": 27,
    "start_time": "2023-04-15T15:30:07.023Z"
   },
   {
    "duration": 44,
    "start_time": "2023-04-15T15:30:07.051Z"
   },
   {
    "duration": 25,
    "start_time": "2023-04-15T15:30:07.096Z"
   },
   {
    "duration": 20,
    "start_time": "2023-04-15T15:30:07.123Z"
   },
   {
    "duration": 32,
    "start_time": "2023-04-15T15:30:07.145Z"
   },
   {
    "duration": 26,
    "start_time": "2023-04-15T15:30:07.178Z"
   },
   {
    "duration": 5,
    "start_time": "2023-04-15T15:30:07.207Z"
   },
   {
    "duration": 37,
    "start_time": "2023-04-15T15:30:07.214Z"
   },
   {
    "duration": 24,
    "start_time": "2023-04-15T15:30:07.253Z"
   },
   {
    "duration": 20,
    "start_time": "2023-04-15T15:30:07.278Z"
   },
   {
    "duration": 18,
    "start_time": "2023-04-15T15:30:07.300Z"
   },
   {
    "duration": 25,
    "start_time": "2023-04-15T15:30:07.319Z"
   },
   {
    "duration": 40,
    "start_time": "2023-04-15T15:30:07.346Z"
   },
   {
    "duration": 23,
    "start_time": "2023-04-15T15:30:07.388Z"
   },
   {
    "duration": 27,
    "start_time": "2023-04-15T15:30:07.412Z"
   },
   {
    "duration": 28,
    "start_time": "2023-04-15T15:30:07.440Z"
   },
   {
    "duration": 62,
    "start_time": "2023-04-15T15:30:07.470Z"
   },
   {
    "duration": 76,
    "start_time": "2023-04-15T15:30:07.534Z"
   },
   {
    "duration": 157,
    "start_time": "2023-04-15T15:30:07.612Z"
   },
   {
    "duration": 170,
    "start_time": "2023-04-15T15:30:07.771Z"
   },
   {
    "duration": 152,
    "start_time": "2023-04-15T15:30:07.942Z"
   },
   {
    "duration": 5,
    "start_time": "2023-04-15T15:30:08.095Z"
   },
   {
    "duration": 92,
    "start_time": "2023-04-15T15:30:08.102Z"
   },
   {
    "duration": 36,
    "start_time": "2023-04-15T15:30:08.195Z"
   },
   {
    "duration": 16,
    "start_time": "2023-04-15T15:30:08.232Z"
   },
   {
    "duration": 269,
    "start_time": "2023-04-15T15:30:08.250Z"
   },
   {
    "duration": 167,
    "start_time": "2023-04-15T15:30:08.521Z"
   },
   {
    "duration": 724,
    "start_time": "2023-04-15T15:30:08.691Z"
   },
   {
    "duration": 90,
    "start_time": "2023-04-15T15:30:09.417Z"
   },
   {
    "duration": 84,
    "start_time": "2023-04-15T15:30:09.508Z"
   },
   {
    "duration": 118,
    "start_time": "2023-04-15T15:30:35.690Z"
   },
   {
    "duration": 658,
    "start_time": "2023-04-15T15:30:38.196Z"
   },
   {
    "duration": 702,
    "start_time": "2023-04-15T15:30:54.758Z"
   },
   {
    "duration": 41,
    "start_time": "2023-04-15T15:31:42.189Z"
   },
   {
    "duration": 716,
    "start_time": "2023-04-15T15:31:47.184Z"
   },
   {
    "duration": 56,
    "start_time": "2023-04-15T15:31:50.818Z"
   },
   {
    "duration": 16,
    "start_time": "2023-04-15T15:32:00.508Z"
   },
   {
    "duration": 1204,
    "start_time": "2023-04-15T15:32:27.728Z"
   },
   {
    "duration": 814,
    "start_time": "2023-04-15T15:32:28.934Z"
   },
   {
    "duration": 140,
    "start_time": "2023-04-15T15:32:29.750Z"
   },
   {
    "duration": 25,
    "start_time": "2023-04-15T15:32:29.892Z"
   },
   {
    "duration": 118,
    "start_time": "2023-04-15T15:32:29.919Z"
   },
   {
    "duration": 48,
    "start_time": "2023-04-15T15:32:30.039Z"
   },
   {
    "duration": 63,
    "start_time": "2023-04-15T15:32:30.089Z"
   },
   {
    "duration": 62,
    "start_time": "2023-04-15T15:32:30.153Z"
   },
   {
    "duration": 36,
    "start_time": "2023-04-15T15:32:30.217Z"
   },
   {
    "duration": 72,
    "start_time": "2023-04-15T15:32:30.255Z"
   },
   {
    "duration": 43,
    "start_time": "2023-04-15T15:32:30.328Z"
   },
   {
    "duration": 60,
    "start_time": "2023-04-15T15:32:30.374Z"
   },
   {
    "duration": 51,
    "start_time": "2023-04-15T15:32:30.435Z"
   },
   {
    "duration": 23,
    "start_time": "2023-04-15T15:32:30.490Z"
   },
   {
    "duration": 76,
    "start_time": "2023-04-15T15:32:30.515Z"
   },
   {
    "duration": 164,
    "start_time": "2023-04-15T15:32:30.592Z"
   },
   {
    "duration": 165,
    "start_time": "2023-04-15T15:32:30.757Z"
   },
   {
    "duration": 79,
    "start_time": "2023-04-15T15:32:30.923Z"
   },
   {
    "duration": 177,
    "start_time": "2023-04-15T15:32:31.005Z"
   },
   {
    "duration": 116,
    "start_time": "2023-04-15T15:32:31.184Z"
   },
   {
    "duration": 56,
    "start_time": "2023-04-15T15:32:31.302Z"
   },
   {
    "duration": 39,
    "start_time": "2023-04-15T15:32:31.359Z"
   },
   {
    "duration": 53,
    "start_time": "2023-04-15T15:32:31.400Z"
   },
   {
    "duration": 66,
    "start_time": "2023-04-15T15:32:31.454Z"
   },
   {
    "duration": 46,
    "start_time": "2023-04-15T15:32:31.522Z"
   },
   {
    "duration": 78,
    "start_time": "2023-04-15T15:32:31.570Z"
   },
   {
    "duration": 154,
    "start_time": "2023-04-15T15:32:31.650Z"
   },
   {
    "duration": 154,
    "start_time": "2023-04-15T15:32:31.805Z"
   },
   {
    "duration": 137,
    "start_time": "2023-04-15T15:32:31.960Z"
   },
   {
    "duration": 5,
    "start_time": "2023-04-15T15:32:32.099Z"
   },
   {
    "duration": 60,
    "start_time": "2023-04-15T15:32:32.105Z"
   },
   {
    "duration": 46,
    "start_time": "2023-04-15T15:32:32.167Z"
   },
   {
    "duration": 32,
    "start_time": "2023-04-15T15:32:32.215Z"
   },
   {
    "duration": 242,
    "start_time": "2023-04-15T15:32:32.248Z"
   },
   {
    "duration": 155,
    "start_time": "2023-04-15T15:32:32.491Z"
   },
   {
    "duration": 700,
    "start_time": "2023-04-15T15:32:32.647Z"
   },
   {
    "duration": 745,
    "start_time": "2023-04-15T15:32:33.349Z"
   },
   {
    "duration": 64,
    "start_time": "2023-04-15T15:32:34.095Z"
   },
   {
    "duration": 80,
    "start_time": "2023-04-15T15:32:34.161Z"
   },
   {
    "duration": 113,
    "start_time": "2023-04-15T15:38:13.592Z"
   },
   {
    "duration": 1116,
    "start_time": "2023-04-15T15:38:18.192Z"
   },
   {
    "duration": 1527,
    "start_time": "2023-04-15T15:38:19.309Z"
   },
   {
    "duration": 118,
    "start_time": "2023-04-15T15:38:20.839Z"
   },
   {
    "duration": 29,
    "start_time": "2023-04-15T15:38:20.960Z"
   },
   {
    "duration": 124,
    "start_time": "2023-04-15T15:38:20.991Z"
   },
   {
    "duration": 23,
    "start_time": "2023-04-15T15:38:21.117Z"
   },
   {
    "duration": 41,
    "start_time": "2023-04-15T15:38:21.141Z"
   },
   {
    "duration": 44,
    "start_time": "2023-04-15T15:38:21.184Z"
   },
   {
    "duration": 22,
    "start_time": "2023-04-15T15:38:21.230Z"
   },
   {
    "duration": 40,
    "start_time": "2023-04-15T15:38:21.254Z"
   },
   {
    "duration": 34,
    "start_time": "2023-04-15T15:38:21.295Z"
   },
   {
    "duration": 26,
    "start_time": "2023-04-15T15:38:21.330Z"
   },
   {
    "duration": 26,
    "start_time": "2023-04-15T15:38:21.377Z"
   },
   {
    "duration": 6,
    "start_time": "2023-04-15T15:38:21.405Z"
   },
   {
    "duration": 34,
    "start_time": "2023-04-15T15:38:21.413Z"
   },
   {
    "duration": 5,
    "start_time": "2023-04-15T15:38:21.449Z"
   },
   {
    "duration": 16,
    "start_time": "2023-04-15T15:38:21.478Z"
   },
   {
    "duration": 22,
    "start_time": "2023-04-15T15:38:21.495Z"
   },
   {
    "duration": 23,
    "start_time": "2023-04-15T15:38:21.519Z"
   },
   {
    "duration": 60,
    "start_time": "2023-04-15T15:38:21.544Z"
   },
   {
    "duration": 22,
    "start_time": "2023-04-15T15:38:21.607Z"
   },
   {
    "duration": 17,
    "start_time": "2023-04-15T15:38:21.630Z"
   },
   {
    "duration": 33,
    "start_time": "2023-04-15T15:38:21.648Z"
   },
   {
    "duration": 47,
    "start_time": "2023-04-15T15:38:21.683Z"
   },
   {
    "duration": 36,
    "start_time": "2023-04-15T15:38:21.732Z"
   },
   {
    "duration": 74,
    "start_time": "2023-04-15T15:38:21.770Z"
   },
   {
    "duration": 133,
    "start_time": "2023-04-15T15:38:21.845Z"
   },
   {
    "duration": 152,
    "start_time": "2023-04-15T15:38:21.979Z"
   },
   {
    "duration": 124,
    "start_time": "2023-04-15T15:38:22.132Z"
   },
   {
    "duration": 4,
    "start_time": "2023-04-15T15:38:22.258Z"
   },
   {
    "duration": 52,
    "start_time": "2023-04-15T15:38:22.286Z"
   },
   {
    "duration": 14,
    "start_time": "2023-04-15T15:38:22.339Z"
   },
   {
    "duration": 23,
    "start_time": "2023-04-15T15:38:22.354Z"
   },
   {
    "duration": 225,
    "start_time": "2023-04-15T15:38:22.383Z"
   },
   {
    "duration": 139,
    "start_time": "2023-04-15T15:38:22.610Z"
   },
   {
    "duration": 713,
    "start_time": "2023-04-15T15:38:22.750Z"
   },
   {
    "duration": 686,
    "start_time": "2023-04-15T15:38:23.465Z"
   },
   {
    "duration": 67,
    "start_time": "2023-04-15T15:38:24.153Z"
   },
   {
    "duration": 82,
    "start_time": "2023-04-15T15:38:24.222Z"
   },
   {
    "duration": 4,
    "start_time": "2023-04-15T15:38:24.307Z"
   },
   {
    "duration": 4,
    "start_time": "2023-04-15T15:38:42.755Z"
   },
   {
    "duration": 4,
    "start_time": "2023-04-15T15:38:56.786Z"
   },
   {
    "duration": 1070,
    "start_time": "2023-04-15T15:40:50.491Z"
   },
   {
    "duration": 1466,
    "start_time": "2023-04-15T15:40:51.562Z"
   },
   {
    "duration": 130,
    "start_time": "2023-04-15T15:40:53.033Z"
   },
   {
    "duration": 28,
    "start_time": "2023-04-15T15:40:53.164Z"
   },
   {
    "duration": 126,
    "start_time": "2023-04-15T15:40:53.194Z"
   },
   {
    "duration": 27,
    "start_time": "2023-04-15T15:40:53.322Z"
   },
   {
    "duration": 27,
    "start_time": "2023-04-15T15:40:53.351Z"
   },
   {
    "duration": 35,
    "start_time": "2023-04-15T15:40:53.379Z"
   },
   {
    "duration": 15,
    "start_time": "2023-04-15T15:40:53.415Z"
   },
   {
    "duration": 30,
    "start_time": "2023-04-15T15:40:53.432Z"
   },
   {
    "duration": 29,
    "start_time": "2023-04-15T15:40:53.463Z"
   },
   {
    "duration": 33,
    "start_time": "2023-04-15T15:40:53.493Z"
   },
   {
    "duration": 22,
    "start_time": "2023-04-15T15:40:53.530Z"
   },
   {
    "duration": 10,
    "start_time": "2023-04-15T15:40:53.554Z"
   },
   {
    "duration": 38,
    "start_time": "2023-04-15T15:40:53.578Z"
   },
   {
    "duration": 7,
    "start_time": "2023-04-15T15:40:53.618Z"
   },
   {
    "duration": 21,
    "start_time": "2023-04-15T15:40:53.627Z"
   },
   {
    "duration": 42,
    "start_time": "2023-04-15T15:40:53.650Z"
   },
   {
    "duration": 54,
    "start_time": "2023-04-15T15:40:53.694Z"
   },
   {
    "duration": 40,
    "start_time": "2023-04-15T15:40:53.750Z"
   },
   {
    "duration": 19,
    "start_time": "2023-04-15T15:40:53.792Z"
   },
   {
    "duration": 10,
    "start_time": "2023-04-15T15:40:53.813Z"
   },
   {
    "duration": 53,
    "start_time": "2023-04-15T15:40:53.824Z"
   },
   {
    "duration": 6,
    "start_time": "2023-04-15T15:40:53.879Z"
   },
   {
    "duration": 7,
    "start_time": "2023-04-15T15:40:53.887Z"
   },
   {
    "duration": 71,
    "start_time": "2023-04-15T15:40:53.895Z"
   },
   {
    "duration": 162,
    "start_time": "2023-04-15T15:40:53.968Z"
   },
   {
    "duration": 184,
    "start_time": "2023-04-15T15:40:54.131Z"
   },
   {
    "duration": 161,
    "start_time": "2023-04-15T15:40:54.317Z"
   },
   {
    "duration": 8,
    "start_time": "2023-04-15T15:40:54.479Z"
   },
   {
    "duration": 60,
    "start_time": "2023-04-15T15:40:54.489Z"
   },
   {
    "duration": 27,
    "start_time": "2023-04-15T15:40:54.550Z"
   },
   {
    "duration": 37,
    "start_time": "2023-04-15T15:40:54.578Z"
   },
   {
    "duration": 233,
    "start_time": "2023-04-15T15:40:54.616Z"
   },
   {
    "duration": 154,
    "start_time": "2023-04-15T15:40:54.850Z"
   },
   {
    "duration": 691,
    "start_time": "2023-04-15T15:40:55.005Z"
   },
   {
    "duration": 764,
    "start_time": "2023-04-15T15:40:55.698Z"
   },
   {
    "duration": 123,
    "start_time": "2023-04-15T15:40:56.463Z"
   },
   {
    "duration": 73,
    "start_time": "2023-04-15T15:40:56.589Z"
   },
   {
    "duration": 6,
    "start_time": "2023-04-15T15:40:56.666Z"
   },
   {
    "duration": 2,
    "start_time": "2023-04-15T15:41:23.641Z"
   },
   {
    "duration": 1112,
    "start_time": "2023-04-15T15:41:26.993Z"
   },
   {
    "duration": 1680,
    "start_time": "2023-04-15T15:41:28.107Z"
   },
   {
    "duration": 128,
    "start_time": "2023-04-15T15:41:29.788Z"
   },
   {
    "duration": 23,
    "start_time": "2023-04-15T15:41:29.917Z"
   },
   {
    "duration": 117,
    "start_time": "2023-04-15T15:41:29.942Z"
   },
   {
    "duration": 37,
    "start_time": "2023-04-15T15:41:30.061Z"
   },
   {
    "duration": 21,
    "start_time": "2023-04-15T15:41:30.100Z"
   },
   {
    "duration": 40,
    "start_time": "2023-04-15T15:41:30.122Z"
   },
   {
    "duration": 17,
    "start_time": "2023-04-15T15:41:30.164Z"
   },
   {
    "duration": 47,
    "start_time": "2023-04-15T15:41:30.182Z"
   },
   {
    "duration": 19,
    "start_time": "2023-04-15T15:41:30.230Z"
   },
   {
    "duration": 45,
    "start_time": "2023-04-15T15:41:30.251Z"
   },
   {
    "duration": 34,
    "start_time": "2023-04-15T15:41:30.298Z"
   },
   {
    "duration": 17,
    "start_time": "2023-04-15T15:41:30.335Z"
   },
   {
    "duration": 57,
    "start_time": "2023-04-15T15:41:30.354Z"
   },
   {
    "duration": 26,
    "start_time": "2023-04-15T15:41:30.413Z"
   },
   {
    "duration": 46,
    "start_time": "2023-04-15T15:41:30.441Z"
   },
   {
    "duration": 44,
    "start_time": "2023-04-15T15:41:30.488Z"
   },
   {
    "duration": 33,
    "start_time": "2023-04-15T15:41:30.534Z"
   },
   {
    "duration": 44,
    "start_time": "2023-04-15T15:41:30.568Z"
   },
   {
    "duration": 26,
    "start_time": "2023-04-15T15:41:30.613Z"
   },
   {
    "duration": 16,
    "start_time": "2023-04-15T15:41:30.640Z"
   },
   {
    "duration": 10,
    "start_time": "2023-04-15T15:41:30.657Z"
   },
   {
    "duration": 32,
    "start_time": "2023-04-15T15:41:30.669Z"
   },
   {
    "duration": 43,
    "start_time": "2023-04-15T15:41:30.703Z"
   },
   {
    "duration": 148,
    "start_time": "2023-04-15T15:41:30.747Z"
   },
   {
    "duration": 191,
    "start_time": "2023-04-15T15:41:30.897Z"
   },
   {
    "duration": 191,
    "start_time": "2023-04-15T15:41:31.094Z"
   },
   {
    "duration": 153,
    "start_time": "2023-04-15T15:41:31.293Z"
   },
   {
    "duration": 5,
    "start_time": "2023-04-15T15:41:31.447Z"
   },
   {
    "duration": 99,
    "start_time": "2023-04-15T15:41:31.453Z"
   },
   {
    "duration": 47,
    "start_time": "2023-04-15T15:41:31.554Z"
   },
   {
    "duration": 45,
    "start_time": "2023-04-15T15:41:31.603Z"
   },
   {
    "duration": 255,
    "start_time": "2023-04-15T15:41:31.649Z"
   },
   {
    "duration": 159,
    "start_time": "2023-04-15T15:41:31.906Z"
   },
   {
    "duration": 826,
    "start_time": "2023-04-15T15:41:32.067Z"
   },
   {
    "duration": 820,
    "start_time": "2023-04-15T15:41:32.896Z"
   },
   {
    "duration": 109,
    "start_time": "2023-04-15T15:41:33.717Z"
   },
   {
    "duration": 86,
    "start_time": "2023-04-15T15:41:33.827Z"
   },
   {
    "duration": 3,
    "start_time": "2023-04-15T15:41:33.915Z"
   },
   {
    "duration": 1113,
    "start_time": "2023-04-15T15:43:04.533Z"
   },
   {
    "duration": 1645,
    "start_time": "2023-04-15T15:43:05.648Z"
   },
   {
    "duration": 111,
    "start_time": "2023-04-15T15:43:07.295Z"
   },
   {
    "duration": 22,
    "start_time": "2023-04-15T15:43:07.408Z"
   },
   {
    "duration": 112,
    "start_time": "2023-04-15T15:43:07.432Z"
   },
   {
    "duration": 37,
    "start_time": "2023-04-15T15:43:07.546Z"
   },
   {
    "duration": 25,
    "start_time": "2023-04-15T15:43:07.585Z"
   },
   {
    "duration": 22,
    "start_time": "2023-04-15T15:43:07.612Z"
   },
   {
    "duration": 14,
    "start_time": "2023-04-15T15:43:07.636Z"
   },
   {
    "duration": 43,
    "start_time": "2023-04-15T15:43:07.652Z"
   },
   {
    "duration": 19,
    "start_time": "2023-04-15T15:43:07.697Z"
   },
   {
    "duration": 18,
    "start_time": "2023-04-15T15:43:07.717Z"
   },
   {
    "duration": 19,
    "start_time": "2023-04-15T15:43:07.737Z"
   },
   {
    "duration": 27,
    "start_time": "2023-04-15T15:43:07.758Z"
   },
   {
    "duration": 30,
    "start_time": "2023-04-15T15:43:07.786Z"
   },
   {
    "duration": 5,
    "start_time": "2023-04-15T15:43:07.817Z"
   },
   {
    "duration": 17,
    "start_time": "2023-04-15T15:43:07.823Z"
   },
   {
    "duration": 19,
    "start_time": "2023-04-15T15:43:07.841Z"
   },
   {
    "duration": 33,
    "start_time": "2023-04-15T15:43:07.861Z"
   },
   {
    "duration": 15,
    "start_time": "2023-04-15T15:43:07.896Z"
   },
   {
    "duration": 15,
    "start_time": "2023-04-15T15:43:07.912Z"
   },
   {
    "duration": 8,
    "start_time": "2023-04-15T15:43:07.928Z"
   },
   {
    "duration": 48,
    "start_time": "2023-04-15T15:43:07.937Z"
   },
   {
    "duration": 63,
    "start_time": "2023-04-15T15:43:07.987Z"
   },
   {
    "duration": 168,
    "start_time": "2023-04-15T15:43:08.051Z"
   },
   {
    "duration": 191,
    "start_time": "2023-04-15T15:43:08.220Z"
   },
   {
    "duration": 172,
    "start_time": "2023-04-15T15:43:08.413Z"
   },
   {
    "duration": 5,
    "start_time": "2023-04-15T15:43:08.587Z"
   },
   {
    "duration": 67,
    "start_time": "2023-04-15T15:43:08.593Z"
   },
   {
    "duration": 27,
    "start_time": "2023-04-15T15:43:08.661Z"
   },
   {
    "duration": 17,
    "start_time": "2023-04-15T15:43:08.689Z"
   },
   {
    "duration": 234,
    "start_time": "2023-04-15T15:43:08.708Z"
   },
   {
    "duration": 165,
    "start_time": "2023-04-15T15:43:08.943Z"
   },
   {
    "duration": 806,
    "start_time": "2023-04-15T15:43:09.109Z"
   },
   {
    "duration": 803,
    "start_time": "2023-04-15T15:43:09.917Z"
   },
   {
    "duration": 89,
    "start_time": "2023-04-15T15:43:10.722Z"
   },
   {
    "duration": 74,
    "start_time": "2023-04-15T15:43:10.813Z"
   },
   {
    "duration": 3,
    "start_time": "2023-04-15T15:43:10.889Z"
   },
   {
    "duration": 4,
    "start_time": "2023-04-15T15:43:10.894Z"
   },
   {
    "duration": 6,
    "start_time": "2023-04-15T15:43:10.900Z"
   },
   {
    "duration": 879,
    "start_time": "2023-04-15T15:52:40.528Z"
   },
   {
    "duration": 311,
    "start_time": "2023-04-15T15:53:07.208Z"
   },
   {
    "duration": 1069,
    "start_time": "2023-04-15T16:17:25.692Z"
   },
   {
    "duration": 1539,
    "start_time": "2023-04-15T16:17:26.763Z"
   },
   {
    "duration": 116,
    "start_time": "2023-04-15T16:17:28.304Z"
   },
   {
    "duration": 39,
    "start_time": "2023-04-15T16:17:28.422Z"
   },
   {
    "duration": 103,
    "start_time": "2023-04-15T16:17:28.464Z"
   },
   {
    "duration": 62,
    "start_time": "2023-04-15T16:17:28.571Z"
   },
   {
    "duration": 55,
    "start_time": "2023-04-15T16:17:28.635Z"
   },
   {
    "duration": 353,
    "start_time": "2023-04-15T16:17:28.692Z"
   },
   {
    "duration": 0,
    "start_time": "2023-04-15T16:17:29.047Z"
   },
   {
    "duration": 0,
    "start_time": "2023-04-15T16:17:29.048Z"
   },
   {
    "duration": 0,
    "start_time": "2023-04-15T16:17:29.049Z"
   },
   {
    "duration": 0,
    "start_time": "2023-04-15T16:17:29.051Z"
   },
   {
    "duration": 0,
    "start_time": "2023-04-15T16:17:29.052Z"
   },
   {
    "duration": 0,
    "start_time": "2023-04-15T16:17:29.054Z"
   },
   {
    "duration": 0,
    "start_time": "2023-04-15T16:17:29.055Z"
   },
   {
    "duration": 0,
    "start_time": "2023-04-15T16:17:29.056Z"
   },
   {
    "duration": 1,
    "start_time": "2023-04-15T16:17:29.057Z"
   },
   {
    "duration": 0,
    "start_time": "2023-04-15T16:17:29.059Z"
   },
   {
    "duration": 0,
    "start_time": "2023-04-15T16:17:29.060Z"
   },
   {
    "duration": 0,
    "start_time": "2023-04-15T16:17:29.061Z"
   },
   {
    "duration": 0,
    "start_time": "2023-04-15T16:17:29.062Z"
   },
   {
    "duration": 0,
    "start_time": "2023-04-15T16:17:29.064Z"
   },
   {
    "duration": 0,
    "start_time": "2023-04-15T16:17:29.065Z"
   },
   {
    "duration": 0,
    "start_time": "2023-04-15T16:17:29.066Z"
   },
   {
    "duration": 0,
    "start_time": "2023-04-15T16:17:29.067Z"
   },
   {
    "duration": 0,
    "start_time": "2023-04-15T16:17:29.068Z"
   },
   {
    "duration": 0,
    "start_time": "2023-04-15T16:17:29.069Z"
   },
   {
    "duration": 0,
    "start_time": "2023-04-15T16:17:29.071Z"
   },
   {
    "duration": 0,
    "start_time": "2023-04-15T16:17:29.071Z"
   },
   {
    "duration": 0,
    "start_time": "2023-04-15T16:17:29.072Z"
   },
   {
    "duration": 0,
    "start_time": "2023-04-15T16:17:29.072Z"
   },
   {
    "duration": 0,
    "start_time": "2023-04-15T16:17:29.073Z"
   },
   {
    "duration": 0,
    "start_time": "2023-04-15T16:17:29.073Z"
   },
   {
    "duration": 0,
    "start_time": "2023-04-15T16:17:29.074Z"
   },
   {
    "duration": 0,
    "start_time": "2023-04-15T16:17:29.074Z"
   },
   {
    "duration": 0,
    "start_time": "2023-04-15T16:17:29.074Z"
   },
   {
    "duration": 0,
    "start_time": "2023-04-15T16:17:29.075Z"
   },
   {
    "duration": 0,
    "start_time": "2023-04-15T16:17:29.075Z"
   },
   {
    "duration": 0,
    "start_time": "2023-04-15T16:17:29.076Z"
   },
   {
    "duration": 0,
    "start_time": "2023-04-15T16:17:29.076Z"
   },
   {
    "duration": 0,
    "start_time": "2023-04-15T16:17:29.077Z"
   },
   {
    "duration": 0,
    "start_time": "2023-04-15T16:17:29.078Z"
   },
   {
    "duration": 0,
    "start_time": "2023-04-15T16:17:29.079Z"
   },
   {
    "duration": 30,
    "start_time": "2023-04-15T16:17:52.363Z"
   },
   {
    "duration": 226,
    "start_time": "2023-04-15T16:17:54.031Z"
   },
   {
    "duration": 33,
    "start_time": "2023-04-15T16:18:01.224Z"
   },
   {
    "duration": 13,
    "start_time": "2023-04-15T16:18:01.796Z"
   },
   {
    "duration": 8,
    "start_time": "2023-04-15T16:18:12.056Z"
   },
   {
    "duration": 7,
    "start_time": "2023-04-15T16:18:31.096Z"
   },
   {
    "duration": 7,
    "start_time": "2023-04-15T16:18:33.053Z"
   },
   {
    "duration": 1163,
    "start_time": "2023-04-15T16:18:36.953Z"
   },
   {
    "duration": 1472,
    "start_time": "2023-04-15T16:18:38.118Z"
   },
   {
    "duration": 120,
    "start_time": "2023-04-15T16:18:39.591Z"
   },
   {
    "duration": 23,
    "start_time": "2023-04-15T16:18:39.713Z"
   },
   {
    "duration": 122,
    "start_time": "2023-04-15T16:18:39.738Z"
   },
   {
    "duration": 33,
    "start_time": "2023-04-15T16:18:39.862Z"
   },
   {
    "duration": 26,
    "start_time": "2023-04-15T16:18:39.897Z"
   },
   {
    "duration": 61,
    "start_time": "2023-04-15T16:18:39.924Z"
   },
   {
    "duration": 108,
    "start_time": "2023-04-15T16:18:39.987Z"
   },
   {
    "duration": 0,
    "start_time": "2023-04-15T16:18:40.097Z"
   },
   {
    "duration": 0,
    "start_time": "2023-04-15T16:18:40.099Z"
   },
   {
    "duration": 0,
    "start_time": "2023-04-15T16:18:40.099Z"
   },
   {
    "duration": 0,
    "start_time": "2023-04-15T16:18:40.100Z"
   },
   {
    "duration": 0,
    "start_time": "2023-04-15T16:18:40.101Z"
   },
   {
    "duration": 0,
    "start_time": "2023-04-15T16:18:40.102Z"
   },
   {
    "duration": 0,
    "start_time": "2023-04-15T16:18:40.103Z"
   },
   {
    "duration": 0,
    "start_time": "2023-04-15T16:18:40.104Z"
   },
   {
    "duration": 0,
    "start_time": "2023-04-15T16:18:40.105Z"
   },
   {
    "duration": 0,
    "start_time": "2023-04-15T16:18:40.106Z"
   },
   {
    "duration": 0,
    "start_time": "2023-04-15T16:18:40.106Z"
   },
   {
    "duration": 0,
    "start_time": "2023-04-15T16:18:40.107Z"
   },
   {
    "duration": 0,
    "start_time": "2023-04-15T16:18:40.108Z"
   },
   {
    "duration": 0,
    "start_time": "2023-04-15T16:18:40.108Z"
   },
   {
    "duration": 0,
    "start_time": "2023-04-15T16:18:40.109Z"
   },
   {
    "duration": 0,
    "start_time": "2023-04-15T16:18:40.110Z"
   },
   {
    "duration": 0,
    "start_time": "2023-04-15T16:18:40.111Z"
   },
   {
    "duration": 0,
    "start_time": "2023-04-15T16:18:40.111Z"
   },
   {
    "duration": 0,
    "start_time": "2023-04-15T16:18:40.113Z"
   },
   {
    "duration": 0,
    "start_time": "2023-04-15T16:18:40.113Z"
   },
   {
    "duration": 0,
    "start_time": "2023-04-15T16:18:40.114Z"
   },
   {
    "duration": 0,
    "start_time": "2023-04-15T16:18:40.115Z"
   },
   {
    "duration": 0,
    "start_time": "2023-04-15T16:18:40.116Z"
   },
   {
    "duration": 0,
    "start_time": "2023-04-15T16:18:40.117Z"
   },
   {
    "duration": 0,
    "start_time": "2023-04-15T16:18:40.118Z"
   },
   {
    "duration": 0,
    "start_time": "2023-04-15T16:18:40.119Z"
   },
   {
    "duration": 0,
    "start_time": "2023-04-15T16:18:40.120Z"
   },
   {
    "duration": 0,
    "start_time": "2023-04-15T16:18:40.121Z"
   },
   {
    "duration": 0,
    "start_time": "2023-04-15T16:18:40.122Z"
   },
   {
    "duration": 1,
    "start_time": "2023-04-15T16:18:40.122Z"
   },
   {
    "duration": 0,
    "start_time": "2023-04-15T16:18:40.123Z"
   },
   {
    "duration": 0,
    "start_time": "2023-04-15T16:18:40.125Z"
   },
   {
    "duration": 0,
    "start_time": "2023-04-15T16:18:40.174Z"
   },
   {
    "duration": 0,
    "start_time": "2023-04-15T16:18:40.174Z"
   },
   {
    "duration": 10,
    "start_time": "2023-04-15T16:18:51.559Z"
   },
   {
    "duration": 7,
    "start_time": "2023-04-15T16:18:58.216Z"
   },
   {
    "duration": 5,
    "start_time": "2023-04-15T16:19:00.015Z"
   },
   {
    "duration": 4,
    "start_time": "2023-04-15T16:19:09.391Z"
   },
   {
    "duration": 14,
    "start_time": "2023-04-15T16:19:12.017Z"
   },
   {
    "duration": 24,
    "start_time": "2023-04-15T16:19:12.205Z"
   },
   {
    "duration": 21,
    "start_time": "2023-04-15T16:19:12.392Z"
   },
   {
    "duration": 31,
    "start_time": "2023-04-15T16:19:12.557Z"
   },
   {
    "duration": 36,
    "start_time": "2023-04-15T16:19:12.851Z"
   },
   {
    "duration": 6,
    "start_time": "2023-04-15T16:19:13.023Z"
   },
   {
    "duration": 38,
    "start_time": "2023-04-15T16:19:13.195Z"
   },
   {
    "duration": 6,
    "start_time": "2023-04-15T16:19:13.343Z"
   },
   {
    "duration": 13,
    "start_time": "2023-04-15T16:19:13.502Z"
   },
   {
    "duration": 33,
    "start_time": "2023-04-15T16:19:13.659Z"
   },
   {
    "duration": 20,
    "start_time": "2023-04-15T16:19:13.828Z"
   },
   {
    "duration": 16,
    "start_time": "2023-04-15T16:19:14.007Z"
   },
   {
    "duration": 23,
    "start_time": "2023-04-15T16:19:14.169Z"
   },
   {
    "duration": 8,
    "start_time": "2023-04-15T16:19:14.356Z"
   },
   {
    "duration": 26,
    "start_time": "2023-04-15T16:19:14.525Z"
   },
   {
    "duration": 82,
    "start_time": "2023-04-15T16:19:14.699Z"
   },
   {
    "duration": 146,
    "start_time": "2023-04-15T16:19:14.902Z"
   },
   {
    "duration": 194,
    "start_time": "2023-04-15T16:19:15.054Z"
   },
   {
    "duration": 139,
    "start_time": "2023-04-15T16:19:15.250Z"
   },
   {
    "duration": 5,
    "start_time": "2023-04-15T16:19:15.411Z"
   },
   {
    "duration": 49,
    "start_time": "2023-04-15T16:19:15.600Z"
   },
   {
    "duration": 15,
    "start_time": "2023-04-15T16:19:15.795Z"
   },
   {
    "duration": 17,
    "start_time": "2023-04-15T16:19:16.003Z"
   },
   {
    "duration": 245,
    "start_time": "2023-04-15T16:19:16.162Z"
   },
   {
    "duration": 704,
    "start_time": "2023-04-15T16:19:16.409Z"
   },
   {
    "duration": 803,
    "start_time": "2023-04-15T16:19:17.115Z"
   },
   {
    "duration": 736,
    "start_time": "2023-04-15T16:19:17.919Z"
   },
   {
    "duration": 91,
    "start_time": "2023-04-15T16:19:18.657Z"
   },
   {
    "duration": 77,
    "start_time": "2023-04-15T16:19:18.750Z"
   },
   {
    "duration": 2,
    "start_time": "2023-04-15T16:19:18.828Z"
   },
   {
    "duration": 7,
    "start_time": "2023-04-15T16:19:18.832Z"
   },
   {
    "duration": 11,
    "start_time": "2023-04-15T16:19:18.840Z"
   },
   {
    "duration": 358,
    "start_time": "2023-04-15T16:19:18.853Z"
   },
   {
    "duration": 1114,
    "start_time": "2023-04-15T16:20:20.748Z"
   },
   {
    "duration": 1530,
    "start_time": "2023-04-15T16:20:21.864Z"
   },
   {
    "duration": 144,
    "start_time": "2023-04-15T16:20:23.396Z"
   },
   {
    "duration": 49,
    "start_time": "2023-04-15T16:20:23.542Z"
   },
   {
    "duration": 122,
    "start_time": "2023-04-15T16:20:23.594Z"
   },
   {
    "duration": 24,
    "start_time": "2023-04-15T16:20:23.718Z"
   },
   {
    "duration": 42,
    "start_time": "2023-04-15T16:20:23.743Z"
   },
   {
    "duration": 42,
    "start_time": "2023-04-15T16:20:23.787Z"
   },
   {
    "duration": 127,
    "start_time": "2023-04-15T16:20:23.830Z"
   },
   {
    "duration": 0,
    "start_time": "2023-04-15T16:20:23.960Z"
   },
   {
    "duration": 0,
    "start_time": "2023-04-15T16:20:23.962Z"
   },
   {
    "duration": 0,
    "start_time": "2023-04-15T16:20:23.963Z"
   },
   {
    "duration": 0,
    "start_time": "2023-04-15T16:20:23.964Z"
   },
   {
    "duration": 0,
    "start_time": "2023-04-15T16:20:23.972Z"
   },
   {
    "duration": 0,
    "start_time": "2023-04-15T16:20:23.973Z"
   },
   {
    "duration": 0,
    "start_time": "2023-04-15T16:20:23.974Z"
   },
   {
    "duration": 0,
    "start_time": "2023-04-15T16:20:23.976Z"
   },
   {
    "duration": 1,
    "start_time": "2023-04-15T16:20:23.976Z"
   },
   {
    "duration": 0,
    "start_time": "2023-04-15T16:20:23.978Z"
   },
   {
    "duration": 0,
    "start_time": "2023-04-15T16:20:23.982Z"
   },
   {
    "duration": 0,
    "start_time": "2023-04-15T16:20:23.982Z"
   },
   {
    "duration": 0,
    "start_time": "2023-04-15T16:20:23.983Z"
   },
   {
    "duration": 0,
    "start_time": "2023-04-15T16:20:23.983Z"
   },
   {
    "duration": 0,
    "start_time": "2023-04-15T16:20:23.983Z"
   },
   {
    "duration": 0,
    "start_time": "2023-04-15T16:20:23.984Z"
   },
   {
    "duration": 0,
    "start_time": "2023-04-15T16:20:23.984Z"
   },
   {
    "duration": 0,
    "start_time": "2023-04-15T16:20:23.985Z"
   },
   {
    "duration": 0,
    "start_time": "2023-04-15T16:20:23.991Z"
   },
   {
    "duration": 0,
    "start_time": "2023-04-15T16:20:23.992Z"
   },
   {
    "duration": 0,
    "start_time": "2023-04-15T16:20:23.993Z"
   },
   {
    "duration": 0,
    "start_time": "2023-04-15T16:20:23.994Z"
   },
   {
    "duration": 0,
    "start_time": "2023-04-15T16:20:23.995Z"
   },
   {
    "duration": 0,
    "start_time": "2023-04-15T16:20:23.997Z"
   },
   {
    "duration": 0,
    "start_time": "2023-04-15T16:20:23.998Z"
   },
   {
    "duration": 0,
    "start_time": "2023-04-15T16:20:24.000Z"
   },
   {
    "duration": 0,
    "start_time": "2023-04-15T16:20:24.006Z"
   },
   {
    "duration": 0,
    "start_time": "2023-04-15T16:20:24.007Z"
   },
   {
    "duration": 0,
    "start_time": "2023-04-15T16:20:24.008Z"
   },
   {
    "duration": 0,
    "start_time": "2023-04-15T16:20:24.009Z"
   },
   {
    "duration": 0,
    "start_time": "2023-04-15T16:20:24.010Z"
   },
   {
    "duration": 0,
    "start_time": "2023-04-15T16:20:24.011Z"
   },
   {
    "duration": 0,
    "start_time": "2023-04-15T16:20:24.012Z"
   },
   {
    "duration": 0,
    "start_time": "2023-04-15T16:20:24.013Z"
   },
   {
    "duration": 1097,
    "start_time": "2023-04-15T16:20:33.969Z"
   },
   {
    "duration": 1601,
    "start_time": "2023-04-15T16:20:35.070Z"
   },
   {
    "duration": 115,
    "start_time": "2023-04-15T16:20:36.678Z"
   },
   {
    "duration": 48,
    "start_time": "2023-04-15T16:20:36.794Z"
   },
   {
    "duration": 109,
    "start_time": "2023-04-15T16:20:36.844Z"
   },
   {
    "duration": 36,
    "start_time": "2023-04-15T16:20:36.955Z"
   },
   {
    "duration": 54,
    "start_time": "2023-04-15T16:20:36.993Z"
   },
   {
    "duration": 107,
    "start_time": "2023-04-15T16:20:37.048Z"
   },
   {
    "duration": 0,
    "start_time": "2023-04-15T16:20:37.158Z"
   },
   {
    "duration": 0,
    "start_time": "2023-04-15T16:20:37.160Z"
   },
   {
    "duration": 0,
    "start_time": "2023-04-15T16:20:37.161Z"
   },
   {
    "duration": 0,
    "start_time": "2023-04-15T16:20:37.182Z"
   },
   {
    "duration": 0,
    "start_time": "2023-04-15T16:20:37.182Z"
   },
   {
    "duration": 0,
    "start_time": "2023-04-15T16:20:37.183Z"
   },
   {
    "duration": 0,
    "start_time": "2023-04-15T16:20:37.183Z"
   },
   {
    "duration": 0,
    "start_time": "2023-04-15T16:20:37.183Z"
   },
   {
    "duration": 0,
    "start_time": "2023-04-15T16:20:37.184Z"
   },
   {
    "duration": 0,
    "start_time": "2023-04-15T16:20:37.184Z"
   },
   {
    "duration": 0,
    "start_time": "2023-04-15T16:20:37.185Z"
   },
   {
    "duration": 0,
    "start_time": "2023-04-15T16:20:37.185Z"
   },
   {
    "duration": 0,
    "start_time": "2023-04-15T16:20:37.186Z"
   },
   {
    "duration": 0,
    "start_time": "2023-04-15T16:20:37.186Z"
   },
   {
    "duration": 0,
    "start_time": "2023-04-15T16:20:37.187Z"
   },
   {
    "duration": 0,
    "start_time": "2023-04-15T16:20:37.187Z"
   },
   {
    "duration": 0,
    "start_time": "2023-04-15T16:20:37.189Z"
   },
   {
    "duration": 0,
    "start_time": "2023-04-15T16:20:37.191Z"
   },
   {
    "duration": 0,
    "start_time": "2023-04-15T16:20:37.192Z"
   },
   {
    "duration": 0,
    "start_time": "2023-04-15T16:20:37.193Z"
   },
   {
    "duration": 0,
    "start_time": "2023-04-15T16:20:37.195Z"
   },
   {
    "duration": 0,
    "start_time": "2023-04-15T16:20:37.196Z"
   },
   {
    "duration": 0,
    "start_time": "2023-04-15T16:20:37.197Z"
   },
   {
    "duration": 0,
    "start_time": "2023-04-15T16:20:37.198Z"
   },
   {
    "duration": 0,
    "start_time": "2023-04-15T16:20:37.199Z"
   },
   {
    "duration": 0,
    "start_time": "2023-04-15T16:20:37.200Z"
   },
   {
    "duration": 0,
    "start_time": "2023-04-15T16:20:37.201Z"
   },
   {
    "duration": 0,
    "start_time": "2023-04-15T16:20:37.203Z"
   },
   {
    "duration": 0,
    "start_time": "2023-04-15T16:20:37.204Z"
   },
   {
    "duration": 0,
    "start_time": "2023-04-15T16:20:37.205Z"
   },
   {
    "duration": 0,
    "start_time": "2023-04-15T16:20:37.206Z"
   },
   {
    "duration": 0,
    "start_time": "2023-04-15T16:20:37.207Z"
   },
   {
    "duration": 0,
    "start_time": "2023-04-15T16:20:37.208Z"
   },
   {
    "duration": 0,
    "start_time": "2023-04-15T16:20:37.209Z"
   },
   {
    "duration": 0,
    "start_time": "2023-04-15T16:20:37.211Z"
   },
   {
    "duration": 1123,
    "start_time": "2023-04-15T16:21:02.661Z"
   },
   {
    "duration": 1512,
    "start_time": "2023-04-15T16:21:03.785Z"
   },
   {
    "duration": 127,
    "start_time": "2023-04-15T16:21:05.299Z"
   },
   {
    "duration": 25,
    "start_time": "2023-04-15T16:21:05.428Z"
   },
   {
    "duration": 131,
    "start_time": "2023-04-15T16:21:05.471Z"
   },
   {
    "duration": 26,
    "start_time": "2023-04-15T16:21:05.603Z"
   },
   {
    "duration": 72,
    "start_time": "2023-04-15T16:21:05.631Z"
   },
   {
    "duration": 18,
    "start_time": "2023-04-15T16:21:05.705Z"
   },
   {
    "duration": 21,
    "start_time": "2023-04-15T16:21:05.725Z"
   },
   {
    "duration": 13,
    "start_time": "2023-04-15T16:21:05.748Z"
   },
   {
    "duration": 26,
    "start_time": "2023-04-15T16:21:05.763Z"
   },
   {
    "duration": 38,
    "start_time": "2023-04-15T16:21:05.791Z"
   },
   {
    "duration": 21,
    "start_time": "2023-04-15T16:21:05.831Z"
   },
   {
    "duration": 29,
    "start_time": "2023-04-15T16:21:05.855Z"
   },
   {
    "duration": 28,
    "start_time": "2023-04-15T16:21:05.885Z"
   },
   {
    "duration": 6,
    "start_time": "2023-04-15T16:21:05.914Z"
   },
   {
    "duration": 72,
    "start_time": "2023-04-15T16:21:05.921Z"
   },
   {
    "duration": 9,
    "start_time": "2023-04-15T16:21:05.995Z"
   },
   {
    "duration": 20,
    "start_time": "2023-04-15T16:21:06.005Z"
   },
   {
    "duration": 22,
    "start_time": "2023-04-15T16:21:06.027Z"
   },
   {
    "duration": 32,
    "start_time": "2023-04-15T16:21:06.051Z"
   },
   {
    "duration": 22,
    "start_time": "2023-04-15T16:21:06.085Z"
   },
   {
    "duration": 36,
    "start_time": "2023-04-15T16:21:06.110Z"
   },
   {
    "duration": 12,
    "start_time": "2023-04-15T16:21:06.149Z"
   },
   {
    "duration": 34,
    "start_time": "2023-04-15T16:21:06.163Z"
   },
   {
    "duration": 96,
    "start_time": "2023-04-15T16:21:06.199Z"
   },
   {
    "duration": 185,
    "start_time": "2023-04-15T16:21:06.298Z"
   },
   {
    "duration": 161,
    "start_time": "2023-04-15T16:21:06.484Z"
   },
   {
    "duration": 144,
    "start_time": "2023-04-15T16:21:06.647Z"
   },
   {
    "duration": 5,
    "start_time": "2023-04-15T16:21:06.793Z"
   },
   {
    "duration": 57,
    "start_time": "2023-04-15T16:21:06.799Z"
   },
   {
    "duration": 40,
    "start_time": "2023-04-15T16:21:06.858Z"
   },
   {
    "duration": 22,
    "start_time": "2023-04-15T16:21:06.900Z"
   },
   {
    "duration": 281,
    "start_time": "2023-04-15T16:21:06.923Z"
   },
   {
    "duration": 827,
    "start_time": "2023-04-15T16:21:07.205Z"
   },
   {
    "duration": 804,
    "start_time": "2023-04-15T16:21:08.033Z"
   },
   {
    "duration": 799,
    "start_time": "2023-04-15T16:21:08.838Z"
   },
   {
    "duration": 82,
    "start_time": "2023-04-15T16:21:09.639Z"
   },
   {
    "duration": 80,
    "start_time": "2023-04-15T16:21:09.723Z"
   },
   {
    "duration": 2,
    "start_time": "2023-04-15T16:21:09.804Z"
   },
   {
    "duration": 57,
    "start_time": "2023-04-15T16:21:09.809Z"
   },
   {
    "duration": 63,
    "start_time": "2023-04-15T16:21:09.867Z"
   },
   {
    "duration": 395,
    "start_time": "2023-04-15T16:21:09.931Z"
   },
   {
    "duration": 372,
    "start_time": "2023-04-15T16:21:58.335Z"
   },
   {
    "duration": 62,
    "start_time": "2023-04-19T14:39:58.180Z"
   },
   {
    "duration": 8,
    "start_time": "2023-04-19T14:39:59.101Z"
   },
   {
    "duration": 1683,
    "start_time": "2023-04-19T14:40:21.575Z"
   },
   {
    "duration": 1930,
    "start_time": "2023-04-19T14:40:23.260Z"
   },
   {
    "duration": 137,
    "start_time": "2023-04-19T14:40:25.192Z"
   },
   {
    "duration": 30,
    "start_time": "2023-04-19T14:40:25.330Z"
   },
   {
    "duration": 152,
    "start_time": "2023-04-19T14:40:25.362Z"
   },
   {
    "duration": 53,
    "start_time": "2023-04-19T14:40:25.516Z"
   },
   {
    "duration": 102,
    "start_time": "2023-04-19T14:40:25.571Z"
   },
   {
    "duration": 7,
    "start_time": "2023-04-19T14:40:25.675Z"
   },
   {
    "duration": 27,
    "start_time": "2023-04-19T14:40:25.684Z"
   },
   {
    "duration": 18,
    "start_time": "2023-04-19T14:40:25.713Z"
   },
   {
    "duration": 44,
    "start_time": "2023-04-19T14:40:25.732Z"
   },
   {
    "duration": 50,
    "start_time": "2023-04-19T14:40:25.777Z"
   },
   {
    "duration": 27,
    "start_time": "2023-04-19T14:40:25.829Z"
   },
   {
    "duration": 40,
    "start_time": "2023-04-19T14:40:25.859Z"
   },
   {
    "duration": 40,
    "start_time": "2023-04-19T14:40:25.903Z"
   },
   {
    "duration": 28,
    "start_time": "2023-04-19T14:40:25.945Z"
   },
   {
    "duration": 46,
    "start_time": "2023-04-19T14:40:25.974Z"
   },
   {
    "duration": 6,
    "start_time": "2023-04-19T14:40:26.022Z"
   },
   {
    "duration": 22,
    "start_time": "2023-04-19T14:40:26.030Z"
   },
   {
    "duration": 62,
    "start_time": "2023-04-19T14:40:26.054Z"
   },
   {
    "duration": 35,
    "start_time": "2023-04-19T14:40:26.118Z"
   },
   {
    "duration": 39,
    "start_time": "2023-04-19T14:40:26.154Z"
   },
   {
    "duration": 40,
    "start_time": "2023-04-19T14:40:26.196Z"
   },
   {
    "duration": 54,
    "start_time": "2023-04-19T14:40:26.237Z"
   },
   {
    "duration": 36,
    "start_time": "2023-04-19T14:40:26.293Z"
   },
   {
    "duration": 103,
    "start_time": "2023-04-19T14:40:26.330Z"
   },
   {
    "duration": 180,
    "start_time": "2023-04-19T14:40:26.435Z"
   },
   {
    "duration": 199,
    "start_time": "2023-04-19T14:40:26.617Z"
   },
   {
    "duration": 142,
    "start_time": "2023-04-19T14:40:26.818Z"
   },
   {
    "duration": 5,
    "start_time": "2023-04-19T14:40:26.962Z"
   },
   {
    "duration": 96,
    "start_time": "2023-04-19T14:40:26.969Z"
   },
   {
    "duration": 28,
    "start_time": "2023-04-19T14:40:27.067Z"
   },
   {
    "duration": 39,
    "start_time": "2023-04-19T14:40:27.097Z"
   },
   {
    "duration": 313,
    "start_time": "2023-04-19T14:40:27.138Z"
   },
   {
    "duration": 894,
    "start_time": "2023-04-19T14:40:27.452Z"
   },
   {
    "duration": 876,
    "start_time": "2023-04-19T14:40:28.348Z"
   },
   {
    "duration": 917,
    "start_time": "2023-04-19T14:40:29.225Z"
   },
   {
    "duration": 103,
    "start_time": "2023-04-19T14:40:30.143Z"
   },
   {
    "duration": 100,
    "start_time": "2023-04-19T14:40:30.248Z"
   },
   {
    "duration": 30,
    "start_time": "2023-04-19T14:40:30.349Z"
   },
   {
    "duration": 41,
    "start_time": "2023-04-19T14:40:30.383Z"
   },
   {
    "duration": 83,
    "start_time": "2023-04-19T14:40:30.426Z"
   },
   {
    "duration": 572,
    "start_time": "2023-04-19T14:40:30.511Z"
   },
   {
    "duration": 5,
    "start_time": "2023-04-19T14:40:31.090Z"
   },
   {
    "duration": 56,
    "start_time": "2023-04-19T14:40:31.097Z"
   },
   {
    "duration": 151,
    "start_time": "2023-04-19T14:41:40.787Z"
   },
   {
    "duration": 1447,
    "start_time": "2023-04-19T14:42:20.578Z"
   },
   {
    "duration": 1693,
    "start_time": "2023-04-19T14:42:22.027Z"
   },
   {
    "duration": 132,
    "start_time": "2023-04-19T14:42:23.721Z"
   },
   {
    "duration": 35,
    "start_time": "2023-04-19T14:42:23.854Z"
   },
   {
    "duration": 144,
    "start_time": "2023-04-19T14:42:23.892Z"
   },
   {
    "duration": 34,
    "start_time": "2023-04-19T14:42:24.037Z"
   },
   {
    "duration": 73,
    "start_time": "2023-04-19T14:42:24.073Z"
   },
   {
    "duration": 6,
    "start_time": "2023-04-19T14:42:24.147Z"
   },
   {
    "duration": 32,
    "start_time": "2023-04-19T14:42:24.154Z"
   },
   {
    "duration": 34,
    "start_time": "2023-04-19T14:42:24.189Z"
   },
   {
    "duration": 42,
    "start_time": "2023-04-19T14:42:24.225Z"
   },
   {
    "duration": 55,
    "start_time": "2023-04-19T14:42:24.268Z"
   },
   {
    "duration": 22,
    "start_time": "2023-04-19T14:42:24.324Z"
   },
   {
    "duration": 64,
    "start_time": "2023-04-19T14:42:24.348Z"
   },
   {
    "duration": 38,
    "start_time": "2023-04-19T14:42:24.414Z"
   },
   {
    "duration": 16,
    "start_time": "2023-04-19T14:42:24.453Z"
   },
   {
    "duration": 53,
    "start_time": "2023-04-19T14:42:24.471Z"
   },
   {
    "duration": 6,
    "start_time": "2023-04-19T14:42:24.525Z"
   },
   {
    "duration": 24,
    "start_time": "2023-04-19T14:42:24.532Z"
   },
   {
    "duration": 55,
    "start_time": "2023-04-19T14:42:24.558Z"
   },
   {
    "duration": 38,
    "start_time": "2023-04-19T14:42:24.615Z"
   },
   {
    "duration": 35,
    "start_time": "2023-04-19T14:42:24.655Z"
   },
   {
    "duration": 50,
    "start_time": "2023-04-19T14:42:24.693Z"
   },
   {
    "duration": 23,
    "start_time": "2023-04-19T14:42:24.745Z"
   },
   {
    "duration": 61,
    "start_time": "2023-04-19T14:42:24.769Z"
   },
   {
    "duration": 98,
    "start_time": "2023-04-19T14:42:24.832Z"
   },
   {
    "duration": 200,
    "start_time": "2023-04-19T14:42:24.931Z"
   },
   {
    "duration": 194,
    "start_time": "2023-04-19T14:42:25.133Z"
   },
   {
    "duration": 190,
    "start_time": "2023-04-19T14:42:25.329Z"
   },
   {
    "duration": 9,
    "start_time": "2023-04-19T14:42:25.521Z"
   },
   {
    "duration": 111,
    "start_time": "2023-04-19T14:42:25.532Z"
   },
   {
    "duration": 23,
    "start_time": "2023-04-19T14:42:25.645Z"
   },
   {
    "duration": 52,
    "start_time": "2023-04-19T14:42:25.671Z"
   },
   {
    "duration": 323,
    "start_time": "2023-04-19T14:42:25.725Z"
   },
   {
    "duration": 874,
    "start_time": "2023-04-19T14:42:26.050Z"
   },
   {
    "duration": 865,
    "start_time": "2023-04-19T14:42:26.926Z"
   },
   {
    "duration": 828,
    "start_time": "2023-04-19T14:42:27.793Z"
   },
   {
    "duration": 81,
    "start_time": "2023-04-19T14:42:28.623Z"
   },
   {
    "duration": 104,
    "start_time": "2023-04-19T14:42:28.706Z"
   },
   {
    "duration": 3,
    "start_time": "2023-04-19T14:42:28.812Z"
   },
   {
    "duration": 13,
    "start_time": "2023-04-19T14:42:28.819Z"
   },
   {
    "duration": 15,
    "start_time": "2023-04-19T14:42:28.833Z"
   },
   {
    "duration": 454,
    "start_time": "2023-04-19T14:42:28.850Z"
   },
   {
    "duration": 126,
    "start_time": "2023-04-19T14:42:29.307Z"
   },
   {
    "duration": 131,
    "start_time": "2023-04-19T14:44:08.134Z"
   },
   {
    "duration": 1487,
    "start_time": "2023-04-19T14:44:27.444Z"
   },
   {
    "duration": 1889,
    "start_time": "2023-04-19T14:44:28.933Z"
   },
   {
    "duration": 180,
    "start_time": "2023-04-19T14:44:30.824Z"
   },
   {
    "duration": 28,
    "start_time": "2023-04-19T14:44:31.006Z"
   },
   {
    "duration": 188,
    "start_time": "2023-04-19T14:44:31.037Z"
   },
   {
    "duration": 29,
    "start_time": "2023-04-19T14:44:31.227Z"
   },
   {
    "duration": 119,
    "start_time": "2023-04-19T14:44:31.257Z"
   },
   {
    "duration": 30,
    "start_time": "2023-04-19T14:44:31.378Z"
   },
   {
    "duration": 66,
    "start_time": "2023-04-19T14:44:31.410Z"
   },
   {
    "duration": 38,
    "start_time": "2023-04-19T14:44:31.478Z"
   },
   {
    "duration": 60,
    "start_time": "2023-04-19T14:44:31.518Z"
   },
   {
    "duration": 49,
    "start_time": "2023-04-19T14:44:31.580Z"
   },
   {
    "duration": 48,
    "start_time": "2023-04-19T14:44:31.631Z"
   },
   {
    "duration": 63,
    "start_time": "2023-04-19T14:44:31.683Z"
   },
   {
    "duration": 45,
    "start_time": "2023-04-19T14:44:31.748Z"
   },
   {
    "duration": 26,
    "start_time": "2023-04-19T14:44:31.796Z"
   },
   {
    "duration": 55,
    "start_time": "2023-04-19T14:44:31.824Z"
   },
   {
    "duration": 9,
    "start_time": "2023-04-19T14:44:31.881Z"
   },
   {
    "duration": 46,
    "start_time": "2023-04-19T14:44:31.892Z"
   },
   {
    "duration": 64,
    "start_time": "2023-04-19T14:44:31.940Z"
   },
   {
    "duration": 53,
    "start_time": "2023-04-19T14:44:32.007Z"
   },
   {
    "duration": 60,
    "start_time": "2023-04-19T14:44:32.063Z"
   },
   {
    "duration": 45,
    "start_time": "2023-04-19T14:44:32.124Z"
   },
   {
    "duration": 17,
    "start_time": "2023-04-19T14:44:32.171Z"
   },
   {
    "duration": 53,
    "start_time": "2023-04-19T14:44:32.190Z"
   },
   {
    "duration": 85,
    "start_time": "2023-04-19T14:44:32.245Z"
   },
   {
    "duration": 170,
    "start_time": "2023-04-19T14:44:32.332Z"
   },
   {
    "duration": 197,
    "start_time": "2023-04-19T14:44:32.504Z"
   },
   {
    "duration": 146,
    "start_time": "2023-04-19T14:44:32.704Z"
   },
   {
    "duration": 5,
    "start_time": "2023-04-19T14:44:32.852Z"
   },
   {
    "duration": 91,
    "start_time": "2023-04-19T14:44:32.859Z"
   },
   {
    "duration": 22,
    "start_time": "2023-04-19T14:44:32.952Z"
   },
   {
    "duration": 34,
    "start_time": "2023-04-19T14:44:32.985Z"
   },
   {
    "duration": 319,
    "start_time": "2023-04-19T14:44:33.021Z"
   },
   {
    "duration": 903,
    "start_time": "2023-04-19T14:44:33.342Z"
   },
   {
    "duration": 898,
    "start_time": "2023-04-19T14:44:34.248Z"
   },
   {
    "duration": 865,
    "start_time": "2023-04-19T14:44:35.148Z"
   },
   {
    "duration": 107,
    "start_time": "2023-04-19T14:44:36.014Z"
   },
   {
    "duration": 98,
    "start_time": "2023-04-19T14:44:36.123Z"
   },
   {
    "duration": 2,
    "start_time": "2023-04-19T14:44:36.223Z"
   },
   {
    "duration": 21,
    "start_time": "2023-04-19T14:44:36.228Z"
   },
   {
    "duration": 8,
    "start_time": "2023-04-19T14:44:36.251Z"
   },
   {
    "duration": 430,
    "start_time": "2023-04-19T14:44:36.261Z"
   },
   {
    "duration": 103,
    "start_time": "2023-04-19T14:44:36.694Z"
   },
   {
    "duration": 119,
    "start_time": "2023-04-19T14:44:36.799Z"
   },
   {
    "duration": 3,
    "start_time": "2023-04-19T14:44:49.248Z"
   },
   {
    "duration": 91,
    "start_time": "2023-04-19T14:44:56.378Z"
   },
   {
    "duration": 1520,
    "start_time": "2023-04-19T14:45:13.859Z"
   },
   {
    "duration": 1849,
    "start_time": "2023-04-19T14:45:15.381Z"
   },
   {
    "duration": 141,
    "start_time": "2023-04-19T14:45:17.232Z"
   },
   {
    "duration": 42,
    "start_time": "2023-04-19T14:45:17.375Z"
   },
   {
    "duration": 146,
    "start_time": "2023-04-19T14:45:17.418Z"
   },
   {
    "duration": 45,
    "start_time": "2023-04-19T14:45:17.565Z"
   },
   {
    "duration": 101,
    "start_time": "2023-04-19T14:45:17.612Z"
   },
   {
    "duration": 6,
    "start_time": "2023-04-19T14:45:17.715Z"
   },
   {
    "duration": 32,
    "start_time": "2023-04-19T14:45:17.722Z"
   },
   {
    "duration": 33,
    "start_time": "2023-04-19T14:45:17.756Z"
   },
   {
    "duration": 34,
    "start_time": "2023-04-19T14:45:17.791Z"
   },
   {
    "duration": 36,
    "start_time": "2023-04-19T14:45:17.826Z"
   },
   {
    "duration": 20,
    "start_time": "2023-04-19T14:45:17.864Z"
   },
   {
    "duration": 30,
    "start_time": "2023-04-19T14:45:17.887Z"
   },
   {
    "duration": 26,
    "start_time": "2023-04-19T14:45:17.918Z"
   },
   {
    "duration": 47,
    "start_time": "2023-04-19T14:45:17.946Z"
   },
   {
    "duration": 61,
    "start_time": "2023-04-19T14:45:17.995Z"
   },
   {
    "duration": 7,
    "start_time": "2023-04-19T14:45:18.058Z"
   },
   {
    "duration": 41,
    "start_time": "2023-04-19T14:45:18.067Z"
   },
   {
    "duration": 26,
    "start_time": "2023-04-19T14:45:18.110Z"
   },
   {
    "duration": 29,
    "start_time": "2023-04-19T14:45:18.138Z"
   },
   {
    "duration": 30,
    "start_time": "2023-04-19T14:45:18.169Z"
   },
   {
    "duration": 30,
    "start_time": "2023-04-19T14:45:18.201Z"
   },
   {
    "duration": 14,
    "start_time": "2023-04-19T14:45:18.233Z"
   },
   {
    "duration": 30,
    "start_time": "2023-04-19T14:45:18.249Z"
   },
   {
    "duration": 82,
    "start_time": "2023-04-19T14:45:18.284Z"
   },
   {
    "duration": 194,
    "start_time": "2023-04-19T14:45:18.368Z"
   },
   {
    "duration": 210,
    "start_time": "2023-04-19T14:45:18.566Z"
   },
   {
    "duration": 163,
    "start_time": "2023-04-19T14:45:18.778Z"
   },
   {
    "duration": 4,
    "start_time": "2023-04-19T14:45:18.943Z"
   },
   {
    "duration": 92,
    "start_time": "2023-04-19T14:45:18.949Z"
   },
   {
    "duration": 20,
    "start_time": "2023-04-19T14:45:19.042Z"
   },
   {
    "duration": 25,
    "start_time": "2023-04-19T14:45:19.063Z"
   },
   {
    "duration": 260,
    "start_time": "2023-04-19T14:45:19.091Z"
   },
   {
    "duration": 809,
    "start_time": "2023-04-19T14:45:19.352Z"
   },
   {
    "duration": 843,
    "start_time": "2023-04-19T14:45:20.163Z"
   },
   {
    "duration": 868,
    "start_time": "2023-04-19T14:45:21.009Z"
   },
   {
    "duration": 79,
    "start_time": "2023-04-19T14:45:21.879Z"
   },
   {
    "duration": 100,
    "start_time": "2023-04-19T14:45:21.960Z"
   },
   {
    "duration": 52,
    "start_time": "2023-04-19T14:45:22.062Z"
   },
   {
    "duration": 39,
    "start_time": "2023-04-19T14:45:22.116Z"
   },
   {
    "duration": 33,
    "start_time": "2023-04-19T14:45:22.157Z"
   },
   {
    "duration": 430,
    "start_time": "2023-04-19T14:45:22.192Z"
   },
   {
    "duration": 105,
    "start_time": "2023-04-19T14:45:22.623Z"
   },
   {
    "duration": 3,
    "start_time": "2023-04-19T14:45:22.729Z"
   },
   {
    "duration": 234,
    "start_time": "2023-04-19T14:45:22.734Z"
   },
   {
    "duration": 69,
    "start_time": "2023-04-19T14:45:57.297Z"
   },
   {
    "duration": 107,
    "start_time": "2023-04-19T14:46:00.715Z"
   },
   {
    "duration": 149,
    "start_time": "2023-04-19T14:46:06.026Z"
   },
   {
    "duration": 19,
    "start_time": "2023-04-19T14:46:42.951Z"
   },
   {
    "duration": 30,
    "start_time": "2023-04-19T14:47:04.305Z"
   },
   {
    "duration": 13,
    "start_time": "2023-04-19T14:47:04.889Z"
   },
   {
    "duration": 189,
    "start_time": "2023-04-19T14:47:37.006Z"
   },
   {
    "duration": 21,
    "start_time": "2023-04-19T14:47:37.434Z"
   },
   {
    "duration": 149,
    "start_time": "2023-04-19T14:47:38.221Z"
   },
   {
    "duration": 154,
    "start_time": "2023-04-19T14:47:52.258Z"
   },
   {
    "duration": 87,
    "start_time": "2023-04-19T14:47:58.318Z"
   },
   {
    "duration": 3,
    "start_time": "2023-04-19T14:48:14.534Z"
   },
   {
    "duration": 258717,
    "start_time": "2023-04-19T14:48:14.893Z"
   },
   {
    "duration": 553,
    "start_time": "2023-04-19T14:53:27.097Z"
   },
   {
    "duration": 11,
    "start_time": "2023-04-19T14:54:14.855Z"
   },
   {
    "duration": 550,
    "start_time": "2023-04-19T14:54:15.807Z"
   },
   {
    "duration": 566,
    "start_time": "2023-04-19T14:54:31.617Z"
   },
   {
    "duration": 549,
    "start_time": "2023-04-19T14:54:38.988Z"
   },
   {
    "duration": 1582,
    "start_time": "2023-04-19T14:56:04.191Z"
   },
   {
    "duration": 1767,
    "start_time": "2023-04-19T14:56:05.775Z"
   },
   {
    "duration": 153,
    "start_time": "2023-04-19T14:56:07.544Z"
   },
   {
    "duration": 38,
    "start_time": "2023-04-19T14:56:07.699Z"
   },
   {
    "duration": 130,
    "start_time": "2023-04-19T14:56:07.739Z"
   },
   {
    "duration": 62,
    "start_time": "2023-04-19T14:56:07.871Z"
   },
   {
    "duration": 89,
    "start_time": "2023-04-19T14:56:07.935Z"
   },
   {
    "duration": 8,
    "start_time": "2023-04-19T14:56:08.026Z"
   },
   {
    "duration": 40,
    "start_time": "2023-04-19T14:56:08.036Z"
   },
   {
    "duration": 35,
    "start_time": "2023-04-19T14:56:08.078Z"
   },
   {
    "duration": 36,
    "start_time": "2023-04-19T14:56:08.116Z"
   },
   {
    "duration": 63,
    "start_time": "2023-04-19T14:56:08.154Z"
   },
   {
    "duration": 33,
    "start_time": "2023-04-19T14:56:08.219Z"
   },
   {
    "duration": 61,
    "start_time": "2023-04-19T14:56:08.255Z"
   },
   {
    "duration": 45,
    "start_time": "2023-04-19T14:56:08.317Z"
   },
   {
    "duration": 39,
    "start_time": "2023-04-19T14:56:08.363Z"
   },
   {
    "duration": 39,
    "start_time": "2023-04-19T14:56:08.405Z"
   },
   {
    "duration": 6,
    "start_time": "2023-04-19T14:56:08.445Z"
   },
   {
    "duration": 57,
    "start_time": "2023-04-19T14:56:08.452Z"
   },
   {
    "duration": 42,
    "start_time": "2023-04-19T14:56:08.511Z"
   },
   {
    "duration": 44,
    "start_time": "2023-04-19T14:56:08.555Z"
   },
   {
    "duration": 31,
    "start_time": "2023-04-19T14:56:08.601Z"
   },
   {
    "duration": 45,
    "start_time": "2023-04-19T14:56:08.633Z"
   },
   {
    "duration": 33,
    "start_time": "2023-04-19T14:56:08.680Z"
   },
   {
    "duration": 83,
    "start_time": "2023-04-19T14:56:08.715Z"
   },
   {
    "duration": 93,
    "start_time": "2023-04-19T14:56:08.800Z"
   },
   {
    "duration": 179,
    "start_time": "2023-04-19T14:56:08.895Z"
   },
   {
    "duration": 181,
    "start_time": "2023-04-19T14:56:09.075Z"
   },
   {
    "duration": 180,
    "start_time": "2023-04-19T14:56:09.258Z"
   },
   {
    "duration": 4,
    "start_time": "2023-04-19T14:56:09.440Z"
   },
   {
    "duration": 93,
    "start_time": "2023-04-19T14:56:09.446Z"
   },
   {
    "duration": 24,
    "start_time": "2023-04-19T14:56:09.541Z"
   },
   {
    "duration": 39,
    "start_time": "2023-04-19T14:56:09.567Z"
   },
   {
    "duration": 328,
    "start_time": "2023-04-19T14:56:09.607Z"
   },
   {
    "duration": 890,
    "start_time": "2023-04-19T14:56:09.937Z"
   },
   {
    "duration": 926,
    "start_time": "2023-04-19T14:56:10.828Z"
   },
   {
    "duration": 893,
    "start_time": "2023-04-19T14:56:11.755Z"
   },
   {
    "duration": 91,
    "start_time": "2023-04-19T14:56:12.649Z"
   },
   {
    "duration": 80,
    "start_time": "2023-04-19T14:56:12.742Z"
   },
   {
    "duration": 3,
    "start_time": "2023-04-19T14:56:12.824Z"
   },
   {
    "duration": 4,
    "start_time": "2023-04-19T14:56:12.831Z"
   },
   {
    "duration": 15,
    "start_time": "2023-04-19T14:56:12.837Z"
   },
   {
    "duration": 434,
    "start_time": "2023-04-19T14:56:12.853Z"
   },
   {
    "duration": 14,
    "start_time": "2023-04-19T14:56:22.432Z"
   },
   {
    "duration": 797,
    "start_time": "2023-04-19T14:56:22.822Z"
   },
   {
    "duration": 134,
    "start_time": "2023-04-19T14:56:31.939Z"
   },
   {
    "duration": 4,
    "start_time": "2023-04-19T14:56:47.992Z"
   },
   {
    "duration": 524,
    "start_time": "2023-04-19T14:56:49.721Z"
   },
   {
    "duration": 279,
    "start_time": "2023-04-19T14:57:00.240Z"
   },
   {
    "duration": 674,
    "start_time": "2023-04-19T14:57:06.332Z"
   },
   {
    "duration": 210,
    "start_time": "2023-04-19T14:57:20.842Z"
   },
   {
    "duration": 4,
    "start_time": "2023-04-19T14:57:34.921Z"
   },
   {
    "duration": 62,
    "start_time": "2023-04-19T14:57:35.294Z"
   },
   {
    "duration": 49,
    "start_time": "2023-04-19T14:57:49.878Z"
   },
   {
    "duration": 114,
    "start_time": "2023-04-19T14:57:50.233Z"
   },
   {
    "duration": 18,
    "start_time": "2023-04-19T14:58:02.482Z"
   },
   {
    "duration": 69,
    "start_time": "2023-04-19T14:58:03.756Z"
   },
   {
    "duration": 10,
    "start_time": "2023-04-19T14:58:14.481Z"
   },
   {
    "duration": 5,
    "start_time": "2023-04-19T14:58:14.814Z"
   },
   {
    "duration": 228487,
    "start_time": "2023-04-19T14:58:15.254Z"
   },
   {
    "duration": 7,
    "start_time": "2023-04-19T15:06:12.883Z"
   },
   {
    "duration": 54,
    "start_time": "2023-04-19T15:06:29.201Z"
   },
   {
    "duration": 3,
    "start_time": "2023-04-19T15:06:46.621Z"
   },
   {
    "duration": 56,
    "start_time": "2023-04-19T15:06:48.259Z"
   },
   {
    "duration": 11,
    "start_time": "2023-04-19T15:07:02.021Z"
   },
   {
    "duration": 4,
    "start_time": "2023-04-19T15:07:19.390Z"
   },
   {
    "duration": 3092,
    "start_time": "2023-04-19T15:07:22.613Z"
   },
   {
    "duration": 425,
    "start_time": "2023-04-19T15:07:25.707Z"
   },
   {
    "duration": 3591,
    "start_time": "2023-04-19T15:07:42.086Z"
   },
   {
    "duration": 1006017,
    "start_time": "2023-04-19T15:07:45.679Z"
   },
   {
    "duration": 4,
    "start_time": "2023-04-19T15:27:45.302Z"
   },
   {
    "duration": 351099,
    "start_time": "2023-04-19T15:34:41.943Z"
   },
   {
    "duration": 4,
    "start_time": "2023-04-19T15:47:25.690Z"
   },
   {
    "duration": 10,
    "start_time": "2023-04-19T15:47:34.010Z"
   },
   {
    "duration": 23,
    "start_time": "2023-04-19T15:47:50.486Z"
   },
   {
    "duration": 1056,
    "start_time": "2023-04-19T15:47:53.977Z"
   },
   {
    "duration": 1013,
    "start_time": "2023-04-19T15:48:24.550Z"
   },
   {
    "duration": 1539,
    "start_time": "2023-04-19T15:48:39.996Z"
   },
   {
    "duration": 1657,
    "start_time": "2023-04-19T15:48:41.537Z"
   },
   {
    "duration": 140,
    "start_time": "2023-04-19T15:48:43.196Z"
   },
   {
    "duration": 24,
    "start_time": "2023-04-19T15:48:43.338Z"
   },
   {
    "duration": 168,
    "start_time": "2023-04-19T15:48:43.364Z"
   },
   {
    "duration": 30,
    "start_time": "2023-04-19T15:48:43.534Z"
   },
   {
    "duration": 93,
    "start_time": "2023-04-19T15:48:43.566Z"
   },
   {
    "duration": 8,
    "start_time": "2023-04-19T15:48:43.660Z"
   },
   {
    "duration": 35,
    "start_time": "2023-04-19T15:48:43.669Z"
   },
   {
    "duration": 31,
    "start_time": "2023-04-19T15:48:43.706Z"
   },
   {
    "duration": 29,
    "start_time": "2023-04-19T15:48:43.739Z"
   },
   {
    "duration": 52,
    "start_time": "2023-04-19T15:48:43.769Z"
   },
   {
    "duration": 46,
    "start_time": "2023-04-19T15:48:43.823Z"
   },
   {
    "duration": 79,
    "start_time": "2023-04-19T15:48:43.873Z"
   },
   {
    "duration": 43,
    "start_time": "2023-04-19T15:48:43.954Z"
   },
   {
    "duration": 31,
    "start_time": "2023-04-19T15:48:43.999Z"
   },
   {
    "duration": 90,
    "start_time": "2023-04-19T15:48:44.032Z"
   },
   {
    "duration": 8,
    "start_time": "2023-04-19T15:48:44.124Z"
   },
   {
    "duration": 52,
    "start_time": "2023-04-19T15:48:44.133Z"
   },
   {
    "duration": 55,
    "start_time": "2023-04-19T15:48:44.187Z"
   },
   {
    "duration": 55,
    "start_time": "2023-04-19T15:48:44.244Z"
   },
   {
    "duration": 27,
    "start_time": "2023-04-19T15:48:44.301Z"
   },
   {
    "duration": 46,
    "start_time": "2023-04-19T15:48:44.329Z"
   },
   {
    "duration": 30,
    "start_time": "2023-04-19T15:48:44.376Z"
   },
   {
    "duration": 57,
    "start_time": "2023-04-19T15:48:44.408Z"
   },
   {
    "duration": 83,
    "start_time": "2023-04-19T15:48:44.467Z"
   },
   {
    "duration": 154,
    "start_time": "2023-04-19T15:48:44.551Z"
   },
   {
    "duration": 192,
    "start_time": "2023-04-19T15:48:44.707Z"
   },
   {
    "duration": 134,
    "start_time": "2023-04-19T15:48:44.901Z"
   },
   {
    "duration": 4,
    "start_time": "2023-04-19T15:48:45.037Z"
   },
   {
    "duration": 126,
    "start_time": "2023-04-19T15:48:45.043Z"
   },
   {
    "duration": 62,
    "start_time": "2023-04-19T15:48:45.170Z"
   },
   {
    "duration": 83,
    "start_time": "2023-04-19T15:48:45.233Z"
   },
   {
    "duration": 260,
    "start_time": "2023-04-19T15:48:45.318Z"
   },
   {
    "duration": 762,
    "start_time": "2023-04-19T15:48:45.582Z"
   },
   {
    "duration": 822,
    "start_time": "2023-04-19T15:48:46.346Z"
   },
   {
    "duration": 824,
    "start_time": "2023-04-19T15:48:47.169Z"
   },
   {
    "duration": 93,
    "start_time": "2023-04-19T15:48:47.994Z"
   },
   {
    "duration": 77,
    "start_time": "2023-04-19T15:48:48.089Z"
   },
   {
    "duration": 16,
    "start_time": "2023-04-19T15:48:48.168Z"
   },
   {
    "duration": 28,
    "start_time": "2023-04-19T15:48:48.188Z"
   },
   {
    "duration": 35,
    "start_time": "2023-04-19T15:48:48.217Z"
   },
   {
    "duration": 403,
    "start_time": "2023-04-19T15:48:48.253Z"
   },
   {
    "duration": 2,
    "start_time": "2023-04-19T15:48:48.658Z"
   },
   {
    "duration": 53,
    "start_time": "2023-04-19T15:48:48.661Z"
   },
   {
    "duration": 769,
    "start_time": "2023-04-19T15:48:48.716Z"
   },
   {
    "duration": 474,
    "start_time": "2023-04-19T15:48:49.487Z"
   },
   {
    "duration": 251,
    "start_time": "2023-04-19T15:48:49.964Z"
   },
   {
    "duration": 591,
    "start_time": "2023-04-19T15:48:50.217Z"
   },
   {
    "duration": 56,
    "start_time": "2023-04-19T15:48:50.809Z"
   },
   {
    "duration": 4,
    "start_time": "2023-04-19T15:48:50.866Z"
   },
   {
    "duration": 203288,
    "start_time": "2023-04-19T15:48:50.883Z"
   },
   {
    "duration": 11,
    "start_time": "2023-04-19T15:52:14.173Z"
   },
   {
    "duration": 2923,
    "start_time": "2023-04-19T15:52:14.186Z"
   },
   {
    "duration": 454471,
    "start_time": "2023-04-19T15:52:17.111Z"
   },
   {
    "duration": 6,
    "start_time": "2023-04-19T15:59:51.586Z"
   },
   {
    "duration": 344237,
    "start_time": "2023-04-19T15:59:51.593Z"
   },
   {
    "duration": 5,
    "start_time": "2023-04-19T16:05:35.832Z"
   },
   {
    "duration": 1059,
    "start_time": "2023-04-19T16:05:35.838Z"
   },
   {
    "duration": 1004,
    "start_time": "2023-04-19T16:17:58.553Z"
   },
   {
    "duration": 975,
    "start_time": "2023-04-19T16:18:20.092Z"
   },
   {
    "duration": 110,
    "start_time": "2023-04-19T16:18:30.769Z"
   },
   {
    "duration": 346,
    "start_time": "2023-04-19T16:18:47.594Z"
   },
   {
    "duration": 378,
    "start_time": "2023-04-19T16:18:59.969Z"
   },
   {
    "duration": 20555,
    "start_time": "2023-04-19T16:19:09.429Z"
   },
   {
    "duration": 25339,
    "start_time": "2023-04-19T16:19:29.986Z"
   },
   {
    "duration": 25408,
    "start_time": "2023-04-19T16:20:07.414Z"
   },
   {
    "duration": 46,
    "start_time": "2023-04-19T16:21:15.276Z"
   },
   {
    "duration": 28273,
    "start_time": "2023-04-19T16:21:21.621Z"
   },
   {
    "duration": 190,
    "start_time": "2023-04-19T16:21:49.896Z"
   },
   {
    "duration": 91,
    "start_time": "2023-04-19T16:21:50.087Z"
   },
   {
    "duration": 26652,
    "start_time": "2023-04-19T16:24:32.412Z"
   },
   {
    "duration": 119,
    "start_time": "2023-04-19T16:28:52.519Z"
   },
   {
    "duration": 119,
    "start_time": "2023-04-19T16:29:01.693Z"
   },
   {
    "duration": 27769,
    "start_time": "2023-04-19T16:29:16.323Z"
   },
   {
    "duration": 1446,
    "start_time": "2023-04-19T16:32:11.848Z"
   },
   {
    "duration": 1628,
    "start_time": "2023-04-19T16:32:13.296Z"
   },
   {
    "duration": 137,
    "start_time": "2023-04-19T16:32:14.926Z"
   },
   {
    "duration": 34,
    "start_time": "2023-04-19T16:32:15.065Z"
   },
   {
    "duration": 136,
    "start_time": "2023-04-19T16:32:15.101Z"
   },
   {
    "duration": 25,
    "start_time": "2023-04-19T16:32:15.239Z"
   },
   {
    "duration": 77,
    "start_time": "2023-04-19T16:32:15.266Z"
   },
   {
    "duration": 7,
    "start_time": "2023-04-19T16:32:15.345Z"
   },
   {
    "duration": 21,
    "start_time": "2023-04-19T16:32:15.353Z"
   },
   {
    "duration": 35,
    "start_time": "2023-04-19T16:32:15.376Z"
   },
   {
    "duration": 27,
    "start_time": "2023-04-19T16:32:15.412Z"
   },
   {
    "duration": 59,
    "start_time": "2023-04-19T16:32:15.440Z"
   },
   {
    "duration": 24,
    "start_time": "2023-04-19T16:32:15.500Z"
   },
   {
    "duration": 37,
    "start_time": "2023-04-19T16:32:15.527Z"
   },
   {
    "duration": 40,
    "start_time": "2023-04-19T16:32:15.565Z"
   },
   {
    "duration": 19,
    "start_time": "2023-04-19T16:32:15.607Z"
   },
   {
    "duration": 52,
    "start_time": "2023-04-19T16:32:15.627Z"
   },
   {
    "duration": 6,
    "start_time": "2023-04-19T16:32:15.681Z"
   },
   {
    "duration": 33,
    "start_time": "2023-04-19T16:32:15.689Z"
   },
   {
    "duration": 43,
    "start_time": "2023-04-19T16:32:15.723Z"
   },
   {
    "duration": 54,
    "start_time": "2023-04-19T16:32:15.768Z"
   },
   {
    "duration": 27,
    "start_time": "2023-04-19T16:32:15.824Z"
   },
   {
    "duration": 22,
    "start_time": "2023-04-19T16:32:15.853Z"
   },
   {
    "duration": 8,
    "start_time": "2023-04-19T16:32:15.878Z"
   },
   {
    "duration": 45,
    "start_time": "2023-04-19T16:32:15.888Z"
   },
   {
    "duration": 79,
    "start_time": "2023-04-19T16:32:15.934Z"
   },
   {
    "duration": 151,
    "start_time": "2023-04-19T16:32:16.015Z"
   },
   {
    "duration": 182,
    "start_time": "2023-04-19T16:32:16.167Z"
   },
   {
    "duration": 119,
    "start_time": "2023-04-19T16:32:16.351Z"
   },
   {
    "duration": 4,
    "start_time": "2023-04-19T16:32:16.472Z"
   },
   {
    "duration": 65,
    "start_time": "2023-04-19T16:32:16.484Z"
   },
   {
    "duration": 13,
    "start_time": "2023-04-19T16:32:16.551Z"
   },
   {
    "duration": 42,
    "start_time": "2023-04-19T16:32:16.566Z"
   },
   {
    "duration": 255,
    "start_time": "2023-04-19T16:32:16.610Z"
   },
   {
    "duration": 723,
    "start_time": "2023-04-19T16:32:16.867Z"
   },
   {
    "duration": 765,
    "start_time": "2023-04-19T16:32:17.591Z"
   },
   {
    "duration": 887,
    "start_time": "2023-04-19T16:32:18.358Z"
   },
   {
    "duration": 89,
    "start_time": "2023-04-19T16:32:19.248Z"
   },
   {
    "duration": 77,
    "start_time": "2023-04-19T16:32:19.338Z"
   },
   {
    "duration": 2,
    "start_time": "2023-04-19T16:32:19.417Z"
   },
   {
    "duration": 3,
    "start_time": "2023-04-19T16:32:19.422Z"
   },
   {
    "duration": 6,
    "start_time": "2023-04-19T16:32:19.426Z"
   },
   {
    "duration": 423,
    "start_time": "2023-04-19T16:32:19.434Z"
   },
   {
    "duration": 30,
    "start_time": "2023-04-19T16:32:19.859Z"
   },
   {
    "duration": 739,
    "start_time": "2023-04-19T16:32:19.891Z"
   },
   {
    "duration": 418,
    "start_time": "2023-04-19T16:32:20.631Z"
   },
   {
    "duration": 154,
    "start_time": "2023-04-19T16:32:21.051Z"
   },
   {
    "duration": 599,
    "start_time": "2023-04-19T16:32:21.207Z"
   },
   {
    "duration": 3,
    "start_time": "2023-04-19T16:32:21.808Z"
   },
   {
    "duration": 209683,
    "start_time": "2023-04-19T16:32:21.812Z"
   },
   {
    "duration": 5,
    "start_time": "2023-04-19T16:35:51.497Z"
   },
   {
    "duration": 3011,
    "start_time": "2023-04-19T16:35:51.503Z"
   },
   {
    "duration": 397767,
    "start_time": "2023-04-19T16:35:54.516Z"
   },
   {
    "duration": 4,
    "start_time": "2023-04-19T16:42:32.285Z"
   },
   {
    "duration": 339515,
    "start_time": "2023-04-19T16:42:32.291Z"
   },
   {
    "duration": 5,
    "start_time": "2023-04-19T16:48:11.807Z"
   },
   {
    "duration": 394,
    "start_time": "2023-04-19T16:48:11.813Z"
   },
   {
    "duration": 30075,
    "start_time": "2023-04-19T16:48:12.209Z"
   },
   {
    "duration": 26767,
    "start_time": "2023-04-19T16:48:42.287Z"
   },
   {
    "duration": 55,
    "start_time": "2023-04-19T16:49:09.055Z"
   },
   {
    "duration": 28074,
    "start_time": "2023-04-19T16:49:09.112Z"
   },
   {
    "duration": 1632,
    "start_time": "2023-04-20T20:45:51.086Z"
   },
   {
    "duration": 1899,
    "start_time": "2023-04-20T20:45:52.720Z"
   },
   {
    "duration": 133,
    "start_time": "2023-04-20T20:45:54.622Z"
   },
   {
    "duration": 30,
    "start_time": "2023-04-20T20:45:54.757Z"
   },
   {
    "duration": 136,
    "start_time": "2023-04-20T20:45:54.790Z"
   },
   {
    "duration": 35,
    "start_time": "2023-04-20T20:45:54.927Z"
   },
   {
    "duration": 65,
    "start_time": "2023-04-20T20:45:54.964Z"
   },
   {
    "duration": 8,
    "start_time": "2023-04-20T20:45:55.035Z"
   },
   {
    "duration": 14,
    "start_time": "2023-04-20T20:45:55.045Z"
   },
   {
    "duration": 15,
    "start_time": "2023-04-20T20:45:55.061Z"
   },
   {
    "duration": 16,
    "start_time": "2023-04-20T20:45:55.079Z"
   },
   {
    "duration": 44,
    "start_time": "2023-04-20T20:45:55.097Z"
   },
   {
    "duration": 37,
    "start_time": "2023-04-20T20:45:55.143Z"
   },
   {
    "duration": 55,
    "start_time": "2023-04-20T20:45:55.184Z"
   },
   {
    "duration": 32,
    "start_time": "2023-04-20T20:45:55.241Z"
   },
   {
    "duration": 16,
    "start_time": "2023-04-20T20:45:55.275Z"
   },
   {
    "duration": 57,
    "start_time": "2023-04-20T20:45:55.293Z"
   },
   {
    "duration": 9,
    "start_time": "2023-04-20T20:45:55.354Z"
   },
   {
    "duration": 19,
    "start_time": "2023-04-20T20:45:55.365Z"
   },
   {
    "duration": 22,
    "start_time": "2023-04-20T20:45:55.385Z"
   },
   {
    "duration": 42,
    "start_time": "2023-04-20T20:45:55.408Z"
   },
   {
    "duration": 31,
    "start_time": "2023-04-20T20:45:55.452Z"
   },
   {
    "duration": 42,
    "start_time": "2023-04-20T20:45:55.485Z"
   },
   {
    "duration": 21,
    "start_time": "2023-04-20T20:45:55.530Z"
   },
   {
    "duration": 37,
    "start_time": "2023-04-20T20:45:55.553Z"
   },
   {
    "duration": 96,
    "start_time": "2023-04-20T20:45:55.592Z"
   },
   {
    "duration": 178,
    "start_time": "2023-04-20T20:45:55.690Z"
   },
   {
    "duration": 204,
    "start_time": "2023-04-20T20:45:55.870Z"
   },
   {
    "duration": 144,
    "start_time": "2023-04-20T20:45:56.077Z"
   },
   {
    "duration": 5,
    "start_time": "2023-04-20T20:45:56.222Z"
   },
   {
    "duration": 90,
    "start_time": "2023-04-20T20:45:56.234Z"
   },
   {
    "duration": 15,
    "start_time": "2023-04-20T20:45:56.332Z"
   },
   {
    "duration": 21,
    "start_time": "2023-04-20T20:45:56.349Z"
   },
   {
    "duration": 293,
    "start_time": "2023-04-20T20:45:56.371Z"
   },
   {
    "duration": 742,
    "start_time": "2023-04-20T20:45:56.666Z"
   },
   {
    "duration": 803,
    "start_time": "2023-04-20T20:45:57.409Z"
   },
   {
    "duration": 855,
    "start_time": "2023-04-20T20:45:58.214Z"
   },
   {
    "duration": 88,
    "start_time": "2023-04-20T20:45:59.071Z"
   },
   {
    "duration": 50,
    "start_time": "2023-04-20T20:45:59.167Z"
   },
   {
    "duration": 64,
    "start_time": "2023-04-20T20:45:59.220Z"
   },
   {
    "duration": 83,
    "start_time": "2023-04-20T20:45:59.288Z"
   },
   {
    "duration": 2,
    "start_time": "2023-04-20T20:45:59.373Z"
   },
   {
    "duration": 13,
    "start_time": "2023-04-20T20:45:59.377Z"
   },
   {
    "duration": 479,
    "start_time": "2023-04-20T20:45:59.392Z"
   },
   {
    "duration": 15,
    "start_time": "2023-04-20T20:45:59.874Z"
   },
   {
    "duration": 1024,
    "start_time": "2023-04-20T20:45:59.891Z"
   },
   {
    "duration": 434,
    "start_time": "2023-04-20T20:46:00.917Z"
   },
   {
    "duration": 177,
    "start_time": "2023-04-20T20:46:01.353Z"
   },
   {
    "duration": 626,
    "start_time": "2023-04-20T20:46:01.532Z"
   },
   {
    "duration": 4,
    "start_time": "2023-04-20T20:46:02.161Z"
   },
   {
    "duration": 209542,
    "start_time": "2023-04-20T20:46:02.167Z"
   },
   {
    "duration": 5,
    "start_time": "2023-04-20T20:49:31.713Z"
   },
   {
    "duration": 3128,
    "start_time": "2023-04-20T20:49:31.733Z"
   },
   {
    "duration": 1561,
    "start_time": "2023-04-21T09:40:46.225Z"
   },
   {
    "duration": 1917,
    "start_time": "2023-04-21T09:40:47.793Z"
   },
   {
    "duration": 121,
    "start_time": "2023-04-21T09:40:49.712Z"
   },
   {
    "duration": 21,
    "start_time": "2023-04-21T09:40:49.834Z"
   },
   {
    "duration": 144,
    "start_time": "2023-04-21T09:40:49.857Z"
   },
   {
    "duration": 24,
    "start_time": "2023-04-21T09:40:50.003Z"
   },
   {
    "duration": 99,
    "start_time": "2023-04-21T09:40:50.028Z"
   },
   {
    "duration": 7,
    "start_time": "2023-04-21T09:40:50.128Z"
   },
   {
    "duration": 29,
    "start_time": "2023-04-21T09:40:50.136Z"
   },
   {
    "duration": 47,
    "start_time": "2023-04-21T09:40:50.167Z"
   },
   {
    "duration": 40,
    "start_time": "2023-04-21T09:40:50.215Z"
   },
   {
    "duration": 76,
    "start_time": "2023-04-21T09:40:50.257Z"
   },
   {
    "duration": 34,
    "start_time": "2023-04-21T09:40:50.335Z"
   },
   {
    "duration": 80,
    "start_time": "2023-04-21T09:40:50.373Z"
   },
   {
    "duration": 47,
    "start_time": "2023-04-21T09:40:50.455Z"
   },
   {
    "duration": 15,
    "start_time": "2023-04-21T09:40:50.507Z"
   },
   {
    "duration": 38,
    "start_time": "2023-04-21T09:40:50.524Z"
   },
   {
    "duration": 7,
    "start_time": "2023-04-21T09:40:50.563Z"
   },
   {
    "duration": 52,
    "start_time": "2023-04-21T09:40:50.571Z"
   },
   {
    "duration": 17,
    "start_time": "2023-04-21T09:40:50.625Z"
   },
   {
    "duration": 25,
    "start_time": "2023-04-21T09:40:50.644Z"
   },
   {
    "duration": 33,
    "start_time": "2023-04-21T09:40:50.670Z"
   },
   {
    "duration": 32,
    "start_time": "2023-04-21T09:40:50.704Z"
   },
   {
    "duration": 15,
    "start_time": "2023-04-21T09:40:50.737Z"
   },
   {
    "duration": 48,
    "start_time": "2023-04-21T09:40:50.753Z"
   },
   {
    "duration": 126,
    "start_time": "2023-04-21T09:40:50.803Z"
   },
   {
    "duration": 165,
    "start_time": "2023-04-21T09:40:50.931Z"
   },
   {
    "duration": 229,
    "start_time": "2023-04-21T09:40:51.097Z"
   },
   {
    "duration": 147,
    "start_time": "2023-04-21T09:40:51.328Z"
   },
   {
    "duration": 15,
    "start_time": "2023-04-21T09:40:51.492Z"
   },
   {
    "duration": 86,
    "start_time": "2023-04-21T09:40:51.509Z"
   },
   {
    "duration": 25,
    "start_time": "2023-04-21T09:40:51.606Z"
   },
   {
    "duration": 29,
    "start_time": "2023-04-21T09:40:51.633Z"
   },
   {
    "duration": 272,
    "start_time": "2023-04-21T09:40:51.664Z"
   },
   {
    "duration": 813,
    "start_time": "2023-04-21T09:40:51.938Z"
   },
   {
    "duration": 794,
    "start_time": "2023-04-21T09:40:52.752Z"
   },
   {
    "duration": 842,
    "start_time": "2023-04-21T09:40:53.547Z"
   },
   {
    "duration": 71,
    "start_time": "2023-04-21T09:40:54.393Z"
   },
   {
    "duration": 41,
    "start_time": "2023-04-21T09:40:54.465Z"
   },
   {
    "duration": 45,
    "start_time": "2023-04-21T09:40:54.507Z"
   },
   {
    "duration": 72,
    "start_time": "2023-04-21T09:40:54.557Z"
   },
   {
    "duration": 8,
    "start_time": "2023-04-21T09:40:54.630Z"
   },
   {
    "duration": 5,
    "start_time": "2023-04-21T09:40:54.639Z"
   },
   {
    "duration": 363,
    "start_time": "2023-04-21T09:40:54.646Z"
   },
   {
    "duration": 14,
    "start_time": "2023-04-21T09:40:55.010Z"
   },
   {
    "duration": 134,
    "start_time": "2023-04-21T09:40:55.025Z"
   },
   {
    "duration": 647,
    "start_time": "2023-04-21T09:40:55.160Z"
   },
   {
    "duration": 331,
    "start_time": "2023-04-21T09:40:55.809Z"
   },
   {
    "duration": 0,
    "start_time": "2023-04-21T09:40:56.142Z"
   },
   {
    "duration": 0,
    "start_time": "2023-04-21T09:40:56.143Z"
   },
   {
    "duration": 0,
    "start_time": "2023-04-21T09:40:56.145Z"
   },
   {
    "duration": 0,
    "start_time": "2023-04-21T09:40:56.146Z"
   },
   {
    "duration": 0,
    "start_time": "2023-04-21T09:40:56.148Z"
   },
   {
    "duration": 0,
    "start_time": "2023-04-21T09:40:56.149Z"
   },
   {
    "duration": 0,
    "start_time": "2023-04-21T09:40:56.150Z"
   },
   {
    "duration": 0,
    "start_time": "2023-04-21T09:40:56.151Z"
   },
   {
    "duration": 0,
    "start_time": "2023-04-21T09:40:56.153Z"
   },
   {
    "duration": 0,
    "start_time": "2023-04-21T09:40:56.154Z"
   },
   {
    "duration": 0,
    "start_time": "2023-04-21T09:40:56.155Z"
   },
   {
    "duration": 0,
    "start_time": "2023-04-21T09:40:56.157Z"
   },
   {
    "duration": 0,
    "start_time": "2023-04-21T09:40:56.158Z"
   },
   {
    "duration": 0,
    "start_time": "2023-04-21T09:40:56.160Z"
   },
   {
    "duration": 1315,
    "start_time": "2023-04-21T09:42:27.116Z"
   },
   {
    "duration": 1475,
    "start_time": "2023-04-21T09:42:28.433Z"
   },
   {
    "duration": 118,
    "start_time": "2023-04-21T09:42:29.910Z"
   },
   {
    "duration": 22,
    "start_time": "2023-04-21T09:42:30.029Z"
   },
   {
    "duration": 139,
    "start_time": "2023-04-21T09:42:30.054Z"
   },
   {
    "duration": 23,
    "start_time": "2023-04-21T09:42:30.202Z"
   },
   {
    "duration": 107,
    "start_time": "2023-04-21T09:42:30.226Z"
   },
   {
    "duration": 33,
    "start_time": "2023-04-21T09:42:30.334Z"
   },
   {
    "duration": 134,
    "start_time": "2023-04-21T09:42:30.368Z"
   },
   {
    "duration": 38,
    "start_time": "2023-04-21T09:42:30.503Z"
   },
   {
    "duration": 41,
    "start_time": "2023-04-21T09:42:30.542Z"
   },
   {
    "duration": 62,
    "start_time": "2023-04-21T09:42:30.594Z"
   },
   {
    "duration": 68,
    "start_time": "2023-04-21T09:42:30.657Z"
   },
   {
    "duration": 120,
    "start_time": "2023-04-21T09:42:30.728Z"
   },
   {
    "duration": 161,
    "start_time": "2023-04-21T09:42:30.850Z"
   },
   {
    "duration": 31,
    "start_time": "2023-04-21T09:42:31.013Z"
   },
   {
    "duration": 122,
    "start_time": "2023-04-21T09:42:31.046Z"
   },
   {
    "duration": 332,
    "start_time": "2023-04-21T09:42:31.170Z"
   },
   {
    "duration": 65,
    "start_time": "2023-04-21T09:42:31.503Z"
   },
   {
    "duration": 83,
    "start_time": "2023-04-21T09:42:31.570Z"
   },
   {
    "duration": 105,
    "start_time": "2023-04-21T09:42:31.655Z"
   },
   {
    "duration": 108,
    "start_time": "2023-04-21T09:42:31.762Z"
   },
   {
    "duration": 77,
    "start_time": "2023-04-21T09:42:31.872Z"
   },
   {
    "duration": 65,
    "start_time": "2023-04-21T09:42:31.950Z"
   },
   {
    "duration": 62,
    "start_time": "2023-04-21T09:42:32.017Z"
   },
   {
    "duration": 78,
    "start_time": "2023-04-21T09:42:32.099Z"
   },
   {
    "duration": 177,
    "start_time": "2023-04-21T09:42:32.182Z"
   },
   {
    "duration": 178,
    "start_time": "2023-04-21T09:42:32.361Z"
   },
   {
    "duration": 126,
    "start_time": "2023-04-21T09:42:32.540Z"
   },
   {
    "duration": 18,
    "start_time": "2023-04-21T09:42:32.667Z"
   },
   {
    "duration": 76,
    "start_time": "2023-04-21T09:42:32.686Z"
   },
   {
    "duration": 36,
    "start_time": "2023-04-21T09:42:32.763Z"
   },
   {
    "duration": 16,
    "start_time": "2023-04-21T09:42:32.801Z"
   },
   {
    "duration": 242,
    "start_time": "2023-04-21T09:42:32.819Z"
   },
   {
    "duration": 765,
    "start_time": "2023-04-21T09:42:33.063Z"
   },
   {
    "duration": 760,
    "start_time": "2023-04-21T09:42:33.829Z"
   },
   {
    "duration": 910,
    "start_time": "2023-04-21T09:42:34.591Z"
   },
   {
    "duration": 101,
    "start_time": "2023-04-21T09:42:35.504Z"
   },
   {
    "duration": 39,
    "start_time": "2023-04-21T09:42:35.607Z"
   },
   {
    "duration": 44,
    "start_time": "2023-04-21T09:42:35.647Z"
   },
   {
    "duration": 78,
    "start_time": "2023-04-21T09:42:35.699Z"
   },
   {
    "duration": 20,
    "start_time": "2023-04-21T09:42:35.782Z"
   },
   {
    "duration": 20,
    "start_time": "2023-04-21T09:42:35.804Z"
   },
   {
    "duration": 392,
    "start_time": "2023-04-21T09:42:35.825Z"
   },
   {
    "duration": 13,
    "start_time": "2023-04-21T09:42:36.219Z"
   },
   {
    "duration": 163,
    "start_time": "2023-04-21T09:42:36.235Z"
   },
   {
    "duration": 698,
    "start_time": "2023-04-21T09:42:36.399Z"
   },
   {
    "duration": 135,
    "start_time": "2023-04-21T09:42:37.106Z"
   },
   {
    "duration": 0,
    "start_time": "2023-04-21T09:42:37.243Z"
   },
   {
    "duration": 0,
    "start_time": "2023-04-21T09:42:37.244Z"
   },
   {
    "duration": 0,
    "start_time": "2023-04-21T09:42:37.245Z"
   },
   {
    "duration": 0,
    "start_time": "2023-04-21T09:42:37.246Z"
   },
   {
    "duration": 0,
    "start_time": "2023-04-21T09:42:37.247Z"
   },
   {
    "duration": 0,
    "start_time": "2023-04-21T09:42:37.247Z"
   },
   {
    "duration": 0,
    "start_time": "2023-04-21T09:42:37.248Z"
   },
   {
    "duration": 0,
    "start_time": "2023-04-21T09:42:37.249Z"
   },
   {
    "duration": 0,
    "start_time": "2023-04-21T09:42:37.250Z"
   },
   {
    "duration": 0,
    "start_time": "2023-04-21T09:42:37.250Z"
   },
   {
    "duration": 0,
    "start_time": "2023-04-21T09:42:37.251Z"
   },
   {
    "duration": 0,
    "start_time": "2023-04-21T09:42:37.252Z"
   },
   {
    "duration": 0,
    "start_time": "2023-04-21T09:42:37.253Z"
   },
   {
    "duration": 0,
    "start_time": "2023-04-21T09:42:37.253Z"
   },
   {
    "duration": 3,
    "start_time": "2023-04-21T09:42:59.104Z"
   },
   {
    "duration": 12,
    "start_time": "2023-04-21T09:43:06.798Z"
   },
   {
    "duration": 611,
    "start_time": "2023-04-21T09:46:50.410Z"
   },
   {
    "duration": 1552,
    "start_time": "2023-04-21T09:46:56.253Z"
   },
   {
    "duration": 1502,
    "start_time": "2023-04-21T09:46:57.807Z"
   },
   {
    "duration": 140,
    "start_time": "2023-04-21T09:46:59.311Z"
   },
   {
    "duration": 44,
    "start_time": "2023-04-21T09:46:59.453Z"
   },
   {
    "duration": 143,
    "start_time": "2023-04-21T09:46:59.501Z"
   },
   {
    "duration": 23,
    "start_time": "2023-04-21T09:46:59.646Z"
   },
   {
    "duration": 81,
    "start_time": "2023-04-21T09:46:59.672Z"
   },
   {
    "duration": 7,
    "start_time": "2023-04-21T09:46:59.755Z"
   },
   {
    "duration": 6,
    "start_time": "2023-04-21T09:46:59.764Z"
   },
   {
    "duration": 32,
    "start_time": "2023-04-21T09:46:59.773Z"
   },
   {
    "duration": 17,
    "start_time": "2023-04-21T09:46:59.807Z"
   },
   {
    "duration": 28,
    "start_time": "2023-04-21T09:46:59.826Z"
   },
   {
    "duration": 29,
    "start_time": "2023-04-21T09:46:59.856Z"
   },
   {
    "duration": 52,
    "start_time": "2023-04-21T09:46:59.886Z"
   },
   {
    "duration": 39,
    "start_time": "2023-04-21T09:46:59.940Z"
   },
   {
    "duration": 43,
    "start_time": "2023-04-21T09:46:59.981Z"
   },
   {
    "duration": 37,
    "start_time": "2023-04-21T09:47:00.025Z"
   },
   {
    "duration": 5,
    "start_time": "2023-04-21T09:47:00.064Z"
   },
   {
    "duration": 49,
    "start_time": "2023-04-21T09:47:00.071Z"
   },
   {
    "duration": 30,
    "start_time": "2023-04-21T09:47:00.121Z"
   },
   {
    "duration": 30,
    "start_time": "2023-04-21T09:47:00.153Z"
   },
   {
    "duration": 35,
    "start_time": "2023-04-21T09:47:00.190Z"
   },
   {
    "duration": 20,
    "start_time": "2023-04-21T09:47:00.227Z"
   },
   {
    "duration": 20,
    "start_time": "2023-04-21T09:47:00.249Z"
   },
   {
    "duration": 84,
    "start_time": "2023-04-21T09:47:00.273Z"
   },
   {
    "duration": 83,
    "start_time": "2023-04-21T09:47:00.359Z"
   },
   {
    "duration": 153,
    "start_time": "2023-04-21T09:47:00.444Z"
   },
   {
    "duration": 209,
    "start_time": "2023-04-21T09:47:00.605Z"
   },
   {
    "duration": 170,
    "start_time": "2023-04-21T09:47:00.816Z"
   },
   {
    "duration": 11,
    "start_time": "2023-04-21T09:47:00.999Z"
   },
   {
    "duration": 115,
    "start_time": "2023-04-21T09:47:01.012Z"
   },
   {
    "duration": 38,
    "start_time": "2023-04-21T09:47:01.129Z"
   },
   {
    "duration": 65,
    "start_time": "2023-04-21T09:47:01.168Z"
   },
   {
    "duration": 282,
    "start_time": "2023-04-21T09:47:01.235Z"
   },
   {
    "duration": 796,
    "start_time": "2023-04-21T09:47:01.519Z"
   },
   {
    "duration": 787,
    "start_time": "2023-04-21T09:47:02.317Z"
   },
   {
    "duration": 845,
    "start_time": "2023-04-21T09:47:03.105Z"
   },
   {
    "duration": 77,
    "start_time": "2023-04-21T09:47:03.952Z"
   },
   {
    "duration": 32,
    "start_time": "2023-04-21T09:47:04.031Z"
   },
   {
    "duration": 57,
    "start_time": "2023-04-21T09:47:04.064Z"
   },
   {
    "duration": 86,
    "start_time": "2023-04-21T09:47:04.122Z"
   },
   {
    "duration": 3,
    "start_time": "2023-04-21T09:47:04.210Z"
   },
   {
    "duration": 7,
    "start_time": "2023-04-21T09:47:04.214Z"
   },
   {
    "duration": 374,
    "start_time": "2023-04-21T09:47:04.222Z"
   },
   {
    "duration": 17,
    "start_time": "2023-04-21T09:47:04.603Z"
   },
   {
    "duration": 110,
    "start_time": "2023-04-21T09:47:04.622Z"
   },
   {
    "duration": 669,
    "start_time": "2023-04-21T09:47:04.734Z"
   },
   {
    "duration": 694,
    "start_time": "2023-04-21T09:47:05.406Z"
   },
   {
    "duration": 3,
    "start_time": "2023-04-21T09:47:06.102Z"
   },
   {
    "duration": 160,
    "start_time": "2023-04-21T09:47:06.107Z"
   },
   {
    "duration": 0,
    "start_time": "2023-04-21T09:47:06.269Z"
   },
   {
    "duration": 0,
    "start_time": "2023-04-21T09:47:06.270Z"
   },
   {
    "duration": 0,
    "start_time": "2023-04-21T09:47:06.271Z"
   },
   {
    "duration": 0,
    "start_time": "2023-04-21T09:47:06.272Z"
   },
   {
    "duration": 0,
    "start_time": "2023-04-21T09:47:06.272Z"
   },
   {
    "duration": 0,
    "start_time": "2023-04-21T09:47:06.273Z"
   },
   {
    "duration": 0,
    "start_time": "2023-04-21T09:47:06.283Z"
   },
   {
    "duration": 0,
    "start_time": "2023-04-21T09:47:06.290Z"
   },
   {
    "duration": 0,
    "start_time": "2023-04-21T09:47:06.291Z"
   },
   {
    "duration": 0,
    "start_time": "2023-04-21T09:47:06.298Z"
   },
   {
    "duration": 0,
    "start_time": "2023-04-21T09:47:06.299Z"
   },
   {
    "duration": 0,
    "start_time": "2023-04-21T09:47:06.299Z"
   },
   {
    "duration": 0,
    "start_time": "2023-04-21T09:47:06.300Z"
   },
   {
    "duration": 10,
    "start_time": "2023-04-21T09:58:05.537Z"
   },
   {
    "duration": 3,
    "start_time": "2023-04-21T09:58:56.455Z"
   },
   {
    "duration": 3,
    "start_time": "2023-04-21T09:58:58.144Z"
   },
   {
    "duration": 1402,
    "start_time": "2023-04-21T09:59:00.863Z"
   },
   {
    "duration": 1478,
    "start_time": "2023-04-21T09:59:02.266Z"
   },
   {
    "duration": 114,
    "start_time": "2023-04-21T09:59:03.746Z"
   },
   {
    "duration": 27,
    "start_time": "2023-04-21T09:59:03.862Z"
   },
   {
    "duration": 115,
    "start_time": "2023-04-21T09:59:03.891Z"
   },
   {
    "duration": 21,
    "start_time": "2023-04-21T09:59:04.008Z"
   },
   {
    "duration": 61,
    "start_time": "2023-04-21T09:59:04.030Z"
   },
   {
    "duration": 5,
    "start_time": "2023-04-21T09:59:04.092Z"
   },
   {
    "duration": 7,
    "start_time": "2023-04-21T09:59:04.098Z"
   },
   {
    "duration": 8,
    "start_time": "2023-04-21T09:59:04.107Z"
   },
   {
    "duration": 18,
    "start_time": "2023-04-21T09:59:04.116Z"
   },
   {
    "duration": 29,
    "start_time": "2023-04-21T09:59:04.135Z"
   },
   {
    "duration": 20,
    "start_time": "2023-04-21T09:59:04.183Z"
   },
   {
    "duration": 19,
    "start_time": "2023-04-21T09:59:04.204Z"
   },
   {
    "duration": 18,
    "start_time": "2023-04-21T09:59:04.225Z"
   },
   {
    "duration": 5,
    "start_time": "2023-04-21T09:59:04.244Z"
   },
   {
    "duration": 57,
    "start_time": "2023-04-21T09:59:04.251Z"
   },
   {
    "duration": 5,
    "start_time": "2023-04-21T09:59:04.310Z"
   },
   {
    "duration": 14,
    "start_time": "2023-04-21T09:59:04.317Z"
   },
   {
    "duration": 24,
    "start_time": "2023-04-21T09:59:04.332Z"
   },
   {
    "duration": 46,
    "start_time": "2023-04-21T09:59:04.357Z"
   },
   {
    "duration": 16,
    "start_time": "2023-04-21T09:59:04.404Z"
   },
   {
    "duration": 16,
    "start_time": "2023-04-21T09:59:04.422Z"
   },
   {
    "duration": 8,
    "start_time": "2023-04-21T09:59:04.440Z"
   },
   {
    "duration": 42,
    "start_time": "2023-04-21T09:59:04.449Z"
   },
   {
    "duration": 95,
    "start_time": "2023-04-21T09:59:04.492Z"
   },
   {
    "duration": 146,
    "start_time": "2023-04-21T09:59:04.590Z"
   },
   {
    "duration": 172,
    "start_time": "2023-04-21T09:59:04.741Z"
   },
   {
    "duration": 123,
    "start_time": "2023-04-21T09:59:04.915Z"
   },
   {
    "duration": 5,
    "start_time": "2023-04-21T09:59:05.039Z"
   },
   {
    "duration": 89,
    "start_time": "2023-04-21T09:59:05.045Z"
   },
   {
    "duration": 17,
    "start_time": "2023-04-21T09:59:05.136Z"
   },
   {
    "duration": 22,
    "start_time": "2023-04-21T09:59:05.155Z"
   },
   {
    "duration": 244,
    "start_time": "2023-04-21T09:59:05.187Z"
   },
   {
    "duration": 837,
    "start_time": "2023-04-21T09:59:05.433Z"
   },
   {
    "duration": 743,
    "start_time": "2023-04-21T09:59:06.282Z"
   },
   {
    "duration": 861,
    "start_time": "2023-04-21T09:59:07.027Z"
   },
   {
    "duration": 67,
    "start_time": "2023-04-21T09:59:07.890Z"
   },
   {
    "duration": 37,
    "start_time": "2023-04-21T09:59:07.958Z"
   },
   {
    "duration": 36,
    "start_time": "2023-04-21T09:59:07.997Z"
   },
   {
    "duration": 85,
    "start_time": "2023-04-21T09:59:08.035Z"
   },
   {
    "duration": 3,
    "start_time": "2023-04-21T09:59:08.122Z"
   },
   {
    "duration": 6,
    "start_time": "2023-04-21T09:59:08.126Z"
   },
   {
    "duration": 372,
    "start_time": "2023-04-21T09:59:08.133Z"
   },
   {
    "duration": 13,
    "start_time": "2023-04-21T09:59:08.506Z"
   },
   {
    "duration": 113,
    "start_time": "2023-04-21T09:59:08.520Z"
   },
   {
    "duration": 690,
    "start_time": "2023-04-21T09:59:08.634Z"
   },
   {
    "duration": 665,
    "start_time": "2023-04-21T09:59:09.325Z"
   },
   {
    "duration": 4,
    "start_time": "2023-04-21T09:59:09.992Z"
   },
   {
    "duration": 8,
    "start_time": "2023-04-21T09:59:09.997Z"
   },
   {
    "duration": 11,
    "start_time": "2023-04-21T09:59:10.006Z"
   },
   {
    "duration": 196,
    "start_time": "2023-04-21T09:59:10.018Z"
   },
   {
    "duration": 9,
    "start_time": "2023-04-21T09:59:10.216Z"
   },
   {
    "duration": 0,
    "start_time": "2023-04-21T09:59:10.226Z"
   },
   {
    "duration": 0,
    "start_time": "2023-04-21T09:59:10.228Z"
   },
   {
    "duration": 0,
    "start_time": "2023-04-21T09:59:10.229Z"
   },
   {
    "duration": 0,
    "start_time": "2023-04-21T09:59:10.230Z"
   },
   {
    "duration": 1,
    "start_time": "2023-04-21T09:59:10.230Z"
   },
   {
    "duration": 0,
    "start_time": "2023-04-21T09:59:10.232Z"
   },
   {
    "duration": 0,
    "start_time": "2023-04-21T09:59:10.233Z"
   },
   {
    "duration": 0,
    "start_time": "2023-04-21T09:59:10.234Z"
   },
   {
    "duration": 0,
    "start_time": "2023-04-21T09:59:10.235Z"
   },
   {
    "duration": 0,
    "start_time": "2023-04-21T09:59:10.236Z"
   },
   {
    "duration": 1380,
    "start_time": "2023-04-21T10:07:18.020Z"
   },
   {
    "duration": 1542,
    "start_time": "2023-04-21T10:07:19.402Z"
   },
   {
    "duration": 136,
    "start_time": "2023-04-21T10:07:20.945Z"
   },
   {
    "duration": 25,
    "start_time": "2023-04-21T10:07:21.086Z"
   },
   {
    "duration": 144,
    "start_time": "2023-04-21T10:07:21.113Z"
   },
   {
    "duration": 34,
    "start_time": "2023-04-21T10:07:21.259Z"
   },
   {
    "duration": 92,
    "start_time": "2023-04-21T10:07:21.294Z"
   },
   {
    "duration": 10,
    "start_time": "2023-04-21T10:07:21.387Z"
   },
   {
    "duration": 31,
    "start_time": "2023-04-21T10:07:21.398Z"
   },
   {
    "duration": 19,
    "start_time": "2023-04-21T10:07:21.432Z"
   },
   {
    "duration": 48,
    "start_time": "2023-04-21T10:07:21.452Z"
   },
   {
    "duration": 57,
    "start_time": "2023-04-21T10:07:21.501Z"
   },
   {
    "duration": 32,
    "start_time": "2023-04-21T10:07:21.560Z"
   },
   {
    "duration": 52,
    "start_time": "2023-04-21T10:07:21.594Z"
   },
   {
    "duration": 46,
    "start_time": "2023-04-21T10:07:21.648Z"
   },
   {
    "duration": 17,
    "start_time": "2023-04-21T10:07:21.695Z"
   },
   {
    "duration": 54,
    "start_time": "2023-04-21T10:07:21.714Z"
   },
   {
    "duration": 17,
    "start_time": "2023-04-21T10:07:21.769Z"
   },
   {
    "duration": 32,
    "start_time": "2023-04-21T10:07:21.787Z"
   },
   {
    "duration": 41,
    "start_time": "2023-04-21T10:07:21.820Z"
   },
   {
    "duration": 39,
    "start_time": "2023-04-21T10:07:21.862Z"
   },
   {
    "duration": 46,
    "start_time": "2023-04-21T10:07:21.903Z"
   },
   {
    "duration": 40,
    "start_time": "2023-04-21T10:07:21.950Z"
   },
   {
    "duration": 33,
    "start_time": "2023-04-21T10:07:21.992Z"
   },
   {
    "duration": 58,
    "start_time": "2023-04-21T10:07:22.027Z"
   },
   {
    "duration": 101,
    "start_time": "2023-04-21T10:07:22.087Z"
   },
   {
    "duration": 155,
    "start_time": "2023-04-21T10:07:22.190Z"
   },
   {
    "duration": 185,
    "start_time": "2023-04-21T10:07:22.349Z"
   },
   {
    "duration": 136,
    "start_time": "2023-04-21T10:07:22.536Z"
   },
   {
    "duration": 7,
    "start_time": "2023-04-21T10:07:22.674Z"
   },
   {
    "duration": 78,
    "start_time": "2023-04-21T10:07:22.683Z"
   },
   {
    "duration": 25,
    "start_time": "2023-04-21T10:07:22.762Z"
   },
   {
    "duration": 20,
    "start_time": "2023-04-21T10:07:22.788Z"
   },
   {
    "duration": 276,
    "start_time": "2023-04-21T10:07:22.810Z"
   },
   {
    "duration": 755,
    "start_time": "2023-04-21T10:07:23.088Z"
   },
   {
    "duration": 768,
    "start_time": "2023-04-21T10:07:23.845Z"
   },
   {
    "duration": 818,
    "start_time": "2023-04-21T10:07:24.614Z"
   },
   {
    "duration": 74,
    "start_time": "2023-04-21T10:07:25.433Z"
   },
   {
    "duration": 35,
    "start_time": "2023-04-21T10:07:25.509Z"
   },
   {
    "duration": 66,
    "start_time": "2023-04-21T10:07:25.546Z"
   },
   {
    "duration": 73,
    "start_time": "2023-04-21T10:07:25.613Z"
   },
   {
    "duration": 5,
    "start_time": "2023-04-21T10:07:25.689Z"
   },
   {
    "duration": 34,
    "start_time": "2023-04-21T10:07:25.696Z"
   },
   {
    "duration": 401,
    "start_time": "2023-04-21T10:07:25.731Z"
   },
   {
    "duration": 15,
    "start_time": "2023-04-21T10:07:26.134Z"
   },
   {
    "duration": 120,
    "start_time": "2023-04-21T10:07:26.150Z"
   },
   {
    "duration": 634,
    "start_time": "2023-04-21T10:07:26.274Z"
   },
   {
    "duration": 609,
    "start_time": "2023-04-21T10:07:26.909Z"
   },
   {
    "duration": 4,
    "start_time": "2023-04-21T10:07:27.520Z"
   },
   {
    "duration": 20,
    "start_time": "2023-04-21T10:07:27.525Z"
   },
   {
    "duration": 28,
    "start_time": "2023-04-21T10:07:27.546Z"
   },
   {
    "duration": 182108,
    "start_time": "2023-04-21T10:07:27.583Z"
   },
   {
    "duration": 4,
    "start_time": "2023-04-21T10:10:29.693Z"
   },
   {
    "duration": 4009,
    "start_time": "2023-04-21T10:10:29.699Z"
   },
   {
    "duration": 978870,
    "start_time": "2023-04-21T10:10:33.711Z"
   },
   {
    "duration": 11,
    "start_time": "2023-04-21T10:26:52.582Z"
   },
   {
    "duration": 346451,
    "start_time": "2023-04-21T10:26:52.596Z"
   },
   {
    "duration": 4,
    "start_time": "2023-04-21T10:32:39.048Z"
   },
   {
    "duration": 369,
    "start_time": "2023-04-21T10:32:39.053Z"
   },
   {
    "duration": 53462,
    "start_time": "2023-04-21T10:32:39.423Z"
   },
   {
    "duration": 25103,
    "start_time": "2023-04-21T10:33:32.890Z"
   },
   {
    "duration": 82,
    "start_time": "2023-04-21T10:33:57.994Z"
   },
   {
    "duration": 69311,
    "start_time": "2023-04-21T10:33:58.084Z"
   },
   {
    "duration": 138,
    "start_time": "2023-04-21T11:10:54.378Z"
   },
   {
    "duration": 10,
    "start_time": "2023-04-21T11:12:18.672Z"
   },
   {
    "duration": 10,
    "start_time": "2023-04-21T11:12:38.318Z"
   },
   {
    "duration": 62,
    "start_time": "2023-04-21T11:12:45.915Z"
   },
   {
    "duration": 384,
    "start_time": "2023-04-21T11:13:45.404Z"
   },
   {
    "duration": 1445,
    "start_time": "2023-04-21T11:19:41.912Z"
   },
   {
    "duration": 1434,
    "start_time": "2023-04-21T11:19:43.359Z"
   },
   {
    "duration": 109,
    "start_time": "2023-04-21T11:19:44.795Z"
   },
   {
    "duration": 21,
    "start_time": "2023-04-21T11:19:44.906Z"
   },
   {
    "duration": 111,
    "start_time": "2023-04-21T11:19:44.929Z"
   },
   {
    "duration": 32,
    "start_time": "2023-04-21T11:19:45.042Z"
   },
   {
    "duration": 79,
    "start_time": "2023-04-21T11:19:45.076Z"
   },
   {
    "duration": 6,
    "start_time": "2023-04-21T11:19:45.156Z"
   },
   {
    "duration": 25,
    "start_time": "2023-04-21T11:19:45.164Z"
   },
   {
    "duration": 14,
    "start_time": "2023-04-21T11:19:45.191Z"
   },
   {
    "duration": 21,
    "start_time": "2023-04-21T11:19:45.206Z"
   },
   {
    "duration": 22,
    "start_time": "2023-04-21T11:19:45.229Z"
   },
   {
    "duration": 32,
    "start_time": "2023-04-21T11:19:45.252Z"
   },
   {
    "duration": 35,
    "start_time": "2023-04-21T11:19:45.288Z"
   },
   {
    "duration": 27,
    "start_time": "2023-04-21T11:19:45.325Z"
   },
   {
    "duration": 9,
    "start_time": "2023-04-21T11:19:45.354Z"
   },
   {
    "duration": 57,
    "start_time": "2023-04-21T11:19:45.364Z"
   },
   {
    "duration": 7,
    "start_time": "2023-04-21T11:19:45.423Z"
   },
   {
    "duration": 22,
    "start_time": "2023-04-21T11:19:45.432Z"
   },
   {
    "duration": 50,
    "start_time": "2023-04-21T11:19:45.456Z"
   },
   {
    "duration": 30,
    "start_time": "2023-04-21T11:19:45.507Z"
   },
   {
    "duration": 25,
    "start_time": "2023-04-21T11:19:45.538Z"
   },
   {
    "duration": 39,
    "start_time": "2023-04-21T11:19:45.564Z"
   },
   {
    "duration": 23,
    "start_time": "2023-04-21T11:19:45.604Z"
   },
   {
    "duration": 62,
    "start_time": "2023-04-21T11:19:45.628Z"
   },
   {
    "duration": 92,
    "start_time": "2023-04-21T11:19:45.691Z"
   },
   {
    "duration": 157,
    "start_time": "2023-04-21T11:19:45.784Z"
   },
   {
    "duration": 195,
    "start_time": "2023-04-21T11:19:45.943Z"
   },
   {
    "duration": 143,
    "start_time": "2023-04-21T11:19:46.139Z"
   },
   {
    "duration": 4,
    "start_time": "2023-04-21T11:19:46.284Z"
   },
   {
    "duration": 56,
    "start_time": "2023-04-21T11:19:46.289Z"
   },
   {
    "duration": 21,
    "start_time": "2023-04-21T11:19:46.346Z"
   },
   {
    "duration": 29,
    "start_time": "2023-04-21T11:19:46.368Z"
   },
   {
    "duration": 211,
    "start_time": "2023-04-21T11:19:46.399Z"
   },
   {
    "duration": 674,
    "start_time": "2023-04-21T11:19:46.612Z"
   },
   {
    "duration": 710,
    "start_time": "2023-04-21T11:19:47.287Z"
   },
   {
    "duration": 766,
    "start_time": "2023-04-21T11:19:47.999Z"
   },
   {
    "duration": 69,
    "start_time": "2023-04-21T11:19:48.767Z"
   },
   {
    "duration": 42,
    "start_time": "2023-04-21T11:19:48.837Z"
   },
   {
    "duration": 40,
    "start_time": "2023-04-21T11:19:48.880Z"
   },
   {
    "duration": 76,
    "start_time": "2023-04-21T11:19:48.923Z"
   },
   {
    "duration": 11,
    "start_time": "2023-04-21T11:19:49.000Z"
   },
   {
    "duration": 16,
    "start_time": "2023-04-21T11:19:49.012Z"
   },
   {
    "duration": 371,
    "start_time": "2023-04-21T11:19:49.029Z"
   },
   {
    "duration": 13,
    "start_time": "2023-04-21T11:19:49.401Z"
   },
   {
    "duration": 135,
    "start_time": "2023-04-21T11:19:49.415Z"
   },
   {
    "duration": 673,
    "start_time": "2023-04-21T11:19:49.551Z"
   },
   {
    "duration": 567,
    "start_time": "2023-04-21T11:19:50.226Z"
   },
   {
    "duration": 3,
    "start_time": "2023-04-21T11:19:50.795Z"
   },
   {
    "duration": 26,
    "start_time": "2023-04-21T11:19:50.799Z"
   },
   {
    "duration": 10,
    "start_time": "2023-04-21T11:19:50.826Z"
   },
   {
    "duration": 171318,
    "start_time": "2023-04-21T11:19:50.837Z"
   },
   {
    "duration": 5,
    "start_time": "2023-04-21T11:22:42.156Z"
   },
   {
    "duration": 2226,
    "start_time": "2023-04-21T11:22:42.163Z"
   },
   {
    "duration": 1190306,
    "start_time": "2023-04-21T11:22:44.391Z"
   },
   {
    "duration": 91,
    "start_time": "2023-04-21T11:42:34.702Z"
   },
   {
    "duration": 354259,
    "start_time": "2023-04-21T11:42:34.801Z"
   },
   {
    "duration": 4,
    "start_time": "2023-04-21T11:48:29.062Z"
   },
   {
    "duration": 384,
    "start_time": "2023-04-21T11:48:29.067Z"
   },
   {
    "duration": 345,
    "start_time": "2023-04-21T11:48:29.453Z"
   },
   {
    "duration": 26943,
    "start_time": "2023-04-21T11:48:29.800Z"
   },
   {
    "duration": 84,
    "start_time": "2023-04-21T11:48:56.744Z"
   },
   {
    "duration": 36337,
    "start_time": "2023-04-21T11:48:56.829Z"
   },
   {
    "duration": 37222,
    "start_time": "2023-04-21T11:55:28.847Z"
   },
   {
    "duration": 26358,
    "start_time": "2023-04-21T11:58:36.447Z"
   },
   {
    "duration": 10348,
    "start_time": "2023-04-21T11:59:24.661Z"
   },
   {
    "duration": 26548,
    "start_time": "2023-04-21T12:00:29.829Z"
   },
   {
    "duration": 1012,
    "start_time": "2023-04-21T12:06:14.370Z"
   },
   {
    "duration": 46077,
    "start_time": "2023-04-21T12:06:30.322Z"
   },
   {
    "duration": 121,
    "start_time": "2023-04-21T12:08:14.429Z"
   },
   {
    "duration": 12,
    "start_time": "2023-04-21T12:08:26.252Z"
   },
   {
    "duration": 676,
    "start_time": "2023-04-21T12:08:29.940Z"
   },
   {
    "duration": 60,
    "start_time": "2023-04-21T12:09:58.147Z"
   },
   {
    "duration": 58,
    "start_time": "2023-04-21T12:10:14.177Z"
   },
   {
    "duration": 55,
    "start_time": "2023-04-21T12:10:18.038Z"
   },
   {
    "duration": 9,
    "start_time": "2023-04-21T12:10:57.553Z"
   },
   {
    "duration": 77,
    "start_time": "2023-04-21T12:12:00.732Z"
   },
   {
    "duration": 110,
    "start_time": "2023-04-21T12:12:02.775Z"
   },
   {
    "duration": 89,
    "start_time": "2023-04-21T12:12:11.899Z"
   },
   {
    "duration": 10,
    "start_time": "2023-04-21T12:12:22.227Z"
   },
   {
    "duration": 677,
    "start_time": "2023-04-21T12:12:30.239Z"
   },
   {
    "duration": 54,
    "start_time": "2023-04-21T12:14:56.416Z"
   },
   {
    "duration": 116,
    "start_time": "2023-04-21T12:15:11.671Z"
   },
   {
    "duration": 92,
    "start_time": "2023-04-21T12:15:16.829Z"
   },
   {
    "duration": 129,
    "start_time": "2023-04-21T12:16:27.899Z"
   },
   {
    "duration": 103,
    "start_time": "2023-04-21T12:16:39.328Z"
   },
   {
    "duration": 8,
    "start_time": "2023-04-21T12:18:27.845Z"
   },
   {
    "duration": 9,
    "start_time": "2023-04-21T12:19:03.651Z"
   },
   {
    "duration": 105,
    "start_time": "2023-04-21T12:19:19.075Z"
   },
   {
    "duration": 11,
    "start_time": "2023-04-21T12:19:19.723Z"
   },
   {
    "duration": 3,
    "start_time": "2023-04-21T12:19:41.017Z"
   },
   {
    "duration": 10,
    "start_time": "2023-04-21T12:19:41.473Z"
   },
   {
    "duration": 9,
    "start_time": "2023-04-21T12:20:01.377Z"
   },
   {
    "duration": 12,
    "start_time": "2023-04-21T12:20:19.517Z"
   },
   {
    "duration": 51,
    "start_time": "2023-04-21T12:21:18.359Z"
   },
   {
    "duration": 9,
    "start_time": "2023-04-21T12:22:10.165Z"
   },
   {
    "duration": 11,
    "start_time": "2023-04-21T12:22:33.434Z"
   },
   {
    "duration": 38,
    "start_time": "2023-04-21T12:22:54.690Z"
   },
   {
    "duration": 47,
    "start_time": "2023-04-21T12:23:33.520Z"
   },
   {
    "duration": 1416,
    "start_time": "2023-04-21T12:23:37.457Z"
   },
   {
    "duration": 1420,
    "start_time": "2023-04-21T12:23:38.874Z"
   },
   {
    "duration": 103,
    "start_time": "2023-04-21T12:23:40.295Z"
   },
   {
    "duration": 19,
    "start_time": "2023-04-21T12:23:40.400Z"
   },
   {
    "duration": 108,
    "start_time": "2023-04-21T12:23:40.420Z"
   },
   {
    "duration": 23,
    "start_time": "2023-04-21T12:23:40.529Z"
   },
   {
    "duration": 57,
    "start_time": "2023-04-21T12:23:40.554Z"
   },
   {
    "duration": 6,
    "start_time": "2023-04-21T12:23:40.612Z"
   },
   {
    "duration": 14,
    "start_time": "2023-04-21T12:23:40.619Z"
   },
   {
    "duration": 6,
    "start_time": "2023-04-21T12:23:40.635Z"
   },
   {
    "duration": 15,
    "start_time": "2023-04-21T12:23:40.642Z"
   },
   {
    "duration": 33,
    "start_time": "2023-04-21T12:23:40.658Z"
   },
   {
    "duration": 26,
    "start_time": "2023-04-21T12:23:40.692Z"
   },
   {
    "duration": 26,
    "start_time": "2023-04-21T12:23:40.719Z"
   },
   {
    "duration": 27,
    "start_time": "2023-04-21T12:23:40.746Z"
   },
   {
    "duration": 16,
    "start_time": "2023-04-21T12:23:40.774Z"
   },
   {
    "duration": 38,
    "start_time": "2023-04-21T12:23:40.792Z"
   },
   {
    "duration": 6,
    "start_time": "2023-04-21T12:23:40.831Z"
   },
   {
    "duration": 12,
    "start_time": "2023-04-21T12:23:40.839Z"
   },
   {
    "duration": 31,
    "start_time": "2023-04-21T12:23:40.853Z"
   },
   {
    "duration": 45,
    "start_time": "2023-04-21T12:23:40.885Z"
   },
   {
    "duration": 15,
    "start_time": "2023-04-21T12:23:40.931Z"
   },
   {
    "duration": 15,
    "start_time": "2023-04-21T12:23:40.947Z"
   },
   {
    "duration": 20,
    "start_time": "2023-04-21T12:23:40.963Z"
   },
   {
    "duration": 35,
    "start_time": "2023-04-21T12:23:40.984Z"
   },
   {
    "duration": 78,
    "start_time": "2023-04-21T12:23:41.021Z"
   },
   {
    "duration": 137,
    "start_time": "2023-04-21T12:23:41.101Z"
   },
   {
    "duration": 174,
    "start_time": "2023-04-21T12:23:41.242Z"
   },
   {
    "duration": 125,
    "start_time": "2023-04-21T12:23:41.418Z"
   },
   {
    "duration": 5,
    "start_time": "2023-04-21T12:23:41.545Z"
   },
   {
    "duration": 69,
    "start_time": "2023-04-21T12:23:41.551Z"
   },
   {
    "duration": 17,
    "start_time": "2023-04-21T12:23:41.622Z"
   },
   {
    "duration": 31,
    "start_time": "2023-04-21T12:23:41.641Z"
   },
   {
    "duration": 216,
    "start_time": "2023-04-21T12:23:41.673Z"
   },
   {
    "duration": 671,
    "start_time": "2023-04-21T12:23:41.890Z"
   },
   {
    "duration": 780,
    "start_time": "2023-04-21T12:23:42.562Z"
   },
   {
    "duration": 796,
    "start_time": "2023-04-21T12:23:43.344Z"
   },
   {
    "duration": 84,
    "start_time": "2023-04-21T12:23:44.142Z"
   },
   {
    "duration": 34,
    "start_time": "2023-04-21T12:23:44.228Z"
   },
   {
    "duration": 44,
    "start_time": "2023-04-21T12:23:44.263Z"
   },
   {
    "duration": 74,
    "start_time": "2023-04-21T12:23:44.308Z"
   },
   {
    "duration": 2,
    "start_time": "2023-04-21T12:23:44.384Z"
   },
   {
    "duration": 24,
    "start_time": "2023-04-21T12:23:44.388Z"
   },
   {
    "duration": 378,
    "start_time": "2023-04-21T12:23:44.414Z"
   },
   {
    "duration": 12,
    "start_time": "2023-04-21T12:23:44.794Z"
   },
   {
    "duration": 102,
    "start_time": "2023-04-21T12:23:44.808Z"
   },
   {
    "duration": 664,
    "start_time": "2023-04-21T12:23:44.911Z"
   },
   {
    "duration": 597,
    "start_time": "2023-04-21T12:23:45.576Z"
   },
   {
    "duration": 4,
    "start_time": "2023-04-21T12:23:46.175Z"
   },
   {
    "duration": 75,
    "start_time": "2023-04-21T12:23:46.180Z"
   },
   {
    "duration": 2,
    "start_time": "2023-04-21T12:23:46.257Z"
   },
   {
    "duration": 166560,
    "start_time": "2023-04-21T12:23:46.260Z"
   },
   {
    "duration": 4,
    "start_time": "2023-04-21T12:26:32.821Z"
   },
   {
    "duration": 169,
    "start_time": "2023-04-21T12:26:32.826Z"
   },
   {
    "duration": 0,
    "start_time": "2023-04-21T12:26:32.996Z"
   },
   {
    "duration": 0,
    "start_time": "2023-04-21T12:26:32.997Z"
   },
   {
    "duration": 0,
    "start_time": "2023-04-21T12:26:32.998Z"
   },
   {
    "duration": 0,
    "start_time": "2023-04-21T12:26:32.999Z"
   },
   {
    "duration": 0,
    "start_time": "2023-04-21T12:26:32.999Z"
   },
   {
    "duration": 0,
    "start_time": "2023-04-21T12:26:33.000Z"
   },
   {
    "duration": 0,
    "start_time": "2023-04-21T12:26:33.001Z"
   },
   {
    "duration": 0,
    "start_time": "2023-04-21T12:26:33.002Z"
   },
   {
    "duration": 0,
    "start_time": "2023-04-21T12:26:33.003Z"
   },
   {
    "duration": 40,
    "start_time": "2023-04-21T12:28:52.323Z"
   },
   {
    "duration": 14,
    "start_time": "2023-04-21T12:29:15.429Z"
   },
   {
    "duration": 40,
    "start_time": "2023-04-21T12:29:57.248Z"
   },
   {
    "duration": 40,
    "start_time": "2023-04-21T12:30:49.218Z"
   },
   {
    "duration": 3,
    "start_time": "2023-04-21T12:30:51.838Z"
   },
   {
    "duration": 52,
    "start_time": "2023-04-21T12:30:52.620Z"
   },
   {
    "duration": 44,
    "start_time": "2023-04-21T12:31:30.690Z"
   },
   {
    "duration": 9,
    "start_time": "2023-04-21T12:33:03.814Z"
   },
   {
    "duration": 46,
    "start_time": "2023-04-21T12:33:51.226Z"
   },
   {
    "duration": 3,
    "start_time": "2023-04-21T12:33:52.032Z"
   },
   {
    "duration": 1339,
    "start_time": "2023-04-21T12:34:03.962Z"
   },
   {
    "duration": 1500,
    "start_time": "2023-04-21T12:34:05.303Z"
   },
   {
    "duration": 110,
    "start_time": "2023-04-21T12:34:06.805Z"
   },
   {
    "duration": 20,
    "start_time": "2023-04-21T12:34:06.917Z"
   },
   {
    "duration": 107,
    "start_time": "2023-04-21T12:34:06.938Z"
   },
   {
    "duration": 31,
    "start_time": "2023-04-21T12:34:07.046Z"
   },
   {
    "duration": 49,
    "start_time": "2023-04-21T12:34:07.079Z"
   },
   {
    "duration": 6,
    "start_time": "2023-04-21T12:34:07.129Z"
   },
   {
    "duration": 5,
    "start_time": "2023-04-21T12:34:07.136Z"
   },
   {
    "duration": 7,
    "start_time": "2023-04-21T12:34:07.144Z"
   },
   {
    "duration": 30,
    "start_time": "2023-04-21T12:34:07.152Z"
   },
   {
    "duration": 23,
    "start_time": "2023-04-21T12:34:07.183Z"
   },
   {
    "duration": 30,
    "start_time": "2023-04-21T12:34:07.208Z"
   },
   {
    "duration": 37,
    "start_time": "2023-04-21T12:34:07.240Z"
   },
   {
    "duration": 25,
    "start_time": "2023-04-21T12:34:07.279Z"
   },
   {
    "duration": 13,
    "start_time": "2023-04-21T12:34:07.305Z"
   },
   {
    "duration": 38,
    "start_time": "2023-04-21T12:34:07.319Z"
   },
   {
    "duration": 5,
    "start_time": "2023-04-21T12:34:07.359Z"
   },
   {
    "duration": 35,
    "start_time": "2023-04-21T12:34:07.365Z"
   },
   {
    "duration": 32,
    "start_time": "2023-04-21T12:34:07.402Z"
   },
   {
    "duration": 27,
    "start_time": "2023-04-21T12:34:07.436Z"
   },
   {
    "duration": 30,
    "start_time": "2023-04-21T12:34:07.464Z"
   },
   {
    "duration": 25,
    "start_time": "2023-04-21T12:34:07.495Z"
   },
   {
    "duration": 24,
    "start_time": "2023-04-21T12:34:07.521Z"
   },
   {
    "duration": 26,
    "start_time": "2023-04-21T12:34:07.546Z"
   },
   {
    "duration": 70,
    "start_time": "2023-04-21T12:34:07.574Z"
   },
   {
    "duration": 150,
    "start_time": "2023-04-21T12:34:07.645Z"
   },
   {
    "duration": 167,
    "start_time": "2023-04-21T12:34:07.799Z"
   },
   {
    "duration": 117,
    "start_time": "2023-04-21T12:34:07.967Z"
   },
   {
    "duration": 5,
    "start_time": "2023-04-21T12:34:08.085Z"
   },
   {
    "duration": 52,
    "start_time": "2023-04-21T12:34:08.092Z"
   },
   {
    "duration": 28,
    "start_time": "2023-04-21T12:34:08.145Z"
   },
   {
    "duration": 21,
    "start_time": "2023-04-21T12:34:08.175Z"
   },
   {
    "duration": 225,
    "start_time": "2023-04-21T12:34:08.198Z"
   },
   {
    "duration": 698,
    "start_time": "2023-04-21T12:34:08.425Z"
   },
   {
    "duration": 739,
    "start_time": "2023-04-21T12:34:09.124Z"
   },
   {
    "duration": 792,
    "start_time": "2023-04-21T12:34:09.864Z"
   },
   {
    "duration": 76,
    "start_time": "2023-04-21T12:34:10.657Z"
   },
   {
    "duration": 42,
    "start_time": "2023-04-21T12:34:10.734Z"
   },
   {
    "duration": 38,
    "start_time": "2023-04-21T12:34:10.777Z"
   },
   {
    "duration": 73,
    "start_time": "2023-04-21T12:34:10.816Z"
   },
   {
    "duration": 2,
    "start_time": "2023-04-21T12:34:10.891Z"
   },
   {
    "duration": 7,
    "start_time": "2023-04-21T12:34:10.894Z"
   },
   {
    "duration": 389,
    "start_time": "2023-04-21T12:34:10.902Z"
   },
   {
    "duration": 13,
    "start_time": "2023-04-21T12:34:11.293Z"
   },
   {
    "duration": 112,
    "start_time": "2023-04-21T12:34:11.307Z"
   },
   {
    "duration": 646,
    "start_time": "2023-04-21T12:34:11.420Z"
   },
   {
    "duration": 547,
    "start_time": "2023-04-21T12:34:12.068Z"
   },
   {
    "duration": 4,
    "start_time": "2023-04-21T12:34:12.616Z"
   },
   {
    "duration": 63,
    "start_time": "2023-04-21T12:34:12.621Z"
   },
   {
    "duration": 21,
    "start_time": "2023-04-21T12:34:12.685Z"
   },
   {
    "duration": 118724,
    "start_time": "2023-04-21T12:34:12.708Z"
   },
   {
    "duration": 11,
    "start_time": "2023-04-21T12:36:11.433Z"
   },
   {
    "duration": 0,
    "start_time": "2023-04-21T12:36:11.446Z"
   },
   {
    "duration": 0,
    "start_time": "2023-04-21T12:36:11.447Z"
   },
   {
    "duration": 0,
    "start_time": "2023-04-21T12:36:11.448Z"
   },
   {
    "duration": 0,
    "start_time": "2023-04-21T12:36:11.449Z"
   },
   {
    "duration": 0,
    "start_time": "2023-04-21T12:36:11.449Z"
   },
   {
    "duration": 0,
    "start_time": "2023-04-21T12:36:11.450Z"
   },
   {
    "duration": 0,
    "start_time": "2023-04-21T12:36:11.451Z"
   },
   {
    "duration": 0,
    "start_time": "2023-04-21T12:36:11.453Z"
   },
   {
    "duration": 0,
    "start_time": "2023-04-21T12:36:11.454Z"
   },
   {
    "duration": 0,
    "start_time": "2023-04-21T12:36:11.455Z"
   },
   {
    "duration": 0,
    "start_time": "2023-04-21T12:36:11.457Z"
   },
   {
    "duration": 1409,
    "start_time": "2023-04-21T12:38:19.066Z"
   },
   {
    "duration": 1500,
    "start_time": "2023-04-21T12:38:20.476Z"
   },
   {
    "duration": 109,
    "start_time": "2023-04-21T12:38:21.977Z"
   },
   {
    "duration": 24,
    "start_time": "2023-04-21T12:38:22.087Z"
   },
   {
    "duration": 112,
    "start_time": "2023-04-21T12:38:22.113Z"
   },
   {
    "duration": 22,
    "start_time": "2023-04-21T12:38:22.227Z"
   },
   {
    "duration": 60,
    "start_time": "2023-04-21T12:38:22.251Z"
   },
   {
    "duration": 6,
    "start_time": "2023-04-21T12:38:22.312Z"
   },
   {
    "duration": 12,
    "start_time": "2023-04-21T12:38:22.319Z"
   },
   {
    "duration": 52,
    "start_time": "2023-04-21T12:38:22.332Z"
   },
   {
    "duration": 31,
    "start_time": "2023-04-21T12:38:22.385Z"
   },
   {
    "duration": 35,
    "start_time": "2023-04-21T12:38:22.417Z"
   },
   {
    "duration": 21,
    "start_time": "2023-04-21T12:38:22.453Z"
   },
   {
    "duration": 29,
    "start_time": "2023-04-21T12:38:22.476Z"
   },
   {
    "duration": 32,
    "start_time": "2023-04-21T12:38:22.507Z"
   },
   {
    "duration": 5,
    "start_time": "2023-04-21T12:38:22.540Z"
   },
   {
    "duration": 36,
    "start_time": "2023-04-21T12:38:22.546Z"
   },
   {
    "duration": 5,
    "start_time": "2023-04-21T12:38:22.583Z"
   },
   {
    "duration": 14,
    "start_time": "2023-04-21T12:38:22.589Z"
   },
   {
    "duration": 22,
    "start_time": "2023-04-21T12:38:22.604Z"
   },
   {
    "duration": 40,
    "start_time": "2023-04-21T12:38:22.627Z"
   },
   {
    "duration": 14,
    "start_time": "2023-04-21T12:38:22.668Z"
   },
   {
    "duration": 16,
    "start_time": "2023-04-21T12:38:22.683Z"
   },
   {
    "duration": 22,
    "start_time": "2023-04-21T12:38:22.700Z"
   },
   {
    "duration": 40,
    "start_time": "2023-04-21T12:38:22.723Z"
   },
   {
    "duration": 68,
    "start_time": "2023-04-21T12:38:22.764Z"
   },
   {
    "duration": 142,
    "start_time": "2023-04-21T12:38:22.833Z"
   },
   {
    "duration": 173,
    "start_time": "2023-04-21T12:38:22.976Z"
   },
   {
    "duration": 116,
    "start_time": "2023-04-21T12:38:23.150Z"
   },
   {
    "duration": 4,
    "start_time": "2023-04-21T12:38:23.272Z"
   },
   {
    "duration": 60,
    "start_time": "2023-04-21T12:38:23.278Z"
   },
   {
    "duration": 12,
    "start_time": "2023-04-21T12:38:23.339Z"
   },
   {
    "duration": 24,
    "start_time": "2023-04-21T12:38:23.353Z"
   },
   {
    "duration": 224,
    "start_time": "2023-04-21T12:38:23.379Z"
   },
   {
    "duration": 635,
    "start_time": "2023-04-21T12:38:23.604Z"
   },
   {
    "duration": 728,
    "start_time": "2023-04-21T12:38:24.240Z"
   },
   {
    "duration": 784,
    "start_time": "2023-04-21T12:38:24.971Z"
   },
   {
    "duration": 77,
    "start_time": "2023-04-21T12:38:25.757Z"
   },
   {
    "duration": 42,
    "start_time": "2023-04-21T12:38:25.836Z"
   },
   {
    "duration": 40,
    "start_time": "2023-04-21T12:38:25.879Z"
   },
   {
    "duration": 81,
    "start_time": "2023-04-21T12:38:25.922Z"
   },
   {
    "duration": 9,
    "start_time": "2023-04-21T12:38:26.005Z"
   },
   {
    "duration": 18,
    "start_time": "2023-04-21T12:38:26.015Z"
   },
   {
    "duration": 363,
    "start_time": "2023-04-21T12:38:26.035Z"
   },
   {
    "duration": 13,
    "start_time": "2023-04-21T12:38:26.399Z"
   },
   {
    "duration": 109,
    "start_time": "2023-04-21T12:38:26.413Z"
   },
   {
    "duration": 664,
    "start_time": "2023-04-21T12:38:26.524Z"
   },
   {
    "duration": 558,
    "start_time": "2023-04-21T12:38:27.189Z"
   },
   {
    "duration": 3,
    "start_time": "2023-04-21T12:38:27.748Z"
   },
   {
    "duration": 7,
    "start_time": "2023-04-21T12:38:27.752Z"
   },
   {
    "duration": 11,
    "start_time": "2023-04-21T12:38:27.761Z"
   },
   {
    "duration": 169032,
    "start_time": "2023-04-21T12:38:27.773Z"
   },
   {
    "duration": 4,
    "start_time": "2023-04-21T12:41:16.807Z"
   },
   {
    "duration": 2233,
    "start_time": "2023-04-21T12:41:16.812Z"
   },
   {
    "duration": 3,
    "start_time": "2023-04-21T12:41:19.047Z"
   },
   {
    "duration": 320829,
    "start_time": "2023-04-21T12:41:19.051Z"
   },
   {
    "duration": 91,
    "start_time": "2023-04-21T12:46:39.882Z"
   },
   {
    "duration": 320200,
    "start_time": "2023-04-21T12:46:39.975Z"
   },
   {
    "duration": 3,
    "start_time": "2023-04-21T12:52:00.177Z"
   },
   {
    "duration": 331,
    "start_time": "2023-04-21T12:52:00.182Z"
   },
   {
    "duration": 273,
    "start_time": "2023-04-21T12:52:00.515Z"
   },
   {
    "duration": 24255,
    "start_time": "2023-04-21T12:52:00.790Z"
   },
   {
    "duration": 112,
    "start_time": "2023-04-21T12:52:25.047Z"
   },
   {
    "duration": 171,
    "start_time": "2023-04-21T12:52:25.161Z"
   },
   {
    "duration": 414965,
    "start_time": "2023-04-21T12:56:10.675Z"
   },
   {
    "duration": 2,
    "start_time": "2023-04-21T13:27:23.285Z"
   },
   {
    "duration": 418057,
    "start_time": "2023-04-21T13:27:23.971Z"
   },
   {
    "duration": 417834,
    "start_time": "2023-04-21T13:35:25.379Z"
   },
   {
    "duration": 910,
    "start_time": "2023-04-21T15:36:31.519Z"
   },
   {
    "duration": 106,
    "start_time": "2023-04-21T15:36:33.217Z"
   },
   {
    "duration": 1604,
    "start_time": "2023-04-21T15:36:41.460Z"
   },
   {
    "duration": 1758,
    "start_time": "2023-04-21T15:36:43.066Z"
   },
   {
    "duration": 116,
    "start_time": "2023-04-21T15:36:44.825Z"
   },
   {
    "duration": 24,
    "start_time": "2023-04-21T15:36:44.943Z"
   },
   {
    "duration": 122,
    "start_time": "2023-04-21T15:36:44.968Z"
   },
   {
    "duration": 23,
    "start_time": "2023-04-21T15:36:45.091Z"
   },
   {
    "duration": 67,
    "start_time": "2023-04-21T15:36:45.116Z"
   },
   {
    "duration": 7,
    "start_time": "2023-04-21T15:36:45.185Z"
   },
   {
    "duration": 5,
    "start_time": "2023-04-21T15:36:45.193Z"
   },
   {
    "duration": 6,
    "start_time": "2023-04-21T15:36:45.200Z"
   },
   {
    "duration": 17,
    "start_time": "2023-04-21T15:36:45.207Z"
   },
   {
    "duration": 50,
    "start_time": "2023-04-21T15:36:45.225Z"
   },
   {
    "duration": 32,
    "start_time": "2023-04-21T15:36:45.277Z"
   },
   {
    "duration": 27,
    "start_time": "2023-04-21T15:36:45.311Z"
   },
   {
    "duration": 22,
    "start_time": "2023-04-21T15:36:45.349Z"
   },
   {
    "duration": 8,
    "start_time": "2023-04-21T15:36:45.372Z"
   },
   {
    "duration": 52,
    "start_time": "2023-04-21T15:36:45.382Z"
   },
   {
    "duration": 19,
    "start_time": "2023-04-21T15:36:45.436Z"
   },
   {
    "duration": 22,
    "start_time": "2023-04-21T15:36:45.457Z"
   },
   {
    "duration": 25,
    "start_time": "2023-04-21T15:36:45.480Z"
   },
   {
    "duration": 24,
    "start_time": "2023-04-21T15:36:45.506Z"
   },
   {
    "duration": 30,
    "start_time": "2023-04-21T15:36:45.531Z"
   },
   {
    "duration": 25,
    "start_time": "2023-04-21T15:36:45.562Z"
   },
   {
    "duration": 7,
    "start_time": "2023-04-21T15:36:45.589Z"
   },
   {
    "duration": 27,
    "start_time": "2023-04-21T15:36:45.598Z"
   },
   {
    "duration": 94,
    "start_time": "2023-04-21T15:36:45.627Z"
   },
   {
    "duration": 157,
    "start_time": "2023-04-21T15:36:45.722Z"
   },
   {
    "duration": 197,
    "start_time": "2023-04-21T15:36:45.883Z"
   },
   {
    "duration": 128,
    "start_time": "2023-04-21T15:36:46.082Z"
   },
   {
    "duration": 4,
    "start_time": "2023-04-21T15:36:46.211Z"
   },
   {
    "duration": 64,
    "start_time": "2023-04-21T15:36:46.217Z"
   },
   {
    "duration": 16,
    "start_time": "2023-04-21T15:36:46.282Z"
   },
   {
    "duration": 17,
    "start_time": "2023-04-21T15:36:46.300Z"
   },
   {
    "duration": 250,
    "start_time": "2023-04-21T15:36:46.318Z"
   },
   {
    "duration": 713,
    "start_time": "2023-04-21T15:36:46.569Z"
   },
   {
    "duration": 754,
    "start_time": "2023-04-21T15:36:47.283Z"
   },
   {
    "duration": 858,
    "start_time": "2023-04-21T15:36:48.039Z"
   },
   {
    "duration": 85,
    "start_time": "2023-04-21T15:36:48.899Z"
   },
   {
    "duration": 35,
    "start_time": "2023-04-21T15:36:48.986Z"
   },
   {
    "duration": 50,
    "start_time": "2023-04-21T15:36:49.023Z"
   },
   {
    "duration": 79,
    "start_time": "2023-04-21T15:36:49.075Z"
   },
   {
    "duration": 2,
    "start_time": "2023-04-21T15:36:49.155Z"
   },
   {
    "duration": 18,
    "start_time": "2023-04-21T15:36:49.159Z"
   },
   {
    "duration": 378,
    "start_time": "2023-04-21T15:36:49.178Z"
   },
   {
    "duration": 14,
    "start_time": "2023-04-21T15:36:49.558Z"
   },
   {
    "duration": 121,
    "start_time": "2023-04-21T15:36:49.573Z"
   },
   {
    "duration": 710,
    "start_time": "2023-04-21T15:36:49.695Z"
   },
   {
    "duration": 594,
    "start_time": "2023-04-21T15:36:50.407Z"
   },
   {
    "duration": 3,
    "start_time": "2023-04-21T15:36:51.003Z"
   },
   {
    "duration": 18,
    "start_time": "2023-04-21T15:36:51.007Z"
   },
   {
    "duration": 16,
    "start_time": "2023-04-21T15:36:51.026Z"
   },
   {
    "duration": 19688,
    "start_time": "2023-04-21T15:36:51.043Z"
   },
   {
    "duration": 21,
    "start_time": "2023-04-21T15:37:10.732Z"
   },
   {
    "duration": 0,
    "start_time": "2023-04-21T15:37:10.754Z"
   },
   {
    "duration": 0,
    "start_time": "2023-04-21T15:37:10.755Z"
   },
   {
    "duration": 0,
    "start_time": "2023-04-21T15:37:10.756Z"
   },
   {
    "duration": 0,
    "start_time": "2023-04-21T15:37:10.757Z"
   },
   {
    "duration": 0,
    "start_time": "2023-04-21T15:37:10.758Z"
   },
   {
    "duration": 0,
    "start_time": "2023-04-21T15:37:10.759Z"
   },
   {
    "duration": 0,
    "start_time": "2023-04-21T15:37:10.760Z"
   },
   {
    "duration": 0,
    "start_time": "2023-04-21T15:37:10.761Z"
   },
   {
    "duration": 0,
    "start_time": "2023-04-21T15:37:10.762Z"
   },
   {
    "duration": 0,
    "start_time": "2023-04-21T15:37:10.763Z"
   },
   {
    "duration": 0,
    "start_time": "2023-04-21T15:37:10.764Z"
   },
   {
    "duration": 0,
    "start_time": "2023-04-21T15:37:10.765Z"
   },
   {
    "duration": 3,
    "start_time": "2023-04-21T15:37:18.172Z"
   },
   {
    "duration": 3,
    "start_time": "2023-04-21T15:37:18.555Z"
   },
   {
    "duration": 62,
    "start_time": "2023-04-21T15:37:19.100Z"
   },
   {
    "duration": 10,
    "start_time": "2023-04-21T15:37:54.963Z"
   },
   {
    "duration": 11,
    "start_time": "2023-04-21T15:38:24.828Z"
   },
   {
    "duration": 9,
    "start_time": "2023-04-21T15:44:05.791Z"
   },
   {
    "duration": 93,
    "start_time": "2023-04-21T15:44:53.765Z"
   },
   {
    "duration": 21281,
    "start_time": "2023-04-21T15:44:54.573Z"
   },
   {
    "duration": 2129,
    "start_time": "2023-04-21T15:46:11.476Z"
   },
   {
    "duration": 2,
    "start_time": "2023-04-21T15:46:13.607Z"
   },
   {
    "duration": 24784,
    "start_time": "2023-04-21T15:46:17.366Z"
   },
   {
    "duration": 12,
    "start_time": "2023-04-21T15:48:04.687Z"
   },
   {
    "duration": 9,
    "start_time": "2023-04-21T15:48:19.840Z"
   },
   {
    "duration": 14,
    "start_time": "2023-04-21T15:48:25.503Z"
   },
   {
    "duration": 105,
    "start_time": "2023-04-21T15:48:51.472Z"
   },
   {
    "duration": 55,
    "start_time": "2023-04-21T15:50:49.126Z"
   },
   {
    "duration": 81,
    "start_time": "2023-04-21T15:50:53.280Z"
   },
   {
    "duration": 26,
    "start_time": "2023-04-21T15:51:04.868Z"
   },
   {
    "duration": 13770,
    "start_time": "2023-04-21T15:52:28.689Z"
   },
   {
    "duration": 2,
    "start_time": "2023-04-21T15:52:58.971Z"
   },
   {
    "duration": 1378,
    "start_time": "2023-04-21T15:53:39.003Z"
   },
   {
    "duration": 1487,
    "start_time": "2023-04-21T15:53:40.383Z"
   },
   {
    "duration": 110,
    "start_time": "2023-04-21T15:53:41.871Z"
   },
   {
    "duration": 32,
    "start_time": "2023-04-21T15:53:41.982Z"
   },
   {
    "duration": 113,
    "start_time": "2023-04-21T15:53:42.016Z"
   },
   {
    "duration": 20,
    "start_time": "2023-04-21T15:53:42.130Z"
   },
   {
    "duration": 53,
    "start_time": "2023-04-21T15:53:42.151Z"
   },
   {
    "duration": 5,
    "start_time": "2023-04-21T15:53:42.205Z"
   },
   {
    "duration": 38,
    "start_time": "2023-04-21T15:53:42.212Z"
   },
   {
    "duration": 27,
    "start_time": "2023-04-21T15:53:42.252Z"
   },
   {
    "duration": 32,
    "start_time": "2023-04-21T15:53:42.280Z"
   },
   {
    "duration": 41,
    "start_time": "2023-04-21T15:53:42.313Z"
   },
   {
    "duration": 21,
    "start_time": "2023-04-21T15:53:42.355Z"
   },
   {
    "duration": 27,
    "start_time": "2023-04-21T15:53:42.379Z"
   },
   {
    "duration": 20,
    "start_time": "2023-04-21T15:53:42.408Z"
   },
   {
    "duration": 19,
    "start_time": "2023-04-21T15:53:42.430Z"
   },
   {
    "duration": 33,
    "start_time": "2023-04-21T15:53:42.451Z"
   },
   {
    "duration": 6,
    "start_time": "2023-04-21T15:53:42.486Z"
   },
   {
    "duration": 28,
    "start_time": "2023-04-21T15:53:42.493Z"
   },
   {
    "duration": 24,
    "start_time": "2023-04-21T15:53:42.522Z"
   },
   {
    "duration": 29,
    "start_time": "2023-04-21T15:53:42.547Z"
   },
   {
    "duration": 19,
    "start_time": "2023-04-21T15:53:42.577Z"
   },
   {
    "duration": 21,
    "start_time": "2023-04-21T15:53:42.598Z"
   },
   {
    "duration": 21,
    "start_time": "2023-04-21T15:53:42.621Z"
   },
   {
    "duration": 47,
    "start_time": "2023-04-21T15:53:42.644Z"
   },
   {
    "duration": 76,
    "start_time": "2023-04-21T15:53:42.692Z"
   },
   {
    "duration": 154,
    "start_time": "2023-04-21T15:53:42.770Z"
   },
   {
    "duration": 192,
    "start_time": "2023-04-21T15:53:42.926Z"
   },
   {
    "duration": 138,
    "start_time": "2023-04-21T15:53:43.120Z"
   },
   {
    "duration": 5,
    "start_time": "2023-04-21T15:53:43.259Z"
   },
   {
    "duration": 74,
    "start_time": "2023-04-21T15:53:43.265Z"
   },
   {
    "duration": 15,
    "start_time": "2023-04-21T15:53:43.341Z"
   },
   {
    "duration": 47,
    "start_time": "2023-04-21T15:53:43.357Z"
   },
   {
    "duration": 253,
    "start_time": "2023-04-21T15:53:43.406Z"
   },
   {
    "duration": 804,
    "start_time": "2023-04-21T15:53:43.660Z"
   },
   {
    "duration": 762,
    "start_time": "2023-04-21T15:53:44.466Z"
   },
   {
    "duration": 848,
    "start_time": "2023-04-21T15:53:45.229Z"
   },
   {
    "duration": 80,
    "start_time": "2023-04-21T15:53:46.079Z"
   },
   {
    "duration": 32,
    "start_time": "2023-04-21T15:53:46.161Z"
   },
   {
    "duration": 54,
    "start_time": "2023-04-21T15:53:46.195Z"
   },
   {
    "duration": 66,
    "start_time": "2023-04-21T15:53:46.252Z"
   },
   {
    "duration": 2,
    "start_time": "2023-04-21T15:53:46.320Z"
   },
   {
    "duration": 11,
    "start_time": "2023-04-21T15:53:46.323Z"
   },
   {
    "duration": 366,
    "start_time": "2023-04-21T15:53:46.335Z"
   },
   {
    "duration": 14,
    "start_time": "2023-04-21T15:53:46.703Z"
   },
   {
    "duration": 124,
    "start_time": "2023-04-21T15:53:46.719Z"
   },
   {
    "duration": 690,
    "start_time": "2023-04-21T15:53:46.844Z"
   },
   {
    "duration": 615,
    "start_time": "2023-04-21T15:53:47.535Z"
   },
   {
    "duration": 5,
    "start_time": "2023-04-21T15:53:48.152Z"
   },
   {
    "duration": 61,
    "start_time": "2023-04-21T15:53:48.158Z"
   },
   {
    "duration": 3,
    "start_time": "2023-04-21T15:53:48.220Z"
   },
   {
    "duration": 8777,
    "start_time": "2023-04-21T15:53:48.225Z"
   },
   {
    "duration": 10,
    "start_time": "2023-04-21T15:53:57.003Z"
   },
   {
    "duration": 0,
    "start_time": "2023-04-21T15:53:57.014Z"
   },
   {
    "duration": 0,
    "start_time": "2023-04-21T15:53:57.015Z"
   },
   {
    "duration": 0,
    "start_time": "2023-04-21T15:53:57.016Z"
   },
   {
    "duration": 0,
    "start_time": "2023-04-21T15:53:57.017Z"
   },
   {
    "duration": 0,
    "start_time": "2023-04-21T15:53:57.018Z"
   },
   {
    "duration": 0,
    "start_time": "2023-04-21T15:53:57.019Z"
   },
   {
    "duration": 0,
    "start_time": "2023-04-21T15:53:57.020Z"
   },
   {
    "duration": 0,
    "start_time": "2023-04-21T15:53:57.021Z"
   },
   {
    "duration": 0,
    "start_time": "2023-04-21T15:53:57.021Z"
   },
   {
    "duration": 0,
    "start_time": "2023-04-21T15:53:57.022Z"
   },
   {
    "duration": 0,
    "start_time": "2023-04-21T15:53:57.023Z"
   },
   {
    "duration": 0,
    "start_time": "2023-04-21T15:53:57.024Z"
   },
   {
    "duration": 0,
    "start_time": "2023-04-21T15:53:57.025Z"
   },
   {
    "duration": 0,
    "start_time": "2023-04-21T15:53:57.026Z"
   },
   {
    "duration": 0,
    "start_time": "2023-04-21T15:53:57.027Z"
   },
   {
    "duration": 2150,
    "start_time": "2023-04-21T15:54:01.136Z"
   },
   {
    "duration": 3,
    "start_time": "2023-04-21T15:54:03.287Z"
   },
   {
    "duration": 10726,
    "start_time": "2023-04-21T15:54:10.023Z"
   },
   {
    "duration": 88,
    "start_time": "2023-04-21T15:54:41.209Z"
   },
   {
    "duration": 25250,
    "start_time": "2023-04-21T15:54:41.601Z"
   },
   {
    "duration": 107,
    "start_time": "2023-04-21T15:55:06.854Z"
   },
   {
    "duration": 394,
    "start_time": "2023-04-21T15:55:36.955Z"
   },
   {
    "duration": 401,
    "start_time": "2023-04-21T15:55:50.443Z"
   },
   {
    "duration": 69,
    "start_time": "2023-04-21T15:57:01.054Z"
   },
   {
    "duration": 25,
    "start_time": "2023-04-21T15:57:29.693Z"
   },
   {
    "duration": 85,
    "start_time": "2023-04-21T15:57:33.846Z"
   },
   {
    "duration": 4,
    "start_time": "2023-04-21T15:58:53.319Z"
   },
   {
    "duration": 13,
    "start_time": "2023-04-21T15:58:54.387Z"
   },
   {
    "duration": 84,
    "start_time": "2023-04-21T15:58:54.904Z"
   },
   {
    "duration": 3,
    "start_time": "2023-04-21T16:18:29.473Z"
   },
   {
    "duration": 4,
    "start_time": "2023-04-21T16:18:45.977Z"
   },
   {
    "duration": 4,
    "start_time": "2023-04-21T16:18:58.075Z"
   },
   {
    "duration": 12,
    "start_time": "2023-04-21T16:21:48.108Z"
   },
   {
    "duration": 522521,
    "start_time": "2023-04-21T16:23:16.334Z"
   },
   {
    "duration": 336409,
    "start_time": "2023-04-21T16:31:58.857Z"
   },
   {
    "duration": 5,
    "start_time": "2023-04-21T16:37:35.268Z"
   },
   {
    "duration": 360,
    "start_time": "2023-04-21T16:37:35.276Z"
   },
   {
    "duration": 318,
    "start_time": "2023-04-21T16:37:35.638Z"
   },
   {
    "duration": 94,
    "start_time": "2023-04-21T16:37:35.958Z"
   },
   {
    "duration": 29,
    "start_time": "2023-04-21T16:37:36.054Z"
   },
   {
    "duration": 13,
    "start_time": "2023-04-21T16:39:23.323Z"
   },
   {
    "duration": 8215,
    "start_time": "2023-04-21T16:39:35.335Z"
   },
   {
    "duration": 3,
    "start_time": "2023-04-21T16:40:10.408Z"
   },
   {
    "duration": 12534,
    "start_time": "2023-04-21T16:40:11.523Z"
   },
   {
    "duration": 272,
    "start_time": "2023-04-21T16:41:03.431Z"
   },
   {
    "duration": 279,
    "start_time": "2023-04-21T16:41:15.961Z"
   },
   {
    "duration": 166076,
    "start_time": "2023-04-21T16:43:10.681Z"
   },
   {
    "duration": 1429,
    "start_time": "2023-04-21T16:47:11.737Z"
   },
   {
    "duration": 1569,
    "start_time": "2023-04-21T16:47:13.168Z"
   },
   {
    "duration": 122,
    "start_time": "2023-04-21T16:47:14.738Z"
   },
   {
    "duration": 26,
    "start_time": "2023-04-21T16:47:14.861Z"
   },
   {
    "duration": 122,
    "start_time": "2023-04-21T16:47:14.889Z"
   },
   {
    "duration": 25,
    "start_time": "2023-04-21T16:47:15.013Z"
   },
   {
    "duration": 75,
    "start_time": "2023-04-21T16:47:15.040Z"
   },
   {
    "duration": 6,
    "start_time": "2023-04-21T16:47:15.117Z"
   },
   {
    "duration": 4,
    "start_time": "2023-04-21T16:47:15.125Z"
   },
   {
    "duration": 20,
    "start_time": "2023-04-21T16:47:15.130Z"
   },
   {
    "duration": 16,
    "start_time": "2023-04-21T16:47:15.151Z"
   },
   {
    "duration": 31,
    "start_time": "2023-04-21T16:47:15.168Z"
   },
   {
    "duration": 49,
    "start_time": "2023-04-21T16:47:15.201Z"
   },
   {
    "duration": 37,
    "start_time": "2023-04-21T16:47:15.253Z"
   },
   {
    "duration": 23,
    "start_time": "2023-04-21T16:47:15.292Z"
   },
   {
    "duration": 6,
    "start_time": "2023-04-21T16:47:15.316Z"
   },
   {
    "duration": 49,
    "start_time": "2023-04-21T16:47:15.324Z"
   },
   {
    "duration": 6,
    "start_time": "2023-04-21T16:47:15.375Z"
   },
   {
    "duration": 23,
    "start_time": "2023-04-21T16:47:15.382Z"
   },
   {
    "duration": 33,
    "start_time": "2023-04-21T16:47:15.407Z"
   },
   {
    "duration": 25,
    "start_time": "2023-04-21T16:47:15.441Z"
   },
   {
    "duration": 17,
    "start_time": "2023-04-21T16:47:15.468Z"
   },
   {
    "duration": 24,
    "start_time": "2023-04-21T16:47:15.486Z"
   },
   {
    "duration": 9,
    "start_time": "2023-04-21T16:47:15.512Z"
   },
   {
    "duration": 45,
    "start_time": "2023-04-21T16:47:15.523Z"
   },
   {
    "duration": 89,
    "start_time": "2023-04-21T16:47:15.569Z"
   },
   {
    "duration": 152,
    "start_time": "2023-04-21T16:47:15.660Z"
   },
   {
    "duration": 187,
    "start_time": "2023-04-21T16:47:15.813Z"
   },
   {
    "duration": 134,
    "start_time": "2023-04-21T16:47:16.002Z"
   },
   {
    "duration": 5,
    "start_time": "2023-04-21T16:47:16.137Z"
   },
   {
    "duration": 59,
    "start_time": "2023-04-21T16:47:16.149Z"
   },
   {
    "duration": 16,
    "start_time": "2023-04-21T16:47:16.209Z"
   },
   {
    "duration": 29,
    "start_time": "2023-04-21T16:47:16.227Z"
   },
   {
    "duration": 246,
    "start_time": "2023-04-21T16:47:16.257Z"
   },
   {
    "duration": 788,
    "start_time": "2023-04-21T16:47:16.504Z"
   },
   {
    "duration": 796,
    "start_time": "2023-04-21T16:47:17.293Z"
   },
   {
    "duration": 855,
    "start_time": "2023-04-21T16:47:18.091Z"
   },
   {
    "duration": 74,
    "start_time": "2023-04-21T16:47:18.948Z"
   },
   {
    "duration": 50,
    "start_time": "2023-04-21T16:47:19.024Z"
   },
   {
    "duration": 44,
    "start_time": "2023-04-21T16:47:19.076Z"
   },
   {
    "duration": 74,
    "start_time": "2023-04-21T16:47:19.124Z"
   },
   {
    "duration": 3,
    "start_time": "2023-04-21T16:47:19.199Z"
   },
   {
    "duration": 9,
    "start_time": "2023-04-21T16:47:19.203Z"
   },
   {
    "duration": 376,
    "start_time": "2023-04-21T16:47:19.213Z"
   },
   {
    "duration": 14,
    "start_time": "2023-04-21T16:47:19.590Z"
   },
   {
    "duration": 120,
    "start_time": "2023-04-21T16:47:19.606Z"
   },
   {
    "duration": 696,
    "start_time": "2023-04-21T16:47:19.728Z"
   },
   {
    "duration": 636,
    "start_time": "2023-04-21T16:47:20.425Z"
   },
   {
    "duration": 4,
    "start_time": "2023-04-21T16:47:21.063Z"
   },
   {
    "duration": 50,
    "start_time": "2023-04-21T16:47:21.069Z"
   },
   {
    "duration": 4,
    "start_time": "2023-04-21T16:47:21.120Z"
   },
   {
    "duration": 179415,
    "start_time": "2023-04-21T16:47:21.125Z"
   },
   {
    "duration": 8,
    "start_time": "2023-04-21T16:50:20.542Z"
   },
   {
    "duration": 2168,
    "start_time": "2023-04-21T16:50:20.551Z"
   },
   {
    "duration": 3,
    "start_time": "2023-04-21T16:50:22.721Z"
   },
   {
    "duration": 1410,
    "start_time": "2023-04-21T17:05:06.355Z"
   },
   {
    "duration": 1538,
    "start_time": "2023-04-21T17:05:07.766Z"
   },
   {
    "duration": 116,
    "start_time": "2023-04-21T17:05:09.306Z"
   },
   {
    "duration": 25,
    "start_time": "2023-04-21T17:05:09.424Z"
   },
   {
    "duration": 117,
    "start_time": "2023-04-21T17:05:09.450Z"
   },
   {
    "duration": 25,
    "start_time": "2023-04-21T17:05:09.568Z"
   },
   {
    "duration": 73,
    "start_time": "2023-04-21T17:05:09.595Z"
   },
   {
    "duration": 7,
    "start_time": "2023-04-21T17:05:09.669Z"
   },
   {
    "duration": 9,
    "start_time": "2023-04-21T17:05:09.678Z"
   },
   {
    "duration": 5,
    "start_time": "2023-04-21T17:05:09.689Z"
   },
   {
    "duration": 32,
    "start_time": "2023-04-21T17:05:09.696Z"
   },
   {
    "duration": 53,
    "start_time": "2023-04-21T17:05:09.729Z"
   },
   {
    "duration": 29,
    "start_time": "2023-04-21T17:05:09.784Z"
   },
   {
    "duration": 58,
    "start_time": "2023-04-21T17:05:09.817Z"
   },
   {
    "duration": 32,
    "start_time": "2023-04-21T17:05:09.877Z"
   },
   {
    "duration": 9,
    "start_time": "2023-04-21T17:05:09.911Z"
   },
   {
    "duration": 49,
    "start_time": "2023-04-21T17:05:09.922Z"
   },
   {
    "duration": 7,
    "start_time": "2023-04-21T17:05:09.972Z"
   },
   {
    "duration": 24,
    "start_time": "2023-04-21T17:05:09.980Z"
   },
   {
    "duration": 36,
    "start_time": "2023-04-21T17:05:10.005Z"
   },
   {
    "duration": 35,
    "start_time": "2023-04-21T17:05:10.043Z"
   },
   {
    "duration": 19,
    "start_time": "2023-04-21T17:05:10.079Z"
   },
   {
    "duration": 18,
    "start_time": "2023-04-21T17:05:10.100Z"
   },
   {
    "duration": 19,
    "start_time": "2023-04-21T17:05:10.120Z"
   },
   {
    "duration": 39,
    "start_time": "2023-04-21T17:05:10.141Z"
   },
   {
    "duration": 80,
    "start_time": "2023-04-21T17:05:10.181Z"
   },
   {
    "duration": 172,
    "start_time": "2023-04-21T17:05:10.263Z"
   },
   {
    "duration": 190,
    "start_time": "2023-04-21T17:05:10.439Z"
   },
   {
    "duration": 122,
    "start_time": "2023-04-21T17:05:10.630Z"
   },
   {
    "duration": 4,
    "start_time": "2023-04-21T17:05:10.753Z"
   },
   {
    "duration": 55,
    "start_time": "2023-04-21T17:05:10.759Z"
   },
   {
    "duration": 34,
    "start_time": "2023-04-21T17:05:10.815Z"
   },
   {
    "duration": 16,
    "start_time": "2023-04-21T17:05:10.851Z"
   },
   {
    "duration": 265,
    "start_time": "2023-04-21T17:05:10.869Z"
   },
   {
    "duration": 729,
    "start_time": "2023-04-21T17:05:11.136Z"
   },
   {
    "duration": 763,
    "start_time": "2023-04-21T17:05:11.867Z"
   },
   {
    "duration": 878,
    "start_time": "2023-04-21T17:05:12.632Z"
   },
   {
    "duration": 86,
    "start_time": "2023-04-21T17:05:13.512Z"
   },
   {
    "duration": 33,
    "start_time": "2023-04-21T17:05:13.600Z"
   },
   {
    "duration": 55,
    "start_time": "2023-04-21T17:05:13.635Z"
   },
   {
    "duration": 75,
    "start_time": "2023-04-21T17:05:13.691Z"
   },
   {
    "duration": 2,
    "start_time": "2023-04-21T17:05:13.767Z"
   },
   {
    "duration": 8,
    "start_time": "2023-04-21T17:05:13.770Z"
   },
   {
    "duration": 410,
    "start_time": "2023-04-21T17:05:13.779Z"
   },
   {
    "duration": 14,
    "start_time": "2023-04-21T17:05:14.190Z"
   },
   {
    "duration": 123,
    "start_time": "2023-04-21T17:05:14.206Z"
   },
   {
    "duration": 719,
    "start_time": "2023-04-21T17:05:14.330Z"
   },
   {
    "duration": 635,
    "start_time": "2023-04-21T17:05:15.050Z"
   },
   {
    "duration": 4,
    "start_time": "2023-04-21T17:05:15.687Z"
   },
   {
    "duration": 52,
    "start_time": "2023-04-21T17:05:15.692Z"
   },
   {
    "duration": 4,
    "start_time": "2023-04-21T17:05:15.746Z"
   },
   {
    "duration": 181113,
    "start_time": "2023-04-21T17:05:15.751Z"
   },
   {
    "duration": 5,
    "start_time": "2023-04-21T17:08:16.865Z"
   },
   {
    "duration": 2160,
    "start_time": "2023-04-21T17:08:16.872Z"
   },
   {
    "duration": 2,
    "start_time": "2023-04-21T17:08:19.034Z"
   },
   {
    "duration": 361312,
    "start_time": "2023-04-21T17:08:19.038Z"
   },
   {
    "duration": 5,
    "start_time": "2023-04-21T17:14:20.352Z"
   },
   {
    "duration": 348827,
    "start_time": "2023-04-21T17:14:20.358Z"
   },
   {
    "duration": 4,
    "start_time": "2023-04-21T17:20:09.187Z"
   },
   {
    "duration": 349,
    "start_time": "2023-04-21T17:20:09.192Z"
   },
   {
    "duration": 309,
    "start_time": "2023-04-21T17:20:09.542Z"
   },
   {
    "duration": 873301,
    "start_time": "2023-04-21T17:20:09.859Z"
   },
   {
    "duration": 5500,
    "start_time": "2023-04-21T17:34:43.249Z"
   }
  ],
  "kernelspec": {
   "display_name": "Python 3 (ipykernel)",
   "language": "python",
   "name": "python3"
  },
  "language_info": {
   "codemirror_mode": {
    "name": "ipython",
    "version": 3
   },
   "file_extension": ".py",
   "mimetype": "text/x-python",
   "name": "python",
   "nbconvert_exporter": "python",
   "pygments_lexer": "ipython3",
   "version": "3.10.9"
  },
  "toc": {
   "base_numbering": 1,
   "nav_menu": {},
   "number_sections": true,
   "sideBar": true,
   "skip_h1_title": true,
   "title_cell": "Table of Contents",
   "title_sidebar": "Contents",
   "toc_cell": false,
   "toc_position": {},
   "toc_section_display": true,
   "toc_window_display": false
  }
 },
 "nbformat": 4,
 "nbformat_minor": 2
}
