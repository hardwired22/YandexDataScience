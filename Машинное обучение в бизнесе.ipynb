{
 "cells": [
  {
   "cell_type": "markdown",
   "metadata": {},
   "source": [
    "# Выбор локации для скважины"
   ]
  },
  {
   "cell_type": "markdown",
   "metadata": {},
   "source": [
    "Допустим, вы работаете в добывающей компании «ГлавРосГосНефть». Нужно решить, где бурить новую скважину.\n",
    "\n",
    "Вам предоставлены пробы нефти в трёх регионах: в каждом 10 000 месторождений, где измерили качество нефти и объём её запасов. Постройте модель машинного обучения, которая поможет определить регион, где добыча принесёт наибольшую прибыль. Проанализируйте возможную прибыль и риски техникой *Bootstrap.*\n",
    "\n",
    "Шаги для выбора локации:\n",
    "\n",
    "- В избранном регионе ищут месторождения, для каждого определяют значения признаков;\n",
    "- Строят модель и оценивают объём запасов;\n",
    "- Выбирают месторождения с самым высокими оценками значений. Количество месторождений зависит от бюджета компании и стоимости разработки одной скважины;\n",
    "- Прибыль равна суммарной прибыли отобранных месторождений."
   ]
  },
  {
   "cell_type": "markdown",
   "metadata": {},
   "source": [
    "Цель спрогнозировать, где бурить новую скважину. \n",
    "\n",
    "Задача постройть модель для определения региона, где добыча принесёт наибольшую прибыль.\n",
    "\n",
    "id — уникальный идентификатор скважины;\n",
    "\n",
    "f0, f1, f2 — три признака точек (неважно, что они означают, но сами признаки значимы);\n",
    "\n",
    "product — объём запасов в скважине (тыс. баррелей).\n"
   ]
  },
  {
   "cell_type": "markdown",
   "metadata": {},
   "source": [
    "## Загрузка и подготовка данных"
   ]
  },
  {
   "cell_type": "code",
   "execution_count": 1,
   "metadata": {},
   "outputs": [],
   "source": [
    "import pandas as pd\n",
    "from sklearn.model_selection import train_test_split\n",
    "from sklearn.linear_model import LinearRegression\n",
    "from sklearn.metrics import mean_absolute_error\n",
    "from sklearn.metrics import f1_score, roc_auc_score, roc_curve, precision_score, recall_score\n",
    "from sklearn.metrics import precision_recall_curve, accuracy_score\n",
    "from sklearn.utils import shuffle\n",
    "import matplotlib.pyplot as plt\n",
    "import seaborn as sns\n",
    "from sklearn.preprocessing import StandardScaler\n",
    "import warnings \n",
    "warnings.filterwarnings('ignore')\n",
    "from pathlib import Path\n",
    "from sklearn.metrics import mean_squared_error\n",
    "from scipy import stats as st\n",
    "import numpy as np\n",
    "from numpy.random import RandomState\n",
    "state = RandomState(12345)"
   ]
  },
  {
   "cell_type": "code",
   "execution_count": 2,
   "metadata": {},
   "outputs": [],
   "source": [
    "df0 = pd.read_csv('/datasets/geo_data_0.csv')\n",
    "df1 = pd.read_csv('/datasets/geo_data_1.csv')\n",
    "df2 = pd.read_csv('/datasets/geo_data_2.csv')"
   ]
  },
  {
   "cell_type": "code",
   "execution_count": 3,
   "metadata": {},
   "outputs": [
    {
     "data": {
      "text/plain": [
       "(100000, 5)"
      ]
     },
     "execution_count": 3,
     "metadata": {},
     "output_type": "execute_result"
    }
   ],
   "source": [
    "df0.shape"
   ]
  },
  {
   "cell_type": "code",
   "execution_count": 4,
   "metadata": {},
   "outputs": [
    {
     "data": {
      "text/plain": [
       "(100000, 5)"
      ]
     },
     "execution_count": 4,
     "metadata": {},
     "output_type": "execute_result"
    }
   ],
   "source": [
    "df1.shape"
   ]
  },
  {
   "cell_type": "code",
   "execution_count": 5,
   "metadata": {},
   "outputs": [
    {
     "data": {
      "text/plain": [
       "(100000, 5)"
      ]
     },
     "execution_count": 5,
     "metadata": {},
     "output_type": "execute_result"
    }
   ],
   "source": [
    "df2.shape"
   ]
  },
  {
   "cell_type": "code",
   "execution_count": 6,
   "metadata": {},
   "outputs": [
    {
     "name": "stdout",
     "output_type": "stream",
     "text": [
      "<class 'pandas.core.frame.DataFrame'>\n",
      "RangeIndex: 100000 entries, 0 to 99999\n",
      "Data columns (total 5 columns):\n",
      " #   Column   Non-Null Count   Dtype  \n",
      "---  ------   --------------   -----  \n",
      " 0   id       100000 non-null  object \n",
      " 1   f0       100000 non-null  float64\n",
      " 2   f1       100000 non-null  float64\n",
      " 3   f2       100000 non-null  float64\n",
      " 4   product  100000 non-null  float64\n",
      "dtypes: float64(4), object(1)\n",
      "memory usage: 3.8+ MB\n"
     ]
    }
   ],
   "source": [
    "df0.info()"
   ]
  },
  {
   "cell_type": "code",
   "execution_count": 7,
   "metadata": {},
   "outputs": [
    {
     "name": "stdout",
     "output_type": "stream",
     "text": [
      "<class 'pandas.core.frame.DataFrame'>\n",
      "RangeIndex: 100000 entries, 0 to 99999\n",
      "Data columns (total 5 columns):\n",
      " #   Column   Non-Null Count   Dtype  \n",
      "---  ------   --------------   -----  \n",
      " 0   id       100000 non-null  object \n",
      " 1   f0       100000 non-null  float64\n",
      " 2   f1       100000 non-null  float64\n",
      " 3   f2       100000 non-null  float64\n",
      " 4   product  100000 non-null  float64\n",
      "dtypes: float64(4), object(1)\n",
      "memory usage: 3.8+ MB\n"
     ]
    }
   ],
   "source": [
    "df1.info()"
   ]
  },
  {
   "cell_type": "code",
   "execution_count": 8,
   "metadata": {},
   "outputs": [
    {
     "name": "stdout",
     "output_type": "stream",
     "text": [
      "<class 'pandas.core.frame.DataFrame'>\n",
      "RangeIndex: 100000 entries, 0 to 99999\n",
      "Data columns (total 5 columns):\n",
      " #   Column   Non-Null Count   Dtype  \n",
      "---  ------   --------------   -----  \n",
      " 0   id       100000 non-null  object \n",
      " 1   f0       100000 non-null  float64\n",
      " 2   f1       100000 non-null  float64\n",
      " 3   f2       100000 non-null  float64\n",
      " 4   product  100000 non-null  float64\n",
      "dtypes: float64(4), object(1)\n",
      "memory usage: 3.8+ MB\n"
     ]
    }
   ],
   "source": [
    "df2.info()"
   ]
  },
  {
   "cell_type": "code",
   "execution_count": 9,
   "metadata": {},
   "outputs": [
    {
     "name": "stdout",
     "output_type": "stream",
     "text": [
      "id         0\n",
      "f0         0\n",
      "f1         0\n",
      "f2         0\n",
      "product    0\n",
      "dtype: int64\n",
      "id         0\n",
      "f0         0\n",
      "f1         0\n",
      "f2         0\n",
      "product    0\n",
      "dtype: int64\n",
      "id         0\n",
      "f0         0\n",
      "f1         0\n",
      "f2         0\n",
      "product    0\n",
      "dtype: int64\n"
     ]
    }
   ],
   "source": [
    "print(df0.isnull().sum())\n",
    "print(df1.isnull().sum())\n",
    "print(df2.isnull().sum())"
   ]
  },
  {
   "cell_type": "code",
   "execution_count": 10,
   "metadata": {},
   "outputs": [
    {
     "name": "stdout",
     "output_type": "stream",
     "text": [
      "0\n",
      "0\n",
      "0\n"
     ]
    }
   ],
   "source": [
    "print(df0.duplicated().sum())\n",
    "print(df1.duplicated().sum())\n",
    "print(df2.duplicated().sum())"
   ]
  },
  {
   "cell_type": "code",
   "execution_count": 11,
   "metadata": {},
   "outputs": [
    {
     "data": {
      "text/plain": [
       "id          99990\n",
       "f0         100000\n",
       "f1         100000\n",
       "f2         100000\n",
       "product    100000\n",
       "dtype: int64"
      ]
     },
     "metadata": {},
     "output_type": "display_data"
    },
    {
     "data": {
      "text/plain": [
       "id          99996\n",
       "f0         100000\n",
       "f1         100000\n",
       "f2         100000\n",
       "product        12\n",
       "dtype: int64"
      ]
     },
     "metadata": {},
     "output_type": "display_data"
    },
    {
     "data": {
      "text/plain": [
       "id          99996\n",
       "f0         100000\n",
       "f1         100000\n",
       "f2         100000\n",
       "product    100000\n",
       "dtype: int64"
      ]
     },
     "metadata": {},
     "output_type": "display_data"
    }
   ],
   "source": [
    "display(df0.nunique())\n",
    "display(df1.nunique())\n",
    "display(df2.nunique())"
   ]
  },
  {
   "cell_type": "markdown",
   "metadata": {},
   "source": [
    "Нет пропусков и дубликатов"
   ]
  },
  {
   "cell_type": "code",
   "execution_count": 12,
   "metadata": {},
   "outputs": [
    {
     "data": {
      "text/plain": [
       "<AxesSubplot:>"
      ]
     },
     "execution_count": 12,
     "metadata": {},
     "output_type": "execute_result"
    },
    {
     "data": {
      "image/png": "[encoded data removed]",
      "text/plain": [
       "<Figure size 432x288 with 2 Axes>"
      ]
     },
     "metadata": {
      "needs_background": "light"
     },
     "output_type": "display_data"
    }
   ],
   "source": [
    "sns.heatmap(df0.corr(), vmin = -1, vmax = +1, annot = True, cmap = 'coolwarm')"
   ]
  },
  {
   "cell_type": "code",
   "execution_count": 13,
   "metadata": {},
   "outputs": [
    {
     "data": {
      "text/plain": [
       "<AxesSubplot:>"
      ]
     },
     "execution_count": 13,
     "metadata": {},
     "output_type": "execute_result"
    },
    {
     "data": {
      "image/png": "[encoded data removed]",
      "text/plain": [
       "<Figure size 432x288 with 2 Axes>"
      ]
     },
     "metadata": {
      "needs_background": "light"
     },
     "output_type": "display_data"
    }
   ],
   "source": [
    "sns.heatmap(df1.corr(), vmin = -1, vmax = +1, annot = True, cmap = 'coolwarm')"
   ]
  },
  {
   "cell_type": "code",
   "execution_count": 14,
   "metadata": {},
   "outputs": [
    {
     "data": {
      "text/plain": [
       "<AxesSubplot:>"
      ]
     },
     "execution_count": 14,
     "metadata": {},
     "output_type": "execute_result"
    },
    {
     "data": {
      "image/png": "[encoded data removed]",
      "text/plain": [
       "<Figure size 432x288 with 2 Axes>"
      ]
     },
     "metadata": {
      "needs_background": "light"
     },
     "output_type": "display_data"
    }
   ],
   "source": [
    "sns.heatmap(df2.corr(), vmin = -1, vmax = +1, annot = True, cmap = 'coolwarm')"
   ]
  },
  {
   "cell_type": "markdown",
   "metadata": {},
   "source": [
    "## Обучение и проверка модели"
   ]
  },
  {
   "cell_type": "code",
   "execution_count": 15,
   "metadata": {},
   "outputs": [],
   "source": [
    "rmse_list = []\n",
    "predictions_list = []\n",
    "score_list = []\n",
    "target = []\n",
    "predictions_df = pd.DataFrame()\n",
    "target_df = pd.DataFrame()\n",
    "\n",
    "for i,j in zip([df0,df1,df2],range(3)):\n",
    "    X = i.drop(['product','id'], axis=1)\n",
    "    y = i['product']\n",
    "    X_train, X_valid, y_train, y_valid = train_test_split(\n",
    "        X, y, random_state=12345, test_size=0.25) \n",
    "    \n",
    "    lr = LinearRegression(n_jobs = -1)\n",
    "    lr.fit(X_train, y_train)\n",
    "    predictions = lr.predict(X_valid)\n",
    "    rmse = np.sqrt(np.mean((y_valid-predictions)**2))\n",
    "    rmse_list.append(rmse)\n",
    "    predictions_list.append(predictions.mean())\n",
    "    score_list.append(lr.score(X_train,y_train))\n",
    "    target.append(i['product'].mean())\n",
    "    target_df[j] = y_valid\n",
    "    predictions_df[j] = predictions"
   ]
  },
  {
   "cell_type": "code",
   "execution_count": 16,
   "metadata": {},
   "outputs": [
    {
     "data": {
      "text/html": [
       "<div>\n",
       "<style scoped>\n",
       "    .dataframe tbody tr th:only-of-type {\n",
       "        vertical-align: middle;\n",
       "    }\n",
       "\n",
       "    .dataframe tbody tr th {\n",
       "        vertical-align: top;\n",
       "    }\n",
       "\n",
       "    .dataframe thead th {\n",
       "        text-align: right;\n",
       "    }\n",
       "</style>\n",
       "<table border=\"1\" class=\"dataframe\">\n",
       "  <thead>\n",
       "    <tr style=\"text-align: right;\">\n",
       "      <th></th>\n",
       "      <th>region 1</th>\n",
       "      <th>region 2</th>\n",
       "      <th>region 3</th>\n",
       "    </tr>\n",
       "  </thead>\n",
       "  <tbody>\n",
       "    <tr>\n",
       "      <th>RMSE</th>\n",
       "      <td>37.579422</td>\n",
       "      <td>0.893099</td>\n",
       "      <td>40.029709</td>\n",
       "    </tr>\n",
       "    <tr>\n",
       "      <th>SCORE</th>\n",
       "      <td>0.274239</td>\n",
       "      <td>0.999625</td>\n",
       "      <td>0.196614</td>\n",
       "    </tr>\n",
       "    <tr>\n",
       "      <th>PREDICTED MEAN</th>\n",
       "      <td>92.592568</td>\n",
       "      <td>68.728547</td>\n",
       "      <td>94.965046</td>\n",
       "    </tr>\n",
       "    <tr>\n",
       "      <th>TARGET MEAN</th>\n",
       "      <td>92.500000</td>\n",
       "      <td>68.825000</td>\n",
       "      <td>95.000000</td>\n",
       "    </tr>\n",
       "  </tbody>\n",
       "</table>\n",
       "</div>"
      ],
      "text/plain": [
       "                 region 1   region 2   region 3\n",
       "RMSE            37.579422   0.893099  40.029709\n",
       "SCORE            0.274239   0.999625   0.196614\n",
       "PREDICTED MEAN  92.592568  68.728547  94.965046\n",
       "TARGET MEAN     92.500000  68.825000  95.000000"
      ]
     },
     "execution_count": 16,
     "metadata": {},
     "output_type": "execute_result"
    }
   ],
   "source": [
    "target_df = target_df.reset_index(drop=True)\n",
    "scorelist = pd.DataFrame(\n",
    "    data=[rmse_list, score_list, predictions_list, target], \n",
    "    index=['RMSE','SCORE','PREDICTED MEAN', 'TARGET MEAN'], \n",
    "    columns=['region 1','region 2','region 3'])\n",
    "scorelist"
   ]
  },
  {
   "cell_type": "markdown",
   "metadata": {},
   "source": [
    "Модели 1 и 2 региона показывают плохие результаты. Эти регионы не подходят для скаважины.\n",
    "\n",
    "Модель 2 региона показыла очень хорошие результаты, но у цели всего лишь 12 значений из 100 000 для модели было легко спрогнозировать правильные ответ. Поэтому 2 модель опасно использовать.\n",
    "\n",
    "Предсказанное среднее и target среднее почти одинаково"
   ]
  },
  {
   "cell_type": "markdown",
   "metadata": {},
   "source": [
    "## Подготовка к расчёту прибыли"
   ]
  },
  {
   "cell_type": "code",
   "execution_count": 17,
   "metadata": {},
   "outputs": [],
   "source": [
    "budget = 10e9\n",
    "total_reconnaissance = 500\n",
    "profit_wells = 200\n",
    "profit_from_one_barrel = 450\n",
    "profit_from_one_product = 450000"
   ]
  },
  {
   "cell_type": "markdown",
   "metadata": {},
   "source": [
    "цена за одну скаважину"
   ]
  },
  {
   "cell_type": "code",
   "execution_count": 18,
   "metadata": {},
   "outputs": [
    {
     "data": {
      "text/plain": [
       "50000000.0"
      ]
     },
     "execution_count": 18,
     "metadata": {},
     "output_type": "execute_result"
    }
   ],
   "source": [
    "well_drilling_price = budget / profit_wells\n",
    "well_drilling_price"
   ]
  },
  {
   "cell_type": "markdown",
   "metadata": {},
   "source": [
    "обьем сырья за одну скаважину без потерь"
   ]
  },
  {
   "cell_type": "code",
   "execution_count": 19,
   "metadata": {},
   "outputs": [
    {
     "data": {
      "text/plain": [
       "111.11111111111111"
      ]
     },
     "execution_count": 19,
     "metadata": {},
     "output_type": "execute_result"
    }
   ],
   "source": [
    "min_product_mean  = well_drilling_price/profit_from_one_product\n",
    "min_product_mean"
   ]
  },
  {
   "cell_type": "code",
   "execution_count": 20,
   "metadata": {},
   "outputs": [],
   "source": [
    "def revenue(target, probabilities, count):\n",
    "    probs_sorted = probabilities.sort_values(ascending=False)\n",
    "    selected = target[probs_sorted.index][:count]\n",
    "    return (profit_from_one_product * selected.sum() - (budget))"
   ]
  },
  {
   "cell_type": "code",
   "execution_count": 21,
   "metadata": {},
   "outputs": [
    {
     "name": "stdout",
     "output_type": "stream",
     "text": [
      "Прибыль первого региона : 3.32 млрд рублей\n",
      "Прибыль второго региона : 2.42 млрд рублей\n",
      "Прибыль третьего региона :2.71 млрд рублей\n"
     ]
    }
   ],
   "source": [
    "print('Прибыль первого региона : {:.2f} млрд рублей'.format(revenue(target_df[0], predictions_df[0],200)/10**9))\n",
    "print('Прибыль второго региона : {:.2f} млрд рублей'.format(revenue(target_df[1], predictions_df[1],200)/10**9))\n",
    "print('Прибыль третьего региона :{:.2f} млрд рублей'.format(revenue(target_df[2], predictions_df[2],200)/10**9))"
   ]
  },
  {
   "cell_type": "markdown",
   "metadata": {},
   "source": [
    "Минимальный объем в каждой скважине должен составлять 111 тыс барелей. Средние предсказания и средние target трех регионов не проходят минимальный порог"
   ]
  },
  {
   "cell_type": "markdown",
   "metadata": {},
   "source": [
    "## Расчёт прибыли и рисков "
   ]
  },
  {
   "cell_type": "code",
   "execution_count": 22,
   "metadata": {},
   "outputs": [
    {
     "name": "stdout",
     "output_type": "stream",
     "text": [
      "Средняя прибыль: 0.4259385269105924\n",
      "2.5%-квантиль: -0.10209009483793653\n",
      "Риск: 6.0\n",
      "95% доверительный интервал:  (-102090094.83793654, 947976353.3583689)\n"
     ]
    }
   ],
   "source": [
    "revenues = []\n",
    "\n",
    "for i in range(1000):\n",
    "    target_subsample = target_df[0].sample(n=500, replace=True, random_state=state)\n",
    "    probs_subsample = predictions_df[0][target_subsample.index]\n",
    "    revenues.append(revenue(target_subsample, probs_subsample, 200))\n",
    "\n",
    "revenues = pd.Series(revenues)\n",
    "lower = revenues.quantile(0.025)\n",
    "mean = revenues.mean()\n",
    "risks = (revenues < 0).mean()* 100\n",
    "print(\"Средняя прибыль:\", mean/10**9)\n",
    "print(\"2.5%-квантиль:\", lower/10**9)\n",
    "print(\"Риск: {}\".format(risks))\n",
    "final_revenues = []\n",
    "confidence_interval = (revenues.quantile(0.025), revenues.quantile(0.975))\n",
    "print('95% доверительный интервал: ', confidence_interval)\n",
    "final_revenues.append(('region 1', mean/10**9, lower/10**9, confidence_interval, risks))"
   ]
  },
  {
   "cell_type": "code",
   "execution_count": 23,
   "metadata": {},
   "outputs": [
    {
     "name": "stdout",
     "output_type": "stream",
     "text": [
      "Средняя прибыль: 0.5182594936973248\n",
      "2.5%-квантиль: 0.12812323143308443\n",
      "Риск: 0.3\n",
      "Риск: 0.3 %\n",
      "95% доверительный интервал:  (128123231.43308444, 953612982.0669085)\n"
     ]
    }
   ],
   "source": [
    "revenues = []\n",
    "\n",
    "for i in range(1000):\n",
    "    target_subsample = target_df[1].sample(n=500, replace=True, random_state=state)\n",
    "    probs_subsample = predictions_df[1][target_subsample.index]\n",
    "    revenues.append(revenue(target_subsample, probs_subsample, 200))\n",
    "\n",
    "revenues = pd.Series(revenues)\n",
    "lower = revenues.quantile(0.025)\n",
    "mean = revenues.mean()\n",
    "risks = (revenues < 0).mean()* 100\n",
    "print(\"Средняя прибыль:\", mean/10**9)\n",
    "print(\"2.5%-квантиль:\", lower/10**9)\n",
    "print(\"Риск: {}\".format(risks))\n",
    "confidence_interval = (revenues.quantile(0.025), revenues.quantile(0.975))\n",
    "print(\"Риск:\", (revenues < 0).mean()* 100, '%')\n",
    "print('95% доверительный интервал: ', confidence_interval)\n",
    "final_revenues.append(('region 2', mean/10**9, lower/10**9, confidence_interval, risks))"
   ]
  },
  {
   "cell_type": "code",
   "execution_count": 24,
   "metadata": {},
   "outputs": [
    {
     "name": "stdout",
     "output_type": "stream",
     "text": [
      "Средняя прибыль: 0.4201940053440501\n",
      "2.5%-квантиль: -0.11585260916001143\n",
      "Риск: 6.2\n",
      "Риск: 6.2 %\n",
      "95% доверительный интервал:  (-115852609.16001143, 989629939.8445739)\n"
     ]
    }
   ],
   "source": [
    "revenues = []\n",
    "\n",
    "for i in range(1000):\n",
    "    target_subsample = target_df[2].sample(n=500, replace=True, random_state=state)\n",
    "    probs_subsample = predictions_df[2][target_subsample.index]\n",
    "    revenues.append(revenue(target_subsample, probs_subsample, 200))\n",
    "\n",
    "revenues = pd.Series(revenues)\n",
    "lower = revenues.quantile(0.025)\n",
    "mean = revenues.mean()\n",
    "risks = (revenues < 0).mean()* 100\n",
    "print(\"Средняя прибыль:\", mean/10**9)\n",
    "print(\"2.5%-квантиль:\", lower/10**9)\n",
    "print(\"Риск: {}\".format(risks))\n",
    "confidence_interval = (revenues.quantile(0.025), revenues.quantile(0.975))\n",
    "print(\"Риск:\", (revenues < 0).mean()* 100, '%')\n",
    "print('95% доверительный интервал: ', confidence_interval)\n",
    "final_revenues.append(('region 2', mean/10**9, lower/10**9, confidence_interval, risks))"
   ]
  },
  {
   "cell_type": "markdown",
   "metadata": {},
   "source": [
    "Вывод\n",
    "\n",
    "Регион 2 показывает лучшие результаты, но там всего 12 значений.\n",
    "\n",
    "Лучше всего подоходит 1 регион. Из всех регионов бурить стоит там. Но в регионе 2 больше шанс получить прибыль"
   ]
  },
  {
   "cell_type": "markdown",
   "metadata": {},
   "source": [
    "# Общий вывод:"
   ]
  },
  {
   "cell_type": "markdown",
   "metadata": {},
   "source": [
    "Есть 3 датасета это три разных региона для прогнозирования объема сырья и прибыли. У датасетов не было никаких дубликатов, пустых значений. Во втором датасете только 12 уникальных значений. \n",
    "\n",
    "Исходя из всех результатов моделей мы получили такие результаты:\n",
    "\n",
    "Регион 1: RMSE : 37.5 ; Score 0.27\n",
    "\n",
    "Регион 2: RMSE : 0.89 ; Score 0.99\n",
    "\n",
    "Регион 3: RMSE : 40.02 ; Score 0.19\n",
    "\n",
    "Минимальный объем сырья должен составлять 111 тыс барелей. Средние показатели трех регионов не доходят до минимального порога.\n",
    "\n",
    "Лучше всего добывать во 2 регионе\n",
    "\n"
   ]
  },
  {
   "cell_type": "markdown",
   "metadata": {},
   "source": [
    "## Чек-лист готовности проекта"
   ]
  },
  {
   "cell_type": "markdown",
   "metadata": {},
   "source": [
    "Поставьте 'x' в выполненных пунктах. Далее нажмите Shift+Enter."
   ]
  },
  {
   "cell_type": "markdown",
   "metadata": {},
   "source": [
    "- [x]  Jupyter Notebook открыт\n",
    "- [x]  Весь код выполняется без ошибок\n",
    "- [x]  Ячейки с кодом расположены в порядке исполнения\n",
    "- [x]  Выполнен шаг 1: данные подготовлены\n",
    "- [x]  Выполнен шаг 2: модели обучены и проверены\n",
    "    - [x]  Данные корректно разбиты на обучающую и валидационную выборки\n",
    "    - [x]  Модели обучены, предсказания сделаны\n",
    "    - [x]  Предсказания и правильные ответы на валидационной выборке сохранены\n",
    "    - [x]  На экране напечатаны результаты\n",
    "    - [x]  Сделаны выводы\n",
    "- [x]  Выполнен шаг 3: проведена подготовка к расчёту прибыли\n",
    "    - [x]  Для всех ключевых значений созданы константы Python\n",
    "    - [x]  Посчитано минимальное среднее количество продукта в месторождениях региона, достаточное для разработки\n",
    "    - [x]  По предыдущему пункту сделаны выводы\n",
    "    - [x]  Написана функция расчёта прибыли\n",
    "- [x]  Выполнен шаг 4: посчитаны риски и прибыль\n",
    "    - [x]  Проведена процедура *Bootstrap*\n",
    "    - [x]  Все параметры бутстрепа соответствуют условию\n",
    "    - [x]  Найдены все нужные величины\n",
    "    - [x]  Предложен регион для разработки месторождения\n",
    "    - [x]  Выбор региона обоснован"
   ]
  }
 ],
 "metadata": {
  "ExecuteTimeLog": [
   {
    "duration": 431,
    "start_time": "2023-03-03T11:26:30.029Z"
   },
   {
    "duration": 65,
    "start_time": "2023-03-03T11:27:39.317Z"
   },
   {
    "duration": 789,
    "start_time": "2023-03-03T11:28:02.010Z"
   },
   {
    "duration": 18,
    "start_time": "2023-03-03T11:28:07.654Z"
   },
   {
    "duration": 1183,
    "start_time": "2023-03-03T11:28:35.802Z"
   },
   {
    "duration": 444,
    "start_time": "2023-03-03T11:28:51.522Z"
   },
   {
    "duration": 373,
    "start_time": "2023-03-03T11:28:51.968Z"
   },
   {
    "duration": 20,
    "start_time": "2023-03-03T11:28:52.343Z"
   },
   {
    "duration": 13,
    "start_time": "2023-03-03T11:28:52.365Z"
   },
   {
    "duration": 15,
    "start_time": "2023-03-03T11:28:52.380Z"
   },
   {
    "duration": 16,
    "start_time": "2023-03-03T11:32:53.685Z"
   },
   {
    "duration": 13,
    "start_time": "2023-03-03T11:33:08.910Z"
   },
   {
    "duration": 14,
    "start_time": "2023-03-03T11:33:09.246Z"
   },
   {
    "duration": 11,
    "start_time": "2023-03-03T11:33:41.605Z"
   },
   {
    "duration": 11,
    "start_time": "2023-03-03T11:33:43.073Z"
   },
   {
    "duration": 11,
    "start_time": "2023-03-03T11:33:43.482Z"
   },
   {
    "duration": 70,
    "start_time": "2023-03-03T11:33:54.470Z"
   },
   {
    "duration": 66,
    "start_time": "2023-03-03T11:34:01.002Z"
   },
   {
    "duration": 49,
    "start_time": "2023-03-03T11:34:01.314Z"
   },
   {
    "duration": 1664,
    "start_time": "2023-03-03T11:38:47.522Z"
   },
   {
    "duration": 436,
    "start_time": "2023-03-03T11:38:49.188Z"
   },
   {
    "duration": 25,
    "start_time": "2023-03-03T11:38:49.626Z"
   },
   {
    "duration": 16,
    "start_time": "2023-03-03T11:38:49.653Z"
   },
   {
    "duration": 13,
    "start_time": "2023-03-03T11:38:49.671Z"
   },
   {
    "duration": 17,
    "start_time": "2023-03-03T11:38:49.685Z"
   },
   {
    "duration": 47,
    "start_time": "2023-03-03T11:38:49.704Z"
   },
   {
    "duration": 22,
    "start_time": "2023-03-03T11:38:49.752Z"
   },
   {
    "duration": 19,
    "start_time": "2023-03-03T11:38:49.776Z"
   },
   {
    "duration": 16,
    "start_time": "2023-03-03T11:38:49.797Z"
   },
   {
    "duration": 40,
    "start_time": "2023-03-03T11:38:49.816Z"
   },
   {
    "duration": 52,
    "start_time": "2023-03-03T11:38:49.858Z"
   },
   {
    "duration": 69,
    "start_time": "2023-03-03T11:38:49.912Z"
   },
   {
    "duration": 59,
    "start_time": "2023-03-03T11:38:49.985Z"
   },
   {
    "duration": 2567,
    "start_time": "2023-03-03T11:40:52.521Z"
   },
   {
    "duration": 573,
    "start_time": "2023-03-03T11:40:55.142Z"
   },
   {
    "duration": 28,
    "start_time": "2023-03-03T11:40:55.717Z"
   },
   {
    "duration": 21,
    "start_time": "2023-03-03T11:40:55.747Z"
   },
   {
    "duration": 20,
    "start_time": "2023-03-03T11:40:55.771Z"
   },
   {
    "duration": 20,
    "start_time": "2023-03-03T11:40:55.793Z"
   },
   {
    "duration": 39,
    "start_time": "2023-03-03T11:40:55.815Z"
   },
   {
    "duration": 17,
    "start_time": "2023-03-03T11:40:55.856Z"
   },
   {
    "duration": 16,
    "start_time": "2023-03-03T11:40:55.875Z"
   },
   {
    "duration": 49,
    "start_time": "2023-03-03T11:40:55.893Z"
   },
   {
    "duration": 15,
    "start_time": "2023-03-03T11:40:55.944Z"
   },
   {
    "duration": 93,
    "start_time": "2023-03-03T11:40:55.961Z"
   },
   {
    "duration": 67,
    "start_time": "2023-03-03T11:40:56.056Z"
   },
   {
    "duration": 80,
    "start_time": "2023-03-03T11:40:56.126Z"
   },
   {
    "duration": 4,
    "start_time": "2023-03-03T11:44:43.622Z"
   },
   {
    "duration": 378,
    "start_time": "2023-03-03T11:44:44.138Z"
   },
   {
    "duration": 1402,
    "start_time": "2023-03-03T11:44:47.982Z"
   },
   {
    "duration": 412,
    "start_time": "2023-03-03T11:44:49.387Z"
   },
   {
    "duration": 22,
    "start_time": "2023-03-03T11:44:49.801Z"
   },
   {
    "duration": 20,
    "start_time": "2023-03-03T11:44:49.826Z"
   },
   {
    "duration": 12,
    "start_time": "2023-03-03T11:44:49.848Z"
   },
   {
    "duration": 26,
    "start_time": "2023-03-03T11:44:49.862Z"
   },
   {
    "duration": 14,
    "start_time": "2023-03-03T11:44:49.890Z"
   },
   {
    "duration": 36,
    "start_time": "2023-03-03T11:44:49.906Z"
   },
   {
    "duration": 11,
    "start_time": "2023-03-03T11:44:49.943Z"
   },
   {
    "duration": 9,
    "start_time": "2023-03-03T11:44:49.956Z"
   },
   {
    "duration": 9,
    "start_time": "2023-03-03T11:44:49.967Z"
   },
   {
    "duration": 82,
    "start_time": "2023-03-03T11:44:49.978Z"
   },
   {
    "duration": 45,
    "start_time": "2023-03-03T11:44:50.062Z"
   },
   {
    "duration": 63,
    "start_time": "2023-03-03T11:44:50.111Z"
   },
   {
    "duration": 17,
    "start_time": "2023-03-03T11:45:11.971Z"
   },
   {
    "duration": 11,
    "start_time": "2023-03-03T11:45:22.155Z"
   },
   {
    "duration": 36,
    "start_time": "2023-03-03T11:46:20.871Z"
   },
   {
    "duration": 11,
    "start_time": "2023-03-03T11:46:29.083Z"
   },
   {
    "duration": 9,
    "start_time": "2023-03-03T11:46:30.196Z"
   },
   {
    "duration": 49,
    "start_time": "2023-03-03T11:46:56.119Z"
   },
   {
    "duration": 138,
    "start_time": "2023-03-03T11:47:05.391Z"
   },
   {
    "duration": 1429,
    "start_time": "2023-03-03T11:47:12.784Z"
   },
   {
    "duration": 394,
    "start_time": "2023-03-03T11:47:14.215Z"
   },
   {
    "duration": 16,
    "start_time": "2023-03-03T11:47:14.611Z"
   },
   {
    "duration": 13,
    "start_time": "2023-03-03T11:47:14.641Z"
   },
   {
    "duration": 18,
    "start_time": "2023-03-03T11:47:14.656Z"
   },
   {
    "duration": 18,
    "start_time": "2023-03-03T11:47:14.676Z"
   },
   {
    "duration": 14,
    "start_time": "2023-03-03T11:47:14.696Z"
   },
   {
    "duration": 51,
    "start_time": "2023-03-03T11:47:14.712Z"
   },
   {
    "duration": 36,
    "start_time": "2023-03-03T11:47:14.765Z"
   },
   {
    "duration": 170,
    "start_time": "2023-03-03T11:47:14.803Z"
   },
   {
    "duration": 160,
    "start_time": "2023-03-03T11:49:01.549Z"
   },
   {
    "duration": 263,
    "start_time": "2023-03-03T11:52:08.469Z"
   },
   {
    "duration": 1316,
    "start_time": "2023-03-03T11:52:31.994Z"
   },
   {
    "duration": 365,
    "start_time": "2023-03-03T11:52:33.312Z"
   },
   {
    "duration": 18,
    "start_time": "2023-03-03T11:52:33.679Z"
   },
   {
    "duration": 13,
    "start_time": "2023-03-03T11:52:33.698Z"
   },
   {
    "duration": 33,
    "start_time": "2023-03-03T11:52:33.714Z"
   },
   {
    "duration": 22,
    "start_time": "2023-03-03T11:52:33.749Z"
   },
   {
    "duration": 21,
    "start_time": "2023-03-03T11:52:33.773Z"
   },
   {
    "duration": 15,
    "start_time": "2023-03-03T11:52:33.797Z"
   },
   {
    "duration": 58,
    "start_time": "2023-03-03T11:52:33.813Z"
   },
   {
    "duration": 119,
    "start_time": "2023-03-03T11:52:33.872Z"
   },
   {
    "duration": 133,
    "start_time": "2023-03-03T11:52:33.992Z"
   },
   {
    "duration": 526,
    "start_time": "2023-03-03T11:52:34.126Z"
   },
   {
    "duration": 12,
    "start_time": "2023-03-03T11:52:46.150Z"
   },
   {
    "duration": 3,
    "start_time": "2023-03-03T11:55:06.212Z"
   },
   {
    "duration": 3,
    "start_time": "2023-03-03T11:55:13.328Z"
   },
   {
    "duration": 4,
    "start_time": "2023-03-03T11:55:21.959Z"
   },
   {
    "duration": 141,
    "start_time": "2023-03-03T11:55:28.415Z"
   },
   {
    "duration": 410,
    "start_time": "2023-03-03T11:56:34.736Z"
   },
   {
    "duration": 12,
    "start_time": "2023-03-03T11:56:42.504Z"
   },
   {
    "duration": 1479,
    "start_time": "2023-03-03T11:56:49.208Z"
   },
   {
    "duration": 464,
    "start_time": "2023-03-03T11:56:50.690Z"
   },
   {
    "duration": 21,
    "start_time": "2023-03-03T11:56:51.156Z"
   },
   {
    "duration": 17,
    "start_time": "2023-03-03T11:56:51.179Z"
   },
   {
    "duration": 19,
    "start_time": "2023-03-03T11:56:51.198Z"
   },
   {
    "duration": 44,
    "start_time": "2023-03-03T11:56:51.218Z"
   },
   {
    "duration": 22,
    "start_time": "2023-03-03T11:56:51.264Z"
   },
   {
    "duration": 20,
    "start_time": "2023-03-03T11:56:51.288Z"
   },
   {
    "duration": 64,
    "start_time": "2023-03-03T11:56:51.310Z"
   },
   {
    "duration": 152,
    "start_time": "2023-03-03T11:56:51.377Z"
   },
   {
    "duration": 194,
    "start_time": "2023-03-03T11:56:51.531Z"
   },
   {
    "duration": 526,
    "start_time": "2023-03-03T11:56:51.727Z"
   },
   {
    "duration": 98,
    "start_time": "2023-03-03T11:56:52.256Z"
   },
   {
    "duration": 4,
    "start_time": "2023-03-03T12:26:20.560Z"
   },
   {
    "duration": 5,
    "start_time": "2023-03-03T12:42:58.218Z"
   },
   {
    "duration": 5,
    "start_time": "2023-03-03T12:43:14.865Z"
   },
   {
    "duration": 4,
    "start_time": "2023-03-03T12:43:33.415Z"
   },
   {
    "duration": 24,
    "start_time": "2023-03-03T12:43:38.130Z"
   },
   {
    "duration": 21,
    "start_time": "2023-03-03T12:44:04.564Z"
   },
   {
    "duration": 19,
    "start_time": "2023-03-03T12:46:31.311Z"
   },
   {
    "duration": 1568,
    "start_time": "2023-03-07T12:34:54.909Z"
   },
   {
    "duration": 839,
    "start_time": "2023-03-07T12:34:56.479Z"
   },
   {
    "duration": 19,
    "start_time": "2023-03-07T12:34:57.322Z"
   },
   {
    "duration": 15,
    "start_time": "2023-03-07T12:34:57.343Z"
   },
   {
    "duration": 31,
    "start_time": "2023-03-07T12:34:57.359Z"
   },
   {
    "duration": 31,
    "start_time": "2023-03-07T12:34:57.392Z"
   },
   {
    "duration": 16,
    "start_time": "2023-03-07T12:34:57.425Z"
   },
   {
    "duration": 24,
    "start_time": "2023-03-07T12:34:57.443Z"
   },
   {
    "duration": 27,
    "start_time": "2023-03-07T12:34:57.468Z"
   },
   {
    "duration": 150,
    "start_time": "2023-03-07T12:34:57.497Z"
   },
   {
    "duration": 151,
    "start_time": "2023-03-07T12:34:57.649Z"
   },
   {
    "duration": 591,
    "start_time": "2023-03-07T12:34:57.801Z"
   },
   {
    "duration": 103,
    "start_time": "2023-03-07T12:34:58.476Z"
   },
   {
    "duration": 12,
    "start_time": "2023-03-07T12:34:58.581Z"
   },
   {
    "duration": 7,
    "start_time": "2023-03-07T12:34:58.595Z"
   },
   {
    "duration": 8,
    "start_time": "2023-03-07T12:34:58.604Z"
   },
   {
    "duration": 8,
    "start_time": "2023-03-07T12:34:58.614Z"
   },
   {
    "duration": 27,
    "start_time": "2023-03-07T12:34:58.624Z"
   },
   {
    "duration": 1450,
    "start_time": "2023-03-07T12:34:58.653Z"
   },
   {
    "duration": 1395,
    "start_time": "2023-03-07T12:35:34.800Z"
   },
   {
    "duration": 1570,
    "start_time": "2023-03-07T12:35:47.773Z"
   },
   {
    "duration": 1504,
    "start_time": "2023-03-07T12:35:53.852Z"
   },
   {
    "duration": 1606,
    "start_time": "2023-03-07T12:36:01.428Z"
   },
   {
    "duration": 6,
    "start_time": "2023-03-07T12:36:58.340Z"
   },
   {
    "duration": 6,
    "start_time": "2023-03-07T12:37:04.797Z"
   },
   {
    "duration": 846,
    "start_time": "2023-03-07T12:37:07.074Z"
   },
   {
    "duration": 8,
    "start_time": "2023-03-07T12:37:11.476Z"
   },
   {
    "duration": 1513,
    "start_time": "2023-03-07T12:37:29.856Z"
   },
   {
    "duration": 427,
    "start_time": "2023-03-07T12:37:31.372Z"
   },
   {
    "duration": 19,
    "start_time": "2023-03-07T12:37:31.801Z"
   },
   {
    "duration": 17,
    "start_time": "2023-03-07T12:37:31.822Z"
   },
   {
    "duration": 21,
    "start_time": "2023-03-07T12:37:31.841Z"
   },
   {
    "duration": 17,
    "start_time": "2023-03-07T12:37:31.872Z"
   },
   {
    "duration": 15,
    "start_time": "2023-03-07T12:37:31.890Z"
   },
   {
    "duration": 25,
    "start_time": "2023-03-07T12:37:31.907Z"
   },
   {
    "duration": 42,
    "start_time": "2023-03-07T12:37:31.934Z"
   },
   {
    "duration": 164,
    "start_time": "2023-03-07T12:37:31.978Z"
   },
   {
    "duration": 174,
    "start_time": "2023-03-07T12:37:32.144Z"
   },
   {
    "duration": 657,
    "start_time": "2023-03-07T12:37:32.320Z"
   },
   {
    "duration": 100,
    "start_time": "2023-03-07T12:37:32.980Z"
   },
   {
    "duration": 3,
    "start_time": "2023-03-07T12:37:33.084Z"
   },
   {
    "duration": 7,
    "start_time": "2023-03-07T12:37:33.088Z"
   },
   {
    "duration": 5,
    "start_time": "2023-03-07T12:37:33.097Z"
   },
   {
    "duration": 6,
    "start_time": "2023-03-07T12:37:33.104Z"
   },
   {
    "duration": 22,
    "start_time": "2023-03-07T12:37:33.111Z"
   },
   {
    "duration": 1536,
    "start_time": "2023-03-07T12:37:33.135Z"
   },
   {
    "duration": 1434,
    "start_time": "2023-03-07T12:37:34.673Z"
   },
   {
    "duration": 1436,
    "start_time": "2023-03-07T12:37:36.109Z"
   },
   {
    "duration": 1486,
    "start_time": "2023-03-07T12:38:47.223Z"
   },
   {
    "duration": 427,
    "start_time": "2023-03-07T12:38:48.711Z"
   },
   {
    "duration": 17,
    "start_time": "2023-03-07T12:38:49.140Z"
   },
   {
    "duration": 22,
    "start_time": "2023-03-07T12:38:49.160Z"
   },
   {
    "duration": 13,
    "start_time": "2023-03-07T12:38:49.186Z"
   },
   {
    "duration": 21,
    "start_time": "2023-03-07T12:38:49.201Z"
   },
   {
    "duration": 15,
    "start_time": "2023-03-07T12:38:49.224Z"
   },
   {
    "duration": 44,
    "start_time": "2023-03-07T12:38:49.241Z"
   },
   {
    "duration": 22,
    "start_time": "2023-03-07T12:38:49.287Z"
   },
   {
    "duration": 173,
    "start_time": "2023-03-07T12:38:49.311Z"
   },
   {
    "duration": 154,
    "start_time": "2023-03-07T12:38:49.486Z"
   },
   {
    "duration": 126,
    "start_time": "2023-03-07T12:38:49.642Z"
   },
   {
    "duration": 0,
    "start_time": "2023-03-07T12:38:49.773Z"
   },
   {
    "duration": 0,
    "start_time": "2023-03-07T12:38:49.774Z"
   },
   {
    "duration": 0,
    "start_time": "2023-03-07T12:38:49.776Z"
   },
   {
    "duration": 0,
    "start_time": "2023-03-07T12:38:49.777Z"
   },
   {
    "duration": 0,
    "start_time": "2023-03-07T12:38:49.778Z"
   },
   {
    "duration": 0,
    "start_time": "2023-03-07T12:38:49.779Z"
   },
   {
    "duration": 0,
    "start_time": "2023-03-07T12:38:49.780Z"
   },
   {
    "duration": 0,
    "start_time": "2023-03-07T12:38:49.782Z"
   },
   {
    "duration": 0,
    "start_time": "2023-03-07T12:38:49.783Z"
   },
   {
    "duration": 1572,
    "start_time": "2023-03-07T12:39:07.134Z"
   },
   {
    "duration": 425,
    "start_time": "2023-03-07T12:39:08.708Z"
   },
   {
    "duration": 17,
    "start_time": "2023-03-07T12:39:09.135Z"
   },
   {
    "duration": 20,
    "start_time": "2023-03-07T12:39:09.154Z"
   },
   {
    "duration": 12,
    "start_time": "2023-03-07T12:39:09.176Z"
   },
   {
    "duration": 20,
    "start_time": "2023-03-07T12:39:09.190Z"
   },
   {
    "duration": 15,
    "start_time": "2023-03-07T12:39:09.212Z"
   },
   {
    "duration": 46,
    "start_time": "2023-03-07T12:39:09.228Z"
   },
   {
    "duration": 22,
    "start_time": "2023-03-07T12:39:09.276Z"
   },
   {
    "duration": 173,
    "start_time": "2023-03-07T12:39:09.300Z"
   },
   {
    "duration": 164,
    "start_time": "2023-03-07T12:39:09.475Z"
   },
   {
    "duration": 443,
    "start_time": "2023-03-07T12:39:09.640Z"
   },
   {
    "duration": 100,
    "start_time": "2023-03-07T12:39:10.174Z"
   },
   {
    "duration": 8,
    "start_time": "2023-03-07T12:39:10.277Z"
   },
   {
    "duration": 6,
    "start_time": "2023-03-07T12:39:10.287Z"
   },
   {
    "duration": 5,
    "start_time": "2023-03-07T12:39:10.295Z"
   },
   {
    "duration": 5,
    "start_time": "2023-03-07T12:39:10.302Z"
   },
   {
    "duration": 22,
    "start_time": "2023-03-07T12:39:10.308Z"
   },
   {
    "duration": 1574,
    "start_time": "2023-03-07T12:39:10.332Z"
   },
   {
    "duration": 1434,
    "start_time": "2023-03-07T12:39:11.907Z"
   },
   {
    "duration": 1472,
    "start_time": "2023-03-07T12:39:13.343Z"
   },
   {
    "duration": 1561,
    "start_time": "2023-03-09T10:55:32.238Z"
   },
   {
    "duration": 1760,
    "start_time": "2023-03-09T10:55:33.801Z"
   },
   {
    "duration": 6,
    "start_time": "2023-03-09T10:55:35.562Z"
   },
   {
    "duration": 63,
    "start_time": "2023-03-09T10:55:35.569Z"
   },
   {
    "duration": 22,
    "start_time": "2023-03-09T10:55:35.640Z"
   },
   {
    "duration": 73,
    "start_time": "2023-03-09T10:55:35.663Z"
   },
   {
    "duration": 12,
    "start_time": "2023-03-09T10:55:35.738Z"
   },
   {
    "duration": 13,
    "start_time": "2023-03-09T10:55:35.751Z"
   },
   {
    "duration": 82,
    "start_time": "2023-03-09T10:55:35.766Z"
   },
   {
    "duration": 322,
    "start_time": "2023-03-09T10:55:35.850Z"
   },
   {
    "duration": 165,
    "start_time": "2023-03-09T10:55:36.222Z"
   },
   {
    "duration": 556,
    "start_time": "2023-03-09T10:55:36.388Z"
   },
   {
    "duration": 90,
    "start_time": "2023-03-09T10:55:36.946Z"
   },
   {
    "duration": 88,
    "start_time": "2023-03-09T10:55:37.039Z"
   },
   {
    "duration": 6,
    "start_time": "2023-03-09T10:55:37.132Z"
   },
   {
    "duration": 5,
    "start_time": "2023-03-09T10:55:37.140Z"
   },
   {
    "duration": 4,
    "start_time": "2023-03-09T10:55:37.146Z"
   },
   {
    "duration": 31,
    "start_time": "2023-03-09T10:55:37.152Z"
   },
   {
    "duration": 1460,
    "start_time": "2023-03-09T10:55:37.186Z"
   },
   {
    "duration": 1423,
    "start_time": "2023-03-09T10:55:38.648Z"
   },
   {
    "duration": 1507,
    "start_time": "2023-03-09T10:55:40.072Z"
   },
   {
    "duration": 9,
    "start_time": "2023-03-09T10:58:24.318Z"
   },
   {
    "duration": 4,
    "start_time": "2023-03-09T10:58:32.398Z"
   },
   {
    "duration": 4,
    "start_time": "2023-03-09T10:58:43.137Z"
   },
   {
    "duration": 121,
    "start_time": "2023-03-09T10:58:49.217Z"
   },
   {
    "duration": 11,
    "start_time": "2023-03-09T10:58:52.558Z"
   },
   {
    "duration": 4,
    "start_time": "2023-03-09T10:58:55.835Z"
   },
   {
    "duration": 4,
    "start_time": "2023-03-09T10:59:01.110Z"
   },
   {
    "duration": 297,
    "start_time": "2023-03-09T11:00:08.372Z"
   },
   {
    "duration": 320,
    "start_time": "2023-03-09T11:00:41.625Z"
   },
   {
    "duration": 330,
    "start_time": "2023-03-09T11:01:31.675Z"
   },
   {
    "duration": 398,
    "start_time": "2023-03-09T11:01:32.657Z"
   },
   {
    "duration": 15,
    "start_time": "2023-03-09T11:02:15.261Z"
   },
   {
    "duration": 337,
    "start_time": "2023-03-09T11:02:37.491Z"
   },
   {
    "duration": 298,
    "start_time": "2023-03-09T11:02:41.357Z"
   },
   {
    "duration": 3,
    "start_time": "2023-03-09T11:02:53.543Z"
   },
   {
    "duration": 4,
    "start_time": "2023-03-09T11:02:55.159Z"
   },
   {
    "duration": 4,
    "start_time": "2023-03-09T11:02:56.215Z"
   },
   {
    "duration": 3,
    "start_time": "2023-03-09T11:03:48.919Z"
   },
   {
    "duration": 1333,
    "start_time": "2023-03-09T11:03:53.468Z"
   },
   {
    "duration": 339,
    "start_time": "2023-03-09T11:03:54.803Z"
   },
   {
    "duration": 6,
    "start_time": "2023-03-09T11:03:55.143Z"
   },
   {
    "duration": 4,
    "start_time": "2023-03-09T11:03:55.151Z"
   },
   {
    "duration": 4,
    "start_time": "2023-03-09T11:03:55.157Z"
   },
   {
    "duration": 14,
    "start_time": "2023-03-09T11:03:55.163Z"
   },
   {
    "duration": 12,
    "start_time": "2023-03-09T11:03:55.179Z"
   },
   {
    "duration": 36,
    "start_time": "2023-03-09T11:03:55.192Z"
   },
   {
    "duration": 22,
    "start_time": "2023-03-09T11:03:55.230Z"
   },
   {
    "duration": 138,
    "start_time": "2023-03-09T11:03:55.253Z"
   },
   {
    "duration": 142,
    "start_time": "2023-03-09T11:03:55.393Z"
   },
   {
    "duration": 333,
    "start_time": "2023-03-09T11:03:55.537Z"
   },
   {
    "duration": 359,
    "start_time": "2023-03-09T11:03:55.872Z"
   },
   {
    "duration": 314,
    "start_time": "2023-03-09T11:03:56.233Z"
   },
   {
    "duration": 289,
    "start_time": "2023-03-09T11:03:56.549Z"
   },
   {
    "duration": 182,
    "start_time": "2023-03-09T11:03:56.840Z"
   },
   {
    "duration": 4,
    "start_time": "2023-03-09T11:03:57.024Z"
   },
   {
    "duration": 13,
    "start_time": "2023-03-09T11:03:57.029Z"
   },
   {
    "duration": 8,
    "start_time": "2023-03-09T11:03:57.043Z"
   },
   {
    "duration": 6,
    "start_time": "2023-03-09T11:03:57.053Z"
   },
   {
    "duration": 21,
    "start_time": "2023-03-09T11:03:57.061Z"
   },
   {
    "duration": 1488,
    "start_time": "2023-03-09T11:03:57.085Z"
   },
   {
    "duration": 1412,
    "start_time": "2023-03-09T11:03:58.575Z"
   },
   {
    "duration": 1424,
    "start_time": "2023-03-09T11:03:59.989Z"
   },
   {
    "duration": 1341,
    "start_time": "2023-03-09T11:04:53.112Z"
   },
   {
    "duration": 119,
    "start_time": "2023-03-09T11:07:04.653Z"
   },
   {
    "duration": 5,
    "start_time": "2023-03-09T11:07:07.773Z"
   },
   {
    "duration": 140,
    "start_time": "2023-03-09T11:08:34.478Z"
   },
   {
    "duration": 2004,
    "start_time": "2023-03-09T11:10:59.366Z"
   },
   {
    "duration": 515,
    "start_time": "2023-03-09T11:11:01.373Z"
   },
   {
    "duration": 10,
    "start_time": "2023-03-09T11:11:01.891Z"
   },
   {
    "duration": 22,
    "start_time": "2023-03-09T11:11:01.903Z"
   },
   {
    "duration": 27,
    "start_time": "2023-03-09T11:11:01.928Z"
   },
   {
    "duration": 29,
    "start_time": "2023-03-09T11:11:01.957Z"
   },
   {
    "duration": 20,
    "start_time": "2023-03-09T11:11:01.989Z"
   },
   {
    "duration": 57,
    "start_time": "2023-03-09T11:11:02.012Z"
   },
   {
    "duration": 29,
    "start_time": "2023-03-09T11:11:02.073Z"
   },
   {
    "duration": 223,
    "start_time": "2023-03-09T11:11:02.104Z"
   },
   {
    "duration": 231,
    "start_time": "2023-03-09T11:11:02.329Z"
   },
   {
    "duration": 491,
    "start_time": "2023-03-09T11:11:02.562Z"
   },
   {
    "duration": 473,
    "start_time": "2023-03-09T11:11:03.055Z"
   },
   {
    "duration": 402,
    "start_time": "2023-03-09T11:11:03.532Z"
   },
   {
    "duration": 786,
    "start_time": "2023-03-09T11:11:03.936Z"
   },
   {
    "duration": 102,
    "start_time": "2023-03-09T11:11:04.727Z"
   },
   {
    "duration": 4,
    "start_time": "2023-03-09T11:11:04.832Z"
   },
   {
    "duration": 6,
    "start_time": "2023-03-09T11:11:04.838Z"
   },
   {
    "duration": 18,
    "start_time": "2023-03-09T11:11:04.846Z"
   },
   {
    "duration": 9,
    "start_time": "2023-03-09T11:11:04.866Z"
   },
   {
    "duration": 54,
    "start_time": "2023-03-09T11:11:04.878Z"
   },
   {
    "duration": 1459,
    "start_time": "2023-03-09T11:11:04.934Z"
   },
   {
    "duration": 1465,
    "start_time": "2023-03-09T11:11:06.396Z"
   },
   {
    "duration": 1438,
    "start_time": "2023-03-09T11:11:07.864Z"
   }
  ],
  "kernelspec": {
   "display_name": "Python 3 (ipykernel)",
   "language": "python",
   "name": "python3"
  },
  "language_info": {
   "codemirror_mode": {
    "name": "ipython",
    "version": 3
   },
   "file_extension": ".py",
   "mimetype": "text/x-python",
   "name": "python",
   "nbconvert_exporter": "python",
   "pygments_lexer": "ipython3",
   "version": "3.10.9"
  },
  "toc": {
   "base_numbering": 1,
   "nav_menu": {},
   "number_sections": true,
   "sideBar": true,
   "skip_h1_title": true,
   "title_cell": "Table of Contents",
   "title_sidebar": "Contents",
   "toc_cell": false,
   "toc_position": {
    "height": "calc(100% - 180px)",
    "left": "10px",
    "top": "150px",
    "width": "366.188px"
   },
   "toc_section_display": true,
   "toc_window_display": true
  }
 },
 "nbformat": 4,
 "nbformat_minor": 2
}
