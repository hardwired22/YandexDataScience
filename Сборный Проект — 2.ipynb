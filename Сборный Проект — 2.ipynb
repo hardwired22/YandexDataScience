{
 "cells": [
  {
   "cell_type": "markdown",
   "metadata": {
    "toc": true
   },
   "source": [
    "<h1>Содержание<span class=\"tocSkip\"></span></h1>\n",
    "<div class=\"toc\"><ul class=\"toc-item\"><li><span><a href=\"#Подготовка-данных\" data-toc-modified-id=\"Подготовка-данных-1\"><span class=\"toc-item-num\">1&nbsp;&nbsp;</span>Подготовка данных</a></span></li><li><span><a href=\"#Анализ-данных\" data-toc-modified-id=\"Анализ-данных-2\"><span class=\"toc-item-num\">2&nbsp;&nbsp;</span>Анализ данных</a></span></li><li><span><a href=\"#Модель\" data-toc-modified-id=\"Модель-3\"><span class=\"toc-item-num\">3&nbsp;&nbsp;</span>Модель</a></span></li><li><span><a href=\"#Чек-лист-готовности-проекта\" data-toc-modified-id=\"Чек-лист-готовности-проекта-4\"><span class=\"toc-item-num\">4&nbsp;&nbsp;</span>Чек-лист готовности проекта</a></span></li></ul></div>"
   ]
  },
  {
   "cell_type": "markdown",
   "metadata": {},
   "source": [
    "# Восстановление золота из руды"
   ]
  },
  {
   "cell_type": "markdown",
   "metadata": {},
   "source": [
    "Подготовьте прототип модели машинного обучения для «Цифры». Компания разрабатывает решения для эффективной работы промышленных предприятий.\n",
    "\n",
    "Модель должна предсказать коэффициент восстановления золота из золотосодержащей руды. Используйте данные с параметрами добычи и очистки. \n",
    "\n",
    "Модель поможет оптимизировать производство, чтобы не запускать предприятие с убыточными характеристиками.\n",
    "\n",
    "Вам нужно:\n",
    "\n",
    "1. Подготовить данные;\n",
    "2. Провести исследовательский анализ данных;\n",
    "3. Построить и обучить модель.\n",
    "\n",
    "Чтобы выполнить проект, обращайтесь к библиотекам *pandas*, *matplotlib* и *sklearn.* Вам поможет их документация."
   ]
  },
  {
   "cell_type": "markdown",
   "metadata": {},
   "source": [
    "Задача найти как меняется концентрация металлов (Au, Ag, Pb) на различных этапах очистки и функцию для вычисления итоговой sMAPE."
   ]
  },
  {
   "cell_type": "markdown",
   "metadata": {},
   "source": [
    "Описание данных\n",
    "\n",
    "Технологический процесс\n",
    "\n",
    "Rougher feed — исходное сырье\n",
    "\n",
    "Rougher additions (или reagent additions) — флотационные реагенты: Xanthate, Sulphate, Depressant\n",
    "\n",
    "Xanthate **— ксантогенат (промотер, или активатор флотации);\n",
    "\n",
    "Sulphate — сульфат (на данном производстве сульфид натрия);\n",
    "\n",
    "Depressant — депрессант (силикат натрия).\n",
    "\n",
    "Rougher process (англ. «грубый процесс») — флотация\n",
    "\n",
    "Rougher tails — отвальные хвосты\n",
    "\n",
    "Float banks — флотационная установка\n",
    "\n",
    "Cleaner process — очистка\n",
    "\n",
    "Rougher Au — черновой концентрат золота\n",
    "\n",
    "Final Au — финальный концентрат золота\n",
    "\n",
    "Параметры этапов\n",
    "\n",
    "air amount — объём воздуха\n",
    "\n",
    "fluid levels — уровень жидкости\n",
    "\n",
    "feed size — размер гранул сырья\n",
    "\n",
    "feed rate — скорость подачи\n"
   ]
  },
  {
   "cell_type": "markdown",
   "metadata": {},
   "source": [
    "C — доля золота в концентрате после флотации/очистки;\n",
    "\n",
    "F — доля золота в сырье/концентрате до флотации/очистки;\n",
    "\n",
    "T — доля золота в отвальных хвостах после флотации/очистки.\n",
    "\n",
    "Для прогноза коэффициента нужно найти долю золота в концентратах и хвостах. Причём важен не только финальный продукт, но и черновой концентрат."
   ]
  },
  {
   "cell_type": "markdown",
   "metadata": {},
   "source": [
    "## Подготовка данных"
   ]
  },
  {
   "cell_type": "markdown",
   "metadata": {},
   "source": [
    "# 1.1 Изучение файлов"
   ]
  },
  {
   "cell_type": "code",
   "execution_count": 1,
   "metadata": {},
   "outputs": [],
   "source": [
    "import pandas as pd\n",
    "from sklearn.model_selection import train_test_split, cross_val_score\n",
    "from sklearn.linear_model import LinearRegression\n",
    "from sklearn.ensemble import RandomForestRegressor\n",
    "from sklearn import linear_model\n",
    "from sklearn.pipeline import Pipeline\n",
    "from sklearn.tree import DecisionTreeRegressor, DecisionTreeClassifier\n",
    "from catboost import CatBoostRegressor\n",
    "from sklearn.impute import SimpleImputer\n",
    "from sklearn.metrics import mean_absolute_error\n",
    "from sklearn.metrics import f1_score, roc_auc_score, roc_curve, precision_score, recall_score\n",
    "from sklearn.metrics import precision_recall_curve, accuracy_score\n",
    "from sklearn.utils import shuffle\n",
    "import matplotlib.pyplot as plt\n",
    "import seaborn as sns\n",
    "from sklearn.preprocessing import StandardScaler\n",
    "import warnings \n",
    "warnings.filterwarnings('ignore')\n",
    "from pathlib import Path\n",
    "from sklearn.metrics import make_scorer, mean_absolute_error\n",
    "from scipy import stats as st\n",
    "import numpy as np\n",
    "from numpy.random import RandomState\n",
    "state = RandomState(12345)\n",
    "from sklearn.dummy import DummyRegressor\n",
    "from sklearn.model_selection import TimeSeriesSplit, cross_val_score, StratifiedKFold, GridSearchCV, cross_validate, KFold"
   ]
  },
  {
   "cell_type": "code",
   "execution_count": 2,
   "metadata": {},
   "outputs": [],
   "source": [
    "train = pd.read_csv('/datasets/gold_recovery_train_new.csv')\n",
    "test = pd.read_csv('/datasets/gold_recovery_test_new.csv')\n",
    "gold = pd.read_csv('/datasets/gold_recovery_full_new.csv')"
   ]
  },
  {
   "cell_type": "code",
   "execution_count": 3,
   "metadata": {},
   "outputs": [
    {
     "name": "stdout",
     "output_type": "stream",
     "text": [
      "(14149, 87)\n",
      "(5290, 53)\n",
      "(19439, 87)\n"
     ]
    }
   ],
   "source": [
    "print(train.shape)\n",
    "print(test.shape)\n",
    "print(gold.shape)"
   ]
  },
  {
   "cell_type": "code",
   "execution_count": 4,
   "metadata": {
    "scrolled": true
   },
   "outputs": [
    {
     "data": {
      "text/html": [
       "<div>\n",
       "<style scoped>\n",
       "    .dataframe tbody tr th:only-of-type {\n",
       "        vertical-align: middle;\n",
       "    }\n",
       "\n",
       "    .dataframe tbody tr th {\n",
       "        vertical-align: top;\n",
       "    }\n",
       "\n",
       "    .dataframe thead th {\n",
       "        text-align: right;\n",
       "    }\n",
       "</style>\n",
       "<table border=\"1\" class=\"dataframe\">\n",
       "  <thead>\n",
       "    <tr style=\"text-align: right;\">\n",
       "      <th></th>\n",
       "      <th>date</th>\n",
       "      <th>final.output.concentrate_ag</th>\n",
       "      <th>final.output.concentrate_pb</th>\n",
       "      <th>final.output.concentrate_sol</th>\n",
       "      <th>final.output.concentrate_au</th>\n",
       "      <th>final.output.recovery</th>\n",
       "      <th>final.output.tail_ag</th>\n",
       "      <th>final.output.tail_pb</th>\n",
       "      <th>final.output.tail_sol</th>\n",
       "      <th>final.output.tail_au</th>\n",
       "      <th>...</th>\n",
       "      <th>secondary_cleaner.state.floatbank4_a_air</th>\n",
       "      <th>secondary_cleaner.state.floatbank4_a_level</th>\n",
       "      <th>secondary_cleaner.state.floatbank4_b_air</th>\n",
       "      <th>secondary_cleaner.state.floatbank4_b_level</th>\n",
       "      <th>secondary_cleaner.state.floatbank5_a_air</th>\n",
       "      <th>secondary_cleaner.state.floatbank5_a_level</th>\n",
       "      <th>secondary_cleaner.state.floatbank5_b_air</th>\n",
       "      <th>secondary_cleaner.state.floatbank5_b_level</th>\n",
       "      <th>secondary_cleaner.state.floatbank6_a_air</th>\n",
       "      <th>secondary_cleaner.state.floatbank6_a_level</th>\n",
       "    </tr>\n",
       "  </thead>\n",
       "  <tbody>\n",
       "    <tr>\n",
       "      <th>0</th>\n",
       "      <td>2016-01-15 00:00:00</td>\n",
       "      <td>6.055403</td>\n",
       "      <td>9.889648</td>\n",
       "      <td>5.507324</td>\n",
       "      <td>42.192020</td>\n",
       "      <td>70.541216</td>\n",
       "      <td>10.411962</td>\n",
       "      <td>0.895447</td>\n",
       "      <td>16.904297</td>\n",
       "      <td>2.143149</td>\n",
       "      <td>...</td>\n",
       "      <td>14.016835</td>\n",
       "      <td>-502.488007</td>\n",
       "      <td>12.099931</td>\n",
       "      <td>-504.715942</td>\n",
       "      <td>9.925633</td>\n",
       "      <td>-498.310211</td>\n",
       "      <td>8.079666</td>\n",
       "      <td>-500.470978</td>\n",
       "      <td>14.151341</td>\n",
       "      <td>-605.841980</td>\n",
       "    </tr>\n",
       "    <tr>\n",
       "      <th>1</th>\n",
       "      <td>2016-01-15 01:00:00</td>\n",
       "      <td>6.029369</td>\n",
       "      <td>9.968944</td>\n",
       "      <td>5.257781</td>\n",
       "      <td>42.701629</td>\n",
       "      <td>69.266198</td>\n",
       "      <td>10.462676</td>\n",
       "      <td>0.927452</td>\n",
       "      <td>16.634514</td>\n",
       "      <td>2.224930</td>\n",
       "      <td>...</td>\n",
       "      <td>13.992281</td>\n",
       "      <td>-505.503262</td>\n",
       "      <td>11.950531</td>\n",
       "      <td>-501.331529</td>\n",
       "      <td>10.039245</td>\n",
       "      <td>-500.169983</td>\n",
       "      <td>7.984757</td>\n",
       "      <td>-500.582168</td>\n",
       "      <td>13.998353</td>\n",
       "      <td>-599.787184</td>\n",
       "    </tr>\n",
       "    <tr>\n",
       "      <th>2</th>\n",
       "      <td>2016-01-15 02:00:00</td>\n",
       "      <td>6.055926</td>\n",
       "      <td>10.213995</td>\n",
       "      <td>5.383759</td>\n",
       "      <td>42.657501</td>\n",
       "      <td>68.116445</td>\n",
       "      <td>10.507046</td>\n",
       "      <td>0.953716</td>\n",
       "      <td>16.208849</td>\n",
       "      <td>2.257889</td>\n",
       "      <td>...</td>\n",
       "      <td>14.015015</td>\n",
       "      <td>-502.520901</td>\n",
       "      <td>11.912783</td>\n",
       "      <td>-501.133383</td>\n",
       "      <td>10.070913</td>\n",
       "      <td>-500.129135</td>\n",
       "      <td>8.013877</td>\n",
       "      <td>-500.517572</td>\n",
       "      <td>14.028663</td>\n",
       "      <td>-601.427363</td>\n",
       "    </tr>\n",
       "    <tr>\n",
       "      <th>3</th>\n",
       "      <td>2016-01-15 03:00:00</td>\n",
       "      <td>6.047977</td>\n",
       "      <td>9.977019</td>\n",
       "      <td>4.858634</td>\n",
       "      <td>42.689819</td>\n",
       "      <td>68.347543</td>\n",
       "      <td>10.422762</td>\n",
       "      <td>0.883763</td>\n",
       "      <td>16.532835</td>\n",
       "      <td>2.146849</td>\n",
       "      <td>...</td>\n",
       "      <td>14.036510</td>\n",
       "      <td>-500.857308</td>\n",
       "      <td>11.999550</td>\n",
       "      <td>-501.193686</td>\n",
       "      <td>9.970366</td>\n",
       "      <td>-499.201640</td>\n",
       "      <td>7.977324</td>\n",
       "      <td>-500.255908</td>\n",
       "      <td>14.005551</td>\n",
       "      <td>-599.996129</td>\n",
       "    </tr>\n",
       "    <tr>\n",
       "      <th>4</th>\n",
       "      <td>2016-01-15 04:00:00</td>\n",
       "      <td>6.148599</td>\n",
       "      <td>10.142511</td>\n",
       "      <td>4.939416</td>\n",
       "      <td>42.774141</td>\n",
       "      <td>66.927016</td>\n",
       "      <td>10.360302</td>\n",
       "      <td>0.792826</td>\n",
       "      <td>16.525686</td>\n",
       "      <td>2.055292</td>\n",
       "      <td>...</td>\n",
       "      <td>14.027298</td>\n",
       "      <td>-499.838632</td>\n",
       "      <td>11.953070</td>\n",
       "      <td>-501.053894</td>\n",
       "      <td>9.925709</td>\n",
       "      <td>-501.686727</td>\n",
       "      <td>7.894242</td>\n",
       "      <td>-500.356035</td>\n",
       "      <td>13.996647</td>\n",
       "      <td>-601.496691</td>\n",
       "    </tr>\n",
       "  </tbody>\n",
       "</table>\n",
       "<p>5 rows × 87 columns</p>\n",
       "</div>"
      ],
      "text/plain": [
       "                  date  final.output.concentrate_ag  \\\n",
       "0  2016-01-15 00:00:00                     6.055403   \n",
       "1  2016-01-15 01:00:00                     6.029369   \n",
       "2  2016-01-15 02:00:00                     6.055926   \n",
       "3  2016-01-15 03:00:00                     6.047977   \n",
       "4  2016-01-15 04:00:00                     6.148599   \n",
       "\n",
       "   final.output.concentrate_pb  final.output.concentrate_sol  \\\n",
       "0                     9.889648                      5.507324   \n",
       "1                     9.968944                      5.257781   \n",
       "2                    10.213995                      5.383759   \n",
       "3                     9.977019                      4.858634   \n",
       "4                    10.142511                      4.939416   \n",
       "\n",
       "   final.output.concentrate_au  final.output.recovery  final.output.tail_ag  \\\n",
       "0                    42.192020              70.541216             10.411962   \n",
       "1                    42.701629              69.266198             10.462676   \n",
       "2                    42.657501              68.116445             10.507046   \n",
       "3                    42.689819              68.347543             10.422762   \n",
       "4                    42.774141              66.927016             10.360302   \n",
       "\n",
       "   final.output.tail_pb  final.output.tail_sol  final.output.tail_au  ...  \\\n",
       "0              0.895447              16.904297              2.143149  ...   \n",
       "1              0.927452              16.634514              2.224930  ...   \n",
       "2              0.953716              16.208849              2.257889  ...   \n",
       "3              0.883763              16.532835              2.146849  ...   \n",
       "4              0.792826              16.525686              2.055292  ...   \n",
       "\n",
       "   secondary_cleaner.state.floatbank4_a_air  \\\n",
       "0                                 14.016835   \n",
       "1                                 13.992281   \n",
       "2                                 14.015015   \n",
       "3                                 14.036510   \n",
       "4                                 14.027298   \n",
       "\n",
       "   secondary_cleaner.state.floatbank4_a_level  \\\n",
       "0                                 -502.488007   \n",
       "1                                 -505.503262   \n",
       "2                                 -502.520901   \n",
       "3                                 -500.857308   \n",
       "4                                 -499.838632   \n",
       "\n",
       "   secondary_cleaner.state.floatbank4_b_air  \\\n",
       "0                                 12.099931   \n",
       "1                                 11.950531   \n",
       "2                                 11.912783   \n",
       "3                                 11.999550   \n",
       "4                                 11.953070   \n",
       "\n",
       "   secondary_cleaner.state.floatbank4_b_level  \\\n",
       "0                                 -504.715942   \n",
       "1                                 -501.331529   \n",
       "2                                 -501.133383   \n",
       "3                                 -501.193686   \n",
       "4                                 -501.053894   \n",
       "\n",
       "   secondary_cleaner.state.floatbank5_a_air  \\\n",
       "0                                  9.925633   \n",
       "1                                 10.039245   \n",
       "2                                 10.070913   \n",
       "3                                  9.970366   \n",
       "4                                  9.925709   \n",
       "\n",
       "   secondary_cleaner.state.floatbank5_a_level  \\\n",
       "0                                 -498.310211   \n",
       "1                                 -500.169983   \n",
       "2                                 -500.129135   \n",
       "3                                 -499.201640   \n",
       "4                                 -501.686727   \n",
       "\n",
       "   secondary_cleaner.state.floatbank5_b_air  \\\n",
       "0                                  8.079666   \n",
       "1                                  7.984757   \n",
       "2                                  8.013877   \n",
       "3                                  7.977324   \n",
       "4                                  7.894242   \n",
       "\n",
       "   secondary_cleaner.state.floatbank5_b_level  \\\n",
       "0                                 -500.470978   \n",
       "1                                 -500.582168   \n",
       "2                                 -500.517572   \n",
       "3                                 -500.255908   \n",
       "4                                 -500.356035   \n",
       "\n",
       "   secondary_cleaner.state.floatbank6_a_air  \\\n",
       "0                                 14.151341   \n",
       "1                                 13.998353   \n",
       "2                                 14.028663   \n",
       "3                                 14.005551   \n",
       "4                                 13.996647   \n",
       "\n",
       "   secondary_cleaner.state.floatbank6_a_level  \n",
       "0                                 -605.841980  \n",
       "1                                 -599.787184  \n",
       "2                                 -601.427363  \n",
       "3                                 -599.996129  \n",
       "4                                 -601.496691  \n",
       "\n",
       "[5 rows x 87 columns]"
      ]
     },
     "metadata": {},
     "output_type": "display_data"
    },
    {
     "data": {
      "text/html": [
       "<div>\n",
       "<style scoped>\n",
       "    .dataframe tbody tr th:only-of-type {\n",
       "        vertical-align: middle;\n",
       "    }\n",
       "\n",
       "    .dataframe tbody tr th {\n",
       "        vertical-align: top;\n",
       "    }\n",
       "\n",
       "    .dataframe thead th {\n",
       "        text-align: right;\n",
       "    }\n",
       "</style>\n",
       "<table border=\"1\" class=\"dataframe\">\n",
       "  <thead>\n",
       "    <tr style=\"text-align: right;\">\n",
       "      <th></th>\n",
       "      <th>date</th>\n",
       "      <th>primary_cleaner.input.sulfate</th>\n",
       "      <th>primary_cleaner.input.depressant</th>\n",
       "      <th>primary_cleaner.input.feed_size</th>\n",
       "      <th>primary_cleaner.input.xanthate</th>\n",
       "      <th>primary_cleaner.state.floatbank8_a_air</th>\n",
       "      <th>primary_cleaner.state.floatbank8_a_level</th>\n",
       "      <th>primary_cleaner.state.floatbank8_b_air</th>\n",
       "      <th>primary_cleaner.state.floatbank8_b_level</th>\n",
       "      <th>primary_cleaner.state.floatbank8_c_air</th>\n",
       "      <th>...</th>\n",
       "      <th>secondary_cleaner.state.floatbank4_a_air</th>\n",
       "      <th>secondary_cleaner.state.floatbank4_a_level</th>\n",
       "      <th>secondary_cleaner.state.floatbank4_b_air</th>\n",
       "      <th>secondary_cleaner.state.floatbank4_b_level</th>\n",
       "      <th>secondary_cleaner.state.floatbank5_a_air</th>\n",
       "      <th>secondary_cleaner.state.floatbank5_a_level</th>\n",
       "      <th>secondary_cleaner.state.floatbank5_b_air</th>\n",
       "      <th>secondary_cleaner.state.floatbank5_b_level</th>\n",
       "      <th>secondary_cleaner.state.floatbank6_a_air</th>\n",
       "      <th>secondary_cleaner.state.floatbank6_a_level</th>\n",
       "    </tr>\n",
       "  </thead>\n",
       "  <tbody>\n",
       "    <tr>\n",
       "      <th>0</th>\n",
       "      <td>2016-09-01 00:59:59</td>\n",
       "      <td>210.800909</td>\n",
       "      <td>14.993118</td>\n",
       "      <td>8.080000</td>\n",
       "      <td>1.005021</td>\n",
       "      <td>1398.981301</td>\n",
       "      <td>-500.225577</td>\n",
       "      <td>1399.144926</td>\n",
       "      <td>-499.919735</td>\n",
       "      <td>1400.102998</td>\n",
       "      <td>...</td>\n",
       "      <td>12.023554</td>\n",
       "      <td>-497.795834</td>\n",
       "      <td>8.016656</td>\n",
       "      <td>-501.289139</td>\n",
       "      <td>7.946562</td>\n",
       "      <td>-432.317850</td>\n",
       "      <td>4.872511</td>\n",
       "      <td>-500.037437</td>\n",
       "      <td>26.705889</td>\n",
       "      <td>-499.709414</td>\n",
       "    </tr>\n",
       "    <tr>\n",
       "      <th>1</th>\n",
       "      <td>2016-09-01 01:59:59</td>\n",
       "      <td>215.392455</td>\n",
       "      <td>14.987471</td>\n",
       "      <td>8.080000</td>\n",
       "      <td>0.990469</td>\n",
       "      <td>1398.777912</td>\n",
       "      <td>-500.057435</td>\n",
       "      <td>1398.055362</td>\n",
       "      <td>-499.778182</td>\n",
       "      <td>1396.151033</td>\n",
       "      <td>...</td>\n",
       "      <td>12.058140</td>\n",
       "      <td>-498.695773</td>\n",
       "      <td>8.130979</td>\n",
       "      <td>-499.634209</td>\n",
       "      <td>7.958270</td>\n",
       "      <td>-525.839648</td>\n",
       "      <td>4.878850</td>\n",
       "      <td>-500.162375</td>\n",
       "      <td>25.019940</td>\n",
       "      <td>-499.819438</td>\n",
       "    </tr>\n",
       "    <tr>\n",
       "      <th>2</th>\n",
       "      <td>2016-09-01 02:59:59</td>\n",
       "      <td>215.259946</td>\n",
       "      <td>12.884934</td>\n",
       "      <td>7.786667</td>\n",
       "      <td>0.996043</td>\n",
       "      <td>1398.493666</td>\n",
       "      <td>-500.868360</td>\n",
       "      <td>1398.860436</td>\n",
       "      <td>-499.764529</td>\n",
       "      <td>1398.075709</td>\n",
       "      <td>...</td>\n",
       "      <td>11.962366</td>\n",
       "      <td>-498.767484</td>\n",
       "      <td>8.096893</td>\n",
       "      <td>-500.827423</td>\n",
       "      <td>8.071056</td>\n",
       "      <td>-500.801673</td>\n",
       "      <td>4.905125</td>\n",
       "      <td>-499.828510</td>\n",
       "      <td>24.994862</td>\n",
       "      <td>-500.622559</td>\n",
       "    </tr>\n",
       "    <tr>\n",
       "      <th>3</th>\n",
       "      <td>2016-09-01 03:59:59</td>\n",
       "      <td>215.336236</td>\n",
       "      <td>12.006805</td>\n",
       "      <td>7.640000</td>\n",
       "      <td>0.863514</td>\n",
       "      <td>1399.618111</td>\n",
       "      <td>-498.863574</td>\n",
       "      <td>1397.440120</td>\n",
       "      <td>-499.211024</td>\n",
       "      <td>1400.129303</td>\n",
       "      <td>...</td>\n",
       "      <td>12.033091</td>\n",
       "      <td>-498.350935</td>\n",
       "      <td>8.074946</td>\n",
       "      <td>-499.474407</td>\n",
       "      <td>7.897085</td>\n",
       "      <td>-500.868509</td>\n",
       "      <td>4.931400</td>\n",
       "      <td>-499.963623</td>\n",
       "      <td>24.948919</td>\n",
       "      <td>-498.709987</td>\n",
       "    </tr>\n",
       "    <tr>\n",
       "      <th>4</th>\n",
       "      <td>2016-09-01 04:59:59</td>\n",
       "      <td>199.099327</td>\n",
       "      <td>10.682530</td>\n",
       "      <td>7.530000</td>\n",
       "      <td>0.805575</td>\n",
       "      <td>1401.268123</td>\n",
       "      <td>-500.808305</td>\n",
       "      <td>1398.128818</td>\n",
       "      <td>-499.504543</td>\n",
       "      <td>1402.172226</td>\n",
       "      <td>...</td>\n",
       "      <td>12.025367</td>\n",
       "      <td>-500.786497</td>\n",
       "      <td>8.054678</td>\n",
       "      <td>-500.397500</td>\n",
       "      <td>8.107890</td>\n",
       "      <td>-509.526725</td>\n",
       "      <td>4.957674</td>\n",
       "      <td>-500.360026</td>\n",
       "      <td>25.003331</td>\n",
       "      <td>-500.856333</td>\n",
       "    </tr>\n",
       "  </tbody>\n",
       "</table>\n",
       "<p>5 rows × 53 columns</p>\n",
       "</div>"
      ],
      "text/plain": [
       "                  date  primary_cleaner.input.sulfate  \\\n",
       "0  2016-09-01 00:59:59                     210.800909   \n",
       "1  2016-09-01 01:59:59                     215.392455   \n",
       "2  2016-09-01 02:59:59                     215.259946   \n",
       "3  2016-09-01 03:59:59                     215.336236   \n",
       "4  2016-09-01 04:59:59                     199.099327   \n",
       "\n",
       "   primary_cleaner.input.depressant  primary_cleaner.input.feed_size  \\\n",
       "0                         14.993118                         8.080000   \n",
       "1                         14.987471                         8.080000   \n",
       "2                         12.884934                         7.786667   \n",
       "3                         12.006805                         7.640000   \n",
       "4                         10.682530                         7.530000   \n",
       "\n",
       "   primary_cleaner.input.xanthate  primary_cleaner.state.floatbank8_a_air  \\\n",
       "0                        1.005021                             1398.981301   \n",
       "1                        0.990469                             1398.777912   \n",
       "2                        0.996043                             1398.493666   \n",
       "3                        0.863514                             1399.618111   \n",
       "4                        0.805575                             1401.268123   \n",
       "\n",
       "   primary_cleaner.state.floatbank8_a_level  \\\n",
       "0                               -500.225577   \n",
       "1                               -500.057435   \n",
       "2                               -500.868360   \n",
       "3                               -498.863574   \n",
       "4                               -500.808305   \n",
       "\n",
       "   primary_cleaner.state.floatbank8_b_air  \\\n",
       "0                             1399.144926   \n",
       "1                             1398.055362   \n",
       "2                             1398.860436   \n",
       "3                             1397.440120   \n",
       "4                             1398.128818   \n",
       "\n",
       "   primary_cleaner.state.floatbank8_b_level  \\\n",
       "0                               -499.919735   \n",
       "1                               -499.778182   \n",
       "2                               -499.764529   \n",
       "3                               -499.211024   \n",
       "4                               -499.504543   \n",
       "\n",
       "   primary_cleaner.state.floatbank8_c_air  ...  \\\n",
       "0                             1400.102998  ...   \n",
       "1                             1396.151033  ...   \n",
       "2                             1398.075709  ...   \n",
       "3                             1400.129303  ...   \n",
       "4                             1402.172226  ...   \n",
       "\n",
       "   secondary_cleaner.state.floatbank4_a_air  \\\n",
       "0                                 12.023554   \n",
       "1                                 12.058140   \n",
       "2                                 11.962366   \n",
       "3                                 12.033091   \n",
       "4                                 12.025367   \n",
       "\n",
       "   secondary_cleaner.state.floatbank4_a_level  \\\n",
       "0                                 -497.795834   \n",
       "1                                 -498.695773   \n",
       "2                                 -498.767484   \n",
       "3                                 -498.350935   \n",
       "4                                 -500.786497   \n",
       "\n",
       "   secondary_cleaner.state.floatbank4_b_air  \\\n",
       "0                                  8.016656   \n",
       "1                                  8.130979   \n",
       "2                                  8.096893   \n",
       "3                                  8.074946   \n",
       "4                                  8.054678   \n",
       "\n",
       "   secondary_cleaner.state.floatbank4_b_level  \\\n",
       "0                                 -501.289139   \n",
       "1                                 -499.634209   \n",
       "2                                 -500.827423   \n",
       "3                                 -499.474407   \n",
       "4                                 -500.397500   \n",
       "\n",
       "   secondary_cleaner.state.floatbank5_a_air  \\\n",
       "0                                  7.946562   \n",
       "1                                  7.958270   \n",
       "2                                  8.071056   \n",
       "3                                  7.897085   \n",
       "4                                  8.107890   \n",
       "\n",
       "   secondary_cleaner.state.floatbank5_a_level  \\\n",
       "0                                 -432.317850   \n",
       "1                                 -525.839648   \n",
       "2                                 -500.801673   \n",
       "3                                 -500.868509   \n",
       "4                                 -509.526725   \n",
       "\n",
       "   secondary_cleaner.state.floatbank5_b_air  \\\n",
       "0                                  4.872511   \n",
       "1                                  4.878850   \n",
       "2                                  4.905125   \n",
       "3                                  4.931400   \n",
       "4                                  4.957674   \n",
       "\n",
       "   secondary_cleaner.state.floatbank5_b_level  \\\n",
       "0                                 -500.037437   \n",
       "1                                 -500.162375   \n",
       "2                                 -499.828510   \n",
       "3                                 -499.963623   \n",
       "4                                 -500.360026   \n",
       "\n",
       "   secondary_cleaner.state.floatbank6_a_air  \\\n",
       "0                                 26.705889   \n",
       "1                                 25.019940   \n",
       "2                                 24.994862   \n",
       "3                                 24.948919   \n",
       "4                                 25.003331   \n",
       "\n",
       "   secondary_cleaner.state.floatbank6_a_level  \n",
       "0                                 -499.709414  \n",
       "1                                 -499.819438  \n",
       "2                                 -500.622559  \n",
       "3                                 -498.709987  \n",
       "4                                 -500.856333  \n",
       "\n",
       "[5 rows x 53 columns]"
      ]
     },
     "metadata": {},
     "output_type": "display_data"
    },
    {
     "data": {
      "text/html": [
       "<div>\n",
       "<style scoped>\n",
       "    .dataframe tbody tr th:only-of-type {\n",
       "        vertical-align: middle;\n",
       "    }\n",
       "\n",
       "    .dataframe tbody tr th {\n",
       "        vertical-align: top;\n",
       "    }\n",
       "\n",
       "    .dataframe thead th {\n",
       "        text-align: right;\n",
       "    }\n",
       "</style>\n",
       "<table border=\"1\" class=\"dataframe\">\n",
       "  <thead>\n",
       "    <tr style=\"text-align: right;\">\n",
       "      <th></th>\n",
       "      <th>date</th>\n",
       "      <th>final.output.concentrate_ag</th>\n",
       "      <th>final.output.concentrate_pb</th>\n",
       "      <th>final.output.concentrate_sol</th>\n",
       "      <th>final.output.concentrate_au</th>\n",
       "      <th>final.output.recovery</th>\n",
       "      <th>final.output.tail_ag</th>\n",
       "      <th>final.output.tail_pb</th>\n",
       "      <th>final.output.tail_sol</th>\n",
       "      <th>final.output.tail_au</th>\n",
       "      <th>...</th>\n",
       "      <th>secondary_cleaner.state.floatbank4_a_air</th>\n",
       "      <th>secondary_cleaner.state.floatbank4_a_level</th>\n",
       "      <th>secondary_cleaner.state.floatbank4_b_air</th>\n",
       "      <th>secondary_cleaner.state.floatbank4_b_level</th>\n",
       "      <th>secondary_cleaner.state.floatbank5_a_air</th>\n",
       "      <th>secondary_cleaner.state.floatbank5_a_level</th>\n",
       "      <th>secondary_cleaner.state.floatbank5_b_air</th>\n",
       "      <th>secondary_cleaner.state.floatbank5_b_level</th>\n",
       "      <th>secondary_cleaner.state.floatbank6_a_air</th>\n",
       "      <th>secondary_cleaner.state.floatbank6_a_level</th>\n",
       "    </tr>\n",
       "  </thead>\n",
       "  <tbody>\n",
       "    <tr>\n",
       "      <th>0</th>\n",
       "      <td>2016-01-15 00:00:00</td>\n",
       "      <td>6.055403</td>\n",
       "      <td>9.889648</td>\n",
       "      <td>5.507324</td>\n",
       "      <td>42.192020</td>\n",
       "      <td>70.541216</td>\n",
       "      <td>10.411962</td>\n",
       "      <td>0.895447</td>\n",
       "      <td>16.904297</td>\n",
       "      <td>2.143149</td>\n",
       "      <td>...</td>\n",
       "      <td>14.016835</td>\n",
       "      <td>-502.488007</td>\n",
       "      <td>12.099931</td>\n",
       "      <td>-504.715942</td>\n",
       "      <td>9.925633</td>\n",
       "      <td>-498.310211</td>\n",
       "      <td>8.079666</td>\n",
       "      <td>-500.470978</td>\n",
       "      <td>14.151341</td>\n",
       "      <td>-605.841980</td>\n",
       "    </tr>\n",
       "    <tr>\n",
       "      <th>1</th>\n",
       "      <td>2016-01-15 01:00:00</td>\n",
       "      <td>6.029369</td>\n",
       "      <td>9.968944</td>\n",
       "      <td>5.257781</td>\n",
       "      <td>42.701629</td>\n",
       "      <td>69.266198</td>\n",
       "      <td>10.462676</td>\n",
       "      <td>0.927452</td>\n",
       "      <td>16.634514</td>\n",
       "      <td>2.224930</td>\n",
       "      <td>...</td>\n",
       "      <td>13.992281</td>\n",
       "      <td>-505.503262</td>\n",
       "      <td>11.950531</td>\n",
       "      <td>-501.331529</td>\n",
       "      <td>10.039245</td>\n",
       "      <td>-500.169983</td>\n",
       "      <td>7.984757</td>\n",
       "      <td>-500.582168</td>\n",
       "      <td>13.998353</td>\n",
       "      <td>-599.787184</td>\n",
       "    </tr>\n",
       "    <tr>\n",
       "      <th>2</th>\n",
       "      <td>2016-01-15 02:00:00</td>\n",
       "      <td>6.055926</td>\n",
       "      <td>10.213995</td>\n",
       "      <td>5.383759</td>\n",
       "      <td>42.657501</td>\n",
       "      <td>68.116445</td>\n",
       "      <td>10.507046</td>\n",
       "      <td>0.953716</td>\n",
       "      <td>16.208849</td>\n",
       "      <td>2.257889</td>\n",
       "      <td>...</td>\n",
       "      <td>14.015015</td>\n",
       "      <td>-502.520901</td>\n",
       "      <td>11.912783</td>\n",
       "      <td>-501.133383</td>\n",
       "      <td>10.070913</td>\n",
       "      <td>-500.129135</td>\n",
       "      <td>8.013877</td>\n",
       "      <td>-500.517572</td>\n",
       "      <td>14.028663</td>\n",
       "      <td>-601.427363</td>\n",
       "    </tr>\n",
       "    <tr>\n",
       "      <th>3</th>\n",
       "      <td>2016-01-15 03:00:00</td>\n",
       "      <td>6.047977</td>\n",
       "      <td>9.977019</td>\n",
       "      <td>4.858634</td>\n",
       "      <td>42.689819</td>\n",
       "      <td>68.347543</td>\n",
       "      <td>10.422762</td>\n",
       "      <td>0.883763</td>\n",
       "      <td>16.532835</td>\n",
       "      <td>2.146849</td>\n",
       "      <td>...</td>\n",
       "      <td>14.036510</td>\n",
       "      <td>-500.857308</td>\n",
       "      <td>11.999550</td>\n",
       "      <td>-501.193686</td>\n",
       "      <td>9.970366</td>\n",
       "      <td>-499.201640</td>\n",
       "      <td>7.977324</td>\n",
       "      <td>-500.255908</td>\n",
       "      <td>14.005551</td>\n",
       "      <td>-599.996129</td>\n",
       "    </tr>\n",
       "    <tr>\n",
       "      <th>4</th>\n",
       "      <td>2016-01-15 04:00:00</td>\n",
       "      <td>6.148599</td>\n",
       "      <td>10.142511</td>\n",
       "      <td>4.939416</td>\n",
       "      <td>42.774141</td>\n",
       "      <td>66.927016</td>\n",
       "      <td>10.360302</td>\n",
       "      <td>0.792826</td>\n",
       "      <td>16.525686</td>\n",
       "      <td>2.055292</td>\n",
       "      <td>...</td>\n",
       "      <td>14.027298</td>\n",
       "      <td>-499.838632</td>\n",
       "      <td>11.953070</td>\n",
       "      <td>-501.053894</td>\n",
       "      <td>9.925709</td>\n",
       "      <td>-501.686727</td>\n",
       "      <td>7.894242</td>\n",
       "      <td>-500.356035</td>\n",
       "      <td>13.996647</td>\n",
       "      <td>-601.496691</td>\n",
       "    </tr>\n",
       "  </tbody>\n",
       "</table>\n",
       "<p>5 rows × 87 columns</p>\n",
       "</div>"
      ],
      "text/plain": [
       "                  date  final.output.concentrate_ag  \\\n",
       "0  2016-01-15 00:00:00                     6.055403   \n",
       "1  2016-01-15 01:00:00                     6.029369   \n",
       "2  2016-01-15 02:00:00                     6.055926   \n",
       "3  2016-01-15 03:00:00                     6.047977   \n",
       "4  2016-01-15 04:00:00                     6.148599   \n",
       "\n",
       "   final.output.concentrate_pb  final.output.concentrate_sol  \\\n",
       "0                     9.889648                      5.507324   \n",
       "1                     9.968944                      5.257781   \n",
       "2                    10.213995                      5.383759   \n",
       "3                     9.977019                      4.858634   \n",
       "4                    10.142511                      4.939416   \n",
       "\n",
       "   final.output.concentrate_au  final.output.recovery  final.output.tail_ag  \\\n",
       "0                    42.192020              70.541216             10.411962   \n",
       "1                    42.701629              69.266198             10.462676   \n",
       "2                    42.657501              68.116445             10.507046   \n",
       "3                    42.689819              68.347543             10.422762   \n",
       "4                    42.774141              66.927016             10.360302   \n",
       "\n",
       "   final.output.tail_pb  final.output.tail_sol  final.output.tail_au  ...  \\\n",
       "0              0.895447              16.904297              2.143149  ...   \n",
       "1              0.927452              16.634514              2.224930  ...   \n",
       "2              0.953716              16.208849              2.257889  ...   \n",
       "3              0.883763              16.532835              2.146849  ...   \n",
       "4              0.792826              16.525686              2.055292  ...   \n",
       "\n",
       "   secondary_cleaner.state.floatbank4_a_air  \\\n",
       "0                                 14.016835   \n",
       "1                                 13.992281   \n",
       "2                                 14.015015   \n",
       "3                                 14.036510   \n",
       "4                                 14.027298   \n",
       "\n",
       "   secondary_cleaner.state.floatbank4_a_level  \\\n",
       "0                                 -502.488007   \n",
       "1                                 -505.503262   \n",
       "2                                 -502.520901   \n",
       "3                                 -500.857308   \n",
       "4                                 -499.838632   \n",
       "\n",
       "   secondary_cleaner.state.floatbank4_b_air  \\\n",
       "0                                 12.099931   \n",
       "1                                 11.950531   \n",
       "2                                 11.912783   \n",
       "3                                 11.999550   \n",
       "4                                 11.953070   \n",
       "\n",
       "   secondary_cleaner.state.floatbank4_b_level  \\\n",
       "0                                 -504.715942   \n",
       "1                                 -501.331529   \n",
       "2                                 -501.133383   \n",
       "3                                 -501.193686   \n",
       "4                                 -501.053894   \n",
       "\n",
       "   secondary_cleaner.state.floatbank5_a_air  \\\n",
       "0                                  9.925633   \n",
       "1                                 10.039245   \n",
       "2                                 10.070913   \n",
       "3                                  9.970366   \n",
       "4                                  9.925709   \n",
       "\n",
       "   secondary_cleaner.state.floatbank5_a_level  \\\n",
       "0                                 -498.310211   \n",
       "1                                 -500.169983   \n",
       "2                                 -500.129135   \n",
       "3                                 -499.201640   \n",
       "4                                 -501.686727   \n",
       "\n",
       "   secondary_cleaner.state.floatbank5_b_air  \\\n",
       "0                                  8.079666   \n",
       "1                                  7.984757   \n",
       "2                                  8.013877   \n",
       "3                                  7.977324   \n",
       "4                                  7.894242   \n",
       "\n",
       "   secondary_cleaner.state.floatbank5_b_level  \\\n",
       "0                                 -500.470978   \n",
       "1                                 -500.582168   \n",
       "2                                 -500.517572   \n",
       "3                                 -500.255908   \n",
       "4                                 -500.356035   \n",
       "\n",
       "   secondary_cleaner.state.floatbank6_a_air  \\\n",
       "0                                 14.151341   \n",
       "1                                 13.998353   \n",
       "2                                 14.028663   \n",
       "3                                 14.005551   \n",
       "4                                 13.996647   \n",
       "\n",
       "   secondary_cleaner.state.floatbank6_a_level  \n",
       "0                                 -605.841980  \n",
       "1                                 -599.787184  \n",
       "2                                 -601.427363  \n",
       "3                                 -599.996129  \n",
       "4                                 -601.496691  \n",
       "\n",
       "[5 rows x 87 columns]"
      ]
     },
     "metadata": {},
     "output_type": "display_data"
    }
   ],
   "source": [
    "display(train.head())\n",
    "display(test.head())\n",
    "display(gold.head())"
   ]
  },
  {
   "cell_type": "code",
   "execution_count": 5,
   "metadata": {
    "scrolled": true
   },
   "outputs": [
    {
     "name": "stdout",
     "output_type": "stream",
     "text": [
      "<class 'pandas.core.frame.DataFrame'>\n",
      "RangeIndex: 14149 entries, 0 to 14148\n",
      "Data columns (total 87 columns):\n",
      " #   Column                                              Non-Null Count  Dtype  \n",
      "---  ------                                              --------------  -----  \n",
      " 0   date                                                14149 non-null  object \n",
      " 1   final.output.concentrate_ag                         14148 non-null  float64\n",
      " 2   final.output.concentrate_pb                         14148 non-null  float64\n",
      " 3   final.output.concentrate_sol                        13938 non-null  float64\n",
      " 4   final.output.concentrate_au                         14149 non-null  float64\n",
      " 5   final.output.recovery                               14149 non-null  float64\n",
      " 6   final.output.tail_ag                                14149 non-null  float64\n",
      " 7   final.output.tail_pb                                14049 non-null  float64\n",
      " 8   final.output.tail_sol                               14144 non-null  float64\n",
      " 9   final.output.tail_au                                14149 non-null  float64\n",
      " 10  primary_cleaner.input.sulfate                       14129 non-null  float64\n",
      " 11  primary_cleaner.input.depressant                    14117 non-null  float64\n",
      " 12  primary_cleaner.input.feed_size                     14149 non-null  float64\n",
      " 13  primary_cleaner.input.xanthate                      14049 non-null  float64\n",
      " 14  primary_cleaner.output.concentrate_ag               14149 non-null  float64\n",
      " 15  primary_cleaner.output.concentrate_pb               14063 non-null  float64\n",
      " 16  primary_cleaner.output.concentrate_sol              13863 non-null  float64\n",
      " 17  primary_cleaner.output.concentrate_au               14149 non-null  float64\n",
      " 18  primary_cleaner.output.tail_ag                      14148 non-null  float64\n",
      " 19  primary_cleaner.output.tail_pb                      14134 non-null  float64\n",
      " 20  primary_cleaner.output.tail_sol                     14103 non-null  float64\n",
      " 21  primary_cleaner.output.tail_au                      14149 non-null  float64\n",
      " 22  primary_cleaner.state.floatbank8_a_air              14145 non-null  float64\n",
      " 23  primary_cleaner.state.floatbank8_a_level            14148 non-null  float64\n",
      " 24  primary_cleaner.state.floatbank8_b_air              14145 non-null  float64\n",
      " 25  primary_cleaner.state.floatbank8_b_level            14148 non-null  float64\n",
      " 26  primary_cleaner.state.floatbank8_c_air              14147 non-null  float64\n",
      " 27  primary_cleaner.state.floatbank8_c_level            14148 non-null  float64\n",
      " 28  primary_cleaner.state.floatbank8_d_air              14146 non-null  float64\n",
      " 29  primary_cleaner.state.floatbank8_d_level            14148 non-null  float64\n",
      " 30  rougher.calculation.sulfate_to_au_concentrate       14148 non-null  float64\n",
      " 31  rougher.calculation.floatbank10_sulfate_to_au_feed  14148 non-null  float64\n",
      " 32  rougher.calculation.floatbank11_sulfate_to_au_feed  14148 non-null  float64\n",
      " 33  rougher.calculation.au_pb_ratio                     14149 non-null  float64\n",
      " 34  rougher.input.feed_ag                               14149 non-null  float64\n",
      " 35  rougher.input.feed_pb                               14049 non-null  float64\n",
      " 36  rougher.input.feed_rate                             14141 non-null  float64\n",
      " 37  rougher.input.feed_size                             14005 non-null  float64\n",
      " 38  rougher.input.feed_sol                              14071 non-null  float64\n",
      " 39  rougher.input.feed_au                               14149 non-null  float64\n",
      " 40  rougher.input.floatbank10_sulfate                   14120 non-null  float64\n",
      " 41  rougher.input.floatbank10_xanthate                  14141 non-null  float64\n",
      " 42  rougher.input.floatbank11_sulfate                   14113 non-null  float64\n",
      " 43  rougher.input.floatbank11_xanthate                  13721 non-null  float64\n",
      " 44  rougher.output.concentrate_ag                       14149 non-null  float64\n",
      " 45  rougher.output.concentrate_pb                       14149 non-null  float64\n",
      " 46  rougher.output.concentrate_sol                      14127 non-null  float64\n",
      " 47  rougher.output.concentrate_au                       14149 non-null  float64\n",
      " 48  rougher.output.recovery                             14149 non-null  float64\n",
      " 49  rougher.output.tail_ag                              14148 non-null  float64\n",
      " 50  rougher.output.tail_pb                              14149 non-null  float64\n",
      " 51  rougher.output.tail_sol                             14149 non-null  float64\n",
      " 52  rougher.output.tail_au                              14149 non-null  float64\n",
      " 53  rougher.state.floatbank10_a_air                     14148 non-null  float64\n",
      " 54  rougher.state.floatbank10_a_level                   14148 non-null  float64\n",
      " 55  rougher.state.floatbank10_b_air                     14148 non-null  float64\n",
      " 56  rougher.state.floatbank10_b_level                   14148 non-null  float64\n",
      " 57  rougher.state.floatbank10_c_air                     14148 non-null  float64\n",
      " 58  rougher.state.floatbank10_c_level                   14148 non-null  float64\n",
      " 59  rougher.state.floatbank10_d_air                     14149 non-null  float64\n",
      " 60  rougher.state.floatbank10_d_level                   14149 non-null  float64\n",
      " 61  rougher.state.floatbank10_e_air                     13713 non-null  float64\n",
      " 62  rougher.state.floatbank10_e_level                   14149 non-null  float64\n",
      " 63  rougher.state.floatbank10_f_air                     14149 non-null  float64\n",
      " 64  rougher.state.floatbank10_f_level                   14149 non-null  float64\n",
      " 65  secondary_cleaner.output.tail_ag                    14147 non-null  float64\n",
      " 66  secondary_cleaner.output.tail_pb                    14139 non-null  float64\n",
      " 67  secondary_cleaner.output.tail_sol                   12544 non-null  float64\n",
      " 68  secondary_cleaner.output.tail_au                    14149 non-null  float64\n",
      " 69  secondary_cleaner.state.floatbank2_a_air            13932 non-null  float64\n",
      " 70  secondary_cleaner.state.floatbank2_a_level          14148 non-null  float64\n",
      " 71  secondary_cleaner.state.floatbank2_b_air            14128 non-null  float64\n",
      " 72  secondary_cleaner.state.floatbank2_b_level          14148 non-null  float64\n",
      " 73  secondary_cleaner.state.floatbank3_a_air            14145 non-null  float64\n",
      " 74  secondary_cleaner.state.floatbank3_a_level          14148 non-null  float64\n",
      " 75  secondary_cleaner.state.floatbank3_b_air            14148 non-null  float64\n",
      " 76  secondary_cleaner.state.floatbank3_b_level          14148 non-null  float64\n",
      " 77  secondary_cleaner.state.floatbank4_a_air            14143 non-null  float64\n",
      " 78  secondary_cleaner.state.floatbank4_a_level          14148 non-null  float64\n",
      " 79  secondary_cleaner.state.floatbank4_b_air            14148 non-null  float64\n",
      " 80  secondary_cleaner.state.floatbank4_b_level          14148 non-null  float64\n",
      " 81  secondary_cleaner.state.floatbank5_a_air            14148 non-null  float64\n",
      " 82  secondary_cleaner.state.floatbank5_a_level          14148 non-null  float64\n",
      " 83  secondary_cleaner.state.floatbank5_b_air            14148 non-null  float64\n",
      " 84  secondary_cleaner.state.floatbank5_b_level          14148 non-null  float64\n",
      " 85  secondary_cleaner.state.floatbank6_a_air            14147 non-null  float64\n",
      " 86  secondary_cleaner.state.floatbank6_a_level          14148 non-null  float64\n",
      "dtypes: float64(86), object(1)\n",
      "memory usage: 9.4+ MB\n"
     ]
    },
    {
     "data": {
      "text/plain": [
       "None"
      ]
     },
     "metadata": {},
     "output_type": "display_data"
    },
    {
     "name": "stdout",
     "output_type": "stream",
     "text": [
      "<class 'pandas.core.frame.DataFrame'>\n",
      "RangeIndex: 5290 entries, 0 to 5289\n",
      "Data columns (total 53 columns):\n",
      " #   Column                                      Non-Null Count  Dtype  \n",
      "---  ------                                      --------------  -----  \n",
      " 0   date                                        5290 non-null   object \n",
      " 1   primary_cleaner.input.sulfate               5286 non-null   float64\n",
      " 2   primary_cleaner.input.depressant            5285 non-null   float64\n",
      " 3   primary_cleaner.input.feed_size             5290 non-null   float64\n",
      " 4   primary_cleaner.input.xanthate              5286 non-null   float64\n",
      " 5   primary_cleaner.state.floatbank8_a_air      5290 non-null   float64\n",
      " 6   primary_cleaner.state.floatbank8_a_level    5290 non-null   float64\n",
      " 7   primary_cleaner.state.floatbank8_b_air      5290 non-null   float64\n",
      " 8   primary_cleaner.state.floatbank8_b_level    5290 non-null   float64\n",
      " 9   primary_cleaner.state.floatbank8_c_air      5290 non-null   float64\n",
      " 10  primary_cleaner.state.floatbank8_c_level    5290 non-null   float64\n",
      " 11  primary_cleaner.state.floatbank8_d_air      5290 non-null   float64\n",
      " 12  primary_cleaner.state.floatbank8_d_level    5290 non-null   float64\n",
      " 13  rougher.input.feed_ag                       5290 non-null   float64\n",
      " 14  rougher.input.feed_pb                       5290 non-null   float64\n",
      " 15  rougher.input.feed_rate                     5287 non-null   float64\n",
      " 16  rougher.input.feed_size                     5289 non-null   float64\n",
      " 17  rougher.input.feed_sol                      5269 non-null   float64\n",
      " 18  rougher.input.feed_au                       5290 non-null   float64\n",
      " 19  rougher.input.floatbank10_sulfate           5285 non-null   float64\n",
      " 20  rougher.input.floatbank10_xanthate          5290 non-null   float64\n",
      " 21  rougher.input.floatbank11_sulfate           5282 non-null   float64\n",
      " 22  rougher.input.floatbank11_xanthate          5265 non-null   float64\n",
      " 23  rougher.state.floatbank10_a_air             5290 non-null   float64\n",
      " 24  rougher.state.floatbank10_a_level           5290 non-null   float64\n",
      " 25  rougher.state.floatbank10_b_air             5290 non-null   float64\n",
      " 26  rougher.state.floatbank10_b_level           5290 non-null   float64\n",
      " 27  rougher.state.floatbank10_c_air             5290 non-null   float64\n",
      " 28  rougher.state.floatbank10_c_level           5290 non-null   float64\n",
      " 29  rougher.state.floatbank10_d_air             5290 non-null   float64\n",
      " 30  rougher.state.floatbank10_d_level           5290 non-null   float64\n",
      " 31  rougher.state.floatbank10_e_air             5290 non-null   float64\n",
      " 32  rougher.state.floatbank10_e_level           5290 non-null   float64\n",
      " 33  rougher.state.floatbank10_f_air             5290 non-null   float64\n",
      " 34  rougher.state.floatbank10_f_level           5290 non-null   float64\n",
      " 35  secondary_cleaner.state.floatbank2_a_air    5287 non-null   float64\n",
      " 36  secondary_cleaner.state.floatbank2_a_level  5290 non-null   float64\n",
      " 37  secondary_cleaner.state.floatbank2_b_air    5288 non-null   float64\n",
      " 38  secondary_cleaner.state.floatbank2_b_level  5290 non-null   float64\n",
      " 39  secondary_cleaner.state.floatbank3_a_air    5281 non-null   float64\n",
      " 40  secondary_cleaner.state.floatbank3_a_level  5290 non-null   float64\n",
      " 41  secondary_cleaner.state.floatbank3_b_air    5290 non-null   float64\n",
      " 42  secondary_cleaner.state.floatbank3_b_level  5290 non-null   float64\n",
      " 43  secondary_cleaner.state.floatbank4_a_air    5290 non-null   float64\n",
      " 44  secondary_cleaner.state.floatbank4_a_level  5290 non-null   float64\n",
      " 45  secondary_cleaner.state.floatbank4_b_air    5290 non-null   float64\n",
      " 46  secondary_cleaner.state.floatbank4_b_level  5290 non-null   float64\n",
      " 47  secondary_cleaner.state.floatbank5_a_air    5290 non-null   float64\n",
      " 48  secondary_cleaner.state.floatbank5_a_level  5290 non-null   float64\n",
      " 49  secondary_cleaner.state.floatbank5_b_air    5290 non-null   float64\n",
      " 50  secondary_cleaner.state.floatbank5_b_level  5290 non-null   float64\n",
      " 51  secondary_cleaner.state.floatbank6_a_air    5290 non-null   float64\n",
      " 52  secondary_cleaner.state.floatbank6_a_level  5290 non-null   float64\n",
      "dtypes: float64(52), object(1)\n",
      "memory usage: 2.1+ MB\n"
     ]
    },
    {
     "data": {
      "text/plain": [
       "None"
      ]
     },
     "metadata": {},
     "output_type": "display_data"
    },
    {
     "name": "stdout",
     "output_type": "stream",
     "text": [
      "<class 'pandas.core.frame.DataFrame'>\n",
      "RangeIndex: 19439 entries, 0 to 19438\n",
      "Data columns (total 87 columns):\n",
      " #   Column                                              Non-Null Count  Dtype  \n",
      "---  ------                                              --------------  -----  \n",
      " 0   date                                                19439 non-null  object \n",
      " 1   final.output.concentrate_ag                         19438 non-null  float64\n",
      " 2   final.output.concentrate_pb                         19438 non-null  float64\n",
      " 3   final.output.concentrate_sol                        19228 non-null  float64\n",
      " 4   final.output.concentrate_au                         19439 non-null  float64\n",
      " 5   final.output.recovery                               19439 non-null  float64\n",
      " 6   final.output.tail_ag                                19438 non-null  float64\n",
      " 7   final.output.tail_pb                                19338 non-null  float64\n",
      " 8   final.output.tail_sol                               19433 non-null  float64\n",
      " 9   final.output.tail_au                                19439 non-null  float64\n",
      " 10  primary_cleaner.input.sulfate                       19415 non-null  float64\n",
      " 11  primary_cleaner.input.depressant                    19402 non-null  float64\n",
      " 12  primary_cleaner.input.feed_size                     19439 non-null  float64\n",
      " 13  primary_cleaner.input.xanthate                      19335 non-null  float64\n",
      " 14  primary_cleaner.output.concentrate_ag               19439 non-null  float64\n",
      " 15  primary_cleaner.output.concentrate_pb               19323 non-null  float64\n",
      " 16  primary_cleaner.output.concentrate_sol              19069 non-null  float64\n",
      " 17  primary_cleaner.output.concentrate_au               19439 non-null  float64\n",
      " 18  primary_cleaner.output.tail_ag                      19435 non-null  float64\n",
      " 19  primary_cleaner.output.tail_pb                      19418 non-null  float64\n",
      " 20  primary_cleaner.output.tail_sol                     19377 non-null  float64\n",
      " 21  primary_cleaner.output.tail_au                      19439 non-null  float64\n",
      " 22  primary_cleaner.state.floatbank8_a_air              19435 non-null  float64\n",
      " 23  primary_cleaner.state.floatbank8_a_level            19438 non-null  float64\n",
      " 24  primary_cleaner.state.floatbank8_b_air              19435 non-null  float64\n",
      " 25  primary_cleaner.state.floatbank8_b_level            19438 non-null  float64\n",
      " 26  primary_cleaner.state.floatbank8_c_air              19437 non-null  float64\n",
      " 27  primary_cleaner.state.floatbank8_c_level            19438 non-null  float64\n",
      " 28  primary_cleaner.state.floatbank8_d_air              19436 non-null  float64\n",
      " 29  primary_cleaner.state.floatbank8_d_level            19438 non-null  float64\n",
      " 30  rougher.calculation.sulfate_to_au_concentrate       19437 non-null  float64\n",
      " 31  rougher.calculation.floatbank10_sulfate_to_au_feed  19437 non-null  float64\n",
      " 32  rougher.calculation.floatbank11_sulfate_to_au_feed  19437 non-null  float64\n",
      " 33  rougher.calculation.au_pb_ratio                     19439 non-null  float64\n",
      " 34  rougher.input.feed_ag                               19439 non-null  float64\n",
      " 35  rougher.input.feed_pb                               19339 non-null  float64\n",
      " 36  rougher.input.feed_rate                             19428 non-null  float64\n",
      " 37  rougher.input.feed_size                             19294 non-null  float64\n",
      " 38  rougher.input.feed_sol                              19340 non-null  float64\n",
      " 39  rougher.input.feed_au                               19439 non-null  float64\n",
      " 40  rougher.input.floatbank10_sulfate                   19405 non-null  float64\n",
      " 41  rougher.input.floatbank10_xanthate                  19431 non-null  float64\n",
      " 42  rougher.input.floatbank11_sulfate                   19395 non-null  float64\n",
      " 43  rougher.input.floatbank11_xanthate                  18986 non-null  float64\n",
      " 44  rougher.output.concentrate_ag                       19439 non-null  float64\n",
      " 45  rougher.output.concentrate_pb                       19439 non-null  float64\n",
      " 46  rougher.output.concentrate_sol                      19416 non-null  float64\n",
      " 47  rougher.output.concentrate_au                       19439 non-null  float64\n",
      " 48  rougher.output.recovery                             19439 non-null  float64\n",
      " 49  rougher.output.tail_ag                              19438 non-null  float64\n",
      " 50  rougher.output.tail_pb                              19439 non-null  float64\n",
      " 51  rougher.output.tail_sol                             19439 non-null  float64\n",
      " 52  rougher.output.tail_au                              19439 non-null  float64\n",
      " 53  rougher.state.floatbank10_a_air                     19438 non-null  float64\n",
      " 54  rougher.state.floatbank10_a_level                   19438 non-null  float64\n",
      " 55  rougher.state.floatbank10_b_air                     19438 non-null  float64\n",
      " 56  rougher.state.floatbank10_b_level                   19438 non-null  float64\n",
      " 57  rougher.state.floatbank10_c_air                     19438 non-null  float64\n",
      " 58  rougher.state.floatbank10_c_level                   19438 non-null  float64\n",
      " 59  rougher.state.floatbank10_d_air                     19439 non-null  float64\n",
      " 60  rougher.state.floatbank10_d_level                   19439 non-null  float64\n",
      " 61  rougher.state.floatbank10_e_air                     19003 non-null  float64\n",
      " 62  rougher.state.floatbank10_e_level                   19439 non-null  float64\n",
      " 63  rougher.state.floatbank10_f_air                     19439 non-null  float64\n",
      " 64  rougher.state.floatbank10_f_level                   19439 non-null  float64\n",
      " 65  secondary_cleaner.output.tail_ag                    19437 non-null  float64\n",
      " 66  secondary_cleaner.output.tail_pb                    19427 non-null  float64\n",
      " 67  secondary_cleaner.output.tail_sol                   17691 non-null  float64\n",
      " 68  secondary_cleaner.output.tail_au                    19439 non-null  float64\n",
      " 69  secondary_cleaner.state.floatbank2_a_air            19219 non-null  float64\n",
      " 70  secondary_cleaner.state.floatbank2_a_level          19438 non-null  float64\n",
      " 71  secondary_cleaner.state.floatbank2_b_air            19416 non-null  float64\n",
      " 72  secondary_cleaner.state.floatbank2_b_level          19438 non-null  float64\n",
      " 73  secondary_cleaner.state.floatbank3_a_air            19426 non-null  float64\n",
      " 74  secondary_cleaner.state.floatbank3_a_level          19438 non-null  float64\n",
      " 75  secondary_cleaner.state.floatbank3_b_air            19438 non-null  float64\n",
      " 76  secondary_cleaner.state.floatbank3_b_level          19438 non-null  float64\n",
      " 77  secondary_cleaner.state.floatbank4_a_air            19433 non-null  float64\n",
      " 78  secondary_cleaner.state.floatbank4_a_level          19438 non-null  float64\n",
      " 79  secondary_cleaner.state.floatbank4_b_air            19438 non-null  float64\n",
      " 80  secondary_cleaner.state.floatbank4_b_level          19438 non-null  float64\n",
      " 81  secondary_cleaner.state.floatbank5_a_air            19438 non-null  float64\n",
      " 82  secondary_cleaner.state.floatbank5_a_level          19438 non-null  float64\n",
      " 83  secondary_cleaner.state.floatbank5_b_air            19438 non-null  float64\n",
      " 84  secondary_cleaner.state.floatbank5_b_level          19438 non-null  float64\n",
      " 85  secondary_cleaner.state.floatbank6_a_air            19437 non-null  float64\n",
      " 86  secondary_cleaner.state.floatbank6_a_level          19438 non-null  float64\n",
      "dtypes: float64(86), object(1)\n",
      "memory usage: 12.9+ MB\n"
     ]
    },
    {
     "data": {
      "text/plain": [
       "None"
      ]
     },
     "metadata": {},
     "output_type": "display_data"
    }
   ],
   "source": [
    "display(train.info())\n",
    "display(test.info())\n",
    "display(gold.info())"
   ]
  },
  {
   "cell_type": "code",
   "execution_count": 6,
   "metadata": {},
   "outputs": [
    {
     "data": {
      "text/plain": [
       "0"
      ]
     },
     "execution_count": 6,
     "metadata": {},
     "output_type": "execute_result"
    }
   ],
   "source": [
    "test.duplicated().sum()"
   ]
  },
  {
   "cell_type": "code",
   "execution_count": 7,
   "metadata": {},
   "outputs": [
    {
     "data": {
      "text/plain": [
       "0"
      ]
     },
     "execution_count": 7,
     "metadata": {},
     "output_type": "execute_result"
    }
   ],
   "source": [
    "train.duplicated().sum()"
   ]
  },
  {
   "cell_type": "code",
   "execution_count": 8,
   "metadata": {},
   "outputs": [
    {
     "data": {
      "text/plain": [
       "0"
      ]
     },
     "execution_count": 8,
     "metadata": {},
     "output_type": "execute_result"
    }
   ],
   "source": [
    "gold.duplicated().sum()"
   ]
  },
  {
   "cell_type": "code",
   "execution_count": 9,
   "metadata": {},
   "outputs": [
    {
     "data": {
      "text/html": [
       "<div>\n",
       "<style scoped>\n",
       "    .dataframe tbody tr th:only-of-type {\n",
       "        vertical-align: middle;\n",
       "    }\n",
       "\n",
       "    .dataframe tbody tr th {\n",
       "        vertical-align: top;\n",
       "    }\n",
       "\n",
       "    .dataframe thead th {\n",
       "        text-align: right;\n",
       "    }\n",
       "</style>\n",
       "<table border=\"1\" class=\"dataframe\">\n",
       "  <thead>\n",
       "    <tr style=\"text-align: right;\">\n",
       "      <th></th>\n",
       "      <th>final.output.concentrate_ag</th>\n",
       "      <th>final.output.concentrate_pb</th>\n",
       "      <th>final.output.concentrate_sol</th>\n",
       "      <th>final.output.concentrate_au</th>\n",
       "      <th>final.output.recovery</th>\n",
       "      <th>final.output.tail_ag</th>\n",
       "      <th>final.output.tail_pb</th>\n",
       "      <th>final.output.tail_sol</th>\n",
       "      <th>final.output.tail_au</th>\n",
       "      <th>primary_cleaner.input.sulfate</th>\n",
       "      <th>...</th>\n",
       "      <th>secondary_cleaner.state.floatbank4_a_air</th>\n",
       "      <th>secondary_cleaner.state.floatbank4_a_level</th>\n",
       "      <th>secondary_cleaner.state.floatbank4_b_air</th>\n",
       "      <th>secondary_cleaner.state.floatbank4_b_level</th>\n",
       "      <th>secondary_cleaner.state.floatbank5_a_air</th>\n",
       "      <th>secondary_cleaner.state.floatbank5_a_level</th>\n",
       "      <th>secondary_cleaner.state.floatbank5_b_air</th>\n",
       "      <th>secondary_cleaner.state.floatbank5_b_level</th>\n",
       "      <th>secondary_cleaner.state.floatbank6_a_air</th>\n",
       "      <th>secondary_cleaner.state.floatbank6_a_level</th>\n",
       "    </tr>\n",
       "  </thead>\n",
       "  <tbody>\n",
       "    <tr>\n",
       "      <th>count</th>\n",
       "      <td>14148.000000</td>\n",
       "      <td>14148.000000</td>\n",
       "      <td>13938.000000</td>\n",
       "      <td>14149.000000</td>\n",
       "      <td>14149.000000</td>\n",
       "      <td>14149.000000</td>\n",
       "      <td>14049.000000</td>\n",
       "      <td>14144.000000</td>\n",
       "      <td>14149.000000</td>\n",
       "      <td>14129.000000</td>\n",
       "      <td>...</td>\n",
       "      <td>14143.000000</td>\n",
       "      <td>14148.000000</td>\n",
       "      <td>14148.000000</td>\n",
       "      <td>14148.000000</td>\n",
       "      <td>14148.000000</td>\n",
       "      <td>14148.000000</td>\n",
       "      <td>14148.000000</td>\n",
       "      <td>14148.000000</td>\n",
       "      <td>14147.000000</td>\n",
       "      <td>14148.000000</td>\n",
       "    </tr>\n",
       "    <tr>\n",
       "      <th>mean</th>\n",
       "      <td>5.142034</td>\n",
       "      <td>10.132960</td>\n",
       "      <td>9.202849</td>\n",
       "      <td>44.003792</td>\n",
       "      <td>66.518832</td>\n",
       "      <td>9.607035</td>\n",
       "      <td>2.597298</td>\n",
       "      <td>10.512122</td>\n",
       "      <td>2.918421</td>\n",
       "      <td>133.320659</td>\n",
       "      <td>...</td>\n",
       "      <td>19.985454</td>\n",
       "      <td>-478.696836</td>\n",
       "      <td>15.487065</td>\n",
       "      <td>-460.229416</td>\n",
       "      <td>16.775136</td>\n",
       "      <td>-483.956022</td>\n",
       "      <td>13.064590</td>\n",
       "      <td>-483.966564</td>\n",
       "      <td>19.577539</td>\n",
       "      <td>-506.798480</td>\n",
       "    </tr>\n",
       "    <tr>\n",
       "      <th>std</th>\n",
       "      <td>1.369586</td>\n",
       "      <td>1.654930</td>\n",
       "      <td>2.790516</td>\n",
       "      <td>4.905261</td>\n",
       "      <td>10.295402</td>\n",
       "      <td>2.319069</td>\n",
       "      <td>0.971843</td>\n",
       "      <td>3.003617</td>\n",
       "      <td>0.903712</td>\n",
       "      <td>39.431659</td>\n",
       "      <td>...</td>\n",
       "      <td>5.657723</td>\n",
       "      <td>50.736021</td>\n",
       "      <td>5.255655</td>\n",
       "      <td>58.843586</td>\n",
       "      <td>5.831906</td>\n",
       "      <td>37.892788</td>\n",
       "      <td>5.765617</td>\n",
       "      <td>39.207913</td>\n",
       "      <td>5.764417</td>\n",
       "      <td>37.079249</td>\n",
       "    </tr>\n",
       "    <tr>\n",
       "      <th>min</th>\n",
       "      <td>0.000000</td>\n",
       "      <td>0.000000</td>\n",
       "      <td>0.000000</td>\n",
       "      <td>0.000000</td>\n",
       "      <td>0.000000</td>\n",
       "      <td>0.000000</td>\n",
       "      <td>0.000000</td>\n",
       "      <td>0.000000</td>\n",
       "      <td>0.000000</td>\n",
       "      <td>0.003112</td>\n",
       "      <td>...</td>\n",
       "      <td>0.000000</td>\n",
       "      <td>-799.709069</td>\n",
       "      <td>0.000000</td>\n",
       "      <td>-799.889113</td>\n",
       "      <td>-0.372054</td>\n",
       "      <td>-797.142475</td>\n",
       "      <td>0.646208</td>\n",
       "      <td>-800.006180</td>\n",
       "      <td>0.195324</td>\n",
       "      <td>-809.398668</td>\n",
       "    </tr>\n",
       "    <tr>\n",
       "      <th>25%</th>\n",
       "      <td>4.211620</td>\n",
       "      <td>9.297355</td>\n",
       "      <td>7.484645</td>\n",
       "      <td>43.276111</td>\n",
       "      <td>62.545817</td>\n",
       "      <td>7.997429</td>\n",
       "      <td>1.905973</td>\n",
       "      <td>8.811324</td>\n",
       "      <td>2.368607</td>\n",
       "      <td>107.006651</td>\n",
       "      <td>...</td>\n",
       "      <td>14.990775</td>\n",
       "      <td>-500.628656</td>\n",
       "      <td>11.894558</td>\n",
       "      <td>-500.149000</td>\n",
       "      <td>11.083980</td>\n",
       "      <td>-500.363177</td>\n",
       "      <td>8.994405</td>\n",
       "      <td>-500.105994</td>\n",
       "      <td>14.989304</td>\n",
       "      <td>-500.745104</td>\n",
       "    </tr>\n",
       "    <tr>\n",
       "      <th>50%</th>\n",
       "      <td>4.994652</td>\n",
       "      <td>10.297144</td>\n",
       "      <td>8.845462</td>\n",
       "      <td>44.872436</td>\n",
       "      <td>67.432775</td>\n",
       "      <td>9.480270</td>\n",
       "      <td>2.592022</td>\n",
       "      <td>10.514621</td>\n",
       "      <td>2.851025</td>\n",
       "      <td>133.018328</td>\n",
       "      <td>...</td>\n",
       "      <td>20.001789</td>\n",
       "      <td>-499.681450</td>\n",
       "      <td>14.975536</td>\n",
       "      <td>-499.388738</td>\n",
       "      <td>17.932223</td>\n",
       "      <td>-499.702452</td>\n",
       "      <td>11.997547</td>\n",
       "      <td>-499.914556</td>\n",
       "      <td>19.984175</td>\n",
       "      <td>-500.061431</td>\n",
       "    </tr>\n",
       "    <tr>\n",
       "      <th>75%</th>\n",
       "      <td>5.859540</td>\n",
       "      <td>11.170603</td>\n",
       "      <td>10.487508</td>\n",
       "      <td>46.166425</td>\n",
       "      <td>72.346428</td>\n",
       "      <td>11.003707</td>\n",
       "      <td>3.241723</td>\n",
       "      <td>11.933009</td>\n",
       "      <td>3.434764</td>\n",
       "      <td>159.825396</td>\n",
       "      <td>...</td>\n",
       "      <td>24.990826</td>\n",
       "      <td>-477.472413</td>\n",
       "      <td>20.059375</td>\n",
       "      <td>-400.039008</td>\n",
       "      <td>21.346550</td>\n",
       "      <td>-487.712108</td>\n",
       "      <td>17.982903</td>\n",
       "      <td>-453.186936</td>\n",
       "      <td>24.991623</td>\n",
       "      <td>-499.536466</td>\n",
       "    </tr>\n",
       "    <tr>\n",
       "      <th>max</th>\n",
       "      <td>16.001945</td>\n",
       "      <td>17.031899</td>\n",
       "      <td>18.124851</td>\n",
       "      <td>52.756638</td>\n",
       "      <td>100.000000</td>\n",
       "      <td>19.552149</td>\n",
       "      <td>5.639565</td>\n",
       "      <td>22.317730</td>\n",
       "      <td>8.197408</td>\n",
       "      <td>250.127834</td>\n",
       "      <td>...</td>\n",
       "      <td>30.115735</td>\n",
       "      <td>-245.239184</td>\n",
       "      <td>24.007913</td>\n",
       "      <td>-145.071088</td>\n",
       "      <td>43.709931</td>\n",
       "      <td>-275.073125</td>\n",
       "      <td>27.926001</td>\n",
       "      <td>-157.396071</td>\n",
       "      <td>32.188906</td>\n",
       "      <td>-104.427459</td>\n",
       "    </tr>\n",
       "  </tbody>\n",
       "</table>\n",
       "<p>8 rows × 86 columns</p>\n",
       "</div>"
      ],
      "text/plain": [
       "       final.output.concentrate_ag  final.output.concentrate_pb  \\\n",
       "count                 14148.000000                 14148.000000   \n",
       "mean                      5.142034                    10.132960   \n",
       "std                       1.369586                     1.654930   \n",
       "min                       0.000000                     0.000000   \n",
       "25%                       4.211620                     9.297355   \n",
       "50%                       4.994652                    10.297144   \n",
       "75%                       5.859540                    11.170603   \n",
       "max                      16.001945                    17.031899   \n",
       "\n",
       "       final.output.concentrate_sol  final.output.concentrate_au  \\\n",
       "count                  13938.000000                 14149.000000   \n",
       "mean                       9.202849                    44.003792   \n",
       "std                        2.790516                     4.905261   \n",
       "min                        0.000000                     0.000000   \n",
       "25%                        7.484645                    43.276111   \n",
       "50%                        8.845462                    44.872436   \n",
       "75%                       10.487508                    46.166425   \n",
       "max                       18.124851                    52.756638   \n",
       "\n",
       "       final.output.recovery  final.output.tail_ag  final.output.tail_pb  \\\n",
       "count           14149.000000          14149.000000          14049.000000   \n",
       "mean               66.518832              9.607035              2.597298   \n",
       "std                10.295402              2.319069              0.971843   \n",
       "min                 0.000000              0.000000              0.000000   \n",
       "25%                62.545817              7.997429              1.905973   \n",
       "50%                67.432775              9.480270              2.592022   \n",
       "75%                72.346428             11.003707              3.241723   \n",
       "max               100.000000             19.552149              5.639565   \n",
       "\n",
       "       final.output.tail_sol  final.output.tail_au  \\\n",
       "count           14144.000000          14149.000000   \n",
       "mean               10.512122              2.918421   \n",
       "std                 3.003617              0.903712   \n",
       "min                 0.000000              0.000000   \n",
       "25%                 8.811324              2.368607   \n",
       "50%                10.514621              2.851025   \n",
       "75%                11.933009              3.434764   \n",
       "max                22.317730              8.197408   \n",
       "\n",
       "       primary_cleaner.input.sulfate  ...  \\\n",
       "count                   14129.000000  ...   \n",
       "mean                      133.320659  ...   \n",
       "std                        39.431659  ...   \n",
       "min                         0.003112  ...   \n",
       "25%                       107.006651  ...   \n",
       "50%                       133.018328  ...   \n",
       "75%                       159.825396  ...   \n",
       "max                       250.127834  ...   \n",
       "\n",
       "       secondary_cleaner.state.floatbank4_a_air  \\\n",
       "count                              14143.000000   \n",
       "mean                                  19.985454   \n",
       "std                                    5.657723   \n",
       "min                                    0.000000   \n",
       "25%                                   14.990775   \n",
       "50%                                   20.001789   \n",
       "75%                                   24.990826   \n",
       "max                                   30.115735   \n",
       "\n",
       "       secondary_cleaner.state.floatbank4_a_level  \\\n",
       "count                                14148.000000   \n",
       "mean                                  -478.696836   \n",
       "std                                     50.736021   \n",
       "min                                   -799.709069   \n",
       "25%                                   -500.628656   \n",
       "50%                                   -499.681450   \n",
       "75%                                   -477.472413   \n",
       "max                                   -245.239184   \n",
       "\n",
       "       secondary_cleaner.state.floatbank4_b_air  \\\n",
       "count                              14148.000000   \n",
       "mean                                  15.487065   \n",
       "std                                    5.255655   \n",
       "min                                    0.000000   \n",
       "25%                                   11.894558   \n",
       "50%                                   14.975536   \n",
       "75%                                   20.059375   \n",
       "max                                   24.007913   \n",
       "\n",
       "       secondary_cleaner.state.floatbank4_b_level  \\\n",
       "count                                14148.000000   \n",
       "mean                                  -460.229416   \n",
       "std                                     58.843586   \n",
       "min                                   -799.889113   \n",
       "25%                                   -500.149000   \n",
       "50%                                   -499.388738   \n",
       "75%                                   -400.039008   \n",
       "max                                   -145.071088   \n",
       "\n",
       "       secondary_cleaner.state.floatbank5_a_air  \\\n",
       "count                              14148.000000   \n",
       "mean                                  16.775136   \n",
       "std                                    5.831906   \n",
       "min                                   -0.372054   \n",
       "25%                                   11.083980   \n",
       "50%                                   17.932223   \n",
       "75%                                   21.346550   \n",
       "max                                   43.709931   \n",
       "\n",
       "       secondary_cleaner.state.floatbank5_a_level  \\\n",
       "count                                14148.000000   \n",
       "mean                                  -483.956022   \n",
       "std                                     37.892788   \n",
       "min                                   -797.142475   \n",
       "25%                                   -500.363177   \n",
       "50%                                   -499.702452   \n",
       "75%                                   -487.712108   \n",
       "max                                   -275.073125   \n",
       "\n",
       "       secondary_cleaner.state.floatbank5_b_air  \\\n",
       "count                              14148.000000   \n",
       "mean                                  13.064590   \n",
       "std                                    5.765617   \n",
       "min                                    0.646208   \n",
       "25%                                    8.994405   \n",
       "50%                                   11.997547   \n",
       "75%                                   17.982903   \n",
       "max                                   27.926001   \n",
       "\n",
       "       secondary_cleaner.state.floatbank5_b_level  \\\n",
       "count                                14148.000000   \n",
       "mean                                  -483.966564   \n",
       "std                                     39.207913   \n",
       "min                                   -800.006180   \n",
       "25%                                   -500.105994   \n",
       "50%                                   -499.914556   \n",
       "75%                                   -453.186936   \n",
       "max                                   -157.396071   \n",
       "\n",
       "       secondary_cleaner.state.floatbank6_a_air  \\\n",
       "count                              14147.000000   \n",
       "mean                                  19.577539   \n",
       "std                                    5.764417   \n",
       "min                                    0.195324   \n",
       "25%                                   14.989304   \n",
       "50%                                   19.984175   \n",
       "75%                                   24.991623   \n",
       "max                                   32.188906   \n",
       "\n",
       "       secondary_cleaner.state.floatbank6_a_level  \n",
       "count                                14148.000000  \n",
       "mean                                  -506.798480  \n",
       "std                                     37.079249  \n",
       "min                                   -809.398668  \n",
       "25%                                   -500.745104  \n",
       "50%                                   -500.061431  \n",
       "75%                                   -499.536466  \n",
       "max                                   -104.427459  \n",
       "\n",
       "[8 rows x 86 columns]"
      ]
     },
     "execution_count": 9,
     "metadata": {},
     "output_type": "execute_result"
    }
   ],
   "source": [
    "train.describe()"
   ]
  },
  {
   "cell_type": "code",
   "execution_count": 10,
   "metadata": {},
   "outputs": [
    {
     "data": {
      "text/html": [
       "<div>\n",
       "<style scoped>\n",
       "    .dataframe tbody tr th:only-of-type {\n",
       "        vertical-align: middle;\n",
       "    }\n",
       "\n",
       "    .dataframe tbody tr th {\n",
       "        vertical-align: top;\n",
       "    }\n",
       "\n",
       "    .dataframe thead th {\n",
       "        text-align: right;\n",
       "    }\n",
       "</style>\n",
       "<table border=\"1\" class=\"dataframe\">\n",
       "  <thead>\n",
       "    <tr style=\"text-align: right;\">\n",
       "      <th></th>\n",
       "      <th>primary_cleaner.input.sulfate</th>\n",
       "      <th>primary_cleaner.input.depressant</th>\n",
       "      <th>primary_cleaner.input.feed_size</th>\n",
       "      <th>primary_cleaner.input.xanthate</th>\n",
       "      <th>primary_cleaner.state.floatbank8_a_air</th>\n",
       "      <th>primary_cleaner.state.floatbank8_a_level</th>\n",
       "      <th>primary_cleaner.state.floatbank8_b_air</th>\n",
       "      <th>primary_cleaner.state.floatbank8_b_level</th>\n",
       "      <th>primary_cleaner.state.floatbank8_c_air</th>\n",
       "      <th>primary_cleaner.state.floatbank8_c_level</th>\n",
       "      <th>...</th>\n",
       "      <th>secondary_cleaner.state.floatbank4_a_air</th>\n",
       "      <th>secondary_cleaner.state.floatbank4_a_level</th>\n",
       "      <th>secondary_cleaner.state.floatbank4_b_air</th>\n",
       "      <th>secondary_cleaner.state.floatbank4_b_level</th>\n",
       "      <th>secondary_cleaner.state.floatbank5_a_air</th>\n",
       "      <th>secondary_cleaner.state.floatbank5_a_level</th>\n",
       "      <th>secondary_cleaner.state.floatbank5_b_air</th>\n",
       "      <th>secondary_cleaner.state.floatbank5_b_level</th>\n",
       "      <th>secondary_cleaner.state.floatbank6_a_air</th>\n",
       "      <th>secondary_cleaner.state.floatbank6_a_level</th>\n",
       "    </tr>\n",
       "  </thead>\n",
       "  <tbody>\n",
       "    <tr>\n",
       "      <th>count</th>\n",
       "      <td>5286.000000</td>\n",
       "      <td>5285.000000</td>\n",
       "      <td>5290.000000</td>\n",
       "      <td>5286.000000</td>\n",
       "      <td>5.290000e+03</td>\n",
       "      <td>5290.000000</td>\n",
       "      <td>5.290000e+03</td>\n",
       "      <td>5290.000000</td>\n",
       "      <td>5.290000e+03</td>\n",
       "      <td>5290.000000</td>\n",
       "      <td>...</td>\n",
       "      <td>5.290000e+03</td>\n",
       "      <td>5290.000000</td>\n",
       "      <td>5.290000e+03</td>\n",
       "      <td>5290.000000</td>\n",
       "      <td>5290.000000</td>\n",
       "      <td>5290.000000</td>\n",
       "      <td>5290.000000</td>\n",
       "      <td>5290.000000</td>\n",
       "      <td>5290.000000</td>\n",
       "      <td>5290.000000</td>\n",
       "    </tr>\n",
       "    <tr>\n",
       "      <th>mean</th>\n",
       "      <td>174.839652</td>\n",
       "      <td>8.683596</td>\n",
       "      <td>7.266339</td>\n",
       "      <td>1.383803</td>\n",
       "      <td>1.539494e+03</td>\n",
       "      <td>-497.665883</td>\n",
       "      <td>1.545174e+03</td>\n",
       "      <td>-500.273098</td>\n",
       "      <td>1.527272e+03</td>\n",
       "      <td>-498.330680</td>\n",
       "      <td>...</td>\n",
       "      <td>1.632007e+01</td>\n",
       "      <td>-505.144570</td>\n",
       "      <td>1.373544e+01</td>\n",
       "      <td>-463.349858</td>\n",
       "      <td>12.804186</td>\n",
       "      <td>-501.329122</td>\n",
       "      <td>9.881145</td>\n",
       "      <td>-495.663398</td>\n",
       "      <td>17.304935</td>\n",
       "      <td>-501.793193</td>\n",
       "    </tr>\n",
       "    <tr>\n",
       "      <th>std</th>\n",
       "      <td>43.027080</td>\n",
       "      <td>3.072050</td>\n",
       "      <td>0.610219</td>\n",
       "      <td>0.643474</td>\n",
       "      <td>1.167979e+02</td>\n",
       "      <td>19.952431</td>\n",
       "      <td>1.222246e+02</td>\n",
       "      <td>32.968307</td>\n",
       "      <td>1.225380e+02</td>\n",
       "      <td>21.964876</td>\n",
       "      <td>...</td>\n",
       "      <td>3.493583e+00</td>\n",
       "      <td>31.427337</td>\n",
       "      <td>3.430484e+00</td>\n",
       "      <td>86.189107</td>\n",
       "      <td>3.026591</td>\n",
       "      <td>17.951495</td>\n",
       "      <td>2.868205</td>\n",
       "      <td>34.535007</td>\n",
       "      <td>4.536544</td>\n",
       "      <td>39.044215</td>\n",
       "    </tr>\n",
       "    <tr>\n",
       "      <th>min</th>\n",
       "      <td>2.566156</td>\n",
       "      <td>0.003839</td>\n",
       "      <td>5.650000</td>\n",
       "      <td>0.004984</td>\n",
       "      <td>5.445860e-32</td>\n",
       "      <td>-795.316337</td>\n",
       "      <td>6.647490e-32</td>\n",
       "      <td>-799.997015</td>\n",
       "      <td>4.033736e-32</td>\n",
       "      <td>-799.960571</td>\n",
       "      <td>...</td>\n",
       "      <td>1.079872e-16</td>\n",
       "      <td>-799.798523</td>\n",
       "      <td>2.489718e-17</td>\n",
       "      <td>-800.836914</td>\n",
       "      <td>0.069227</td>\n",
       "      <td>-797.323986</td>\n",
       "      <td>0.528083</td>\n",
       "      <td>-800.220337</td>\n",
       "      <td>-0.079426</td>\n",
       "      <td>-809.741464</td>\n",
       "    </tr>\n",
       "    <tr>\n",
       "      <th>25%</th>\n",
       "      <td>147.121401</td>\n",
       "      <td>6.489555</td>\n",
       "      <td>6.890000</td>\n",
       "      <td>0.907623</td>\n",
       "      <td>1.498936e+03</td>\n",
       "      <td>-500.357298</td>\n",
       "      <td>1.498971e+03</td>\n",
       "      <td>-500.703002</td>\n",
       "      <td>1.473230e+03</td>\n",
       "      <td>-501.018117</td>\n",
       "      <td>...</td>\n",
       "      <td>1.403618e+01</td>\n",
       "      <td>-500.868258</td>\n",
       "      <td>1.202862e+01</td>\n",
       "      <td>-500.323028</td>\n",
       "      <td>10.914838</td>\n",
       "      <td>-500.726841</td>\n",
       "      <td>8.036719</td>\n",
       "      <td>-500.194668</td>\n",
       "      <td>13.997317</td>\n",
       "      <td>-500.690984</td>\n",
       "    </tr>\n",
       "    <tr>\n",
       "      <th>50%</th>\n",
       "      <td>177.828489</td>\n",
       "      <td>8.052207</td>\n",
       "      <td>7.250000</td>\n",
       "      <td>1.197610</td>\n",
       "      <td>1.585129e+03</td>\n",
       "      <td>-499.969164</td>\n",
       "      <td>1.595622e+03</td>\n",
       "      <td>-500.028514</td>\n",
       "      <td>1.549595e+03</td>\n",
       "      <td>-500.017711</td>\n",
       "      <td>...</td>\n",
       "      <td>1.700847e+01</td>\n",
       "      <td>-500.115727</td>\n",
       "      <td>1.496486e+01</td>\n",
       "      <td>-499.576513</td>\n",
       "      <td>12.954182</td>\n",
       "      <td>-499.990332</td>\n",
       "      <td>10.004301</td>\n",
       "      <td>-499.990535</td>\n",
       "      <td>16.014935</td>\n",
       "      <td>-500.007126</td>\n",
       "    </tr>\n",
       "    <tr>\n",
       "      <th>75%</th>\n",
       "      <td>208.125438</td>\n",
       "      <td>10.027764</td>\n",
       "      <td>7.600000</td>\n",
       "      <td>1.797819</td>\n",
       "      <td>1.602077e+03</td>\n",
       "      <td>-499.568951</td>\n",
       "      <td>1.602324e+03</td>\n",
       "      <td>-499.293257</td>\n",
       "      <td>1.601144e+03</td>\n",
       "      <td>-498.994130</td>\n",
       "      <td>...</td>\n",
       "      <td>1.803862e+01</td>\n",
       "      <td>-499.404224</td>\n",
       "      <td>1.596213e+01</td>\n",
       "      <td>-400.933805</td>\n",
       "      <td>15.097528</td>\n",
       "      <td>-499.283191</td>\n",
       "      <td>11.997467</td>\n",
       "      <td>-499.719913</td>\n",
       "      <td>21.020013</td>\n",
       "      <td>-499.373018</td>\n",
       "    </tr>\n",
       "    <tr>\n",
       "      <th>max</th>\n",
       "      <td>265.983123</td>\n",
       "      <td>40.000000</td>\n",
       "      <td>15.500000</td>\n",
       "      <td>4.102454</td>\n",
       "      <td>2.103104e+03</td>\n",
       "      <td>-57.195404</td>\n",
       "      <td>1.813084e+03</td>\n",
       "      <td>-142.527229</td>\n",
       "      <td>1.715054e+03</td>\n",
       "      <td>-150.937035</td>\n",
       "      <td>...</td>\n",
       "      <td>3.005180e+01</td>\n",
       "      <td>-401.565212</td>\n",
       "      <td>3.126971e+01</td>\n",
       "      <td>-6.506986</td>\n",
       "      <td>25.258848</td>\n",
       "      <td>-244.483566</td>\n",
       "      <td>14.086866</td>\n",
       "      <td>-137.740004</td>\n",
       "      <td>26.705889</td>\n",
       "      <td>-123.307487</td>\n",
       "    </tr>\n",
       "  </tbody>\n",
       "</table>\n",
       "<p>8 rows × 52 columns</p>\n",
       "</div>"
      ],
      "text/plain": [
       "       primary_cleaner.input.sulfate  primary_cleaner.input.depressant  \\\n",
       "count                    5286.000000                       5285.000000   \n",
       "mean                      174.839652                          8.683596   \n",
       "std                        43.027080                          3.072050   \n",
       "min                         2.566156                          0.003839   \n",
       "25%                       147.121401                          6.489555   \n",
       "50%                       177.828489                          8.052207   \n",
       "75%                       208.125438                         10.027764   \n",
       "max                       265.983123                         40.000000   \n",
       "\n",
       "       primary_cleaner.input.feed_size  primary_cleaner.input.xanthate  \\\n",
       "count                      5290.000000                     5286.000000   \n",
       "mean                          7.266339                        1.383803   \n",
       "std                           0.610219                        0.643474   \n",
       "min                           5.650000                        0.004984   \n",
       "25%                           6.890000                        0.907623   \n",
       "50%                           7.250000                        1.197610   \n",
       "75%                           7.600000                        1.797819   \n",
       "max                          15.500000                        4.102454   \n",
       "\n",
       "       primary_cleaner.state.floatbank8_a_air  \\\n",
       "count                            5.290000e+03   \n",
       "mean                             1.539494e+03   \n",
       "std                              1.167979e+02   \n",
       "min                              5.445860e-32   \n",
       "25%                              1.498936e+03   \n",
       "50%                              1.585129e+03   \n",
       "75%                              1.602077e+03   \n",
       "max                              2.103104e+03   \n",
       "\n",
       "       primary_cleaner.state.floatbank8_a_level  \\\n",
       "count                               5290.000000   \n",
       "mean                                -497.665883   \n",
       "std                                   19.952431   \n",
       "min                                 -795.316337   \n",
       "25%                                 -500.357298   \n",
       "50%                                 -499.969164   \n",
       "75%                                 -499.568951   \n",
       "max                                  -57.195404   \n",
       "\n",
       "       primary_cleaner.state.floatbank8_b_air  \\\n",
       "count                            5.290000e+03   \n",
       "mean                             1.545174e+03   \n",
       "std                              1.222246e+02   \n",
       "min                              6.647490e-32   \n",
       "25%                              1.498971e+03   \n",
       "50%                              1.595622e+03   \n",
       "75%                              1.602324e+03   \n",
       "max                              1.813084e+03   \n",
       "\n",
       "       primary_cleaner.state.floatbank8_b_level  \\\n",
       "count                               5290.000000   \n",
       "mean                                -500.273098   \n",
       "std                                   32.968307   \n",
       "min                                 -799.997015   \n",
       "25%                                 -500.703002   \n",
       "50%                                 -500.028514   \n",
       "75%                                 -499.293257   \n",
       "max                                 -142.527229   \n",
       "\n",
       "       primary_cleaner.state.floatbank8_c_air  \\\n",
       "count                            5.290000e+03   \n",
       "mean                             1.527272e+03   \n",
       "std                              1.225380e+02   \n",
       "min                              4.033736e-32   \n",
       "25%                              1.473230e+03   \n",
       "50%                              1.549595e+03   \n",
       "75%                              1.601144e+03   \n",
       "max                              1.715054e+03   \n",
       "\n",
       "       primary_cleaner.state.floatbank8_c_level  ...  \\\n",
       "count                               5290.000000  ...   \n",
       "mean                                -498.330680  ...   \n",
       "std                                   21.964876  ...   \n",
       "min                                 -799.960571  ...   \n",
       "25%                                 -501.018117  ...   \n",
       "50%                                 -500.017711  ...   \n",
       "75%                                 -498.994130  ...   \n",
       "max                                 -150.937035  ...   \n",
       "\n",
       "       secondary_cleaner.state.floatbank4_a_air  \\\n",
       "count                              5.290000e+03   \n",
       "mean                               1.632007e+01   \n",
       "std                                3.493583e+00   \n",
       "min                                1.079872e-16   \n",
       "25%                                1.403618e+01   \n",
       "50%                                1.700847e+01   \n",
       "75%                                1.803862e+01   \n",
       "max                                3.005180e+01   \n",
       "\n",
       "       secondary_cleaner.state.floatbank4_a_level  \\\n",
       "count                                 5290.000000   \n",
       "mean                                  -505.144570   \n",
       "std                                     31.427337   \n",
       "min                                   -799.798523   \n",
       "25%                                   -500.868258   \n",
       "50%                                   -500.115727   \n",
       "75%                                   -499.404224   \n",
       "max                                   -401.565212   \n",
       "\n",
       "       secondary_cleaner.state.floatbank4_b_air  \\\n",
       "count                              5.290000e+03   \n",
       "mean                               1.373544e+01   \n",
       "std                                3.430484e+00   \n",
       "min                                2.489718e-17   \n",
       "25%                                1.202862e+01   \n",
       "50%                                1.496486e+01   \n",
       "75%                                1.596213e+01   \n",
       "max                                3.126971e+01   \n",
       "\n",
       "       secondary_cleaner.state.floatbank4_b_level  \\\n",
       "count                                 5290.000000   \n",
       "mean                                  -463.349858   \n",
       "std                                     86.189107   \n",
       "min                                   -800.836914   \n",
       "25%                                   -500.323028   \n",
       "50%                                   -499.576513   \n",
       "75%                                   -400.933805   \n",
       "max                                     -6.506986   \n",
       "\n",
       "       secondary_cleaner.state.floatbank5_a_air  \\\n",
       "count                               5290.000000   \n",
       "mean                                  12.804186   \n",
       "std                                    3.026591   \n",
       "min                                    0.069227   \n",
       "25%                                   10.914838   \n",
       "50%                                   12.954182   \n",
       "75%                                   15.097528   \n",
       "max                                   25.258848   \n",
       "\n",
       "       secondary_cleaner.state.floatbank5_a_level  \\\n",
       "count                                 5290.000000   \n",
       "mean                                  -501.329122   \n",
       "std                                     17.951495   \n",
       "min                                   -797.323986   \n",
       "25%                                   -500.726841   \n",
       "50%                                   -499.990332   \n",
       "75%                                   -499.283191   \n",
       "max                                   -244.483566   \n",
       "\n",
       "       secondary_cleaner.state.floatbank5_b_air  \\\n",
       "count                               5290.000000   \n",
       "mean                                   9.881145   \n",
       "std                                    2.868205   \n",
       "min                                    0.528083   \n",
       "25%                                    8.036719   \n",
       "50%                                   10.004301   \n",
       "75%                                   11.997467   \n",
       "max                                   14.086866   \n",
       "\n",
       "       secondary_cleaner.state.floatbank5_b_level  \\\n",
       "count                                 5290.000000   \n",
       "mean                                  -495.663398   \n",
       "std                                     34.535007   \n",
       "min                                   -800.220337   \n",
       "25%                                   -500.194668   \n",
       "50%                                   -499.990535   \n",
       "75%                                   -499.719913   \n",
       "max                                   -137.740004   \n",
       "\n",
       "       secondary_cleaner.state.floatbank6_a_air  \\\n",
       "count                               5290.000000   \n",
       "mean                                  17.304935   \n",
       "std                                    4.536544   \n",
       "min                                   -0.079426   \n",
       "25%                                   13.997317   \n",
       "50%                                   16.014935   \n",
       "75%                                   21.020013   \n",
       "max                                   26.705889   \n",
       "\n",
       "       secondary_cleaner.state.floatbank6_a_level  \n",
       "count                                 5290.000000  \n",
       "mean                                  -501.793193  \n",
       "std                                     39.044215  \n",
       "min                                   -809.741464  \n",
       "25%                                   -500.690984  \n",
       "50%                                   -500.007126  \n",
       "75%                                   -499.373018  \n",
       "max                                   -123.307487  \n",
       "\n",
       "[8 rows x 52 columns]"
      ]
     },
     "execution_count": 10,
     "metadata": {},
     "output_type": "execute_result"
    }
   ],
   "source": [
    "test.describe()"
   ]
  },
  {
   "cell_type": "code",
   "execution_count": 11,
   "metadata": {},
   "outputs": [
    {
     "data": {
      "text/html": [
       "<div>\n",
       "<style scoped>\n",
       "    .dataframe tbody tr th:only-of-type {\n",
       "        vertical-align: middle;\n",
       "    }\n",
       "\n",
       "    .dataframe tbody tr th {\n",
       "        vertical-align: top;\n",
       "    }\n",
       "\n",
       "    .dataframe thead th {\n",
       "        text-align: right;\n",
       "    }\n",
       "</style>\n",
       "<table border=\"1\" class=\"dataframe\">\n",
       "  <thead>\n",
       "    <tr style=\"text-align: right;\">\n",
       "      <th></th>\n",
       "      <th>final.output.concentrate_ag</th>\n",
       "      <th>final.output.concentrate_pb</th>\n",
       "      <th>final.output.concentrate_sol</th>\n",
       "      <th>final.output.concentrate_au</th>\n",
       "      <th>final.output.recovery</th>\n",
       "      <th>final.output.tail_ag</th>\n",
       "      <th>final.output.tail_pb</th>\n",
       "      <th>final.output.tail_sol</th>\n",
       "      <th>final.output.tail_au</th>\n",
       "      <th>primary_cleaner.input.sulfate</th>\n",
       "      <th>...</th>\n",
       "      <th>secondary_cleaner.state.floatbank4_a_air</th>\n",
       "      <th>secondary_cleaner.state.floatbank4_a_level</th>\n",
       "      <th>secondary_cleaner.state.floatbank4_b_air</th>\n",
       "      <th>secondary_cleaner.state.floatbank4_b_level</th>\n",
       "      <th>secondary_cleaner.state.floatbank5_a_air</th>\n",
       "      <th>secondary_cleaner.state.floatbank5_a_level</th>\n",
       "      <th>secondary_cleaner.state.floatbank5_b_air</th>\n",
       "      <th>secondary_cleaner.state.floatbank5_b_level</th>\n",
       "      <th>secondary_cleaner.state.floatbank6_a_air</th>\n",
       "      <th>secondary_cleaner.state.floatbank6_a_level</th>\n",
       "    </tr>\n",
       "  </thead>\n",
       "  <tbody>\n",
       "    <tr>\n",
       "      <th>count</th>\n",
       "      <td>19438.000000</td>\n",
       "      <td>19438.000000</td>\n",
       "      <td>19228.000000</td>\n",
       "      <td>19439.000000</td>\n",
       "      <td>19439.000000</td>\n",
       "      <td>19438.000000</td>\n",
       "      <td>19338.000000</td>\n",
       "      <td>19433.000000</td>\n",
       "      <td>19439.000000</td>\n",
       "      <td>19415.000000</td>\n",
       "      <td>...</td>\n",
       "      <td>19433.000000</td>\n",
       "      <td>19438.000000</td>\n",
       "      <td>19438.000000</td>\n",
       "      <td>19438.000000</td>\n",
       "      <td>19438.000000</td>\n",
       "      <td>19438.000000</td>\n",
       "      <td>19438.000000</td>\n",
       "      <td>19438.000000</td>\n",
       "      <td>19437.000000</td>\n",
       "      <td>19438.000000</td>\n",
       "    </tr>\n",
       "    <tr>\n",
       "      <th>mean</th>\n",
       "      <td>5.168470</td>\n",
       "      <td>9.978895</td>\n",
       "      <td>9.501224</td>\n",
       "      <td>44.076513</td>\n",
       "      <td>67.050208</td>\n",
       "      <td>9.688589</td>\n",
       "      <td>2.705795</td>\n",
       "      <td>10.583728</td>\n",
       "      <td>3.042467</td>\n",
       "      <td>144.624774</td>\n",
       "      <td>...</td>\n",
       "      <td>18.987674</td>\n",
       "      <td>-485.894516</td>\n",
       "      <td>15.010366</td>\n",
       "      <td>-461.078636</td>\n",
       "      <td>15.694452</td>\n",
       "      <td>-488.684065</td>\n",
       "      <td>12.198224</td>\n",
       "      <td>-487.149827</td>\n",
       "      <td>18.959024</td>\n",
       "      <td>-505.436305</td>\n",
       "    </tr>\n",
       "    <tr>\n",
       "      <th>std</th>\n",
       "      <td>1.372348</td>\n",
       "      <td>1.669240</td>\n",
       "      <td>2.787537</td>\n",
       "      <td>5.129784</td>\n",
       "      <td>10.125840</td>\n",
       "      <td>2.328642</td>\n",
       "      <td>0.949077</td>\n",
       "      <td>2.868782</td>\n",
       "      <td>0.922808</td>\n",
       "      <td>44.464071</td>\n",
       "      <td>...</td>\n",
       "      <td>5.411058</td>\n",
       "      <td>47.758570</td>\n",
       "      <td>4.890228</td>\n",
       "      <td>67.405524</td>\n",
       "      <td>5.510974</td>\n",
       "      <td>34.533396</td>\n",
       "      <td>5.333024</td>\n",
       "      <td>38.347312</td>\n",
       "      <td>5.550498</td>\n",
       "      <td>37.689057</td>\n",
       "    </tr>\n",
       "    <tr>\n",
       "      <th>min</th>\n",
       "      <td>0.000000</td>\n",
       "      <td>0.000000</td>\n",
       "      <td>0.000000</td>\n",
       "      <td>0.000000</td>\n",
       "      <td>0.000000</td>\n",
       "      <td>0.000000</td>\n",
       "      <td>0.000000</td>\n",
       "      <td>0.000000</td>\n",
       "      <td>0.000000</td>\n",
       "      <td>0.003112</td>\n",
       "      <td>...</td>\n",
       "      <td>0.000000</td>\n",
       "      <td>-799.798523</td>\n",
       "      <td>0.000000</td>\n",
       "      <td>-800.836914</td>\n",
       "      <td>-0.372054</td>\n",
       "      <td>-797.323986</td>\n",
       "      <td>0.528083</td>\n",
       "      <td>-800.220337</td>\n",
       "      <td>-0.079426</td>\n",
       "      <td>-809.741464</td>\n",
       "    </tr>\n",
       "    <tr>\n",
       "      <th>25%</th>\n",
       "      <td>4.251240</td>\n",
       "      <td>9.137262</td>\n",
       "      <td>7.722820</td>\n",
       "      <td>43.402215</td>\n",
       "      <td>63.299712</td>\n",
       "      <td>8.062878</td>\n",
       "      <td>2.040119</td>\n",
       "      <td>8.938947</td>\n",
       "      <td>2.461138</td>\n",
       "      <td>114.107029</td>\n",
       "      <td>...</td>\n",
       "      <td>14.975734</td>\n",
       "      <td>-500.704892</td>\n",
       "      <td>11.940294</td>\n",
       "      <td>-500.187742</td>\n",
       "      <td>10.988606</td>\n",
       "      <td>-500.458467</td>\n",
       "      <td>8.971105</td>\n",
       "      <td>-500.129462</td>\n",
       "      <td>14.983037</td>\n",
       "      <td>-500.728067</td>\n",
       "    </tr>\n",
       "    <tr>\n",
       "      <th>50%</th>\n",
       "      <td>5.066094</td>\n",
       "      <td>10.102433</td>\n",
       "      <td>9.218961</td>\n",
       "      <td>45.011244</td>\n",
       "      <td>68.172738</td>\n",
       "      <td>9.743623</td>\n",
       "      <td>2.748730</td>\n",
       "      <td>10.622456</td>\n",
       "      <td>2.984909</td>\n",
       "      <td>143.232103</td>\n",
       "      <td>...</td>\n",
       "      <td>18.017481</td>\n",
       "      <td>-499.837793</td>\n",
       "      <td>14.971014</td>\n",
       "      <td>-499.459786</td>\n",
       "      <td>15.000036</td>\n",
       "      <td>-499.802605</td>\n",
       "      <td>11.019433</td>\n",
       "      <td>-499.935317</td>\n",
       "      <td>19.960541</td>\n",
       "      <td>-500.048400</td>\n",
       "    </tr>\n",
       "    <tr>\n",
       "      <th>75%</th>\n",
       "      <td>5.895527</td>\n",
       "      <td>11.035769</td>\n",
       "      <td>10.947813</td>\n",
       "      <td>46.275313</td>\n",
       "      <td>72.686642</td>\n",
       "      <td>11.134294</td>\n",
       "      <td>3.333216</td>\n",
       "      <td>12.104271</td>\n",
       "      <td>3.571351</td>\n",
       "      <td>175.075656</td>\n",
       "      <td>...</td>\n",
       "      <td>23.012470</td>\n",
       "      <td>-498.249730</td>\n",
       "      <td>19.034162</td>\n",
       "      <td>-400.118106</td>\n",
       "      <td>18.026190</td>\n",
       "      <td>-498.384187</td>\n",
       "      <td>14.019088</td>\n",
       "      <td>-499.436708</td>\n",
       "      <td>24.003170</td>\n",
       "      <td>-499.495378</td>\n",
       "    </tr>\n",
       "    <tr>\n",
       "      <th>max</th>\n",
       "      <td>16.001945</td>\n",
       "      <td>17.031899</td>\n",
       "      <td>19.615720</td>\n",
       "      <td>52.756638</td>\n",
       "      <td>100.000000</td>\n",
       "      <td>19.552149</td>\n",
       "      <td>5.804178</td>\n",
       "      <td>22.317730</td>\n",
       "      <td>8.245022</td>\n",
       "      <td>265.983123</td>\n",
       "      <td>...</td>\n",
       "      <td>30.115735</td>\n",
       "      <td>-245.239184</td>\n",
       "      <td>31.269706</td>\n",
       "      <td>-6.506986</td>\n",
       "      <td>43.709931</td>\n",
       "      <td>-244.483566</td>\n",
       "      <td>27.926001</td>\n",
       "      <td>-137.740004</td>\n",
       "      <td>32.188906</td>\n",
       "      <td>-104.427459</td>\n",
       "    </tr>\n",
       "  </tbody>\n",
       "</table>\n",
       "<p>8 rows × 86 columns</p>\n",
       "</div>"
      ],
      "text/plain": [
       "       final.output.concentrate_ag  final.output.concentrate_pb  \\\n",
       "count                 19438.000000                 19438.000000   \n",
       "mean                      5.168470                     9.978895   \n",
       "std                       1.372348                     1.669240   \n",
       "min                       0.000000                     0.000000   \n",
       "25%                       4.251240                     9.137262   \n",
       "50%                       5.066094                    10.102433   \n",
       "75%                       5.895527                    11.035769   \n",
       "max                      16.001945                    17.031899   \n",
       "\n",
       "       final.output.concentrate_sol  final.output.concentrate_au  \\\n",
       "count                  19228.000000                 19439.000000   \n",
       "mean                       9.501224                    44.076513   \n",
       "std                        2.787537                     5.129784   \n",
       "min                        0.000000                     0.000000   \n",
       "25%                        7.722820                    43.402215   \n",
       "50%                        9.218961                    45.011244   \n",
       "75%                       10.947813                    46.275313   \n",
       "max                       19.615720                    52.756638   \n",
       "\n",
       "       final.output.recovery  final.output.tail_ag  final.output.tail_pb  \\\n",
       "count           19439.000000          19438.000000          19338.000000   \n",
       "mean               67.050208              9.688589              2.705795   \n",
       "std                10.125840              2.328642              0.949077   \n",
       "min                 0.000000              0.000000              0.000000   \n",
       "25%                63.299712              8.062878              2.040119   \n",
       "50%                68.172738              9.743623              2.748730   \n",
       "75%                72.686642             11.134294              3.333216   \n",
       "max               100.000000             19.552149              5.804178   \n",
       "\n",
       "       final.output.tail_sol  final.output.tail_au  \\\n",
       "count           19433.000000          19439.000000   \n",
       "mean               10.583728              3.042467   \n",
       "std                 2.868782              0.922808   \n",
       "min                 0.000000              0.000000   \n",
       "25%                 8.938947              2.461138   \n",
       "50%                10.622456              2.984909   \n",
       "75%                12.104271              3.571351   \n",
       "max                22.317730              8.245022   \n",
       "\n",
       "       primary_cleaner.input.sulfate  ...  \\\n",
       "count                   19415.000000  ...   \n",
       "mean                      144.624774  ...   \n",
       "std                        44.464071  ...   \n",
       "min                         0.003112  ...   \n",
       "25%                       114.107029  ...   \n",
       "50%                       143.232103  ...   \n",
       "75%                       175.075656  ...   \n",
       "max                       265.983123  ...   \n",
       "\n",
       "       secondary_cleaner.state.floatbank4_a_air  \\\n",
       "count                              19433.000000   \n",
       "mean                                  18.987674   \n",
       "std                                    5.411058   \n",
       "min                                    0.000000   \n",
       "25%                                   14.975734   \n",
       "50%                                   18.017481   \n",
       "75%                                   23.012470   \n",
       "max                                   30.115735   \n",
       "\n",
       "       secondary_cleaner.state.floatbank4_a_level  \\\n",
       "count                                19438.000000   \n",
       "mean                                  -485.894516   \n",
       "std                                     47.758570   \n",
       "min                                   -799.798523   \n",
       "25%                                   -500.704892   \n",
       "50%                                   -499.837793   \n",
       "75%                                   -498.249730   \n",
       "max                                   -245.239184   \n",
       "\n",
       "       secondary_cleaner.state.floatbank4_b_air  \\\n",
       "count                              19438.000000   \n",
       "mean                                  15.010366   \n",
       "std                                    4.890228   \n",
       "min                                    0.000000   \n",
       "25%                                   11.940294   \n",
       "50%                                   14.971014   \n",
       "75%                                   19.034162   \n",
       "max                                   31.269706   \n",
       "\n",
       "       secondary_cleaner.state.floatbank4_b_level  \\\n",
       "count                                19438.000000   \n",
       "mean                                  -461.078636   \n",
       "std                                     67.405524   \n",
       "min                                   -800.836914   \n",
       "25%                                   -500.187742   \n",
       "50%                                   -499.459786   \n",
       "75%                                   -400.118106   \n",
       "max                                     -6.506986   \n",
       "\n",
       "       secondary_cleaner.state.floatbank5_a_air  \\\n",
       "count                              19438.000000   \n",
       "mean                                  15.694452   \n",
       "std                                    5.510974   \n",
       "min                                   -0.372054   \n",
       "25%                                   10.988606   \n",
       "50%                                   15.000036   \n",
       "75%                                   18.026190   \n",
       "max                                   43.709931   \n",
       "\n",
       "       secondary_cleaner.state.floatbank5_a_level  \\\n",
       "count                                19438.000000   \n",
       "mean                                  -488.684065   \n",
       "std                                     34.533396   \n",
       "min                                   -797.323986   \n",
       "25%                                   -500.458467   \n",
       "50%                                   -499.802605   \n",
       "75%                                   -498.384187   \n",
       "max                                   -244.483566   \n",
       "\n",
       "       secondary_cleaner.state.floatbank5_b_air  \\\n",
       "count                              19438.000000   \n",
       "mean                                  12.198224   \n",
       "std                                    5.333024   \n",
       "min                                    0.528083   \n",
       "25%                                    8.971105   \n",
       "50%                                   11.019433   \n",
       "75%                                   14.019088   \n",
       "max                                   27.926001   \n",
       "\n",
       "       secondary_cleaner.state.floatbank5_b_level  \\\n",
       "count                                19438.000000   \n",
       "mean                                  -487.149827   \n",
       "std                                     38.347312   \n",
       "min                                   -800.220337   \n",
       "25%                                   -500.129462   \n",
       "50%                                   -499.935317   \n",
       "75%                                   -499.436708   \n",
       "max                                   -137.740004   \n",
       "\n",
       "       secondary_cleaner.state.floatbank6_a_air  \\\n",
       "count                              19437.000000   \n",
       "mean                                  18.959024   \n",
       "std                                    5.550498   \n",
       "min                                   -0.079426   \n",
       "25%                                   14.983037   \n",
       "50%                                   19.960541   \n",
       "75%                                   24.003170   \n",
       "max                                   32.188906   \n",
       "\n",
       "       secondary_cleaner.state.floatbank6_a_level  \n",
       "count                                19438.000000  \n",
       "mean                                  -505.436305  \n",
       "std                                     37.689057  \n",
       "min                                   -809.741464  \n",
       "25%                                   -500.728067  \n",
       "50%                                   -500.048400  \n",
       "75%                                   -499.495378  \n",
       "max                                   -104.427459  \n",
       "\n",
       "[8 rows x 86 columns]"
      ]
     },
     "execution_count": 11,
     "metadata": {},
     "output_type": "execute_result"
    }
   ],
   "source": [
    "gold.describe()"
   ]
  },
  {
   "cell_type": "code",
   "execution_count": 12,
   "metadata": {},
   "outputs": [
    {
     "data": {
      "text/plain": [
       "date                                            0\n",
       "final.output.concentrate_ag                     1\n",
       "final.output.concentrate_pb                     1\n",
       "final.output.concentrate_sol                  211\n",
       "final.output.concentrate_au                     0\n",
       "                                             ... \n",
       "secondary_cleaner.state.floatbank5_a_level      1\n",
       "secondary_cleaner.state.floatbank5_b_air        1\n",
       "secondary_cleaner.state.floatbank5_b_level      1\n",
       "secondary_cleaner.state.floatbank6_a_air        2\n",
       "secondary_cleaner.state.floatbank6_a_level      1\n",
       "Length: 87, dtype: int64"
      ]
     },
     "execution_count": 12,
     "metadata": {},
     "output_type": "execute_result"
    }
   ],
   "source": [
    "train.isna().sum()"
   ]
  },
  {
   "cell_type": "code",
   "execution_count": 13,
   "metadata": {
    "scrolled": true
   },
   "outputs": [
    {
     "data": {
      "text/plain": [
       "date                                           0\n",
       "primary_cleaner.input.sulfate                  4\n",
       "primary_cleaner.input.depressant               5\n",
       "primary_cleaner.input.feed_size                0\n",
       "primary_cleaner.input.xanthate                 4\n",
       "primary_cleaner.state.floatbank8_a_air         0\n",
       "primary_cleaner.state.floatbank8_a_level       0\n",
       "primary_cleaner.state.floatbank8_b_air         0\n",
       "primary_cleaner.state.floatbank8_b_level       0\n",
       "primary_cleaner.state.floatbank8_c_air         0\n",
       "primary_cleaner.state.floatbank8_c_level       0\n",
       "primary_cleaner.state.floatbank8_d_air         0\n",
       "primary_cleaner.state.floatbank8_d_level       0\n",
       "rougher.input.feed_ag                          0\n",
       "rougher.input.feed_pb                          0\n",
       "rougher.input.feed_rate                        3\n",
       "rougher.input.feed_size                        1\n",
       "rougher.input.feed_sol                        21\n",
       "rougher.input.feed_au                          0\n",
       "rougher.input.floatbank10_sulfate              5\n",
       "rougher.input.floatbank10_xanthate             0\n",
       "rougher.input.floatbank11_sulfate              8\n",
       "rougher.input.floatbank11_xanthate            25\n",
       "rougher.state.floatbank10_a_air                0\n",
       "rougher.state.floatbank10_a_level              0\n",
       "rougher.state.floatbank10_b_air                0\n",
       "rougher.state.floatbank10_b_level              0\n",
       "rougher.state.floatbank10_c_air                0\n",
       "rougher.state.floatbank10_c_level              0\n",
       "rougher.state.floatbank10_d_air                0\n",
       "rougher.state.floatbank10_d_level              0\n",
       "rougher.state.floatbank10_e_air                0\n",
       "rougher.state.floatbank10_e_level              0\n",
       "rougher.state.floatbank10_f_air                0\n",
       "rougher.state.floatbank10_f_level              0\n",
       "secondary_cleaner.state.floatbank2_a_air       3\n",
       "secondary_cleaner.state.floatbank2_a_level     0\n",
       "secondary_cleaner.state.floatbank2_b_air       2\n",
       "secondary_cleaner.state.floatbank2_b_level     0\n",
       "secondary_cleaner.state.floatbank3_a_air       9\n",
       "secondary_cleaner.state.floatbank3_a_level     0\n",
       "secondary_cleaner.state.floatbank3_b_air       0\n",
       "secondary_cleaner.state.floatbank3_b_level     0\n",
       "secondary_cleaner.state.floatbank4_a_air       0\n",
       "secondary_cleaner.state.floatbank4_a_level     0\n",
       "secondary_cleaner.state.floatbank4_b_air       0\n",
       "secondary_cleaner.state.floatbank4_b_level     0\n",
       "secondary_cleaner.state.floatbank5_a_air       0\n",
       "secondary_cleaner.state.floatbank5_a_level     0\n",
       "secondary_cleaner.state.floatbank5_b_air       0\n",
       "secondary_cleaner.state.floatbank5_b_level     0\n",
       "secondary_cleaner.state.floatbank6_a_air       0\n",
       "secondary_cleaner.state.floatbank6_a_level     0\n",
       "dtype: int64"
      ]
     },
     "execution_count": 13,
     "metadata": {},
     "output_type": "execute_result"
    }
   ],
   "source": [
    "test.isna().sum()"
   ]
  },
  {
   "cell_type": "code",
   "execution_count": 14,
   "metadata": {},
   "outputs": [
    {
     "data": {
      "text/plain": [
       "date                                            0\n",
       "final.output.concentrate_ag                     1\n",
       "final.output.concentrate_pb                     1\n",
       "final.output.concentrate_sol                  211\n",
       "final.output.concentrate_au                     0\n",
       "                                             ... \n",
       "secondary_cleaner.state.floatbank5_a_level      1\n",
       "secondary_cleaner.state.floatbank5_b_air        1\n",
       "secondary_cleaner.state.floatbank5_b_level      1\n",
       "secondary_cleaner.state.floatbank6_a_air        2\n",
       "secondary_cleaner.state.floatbank6_a_level      1\n",
       "Length: 87, dtype: int64"
      ]
     },
     "execution_count": 14,
     "metadata": {},
     "output_type": "execute_result"
    }
   ],
   "source": [
    "gold.isna().sum()"
   ]
  },
  {
   "cell_type": "markdown",
   "metadata": {},
   "source": [
    "Дубликатов нет"
   ]
  },
  {
   "cell_type": "markdown",
   "metadata": {},
   "source": [
    "# 1.2 Проверка эффективности обогащения."
   ]
  },
  {
   "cell_type": "code",
   "execution_count": 15,
   "metadata": {},
   "outputs": [],
   "source": [
    "c = train['rougher.output.concentrate_au']\n",
    "f = train['rougher.input.feed_au']\n",
    "t = train['rougher.output.tail_au']\n",
    "recovery= ((c * (f - t))/(f * (c - t)))* 100"
   ]
  },
  {
   "cell_type": "code",
   "execution_count": 16,
   "metadata": {},
   "outputs": [
    {
     "name": "stdout",
     "output_type": "stream",
     "text": [
      "Средняя абсолютная ошибка: 9.73512347450521e-15\n"
     ]
    }
   ],
   "source": [
    "rougher_recovery = train['rougher.output.recovery']\n",
    "print('Средняя абсолютная ошибка:', mean_absolute_error(recovery,rougher_recovery))"
   ]
  },
  {
   "cell_type": "markdown",
   "metadata": {},
   "source": [
    "# 1.3  Признаки недоступные в тестовой выборке."
   ]
  },
  {
   "cell_type": "code",
   "execution_count": 17,
   "metadata": {},
   "outputs": [
    {
     "data": {
      "text/html": [
       "<div>\n",
       "<style scoped>\n",
       "    .dataframe tbody tr th:only-of-type {\n",
       "        vertical-align: middle;\n",
       "    }\n",
       "\n",
       "    .dataframe tbody tr th {\n",
       "        vertical-align: top;\n",
       "    }\n",
       "\n",
       "    .dataframe thead th {\n",
       "        text-align: right;\n",
       "    }\n",
       "</style>\n",
       "<table border=\"1\" class=\"dataframe\">\n",
       "  <thead>\n",
       "    <tr style=\"text-align: right;\">\n",
       "      <th></th>\n",
       "      <th>final.output.concentrate_ag</th>\n",
       "      <th>final.output.concentrate_pb</th>\n",
       "      <th>final.output.concentrate_sol</th>\n",
       "      <th>final.output.concentrate_au</th>\n",
       "      <th>final.output.recovery</th>\n",
       "      <th>final.output.tail_ag</th>\n",
       "      <th>final.output.tail_pb</th>\n",
       "      <th>final.output.tail_sol</th>\n",
       "      <th>final.output.tail_au</th>\n",
       "      <th>primary_cleaner.output.concentrate_ag</th>\n",
       "      <th>...</th>\n",
       "      <th>rougher.output.concentrate_au</th>\n",
       "      <th>rougher.output.recovery</th>\n",
       "      <th>rougher.output.tail_ag</th>\n",
       "      <th>rougher.output.tail_pb</th>\n",
       "      <th>rougher.output.tail_sol</th>\n",
       "      <th>rougher.output.tail_au</th>\n",
       "      <th>secondary_cleaner.output.tail_ag</th>\n",
       "      <th>secondary_cleaner.output.tail_pb</th>\n",
       "      <th>secondary_cleaner.output.tail_sol</th>\n",
       "      <th>secondary_cleaner.output.tail_au</th>\n",
       "    </tr>\n",
       "  </thead>\n",
       "  <tbody>\n",
       "    <tr>\n",
       "      <th>0</th>\n",
       "      <td>6.055403</td>\n",
       "      <td>9.889648</td>\n",
       "      <td>5.507324</td>\n",
       "      <td>42.192020</td>\n",
       "      <td>70.541216</td>\n",
       "      <td>10.411962</td>\n",
       "      <td>0.895447</td>\n",
       "      <td>16.904297</td>\n",
       "      <td>2.143149</td>\n",
       "      <td>8.547551</td>\n",
       "      <td>...</td>\n",
       "      <td>19.793808</td>\n",
       "      <td>87.107763</td>\n",
       "      <td>5.008018</td>\n",
       "      <td>0.508728</td>\n",
       "      <td>19.154297</td>\n",
       "      <td>1.170244</td>\n",
       "      <td>14.500184</td>\n",
       "      <td>4.694824</td>\n",
       "      <td>8.764648</td>\n",
       "      <td>2.606185</td>\n",
       "    </tr>\n",
       "    <tr>\n",
       "      <th>1</th>\n",
       "      <td>6.029369</td>\n",
       "      <td>9.968944</td>\n",
       "      <td>5.257781</td>\n",
       "      <td>42.701629</td>\n",
       "      <td>69.266198</td>\n",
       "      <td>10.462676</td>\n",
       "      <td>0.927452</td>\n",
       "      <td>16.634514</td>\n",
       "      <td>2.224930</td>\n",
       "      <td>8.558743</td>\n",
       "      <td>...</td>\n",
       "      <td>20.050975</td>\n",
       "      <td>86.843261</td>\n",
       "      <td>4.955378</td>\n",
       "      <td>0.536689</td>\n",
       "      <td>18.965234</td>\n",
       "      <td>1.184827</td>\n",
       "      <td>14.265474</td>\n",
       "      <td>4.592547</td>\n",
       "      <td>9.001494</td>\n",
       "      <td>2.488248</td>\n",
       "    </tr>\n",
       "    <tr>\n",
       "      <th>2</th>\n",
       "      <td>6.055926</td>\n",
       "      <td>10.213995</td>\n",
       "      <td>5.383759</td>\n",
       "      <td>42.657501</td>\n",
       "      <td>68.116445</td>\n",
       "      <td>10.507046</td>\n",
       "      <td>0.953716</td>\n",
       "      <td>16.208849</td>\n",
       "      <td>2.257889</td>\n",
       "      <td>8.603505</td>\n",
       "      <td>...</td>\n",
       "      <td>19.737170</td>\n",
       "      <td>86.842308</td>\n",
       "      <td>4.843460</td>\n",
       "      <td>0.546416</td>\n",
       "      <td>18.808533</td>\n",
       "      <td>1.162562</td>\n",
       "      <td>14.115662</td>\n",
       "      <td>4.624775</td>\n",
       "      <td>8.842896</td>\n",
       "      <td>2.458187</td>\n",
       "    </tr>\n",
       "    <tr>\n",
       "      <th>3</th>\n",
       "      <td>6.047977</td>\n",
       "      <td>9.977019</td>\n",
       "      <td>4.858634</td>\n",
       "      <td>42.689819</td>\n",
       "      <td>68.347543</td>\n",
       "      <td>10.422762</td>\n",
       "      <td>0.883763</td>\n",
       "      <td>16.532835</td>\n",
       "      <td>2.146849</td>\n",
       "      <td>7.221879</td>\n",
       "      <td>...</td>\n",
       "      <td>19.320810</td>\n",
       "      <td>87.226430</td>\n",
       "      <td>4.655288</td>\n",
       "      <td>0.542525</td>\n",
       "      <td>19.330200</td>\n",
       "      <td>1.079755</td>\n",
       "      <td>13.732071</td>\n",
       "      <td>4.482453</td>\n",
       "      <td>9.122857</td>\n",
       "      <td>2.322062</td>\n",
       "    </tr>\n",
       "    <tr>\n",
       "      <th>4</th>\n",
       "      <td>6.148599</td>\n",
       "      <td>10.142511</td>\n",
       "      <td>4.939416</td>\n",
       "      <td>42.774141</td>\n",
       "      <td>66.927016</td>\n",
       "      <td>10.360302</td>\n",
       "      <td>0.792826</td>\n",
       "      <td>16.525686</td>\n",
       "      <td>2.055292</td>\n",
       "      <td>9.089428</td>\n",
       "      <td>...</td>\n",
       "      <td>19.216101</td>\n",
       "      <td>86.688794</td>\n",
       "      <td>4.552800</td>\n",
       "      <td>0.515438</td>\n",
       "      <td>19.267422</td>\n",
       "      <td>1.012642</td>\n",
       "      <td>14.079996</td>\n",
       "      <td>4.470737</td>\n",
       "      <td>8.871028</td>\n",
       "      <td>2.330448</td>\n",
       "    </tr>\n",
       "  </tbody>\n",
       "</table>\n",
       "<p>5 rows × 34 columns</p>\n",
       "</div>"
      ],
      "text/plain": [
       "   final.output.concentrate_ag  final.output.concentrate_pb  \\\n",
       "0                     6.055403                     9.889648   \n",
       "1                     6.029369                     9.968944   \n",
       "2                     6.055926                    10.213995   \n",
       "3                     6.047977                     9.977019   \n",
       "4                     6.148599                    10.142511   \n",
       "\n",
       "   final.output.concentrate_sol  final.output.concentrate_au  \\\n",
       "0                      5.507324                    42.192020   \n",
       "1                      5.257781                    42.701629   \n",
       "2                      5.383759                    42.657501   \n",
       "3                      4.858634                    42.689819   \n",
       "4                      4.939416                    42.774141   \n",
       "\n",
       "   final.output.recovery  final.output.tail_ag  final.output.tail_pb  \\\n",
       "0              70.541216             10.411962              0.895447   \n",
       "1              69.266198             10.462676              0.927452   \n",
       "2              68.116445             10.507046              0.953716   \n",
       "3              68.347543             10.422762              0.883763   \n",
       "4              66.927016             10.360302              0.792826   \n",
       "\n",
       "   final.output.tail_sol  final.output.tail_au  \\\n",
       "0              16.904297              2.143149   \n",
       "1              16.634514              2.224930   \n",
       "2              16.208849              2.257889   \n",
       "3              16.532835              2.146849   \n",
       "4              16.525686              2.055292   \n",
       "\n",
       "   primary_cleaner.output.concentrate_ag  ...  rougher.output.concentrate_au  \\\n",
       "0                               8.547551  ...                      19.793808   \n",
       "1                               8.558743  ...                      20.050975   \n",
       "2                               8.603505  ...                      19.737170   \n",
       "3                               7.221879  ...                      19.320810   \n",
       "4                               9.089428  ...                      19.216101   \n",
       "\n",
       "   rougher.output.recovery  rougher.output.tail_ag  rougher.output.tail_pb  \\\n",
       "0                87.107763                5.008018                0.508728   \n",
       "1                86.843261                4.955378                0.536689   \n",
       "2                86.842308                4.843460                0.546416   \n",
       "3                87.226430                4.655288                0.542525   \n",
       "4                86.688794                4.552800                0.515438   \n",
       "\n",
       "   rougher.output.tail_sol  rougher.output.tail_au  \\\n",
       "0                19.154297                1.170244   \n",
       "1                18.965234                1.184827   \n",
       "2                18.808533                1.162562   \n",
       "3                19.330200                1.079755   \n",
       "4                19.267422                1.012642   \n",
       "\n",
       "   secondary_cleaner.output.tail_ag  secondary_cleaner.output.tail_pb  \\\n",
       "0                         14.500184                          4.694824   \n",
       "1                         14.265474                          4.592547   \n",
       "2                         14.115662                          4.624775   \n",
       "3                         13.732071                          4.482453   \n",
       "4                         14.079996                          4.470737   \n",
       "\n",
       "   secondary_cleaner.output.tail_sol  secondary_cleaner.output.tail_au  \n",
       "0                           8.764648                          2.606185  \n",
       "1                           9.001494                          2.488248  \n",
       "2                           8.842896                          2.458187  \n",
       "3                           9.122857                          2.322062  \n",
       "4                           8.871028                          2.330448  \n",
       "\n",
       "[5 rows x 34 columns]"
      ]
     },
     "execution_count": 17,
     "metadata": {},
     "output_type": "execute_result"
    }
   ],
   "source": [
    "missing_cols = train.columns.drop(test.columns)\n",
    "train[missing_cols].head()"
   ]
  },
  {
   "cell_type": "code",
   "execution_count": 18,
   "metadata": {},
   "outputs": [],
   "source": [
    "target_features_to_join = gold[['date', 'final.output.recovery', 'rougher.output.recovery']].copy()"
   ]
  },
  {
   "cell_type": "code",
   "execution_count": 19,
   "metadata": {},
   "outputs": [],
   "source": [
    "test = test.join(target_features_to_join.set_index('date'), on='date')"
   ]
  },
  {
   "cell_type": "code",
   "execution_count": 20,
   "metadata": {},
   "outputs": [
    {
     "data": {
      "text/plain": [
       "False    5290\n",
       "Name: final.output.recovery, dtype: int64"
      ]
     },
     "execution_count": 20,
     "metadata": {},
     "output_type": "execute_result"
    }
   ],
   "source": [
    "test['final.output.recovery'].isnull().value_counts()"
   ]
  },
  {
   "cell_type": "code",
   "execution_count": 21,
   "metadata": {},
   "outputs": [
    {
     "data": {
      "text/plain": [
       "<AxesSubplot:>"
      ]
     },
     "execution_count": 21,
     "metadata": {},
     "output_type": "execute_result"
    },
    {
     "data": {
      "image/png": "[encoded data removed]",
      "text/plain": [
       "<Figure size 432x288 with 2 Axes>"
      ]
     },
     "metadata": {
      "needs_background": "light"
     },
     "output_type": "display_data"
    }
   ],
   "source": [
    "sns.heatmap(test.corr(), annot = False, vmin=-1, vmax=1, center= 0, cmap= 'coolwarm', linewidths=0.003, linecolor='black')"
   ]
  },
  {
   "cell_type": "markdown",
   "metadata": {},
   "source": [
    "В test нет признаков output"
   ]
  },
  {
   "cell_type": "markdown",
   "metadata": {},
   "source": [
    "# 1.4 Предобработка данных"
   ]
  },
  {
   "cell_type": "code",
   "execution_count": 22,
   "metadata": {},
   "outputs": [
    {
     "data": {
      "text/plain": [
       "(14149, 87)"
      ]
     },
     "execution_count": 22,
     "metadata": {},
     "output_type": "execute_result"
    }
   ],
   "source": [
    "train.shape[0],train.shape[1]"
   ]
  },
  {
   "cell_type": "markdown",
   "metadata": {},
   "source": [
    "13522 строк 53 признаков"
   ]
  },
  {
   "cell_type": "code",
   "execution_count": 23,
   "metadata": {},
   "outputs": [
    {
     "data": {
      "text/plain": [
       "(5290, 55)"
      ]
     },
     "execution_count": 23,
     "metadata": {},
     "output_type": "execute_result"
    }
   ],
   "source": [
    "test.shape[0], test.shape[1]"
   ]
  },
  {
   "cell_type": "code",
   "execution_count": 24,
   "metadata": {},
   "outputs": [],
   "source": [
    "train = train.fillna(value=None, method='ffill') \n",
    "test = test.fillna(value=None, method='ffill') \n",
    "gold = gold.fillna(value=None, method='ffill') "
   ]
  },
  {
   "cell_type": "markdown",
   "metadata": {},
   "source": [
    "5383 строк 53 признаков"
   ]
  },
  {
   "cell_type": "markdown",
   "metadata": {},
   "source": [
    "## Анализ данных"
   ]
  },
  {
   "cell_type": "markdown",
   "metadata": {},
   "source": [
    "# 2.1 Как меняется концентрация металлов "
   ]
  },
  {
   "cell_type": "code",
   "execution_count": 25,
   "metadata": {},
   "outputs": [
    {
     "data": {
      "image/png": "[encoded data removed]",
      "text/plain": [
       "<Figure size 1008x648 with 1 Axes>"
      ]
     },
     "metadata": {
      "needs_background": "light"
     },
     "output_type": "display_data"
    },
    {
     "data": {
      "image/png": "[encoded data removed]",
      "text/plain": [
       "<Figure size 1008x648 with 1 Axes>"
      ]
     },
     "metadata": {
      "needs_background": "light"
     },
     "output_type": "display_data"
    },
    {
     "data": {
      "image/png": "[encoded data removed]",
      "text/plain": [
       "<Figure size 1008x648 with 1 Axes>"
      ]
     },
     "metadata": {
      "needs_background": "light"
     },
     "output_type": "display_data"
    }
   ],
   "source": [
    "metals = [('au', 'золота'), ('ag', 'серебра'), ('pb', 'свинца')]\n",
    "\n",
    "stages = [('rougher.output.concentrate_', 'Флотация'), \n",
    "               ('primary_cleaner.output.concentrate_', 'Первый этап очистки'), \n",
    "               ('final.output.concentrate_', 'Второй этап очистки'),\n",
    "          ('rougher.input.feed_', 'Исходное сырье')]\n",
    "\n",
    "\n",
    "for i in metals:\n",
    "    plt.figure(figsize=(14,9))\n",
    "    for item in stages:\n",
    "        ax = sns.distplot(gold[item[0] + i[0]], label=item[1])\n",
    "        plt.legend()\n",
    "        _ = ax.set(xlabel='Распределение концeнтрации ' + i[1], \n",
    "                   title='Изменение концентрации ' + i[1] + ' на каждом этапе очистки')\n",
    "    plt.show()"
   ]
  },
  {
   "cell_type": "markdown",
   "metadata": {},
   "source": [
    "Концентрация золота после всех этапов очистки возврастает, чего не скажешь про другие металлы.\n",
    "\n",
    "На графиках видно большое количество выбросов в нулевом значении."
   ]
  },
  {
   "cell_type": "markdown",
   "metadata": {},
   "source": [
    "# 2.2 Сравнение распределения размеров гранул сырья на обучающей и тестовой выборках. "
   ]
  },
  {
   "cell_type": "code",
   "execution_count": 26,
   "metadata": {},
   "outputs": [
    {
     "data": {
      "text/plain": [
       "<matplotlib.legend.Legend at 0x7fbbbed719d0>"
      ]
     },
     "execution_count": 26,
     "metadata": {},
     "output_type": "execute_result"
    },
    {
     "data": {
      "image/png": "[encoded data removed]",
      "text/plain": [
       "<Figure size 576x360 with 1 Axes>"
      ]
     },
     "metadata": {
      "needs_background": "light"
     },
     "output_type": "display_data"
    }
   ],
   "source": [
    "plt.figure(figsize=(8,5))\n",
    "sns.distplot(test['rougher.input.feed_size'], label='Тестовая выборка')\n",
    "sns.distplot(train['rougher.input.feed_size'], label='Обучающая выборка')\n",
    "plt.legend()"
   ]
  },
  {
   "cell_type": "markdown",
   "metadata": {},
   "source": [
    "Распределяния одинаковы"
   ]
  },
  {
   "cell_type": "markdown",
   "metadata": {},
   "source": [
    "# 2.3 Исследование суммарную концентрацию всех веществ на разных стадиях: в сырье, в черновом и финальном концентратах. "
   ]
  },
  {
   "cell_type": "code",
   "execution_count": 27,
   "metadata": {},
   "outputs": [
    {
     "data": {
      "image/png": "[encoded data removed]",
      "text/plain": [
       "<Figure size 1440x432 with 3 Axes>"
      ]
     },
     "metadata": {
      "needs_background": "light"
     },
     "output_type": "display_data"
    }
   ],
   "source": [
    "concentration_stages = [('rougher.input.feed_', 'в сырье'),\n",
    "                        ('rougher.output.concentrate_', 'в черновом концентрате'), \n",
    "                        ('final.output.concentrate_', 'в финальном концентрате')]\n",
    "\n",
    "\n",
    "fig, axs = plt.subplots(1, len(concentration_stages), figsize=(20, 6))\n",
    "fig.suptitle('Суммарная концентрация всех веществ на разных стадиях', fontsize=15)\n",
    "\n",
    "\n",
    "for stage, ax in zip(concentration_stages, axs):\n",
    "    ax.set_title(stage[1])\n",
    "    gold_sum =  gold[stage[0]+ 'ag'] + gold[stage[0]+ 'au'] + gold[stage[0]+ 'pb'] + gold[stage[0]+ 'sol']\n",
    "\n",
    "    sns.distplot(gold_sum, ax=ax)   \n",
    "\n",
    "plt.show()"
   ]
  },
  {
   "cell_type": "code",
   "execution_count": 28,
   "metadata": {},
   "outputs": [
    {
     "data": {
      "image/png": "[encoded data removed]",
      "text/plain": [
       "<Figure size 1440x432 with 3 Axes>"
      ]
     },
     "metadata": {
      "needs_background": "light"
     },
     "output_type": "display_data"
    }
   ],
   "source": [
    "gold_sum = gold.replace(0, np.nan)\n",
    "gold_sum = gold.dropna(how='all', axis=0)\n",
    "\n",
    "fig, axs = plt.subplots(1, len(concentration_stages), figsize=(20, 6))\n",
    "fig.suptitle('Суммарная концентрация всех веществ на разных стадиях', fontsize=15)\n",
    "\n",
    "\n",
    "for stage, ax in zip(concentration_stages, axs):\n",
    "    ax.set_title(stage[1])\n",
    "    final =  gold_sum[stage[0]+ 'ag'] + gold_sum[stage[0]+ 'au'] + gold_sum[stage[0]+ 'pb'] + gold_sum[stage[0]+ 'sol']\n",
    "    sns.distplot(final.replace(0,np.nan).dropna(), ax=ax) \n",
    "    \n",
    "\n",
    "plt.show()"
   ]
  },
  {
   "cell_type": "markdown",
   "metadata": {},
   "source": [
    "На финальной стадии суммарная концентрация веществ уменьшается."
   ]
  },
  {
   "cell_type": "markdown",
   "metadata": {},
   "source": [
    "## Модель"
   ]
  },
  {
   "cell_type": "markdown",
   "metadata": {},
   "source": [
    "# 3.1 функция для вычисления итоговой sMAPE."
   ]
  },
  {
   "cell_type": "code",
   "execution_count": 29,
   "metadata": {},
   "outputs": [],
   "source": [
    "def smape (target, predictions):\n",
    "    return 100/len(target) * np.sum(2 * np.abs(predictions - target) / (np.abs(target) + np.abs(predictions)))"
   ]
  },
  {
   "cell_type": "code",
   "execution_count": 30,
   "metadata": {},
   "outputs": [],
   "source": [
    "def final_smape (rougher, final):\n",
    "    return 0.25 * rougher + 0.75 * final"
   ]
  },
  {
   "cell_type": "markdown",
   "metadata": {},
   "source": [
    "# 3.2 Разные модели и оцените их качество кросс-валидацией. "
   ]
  },
  {
   "cell_type": "code",
   "execution_count": 31,
   "metadata": {},
   "outputs": [],
   "source": [
    "train.drop(['date'], axis=1, inplace=True)\n",
    "test.drop(['date'], axis=1, inplace=True)"
   ]
  },
  {
   "cell_type": "code",
   "execution_count": 32,
   "metadata": {},
   "outputs": [],
   "source": [
    "clean_train = train.drop(['final.output.concentrate_ag',\n",
    "                          'final.output.concentrate_pb',\n",
    "                          'final.output.concentrate_sol',\n",
    "                          'final.output.concentrate_au',\n",
    "                          'final.output.recovery',\n",
    "                          'final.output.tail_ag',\n",
    "                          'final.output.tail_pb',\n",
    "                          'final.output.tail_sol',\n",
    "                          'final.output.tail_au',\n",
    "                         'primary_cleaner.output.concentrate_ag',\n",
    "                         'primary_cleaner.output.concentrate_pb',\n",
    "                         'primary_cleaner.output.concentrate_sol',\n",
    "                         'primary_cleaner.output.concentrate_au',\n",
    "                         'primary_cleaner.output.tail_ag',\n",
    "                         'primary_cleaner.output.tail_pb',\n",
    "                         'primary_cleaner.output.tail_au',\n",
    "                         'primary_cleaner.output.tail_sol',\n",
    "                          'rougher.output.concentrate_ag',                      \n",
    "                          'rougher.output.concentrate_pb',                       \n",
    "                          'rougher.output.concentrate_sol',                      \n",
    "                          'rougher.output.concentrate_au',                     \n",
    "                          'rougher.output.recovery',                           \n",
    "                          'rougher.output.tail_ag',                              \n",
    "                          'rougher.output.tail_pb',                              \n",
    "                          'rougher.output.tail_sol',                             \n",
    "                          'rougher.output.tail_au',\n",
    "                          'rougher.calculation.sulfate_to_au_concentrate',\n",
    "                          'rougher.calculation.floatbank10_sulfate_to_au_feed', \n",
    "                          'rougher.calculation.floatbank11_sulfate_to_au_feed',\n",
    "                          'rougher.calculation.au_pb_ratio',\n",
    "                          'secondary_cleaner.output.tail_ag',     \n",
    "                          'secondary_cleaner.output.tail_pb',          \n",
    "                          'secondary_cleaner.output.tail_sol',        \n",
    "                          'secondary_cleaner.output.tail_au'], axis='columns')"
   ]
  },
  {
   "cell_type": "code",
   "execution_count": 33,
   "metadata": {},
   "outputs": [],
   "source": [
    "clean_test = test.drop(['final.output.recovery', 'rougher.output.recovery'], axis='columns')"
   ]
  },
  {
   "cell_type": "code",
   "execution_count": 34,
   "metadata": {
    "scrolled": true
   },
   "outputs": [
    {
     "data": {
      "text/html": [
       "<div>\n",
       "<style scoped>\n",
       "    .dataframe tbody tr th:only-of-type {\n",
       "        vertical-align: middle;\n",
       "    }\n",
       "\n",
       "    .dataframe tbody tr th {\n",
       "        vertical-align: top;\n",
       "    }\n",
       "\n",
       "    .dataframe thead th {\n",
       "        text-align: right;\n",
       "    }\n",
       "</style>\n",
       "<table border=\"1\" class=\"dataframe\">\n",
       "  <thead>\n",
       "    <tr style=\"text-align: right;\">\n",
       "      <th></th>\n",
       "      <th>primary_cleaner.input.sulfate</th>\n",
       "      <th>primary_cleaner.input.depressant</th>\n",
       "      <th>primary_cleaner.input.feed_size</th>\n",
       "      <th>primary_cleaner.input.xanthate</th>\n",
       "      <th>primary_cleaner.state.floatbank8_a_air</th>\n",
       "      <th>primary_cleaner.state.floatbank8_a_level</th>\n",
       "      <th>primary_cleaner.state.floatbank8_b_air</th>\n",
       "      <th>primary_cleaner.state.floatbank8_b_level</th>\n",
       "      <th>primary_cleaner.state.floatbank8_c_air</th>\n",
       "      <th>primary_cleaner.state.floatbank8_c_level</th>\n",
       "      <th>...</th>\n",
       "      <th>secondary_cleaner.state.floatbank4_a_air</th>\n",
       "      <th>secondary_cleaner.state.floatbank4_a_level</th>\n",
       "      <th>secondary_cleaner.state.floatbank4_b_air</th>\n",
       "      <th>secondary_cleaner.state.floatbank4_b_level</th>\n",
       "      <th>secondary_cleaner.state.floatbank5_a_air</th>\n",
       "      <th>secondary_cleaner.state.floatbank5_a_level</th>\n",
       "      <th>secondary_cleaner.state.floatbank5_b_air</th>\n",
       "      <th>secondary_cleaner.state.floatbank5_b_level</th>\n",
       "      <th>secondary_cleaner.state.floatbank6_a_air</th>\n",
       "      <th>secondary_cleaner.state.floatbank6_a_level</th>\n",
       "    </tr>\n",
       "  </thead>\n",
       "  <tbody>\n",
       "    <tr>\n",
       "      <th>0</th>\n",
       "      <td>210.800909</td>\n",
       "      <td>14.993118</td>\n",
       "      <td>8.080000</td>\n",
       "      <td>1.005021</td>\n",
       "      <td>1398.981301</td>\n",
       "      <td>-500.225577</td>\n",
       "      <td>1399.144926</td>\n",
       "      <td>-499.919735</td>\n",
       "      <td>1400.102998</td>\n",
       "      <td>-500.704369</td>\n",
       "      <td>...</td>\n",
       "      <td>12.023554</td>\n",
       "      <td>-497.795834</td>\n",
       "      <td>8.016656</td>\n",
       "      <td>-501.289139</td>\n",
       "      <td>7.946562</td>\n",
       "      <td>-432.317850</td>\n",
       "      <td>4.872511</td>\n",
       "      <td>-500.037437</td>\n",
       "      <td>26.705889</td>\n",
       "      <td>-499.709414</td>\n",
       "    </tr>\n",
       "    <tr>\n",
       "      <th>1</th>\n",
       "      <td>215.392455</td>\n",
       "      <td>14.987471</td>\n",
       "      <td>8.080000</td>\n",
       "      <td>0.990469</td>\n",
       "      <td>1398.777912</td>\n",
       "      <td>-500.057435</td>\n",
       "      <td>1398.055362</td>\n",
       "      <td>-499.778182</td>\n",
       "      <td>1396.151033</td>\n",
       "      <td>-499.240168</td>\n",
       "      <td>...</td>\n",
       "      <td>12.058140</td>\n",
       "      <td>-498.695773</td>\n",
       "      <td>8.130979</td>\n",
       "      <td>-499.634209</td>\n",
       "      <td>7.958270</td>\n",
       "      <td>-525.839648</td>\n",
       "      <td>4.878850</td>\n",
       "      <td>-500.162375</td>\n",
       "      <td>25.019940</td>\n",
       "      <td>-499.819438</td>\n",
       "    </tr>\n",
       "    <tr>\n",
       "      <th>2</th>\n",
       "      <td>215.259946</td>\n",
       "      <td>12.884934</td>\n",
       "      <td>7.786667</td>\n",
       "      <td>0.996043</td>\n",
       "      <td>1398.493666</td>\n",
       "      <td>-500.868360</td>\n",
       "      <td>1398.860436</td>\n",
       "      <td>-499.764529</td>\n",
       "      <td>1398.075709</td>\n",
       "      <td>-502.151509</td>\n",
       "      <td>...</td>\n",
       "      <td>11.962366</td>\n",
       "      <td>-498.767484</td>\n",
       "      <td>8.096893</td>\n",
       "      <td>-500.827423</td>\n",
       "      <td>8.071056</td>\n",
       "      <td>-500.801673</td>\n",
       "      <td>4.905125</td>\n",
       "      <td>-499.828510</td>\n",
       "      <td>24.994862</td>\n",
       "      <td>-500.622559</td>\n",
       "    </tr>\n",
       "    <tr>\n",
       "      <th>3</th>\n",
       "      <td>215.336236</td>\n",
       "      <td>12.006805</td>\n",
       "      <td>7.640000</td>\n",
       "      <td>0.863514</td>\n",
       "      <td>1399.618111</td>\n",
       "      <td>-498.863574</td>\n",
       "      <td>1397.440120</td>\n",
       "      <td>-499.211024</td>\n",
       "      <td>1400.129303</td>\n",
       "      <td>-498.355873</td>\n",
       "      <td>...</td>\n",
       "      <td>12.033091</td>\n",
       "      <td>-498.350935</td>\n",
       "      <td>8.074946</td>\n",
       "      <td>-499.474407</td>\n",
       "      <td>7.897085</td>\n",
       "      <td>-500.868509</td>\n",
       "      <td>4.931400</td>\n",
       "      <td>-499.963623</td>\n",
       "      <td>24.948919</td>\n",
       "      <td>-498.709987</td>\n",
       "    </tr>\n",
       "    <tr>\n",
       "      <th>4</th>\n",
       "      <td>199.099327</td>\n",
       "      <td>10.682530</td>\n",
       "      <td>7.530000</td>\n",
       "      <td>0.805575</td>\n",
       "      <td>1401.268123</td>\n",
       "      <td>-500.808305</td>\n",
       "      <td>1398.128818</td>\n",
       "      <td>-499.504543</td>\n",
       "      <td>1402.172226</td>\n",
       "      <td>-500.810606</td>\n",
       "      <td>...</td>\n",
       "      <td>12.025367</td>\n",
       "      <td>-500.786497</td>\n",
       "      <td>8.054678</td>\n",
       "      <td>-500.397500</td>\n",
       "      <td>8.107890</td>\n",
       "      <td>-509.526725</td>\n",
       "      <td>4.957674</td>\n",
       "      <td>-500.360026</td>\n",
       "      <td>25.003331</td>\n",
       "      <td>-500.856333</td>\n",
       "    </tr>\n",
       "    <tr>\n",
       "      <th>...</th>\n",
       "      <td>...</td>\n",
       "      <td>...</td>\n",
       "      <td>...</td>\n",
       "      <td>...</td>\n",
       "      <td>...</td>\n",
       "      <td>...</td>\n",
       "      <td>...</td>\n",
       "      <td>...</td>\n",
       "      <td>...</td>\n",
       "      <td>...</td>\n",
       "      <td>...</td>\n",
       "      <td>...</td>\n",
       "      <td>...</td>\n",
       "      <td>...</td>\n",
       "      <td>...</td>\n",
       "      <td>...</td>\n",
       "      <td>...</td>\n",
       "      <td>...</td>\n",
       "      <td>...</td>\n",
       "      <td>...</td>\n",
       "      <td>...</td>\n",
       "    </tr>\n",
       "    <tr>\n",
       "      <th>5285</th>\n",
       "      <td>173.957757</td>\n",
       "      <td>15.963399</td>\n",
       "      <td>8.070000</td>\n",
       "      <td>0.896701</td>\n",
       "      <td>1401.930554</td>\n",
       "      <td>-499.728848</td>\n",
       "      <td>1401.441445</td>\n",
       "      <td>-499.193423</td>\n",
       "      <td>1399.810313</td>\n",
       "      <td>-499.599127</td>\n",
       "      <td>...</td>\n",
       "      <td>13.995957</td>\n",
       "      <td>-500.157454</td>\n",
       "      <td>12.069155</td>\n",
       "      <td>-499.673279</td>\n",
       "      <td>7.977259</td>\n",
       "      <td>-499.516126</td>\n",
       "      <td>5.933319</td>\n",
       "      <td>-499.965973</td>\n",
       "      <td>8.987171</td>\n",
       "      <td>-499.755909</td>\n",
       "    </tr>\n",
       "    <tr>\n",
       "      <th>5286</th>\n",
       "      <td>172.910270</td>\n",
       "      <td>16.002605</td>\n",
       "      <td>8.070000</td>\n",
       "      <td>0.896519</td>\n",
       "      <td>1447.075722</td>\n",
       "      <td>-494.716823</td>\n",
       "      <td>1448.851892</td>\n",
       "      <td>-465.963026</td>\n",
       "      <td>1443.890424</td>\n",
       "      <td>-503.587739</td>\n",
       "      <td>...</td>\n",
       "      <td>16.749781</td>\n",
       "      <td>-496.031539</td>\n",
       "      <td>13.365371</td>\n",
       "      <td>-499.122723</td>\n",
       "      <td>9.288553</td>\n",
       "      <td>-496.892967</td>\n",
       "      <td>7.372897</td>\n",
       "      <td>-499.942956</td>\n",
       "      <td>8.986832</td>\n",
       "      <td>-499.903761</td>\n",
       "    </tr>\n",
       "    <tr>\n",
       "      <th>5287</th>\n",
       "      <td>171.135718</td>\n",
       "      <td>15.993669</td>\n",
       "      <td>8.070000</td>\n",
       "      <td>1.165996</td>\n",
       "      <td>1498.836182</td>\n",
       "      <td>-501.770403</td>\n",
       "      <td>1499.572353</td>\n",
       "      <td>-495.516347</td>\n",
       "      <td>1502.749213</td>\n",
       "      <td>-520.667442</td>\n",
       "      <td>...</td>\n",
       "      <td>19.994130</td>\n",
       "      <td>-499.791312</td>\n",
       "      <td>15.101425</td>\n",
       "      <td>-499.936252</td>\n",
       "      <td>10.989181</td>\n",
       "      <td>-498.347898</td>\n",
       "      <td>9.020944</td>\n",
       "      <td>-500.040448</td>\n",
       "      <td>8.982038</td>\n",
       "      <td>-497.789882</td>\n",
       "    </tr>\n",
       "    <tr>\n",
       "      <th>5288</th>\n",
       "      <td>179.697158</td>\n",
       "      <td>15.438979</td>\n",
       "      <td>8.070000</td>\n",
       "      <td>1.501068</td>\n",
       "      <td>1498.466243</td>\n",
       "      <td>-500.483984</td>\n",
       "      <td>1497.986986</td>\n",
       "      <td>-519.200340</td>\n",
       "      <td>1496.569047</td>\n",
       "      <td>-487.479567</td>\n",
       "      <td>...</td>\n",
       "      <td>19.958760</td>\n",
       "      <td>-499.958750</td>\n",
       "      <td>15.026853</td>\n",
       "      <td>-499.723143</td>\n",
       "      <td>11.011607</td>\n",
       "      <td>-499.985046</td>\n",
       "      <td>9.009783</td>\n",
       "      <td>-499.937902</td>\n",
       "      <td>9.012660</td>\n",
       "      <td>-500.154284</td>\n",
       "    </tr>\n",
       "    <tr>\n",
       "      <th>5289</th>\n",
       "      <td>181.556856</td>\n",
       "      <td>14.995850</td>\n",
       "      <td>8.070000</td>\n",
       "      <td>1.623454</td>\n",
       "      <td>1498.096303</td>\n",
       "      <td>-499.796922</td>\n",
       "      <td>1501.743791</td>\n",
       "      <td>-505.146931</td>\n",
       "      <td>1499.535978</td>\n",
       "      <td>-492.428226</td>\n",
       "      <td>...</td>\n",
       "      <td>20.034715</td>\n",
       "      <td>-500.728588</td>\n",
       "      <td>14.914199</td>\n",
       "      <td>-499.948518</td>\n",
       "      <td>10.986607</td>\n",
       "      <td>-500.658027</td>\n",
       "      <td>8.989497</td>\n",
       "      <td>-500.337588</td>\n",
       "      <td>8.988632</td>\n",
       "      <td>-500.764937</td>\n",
       "    </tr>\n",
       "  </tbody>\n",
       "</table>\n",
       "<p>5290 rows × 52 columns</p>\n",
       "</div>"
      ],
      "text/plain": [
       "      primary_cleaner.input.sulfate  primary_cleaner.input.depressant  \\\n",
       "0                        210.800909                         14.993118   \n",
       "1                        215.392455                         14.987471   \n",
       "2                        215.259946                         12.884934   \n",
       "3                        215.336236                         12.006805   \n",
       "4                        199.099327                         10.682530   \n",
       "...                             ...                               ...   \n",
       "5285                     173.957757                         15.963399   \n",
       "5286                     172.910270                         16.002605   \n",
       "5287                     171.135718                         15.993669   \n",
       "5288                     179.697158                         15.438979   \n",
       "5289                     181.556856                         14.995850   \n",
       "\n",
       "      primary_cleaner.input.feed_size  primary_cleaner.input.xanthate  \\\n",
       "0                            8.080000                        1.005021   \n",
       "1                            8.080000                        0.990469   \n",
       "2                            7.786667                        0.996043   \n",
       "3                            7.640000                        0.863514   \n",
       "4                            7.530000                        0.805575   \n",
       "...                               ...                             ...   \n",
       "5285                         8.070000                        0.896701   \n",
       "5286                         8.070000                        0.896519   \n",
       "5287                         8.070000                        1.165996   \n",
       "5288                         8.070000                        1.501068   \n",
       "5289                         8.070000                        1.623454   \n",
       "\n",
       "      primary_cleaner.state.floatbank8_a_air  \\\n",
       "0                                1398.981301   \n",
       "1                                1398.777912   \n",
       "2                                1398.493666   \n",
       "3                                1399.618111   \n",
       "4                                1401.268123   \n",
       "...                                      ...   \n",
       "5285                             1401.930554   \n",
       "5286                             1447.075722   \n",
       "5287                             1498.836182   \n",
       "5288                             1498.466243   \n",
       "5289                             1498.096303   \n",
       "\n",
       "      primary_cleaner.state.floatbank8_a_level  \\\n",
       "0                                  -500.225577   \n",
       "1                                  -500.057435   \n",
       "2                                  -500.868360   \n",
       "3                                  -498.863574   \n",
       "4                                  -500.808305   \n",
       "...                                        ...   \n",
       "5285                               -499.728848   \n",
       "5286                               -494.716823   \n",
       "5287                               -501.770403   \n",
       "5288                               -500.483984   \n",
       "5289                               -499.796922   \n",
       "\n",
       "      primary_cleaner.state.floatbank8_b_air  \\\n",
       "0                                1399.144926   \n",
       "1                                1398.055362   \n",
       "2                                1398.860436   \n",
       "3                                1397.440120   \n",
       "4                                1398.128818   \n",
       "...                                      ...   \n",
       "5285                             1401.441445   \n",
       "5286                             1448.851892   \n",
       "5287                             1499.572353   \n",
       "5288                             1497.986986   \n",
       "5289                             1501.743791   \n",
       "\n",
       "      primary_cleaner.state.floatbank8_b_level  \\\n",
       "0                                  -499.919735   \n",
       "1                                  -499.778182   \n",
       "2                                  -499.764529   \n",
       "3                                  -499.211024   \n",
       "4                                  -499.504543   \n",
       "...                                        ...   \n",
       "5285                               -499.193423   \n",
       "5286                               -465.963026   \n",
       "5287                               -495.516347   \n",
       "5288                               -519.200340   \n",
       "5289                               -505.146931   \n",
       "\n",
       "      primary_cleaner.state.floatbank8_c_air  \\\n",
       "0                                1400.102998   \n",
       "1                                1396.151033   \n",
       "2                                1398.075709   \n",
       "3                                1400.129303   \n",
       "4                                1402.172226   \n",
       "...                                      ...   \n",
       "5285                             1399.810313   \n",
       "5286                             1443.890424   \n",
       "5287                             1502.749213   \n",
       "5288                             1496.569047   \n",
       "5289                             1499.535978   \n",
       "\n",
       "      primary_cleaner.state.floatbank8_c_level  ...  \\\n",
       "0                                  -500.704369  ...   \n",
       "1                                  -499.240168  ...   \n",
       "2                                  -502.151509  ...   \n",
       "3                                  -498.355873  ...   \n",
       "4                                  -500.810606  ...   \n",
       "...                                        ...  ...   \n",
       "5285                               -499.599127  ...   \n",
       "5286                               -503.587739  ...   \n",
       "5287                               -520.667442  ...   \n",
       "5288                               -487.479567  ...   \n",
       "5289                               -492.428226  ...   \n",
       "\n",
       "      secondary_cleaner.state.floatbank4_a_air  \\\n",
       "0                                    12.023554   \n",
       "1                                    12.058140   \n",
       "2                                    11.962366   \n",
       "3                                    12.033091   \n",
       "4                                    12.025367   \n",
       "...                                        ...   \n",
       "5285                                 13.995957   \n",
       "5286                                 16.749781   \n",
       "5287                                 19.994130   \n",
       "5288                                 19.958760   \n",
       "5289                                 20.034715   \n",
       "\n",
       "      secondary_cleaner.state.floatbank4_a_level  \\\n",
       "0                                    -497.795834   \n",
       "1                                    -498.695773   \n",
       "2                                    -498.767484   \n",
       "3                                    -498.350935   \n",
       "4                                    -500.786497   \n",
       "...                                          ...   \n",
       "5285                                 -500.157454   \n",
       "5286                                 -496.031539   \n",
       "5287                                 -499.791312   \n",
       "5288                                 -499.958750   \n",
       "5289                                 -500.728588   \n",
       "\n",
       "      secondary_cleaner.state.floatbank4_b_air  \\\n",
       "0                                     8.016656   \n",
       "1                                     8.130979   \n",
       "2                                     8.096893   \n",
       "3                                     8.074946   \n",
       "4                                     8.054678   \n",
       "...                                        ...   \n",
       "5285                                 12.069155   \n",
       "5286                                 13.365371   \n",
       "5287                                 15.101425   \n",
       "5288                                 15.026853   \n",
       "5289                                 14.914199   \n",
       "\n",
       "      secondary_cleaner.state.floatbank4_b_level  \\\n",
       "0                                    -501.289139   \n",
       "1                                    -499.634209   \n",
       "2                                    -500.827423   \n",
       "3                                    -499.474407   \n",
       "4                                    -500.397500   \n",
       "...                                          ...   \n",
       "5285                                 -499.673279   \n",
       "5286                                 -499.122723   \n",
       "5287                                 -499.936252   \n",
       "5288                                 -499.723143   \n",
       "5289                                 -499.948518   \n",
       "\n",
       "      secondary_cleaner.state.floatbank5_a_air  \\\n",
       "0                                     7.946562   \n",
       "1                                     7.958270   \n",
       "2                                     8.071056   \n",
       "3                                     7.897085   \n",
       "4                                     8.107890   \n",
       "...                                        ...   \n",
       "5285                                  7.977259   \n",
       "5286                                  9.288553   \n",
       "5287                                 10.989181   \n",
       "5288                                 11.011607   \n",
       "5289                                 10.986607   \n",
       "\n",
       "      secondary_cleaner.state.floatbank5_a_level  \\\n",
       "0                                    -432.317850   \n",
       "1                                    -525.839648   \n",
       "2                                    -500.801673   \n",
       "3                                    -500.868509   \n",
       "4                                    -509.526725   \n",
       "...                                          ...   \n",
       "5285                                 -499.516126   \n",
       "5286                                 -496.892967   \n",
       "5287                                 -498.347898   \n",
       "5288                                 -499.985046   \n",
       "5289                                 -500.658027   \n",
       "\n",
       "      secondary_cleaner.state.floatbank5_b_air  \\\n",
       "0                                     4.872511   \n",
       "1                                     4.878850   \n",
       "2                                     4.905125   \n",
       "3                                     4.931400   \n",
       "4                                     4.957674   \n",
       "...                                        ...   \n",
       "5285                                  5.933319   \n",
       "5286                                  7.372897   \n",
       "5287                                  9.020944   \n",
       "5288                                  9.009783   \n",
       "5289                                  8.989497   \n",
       "\n",
       "      secondary_cleaner.state.floatbank5_b_level  \\\n",
       "0                                    -500.037437   \n",
       "1                                    -500.162375   \n",
       "2                                    -499.828510   \n",
       "3                                    -499.963623   \n",
       "4                                    -500.360026   \n",
       "...                                          ...   \n",
       "5285                                 -499.965973   \n",
       "5286                                 -499.942956   \n",
       "5287                                 -500.040448   \n",
       "5288                                 -499.937902   \n",
       "5289                                 -500.337588   \n",
       "\n",
       "      secondary_cleaner.state.floatbank6_a_air  \\\n",
       "0                                    26.705889   \n",
       "1                                    25.019940   \n",
       "2                                    24.994862   \n",
       "3                                    24.948919   \n",
       "4                                    25.003331   \n",
       "...                                        ...   \n",
       "5285                                  8.987171   \n",
       "5286                                  8.986832   \n",
       "5287                                  8.982038   \n",
       "5288                                  9.012660   \n",
       "5289                                  8.988632   \n",
       "\n",
       "      secondary_cleaner.state.floatbank6_a_level  \n",
       "0                                    -499.709414  \n",
       "1                                    -499.819438  \n",
       "2                                    -500.622559  \n",
       "3                                    -498.709987  \n",
       "4                                    -500.856333  \n",
       "...                                          ...  \n",
       "5285                                 -499.755909  \n",
       "5286                                 -499.903761  \n",
       "5287                                 -497.789882  \n",
       "5288                                 -500.154284  \n",
       "5289                                 -500.764937  \n",
       "\n",
       "[5290 rows x 52 columns]"
      ]
     },
     "execution_count": 34,
     "metadata": {},
     "output_type": "execute_result"
    }
   ],
   "source": [
    "clean_test"
   ]
  },
  {
   "cell_type": "code",
   "execution_count": 35,
   "metadata": {
    "scrolled": false
   },
   "outputs": [
    {
     "data": {
      "text/html": [
       "<div>\n",
       "<style scoped>\n",
       "    .dataframe tbody tr th:only-of-type {\n",
       "        vertical-align: middle;\n",
       "    }\n",
       "\n",
       "    .dataframe tbody tr th {\n",
       "        vertical-align: top;\n",
       "    }\n",
       "\n",
       "    .dataframe thead th {\n",
       "        text-align: right;\n",
       "    }\n",
       "</style>\n",
       "<table border=\"1\" class=\"dataframe\">\n",
       "  <thead>\n",
       "    <tr style=\"text-align: right;\">\n",
       "      <th></th>\n",
       "      <th>primary_cleaner.input.sulfate</th>\n",
       "      <th>primary_cleaner.input.depressant</th>\n",
       "      <th>primary_cleaner.input.feed_size</th>\n",
       "      <th>primary_cleaner.input.xanthate</th>\n",
       "      <th>primary_cleaner.state.floatbank8_a_air</th>\n",
       "      <th>primary_cleaner.state.floatbank8_a_level</th>\n",
       "      <th>primary_cleaner.state.floatbank8_b_air</th>\n",
       "      <th>primary_cleaner.state.floatbank8_b_level</th>\n",
       "      <th>primary_cleaner.state.floatbank8_c_air</th>\n",
       "      <th>primary_cleaner.state.floatbank8_c_level</th>\n",
       "      <th>...</th>\n",
       "      <th>secondary_cleaner.state.floatbank4_a_air</th>\n",
       "      <th>secondary_cleaner.state.floatbank4_a_level</th>\n",
       "      <th>secondary_cleaner.state.floatbank4_b_air</th>\n",
       "      <th>secondary_cleaner.state.floatbank4_b_level</th>\n",
       "      <th>secondary_cleaner.state.floatbank5_a_air</th>\n",
       "      <th>secondary_cleaner.state.floatbank5_a_level</th>\n",
       "      <th>secondary_cleaner.state.floatbank5_b_air</th>\n",
       "      <th>secondary_cleaner.state.floatbank5_b_level</th>\n",
       "      <th>secondary_cleaner.state.floatbank6_a_air</th>\n",
       "      <th>secondary_cleaner.state.floatbank6_a_level</th>\n",
       "    </tr>\n",
       "  </thead>\n",
       "  <tbody>\n",
       "    <tr>\n",
       "      <th>0</th>\n",
       "      <td>127.092003</td>\n",
       "      <td>10.128295</td>\n",
       "      <td>7.25</td>\n",
       "      <td>0.988759</td>\n",
       "      <td>1549.775757</td>\n",
       "      <td>-498.912140</td>\n",
       "      <td>1551.434204</td>\n",
       "      <td>-516.403442</td>\n",
       "      <td>1549.873901</td>\n",
       "      <td>-498.666595</td>\n",
       "      <td>...</td>\n",
       "      <td>14.016835</td>\n",
       "      <td>-502.488007</td>\n",
       "      <td>12.099931</td>\n",
       "      <td>-504.715942</td>\n",
       "      <td>9.925633</td>\n",
       "      <td>-498.310211</td>\n",
       "      <td>8.079666</td>\n",
       "      <td>-500.470978</td>\n",
       "      <td>14.151341</td>\n",
       "      <td>-605.841980</td>\n",
       "    </tr>\n",
       "    <tr>\n",
       "      <th>1</th>\n",
       "      <td>125.629232</td>\n",
       "      <td>10.296251</td>\n",
       "      <td>7.25</td>\n",
       "      <td>1.002663</td>\n",
       "      <td>1576.166671</td>\n",
       "      <td>-500.904965</td>\n",
       "      <td>1575.950626</td>\n",
       "      <td>-499.865889</td>\n",
       "      <td>1575.994189</td>\n",
       "      <td>-499.315107</td>\n",
       "      <td>...</td>\n",
       "      <td>13.992281</td>\n",
       "      <td>-505.503262</td>\n",
       "      <td>11.950531</td>\n",
       "      <td>-501.331529</td>\n",
       "      <td>10.039245</td>\n",
       "      <td>-500.169983</td>\n",
       "      <td>7.984757</td>\n",
       "      <td>-500.582168</td>\n",
       "      <td>13.998353</td>\n",
       "      <td>-599.787184</td>\n",
       "    </tr>\n",
       "    <tr>\n",
       "      <th>2</th>\n",
       "      <td>123.819808</td>\n",
       "      <td>11.316280</td>\n",
       "      <td>7.25</td>\n",
       "      <td>0.991265</td>\n",
       "      <td>1601.556163</td>\n",
       "      <td>-499.997791</td>\n",
       "      <td>1600.386685</td>\n",
       "      <td>-500.607762</td>\n",
       "      <td>1602.003542</td>\n",
       "      <td>-500.870069</td>\n",
       "      <td>...</td>\n",
       "      <td>14.015015</td>\n",
       "      <td>-502.520901</td>\n",
       "      <td>11.912783</td>\n",
       "      <td>-501.133383</td>\n",
       "      <td>10.070913</td>\n",
       "      <td>-500.129135</td>\n",
       "      <td>8.013877</td>\n",
       "      <td>-500.517572</td>\n",
       "      <td>14.028663</td>\n",
       "      <td>-601.427363</td>\n",
       "    </tr>\n",
       "    <tr>\n",
       "      <th>3</th>\n",
       "      <td>122.270188</td>\n",
       "      <td>11.322140</td>\n",
       "      <td>7.25</td>\n",
       "      <td>0.996739</td>\n",
       "      <td>1599.968720</td>\n",
       "      <td>-500.951778</td>\n",
       "      <td>1600.659236</td>\n",
       "      <td>-499.677094</td>\n",
       "      <td>1600.304144</td>\n",
       "      <td>-500.727997</td>\n",
       "      <td>...</td>\n",
       "      <td>14.036510</td>\n",
       "      <td>-500.857308</td>\n",
       "      <td>11.999550</td>\n",
       "      <td>-501.193686</td>\n",
       "      <td>9.970366</td>\n",
       "      <td>-499.201640</td>\n",
       "      <td>7.977324</td>\n",
       "      <td>-500.255908</td>\n",
       "      <td>14.005551</td>\n",
       "      <td>-599.996129</td>\n",
       "    </tr>\n",
       "    <tr>\n",
       "      <th>4</th>\n",
       "      <td>117.988169</td>\n",
       "      <td>11.913613</td>\n",
       "      <td>7.25</td>\n",
       "      <td>1.009869</td>\n",
       "      <td>1601.339707</td>\n",
       "      <td>-498.975456</td>\n",
       "      <td>1601.437854</td>\n",
       "      <td>-500.323246</td>\n",
       "      <td>1599.581894</td>\n",
       "      <td>-500.888152</td>\n",
       "      <td>...</td>\n",
       "      <td>14.027298</td>\n",
       "      <td>-499.838632</td>\n",
       "      <td>11.953070</td>\n",
       "      <td>-501.053894</td>\n",
       "      <td>9.925709</td>\n",
       "      <td>-501.686727</td>\n",
       "      <td>7.894242</td>\n",
       "      <td>-500.356035</td>\n",
       "      <td>13.996647</td>\n",
       "      <td>-601.496691</td>\n",
       "    </tr>\n",
       "    <tr>\n",
       "      <th>...</th>\n",
       "      <td>...</td>\n",
       "      <td>...</td>\n",
       "      <td>...</td>\n",
       "      <td>...</td>\n",
       "      <td>...</td>\n",
       "      <td>...</td>\n",
       "      <td>...</td>\n",
       "      <td>...</td>\n",
       "      <td>...</td>\n",
       "      <td>...</td>\n",
       "      <td>...</td>\n",
       "      <td>...</td>\n",
       "      <td>...</td>\n",
       "      <td>...</td>\n",
       "      <td>...</td>\n",
       "      <td>...</td>\n",
       "      <td>...</td>\n",
       "      <td>...</td>\n",
       "      <td>...</td>\n",
       "      <td>...</td>\n",
       "      <td>...</td>\n",
       "    </tr>\n",
       "    <tr>\n",
       "      <th>14144</th>\n",
       "      <td>123.381787</td>\n",
       "      <td>8.028927</td>\n",
       "      <td>6.50</td>\n",
       "      <td>1.304232</td>\n",
       "      <td>1648.421193</td>\n",
       "      <td>-400.382169</td>\n",
       "      <td>1648.742005</td>\n",
       "      <td>-400.359661</td>\n",
       "      <td>1648.578230</td>\n",
       "      <td>-399.363624</td>\n",
       "      <td>...</td>\n",
       "      <td>23.031497</td>\n",
       "      <td>-501.167942</td>\n",
       "      <td>20.007571</td>\n",
       "      <td>-499.740028</td>\n",
       "      <td>18.006038</td>\n",
       "      <td>-499.834374</td>\n",
       "      <td>13.001114</td>\n",
       "      <td>-500.155694</td>\n",
       "      <td>20.007840</td>\n",
       "      <td>-501.296428</td>\n",
       "    </tr>\n",
       "    <tr>\n",
       "      <th>14145</th>\n",
       "      <td>120.878188</td>\n",
       "      <td>7.962636</td>\n",
       "      <td>6.50</td>\n",
       "      <td>1.302419</td>\n",
       "      <td>1649.820162</td>\n",
       "      <td>-399.930973</td>\n",
       "      <td>1649.357538</td>\n",
       "      <td>-399.721222</td>\n",
       "      <td>1648.656192</td>\n",
       "      <td>-401.195834</td>\n",
       "      <td>...</td>\n",
       "      <td>22.960095</td>\n",
       "      <td>-501.612783</td>\n",
       "      <td>20.035660</td>\n",
       "      <td>-500.251357</td>\n",
       "      <td>17.998535</td>\n",
       "      <td>-500.395178</td>\n",
       "      <td>12.954048</td>\n",
       "      <td>-499.895163</td>\n",
       "      <td>19.968498</td>\n",
       "      <td>-501.041608</td>\n",
       "    </tr>\n",
       "    <tr>\n",
       "      <th>14146</th>\n",
       "      <td>105.666118</td>\n",
       "      <td>7.955111</td>\n",
       "      <td>6.50</td>\n",
       "      <td>1.315926</td>\n",
       "      <td>1649.166761</td>\n",
       "      <td>-399.888631</td>\n",
       "      <td>1649.196904</td>\n",
       "      <td>-399.677571</td>\n",
       "      <td>1647.896999</td>\n",
       "      <td>-399.988275</td>\n",
       "      <td>...</td>\n",
       "      <td>23.015718</td>\n",
       "      <td>-501.711599</td>\n",
       "      <td>19.951231</td>\n",
       "      <td>-499.857027</td>\n",
       "      <td>18.019543</td>\n",
       "      <td>-500.451156</td>\n",
       "      <td>13.023431</td>\n",
       "      <td>-499.914391</td>\n",
       "      <td>19.990885</td>\n",
       "      <td>-501.518452</td>\n",
       "    </tr>\n",
       "    <tr>\n",
       "      <th>14147</th>\n",
       "      <td>98.880538</td>\n",
       "      <td>7.984164</td>\n",
       "      <td>6.50</td>\n",
       "      <td>1.241969</td>\n",
       "      <td>1646.547763</td>\n",
       "      <td>-398.977083</td>\n",
       "      <td>1648.212240</td>\n",
       "      <td>-400.383265</td>\n",
       "      <td>1648.917387</td>\n",
       "      <td>-399.521344</td>\n",
       "      <td>...</td>\n",
       "      <td>23.024963</td>\n",
       "      <td>-501.153409</td>\n",
       "      <td>20.054122</td>\n",
       "      <td>-500.314711</td>\n",
       "      <td>17.979515</td>\n",
       "      <td>-499.272871</td>\n",
       "      <td>12.992404</td>\n",
       "      <td>-499.976268</td>\n",
       "      <td>20.013986</td>\n",
       "      <td>-500.625471</td>\n",
       "    </tr>\n",
       "    <tr>\n",
       "      <th>14148</th>\n",
       "      <td>95.248427</td>\n",
       "      <td>8.078957</td>\n",
       "      <td>6.50</td>\n",
       "      <td>1.283045</td>\n",
       "      <td>1648.759906</td>\n",
       "      <td>-399.862053</td>\n",
       "      <td>1650.135395</td>\n",
       "      <td>-399.957321</td>\n",
       "      <td>1648.831890</td>\n",
       "      <td>-400.586116</td>\n",
       "      <td>...</td>\n",
       "      <td>23.018622</td>\n",
       "      <td>-500.492702</td>\n",
       "      <td>20.020205</td>\n",
       "      <td>-500.220296</td>\n",
       "      <td>17.963512</td>\n",
       "      <td>-499.939490</td>\n",
       "      <td>12.990306</td>\n",
       "      <td>-500.080993</td>\n",
       "      <td>19.990336</td>\n",
       "      <td>-499.191575</td>\n",
       "    </tr>\n",
       "  </tbody>\n",
       "</table>\n",
       "<p>14149 rows × 52 columns</p>\n",
       "</div>"
      ],
      "text/plain": [
       "       primary_cleaner.input.sulfate  primary_cleaner.input.depressant  \\\n",
       "0                         127.092003                         10.128295   \n",
       "1                         125.629232                         10.296251   \n",
       "2                         123.819808                         11.316280   \n",
       "3                         122.270188                         11.322140   \n",
       "4                         117.988169                         11.913613   \n",
       "...                              ...                               ...   \n",
       "14144                     123.381787                          8.028927   \n",
       "14145                     120.878188                          7.962636   \n",
       "14146                     105.666118                          7.955111   \n",
       "14147                      98.880538                          7.984164   \n",
       "14148                      95.248427                          8.078957   \n",
       "\n",
       "       primary_cleaner.input.feed_size  primary_cleaner.input.xanthate  \\\n",
       "0                                 7.25                        0.988759   \n",
       "1                                 7.25                        1.002663   \n",
       "2                                 7.25                        0.991265   \n",
       "3                                 7.25                        0.996739   \n",
       "4                                 7.25                        1.009869   \n",
       "...                                ...                             ...   \n",
       "14144                             6.50                        1.304232   \n",
       "14145                             6.50                        1.302419   \n",
       "14146                             6.50                        1.315926   \n",
       "14147                             6.50                        1.241969   \n",
       "14148                             6.50                        1.283045   \n",
       "\n",
       "       primary_cleaner.state.floatbank8_a_air  \\\n",
       "0                                 1549.775757   \n",
       "1                                 1576.166671   \n",
       "2                                 1601.556163   \n",
       "3                                 1599.968720   \n",
       "4                                 1601.339707   \n",
       "...                                       ...   \n",
       "14144                             1648.421193   \n",
       "14145                             1649.820162   \n",
       "14146                             1649.166761   \n",
       "14147                             1646.547763   \n",
       "14148                             1648.759906   \n",
       "\n",
       "       primary_cleaner.state.floatbank8_a_level  \\\n",
       "0                                   -498.912140   \n",
       "1                                   -500.904965   \n",
       "2                                   -499.997791   \n",
       "3                                   -500.951778   \n",
       "4                                   -498.975456   \n",
       "...                                         ...   \n",
       "14144                               -400.382169   \n",
       "14145                               -399.930973   \n",
       "14146                               -399.888631   \n",
       "14147                               -398.977083   \n",
       "14148                               -399.862053   \n",
       "\n",
       "       primary_cleaner.state.floatbank8_b_air  \\\n",
       "0                                 1551.434204   \n",
       "1                                 1575.950626   \n",
       "2                                 1600.386685   \n",
       "3                                 1600.659236   \n",
       "4                                 1601.437854   \n",
       "...                                       ...   \n",
       "14144                             1648.742005   \n",
       "14145                             1649.357538   \n",
       "14146                             1649.196904   \n",
       "14147                             1648.212240   \n",
       "14148                             1650.135395   \n",
       "\n",
       "       primary_cleaner.state.floatbank8_b_level  \\\n",
       "0                                   -516.403442   \n",
       "1                                   -499.865889   \n",
       "2                                   -500.607762   \n",
       "3                                   -499.677094   \n",
       "4                                   -500.323246   \n",
       "...                                         ...   \n",
       "14144                               -400.359661   \n",
       "14145                               -399.721222   \n",
       "14146                               -399.677571   \n",
       "14147                               -400.383265   \n",
       "14148                               -399.957321   \n",
       "\n",
       "       primary_cleaner.state.floatbank8_c_air  \\\n",
       "0                                 1549.873901   \n",
       "1                                 1575.994189   \n",
       "2                                 1602.003542   \n",
       "3                                 1600.304144   \n",
       "4                                 1599.581894   \n",
       "...                                       ...   \n",
       "14144                             1648.578230   \n",
       "14145                             1648.656192   \n",
       "14146                             1647.896999   \n",
       "14147                             1648.917387   \n",
       "14148                             1648.831890   \n",
       "\n",
       "       primary_cleaner.state.floatbank8_c_level  ...  \\\n",
       "0                                   -498.666595  ...   \n",
       "1                                   -499.315107  ...   \n",
       "2                                   -500.870069  ...   \n",
       "3                                   -500.727997  ...   \n",
       "4                                   -500.888152  ...   \n",
       "...                                         ...  ...   \n",
       "14144                               -399.363624  ...   \n",
       "14145                               -401.195834  ...   \n",
       "14146                               -399.988275  ...   \n",
       "14147                               -399.521344  ...   \n",
       "14148                               -400.586116  ...   \n",
       "\n",
       "       secondary_cleaner.state.floatbank4_a_air  \\\n",
       "0                                     14.016835   \n",
       "1                                     13.992281   \n",
       "2                                     14.015015   \n",
       "3                                     14.036510   \n",
       "4                                     14.027298   \n",
       "...                                         ...   \n",
       "14144                                 23.031497   \n",
       "14145                                 22.960095   \n",
       "14146                                 23.015718   \n",
       "14147                                 23.024963   \n",
       "14148                                 23.018622   \n",
       "\n",
       "       secondary_cleaner.state.floatbank4_a_level  \\\n",
       "0                                     -502.488007   \n",
       "1                                     -505.503262   \n",
       "2                                     -502.520901   \n",
       "3                                     -500.857308   \n",
       "4                                     -499.838632   \n",
       "...                                           ...   \n",
       "14144                                 -501.167942   \n",
       "14145                                 -501.612783   \n",
       "14146                                 -501.711599   \n",
       "14147                                 -501.153409   \n",
       "14148                                 -500.492702   \n",
       "\n",
       "       secondary_cleaner.state.floatbank4_b_air  \\\n",
       "0                                     12.099931   \n",
       "1                                     11.950531   \n",
       "2                                     11.912783   \n",
       "3                                     11.999550   \n",
       "4                                     11.953070   \n",
       "...                                         ...   \n",
       "14144                                 20.007571   \n",
       "14145                                 20.035660   \n",
       "14146                                 19.951231   \n",
       "14147                                 20.054122   \n",
       "14148                                 20.020205   \n",
       "\n",
       "       secondary_cleaner.state.floatbank4_b_level  \\\n",
       "0                                     -504.715942   \n",
       "1                                     -501.331529   \n",
       "2                                     -501.133383   \n",
       "3                                     -501.193686   \n",
       "4                                     -501.053894   \n",
       "...                                           ...   \n",
       "14144                                 -499.740028   \n",
       "14145                                 -500.251357   \n",
       "14146                                 -499.857027   \n",
       "14147                                 -500.314711   \n",
       "14148                                 -500.220296   \n",
       "\n",
       "       secondary_cleaner.state.floatbank5_a_air  \\\n",
       "0                                      9.925633   \n",
       "1                                     10.039245   \n",
       "2                                     10.070913   \n",
       "3                                      9.970366   \n",
       "4                                      9.925709   \n",
       "...                                         ...   \n",
       "14144                                 18.006038   \n",
       "14145                                 17.998535   \n",
       "14146                                 18.019543   \n",
       "14147                                 17.979515   \n",
       "14148                                 17.963512   \n",
       "\n",
       "       secondary_cleaner.state.floatbank5_a_level  \\\n",
       "0                                     -498.310211   \n",
       "1                                     -500.169983   \n",
       "2                                     -500.129135   \n",
       "3                                     -499.201640   \n",
       "4                                     -501.686727   \n",
       "...                                           ...   \n",
       "14144                                 -499.834374   \n",
       "14145                                 -500.395178   \n",
       "14146                                 -500.451156   \n",
       "14147                                 -499.272871   \n",
       "14148                                 -499.939490   \n",
       "\n",
       "       secondary_cleaner.state.floatbank5_b_air  \\\n",
       "0                                      8.079666   \n",
       "1                                      7.984757   \n",
       "2                                      8.013877   \n",
       "3                                      7.977324   \n",
       "4                                      7.894242   \n",
       "...                                         ...   \n",
       "14144                                 13.001114   \n",
       "14145                                 12.954048   \n",
       "14146                                 13.023431   \n",
       "14147                                 12.992404   \n",
       "14148                                 12.990306   \n",
       "\n",
       "       secondary_cleaner.state.floatbank5_b_level  \\\n",
       "0                                     -500.470978   \n",
       "1                                     -500.582168   \n",
       "2                                     -500.517572   \n",
       "3                                     -500.255908   \n",
       "4                                     -500.356035   \n",
       "...                                           ...   \n",
       "14144                                 -500.155694   \n",
       "14145                                 -499.895163   \n",
       "14146                                 -499.914391   \n",
       "14147                                 -499.976268   \n",
       "14148                                 -500.080993   \n",
       "\n",
       "       secondary_cleaner.state.floatbank6_a_air  \\\n",
       "0                                     14.151341   \n",
       "1                                     13.998353   \n",
       "2                                     14.028663   \n",
       "3                                     14.005551   \n",
       "4                                     13.996647   \n",
       "...                                         ...   \n",
       "14144                                 20.007840   \n",
       "14145                                 19.968498   \n",
       "14146                                 19.990885   \n",
       "14147                                 20.013986   \n",
       "14148                                 19.990336   \n",
       "\n",
       "       secondary_cleaner.state.floatbank6_a_level  \n",
       "0                                     -605.841980  \n",
       "1                                     -599.787184  \n",
       "2                                     -601.427363  \n",
       "3                                     -599.996129  \n",
       "4                                     -601.496691  \n",
       "...                                           ...  \n",
       "14144                                 -501.296428  \n",
       "14145                                 -501.041608  \n",
       "14146                                 -501.518452  \n",
       "14147                                 -500.625471  \n",
       "14148                                 -499.191575  \n",
       "\n",
       "[14149 rows x 52 columns]"
      ]
     },
     "execution_count": 35,
     "metadata": {},
     "output_type": "execute_result"
    }
   ],
   "source": [
    "clean_train"
   ]
  },
  {
   "cell_type": "code",
   "execution_count": 36,
   "metadata": {
    "scrolled": true
   },
   "outputs": [
    {
     "name": "stdout",
     "output_type": "stream",
     "text": [
      "<class 'pandas.core.frame.DataFrame'>\n",
      "RangeIndex: 5290 entries, 0 to 5289\n",
      "Data columns (total 52 columns):\n",
      " #   Column                                      Non-Null Count  Dtype  \n",
      "---  ------                                      --------------  -----  \n",
      " 0   primary_cleaner.input.sulfate               5290 non-null   float64\n",
      " 1   primary_cleaner.input.depressant            5290 non-null   float64\n",
      " 2   primary_cleaner.input.feed_size             5290 non-null   float64\n",
      " 3   primary_cleaner.input.xanthate              5290 non-null   float64\n",
      " 4   primary_cleaner.state.floatbank8_a_air      5290 non-null   float64\n",
      " 5   primary_cleaner.state.floatbank8_a_level    5290 non-null   float64\n",
      " 6   primary_cleaner.state.floatbank8_b_air      5290 non-null   float64\n",
      " 7   primary_cleaner.state.floatbank8_b_level    5290 non-null   float64\n",
      " 8   primary_cleaner.state.floatbank8_c_air      5290 non-null   float64\n",
      " 9   primary_cleaner.state.floatbank8_c_level    5290 non-null   float64\n",
      " 10  primary_cleaner.state.floatbank8_d_air      5290 non-null   float64\n",
      " 11  primary_cleaner.state.floatbank8_d_level    5290 non-null   float64\n",
      " 12  rougher.input.feed_ag                       5290 non-null   float64\n",
      " 13  rougher.input.feed_pb                       5290 non-null   float64\n",
      " 14  rougher.input.feed_rate                     5290 non-null   float64\n",
      " 15  rougher.input.feed_size                     5290 non-null   float64\n",
      " 16  rougher.input.feed_sol                      5290 non-null   float64\n",
      " 17  rougher.input.feed_au                       5290 non-null   float64\n",
      " 18  rougher.input.floatbank10_sulfate           5290 non-null   float64\n",
      " 19  rougher.input.floatbank10_xanthate          5290 non-null   float64\n",
      " 20  rougher.input.floatbank11_sulfate           5290 non-null   float64\n",
      " 21  rougher.input.floatbank11_xanthate          5290 non-null   float64\n",
      " 22  rougher.state.floatbank10_a_air             5290 non-null   float64\n",
      " 23  rougher.state.floatbank10_a_level           5290 non-null   float64\n",
      " 24  rougher.state.floatbank10_b_air             5290 non-null   float64\n",
      " 25  rougher.state.floatbank10_b_level           5290 non-null   float64\n",
      " 26  rougher.state.floatbank10_c_air             5290 non-null   float64\n",
      " 27  rougher.state.floatbank10_c_level           5290 non-null   float64\n",
      " 28  rougher.state.floatbank10_d_air             5290 non-null   float64\n",
      " 29  rougher.state.floatbank10_d_level           5290 non-null   float64\n",
      " 30  rougher.state.floatbank10_e_air             5290 non-null   float64\n",
      " 31  rougher.state.floatbank10_e_level           5290 non-null   float64\n",
      " 32  rougher.state.floatbank10_f_air             5290 non-null   float64\n",
      " 33  rougher.state.floatbank10_f_level           5290 non-null   float64\n",
      " 34  secondary_cleaner.state.floatbank2_a_air    5290 non-null   float64\n",
      " 35  secondary_cleaner.state.floatbank2_a_level  5290 non-null   float64\n",
      " 36  secondary_cleaner.state.floatbank2_b_air    5290 non-null   float64\n",
      " 37  secondary_cleaner.state.floatbank2_b_level  5290 non-null   float64\n",
      " 38  secondary_cleaner.state.floatbank3_a_air    5290 non-null   float64\n",
      " 39  secondary_cleaner.state.floatbank3_a_level  5290 non-null   float64\n",
      " 40  secondary_cleaner.state.floatbank3_b_air    5290 non-null   float64\n",
      " 41  secondary_cleaner.state.floatbank3_b_level  5290 non-null   float64\n",
      " 42  secondary_cleaner.state.floatbank4_a_air    5290 non-null   float64\n",
      " 43  secondary_cleaner.state.floatbank4_a_level  5290 non-null   float64\n",
      " 44  secondary_cleaner.state.floatbank4_b_air    5290 non-null   float64\n",
      " 45  secondary_cleaner.state.floatbank4_b_level  5290 non-null   float64\n",
      " 46  secondary_cleaner.state.floatbank5_a_air    5290 non-null   float64\n",
      " 47  secondary_cleaner.state.floatbank5_a_level  5290 non-null   float64\n",
      " 48  secondary_cleaner.state.floatbank5_b_air    5290 non-null   float64\n",
      " 49  secondary_cleaner.state.floatbank5_b_level  5290 non-null   float64\n",
      " 50  secondary_cleaner.state.floatbank6_a_air    5290 non-null   float64\n",
      " 51  secondary_cleaner.state.floatbank6_a_level  5290 non-null   float64\n",
      "dtypes: float64(52)\n",
      "memory usage: 2.1 MB\n"
     ]
    },
    {
     "data": {
      "text/plain": [
       "None"
      ]
     },
     "metadata": {},
     "output_type": "display_data"
    }
   ],
   "source": [
    "display(clean_test.info())"
   ]
  },
  {
   "cell_type": "code",
   "execution_count": 37,
   "metadata": {
    "scrolled": true
   },
   "outputs": [
    {
     "name": "stdout",
     "output_type": "stream",
     "text": [
      "<class 'pandas.core.frame.DataFrame'>\n",
      "RangeIndex: 14149 entries, 0 to 14148\n",
      "Data columns (total 52 columns):\n",
      " #   Column                                      Non-Null Count  Dtype  \n",
      "---  ------                                      --------------  -----  \n",
      " 0   primary_cleaner.input.sulfate               14149 non-null  float64\n",
      " 1   primary_cleaner.input.depressant            14149 non-null  float64\n",
      " 2   primary_cleaner.input.feed_size             14149 non-null  float64\n",
      " 3   primary_cleaner.input.xanthate              14149 non-null  float64\n",
      " 4   primary_cleaner.state.floatbank8_a_air      14149 non-null  float64\n",
      " 5   primary_cleaner.state.floatbank8_a_level    14149 non-null  float64\n",
      " 6   primary_cleaner.state.floatbank8_b_air      14149 non-null  float64\n",
      " 7   primary_cleaner.state.floatbank8_b_level    14149 non-null  float64\n",
      " 8   primary_cleaner.state.floatbank8_c_air      14149 non-null  float64\n",
      " 9   primary_cleaner.state.floatbank8_c_level    14149 non-null  float64\n",
      " 10  primary_cleaner.state.floatbank8_d_air      14149 non-null  float64\n",
      " 11  primary_cleaner.state.floatbank8_d_level    14149 non-null  float64\n",
      " 12  rougher.input.feed_ag                       14149 non-null  float64\n",
      " 13  rougher.input.feed_pb                       14149 non-null  float64\n",
      " 14  rougher.input.feed_rate                     14149 non-null  float64\n",
      " 15  rougher.input.feed_size                     14149 non-null  float64\n",
      " 16  rougher.input.feed_sol                      14149 non-null  float64\n",
      " 17  rougher.input.feed_au                       14149 non-null  float64\n",
      " 18  rougher.input.floatbank10_sulfate           14149 non-null  float64\n",
      " 19  rougher.input.floatbank10_xanthate          14149 non-null  float64\n",
      " 20  rougher.input.floatbank11_sulfate           14149 non-null  float64\n",
      " 21  rougher.input.floatbank11_xanthate          14149 non-null  float64\n",
      " 22  rougher.state.floatbank10_a_air             14149 non-null  float64\n",
      " 23  rougher.state.floatbank10_a_level           14149 non-null  float64\n",
      " 24  rougher.state.floatbank10_b_air             14149 non-null  float64\n",
      " 25  rougher.state.floatbank10_b_level           14149 non-null  float64\n",
      " 26  rougher.state.floatbank10_c_air             14149 non-null  float64\n",
      " 27  rougher.state.floatbank10_c_level           14149 non-null  float64\n",
      " 28  rougher.state.floatbank10_d_air             14149 non-null  float64\n",
      " 29  rougher.state.floatbank10_d_level           14149 non-null  float64\n",
      " 30  rougher.state.floatbank10_e_air             14149 non-null  float64\n",
      " 31  rougher.state.floatbank10_e_level           14149 non-null  float64\n",
      " 32  rougher.state.floatbank10_f_air             14149 non-null  float64\n",
      " 33  rougher.state.floatbank10_f_level           14149 non-null  float64\n",
      " 34  secondary_cleaner.state.floatbank2_a_air    14149 non-null  float64\n",
      " 35  secondary_cleaner.state.floatbank2_a_level  14149 non-null  float64\n",
      " 36  secondary_cleaner.state.floatbank2_b_air    14149 non-null  float64\n",
      " 37  secondary_cleaner.state.floatbank2_b_level  14149 non-null  float64\n",
      " 38  secondary_cleaner.state.floatbank3_a_air    14149 non-null  float64\n",
      " 39  secondary_cleaner.state.floatbank3_a_level  14149 non-null  float64\n",
      " 40  secondary_cleaner.state.floatbank3_b_air    14149 non-null  float64\n",
      " 41  secondary_cleaner.state.floatbank3_b_level  14149 non-null  float64\n",
      " 42  secondary_cleaner.state.floatbank4_a_air    14149 non-null  float64\n",
      " 43  secondary_cleaner.state.floatbank4_a_level  14149 non-null  float64\n",
      " 44  secondary_cleaner.state.floatbank4_b_air    14149 non-null  float64\n",
      " 45  secondary_cleaner.state.floatbank4_b_level  14149 non-null  float64\n",
      " 46  secondary_cleaner.state.floatbank5_a_air    14149 non-null  float64\n",
      " 47  secondary_cleaner.state.floatbank5_a_level  14149 non-null  float64\n",
      " 48  secondary_cleaner.state.floatbank5_b_air    14149 non-null  float64\n",
      " 49  secondary_cleaner.state.floatbank5_b_level  14149 non-null  float64\n",
      " 50  secondary_cleaner.state.floatbank6_a_air    14149 non-null  float64\n",
      " 51  secondary_cleaner.state.floatbank6_a_level  14149 non-null  float64\n",
      "dtypes: float64(52)\n",
      "memory usage: 5.6 MB\n"
     ]
    },
    {
     "data": {
      "text/plain": [
       "None"
      ]
     },
     "metadata": {},
     "output_type": "display_data"
    }
   ],
   "source": [
    "display(clean_train.info())"
   ]
  },
  {
   "cell_type": "code",
   "execution_count": 38,
   "metadata": {},
   "outputs": [],
   "source": [
    "def smape_final(rougher, final):\n",
    "    return 0.25*rougher + 0.75*final"
   ]
  },
  {
   "cell_type": "code",
   "execution_count": 39,
   "metadata": {},
   "outputs": [],
   "source": [
    "def smape_total(target_rougher, predicted_rougher, target_final, predicted_final):\n",
    "    smape_rough = 1/len(target_rougher) * np.sum(2 * np.abs(\n",
    "      target_rougher - predicted_rougher) / (np.abs(target_rougher) + np.abs(predicted_rougher))*100)\n",
    "    smape_fin = 1/len(target_final) * np.sum(2 * np.abs(\n",
    "      target_final - predicted_final) / (np.abs(target_final) + np.abs(predicted_final))*100)\n",
    "    return (0.25*smape_rough) + (0.75*smape_fin)"
   ]
  },
  {
   "cell_type": "code",
   "execution_count": 40,
   "metadata": {},
   "outputs": [],
   "source": [
    "features_train_rougher = clean_train\n",
    "features_train_rougher = features_train_rougher\n",
    "target_train_rougher = train['rougher.output.recovery']\n",
    "target_train_final = train['final.output.recovery']\n",
    "features_train_final = clean_train"
   ]
  },
  {
   "cell_type": "code",
   "execution_count": 41,
   "metadata": {},
   "outputs": [],
   "source": [
    "features_test_rougher = clean_test\n",
    "features_test_rougher = features_test_rougher\n",
    "target_test_rougher = test['rougher.output.recovery']\n",
    "features_test_final = clean_test\n",
    "target_test_final = test['final.output.recovery']"
   ]
  },
  {
   "cell_type": "code",
   "execution_count": 42,
   "metadata": {},
   "outputs": [
    {
     "name": "stdout",
     "output_type": "stream",
     "text": [
      "sMape -12.384596104847137\n"
     ]
    }
   ],
   "source": [
    "model = LinearRegression()\n",
    "scorer = make_scorer(smape, greater_is_better=False)\n",
    "rougher_linear = cross_val_score(model, features_train_rougher, target_train_rougher,scoring=scorer, cv=5)\n",
    "final_linear =  cross_val_score(model, features_train_final, target_train_final,scoring=scorer, cv=5)\n",
    "print('sMape', smape_final(rougher_linear, final_linear).mean())"
   ]
  },
  {
   "cell_type": "code",
   "execution_count": 44,
   "metadata": {
    "scrolled": true
   },
   "outputs": [
    {
     "name": "stdout",
     "output_type": "stream",
     "text": [
      "depth 2 est 3\n",
      "Итоговое sMAPE для решающего дерева: -11.116176618978713\n",
      "depth 2 est 6\n",
      "Итоговое sMAPE для решающего дерева: -10.853759548851485\n",
      "depth 2 est 9\n",
      "Итоговое sMAPE для решающего дерева: -10.871676538035231\n",
      "depth 2 est 12\n",
      "Итоговое sMAPE для решающего дерева: -10.892154985845533\n",
      "depth 3 est 3\n",
      "Итоговое sMAPE для решающего дерева: -10.840605152817387\n",
      "depth 3 est 6\n",
      "Итоговое sMAPE для решающего дерева: -10.662944922313688\n",
      "depth 3 est 9\n",
      "Итоговое sMAPE для решающего дерева: -10.631248591860247\n",
      "depth 3 est 12\n",
      "Итоговое sMAPE для решающего дерева: -10.629755512995072\n",
      "depth 4 est 3\n",
      "Итоговое sMAPE для решающего дерева: -11.154732553402976\n",
      "depth 4 est 6\n",
      "Итоговое sMAPE для решающего дерева: -10.76055301032557\n",
      "depth 4 est 9\n",
      "Итоговое sMAPE для решающего дерева: -10.672809804097557\n",
      "depth 4 est 12\n",
      "Итоговое sMAPE для решающего дерева: -10.668246241790062\n",
      "depth 5 est 3\n",
      "Итоговое sMAPE для решающего дерева: -11.635464120472497\n",
      "depth 5 est 6\n",
      "Итоговое sMAPE для решающего дерева: -10.985279615818559\n",
      "depth 5 est 9\n",
      "Итоговое sMAPE для решающего дерева: -11.008378435989677\n",
      "depth 5 est 12\n",
      "Итоговое sMAPE для решающего дерева: -10.891159674647337\n",
      "depth 6 est 3\n",
      "Итоговое sMAPE для решающего дерева: -11.782580721911245\n",
      "depth 6 est 6\n",
      "Итоговое sMAPE для решающего дерева: -11.112539733003471\n",
      "depth 6 est 9\n",
      "Итоговое sMAPE для решающего дерева: -11.260557307146403\n",
      "depth 6 est 12\n",
      "Итоговое sMAPE для решающего дерева: -11.13832069918001\n",
      "\n"
     ]
    }
   ],
   "source": [
    "for depth in range(2,7):\n",
    "    for est in range(3,15,3):\n",
    "        \n",
    "        model3 = RandomForestRegressor(max_depth=depth, n_estimators=est,random_state=1234)\n",
    "        scorer = make_scorer(smape, greater_is_better=False)\n",
    "        rougher_tree = cross_val_score(model3, features_train_rougher, target_train_rougher,scoring=scorer, cv=5)\n",
    "        final_tree = cross_val_score(model3, features_train_final, target_train_final,scoring=scorer, cv=5)\n",
    "        print('depth',depth,'est',est)\n",
    "        print('Итоговое sMAPE для решающего дерева:',smape_final(rougher_tree, final_tree).mean())\n",
    "print()"
   ]
  },
  {
   "cell_type": "code",
   "execution_count": 45,
   "metadata": {},
   "outputs": [
    {
     "name": "stdout",
     "output_type": "stream",
     "text": [
      "sMAPE: 9.897039786041647\n"
     ]
    }
   ],
   "source": [
    "model_01 = RandomForestRegressor(max_depth=3, n_estimators=12,random_state=1234)\n",
    "model_02 = RandomForestRegressor(max_depth=3, n_estimators=12,random_state=1234)\n",
    "model_01.fit(features_train_rougher, target_train_rougher)\n",
    "model_02.fit(features_train_final, target_train_final)\n",
    "test_predictions_01 = model_01.predict(features_test_rougher)\n",
    "test_predictions_02 = model_02.predict(features_test_final)\n",
    "total = smape_total(target_test_rougher, test_predictions_01, target_test_final, test_predictions_02).mean()\n",
    "print('sMAPE:',total)"
   ]
  },
  {
   "cell_type": "code",
   "execution_count": 46,
   "metadata": {},
   "outputs": [
    {
     "name": "stdout",
     "output_type": "stream",
     "text": [
      "sMAPE для DummyRegressor: 10.289630376021034\n"
     ]
    }
   ],
   "source": [
    "model_01 = DummyRegressor()\n",
    "model_02 = DummyRegressor()\n",
    "model_01.fit(features_train_rougher, target_train_rougher)\n",
    "model_02.fit(features_train_final, target_train_final)\n",
    "test_predictions_01 = model_01.predict(features_test_rougher)\n",
    "test_predictions_02 = model_02.predict(features_test_final)\n",
    "total = smape_total(target_test_rougher, test_predictions_01, target_test_final, test_predictions_02).mean()\n",
    "print('sMAPE для DummyRegressor:',total)"
   ]
  },
  {
   "cell_type": "markdown",
   "metadata": {},
   "source": [
    "# 5 Общий вывод"
   ]
  },
  {
   "cell_type": "markdown",
   "metadata": {},
   "source": [
    "С очисткой возрастает проц золота. есть нулевые значения.\n",
    "\n",
    "Кончцетрация веществ уменшается"
   ]
  },
  {
   "cell_type": "markdown",
   "metadata": {},
   "source": [
    "Написал функции для рассчета sMAPE и итогового sMAPE.\n",
    "\n",
    "Проверил несколько формул кросс-валидацией.\n",
    "\n",
    "Подготовили прототип модели машинного обучения"
   ]
  },
  {
   "cell_type": "markdown",
   "metadata": {},
   "source": [
    "## Чек-лист готовности проекта"
   ]
  },
  {
   "cell_type": "markdown",
   "metadata": {},
   "source": [
    "- [x]  Jupyter Notebook открыт\n",
    "- [X]  Весь код выполняется без ошибок\n",
    "- [X]  Ячейки с кодом расположены в порядке выполнения\n",
    "- [X]  Выполнен шаг 1: данные подготовлены\n",
    "    - [X]  Проверена формула вычисления эффективности обогащения\n",
    "    - [X]  Проанализированы признаки, недоступные в тестовой выборке\n",
    "    - [X]  Проведена предобработка данных\n",
    "- [X]  Выполнен шаг 2: данные проанализированы\n",
    "    - [X]  Исследовано изменение концентрации элементов на каждом этапе\n",
    "    - [X]  Проанализированы распределения размеров гранул на обучающей и тестовой выборках\n",
    "    - [X]  Исследованы суммарные концентрации\n",
    "- [X]  Выполнен шаг 3: построена модель прогнозирования\n",
    "    - [X]  Написана функция для вычисления итогового *sMAPE*\n",
    "    - [X]  Обучено и проверено несколько моделей\n",
    "    - [X]  Выбрана лучшая модель, её качество проверено на тестовой выборке"
   ]
  }
 ],
 "metadata": {
  "ExecuteTimeLog": [
   {
    "duration": 1554,
    "start_time": "2023-03-13T12:51:57.994Z"
   },
   {
    "duration": 1858,
    "start_time": "2023-03-13T14:55:29.166Z"
   },
   {
    "duration": 172,
    "start_time": "2023-03-13T14:55:31.027Z"
   },
   {
    "duration": 5,
    "start_time": "2023-03-13T14:56:01.608Z"
   },
   {
    "duration": 45,
    "start_time": "2023-03-13T14:56:02.506Z"
   },
   {
    "duration": 7,
    "start_time": "2023-03-13T14:57:04.827Z"
   },
   {
    "duration": 38,
    "start_time": "2023-03-13T14:57:05.327Z"
   },
   {
    "duration": 691,
    "start_time": "2023-03-13T14:58:27.996Z"
   },
   {
    "duration": 47,
    "start_time": "2023-03-13T14:59:01.407Z"
   },
   {
    "duration": 1651,
    "start_time": "2023-03-13T14:59:05.611Z"
   },
   {
    "duration": 164,
    "start_time": "2023-03-13T14:59:07.265Z"
   },
   {
    "duration": 2739,
    "start_time": "2023-03-13T14:59:23.810Z"
   },
   {
    "duration": 37,
    "start_time": "2023-03-13T14:59:33.794Z"
   },
   {
    "duration": 5,
    "start_time": "2023-03-13T14:59:47.335Z"
   },
   {
    "duration": 4,
    "start_time": "2023-03-13T14:59:57.148Z"
   },
   {
    "duration": 5,
    "start_time": "2023-03-13T15:00:18.907Z"
   },
   {
    "duration": 51,
    "start_time": "2023-03-13T15:00:43.711Z"
   },
   {
    "duration": 76,
    "start_time": "2023-03-13T15:00:52.635Z"
   },
   {
    "duration": 51,
    "start_time": "2023-03-13T15:01:21.015Z"
   },
   {
    "duration": 5,
    "start_time": "2023-03-13T15:08:50.989Z"
   },
   {
    "duration": 31,
    "start_time": "2023-03-13T15:08:53.111Z"
   },
   {
    "duration": 22,
    "start_time": "2023-03-13T15:09:14.427Z"
   },
   {
    "duration": 148,
    "start_time": "2023-03-13T15:09:14.786Z"
   },
   {
    "duration": 113,
    "start_time": "2023-03-13T15:09:15.163Z"
   },
   {
    "duration": 274,
    "start_time": "2023-03-13T15:10:11.005Z"
   },
   {
    "duration": 145,
    "start_time": "2023-03-13T15:10:20.204Z"
   },
   {
    "duration": 289,
    "start_time": "2023-03-13T15:10:30.314Z"
   },
   {
    "duration": 1582,
    "start_time": "2023-03-13T15:10:43.560Z"
   },
   {
    "duration": 863,
    "start_time": "2023-03-13T15:10:45.145Z"
   },
   {
    "duration": 4,
    "start_time": "2023-03-13T15:10:46.010Z"
   },
   {
    "duration": 87,
    "start_time": "2023-03-13T15:10:46.016Z"
   },
   {
    "duration": 88,
    "start_time": "2023-03-13T15:10:46.106Z"
   },
   {
    "duration": 26,
    "start_time": "2023-03-13T15:10:46.197Z"
   },
   {
    "duration": 167,
    "start_time": "2023-03-13T15:10:46.226Z"
   },
   {
    "duration": 120,
    "start_time": "2023-03-13T15:10:46.395Z"
   },
   {
    "duration": 325,
    "start_time": "2023-03-13T15:10:46.517Z"
   },
   {
    "duration": 167,
    "start_time": "2023-03-13T15:10:46.844Z"
   },
   {
    "duration": 319,
    "start_time": "2023-03-13T15:10:47.013Z"
   },
   {
    "duration": 7,
    "start_time": "2023-03-13T15:16:02.337Z"
   },
   {
    "duration": 129,
    "start_time": "2023-03-13T15:16:14.629Z"
   },
   {
    "duration": 8,
    "start_time": "2023-03-13T15:18:20.493Z"
   },
   {
    "duration": 7,
    "start_time": "2023-03-13T15:18:29.423Z"
   },
   {
    "duration": 8,
    "start_time": "2023-03-13T15:38:26.084Z"
   },
   {
    "duration": 51,
    "start_time": "2023-03-13T15:38:37.109Z"
   },
   {
    "duration": 7,
    "start_time": "2023-03-13T15:38:47.415Z"
   },
   {
    "duration": 8,
    "start_time": "2023-03-13T15:38:58.710Z"
   },
   {
    "duration": 6,
    "start_time": "2023-03-13T15:40:16.299Z"
   },
   {
    "duration": 8,
    "start_time": "2023-03-13T15:40:17.199Z"
   },
   {
    "duration": 1552,
    "start_time": "2023-03-13T15:40:21.945Z"
   },
   {
    "duration": 820,
    "start_time": "2023-03-13T15:40:23.501Z"
   },
   {
    "duration": 5,
    "start_time": "2023-03-13T15:40:24.323Z"
   },
   {
    "duration": 87,
    "start_time": "2023-03-13T15:40:24.330Z"
   },
   {
    "duration": 73,
    "start_time": "2023-03-13T15:40:24.420Z"
   },
   {
    "duration": 23,
    "start_time": "2023-03-13T15:40:24.496Z"
   },
   {
    "duration": 168,
    "start_time": "2023-03-13T15:40:24.521Z"
   },
   {
    "duration": 114,
    "start_time": "2023-03-13T15:40:24.692Z"
   },
   {
    "duration": 282,
    "start_time": "2023-03-13T15:40:24.808Z"
   },
   {
    "duration": 139,
    "start_time": "2023-03-13T15:40:25.092Z"
   },
   {
    "duration": 299,
    "start_time": "2023-03-13T15:40:25.233Z"
   },
   {
    "duration": 18,
    "start_time": "2023-03-13T15:40:25.533Z"
   },
   {
    "duration": 9,
    "start_time": "2023-03-13T15:40:25.553Z"
   },
   {
    "duration": 5,
    "start_time": "2023-03-13T15:40:59.747Z"
   },
   {
    "duration": 1569,
    "start_time": "2023-03-13T15:41:06.779Z"
   },
   {
    "duration": 889,
    "start_time": "2023-03-13T15:41:08.350Z"
   },
   {
    "duration": 4,
    "start_time": "2023-03-13T15:41:09.241Z"
   },
   {
    "duration": 87,
    "start_time": "2023-03-13T15:41:09.248Z"
   },
   {
    "duration": 76,
    "start_time": "2023-03-13T15:41:09.338Z"
   },
   {
    "duration": 24,
    "start_time": "2023-03-13T15:41:09.416Z"
   },
   {
    "duration": 175,
    "start_time": "2023-03-13T15:41:09.442Z"
   },
   {
    "duration": 130,
    "start_time": "2023-03-13T15:41:09.619Z"
   },
   {
    "duration": 292,
    "start_time": "2023-03-13T15:41:09.751Z"
   },
   {
    "duration": 180,
    "start_time": "2023-03-13T15:41:10.045Z"
   },
   {
    "duration": 326,
    "start_time": "2023-03-13T15:41:10.227Z"
   },
   {
    "duration": 10,
    "start_time": "2023-03-13T15:41:10.555Z"
   },
   {
    "duration": 31,
    "start_time": "2023-03-13T15:41:10.586Z"
   },
   {
    "duration": 6,
    "start_time": "2023-03-13T15:43:15.604Z"
   },
   {
    "duration": 10,
    "start_time": "2023-03-13T15:43:50.053Z"
   },
   {
    "duration": 7,
    "start_time": "2023-03-13T15:44:10.906Z"
   },
   {
    "duration": 16,
    "start_time": "2023-03-13T15:44:11.249Z"
   },
   {
    "duration": 6,
    "start_time": "2023-03-13T15:45:10.474Z"
   },
   {
    "duration": 7,
    "start_time": "2023-03-13T15:45:21.004Z"
   },
   {
    "duration": 1859,
    "start_time": "2023-03-13T15:58:55.338Z"
   },
   {
    "duration": 1040,
    "start_time": "2023-03-13T15:58:57.200Z"
   },
   {
    "duration": 5,
    "start_time": "2023-03-13T15:58:58.242Z"
   },
   {
    "duration": 109,
    "start_time": "2023-03-13T15:58:58.249Z"
   },
   {
    "duration": 73,
    "start_time": "2023-03-13T15:58:58.361Z"
   },
   {
    "duration": 51,
    "start_time": "2023-03-13T15:58:58.436Z"
   },
   {
    "duration": 179,
    "start_time": "2023-03-13T15:58:58.495Z"
   },
   {
    "duration": 188,
    "start_time": "2023-03-13T15:58:58.678Z"
   },
   {
    "duration": 333,
    "start_time": "2023-03-13T15:58:58.868Z"
   },
   {
    "duration": 153,
    "start_time": "2023-03-13T15:58:59.203Z"
   },
   {
    "duration": 335,
    "start_time": "2023-03-13T15:58:59.357Z"
   },
   {
    "duration": 14,
    "start_time": "2023-03-13T15:58:59.697Z"
   },
   {
    "duration": 27,
    "start_time": "2023-03-13T15:58:59.715Z"
   },
   {
    "duration": 32,
    "start_time": "2023-03-13T15:58:59.746Z"
   },
   {
    "duration": 23,
    "start_time": "2023-03-13T15:58:59.780Z"
   },
   {
    "duration": 9,
    "start_time": "2023-03-13T15:58:59.806Z"
   },
   {
    "duration": 1653,
    "start_time": "2023-03-14T14:50:29.312Z"
   },
   {
    "duration": 2439,
    "start_time": "2023-03-14T14:50:30.967Z"
   },
   {
    "duration": 4,
    "start_time": "2023-03-14T14:50:33.408Z"
   },
   {
    "duration": 66,
    "start_time": "2023-03-14T14:50:33.414Z"
   },
   {
    "duration": 47,
    "start_time": "2023-03-14T14:50:33.482Z"
   },
   {
    "duration": 23,
    "start_time": "2023-03-14T14:50:33.531Z"
   },
   {
    "duration": 160,
    "start_time": "2023-03-14T14:50:33.555Z"
   },
   {
    "duration": 112,
    "start_time": "2023-03-14T14:50:33.717Z"
   },
   {
    "duration": 248,
    "start_time": "2023-03-14T14:50:33.832Z"
   },
   {
    "duration": 165,
    "start_time": "2023-03-14T14:50:34.081Z"
   },
   {
    "duration": 307,
    "start_time": "2023-03-14T14:50:34.248Z"
   },
   {
    "duration": 11,
    "start_time": "2023-03-14T14:50:34.557Z"
   },
   {
    "duration": 6,
    "start_time": "2023-03-14T14:50:34.570Z"
   },
   {
    "duration": 11,
    "start_time": "2023-03-14T14:50:34.590Z"
   },
   {
    "duration": 5,
    "start_time": "2023-03-14T14:50:34.603Z"
   },
   {
    "duration": 8,
    "start_time": "2023-03-14T14:50:34.610Z"
   },
   {
    "duration": 134,
    "start_time": "2023-03-14T14:50:34.619Z"
   },
   {
    "duration": 5,
    "start_time": "2023-03-14T14:52:02.464Z"
   },
   {
    "duration": 13,
    "start_time": "2023-03-14T14:54:38.505Z"
   },
   {
    "duration": 15,
    "start_time": "2023-03-14T14:54:47.925Z"
   },
   {
    "duration": 6,
    "start_time": "2023-03-14T14:54:51.717Z"
   },
   {
    "duration": 5,
    "start_time": "2023-03-14T14:56:20.430Z"
   },
   {
    "duration": 4,
    "start_time": "2023-03-14T14:56:29.726Z"
   },
   {
    "duration": 10,
    "start_time": "2023-03-14T15:05:26.925Z"
   },
   {
    "duration": 15,
    "start_time": "2023-03-14T15:08:06.740Z"
   },
   {
    "duration": 3816,
    "start_time": "2023-03-14T15:08:32.712Z"
   },
   {
    "duration": 536,
    "start_time": "2023-03-14T15:10:12.509Z"
   },
   {
    "duration": 53,
    "start_time": "2023-03-15T12:06:08.588Z"
   },
   {
    "duration": 1525,
    "start_time": "2023-03-15T12:06:29.707Z"
   },
   {
    "duration": 1905,
    "start_time": "2023-03-15T12:06:31.235Z"
   },
   {
    "duration": 4,
    "start_time": "2023-03-15T12:06:33.141Z"
   },
   {
    "duration": 59,
    "start_time": "2023-03-15T12:06:33.146Z"
   },
   {
    "duration": 60,
    "start_time": "2023-03-15T12:06:33.207Z"
   },
   {
    "duration": 22,
    "start_time": "2023-03-15T12:06:33.269Z"
   },
   {
    "duration": 145,
    "start_time": "2023-03-15T12:06:33.292Z"
   },
   {
    "duration": 106,
    "start_time": "2023-03-15T12:06:33.439Z"
   },
   {
    "duration": 211,
    "start_time": "2023-03-15T12:06:33.546Z"
   },
   {
    "duration": 112,
    "start_time": "2023-03-15T12:06:33.759Z"
   },
   {
    "duration": 224,
    "start_time": "2023-03-15T12:06:33.872Z"
   },
   {
    "duration": 9,
    "start_time": "2023-03-15T12:06:34.098Z"
   },
   {
    "duration": 8,
    "start_time": "2023-03-15T12:06:34.108Z"
   },
   {
    "duration": 10,
    "start_time": "2023-03-15T12:06:34.118Z"
   },
   {
    "duration": 28,
    "start_time": "2023-03-15T12:06:34.129Z"
   },
   {
    "duration": 7,
    "start_time": "2023-03-15T12:06:34.159Z"
   },
   {
    "duration": 20,
    "start_time": "2023-03-15T12:06:34.167Z"
   },
   {
    "duration": 5,
    "start_time": "2023-03-15T12:06:34.188Z"
   },
   {
    "duration": 5,
    "start_time": "2023-03-15T12:06:34.194Z"
   },
   {
    "duration": 3500,
    "start_time": "2023-03-15T12:06:34.201Z"
   },
   {
    "duration": 492,
    "start_time": "2023-03-15T12:06:37.703Z"
   },
   {
    "duration": 380,
    "start_time": "2023-03-15T12:06:38.197Z"
   },
   {
    "duration": 263,
    "start_time": "2023-03-15T12:07:33.096Z"
   },
   {
    "duration": 1321,
    "start_time": "2023-03-15T12:07:39.439Z"
   },
   {
    "duration": 1551,
    "start_time": "2023-03-15T12:10:01.937Z"
   },
   {
    "duration": 3302,
    "start_time": "2023-03-15T12:10:11.484Z"
   },
   {
    "duration": 3,
    "start_time": "2023-03-15T12:12:11.281Z"
   },
   {
    "duration": 19,
    "start_time": "2023-03-15T12:12:33.343Z"
   },
   {
    "duration": 19,
    "start_time": "2023-03-15T12:13:02.428Z"
   },
   {
    "duration": 1375,
    "start_time": "2023-03-15T12:13:13.793Z"
   },
   {
    "duration": 717,
    "start_time": "2023-03-15T12:13:15.170Z"
   },
   {
    "duration": 4,
    "start_time": "2023-03-15T12:13:15.888Z"
   },
   {
    "duration": 69,
    "start_time": "2023-03-15T12:13:15.893Z"
   },
   {
    "duration": 47,
    "start_time": "2023-03-15T12:13:15.965Z"
   },
   {
    "duration": 51,
    "start_time": "2023-03-15T12:13:16.013Z"
   },
   {
    "duration": 139,
    "start_time": "2023-03-15T12:13:16.066Z"
   },
   {
    "duration": 109,
    "start_time": "2023-03-15T12:13:16.206Z"
   },
   {
    "duration": 227,
    "start_time": "2023-03-15T12:13:16.316Z"
   },
   {
    "duration": 144,
    "start_time": "2023-03-15T12:13:16.554Z"
   },
   {
    "duration": 247,
    "start_time": "2023-03-15T12:13:16.699Z"
   },
   {
    "duration": 11,
    "start_time": "2023-03-15T12:13:16.948Z"
   },
   {
    "duration": 6,
    "start_time": "2023-03-15T12:13:16.960Z"
   },
   {
    "duration": 9,
    "start_time": "2023-03-15T12:13:16.969Z"
   },
   {
    "duration": 6,
    "start_time": "2023-03-15T12:13:16.979Z"
   },
   {
    "duration": 13,
    "start_time": "2023-03-15T12:13:16.986Z"
   },
   {
    "duration": 4,
    "start_time": "2023-03-15T12:13:17.000Z"
   },
   {
    "duration": 6,
    "start_time": "2023-03-15T12:13:17.006Z"
   },
   {
    "duration": 5,
    "start_time": "2023-03-15T12:13:17.013Z"
   },
   {
    "duration": 3308,
    "start_time": "2023-03-15T12:13:17.020Z"
   },
   {
    "duration": 561,
    "start_time": "2023-03-15T12:13:20.330Z"
   },
   {
    "duration": 1265,
    "start_time": "2023-03-15T12:13:20.894Z"
   },
   {
    "duration": 4,
    "start_time": "2023-03-15T12:13:22.161Z"
   },
   {
    "duration": 13,
    "start_time": "2023-03-15T12:13:22.167Z"
   },
   {
    "duration": 4,
    "start_time": "2023-03-15T12:13:34.904Z"
   },
   {
    "duration": 122,
    "start_time": "2023-03-15T12:15:05.887Z"
   },
   {
    "duration": 3,
    "start_time": "2023-03-15T12:15:24.835Z"
   },
   {
    "duration": 13,
    "start_time": "2023-03-15T12:17:21.721Z"
   },
   {
    "duration": 12,
    "start_time": "2023-03-15T12:18:17.957Z"
   },
   {
    "duration": 8,
    "start_time": "2023-03-15T12:18:34.052Z"
   },
   {
    "duration": 12,
    "start_time": "2023-03-15T12:19:30.729Z"
   },
   {
    "duration": 1220,
    "start_time": "2023-03-15T12:20:02.316Z"
   },
   {
    "duration": 0,
    "start_time": "2023-03-15T12:20:03.538Z"
   },
   {
    "duration": 0,
    "start_time": "2023-03-15T12:20:03.539Z"
   },
   {
    "duration": 0,
    "start_time": "2023-03-15T12:20:03.540Z"
   },
   {
    "duration": 0,
    "start_time": "2023-03-15T12:20:03.541Z"
   },
   {
    "duration": 0,
    "start_time": "2023-03-15T12:20:03.543Z"
   },
   {
    "duration": 0,
    "start_time": "2023-03-15T12:20:03.543Z"
   },
   {
    "duration": 0,
    "start_time": "2023-03-15T12:20:03.545Z"
   },
   {
    "duration": 0,
    "start_time": "2023-03-15T12:20:03.545Z"
   },
   {
    "duration": 0,
    "start_time": "2023-03-15T12:20:03.546Z"
   },
   {
    "duration": 0,
    "start_time": "2023-03-15T12:20:03.555Z"
   },
   {
    "duration": 0,
    "start_time": "2023-03-15T12:20:03.556Z"
   },
   {
    "duration": 0,
    "start_time": "2023-03-15T12:20:03.557Z"
   },
   {
    "duration": 0,
    "start_time": "2023-03-15T12:20:03.558Z"
   },
   {
    "duration": 0,
    "start_time": "2023-03-15T12:20:03.559Z"
   },
   {
    "duration": 0,
    "start_time": "2023-03-15T12:20:03.560Z"
   },
   {
    "duration": 0,
    "start_time": "2023-03-15T12:20:03.560Z"
   },
   {
    "duration": 0,
    "start_time": "2023-03-15T12:20:03.562Z"
   },
   {
    "duration": 0,
    "start_time": "2023-03-15T12:20:03.562Z"
   },
   {
    "duration": 0,
    "start_time": "2023-03-15T12:20:03.564Z"
   },
   {
    "duration": 0,
    "start_time": "2023-03-15T12:20:03.565Z"
   },
   {
    "duration": 0,
    "start_time": "2023-03-15T12:20:03.566Z"
   },
   {
    "duration": 0,
    "start_time": "2023-03-15T12:20:03.567Z"
   },
   {
    "duration": 0,
    "start_time": "2023-03-15T12:20:03.569Z"
   },
   {
    "duration": 0,
    "start_time": "2023-03-15T12:20:03.570Z"
   },
   {
    "duration": 1453,
    "start_time": "2023-03-15T12:20:38.126Z"
   },
   {
    "duration": 723,
    "start_time": "2023-03-15T12:20:39.582Z"
   },
   {
    "duration": 4,
    "start_time": "2023-03-15T12:20:40.307Z"
   },
   {
    "duration": 67,
    "start_time": "2023-03-15T12:20:40.312Z"
   },
   {
    "duration": 46,
    "start_time": "2023-03-15T12:20:40.382Z"
   },
   {
    "duration": 40,
    "start_time": "2023-03-15T12:20:40.429Z"
   },
   {
    "duration": 136,
    "start_time": "2023-03-15T12:20:40.470Z"
   },
   {
    "duration": 112,
    "start_time": "2023-03-15T12:20:40.607Z"
   },
   {
    "duration": 210,
    "start_time": "2023-03-15T12:20:40.721Z"
   },
   {
    "duration": 114,
    "start_time": "2023-03-15T12:20:40.933Z"
   },
   {
    "duration": 223,
    "start_time": "2023-03-15T12:20:41.054Z"
   },
   {
    "duration": 8,
    "start_time": "2023-03-15T12:20:41.278Z"
   },
   {
    "duration": 16,
    "start_time": "2023-03-15T12:20:41.287Z"
   },
   {
    "duration": 10,
    "start_time": "2023-03-15T12:20:41.306Z"
   },
   {
    "duration": 5,
    "start_time": "2023-03-15T12:20:41.317Z"
   },
   {
    "duration": 5,
    "start_time": "2023-03-15T12:20:41.324Z"
   },
   {
    "duration": 26,
    "start_time": "2023-03-15T12:20:41.330Z"
   },
   {
    "duration": 4,
    "start_time": "2023-03-15T12:20:41.357Z"
   },
   {
    "duration": 4,
    "start_time": "2023-03-15T12:20:41.363Z"
   },
   {
    "duration": 3532,
    "start_time": "2023-03-15T12:20:41.368Z"
   },
   {
    "duration": 516,
    "start_time": "2023-03-15T12:20:44.902Z"
   },
   {
    "duration": 1220,
    "start_time": "2023-03-15T12:20:45.420Z"
   },
   {
    "duration": 2,
    "start_time": "2023-03-15T12:20:46.642Z"
   },
   {
    "duration": 29,
    "start_time": "2023-03-15T12:20:46.646Z"
   },
   {
    "duration": 121,
    "start_time": "2023-03-15T12:20:46.677Z"
   },
   {
    "duration": 11,
    "start_time": "2023-03-15T12:21:12.476Z"
   },
   {
    "duration": 13,
    "start_time": "2023-03-15T12:21:13.073Z"
   },
   {
    "duration": 73,
    "start_time": "2023-03-15T12:21:13.528Z"
   },
   {
    "duration": 6,
    "start_time": "2023-03-15T12:21:42.877Z"
   },
   {
    "duration": 7,
    "start_time": "2023-03-15T12:21:43.377Z"
   },
   {
    "duration": 9,
    "start_time": "2023-03-15T12:21:43.874Z"
   },
   {
    "duration": 11,
    "start_time": "2023-03-15T12:21:44.274Z"
   },
   {
    "duration": 22,
    "start_time": "2023-03-15T12:21:44.841Z"
   },
   {
    "duration": 1724,
    "start_time": "2023-03-16T10:16:47.940Z"
   },
   {
    "duration": 2118,
    "start_time": "2023-03-16T10:16:49.666Z"
   },
   {
    "duration": 4,
    "start_time": "2023-03-16T10:16:51.786Z"
   },
   {
    "duration": 73,
    "start_time": "2023-03-16T10:16:51.792Z"
   },
   {
    "duration": 71,
    "start_time": "2023-03-16T10:16:51.867Z"
   },
   {
    "duration": 21,
    "start_time": "2023-03-16T10:16:51.941Z"
   },
   {
    "duration": 152,
    "start_time": "2023-03-16T10:16:51.963Z"
   },
   {
    "duration": 111,
    "start_time": "2023-03-16T10:16:52.118Z"
   },
   {
    "duration": 248,
    "start_time": "2023-03-16T10:16:52.231Z"
   },
   {
    "duration": 145,
    "start_time": "2023-03-16T10:16:52.481Z"
   },
   {
    "duration": 279,
    "start_time": "2023-03-16T10:16:52.627Z"
   },
   {
    "duration": 15,
    "start_time": "2023-03-16T10:16:52.911Z"
   },
   {
    "duration": 11,
    "start_time": "2023-03-16T10:16:52.928Z"
   },
   {
    "duration": 9,
    "start_time": "2023-03-16T10:16:52.942Z"
   },
   {
    "duration": 5,
    "start_time": "2023-03-16T10:16:52.953Z"
   },
   {
    "duration": 8,
    "start_time": "2023-03-16T10:16:52.960Z"
   },
   {
    "duration": 16,
    "start_time": "2023-03-16T10:16:52.970Z"
   },
   {
    "duration": 168,
    "start_time": "2023-03-16T10:16:52.988Z"
   },
   {
    "duration": 0,
    "start_time": "2023-03-16T10:16:53.157Z"
   },
   {
    "duration": 0,
    "start_time": "2023-03-16T10:16:53.158Z"
   },
   {
    "duration": 0,
    "start_time": "2023-03-16T10:16:53.160Z"
   },
   {
    "duration": 0,
    "start_time": "2023-03-16T10:16:53.160Z"
   },
   {
    "duration": 0,
    "start_time": "2023-03-16T10:16:53.161Z"
   },
   {
    "duration": 0,
    "start_time": "2023-03-16T10:16:53.162Z"
   },
   {
    "duration": 1459,
    "start_time": "2023-03-16T10:27:41.523Z"
   },
   {
    "duration": 634,
    "start_time": "2023-03-16T10:27:42.985Z"
   },
   {
    "duration": 4,
    "start_time": "2023-03-16T10:27:43.621Z"
   },
   {
    "duration": 79,
    "start_time": "2023-03-16T10:27:43.626Z"
   },
   {
    "duration": 48,
    "start_time": "2023-03-16T10:27:43.711Z"
   },
   {
    "duration": 22,
    "start_time": "2023-03-16T10:27:43.761Z"
   },
   {
    "duration": 148,
    "start_time": "2023-03-16T10:27:43.784Z"
   },
   {
    "duration": 109,
    "start_time": "2023-03-16T10:27:43.933Z"
   },
   {
    "duration": 301,
    "start_time": "2023-03-16T10:27:44.045Z"
   },
   {
    "duration": 138,
    "start_time": "2023-03-16T10:27:44.348Z"
   },
   {
    "duration": 256,
    "start_time": "2023-03-16T10:27:44.488Z"
   },
   {
    "duration": 8,
    "start_time": "2023-03-16T10:27:44.746Z"
   },
   {
    "duration": 7,
    "start_time": "2023-03-16T10:27:44.755Z"
   },
   {
    "duration": 11,
    "start_time": "2023-03-16T10:27:44.764Z"
   },
   {
    "duration": 7,
    "start_time": "2023-03-16T10:27:44.776Z"
   },
   {
    "duration": 29,
    "start_time": "2023-03-16T10:27:44.785Z"
   },
   {
    "duration": 18,
    "start_time": "2023-03-16T10:27:44.816Z"
   },
   {
    "duration": 746,
    "start_time": "2023-03-16T10:27:44.836Z"
   },
   {
    "duration": 5,
    "start_time": "2023-03-16T10:27:45.583Z"
   },
   {
    "duration": 7,
    "start_time": "2023-03-16T10:27:45.590Z"
   },
   {
    "duration": 3669,
    "start_time": "2023-03-16T10:27:45.599Z"
   },
   {
    "duration": 597,
    "start_time": "2023-03-16T10:27:49.270Z"
   },
   {
    "duration": 1379,
    "start_time": "2023-03-16T10:27:49.869Z"
   },
   {
    "duration": 3,
    "start_time": "2023-03-16T10:27:51.251Z"
   },
   {
    "duration": 118,
    "start_time": "2023-03-16T10:34:27.837Z"
   },
   {
    "duration": 1387,
    "start_time": "2023-03-16T10:34:51.261Z"
   },
   {
    "duration": 663,
    "start_time": "2023-03-16T10:34:52.650Z"
   },
   {
    "duration": 3,
    "start_time": "2023-03-16T10:34:53.315Z"
   },
   {
    "duration": 79,
    "start_time": "2023-03-16T10:34:53.320Z"
   },
   {
    "duration": 45,
    "start_time": "2023-03-16T10:34:53.401Z"
   },
   {
    "duration": 21,
    "start_time": "2023-03-16T10:34:53.448Z"
   },
   {
    "duration": 145,
    "start_time": "2023-03-16T10:34:53.470Z"
   },
   {
    "duration": 105,
    "start_time": "2023-03-16T10:34:53.617Z"
   },
   {
    "duration": 253,
    "start_time": "2023-03-16T10:34:53.724Z"
   },
   {
    "duration": 194,
    "start_time": "2023-03-16T10:34:53.979Z"
   },
   {
    "duration": 283,
    "start_time": "2023-03-16T10:34:54.175Z"
   },
   {
    "duration": 9,
    "start_time": "2023-03-16T10:34:54.460Z"
   },
   {
    "duration": 12,
    "start_time": "2023-03-16T10:34:54.470Z"
   },
   {
    "duration": 27,
    "start_time": "2023-03-16T10:34:54.485Z"
   },
   {
    "duration": 6,
    "start_time": "2023-03-16T10:34:54.514Z"
   },
   {
    "duration": 15,
    "start_time": "2023-03-16T10:34:54.522Z"
   },
   {
    "duration": 15,
    "start_time": "2023-03-16T10:34:54.539Z"
   },
   {
    "duration": 764,
    "start_time": "2023-03-16T10:34:54.555Z"
   },
   {
    "duration": 5,
    "start_time": "2023-03-16T10:34:55.321Z"
   },
   {
    "duration": 6,
    "start_time": "2023-03-16T10:34:55.329Z"
   },
   {
    "duration": 3635,
    "start_time": "2023-03-16T10:34:55.337Z"
   },
   {
    "duration": 609,
    "start_time": "2023-03-16T10:34:58.974Z"
   },
   {
    "duration": 1473,
    "start_time": "2023-03-16T10:34:59.585Z"
   },
   {
    "duration": 3,
    "start_time": "2023-03-16T10:35:01.060Z"
   },
   {
    "duration": 3,
    "start_time": "2023-03-16T10:35:29.070Z"
   },
   {
    "duration": 114,
    "start_time": "2023-03-16T10:35:51.257Z"
   },
   {
    "duration": 10,
    "start_time": "2023-03-16T10:35:51.673Z"
   },
   {
    "duration": 97,
    "start_time": "2023-03-16T10:35:52.478Z"
   },
   {
    "duration": 9,
    "start_time": "2023-03-16T10:36:24.910Z"
   },
   {
    "duration": 79,
    "start_time": "2023-03-16T10:36:28.610Z"
   },
   {
    "duration": 1429,
    "start_time": "2023-03-16T10:38:11.305Z"
   },
   {
    "duration": 681,
    "start_time": "2023-03-16T10:38:12.736Z"
   },
   {
    "duration": 4,
    "start_time": "2023-03-16T10:38:13.419Z"
   },
   {
    "duration": 62,
    "start_time": "2023-03-16T10:38:13.424Z"
   },
   {
    "duration": 72,
    "start_time": "2023-03-16T10:38:13.488Z"
   },
   {
    "duration": 21,
    "start_time": "2023-03-16T10:38:13.562Z"
   },
   {
    "duration": 141,
    "start_time": "2023-03-16T10:38:13.584Z"
   },
   {
    "duration": 106,
    "start_time": "2023-03-16T10:38:13.726Z"
   },
   {
    "duration": 253,
    "start_time": "2023-03-16T10:38:13.834Z"
   },
   {
    "duration": 172,
    "start_time": "2023-03-16T10:38:14.089Z"
   },
   {
    "duration": 262,
    "start_time": "2023-03-16T10:38:14.263Z"
   },
   {
    "duration": 9,
    "start_time": "2023-03-16T10:38:14.526Z"
   },
   {
    "duration": 7,
    "start_time": "2023-03-16T10:38:14.536Z"
   },
   {
    "duration": 10,
    "start_time": "2023-03-16T10:38:14.545Z"
   },
   {
    "duration": 6,
    "start_time": "2023-03-16T10:38:14.556Z"
   },
   {
    "duration": 12,
    "start_time": "2023-03-16T10:38:14.563Z"
   },
   {
    "duration": 36,
    "start_time": "2023-03-16T10:38:14.577Z"
   },
   {
    "duration": 731,
    "start_time": "2023-03-16T10:38:14.615Z"
   },
   {
    "duration": 5,
    "start_time": "2023-03-16T10:38:15.348Z"
   },
   {
    "duration": 14,
    "start_time": "2023-03-16T10:38:15.355Z"
   },
   {
    "duration": 3650,
    "start_time": "2023-03-16T10:38:15.371Z"
   },
   {
    "duration": 559,
    "start_time": "2023-03-16T10:38:19.023Z"
   },
   {
    "duration": 1456,
    "start_time": "2023-03-16T10:38:19.584Z"
   },
   {
    "duration": 4,
    "start_time": "2023-03-16T10:38:21.041Z"
   },
   {
    "duration": 6,
    "start_time": "2023-03-16T10:38:21.046Z"
   },
   {
    "duration": 128,
    "start_time": "2023-03-16T10:38:21.054Z"
   },
   {
    "duration": 0,
    "start_time": "2023-03-16T10:38:21.185Z"
   },
   {
    "duration": 0,
    "start_time": "2023-03-16T10:38:21.186Z"
   },
   {
    "duration": 6,
    "start_time": "2023-03-16T10:39:54.053Z"
   },
   {
    "duration": 1512,
    "start_time": "2023-03-16T10:40:07.421Z"
   },
   {
    "duration": 697,
    "start_time": "2023-03-16T10:40:08.935Z"
   },
   {
    "duration": 3,
    "start_time": "2023-03-16T10:40:09.634Z"
   },
   {
    "duration": 77,
    "start_time": "2023-03-16T10:40:09.638Z"
   },
   {
    "duration": 46,
    "start_time": "2023-03-16T10:40:09.717Z"
   },
   {
    "duration": 22,
    "start_time": "2023-03-16T10:40:09.764Z"
   },
   {
    "duration": 145,
    "start_time": "2023-03-16T10:40:09.787Z"
   },
   {
    "duration": 106,
    "start_time": "2023-03-16T10:40:09.934Z"
   },
   {
    "duration": 254,
    "start_time": "2023-03-16T10:40:10.042Z"
   },
   {
    "duration": 145,
    "start_time": "2023-03-16T10:40:10.298Z"
   },
   {
    "duration": 272,
    "start_time": "2023-03-16T10:40:10.445Z"
   },
   {
    "duration": 10,
    "start_time": "2023-03-16T10:40:10.719Z"
   },
   {
    "duration": 11,
    "start_time": "2023-03-16T10:40:10.731Z"
   },
   {
    "duration": 12,
    "start_time": "2023-03-16T10:40:10.744Z"
   },
   {
    "duration": 12,
    "start_time": "2023-03-16T10:40:10.758Z"
   },
   {
    "duration": 19,
    "start_time": "2023-03-16T10:40:10.772Z"
   },
   {
    "duration": 15,
    "start_time": "2023-03-16T10:40:10.793Z"
   },
   {
    "duration": 796,
    "start_time": "2023-03-16T10:40:10.813Z"
   },
   {
    "duration": 5,
    "start_time": "2023-03-16T10:40:11.611Z"
   },
   {
    "duration": 14,
    "start_time": "2023-03-16T10:40:11.618Z"
   },
   {
    "duration": 3735,
    "start_time": "2023-03-16T10:40:11.634Z"
   },
   {
    "duration": 594,
    "start_time": "2023-03-16T10:40:15.370Z"
   },
   {
    "duration": 1493,
    "start_time": "2023-03-16T10:40:15.966Z"
   },
   {
    "duration": 3,
    "start_time": "2023-03-16T10:40:17.461Z"
   },
   {
    "duration": 11,
    "start_time": "2023-03-16T10:40:17.466Z"
   },
   {
    "duration": 120,
    "start_time": "2023-03-16T10:40:17.479Z"
   },
   {
    "duration": 0,
    "start_time": "2023-03-16T10:40:17.601Z"
   },
   {
    "duration": 1,
    "start_time": "2023-03-16T10:40:17.612Z"
   },
   {
    "duration": 11,
    "start_time": "2023-03-16T10:41:01.141Z"
   },
   {
    "duration": 7,
    "start_time": "2023-03-16T10:41:09.902Z"
   },
   {
    "duration": 12,
    "start_time": "2023-03-16T10:41:10.668Z"
   },
   {
    "duration": 525,
    "start_time": "2023-03-16T10:41:11.045Z"
   },
   {
    "duration": 89,
    "start_time": "2023-03-16T10:47:49.581Z"
   },
   {
    "duration": 7790,
    "start_time": "2023-03-16T10:47:56.233Z"
   },
   {
    "duration": 10,
    "start_time": "2023-03-16T10:48:39.026Z"
   },
   {
    "duration": 1627,
    "start_time": "2023-03-16T10:48:42.719Z"
   },
   {
    "duration": 821,
    "start_time": "2023-03-16T10:48:44.348Z"
   },
   {
    "duration": 4,
    "start_time": "2023-03-16T10:48:45.171Z"
   },
   {
    "duration": 74,
    "start_time": "2023-03-16T10:48:45.177Z"
   },
   {
    "duration": 65,
    "start_time": "2023-03-16T10:48:45.254Z"
   },
   {
    "duration": 28,
    "start_time": "2023-03-16T10:48:45.322Z"
   },
   {
    "duration": 156,
    "start_time": "2023-03-16T10:48:45.352Z"
   },
   {
    "duration": 130,
    "start_time": "2023-03-16T10:48:45.510Z"
   },
   {
    "duration": 247,
    "start_time": "2023-03-16T10:48:45.642Z"
   },
   {
    "duration": 142,
    "start_time": "2023-03-16T10:48:45.891Z"
   },
   {
    "duration": 258,
    "start_time": "2023-03-16T10:48:46.036Z"
   },
   {
    "duration": 8,
    "start_time": "2023-03-16T10:48:46.296Z"
   },
   {
    "duration": 8,
    "start_time": "2023-03-16T10:48:46.313Z"
   },
   {
    "duration": 14,
    "start_time": "2023-03-16T10:48:46.326Z"
   },
   {
    "duration": 6,
    "start_time": "2023-03-16T10:48:46.342Z"
   },
   {
    "duration": 5,
    "start_time": "2023-03-16T10:48:46.349Z"
   },
   {
    "duration": 8,
    "start_time": "2023-03-16T10:48:46.355Z"
   },
   {
    "duration": 854,
    "start_time": "2023-03-16T10:48:46.364Z"
   },
   {
    "duration": 6,
    "start_time": "2023-03-16T10:48:47.221Z"
   },
   {
    "duration": 15,
    "start_time": "2023-03-16T10:48:47.230Z"
   },
   {
    "duration": 3972,
    "start_time": "2023-03-16T10:48:47.247Z"
   },
   {
    "duration": 593,
    "start_time": "2023-03-16T10:48:51.221Z"
   },
   {
    "duration": 1444,
    "start_time": "2023-03-16T10:48:51.817Z"
   },
   {
    "duration": 3,
    "start_time": "2023-03-16T10:48:53.263Z"
   },
   {
    "duration": 10,
    "start_time": "2023-03-16T10:48:53.268Z"
   },
   {
    "duration": 21,
    "start_time": "2023-03-16T10:48:53.279Z"
   },
   {
    "duration": 30,
    "start_time": "2023-03-16T10:48:53.302Z"
   },
   {
    "duration": 516,
    "start_time": "2023-03-16T10:48:53.334Z"
   },
   {
    "duration": 2934,
    "start_time": "2023-03-16T10:48:53.852Z"
   },
   {
    "duration": 6858,
    "start_time": "2023-03-16T10:49:04.169Z"
   },
   {
    "duration": 10,
    "start_time": "2023-03-16T10:49:27.921Z"
   },
   {
    "duration": 6104,
    "start_time": "2023-03-16T10:50:12.709Z"
   },
   {
    "duration": 10,
    "start_time": "2023-03-16T10:50:18.815Z"
   },
   {
    "duration": 2388,
    "start_time": "2023-03-16T10:50:33.025Z"
   },
   {
    "duration": 5828,
    "start_time": "2023-03-16T10:50:35.415Z"
   },
   {
    "duration": 9,
    "start_time": "2023-03-16T10:50:41.245Z"
   },
   {
    "duration": 1508,
    "start_time": "2023-03-16T10:51:04.297Z"
   },
   {
    "duration": 700,
    "start_time": "2023-03-16T10:51:05.807Z"
   },
   {
    "duration": 5,
    "start_time": "2023-03-16T10:51:06.509Z"
   },
   {
    "duration": 68,
    "start_time": "2023-03-16T10:51:06.516Z"
   },
   {
    "duration": 70,
    "start_time": "2023-03-16T10:51:06.587Z"
   },
   {
    "duration": 22,
    "start_time": "2023-03-16T10:51:06.658Z"
   },
   {
    "duration": 141,
    "start_time": "2023-03-16T10:51:06.681Z"
   },
   {
    "duration": 110,
    "start_time": "2023-03-16T10:51:06.824Z"
   },
   {
    "duration": 250,
    "start_time": "2023-03-16T10:51:06.935Z"
   },
   {
    "duration": 132,
    "start_time": "2023-03-16T10:51:07.187Z"
   },
   {
    "duration": 270,
    "start_time": "2023-03-16T10:51:07.321Z"
   },
   {
    "duration": 9,
    "start_time": "2023-03-16T10:51:07.593Z"
   },
   {
    "duration": 8,
    "start_time": "2023-03-16T10:51:07.611Z"
   },
   {
    "duration": 11,
    "start_time": "2023-03-16T10:51:07.622Z"
   },
   {
    "duration": 10,
    "start_time": "2023-03-16T10:51:07.634Z"
   },
   {
    "duration": 8,
    "start_time": "2023-03-16T10:51:07.646Z"
   },
   {
    "duration": 28,
    "start_time": "2023-03-16T10:51:07.655Z"
   },
   {
    "duration": 737,
    "start_time": "2023-03-16T10:51:07.685Z"
   },
   {
    "duration": 5,
    "start_time": "2023-03-16T10:51:08.423Z"
   },
   {
    "duration": 7,
    "start_time": "2023-03-16T10:51:08.430Z"
   },
   {
    "duration": 3618,
    "start_time": "2023-03-16T10:51:08.439Z"
   },
   {
    "duration": 616,
    "start_time": "2023-03-16T10:51:12.058Z"
   },
   {
    "duration": 1380,
    "start_time": "2023-03-16T10:51:12.675Z"
   },
   {
    "duration": 5,
    "start_time": "2023-03-16T10:51:14.058Z"
   },
   {
    "duration": 5,
    "start_time": "2023-03-16T10:51:14.065Z"
   },
   {
    "duration": 10,
    "start_time": "2023-03-16T10:51:14.073Z"
   },
   {
    "duration": 28,
    "start_time": "2023-03-16T10:51:14.085Z"
   },
   {
    "duration": 555,
    "start_time": "2023-03-16T10:51:14.115Z"
   },
   {
    "duration": 2929,
    "start_time": "2023-03-16T10:51:14.672Z"
   },
   {
    "duration": 7327,
    "start_time": "2023-03-16T10:51:17.603Z"
   },
   {
    "duration": 10,
    "start_time": "2023-03-16T10:51:24.932Z"
   },
   {
    "duration": 631,
    "start_time": "2023-03-16T10:53:48.744Z"
   },
   {
    "duration": 10,
    "start_time": "2023-03-16T10:53:49.681Z"
   },
   {
    "duration": 548,
    "start_time": "2023-03-16T10:53:58.129Z"
   },
   {
    "duration": 555,
    "start_time": "2023-03-16T10:54:00.124Z"
   },
   {
    "duration": 10,
    "start_time": "2023-03-16T10:54:03.769Z"
   },
   {
    "duration": 1511,
    "start_time": "2023-03-16T10:54:28.671Z"
   },
   {
    "duration": 723,
    "start_time": "2023-03-16T10:54:30.185Z"
   },
   {
    "duration": 4,
    "start_time": "2023-03-16T10:54:30.912Z"
   },
   {
    "duration": 123,
    "start_time": "2023-03-16T10:54:30.917Z"
   },
   {
    "duration": 72,
    "start_time": "2023-03-16T10:54:31.043Z"
   },
   {
    "duration": 49,
    "start_time": "2023-03-16T10:54:31.116Z"
   },
   {
    "duration": 146,
    "start_time": "2023-03-16T10:54:31.167Z"
   },
   {
    "duration": 105,
    "start_time": "2023-03-16T10:54:31.315Z"
   },
   {
    "duration": 264,
    "start_time": "2023-03-16T10:54:31.422Z"
   },
   {
    "duration": 142,
    "start_time": "2023-03-16T10:54:31.688Z"
   },
   {
    "duration": 277,
    "start_time": "2023-03-16T10:54:31.832Z"
   },
   {
    "duration": 12,
    "start_time": "2023-03-16T10:54:32.111Z"
   },
   {
    "duration": 9,
    "start_time": "2023-03-16T10:54:32.125Z"
   },
   {
    "duration": 26,
    "start_time": "2023-03-16T10:54:32.137Z"
   },
   {
    "duration": 8,
    "start_time": "2023-03-16T10:54:32.165Z"
   },
   {
    "duration": 13,
    "start_time": "2023-03-16T10:54:32.174Z"
   },
   {
    "duration": 24,
    "start_time": "2023-03-16T10:54:32.189Z"
   },
   {
    "duration": 751,
    "start_time": "2023-03-16T10:54:32.215Z"
   },
   {
    "duration": 5,
    "start_time": "2023-03-16T10:54:32.968Z"
   },
   {
    "duration": 9,
    "start_time": "2023-03-16T10:54:32.976Z"
   },
   {
    "duration": 3779,
    "start_time": "2023-03-16T10:54:32.987Z"
   },
   {
    "duration": 620,
    "start_time": "2023-03-16T10:54:36.768Z"
   },
   {
    "duration": 1456,
    "start_time": "2023-03-16T10:54:37.390Z"
   },
   {
    "duration": 4,
    "start_time": "2023-03-16T10:54:38.847Z"
   },
   {
    "duration": 8,
    "start_time": "2023-03-16T10:54:38.853Z"
   },
   {
    "duration": 12,
    "start_time": "2023-03-16T10:54:38.862Z"
   },
   {
    "duration": 20,
    "start_time": "2023-03-16T10:54:38.876Z"
   },
   {
    "duration": 580,
    "start_time": "2023-03-16T10:54:38.898Z"
   },
   {
    "duration": 3165,
    "start_time": "2023-03-16T10:54:39.480Z"
   },
   {
    "duration": 7937,
    "start_time": "2023-03-16T10:54:42.647Z"
   },
   {
    "duration": 10,
    "start_time": "2023-03-16T10:54:50.586Z"
   },
   {
    "duration": 133,
    "start_time": "2023-03-16T10:58:41.222Z"
   },
   {
    "duration": 10,
    "start_time": "2023-03-16T10:59:06.741Z"
   },
   {
    "duration": 10,
    "start_time": "2023-03-16T10:59:07.097Z"
   },
   {
    "duration": 8,
    "start_time": "2023-03-16T11:01:04.274Z"
   },
   {
    "duration": 5,
    "start_time": "2023-03-16T11:01:10.677Z"
   },
   {
    "duration": 13,
    "start_time": "2023-03-16T11:01:17.625Z"
   },
   {
    "duration": 11,
    "start_time": "2023-03-16T11:01:43.853Z"
   },
   {
    "duration": 1449,
    "start_time": "2023-03-16T11:01:52.119Z"
   },
   {
    "duration": 741,
    "start_time": "2023-03-16T11:01:53.570Z"
   },
   {
    "duration": 5,
    "start_time": "2023-03-16T11:01:54.313Z"
   },
   {
    "duration": 99,
    "start_time": "2023-03-16T11:01:54.320Z"
   },
   {
    "duration": 49,
    "start_time": "2023-03-16T11:01:54.423Z"
   },
   {
    "duration": 45,
    "start_time": "2023-03-16T11:01:54.474Z"
   },
   {
    "duration": 134,
    "start_time": "2023-03-16T11:01:54.520Z"
   },
   {
    "duration": 109,
    "start_time": "2023-03-16T11:01:54.656Z"
   },
   {
    "duration": 253,
    "start_time": "2023-03-16T11:01:54.767Z"
   },
   {
    "duration": 139,
    "start_time": "2023-03-16T11:01:55.022Z"
   },
   {
    "duration": 283,
    "start_time": "2023-03-16T11:01:55.164Z"
   },
   {
    "duration": 11,
    "start_time": "2023-03-16T11:01:55.450Z"
   },
   {
    "duration": 9,
    "start_time": "2023-03-16T11:01:55.463Z"
   },
   {
    "duration": 37,
    "start_time": "2023-03-16T11:01:55.476Z"
   },
   {
    "duration": 7,
    "start_time": "2023-03-16T11:01:55.515Z"
   },
   {
    "duration": 9,
    "start_time": "2023-03-16T11:01:55.524Z"
   },
   {
    "duration": 32,
    "start_time": "2023-03-16T11:01:55.535Z"
   },
   {
    "duration": 753,
    "start_time": "2023-03-16T11:01:55.569Z"
   },
   {
    "duration": 3,
    "start_time": "2023-03-16T11:01:56.324Z"
   },
   {
    "duration": 14,
    "start_time": "2023-03-16T11:01:56.329Z"
   },
   {
    "duration": 3726,
    "start_time": "2023-03-16T11:01:56.344Z"
   },
   {
    "duration": 598,
    "start_time": "2023-03-16T11:02:00.072Z"
   },
   {
    "duration": 1408,
    "start_time": "2023-03-16T11:02:00.672Z"
   },
   {
    "duration": 5,
    "start_time": "2023-03-16T11:02:02.082Z"
   },
   {
    "duration": 9,
    "start_time": "2023-03-16T11:02:02.089Z"
   },
   {
    "duration": 25,
    "start_time": "2023-03-16T11:02:02.100Z"
   },
   {
    "duration": 17,
    "start_time": "2023-03-16T11:02:02.127Z"
   },
   {
    "duration": 127,
    "start_time": "2023-03-16T11:02:02.146Z"
   },
   {
    "duration": 1480,
    "start_time": "2023-03-16T11:02:28.254Z"
   },
   {
    "duration": 744,
    "start_time": "2023-03-16T11:02:29.737Z"
   },
   {
    "duration": 3,
    "start_time": "2023-03-16T11:02:30.484Z"
   },
   {
    "duration": 116,
    "start_time": "2023-03-16T11:02:30.489Z"
   },
   {
    "duration": 50,
    "start_time": "2023-03-16T11:02:30.608Z"
   },
   {
    "duration": 23,
    "start_time": "2023-03-16T11:02:30.660Z"
   },
   {
    "duration": 159,
    "start_time": "2023-03-16T11:02:30.686Z"
   },
   {
    "duration": 111,
    "start_time": "2023-03-16T11:02:30.847Z"
   },
   {
    "duration": 257,
    "start_time": "2023-03-16T11:02:30.959Z"
   },
   {
    "duration": 139,
    "start_time": "2023-03-16T11:02:31.217Z"
   },
   {
    "duration": 293,
    "start_time": "2023-03-16T11:02:31.358Z"
   },
   {
    "duration": 9,
    "start_time": "2023-03-16T11:02:31.653Z"
   },
   {
    "duration": 34,
    "start_time": "2023-03-16T11:02:31.664Z"
   },
   {
    "duration": 19,
    "start_time": "2023-03-16T11:02:31.701Z"
   },
   {
    "duration": 6,
    "start_time": "2023-03-16T11:02:31.722Z"
   },
   {
    "duration": 25,
    "start_time": "2023-03-16T11:02:31.730Z"
   },
   {
    "duration": 12,
    "start_time": "2023-03-16T11:02:31.757Z"
   },
   {
    "duration": 747,
    "start_time": "2023-03-16T11:02:31.771Z"
   },
   {
    "duration": 5,
    "start_time": "2023-03-16T11:02:32.519Z"
   },
   {
    "duration": 10,
    "start_time": "2023-03-16T11:02:32.525Z"
   },
   {
    "duration": 3771,
    "start_time": "2023-03-16T11:02:32.537Z"
   },
   {
    "duration": 575,
    "start_time": "2023-03-16T11:02:36.309Z"
   },
   {
    "duration": 1486,
    "start_time": "2023-03-16T11:02:36.886Z"
   },
   {
    "duration": 4,
    "start_time": "2023-03-16T11:02:38.373Z"
   },
   {
    "duration": 14,
    "start_time": "2023-03-16T11:02:38.379Z"
   },
   {
    "duration": 32,
    "start_time": "2023-03-16T11:02:38.395Z"
   },
   {
    "duration": 10,
    "start_time": "2023-03-16T11:02:38.428Z"
   },
   {
    "duration": 118,
    "start_time": "2023-03-16T11:02:38.440Z"
   },
   {
    "duration": 1516,
    "start_time": "2023-03-16T11:03:14.301Z"
   },
   {
    "duration": 716,
    "start_time": "2023-03-16T11:03:15.819Z"
   },
   {
    "duration": 4,
    "start_time": "2023-03-16T11:03:16.537Z"
   },
   {
    "duration": 76,
    "start_time": "2023-03-16T11:03:16.542Z"
   },
   {
    "duration": 46,
    "start_time": "2023-03-16T11:03:16.621Z"
   },
   {
    "duration": 46,
    "start_time": "2023-03-16T11:03:16.668Z"
   },
   {
    "duration": 134,
    "start_time": "2023-03-16T11:03:16.716Z"
   },
   {
    "duration": 105,
    "start_time": "2023-03-16T11:03:16.851Z"
   },
   {
    "duration": 250,
    "start_time": "2023-03-16T11:03:16.957Z"
   },
   {
    "duration": 138,
    "start_time": "2023-03-16T11:03:17.209Z"
   },
   {
    "duration": 276,
    "start_time": "2023-03-16T11:03:17.348Z"
   },
   {
    "duration": 10,
    "start_time": "2023-03-16T11:03:17.625Z"
   },
   {
    "duration": 8,
    "start_time": "2023-03-16T11:03:17.636Z"
   },
   {
    "duration": 10,
    "start_time": "2023-03-16T11:03:17.647Z"
   },
   {
    "duration": 6,
    "start_time": "2023-03-16T11:03:17.659Z"
   },
   {
    "duration": 20,
    "start_time": "2023-03-16T11:03:17.666Z"
   },
   {
    "duration": 25,
    "start_time": "2023-03-16T11:03:17.688Z"
   },
   {
    "duration": 763,
    "start_time": "2023-03-16T11:03:17.715Z"
   },
   {
    "duration": 5,
    "start_time": "2023-03-16T11:03:18.479Z"
   },
   {
    "duration": 19,
    "start_time": "2023-03-16T11:03:18.486Z"
   },
   {
    "duration": 3670,
    "start_time": "2023-03-16T11:03:18.507Z"
   },
   {
    "duration": 599,
    "start_time": "2023-03-16T11:03:22.179Z"
   },
   {
    "duration": 1372,
    "start_time": "2023-03-16T11:03:22.780Z"
   },
   {
    "duration": 3,
    "start_time": "2023-03-16T11:03:24.154Z"
   },
   {
    "duration": 14,
    "start_time": "2023-03-16T11:03:24.159Z"
   },
   {
    "duration": 10,
    "start_time": "2023-03-16T11:03:24.175Z"
   },
   {
    "duration": 8,
    "start_time": "2023-03-16T11:03:24.187Z"
   },
   {
    "duration": 18,
    "start_time": "2023-03-16T11:03:24.197Z"
   },
   {
    "duration": 5,
    "start_time": "2023-03-16T11:03:52.649Z"
   },
   {
    "duration": 3,
    "start_time": "2023-03-16T11:04:05.505Z"
   },
   {
    "duration": 114,
    "start_time": "2023-03-16T11:04:11.641Z"
   },
   {
    "duration": 1524,
    "start_time": "2023-03-16T11:05:10.775Z"
   },
   {
    "duration": 731,
    "start_time": "2023-03-16T11:05:12.301Z"
   },
   {
    "duration": 4,
    "start_time": "2023-03-16T11:05:13.034Z"
   },
   {
    "duration": 84,
    "start_time": "2023-03-16T11:05:13.040Z"
   },
   {
    "duration": 52,
    "start_time": "2023-03-16T11:05:13.127Z"
   },
   {
    "duration": 52,
    "start_time": "2023-03-16T11:05:13.181Z"
   },
   {
    "duration": 134,
    "start_time": "2023-03-16T11:05:13.235Z"
   },
   {
    "duration": 115,
    "start_time": "2023-03-16T11:05:13.372Z"
   },
   {
    "duration": 271,
    "start_time": "2023-03-16T11:05:13.489Z"
   },
   {
    "duration": 142,
    "start_time": "2023-03-16T11:05:13.762Z"
   },
   {
    "duration": 350,
    "start_time": "2023-03-16T11:05:13.914Z"
   },
   {
    "duration": 14,
    "start_time": "2023-03-16T11:05:14.266Z"
   },
   {
    "duration": 32,
    "start_time": "2023-03-16T11:05:14.283Z"
   },
   {
    "duration": 15,
    "start_time": "2023-03-16T11:05:14.320Z"
   },
   {
    "duration": 9,
    "start_time": "2023-03-16T11:05:14.337Z"
   },
   {
    "duration": 7,
    "start_time": "2023-03-16T11:05:14.349Z"
   },
   {
    "duration": 33,
    "start_time": "2023-03-16T11:05:14.358Z"
   },
   {
    "duration": 797,
    "start_time": "2023-03-16T11:05:14.393Z"
   },
   {
    "duration": 4,
    "start_time": "2023-03-16T11:05:15.192Z"
   },
   {
    "duration": 50,
    "start_time": "2023-03-16T11:05:15.198Z"
   },
   {
    "duration": 3617,
    "start_time": "2023-03-16T11:05:15.251Z"
   },
   {
    "duration": 645,
    "start_time": "2023-03-16T11:05:18.870Z"
   },
   {
    "duration": 1455,
    "start_time": "2023-03-16T11:05:19.519Z"
   },
   {
    "duration": 4,
    "start_time": "2023-03-16T11:05:20.976Z"
   },
   {
    "duration": 27,
    "start_time": "2023-03-16T11:05:20.981Z"
   },
   {
    "duration": 20,
    "start_time": "2023-03-16T11:05:21.010Z"
   },
   {
    "duration": 4,
    "start_time": "2023-03-16T11:05:21.032Z"
   },
   {
    "duration": 6,
    "start_time": "2023-03-16T11:05:21.038Z"
   },
   {
    "duration": 21,
    "start_time": "2023-03-16T11:05:21.046Z"
   },
   {
    "duration": 31,
    "start_time": "2023-03-16T11:05:21.069Z"
   },
   {
    "duration": 19,
    "start_time": "2023-03-16T11:05:21.102Z"
   },
   {
    "duration": 10881,
    "start_time": "2023-03-16T11:05:30.737Z"
   },
   {
    "duration": 1568,
    "start_time": "2023-03-16T11:06:34.892Z"
   },
   {
    "duration": 740,
    "start_time": "2023-03-16T11:06:36.463Z"
   },
   {
    "duration": 7,
    "start_time": "2023-03-16T11:06:37.205Z"
   },
   {
    "duration": 65,
    "start_time": "2023-03-16T11:06:37.214Z"
   },
   {
    "duration": 73,
    "start_time": "2023-03-16T11:06:37.283Z"
   },
   {
    "duration": 24,
    "start_time": "2023-03-16T11:06:37.358Z"
   },
   {
    "duration": 152,
    "start_time": "2023-03-16T11:06:37.383Z"
   },
   {
    "duration": 110,
    "start_time": "2023-03-16T11:06:37.537Z"
   },
   {
    "duration": 266,
    "start_time": "2023-03-16T11:06:37.649Z"
   },
   {
    "duration": 153,
    "start_time": "2023-03-16T11:06:37.916Z"
   },
   {
    "duration": 285,
    "start_time": "2023-03-16T11:06:38.071Z"
   },
   {
    "duration": 10,
    "start_time": "2023-03-16T11:06:38.357Z"
   },
   {
    "duration": 9,
    "start_time": "2023-03-16T11:06:38.368Z"
   },
   {
    "duration": 41,
    "start_time": "2023-03-16T11:06:38.381Z"
   },
   {
    "duration": 6,
    "start_time": "2023-03-16T11:06:38.424Z"
   },
   {
    "duration": 14,
    "start_time": "2023-03-16T11:06:38.431Z"
   },
   {
    "duration": 6,
    "start_time": "2023-03-16T11:06:38.447Z"
   },
   {
    "duration": 739,
    "start_time": "2023-03-16T11:06:38.455Z"
   },
   {
    "duration": 5,
    "start_time": "2023-03-16T11:06:39.196Z"
   },
   {
    "duration": 6,
    "start_time": "2023-03-16T11:06:39.203Z"
   },
   {
    "duration": 3560,
    "start_time": "2023-03-16T11:06:39.211Z"
   },
   {
    "duration": 607,
    "start_time": "2023-03-16T11:06:42.772Z"
   },
   {
    "duration": 1506,
    "start_time": "2023-03-16T11:06:43.381Z"
   },
   {
    "duration": 3,
    "start_time": "2023-03-16T11:06:44.889Z"
   },
   {
    "duration": 19,
    "start_time": "2023-03-16T11:06:44.893Z"
   },
   {
    "duration": 17,
    "start_time": "2023-03-16T11:06:44.914Z"
   },
   {
    "duration": 17,
    "start_time": "2023-03-16T11:06:44.933Z"
   },
   {
    "duration": 24,
    "start_time": "2023-03-16T11:06:44.953Z"
   },
   {
    "duration": 6,
    "start_time": "2023-03-16T11:06:44.978Z"
   },
   {
    "duration": 15,
    "start_time": "2023-03-16T11:06:44.986Z"
   },
   {
    "duration": 42,
    "start_time": "2023-03-16T11:06:45.003Z"
   },
   {
    "duration": 10716,
    "start_time": "2023-03-16T11:06:45.047Z"
   },
   {
    "duration": 13,
    "start_time": "2023-03-16T11:07:45.101Z"
   },
   {
    "duration": 3,
    "start_time": "2023-03-16T11:08:02.118Z"
   },
   {
    "duration": 9356,
    "start_time": "2023-03-16T11:08:02.448Z"
   },
   {
    "duration": 1473,
    "start_time": "2023-03-16T11:09:51.490Z"
   },
   {
    "duration": 712,
    "start_time": "2023-03-16T11:09:52.965Z"
   },
   {
    "duration": 4,
    "start_time": "2023-03-16T11:09:53.679Z"
   },
   {
    "duration": 76,
    "start_time": "2023-03-16T11:09:53.684Z"
   },
   {
    "duration": 67,
    "start_time": "2023-03-16T11:09:53.763Z"
   },
   {
    "duration": 24,
    "start_time": "2023-03-16T11:09:53.832Z"
   },
   {
    "duration": 146,
    "start_time": "2023-03-16T11:09:53.858Z"
   },
   {
    "duration": 133,
    "start_time": "2023-03-16T11:09:54.006Z"
   },
   {
    "duration": 308,
    "start_time": "2023-03-16T11:09:54.141Z"
   },
   {
    "duration": 139,
    "start_time": "2023-03-16T11:09:54.451Z"
   },
   {
    "duration": 270,
    "start_time": "2023-03-16T11:09:54.592Z"
   },
   {
    "duration": 10,
    "start_time": "2023-03-16T11:09:54.863Z"
   },
   {
    "duration": 7,
    "start_time": "2023-03-16T11:09:54.874Z"
   },
   {
    "duration": 31,
    "start_time": "2023-03-16T11:09:54.884Z"
   },
   {
    "duration": 6,
    "start_time": "2023-03-16T11:09:54.917Z"
   },
   {
    "duration": 8,
    "start_time": "2023-03-16T11:09:54.924Z"
   },
   {
    "duration": 14,
    "start_time": "2023-03-16T11:09:54.934Z"
   },
   {
    "duration": 832,
    "start_time": "2023-03-16T11:09:54.950Z"
   },
   {
    "duration": 5,
    "start_time": "2023-03-16T11:09:55.784Z"
   },
   {
    "duration": 8,
    "start_time": "2023-03-16T11:09:55.791Z"
   },
   {
    "duration": 3689,
    "start_time": "2023-03-16T11:09:55.800Z"
   },
   {
    "duration": 607,
    "start_time": "2023-03-16T11:09:59.491Z"
   },
   {
    "duration": 1465,
    "start_time": "2023-03-16T11:10:00.101Z"
   },
   {
    "duration": 3,
    "start_time": "2023-03-16T11:10:01.568Z"
   },
   {
    "duration": 206,
    "start_time": "2023-03-16T11:10:01.572Z"
   },
   {
    "duration": 0,
    "start_time": "2023-03-16T11:10:01.780Z"
   },
   {
    "duration": 0,
    "start_time": "2023-03-16T11:10:01.781Z"
   },
   {
    "duration": 0,
    "start_time": "2023-03-16T11:10:01.783Z"
   },
   {
    "duration": 0,
    "start_time": "2023-03-16T11:10:01.784Z"
   },
   {
    "duration": 0,
    "start_time": "2023-03-16T11:10:01.785Z"
   },
   {
    "duration": 0,
    "start_time": "2023-03-16T11:10:01.786Z"
   },
   {
    "duration": 0,
    "start_time": "2023-03-16T11:10:01.789Z"
   },
   {
    "duration": 1477,
    "start_time": "2023-03-16T11:10:41.382Z"
   },
   {
    "duration": 709,
    "start_time": "2023-03-16T11:10:42.861Z"
   },
   {
    "duration": 4,
    "start_time": "2023-03-16T11:10:43.572Z"
   },
   {
    "duration": 91,
    "start_time": "2023-03-16T11:10:43.578Z"
   },
   {
    "duration": 70,
    "start_time": "2023-03-16T11:10:43.672Z"
   },
   {
    "duration": 31,
    "start_time": "2023-03-16T11:10:43.744Z"
   },
   {
    "duration": 148,
    "start_time": "2023-03-16T11:10:43.777Z"
   },
   {
    "duration": 118,
    "start_time": "2023-03-16T11:10:43.927Z"
   },
   {
    "duration": 372,
    "start_time": "2023-03-16T11:10:44.048Z"
   },
   {
    "duration": 130,
    "start_time": "2023-03-16T11:10:44.422Z"
   },
   {
    "duration": 324,
    "start_time": "2023-03-16T11:10:44.553Z"
   },
   {
    "duration": 9,
    "start_time": "2023-03-16T11:10:44.879Z"
   },
   {
    "duration": 29,
    "start_time": "2023-03-16T11:10:44.890Z"
   },
   {
    "duration": 18,
    "start_time": "2023-03-16T11:10:44.922Z"
   },
   {
    "duration": 5,
    "start_time": "2023-03-16T11:10:44.942Z"
   },
   {
    "duration": 16,
    "start_time": "2023-03-16T11:10:44.949Z"
   },
   {
    "duration": 38,
    "start_time": "2023-03-16T11:10:44.966Z"
   },
   {
    "duration": 807,
    "start_time": "2023-03-16T11:10:45.006Z"
   },
   {
    "duration": 5,
    "start_time": "2023-03-16T11:10:45.815Z"
   },
   {
    "duration": 23,
    "start_time": "2023-03-16T11:10:45.822Z"
   },
   {
    "duration": 3745,
    "start_time": "2023-03-16T11:10:45.847Z"
   },
   {
    "duration": 578,
    "start_time": "2023-03-16T11:10:49.594Z"
   },
   {
    "duration": 1502,
    "start_time": "2023-03-16T11:10:50.174Z"
   },
   {
    "duration": 4,
    "start_time": "2023-03-16T11:10:51.678Z"
   },
   {
    "duration": 154,
    "start_time": "2023-03-16T11:10:51.684Z"
   },
   {
    "duration": 0,
    "start_time": "2023-03-16T11:10:51.840Z"
   },
   {
    "duration": 0,
    "start_time": "2023-03-16T11:10:51.842Z"
   },
   {
    "duration": 0,
    "start_time": "2023-03-16T11:10:51.843Z"
   },
   {
    "duration": 0,
    "start_time": "2023-03-16T11:10:51.844Z"
   },
   {
    "duration": 0,
    "start_time": "2023-03-16T11:10:51.846Z"
   },
   {
    "duration": 0,
    "start_time": "2023-03-16T11:10:51.846Z"
   },
   {
    "duration": 0,
    "start_time": "2023-03-16T11:10:51.848Z"
   },
   {
    "duration": 19,
    "start_time": "2023-03-16T11:11:06.550Z"
   },
   {
    "duration": 28,
    "start_time": "2023-03-16T11:11:33.370Z"
   },
   {
    "duration": 1495,
    "start_time": "2023-03-16T11:11:42.935Z"
   },
   {
    "duration": 702,
    "start_time": "2023-03-16T11:11:44.432Z"
   },
   {
    "duration": 4,
    "start_time": "2023-03-16T11:11:45.135Z"
   },
   {
    "duration": 76,
    "start_time": "2023-03-16T11:11:45.140Z"
   },
   {
    "duration": 45,
    "start_time": "2023-03-16T11:11:45.218Z"
   },
   {
    "duration": 56,
    "start_time": "2023-03-16T11:11:45.264Z"
   },
   {
    "duration": 138,
    "start_time": "2023-03-16T11:11:45.322Z"
   },
   {
    "duration": 118,
    "start_time": "2023-03-16T11:11:45.462Z"
   },
   {
    "duration": 247,
    "start_time": "2023-03-16T11:11:45.581Z"
   },
   {
    "duration": 148,
    "start_time": "2023-03-16T11:11:45.830Z"
   },
   {
    "duration": 253,
    "start_time": "2023-03-16T11:11:45.981Z"
   },
   {
    "duration": 9,
    "start_time": "2023-03-16T11:11:46.236Z"
   },
   {
    "duration": 7,
    "start_time": "2023-03-16T11:11:46.246Z"
   },
   {
    "duration": 10,
    "start_time": "2023-03-16T11:11:46.255Z"
   },
   {
    "duration": 7,
    "start_time": "2023-03-16T11:11:46.266Z"
   },
   {
    "duration": 5,
    "start_time": "2023-03-16T11:11:46.274Z"
   },
   {
    "duration": 6,
    "start_time": "2023-03-16T11:11:46.311Z"
   },
   {
    "duration": 778,
    "start_time": "2023-03-16T11:11:46.320Z"
   },
   {
    "duration": 5,
    "start_time": "2023-03-16T11:11:47.099Z"
   },
   {
    "duration": 7,
    "start_time": "2023-03-16T11:11:47.106Z"
   },
   {
    "duration": 3649,
    "start_time": "2023-03-16T11:11:47.114Z"
   },
   {
    "duration": 605,
    "start_time": "2023-03-16T11:11:50.765Z"
   },
   {
    "duration": 1388,
    "start_time": "2023-03-16T11:11:51.372Z"
   },
   {
    "duration": 4,
    "start_time": "2023-03-16T11:11:52.761Z"
   },
   {
    "duration": 49,
    "start_time": "2023-03-16T11:11:52.767Z"
   },
   {
    "duration": 16,
    "start_time": "2023-03-16T11:11:52.818Z"
   },
   {
    "duration": 4,
    "start_time": "2023-03-16T11:11:52.836Z"
   },
   {
    "duration": 9,
    "start_time": "2023-03-16T11:11:52.842Z"
   },
   {
    "duration": 25,
    "start_time": "2023-03-16T11:11:52.853Z"
   },
   {
    "duration": 13,
    "start_time": "2023-03-16T11:11:52.880Z"
   },
   {
    "duration": 23,
    "start_time": "2023-03-16T11:11:52.895Z"
   },
   {
    "duration": 1430,
    "start_time": "2023-03-16T11:17:20.056Z"
   },
   {
    "duration": 701,
    "start_time": "2023-03-16T11:17:21.489Z"
   },
   {
    "duration": 4,
    "start_time": "2023-03-16T11:17:22.192Z"
   },
   {
    "duration": 96,
    "start_time": "2023-03-16T11:17:22.197Z"
   },
   {
    "duration": 59,
    "start_time": "2023-03-16T11:17:22.297Z"
   },
   {
    "duration": 34,
    "start_time": "2023-03-16T11:17:22.358Z"
   },
   {
    "duration": 146,
    "start_time": "2023-03-16T11:17:22.411Z"
   },
   {
    "duration": 108,
    "start_time": "2023-03-16T11:17:22.560Z"
   },
   {
    "duration": 271,
    "start_time": "2023-03-16T11:17:22.670Z"
   },
   {
    "duration": 138,
    "start_time": "2023-03-16T11:17:22.943Z"
   },
   {
    "duration": 270,
    "start_time": "2023-03-16T11:17:23.083Z"
   },
   {
    "duration": 9,
    "start_time": "2023-03-16T11:17:23.355Z"
   },
   {
    "duration": 9,
    "start_time": "2023-03-16T11:17:23.366Z"
   },
   {
    "duration": 36,
    "start_time": "2023-03-16T11:17:23.379Z"
   },
   {
    "duration": 13,
    "start_time": "2023-03-16T11:17:23.418Z"
   },
   {
    "duration": 18,
    "start_time": "2023-03-16T11:17:23.433Z"
   },
   {
    "duration": 35,
    "start_time": "2023-03-16T11:17:23.454Z"
   },
   {
    "duration": 866,
    "start_time": "2023-03-16T11:17:23.492Z"
   },
   {
    "duration": 4,
    "start_time": "2023-03-16T11:17:24.360Z"
   },
   {
    "duration": 14,
    "start_time": "2023-03-16T11:17:24.366Z"
   },
   {
    "duration": 3609,
    "start_time": "2023-03-16T11:17:24.382Z"
   },
   {
    "duration": 645,
    "start_time": "2023-03-16T11:17:27.993Z"
   },
   {
    "duration": 1440,
    "start_time": "2023-03-16T11:17:28.641Z"
   },
   {
    "duration": 3,
    "start_time": "2023-03-16T11:17:30.083Z"
   },
   {
    "duration": 65,
    "start_time": "2023-03-16T11:17:30.088Z"
   },
   {
    "duration": 29,
    "start_time": "2023-03-16T11:17:30.155Z"
   },
   {
    "duration": 31,
    "start_time": "2023-03-16T11:17:30.186Z"
   },
   {
    "duration": 31,
    "start_time": "2023-03-16T11:17:30.220Z"
   },
   {
    "duration": 30,
    "start_time": "2023-03-16T11:17:30.253Z"
   },
   {
    "duration": 21,
    "start_time": "2023-03-16T11:17:30.285Z"
   },
   {
    "duration": 24,
    "start_time": "2023-03-16T11:17:30.308Z"
   },
   {
    "duration": 158,
    "start_time": "2023-03-16T11:17:30.333Z"
   },
   {
    "duration": 1557,
    "start_time": "2023-03-16T11:23:22.989Z"
   },
   {
    "duration": 706,
    "start_time": "2023-03-16T11:23:24.548Z"
   },
   {
    "duration": 4,
    "start_time": "2023-03-16T11:23:25.255Z"
   },
   {
    "duration": 89,
    "start_time": "2023-03-16T11:23:25.261Z"
   },
   {
    "duration": 69,
    "start_time": "2023-03-16T11:23:25.353Z"
   },
   {
    "duration": 22,
    "start_time": "2023-03-16T11:23:25.423Z"
   },
   {
    "duration": 139,
    "start_time": "2023-03-16T11:23:25.447Z"
   },
   {
    "duration": 106,
    "start_time": "2023-03-16T11:23:25.588Z"
   },
   {
    "duration": 240,
    "start_time": "2023-03-16T11:23:25.695Z"
   },
   {
    "duration": 135,
    "start_time": "2023-03-16T11:23:25.936Z"
   },
   {
    "duration": 259,
    "start_time": "2023-03-16T11:23:26.072Z"
   },
   {
    "duration": 9,
    "start_time": "2023-03-16T11:23:26.332Z"
   },
   {
    "duration": 7,
    "start_time": "2023-03-16T11:23:26.342Z"
   },
   {
    "duration": 10,
    "start_time": "2023-03-16T11:23:26.352Z"
   },
   {
    "duration": 6,
    "start_time": "2023-03-16T11:23:26.363Z"
   },
   {
    "duration": 5,
    "start_time": "2023-03-16T11:23:26.370Z"
   },
   {
    "duration": 5,
    "start_time": "2023-03-16T11:23:26.413Z"
   },
   {
    "duration": 726,
    "start_time": "2023-03-16T11:23:26.419Z"
   },
   {
    "duration": 4,
    "start_time": "2023-03-16T11:23:27.147Z"
   },
   {
    "duration": 7,
    "start_time": "2023-03-16T11:23:27.154Z"
   },
   {
    "duration": 3613,
    "start_time": "2023-03-16T11:23:27.163Z"
   },
   {
    "duration": 595,
    "start_time": "2023-03-16T11:23:30.778Z"
   },
   {
    "duration": 1480,
    "start_time": "2023-03-16T11:23:31.376Z"
   },
   {
    "duration": 4,
    "start_time": "2023-03-16T11:23:32.858Z"
   },
   {
    "duration": 36,
    "start_time": "2023-03-16T11:23:32.864Z"
   },
   {
    "duration": 22,
    "start_time": "2023-03-16T11:23:32.901Z"
   },
   {
    "duration": 7,
    "start_time": "2023-03-16T11:23:32.925Z"
   },
   {
    "duration": 9,
    "start_time": "2023-03-16T11:23:32.934Z"
   },
   {
    "duration": 11,
    "start_time": "2023-03-16T11:23:32.944Z"
   },
   {
    "duration": 3,
    "start_time": "2023-03-16T11:23:32.957Z"
   },
   {
    "duration": 11,
    "start_time": "2023-03-16T11:23:32.961Z"
   },
   {
    "duration": 27,
    "start_time": "2023-03-16T11:23:32.974Z"
   },
   {
    "duration": 115,
    "start_time": "2023-03-16T11:23:47.322Z"
   },
   {
    "duration": 10,
    "start_time": "2023-03-16T11:24:12.839Z"
   },
   {
    "duration": 12,
    "start_time": "2023-03-16T11:24:56.737Z"
   },
   {
    "duration": 9,
    "start_time": "2023-03-16T11:25:07.352Z"
   },
   {
    "duration": 10,
    "start_time": "2023-03-16T11:25:35.626Z"
   },
   {
    "duration": 10,
    "start_time": "2023-03-16T11:25:43.332Z"
   },
   {
    "duration": 10,
    "start_time": "2023-03-16T11:26:11.913Z"
   },
   {
    "duration": 10,
    "start_time": "2023-03-16T11:26:29.797Z"
   },
   {
    "duration": 1471,
    "start_time": "2023-03-16T11:31:23.608Z"
   },
   {
    "duration": 700,
    "start_time": "2023-03-16T11:31:25.081Z"
   },
   {
    "duration": 3,
    "start_time": "2023-03-16T11:31:25.783Z"
   },
   {
    "duration": 70,
    "start_time": "2023-03-16T11:31:25.788Z"
   },
   {
    "duration": 68,
    "start_time": "2023-03-16T11:31:25.860Z"
   },
   {
    "duration": 22,
    "start_time": "2023-03-16T11:31:25.929Z"
   },
   {
    "duration": 140,
    "start_time": "2023-03-16T11:31:25.953Z"
   },
   {
    "duration": 102,
    "start_time": "2023-03-16T11:31:26.095Z"
   },
   {
    "duration": 231,
    "start_time": "2023-03-16T11:31:26.198Z"
   },
   {
    "duration": 139,
    "start_time": "2023-03-16T11:31:26.431Z"
   },
   {
    "duration": 258,
    "start_time": "2023-03-16T11:31:26.572Z"
   },
   {
    "duration": 8,
    "start_time": "2023-03-16T11:31:26.832Z"
   },
   {
    "duration": 6,
    "start_time": "2023-03-16T11:31:26.841Z"
   },
   {
    "duration": 10,
    "start_time": "2023-03-16T11:31:26.850Z"
   },
   {
    "duration": 6,
    "start_time": "2023-03-16T11:31:26.861Z"
   },
   {
    "duration": 8,
    "start_time": "2023-03-16T11:31:26.868Z"
   },
   {
    "duration": 38,
    "start_time": "2023-03-16T11:31:26.878Z"
   },
   {
    "duration": 703,
    "start_time": "2023-03-16T11:31:26.918Z"
   },
   {
    "duration": 5,
    "start_time": "2023-03-16T11:31:27.623Z"
   },
   {
    "duration": 5,
    "start_time": "2023-03-16T11:31:27.629Z"
   },
   {
    "duration": 3850,
    "start_time": "2023-03-16T11:31:27.636Z"
   },
   {
    "duration": 579,
    "start_time": "2023-03-16T11:31:31.488Z"
   },
   {
    "duration": 1392,
    "start_time": "2023-03-16T11:31:32.069Z"
   },
   {
    "duration": 3,
    "start_time": "2023-03-16T11:31:33.463Z"
   },
   {
    "duration": 8,
    "start_time": "2023-03-16T11:31:33.467Z"
   },
   {
    "duration": 140,
    "start_time": "2023-03-16T11:31:33.477Z"
   },
   {
    "duration": 12,
    "start_time": "2023-03-16T11:31:50.122Z"
   },
   {
    "duration": 25,
    "start_time": "2023-03-16T11:32:08.342Z"
   },
   {
    "duration": 24,
    "start_time": "2023-03-16T11:32:57.723Z"
   },
   {
    "duration": 26,
    "start_time": "2023-03-16T11:33:06.028Z"
   },
   {
    "duration": 1453,
    "start_time": "2023-03-16T11:33:39.031Z"
   },
   {
    "duration": 717,
    "start_time": "2023-03-16T11:33:40.486Z"
   },
   {
    "duration": 9,
    "start_time": "2023-03-16T11:33:41.205Z"
   },
   {
    "duration": 70,
    "start_time": "2023-03-16T11:33:41.216Z"
   },
   {
    "duration": 58,
    "start_time": "2023-03-16T11:33:41.289Z"
   },
   {
    "duration": 22,
    "start_time": "2023-03-16T11:33:41.349Z"
   },
   {
    "duration": 155,
    "start_time": "2023-03-16T11:33:41.372Z"
   },
   {
    "duration": 111,
    "start_time": "2023-03-16T11:33:41.529Z"
   },
   {
    "duration": 248,
    "start_time": "2023-03-16T11:33:41.642Z"
   },
   {
    "duration": 139,
    "start_time": "2023-03-16T11:33:41.892Z"
   },
   {
    "duration": 268,
    "start_time": "2023-03-16T11:33:42.034Z"
   },
   {
    "duration": 14,
    "start_time": "2023-03-16T11:33:42.304Z"
   },
   {
    "duration": 6,
    "start_time": "2023-03-16T11:33:42.320Z"
   },
   {
    "duration": 9,
    "start_time": "2023-03-16T11:33:42.329Z"
   },
   {
    "duration": 5,
    "start_time": "2023-03-16T11:33:42.340Z"
   },
   {
    "duration": 5,
    "start_time": "2023-03-16T11:33:42.347Z"
   },
   {
    "duration": 5,
    "start_time": "2023-03-16T11:33:42.354Z"
   },
   {
    "duration": 782,
    "start_time": "2023-03-16T11:33:42.360Z"
   },
   {
    "duration": 4,
    "start_time": "2023-03-16T11:33:43.144Z"
   },
   {
    "duration": 6,
    "start_time": "2023-03-16T11:33:43.150Z"
   },
   {
    "duration": 3712,
    "start_time": "2023-03-16T11:33:43.158Z"
   },
   {
    "duration": 593,
    "start_time": "2023-03-16T11:33:46.871Z"
   },
   {
    "duration": 1392,
    "start_time": "2023-03-16T11:33:47.466Z"
   },
   {
    "duration": 3,
    "start_time": "2023-03-16T11:33:48.860Z"
   },
   {
    "duration": 10,
    "start_time": "2023-03-16T11:33:48.865Z"
   },
   {
    "duration": 190,
    "start_time": "2023-03-16T11:33:48.877Z"
   },
   {
    "duration": 9,
    "start_time": "2023-03-16T11:34:16.813Z"
   },
   {
    "duration": 6,
    "start_time": "2023-03-16T11:34:17.333Z"
   },
   {
    "duration": 35,
    "start_time": "2023-03-16T11:34:17.721Z"
   },
   {
    "duration": 27,
    "start_time": "2023-03-16T11:34:30.048Z"
   },
   {
    "duration": 1452,
    "start_time": "2023-03-16T11:34:55.685Z"
   },
   {
    "duration": 724,
    "start_time": "2023-03-16T11:34:57.139Z"
   },
   {
    "duration": 4,
    "start_time": "2023-03-16T11:34:57.865Z"
   },
   {
    "duration": 73,
    "start_time": "2023-03-16T11:34:57.871Z"
   },
   {
    "duration": 74,
    "start_time": "2023-03-16T11:34:57.946Z"
   },
   {
    "duration": 21,
    "start_time": "2023-03-16T11:34:58.022Z"
   },
   {
    "duration": 138,
    "start_time": "2023-03-16T11:34:58.045Z"
   },
   {
    "duration": 102,
    "start_time": "2023-03-16T11:34:58.185Z"
   },
   {
    "duration": 239,
    "start_time": "2023-03-16T11:34:58.289Z"
   },
   {
    "duration": 131,
    "start_time": "2023-03-16T11:34:58.529Z"
   },
   {
    "duration": 255,
    "start_time": "2023-03-16T11:34:58.662Z"
   },
   {
    "duration": 9,
    "start_time": "2023-03-16T11:34:58.919Z"
   },
   {
    "duration": 6,
    "start_time": "2023-03-16T11:34:58.930Z"
   },
   {
    "duration": 9,
    "start_time": "2023-03-16T11:34:58.938Z"
   },
   {
    "duration": 5,
    "start_time": "2023-03-16T11:34:58.949Z"
   },
   {
    "duration": 10,
    "start_time": "2023-03-16T11:34:58.956Z"
   },
   {
    "duration": 4,
    "start_time": "2023-03-16T11:34:58.967Z"
   },
   {
    "duration": 736,
    "start_time": "2023-03-16T11:34:58.973Z"
   },
   {
    "duration": 4,
    "start_time": "2023-03-16T11:34:59.711Z"
   },
   {
    "duration": 60,
    "start_time": "2023-03-16T11:34:59.717Z"
   },
   {
    "duration": 3688,
    "start_time": "2023-03-16T11:34:59.778Z"
   },
   {
    "duration": 615,
    "start_time": "2023-03-16T11:35:03.467Z"
   },
   {
    "duration": 1470,
    "start_time": "2023-03-16T11:35:04.084Z"
   },
   {
    "duration": 3,
    "start_time": "2023-03-16T11:35:05.556Z"
   },
   {
    "duration": 38,
    "start_time": "2023-03-16T11:35:05.561Z"
   },
   {
    "duration": 18,
    "start_time": "2023-03-16T11:35:05.601Z"
   },
   {
    "duration": 37,
    "start_time": "2023-03-16T11:35:05.621Z"
   },
   {
    "duration": 6,
    "start_time": "2023-03-16T11:35:05.660Z"
   },
   {
    "duration": 140,
    "start_time": "2023-03-16T11:35:05.667Z"
   },
   {
    "duration": 11,
    "start_time": "2023-03-16T11:38:47.721Z"
   },
   {
    "duration": 49,
    "start_time": "2023-03-16T11:39:08.418Z"
   },
   {
    "duration": 26,
    "start_time": "2023-03-16T11:41:07.246Z"
   },
   {
    "duration": 1419,
    "start_time": "2023-03-16T11:41:12.853Z"
   },
   {
    "duration": 717,
    "start_time": "2023-03-16T11:41:14.275Z"
   },
   {
    "duration": 4,
    "start_time": "2023-03-16T11:41:14.993Z"
   },
   {
    "duration": 78,
    "start_time": "2023-03-16T11:41:14.998Z"
   },
   {
    "duration": 55,
    "start_time": "2023-03-16T11:41:15.078Z"
   },
   {
    "duration": 21,
    "start_time": "2023-03-16T11:41:15.134Z"
   },
   {
    "duration": 148,
    "start_time": "2023-03-16T11:41:15.156Z"
   },
   {
    "duration": 115,
    "start_time": "2023-03-16T11:41:15.311Z"
   },
   {
    "duration": 247,
    "start_time": "2023-03-16T11:41:15.427Z"
   },
   {
    "duration": 137,
    "start_time": "2023-03-16T11:41:15.676Z"
   },
   {
    "duration": 260,
    "start_time": "2023-03-16T11:41:15.815Z"
   },
   {
    "duration": 8,
    "start_time": "2023-03-16T11:41:16.077Z"
   },
   {
    "duration": 8,
    "start_time": "2023-03-16T11:41:16.087Z"
   },
   {
    "duration": 34,
    "start_time": "2023-03-16T11:41:16.097Z"
   },
   {
    "duration": 7,
    "start_time": "2023-03-16T11:41:16.133Z"
   },
   {
    "duration": 4,
    "start_time": "2023-03-16T11:41:16.142Z"
   },
   {
    "duration": 9,
    "start_time": "2023-03-16T11:41:16.147Z"
   },
   {
    "duration": 744,
    "start_time": "2023-03-16T11:41:16.158Z"
   },
   {
    "duration": 5,
    "start_time": "2023-03-16T11:41:16.904Z"
   },
   {
    "duration": 14,
    "start_time": "2023-03-16T11:41:16.911Z"
   },
   {
    "duration": 3635,
    "start_time": "2023-03-16T11:41:16.927Z"
   },
   {
    "duration": 609,
    "start_time": "2023-03-16T11:41:20.565Z"
   },
   {
    "duration": 1354,
    "start_time": "2023-03-16T11:41:21.176Z"
   },
   {
    "duration": 4,
    "start_time": "2023-03-16T11:41:22.531Z"
   },
   {
    "duration": 14,
    "start_time": "2023-03-16T11:41:22.536Z"
   },
   {
    "duration": 8,
    "start_time": "2023-03-16T11:41:22.551Z"
   },
   {
    "duration": 26,
    "start_time": "2023-03-16T11:41:22.561Z"
   },
   {
    "duration": 3,
    "start_time": "2023-03-16T11:42:59.793Z"
   },
   {
    "duration": 3,
    "start_time": "2023-03-16T11:43:20.293Z"
   },
   {
    "duration": 1471,
    "start_time": "2023-03-16T11:44:38.289Z"
   },
   {
    "duration": 723,
    "start_time": "2023-03-16T11:44:39.762Z"
   },
   {
    "duration": 4,
    "start_time": "2023-03-16T11:44:40.487Z"
   },
   {
    "duration": 75,
    "start_time": "2023-03-16T11:44:40.493Z"
   },
   {
    "duration": 61,
    "start_time": "2023-03-16T11:44:40.570Z"
   },
   {
    "duration": 21,
    "start_time": "2023-03-16T11:44:40.633Z"
   },
   {
    "duration": 142,
    "start_time": "2023-03-16T11:44:40.656Z"
   },
   {
    "duration": 100,
    "start_time": "2023-03-16T11:44:40.799Z"
   },
   {
    "duration": 240,
    "start_time": "2023-03-16T11:44:40.900Z"
   },
   {
    "duration": 139,
    "start_time": "2023-03-16T11:44:41.142Z"
   },
   {
    "duration": 262,
    "start_time": "2023-03-16T11:44:41.282Z"
   },
   {
    "duration": 9,
    "start_time": "2023-03-16T11:44:41.546Z"
   },
   {
    "duration": 28,
    "start_time": "2023-03-16T11:44:41.557Z"
   },
   {
    "duration": 10,
    "start_time": "2023-03-16T11:44:41.588Z"
   },
   {
    "duration": 13,
    "start_time": "2023-03-16T11:44:41.600Z"
   },
   {
    "duration": 5,
    "start_time": "2023-03-16T11:44:41.615Z"
   },
   {
    "duration": 7,
    "start_time": "2023-03-16T11:44:41.622Z"
   },
   {
    "duration": 748,
    "start_time": "2023-03-16T11:44:41.630Z"
   },
   {
    "duration": 4,
    "start_time": "2023-03-16T11:44:42.380Z"
   },
   {
    "duration": 6,
    "start_time": "2023-03-16T11:44:42.385Z"
   },
   {
    "duration": 3763,
    "start_time": "2023-03-16T11:44:42.392Z"
   },
   {
    "duration": 622,
    "start_time": "2023-03-16T11:44:46.157Z"
   },
   {
    "duration": 1473,
    "start_time": "2023-03-16T11:44:46.781Z"
   },
   {
    "duration": 4,
    "start_time": "2023-03-16T11:44:48.257Z"
   },
   {
    "duration": 23,
    "start_time": "2023-03-16T11:44:48.263Z"
   },
   {
    "duration": 29,
    "start_time": "2023-03-16T11:44:48.288Z"
   },
   {
    "duration": 39,
    "start_time": "2023-03-16T11:44:48.319Z"
   },
   {
    "duration": 33,
    "start_time": "2023-03-16T11:44:48.360Z"
   },
   {
    "duration": 37,
    "start_time": "2023-03-16T11:44:48.395Z"
   },
   {
    "duration": 123,
    "start_time": "2023-03-16T11:44:48.434Z"
   },
   {
    "duration": 0,
    "start_time": "2023-03-16T11:44:48.559Z"
   },
   {
    "duration": 0,
    "start_time": "2023-03-16T11:44:48.561Z"
   },
   {
    "duration": 0,
    "start_time": "2023-03-16T11:44:48.562Z"
   },
   {
    "duration": 0,
    "start_time": "2023-03-16T11:44:48.563Z"
   },
   {
    "duration": 0,
    "start_time": "2023-03-16T11:44:48.564Z"
   },
   {
    "duration": 0,
    "start_time": "2023-03-16T11:44:48.566Z"
   },
   {
    "duration": 0,
    "start_time": "2023-03-16T11:44:48.566Z"
   },
   {
    "duration": 0,
    "start_time": "2023-03-16T11:44:48.568Z"
   },
   {
    "duration": 0,
    "start_time": "2023-03-16T11:44:48.569Z"
   },
   {
    "duration": 0,
    "start_time": "2023-03-16T11:44:48.570Z"
   },
   {
    "duration": 0,
    "start_time": "2023-03-16T11:44:48.571Z"
   },
   {
    "duration": 1431,
    "start_time": "2023-03-16T11:45:20.937Z"
   },
   {
    "duration": 693,
    "start_time": "2023-03-16T11:45:22.370Z"
   },
   {
    "duration": 4,
    "start_time": "2023-03-16T11:45:23.064Z"
   },
   {
    "duration": 75,
    "start_time": "2023-03-16T11:45:23.069Z"
   },
   {
    "duration": 46,
    "start_time": "2023-03-16T11:45:23.147Z"
   },
   {
    "duration": 22,
    "start_time": "2023-03-16T11:45:23.212Z"
   },
   {
    "duration": 138,
    "start_time": "2023-03-16T11:45:23.235Z"
   },
   {
    "duration": 103,
    "start_time": "2023-03-16T11:45:23.375Z"
   },
   {
    "duration": 248,
    "start_time": "2023-03-16T11:45:23.479Z"
   },
   {
    "duration": 132,
    "start_time": "2023-03-16T11:45:23.728Z"
   },
   {
    "duration": 258,
    "start_time": "2023-03-16T11:45:23.862Z"
   },
   {
    "duration": 9,
    "start_time": "2023-03-16T11:45:24.121Z"
   },
   {
    "duration": 6,
    "start_time": "2023-03-16T11:45:24.132Z"
   },
   {
    "duration": 15,
    "start_time": "2023-03-16T11:45:24.141Z"
   },
   {
    "duration": 6,
    "start_time": "2023-03-16T11:45:24.157Z"
   },
   {
    "duration": 18,
    "start_time": "2023-03-16T11:45:24.165Z"
   },
   {
    "duration": 6,
    "start_time": "2023-03-16T11:45:24.185Z"
   },
   {
    "duration": 749,
    "start_time": "2023-03-16T11:45:24.212Z"
   },
   {
    "duration": 6,
    "start_time": "2023-03-16T11:45:24.963Z"
   },
   {
    "duration": 9,
    "start_time": "2023-03-16T11:45:24.971Z"
   },
   {
    "duration": 3684,
    "start_time": "2023-03-16T11:45:24.982Z"
   },
   {
    "duration": 595,
    "start_time": "2023-03-16T11:45:28.668Z"
   },
   {
    "duration": 1392,
    "start_time": "2023-03-16T11:45:29.265Z"
   },
   {
    "duration": 3,
    "start_time": "2023-03-16T11:45:30.659Z"
   },
   {
    "duration": 37,
    "start_time": "2023-03-16T11:45:30.664Z"
   },
   {
    "duration": 56,
    "start_time": "2023-03-16T11:45:30.702Z"
   },
   {
    "duration": 82,
    "start_time": "2023-03-16T11:45:30.760Z"
   },
   {
    "duration": 38,
    "start_time": "2023-03-16T11:45:30.844Z"
   },
   {
    "duration": 57,
    "start_time": "2023-03-16T11:45:30.884Z"
   },
   {
    "duration": 4131,
    "start_time": "2023-03-16T11:45:30.943Z"
   },
   {
    "duration": 29,
    "start_time": "2023-03-16T11:45:35.076Z"
   },
   {
    "duration": 1356,
    "start_time": "2023-03-16T11:45:35.113Z"
   },
   {
    "duration": 0,
    "start_time": "2023-03-16T11:45:36.471Z"
   },
   {
    "duration": 0,
    "start_time": "2023-03-16T11:45:36.472Z"
   },
   {
    "duration": 0,
    "start_time": "2023-03-16T11:45:36.474Z"
   },
   {
    "duration": 0,
    "start_time": "2023-03-16T11:45:36.475Z"
   },
   {
    "duration": 0,
    "start_time": "2023-03-16T11:45:36.476Z"
   },
   {
    "duration": 0,
    "start_time": "2023-03-16T11:45:36.477Z"
   },
   {
    "duration": 0,
    "start_time": "2023-03-16T11:45:36.478Z"
   },
   {
    "duration": 0,
    "start_time": "2023-03-16T11:45:36.480Z"
   },
   {
    "duration": 0,
    "start_time": "2023-03-16T11:45:36.481Z"
   },
   {
    "duration": 1167,
    "start_time": "2023-03-16T11:47:25.285Z"
   },
   {
    "duration": 11,
    "start_time": "2023-03-16T11:49:28.401Z"
   },
   {
    "duration": 9,
    "start_time": "2023-03-16T11:49:28.785Z"
   },
   {
    "duration": 9,
    "start_time": "2023-03-16T11:49:29.389Z"
   },
   {
    "duration": 1260,
    "start_time": "2023-03-16T11:49:30.119Z"
   },
   {
    "duration": 23,
    "start_time": "2023-03-16T11:49:51.707Z"
   },
   {
    "duration": 6,
    "start_time": "2023-03-16T11:49:53.895Z"
   },
   {
    "duration": 10,
    "start_time": "2023-03-16T11:49:54.589Z"
   },
   {
    "duration": 5,
    "start_time": "2023-03-16T11:50:01.429Z"
   },
   {
    "duration": 12,
    "start_time": "2023-03-16T11:50:02.900Z"
   },
   {
    "duration": 6,
    "start_time": "2023-03-16T11:50:04.025Z"
   },
   {
    "duration": 6,
    "start_time": "2023-03-16T11:50:06.012Z"
   },
   {
    "duration": 12,
    "start_time": "2023-03-16T11:50:10.140Z"
   },
   {
    "duration": 1407,
    "start_time": "2023-03-16T11:50:10.297Z"
   },
   {
    "duration": 5,
    "start_time": "2023-03-16T11:50:11.705Z"
   },
   {
    "duration": 10,
    "start_time": "2023-03-16T11:50:11.712Z"
   },
   {
    "duration": 14,
    "start_time": "2023-03-16T11:50:11.724Z"
   },
   {
    "duration": 17,
    "start_time": "2023-03-16T11:50:11.740Z"
   },
   {
    "duration": 0,
    "start_time": "2023-03-16T11:50:11.758Z"
   },
   {
    "duration": 9,
    "start_time": "2023-03-16T11:50:11.895Z"
   },
   {
    "duration": 1437,
    "start_time": "2023-03-16T11:50:32.156Z"
   },
   {
    "duration": 762,
    "start_time": "2023-03-16T11:50:33.595Z"
   },
   {
    "duration": 4,
    "start_time": "2023-03-16T11:50:34.359Z"
   },
   {
    "duration": 78,
    "start_time": "2023-03-16T11:50:34.365Z"
   },
   {
    "duration": 45,
    "start_time": "2023-03-16T11:50:34.445Z"
   },
   {
    "duration": 22,
    "start_time": "2023-03-16T11:50:34.513Z"
   },
   {
    "duration": 137,
    "start_time": "2023-03-16T11:50:34.536Z"
   },
   {
    "duration": 108,
    "start_time": "2023-03-16T11:50:34.674Z"
   },
   {
    "duration": 248,
    "start_time": "2023-03-16T11:50:34.784Z"
   },
   {
    "duration": 140,
    "start_time": "2023-03-16T11:50:35.033Z"
   },
   {
    "duration": 276,
    "start_time": "2023-03-16T11:50:35.175Z"
   },
   {
    "duration": 9,
    "start_time": "2023-03-16T11:50:35.453Z"
   },
   {
    "duration": 7,
    "start_time": "2023-03-16T11:50:35.464Z"
   },
   {
    "duration": 11,
    "start_time": "2023-03-16T11:50:35.475Z"
   },
   {
    "duration": 18,
    "start_time": "2023-03-16T11:50:35.511Z"
   },
   {
    "duration": 20,
    "start_time": "2023-03-16T11:50:35.531Z"
   },
   {
    "duration": 24,
    "start_time": "2023-03-16T11:50:35.554Z"
   },
   {
    "duration": 726,
    "start_time": "2023-03-16T11:50:35.580Z"
   },
   {
    "duration": 5,
    "start_time": "2023-03-16T11:50:36.307Z"
   },
   {
    "duration": 7,
    "start_time": "2023-03-16T11:50:36.314Z"
   },
   {
    "duration": 3735,
    "start_time": "2023-03-16T11:50:36.323Z"
   },
   {
    "duration": 605,
    "start_time": "2023-03-16T11:50:40.060Z"
   },
   {
    "duration": 1352,
    "start_time": "2023-03-16T11:50:40.666Z"
   },
   {
    "duration": 3,
    "start_time": "2023-03-16T11:50:42.020Z"
   },
   {
    "duration": 15,
    "start_time": "2023-03-16T11:50:42.025Z"
   },
   {
    "duration": 14,
    "start_time": "2023-03-16T11:50:42.042Z"
   },
   {
    "duration": 40,
    "start_time": "2023-03-16T11:50:42.058Z"
   },
   {
    "duration": 31,
    "start_time": "2023-03-16T11:50:42.100Z"
   },
   {
    "duration": 26,
    "start_time": "2023-03-16T11:50:42.133Z"
   },
   {
    "duration": 2685,
    "start_time": "2023-03-16T11:50:42.160Z"
   },
   {
    "duration": 30,
    "start_time": "2023-03-16T11:50:44.847Z"
   },
   {
    "duration": 34,
    "start_time": "2023-03-16T11:50:44.879Z"
   },
   {
    "duration": 9,
    "start_time": "2023-03-16T11:50:44.915Z"
   },
   {
    "duration": 22,
    "start_time": "2023-03-16T11:50:44.925Z"
   },
   {
    "duration": 17,
    "start_time": "2023-03-16T11:50:44.949Z"
   },
   {
    "duration": 16,
    "start_time": "2023-03-16T11:50:44.968Z"
   },
   {
    "duration": 16,
    "start_time": "2023-03-16T11:50:44.986Z"
   },
   {
    "duration": 44,
    "start_time": "2023-03-16T11:50:45.004Z"
   },
   {
    "duration": 1328,
    "start_time": "2023-03-16T11:50:45.050Z"
   },
   {
    "duration": 4,
    "start_time": "2023-03-16T11:50:46.380Z"
   },
   {
    "duration": 13,
    "start_time": "2023-03-16T11:50:46.387Z"
   },
   {
    "duration": 10,
    "start_time": "2023-03-16T11:50:46.401Z"
   },
   {
    "duration": 26,
    "start_time": "2023-03-16T11:50:46.412Z"
   },
   {
    "duration": 6,
    "start_time": "2023-03-16T11:50:46.440Z"
   },
   {
    "duration": 8,
    "start_time": "2023-03-16T11:50:46.448Z"
   },
   {
    "duration": 9,
    "start_time": "2023-03-16T11:50:46.457Z"
   },
   {
    "duration": 115,
    "start_time": "2023-03-16T11:52:39.325Z"
   },
   {
    "duration": 12,
    "start_time": "2023-03-16T11:52:49.208Z"
   },
   {
    "duration": 13,
    "start_time": "2023-03-16T11:52:52.003Z"
   },
   {
    "duration": 1476,
    "start_time": "2023-03-16T11:52:56.911Z"
   },
   {
    "duration": 690,
    "start_time": "2023-03-16T11:52:58.389Z"
   },
   {
    "duration": 4,
    "start_time": "2023-03-16T11:52:59.081Z"
   },
   {
    "duration": 68,
    "start_time": "2023-03-16T11:52:59.086Z"
   },
   {
    "duration": 66,
    "start_time": "2023-03-16T11:52:59.156Z"
   },
   {
    "duration": 26,
    "start_time": "2023-03-16T11:52:59.224Z"
   },
   {
    "duration": 145,
    "start_time": "2023-03-16T11:52:59.252Z"
   },
   {
    "duration": 94,
    "start_time": "2023-03-16T11:52:59.399Z"
   },
   {
    "duration": 267,
    "start_time": "2023-03-16T11:52:59.495Z"
   },
   {
    "duration": 136,
    "start_time": "2023-03-16T11:52:59.764Z"
   },
   {
    "duration": 263,
    "start_time": "2023-03-16T11:52:59.901Z"
   },
   {
    "duration": 9,
    "start_time": "2023-03-16T11:53:00.166Z"
   },
   {
    "duration": 26,
    "start_time": "2023-03-16T11:53:00.177Z"
   },
   {
    "duration": 21,
    "start_time": "2023-03-16T11:53:00.206Z"
   },
   {
    "duration": 24,
    "start_time": "2023-03-16T11:53:00.229Z"
   },
   {
    "duration": 21,
    "start_time": "2023-03-16T11:53:00.255Z"
   },
   {
    "duration": 24,
    "start_time": "2023-03-16T11:53:00.277Z"
   },
   {
    "duration": 795,
    "start_time": "2023-03-16T11:53:00.303Z"
   },
   {
    "duration": 5,
    "start_time": "2023-03-16T11:53:01.099Z"
   },
   {
    "duration": 40,
    "start_time": "2023-03-16T11:53:01.106Z"
   },
   {
    "duration": 3814,
    "start_time": "2023-03-16T11:53:01.148Z"
   },
   {
    "duration": 638,
    "start_time": "2023-03-16T11:53:04.964Z"
   },
   {
    "duration": 1452,
    "start_time": "2023-03-16T11:53:05.604Z"
   },
   {
    "duration": 4,
    "start_time": "2023-03-16T11:53:07.057Z"
   },
   {
    "duration": 9,
    "start_time": "2023-03-16T11:53:07.062Z"
   },
   {
    "duration": 15,
    "start_time": "2023-03-16T11:53:07.073Z"
   },
   {
    "duration": 42,
    "start_time": "2023-03-16T11:53:07.089Z"
   },
   {
    "duration": 32,
    "start_time": "2023-03-16T11:53:07.133Z"
   },
   {
    "duration": 28,
    "start_time": "2023-03-16T11:53:07.167Z"
   },
   {
    "duration": 2676,
    "start_time": "2023-03-16T11:53:07.213Z"
   },
   {
    "duration": 33,
    "start_time": "2023-03-16T11:53:09.891Z"
   },
   {
    "duration": 25,
    "start_time": "2023-03-16T11:53:09.926Z"
   },
   {
    "duration": 11,
    "start_time": "2023-03-16T11:53:09.953Z"
   },
   {
    "duration": 11,
    "start_time": "2023-03-16T11:53:09.965Z"
   },
   {
    "duration": 12,
    "start_time": "2023-03-16T11:53:09.978Z"
   },
   {
    "duration": 25,
    "start_time": "2023-03-16T11:53:09.992Z"
   },
   {
    "duration": 10,
    "start_time": "2023-03-16T11:53:10.018Z"
   },
   {
    "duration": 12,
    "start_time": "2023-03-16T11:53:10.030Z"
   },
   {
    "duration": 1326,
    "start_time": "2023-03-16T11:53:10.043Z"
   },
   {
    "duration": 4,
    "start_time": "2023-03-16T11:53:11.371Z"
   },
   {
    "duration": 4,
    "start_time": "2023-03-16T11:53:11.379Z"
   },
   {
    "duration": 5,
    "start_time": "2023-03-16T11:53:11.385Z"
   },
   {
    "duration": 6,
    "start_time": "2023-03-16T11:53:11.391Z"
   },
   {
    "duration": 10,
    "start_time": "2023-03-16T11:53:11.398Z"
   },
   {
    "duration": 7,
    "start_time": "2023-03-16T11:53:11.409Z"
   },
   {
    "duration": 19,
    "start_time": "2023-03-16T11:53:11.418Z"
   },
   {
    "duration": 1492,
    "start_time": "2023-03-16T11:55:34.207Z"
   },
   {
    "duration": 721,
    "start_time": "2023-03-16T11:55:35.701Z"
   },
   {
    "duration": 3,
    "start_time": "2023-03-16T11:55:36.424Z"
   },
   {
    "duration": 67,
    "start_time": "2023-03-16T11:55:36.429Z"
   },
   {
    "duration": 60,
    "start_time": "2023-03-16T11:55:36.498Z"
   },
   {
    "duration": 24,
    "start_time": "2023-03-16T11:55:36.559Z"
   },
   {
    "duration": 149,
    "start_time": "2023-03-16T11:55:36.585Z"
   },
   {
    "duration": 101,
    "start_time": "2023-03-16T11:55:36.736Z"
   },
   {
    "duration": 255,
    "start_time": "2023-03-16T11:55:36.838Z"
   },
   {
    "duration": 140,
    "start_time": "2023-03-16T11:55:37.095Z"
   },
   {
    "duration": 283,
    "start_time": "2023-03-16T11:55:37.237Z"
   },
   {
    "duration": 11,
    "start_time": "2023-03-16T11:55:37.521Z"
   },
   {
    "duration": 7,
    "start_time": "2023-03-16T11:55:37.534Z"
   },
   {
    "duration": 11,
    "start_time": "2023-03-16T11:55:37.544Z"
   },
   {
    "duration": 6,
    "start_time": "2023-03-16T11:55:37.557Z"
   },
   {
    "duration": 5,
    "start_time": "2023-03-16T11:55:37.564Z"
   },
   {
    "duration": 59,
    "start_time": "2023-03-16T11:55:37.570Z"
   },
   {
    "duration": 4,
    "start_time": "2023-03-16T11:55:37.631Z"
   },
   {
    "duration": 22,
    "start_time": "2023-03-16T11:55:37.637Z"
   },
   {
    "duration": 7,
    "start_time": "2023-03-16T11:55:37.661Z"
   },
   {
    "duration": 785,
    "start_time": "2023-03-16T11:55:37.669Z"
   },
   {
    "duration": 5,
    "start_time": "2023-03-16T11:55:38.456Z"
   },
   {
    "duration": 24,
    "start_time": "2023-03-16T11:55:38.462Z"
   },
   {
    "duration": 4480,
    "start_time": "2023-03-16T11:55:38.488Z"
   },
   {
    "duration": 606,
    "start_time": "2023-03-16T11:55:42.970Z"
   },
   {
    "duration": 1462,
    "start_time": "2023-03-16T11:55:43.577Z"
   },
   {
    "duration": 4,
    "start_time": "2023-03-16T11:55:45.040Z"
   },
   {
    "duration": 11,
    "start_time": "2023-03-16T11:55:45.045Z"
   },
   {
    "duration": 16,
    "start_time": "2023-03-16T11:55:45.058Z"
   },
   {
    "duration": 50,
    "start_time": "2023-03-16T11:55:45.076Z"
   },
   {
    "duration": 33,
    "start_time": "2023-03-16T11:55:45.128Z"
   },
   {
    "duration": 28,
    "start_time": "2023-03-16T11:55:45.162Z"
   },
   {
    "duration": 2706,
    "start_time": "2023-03-16T11:55:45.191Z"
   },
   {
    "duration": 32,
    "start_time": "2023-03-16T11:55:47.898Z"
   },
   {
    "duration": 1440,
    "start_time": "2023-03-16T11:56:56.745Z"
   },
   {
    "duration": 697,
    "start_time": "2023-03-16T11:56:58.187Z"
   },
   {
    "duration": 3,
    "start_time": "2023-03-16T11:56:58.886Z"
   },
   {
    "duration": 70,
    "start_time": "2023-03-16T11:56:58.890Z"
   },
   {
    "duration": 62,
    "start_time": "2023-03-16T11:56:58.962Z"
   },
   {
    "duration": 20,
    "start_time": "2023-03-16T11:56:59.026Z"
   },
   {
    "duration": 137,
    "start_time": "2023-03-16T11:56:59.048Z"
   },
   {
    "duration": 102,
    "start_time": "2023-03-16T11:56:59.186Z"
   },
   {
    "duration": 240,
    "start_time": "2023-03-16T11:56:59.289Z"
   },
   {
    "duration": 143,
    "start_time": "2023-03-16T11:56:59.531Z"
   },
   {
    "duration": 266,
    "start_time": "2023-03-16T11:56:59.676Z"
   },
   {
    "duration": 9,
    "start_time": "2023-03-16T11:56:59.944Z"
   },
   {
    "duration": 6,
    "start_time": "2023-03-16T11:56:59.954Z"
   },
   {
    "duration": 11,
    "start_time": "2023-03-16T11:56:59.963Z"
   },
   {
    "duration": 36,
    "start_time": "2023-03-16T11:56:59.976Z"
   },
   {
    "duration": 6,
    "start_time": "2023-03-16T11:57:00.014Z"
   },
   {
    "duration": 26,
    "start_time": "2023-03-16T11:57:00.021Z"
   },
   {
    "duration": 14,
    "start_time": "2023-03-16T11:57:00.049Z"
   },
   {
    "duration": 22,
    "start_time": "2023-03-16T11:57:00.065Z"
   },
   {
    "duration": 30,
    "start_time": "2023-03-16T11:57:00.089Z"
   },
   {
    "duration": 789,
    "start_time": "2023-03-16T11:57:00.121Z"
   },
   {
    "duration": 16,
    "start_time": "2023-03-16T11:57:00.911Z"
   },
   {
    "duration": 35,
    "start_time": "2023-03-16T11:57:00.929Z"
   },
   {
    "duration": 3715,
    "start_time": "2023-03-16T11:57:00.965Z"
   },
   {
    "duration": 594,
    "start_time": "2023-03-16T11:57:04.682Z"
   },
   {
    "duration": 1479,
    "start_time": "2023-03-16T11:57:05.278Z"
   },
   {
    "duration": 4,
    "start_time": "2023-03-16T11:57:06.759Z"
   },
   {
    "duration": 5,
    "start_time": "2023-03-16T11:57:06.765Z"
   },
   {
    "duration": 10,
    "start_time": "2023-03-16T11:57:06.771Z"
   },
   {
    "duration": 51,
    "start_time": "2023-03-16T11:57:06.783Z"
   },
   {
    "duration": 35,
    "start_time": "2023-03-16T11:57:06.836Z"
   },
   {
    "duration": 42,
    "start_time": "2023-03-16T11:57:06.873Z"
   },
   {
    "duration": 2659,
    "start_time": "2023-03-16T11:57:06.917Z"
   },
   {
    "duration": 35,
    "start_time": "2023-03-16T11:57:09.578Z"
   },
   {
    "duration": 6,
    "start_time": "2023-03-16T11:57:09.614Z"
   },
   {
    "duration": 12,
    "start_time": "2023-03-16T11:57:09.621Z"
   },
   {
    "duration": 1365,
    "start_time": "2023-03-16T11:57:09.634Z"
   },
   {
    "duration": 75,
    "start_time": "2023-03-16T11:57:11.000Z"
   },
   {
    "duration": 0,
    "start_time": "2023-03-16T11:57:11.077Z"
   },
   {
    "duration": 0,
    "start_time": "2023-03-16T11:57:11.078Z"
   },
   {
    "duration": 0,
    "start_time": "2023-03-16T11:57:11.079Z"
   },
   {
    "duration": 0,
    "start_time": "2023-03-16T11:57:11.081Z"
   },
   {
    "duration": 0,
    "start_time": "2023-03-16T11:57:11.081Z"
   },
   {
    "duration": 0,
    "start_time": "2023-03-16T11:57:11.083Z"
   },
   {
    "duration": 5,
    "start_time": "2023-03-16T11:57:22.189Z"
   },
   {
    "duration": 5,
    "start_time": "2023-03-16T11:57:22.652Z"
   },
   {
    "duration": 4,
    "start_time": "2023-03-16T11:57:22.811Z"
   },
   {
    "duration": 5,
    "start_time": "2023-03-16T11:57:22.958Z"
   },
   {
    "duration": 5,
    "start_time": "2023-03-16T11:57:23.115Z"
   },
   {
    "duration": 5,
    "start_time": "2023-03-16T11:57:23.293Z"
   },
   {
    "duration": 5,
    "start_time": "2023-03-16T11:57:24.135Z"
   },
   {
    "duration": 97,
    "start_time": "2023-03-16T12:00:57.204Z"
   },
   {
    "duration": 4,
    "start_time": "2023-03-16T20:12:55.598Z"
   },
   {
    "duration": 4,
    "start_time": "2023-03-16T20:13:02.462Z"
   },
   {
    "duration": 5,
    "start_time": "2023-03-16T20:13:17.304Z"
   },
   {
    "duration": 1817,
    "start_time": "2023-03-20T11:32:23.733Z"
   },
   {
    "duration": 2811,
    "start_time": "2023-03-20T11:32:25.554Z"
   },
   {
    "duration": 5,
    "start_time": "2023-03-20T11:32:28.367Z"
   },
   {
    "duration": 67,
    "start_time": "2023-03-20T11:32:28.373Z"
   },
   {
    "duration": 59,
    "start_time": "2023-03-20T11:32:28.443Z"
   },
   {
    "duration": 42,
    "start_time": "2023-03-20T11:32:28.503Z"
   },
   {
    "duration": 144,
    "start_time": "2023-03-20T11:32:28.549Z"
   },
   {
    "duration": 106,
    "start_time": "2023-03-20T11:32:28.695Z"
   },
   {
    "duration": 305,
    "start_time": "2023-03-20T11:32:28.803Z"
   },
   {
    "duration": 169,
    "start_time": "2023-03-20T11:32:29.110Z"
   },
   {
    "duration": 325,
    "start_time": "2023-03-20T11:32:29.282Z"
   },
   {
    "duration": 10,
    "start_time": "2023-03-20T11:32:29.609Z"
   },
   {
    "duration": 36,
    "start_time": "2023-03-20T11:32:29.621Z"
   },
   {
    "duration": 13,
    "start_time": "2023-03-20T11:32:29.661Z"
   },
   {
    "duration": 7,
    "start_time": "2023-03-20T11:32:29.676Z"
   },
   {
    "duration": 9,
    "start_time": "2023-03-20T11:32:29.684Z"
   },
   {
    "duration": 27,
    "start_time": "2023-03-20T11:32:29.694Z"
   },
   {
    "duration": 21,
    "start_time": "2023-03-20T11:32:29.723Z"
   },
   {
    "duration": 23,
    "start_time": "2023-03-20T11:32:29.746Z"
   },
   {
    "duration": 6,
    "start_time": "2023-03-20T11:32:29.771Z"
   },
   {
    "duration": 947,
    "start_time": "2023-03-20T11:32:29.779Z"
   },
   {
    "duration": 4,
    "start_time": "2023-03-20T11:32:30.728Z"
   },
   {
    "duration": 36,
    "start_time": "2023-03-20T11:32:30.733Z"
   },
   {
    "duration": 152,
    "start_time": "2023-03-20T11:32:30.771Z"
   },
   {
    "duration": 0,
    "start_time": "2023-03-20T11:32:30.925Z"
   },
   {
    "duration": 0,
    "start_time": "2023-03-20T11:32:30.927Z"
   },
   {
    "duration": 0,
    "start_time": "2023-03-20T11:32:30.929Z"
   },
   {
    "duration": 0,
    "start_time": "2023-03-20T11:32:30.941Z"
   },
   {
    "duration": 0,
    "start_time": "2023-03-20T11:32:30.942Z"
   },
   {
    "duration": 0,
    "start_time": "2023-03-20T11:32:30.943Z"
   },
   {
    "duration": 0,
    "start_time": "2023-03-20T11:32:30.944Z"
   },
   {
    "duration": 0,
    "start_time": "2023-03-20T11:32:30.945Z"
   },
   {
    "duration": 1,
    "start_time": "2023-03-20T11:32:30.945Z"
   },
   {
    "duration": 0,
    "start_time": "2023-03-20T11:32:30.946Z"
   },
   {
    "duration": 0,
    "start_time": "2023-03-20T11:32:30.947Z"
   },
   {
    "duration": 0,
    "start_time": "2023-03-20T11:32:30.948Z"
   },
   {
    "duration": 0,
    "start_time": "2023-03-20T11:32:30.949Z"
   },
   {
    "duration": 0,
    "start_time": "2023-03-20T11:32:30.950Z"
   },
   {
    "duration": 0,
    "start_time": "2023-03-20T11:32:30.950Z"
   },
   {
    "duration": 0,
    "start_time": "2023-03-20T11:32:30.951Z"
   },
   {
    "duration": 0,
    "start_time": "2023-03-20T11:32:30.951Z"
   },
   {
    "duration": 0,
    "start_time": "2023-03-20T11:32:30.952Z"
   },
   {
    "duration": 0,
    "start_time": "2023-03-20T11:32:30.953Z"
   },
   {
    "duration": 0,
    "start_time": "2023-03-20T11:32:30.953Z"
   },
   {
    "duration": 0,
    "start_time": "2023-03-20T11:32:30.960Z"
   },
   {
    "duration": 1753,
    "start_time": "2023-03-20T11:33:38.067Z"
   },
   {
    "duration": 811,
    "start_time": "2023-03-20T11:33:39.822Z"
   },
   {
    "duration": 9,
    "start_time": "2023-03-20T11:33:40.635Z"
   },
   {
    "duration": 108,
    "start_time": "2023-03-20T11:33:40.646Z"
   },
   {
    "duration": 56,
    "start_time": "2023-03-20T11:33:40.765Z"
   },
   {
    "duration": 55,
    "start_time": "2023-03-20T11:33:40.823Z"
   },
   {
    "duration": 152,
    "start_time": "2023-03-20T11:33:40.880Z"
   },
   {
    "duration": 139,
    "start_time": "2023-03-20T11:33:41.034Z"
   },
   {
    "duration": 291,
    "start_time": "2023-03-20T11:33:41.177Z"
   },
   {
    "duration": 151,
    "start_time": "2023-03-20T11:33:41.470Z"
   },
   {
    "duration": 288,
    "start_time": "2023-03-20T11:33:41.624Z"
   },
   {
    "duration": 27,
    "start_time": "2023-03-20T11:33:41.915Z"
   },
   {
    "duration": 21,
    "start_time": "2023-03-20T11:33:41.944Z"
   },
   {
    "duration": 11,
    "start_time": "2023-03-20T11:33:41.969Z"
   },
   {
    "duration": 7,
    "start_time": "2023-03-20T11:33:41.981Z"
   },
   {
    "duration": 13,
    "start_time": "2023-03-20T11:33:41.990Z"
   },
   {
    "duration": 57,
    "start_time": "2023-03-20T11:33:42.005Z"
   },
   {
    "duration": 5,
    "start_time": "2023-03-20T11:33:42.065Z"
   },
   {
    "duration": 23,
    "start_time": "2023-03-20T11:33:42.072Z"
   },
   {
    "duration": 7,
    "start_time": "2023-03-20T11:33:42.098Z"
   },
   {
    "duration": 853,
    "start_time": "2023-03-20T11:33:42.107Z"
   },
   {
    "duration": 11,
    "start_time": "2023-03-20T11:33:42.962Z"
   },
   {
    "duration": 8,
    "start_time": "2023-03-20T11:33:42.974Z"
   },
   {
    "duration": 4142,
    "start_time": "2023-03-20T11:33:42.984Z"
   },
   {
    "duration": 614,
    "start_time": "2023-03-20T11:33:47.128Z"
   },
   {
    "duration": 1563,
    "start_time": "2023-03-20T11:33:47.745Z"
   },
   {
    "duration": 3,
    "start_time": "2023-03-20T11:33:49.310Z"
   },
   {
    "duration": 21,
    "start_time": "2023-03-20T11:33:49.316Z"
   },
   {
    "duration": 24,
    "start_time": "2023-03-20T11:33:49.340Z"
   },
   {
    "duration": 42,
    "start_time": "2023-03-20T11:33:49.366Z"
   },
   {
    "duration": 60,
    "start_time": "2023-03-20T11:33:49.410Z"
   },
   {
    "duration": 32,
    "start_time": "2023-03-20T11:33:49.472Z"
   },
   {
    "duration": 4510,
    "start_time": "2023-03-20T11:33:49.507Z"
   },
   {
    "duration": 41,
    "start_time": "2023-03-20T11:33:54.019Z"
   },
   {
    "duration": 7,
    "start_time": "2023-03-20T11:33:54.062Z"
   },
   {
    "duration": 14,
    "start_time": "2023-03-20T11:33:54.070Z"
   },
   {
    "duration": 1593,
    "start_time": "2023-03-20T11:33:54.086Z"
   },
   {
    "duration": 5,
    "start_time": "2023-03-20T11:33:55.681Z"
   },
   {
    "duration": 15,
    "start_time": "2023-03-20T11:33:55.688Z"
   },
   {
    "duration": 22,
    "start_time": "2023-03-20T11:33:55.705Z"
   },
   {
    "duration": 8,
    "start_time": "2023-03-20T11:33:55.732Z"
   },
   {
    "duration": 14,
    "start_time": "2023-03-20T11:33:55.741Z"
   },
   {
    "duration": 11,
    "start_time": "2023-03-20T11:33:55.757Z"
   },
   {
    "duration": 8,
    "start_time": "2023-03-20T11:33:55.770Z"
   },
   {
    "duration": 1541,
    "start_time": "2023-03-20T11:39:33.668Z"
   },
   {
    "duration": 811,
    "start_time": "2023-03-20T11:39:35.211Z"
   },
   {
    "duration": 4,
    "start_time": "2023-03-20T11:39:36.024Z"
   },
   {
    "duration": 81,
    "start_time": "2023-03-20T11:39:36.041Z"
   },
   {
    "duration": 67,
    "start_time": "2023-03-20T11:39:36.124Z"
   },
   {
    "duration": 23,
    "start_time": "2023-03-20T11:39:36.192Z"
   },
   {
    "duration": 158,
    "start_time": "2023-03-20T11:39:36.217Z"
   },
   {
    "duration": 113,
    "start_time": "2023-03-20T11:39:36.377Z"
   },
   {
    "duration": 265,
    "start_time": "2023-03-20T11:39:36.491Z"
   },
   {
    "duration": 141,
    "start_time": "2023-03-20T11:39:36.758Z"
   },
   {
    "duration": 303,
    "start_time": "2023-03-20T11:39:36.901Z"
   },
   {
    "duration": 10,
    "start_time": "2023-03-20T11:39:37.206Z"
   },
   {
    "duration": 8,
    "start_time": "2023-03-20T11:39:37.219Z"
   },
   {
    "duration": 39,
    "start_time": "2023-03-20T11:39:37.231Z"
   },
   {
    "duration": 6,
    "start_time": "2023-03-20T11:39:37.272Z"
   },
   {
    "duration": 5,
    "start_time": "2023-03-20T11:39:37.280Z"
   },
   {
    "duration": 26,
    "start_time": "2023-03-20T11:39:37.286Z"
   },
   {
    "duration": 15,
    "start_time": "2023-03-20T11:39:37.313Z"
   },
   {
    "duration": 28,
    "start_time": "2023-03-20T11:39:37.330Z"
   },
   {
    "duration": 9,
    "start_time": "2023-03-20T11:39:37.364Z"
   },
   {
    "duration": 839,
    "start_time": "2023-03-20T11:39:37.374Z"
   },
   {
    "duration": 5,
    "start_time": "2023-03-20T11:39:38.215Z"
   },
   {
    "duration": 33,
    "start_time": "2023-03-20T11:39:38.221Z"
   },
   {
    "duration": 33,
    "start_time": "2023-03-20T11:39:38.256Z"
   },
   {
    "duration": 3844,
    "start_time": "2023-03-20T11:39:38.291Z"
   },
   {
    "duration": 700,
    "start_time": "2023-03-20T11:39:42.137Z"
   },
   {
    "duration": 1474,
    "start_time": "2023-03-20T11:39:42.841Z"
   },
   {
    "duration": 4,
    "start_time": "2023-03-20T11:39:44.317Z"
   },
   {
    "duration": 35,
    "start_time": "2023-03-20T11:39:44.322Z"
   },
   {
    "duration": 10,
    "start_time": "2023-03-20T11:39:44.359Z"
   },
   {
    "duration": 81,
    "start_time": "2023-03-20T11:39:44.371Z"
   },
   {
    "duration": 2951,
    "start_time": "2023-03-20T11:39:44.454Z"
   },
   {
    "duration": 2544,
    "start_time": "2023-03-20T11:39:47.407Z"
   },
   {
    "duration": 3199,
    "start_time": "2023-03-20T11:39:49.955Z"
   },
   {
    "duration": 17423,
    "start_time": "2023-03-20T11:39:53.156Z"
   },
   {
    "duration": 5,
    "start_time": "2023-03-20T11:40:10.580Z"
   },
   {
    "duration": 14,
    "start_time": "2023-03-20T11:40:10.587Z"
   },
   {
    "duration": 2829,
    "start_time": "2023-03-20T11:40:10.603Z"
   },
   {
    "duration": 5,
    "start_time": "2023-03-20T11:40:13.434Z"
   },
   {
    "duration": 8,
    "start_time": "2023-03-20T11:40:13.445Z"
   },
   {
    "duration": 11,
    "start_time": "2023-03-20T11:40:13.460Z"
   },
   {
    "duration": 11,
    "start_time": "2023-03-20T11:40:13.473Z"
   },
   {
    "duration": 6,
    "start_time": "2023-03-20T11:40:13.486Z"
   },
   {
    "duration": 10,
    "start_time": "2023-03-20T11:40:13.493Z"
   },
   {
    "duration": 15,
    "start_time": "2023-03-20T11:40:13.504Z"
   },
   {
    "duration": 5,
    "start_time": "2023-03-20T11:55:14.912Z"
   },
   {
    "duration": 126,
    "start_time": "2023-03-20T11:55:25.705Z"
   },
   {
    "duration": 2810,
    "start_time": "2023-03-20T11:55:36.506Z"
   },
   {
    "duration": 2656,
    "start_time": "2023-03-20T11:56:02.487Z"
   },
   {
    "duration": 4863,
    "start_time": "2023-03-20T11:56:20.810Z"
   },
   {
    "duration": 5233,
    "start_time": "2023-03-20T11:56:44.876Z"
   },
   {
    "duration": 5129,
    "start_time": "2023-03-20T11:57:09.018Z"
   },
   {
    "duration": 5325,
    "start_time": "2023-03-20T11:57:18.032Z"
   },
   {
    "duration": 5143,
    "start_time": "2023-03-20T11:57:36.934Z"
   },
   {
    "duration": 112,
    "start_time": "2023-03-20T12:00:54.439Z"
   },
   {
    "duration": 11,
    "start_time": "2023-03-20T12:42:00.982Z"
   },
   {
    "duration": 6,
    "start_time": "2023-03-20T12:42:13.879Z"
   },
   {
    "duration": 1735,
    "start_time": "2023-03-20T12:49:17.996Z"
   },
   {
    "duration": 1773,
    "start_time": "2023-03-20T12:49:38.683Z"
   },
   {
    "duration": 1775,
    "start_time": "2023-03-20T12:49:52.712Z"
   },
   {
    "duration": 1946,
    "start_time": "2023-03-20T12:50:12.369Z"
   },
   {
    "duration": 1627,
    "start_time": "2023-03-20T12:50:26.600Z"
   },
   {
    "duration": 1655,
    "start_time": "2023-03-20T12:52:57.269Z"
   },
   {
    "duration": 962,
    "start_time": "2023-03-20T12:52:58.926Z"
   },
   {
    "duration": 5,
    "start_time": "2023-03-20T12:52:59.890Z"
   },
   {
    "duration": 80,
    "start_time": "2023-03-20T12:52:59.897Z"
   },
   {
    "duration": 66,
    "start_time": "2023-03-20T12:52:59.980Z"
   },
   {
    "duration": 34,
    "start_time": "2023-03-20T12:53:00.048Z"
   },
   {
    "duration": 151,
    "start_time": "2023-03-20T12:53:00.083Z"
   },
   {
    "duration": 150,
    "start_time": "2023-03-20T12:53:00.243Z"
   },
   {
    "duration": 288,
    "start_time": "2023-03-20T12:53:00.394Z"
   },
   {
    "duration": 178,
    "start_time": "2023-03-20T12:53:00.687Z"
   },
   {
    "duration": 303,
    "start_time": "2023-03-20T12:53:00.869Z"
   },
   {
    "duration": 12,
    "start_time": "2023-03-20T12:53:01.174Z"
   },
   {
    "duration": 46,
    "start_time": "2023-03-20T12:53:01.187Z"
   },
   {
    "duration": 49,
    "start_time": "2023-03-20T12:53:01.236Z"
   },
   {
    "duration": 17,
    "start_time": "2023-03-20T12:53:01.289Z"
   },
   {
    "duration": 43,
    "start_time": "2023-03-20T12:53:01.309Z"
   },
   {
    "duration": 71,
    "start_time": "2023-03-20T12:53:01.357Z"
   },
   {
    "duration": 54,
    "start_time": "2023-03-20T12:53:01.430Z"
   },
   {
    "duration": 36,
    "start_time": "2023-03-20T12:53:01.486Z"
   },
   {
    "duration": 52,
    "start_time": "2023-03-20T12:53:01.525Z"
   },
   {
    "duration": 888,
    "start_time": "2023-03-20T12:53:01.580Z"
   },
   {
    "duration": 12,
    "start_time": "2023-03-20T12:53:02.472Z"
   },
   {
    "duration": 6,
    "start_time": "2023-03-20T12:53:02.489Z"
   },
   {
    "duration": 27,
    "start_time": "2023-03-20T12:53:02.498Z"
   },
   {
    "duration": 5371,
    "start_time": "2023-03-20T12:53:02.527Z"
   },
   {
    "duration": 807,
    "start_time": "2023-03-20T12:53:07.900Z"
   },
   {
    "duration": 1499,
    "start_time": "2023-03-20T12:53:08.708Z"
   },
   {
    "duration": 4,
    "start_time": "2023-03-20T12:53:10.209Z"
   },
   {
    "duration": 9,
    "start_time": "2023-03-20T12:53:10.214Z"
   },
   {
    "duration": 21,
    "start_time": "2023-03-20T12:53:10.225Z"
   },
   {
    "duration": 45,
    "start_time": "2023-03-20T12:53:10.250Z"
   },
   {
    "duration": 3318,
    "start_time": "2023-03-20T12:53:10.297Z"
   },
   {
    "duration": 2329,
    "start_time": "2023-03-20T12:53:13.617Z"
   },
   {
    "duration": 3856,
    "start_time": "2023-03-20T12:53:15.950Z"
   },
   {
    "duration": 18496,
    "start_time": "2023-03-20T12:53:19.808Z"
   },
   {
    "duration": 5,
    "start_time": "2023-03-20T12:53:38.305Z"
   },
   {
    "duration": 16,
    "start_time": "2023-03-20T12:53:38.311Z"
   },
   {
    "duration": 1779,
    "start_time": "2023-03-20T12:53:38.329Z"
   },
   {
    "duration": 4,
    "start_time": "2023-03-20T12:53:40.110Z"
   },
   {
    "duration": 12,
    "start_time": "2023-03-20T12:53:40.116Z"
   },
   {
    "duration": 21,
    "start_time": "2023-03-20T12:53:40.132Z"
   },
   {
    "duration": 11,
    "start_time": "2023-03-20T12:53:40.155Z"
   },
   {
    "duration": 19,
    "start_time": "2023-03-20T12:53:40.168Z"
   },
   {
    "duration": 27,
    "start_time": "2023-03-20T12:53:40.189Z"
   },
   {
    "duration": 6,
    "start_time": "2023-03-20T12:53:40.218Z"
   },
   {
    "duration": 144,
    "start_time": "2023-03-20T12:59:33.515Z"
   },
   {
    "duration": 10,
    "start_time": "2023-03-20T12:59:36.085Z"
   },
   {
    "duration": 13,
    "start_time": "2023-03-20T12:59:51.869Z"
   },
   {
    "duration": 33,
    "start_time": "2023-03-20T12:59:52.414Z"
   },
   {
    "duration": 191,
    "start_time": "2023-03-20T13:00:19.226Z"
   },
   {
    "duration": 965,
    "start_time": "2023-03-20T13:00:35.731Z"
   },
   {
    "duration": 12,
    "start_time": "2023-03-20T13:00:58.899Z"
   },
   {
    "duration": 28,
    "start_time": "2023-03-20T13:01:25.181Z"
   },
   {
    "duration": 978,
    "start_time": "2023-03-20T13:01:28.499Z"
   },
   {
    "duration": 1368,
    "start_time": "2023-03-20T13:01:39.868Z"
   },
   {
    "duration": 2382,
    "start_time": "2023-03-20T13:02:43.604Z"
   },
   {
    "duration": 1670,
    "start_time": "2023-03-20T13:03:44.514Z"
   },
   {
    "duration": 810,
    "start_time": "2023-03-20T13:03:46.186Z"
   },
   {
    "duration": 5,
    "start_time": "2023-03-20T13:03:46.998Z"
   },
   {
    "duration": 111,
    "start_time": "2023-03-20T13:03:47.005Z"
   },
   {
    "duration": 69,
    "start_time": "2023-03-20T13:03:47.120Z"
   },
   {
    "duration": 67,
    "start_time": "2023-03-20T13:03:47.191Z"
   },
   {
    "duration": 139,
    "start_time": "2023-03-20T13:03:47.260Z"
   },
   {
    "duration": 133,
    "start_time": "2023-03-20T13:03:47.401Z"
   },
   {
    "duration": 326,
    "start_time": "2023-03-20T13:03:47.536Z"
   },
   {
    "duration": 214,
    "start_time": "2023-03-20T13:03:47.867Z"
   },
   {
    "duration": 315,
    "start_time": "2023-03-20T13:03:48.083Z"
   },
   {
    "duration": 9,
    "start_time": "2023-03-20T13:03:48.400Z"
   },
   {
    "duration": 6,
    "start_time": "2023-03-20T13:03:48.410Z"
   },
   {
    "duration": 26,
    "start_time": "2023-03-20T13:03:48.419Z"
   },
   {
    "duration": 7,
    "start_time": "2023-03-20T13:03:48.447Z"
   },
   {
    "duration": 12,
    "start_time": "2023-03-20T13:03:48.456Z"
   },
   {
    "duration": 31,
    "start_time": "2023-03-20T13:03:48.470Z"
   },
   {
    "duration": 8,
    "start_time": "2023-03-20T13:03:48.503Z"
   },
   {
    "duration": 32,
    "start_time": "2023-03-20T13:03:48.512Z"
   },
   {
    "duration": 7,
    "start_time": "2023-03-20T13:03:48.546Z"
   },
   {
    "duration": 905,
    "start_time": "2023-03-20T13:03:48.556Z"
   },
   {
    "duration": 5,
    "start_time": "2023-03-20T13:03:49.465Z"
   },
   {
    "duration": 14,
    "start_time": "2023-03-20T13:03:49.472Z"
   },
   {
    "duration": 41,
    "start_time": "2023-03-20T13:03:49.487Z"
   },
   {
    "duration": 5053,
    "start_time": "2023-03-20T13:03:49.530Z"
   },
   {
    "duration": 807,
    "start_time": "2023-03-20T13:03:54.589Z"
   },
   {
    "duration": 9,
    "start_time": "2023-03-20T13:03:55.398Z"
   },
   {
    "duration": 61,
    "start_time": "2023-03-20T13:03:55.409Z"
   },
   {
    "duration": 904,
    "start_time": "2023-03-20T13:03:55.475Z"
   },
   {
    "duration": 4,
    "start_time": "2023-03-20T13:03:56.381Z"
   },
   {
    "duration": 3,
    "start_time": "2023-03-20T13:03:56.387Z"
   },
   {
    "duration": 9,
    "start_time": "2023-03-20T13:03:56.392Z"
   },
   {
    "duration": 41,
    "start_time": "2023-03-20T13:03:56.403Z"
   },
   {
    "duration": 3136,
    "start_time": "2023-03-20T13:03:56.446Z"
   },
   {
    "duration": 2202,
    "start_time": "2023-03-20T13:03:59.584Z"
   },
   {
    "duration": 3795,
    "start_time": "2023-03-20T13:04:01.789Z"
   },
   {
    "duration": 18322,
    "start_time": "2023-03-20T13:04:05.586Z"
   },
   {
    "duration": 4,
    "start_time": "2023-03-20T13:04:23.910Z"
   },
   {
    "duration": 32,
    "start_time": "2023-03-20T13:04:23.916Z"
   },
   {
    "duration": 2047,
    "start_time": "2023-03-20T13:04:23.951Z"
   },
   {
    "duration": 5,
    "start_time": "2023-03-20T13:04:26.002Z"
   },
   {
    "duration": 8,
    "start_time": "2023-03-20T13:04:26.009Z"
   },
   {
    "duration": 6,
    "start_time": "2023-03-20T13:04:26.018Z"
   },
   {
    "duration": 16,
    "start_time": "2023-03-20T13:04:26.026Z"
   },
   {
    "duration": 7,
    "start_time": "2023-03-20T13:04:26.043Z"
   },
   {
    "duration": 12,
    "start_time": "2023-03-20T13:04:26.052Z"
   },
   {
    "duration": 6,
    "start_time": "2023-03-20T13:04:26.068Z"
   },
   {
    "duration": 892,
    "start_time": "2023-03-20T13:05:02.689Z"
   },
   {
    "duration": 969,
    "start_time": "2023-03-20T13:05:14.717Z"
   },
   {
    "duration": 891,
    "start_time": "2023-03-20T13:05:19.479Z"
   },
   {
    "duration": 497,
    "start_time": "2023-03-20T13:05:41.717Z"
   },
   {
    "duration": 330,
    "start_time": "2023-03-20T13:06:01.234Z"
   },
   {
    "duration": 1485,
    "start_time": "2023-03-20T13:06:08.001Z"
   },
   {
    "duration": 1658,
    "start_time": "2023-03-20T13:06:16.818Z"
   },
   {
    "duration": 910,
    "start_time": "2023-03-20T13:06:18.478Z"
   },
   {
    "duration": 5,
    "start_time": "2023-03-20T13:06:19.390Z"
   },
   {
    "duration": 80,
    "start_time": "2023-03-20T13:06:19.396Z"
   },
   {
    "duration": 74,
    "start_time": "2023-03-20T13:06:19.478Z"
   },
   {
    "duration": 31,
    "start_time": "2023-03-20T13:06:19.554Z"
   },
   {
    "duration": 140,
    "start_time": "2023-03-20T13:06:19.587Z"
   },
   {
    "duration": 117,
    "start_time": "2023-03-20T13:06:19.729Z"
   },
   {
    "duration": 261,
    "start_time": "2023-03-20T13:06:19.849Z"
   },
   {
    "duration": 151,
    "start_time": "2023-03-20T13:06:20.112Z"
   },
   {
    "duration": 301,
    "start_time": "2023-03-20T13:06:20.265Z"
   },
   {
    "duration": 10,
    "start_time": "2023-03-20T13:06:20.568Z"
   },
   {
    "duration": 8,
    "start_time": "2023-03-20T13:06:20.580Z"
   },
   {
    "duration": 15,
    "start_time": "2023-03-20T13:06:20.592Z"
   },
   {
    "duration": 7,
    "start_time": "2023-03-20T13:06:20.609Z"
   },
   {
    "duration": 33,
    "start_time": "2023-03-20T13:06:20.618Z"
   },
   {
    "duration": 33,
    "start_time": "2023-03-20T13:06:20.653Z"
   },
   {
    "duration": 5,
    "start_time": "2023-03-20T13:06:20.687Z"
   },
   {
    "duration": 16,
    "start_time": "2023-03-20T13:06:20.694Z"
   },
   {
    "duration": 6,
    "start_time": "2023-03-20T13:06:20.712Z"
   },
   {
    "duration": 845,
    "start_time": "2023-03-20T13:06:20.720Z"
   },
   {
    "duration": 5,
    "start_time": "2023-03-20T13:06:21.567Z"
   },
   {
    "duration": 15,
    "start_time": "2023-03-20T13:06:21.573Z"
   },
   {
    "duration": 31,
    "start_time": "2023-03-20T13:06:21.590Z"
   },
   {
    "duration": 5328,
    "start_time": "2023-03-20T13:06:21.624Z"
   },
   {
    "duration": 770,
    "start_time": "2023-03-20T13:06:26.954Z"
   },
   {
    "duration": 1449,
    "start_time": "2023-03-20T13:06:27.725Z"
   },
   {
    "duration": 3,
    "start_time": "2023-03-20T13:06:29.177Z"
   },
   {
    "duration": 8,
    "start_time": "2023-03-20T13:06:29.182Z"
   },
   {
    "duration": 35,
    "start_time": "2023-03-20T13:06:29.192Z"
   },
   {
    "duration": 60,
    "start_time": "2023-03-20T13:06:29.230Z"
   },
   {
    "duration": 3045,
    "start_time": "2023-03-20T13:06:29.292Z"
   },
   {
    "duration": 2105,
    "start_time": "2023-03-20T13:06:32.341Z"
   },
   {
    "duration": 3190,
    "start_time": "2023-03-20T13:06:34.448Z"
   },
   {
    "duration": 17939,
    "start_time": "2023-03-20T13:06:37.639Z"
   },
   {
    "duration": 5,
    "start_time": "2023-03-20T13:06:55.580Z"
   },
   {
    "duration": 21,
    "start_time": "2023-03-20T13:06:55.587Z"
   },
   {
    "duration": 1569,
    "start_time": "2023-03-20T13:06:55.610Z"
   },
   {
    "duration": 6,
    "start_time": "2023-03-20T13:06:57.181Z"
   },
   {
    "duration": 8,
    "start_time": "2023-03-20T13:06:57.188Z"
   },
   {
    "duration": 5,
    "start_time": "2023-03-20T13:06:57.200Z"
   },
   {
    "duration": 6,
    "start_time": "2023-03-20T13:06:57.206Z"
   },
   {
    "duration": 16,
    "start_time": "2023-03-20T13:06:57.214Z"
   },
   {
    "duration": 15,
    "start_time": "2023-03-20T13:06:57.232Z"
   },
   {
    "duration": 13,
    "start_time": "2023-03-20T13:06:57.248Z"
   },
   {
    "duration": 194,
    "start_time": "2023-03-20T13:07:03.307Z"
   },
   {
    "duration": 1394,
    "start_time": "2023-03-20T13:07:19.031Z"
   },
   {
    "duration": 16,
    "start_time": "2023-03-20T13:08:41.836Z"
   },
   {
    "duration": 7,
    "start_time": "2023-03-20T13:08:45.666Z"
   },
   {
    "duration": 6,
    "start_time": "2023-03-20T13:08:52.728Z"
   },
   {
    "duration": 10,
    "start_time": "2023-03-20T13:08:56.888Z"
   },
   {
    "duration": 5,
    "start_time": "2023-03-20T13:08:59.916Z"
   },
   {
    "duration": 31,
    "start_time": "2023-03-20T13:09:23.869Z"
   },
   {
    "duration": 11,
    "start_time": "2023-03-20T13:09:34.380Z"
   },
   {
    "duration": 29,
    "start_time": "2023-03-20T13:09:41.989Z"
   },
   {
    "duration": 1602,
    "start_time": "2023-03-20T13:10:42.824Z"
   },
   {
    "duration": 865,
    "start_time": "2023-03-20T13:10:44.428Z"
   },
   {
    "duration": 4,
    "start_time": "2023-03-20T13:10:45.295Z"
   },
   {
    "duration": 86,
    "start_time": "2023-03-20T13:10:45.300Z"
   },
   {
    "duration": 85,
    "start_time": "2023-03-20T13:10:45.388Z"
   },
   {
    "duration": 24,
    "start_time": "2023-03-20T13:10:45.474Z"
   },
   {
    "duration": 165,
    "start_time": "2023-03-20T13:10:45.500Z"
   },
   {
    "duration": 120,
    "start_time": "2023-03-20T13:10:45.667Z"
   },
   {
    "duration": 276,
    "start_time": "2023-03-20T13:10:45.789Z"
   },
   {
    "duration": 190,
    "start_time": "2023-03-20T13:10:46.068Z"
   },
   {
    "duration": 373,
    "start_time": "2023-03-20T13:10:46.259Z"
   },
   {
    "duration": 24,
    "start_time": "2023-03-20T13:10:46.633Z"
   },
   {
    "duration": 8,
    "start_time": "2023-03-20T13:10:46.659Z"
   },
   {
    "duration": 11,
    "start_time": "2023-03-20T13:10:46.671Z"
   },
   {
    "duration": 6,
    "start_time": "2023-03-20T13:10:46.684Z"
   },
   {
    "duration": 5,
    "start_time": "2023-03-20T13:10:46.691Z"
   },
   {
    "duration": 60,
    "start_time": "2023-03-20T13:10:46.697Z"
   },
   {
    "duration": 5,
    "start_time": "2023-03-20T13:10:46.759Z"
   },
   {
    "duration": 15,
    "start_time": "2023-03-20T13:10:46.766Z"
   },
   {
    "duration": 6,
    "start_time": "2023-03-20T13:10:46.783Z"
   },
   {
    "duration": 840,
    "start_time": "2023-03-20T13:10:46.790Z"
   },
   {
    "duration": 4,
    "start_time": "2023-03-20T13:10:47.631Z"
   },
   {
    "duration": 6,
    "start_time": "2023-03-20T13:10:47.637Z"
   },
   {
    "duration": 37,
    "start_time": "2023-03-20T13:10:47.644Z"
   },
   {
    "duration": 5420,
    "start_time": "2023-03-20T13:10:47.683Z"
   },
   {
    "duration": 817,
    "start_time": "2023-03-20T13:10:53.105Z"
   },
   {
    "duration": 1428,
    "start_time": "2023-03-20T13:10:53.924Z"
   },
   {
    "duration": 1373,
    "start_time": "2023-03-20T13:10:55.361Z"
   },
   {
    "duration": 17,
    "start_time": "2023-03-20T13:10:56.736Z"
   },
   {
    "duration": 4,
    "start_time": "2023-03-20T13:10:56.757Z"
   },
   {
    "duration": 50,
    "start_time": "2023-03-20T13:10:56.763Z"
   },
   {
    "duration": 7,
    "start_time": "2023-03-20T13:10:56.815Z"
   },
   {
    "duration": 47,
    "start_time": "2023-03-20T13:10:56.824Z"
   },
   {
    "duration": 156,
    "start_time": "2023-03-20T13:10:56.873Z"
   },
   {
    "duration": 0,
    "start_time": "2023-03-20T13:10:57.032Z"
   },
   {
    "duration": 0,
    "start_time": "2023-03-20T13:10:57.033Z"
   },
   {
    "duration": 0,
    "start_time": "2023-03-20T13:10:57.043Z"
   },
   {
    "duration": 0,
    "start_time": "2023-03-20T13:10:57.044Z"
   },
   {
    "duration": 0,
    "start_time": "2023-03-20T13:10:57.045Z"
   },
   {
    "duration": 0,
    "start_time": "2023-03-20T13:10:57.046Z"
   },
   {
    "duration": 0,
    "start_time": "2023-03-20T13:10:57.047Z"
   },
   {
    "duration": 0,
    "start_time": "2023-03-20T13:10:57.049Z"
   },
   {
    "duration": 0,
    "start_time": "2023-03-20T13:10:57.050Z"
   },
   {
    "duration": 0,
    "start_time": "2023-03-20T13:10:57.051Z"
   },
   {
    "duration": 0,
    "start_time": "2023-03-20T13:10:57.052Z"
   },
   {
    "duration": 0,
    "start_time": "2023-03-20T13:10:57.053Z"
   },
   {
    "duration": 0,
    "start_time": "2023-03-20T13:10:57.054Z"
   },
   {
    "duration": 0,
    "start_time": "2023-03-20T13:10:57.055Z"
   },
   {
    "duration": 0,
    "start_time": "2023-03-20T13:10:57.056Z"
   },
   {
    "duration": 6,
    "start_time": "2023-03-20T13:11:15.980Z"
   },
   {
    "duration": 1637,
    "start_time": "2023-03-20T13:11:20.521Z"
   },
   {
    "duration": 847,
    "start_time": "2023-03-20T13:11:22.163Z"
   },
   {
    "duration": 4,
    "start_time": "2023-03-20T13:11:23.011Z"
   },
   {
    "duration": 86,
    "start_time": "2023-03-20T13:11:23.017Z"
   },
   {
    "duration": 84,
    "start_time": "2023-03-20T13:11:23.106Z"
   },
   {
    "duration": 33,
    "start_time": "2023-03-20T13:11:23.191Z"
   },
   {
    "duration": 171,
    "start_time": "2023-03-20T13:11:23.226Z"
   },
   {
    "duration": 129,
    "start_time": "2023-03-20T13:11:23.399Z"
   },
   {
    "duration": 283,
    "start_time": "2023-03-20T13:11:23.530Z"
   },
   {
    "duration": 171,
    "start_time": "2023-03-20T13:11:23.815Z"
   },
   {
    "duration": 289,
    "start_time": "2023-03-20T13:11:23.988Z"
   },
   {
    "duration": 14,
    "start_time": "2023-03-20T13:11:24.280Z"
   },
   {
    "duration": 10,
    "start_time": "2023-03-20T13:11:24.296Z"
   },
   {
    "duration": 39,
    "start_time": "2023-03-20T13:11:24.311Z"
   },
   {
    "duration": 12,
    "start_time": "2023-03-20T13:11:24.357Z"
   },
   {
    "duration": 5,
    "start_time": "2023-03-20T13:11:24.371Z"
   },
   {
    "duration": 23,
    "start_time": "2023-03-20T13:11:24.378Z"
   },
   {
    "duration": 8,
    "start_time": "2023-03-20T13:11:24.404Z"
   },
   {
    "duration": 13,
    "start_time": "2023-03-20T13:11:24.413Z"
   },
   {
    "duration": 30,
    "start_time": "2023-03-20T13:11:24.428Z"
   },
   {
    "duration": 838,
    "start_time": "2023-03-20T13:11:24.460Z"
   },
   {
    "duration": 5,
    "start_time": "2023-03-20T13:11:25.300Z"
   },
   {
    "duration": 7,
    "start_time": "2023-03-20T13:11:25.307Z"
   },
   {
    "duration": 38,
    "start_time": "2023-03-20T13:11:25.316Z"
   },
   {
    "duration": 5361,
    "start_time": "2023-03-20T13:11:25.356Z"
   },
   {
    "duration": 872,
    "start_time": "2023-03-20T13:11:30.720Z"
   },
   {
    "duration": 1433,
    "start_time": "2023-03-20T13:11:31.594Z"
   },
   {
    "duration": 1448,
    "start_time": "2023-03-20T13:11:33.029Z"
   },
   {
    "duration": 4,
    "start_time": "2023-03-20T13:11:34.478Z"
   },
   {
    "duration": 14,
    "start_time": "2023-03-20T13:11:34.483Z"
   },
   {
    "duration": 44,
    "start_time": "2023-03-20T13:11:34.499Z"
   },
   {
    "duration": 8,
    "start_time": "2023-03-20T13:11:34.547Z"
   },
   {
    "duration": 30,
    "start_time": "2023-03-20T13:11:34.559Z"
   },
   {
    "duration": 7,
    "start_time": "2023-03-20T13:11:34.591Z"
   },
   {
    "duration": 58,
    "start_time": "2023-03-20T13:11:34.600Z"
   },
   {
    "duration": 3104,
    "start_time": "2023-03-20T13:11:34.663Z"
   },
   {
    "duration": 1873,
    "start_time": "2023-03-20T13:11:37.769Z"
   },
   {
    "duration": 3324,
    "start_time": "2023-03-20T13:11:39.643Z"
   },
   {
    "duration": 18268,
    "start_time": "2023-03-20T13:11:42.969Z"
   },
   {
    "duration": 7,
    "start_time": "2023-03-20T13:12:01.240Z"
   },
   {
    "duration": 70,
    "start_time": "2023-03-20T13:12:01.259Z"
   },
   {
    "duration": 1906,
    "start_time": "2023-03-20T13:12:01.332Z"
   },
   {
    "duration": 11,
    "start_time": "2023-03-20T13:12:03.240Z"
   },
   {
    "duration": 15,
    "start_time": "2023-03-20T13:12:03.252Z"
   },
   {
    "duration": 4,
    "start_time": "2023-03-20T13:12:03.269Z"
   },
   {
    "duration": 8,
    "start_time": "2023-03-20T13:12:03.276Z"
   },
   {
    "duration": 9,
    "start_time": "2023-03-20T13:12:03.286Z"
   },
   {
    "duration": 16,
    "start_time": "2023-03-20T13:12:03.297Z"
   },
   {
    "duration": 23,
    "start_time": "2023-03-20T13:12:03.315Z"
   },
   {
    "duration": 56,
    "start_time": "2023-03-20T13:12:22.131Z"
   },
   {
    "duration": 5,
    "start_time": "2023-03-20T13:12:24.105Z"
   },
   {
    "duration": 50,
    "start_time": "2023-03-20T13:12:28.768Z"
   },
   {
    "duration": 2000,
    "start_time": "2023-03-20T13:12:44.964Z"
   },
   {
    "duration": 1045,
    "start_time": "2023-03-20T13:12:46.967Z"
   },
   {
    "duration": 4,
    "start_time": "2023-03-20T13:12:48.014Z"
   },
   {
    "duration": 112,
    "start_time": "2023-03-20T13:12:48.019Z"
   },
   {
    "duration": 78,
    "start_time": "2023-03-20T13:12:48.134Z"
   },
   {
    "duration": 31,
    "start_time": "2023-03-20T13:12:48.214Z"
   },
   {
    "duration": 168,
    "start_time": "2023-03-20T13:12:48.247Z"
   },
   {
    "duration": 125,
    "start_time": "2023-03-20T13:12:48.416Z"
   },
   {
    "duration": 306,
    "start_time": "2023-03-20T13:12:48.548Z"
   },
   {
    "duration": 188,
    "start_time": "2023-03-20T13:12:48.856Z"
   },
   {
    "duration": 379,
    "start_time": "2023-03-20T13:12:49.047Z"
   },
   {
    "duration": 25,
    "start_time": "2023-03-20T13:12:49.427Z"
   },
   {
    "duration": 13,
    "start_time": "2023-03-20T13:12:49.455Z"
   },
   {
    "duration": 19,
    "start_time": "2023-03-20T13:12:49.477Z"
   },
   {
    "duration": 15,
    "start_time": "2023-03-20T13:12:49.502Z"
   },
   {
    "duration": 25,
    "start_time": "2023-03-20T13:12:49.520Z"
   },
   {
    "duration": 58,
    "start_time": "2023-03-20T13:12:49.548Z"
   },
   {
    "duration": 6,
    "start_time": "2023-03-20T13:12:49.608Z"
   },
   {
    "duration": 35,
    "start_time": "2023-03-20T13:12:49.616Z"
   },
   {
    "duration": 13,
    "start_time": "2023-03-20T13:12:49.654Z"
   },
   {
    "duration": 927,
    "start_time": "2023-03-20T13:12:49.670Z"
   },
   {
    "duration": 5,
    "start_time": "2023-03-20T13:12:50.600Z"
   },
   {
    "duration": 9,
    "start_time": "2023-03-20T13:12:50.607Z"
   },
   {
    "duration": 38,
    "start_time": "2023-03-20T13:12:50.618Z"
   },
   {
    "duration": 5668,
    "start_time": "2023-03-20T13:12:50.658Z"
   },
   {
    "duration": 798,
    "start_time": "2023-03-20T13:12:56.327Z"
   },
   {
    "duration": 1508,
    "start_time": "2023-03-20T13:12:57.127Z"
   },
   {
    "duration": 1479,
    "start_time": "2023-03-20T13:12:58.641Z"
   },
   {
    "duration": 3,
    "start_time": "2023-03-20T13:13:00.122Z"
   },
   {
    "duration": 22,
    "start_time": "2023-03-20T13:13:00.127Z"
   },
   {
    "duration": 57,
    "start_time": "2023-03-20T13:13:00.151Z"
   },
   {
    "duration": 10,
    "start_time": "2023-03-20T13:13:00.210Z"
   },
   {
    "duration": 75,
    "start_time": "2023-03-20T13:13:00.222Z"
   },
   {
    "duration": 5,
    "start_time": "2023-03-20T13:13:00.298Z"
   },
   {
    "duration": 56,
    "start_time": "2023-03-20T13:13:00.304Z"
   },
   {
    "duration": 12,
    "start_time": "2023-03-20T13:13:00.362Z"
   },
   {
    "duration": 92,
    "start_time": "2023-03-20T13:13:00.375Z"
   },
   {
    "duration": 3466,
    "start_time": "2023-03-20T13:13:00.470Z"
   },
   {
    "duration": 1618,
    "start_time": "2023-03-20T13:13:03.941Z"
   },
   {
    "duration": 4054,
    "start_time": "2023-03-20T13:13:05.587Z"
   },
   {
    "duration": 20839,
    "start_time": "2023-03-20T13:13:09.651Z"
   },
   {
    "duration": 1905,
    "start_time": "2023-03-20T13:13:30.491Z"
   },
   {
    "duration": 0,
    "start_time": "2023-03-20T13:13:32.398Z"
   },
   {
    "duration": 0,
    "start_time": "2023-03-20T13:13:32.399Z"
   },
   {
    "duration": 0,
    "start_time": "2023-03-20T13:13:32.400Z"
   },
   {
    "duration": 0,
    "start_time": "2023-03-20T13:13:32.402Z"
   },
   {
    "duration": 0,
    "start_time": "2023-03-20T13:13:32.403Z"
   },
   {
    "duration": 0,
    "start_time": "2023-03-20T13:13:32.404Z"
   },
   {
    "duration": 0,
    "start_time": "2023-03-20T13:13:32.405Z"
   },
   {
    "duration": 0,
    "start_time": "2023-03-20T13:13:32.406Z"
   },
   {
    "duration": 0,
    "start_time": "2023-03-20T13:13:32.407Z"
   },
   {
    "duration": 1716,
    "start_time": "2023-03-20T13:14:35.473Z"
   },
   {
    "duration": 975,
    "start_time": "2023-03-20T13:14:37.192Z"
   },
   {
    "duration": 4,
    "start_time": "2023-03-20T13:14:38.169Z"
   },
   {
    "duration": 92,
    "start_time": "2023-03-20T13:14:38.174Z"
   },
   {
    "duration": 69,
    "start_time": "2023-03-20T13:14:38.277Z"
   },
   {
    "duration": 32,
    "start_time": "2023-03-20T13:14:38.349Z"
   },
   {
    "duration": 163,
    "start_time": "2023-03-20T13:14:38.384Z"
   },
   {
    "duration": 141,
    "start_time": "2023-03-20T13:14:38.550Z"
   },
   {
    "duration": 348,
    "start_time": "2023-03-20T13:14:38.692Z"
   },
   {
    "duration": 199,
    "start_time": "2023-03-20T13:14:39.046Z"
   },
   {
    "duration": 372,
    "start_time": "2023-03-20T13:14:39.247Z"
   },
   {
    "duration": 10,
    "start_time": "2023-03-20T13:14:39.621Z"
   },
   {
    "duration": 10,
    "start_time": "2023-03-20T13:14:39.645Z"
   },
   {
    "duration": 16,
    "start_time": "2023-03-20T13:14:39.659Z"
   },
   {
    "duration": 7,
    "start_time": "2023-03-20T13:14:39.681Z"
   },
   {
    "duration": 8,
    "start_time": "2023-03-20T13:14:39.689Z"
   },
   {
    "duration": 48,
    "start_time": "2023-03-20T13:14:39.699Z"
   },
   {
    "duration": 6,
    "start_time": "2023-03-20T13:14:39.750Z"
   },
   {
    "duration": 21,
    "start_time": "2023-03-20T13:14:39.758Z"
   },
   {
    "duration": 6,
    "start_time": "2023-03-20T13:14:39.782Z"
   },
   {
    "duration": 878,
    "start_time": "2023-03-20T13:14:39.790Z"
   },
   {
    "duration": 5,
    "start_time": "2023-03-20T13:14:40.676Z"
   },
   {
    "duration": 15,
    "start_time": "2023-03-20T13:14:40.683Z"
   },
   {
    "duration": 31,
    "start_time": "2023-03-20T13:14:40.701Z"
   },
   {
    "duration": 5580,
    "start_time": "2023-03-20T13:14:40.734Z"
   },
   {
    "duration": 959,
    "start_time": "2023-03-20T13:14:46.316Z"
   },
   {
    "duration": 1386,
    "start_time": "2023-03-20T13:14:47.277Z"
   },
   {
    "duration": 1568,
    "start_time": "2023-03-20T13:14:48.668Z"
   },
   {
    "duration": 11,
    "start_time": "2023-03-20T13:14:50.238Z"
   },
   {
    "duration": 9,
    "start_time": "2023-03-20T13:14:50.251Z"
   },
   {
    "duration": 14,
    "start_time": "2023-03-20T13:14:50.263Z"
   },
   {
    "duration": 29,
    "start_time": "2023-03-20T13:14:50.279Z"
   },
   {
    "duration": 33,
    "start_time": "2023-03-20T13:14:50.310Z"
   },
   {
    "duration": 3164,
    "start_time": "2023-03-20T13:14:50.345Z"
   },
   {
    "duration": 1875,
    "start_time": "2023-03-20T13:14:53.511Z"
   },
   {
    "duration": 3846,
    "start_time": "2023-03-20T13:14:55.447Z"
   },
   {
    "duration": 18785,
    "start_time": "2023-03-20T13:14:59.295Z"
   },
   {
    "duration": 146,
    "start_time": "2023-03-20T13:15:18.082Z"
   },
   {
    "duration": 0,
    "start_time": "2023-03-20T13:15:18.230Z"
   },
   {
    "duration": 0,
    "start_time": "2023-03-20T13:15:18.231Z"
   },
   {
    "duration": 0,
    "start_time": "2023-03-20T13:15:18.232Z"
   },
   {
    "duration": 0,
    "start_time": "2023-03-20T13:15:18.233Z"
   },
   {
    "duration": 0,
    "start_time": "2023-03-20T13:15:18.234Z"
   },
   {
    "duration": 0,
    "start_time": "2023-03-20T13:15:18.236Z"
   },
   {
    "duration": 0,
    "start_time": "2023-03-20T13:15:18.237Z"
   },
   {
    "duration": 0,
    "start_time": "2023-03-20T13:15:18.238Z"
   },
   {
    "duration": 0,
    "start_time": "2023-03-20T13:15:18.238Z"
   },
   {
    "duration": 5,
    "start_time": "2023-03-20T13:15:47.114Z"
   },
   {
    "duration": 22,
    "start_time": "2023-03-20T13:15:47.830Z"
   },
   {
    "duration": 1896,
    "start_time": "2023-03-20T13:15:48.222Z"
   },
   {
    "duration": 6,
    "start_time": "2023-03-20T13:15:50.120Z"
   },
   {
    "duration": 7,
    "start_time": "2023-03-20T13:15:50.127Z"
   },
   {
    "duration": 7,
    "start_time": "2023-03-20T13:15:50.136Z"
   },
   {
    "duration": 9,
    "start_time": "2023-03-20T13:15:50.145Z"
   },
   {
    "duration": 8,
    "start_time": "2023-03-20T13:15:50.159Z"
   },
   {
    "duration": 5,
    "start_time": "2023-03-20T13:15:50.169Z"
   },
   {
    "duration": 9,
    "start_time": "2023-03-20T13:15:50.177Z"
   },
   {
    "duration": 4,
    "start_time": "2023-03-20T13:22:44.232Z"
   },
   {
    "duration": 5,
    "start_time": "2023-03-20T13:22:48.673Z"
   },
   {
    "duration": 1639,
    "start_time": "2023-03-20T13:22:58.817Z"
   },
   {
    "duration": 3355,
    "start_time": "2023-03-20T13:23:03.125Z"
   },
   {
    "duration": 2991,
    "start_time": "2023-03-20T13:23:06.482Z"
   },
   {
    "duration": 4,
    "start_time": "2023-03-20T13:30:50.668Z"
   },
   {
    "duration": 16,
    "start_time": "2023-03-20T13:31:02.134Z"
   },
   {
    "duration": 3,
    "start_time": "2023-03-20T13:31:29.034Z"
   },
   {
    "duration": 21,
    "start_time": "2023-03-20T13:31:29.432Z"
   },
   {
    "duration": 4,
    "start_time": "2023-03-20T13:31:41.278Z"
   },
   {
    "duration": 17,
    "start_time": "2023-03-20T13:31:41.631Z"
   },
   {
    "duration": 94,
    "start_time": "2023-03-20T13:31:59.335Z"
   },
   {
    "duration": 15,
    "start_time": "2023-03-20T13:32:01.023Z"
   },
   {
    "duration": 4,
    "start_time": "2023-03-20T13:32:08.510Z"
   },
   {
    "duration": 117,
    "start_time": "2023-03-20T13:32:08.915Z"
   },
   {
    "duration": 12,
    "start_time": "2023-03-20T13:32:09.508Z"
   },
   {
    "duration": 1557,
    "start_time": "2023-03-20T13:32:14.087Z"
   },
   {
    "duration": 798,
    "start_time": "2023-03-20T13:32:15.646Z"
   },
   {
    "duration": 10,
    "start_time": "2023-03-20T13:32:16.445Z"
   },
   {
    "duration": 67,
    "start_time": "2023-03-20T13:32:16.457Z"
   },
   {
    "duration": 66,
    "start_time": "2023-03-20T13:32:16.528Z"
   },
   {
    "duration": 62,
    "start_time": "2023-03-20T13:32:16.596Z"
   },
   {
    "duration": 131,
    "start_time": "2023-03-20T13:32:16.660Z"
   },
   {
    "duration": 105,
    "start_time": "2023-03-20T13:32:16.793Z"
   },
   {
    "duration": 271,
    "start_time": "2023-03-20T13:32:16.900Z"
   },
   {
    "duration": 155,
    "start_time": "2023-03-20T13:32:17.173Z"
   },
   {
    "duration": 285,
    "start_time": "2023-03-20T13:32:17.330Z"
   },
   {
    "duration": 24,
    "start_time": "2023-03-20T13:32:17.617Z"
   },
   {
    "duration": 15,
    "start_time": "2023-03-20T13:32:17.646Z"
   },
   {
    "duration": 13,
    "start_time": "2023-03-20T13:32:17.665Z"
   },
   {
    "duration": 32,
    "start_time": "2023-03-20T13:32:17.680Z"
   },
   {
    "duration": 5,
    "start_time": "2023-03-20T13:32:17.715Z"
   },
   {
    "duration": 37,
    "start_time": "2023-03-20T13:32:17.722Z"
   },
   {
    "duration": 17,
    "start_time": "2023-03-20T13:32:17.762Z"
   },
   {
    "duration": 16,
    "start_time": "2023-03-20T13:32:17.782Z"
   },
   {
    "duration": 9,
    "start_time": "2023-03-20T13:32:17.801Z"
   },
   {
    "duration": 822,
    "start_time": "2023-03-20T13:32:17.812Z"
   },
   {
    "duration": 12,
    "start_time": "2023-03-20T13:32:18.636Z"
   },
   {
    "duration": 10,
    "start_time": "2023-03-20T13:32:18.653Z"
   },
   {
    "duration": 27,
    "start_time": "2023-03-20T13:32:18.665Z"
   },
   {
    "duration": 5222,
    "start_time": "2023-03-20T13:32:18.694Z"
   },
   {
    "duration": 712,
    "start_time": "2023-03-20T13:32:23.917Z"
   },
   {
    "duration": 1398,
    "start_time": "2023-03-20T13:32:24.631Z"
   },
   {
    "duration": 1536,
    "start_time": "2023-03-20T13:32:26.031Z"
   },
   {
    "duration": 3,
    "start_time": "2023-03-20T13:32:27.569Z"
   },
   {
    "duration": 11,
    "start_time": "2023-03-20T13:32:27.574Z"
   },
   {
    "duration": 12,
    "start_time": "2023-03-20T13:32:27.587Z"
   },
   {
    "duration": 30,
    "start_time": "2023-03-20T13:32:27.601Z"
   },
   {
    "duration": 52,
    "start_time": "2023-03-20T13:32:27.633Z"
   },
   {
    "duration": 3000,
    "start_time": "2023-03-20T13:32:27.687Z"
   },
   {
    "duration": 4,
    "start_time": "2023-03-20T13:32:30.689Z"
   },
   {
    "duration": 100,
    "start_time": "2023-03-20T13:32:30.695Z"
   },
   {
    "duration": 0,
    "start_time": "2023-03-20T13:32:30.798Z"
   },
   {
    "duration": 0,
    "start_time": "2023-03-20T13:32:30.800Z"
   },
   {
    "duration": 0,
    "start_time": "2023-03-20T13:32:30.802Z"
   },
   {
    "duration": 0,
    "start_time": "2023-03-20T13:32:30.803Z"
   },
   {
    "duration": 0,
    "start_time": "2023-03-20T13:32:30.805Z"
   },
   {
    "duration": 0,
    "start_time": "2023-03-20T13:32:30.806Z"
   },
   {
    "duration": 0,
    "start_time": "2023-03-20T13:32:30.808Z"
   },
   {
    "duration": 0,
    "start_time": "2023-03-20T13:32:30.809Z"
   },
   {
    "duration": 0,
    "start_time": "2023-03-20T13:32:30.811Z"
   },
   {
    "duration": 0,
    "start_time": "2023-03-20T13:32:30.813Z"
   },
   {
    "duration": 0,
    "start_time": "2023-03-20T13:32:30.814Z"
   },
   {
    "duration": 0,
    "start_time": "2023-03-20T13:32:30.816Z"
   },
   {
    "duration": 0,
    "start_time": "2023-03-20T13:32:30.819Z"
   },
   {
    "duration": 0,
    "start_time": "2023-03-20T13:32:30.820Z"
   },
   {
    "duration": 4,
    "start_time": "2023-03-20T13:33:01.981Z"
   },
   {
    "duration": 140,
    "start_time": "2023-03-20T13:33:02.984Z"
   },
   {
    "duration": 5,
    "start_time": "2023-03-20T13:33:20.907Z"
   },
   {
    "duration": 9,
    "start_time": "2023-03-20T13:33:21.437Z"
   },
   {
    "duration": 13,
    "start_time": "2023-03-20T13:33:34.504Z"
   },
   {
    "duration": 10,
    "start_time": "2023-03-20T13:33:56.601Z"
   },
   {
    "duration": 11,
    "start_time": "2023-03-20T13:34:57.954Z"
   },
   {
    "duration": 44777,
    "start_time": "2023-03-20T13:35:42.697Z"
   },
   {
    "duration": 0,
    "start_time": "2023-03-20T13:36:27.493Z"
   },
   {
    "duration": 5,
    "start_time": "2023-03-20T13:36:37.169Z"
   },
   {
    "duration": 139064,
    "start_time": "2023-03-20T13:36:40.229Z"
   },
   {
    "duration": 0,
    "start_time": "2023-03-20T13:38:59.295Z"
   },
   {
    "duration": 1762,
    "start_time": "2023-03-20T13:39:03.228Z"
   },
   {
    "duration": 911,
    "start_time": "2023-03-20T13:39:04.993Z"
   },
   {
    "duration": 5,
    "start_time": "2023-03-20T13:39:05.906Z"
   },
   {
    "duration": 96,
    "start_time": "2023-03-20T13:39:05.913Z"
   },
   {
    "duration": 83,
    "start_time": "2023-03-20T13:39:06.011Z"
   },
   {
    "duration": 31,
    "start_time": "2023-03-20T13:39:06.096Z"
   },
   {
    "duration": 172,
    "start_time": "2023-03-20T13:39:06.145Z"
   },
   {
    "duration": 127,
    "start_time": "2023-03-20T13:39:06.319Z"
   },
   {
    "duration": 312,
    "start_time": "2023-03-20T13:39:06.448Z"
   },
   {
    "duration": 169,
    "start_time": "2023-03-20T13:39:06.762Z"
   },
   {
    "duration": 336,
    "start_time": "2023-03-20T13:39:06.933Z"
   },
   {
    "duration": 16,
    "start_time": "2023-03-20T13:39:07.273Z"
   },
   {
    "duration": 8,
    "start_time": "2023-03-20T13:39:07.291Z"
   },
   {
    "duration": 11,
    "start_time": "2023-03-20T13:39:07.302Z"
   },
   {
    "duration": 29,
    "start_time": "2023-03-20T13:39:07.315Z"
   },
   {
    "duration": 10,
    "start_time": "2023-03-20T13:39:07.347Z"
   },
   {
    "duration": 37,
    "start_time": "2023-03-20T13:39:07.359Z"
   },
   {
    "duration": 6,
    "start_time": "2023-03-20T13:39:07.398Z"
   },
   {
    "duration": 36,
    "start_time": "2023-03-20T13:39:07.405Z"
   },
   {
    "duration": 11,
    "start_time": "2023-03-20T13:39:07.444Z"
   },
   {
    "duration": 901,
    "start_time": "2023-03-20T13:39:07.456Z"
   },
   {
    "duration": 8,
    "start_time": "2023-03-20T13:39:08.359Z"
   },
   {
    "duration": 13,
    "start_time": "2023-03-20T13:39:08.370Z"
   },
   {
    "duration": 29,
    "start_time": "2023-03-20T13:39:08.385Z"
   },
   {
    "duration": 5414,
    "start_time": "2023-03-20T13:39:08.416Z"
   },
   {
    "duration": 754,
    "start_time": "2023-03-20T13:39:13.831Z"
   },
   {
    "duration": 1599,
    "start_time": "2023-03-20T13:39:14.588Z"
   },
   {
    "duration": 1682,
    "start_time": "2023-03-20T13:39:16.190Z"
   },
   {
    "duration": 4,
    "start_time": "2023-03-20T13:39:17.875Z"
   },
   {
    "duration": 4,
    "start_time": "2023-03-20T13:39:17.882Z"
   },
   {
    "duration": 16,
    "start_time": "2023-03-20T13:39:17.888Z"
   },
   {
    "duration": 9,
    "start_time": "2023-03-20T13:39:17.906Z"
   },
   {
    "duration": 4,
    "start_time": "2023-03-20T13:39:17.917Z"
   },
   {
    "duration": 75,
    "start_time": "2023-03-20T13:39:17.923Z"
   },
   {
    "duration": 3243,
    "start_time": "2023-03-20T13:39:18.001Z"
   },
   {
    "duration": 1645,
    "start_time": "2023-03-20T13:39:21.247Z"
   },
   {
    "duration": 3880,
    "start_time": "2023-03-20T13:39:22.953Z"
   },
   {
    "duration": 20018,
    "start_time": "2023-03-20T13:39:26.835Z"
   },
   {
    "duration": 7,
    "start_time": "2023-03-20T13:39:46.855Z"
   },
   {
    "duration": 21,
    "start_time": "2023-03-20T13:39:46.864Z"
   },
   {
    "duration": 2045,
    "start_time": "2023-03-20T13:39:46.891Z"
   },
   {
    "duration": 6,
    "start_time": "2023-03-20T13:39:48.941Z"
   },
   {
    "duration": 7,
    "start_time": "2023-03-20T13:39:48.949Z"
   },
   {
    "duration": 11,
    "start_time": "2023-03-20T13:39:48.962Z"
   },
   {
    "duration": 10,
    "start_time": "2023-03-20T13:39:48.978Z"
   },
   {
    "duration": 15,
    "start_time": "2023-03-20T13:39:48.994Z"
   },
   {
    "duration": 15,
    "start_time": "2023-03-20T13:39:49.014Z"
   },
   {
    "duration": 6,
    "start_time": "2023-03-20T13:39:49.034Z"
   },
   {
    "duration": 5,
    "start_time": "2023-03-20T13:39:49.046Z"
   },
   {
    "duration": 3300,
    "start_time": "2023-03-20T13:39:49.055Z"
   },
   {
    "duration": 142,
    "start_time": "2023-03-20T13:41:07.292Z"
   },
   {
    "duration": 24,
    "start_time": "2023-03-20T13:41:14.127Z"
   },
   {
    "duration": 17,
    "start_time": "2023-03-20T13:41:26.889Z"
   },
   {
    "duration": 3154,
    "start_time": "2023-03-20T13:41:27.559Z"
   },
   {
    "duration": 3,
    "start_time": "2023-03-20T13:41:41.259Z"
   },
   {
    "duration": 20,
    "start_time": "2023-03-20T13:41:41.807Z"
   },
   {
    "duration": 4,
    "start_time": "2023-03-20T13:43:12.416Z"
   },
   {
    "duration": 3236,
    "start_time": "2023-03-20T13:43:28.345Z"
   },
   {
    "duration": 3128,
    "start_time": "2023-03-20T13:43:35.001Z"
   },
   {
    "duration": 3041,
    "start_time": "2023-03-20T13:43:55.889Z"
   },
   {
    "duration": 4,
    "start_time": "2023-03-20T13:44:53.474Z"
   },
   {
    "duration": 13,
    "start_time": "2023-03-20T13:45:58.074Z"
   },
   {
    "duration": 3,
    "start_time": "2023-03-20T13:46:20.264Z"
   },
   {
    "duration": 15,
    "start_time": "2023-03-20T13:46:20.665Z"
   },
   {
    "duration": 1471,
    "start_time": "2023-03-20T13:50:14.802Z"
   },
   {
    "duration": 793,
    "start_time": "2023-03-20T13:50:16.275Z"
   },
   {
    "duration": 4,
    "start_time": "2023-03-20T13:50:17.069Z"
   },
   {
    "duration": 83,
    "start_time": "2023-03-20T13:50:17.076Z"
   },
   {
    "duration": 48,
    "start_time": "2023-03-20T13:50:17.162Z"
   },
   {
    "duration": 62,
    "start_time": "2023-03-20T13:50:17.212Z"
   },
   {
    "duration": 151,
    "start_time": "2023-03-20T13:50:17.276Z"
   },
   {
    "duration": 116,
    "start_time": "2023-03-20T13:50:17.429Z"
   },
   {
    "duration": 232,
    "start_time": "2023-03-20T13:50:17.547Z"
   },
   {
    "duration": 141,
    "start_time": "2023-03-20T13:50:17.780Z"
   },
   {
    "duration": 268,
    "start_time": "2023-03-20T13:50:17.923Z"
   },
   {
    "duration": 8,
    "start_time": "2023-03-20T13:50:18.193Z"
   },
   {
    "duration": 7,
    "start_time": "2023-03-20T13:50:18.203Z"
   },
   {
    "duration": 39,
    "start_time": "2023-03-20T13:50:18.213Z"
   },
   {
    "duration": 9,
    "start_time": "2023-03-20T13:50:18.253Z"
   },
   {
    "duration": 5,
    "start_time": "2023-03-20T13:50:18.263Z"
   },
   {
    "duration": 22,
    "start_time": "2023-03-20T13:50:18.270Z"
   },
   {
    "duration": 5,
    "start_time": "2023-03-20T13:50:18.294Z"
   },
   {
    "duration": 22,
    "start_time": "2023-03-20T13:50:18.300Z"
   },
   {
    "duration": 35,
    "start_time": "2023-03-20T13:50:18.323Z"
   },
   {
    "duration": 777,
    "start_time": "2023-03-20T13:50:18.360Z"
   },
   {
    "duration": 4,
    "start_time": "2023-03-20T13:50:19.141Z"
   },
   {
    "duration": 13,
    "start_time": "2023-03-20T13:50:19.147Z"
   },
   {
    "duration": 40,
    "start_time": "2023-03-20T13:50:19.161Z"
   },
   {
    "duration": 4912,
    "start_time": "2023-03-20T13:50:19.204Z"
   },
   {
    "duration": 691,
    "start_time": "2023-03-20T13:50:24.118Z"
   },
   {
    "duration": 1281,
    "start_time": "2023-03-20T13:50:24.810Z"
   },
   {
    "duration": 1425,
    "start_time": "2023-03-20T13:50:26.093Z"
   },
   {
    "duration": 4,
    "start_time": "2023-03-20T13:50:27.520Z"
   },
   {
    "duration": 19,
    "start_time": "2023-03-20T13:50:27.525Z"
   },
   {
    "duration": 9,
    "start_time": "2023-03-20T13:50:27.552Z"
   },
   {
    "duration": 11,
    "start_time": "2023-03-20T13:50:27.563Z"
   },
   {
    "duration": 5,
    "start_time": "2023-03-20T13:50:27.576Z"
   },
   {
    "duration": 44,
    "start_time": "2023-03-20T13:50:27.582Z"
   },
   {
    "duration": 2905,
    "start_time": "2023-03-20T13:50:27.628Z"
   },
   {
    "duration": 14,
    "start_time": "2023-03-20T13:50:30.535Z"
   },
   {
    "duration": 1701,
    "start_time": "2023-03-20T13:50:30.554Z"
   },
   {
    "duration": 3232,
    "start_time": "2023-03-20T13:50:32.266Z"
   },
   {
    "duration": 16709,
    "start_time": "2023-03-20T13:50:35.499Z"
   },
   {
    "duration": 4,
    "start_time": "2023-03-20T13:50:52.210Z"
   },
   {
    "duration": 38,
    "start_time": "2023-03-20T13:50:52.219Z"
   },
   {
    "duration": 1890,
    "start_time": "2023-03-20T13:50:52.259Z"
   },
   {
    "duration": 7,
    "start_time": "2023-03-20T13:50:54.152Z"
   },
   {
    "duration": 6,
    "start_time": "2023-03-20T13:50:54.161Z"
   },
   {
    "duration": 5,
    "start_time": "2023-03-20T13:50:54.169Z"
   },
   {
    "duration": 7,
    "start_time": "2023-03-20T13:50:54.176Z"
   },
   {
    "duration": 6,
    "start_time": "2023-03-20T13:50:54.185Z"
   },
   {
    "duration": 5,
    "start_time": "2023-03-20T13:50:54.192Z"
   },
   {
    "duration": 8,
    "start_time": "2023-03-20T13:50:54.199Z"
   },
   {
    "duration": 26,
    "start_time": "2023-03-20T13:51:36.951Z"
   },
   {
    "duration": 13,
    "start_time": "2023-03-21T09:05:54.972Z"
   },
   {
    "duration": 5,
    "start_time": "2023-03-21T09:06:01.972Z"
   },
   {
    "duration": 51,
    "start_time": "2023-03-21T09:08:49.421Z"
   },
   {
    "duration": 1426,
    "start_time": "2023-03-21T13:19:58.023Z"
   },
   {
    "duration": 1996,
    "start_time": "2023-03-21T13:19:59.451Z"
   },
   {
    "duration": 4,
    "start_time": "2023-03-21T13:20:01.449Z"
   },
   {
    "duration": 83,
    "start_time": "2023-03-21T13:20:01.455Z"
   },
   {
    "duration": 43,
    "start_time": "2023-03-21T13:20:01.540Z"
   },
   {
    "duration": 40,
    "start_time": "2023-03-21T13:20:01.585Z"
   },
   {
    "duration": 122,
    "start_time": "2023-03-21T13:20:01.626Z"
   },
   {
    "duration": 97,
    "start_time": "2023-03-21T13:20:01.750Z"
   },
   {
    "duration": 231,
    "start_time": "2023-03-21T13:20:01.849Z"
   },
   {
    "duration": 119,
    "start_time": "2023-03-21T13:20:02.082Z"
   },
   {
    "duration": 254,
    "start_time": "2023-03-21T13:20:02.203Z"
   },
   {
    "duration": 8,
    "start_time": "2023-03-21T13:20:02.460Z"
   },
   {
    "duration": 13,
    "start_time": "2023-03-21T13:20:02.470Z"
   },
   {
    "duration": 13,
    "start_time": "2023-03-21T13:20:02.486Z"
   },
   {
    "duration": 25,
    "start_time": "2023-03-21T13:20:02.501Z"
   },
   {
    "duration": 5,
    "start_time": "2023-03-21T13:20:02.528Z"
   },
   {
    "duration": 36,
    "start_time": "2023-03-21T13:20:02.535Z"
   },
   {
    "duration": 16,
    "start_time": "2023-03-21T13:20:02.573Z"
   },
   {
    "duration": 18,
    "start_time": "2023-03-21T13:20:02.590Z"
   },
   {
    "duration": 38,
    "start_time": "2023-03-21T13:20:02.610Z"
   },
   {
    "duration": 798,
    "start_time": "2023-03-21T13:20:02.649Z"
   },
   {
    "duration": 5,
    "start_time": "2023-03-21T13:20:03.449Z"
   },
   {
    "duration": 29,
    "start_time": "2023-03-21T13:20:03.455Z"
   },
   {
    "duration": 27,
    "start_time": "2023-03-21T13:20:03.486Z"
   },
   {
    "duration": 4192,
    "start_time": "2023-03-21T13:20:03.514Z"
   },
   {
    "duration": 622,
    "start_time": "2023-03-21T13:20:07.708Z"
   },
   {
    "duration": 1133,
    "start_time": "2023-03-21T13:20:08.332Z"
   },
   {
    "duration": 1102,
    "start_time": "2023-03-21T13:20:09.467Z"
   },
   {
    "duration": 3,
    "start_time": "2023-03-21T13:20:10.570Z"
   },
   {
    "duration": 15,
    "start_time": "2023-03-21T13:20:10.574Z"
   },
   {
    "duration": 11,
    "start_time": "2023-03-21T13:20:10.590Z"
   },
   {
    "duration": 19,
    "start_time": "2023-03-21T13:20:10.602Z"
   },
   {
    "duration": 11,
    "start_time": "2023-03-21T13:20:10.622Z"
   },
   {
    "duration": 35,
    "start_time": "2023-03-21T13:20:10.634Z"
   },
   {
    "duration": 25,
    "start_time": "2023-03-21T13:20:10.671Z"
   },
   {
    "duration": 2433,
    "start_time": "2023-03-21T13:20:10.698Z"
   },
   {
    "duration": 3,
    "start_time": "2023-03-21T13:20:13.133Z"
   },
   {
    "duration": 1099,
    "start_time": "2023-03-21T13:20:13.138Z"
   },
   {
    "duration": 2958,
    "start_time": "2023-03-21T13:20:14.325Z"
   },
   {
    "duration": 13239,
    "start_time": "2023-03-21T13:20:17.285Z"
   },
   {
    "duration": 4,
    "start_time": "2023-03-21T13:20:30.528Z"
   },
   {
    "duration": 166,
    "start_time": "2023-03-21T13:20:30.533Z"
   },
   {
    "duration": 0,
    "start_time": "2023-03-21T13:20:30.701Z"
   },
   {
    "duration": 0,
    "start_time": "2023-03-21T13:20:30.702Z"
   },
   {
    "duration": 0,
    "start_time": "2023-03-21T13:20:30.703Z"
   },
   {
    "duration": 0,
    "start_time": "2023-03-21T13:20:30.704Z"
   },
   {
    "duration": 0,
    "start_time": "2023-03-21T13:20:30.704Z"
   },
   {
    "duration": 0,
    "start_time": "2023-03-21T13:20:30.705Z"
   },
   {
    "duration": 0,
    "start_time": "2023-03-21T13:20:30.706Z"
   },
   {
    "duration": 0,
    "start_time": "2023-03-21T13:20:30.707Z"
   },
   {
    "duration": 1365,
    "start_time": "2023-03-21T13:20:59.225Z"
   },
   {
    "duration": 4,
    "start_time": "2023-03-21T13:21:00.592Z"
   },
   {
    "duration": 50,
    "start_time": "2023-03-21T13:21:00.597Z"
   },
   {
    "duration": 33,
    "start_time": "2023-03-21T13:21:00.649Z"
   },
   {
    "duration": 39,
    "start_time": "2023-03-21T13:21:00.684Z"
   },
   {
    "duration": 27,
    "start_time": "2023-03-21T13:21:00.725Z"
   },
   {
    "duration": 38,
    "start_time": "2023-03-21T13:21:00.754Z"
   },
   {
    "duration": 4,
    "start_time": "2023-03-21T13:21:01.326Z"
   },
   {
    "duration": 25,
    "start_time": "2023-03-21T13:28:11.693Z"
   },
   {
    "duration": 22,
    "start_time": "2023-03-21T13:30:21.450Z"
   },
   {
    "duration": 12,
    "start_time": "2023-03-21T13:30:35.617Z"
   },
   {
    "duration": 1330,
    "start_time": "2023-03-21T13:30:41.914Z"
   },
   {
    "duration": 581,
    "start_time": "2023-03-21T13:30:43.246Z"
   },
   {
    "duration": 3,
    "start_time": "2023-03-21T13:30:43.829Z"
   },
   {
    "duration": 50,
    "start_time": "2023-03-21T13:30:43.833Z"
   },
   {
    "duration": 41,
    "start_time": "2023-03-21T13:30:43.885Z"
   },
   {
    "duration": 19,
    "start_time": "2023-03-21T13:30:43.927Z"
   },
   {
    "duration": 103,
    "start_time": "2023-03-21T13:30:43.947Z"
   },
   {
    "duration": 113,
    "start_time": "2023-03-21T13:30:44.051Z"
   },
   {
    "duration": 265,
    "start_time": "2023-03-21T13:30:44.165Z"
   },
   {
    "duration": 109,
    "start_time": "2023-03-21T13:30:44.432Z"
   },
   {
    "duration": 210,
    "start_time": "2023-03-21T13:30:44.542Z"
   },
   {
    "duration": 7,
    "start_time": "2023-03-21T13:30:44.753Z"
   },
   {
    "duration": 5,
    "start_time": "2023-03-21T13:30:44.761Z"
   },
   {
    "duration": 11,
    "start_time": "2023-03-21T13:30:44.768Z"
   },
   {
    "duration": 5,
    "start_time": "2023-03-21T13:30:44.780Z"
   },
   {
    "duration": 7,
    "start_time": "2023-03-21T13:30:44.786Z"
   },
   {
    "duration": 44,
    "start_time": "2023-03-21T13:30:44.794Z"
   },
   {
    "duration": 5,
    "start_time": "2023-03-21T13:30:44.840Z"
   },
   {
    "duration": 12,
    "start_time": "2023-03-21T13:30:44.846Z"
   },
   {
    "duration": 5,
    "start_time": "2023-03-21T13:30:44.860Z"
   },
   {
    "duration": 648,
    "start_time": "2023-03-21T13:30:44.866Z"
   },
   {
    "duration": 3,
    "start_time": "2023-03-21T13:30:45.516Z"
   },
   {
    "duration": 11,
    "start_time": "2023-03-21T13:30:45.520Z"
   },
   {
    "duration": 27,
    "start_time": "2023-03-21T13:30:45.532Z"
   },
   {
    "duration": 4025,
    "start_time": "2023-03-21T13:30:45.561Z"
   },
   {
    "duration": 537,
    "start_time": "2023-03-21T13:30:49.587Z"
   },
   {
    "duration": 1245,
    "start_time": "2023-03-21T13:30:50.126Z"
   },
   {
    "duration": 1252,
    "start_time": "2023-03-21T13:30:51.373Z"
   },
   {
    "duration": 3,
    "start_time": "2023-03-21T13:30:52.627Z"
   },
   {
    "duration": 32,
    "start_time": "2023-03-21T13:30:52.631Z"
   },
   {
    "duration": 28,
    "start_time": "2023-03-21T13:30:52.664Z"
   },
   {
    "duration": 17,
    "start_time": "2023-03-21T13:30:52.693Z"
   },
   {
    "duration": 16,
    "start_time": "2023-03-21T13:30:52.711Z"
   },
   {
    "duration": 29,
    "start_time": "2023-03-21T13:30:52.728Z"
   },
   {
    "duration": 31,
    "start_time": "2023-03-21T13:30:52.758Z"
   },
   {
    "duration": 21,
    "start_time": "2023-03-21T13:30:52.790Z"
   },
   {
    "duration": 2196,
    "start_time": "2023-03-21T13:30:52.813Z"
   },
   {
    "duration": 2,
    "start_time": "2023-03-21T13:30:55.011Z"
   },
   {
    "duration": 811,
    "start_time": "2023-03-21T13:30:55.014Z"
   },
   {
    "duration": 2539,
    "start_time": "2023-03-21T13:30:55.827Z"
   },
   {
    "duration": 13490,
    "start_time": "2023-03-21T13:30:58.369Z"
   },
   {
    "duration": 4,
    "start_time": "2023-03-21T13:31:11.861Z"
   },
   {
    "duration": 1421,
    "start_time": "2023-03-21T13:31:11.866Z"
   },
   {
    "duration": 4,
    "start_time": "2023-03-21T13:31:13.288Z"
   },
   {
    "duration": 11,
    "start_time": "2023-03-21T13:31:13.294Z"
   },
   {
    "duration": 7,
    "start_time": "2023-03-21T13:31:13.307Z"
   },
   {
    "duration": 6,
    "start_time": "2023-03-21T13:31:13.315Z"
   },
   {
    "duration": 5,
    "start_time": "2023-03-21T13:31:13.323Z"
   },
   {
    "duration": 9,
    "start_time": "2023-03-21T13:31:13.330Z"
   },
   {
    "duration": 8,
    "start_time": "2023-03-21T13:31:13.340Z"
   },
   {
    "duration": 7,
    "start_time": "2023-03-21T13:31:13.350Z"
   },
   {
    "duration": 26,
    "start_time": "2023-03-21T13:31:19.535Z"
   },
   {
    "duration": 24,
    "start_time": "2023-03-21T13:31:42.713Z"
   },
   {
    "duration": 25,
    "start_time": "2023-03-21T13:31:50.023Z"
   },
   {
    "duration": 1285,
    "start_time": "2023-03-21T13:32:35.132Z"
   },
   {
    "duration": 553,
    "start_time": "2023-03-21T13:32:36.419Z"
   },
   {
    "duration": 4,
    "start_time": "2023-03-21T13:32:36.974Z"
   },
   {
    "duration": 65,
    "start_time": "2023-03-21T13:32:36.979Z"
   },
   {
    "duration": 41,
    "start_time": "2023-03-21T13:32:37.046Z"
   },
   {
    "duration": 39,
    "start_time": "2023-03-21T13:32:37.088Z"
   },
   {
    "duration": 117,
    "start_time": "2023-03-21T13:32:37.129Z"
   },
   {
    "duration": 87,
    "start_time": "2023-03-21T13:32:37.248Z"
   },
   {
    "duration": 222,
    "start_time": "2023-03-21T13:32:37.337Z"
   },
   {
    "duration": 126,
    "start_time": "2023-03-21T13:32:37.561Z"
   },
   {
    "duration": 234,
    "start_time": "2023-03-21T13:32:37.688Z"
   },
   {
    "duration": 8,
    "start_time": "2023-03-21T13:32:37.924Z"
   },
   {
    "duration": 7,
    "start_time": "2023-03-21T13:32:37.933Z"
   },
   {
    "duration": 13,
    "start_time": "2023-03-21T13:32:37.942Z"
   },
   {
    "duration": 4,
    "start_time": "2023-03-21T13:32:37.956Z"
   },
   {
    "duration": 4,
    "start_time": "2023-03-21T13:32:37.962Z"
   },
   {
    "duration": 26,
    "start_time": "2023-03-21T13:32:37.967Z"
   },
   {
    "duration": 6,
    "start_time": "2023-03-21T13:32:37.994Z"
   },
   {
    "duration": 10,
    "start_time": "2023-03-21T13:32:38.023Z"
   },
   {
    "duration": 5,
    "start_time": "2023-03-21T13:32:38.034Z"
   },
   {
    "duration": 629,
    "start_time": "2023-03-21T13:32:38.041Z"
   },
   {
    "duration": 3,
    "start_time": "2023-03-21T13:32:38.672Z"
   },
   {
    "duration": 8,
    "start_time": "2023-03-21T13:32:38.677Z"
   },
   {
    "duration": 27,
    "start_time": "2023-03-21T13:32:38.686Z"
   },
   {
    "duration": 4367,
    "start_time": "2023-03-21T13:32:38.714Z"
   },
   {
    "duration": 552,
    "start_time": "2023-03-21T13:32:43.083Z"
   },
   {
    "duration": 1298,
    "start_time": "2023-03-21T13:32:43.636Z"
   },
   {
    "duration": 1225,
    "start_time": "2023-03-21T13:32:44.936Z"
   },
   {
    "duration": 2,
    "start_time": "2023-03-21T13:32:46.163Z"
   },
   {
    "duration": 7,
    "start_time": "2023-03-21T13:32:46.167Z"
   },
   {
    "duration": 26,
    "start_time": "2023-03-21T13:32:46.175Z"
   },
   {
    "duration": 4,
    "start_time": "2023-03-21T13:32:46.203Z"
   },
   {
    "duration": 9,
    "start_time": "2023-03-21T13:32:46.208Z"
   },
   {
    "duration": 7,
    "start_time": "2023-03-21T13:32:46.218Z"
   },
   {
    "duration": 8,
    "start_time": "2023-03-21T13:32:46.226Z"
   },
   {
    "duration": 6,
    "start_time": "2023-03-21T13:32:46.235Z"
   },
   {
    "duration": 28,
    "start_time": "2023-03-21T13:32:46.242Z"
   },
   {
    "duration": 21,
    "start_time": "2023-03-21T13:32:46.271Z"
   },
   {
    "duration": 38,
    "start_time": "2023-03-21T13:32:46.294Z"
   },
   {
    "duration": 25,
    "start_time": "2023-03-21T13:32:46.334Z"
   },
   {
    "duration": 2254,
    "start_time": "2023-03-21T13:32:46.363Z"
   },
   {
    "duration": 2,
    "start_time": "2023-03-21T13:32:48.624Z"
   },
   {
    "duration": 605,
    "start_time": "2023-03-21T13:32:48.628Z"
   },
   {
    "duration": 2774,
    "start_time": "2023-03-21T13:32:49.234Z"
   },
   {
    "duration": 13122,
    "start_time": "2023-03-21T13:32:52.010Z"
   },
   {
    "duration": 1263,
    "start_time": "2023-03-21T13:33:05.134Z"
   },
   {
    "duration": 0,
    "start_time": "2023-03-21T13:33:06.398Z"
   },
   {
    "duration": 0,
    "start_time": "2023-03-21T13:33:06.399Z"
   },
   {
    "duration": 0,
    "start_time": "2023-03-21T13:33:06.400Z"
   },
   {
    "duration": 0,
    "start_time": "2023-03-21T13:33:06.401Z"
   },
   {
    "duration": 0,
    "start_time": "2023-03-21T13:33:06.402Z"
   },
   {
    "duration": 0,
    "start_time": "2023-03-21T13:33:06.403Z"
   },
   {
    "duration": 0,
    "start_time": "2023-03-21T13:33:06.404Z"
   },
   {
    "duration": 0,
    "start_time": "2023-03-21T13:33:06.405Z"
   },
   {
    "duration": 1276,
    "start_time": "2023-03-21T13:35:56.849Z"
   },
   {
    "duration": 1356,
    "start_time": "2023-03-21T13:36:07.340Z"
   },
   {
    "duration": 566,
    "start_time": "2023-03-21T13:36:08.698Z"
   },
   {
    "duration": 3,
    "start_time": "2023-03-21T13:36:09.265Z"
   },
   {
    "duration": 57,
    "start_time": "2023-03-21T13:36:09.270Z"
   },
   {
    "duration": 37,
    "start_time": "2023-03-21T13:36:09.329Z"
   },
   {
    "duration": 18,
    "start_time": "2023-03-21T13:36:09.367Z"
   },
   {
    "duration": 139,
    "start_time": "2023-03-21T13:36:09.386Z"
   },
   {
    "duration": 77,
    "start_time": "2023-03-21T13:36:09.527Z"
   },
   {
    "duration": 204,
    "start_time": "2023-03-21T13:36:09.605Z"
   },
   {
    "duration": 121,
    "start_time": "2023-03-21T13:36:09.811Z"
   },
   {
    "duration": 213,
    "start_time": "2023-03-21T13:36:09.933Z"
   },
   {
    "duration": 8,
    "start_time": "2023-03-21T13:36:10.147Z"
   },
   {
    "duration": 15,
    "start_time": "2023-03-21T13:36:10.156Z"
   },
   {
    "duration": 9,
    "start_time": "2023-03-21T13:36:10.174Z"
   },
   {
    "duration": 4,
    "start_time": "2023-03-21T13:36:10.185Z"
   },
   {
    "duration": 20,
    "start_time": "2023-03-21T13:36:10.191Z"
   },
   {
    "duration": 28,
    "start_time": "2023-03-21T13:36:10.212Z"
   },
   {
    "duration": 16,
    "start_time": "2023-03-21T13:36:10.242Z"
   },
   {
    "duration": 13,
    "start_time": "2023-03-21T13:36:10.259Z"
   },
   {
    "duration": 5,
    "start_time": "2023-03-21T13:36:10.273Z"
   },
   {
    "duration": 647,
    "start_time": "2023-03-21T13:36:10.280Z"
   },
   {
    "duration": 4,
    "start_time": "2023-03-21T13:36:10.928Z"
   },
   {
    "duration": 7,
    "start_time": "2023-03-21T13:36:10.933Z"
   },
   {
    "duration": 26,
    "start_time": "2023-03-21T13:36:10.941Z"
   },
   {
    "duration": 4347,
    "start_time": "2023-03-21T13:36:10.968Z"
   },
   {
    "duration": 631,
    "start_time": "2023-03-21T13:36:15.317Z"
   },
   {
    "duration": 1223,
    "start_time": "2023-03-21T13:36:15.950Z"
   },
   {
    "duration": 1156,
    "start_time": "2023-03-21T13:36:17.175Z"
   },
   {
    "duration": 3,
    "start_time": "2023-03-21T13:36:18.332Z"
   },
   {
    "duration": 10,
    "start_time": "2023-03-21T13:36:18.337Z"
   },
   {
    "duration": 10,
    "start_time": "2023-03-21T13:36:18.349Z"
   },
   {
    "duration": 10,
    "start_time": "2023-03-21T13:36:18.360Z"
   },
   {
    "duration": 8,
    "start_time": "2023-03-21T13:36:18.372Z"
   },
   {
    "duration": 7,
    "start_time": "2023-03-21T13:36:18.382Z"
   },
   {
    "duration": 8,
    "start_time": "2023-03-21T13:36:18.390Z"
   },
   {
    "duration": 6,
    "start_time": "2023-03-21T13:36:18.399Z"
   },
   {
    "duration": 33,
    "start_time": "2023-03-21T13:36:18.407Z"
   },
   {
    "duration": 23,
    "start_time": "2023-03-21T13:36:18.441Z"
   },
   {
    "duration": 25,
    "start_time": "2023-03-21T13:36:18.465Z"
   },
   {
    "duration": 42,
    "start_time": "2023-03-21T13:36:18.492Z"
   },
   {
    "duration": 2223,
    "start_time": "2023-03-21T13:36:18.537Z"
   },
   {
    "duration": 3,
    "start_time": "2023-03-21T13:36:20.762Z"
   },
   {
    "duration": 1059,
    "start_time": "2023-03-21T13:36:20.766Z"
   },
   {
    "duration": 2611,
    "start_time": "2023-03-21T13:36:21.827Z"
   },
   {
    "duration": 13502,
    "start_time": "2023-03-21T13:36:24.439Z"
   },
   {
    "duration": 1308,
    "start_time": "2023-03-21T13:36:37.942Z"
   },
   {
    "duration": 0,
    "start_time": "2023-03-21T13:36:39.252Z"
   },
   {
    "duration": 0,
    "start_time": "2023-03-21T13:36:39.253Z"
   },
   {
    "duration": 0,
    "start_time": "2023-03-21T13:36:39.254Z"
   },
   {
    "duration": 0,
    "start_time": "2023-03-21T13:36:39.254Z"
   },
   {
    "duration": 0,
    "start_time": "2023-03-21T13:36:39.255Z"
   },
   {
    "duration": 0,
    "start_time": "2023-03-21T13:36:39.256Z"
   },
   {
    "duration": 0,
    "start_time": "2023-03-21T13:36:39.257Z"
   },
   {
    "duration": 3,
    "start_time": "2023-03-21T13:37:38.024Z"
   },
   {
    "duration": 1259,
    "start_time": "2023-03-21T13:37:38.441Z"
   },
   {
    "duration": 8,
    "start_time": "2023-03-21T13:37:39.701Z"
   },
   {
    "duration": 8,
    "start_time": "2023-03-21T13:37:39.837Z"
   },
   {
    "duration": 8,
    "start_time": "2023-03-21T13:37:40.009Z"
   },
   {
    "duration": 4,
    "start_time": "2023-03-21T13:38:08.053Z"
   },
   {
    "duration": 10,
    "start_time": "2023-03-21T13:38:08.995Z"
   },
   {
    "duration": 11,
    "start_time": "2023-03-21T13:38:09.149Z"
   },
   {
    "duration": 10,
    "start_time": "2023-03-21T13:38:09.310Z"
   },
   {
    "duration": 1136,
    "start_time": "2023-03-21T13:38:57.083Z"
   },
   {
    "duration": 0,
    "start_time": "2023-03-21T13:38:58.221Z"
   },
   {
    "duration": 1273,
    "start_time": "2023-03-21T13:40:18.985Z"
   },
   {
    "duration": 569,
    "start_time": "2023-03-21T13:40:20.260Z"
   },
   {
    "duration": 3,
    "start_time": "2023-03-21T13:40:20.831Z"
   },
   {
    "duration": 63,
    "start_time": "2023-03-21T13:40:20.835Z"
   },
   {
    "duration": 39,
    "start_time": "2023-03-21T13:40:20.900Z"
   },
   {
    "duration": 17,
    "start_time": "2023-03-21T13:40:20.940Z"
   },
   {
    "duration": 117,
    "start_time": "2023-03-21T13:40:20.959Z"
   },
   {
    "duration": 83,
    "start_time": "2023-03-21T13:40:21.077Z"
   },
   {
    "duration": 194,
    "start_time": "2023-03-21T13:40:21.161Z"
   },
   {
    "duration": 112,
    "start_time": "2023-03-21T13:40:21.356Z"
   },
   {
    "duration": 231,
    "start_time": "2023-03-21T13:40:21.470Z"
   },
   {
    "duration": 8,
    "start_time": "2023-03-21T13:40:21.702Z"
   },
   {
    "duration": 16,
    "start_time": "2023-03-21T13:40:21.712Z"
   },
   {
    "duration": 9,
    "start_time": "2023-03-21T13:40:21.730Z"
   },
   {
    "duration": 5,
    "start_time": "2023-03-21T13:40:21.740Z"
   },
   {
    "duration": 10,
    "start_time": "2023-03-21T13:40:21.747Z"
   },
   {
    "duration": 21,
    "start_time": "2023-03-21T13:40:21.759Z"
   },
   {
    "duration": 8,
    "start_time": "2023-03-21T13:40:21.781Z"
   },
   {
    "duration": 14,
    "start_time": "2023-03-21T13:40:21.791Z"
   },
   {
    "duration": 21,
    "start_time": "2023-03-21T13:40:21.806Z"
   },
   {
    "duration": 631,
    "start_time": "2023-03-21T13:40:21.828Z"
   },
   {
    "duration": 4,
    "start_time": "2023-03-21T13:40:22.460Z"
   },
   {
    "duration": 32,
    "start_time": "2023-03-21T13:40:22.466Z"
   },
   {
    "duration": 34,
    "start_time": "2023-03-21T13:40:22.500Z"
   },
   {
    "duration": 3964,
    "start_time": "2023-03-21T13:40:22.535Z"
   },
   {
    "duration": 647,
    "start_time": "2023-03-21T13:40:26.501Z"
   },
   {
    "duration": 1231,
    "start_time": "2023-03-21T13:40:27.150Z"
   },
   {
    "duration": 1138,
    "start_time": "2023-03-21T13:40:28.383Z"
   },
   {
    "duration": 3,
    "start_time": "2023-03-21T13:40:29.523Z"
   },
   {
    "duration": 6,
    "start_time": "2023-03-21T13:40:29.528Z"
   },
   {
    "duration": 13,
    "start_time": "2023-03-21T13:40:29.535Z"
   },
   {
    "duration": 5,
    "start_time": "2023-03-21T13:40:29.549Z"
   },
   {
    "duration": 5,
    "start_time": "2023-03-21T13:40:29.555Z"
   },
   {
    "duration": 12,
    "start_time": "2023-03-21T13:40:29.561Z"
   },
   {
    "duration": 8,
    "start_time": "2023-03-21T13:40:29.574Z"
   },
   {
    "duration": 6,
    "start_time": "2023-03-21T13:40:29.583Z"
   },
   {
    "duration": 8,
    "start_time": "2023-03-21T13:40:29.590Z"
   },
   {
    "duration": 39,
    "start_time": "2023-03-21T13:40:29.600Z"
   },
   {
    "duration": 21,
    "start_time": "2023-03-21T13:40:29.641Z"
   },
   {
    "duration": 23,
    "start_time": "2023-03-21T13:40:29.663Z"
   },
   {
    "duration": 41,
    "start_time": "2023-03-21T13:40:29.692Z"
   },
   {
    "duration": 2230,
    "start_time": "2023-03-21T13:40:29.735Z"
   },
   {
    "duration": 3,
    "start_time": "2023-03-21T13:40:31.967Z"
   },
   {
    "duration": 765,
    "start_time": "2023-03-21T13:40:31.971Z"
   },
   {
    "duration": 2660,
    "start_time": "2023-03-21T13:40:32.738Z"
   },
   {
    "duration": 13608,
    "start_time": "2023-03-21T13:40:35.400Z"
   },
   {
    "duration": 1289,
    "start_time": "2023-03-21T13:40:49.009Z"
   },
   {
    "duration": 4,
    "start_time": "2023-03-21T13:40:50.300Z"
   },
   {
    "duration": 8,
    "start_time": "2023-03-21T13:40:50.305Z"
   },
   {
    "duration": 5,
    "start_time": "2023-03-21T13:40:50.314Z"
   },
   {
    "duration": 23,
    "start_time": "2023-03-21T13:40:50.321Z"
   },
   {
    "duration": 15,
    "start_time": "2023-03-21T13:40:50.345Z"
   },
   {
    "duration": 14,
    "start_time": "2023-03-21T13:40:50.361Z"
   },
   {
    "duration": 12,
    "start_time": "2023-03-21T13:40:50.376Z"
   },
   {
    "duration": 1366,
    "start_time": "2023-03-21T13:42:13.913Z"
   },
   {
    "duration": 645,
    "start_time": "2023-03-21T13:42:15.281Z"
   },
   {
    "duration": 3,
    "start_time": "2023-03-21T13:42:15.928Z"
   },
   {
    "duration": 53,
    "start_time": "2023-03-21T13:42:15.933Z"
   },
   {
    "duration": 56,
    "start_time": "2023-03-21T13:42:15.988Z"
   },
   {
    "duration": 17,
    "start_time": "2023-03-21T13:42:16.046Z"
   },
   {
    "duration": 116,
    "start_time": "2023-03-21T13:42:16.065Z"
   },
   {
    "duration": 89,
    "start_time": "2023-03-21T13:42:16.182Z"
   },
   {
    "duration": 205,
    "start_time": "2023-03-21T13:42:16.273Z"
   },
   {
    "duration": 114,
    "start_time": "2023-03-21T13:42:16.479Z"
   },
   {
    "duration": 226,
    "start_time": "2023-03-21T13:42:16.594Z"
   },
   {
    "duration": 8,
    "start_time": "2023-03-21T13:42:16.822Z"
   },
   {
    "duration": 5,
    "start_time": "2023-03-21T13:42:16.831Z"
   },
   {
    "duration": 10,
    "start_time": "2023-03-21T13:42:16.839Z"
   },
   {
    "duration": 4,
    "start_time": "2023-03-21T13:42:16.850Z"
   },
   {
    "duration": 6,
    "start_time": "2023-03-21T13:42:16.856Z"
   },
   {
    "duration": 20,
    "start_time": "2023-03-21T13:42:16.863Z"
   },
   {
    "duration": 8,
    "start_time": "2023-03-21T13:42:16.885Z"
   },
   {
    "duration": 35,
    "start_time": "2023-03-21T13:42:16.894Z"
   },
   {
    "duration": 5,
    "start_time": "2023-03-21T13:42:16.930Z"
   },
   {
    "duration": 633,
    "start_time": "2023-03-21T13:42:16.937Z"
   },
   {
    "duration": 4,
    "start_time": "2023-03-21T13:42:17.572Z"
   },
   {
    "duration": 19,
    "start_time": "2023-03-21T13:42:17.577Z"
   },
   {
    "duration": 48,
    "start_time": "2023-03-21T13:42:17.598Z"
   },
   {
    "duration": 4279,
    "start_time": "2023-03-21T13:42:17.648Z"
   },
   {
    "duration": 657,
    "start_time": "2023-03-21T13:42:21.928Z"
   },
   {
    "duration": 1194,
    "start_time": "2023-03-21T13:42:22.587Z"
   },
   {
    "duration": 1180,
    "start_time": "2023-03-21T13:42:23.783Z"
   },
   {
    "duration": 3,
    "start_time": "2023-03-21T13:42:24.965Z"
   },
   {
    "duration": 10,
    "start_time": "2023-03-21T13:42:24.970Z"
   },
   {
    "duration": 9,
    "start_time": "2023-03-21T13:42:24.982Z"
   },
   {
    "duration": 6,
    "start_time": "2023-03-21T13:42:24.992Z"
   },
   {
    "duration": 5,
    "start_time": "2023-03-21T13:42:24.999Z"
   },
   {
    "duration": 9,
    "start_time": "2023-03-21T13:42:25.005Z"
   },
   {
    "duration": 11,
    "start_time": "2023-03-21T13:42:25.015Z"
   },
   {
    "duration": 6,
    "start_time": "2023-03-21T13:42:25.027Z"
   },
   {
    "duration": 11,
    "start_time": "2023-03-21T13:42:25.035Z"
   },
   {
    "duration": 27,
    "start_time": "2023-03-21T13:42:25.047Z"
   },
   {
    "duration": 26,
    "start_time": "2023-03-21T13:42:25.076Z"
   },
   {
    "duration": 30,
    "start_time": "2023-03-21T13:42:25.104Z"
   },
   {
    "duration": 2271,
    "start_time": "2023-03-21T13:42:25.138Z"
   },
   {
    "duration": 2,
    "start_time": "2023-03-21T13:42:27.411Z"
   },
   {
    "duration": 822,
    "start_time": "2023-03-21T13:42:27.415Z"
   },
   {
    "duration": 2690,
    "start_time": "2023-03-21T13:42:28.323Z"
   },
   {
    "duration": 13168,
    "start_time": "2023-03-21T13:42:31.014Z"
   },
   {
    "duration": 1311,
    "start_time": "2023-03-21T13:42:44.184Z"
   },
   {
    "duration": 102,
    "start_time": "2023-03-21T13:42:45.497Z"
   },
   {
    "duration": 0,
    "start_time": "2023-03-21T13:42:45.600Z"
   },
   {
    "duration": 0,
    "start_time": "2023-03-21T13:42:45.602Z"
   },
   {
    "duration": 0,
    "start_time": "2023-03-21T13:42:45.603Z"
   },
   {
    "duration": 0,
    "start_time": "2023-03-21T13:42:45.604Z"
   },
   {
    "duration": 0,
    "start_time": "2023-03-21T13:42:45.606Z"
   },
   {
    "duration": 0,
    "start_time": "2023-03-21T13:42:45.607Z"
   },
   {
    "duration": 293,
    "start_time": "2023-03-21T13:42:57.114Z"
   },
   {
    "duration": 8,
    "start_time": "2023-03-21T13:43:25.295Z"
   },
   {
    "duration": 9,
    "start_time": "2023-03-21T13:43:26.214Z"
   },
   {
    "duration": 317,
    "start_time": "2023-03-21T13:43:33.941Z"
   },
   {
    "duration": 8,
    "start_time": "2023-03-21T13:43:34.527Z"
   },
   {
    "duration": 11,
    "start_time": "2023-03-21T13:47:27.819Z"
   },
   {
    "duration": 8,
    "start_time": "2023-03-21T13:47:33.750Z"
   },
   {
    "duration": 1247,
    "start_time": "2023-03-21T13:48:20.991Z"
   },
   {
    "duration": 663,
    "start_time": "2023-03-21T13:48:22.240Z"
   },
   {
    "duration": 4,
    "start_time": "2023-03-21T13:48:22.904Z"
   },
   {
    "duration": 57,
    "start_time": "2023-03-21T13:48:22.910Z"
   },
   {
    "duration": 36,
    "start_time": "2023-03-21T13:48:22.969Z"
   },
   {
    "duration": 33,
    "start_time": "2023-03-21T13:48:23.007Z"
   },
   {
    "duration": 110,
    "start_time": "2023-03-21T13:48:23.041Z"
   },
   {
    "duration": 85,
    "start_time": "2023-03-21T13:48:23.153Z"
   },
   {
    "duration": 194,
    "start_time": "2023-03-21T13:48:23.239Z"
   },
   {
    "duration": 113,
    "start_time": "2023-03-21T13:48:23.434Z"
   },
   {
    "duration": 211,
    "start_time": "2023-03-21T13:48:23.548Z"
   },
   {
    "duration": 7,
    "start_time": "2023-03-21T13:48:23.760Z"
   },
   {
    "duration": 5,
    "start_time": "2023-03-21T13:48:23.768Z"
   },
   {
    "duration": 14,
    "start_time": "2023-03-21T13:48:23.775Z"
   },
   {
    "duration": 5,
    "start_time": "2023-03-21T13:48:23.790Z"
   },
   {
    "duration": 5,
    "start_time": "2023-03-21T13:48:23.796Z"
   },
   {
    "duration": 33,
    "start_time": "2023-03-21T13:48:23.803Z"
   },
   {
    "duration": 10,
    "start_time": "2023-03-21T13:48:23.838Z"
   },
   {
    "duration": 11,
    "start_time": "2023-03-21T13:48:23.850Z"
   },
   {
    "duration": 6,
    "start_time": "2023-03-21T13:48:23.862Z"
   },
   {
    "duration": 660,
    "start_time": "2023-03-21T13:48:23.870Z"
   },
   {
    "duration": 4,
    "start_time": "2023-03-21T13:48:24.532Z"
   },
   {
    "duration": 5,
    "start_time": "2023-03-21T13:48:24.538Z"
   },
   {
    "duration": 25,
    "start_time": "2023-03-21T13:48:24.545Z"
   },
   {
    "duration": 4197,
    "start_time": "2023-03-21T13:48:24.572Z"
   },
   {
    "duration": 659,
    "start_time": "2023-03-21T13:48:28.770Z"
   },
   {
    "duration": 1242,
    "start_time": "2023-03-21T13:48:29.431Z"
   },
   {
    "duration": 1090,
    "start_time": "2023-03-21T13:48:30.675Z"
   },
   {
    "duration": 2,
    "start_time": "2023-03-21T13:48:31.767Z"
   },
   {
    "duration": 30,
    "start_time": "2023-03-21T13:48:31.771Z"
   },
   {
    "duration": 28,
    "start_time": "2023-03-21T13:48:31.803Z"
   },
   {
    "duration": 19,
    "start_time": "2023-03-21T13:48:31.832Z"
   },
   {
    "duration": 23,
    "start_time": "2023-03-21T13:48:31.852Z"
   },
   {
    "duration": 11,
    "start_time": "2023-03-21T13:48:31.876Z"
   },
   {
    "duration": 13,
    "start_time": "2023-03-21T13:48:31.888Z"
   },
   {
    "duration": 13,
    "start_time": "2023-03-21T13:48:31.903Z"
   },
   {
    "duration": 14,
    "start_time": "2023-03-21T13:48:31.917Z"
   },
   {
    "duration": 10,
    "start_time": "2023-03-21T13:48:31.932Z"
   },
   {
    "duration": 37,
    "start_time": "2023-03-21T13:48:31.943Z"
   },
   {
    "duration": 21,
    "start_time": "2023-03-21T13:48:31.981Z"
   },
   {
    "duration": 23,
    "start_time": "2023-03-21T13:48:32.005Z"
   },
   {
    "duration": 2295,
    "start_time": "2023-03-21T13:48:32.030Z"
   },
   {
    "duration": 3,
    "start_time": "2023-03-21T13:48:34.327Z"
   },
   {
    "duration": 1502,
    "start_time": "2023-03-21T13:48:34.331Z"
   },
   {
    "duration": 2578,
    "start_time": "2023-03-21T13:48:35.835Z"
   },
   {
    "duration": 13271,
    "start_time": "2023-03-21T13:48:38.415Z"
   },
   {
    "duration": 1335,
    "start_time": "2023-03-21T13:48:51.688Z"
   },
   {
    "duration": 4,
    "start_time": "2023-03-21T13:48:53.024Z"
   },
   {
    "duration": 8,
    "start_time": "2023-03-21T13:48:53.029Z"
   },
   {
    "duration": 11,
    "start_time": "2023-03-21T13:48:53.038Z"
   },
   {
    "duration": 18,
    "start_time": "2023-03-21T13:48:53.050Z"
   },
   {
    "duration": 14,
    "start_time": "2023-03-21T13:48:53.070Z"
   },
   {
    "duration": 12,
    "start_time": "2023-03-21T13:48:53.085Z"
   },
   {
    "duration": 19,
    "start_time": "2023-03-21T13:48:53.098Z"
   },
   {
    "duration": 5,
    "start_time": "2023-03-21T13:49:35.320Z"
   },
   {
    "duration": 99,
    "start_time": "2023-03-21T13:50:20.043Z"
   },
   {
    "duration": 10,
    "start_time": "2023-03-21T13:55:32.829Z"
   },
   {
    "duration": 11,
    "start_time": "2023-03-21T13:55:34.699Z"
   },
   {
    "duration": 10,
    "start_time": "2023-03-21T13:55:35.654Z"
   },
   {
    "duration": 5,
    "start_time": "2023-03-21T13:55:49.054Z"
   },
   {
    "duration": 10,
    "start_time": "2023-03-21T13:55:49.796Z"
   },
   {
    "duration": 13,
    "start_time": "2023-03-21T13:56:30.096Z"
   },
   {
    "duration": 5,
    "start_time": "2023-03-21T13:56:51.133Z"
   },
   {
    "duration": 4,
    "start_time": "2023-03-21T13:56:51.931Z"
   },
   {
    "duration": 2,
    "start_time": "2023-03-21T13:57:04.850Z"
   },
   {
    "duration": 9,
    "start_time": "2023-03-21T13:57:12.385Z"
   },
   {
    "duration": 2,
    "start_time": "2023-03-21T13:57:36.550Z"
   },
   {
    "duration": 3,
    "start_time": "2023-03-21T13:57:37.032Z"
   },
   {
    "duration": 1288,
    "start_time": "2023-03-21T14:00:08.382Z"
   },
   {
    "duration": 624,
    "start_time": "2023-03-21T14:00:09.672Z"
   },
   {
    "duration": 3,
    "start_time": "2023-03-21T14:00:10.298Z"
   },
   {
    "duration": 64,
    "start_time": "2023-03-21T14:00:10.302Z"
   },
   {
    "duration": 37,
    "start_time": "2023-03-21T14:00:10.368Z"
   },
   {
    "duration": 18,
    "start_time": "2023-03-21T14:00:10.424Z"
   },
   {
    "duration": 115,
    "start_time": "2023-03-21T14:00:10.443Z"
   },
   {
    "duration": 88,
    "start_time": "2023-03-21T14:00:10.560Z"
   },
   {
    "duration": 229,
    "start_time": "2023-03-21T14:00:10.650Z"
   },
   {
    "duration": 122,
    "start_time": "2023-03-21T14:00:10.881Z"
   },
   {
    "duration": 215,
    "start_time": "2023-03-21T14:00:11.004Z"
   },
   {
    "duration": 10,
    "start_time": "2023-03-21T14:00:11.220Z"
   },
   {
    "duration": 33,
    "start_time": "2023-03-21T14:00:11.231Z"
   },
   {
    "duration": 10,
    "start_time": "2023-03-21T14:00:11.266Z"
   },
   {
    "duration": 6,
    "start_time": "2023-03-21T14:00:11.278Z"
   },
   {
    "duration": 6,
    "start_time": "2023-03-21T14:00:11.285Z"
   },
   {
    "duration": 21,
    "start_time": "2023-03-21T14:00:11.292Z"
   },
   {
    "duration": 10,
    "start_time": "2023-03-21T14:00:11.314Z"
   },
   {
    "duration": 15,
    "start_time": "2023-03-21T14:00:11.325Z"
   },
   {
    "duration": 5,
    "start_time": "2023-03-21T14:00:11.341Z"
   },
   {
    "duration": 720,
    "start_time": "2023-03-21T14:00:11.347Z"
   },
   {
    "duration": 5,
    "start_time": "2023-03-21T14:00:12.068Z"
   },
   {
    "duration": 8,
    "start_time": "2023-03-21T14:00:12.074Z"
   },
   {
    "duration": 30,
    "start_time": "2023-03-21T14:00:12.083Z"
   },
   {
    "duration": 4585,
    "start_time": "2023-03-21T14:00:12.115Z"
   },
   {
    "duration": 642,
    "start_time": "2023-03-21T14:00:16.702Z"
   },
   {
    "duration": 1249,
    "start_time": "2023-03-21T14:00:17.345Z"
   },
   {
    "duration": 1183,
    "start_time": "2023-03-21T14:00:18.595Z"
   },
   {
    "duration": 3,
    "start_time": "2023-03-21T14:00:19.779Z"
   },
   {
    "duration": 6,
    "start_time": "2023-03-21T14:00:19.783Z"
   },
   {
    "duration": 10,
    "start_time": "2023-03-21T14:00:19.790Z"
   },
   {
    "duration": 8,
    "start_time": "2023-03-21T14:00:19.801Z"
   },
   {
    "duration": 6,
    "start_time": "2023-03-21T14:00:19.810Z"
   },
   {
    "duration": 6,
    "start_time": "2023-03-21T14:00:19.818Z"
   },
   {
    "duration": 10,
    "start_time": "2023-03-21T14:00:19.825Z"
   },
   {
    "duration": 7,
    "start_time": "2023-03-21T14:00:19.836Z"
   },
   {
    "duration": 5,
    "start_time": "2023-03-21T14:00:19.844Z"
   },
   {
    "duration": 9,
    "start_time": "2023-03-21T14:00:19.851Z"
   },
   {
    "duration": 27,
    "start_time": "2023-03-21T14:00:19.861Z"
   },
   {
    "duration": 38,
    "start_time": "2023-03-21T14:00:19.889Z"
   },
   {
    "duration": 23,
    "start_time": "2023-03-21T14:00:19.931Z"
   },
   {
    "duration": 6,
    "start_time": "2023-03-21T14:00:19.956Z"
   },
   {
    "duration": 19,
    "start_time": "2023-03-21T14:00:19.964Z"
   },
   {
    "duration": 11,
    "start_time": "2023-03-21T14:00:19.984Z"
   },
   {
    "duration": 4,
    "start_time": "2023-03-21T14:00:19.997Z"
   },
   {
    "duration": 11,
    "start_time": "2023-03-21T14:00:20.002Z"
   },
   {
    "duration": 7,
    "start_time": "2023-03-21T14:00:20.014Z"
   },
   {
    "duration": 1311,
    "start_time": "2023-03-21T14:01:25.945Z"
   },
   {
    "duration": 639,
    "start_time": "2023-03-21T14:01:27.257Z"
   },
   {
    "duration": 4,
    "start_time": "2023-03-21T14:01:27.899Z"
   },
   {
    "duration": 60,
    "start_time": "2023-03-21T14:01:27.905Z"
   },
   {
    "duration": 36,
    "start_time": "2023-03-21T14:01:27.966Z"
   },
   {
    "duration": 36,
    "start_time": "2023-03-21T14:01:28.003Z"
   },
   {
    "duration": 111,
    "start_time": "2023-03-21T14:01:28.040Z"
   },
   {
    "duration": 93,
    "start_time": "2023-03-21T14:01:28.152Z"
   },
   {
    "duration": 197,
    "start_time": "2023-03-21T14:01:28.247Z"
   },
   {
    "duration": 112,
    "start_time": "2023-03-21T14:01:28.447Z"
   },
   {
    "duration": 216,
    "start_time": "2023-03-21T14:01:28.561Z"
   },
   {
    "duration": 8,
    "start_time": "2023-03-21T14:01:28.779Z"
   },
   {
    "duration": 6,
    "start_time": "2023-03-21T14:01:28.789Z"
   },
   {
    "duration": 29,
    "start_time": "2023-03-21T14:01:28.796Z"
   },
   {
    "duration": 5,
    "start_time": "2023-03-21T14:01:28.826Z"
   },
   {
    "duration": 6,
    "start_time": "2023-03-21T14:01:28.833Z"
   },
   {
    "duration": 29,
    "start_time": "2023-03-21T14:01:28.840Z"
   },
   {
    "duration": 5,
    "start_time": "2023-03-21T14:01:28.870Z"
   },
   {
    "duration": 14,
    "start_time": "2023-03-21T14:01:28.876Z"
   },
   {
    "duration": 5,
    "start_time": "2023-03-21T14:01:28.892Z"
   },
   {
    "duration": 632,
    "start_time": "2023-03-21T14:01:28.898Z"
   },
   {
    "duration": 4,
    "start_time": "2023-03-21T14:01:29.532Z"
   },
   {
    "duration": 10,
    "start_time": "2023-03-21T14:01:29.537Z"
   },
   {
    "duration": 26,
    "start_time": "2023-03-21T14:01:29.548Z"
   },
   {
    "duration": 4639,
    "start_time": "2023-03-21T14:01:29.576Z"
   },
   {
    "duration": 633,
    "start_time": "2023-03-21T14:01:34.217Z"
   },
   {
    "duration": 1247,
    "start_time": "2023-03-21T14:01:34.852Z"
   },
   {
    "duration": 1300,
    "start_time": "2023-03-21T14:01:36.102Z"
   },
   {
    "duration": 3,
    "start_time": "2023-03-21T14:01:37.404Z"
   },
   {
    "duration": 7,
    "start_time": "2023-03-21T14:01:37.408Z"
   },
   {
    "duration": 13,
    "start_time": "2023-03-21T14:01:37.416Z"
   },
   {
    "duration": 5,
    "start_time": "2023-03-21T14:01:37.431Z"
   },
   {
    "duration": 4,
    "start_time": "2023-03-21T14:01:37.438Z"
   },
   {
    "duration": 4,
    "start_time": "2023-03-21T14:01:37.444Z"
   },
   {
    "duration": 9,
    "start_time": "2023-03-21T14:01:37.449Z"
   },
   {
    "duration": 6,
    "start_time": "2023-03-21T14:01:37.459Z"
   },
   {
    "duration": 4,
    "start_time": "2023-03-21T14:01:37.467Z"
   },
   {
    "duration": 7,
    "start_time": "2023-03-21T14:01:37.473Z"
   },
   {
    "duration": 44,
    "start_time": "2023-03-21T14:01:37.481Z"
   },
   {
    "duration": 30,
    "start_time": "2023-03-21T14:01:37.527Z"
   },
   {
    "duration": 1270,
    "start_time": "2023-03-21T14:01:37.559Z"
   },
   {
    "duration": 2037,
    "start_time": "2023-03-21T14:01:38.831Z"
   },
   {
    "duration": 13179,
    "start_time": "2023-03-21T14:01:40.870Z"
   },
   {
    "duration": 1946,
    "start_time": "2023-03-21T14:01:54.050Z"
   },
   {
    "duration": 0,
    "start_time": "2023-03-21T14:01:55.997Z"
   },
   {
    "duration": 0,
    "start_time": "2023-03-21T14:01:55.998Z"
   },
   {
    "duration": 0,
    "start_time": "2023-03-21T14:01:55.999Z"
   },
   {
    "duration": 0,
    "start_time": "2023-03-21T14:01:56.000Z"
   },
   {
    "duration": 0,
    "start_time": "2023-03-21T14:01:56.002Z"
   },
   {
    "duration": 0,
    "start_time": "2023-03-21T14:01:56.003Z"
   },
   {
    "duration": 0,
    "start_time": "2023-03-21T14:01:56.004Z"
   },
   {
    "duration": 1749,
    "start_time": "2023-03-21T14:03:13.148Z"
   },
   {
    "duration": 8,
    "start_time": "2023-03-21T14:03:22.078Z"
   },
   {
    "duration": 9,
    "start_time": "2023-03-21T14:03:22.237Z"
   },
   {
    "duration": 11,
    "start_time": "2023-03-21T14:03:22.439Z"
   },
   {
    "duration": 5,
    "start_time": "2023-03-21T14:03:31.634Z"
   },
   {
    "duration": 4,
    "start_time": "2023-03-21T14:03:31.827Z"
   },
   {
    "duration": 4,
    "start_time": "2023-03-21T14:03:31.956Z"
   },
   {
    "duration": 4,
    "start_time": "2023-03-21T14:03:32.393Z"
   },
   {
    "duration": 9,
    "start_time": "2023-03-21T14:04:08.841Z"
   },
   {
    "duration": 3,
    "start_time": "2023-03-21T14:04:25.737Z"
   },
   {
    "duration": 9,
    "start_time": "2023-03-21T14:04:26.133Z"
   },
   {
    "duration": 9,
    "start_time": "2023-03-21T14:04:59.134Z"
   },
   {
    "duration": 10,
    "start_time": "2023-03-21T14:05:16.328Z"
   },
   {
    "duration": 17,
    "start_time": "2023-03-21T14:05:21.792Z"
   },
   {
    "duration": 17,
    "start_time": "2023-03-21T14:05:31.478Z"
   },
   {
    "duration": 19,
    "start_time": "2023-03-21T14:05:48.634Z"
   },
   {
    "duration": 13,
    "start_time": "2023-03-21T14:05:49.282Z"
   },
   {
    "duration": 13,
    "start_time": "2023-03-21T14:05:59.989Z"
   },
   {
    "duration": 14,
    "start_time": "2023-03-21T14:06:08.933Z"
   },
   {
    "duration": 11,
    "start_time": "2023-03-21T14:06:09.544Z"
   },
   {
    "duration": 14,
    "start_time": "2023-03-21T14:07:00.857Z"
   },
   {
    "duration": 14,
    "start_time": "2023-03-21T14:07:23.385Z"
   },
   {
    "duration": 17,
    "start_time": "2023-03-21T14:07:32.382Z"
   },
   {
    "duration": 14,
    "start_time": "2023-03-21T14:07:35.777Z"
   },
   {
    "duration": 18,
    "start_time": "2023-03-21T14:07:52.354Z"
   },
   {
    "duration": 69,
    "start_time": "2023-03-21T14:08:35.500Z"
   },
   {
    "duration": 14,
    "start_time": "2023-03-21T14:08:47.897Z"
   },
   {
    "duration": 86,
    "start_time": "2023-03-21T14:09:25.326Z"
   },
   {
    "duration": 13,
    "start_time": "2023-03-21T14:09:31.374Z"
   },
   {
    "duration": 1186,
    "start_time": "2023-03-21T14:10:00.139Z"
   },
   {
    "duration": 0,
    "start_time": "2023-03-21T14:10:01.326Z"
   },
   {
    "duration": 1228,
    "start_time": "2023-03-21T14:10:36.633Z"
   },
   {
    "duration": 1346,
    "start_time": "2023-03-21T14:10:46.195Z"
   },
   {
    "duration": 640,
    "start_time": "2023-03-21T14:10:47.543Z"
   },
   {
    "duration": 3,
    "start_time": "2023-03-21T14:10:48.184Z"
   },
   {
    "duration": 75,
    "start_time": "2023-03-21T14:10:48.189Z"
   },
   {
    "duration": 62,
    "start_time": "2023-03-21T14:10:48.266Z"
   },
   {
    "duration": 19,
    "start_time": "2023-03-21T14:10:48.329Z"
   },
   {
    "duration": 116,
    "start_time": "2023-03-21T14:10:48.350Z"
   },
   {
    "duration": 98,
    "start_time": "2023-03-21T14:10:48.467Z"
   },
   {
    "duration": 224,
    "start_time": "2023-03-21T14:10:48.567Z"
   },
   {
    "duration": 117,
    "start_time": "2023-03-21T14:10:48.792Z"
   },
   {
    "duration": 217,
    "start_time": "2023-03-21T14:10:48.911Z"
   },
   {
    "duration": 7,
    "start_time": "2023-03-21T14:10:49.130Z"
   },
   {
    "duration": 12,
    "start_time": "2023-03-21T14:10:49.139Z"
   },
   {
    "duration": 9,
    "start_time": "2023-03-21T14:10:49.154Z"
   },
   {
    "duration": 5,
    "start_time": "2023-03-21T14:10:49.164Z"
   },
   {
    "duration": 8,
    "start_time": "2023-03-21T14:10:49.170Z"
   },
   {
    "duration": 23,
    "start_time": "2023-03-21T14:10:49.179Z"
   },
   {
    "duration": 5,
    "start_time": "2023-03-21T14:10:49.223Z"
   },
   {
    "duration": 12,
    "start_time": "2023-03-21T14:10:49.229Z"
   },
   {
    "duration": 10,
    "start_time": "2023-03-21T14:10:49.243Z"
   },
   {
    "duration": 672,
    "start_time": "2023-03-21T14:10:49.254Z"
   },
   {
    "duration": 5,
    "start_time": "2023-03-21T14:10:49.928Z"
   },
   {
    "duration": 6,
    "start_time": "2023-03-21T14:10:49.934Z"
   },
   {
    "duration": 25,
    "start_time": "2023-03-21T14:10:49.942Z"
   },
   {
    "duration": 4168,
    "start_time": "2023-03-21T14:10:49.969Z"
   },
   {
    "duration": 592,
    "start_time": "2023-03-21T14:10:54.138Z"
   },
   {
    "duration": 1143,
    "start_time": "2023-03-21T14:10:54.731Z"
   },
   {
    "duration": 1202,
    "start_time": "2023-03-21T14:10:55.876Z"
   },
   {
    "duration": 2,
    "start_time": "2023-03-21T14:10:57.080Z"
   },
   {
    "duration": 6,
    "start_time": "2023-03-21T14:10:57.084Z"
   },
   {
    "duration": 9,
    "start_time": "2023-03-21T14:10:57.092Z"
   },
   {
    "duration": 7,
    "start_time": "2023-03-21T14:10:57.105Z"
   },
   {
    "duration": 5,
    "start_time": "2023-03-21T14:10:57.113Z"
   },
   {
    "duration": 2,
    "start_time": "2023-03-21T14:10:57.124Z"
   },
   {
    "duration": 10,
    "start_time": "2023-03-21T14:10:57.128Z"
   },
   {
    "duration": 6,
    "start_time": "2023-03-21T14:10:57.139Z"
   },
   {
    "duration": 7,
    "start_time": "2023-03-21T14:10:57.146Z"
   },
   {
    "duration": 7,
    "start_time": "2023-03-21T14:10:57.154Z"
   },
   {
    "duration": 24,
    "start_time": "2023-03-21T14:10:57.162Z"
   },
   {
    "duration": 38,
    "start_time": "2023-03-21T14:10:57.187Z"
   },
   {
    "duration": 2,
    "start_time": "2023-03-21T14:10:57.228Z"
   },
   {
    "duration": 5,
    "start_time": "2023-03-21T14:10:57.232Z"
   },
   {
    "duration": 105,
    "start_time": "2023-03-21T14:10:57.238Z"
   },
   {
    "duration": 0,
    "start_time": "2023-03-21T14:10:57.344Z"
   },
   {
    "duration": 0,
    "start_time": "2023-03-21T14:10:57.345Z"
   },
   {
    "duration": 0,
    "start_time": "2023-03-21T14:10:57.346Z"
   },
   {
    "duration": 0,
    "start_time": "2023-03-21T14:10:57.347Z"
   },
   {
    "duration": 0,
    "start_time": "2023-03-21T14:10:57.348Z"
   },
   {
    "duration": 0,
    "start_time": "2023-03-21T14:10:57.349Z"
   },
   {
    "duration": 0,
    "start_time": "2023-03-21T14:10:57.350Z"
   },
   {
    "duration": 1,
    "start_time": "2023-03-21T14:10:57.350Z"
   },
   {
    "duration": 0,
    "start_time": "2023-03-21T14:10:57.351Z"
   },
   {
    "duration": 0,
    "start_time": "2023-03-21T14:10:57.352Z"
   },
   {
    "duration": 0,
    "start_time": "2023-03-21T14:10:57.353Z"
   },
   {
    "duration": 1250,
    "start_time": "2023-03-21T14:11:24.390Z"
   },
   {
    "duration": 640,
    "start_time": "2023-03-21T14:11:25.642Z"
   },
   {
    "duration": 3,
    "start_time": "2023-03-21T14:11:26.284Z"
   },
   {
    "duration": 61,
    "start_time": "2023-03-21T14:11:26.288Z"
   },
   {
    "duration": 35,
    "start_time": "2023-03-21T14:11:26.351Z"
   },
   {
    "duration": 37,
    "start_time": "2023-03-21T14:11:26.388Z"
   },
   {
    "duration": 102,
    "start_time": "2023-03-21T14:11:26.426Z"
   },
   {
    "duration": 79,
    "start_time": "2023-03-21T14:11:26.529Z"
   },
   {
    "duration": 212,
    "start_time": "2023-03-21T14:11:26.609Z"
   },
   {
    "duration": 118,
    "start_time": "2023-03-21T14:11:26.824Z"
   },
   {
    "duration": 226,
    "start_time": "2023-03-21T14:11:26.943Z"
   },
   {
    "duration": 8,
    "start_time": "2023-03-21T14:11:27.171Z"
   },
   {
    "duration": 7,
    "start_time": "2023-03-21T14:11:27.181Z"
   },
   {
    "duration": 9,
    "start_time": "2023-03-21T14:11:27.191Z"
   },
   {
    "duration": 33,
    "start_time": "2023-03-21T14:11:27.201Z"
   },
   {
    "duration": 11,
    "start_time": "2023-03-21T14:11:27.235Z"
   },
   {
    "duration": 21,
    "start_time": "2023-03-21T14:11:27.248Z"
   },
   {
    "duration": 4,
    "start_time": "2023-03-21T14:11:27.271Z"
   },
   {
    "duration": 12,
    "start_time": "2023-03-21T14:11:27.276Z"
   },
   {
    "duration": 5,
    "start_time": "2023-03-21T14:11:27.290Z"
   },
   {
    "duration": 657,
    "start_time": "2023-03-21T14:11:27.297Z"
   },
   {
    "duration": 4,
    "start_time": "2023-03-21T14:11:27.956Z"
   },
   {
    "duration": 13,
    "start_time": "2023-03-21T14:11:27.961Z"
   },
   {
    "duration": 35,
    "start_time": "2023-03-21T14:11:27.975Z"
   },
   {
    "duration": 4187,
    "start_time": "2023-03-21T14:11:28.012Z"
   },
   {
    "duration": 690,
    "start_time": "2023-03-21T14:11:32.202Z"
   },
   {
    "duration": 1285,
    "start_time": "2023-03-21T14:11:32.894Z"
   },
   {
    "duration": 1296,
    "start_time": "2023-03-21T14:11:34.181Z"
   },
   {
    "duration": 3,
    "start_time": "2023-03-21T14:11:35.478Z"
   },
   {
    "duration": 11,
    "start_time": "2023-03-21T14:11:35.482Z"
   },
   {
    "duration": 20,
    "start_time": "2023-03-21T14:11:35.494Z"
   },
   {
    "duration": 5,
    "start_time": "2023-03-21T14:11:35.515Z"
   },
   {
    "duration": 7,
    "start_time": "2023-03-21T14:11:35.521Z"
   },
   {
    "duration": 12,
    "start_time": "2023-03-21T14:11:35.529Z"
   },
   {
    "duration": 14,
    "start_time": "2023-03-21T14:11:35.543Z"
   },
   {
    "duration": 31,
    "start_time": "2023-03-21T14:11:35.558Z"
   },
   {
    "duration": 7,
    "start_time": "2023-03-21T14:11:35.590Z"
   },
   {
    "duration": 16,
    "start_time": "2023-03-21T14:11:35.598Z"
   },
   {
    "duration": 37,
    "start_time": "2023-03-21T14:11:35.615Z"
   },
   {
    "duration": 21,
    "start_time": "2023-03-21T14:11:35.654Z"
   },
   {
    "duration": 2,
    "start_time": "2023-03-21T14:11:35.679Z"
   },
   {
    "duration": 4,
    "start_time": "2023-03-21T14:11:35.683Z"
   },
   {
    "duration": 890,
    "start_time": "2023-03-21T14:14:54.835Z"
   },
   {
    "duration": 1898,
    "start_time": "2023-03-21T14:14:55.727Z"
   },
   {
    "duration": 1471,
    "start_time": "2023-03-21T14:15:04.114Z"
   },
   {
    "duration": 718,
    "start_time": "2023-03-21T14:15:05.587Z"
   },
   {
    "duration": 4,
    "start_time": "2023-03-21T14:15:06.306Z"
   },
   {
    "duration": 61,
    "start_time": "2023-03-21T14:15:06.311Z"
   },
   {
    "duration": 63,
    "start_time": "2023-03-21T14:15:06.374Z"
   },
   {
    "duration": 21,
    "start_time": "2023-03-21T14:15:06.438Z"
   },
   {
    "duration": 123,
    "start_time": "2023-03-21T14:15:06.460Z"
   },
   {
    "duration": 92,
    "start_time": "2023-03-21T14:15:06.585Z"
   },
   {
    "duration": 222,
    "start_time": "2023-03-21T14:15:06.678Z"
   },
   {
    "duration": 132,
    "start_time": "2023-03-21T14:15:06.902Z"
   },
   {
    "duration": 232,
    "start_time": "2023-03-21T14:15:07.036Z"
   },
   {
    "duration": 7,
    "start_time": "2023-03-21T14:15:07.270Z"
   },
   {
    "duration": 5,
    "start_time": "2023-03-21T14:15:07.279Z"
   },
   {
    "duration": 9,
    "start_time": "2023-03-21T14:15:07.287Z"
   },
   {
    "duration": 26,
    "start_time": "2023-03-21T14:15:07.298Z"
   },
   {
    "duration": 5,
    "start_time": "2023-03-21T14:15:07.325Z"
   },
   {
    "duration": 36,
    "start_time": "2023-03-21T14:15:07.331Z"
   },
   {
    "duration": 5,
    "start_time": "2023-03-21T14:15:07.368Z"
   },
   {
    "duration": 13,
    "start_time": "2023-03-21T14:15:07.375Z"
   },
   {
    "duration": 5,
    "start_time": "2023-03-21T14:15:07.390Z"
   },
   {
    "duration": 742,
    "start_time": "2023-03-21T14:15:07.397Z"
   },
   {
    "duration": 4,
    "start_time": "2023-03-21T14:15:08.140Z"
   },
   {
    "duration": 6,
    "start_time": "2023-03-21T14:15:08.145Z"
   },
   {
    "duration": 25,
    "start_time": "2023-03-21T14:15:08.152Z"
   },
   {
    "duration": 4111,
    "start_time": "2023-03-21T14:15:08.179Z"
   },
   {
    "duration": 688,
    "start_time": "2023-03-21T14:15:12.291Z"
   },
   {
    "duration": 1417,
    "start_time": "2023-03-21T14:15:12.980Z"
   },
   {
    "duration": 1207,
    "start_time": "2023-03-21T14:15:14.398Z"
   },
   {
    "duration": 4,
    "start_time": "2023-03-21T14:15:15.607Z"
   },
   {
    "duration": 12,
    "start_time": "2023-03-21T14:15:15.612Z"
   },
   {
    "duration": 12,
    "start_time": "2023-03-21T14:15:15.626Z"
   },
   {
    "duration": 6,
    "start_time": "2023-03-21T14:15:15.639Z"
   },
   {
    "duration": 5,
    "start_time": "2023-03-21T14:15:15.647Z"
   },
   {
    "duration": 5,
    "start_time": "2023-03-21T14:15:15.653Z"
   },
   {
    "duration": 9,
    "start_time": "2023-03-21T14:15:15.660Z"
   },
   {
    "duration": 6,
    "start_time": "2023-03-21T14:15:15.671Z"
   },
   {
    "duration": 9,
    "start_time": "2023-03-21T14:15:15.678Z"
   },
   {
    "duration": 6,
    "start_time": "2023-03-21T14:15:15.688Z"
   },
   {
    "duration": 30,
    "start_time": "2023-03-21T14:15:15.696Z"
   },
   {
    "duration": 26,
    "start_time": "2023-03-21T14:15:15.727Z"
   },
   {
    "duration": 1069,
    "start_time": "2023-03-21T14:15:15.756Z"
   },
   {
    "duration": 1948,
    "start_time": "2023-03-21T14:15:16.826Z"
   },
   {
    "duration": 13239,
    "start_time": "2023-03-21T14:15:18.776Z"
   },
   {
    "duration": 2060,
    "start_time": "2023-03-21T14:15:32.016Z"
   },
   {
    "duration": 0,
    "start_time": "2023-03-21T14:15:34.077Z"
   },
   {
    "duration": 0,
    "start_time": "2023-03-21T14:15:34.078Z"
   },
   {
    "duration": 0,
    "start_time": "2023-03-21T14:15:34.079Z"
   },
   {
    "duration": 0,
    "start_time": "2023-03-21T14:15:34.080Z"
   },
   {
    "duration": 0,
    "start_time": "2023-03-21T14:15:34.081Z"
   },
   {
    "duration": 0,
    "start_time": "2023-03-21T14:15:34.082Z"
   },
   {
    "duration": 0,
    "start_time": "2023-03-21T14:15:34.083Z"
   },
   {
    "duration": 13100,
    "start_time": "2023-03-21T14:17:28.525Z"
   },
   {
    "duration": 7547,
    "start_time": "2023-03-21T14:19:47.974Z"
   },
   {
    "duration": 9,
    "start_time": "2023-03-21T14:21:45.283Z"
   },
   {
    "duration": 3,
    "start_time": "2023-03-21T14:23:55.184Z"
   },
   {
    "duration": 10,
    "start_time": "2023-03-21T14:23:55.721Z"
   },
   {
    "duration": 15,
    "start_time": "2023-03-21T14:24:44.741Z"
   },
   {
    "duration": 15,
    "start_time": "2023-03-21T14:24:59.327Z"
   },
   {
    "duration": 11,
    "start_time": "2023-03-21T14:25:13.693Z"
   },
   {
    "duration": 15,
    "start_time": "2023-03-21T14:25:24.598Z"
   },
   {
    "duration": 10,
    "start_time": "2023-03-21T14:25:35.634Z"
   },
   {
    "duration": 14,
    "start_time": "2023-03-21T14:25:59.527Z"
   },
   {
    "duration": 9,
    "start_time": "2023-03-21T14:26:53.648Z"
   },
   {
    "duration": 5,
    "start_time": "2023-03-21T14:27:04.498Z"
   },
   {
    "duration": 19,
    "start_time": "2023-03-21T14:27:05.434Z"
   },
   {
    "duration": 125125,
    "start_time": "2023-03-21T14:27:12.431Z"
   },
   {
    "duration": 0,
    "start_time": "2023-03-21T14:29:17.559Z"
   },
   {
    "duration": 0,
    "start_time": "2023-03-21T14:29:17.560Z"
   },
   {
    "duration": 0,
    "start_time": "2023-03-21T14:29:17.562Z"
   },
   {
    "duration": 0,
    "start_time": "2023-03-21T14:29:17.563Z"
   },
   {
    "duration": 0,
    "start_time": "2023-03-21T14:29:17.564Z"
   },
   {
    "duration": 46,
    "start_time": "2023-03-21T14:30:03.647Z"
   },
   {
    "duration": 1323,
    "start_time": "2023-03-21T14:30:21.994Z"
   },
   {
    "duration": 553,
    "start_time": "2023-03-21T14:30:23.319Z"
   },
   {
    "duration": 3,
    "start_time": "2023-03-21T14:30:23.874Z"
   },
   {
    "duration": 61,
    "start_time": "2023-03-21T14:30:23.879Z"
   },
   {
    "duration": 37,
    "start_time": "2023-03-21T14:30:23.942Z"
   },
   {
    "duration": 18,
    "start_time": "2023-03-21T14:30:23.980Z"
   },
   {
    "duration": 124,
    "start_time": "2023-03-21T14:30:24.000Z"
   },
   {
    "duration": 77,
    "start_time": "2023-03-21T14:30:24.126Z"
   },
   {
    "duration": 210,
    "start_time": "2023-03-21T14:30:24.205Z"
   },
   {
    "duration": 111,
    "start_time": "2023-03-21T14:30:24.416Z"
   },
   {
    "duration": 214,
    "start_time": "2023-03-21T14:30:24.529Z"
   },
   {
    "duration": 9,
    "start_time": "2023-03-21T14:30:24.745Z"
   },
   {
    "duration": 8,
    "start_time": "2023-03-21T14:30:24.755Z"
   },
   {
    "duration": 10,
    "start_time": "2023-03-21T14:30:24.766Z"
   },
   {
    "duration": 7,
    "start_time": "2023-03-21T14:30:24.778Z"
   },
   {
    "duration": 4,
    "start_time": "2023-03-21T14:30:24.786Z"
   },
   {
    "duration": 40,
    "start_time": "2023-03-21T14:30:24.791Z"
   },
   {
    "duration": 4,
    "start_time": "2023-03-21T14:30:24.832Z"
   },
   {
    "duration": 15,
    "start_time": "2023-03-21T14:30:24.837Z"
   },
   {
    "duration": 4,
    "start_time": "2023-03-21T14:30:24.853Z"
   },
   {
    "duration": 663,
    "start_time": "2023-03-21T14:30:24.859Z"
   },
   {
    "duration": 5,
    "start_time": "2023-03-21T14:30:25.524Z"
   },
   {
    "duration": 14,
    "start_time": "2023-03-21T14:30:25.530Z"
   },
   {
    "duration": 32,
    "start_time": "2023-03-21T14:30:25.545Z"
   },
   {
    "duration": 4142,
    "start_time": "2023-03-21T14:30:25.579Z"
   },
   {
    "duration": 623,
    "start_time": "2023-03-21T14:30:29.724Z"
   },
   {
    "duration": 1224,
    "start_time": "2023-03-21T14:30:30.348Z"
   },
   {
    "duration": 1306,
    "start_time": "2023-03-21T14:30:31.573Z"
   },
   {
    "duration": 3,
    "start_time": "2023-03-21T14:30:32.880Z"
   },
   {
    "duration": 9,
    "start_time": "2023-03-21T14:30:32.884Z"
   },
   {
    "duration": 9,
    "start_time": "2023-03-21T14:30:32.894Z"
   },
   {
    "duration": 10,
    "start_time": "2023-03-21T14:30:32.905Z"
   },
   {
    "duration": 11,
    "start_time": "2023-03-21T14:30:32.916Z"
   },
   {
    "duration": 5,
    "start_time": "2023-03-21T14:30:32.928Z"
   },
   {
    "duration": 8,
    "start_time": "2023-03-21T14:30:32.935Z"
   },
   {
    "duration": 6,
    "start_time": "2023-03-21T14:30:32.944Z"
   },
   {
    "duration": 4,
    "start_time": "2023-03-21T14:30:32.952Z"
   },
   {
    "duration": 7,
    "start_time": "2023-03-21T14:30:32.958Z"
   },
   {
    "duration": 24,
    "start_time": "2023-03-21T14:30:32.966Z"
   },
   {
    "duration": 41,
    "start_time": "2023-03-21T14:30:32.991Z"
   },
   {
    "duration": 896,
    "start_time": "2023-03-21T14:30:33.035Z"
   },
   {
    "duration": 2077,
    "start_time": "2023-03-21T14:30:33.932Z"
   },
   {
    "duration": 7438,
    "start_time": "2023-03-21T14:30:36.010Z"
   },
   {
    "duration": 3,
    "start_time": "2023-03-21T14:30:43.449Z"
   },
   {
    "duration": 2053,
    "start_time": "2023-03-21T14:30:43.453Z"
   },
   {
    "duration": 0,
    "start_time": "2023-03-21T14:30:45.508Z"
   },
   {
    "duration": 0,
    "start_time": "2023-03-21T14:30:45.510Z"
   },
   {
    "duration": 0,
    "start_time": "2023-03-21T14:30:45.511Z"
   },
   {
    "duration": 0,
    "start_time": "2023-03-21T14:30:45.512Z"
   },
   {
    "duration": 0,
    "start_time": "2023-03-21T14:30:45.514Z"
   },
   {
    "duration": 0,
    "start_time": "2023-03-21T14:30:45.516Z"
   },
   {
    "duration": 0,
    "start_time": "2023-03-21T14:30:45.517Z"
   },
   {
    "duration": 8,
    "start_time": "2023-03-21T14:30:54.087Z"
   },
   {
    "duration": 8,
    "start_time": "2023-03-21T14:30:54.442Z"
   },
   {
    "duration": 8,
    "start_time": "2023-03-21T14:30:54.954Z"
   },
   {
    "duration": 77,
    "start_time": "2023-03-21T14:32:24.039Z"
   },
   {
    "duration": 3,
    "start_time": "2023-03-21T14:32:45.786Z"
   },
   {
    "duration": 82,
    "start_time": "2023-03-21T14:32:46.276Z"
   },
   {
    "duration": 4,
    "start_time": "2023-03-21T14:33:06.246Z"
   },
   {
    "duration": 118,
    "start_time": "2023-03-21T14:33:06.787Z"
   },
   {
    "duration": 9,
    "start_time": "2023-03-21T14:33:26.979Z"
   },
   {
    "duration": 69,
    "start_time": "2023-03-21T14:34:35.880Z"
   },
   {
    "duration": 10,
    "start_time": "2023-03-21T14:34:51.352Z"
   },
   {
    "duration": 10,
    "start_time": "2023-03-21T14:35:10.631Z"
   },
   {
    "duration": 10,
    "start_time": "2023-03-21T14:35:29.935Z"
   },
   {
    "duration": 9,
    "start_time": "2023-03-21T14:35:44.335Z"
   },
   {
    "duration": 86,
    "start_time": "2023-03-21T14:35:45.986Z"
   },
   {
    "duration": 13,
    "start_time": "2023-03-21T14:35:52.437Z"
   },
   {
    "duration": 1317,
    "start_time": "2023-03-21T14:38:34.615Z"
   },
   {
    "duration": 565,
    "start_time": "2023-03-21T14:38:35.934Z"
   },
   {
    "duration": 3,
    "start_time": "2023-03-21T14:38:36.500Z"
   },
   {
    "duration": 58,
    "start_time": "2023-03-21T14:38:36.505Z"
   },
   {
    "duration": 37,
    "start_time": "2023-03-21T14:38:36.565Z"
   },
   {
    "duration": 36,
    "start_time": "2023-03-21T14:38:36.603Z"
   },
   {
    "duration": 109,
    "start_time": "2023-03-21T14:38:36.640Z"
   },
   {
    "duration": 86,
    "start_time": "2023-03-21T14:38:36.751Z"
   },
   {
    "duration": 206,
    "start_time": "2023-03-21T14:38:36.838Z"
   },
   {
    "duration": 112,
    "start_time": "2023-03-21T14:38:37.046Z"
   },
   {
    "duration": 216,
    "start_time": "2023-03-21T14:38:37.160Z"
   },
   {
    "duration": 7,
    "start_time": "2023-03-21T14:38:37.378Z"
   },
   {
    "duration": 11,
    "start_time": "2023-03-21T14:38:37.386Z"
   },
   {
    "duration": 26,
    "start_time": "2023-03-21T14:38:37.400Z"
   },
   {
    "duration": 5,
    "start_time": "2023-03-21T14:38:37.427Z"
   },
   {
    "duration": 9,
    "start_time": "2023-03-21T14:38:37.434Z"
   },
   {
    "duration": 22,
    "start_time": "2023-03-21T14:38:37.445Z"
   },
   {
    "duration": 9,
    "start_time": "2023-03-21T14:38:37.469Z"
   },
   {
    "duration": 16,
    "start_time": "2023-03-21T14:38:37.479Z"
   },
   {
    "duration": 5,
    "start_time": "2023-03-21T14:38:37.496Z"
   },
   {
    "duration": 651,
    "start_time": "2023-03-21T14:38:37.503Z"
   },
   {
    "duration": 4,
    "start_time": "2023-03-21T14:38:38.156Z"
   },
   {
    "duration": 6,
    "start_time": "2023-03-21T14:38:38.161Z"
   },
   {
    "duration": 25,
    "start_time": "2023-03-21T14:38:38.169Z"
   },
   {
    "duration": 4098,
    "start_time": "2023-03-21T14:38:38.196Z"
   },
   {
    "duration": 630,
    "start_time": "2023-03-21T14:38:42.296Z"
   },
   {
    "duration": 1308,
    "start_time": "2023-03-21T14:38:42.927Z"
   },
   {
    "duration": 1333,
    "start_time": "2023-03-21T14:38:44.237Z"
   },
   {
    "duration": 3,
    "start_time": "2023-03-21T14:38:45.571Z"
   },
   {
    "duration": 20,
    "start_time": "2023-03-21T14:38:45.576Z"
   },
   {
    "duration": 10,
    "start_time": "2023-03-21T14:38:45.597Z"
   },
   {
    "duration": 9,
    "start_time": "2023-03-21T14:38:45.608Z"
   },
   {
    "duration": 6,
    "start_time": "2023-03-21T14:38:45.618Z"
   },
   {
    "duration": 5,
    "start_time": "2023-03-21T14:38:45.625Z"
   },
   {
    "duration": 9,
    "start_time": "2023-03-21T14:38:45.632Z"
   },
   {
    "duration": 21,
    "start_time": "2023-03-21T14:38:45.643Z"
   },
   {
    "duration": 20,
    "start_time": "2023-03-21T14:38:45.665Z"
   },
   {
    "duration": 16,
    "start_time": "2023-03-21T14:38:45.686Z"
   },
   {
    "duration": 34,
    "start_time": "2023-03-21T14:38:45.703Z"
   },
   {
    "duration": 25,
    "start_time": "2023-03-21T14:38:45.739Z"
   },
   {
    "duration": 107,
    "start_time": "2023-03-21T14:38:45.767Z"
   },
   {
    "duration": 9,
    "start_time": "2023-03-21T14:39:12.812Z"
   },
   {
    "duration": 4,
    "start_time": "2023-03-21T14:39:20.354Z"
   },
   {
    "duration": 5,
    "start_time": "2023-03-21T14:39:28.438Z"
   },
   {
    "duration": 4,
    "start_time": "2023-03-21T14:39:35.195Z"
   },
   {
    "duration": 3,
    "start_time": "2023-03-21T14:39:41.934Z"
   },
   {
    "duration": 9,
    "start_time": "2023-03-21T14:39:47.219Z"
   },
   {
    "duration": 1310,
    "start_time": "2023-03-21T14:40:45.729Z"
   },
   {
    "duration": 577,
    "start_time": "2023-03-21T14:40:47.040Z"
   },
   {
    "duration": 4,
    "start_time": "2023-03-21T14:40:47.621Z"
   },
   {
    "duration": 52,
    "start_time": "2023-03-21T14:40:47.627Z"
   },
   {
    "duration": 64,
    "start_time": "2023-03-21T14:40:47.680Z"
   },
   {
    "duration": 19,
    "start_time": "2023-03-21T14:40:47.745Z"
   },
   {
    "duration": 121,
    "start_time": "2023-03-21T14:40:47.765Z"
   },
   {
    "duration": 89,
    "start_time": "2023-03-21T14:40:47.888Z"
   },
   {
    "duration": 201,
    "start_time": "2023-03-21T14:40:47.979Z"
   },
   {
    "duration": 115,
    "start_time": "2023-03-21T14:40:48.182Z"
   },
   {
    "duration": 219,
    "start_time": "2023-03-21T14:40:48.299Z"
   },
   {
    "duration": 9,
    "start_time": "2023-03-21T14:40:48.519Z"
   },
   {
    "duration": 5,
    "start_time": "2023-03-21T14:40:48.531Z"
   },
   {
    "duration": 9,
    "start_time": "2023-03-21T14:40:48.538Z"
   },
   {
    "duration": 11,
    "start_time": "2023-03-21T14:40:48.548Z"
   },
   {
    "duration": 4,
    "start_time": "2023-03-21T14:40:48.560Z"
   },
   {
    "duration": 23,
    "start_time": "2023-03-21T14:40:48.565Z"
   },
   {
    "duration": 6,
    "start_time": "2023-03-21T14:40:48.589Z"
   },
   {
    "duration": 29,
    "start_time": "2023-03-21T14:40:48.597Z"
   },
   {
    "duration": 5,
    "start_time": "2023-03-21T14:40:48.628Z"
   },
   {
    "duration": 636,
    "start_time": "2023-03-21T14:40:48.634Z"
   },
   {
    "duration": 4,
    "start_time": "2023-03-21T14:40:49.272Z"
   },
   {
    "duration": 6,
    "start_time": "2023-03-21T14:40:49.277Z"
   },
   {
    "duration": 37,
    "start_time": "2023-03-21T14:40:49.284Z"
   },
   {
    "duration": 4273,
    "start_time": "2023-03-21T14:40:49.323Z"
   },
   {
    "duration": 635,
    "start_time": "2023-03-21T14:40:53.598Z"
   },
   {
    "duration": 1242,
    "start_time": "2023-03-21T14:40:54.235Z"
   },
   {
    "duration": 1265,
    "start_time": "2023-03-21T14:40:55.478Z"
   },
   {
    "duration": 3,
    "start_time": "2023-03-21T14:40:56.744Z"
   },
   {
    "duration": 9,
    "start_time": "2023-03-21T14:40:56.749Z"
   },
   {
    "duration": 9,
    "start_time": "2023-03-21T14:40:56.759Z"
   },
   {
    "duration": 5,
    "start_time": "2023-03-21T14:40:56.769Z"
   },
   {
    "duration": 6,
    "start_time": "2023-03-21T14:40:56.776Z"
   },
   {
    "duration": 10,
    "start_time": "2023-03-21T14:40:56.783Z"
   },
   {
    "duration": 10,
    "start_time": "2023-03-21T14:40:56.794Z"
   },
   {
    "duration": 7,
    "start_time": "2023-03-21T14:40:56.806Z"
   },
   {
    "duration": 10,
    "start_time": "2023-03-21T14:40:56.814Z"
   },
   {
    "duration": 6,
    "start_time": "2023-03-21T14:40:56.825Z"
   },
   {
    "duration": 25,
    "start_time": "2023-03-21T14:40:56.832Z"
   },
   {
    "duration": 20,
    "start_time": "2023-03-21T14:40:56.860Z"
   },
   {
    "duration": 6,
    "start_time": "2023-03-21T14:40:56.881Z"
   },
   {
    "duration": 4,
    "start_time": "2023-03-21T14:40:56.888Z"
   },
   {
    "duration": 5,
    "start_time": "2023-03-21T14:40:56.894Z"
   },
   {
    "duration": 25,
    "start_time": "2023-03-21T14:40:56.900Z"
   },
   {
    "duration": 5,
    "start_time": "2023-03-21T14:40:56.927Z"
   },
   {
    "duration": 5,
    "start_time": "2023-03-21T14:40:56.933Z"
   },
   {
    "duration": 127976,
    "start_time": "2023-03-21T14:40:56.939Z"
   },
   {
    "duration": 1,
    "start_time": "2023-03-21T14:43:04.916Z"
   },
   {
    "duration": 0,
    "start_time": "2023-03-21T14:43:04.924Z"
   },
   {
    "duration": 0,
    "start_time": "2023-03-21T14:43:04.925Z"
   },
   {
    "duration": 0,
    "start_time": "2023-03-21T14:43:04.926Z"
   },
   {
    "duration": 0,
    "start_time": "2023-03-21T14:43:04.927Z"
   },
   {
    "duration": 13,
    "start_time": "2023-03-21T14:48:17.999Z"
   },
   {
    "duration": 3,
    "start_time": "2023-03-21T14:48:29.785Z"
   },
   {
    "duration": 3,
    "start_time": "2023-03-21T14:48:34.487Z"
   },
   {
    "duration": 4,
    "start_time": "2023-03-21T14:48:41.055Z"
   },
   {
    "duration": 3,
    "start_time": "2023-03-21T14:49:15.279Z"
   },
   {
    "duration": 3,
    "start_time": "2023-03-21T14:49:24.087Z"
   },
   {
    "duration": 3,
    "start_time": "2023-03-21T14:49:31.903Z"
   },
   {
    "duration": 11,
    "start_time": "2023-03-21T14:49:41.151Z"
   },
   {
    "duration": 18,
    "start_time": "2023-03-21T14:49:47.491Z"
   },
   {
    "duration": 9,
    "start_time": "2023-03-21T14:51:20.828Z"
   },
   {
    "duration": 8,
    "start_time": "2023-03-21T14:51:55.771Z"
   },
   {
    "duration": 9,
    "start_time": "2023-03-21T14:59:40.086Z"
   },
   {
    "duration": 14,
    "start_time": "2023-03-21T14:59:53.687Z"
   },
   {
    "duration": 18,
    "start_time": "2023-03-21T15:00:22.581Z"
   },
   {
    "duration": 13,
    "start_time": "2023-03-21T15:00:47.740Z"
   },
   {
    "duration": 14,
    "start_time": "2023-03-21T15:01:45.400Z"
   },
   {
    "duration": 14,
    "start_time": "2023-03-21T15:02:15.713Z"
   },
   {
    "duration": 1258,
    "start_time": "2023-03-21T15:02:21.088Z"
   },
   {
    "duration": 626,
    "start_time": "2023-03-21T15:02:22.347Z"
   },
   {
    "duration": 4,
    "start_time": "2023-03-21T15:02:22.974Z"
   },
   {
    "duration": 59,
    "start_time": "2023-03-21T15:02:22.979Z"
   },
   {
    "duration": 38,
    "start_time": "2023-03-21T15:02:23.040Z"
   },
   {
    "duration": 46,
    "start_time": "2023-03-21T15:02:23.079Z"
   },
   {
    "duration": 101,
    "start_time": "2023-03-21T15:02:23.126Z"
   },
   {
    "duration": 79,
    "start_time": "2023-03-21T15:02:23.229Z"
   },
   {
    "duration": 190,
    "start_time": "2023-03-21T15:02:23.323Z"
   },
   {
    "duration": 110,
    "start_time": "2023-03-21T15:02:23.523Z"
   },
   {
    "duration": 220,
    "start_time": "2023-03-21T15:02:23.634Z"
   },
   {
    "duration": 8,
    "start_time": "2023-03-21T15:02:23.855Z"
   },
   {
    "duration": 6,
    "start_time": "2023-03-21T15:02:23.864Z"
   },
   {
    "duration": 7,
    "start_time": "2023-03-21T15:02:23.873Z"
   },
   {
    "duration": 16,
    "start_time": "2023-03-21T15:02:23.882Z"
   },
   {
    "duration": 9,
    "start_time": "2023-03-21T15:02:23.900Z"
   },
   {
    "duration": 25,
    "start_time": "2023-03-21T15:02:23.911Z"
   },
   {
    "duration": 11,
    "start_time": "2023-03-21T15:02:23.937Z"
   },
   {
    "duration": 17,
    "start_time": "2023-03-21T15:02:23.949Z"
   },
   {
    "duration": 13,
    "start_time": "2023-03-21T15:02:23.968Z"
   },
   {
    "duration": 635,
    "start_time": "2023-03-21T15:02:23.983Z"
   },
   {
    "duration": 4,
    "start_time": "2023-03-21T15:02:24.620Z"
   },
   {
    "duration": 8,
    "start_time": "2023-03-21T15:02:24.625Z"
   },
   {
    "duration": 26,
    "start_time": "2023-03-21T15:02:24.634Z"
   },
   {
    "duration": 4313,
    "start_time": "2023-03-21T15:02:24.662Z"
   },
   {
    "duration": 550,
    "start_time": "2023-03-21T15:02:28.976Z"
   },
   {
    "duration": 1239,
    "start_time": "2023-03-21T15:02:29.528Z"
   },
   {
    "duration": 1101,
    "start_time": "2023-03-21T15:02:30.769Z"
   },
   {
    "duration": 3,
    "start_time": "2023-03-21T15:02:31.872Z"
   },
   {
    "duration": 47,
    "start_time": "2023-03-21T15:02:31.877Z"
   },
   {
    "duration": 23,
    "start_time": "2023-03-21T15:02:31.926Z"
   },
   {
    "duration": 30,
    "start_time": "2023-03-21T15:02:31.950Z"
   },
   {
    "duration": 36,
    "start_time": "2023-03-21T15:02:31.982Z"
   },
   {
    "duration": 52,
    "start_time": "2023-03-21T15:02:32.019Z"
   },
   {
    "duration": 39,
    "start_time": "2023-03-21T15:02:32.073Z"
   },
   {
    "duration": 12,
    "start_time": "2023-03-21T15:02:32.113Z"
   },
   {
    "duration": 30,
    "start_time": "2023-03-21T15:02:32.127Z"
   },
   {
    "duration": 2948,
    "start_time": "2023-03-21T15:02:43.085Z"
   },
   {
    "duration": 3,
    "start_time": "2023-03-21T15:03:04.087Z"
   },
   {
    "duration": 2838,
    "start_time": "2023-03-21T15:03:05.691Z"
   },
   {
    "duration": 96560,
    "start_time": "2023-03-21T15:03:18.685Z"
   },
   {
    "duration": 0,
    "start_time": "2023-03-21T15:04:55.247Z"
   },
   {
    "duration": 27491,
    "start_time": "2023-03-21T15:04:58.308Z"
   },
   {
    "duration": 0,
    "start_time": "2023-03-21T15:05:25.801Z"
   },
   {
    "duration": 0,
    "start_time": "2023-03-21T15:06:11.372Z"
   },
   {
    "duration": 0,
    "start_time": "2023-03-21T15:06:11.373Z"
   },
   {
    "duration": 16862,
    "start_time": "2023-03-21T15:06:14.903Z"
   },
   {
    "duration": 70695,
    "start_time": "2023-03-21T15:06:36.753Z"
   },
   {
    "duration": 33310,
    "start_time": "2023-03-21T15:07:47.983Z"
   },
   {
    "duration": 6473,
    "start_time": "2023-03-21T15:08:52.835Z"
   },
   {
    "duration": 12,
    "start_time": "2023-03-21T15:09:04.275Z"
   },
   {
    "duration": 3,
    "start_time": "2023-03-21T15:09:22.139Z"
   },
   {
    "duration": 6256,
    "start_time": "2023-03-21T15:09:25.132Z"
   },
   {
    "duration": 1,
    "start_time": "2023-03-21T15:09:31.389Z"
   },
   {
    "duration": 7,
    "start_time": "2023-03-21T15:10:51.558Z"
   },
   {
    "duration": 8,
    "start_time": "2023-03-21T15:11:35.691Z"
   },
   {
    "duration": 1763,
    "start_time": "2023-03-21T15:11:42.685Z"
   },
   {
    "duration": 1799,
    "start_time": "2023-03-21T15:11:53.441Z"
   },
   {
    "duration": 6284,
    "start_time": "2023-03-21T15:12:52.187Z"
   },
   {
    "duration": 2210,
    "start_time": "2023-03-21T15:16:30.510Z"
   },
   {
    "duration": 318,
    "start_time": "2023-03-21T15:16:47.672Z"
   },
   {
    "duration": 1307,
    "start_time": "2023-03-21T15:17:52.121Z"
   },
   {
    "duration": 590,
    "start_time": "2023-03-21T15:17:53.430Z"
   },
   {
    "duration": 4,
    "start_time": "2023-03-21T15:17:54.022Z"
   },
   {
    "duration": 56,
    "start_time": "2023-03-21T15:17:54.027Z"
   },
   {
    "duration": 50,
    "start_time": "2023-03-21T15:17:54.085Z"
   },
   {
    "duration": 17,
    "start_time": "2023-03-21T15:17:54.136Z"
   },
   {
    "duration": 115,
    "start_time": "2023-03-21T15:17:54.155Z"
   },
   {
    "duration": 84,
    "start_time": "2023-03-21T15:17:54.272Z"
   },
   {
    "duration": 198,
    "start_time": "2023-03-21T15:17:54.357Z"
   },
   {
    "duration": 108,
    "start_time": "2023-03-21T15:17:54.556Z"
   },
   {
    "duration": 209,
    "start_time": "2023-03-21T15:17:54.665Z"
   },
   {
    "duration": 8,
    "start_time": "2023-03-21T15:17:54.876Z"
   },
   {
    "duration": 5,
    "start_time": "2023-03-21T15:17:54.885Z"
   },
   {
    "duration": 9,
    "start_time": "2023-03-21T15:17:54.892Z"
   },
   {
    "duration": 5,
    "start_time": "2023-03-21T15:17:54.902Z"
   },
   {
    "duration": 4,
    "start_time": "2023-03-21T15:17:54.923Z"
   },
   {
    "duration": 23,
    "start_time": "2023-03-21T15:17:54.928Z"
   },
   {
    "duration": 5,
    "start_time": "2023-03-21T15:17:54.952Z"
   },
   {
    "duration": 12,
    "start_time": "2023-03-21T15:17:54.958Z"
   },
   {
    "duration": 5,
    "start_time": "2023-03-21T15:17:54.971Z"
   },
   {
    "duration": 657,
    "start_time": "2023-03-21T15:17:54.977Z"
   },
   {
    "duration": 3,
    "start_time": "2023-03-21T15:17:55.636Z"
   },
   {
    "duration": 6,
    "start_time": "2023-03-21T15:17:55.641Z"
   },
   {
    "duration": 24,
    "start_time": "2023-03-21T15:17:55.648Z"
   },
   {
    "duration": 4218,
    "start_time": "2023-03-21T15:17:55.674Z"
   },
   {
    "duration": 639,
    "start_time": "2023-03-21T15:17:59.894Z"
   },
   {
    "duration": 1222,
    "start_time": "2023-03-21T15:18:00.535Z"
   },
   {
    "duration": 1204,
    "start_time": "2023-03-21T15:18:01.759Z"
   },
   {
    "duration": 4,
    "start_time": "2023-03-21T15:18:02.964Z"
   },
   {
    "duration": 6,
    "start_time": "2023-03-21T15:18:02.969Z"
   },
   {
    "duration": 9,
    "start_time": "2023-03-21T15:18:02.976Z"
   },
   {
    "duration": 8,
    "start_time": "2023-03-21T15:18:02.986Z"
   },
   {
    "duration": 7,
    "start_time": "2023-03-21T15:18:02.996Z"
   },
   {
    "duration": 31,
    "start_time": "2023-03-21T15:18:03.004Z"
   },
   {
    "duration": 21,
    "start_time": "2023-03-21T15:18:03.036Z"
   },
   {
    "duration": 2,
    "start_time": "2023-03-21T15:18:03.058Z"
   },
   {
    "duration": 5,
    "start_time": "2023-03-21T15:18:03.061Z"
   },
   {
    "duration": 16,
    "start_time": "2023-03-21T15:18:03.067Z"
   },
   {
    "duration": 9,
    "start_time": "2023-03-21T15:18:03.084Z"
   },
   {
    "duration": 2339,
    "start_time": "2023-03-21T15:18:03.094Z"
   },
   {
    "duration": 15974,
    "start_time": "2023-03-21T15:18:05.436Z"
   },
   {
    "duration": 72279,
    "start_time": "2023-03-21T15:18:21.411Z"
   },
   {
    "duration": 368,
    "start_time": "2023-03-21T15:19:33.692Z"
   },
   {
    "duration": 0,
    "start_time": "2023-03-21T15:19:34.061Z"
   },
   {
    "duration": 11,
    "start_time": "2023-03-21T15:19:37.888Z"
   },
   {
    "duration": 10,
    "start_time": "2023-03-21T15:19:52.417Z"
   },
   {
    "duration": 85478,
    "start_time": "2023-03-21T15:21:03.381Z"
   },
   {
    "duration": 0,
    "start_time": "2023-03-21T15:22:28.860Z"
   },
   {
    "duration": 6271,
    "start_time": "2023-03-21T15:22:31.771Z"
   },
   {
    "duration": 0,
    "start_time": "2023-03-21T15:22:38.044Z"
   },
   {
    "duration": 84,
    "start_time": "2023-03-21T15:24:04.490Z"
   },
   {
    "duration": 8,
    "start_time": "2023-03-21T15:24:49.626Z"
   },
   {
    "duration": 9,
    "start_time": "2023-03-21T15:25:00.156Z"
   },
   {
    "duration": 6300,
    "start_time": "2023-03-21T15:25:16.271Z"
   },
   {
    "duration": 6307,
    "start_time": "2023-03-21T15:26:19.860Z"
   },
   {
    "duration": 0,
    "start_time": "2023-03-21T15:26:26.168Z"
   },
   {
    "duration": 8,
    "start_time": "2023-03-21T15:26:29.303Z"
   },
   {
    "duration": 1594,
    "start_time": "2023-03-21T15:26:47.391Z"
   },
   {
    "duration": 4,
    "start_time": "2023-03-21T15:27:33.291Z"
   },
   {
    "duration": 5,
    "start_time": "2023-03-21T15:28:07.171Z"
   },
   {
    "duration": 0,
    "start_time": "2023-03-21T15:29:36.734Z"
   },
   {
    "duration": 1322,
    "start_time": "2023-03-21T15:29:40.014Z"
   },
   {
    "duration": 590,
    "start_time": "2023-03-21T15:29:41.338Z"
   },
   {
    "duration": 3,
    "start_time": "2023-03-21T15:29:41.930Z"
   },
   {
    "duration": 55,
    "start_time": "2023-03-21T15:29:41.935Z"
   },
   {
    "duration": 51,
    "start_time": "2023-03-21T15:29:41.991Z"
   },
   {
    "duration": 18,
    "start_time": "2023-03-21T15:29:42.044Z"
   },
   {
    "duration": 119,
    "start_time": "2023-03-21T15:29:42.063Z"
   },
   {
    "duration": 93,
    "start_time": "2023-03-21T15:29:42.183Z"
   },
   {
    "duration": 239,
    "start_time": "2023-03-21T15:29:42.278Z"
   },
   {
    "duration": 144,
    "start_time": "2023-03-21T15:29:42.520Z"
   },
   {
    "duration": 221,
    "start_time": "2023-03-21T15:29:42.666Z"
   },
   {
    "duration": 11,
    "start_time": "2023-03-21T15:29:42.889Z"
   },
   {
    "duration": 17,
    "start_time": "2023-03-21T15:29:42.902Z"
   },
   {
    "duration": 12,
    "start_time": "2023-03-21T15:29:42.921Z"
   },
   {
    "duration": 6,
    "start_time": "2023-03-21T15:29:42.935Z"
   },
   {
    "duration": 8,
    "start_time": "2023-03-21T15:29:42.942Z"
   },
   {
    "duration": 31,
    "start_time": "2023-03-21T15:29:42.951Z"
   },
   {
    "duration": 11,
    "start_time": "2023-03-21T15:29:42.984Z"
   },
   {
    "duration": 13,
    "start_time": "2023-03-21T15:29:42.996Z"
   },
   {
    "duration": 5,
    "start_time": "2023-03-21T15:29:43.010Z"
   },
   {
    "duration": 617,
    "start_time": "2023-03-21T15:29:43.017Z"
   },
   {
    "duration": 3,
    "start_time": "2023-03-21T15:29:43.636Z"
   },
   {
    "duration": 9,
    "start_time": "2023-03-21T15:29:43.640Z"
   },
   {
    "duration": 28,
    "start_time": "2023-03-21T15:29:43.651Z"
   },
   {
    "duration": 4310,
    "start_time": "2023-03-21T15:29:43.680Z"
   },
   {
    "duration": 608,
    "start_time": "2023-03-21T15:29:47.992Z"
   },
   {
    "duration": 1214,
    "start_time": "2023-03-21T15:29:48.601Z"
   },
   {
    "duration": 1295,
    "start_time": "2023-03-21T15:29:49.825Z"
   },
   {
    "duration": 3,
    "start_time": "2023-03-21T15:29:51.121Z"
   },
   {
    "duration": 14,
    "start_time": "2023-03-21T15:29:51.125Z"
   },
   {
    "duration": 31,
    "start_time": "2023-03-21T15:29:51.140Z"
   },
   {
    "duration": 14,
    "start_time": "2023-03-21T15:29:51.173Z"
   },
   {
    "duration": 22,
    "start_time": "2023-03-21T15:29:51.188Z"
   },
   {
    "duration": 33,
    "start_time": "2023-03-21T15:29:51.212Z"
   },
   {
    "duration": 24,
    "start_time": "2023-03-21T15:29:51.247Z"
   },
   {
    "duration": 3,
    "start_time": "2023-03-21T15:29:51.273Z"
   },
   {
    "duration": 14,
    "start_time": "2023-03-21T15:29:51.277Z"
   },
   {
    "duration": 15,
    "start_time": "2023-03-21T15:29:51.292Z"
   },
   {
    "duration": 18,
    "start_time": "2023-03-21T15:29:51.309Z"
   },
   {
    "duration": 2297,
    "start_time": "2023-03-21T15:29:51.328Z"
   },
   {
    "duration": 15976,
    "start_time": "2023-03-21T15:29:53.627Z"
   },
   {
    "duration": 64070,
    "start_time": "2023-03-21T15:30:09.605Z"
   },
   {
    "duration": 1848,
    "start_time": "2023-03-21T15:31:13.677Z"
   },
   {
    "duration": 0,
    "start_time": "2023-03-21T15:31:15.526Z"
   },
   {
    "duration": 8,
    "start_time": "2023-03-21T15:31:29.505Z"
   },
   {
    "duration": 85,
    "start_time": "2023-03-21T15:33:27.905Z"
   },
   {
    "duration": 18672,
    "start_time": "2023-03-21T15:33:40.777Z"
   },
   {
    "duration": 18784,
    "start_time": "2023-03-21T15:34:51.518Z"
   },
   {
    "duration": 9,
    "start_time": "2023-03-21T15:35:30.538Z"
   },
   {
    "duration": 11,
    "start_time": "2023-03-21T15:37:38.877Z"
   },
   {
    "duration": 11,
    "start_time": "2023-03-21T15:37:44.569Z"
   },
   {
    "duration": 10,
    "start_time": "2023-03-21T15:37:51.870Z"
   },
   {
    "duration": 17270,
    "start_time": "2023-03-21T15:41:14.985Z"
   },
   {
    "duration": 1322,
    "start_time": "2023-03-21T15:41:35.323Z"
   },
   {
    "duration": 616,
    "start_time": "2023-03-21T15:41:36.647Z"
   },
   {
    "duration": 4,
    "start_time": "2023-03-21T15:41:37.264Z"
   },
   {
    "duration": 60,
    "start_time": "2023-03-21T15:41:37.270Z"
   },
   {
    "duration": 37,
    "start_time": "2023-03-21T15:41:37.332Z"
   },
   {
    "duration": 18,
    "start_time": "2023-03-21T15:41:37.370Z"
   },
   {
    "duration": 128,
    "start_time": "2023-03-21T15:41:37.390Z"
   },
   {
    "duration": 84,
    "start_time": "2023-03-21T15:41:37.524Z"
   },
   {
    "duration": 206,
    "start_time": "2023-03-21T15:41:37.609Z"
   },
   {
    "duration": 127,
    "start_time": "2023-03-21T15:41:37.817Z"
   },
   {
    "duration": 216,
    "start_time": "2023-03-21T15:41:37.945Z"
   },
   {
    "duration": 7,
    "start_time": "2023-03-21T15:41:38.163Z"
   },
   {
    "duration": 12,
    "start_time": "2023-03-21T15:41:38.171Z"
   },
   {
    "duration": 8,
    "start_time": "2023-03-21T15:41:38.185Z"
   },
   {
    "duration": 5,
    "start_time": "2023-03-21T15:41:38.194Z"
   },
   {
    "duration": 25,
    "start_time": "2023-03-21T15:41:38.200Z"
   },
   {
    "duration": 23,
    "start_time": "2023-03-21T15:41:38.227Z"
   },
   {
    "duration": 24,
    "start_time": "2023-03-21T15:41:38.251Z"
   },
   {
    "duration": 11,
    "start_time": "2023-03-21T15:41:38.277Z"
   },
   {
    "duration": 5,
    "start_time": "2023-03-21T15:41:38.290Z"
   },
   {
    "duration": 610,
    "start_time": "2023-03-21T15:41:38.296Z"
   },
   {
    "duration": 3,
    "start_time": "2023-03-21T15:41:38.908Z"
   },
   {
    "duration": 12,
    "start_time": "2023-03-21T15:41:38.913Z"
   },
   {
    "duration": 28,
    "start_time": "2023-03-21T15:41:38.926Z"
   },
   {
    "duration": 4229,
    "start_time": "2023-03-21T15:41:38.955Z"
   },
   {
    "duration": 554,
    "start_time": "2023-03-21T15:41:43.186Z"
   },
   {
    "duration": 1230,
    "start_time": "2023-03-21T15:41:43.741Z"
   },
   {
    "duration": 1195,
    "start_time": "2023-03-21T15:41:44.973Z"
   },
   {
    "duration": 3,
    "start_time": "2023-03-21T15:41:46.169Z"
   },
   {
    "duration": 5,
    "start_time": "2023-03-21T15:41:46.173Z"
   },
   {
    "duration": 9,
    "start_time": "2023-03-21T15:41:46.179Z"
   },
   {
    "duration": 9,
    "start_time": "2023-03-21T15:41:46.190Z"
   },
   {
    "duration": 6,
    "start_time": "2023-03-21T15:41:46.200Z"
   },
   {
    "duration": 32,
    "start_time": "2023-03-21T15:41:46.207Z"
   },
   {
    "duration": 22,
    "start_time": "2023-03-21T15:41:46.240Z"
   },
   {
    "duration": 3,
    "start_time": "2023-03-21T15:41:46.263Z"
   },
   {
    "duration": 8,
    "start_time": "2023-03-21T15:41:46.267Z"
   },
   {
    "duration": 15,
    "start_time": "2023-03-21T15:41:46.276Z"
   },
   {
    "duration": 10,
    "start_time": "2023-03-21T15:41:46.292Z"
   },
   {
    "duration": 2520,
    "start_time": "2023-03-21T15:41:46.303Z"
   },
   {
    "duration": 15768,
    "start_time": "2023-03-21T15:41:48.828Z"
   },
   {
    "duration": 63937,
    "start_time": "2023-03-21T15:42:04.598Z"
   },
   {
    "duration": 18806,
    "start_time": "2023-03-21T15:43:08.536Z"
   },
   {
    "duration": 9,
    "start_time": "2023-03-21T15:43:27.343Z"
   },
   {
    "duration": 411,
    "start_time": "2023-03-21T15:43:40.193Z"
   },
   {
    "duration": 0,
    "start_time": "2023-03-22T12:43:51.276Z"
   },
   {
    "duration": 45,
    "start_time": "2023-03-22T12:43:53.436Z"
   },
   {
    "duration": 14,
    "start_time": "2023-03-22T12:44:03.377Z"
   },
   {
    "duration": 38,
    "start_time": "2023-03-22T12:44:33.424Z"
   },
   {
    "duration": 47,
    "start_time": "2023-03-23T11:26:17.057Z"
   },
   {
    "duration": 1841,
    "start_time": "2023-03-23T11:26:21.021Z"
   },
   {
    "duration": 3437,
    "start_time": "2023-03-23T11:26:22.864Z"
   },
   {
    "duration": 5,
    "start_time": "2023-03-23T11:26:26.303Z"
   },
   {
    "duration": 102,
    "start_time": "2023-03-23T11:26:26.310Z"
   },
   {
    "duration": 80,
    "start_time": "2023-03-23T11:26:26.415Z"
   },
   {
    "duration": 54,
    "start_time": "2023-03-23T11:26:26.497Z"
   },
   {
    "duration": 178,
    "start_time": "2023-03-23T11:26:26.553Z"
   },
   {
    "duration": 144,
    "start_time": "2023-03-23T11:26:26.733Z"
   },
   {
    "duration": 231,
    "start_time": "2023-03-23T11:26:26.879Z"
   },
   {
    "duration": 141,
    "start_time": "2023-03-23T11:26:27.112Z"
   },
   {
    "duration": 260,
    "start_time": "2023-03-23T11:26:27.255Z"
   },
   {
    "duration": 39,
    "start_time": "2023-03-23T11:26:27.516Z"
   },
   {
    "duration": 9,
    "start_time": "2023-03-23T11:26:27.559Z"
   },
   {
    "duration": 9,
    "start_time": "2023-03-23T11:26:27.571Z"
   },
   {
    "duration": 5,
    "start_time": "2023-03-23T11:26:27.582Z"
   },
   {
    "duration": 4,
    "start_time": "2023-03-23T11:26:27.589Z"
   },
   {
    "duration": 41,
    "start_time": "2023-03-23T11:26:27.595Z"
   },
   {
    "duration": 8,
    "start_time": "2023-03-23T11:26:27.637Z"
   },
   {
    "duration": 24,
    "start_time": "2023-03-23T11:26:27.647Z"
   },
   {
    "duration": 6,
    "start_time": "2023-03-23T11:26:27.673Z"
   },
   {
    "duration": 970,
    "start_time": "2023-03-23T11:26:27.681Z"
   },
   {
    "duration": 5,
    "start_time": "2023-03-23T11:26:28.655Z"
   },
   {
    "duration": 9,
    "start_time": "2023-03-23T11:26:28.662Z"
   },
   {
    "duration": 31,
    "start_time": "2023-03-23T11:26:28.673Z"
   },
   {
    "duration": 4802,
    "start_time": "2023-03-23T11:26:28.706Z"
   },
   {
    "duration": 609,
    "start_time": "2023-03-23T11:26:33.510Z"
   },
   {
    "duration": 1272,
    "start_time": "2023-03-23T11:26:34.133Z"
   },
   {
    "duration": 1543,
    "start_time": "2023-03-23T11:26:35.407Z"
   },
   {
    "duration": 5,
    "start_time": "2023-03-23T11:26:36.951Z"
   },
   {
    "duration": 16,
    "start_time": "2023-03-23T11:26:36.957Z"
   },
   {
    "duration": 10,
    "start_time": "2023-03-23T11:26:36.974Z"
   },
   {
    "duration": 14,
    "start_time": "2023-03-23T11:26:36.986Z"
   },
   {
    "duration": 9,
    "start_time": "2023-03-23T11:26:37.001Z"
   },
   {
    "duration": 39,
    "start_time": "2023-03-23T11:26:37.012Z"
   },
   {
    "duration": 50,
    "start_time": "2023-03-23T11:26:37.054Z"
   },
   {
    "duration": 5,
    "start_time": "2023-03-23T11:26:37.106Z"
   },
   {
    "duration": 45,
    "start_time": "2023-03-23T11:26:37.112Z"
   },
   {
    "duration": 23,
    "start_time": "2023-03-23T11:26:37.159Z"
   },
   {
    "duration": 15,
    "start_time": "2023-03-23T11:26:37.183Z"
   },
   {
    "duration": 9190,
    "start_time": "2023-03-23T11:26:37.200Z"
   },
   {
    "duration": 21815,
    "start_time": "2023-03-23T11:26:46.439Z"
   },
   {
    "duration": 1435,
    "start_time": "2023-03-23T11:28:30.316Z"
   },
   {
    "duration": 750,
    "start_time": "2023-03-23T11:28:31.753Z"
   },
   {
    "duration": 3,
    "start_time": "2023-03-23T11:28:32.506Z"
   },
   {
    "duration": 98,
    "start_time": "2023-03-23T11:28:32.513Z"
   },
   {
    "duration": 62,
    "start_time": "2023-03-23T11:28:32.612Z"
   },
   {
    "duration": 22,
    "start_time": "2023-03-23T11:28:32.675Z"
   },
   {
    "duration": 132,
    "start_time": "2023-03-23T11:28:32.699Z"
   },
   {
    "duration": 118,
    "start_time": "2023-03-23T11:28:32.833Z"
   },
   {
    "duration": 234,
    "start_time": "2023-03-23T11:28:32.954Z"
   },
   {
    "duration": 120,
    "start_time": "2023-03-23T11:28:33.192Z"
   },
   {
    "duration": 271,
    "start_time": "2023-03-23T11:28:33.314Z"
   },
   {
    "duration": 8,
    "start_time": "2023-03-23T11:28:33.587Z"
   },
   {
    "duration": 15,
    "start_time": "2023-03-23T11:28:33.597Z"
   },
   {
    "duration": 26,
    "start_time": "2023-03-23T11:28:33.613Z"
   },
   {
    "duration": 35,
    "start_time": "2023-03-23T11:28:33.640Z"
   },
   {
    "duration": 14,
    "start_time": "2023-03-23T11:28:33.677Z"
   },
   {
    "duration": 62,
    "start_time": "2023-03-23T11:28:33.693Z"
   },
   {
    "duration": 18,
    "start_time": "2023-03-23T11:28:33.756Z"
   },
   {
    "duration": 19,
    "start_time": "2023-03-23T11:28:33.776Z"
   },
   {
    "duration": 6,
    "start_time": "2023-03-23T11:28:33.797Z"
   },
   {
    "duration": 780,
    "start_time": "2023-03-23T11:28:33.805Z"
   },
   {
    "duration": 4,
    "start_time": "2023-03-23T11:28:34.587Z"
   },
   {
    "duration": 7,
    "start_time": "2023-03-23T11:28:34.593Z"
   },
   {
    "duration": 43,
    "start_time": "2023-03-23T11:28:34.602Z"
   },
   {
    "duration": 5131,
    "start_time": "2023-03-23T11:28:34.660Z"
   },
   {
    "duration": 742,
    "start_time": "2023-03-23T11:28:39.793Z"
   },
   {
    "duration": 1306,
    "start_time": "2023-03-23T11:28:40.547Z"
   },
   {
    "duration": 1425,
    "start_time": "2023-03-23T11:28:41.857Z"
   },
   {
    "duration": 3,
    "start_time": "2023-03-23T11:28:43.283Z"
   },
   {
    "duration": 5,
    "start_time": "2023-03-23T11:28:43.287Z"
   },
   {
    "duration": 9,
    "start_time": "2023-03-23T11:28:43.294Z"
   },
   {
    "duration": 11,
    "start_time": "2023-03-23T11:28:43.304Z"
   },
   {
    "duration": 37,
    "start_time": "2023-03-23T11:28:43.317Z"
   },
   {
    "duration": 28,
    "start_time": "2023-03-23T11:28:43.356Z"
   },
   {
    "duration": 22,
    "start_time": "2023-03-23T11:28:43.386Z"
   },
   {
    "duration": 11,
    "start_time": "2023-03-23T11:28:43.410Z"
   },
   {
    "duration": 54,
    "start_time": "2023-03-23T11:28:43.424Z"
   },
   {
    "duration": 48,
    "start_time": "2023-03-23T11:28:43.479Z"
   },
   {
    "duration": 30,
    "start_time": "2023-03-23T11:28:43.540Z"
   },
   {
    "duration": 9059,
    "start_time": "2023-03-23T11:28:43.571Z"
   },
   {
    "duration": 20825,
    "start_time": "2023-03-23T11:28:52.634Z"
   },
   {
    "duration": 86418,
    "start_time": "2023-03-23T11:29:13.461Z"
   },
   {
    "duration": 24610,
    "start_time": "2023-03-23T11:30:39.881Z"
   },
   {
    "duration": 7,
    "start_time": "2023-03-23T11:31:04.493Z"
   },
   {
    "duration": 136,
    "start_time": "2023-03-23T11:32:33.274Z"
   },
   {
    "duration": 14,
    "start_time": "2023-03-23T11:32:51.442Z"
   },
   {
    "duration": 1682,
    "start_time": "2023-03-23T11:33:06.972Z"
   },
   {
    "duration": 697,
    "start_time": "2023-03-23T11:33:08.656Z"
   },
   {
    "duration": 3,
    "start_time": "2023-03-23T11:33:09.355Z"
   },
   {
    "duration": 57,
    "start_time": "2023-03-23T11:33:09.360Z"
   },
   {
    "duration": 48,
    "start_time": "2023-03-23T11:33:09.420Z"
   },
   {
    "duration": 22,
    "start_time": "2023-03-23T11:33:09.469Z"
   },
   {
    "duration": 133,
    "start_time": "2023-03-23T11:33:09.492Z"
   },
   {
    "duration": 92,
    "start_time": "2023-03-23T11:33:09.626Z"
   },
   {
    "duration": 201,
    "start_time": "2023-03-23T11:33:09.720Z"
   },
   {
    "duration": 113,
    "start_time": "2023-03-23T11:33:09.934Z"
   },
   {
    "duration": 224,
    "start_time": "2023-03-23T11:33:10.048Z"
   },
   {
    "duration": 8,
    "start_time": "2023-03-23T11:33:10.274Z"
   },
   {
    "duration": 6,
    "start_time": "2023-03-23T11:33:10.284Z"
   },
   {
    "duration": 8,
    "start_time": "2023-03-23T11:33:10.294Z"
   },
   {
    "duration": 38,
    "start_time": "2023-03-23T11:33:10.303Z"
   },
   {
    "duration": 9,
    "start_time": "2023-03-23T11:33:10.353Z"
   },
   {
    "duration": 18,
    "start_time": "2023-03-23T11:33:10.364Z"
   },
   {
    "duration": 5,
    "start_time": "2023-03-23T11:33:10.383Z"
   },
   {
    "duration": 12,
    "start_time": "2023-03-23T11:33:10.390Z"
   },
   {
    "duration": 5,
    "start_time": "2023-03-23T11:33:10.404Z"
   },
   {
    "duration": 691,
    "start_time": "2023-03-23T11:33:10.410Z"
   },
   {
    "duration": 4,
    "start_time": "2023-03-23T11:33:11.102Z"
   },
   {
    "duration": 6,
    "start_time": "2023-03-23T11:33:11.108Z"
   },
   {
    "duration": 56,
    "start_time": "2023-03-23T11:33:11.115Z"
   },
   {
    "duration": 4517,
    "start_time": "2023-03-23T11:33:11.172Z"
   },
   {
    "duration": 666,
    "start_time": "2023-03-23T11:33:15.690Z"
   },
   {
    "duration": 1225,
    "start_time": "2023-03-23T11:33:16.358Z"
   },
   {
    "duration": 1118,
    "start_time": "2023-03-23T11:33:17.584Z"
   },
   {
    "duration": 3,
    "start_time": "2023-03-23T11:33:18.703Z"
   },
   {
    "duration": 10,
    "start_time": "2023-03-23T11:33:18.708Z"
   },
   {
    "duration": 41,
    "start_time": "2023-03-23T11:33:18.719Z"
   },
   {
    "duration": 157,
    "start_time": "2023-03-23T11:33:18.762Z"
   },
   {
    "duration": 0,
    "start_time": "2023-03-23T11:33:18.920Z"
   },
   {
    "duration": 0,
    "start_time": "2023-03-23T11:33:18.928Z"
   },
   {
    "duration": 0,
    "start_time": "2023-03-23T11:33:18.928Z"
   },
   {
    "duration": 0,
    "start_time": "2023-03-23T11:33:18.929Z"
   },
   {
    "duration": 0,
    "start_time": "2023-03-23T11:33:18.929Z"
   },
   {
    "duration": 0,
    "start_time": "2023-03-23T11:33:18.930Z"
   },
   {
    "duration": 0,
    "start_time": "2023-03-23T11:33:18.933Z"
   },
   {
    "duration": 0,
    "start_time": "2023-03-23T11:33:18.943Z"
   },
   {
    "duration": 0,
    "start_time": "2023-03-23T11:33:18.946Z"
   },
   {
    "duration": 0,
    "start_time": "2023-03-23T11:33:18.948Z"
   },
   {
    "duration": 0,
    "start_time": "2023-03-23T11:33:18.949Z"
   },
   {
    "duration": 0,
    "start_time": "2023-03-23T11:33:18.949Z"
   },
   {
    "duration": 24,
    "start_time": "2023-03-23T11:33:36.355Z"
   },
   {
    "duration": 9,
    "start_time": "2023-03-23T11:33:39.303Z"
   },
   {
    "duration": 1621,
    "start_time": "2023-03-23T11:35:37.153Z"
   },
   {
    "duration": 676,
    "start_time": "2023-03-23T11:35:38.776Z"
   },
   {
    "duration": 4,
    "start_time": "2023-03-23T11:35:39.454Z"
   },
   {
    "duration": 49,
    "start_time": "2023-03-23T11:35:39.459Z"
   },
   {
    "duration": 54,
    "start_time": "2023-03-23T11:35:39.510Z"
   },
   {
    "duration": 19,
    "start_time": "2023-03-23T11:35:39.566Z"
   },
   {
    "duration": 162,
    "start_time": "2023-03-23T11:35:39.587Z"
   },
   {
    "duration": 107,
    "start_time": "2023-03-23T11:35:39.756Z"
   },
   {
    "duration": 207,
    "start_time": "2023-03-23T11:35:39.865Z"
   },
   {
    "duration": 110,
    "start_time": "2023-03-23T11:35:40.073Z"
   },
   {
    "duration": 220,
    "start_time": "2023-03-23T11:35:40.185Z"
   },
   {
    "duration": 33,
    "start_time": "2023-03-23T11:35:40.406Z"
   },
   {
    "duration": 9,
    "start_time": "2023-03-23T11:35:40.449Z"
   },
   {
    "duration": 12,
    "start_time": "2023-03-23T11:35:40.461Z"
   },
   {
    "duration": 16,
    "start_time": "2023-03-23T11:35:40.475Z"
   },
   {
    "duration": 7,
    "start_time": "2023-03-23T11:35:40.492Z"
   },
   {
    "duration": 35,
    "start_time": "2023-03-23T11:35:40.500Z"
   },
   {
    "duration": 23,
    "start_time": "2023-03-23T11:35:40.536Z"
   },
   {
    "duration": 20,
    "start_time": "2023-03-23T11:35:40.560Z"
   },
   {
    "duration": 16,
    "start_time": "2023-03-23T11:35:40.581Z"
   },
   {
    "duration": 671,
    "start_time": "2023-03-23T11:35:40.598Z"
   },
   {
    "duration": 4,
    "start_time": "2023-03-23T11:35:41.271Z"
   },
   {
    "duration": 9,
    "start_time": "2023-03-23T11:35:41.276Z"
   },
   {
    "duration": 48,
    "start_time": "2023-03-23T11:35:41.287Z"
   },
   {
    "duration": 4334,
    "start_time": "2023-03-23T11:35:41.337Z"
   },
   {
    "duration": 775,
    "start_time": "2023-03-23T11:35:45.672Z"
   },
   {
    "duration": 1302,
    "start_time": "2023-03-23T11:35:46.449Z"
   },
   {
    "duration": 1368,
    "start_time": "2023-03-23T11:35:47.752Z"
   },
   {
    "duration": 21,
    "start_time": "2023-03-23T11:35:49.121Z"
   },
   {
    "duration": 7,
    "start_time": "2023-03-23T11:35:49.153Z"
   },
   {
    "duration": 16,
    "start_time": "2023-03-23T11:35:49.162Z"
   },
   {
    "duration": 25,
    "start_time": "2023-03-23T11:35:49.180Z"
   },
   {
    "duration": 197,
    "start_time": "2023-03-23T11:35:49.207Z"
   },
   {
    "duration": 0,
    "start_time": "2023-03-23T11:35:49.406Z"
   },
   {
    "duration": 0,
    "start_time": "2023-03-23T11:35:49.409Z"
   },
   {
    "duration": 0,
    "start_time": "2023-03-23T11:35:49.410Z"
   },
   {
    "duration": 0,
    "start_time": "2023-03-23T11:35:49.411Z"
   },
   {
    "duration": 0,
    "start_time": "2023-03-23T11:35:49.413Z"
   },
   {
    "duration": 0,
    "start_time": "2023-03-23T11:35:49.414Z"
   },
   {
    "duration": 0,
    "start_time": "2023-03-23T11:35:49.414Z"
   },
   {
    "duration": 0,
    "start_time": "2023-03-23T11:35:49.415Z"
   },
   {
    "duration": 0,
    "start_time": "2023-03-23T11:35:49.417Z"
   },
   {
    "duration": 0,
    "start_time": "2023-03-23T11:35:49.418Z"
   },
   {
    "duration": 0,
    "start_time": "2023-03-23T11:35:49.419Z"
   },
   {
    "duration": 21,
    "start_time": "2023-03-23T11:35:55.542Z"
   },
   {
    "duration": 21,
    "start_time": "2023-03-23T11:36:09.150Z"
   },
   {
    "duration": 30,
    "start_time": "2023-03-23T11:36:14.607Z"
   },
   {
    "duration": 20,
    "start_time": "2023-03-23T11:36:31.019Z"
   },
   {
    "duration": 42,
    "start_time": "2023-03-23T11:36:36.305Z"
   },
   {
    "duration": 49,
    "start_time": "2023-03-23T11:36:42.112Z"
   },
   {
    "duration": 21,
    "start_time": "2023-03-23T11:36:51.383Z"
   },
   {
    "duration": 1389,
    "start_time": "2023-03-23T11:37:06.316Z"
   },
   {
    "duration": 689,
    "start_time": "2023-03-23T11:37:07.707Z"
   },
   {
    "duration": 3,
    "start_time": "2023-03-23T11:37:08.397Z"
   },
   {
    "duration": 56,
    "start_time": "2023-03-23T11:37:08.402Z"
   },
   {
    "duration": 37,
    "start_time": "2023-03-23T11:37:08.460Z"
   },
   {
    "duration": 57,
    "start_time": "2023-03-23T11:37:08.499Z"
   },
   {
    "duration": 114,
    "start_time": "2023-03-23T11:37:08.558Z"
   },
   {
    "duration": 92,
    "start_time": "2023-03-23T11:37:08.673Z"
   },
   {
    "duration": 205,
    "start_time": "2023-03-23T11:37:08.766Z"
   },
   {
    "duration": 108,
    "start_time": "2023-03-23T11:37:08.973Z"
   },
   {
    "duration": 212,
    "start_time": "2023-03-23T11:37:09.082Z"
   },
   {
    "duration": 8,
    "start_time": "2023-03-23T11:37:09.295Z"
   },
   {
    "duration": 40,
    "start_time": "2023-03-23T11:37:09.304Z"
   },
   {
    "duration": 11,
    "start_time": "2023-03-23T11:37:09.355Z"
   },
   {
    "duration": 6,
    "start_time": "2023-03-23T11:37:09.367Z"
   },
   {
    "duration": 11,
    "start_time": "2023-03-23T11:37:09.374Z"
   },
   {
    "duration": 53,
    "start_time": "2023-03-23T11:37:09.386Z"
   },
   {
    "duration": 16,
    "start_time": "2023-03-23T11:37:09.440Z"
   },
   {
    "duration": 11,
    "start_time": "2023-03-23T11:37:09.457Z"
   },
   {
    "duration": 5,
    "start_time": "2023-03-23T11:37:09.469Z"
   },
   {
    "duration": 721,
    "start_time": "2023-03-23T11:37:09.476Z"
   },
   {
    "duration": 3,
    "start_time": "2023-03-23T11:37:10.199Z"
   },
   {
    "duration": 4,
    "start_time": "2023-03-23T11:37:10.204Z"
   },
   {
    "duration": 26,
    "start_time": "2023-03-23T11:37:10.210Z"
   },
   {
    "duration": 4528,
    "start_time": "2023-03-23T11:37:10.238Z"
   },
   {
    "duration": 611,
    "start_time": "2023-03-23T11:37:14.768Z"
   },
   {
    "duration": 1370,
    "start_time": "2023-03-23T11:37:15.381Z"
   },
   {
    "duration": 1309,
    "start_time": "2023-03-23T11:37:16.753Z"
   },
   {
    "duration": 4,
    "start_time": "2023-03-23T11:37:18.064Z"
   },
   {
    "duration": 28,
    "start_time": "2023-03-23T11:37:18.070Z"
   },
   {
    "duration": 14,
    "start_time": "2023-03-23T11:37:18.100Z"
   },
   {
    "duration": 37,
    "start_time": "2023-03-23T11:37:18.116Z"
   },
   {
    "duration": 7,
    "start_time": "2023-03-23T11:37:18.155Z"
   },
   {
    "duration": 27,
    "start_time": "2023-03-23T11:37:18.163Z"
   },
   {
    "duration": 23,
    "start_time": "2023-03-23T11:37:18.191Z"
   },
   {
    "duration": 2,
    "start_time": "2023-03-23T11:37:18.216Z"
   },
   {
    "duration": 35,
    "start_time": "2023-03-23T11:37:18.220Z"
   },
   {
    "duration": 20,
    "start_time": "2023-03-23T11:37:18.257Z"
   },
   {
    "duration": 18,
    "start_time": "2023-03-23T11:37:18.278Z"
   },
   {
    "duration": 11755,
    "start_time": "2023-03-23T11:37:18.297Z"
   },
   {
    "duration": 20641,
    "start_time": "2023-03-23T11:37:30.125Z"
   },
   {
    "duration": 83399,
    "start_time": "2023-03-23T11:37:50.768Z"
   },
   {
    "duration": 25007,
    "start_time": "2023-03-23T11:39:14.169Z"
   },
   {
    "duration": 8,
    "start_time": "2023-03-23T11:39:39.178Z"
   },
   {
    "duration": 13,
    "start_time": "2023-03-23T11:39:39.188Z"
   },
   {
    "duration": 6,
    "start_time": "2023-03-23T11:42:25.020Z"
   },
   {
    "duration": 21,
    "start_time": "2023-03-23T11:42:30.272Z"
   },
   {
    "duration": 1345,
    "start_time": "2023-03-23T11:43:00.802Z"
   },
   {
    "duration": 635,
    "start_time": "2023-03-23T11:43:02.149Z"
   },
   {
    "duration": 4,
    "start_time": "2023-03-23T11:43:02.786Z"
   },
   {
    "duration": 71,
    "start_time": "2023-03-23T11:43:02.791Z"
   },
   {
    "duration": 39,
    "start_time": "2023-03-23T11:43:02.864Z"
   },
   {
    "duration": 43,
    "start_time": "2023-03-23T11:43:02.904Z"
   },
   {
    "duration": 131,
    "start_time": "2023-03-23T11:43:02.949Z"
   },
   {
    "duration": 98,
    "start_time": "2023-03-23T11:43:03.082Z"
   },
   {
    "duration": 195,
    "start_time": "2023-03-23T11:43:03.182Z"
   },
   {
    "duration": 112,
    "start_time": "2023-03-23T11:43:03.378Z"
   },
   {
    "duration": 214,
    "start_time": "2023-03-23T11:43:03.492Z"
   },
   {
    "duration": 28,
    "start_time": "2023-03-23T11:43:03.708Z"
   },
   {
    "duration": 7,
    "start_time": "2023-03-23T11:43:03.737Z"
   },
   {
    "duration": 11,
    "start_time": "2023-03-23T11:43:03.746Z"
   },
   {
    "duration": 19,
    "start_time": "2023-03-23T11:43:03.758Z"
   },
   {
    "duration": 14,
    "start_time": "2023-03-23T11:43:03.779Z"
   },
   {
    "duration": 49,
    "start_time": "2023-03-23T11:43:03.794Z"
   },
   {
    "duration": 21,
    "start_time": "2023-03-23T11:43:03.845Z"
   },
   {
    "duration": 26,
    "start_time": "2023-03-23T11:43:03.867Z"
   },
   {
    "duration": 43,
    "start_time": "2023-03-23T11:43:03.895Z"
   },
   {
    "duration": 845,
    "start_time": "2023-03-23T11:43:03.940Z"
   },
   {
    "duration": 4,
    "start_time": "2023-03-23T11:43:04.786Z"
   },
   {
    "duration": 18,
    "start_time": "2023-03-23T11:43:04.792Z"
   },
   {
    "duration": 32,
    "start_time": "2023-03-23T11:43:04.811Z"
   },
   {
    "duration": 4669,
    "start_time": "2023-03-23T11:43:04.845Z"
   },
   {
    "duration": 545,
    "start_time": "2023-03-23T11:43:09.515Z"
   },
   {
    "duration": 1126,
    "start_time": "2023-03-23T11:43:10.061Z"
   },
   {
    "duration": 1249,
    "start_time": "2023-03-23T11:43:11.189Z"
   },
   {
    "duration": 3,
    "start_time": "2023-03-23T11:43:12.441Z"
   },
   {
    "duration": 7,
    "start_time": "2023-03-23T11:43:12.445Z"
   },
   {
    "duration": 9,
    "start_time": "2023-03-23T11:43:12.453Z"
   },
   {
    "duration": 8,
    "start_time": "2023-03-23T11:43:12.464Z"
   },
   {
    "duration": 8,
    "start_time": "2023-03-23T11:43:12.473Z"
   },
   {
    "duration": 42,
    "start_time": "2023-03-23T11:43:12.482Z"
   },
   {
    "duration": 32,
    "start_time": "2023-03-23T11:43:12.525Z"
   },
   {
    "duration": 3,
    "start_time": "2023-03-23T11:43:12.558Z"
   },
   {
    "duration": 12,
    "start_time": "2023-03-23T11:43:12.563Z"
   },
   {
    "duration": 9,
    "start_time": "2023-03-23T11:43:12.577Z"
   },
   {
    "duration": 12,
    "start_time": "2023-03-23T11:43:12.588Z"
   },
   {
    "duration": 1678,
    "start_time": "2023-03-23T11:43:12.601Z"
   },
   {
    "duration": 0,
    "start_time": "2023-03-23T11:43:14.280Z"
   },
   {
    "duration": 0,
    "start_time": "2023-03-23T11:43:14.282Z"
   },
   {
    "duration": 0,
    "start_time": "2023-03-23T11:43:14.282Z"
   },
   {
    "duration": 0,
    "start_time": "2023-03-23T11:43:14.283Z"
   },
   {
    "duration": 6,
    "start_time": "2023-03-23T11:44:04.367Z"
   },
   {
    "duration": 27,
    "start_time": "2023-03-23T11:44:06.310Z"
   },
   {
    "duration": 14,
    "start_time": "2023-03-23T11:44:24.933Z"
   },
   {
    "duration": 31,
    "start_time": "2023-03-23T11:45:34.045Z"
   },
   {
    "duration": 7,
    "start_time": "2023-03-23T11:45:55.553Z"
   },
   {
    "duration": 22,
    "start_time": "2023-03-23T11:45:58.040Z"
   },
   {
    "duration": 20,
    "start_time": "2023-03-23T11:48:11.940Z"
   },
   {
    "duration": 8,
    "start_time": "2023-03-23T11:49:48.956Z"
   },
   {
    "duration": 23,
    "start_time": "2023-03-23T11:49:52.057Z"
   },
   {
    "duration": 12,
    "start_time": "2023-03-23T11:49:54.965Z"
   },
   {
    "duration": 7,
    "start_time": "2023-03-23T11:51:14.538Z"
   },
   {
    "duration": 22,
    "start_time": "2023-03-23T11:51:16.441Z"
   },
   {
    "duration": 15,
    "start_time": "2023-03-23T11:51:16.961Z"
   },
   {
    "duration": 9,
    "start_time": "2023-03-23T11:51:45.490Z"
   },
   {
    "duration": 11,
    "start_time": "2023-03-23T11:51:59.854Z"
   },
   {
    "duration": 7,
    "start_time": "2023-03-23T11:53:12.547Z"
   },
   {
    "duration": 4,
    "start_time": "2023-03-23T11:53:14.263Z"
   },
   {
    "duration": 22,
    "start_time": "2023-03-23T11:53:14.583Z"
   },
   {
    "duration": 36,
    "start_time": "2023-03-23T11:53:15.083Z"
   },
   {
    "duration": 27,
    "start_time": "2023-03-23T11:53:21.808Z"
   },
   {
    "duration": 17,
    "start_time": "2023-03-23T11:53:22.247Z"
   },
   {
    "duration": 11,
    "start_time": "2023-03-23T11:55:54.087Z"
   },
   {
    "duration": 6,
    "start_time": "2023-03-23T11:56:04.972Z"
   },
   {
    "duration": 4,
    "start_time": "2023-03-23T11:56:09.573Z"
   },
   {
    "duration": 8,
    "start_time": "2023-03-23T11:56:21.948Z"
   },
   {
    "duration": 4,
    "start_time": "2023-03-23T11:56:22.389Z"
   },
   {
    "duration": 12,
    "start_time": "2023-03-23T11:56:35.448Z"
   },
   {
    "duration": 5,
    "start_time": "2023-03-23T11:56:40.965Z"
   },
   {
    "duration": 4,
    "start_time": "2023-03-23T11:56:46.050Z"
   },
   {
    "duration": 62,
    "start_time": "2023-03-23T11:56:51.980Z"
   },
   {
    "duration": 3,
    "start_time": "2023-03-23T11:56:59.555Z"
   },
   {
    "duration": 150152,
    "start_time": "2023-03-23T11:57:04.512Z"
   },
   {
    "duration": 0,
    "start_time": "2023-03-23T11:59:34.666Z"
   },
   {
    "duration": 25,
    "start_time": "2023-03-23T12:03:54.168Z"
   },
   {
    "duration": 26,
    "start_time": "2023-03-23T12:04:06.113Z"
   },
   {
    "duration": 30,
    "start_time": "2023-03-23T12:04:13.409Z"
   },
   {
    "duration": 1440,
    "start_time": "2023-03-23T12:04:39.919Z"
   },
   {
    "duration": 743,
    "start_time": "2023-03-23T12:04:41.361Z"
   },
   {
    "duration": 3,
    "start_time": "2023-03-23T12:04:42.106Z"
   },
   {
    "duration": 65,
    "start_time": "2023-03-23T12:04:42.111Z"
   },
   {
    "duration": 76,
    "start_time": "2023-03-23T12:04:42.179Z"
   },
   {
    "duration": 20,
    "start_time": "2023-03-23T12:04:42.257Z"
   },
   {
    "duration": 133,
    "start_time": "2023-03-23T12:04:42.278Z"
   },
   {
    "duration": 95,
    "start_time": "2023-03-23T12:04:42.412Z"
   },
   {
    "duration": 203,
    "start_time": "2023-03-23T12:04:42.509Z"
   },
   {
    "duration": 129,
    "start_time": "2023-03-23T12:04:42.714Z"
   },
   {
    "duration": 222,
    "start_time": "2023-03-23T12:04:42.845Z"
   },
   {
    "duration": 8,
    "start_time": "2023-03-23T12:04:43.068Z"
   },
   {
    "duration": 6,
    "start_time": "2023-03-23T12:04:43.077Z"
   },
   {
    "duration": 11,
    "start_time": "2023-03-23T12:04:43.085Z"
   },
   {
    "duration": 34,
    "start_time": "2023-03-23T12:04:43.097Z"
   },
   {
    "duration": 21,
    "start_time": "2023-03-23T12:04:43.134Z"
   },
   {
    "duration": 34,
    "start_time": "2023-03-23T12:04:43.157Z"
   },
   {
    "duration": 42,
    "start_time": "2023-03-23T12:04:43.192Z"
   },
   {
    "duration": 28,
    "start_time": "2023-03-23T12:04:43.236Z"
   },
   {
    "duration": 7,
    "start_time": "2023-03-23T12:04:43.265Z"
   },
   {
    "duration": 734,
    "start_time": "2023-03-23T12:04:43.273Z"
   },
   {
    "duration": 5,
    "start_time": "2023-03-23T12:04:44.009Z"
   },
   {
    "duration": 52,
    "start_time": "2023-03-23T12:04:44.016Z"
   },
   {
    "duration": 49,
    "start_time": "2023-03-23T12:04:44.070Z"
   },
   {
    "duration": 4726,
    "start_time": "2023-03-23T12:04:44.121Z"
   },
   {
    "duration": 606,
    "start_time": "2023-03-23T12:04:48.848Z"
   },
   {
    "duration": 1247,
    "start_time": "2023-03-23T12:04:49.456Z"
   },
   {
    "duration": 1223,
    "start_time": "2023-03-23T12:04:50.705Z"
   },
   {
    "duration": 3,
    "start_time": "2023-03-23T12:04:51.930Z"
   },
   {
    "duration": 32,
    "start_time": "2023-03-23T12:04:51.934Z"
   },
   {
    "duration": 22,
    "start_time": "2023-03-23T12:04:51.967Z"
   },
   {
    "duration": 30,
    "start_time": "2023-03-23T12:04:51.991Z"
   },
   {
    "duration": 74,
    "start_time": "2023-03-23T12:04:52.022Z"
   },
   {
    "duration": 44,
    "start_time": "2023-03-23T12:04:52.097Z"
   },
   {
    "duration": 63,
    "start_time": "2023-03-23T12:04:52.142Z"
   },
   {
    "duration": 13,
    "start_time": "2023-03-23T12:04:52.207Z"
   },
   {
    "duration": 57,
    "start_time": "2023-03-23T12:04:52.221Z"
   },
   {
    "duration": 2,
    "start_time": "2023-03-23T12:04:52.280Z"
   },
   {
    "duration": 12,
    "start_time": "2023-03-23T12:04:52.284Z"
   },
   {
    "duration": 165,
    "start_time": "2023-03-23T12:04:52.297Z"
   },
   {
    "duration": 0,
    "start_time": "2023-03-23T12:04:52.465Z"
   },
   {
    "duration": 0,
    "start_time": "2023-03-23T12:04:52.466Z"
   },
   {
    "duration": 1,
    "start_time": "2023-03-23T12:04:52.467Z"
   },
   {
    "duration": 0,
    "start_time": "2023-03-23T12:04:52.469Z"
   },
   {
    "duration": 0,
    "start_time": "2023-03-23T12:04:52.470Z"
   },
   {
    "duration": 0,
    "start_time": "2023-03-23T12:04:52.471Z"
   },
   {
    "duration": 18,
    "start_time": "2023-03-23T12:06:58.517Z"
   },
   {
    "duration": 3,
    "start_time": "2023-03-23T12:07:05.710Z"
   },
   {
    "duration": 8,
    "start_time": "2023-03-23T12:07:09.457Z"
   },
   {
    "duration": 25,
    "start_time": "2023-03-23T12:07:10.110Z"
   },
   {
    "duration": 13,
    "start_time": "2023-03-23T12:07:33.272Z"
   },
   {
    "duration": 1144,
    "start_time": "2023-03-23T12:07:57.675Z"
   },
   {
    "duration": 9,
    "start_time": "2023-03-23T12:08:18.247Z"
   },
   {
    "duration": 3,
    "start_time": "2023-03-23T12:08:25.900Z"
   },
   {
    "duration": 14,
    "start_time": "2023-03-23T12:08:27.708Z"
   },
   {
    "duration": 10,
    "start_time": "2023-03-23T12:09:25.737Z"
   },
   {
    "duration": 18,
    "start_time": "2023-03-23T12:09:26.288Z"
   },
   {
    "duration": 3,
    "start_time": "2023-03-23T12:09:39.368Z"
   },
   {
    "duration": 10,
    "start_time": "2023-03-23T12:09:39.880Z"
   },
   {
    "duration": 1563,
    "start_time": "2023-03-23T12:09:40.384Z"
   },
   {
    "duration": 3,
    "start_time": "2023-03-23T12:09:45.416Z"
   },
   {
    "duration": 1903,
    "start_time": "2023-03-23T12:09:45.844Z"
   },
   {
    "duration": 0,
    "start_time": "2023-03-23T12:09:47.749Z"
   },
   {
    "duration": 1,
    "start_time": "2023-03-23T12:09:47.750Z"
   },
   {
    "duration": 1323,
    "start_time": "2023-03-23T12:10:27.938Z"
   },
   {
    "duration": 622,
    "start_time": "2023-03-23T12:10:29.263Z"
   },
   {
    "duration": 4,
    "start_time": "2023-03-23T12:10:29.886Z"
   },
   {
    "duration": 59,
    "start_time": "2023-03-23T12:10:29.891Z"
   },
   {
    "duration": 40,
    "start_time": "2023-03-23T12:10:29.952Z"
   },
   {
    "duration": 50,
    "start_time": "2023-03-23T12:10:29.994Z"
   },
   {
    "duration": 118,
    "start_time": "2023-03-23T12:10:30.045Z"
   },
   {
    "duration": 93,
    "start_time": "2023-03-23T12:10:30.165Z"
   },
   {
    "duration": 196,
    "start_time": "2023-03-23T12:10:30.260Z"
   },
   {
    "duration": 103,
    "start_time": "2023-03-23T12:10:30.457Z"
   },
   {
    "duration": 219,
    "start_time": "2023-03-23T12:10:30.562Z"
   },
   {
    "duration": 8,
    "start_time": "2023-03-23T12:10:30.782Z"
   },
   {
    "duration": 47,
    "start_time": "2023-03-23T12:10:30.791Z"
   },
   {
    "duration": 16,
    "start_time": "2023-03-23T12:10:30.841Z"
   },
   {
    "duration": 9,
    "start_time": "2023-03-23T12:10:30.859Z"
   },
   {
    "duration": 29,
    "start_time": "2023-03-23T12:10:30.869Z"
   },
   {
    "duration": 77,
    "start_time": "2023-03-23T12:10:30.900Z"
   },
   {
    "duration": 35,
    "start_time": "2023-03-23T12:10:30.979Z"
   },
   {
    "duration": 51,
    "start_time": "2023-03-23T12:10:31.015Z"
   },
   {
    "duration": 33,
    "start_time": "2023-03-23T12:10:31.068Z"
   },
   {
    "duration": 707,
    "start_time": "2023-03-23T12:10:31.102Z"
   },
   {
    "duration": 4,
    "start_time": "2023-03-23T12:10:31.811Z"
   },
   {
    "duration": 37,
    "start_time": "2023-03-23T12:10:31.817Z"
   },
   {
    "duration": 52,
    "start_time": "2023-03-23T12:10:31.856Z"
   },
   {
    "duration": 4369,
    "start_time": "2023-03-23T12:10:31.910Z"
   },
   {
    "duration": 680,
    "start_time": "2023-03-23T12:10:36.283Z"
   },
   {
    "duration": 1264,
    "start_time": "2023-03-23T12:10:36.964Z"
   },
   {
    "duration": 1154,
    "start_time": "2023-03-23T12:10:38.234Z"
   },
   {
    "duration": 3,
    "start_time": "2023-03-23T12:10:39.390Z"
   },
   {
    "duration": 4,
    "start_time": "2023-03-23T12:10:39.394Z"
   },
   {
    "duration": 9,
    "start_time": "2023-03-23T12:10:39.399Z"
   },
   {
    "duration": 26,
    "start_time": "2023-03-23T12:10:39.410Z"
   },
   {
    "duration": 9,
    "start_time": "2023-03-23T12:10:39.437Z"
   },
   {
    "duration": 37,
    "start_time": "2023-03-23T12:10:39.447Z"
   },
   {
    "duration": 21,
    "start_time": "2023-03-23T12:10:39.485Z"
   },
   {
    "duration": 11,
    "start_time": "2023-03-23T12:10:39.507Z"
   },
   {
    "duration": 21,
    "start_time": "2023-03-23T12:10:39.519Z"
   },
   {
    "duration": 8,
    "start_time": "2023-03-23T12:10:39.542Z"
   },
   {
    "duration": 7,
    "start_time": "2023-03-23T12:10:39.552Z"
   },
   {
    "duration": 15,
    "start_time": "2023-03-23T12:10:39.560Z"
   },
   {
    "duration": 3,
    "start_time": "2023-03-23T12:10:39.578Z"
   },
   {
    "duration": 4455,
    "start_time": "2023-03-23T12:10:39.582Z"
   },
   {
    "duration": 17687,
    "start_time": "2023-03-23T12:10:44.055Z"
   },
   {
    "duration": 70212,
    "start_time": "2023-03-23T12:11:01.744Z"
   },
   {
    "duration": 20653,
    "start_time": "2023-03-23T12:12:11.958Z"
   },
   {
    "duration": 24,
    "start_time": "2023-03-23T12:12:32.612Z"
   },
   {
    "duration": 6758,
    "start_time": "2023-03-23T12:16:02.380Z"
   },
   {
    "duration": 10,
    "start_time": "2023-03-23T12:16:13.234Z"
   },
   {
    "duration": 1503,
    "start_time": "2023-03-23T12:18:20.882Z"
   },
   {
    "duration": 646,
    "start_time": "2023-03-23T12:18:22.387Z"
   },
   {
    "duration": 7,
    "start_time": "2023-03-23T12:18:23.034Z"
   },
   {
    "duration": 48,
    "start_time": "2023-03-23T12:18:23.043Z"
   },
   {
    "duration": 62,
    "start_time": "2023-03-23T12:18:23.093Z"
   },
   {
    "duration": 18,
    "start_time": "2023-03-23T12:18:23.157Z"
   },
   {
    "duration": 114,
    "start_time": "2023-03-23T12:18:23.176Z"
   },
   {
    "duration": 101,
    "start_time": "2023-03-23T12:18:23.292Z"
   },
   {
    "duration": 190,
    "start_time": "2023-03-23T12:18:23.394Z"
   },
   {
    "duration": 123,
    "start_time": "2023-03-23T12:18:23.585Z"
   },
   {
    "duration": 226,
    "start_time": "2023-03-23T12:18:23.709Z"
   },
   {
    "duration": 8,
    "start_time": "2023-03-23T12:18:23.938Z"
   },
   {
    "duration": 6,
    "start_time": "2023-03-23T12:18:23.947Z"
   },
   {
    "duration": 12,
    "start_time": "2023-03-23T12:18:23.955Z"
   },
   {
    "duration": 6,
    "start_time": "2023-03-23T12:18:23.969Z"
   },
   {
    "duration": 3,
    "start_time": "2023-03-23T12:18:23.977Z"
   },
   {
    "duration": 23,
    "start_time": "2023-03-23T12:18:23.981Z"
   },
   {
    "duration": 17,
    "start_time": "2023-03-23T12:18:24.027Z"
   },
   {
    "duration": 12,
    "start_time": "2023-03-23T12:18:24.046Z"
   },
   {
    "duration": 14,
    "start_time": "2023-03-23T12:18:24.060Z"
   },
   {
    "duration": 690,
    "start_time": "2023-03-23T12:18:24.075Z"
   },
   {
    "duration": 4,
    "start_time": "2023-03-23T12:18:24.766Z"
   },
   {
    "duration": 36,
    "start_time": "2023-03-23T12:18:24.772Z"
   },
   {
    "duration": 49,
    "start_time": "2023-03-23T12:18:24.810Z"
   },
   {
    "duration": 4459,
    "start_time": "2023-03-23T12:18:24.860Z"
   },
   {
    "duration": 621,
    "start_time": "2023-03-23T12:18:29.320Z"
   },
   {
    "duration": 1248,
    "start_time": "2023-03-23T12:18:29.943Z"
   },
   {
    "duration": 1295,
    "start_time": "2023-03-23T12:18:31.192Z"
   },
   {
    "duration": 2,
    "start_time": "2023-03-23T12:18:32.489Z"
   },
   {
    "duration": 6,
    "start_time": "2023-03-23T12:18:32.493Z"
   },
   {
    "duration": 8,
    "start_time": "2023-03-23T12:18:32.500Z"
   },
   {
    "duration": 26,
    "start_time": "2023-03-23T12:18:32.510Z"
   },
   {
    "duration": 12,
    "start_time": "2023-03-23T12:18:32.538Z"
   },
   {
    "duration": 24,
    "start_time": "2023-03-23T12:18:32.551Z"
   },
   {
    "duration": 20,
    "start_time": "2023-03-23T12:18:32.576Z"
   },
   {
    "duration": 10,
    "start_time": "2023-03-23T12:18:32.598Z"
   },
   {
    "duration": 29,
    "start_time": "2023-03-23T12:18:32.610Z"
   },
   {
    "duration": 15,
    "start_time": "2023-03-23T12:18:32.641Z"
   },
   {
    "duration": 6,
    "start_time": "2023-03-23T12:18:32.658Z"
   },
   {
    "duration": 8,
    "start_time": "2023-03-23T12:18:32.665Z"
   },
   {
    "duration": 3,
    "start_time": "2023-03-23T12:18:32.677Z"
   },
   {
    "duration": 4962,
    "start_time": "2023-03-23T12:18:32.681Z"
   },
   {
    "duration": 18145,
    "start_time": "2023-03-23T12:18:37.644Z"
   },
   {
    "duration": 70752,
    "start_time": "2023-03-23T12:18:55.791Z"
   },
   {
    "duration": 6825,
    "start_time": "2023-03-23T12:20:06.545Z"
   },
   {
    "duration": 8,
    "start_time": "2023-03-23T12:20:13.371Z"
   },
   {
    "duration": 29690,
    "start_time": "2023-03-23T12:43:19.037Z"
   },
   {
    "duration": 62670,
    "start_time": "2023-03-23T12:43:48.729Z"
   },
   {
    "duration": 41248,
    "start_time": "2023-03-23T12:44:51.401Z"
   },
   {
    "duration": 0,
    "start_time": "2023-03-23T12:46:17.699Z"
   },
   {
    "duration": 0,
    "start_time": "2023-03-23T12:46:17.700Z"
   },
   {
    "duration": 100801,
    "start_time": "2023-03-23T12:46:19.010Z"
   },
   {
    "duration": 87945,
    "start_time": "2023-03-23T12:48:05.116Z"
   },
   {
    "duration": 238748,
    "start_time": "2023-03-23T12:49:33.063Z"
   },
   {
    "duration": 7382,
    "start_time": "2023-03-23T12:53:31.813Z"
   },
   {
    "duration": 7710,
    "start_time": "2023-03-23T12:53:45.744Z"
   },
   {
    "duration": 14,
    "start_time": "2023-03-23T12:53:55.740Z"
   },
   {
    "duration": 7337,
    "start_time": "2023-03-23T12:54:03.970Z"
   },
   {
    "duration": 1415,
    "start_time": "2023-03-23T12:54:23.844Z"
   },
   {
    "duration": 655,
    "start_time": "2023-03-23T12:54:25.262Z"
   },
   {
    "duration": 10,
    "start_time": "2023-03-23T12:54:25.918Z"
   },
   {
    "duration": 102,
    "start_time": "2023-03-23T12:54:25.930Z"
   },
   {
    "duration": 56,
    "start_time": "2023-03-23T12:54:26.043Z"
   },
   {
    "duration": 41,
    "start_time": "2023-03-23T12:54:26.102Z"
   },
   {
    "duration": 150,
    "start_time": "2023-03-23T12:54:26.147Z"
   },
   {
    "duration": 126,
    "start_time": "2023-03-23T12:54:26.299Z"
   },
   {
    "duration": 213,
    "start_time": "2023-03-23T12:54:26.427Z"
   },
   {
    "duration": 105,
    "start_time": "2023-03-23T12:54:26.642Z"
   },
   {
    "duration": 212,
    "start_time": "2023-03-23T12:54:26.748Z"
   },
   {
    "duration": 8,
    "start_time": "2023-03-23T12:54:26.961Z"
   },
   {
    "duration": 5,
    "start_time": "2023-03-23T12:54:26.971Z"
   },
   {
    "duration": 11,
    "start_time": "2023-03-23T12:54:26.979Z"
   },
   {
    "duration": 20,
    "start_time": "2023-03-23T12:54:26.992Z"
   },
   {
    "duration": 34,
    "start_time": "2023-03-23T12:54:27.014Z"
   },
   {
    "duration": 27,
    "start_time": "2023-03-23T12:54:27.050Z"
   },
   {
    "duration": 10,
    "start_time": "2023-03-23T12:54:27.079Z"
   },
   {
    "duration": 14,
    "start_time": "2023-03-23T12:54:27.090Z"
   },
   {
    "duration": 6,
    "start_time": "2023-03-23T12:54:27.106Z"
   },
   {
    "duration": 676,
    "start_time": "2023-03-23T12:54:27.113Z"
   },
   {
    "duration": 4,
    "start_time": "2023-03-23T12:54:27.791Z"
   },
   {
    "duration": 15,
    "start_time": "2023-03-23T12:54:27.797Z"
   },
   {
    "duration": 60,
    "start_time": "2023-03-23T12:54:27.814Z"
   },
   {
    "duration": 4490,
    "start_time": "2023-03-23T12:54:27.876Z"
   },
   {
    "duration": 616,
    "start_time": "2023-03-23T12:54:32.368Z"
   },
   {
    "duration": 1114,
    "start_time": "2023-03-23T12:54:32.986Z"
   },
   {
    "duration": 1238,
    "start_time": "2023-03-23T12:54:34.101Z"
   },
   {
    "duration": 7,
    "start_time": "2023-03-23T12:54:35.341Z"
   },
   {
    "duration": 9,
    "start_time": "2023-03-23T12:54:35.350Z"
   },
   {
    "duration": 13,
    "start_time": "2023-03-23T12:54:35.361Z"
   },
   {
    "duration": 8,
    "start_time": "2023-03-23T12:54:35.376Z"
   },
   {
    "duration": 9,
    "start_time": "2023-03-23T12:54:35.386Z"
   },
   {
    "duration": 46,
    "start_time": "2023-03-23T12:54:35.396Z"
   },
   {
    "duration": 23,
    "start_time": "2023-03-23T12:54:35.445Z"
   },
   {
    "duration": 16,
    "start_time": "2023-03-23T12:54:35.470Z"
   },
   {
    "duration": 51,
    "start_time": "2023-03-23T12:54:35.488Z"
   },
   {
    "duration": 4,
    "start_time": "2023-03-23T12:54:35.541Z"
   },
   {
    "duration": 7,
    "start_time": "2023-03-23T12:54:35.546Z"
   },
   {
    "duration": 7,
    "start_time": "2023-03-23T12:54:35.555Z"
   },
   {
    "duration": 6,
    "start_time": "2023-03-23T12:54:35.566Z"
   },
   {
    "duration": 7173,
    "start_time": "2023-03-23T12:54:35.573Z"
   },
   {
    "duration": 82249,
    "start_time": "2023-03-23T12:54:42.763Z"
   },
   {
    "duration": 248415,
    "start_time": "2023-03-23T12:56:05.014Z"
   },
   {
    "duration": 7909,
    "start_time": "2023-03-23T13:00:13.435Z"
   },
   {
    "duration": 145,
    "start_time": "2023-03-23T13:00:21.346Z"
   },
   {
    "duration": 14,
    "start_time": "2023-03-23T13:01:01.821Z"
   },
   {
    "duration": 4538,
    "start_time": "2023-03-23T13:05:58.054Z"
   },
   {
    "duration": 14,
    "start_time": "2023-03-24T10:00:43.505Z"
   },
   {
    "duration": 21,
    "start_time": "2023-03-24T10:13:24.484Z"
   },
   {
    "duration": 1560,
    "start_time": "2023-03-24T13:22:31.694Z"
   },
   {
    "duration": 2639,
    "start_time": "2023-03-24T13:22:33.257Z"
   },
   {
    "duration": 4,
    "start_time": "2023-03-24T13:22:35.898Z"
   },
   {
    "duration": 72,
    "start_time": "2023-03-24T13:22:35.903Z"
   },
   {
    "duration": 54,
    "start_time": "2023-03-24T13:22:35.978Z"
   },
   {
    "duration": 48,
    "start_time": "2023-03-24T13:22:36.034Z"
   },
   {
    "duration": 142,
    "start_time": "2023-03-24T13:22:36.085Z"
   },
   {
    "duration": 102,
    "start_time": "2023-03-24T13:22:36.228Z"
   },
   {
    "duration": 208,
    "start_time": "2023-03-24T13:22:36.332Z"
   },
   {
    "duration": 114,
    "start_time": "2023-03-24T13:22:36.542Z"
   },
   {
    "duration": 225,
    "start_time": "2023-03-24T13:22:36.658Z"
   },
   {
    "duration": 9,
    "start_time": "2023-03-24T13:22:36.884Z"
   },
   {
    "duration": 8,
    "start_time": "2023-03-24T13:22:36.894Z"
   },
   {
    "duration": 10,
    "start_time": "2023-03-24T13:22:36.904Z"
   },
   {
    "duration": 5,
    "start_time": "2023-03-24T13:22:36.915Z"
   },
   {
    "duration": 6,
    "start_time": "2023-03-24T13:22:36.921Z"
   },
   {
    "duration": 52,
    "start_time": "2023-03-24T13:22:36.928Z"
   },
   {
    "duration": 4,
    "start_time": "2023-03-24T13:22:36.981Z"
   },
   {
    "duration": 12,
    "start_time": "2023-03-24T13:22:36.986Z"
   },
   {
    "duration": 6,
    "start_time": "2023-03-24T13:22:36.999Z"
   },
   {
    "duration": 861,
    "start_time": "2023-03-24T13:22:37.006Z"
   },
   {
    "duration": 5,
    "start_time": "2023-03-24T13:22:37.868Z"
   },
   {
    "duration": 8,
    "start_time": "2023-03-24T13:22:37.874Z"
   },
   {
    "duration": 23,
    "start_time": "2023-03-24T13:22:37.883Z"
   },
   {
    "duration": 4351,
    "start_time": "2023-03-24T13:22:37.907Z"
   },
   {
    "duration": 624,
    "start_time": "2023-03-24T13:22:42.260Z"
   },
   {
    "duration": 1240,
    "start_time": "2023-03-24T13:22:42.886Z"
   },
   {
    "duration": 1201,
    "start_time": "2023-03-24T13:22:44.128Z"
   },
   {
    "duration": 3,
    "start_time": "2023-03-24T13:22:45.331Z"
   },
   {
    "duration": 26,
    "start_time": "2023-03-24T13:22:45.336Z"
   },
   {
    "duration": 17,
    "start_time": "2023-03-24T13:22:45.364Z"
   },
   {
    "duration": 22,
    "start_time": "2023-03-24T13:22:45.382Z"
   },
   {
    "duration": 13,
    "start_time": "2023-03-24T13:22:45.405Z"
   },
   {
    "duration": 25,
    "start_time": "2023-03-24T13:22:45.420Z"
   },
   {
    "duration": 21,
    "start_time": "2023-03-24T13:22:45.447Z"
   },
   {
    "duration": 11,
    "start_time": "2023-03-24T13:22:45.470Z"
   },
   {
    "duration": 13,
    "start_time": "2023-03-24T13:22:45.483Z"
   },
   {
    "duration": 22,
    "start_time": "2023-03-24T13:22:45.497Z"
   },
   {
    "duration": 9,
    "start_time": "2023-03-24T13:22:45.521Z"
   },
   {
    "duration": 4,
    "start_time": "2023-03-24T13:22:45.532Z"
   },
   {
    "duration": 3,
    "start_time": "2023-03-24T13:22:45.540Z"
   },
   {
    "duration": 2829,
    "start_time": "2023-03-24T13:22:45.544Z"
   },
   {
    "duration": 79747,
    "start_time": "2023-03-24T13:22:48.374Z"
   },
   {
    "duration": 218300,
    "start_time": "2023-03-24T13:24:08.122Z"
   },
   {
    "duration": 3466,
    "start_time": "2023-03-24T13:27:46.423Z"
   },
   {
    "duration": 0,
    "start_time": "2023-03-24T13:27:49.890Z"
   },
   {
    "duration": 1196,
    "start_time": "2023-03-24T13:28:44.957Z"
   },
   {
    "duration": 1222,
    "start_time": "2023-03-24T13:28:52.643Z"
   },
   {
    "duration": 7,
    "start_time": "2023-03-24T13:29:28.475Z"
   },
   {
    "duration": 1700,
    "start_time": "2023-03-25T13:23:19.526Z"
   },
   {
    "duration": 3008,
    "start_time": "2023-03-25T13:23:21.228Z"
   },
   {
    "duration": 4,
    "start_time": "2023-03-25T13:23:24.238Z"
   },
   {
    "duration": 60,
    "start_time": "2023-03-25T13:23:24.243Z"
   },
   {
    "duration": 48,
    "start_time": "2023-03-25T13:23:24.306Z"
   },
   {
    "duration": 47,
    "start_time": "2023-03-25T13:23:24.356Z"
   },
   {
    "duration": 134,
    "start_time": "2023-03-25T13:23:24.405Z"
   },
   {
    "duration": 109,
    "start_time": "2023-03-25T13:23:24.541Z"
   },
   {
    "duration": 268,
    "start_time": "2023-03-25T13:23:24.651Z"
   },
   {
    "duration": 148,
    "start_time": "2023-03-25T13:23:24.922Z"
   },
   {
    "duration": 313,
    "start_time": "2023-03-25T13:23:25.071Z"
   },
   {
    "duration": 21,
    "start_time": "2023-03-25T13:23:25.386Z"
   },
   {
    "duration": 7,
    "start_time": "2023-03-25T13:23:25.409Z"
   },
   {
    "duration": 16,
    "start_time": "2023-03-25T13:23:25.419Z"
   },
   {
    "duration": 6,
    "start_time": "2023-03-25T13:23:25.437Z"
   },
   {
    "duration": 5,
    "start_time": "2023-03-25T13:23:25.446Z"
   },
   {
    "duration": 24,
    "start_time": "2023-03-25T13:23:25.453Z"
   },
   {
    "duration": 28,
    "start_time": "2023-03-25T13:23:25.479Z"
   },
   {
    "duration": 23,
    "start_time": "2023-03-25T13:23:25.509Z"
   },
   {
    "duration": 6,
    "start_time": "2023-03-25T13:23:25.534Z"
   },
   {
    "duration": 913,
    "start_time": "2023-03-25T13:23:25.542Z"
   },
   {
    "duration": 4,
    "start_time": "2023-03-25T13:23:26.457Z"
   },
   {
    "duration": 9,
    "start_time": "2023-03-25T13:23:26.463Z"
   },
   {
    "duration": 29,
    "start_time": "2023-03-25T13:23:26.473Z"
   },
   {
    "duration": 4899,
    "start_time": "2023-03-25T13:23:26.504Z"
   },
   {
    "duration": 745,
    "start_time": "2023-03-25T13:23:31.405Z"
   },
   {
    "duration": 1331,
    "start_time": "2023-03-25T13:23:32.152Z"
   },
   {
    "duration": 1362,
    "start_time": "2023-03-25T13:23:33.486Z"
   },
   {
    "duration": 3,
    "start_time": "2023-03-25T13:23:34.850Z"
   },
   {
    "duration": 7,
    "start_time": "2023-03-25T13:23:34.855Z"
   },
   {
    "duration": 10,
    "start_time": "2023-03-25T13:23:34.864Z"
   },
   {
    "duration": 27,
    "start_time": "2023-03-25T13:23:34.876Z"
   },
   {
    "duration": 4,
    "start_time": "2023-03-25T13:23:34.905Z"
   },
   {
    "duration": 28,
    "start_time": "2023-03-25T13:23:34.911Z"
   },
   {
    "duration": 26,
    "start_time": "2023-03-25T13:23:34.941Z"
   },
   {
    "duration": 49,
    "start_time": "2023-03-25T13:23:34.969Z"
   },
   {
    "duration": 18,
    "start_time": "2023-03-25T13:23:35.019Z"
   },
   {
    "duration": 3,
    "start_time": "2023-03-25T13:23:35.039Z"
   },
   {
    "duration": 8,
    "start_time": "2023-03-25T13:23:35.044Z"
   },
   {
    "duration": 9,
    "start_time": "2023-03-25T13:23:35.054Z"
   },
   {
    "duration": 13,
    "start_time": "2023-03-25T13:23:35.065Z"
   },
   {
    "duration": 2929,
    "start_time": "2023-03-25T13:23:35.080Z"
   },
   {
    "duration": 4391,
    "start_time": "2023-03-25T13:23:38.015Z"
   },
   {
    "duration": 0,
    "start_time": "2023-03-25T13:23:42.408Z"
   },
   {
    "duration": 0,
    "start_time": "2023-03-25T13:23:42.409Z"
   },
   {
    "duration": 0,
    "start_time": "2023-03-25T13:23:42.410Z"
   },
   {
    "duration": 3391,
    "start_time": "2023-03-25T13:23:46.556Z"
   },
   {
    "duration": 8,
    "start_time": "2023-03-25T13:23:49.949Z"
   },
   {
    "duration": 10,
    "start_time": "2023-03-25T13:24:34.515Z"
   },
   {
    "duration": 23,
    "start_time": "2023-03-25T13:25:55.445Z"
   },
   {
    "duration": 35,
    "start_time": "2023-03-25T13:26:03.520Z"
   },
   {
    "duration": 8,
    "start_time": "2023-03-25T13:26:08.225Z"
   },
   {
    "duration": 3410,
    "start_time": "2023-03-25T13:26:23.816Z"
   },
   {
    "duration": 45,
    "start_time": "2023-04-29T17:18:44.249Z"
   },
   {
    "duration": 1456,
    "start_time": "2023-04-29T17:18:48.081Z"
   },
   {
    "duration": 2979,
    "start_time": "2023-04-29T17:18:49.539Z"
   },
   {
    "duration": 3,
    "start_time": "2023-04-29T17:18:52.520Z"
   },
   {
    "duration": 60,
    "start_time": "2023-04-29T17:18:52.525Z"
   },
   {
    "duration": 51,
    "start_time": "2023-04-29T17:18:52.586Z"
   },
   {
    "duration": 19,
    "start_time": "2023-04-29T17:18:52.639Z"
   },
   {
    "duration": 117,
    "start_time": "2023-04-29T17:18:52.659Z"
   },
   {
    "duration": 89,
    "start_time": "2023-04-29T17:18:52.778Z"
   },
   {
    "duration": 210,
    "start_time": "2023-04-29T17:18:52.868Z"
   },
   {
    "duration": 129,
    "start_time": "2023-04-29T17:18:53.080Z"
   },
   {
    "duration": 224,
    "start_time": "2023-04-29T17:18:53.211Z"
   },
   {
    "duration": 7,
    "start_time": "2023-04-29T17:18:53.436Z"
   },
   {
    "duration": 5,
    "start_time": "2023-04-29T17:18:53.445Z"
   },
   {
    "duration": 7,
    "start_time": "2023-04-29T17:18:53.453Z"
   },
   {
    "duration": 5,
    "start_time": "2023-04-29T17:18:53.462Z"
   },
   {
    "duration": 4,
    "start_time": "2023-04-29T17:18:53.468Z"
   },
   {
    "duration": 20,
    "start_time": "2023-04-29T17:18:53.473Z"
   },
   {
    "duration": 41,
    "start_time": "2023-04-29T17:18:53.494Z"
   },
   {
    "duration": 11,
    "start_time": "2023-04-29T17:18:53.537Z"
   },
   {
    "duration": 5,
    "start_time": "2023-04-29T17:18:53.549Z"
   },
   {
    "duration": 818,
    "start_time": "2023-04-29T17:18:53.555Z"
   },
   {
    "duration": 4,
    "start_time": "2023-04-29T17:18:54.375Z"
   },
   {
    "duration": 9,
    "start_time": "2023-04-29T17:18:54.380Z"
   },
   {
    "duration": 45,
    "start_time": "2023-04-29T17:18:54.390Z"
   },
   {
    "duration": 4474,
    "start_time": "2023-04-29T17:18:54.437Z"
   },
   {
    "duration": 640,
    "start_time": "2023-04-29T17:18:58.912Z"
   },
   {
    "duration": 1292,
    "start_time": "2023-04-29T17:18:59.554Z"
   },
   {
    "duration": 1269,
    "start_time": "2023-04-29T17:19:00.848Z"
   },
   {
    "duration": 4,
    "start_time": "2023-04-29T17:19:02.119Z"
   },
   {
    "duration": 14,
    "start_time": "2023-04-29T17:19:02.133Z"
   },
   {
    "duration": 16,
    "start_time": "2023-04-29T17:19:02.149Z"
   },
   {
    "duration": 19,
    "start_time": "2023-04-29T17:19:02.167Z"
   },
   {
    "duration": 22,
    "start_time": "2023-04-29T17:19:02.187Z"
   },
   {
    "duration": 35,
    "start_time": "2023-04-29T17:19:02.211Z"
   },
   {
    "duration": 24,
    "start_time": "2023-04-29T17:19:02.248Z"
   },
   {
    "duration": 13,
    "start_time": "2023-04-29T17:19:02.274Z"
   },
   {
    "duration": 31,
    "start_time": "2023-04-29T17:19:02.288Z"
   },
   {
    "duration": 4,
    "start_time": "2023-04-29T17:19:02.320Z"
   },
   {
    "duration": 17,
    "start_time": "2023-04-29T17:19:02.325Z"
   },
   {
    "duration": 19,
    "start_time": "2023-04-29T17:19:02.343Z"
   },
   {
    "duration": 22,
    "start_time": "2023-04-29T17:19:02.367Z"
   },
   {
    "duration": 2445,
    "start_time": "2023-04-29T17:19:02.390Z"
   },
   {
    "duration": 70063,
    "start_time": "2023-04-29T17:19:04.837Z"
   },
   {
    "duration": 191355,
    "start_time": "2023-04-29T17:20:14.902Z"
   },
   {
    "duration": 3094,
    "start_time": "2023-04-29T17:23:26.258Z"
   },
   {
    "duration": 8,
    "start_time": "2023-04-29T17:23:29.354Z"
   },
   {
    "duration": 44,
    "start_time": "2023-05-08T17:58:28.036Z"
   }
  ],
  "kernelspec": {
   "display_name": "Python 3 (ipykernel)",
   "language": "python",
   "name": "python3"
  },
  "language_info": {
   "codemirror_mode": {
    "name": "ipython",
    "version": 3
   },
   "file_extension": ".py",
   "mimetype": "text/x-python",
   "name": "python",
   "nbconvert_exporter": "python",
   "pygments_lexer": "ipython3",
   "version": "3.9.16"
  },
  "toc": {
   "base_numbering": 1,
   "nav_menu": {},
   "number_sections": true,
   "sideBar": true,
   "skip_h1_title": true,
   "title_cell": "Содержание",
   "title_sidebar": "Contents",
   "toc_cell": true,
   "toc_position": {
    "height": "calc(100% - 180px)",
    "left": "10px",
    "top": "150px",
    "width": "165px"
   },
   "toc_section_display": true,
   "toc_window_display": true
  }
 },
 "nbformat": 4,
 "nbformat_minor": 2
}
