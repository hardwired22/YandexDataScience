{
 "cells": [
  {
   "cell_type": "markdown",
   "metadata": {
    "toc": true
   },
   "source": [
    "<h1>Содержание<span class=\"tocSkip\"></span></h1>\n",
    "<div class=\"toc\"><ul class=\"toc-item\"><li><span><a href=\"#Подготовка\" data-toc-modified-id=\"Подготовка-1\"><span class=\"toc-item-num\">1&nbsp;&nbsp;</span>Подготовка</a></span></li><li><span><a href=\"#Обучение\" data-toc-modified-id=\"Обучение-2\"><span class=\"toc-item-num\">2&nbsp;&nbsp;</span>Обучение</a></span></li><li><span><a href=\"#Выводы\" data-toc-modified-id=\"Выводы-3\"><span class=\"toc-item-num\">3&nbsp;&nbsp;</span>Выводы</a></span></li><li><span><a href=\"#Чек-лист-проверки\" data-toc-modified-id=\"Чек-лист-проверки-4\"><span class=\"toc-item-num\">4&nbsp;&nbsp;</span>Чек-лист проверки</a></span></li></ul></div>"
   ]
  },
  {
   "cell_type": "markdown",
   "metadata": {},
   "source": [
    "# Проект для «Викишоп»"
   ]
  },
  {
   "cell_type": "markdown",
   "metadata": {},
   "source": [
    "Интернет-магазин «Викишоп» запускает новый сервис. Теперь пользователи могут редактировать и дополнять описания товаров, как в вики-сообществах. То есть клиенты предлагают свои правки и комментируют изменения других. Магазину нужен инструмент, который будет искать токсичные комментарии и отправлять их на модерацию. \n",
    "\n",
    "Обучите модель классифицировать комментарии на позитивные и негативные. В вашем распоряжении набор данных с разметкой о токсичности правок.\n",
    "\n",
    "Постройте модель со значением метрики качества *F1* не меньше 0.75. \n",
    "\n",
    "**Инструкция по выполнению проекта**\n",
    "\n",
    "1. Загрузите и подготовьте данные.\n",
    "2. Обучите разные модели. \n",
    "3. Сделайте выводы.\n",
    "\n",
    "Для выполнения проекта применять *BERT* необязательно, но вы можете попробовать.\n",
    "\n",
    "**Описание данных**\n",
    "\n",
    "Данные находятся в файле `toxic_comments.csv`. Столбец *text* в нём содержит текст комментария, а *toxic* — целевой признак."
   ]
  },
  {
   "cell_type": "markdown",
   "metadata": {},
   "source": [
    "***\n",
    " Магазин запускает новый сервис, который позволяет пользователям редактировать и дополнять описания товаров, как в вики-сообществах. Клиенты предлагают свои правки и комментируют изменения других, и магазину нужен инструмент, который будет искать токсичные комментарии и отправлять их на модерацию.\n",
    " \n",
    "Цель проекта - обучить модель классифицировать комментарии на позитивные и негативные с помощью машинного обучения. \n",
    "\n",
    "Задача проекта - обучить модель машинного обучения классифицировать комментарии на позитивные и негативные."
   ]
  },
  {
   "cell_type": "markdown",
   "metadata": {},
   "source": [
    "## Подготовка"
   ]
  },
  {
   "cell_type": "code",
   "execution_count": 1,
   "metadata": {},
   "outputs": [],
   "source": [
    "import re\n",
    "import nltk\n",
    "import string\n",
    "import pandas as pd\n",
    "import time\n",
    "import numpy as np\n",
    "import seaborn as sns\n",
    "import matplotlib.pyplot as plt\n",
    "import warnings \n",
    "warnings.filterwarnings('ignore')\n",
    "\n",
    "from nltk.corpus import wordnet\n",
    "from nltk.corpus import stopwords as nltk_stopwords\n",
    "\n",
    "from nltk.stem import WordNetLemmatizer\n",
    "\n",
    "from sklearn.model_selection import train_test_split\n",
    "from sklearn.model_selection import TimeSeriesSplit, cross_val_score, StratifiedKFold, GridSearchCV, cross_validate, KFold\n",
    "from sklearn.model_selection import RandomizedSearchCV\n",
    "\n",
    "from sklearn.metrics import f1_score, make_scorer\n",
    "\n",
    "from sklearn.tree import DecisionTreeRegressor\n",
    "\n",
    "from sklearn.neighbors import KNeighborsClassifier\n",
    "\n",
    "from sklearn.ensemble import RandomForestClassifier\n",
    "from sklearn.ensemble import RandomForestRegressor\n",
    "\n",
    "from sklearn.feature_extraction.text import TfidfVectorizer, CountVectorizer, TfidfTransformer\n",
    "\n",
    "from sklearn.pipeline import Pipeline\n",
    "\n",
    "from sklearn.linear_model import LogisticRegression\n",
    "\n",
    "from tqdm import tqdm\n",
    "\n",
    "from nltk.tokenize import word_tokenize\n",
    "\n",
    "from catboost import CatBoostClassifier\n",
    "\n",
    "from scipy.stats import randint"
   ]
  },
  {
   "cell_type": "code",
   "execution_count": 2,
   "metadata": {
    "scrolled": true
   },
   "outputs": [],
   "source": [
    "try:\n",
    "    df = pd.read_csv('/datasets/toxic_comments.csv')\n",
    "except:\n",
    "    df = pd.read_csv('D:/datasets/toxic_comments.csv')\n"
   ]
  },
  {
   "cell_type": "code",
   "execution_count": 3,
   "metadata": {},
   "outputs": [
    {
     "data": {
      "text/html": [
       "<div>\n",
       "<style scoped>\n",
       "    .dataframe tbody tr th:only-of-type {\n",
       "        vertical-align: middle;\n",
       "    }\n",
       "\n",
       "    .dataframe tbody tr th {\n",
       "        vertical-align: top;\n",
       "    }\n",
       "\n",
       "    .dataframe thead th {\n",
       "        text-align: right;\n",
       "    }\n",
       "</style>\n",
       "<table border=\"1\" class=\"dataframe\">\n",
       "  <thead>\n",
       "    <tr style=\"text-align: right;\">\n",
       "      <th></th>\n",
       "      <th>Unnamed: 0</th>\n",
       "      <th>text</th>\n",
       "      <th>toxic</th>\n",
       "    </tr>\n",
       "  </thead>\n",
       "  <tbody>\n",
       "    <tr>\n",
       "      <th>0</th>\n",
       "      <td>0</td>\n",
       "      <td>Explanation\\nWhy the edits made under my usern...</td>\n",
       "      <td>0</td>\n",
       "    </tr>\n",
       "    <tr>\n",
       "      <th>1</th>\n",
       "      <td>1</td>\n",
       "      <td>D'aww! He matches this background colour I'm s...</td>\n",
       "      <td>0</td>\n",
       "    </tr>\n",
       "    <tr>\n",
       "      <th>2</th>\n",
       "      <td>2</td>\n",
       "      <td>Hey man, I'm really not trying to edit war. It...</td>\n",
       "      <td>0</td>\n",
       "    </tr>\n",
       "    <tr>\n",
       "      <th>3</th>\n",
       "      <td>3</td>\n",
       "      <td>\"\\nMore\\nI can't make any real suggestions on ...</td>\n",
       "      <td>0</td>\n",
       "    </tr>\n",
       "    <tr>\n",
       "      <th>4</th>\n",
       "      <td>4</td>\n",
       "      <td>You, sir, are my hero. Any chance you remember...</td>\n",
       "      <td>0</td>\n",
       "    </tr>\n",
       "  </tbody>\n",
       "</table>\n",
       "</div>"
      ],
      "text/plain": [
       "   Unnamed: 0                                               text  toxic\n",
       "0           0  Explanation\\nWhy the edits made under my usern...      0\n",
       "1           1  D'aww! He matches this background colour I'm s...      0\n",
       "2           2  Hey man, I'm really not trying to edit war. It...      0\n",
       "3           3  \"\\nMore\\nI can't make any real suggestions on ...      0\n",
       "4           4  You, sir, are my hero. Any chance you remember...      0"
      ]
     },
     "metadata": {},
     "output_type": "display_data"
    },
    {
     "name": "stdout",
     "output_type": "stream",
     "text": [
      "<class 'pandas.core.frame.DataFrame'>\n",
      "RangeIndex: 159292 entries, 0 to 159291\n",
      "Data columns (total 3 columns):\n",
      " #   Column      Non-Null Count   Dtype \n",
      "---  ------      --------------   ----- \n",
      " 0   Unnamed: 0  159292 non-null  int64 \n",
      " 1   text        159292 non-null  object\n",
      " 2   toxic       159292 non-null  int64 \n",
      "dtypes: int64(2), object(1)\n",
      "memory usage: 3.6+ MB\n"
     ]
    },
    {
     "data": {
      "text/plain": [
       "None"
      ]
     },
     "metadata": {},
     "output_type": "display_data"
    },
    {
     "data": {
      "text/html": [
       "<div>\n",
       "<style scoped>\n",
       "    .dataframe tbody tr th:only-of-type {\n",
       "        vertical-align: middle;\n",
       "    }\n",
       "\n",
       "    .dataframe tbody tr th {\n",
       "        vertical-align: top;\n",
       "    }\n",
       "\n",
       "    .dataframe thead th {\n",
       "        text-align: right;\n",
       "    }\n",
       "</style>\n",
       "<table border=\"1\" class=\"dataframe\">\n",
       "  <thead>\n",
       "    <tr style=\"text-align: right;\">\n",
       "      <th></th>\n",
       "      <th>Unnamed: 0</th>\n",
       "      <th>toxic</th>\n",
       "    </tr>\n",
       "  </thead>\n",
       "  <tbody>\n",
       "    <tr>\n",
       "      <th>count</th>\n",
       "      <td>159292.000000</td>\n",
       "      <td>159292.000000</td>\n",
       "    </tr>\n",
       "    <tr>\n",
       "      <th>mean</th>\n",
       "      <td>79725.697242</td>\n",
       "      <td>0.101612</td>\n",
       "    </tr>\n",
       "    <tr>\n",
       "      <th>std</th>\n",
       "      <td>46028.837471</td>\n",
       "      <td>0.302139</td>\n",
       "    </tr>\n",
       "    <tr>\n",
       "      <th>min</th>\n",
       "      <td>0.000000</td>\n",
       "      <td>0.000000</td>\n",
       "    </tr>\n",
       "    <tr>\n",
       "      <th>25%</th>\n",
       "      <td>39872.750000</td>\n",
       "      <td>0.000000</td>\n",
       "    </tr>\n",
       "    <tr>\n",
       "      <th>50%</th>\n",
       "      <td>79721.500000</td>\n",
       "      <td>0.000000</td>\n",
       "    </tr>\n",
       "    <tr>\n",
       "      <th>75%</th>\n",
       "      <td>119573.250000</td>\n",
       "      <td>0.000000</td>\n",
       "    </tr>\n",
       "    <tr>\n",
       "      <th>max</th>\n",
       "      <td>159450.000000</td>\n",
       "      <td>1.000000</td>\n",
       "    </tr>\n",
       "  </tbody>\n",
       "</table>\n",
       "</div>"
      ],
      "text/plain": [
       "          Unnamed: 0          toxic\n",
       "count  159292.000000  159292.000000\n",
       "mean    79725.697242       0.101612\n",
       "std     46028.837471       0.302139\n",
       "min         0.000000       0.000000\n",
       "25%     39872.750000       0.000000\n",
       "50%     79721.500000       0.000000\n",
       "75%    119573.250000       0.000000\n",
       "max    159450.000000       1.000000"
      ]
     },
     "metadata": {},
     "output_type": "display_data"
    }
   ],
   "source": [
    "display(df.head())\n",
    "display(df.info())\n",
    "display(df.describe())"
   ]
  },
  {
   "cell_type": "code",
   "execution_count": 4,
   "metadata": {},
   "outputs": [
    {
     "name": "stderr",
     "output_type": "stream",
     "text": [
      "[nltk_data] Downloading package wordnet to /home/jovyan/nltk_data...\n",
      "[nltk_data]   Package wordnet is already up-to-date!\n"
     ]
    },
    {
     "data": {
      "text/plain": [
       "True"
      ]
     },
     "execution_count": 4,
     "metadata": {},
     "output_type": "execute_result"
    }
   ],
   "source": [
    "nltk.download('wordnet')"
   ]
  },
  {
   "cell_type": "code",
   "execution_count": 5,
   "metadata": {},
   "outputs": [],
   "source": [
    "m = WordNetLemmatizer()"
   ]
  },
  {
   "cell_type": "code",
   "execution_count": 6,
   "metadata": {},
   "outputs": [],
   "source": [
    "def clear_lemmatize(text):\n",
    "    text = text.lower() \n",
    "    re_list = re.sub(r\"[^a-zA-Z']\", ' ', text)\n",
    "    re_list  = re.sub(r\"(?:\\n|\\r)\", \" \", text)\n",
    "    re_list = re_list.split()\n",
    "    re_list = \" \".join(re_list)\n",
    "    lemm_list = nltk.word_tokenize(text)\n",
    "        \n",
    "    return ' '.join(m.lemmatize(i, wordnet.VERB) for i in lemm_list)"
   ]
  },
  {
   "cell_type": "code",
   "execution_count": 7,
   "metadata": {},
   "outputs": [
    {
     "data": {
      "text/html": [
       "<div>\n",
       "<style scoped>\n",
       "    .dataframe tbody tr th:only-of-type {\n",
       "        vertical-align: middle;\n",
       "    }\n",
       "\n",
       "    .dataframe tbody tr th {\n",
       "        vertical-align: top;\n",
       "    }\n",
       "\n",
       "    .dataframe thead th {\n",
       "        text-align: right;\n",
       "    }\n",
       "</style>\n",
       "<table border=\"1\" class=\"dataframe\">\n",
       "  <thead>\n",
       "    <tr style=\"text-align: right;\">\n",
       "      <th></th>\n",
       "      <th>Unnamed: 0</th>\n",
       "      <th>text</th>\n",
       "      <th>toxic</th>\n",
       "      <th>text_lemma</th>\n",
       "    </tr>\n",
       "  </thead>\n",
       "  <tbody>\n",
       "    <tr>\n",
       "      <th>0</th>\n",
       "      <td>0</td>\n",
       "      <td>Explanation\\nWhy the edits made under my usern...</td>\n",
       "      <td>0</td>\n",
       "      <td>explanation why the edit make under my usernam...</td>\n",
       "    </tr>\n",
       "    <tr>\n",
       "      <th>1</th>\n",
       "      <td>1</td>\n",
       "      <td>D'aww! He matches this background colour I'm s...</td>\n",
       "      <td>0</td>\n",
       "      <td>d'aww ! he match this background colour i 'm s...</td>\n",
       "    </tr>\n",
       "    <tr>\n",
       "      <th>2</th>\n",
       "      <td>2</td>\n",
       "      <td>Hey man, I'm really not trying to edit war. It...</td>\n",
       "      <td>0</td>\n",
       "      <td>hey man , i 'm really not try to edit war . it...</td>\n",
       "    </tr>\n",
       "    <tr>\n",
       "      <th>3</th>\n",
       "      <td>3</td>\n",
       "      <td>\"\\nMore\\nI can't make any real suggestions on ...</td>\n",
       "      <td>0</td>\n",
       "      <td>`` more i ca n't make any real suggestions on ...</td>\n",
       "    </tr>\n",
       "    <tr>\n",
       "      <th>4</th>\n",
       "      <td>4</td>\n",
       "      <td>You, sir, are my hero. Any chance you remember...</td>\n",
       "      <td>0</td>\n",
       "      <td>you , sir , be my hero . any chance you rememb...</td>\n",
       "    </tr>\n",
       "  </tbody>\n",
       "</table>\n",
       "</div>"
      ],
      "text/plain": [
       "   Unnamed: 0                                               text  toxic  \\\n",
       "0           0  Explanation\\nWhy the edits made under my usern...      0   \n",
       "1           1  D'aww! He matches this background colour I'm s...      0   \n",
       "2           2  Hey man, I'm really not trying to edit war. It...      0   \n",
       "3           3  \"\\nMore\\nI can't make any real suggestions on ...      0   \n",
       "4           4  You, sir, are my hero. Any chance you remember...      0   \n",
       "\n",
       "                                          text_lemma  \n",
       "0  explanation why the edit make under my usernam...  \n",
       "1  d'aww ! he match this background colour i 'm s...  \n",
       "2  hey man , i 'm really not try to edit war . it...  \n",
       "3  `` more i ca n't make any real suggestions on ...  \n",
       "4  you , sir , be my hero . any chance you rememb...  "
      ]
     },
     "metadata": {},
     "output_type": "display_data"
    },
    {
     "name": "stdout",
     "output_type": "stream",
     "text": [
      "CPU times: total: 1min 27s\n",
      "Wall time: 1min 28s\n"
     ]
    }
   ],
   "source": [
    "%%time\n",
    "\n",
    "df['text_lemma'] = df['text'].apply(clear_lemmatize)\n",
    "display(df.head())"
   ]
  },
  {
   "cell_type": "code",
   "execution_count": 8,
   "metadata": {},
   "outputs": [
    {
     "data": {
      "text/plain": [
       "<AxesSubplot:xlabel='toxic', ylabel='count'>"
      ]
     },
     "execution_count": 8,
     "metadata": {},
     "output_type": "execute_result"
    },
    {
     "data": {
      "image/png": "[encoded data removed]",
      "text/plain": [
       "<Figure size 640x480 with 1 Axes>"
      ]
     },
     "metadata": {},
     "output_type": "display_data"
    }
   ],
   "source": [
    "sns.countplot(x = 'toxic', data = df)"
   ]
  },
  {
   "cell_type": "code",
   "execution_count": 9,
   "metadata": {},
   "outputs": [
    {
     "data": {
      "text/html": [
       "<div>\n",
       "<style scoped>\n",
       "    .dataframe tbody tr th:only-of-type {\n",
       "        vertical-align: middle;\n",
       "    }\n",
       "\n",
       "    .dataframe tbody tr th {\n",
       "        vertical-align: top;\n",
       "    }\n",
       "\n",
       "    .dataframe thead th {\n",
       "        text-align: right;\n",
       "    }\n",
       "</style>\n",
       "<table border=\"1\" class=\"dataframe\">\n",
       "  <thead>\n",
       "    <tr style=\"text-align: right;\">\n",
       "      <th></th>\n",
       "      <th>Unnamed: 0</th>\n",
       "      <th>text</th>\n",
       "      <th>toxic</th>\n",
       "      <th>text_lemma</th>\n",
       "    </tr>\n",
       "  </thead>\n",
       "  <tbody>\n",
       "    <tr>\n",
       "      <th>0</th>\n",
       "      <td>0</td>\n",
       "      <td>Explanation\\nWhy the edits made under my usern...</td>\n",
       "      <td>0</td>\n",
       "      <td>explanation why the edit make under my usernam...</td>\n",
       "    </tr>\n",
       "    <tr>\n",
       "      <th>1</th>\n",
       "      <td>1</td>\n",
       "      <td>D'aww! He matches this background colour I'm s...</td>\n",
       "      <td>0</td>\n",
       "      <td>d'aww ! he match this background colour i 'm s...</td>\n",
       "    </tr>\n",
       "    <tr>\n",
       "      <th>2</th>\n",
       "      <td>2</td>\n",
       "      <td>Hey man, I'm really not trying to edit war. It...</td>\n",
       "      <td>0</td>\n",
       "      <td>hey man , i 'm really not try to edit war . it...</td>\n",
       "    </tr>\n",
       "    <tr>\n",
       "      <th>3</th>\n",
       "      <td>3</td>\n",
       "      <td>\"\\nMore\\nI can't make any real suggestions on ...</td>\n",
       "      <td>0</td>\n",
       "      <td>`` more i ca n't make any real suggestions on ...</td>\n",
       "    </tr>\n",
       "    <tr>\n",
       "      <th>4</th>\n",
       "      <td>4</td>\n",
       "      <td>You, sir, are my hero. Any chance you remember...</td>\n",
       "      <td>0</td>\n",
       "      <td>you , sir , be my hero . any chance you rememb...</td>\n",
       "    </tr>\n",
       "    <tr>\n",
       "      <th>5</th>\n",
       "      <td>5</td>\n",
       "      <td>\"\\n\\nCongratulations from me as well, use the ...</td>\n",
       "      <td>0</td>\n",
       "      <td>`` congratulations from me as well , use the t...</td>\n",
       "    </tr>\n",
       "    <tr>\n",
       "      <th>6</th>\n",
       "      <td>6</td>\n",
       "      <td>COCKSUCKER BEFORE YOU PISS AROUND ON MY WORK</td>\n",
       "      <td>1</td>\n",
       "      <td>cocksucker before you piss around on my work</td>\n",
       "    </tr>\n",
       "    <tr>\n",
       "      <th>7</th>\n",
       "      <td>7</td>\n",
       "      <td>Your vandalism to the Matt Shirvington article...</td>\n",
       "      <td>0</td>\n",
       "      <td>your vandalism to the matt shirvington article...</td>\n",
       "    </tr>\n",
       "    <tr>\n",
       "      <th>8</th>\n",
       "      <td>8</td>\n",
       "      <td>Sorry if the word 'nonsense' was offensive to ...</td>\n",
       "      <td>0</td>\n",
       "      <td>sorry if the word 'nonsense ' be offensive to ...</td>\n",
       "    </tr>\n",
       "    <tr>\n",
       "      <th>9</th>\n",
       "      <td>9</td>\n",
       "      <td>alignment on this subject and which are contra...</td>\n",
       "      <td>0</td>\n",
       "      <td>alignment on this subject and which be contrar...</td>\n",
       "    </tr>\n",
       "  </tbody>\n",
       "</table>\n",
       "</div>"
      ],
      "text/plain": [
       "   Unnamed: 0                                               text  toxic  \\\n",
       "0           0  Explanation\\nWhy the edits made under my usern...      0   \n",
       "1           1  D'aww! He matches this background colour I'm s...      0   \n",
       "2           2  Hey man, I'm really not trying to edit war. It...      0   \n",
       "3           3  \"\\nMore\\nI can't make any real suggestions on ...      0   \n",
       "4           4  You, sir, are my hero. Any chance you remember...      0   \n",
       "5           5  \"\\n\\nCongratulations from me as well, use the ...      0   \n",
       "6           6       COCKSUCKER BEFORE YOU PISS AROUND ON MY WORK      1   \n",
       "7           7  Your vandalism to the Matt Shirvington article...      0   \n",
       "8           8  Sorry if the word 'nonsense' was offensive to ...      0   \n",
       "9           9  alignment on this subject and which are contra...      0   \n",
       "\n",
       "                                          text_lemma  \n",
       "0  explanation why the edit make under my usernam...  \n",
       "1  d'aww ! he match this background colour i 'm s...  \n",
       "2  hey man , i 'm really not try to edit war . it...  \n",
       "3  `` more i ca n't make any real suggestions on ...  \n",
       "4  you , sir , be my hero . any chance you rememb...  \n",
       "5  `` congratulations from me as well , use the t...  \n",
       "6       cocksucker before you piss around on my work  \n",
       "7  your vandalism to the matt shirvington article...  \n",
       "8  sorry if the word 'nonsense ' be offensive to ...  \n",
       "9  alignment on this subject and which be contrar...  "
      ]
     },
     "execution_count": 9,
     "metadata": {},
     "output_type": "execute_result"
    }
   ],
   "source": [
    "df.head(10)"
   ]
  },
  {
   "cell_type": "markdown",
   "metadata": {},
   "source": [
    "## Обучение"
   ]
  },
  {
   "cell_type": "code",
   "execution_count": 11,
   "metadata": {},
   "outputs": [],
   "source": [
    "features = df['text_lemma']\n",
    "target = df['toxic']"
   ]
  },
  {
   "cell_type": "code",
   "execution_count": 8,
   "metadata": {},
   "outputs": [],
   "source": [
    "train_val_data, test_data = train_test_split(df, test_size=0.2, random_state=42)\n",
    "train_data, val_data = train_test_split(train_val_data, test_size=0.25, random_state=42)\n",
    "\n",
    "tfidf = TfidfVectorizer(stop_words='english')\n",
    "\n",
    "features_train = tfidf.fit_transform(train_data['text_lemma'])\n",
    "features_val = tfidf.transform(val_data['text_lemma'])\n",
    "features_test = tfidf.transform(test_data['text_lemma'])\n",
    "target_train = train_data['toxic']\n",
    "target_val = val_data['toxic']\n",
    "target_test = test_data['toxic']"
   ]
  },
  {
   "cell_type": "code",
   "execution_count": 12,
   "metadata": {},
   "outputs": [
    {
     "name": "stderr",
     "output_type": "stream",
     "text": [
      "[nltk_data] Downloading package stopwords to\n",
      "[nltk_data]     C:\\Users\\mamay\\AppData\\Roaming\\nltk_data...\n",
      "[nltk_data]   Package stopwords is already up-to-date!\n"
     ]
    }
   ],
   "source": [
    "nltk.download('stopwords')\n",
    "stopwords = set(nltk_stopwords.words('english'))"
   ]
  },
  {
   "cell_type": "code",
   "execution_count": 13,
   "metadata": {},
   "outputs": [
    {
     "name": "stdout",
     "output_type": "stream",
     "text": [
      "Fitting 3 folds for each of 10 candidates, totalling 30 fits\n",
      "Best parameters is: {'model': LogisticRegression(C=4, penalty='l1', random_state=12345, solver='liblinear'), 'model__C': 4, 'model__penalty': 'l1'}\n",
      "Best score is: 0.7671999916796185\n",
      "CPU times: total: 859 ms\n",
      "Wall time: 8.73 s\n"
     ]
    }
   ],
   "source": [
    "%%time\n",
    "\n",
    "pipe = Pipeline([\n",
    "    (\n",
    "    ('model', LogisticRegression(random_state=1, solver='liblinear', max_iter=200))\n",
    "    )\n",
    "])\n",
    "\n",
    "param_grid = [\n",
    "    {\n",
    "        'model' : [LogisticRegression(random_state=12345, solver='liblinear')],\n",
    "        'model__penalty' : ['l1', 'l2'],\n",
    "        'model__C' : list(range(1, 15, 3))\n",
    "    }\n",
    "]\n",
    "\n",
    "grid = GridSearchCV(pipe, param_grid=param_grid, scoring='f1', \n",
    "                    cv=3, verbose=True, n_jobs=-1)\n",
    "best_grid = grid.fit(features_train, target_train)\n",
    "print('Best parameters is:', grid.best_params_)\n",
    "print('Best score is:', grid.best_score_)"
   ]
  },
  {
   "cell_type": "code",
   "execution_count": 14,
   "metadata": {},
   "outputs": [
    {
     "name": "stdout",
     "output_type": "stream",
     "text": [
      "F1-score на валидационной выборке: 0.7614169867690994\n",
      "CPU times: total: 1.28 s\n",
      "Wall time: 1.29 s\n"
     ]
    }
   ],
   "source": [
    "%%time\n",
    "\n",
    "model_LR_1 = LogisticRegression(random_state=12345, C=4, penalty='l1', solver='liblinear', max_iter=200, class_weight = 'balanced')\n",
    "model_LR_1.fit(features_train, target_train)\n",
    "pred_LR_1 = model_LR_1.predict(features_val)\n",
    "f1 = f1_score(target_val,pred_LR_1)\n",
    "print(f\"F1-score на валидационной выборке: {f1}\")"
   ]
  },
  {
   "cell_type": "code",
   "execution_count": 15,
   "metadata": {},
   "outputs": [
    {
     "name": "stdout",
     "output_type": "stream",
     "text": [
      "0:\tlearn: 0.4439160\ttotal: 513ms\tremaining: 50.8s\n",
      "20:\tlearn: 0.7372104\ttotal: 7.66s\tremaining: 28.8s\n",
      "40:\tlearn: 0.7751129\ttotal: 14.7s\tremaining: 21.1s\n",
      "60:\tlearn: 0.7912164\ttotal: 21.7s\tremaining: 13.9s\n",
      "80:\tlearn: 0.8045397\ttotal: 28.7s\tremaining: 6.73s\n",
      "99:\tlearn: 0.8188217\ttotal: 35.3s\tremaining: 0us\n",
      "F1 CatBoost: 0.7568212824010914\n",
      "CPU times: total: 4min 36s\n",
      "Wall time: 39 s\n"
     ]
    }
   ],
   "source": [
    "%%time\n",
    "\n",
    "cat_model = CatBoostClassifier(eval_metric=\"F1\", \n",
    "                                   iterations=100, \n",
    "                                   max_depth=6, \n",
    "                                   learning_rate=0.9, \n",
    "                                   random_state=12345)\n",
    "cat_model.fit(features_train, target_train, verbose=20)\n",
    "prediction = cat_model.predict(features_val)\n",
    "f1 = f1_score(target_val, prediction)\n",
    "print('F1 CatBoost:', f1)"
   ]
  },
  {
   "cell_type": "code",
   "execution_count": 9,
   "metadata": {},
   "outputs": [
    {
     "name": "stdout",
     "output_type": "stream",
     "text": [
      "F1-score на валидационной выборке: 0.780278302697131\n",
      "CPU times: user 1.44 s, sys: 55.9 ms, total: 1.49 s\n",
      "Wall time: 1.49 s\n"
     ]
    }
   ],
   "source": [
    "%%time\n",
    "\n",
    "model_LR_2 = LogisticRegression(random_state=12345, C=4, penalty='l1', solver='liblinear', max_iter=200)\n",
    "model_LR_2.fit(features_train, target_train)\n",
    "pred_LR_2 = model_LR_2.predict(features_test)\n",
    "f1 = f1_score(target_test,pred_LR_2)\n",
    "print(f\"F1-score на валидационной выборке: {f1}\")"
   ]
  },
  {
   "cell_type": "markdown",
   "metadata": {},
   "source": [
    "## Выводы"
   ]
  },
  {
   "cell_type": "markdown",
   "metadata": {},
   "source": [
    "В данном проекте была поставлена задача классификации комментариев на позитивные и негативные с помощью машинного обучения.\n",
    "\n",
    "Для достижения цели были выполнены следующие шаги:\n",
    "\n",
    "Были загружены и проанализированы данные.\n",
    "\n",
    "Была проведена предобработка данных: текст комментариев был очищен от лишних символов и токенизирован с помощью библиотеки \n",
    "nltk. \n",
    "\n",
    "Данные были разбиты на обучающую и тестовую выборки\n",
    "\n",
    "Максимальное значение F1-меры было достигнуто для модели LogisticRegression - 0.09663588390501318\n",
    "\n",
    "Были проанализированы результаты работы моделей и сделаны выводы о том, что максимальная F1-мера была достигнута для модели LogisticRegression."
   ]
  },
  {
   "cell_type": "markdown",
   "metadata": {},
   "source": [
    "## Чек-лист проверки"
   ]
  },
  {
   "cell_type": "markdown",
   "metadata": {},
   "source": [
    "- [x]  Jupyter Notebook открыт\n",
    "- [x]  Весь код выполняется без ошибок\n",
    "- [x]  Ячейки с кодом расположены в порядке исполнения\n",
    "- [x]  Данные загружены и подготовлены\n",
    "- [x]  Модели обучены\n",
    "- [x]  Значение метрики *F1* не меньше 0.75\n",
    "- [x]  Выводы написаны"
   ]
  },
  {
   "cell_type": "markdown",
   "metadata": {
    "toc": true
   },
   "source": [
    "<h1>Содержание<span class=\"tocSkip\"></span></h1>\n",
    "<div class=\"toc\"><ul class=\"toc-item\"><li><span><a href=\"#Подготовка\" data-toc-modified-id=\"Подготовка-1\"><span class=\"toc-item-num\">1&nbsp;&nbsp;</span>Подготовка</a></span></li><li><span><a href=\"#Обучение\" data-toc-modified-id=\"Обучение-2\"><span class=\"toc-item-num\">2&nbsp;&nbsp;</span>Обучение</a></span></li><li><span><a href=\"#Выводы\" data-toc-modified-id=\"Выводы-3\"><span class=\"toc-item-num\">3&nbsp;&nbsp;</span>Выводы</a></span></li><li><span><a href=\"#Чек-лист-проверки\" data-toc-modified-id=\"Чек-лист-проверки-4\"><span class=\"toc-item-num\">4&nbsp;&nbsp;</span>Чек-лист проверки</a></span></li></ul></div>"
   ]
  }
 ],
 "metadata": {
  "ExecuteTimeLog": [
   {
    "duration": 54,
    "start_time": "2023-05-04T08:41:10.187Z"
   },
   {
    "duration": 2111,
    "start_time": "2023-05-04T08:41:44.511Z"
   },
   {
    "duration": 2409,
    "start_time": "2023-05-04T08:41:46.625Z"
   },
   {
    "duration": 13,
    "start_time": "2023-05-04T08:41:49.035Z"
   },
   {
    "duration": 55,
    "start_time": "2023-05-04T08:41:49.049Z"
   },
   {
    "duration": 17,
    "start_time": "2023-05-04T08:41:49.107Z"
   },
   {
    "duration": 2847,
    "start_time": "2023-05-04T08:41:49.125Z"
   },
   {
    "duration": 135,
    "start_time": "2023-05-04T08:41:51.974Z"
   },
   {
    "duration": 12,
    "start_time": "2023-05-04T08:41:52.118Z"
   },
   {
    "duration": 36464,
    "start_time": "2023-05-04T08:41:52.133Z"
   },
   {
    "duration": 3,
    "start_time": "2023-05-04T08:44:03.085Z"
   },
   {
    "duration": 31,
    "start_time": "2023-05-04T08:44:03.408Z"
   },
   {
    "duration": 138,
    "start_time": "2023-05-04T08:46:36.679Z"
   },
   {
    "duration": 4,
    "start_time": "2023-05-04T08:47:01.694Z"
   },
   {
    "duration": 18,
    "start_time": "2023-05-04T08:47:02.486Z"
   },
   {
    "duration": 3,
    "start_time": "2023-05-04T08:47:17.835Z"
   },
   {
    "duration": 1705,
    "start_time": "2023-05-04T08:47:39.672Z"
   },
   {
    "duration": 855,
    "start_time": "2023-05-04T08:47:41.380Z"
   },
   {
    "duration": 12,
    "start_time": "2023-05-04T08:47:42.237Z"
   },
   {
    "duration": 62,
    "start_time": "2023-05-04T08:47:42.250Z"
   },
   {
    "duration": 26,
    "start_time": "2023-05-04T08:47:42.314Z"
   },
   {
    "duration": 2978,
    "start_time": "2023-05-04T08:47:42.341Z"
   },
   {
    "duration": 137,
    "start_time": "2023-05-04T08:47:45.320Z"
   },
   {
    "duration": 7,
    "start_time": "2023-05-04T08:47:45.459Z"
   },
   {
    "duration": 35630,
    "start_time": "2023-05-04T08:47:45.468Z"
   },
   {
    "duration": 4,
    "start_time": "2023-05-04T08:48:21.100Z"
   },
   {
    "duration": 46,
    "start_time": "2023-05-04T08:48:21.105Z"
   },
   {
    "duration": 5,
    "start_time": "2023-05-04T08:48:21.153Z"
   },
   {
    "duration": 676506,
    "start_time": "2023-05-04T08:48:21.160Z"
   },
   {
    "duration": 2091,
    "start_time": "2023-05-08T05:29:56.006Z"
   },
   {
    "duration": 3006,
    "start_time": "2023-05-08T05:29:58.100Z"
   },
   {
    "duration": 18,
    "start_time": "2023-05-08T05:30:01.108Z"
   },
   {
    "duration": 145,
    "start_time": "2023-05-08T05:30:01.128Z"
   },
   {
    "duration": 86,
    "start_time": "2023-05-08T05:30:01.276Z"
   },
   {
    "duration": 3373,
    "start_time": "2023-05-08T05:30:01.364Z"
   },
   {
    "duration": 153,
    "start_time": "2023-05-08T05:30:04.739Z"
   },
   {
    "duration": 62,
    "start_time": "2023-05-08T05:30:04.894Z"
   },
   {
    "duration": 156,
    "start_time": "2023-05-08T05:30:04.957Z"
   },
   {
    "duration": 0,
    "start_time": "2023-05-08T05:30:05.128Z"
   },
   {
    "duration": 2218,
    "start_time": "2023-05-08T05:30:23.037Z"
   },
   {
    "duration": 912,
    "start_time": "2023-05-08T05:30:25.258Z"
   },
   {
    "duration": 15,
    "start_time": "2023-05-08T05:30:26.172Z"
   },
   {
    "duration": 45,
    "start_time": "2023-05-08T05:30:26.189Z"
   },
   {
    "duration": 14,
    "start_time": "2023-05-08T05:30:26.237Z"
   },
   {
    "duration": 3368,
    "start_time": "2023-05-08T05:30:26.253Z"
   },
   {
    "duration": 180,
    "start_time": "2023-05-08T05:30:29.623Z"
   },
   {
    "duration": 55,
    "start_time": "2023-05-08T05:30:29.805Z"
   },
   {
    "duration": 176,
    "start_time": "2023-05-08T05:30:29.863Z"
   },
   {
    "duration": 0,
    "start_time": "2023-05-08T05:30:30.041Z"
   },
   {
    "duration": 1895,
    "start_time": "2023-05-08T05:31:40.589Z"
   },
   {
    "duration": 971,
    "start_time": "2023-05-08T05:31:42.486Z"
   },
   {
    "duration": 11,
    "start_time": "2023-05-08T05:31:43.459Z"
   },
   {
    "duration": 32,
    "start_time": "2023-05-08T05:31:43.472Z"
   },
   {
    "duration": 23,
    "start_time": "2023-05-08T05:31:43.507Z"
   },
   {
    "duration": 3158,
    "start_time": "2023-05-08T05:31:43.535Z"
   },
   {
    "duration": 156,
    "start_time": "2023-05-08T05:31:46.695Z"
   },
   {
    "duration": 29,
    "start_time": "2023-05-08T05:31:46.853Z"
   },
   {
    "duration": 4,
    "start_time": "2023-05-08T05:31:46.884Z"
   },
   {
    "duration": 8776,
    "start_time": "2023-05-08T05:31:46.890Z"
   },
   {
    "duration": 56883,
    "start_time": "2023-05-08T05:31:55.668Z"
   },
   {
    "duration": 225,
    "start_time": "2023-05-08T05:36:24.580Z"
   },
   {
    "duration": 97,
    "start_time": "2023-05-08T05:36:55.451Z"
   },
   {
    "duration": 76,
    "start_time": "2023-05-08T05:36:58.035Z"
   },
   {
    "duration": 2014,
    "start_time": "2023-05-08T05:49:17.879Z"
   },
   {
    "duration": 1051,
    "start_time": "2023-05-08T05:49:19.895Z"
   },
   {
    "duration": 12,
    "start_time": "2023-05-08T05:49:20.948Z"
   },
   {
    "duration": 39,
    "start_time": "2023-05-08T05:49:20.963Z"
   },
   {
    "duration": 4,
    "start_time": "2023-05-08T05:49:21.005Z"
   },
   {
    "duration": 3587,
    "start_time": "2023-05-08T05:49:21.018Z"
   },
   {
    "duration": 165,
    "start_time": "2023-05-08T05:49:24.607Z"
   },
   {
    "duration": 34,
    "start_time": "2023-05-08T05:49:24.774Z"
   },
   {
    "duration": 6,
    "start_time": "2023-05-08T05:49:24.817Z"
   },
   {
    "duration": 9030,
    "start_time": "2023-05-08T05:49:24.826Z"
   },
   {
    "duration": 1912,
    "start_time": "2023-05-08T05:49:44.897Z"
   },
   {
    "duration": 963,
    "start_time": "2023-05-08T05:49:46.811Z"
   },
   {
    "duration": 11,
    "start_time": "2023-05-08T05:49:47.776Z"
   },
   {
    "duration": 54,
    "start_time": "2023-05-08T05:49:47.789Z"
   },
   {
    "duration": 11,
    "start_time": "2023-05-08T05:49:47.847Z"
   },
   {
    "duration": 3296,
    "start_time": "2023-05-08T05:49:47.860Z"
   },
   {
    "duration": 174,
    "start_time": "2023-05-08T05:49:51.159Z"
   },
   {
    "duration": 33,
    "start_time": "2023-05-08T05:49:51.342Z"
   },
   {
    "duration": 4,
    "start_time": "2023-05-08T05:49:51.377Z"
   },
   {
    "duration": 8931,
    "start_time": "2023-05-08T05:49:51.383Z"
   },
   {
    "duration": 57609,
    "start_time": "2023-05-08T05:50:00.317Z"
   },
   {
    "duration": 1137715,
    "start_time": "2023-05-08T05:50:57.930Z"
   },
   {
    "duration": 2027,
    "start_time": "2023-05-08T06:11:24.285Z"
   },
   {
    "duration": 1012,
    "start_time": "2023-05-08T06:11:26.315Z"
   },
   {
    "duration": 15,
    "start_time": "2023-05-08T06:11:27.329Z"
   },
   {
    "duration": 38,
    "start_time": "2023-05-08T06:11:27.347Z"
   },
   {
    "duration": 4,
    "start_time": "2023-05-08T06:11:27.388Z"
   },
   {
    "duration": 3571,
    "start_time": "2023-05-08T06:11:27.394Z"
   },
   {
    "duration": 159,
    "start_time": "2023-05-08T06:11:30.968Z"
   },
   {
    "duration": 41,
    "start_time": "2023-05-08T06:11:31.129Z"
   },
   {
    "duration": 41,
    "start_time": "2023-05-08T06:11:31.172Z"
   },
   {
    "duration": 9266,
    "start_time": "2023-05-08T06:11:31.215Z"
   },
   {
    "duration": 58052,
    "start_time": "2023-05-08T06:11:40.483Z"
   },
   {
    "duration": 1890,
    "start_time": "2023-05-08T07:51:37.421Z"
   },
   {
    "duration": 948,
    "start_time": "2023-05-08T07:51:39.313Z"
   },
   {
    "duration": 12,
    "start_time": "2023-05-08T07:51:40.262Z"
   },
   {
    "duration": 54,
    "start_time": "2023-05-08T07:51:40.277Z"
   },
   {
    "duration": 40,
    "start_time": "2023-05-08T07:51:40.337Z"
   },
   {
    "duration": 206,
    "start_time": "2023-05-08T07:51:40.379Z"
   },
   {
    "duration": 0,
    "start_time": "2023-05-08T07:51:40.587Z"
   },
   {
    "duration": 0,
    "start_time": "2023-05-08T07:51:40.588Z"
   },
   {
    "duration": 0,
    "start_time": "2023-05-08T07:51:40.590Z"
   },
   {
    "duration": 0,
    "start_time": "2023-05-08T07:51:40.592Z"
   },
   {
    "duration": 0,
    "start_time": "2023-05-08T07:51:40.593Z"
   },
   {
    "duration": 0,
    "start_time": "2023-05-08T07:51:40.595Z"
   },
   {
    "duration": 0,
    "start_time": "2023-05-08T07:51:40.597Z"
   },
   {
    "duration": 0,
    "start_time": "2023-05-08T07:51:40.622Z"
   },
   {
    "duration": 0,
    "start_time": "2023-05-08T07:51:40.623Z"
   },
   {
    "duration": 0,
    "start_time": "2023-05-08T07:51:40.624Z"
   },
   {
    "duration": 4,
    "start_time": "2023-05-08T07:53:03.788Z"
   },
   {
    "duration": 8,
    "start_time": "2023-05-08T07:53:08.455Z"
   },
   {
    "duration": 13,
    "start_time": "2023-05-08T07:53:14.894Z"
   },
   {
    "duration": 1950,
    "start_time": "2023-05-08T07:53:27.417Z"
   },
   {
    "duration": 973,
    "start_time": "2023-05-08T07:53:29.369Z"
   },
   {
    "duration": 13,
    "start_time": "2023-05-08T07:53:30.344Z"
   },
   {
    "duration": 75,
    "start_time": "2023-05-08T07:53:30.363Z"
   },
   {
    "duration": 66,
    "start_time": "2023-05-08T07:53:30.440Z"
   },
   {
    "duration": 74,
    "start_time": "2023-05-08T07:53:30.508Z"
   },
   {
    "duration": 75,
    "start_time": "2023-05-08T07:53:30.583Z"
   },
   {
    "duration": 58,
    "start_time": "2023-05-08T07:53:30.660Z"
   },
   {
    "duration": 63,
    "start_time": "2023-05-08T07:53:30.722Z"
   },
   {
    "duration": 193,
    "start_time": "2023-05-08T07:53:30.787Z"
   },
   {
    "duration": 1716,
    "start_time": "2023-05-08T07:53:30.982Z"
   },
   {
    "duration": 0,
    "start_time": "2023-05-08T07:53:32.701Z"
   },
   {
    "duration": 0,
    "start_time": "2023-05-08T07:53:32.703Z"
   },
   {
    "duration": 0,
    "start_time": "2023-05-08T07:53:32.705Z"
   },
   {
    "duration": 0,
    "start_time": "2023-05-08T07:53:32.706Z"
   },
   {
    "duration": 0,
    "start_time": "2023-05-08T07:53:32.708Z"
   },
   {
    "duration": 0,
    "start_time": "2023-05-08T07:53:32.710Z"
   },
   {
    "duration": 0,
    "start_time": "2023-05-08T07:53:32.712Z"
   },
   {
    "duration": 12,
    "start_time": "2023-05-08T07:54:22.113Z"
   },
   {
    "duration": 11,
    "start_time": "2023-05-08T07:54:26.694Z"
   },
   {
    "duration": 1983,
    "start_time": "2023-05-08T07:55:52.238Z"
   },
   {
    "duration": 985,
    "start_time": "2023-05-08T07:55:54.224Z"
   },
   {
    "duration": 26,
    "start_time": "2023-05-08T07:55:55.211Z"
   },
   {
    "duration": 53,
    "start_time": "2023-05-08T07:55:55.239Z"
   },
   {
    "duration": 14,
    "start_time": "2023-05-08T07:55:55.294Z"
   },
   {
    "duration": 54,
    "start_time": "2023-05-08T07:55:55.310Z"
   },
   {
    "duration": 17,
    "start_time": "2023-05-08T07:55:55.366Z"
   },
   {
    "duration": 25,
    "start_time": "2023-05-08T07:55:55.385Z"
   },
   {
    "duration": 149,
    "start_time": "2023-05-08T07:55:55.411Z"
   },
   {
    "duration": 1531,
    "start_time": "2023-05-08T07:55:55.562Z"
   },
   {
    "duration": 0,
    "start_time": "2023-05-08T07:55:57.095Z"
   },
   {
    "duration": 0,
    "start_time": "2023-05-08T07:55:57.096Z"
   },
   {
    "duration": 0,
    "start_time": "2023-05-08T07:55:57.097Z"
   },
   {
    "duration": 0,
    "start_time": "2023-05-08T07:55:57.098Z"
   },
   {
    "duration": 0,
    "start_time": "2023-05-08T07:55:57.099Z"
   },
   {
    "duration": 0,
    "start_time": "2023-05-08T07:55:57.100Z"
   },
   {
    "duration": 0,
    "start_time": "2023-05-08T07:55:57.101Z"
   },
   {
    "duration": 2041,
    "start_time": "2023-05-08T07:57:00.839Z"
   },
   {
    "duration": 956,
    "start_time": "2023-05-08T07:57:02.883Z"
   },
   {
    "duration": 21,
    "start_time": "2023-05-08T07:57:03.840Z"
   },
   {
    "duration": 60,
    "start_time": "2023-05-08T07:57:03.863Z"
   },
   {
    "duration": 57,
    "start_time": "2023-05-08T07:57:03.925Z"
   },
   {
    "duration": 26,
    "start_time": "2023-05-08T07:57:03.984Z"
   },
   {
    "duration": 80,
    "start_time": "2023-05-08T07:57:04.011Z"
   },
   {
    "duration": 147,
    "start_time": "2023-05-08T07:57:04.093Z"
   },
   {
    "duration": 1263,
    "start_time": "2023-05-08T07:57:04.242Z"
   },
   {
    "duration": 0,
    "start_time": "2023-05-08T07:57:05.507Z"
   },
   {
    "duration": 0,
    "start_time": "2023-05-08T07:57:05.508Z"
   },
   {
    "duration": 0,
    "start_time": "2023-05-08T07:57:05.509Z"
   },
   {
    "duration": 0,
    "start_time": "2023-05-08T07:57:05.510Z"
   },
   {
    "duration": 0,
    "start_time": "2023-05-08T07:57:05.512Z"
   },
   {
    "duration": 0,
    "start_time": "2023-05-08T07:57:05.513Z"
   },
   {
    "duration": 0,
    "start_time": "2023-05-08T07:57:05.514Z"
   },
   {
    "duration": 22,
    "start_time": "2023-05-08T07:58:28.813Z"
   },
   {
    "duration": 13,
    "start_time": "2023-05-08T07:58:59.913Z"
   },
   {
    "duration": 20,
    "start_time": "2023-05-08T07:59:00.311Z"
   },
   {
    "duration": 14,
    "start_time": "2023-05-08T07:59:03.159Z"
   },
   {
    "duration": 82,
    "start_time": "2023-05-08T08:00:48.411Z"
   },
   {
    "duration": 2046,
    "start_time": "2023-05-08T08:04:33.745Z"
   },
   {
    "duration": 1097,
    "start_time": "2023-05-08T08:04:35.794Z"
   },
   {
    "duration": 13,
    "start_time": "2023-05-08T08:04:36.893Z"
   },
   {
    "duration": 49,
    "start_time": "2023-05-08T08:04:36.908Z"
   },
   {
    "duration": 87890,
    "start_time": "2023-05-08T08:04:36.959Z"
   },
   {
    "duration": 0,
    "start_time": "2023-05-08T08:06:04.858Z"
   },
   {
    "duration": 0,
    "start_time": "2023-05-08T08:06:04.859Z"
   },
   {
    "duration": 0,
    "start_time": "2023-05-08T08:06:04.860Z"
   },
   {
    "duration": 0,
    "start_time": "2023-05-08T08:06:04.863Z"
   },
   {
    "duration": 0,
    "start_time": "2023-05-08T08:06:04.865Z"
   },
   {
    "duration": 0,
    "start_time": "2023-05-08T08:06:04.866Z"
   },
   {
    "duration": 1,
    "start_time": "2023-05-08T08:06:04.867Z"
   },
   {
    "duration": 0,
    "start_time": "2023-05-08T08:06:04.873Z"
   },
   {
    "duration": 0,
    "start_time": "2023-05-08T08:06:04.875Z"
   },
   {
    "duration": 1964,
    "start_time": "2023-05-08T08:06:58.891Z"
   },
   {
    "duration": 1042,
    "start_time": "2023-05-08T08:07:00.859Z"
   },
   {
    "duration": 20,
    "start_time": "2023-05-08T08:07:01.903Z"
   },
   {
    "duration": 98,
    "start_time": "2023-05-08T08:07:01.928Z"
   },
   {
    "duration": 250,
    "start_time": "2023-05-08T08:07:02.029Z"
   },
   {
    "duration": 5,
    "start_time": "2023-05-08T08:07:02.281Z"
   },
   {
    "duration": 23938,
    "start_time": "2023-05-08T08:07:02.288Z"
   },
   {
    "duration": 13,
    "start_time": "2023-05-08T08:07:26.227Z"
   },
   {
    "duration": 50570,
    "start_time": "2023-05-08T08:07:26.244Z"
   },
   {
    "duration": 0,
    "start_time": "2023-05-08T08:08:16.816Z"
   },
   {
    "duration": 0,
    "start_time": "2023-05-08T08:08:16.818Z"
   },
   {
    "duration": 0,
    "start_time": "2023-05-08T08:08:16.819Z"
   },
   {
    "duration": 0,
    "start_time": "2023-05-08T08:08:16.820Z"
   },
   {
    "duration": 0,
    "start_time": "2023-05-08T08:08:16.821Z"
   },
   {
    "duration": 0,
    "start_time": "2023-05-08T08:08:16.822Z"
   },
   {
    "duration": 0,
    "start_time": "2023-05-08T08:08:16.823Z"
   },
   {
    "duration": 0,
    "start_time": "2023-05-08T08:08:16.824Z"
   },
   {
    "duration": 0,
    "start_time": "2023-05-08T08:08:16.825Z"
   },
   {
    "duration": 0,
    "start_time": "2023-05-08T08:08:16.826Z"
   },
   {
    "duration": 0,
    "start_time": "2023-05-08T08:08:16.827Z"
   },
   {
    "duration": 14,
    "start_time": "2023-05-08T08:08:17.960Z"
   },
   {
    "duration": 2010,
    "start_time": "2023-05-08T08:08:39.463Z"
   },
   {
    "duration": 1061,
    "start_time": "2023-05-08T08:08:41.475Z"
   },
   {
    "duration": 25,
    "start_time": "2023-05-08T08:08:42.538Z"
   },
   {
    "duration": 61,
    "start_time": "2023-05-08T08:08:42.571Z"
   },
   {
    "duration": 332,
    "start_time": "2023-05-08T08:08:42.637Z"
   },
   {
    "duration": 4,
    "start_time": "2023-05-08T08:08:42.975Z"
   },
   {
    "duration": 23510,
    "start_time": "2023-05-08T08:08:42.982Z"
   },
   {
    "duration": 4,
    "start_time": "2023-05-08T08:09:06.494Z"
   },
   {
    "duration": 38,
    "start_time": "2023-05-08T08:09:06.499Z"
   },
   {
    "duration": 48063,
    "start_time": "2023-05-08T08:09:06.538Z"
   },
   {
    "duration": 3,
    "start_time": "2023-05-08T08:09:54.603Z"
   },
   {
    "duration": 3658,
    "start_time": "2023-05-08T08:09:54.608Z"
   },
   {
    "duration": 0,
    "start_time": "2023-05-08T08:09:58.267Z"
   },
   {
    "duration": 0,
    "start_time": "2023-05-08T08:09:58.269Z"
   },
   {
    "duration": 0,
    "start_time": "2023-05-08T08:09:58.270Z"
   },
   {
    "duration": 0,
    "start_time": "2023-05-08T08:09:58.271Z"
   },
   {
    "duration": 0,
    "start_time": "2023-05-08T08:09:58.272Z"
   },
   {
    "duration": 0,
    "start_time": "2023-05-08T08:09:58.274Z"
   },
   {
    "duration": 0,
    "start_time": "2023-05-08T08:09:58.275Z"
   },
   {
    "duration": 0,
    "start_time": "2023-05-08T08:09:58.276Z"
   },
   {
    "duration": 0,
    "start_time": "2023-05-08T08:09:58.277Z"
   },
   {
    "duration": 0,
    "start_time": "2023-05-08T08:09:58.278Z"
   },
   {
    "duration": 448,
    "start_time": "2023-05-08T08:22:34.553Z"
   },
   {
    "duration": 1084,
    "start_time": "2023-05-08T08:22:35.003Z"
   },
   {
    "duration": 56,
    "start_time": "2023-05-08T08:22:36.089Z"
   },
   {
    "duration": 99,
    "start_time": "2023-05-08T08:22:36.147Z"
   },
   {
    "duration": 0,
    "start_time": "2023-05-08T08:22:36.248Z"
   },
   {
    "duration": 0,
    "start_time": "2023-05-08T08:22:36.250Z"
   },
   {
    "duration": 0,
    "start_time": "2023-05-08T08:22:36.251Z"
   },
   {
    "duration": 0,
    "start_time": "2023-05-08T08:22:36.252Z"
   },
   {
    "duration": 0,
    "start_time": "2023-05-08T08:22:36.254Z"
   },
   {
    "duration": 0,
    "start_time": "2023-05-08T08:22:36.255Z"
   },
   {
    "duration": 0,
    "start_time": "2023-05-08T08:22:36.256Z"
   },
   {
    "duration": 0,
    "start_time": "2023-05-08T08:22:36.258Z"
   },
   {
    "duration": 1156,
    "start_time": "2023-05-08T08:23:09.363Z"
   },
   {
    "duration": 1011,
    "start_time": "2023-05-08T08:23:10.521Z"
   },
   {
    "duration": 45,
    "start_time": "2023-05-08T08:23:11.534Z"
   },
   {
    "duration": 148,
    "start_time": "2023-05-08T08:23:11.581Z"
   },
   {
    "duration": 44,
    "start_time": "2023-05-08T08:24:10.947Z"
   },
   {
    "duration": 1266,
    "start_time": "2023-05-08T08:24:28.390Z"
   },
   {
    "duration": 1012,
    "start_time": "2023-05-08T08:24:29.661Z"
   },
   {
    "duration": 78,
    "start_time": "2023-05-08T08:24:30.674Z"
   },
   {
    "duration": 174,
    "start_time": "2023-05-08T08:24:30.754Z"
   },
   {
    "duration": 2927,
    "start_time": "2023-05-08T08:30:20.544Z"
   },
   {
    "duration": 1586,
    "start_time": "2023-05-08T08:31:30.350Z"
   },
   {
    "duration": 1048,
    "start_time": "2023-05-08T08:31:31.940Z"
   },
   {
    "duration": 61,
    "start_time": "2023-05-08T08:31:32.989Z"
   },
   {
    "duration": 148,
    "start_time": "2023-05-08T08:31:33.052Z"
   },
   {
    "duration": 145,
    "start_time": "2023-05-08T08:31:33.202Z"
   },
   {
    "duration": 11,
    "start_time": "2023-05-08T08:31:47.246Z"
   },
   {
    "duration": 137,
    "start_time": "2023-05-08T08:31:55.278Z"
   },
   {
    "duration": 1463,
    "start_time": "2023-05-08T08:31:59.982Z"
   },
   {
    "duration": 1076,
    "start_time": "2023-05-08T08:32:01.448Z"
   },
   {
    "duration": 66,
    "start_time": "2023-05-08T08:32:02.530Z"
   },
   {
    "duration": 163,
    "start_time": "2023-05-08T08:32:02.598Z"
   },
   {
    "duration": 157,
    "start_time": "2023-05-08T08:32:02.764Z"
   },
   {
    "duration": 57738,
    "start_time": "2023-05-08T08:45:57.514Z"
   },
   {
    "duration": 58133,
    "start_time": "2023-05-08T08:47:50.099Z"
   },
   {
    "duration": 1407,
    "start_time": "2023-05-08T08:57:05.058Z"
   },
   {
    "duration": 962,
    "start_time": "2023-05-08T08:57:06.467Z"
   },
   {
    "duration": 47,
    "start_time": "2023-05-08T08:57:07.431Z"
   },
   {
    "duration": 148,
    "start_time": "2023-05-08T08:57:07.480Z"
   },
   {
    "duration": 142,
    "start_time": "2023-05-08T08:57:07.631Z"
   },
   {
    "duration": 57960,
    "start_time": "2023-05-08T08:57:07.774Z"
   },
   {
    "duration": 220,
    "start_time": "2023-05-08T08:58:05.737Z"
   },
   {
    "duration": 12,
    "start_time": "2023-05-08T09:03:00.227Z"
   },
   {
    "duration": 1468,
    "start_time": "2023-05-08T09:03:09.349Z"
   },
   {
    "duration": 992,
    "start_time": "2023-05-08T09:03:10.820Z"
   },
   {
    "duration": 55,
    "start_time": "2023-05-08T09:03:11.813Z"
   },
   {
    "duration": 187,
    "start_time": "2023-05-08T09:03:11.872Z"
   },
   {
    "duration": 168,
    "start_time": "2023-05-08T09:03:12.062Z"
   },
   {
    "duration": 940,
    "start_time": "2023-05-08T09:03:12.232Z"
   },
   {
    "duration": 325,
    "start_time": "2023-05-08T09:04:08.659Z"
   },
   {
    "duration": 12,
    "start_time": "2023-05-08T09:04:36.508Z"
   },
   {
    "duration": 15,
    "start_time": "2023-05-08T09:06:08.414Z"
   },
   {
    "duration": 3305,
    "start_time": "2023-05-08T09:06:28.414Z"
   },
   {
    "duration": 3679,
    "start_time": "2023-05-08T09:06:40.372Z"
   },
   {
    "duration": 3503,
    "start_time": "2023-05-08T09:08:13.386Z"
   },
   {
    "duration": 1770,
    "start_time": "2023-05-08T09:08:43.471Z"
   },
   {
    "duration": 2207,
    "start_time": "2023-05-08T09:21:53.296Z"
   },
   {
    "duration": 0,
    "start_time": "2023-05-08T09:21:55.505Z"
   },
   {
    "duration": 0,
    "start_time": "2023-05-08T09:21:55.506Z"
   },
   {
    "duration": 0,
    "start_time": "2023-05-08T09:21:55.508Z"
   },
   {
    "duration": 0,
    "start_time": "2023-05-08T09:21:55.521Z"
   },
   {
    "duration": 0,
    "start_time": "2023-05-08T09:21:55.522Z"
   },
   {
    "duration": 0,
    "start_time": "2023-05-08T09:21:55.523Z"
   },
   {
    "duration": 0,
    "start_time": "2023-05-08T09:21:55.524Z"
   },
   {
    "duration": 0,
    "start_time": "2023-05-08T09:21:55.524Z"
   },
   {
    "duration": 0,
    "start_time": "2023-05-08T09:21:55.525Z"
   },
   {
    "duration": 0,
    "start_time": "2023-05-08T09:21:55.525Z"
   },
   {
    "duration": 0,
    "start_time": "2023-05-08T09:21:55.526Z"
   },
   {
    "duration": 0,
    "start_time": "2023-05-08T09:21:55.527Z"
   },
   {
    "duration": 1323,
    "start_time": "2023-05-08T09:22:27.783Z"
   },
   {
    "duration": 1913,
    "start_time": "2023-05-08T09:22:45.276Z"
   },
   {
    "duration": 865,
    "start_time": "2023-05-08T09:23:14.609Z"
   },
   {
    "duration": 15,
    "start_time": "2023-05-08T09:23:27.861Z"
   },
   {
    "duration": 4,
    "start_time": "2023-05-08T09:23:39.140Z"
   },
   {
    "duration": 3,
    "start_time": "2023-05-08T09:23:44.804Z"
   },
   {
    "duration": 2839,
    "start_time": "2023-05-08T09:24:03.096Z"
   },
   {
    "duration": 864,
    "start_time": "2023-05-08T09:24:05.937Z"
   },
   {
    "duration": 23,
    "start_time": "2023-05-08T09:24:06.803Z"
   },
   {
    "duration": 21,
    "start_time": "2023-05-08T09:24:06.834Z"
   },
   {
    "duration": 23,
    "start_time": "2023-05-08T09:24:06.857Z"
   },
   {
    "duration": 2109,
    "start_time": "2023-05-08T09:24:06.882Z"
   },
   {
    "duration": 98570,
    "start_time": "2023-05-08T09:24:08.992Z"
   },
   {
    "duration": 4,
    "start_time": "2023-05-08T09:25:47.564Z"
   },
   {
    "duration": 65,
    "start_time": "2023-05-08T09:26:15.384Z"
   },
   {
    "duration": 4,
    "start_time": "2023-05-08T09:26:20.552Z"
   },
   {
    "duration": 3,
    "start_time": "2023-05-08T09:26:40.164Z"
   },
   {
    "duration": 6057,
    "start_time": "2023-05-08T09:26:40.468Z"
   },
   {
    "duration": 1494,
    "start_time": "2023-05-08T09:26:46.535Z"
   },
   {
    "duration": 5,
    "start_time": "2023-05-08T09:26:52.125Z"
   },
   {
    "duration": 7,
    "start_time": "2023-05-08T09:27:00.691Z"
   },
   {
    "duration": 741696,
    "start_time": "2023-05-08T09:27:17.205Z"
   },
   {
    "duration": 0,
    "start_time": "2023-05-08T09:39:38.904Z"
   },
   {
    "duration": 17,
    "start_time": "2023-05-08T09:39:41.452Z"
   },
   {
    "duration": 475,
    "start_time": "2023-05-08T09:40:59.542Z"
   },
   {
    "duration": 1151,
    "start_time": "2023-05-08T09:41:00.020Z"
   },
   {
    "duration": 109,
    "start_time": "2023-05-08T09:41:01.173Z"
   },
   {
    "duration": 0,
    "start_time": "2023-05-08T09:41:01.285Z"
   },
   {
    "duration": 0,
    "start_time": "2023-05-08T09:41:01.287Z"
   },
   {
    "duration": 0,
    "start_time": "2023-05-08T09:41:01.289Z"
   },
   {
    "duration": 0,
    "start_time": "2023-05-08T09:41:01.291Z"
   },
   {
    "duration": 0,
    "start_time": "2023-05-08T09:41:01.292Z"
   },
   {
    "duration": 0,
    "start_time": "2023-05-08T09:41:01.294Z"
   },
   {
    "duration": 458,
    "start_time": "2023-05-08T09:41:18.982Z"
   },
   {
    "duration": 1108,
    "start_time": "2023-05-08T09:41:19.443Z"
   },
   {
    "duration": 114,
    "start_time": "2023-05-08T09:41:20.553Z"
   },
   {
    "duration": 0,
    "start_time": "2023-05-08T09:41:20.670Z"
   },
   {
    "duration": 0,
    "start_time": "2023-05-08T09:41:20.671Z"
   },
   {
    "duration": 0,
    "start_time": "2023-05-08T09:41:20.673Z"
   },
   {
    "duration": 0,
    "start_time": "2023-05-08T09:41:20.675Z"
   },
   {
    "duration": 0,
    "start_time": "2023-05-08T09:41:20.677Z"
   },
   {
    "duration": 0,
    "start_time": "2023-05-08T09:41:20.680Z"
   },
   {
    "duration": 20,
    "start_time": "2023-05-08T09:41:25.931Z"
   },
   {
    "duration": 12,
    "start_time": "2023-05-08T09:41:40.657Z"
   },
   {
    "duration": 1276,
    "start_time": "2023-05-08T09:42:37.784Z"
   },
   {
    "duration": 4,
    "start_time": "2023-05-08T09:42:39.779Z"
   },
   {
    "duration": 1790,
    "start_time": "2023-05-08T09:42:46.339Z"
   },
   {
    "duration": 1182,
    "start_time": "2023-05-08T09:42:48.134Z"
   },
   {
    "duration": 31,
    "start_time": "2023-05-08T09:42:49.325Z"
   },
   {
    "duration": 27,
    "start_time": "2023-05-08T09:42:49.359Z"
   },
   {
    "duration": 54,
    "start_time": "2023-05-08T09:42:49.389Z"
   },
   {
    "duration": 2359,
    "start_time": "2023-05-08T09:42:49.445Z"
   },
   {
    "duration": 272,
    "start_time": "2023-05-08T09:42:51.806Z"
   },
   {
    "duration": 0,
    "start_time": "2023-05-08T09:42:52.081Z"
   },
   {
    "duration": 0,
    "start_time": "2023-05-08T09:42:52.088Z"
   },
   {
    "duration": 1610,
    "start_time": "2023-05-08T09:43:49.529Z"
   },
   {
    "duration": 1126,
    "start_time": "2023-05-08T09:43:51.143Z"
   },
   {
    "duration": 15,
    "start_time": "2023-05-08T09:43:52.271Z"
   },
   {
    "duration": 12,
    "start_time": "2023-05-08T09:43:52.288Z"
   },
   {
    "duration": 11,
    "start_time": "2023-05-08T09:43:52.302Z"
   },
   {
    "duration": 2323,
    "start_time": "2023-05-08T09:43:52.317Z"
   },
   {
    "duration": 162,
    "start_time": "2023-05-08T09:43:54.646Z"
   },
   {
    "duration": 0,
    "start_time": "2023-05-08T09:43:54.809Z"
   },
   {
    "duration": 0,
    "start_time": "2023-05-08T09:43:54.811Z"
   },
   {
    "duration": 1554,
    "start_time": "2023-05-08T09:45:14.145Z"
   },
   {
    "duration": 1125,
    "start_time": "2023-05-08T09:45:15.702Z"
   },
   {
    "duration": 29,
    "start_time": "2023-05-08T09:45:16.829Z"
   },
   {
    "duration": 9,
    "start_time": "2023-05-08T09:45:16.864Z"
   },
   {
    "duration": 34,
    "start_time": "2023-05-08T09:45:16.879Z"
   },
   {
    "duration": 2450,
    "start_time": "2023-05-08T09:45:16.916Z"
   },
   {
    "duration": 113850,
    "start_time": "2023-05-08T09:45:19.369Z"
   },
   {
    "duration": 183,
    "start_time": "2023-05-08T09:47:13.226Z"
   },
   {
    "duration": 0,
    "start_time": "2023-05-08T09:47:13.411Z"
   },
   {
    "duration": 4,
    "start_time": "2023-05-08T09:47:32.594Z"
   },
   {
    "duration": 3,
    "start_time": "2023-05-08T09:47:34.561Z"
   },
   {
    "duration": 59,
    "start_time": "2023-05-08T09:47:36.786Z"
   },
   {
    "duration": 13,
    "start_time": "2023-05-08T09:47:43.547Z"
   },
   {
    "duration": 5595,
    "start_time": "2023-05-08T09:52:27.263Z"
   },
   {
    "duration": 1194,
    "start_time": "2023-05-08T09:52:32.864Z"
   },
   {
    "duration": 91,
    "start_time": "2023-05-08T09:52:34.060Z"
   },
   {
    "duration": 400,
    "start_time": "2023-05-08T10:00:17.357Z"
   },
   {
    "duration": 5790,
    "start_time": "2023-05-08T10:02:40.337Z"
   },
   {
    "duration": 967,
    "start_time": "2023-05-08T10:02:46.129Z"
   },
   {
    "duration": 95,
    "start_time": "2023-05-08T10:02:47.097Z"
   },
   {
    "duration": 420,
    "start_time": "2023-05-08T10:02:47.195Z"
   },
   {
    "duration": 151,
    "start_time": "2023-05-08T10:03:07.962Z"
   },
   {
    "duration": 7,
    "start_time": "2023-05-08T10:08:05.642Z"
   },
   {
    "duration": 13,
    "start_time": "2023-05-08T10:08:09.087Z"
   },
   {
    "duration": 3,
    "start_time": "2023-05-08T10:09:01.090Z"
   },
   {
    "duration": 17,
    "start_time": "2023-05-08T10:09:01.663Z"
   },
   {
    "duration": 5054,
    "start_time": "2023-05-08T10:09:09.359Z"
   },
   {
    "duration": 977,
    "start_time": "2023-05-08T10:09:14.415Z"
   },
   {
    "duration": 83,
    "start_time": "2023-05-08T10:09:15.394Z"
   },
   {
    "duration": 4,
    "start_time": "2023-05-08T10:09:15.478Z"
   },
   {
    "duration": 45,
    "start_time": "2023-05-08T10:09:15.485Z"
   },
   {
    "duration": 165,
    "start_time": "2023-05-08T10:09:15.532Z"
   },
   {
    "duration": 4890,
    "start_time": "2023-05-08T10:09:29.369Z"
   },
   {
    "duration": 946,
    "start_time": "2023-05-08T10:09:34.261Z"
   },
   {
    "duration": 89,
    "start_time": "2023-05-08T10:09:35.208Z"
   },
   {
    "duration": 3,
    "start_time": "2023-05-08T10:09:35.299Z"
   },
   {
    "duration": 17,
    "start_time": "2023-05-08T10:09:35.318Z"
   },
   {
    "duration": 150,
    "start_time": "2023-05-08T10:09:35.336Z"
   },
   {
    "duration": 4,
    "start_time": "2023-05-08T10:09:56.466Z"
   },
   {
    "duration": 3199,
    "start_time": "2023-05-08T10:09:56.779Z"
   },
   {
    "duration": 4860,
    "start_time": "2023-05-08T10:10:34.371Z"
   },
   {
    "duration": 935,
    "start_time": "2023-05-08T10:10:39.234Z"
   },
   {
    "duration": 75,
    "start_time": "2023-05-08T10:10:40.171Z"
   },
   {
    "duration": 4,
    "start_time": "2023-05-08T10:10:40.247Z"
   },
   {
    "duration": 3682,
    "start_time": "2023-05-08T10:10:40.253Z"
   },
   {
    "duration": 188,
    "start_time": "2023-05-08T10:10:43.937Z"
   },
   {
    "duration": 5011,
    "start_time": "2023-05-08T10:11:39.546Z"
   },
   {
    "duration": 928,
    "start_time": "2023-05-08T10:11:44.560Z"
   },
   {
    "duration": 85,
    "start_time": "2023-05-08T10:11:45.490Z"
   },
   {
    "duration": 3,
    "start_time": "2023-05-08T10:11:45.577Z"
   },
   {
    "duration": 3392,
    "start_time": "2023-05-08T10:11:45.582Z"
   },
   {
    "duration": 166,
    "start_time": "2023-05-08T10:11:48.976Z"
   },
   {
    "duration": 374,
    "start_time": "2023-05-08T10:14:27.356Z"
   },
   {
    "duration": 1961,
    "start_time": "2023-05-08T10:15:06.383Z"
   },
   {
    "duration": 959,
    "start_time": "2023-05-08T10:15:08.347Z"
   },
   {
    "duration": 75,
    "start_time": "2023-05-08T10:15:09.308Z"
   },
   {
    "duration": 3,
    "start_time": "2023-05-08T10:15:09.384Z"
   },
   {
    "duration": 3361,
    "start_time": "2023-05-08T10:15:09.389Z"
   },
   {
    "duration": 195,
    "start_time": "2023-05-08T10:15:12.752Z"
   },
   {
    "duration": 0,
    "start_time": "2023-05-08T10:15:12.949Z"
   },
   {
    "duration": 229,
    "start_time": "2023-05-08T10:15:51.086Z"
   },
   {
    "duration": 0,
    "start_time": "2023-05-08T10:15:51.317Z"
   },
   {
    "duration": 0,
    "start_time": "2023-05-08T10:15:51.317Z"
   },
   {
    "duration": 0,
    "start_time": "2023-05-08T10:15:51.318Z"
   },
   {
    "duration": 0,
    "start_time": "2023-05-08T10:15:51.322Z"
   },
   {
    "duration": 0,
    "start_time": "2023-05-08T10:15:51.322Z"
   },
   {
    "duration": 0,
    "start_time": "2023-05-08T10:15:51.323Z"
   },
   {
    "duration": 1997,
    "start_time": "2023-05-08T10:16:04.644Z"
   },
   {
    "duration": 952,
    "start_time": "2023-05-08T10:16:06.647Z"
   },
   {
    "duration": 74,
    "start_time": "2023-05-08T10:16:07.601Z"
   },
   {
    "duration": 4,
    "start_time": "2023-05-08T10:16:07.677Z"
   },
   {
    "duration": 3329,
    "start_time": "2023-05-08T10:16:07.683Z"
   },
   {
    "duration": 3475,
    "start_time": "2023-05-08T10:16:11.014Z"
   },
   {
    "duration": 0,
    "start_time": "2023-05-08T10:16:14.491Z"
   },
   {
    "duration": 41729,
    "start_time": "2023-05-08T10:16:38.243Z"
   },
   {
    "duration": 163,
    "start_time": "2023-05-08T10:17:33.116Z"
   },
   {
    "duration": 18,
    "start_time": "2023-05-08T10:17:42.456Z"
   },
   {
    "duration": 102,
    "start_time": "2023-05-08T10:23:49.002Z"
   },
   {
    "duration": 63495,
    "start_time": "2023-05-08T10:37:08.559Z"
   },
   {
    "duration": 2209,
    "start_time": "2023-05-08T10:51:42.442Z"
   },
   {
    "duration": 2017,
    "start_time": "2023-05-08T11:13:13.762Z"
   },
   {
    "duration": 905,
    "start_time": "2023-05-08T11:13:15.783Z"
   },
   {
    "duration": 74,
    "start_time": "2023-05-08T11:13:16.690Z"
   },
   {
    "duration": 4,
    "start_time": "2023-05-08T11:13:16.765Z"
   },
   {
    "duration": 3278,
    "start_time": "2023-05-08T11:13:16.772Z"
   },
   {
    "duration": 42980,
    "start_time": "2023-05-08T11:13:20.052Z"
   },
   {
    "duration": 134,
    "start_time": "2023-05-08T11:14:03.037Z"
   },
   {
    "duration": 11,
    "start_time": "2023-05-08T11:14:03.172Z"
   },
   {
    "duration": 29,
    "start_time": "2023-05-08T11:14:03.185Z"
   },
   {
    "duration": 82,
    "start_time": "2023-05-08T11:14:03.216Z"
   },
   {
    "duration": 1722,
    "start_time": "2023-05-08T11:25:08.899Z"
   },
   {
    "duration": 933,
    "start_time": "2023-05-08T11:25:10.623Z"
   },
   {
    "duration": 74,
    "start_time": "2023-05-08T11:25:11.558Z"
   },
   {
    "duration": 6,
    "start_time": "2023-05-08T11:25:11.633Z"
   },
   {
    "duration": 3580,
    "start_time": "2023-05-08T11:25:11.641Z"
   },
   {
    "duration": 43025,
    "start_time": "2023-05-08T11:25:15.222Z"
   },
   {
    "duration": 138,
    "start_time": "2023-05-08T11:25:58.249Z"
   },
   {
    "duration": 9,
    "start_time": "2023-05-08T11:25:58.389Z"
   },
   {
    "duration": 68,
    "start_time": "2023-05-08T11:25:58.399Z"
   },
   {
    "duration": 92,
    "start_time": "2023-05-08T11:25:58.469Z"
   },
   {
    "duration": 230001,
    "start_time": "2023-05-08T11:25:58.563Z"
   },
   {
    "duration": 1034,
    "start_time": "2023-05-08T11:29:49.855Z"
   },
   {
    "duration": 10,
    "start_time": "2023-05-08T11:33:55.155Z"
   },
   {
    "duration": 3,
    "start_time": "2023-05-08T11:34:07.601Z"
   },
   {
    "duration": 3,
    "start_time": "2023-05-08T11:34:07.937Z"
   },
   {
    "duration": 11,
    "start_time": "2023-05-08T11:34:18.388Z"
   },
   {
    "duration": 26,
    "start_time": "2023-05-08T11:34:39.534Z"
   },
   {
    "duration": 3,
    "start_time": "2023-05-08T11:34:39.840Z"
   },
   {
    "duration": 4,
    "start_time": "2023-05-08T11:34:40.152Z"
   },
   {
    "duration": 1641,
    "start_time": "2023-05-08T16:39:02.736Z"
   },
   {
    "duration": 2321,
    "start_time": "2023-05-08T16:39:04.379Z"
   },
   {
    "duration": 64,
    "start_time": "2023-05-08T16:39:06.701Z"
   },
   {
    "duration": 3,
    "start_time": "2023-05-08T16:39:06.767Z"
   },
   {
    "duration": 2434,
    "start_time": "2023-05-08T16:39:06.773Z"
   },
   {
    "duration": 34171,
    "start_time": "2023-05-08T16:39:09.208Z"
   },
   {
    "duration": 120,
    "start_time": "2023-05-08T16:39:43.381Z"
   },
   {
    "duration": 8,
    "start_time": "2023-05-08T16:39:43.503Z"
   },
   {
    "duration": 7,
    "start_time": "2023-05-08T16:39:43.513Z"
   },
   {
    "duration": 46,
    "start_time": "2023-05-08T16:39:43.521Z"
   },
   {
    "duration": 326,
    "start_time": "2023-05-08T16:39:43.568Z"
   },
   {
    "duration": 627,
    "start_time": "2023-05-08T16:39:51.605Z"
   },
   {
    "duration": 2,
    "start_time": "2023-05-08T16:40:08.181Z"
   },
   {
    "duration": 6,
    "start_time": "2023-05-08T16:40:08.619Z"
   },
   {
    "duration": 673,
    "start_time": "2023-05-08T16:40:09.540Z"
   },
   {
    "duration": 62,
    "start_time": "2023-05-08T16:40:16.666Z"
   },
   {
    "duration": 7,
    "start_time": "2023-05-08T16:40:27.544Z"
   },
   {
    "duration": 60,
    "start_time": "2023-05-08T16:40:28.805Z"
   },
   {
    "duration": 4,
    "start_time": "2023-05-08T16:40:42.211Z"
   },
   {
    "duration": 62,
    "start_time": "2023-05-08T16:40:43.349Z"
   },
   {
    "duration": 3,
    "start_time": "2023-05-08T16:40:45.816Z"
   },
   {
    "duration": 9,
    "start_time": "2023-05-08T16:41:03.140Z"
   },
   {
    "duration": 52,
    "start_time": "2023-05-08T16:41:04.163Z"
   },
   {
    "duration": 5,
    "start_time": "2023-05-08T16:41:35.359Z"
   },
   {
    "duration": 1526,
    "start_time": "2023-05-08T16:43:54.749Z"
   },
   {
    "duration": 866,
    "start_time": "2023-05-08T16:43:56.277Z"
   },
   {
    "duration": 56,
    "start_time": "2023-05-08T16:43:57.149Z"
   },
   {
    "duration": 3,
    "start_time": "2023-05-08T16:43:57.207Z"
   },
   {
    "duration": 2788,
    "start_time": "2023-05-08T16:43:57.213Z"
   },
   {
    "duration": 32926,
    "start_time": "2023-05-08T16:44:00.003Z"
   },
   {
    "duration": 125,
    "start_time": "2023-05-08T16:44:32.931Z"
   },
   {
    "duration": 8,
    "start_time": "2023-05-08T16:44:33.057Z"
   },
   {
    "duration": 18,
    "start_time": "2023-05-08T16:44:33.066Z"
   },
   {
    "duration": 41,
    "start_time": "2023-05-08T16:44:33.085Z"
   },
   {
    "duration": 175,
    "start_time": "2023-05-08T16:44:33.128Z"
   },
   {
    "duration": 358787,
    "start_time": "2023-05-08T16:44:33.305Z"
   },
   {
    "duration": 1538,
    "start_time": "2023-05-08T16:52:36.210Z"
   },
   {
    "duration": 819,
    "start_time": "2023-05-08T16:52:37.751Z"
   },
   {
    "duration": 78,
    "start_time": "2023-05-08T16:52:38.572Z"
   },
   {
    "duration": 4,
    "start_time": "2023-05-08T16:52:38.651Z"
   },
   {
    "duration": 2656,
    "start_time": "2023-05-08T16:52:38.656Z"
   },
   {
    "duration": 34086,
    "start_time": "2023-05-08T16:52:41.313Z"
   },
   {
    "duration": 125,
    "start_time": "2023-05-08T16:53:15.401Z"
   },
   {
    "duration": 20,
    "start_time": "2023-05-08T16:53:15.528Z"
   },
   {
    "duration": 6,
    "start_time": "2023-05-08T16:53:15.550Z"
   },
   {
    "duration": 29,
    "start_time": "2023-05-08T16:53:15.558Z"
   },
   {
    "duration": 237,
    "start_time": "2023-05-08T16:53:15.589Z"
   },
   {
    "duration": 127,
    "start_time": "2023-05-08T16:53:15.828Z"
   },
   {
    "duration": 22,
    "start_time": "2023-05-08T16:53:34.830Z"
   },
   {
    "duration": 16,
    "start_time": "2023-05-08T16:54:00.154Z"
   },
   {
    "duration": 3,
    "start_time": "2023-05-08T16:54:02.309Z"
   },
   {
    "duration": 11,
    "start_time": "2023-05-08T16:54:02.906Z"
   },
   {
    "duration": 3,
    "start_time": "2023-05-08T16:54:23.409Z"
   },
   {
    "duration": 14,
    "start_time": "2023-05-08T16:54:23.762Z"
   },
   {
    "duration": 4663,
    "start_time": "2023-05-08T16:54:29.111Z"
   },
   {
    "duration": 3,
    "start_time": "2023-05-08T16:55:30.708Z"
   },
   {
    "duration": 4466,
    "start_time": "2023-05-08T16:55:31.122Z"
   },
   {
    "duration": 2536,
    "start_time": "2023-05-08T16:55:59.252Z"
   },
   {
    "duration": 5,
    "start_time": "2023-05-08T16:56:11.813Z"
   },
   {
    "duration": 5,
    "start_time": "2023-05-08T16:56:19.070Z"
   },
   {
    "duration": 11,
    "start_time": "2023-05-08T16:59:40.723Z"
   },
   {
    "duration": 1506,
    "start_time": "2023-05-08T17:00:57.504Z"
   },
   {
    "duration": 887,
    "start_time": "2023-05-08T17:00:59.012Z"
   },
   {
    "duration": 66,
    "start_time": "2023-05-08T17:00:59.901Z"
   },
   {
    "duration": 3,
    "start_time": "2023-05-08T17:00:59.969Z"
   },
   {
    "duration": 2766,
    "start_time": "2023-05-08T17:00:59.975Z"
   },
   {
    "duration": 32994,
    "start_time": "2023-05-08T17:01:02.743Z"
   },
   {
    "duration": 118,
    "start_time": "2023-05-08T17:01:35.739Z"
   },
   {
    "duration": 8,
    "start_time": "2023-05-08T17:01:35.859Z"
   },
   {
    "duration": 17,
    "start_time": "2023-05-08T17:01:35.869Z"
   },
   {
    "duration": 43,
    "start_time": "2023-05-08T17:01:35.888Z"
   },
   {
    "duration": 135,
    "start_time": "2023-05-08T17:01:35.933Z"
   },
   {
    "duration": 2250,
    "start_time": "2023-05-08T17:01:36.070Z"
   },
   {
    "duration": 5,
    "start_time": "2023-05-08T17:04:17.216Z"
   },
   {
    "duration": 5,
    "start_time": "2023-05-08T17:04:22.074Z"
   },
   {
    "duration": 5,
    "start_time": "2023-05-08T17:04:29.160Z"
   },
   {
    "duration": 7,
    "start_time": "2023-05-08T17:04:34.805Z"
   },
   {
    "duration": 6,
    "start_time": "2023-05-08T17:04:43.719Z"
   },
   {
    "duration": 5,
    "start_time": "2023-05-08T17:04:48.353Z"
   },
   {
    "duration": 1472,
    "start_time": "2023-05-08T17:05:42.220Z"
   },
   {
    "duration": 781,
    "start_time": "2023-05-08T17:05:43.694Z"
   },
   {
    "duration": 70,
    "start_time": "2023-05-08T17:05:44.477Z"
   },
   {
    "duration": 4,
    "start_time": "2023-05-08T17:05:44.549Z"
   },
   {
    "duration": 2732,
    "start_time": "2023-05-08T17:05:44.555Z"
   },
   {
    "duration": 1577,
    "start_time": "2023-05-08T17:06:03.210Z"
   },
   {
    "duration": 830,
    "start_time": "2023-05-08T17:06:04.789Z"
   },
   {
    "duration": 67,
    "start_time": "2023-05-08T17:06:05.621Z"
   },
   {
    "duration": 4,
    "start_time": "2023-05-08T17:06:05.690Z"
   },
   {
    "duration": 2496,
    "start_time": "2023-05-08T17:06:05.696Z"
   },
   {
    "duration": 30690,
    "start_time": "2023-05-08T17:06:08.194Z"
   },
   {
    "duration": 112,
    "start_time": "2023-05-08T17:06:38.885Z"
   },
   {
    "duration": 9,
    "start_time": "2023-05-08T17:06:38.998Z"
   },
   {
    "duration": 50,
    "start_time": "2023-05-08T17:06:39.008Z"
   },
   {
    "duration": 28,
    "start_time": "2023-05-08T17:06:39.059Z"
   },
   {
    "duration": 169,
    "start_time": "2023-05-08T17:06:39.089Z"
   },
   {
    "duration": 2236,
    "start_time": "2023-05-08T17:06:39.260Z"
   },
   {
    "duration": 2835,
    "start_time": "2023-05-08T17:08:41.006Z"
   },
   {
    "duration": 351,
    "start_time": "2023-05-08T17:09:44.123Z"
   },
   {
    "duration": 1456,
    "start_time": "2023-05-08T17:36:17.951Z"
   },
   {
    "duration": 825,
    "start_time": "2023-05-08T17:36:19.410Z"
   },
   {
    "duration": 57,
    "start_time": "2023-05-08T17:36:20.236Z"
   },
   {
    "duration": 3,
    "start_time": "2023-05-08T17:36:20.294Z"
   },
   {
    "duration": 2581,
    "start_time": "2023-05-08T17:36:20.300Z"
   },
   {
    "duration": 30946,
    "start_time": "2023-05-08T17:36:22.882Z"
   },
   {
    "duration": 129,
    "start_time": "2023-05-08T17:36:53.830Z"
   },
   {
    "duration": 9,
    "start_time": "2023-05-08T17:36:53.960Z"
   },
   {
    "duration": 146,
    "start_time": "2023-05-08T17:36:53.971Z"
   },
   {
    "duration": 0,
    "start_time": "2023-05-08T17:36:54.119Z"
   },
   {
    "duration": 0,
    "start_time": "2023-05-08T17:36:54.120Z"
   },
   {
    "duration": 0,
    "start_time": "2023-05-08T17:36:54.121Z"
   },
   {
    "duration": 0,
    "start_time": "2023-05-08T17:36:54.135Z"
   },
   {
    "duration": 0,
    "start_time": "2023-05-08T17:36:54.136Z"
   },
   {
    "duration": 3,
    "start_time": "2023-05-08T17:38:16.575Z"
   },
   {
    "duration": 27,
    "start_time": "2023-05-08T17:38:18.725Z"
   },
   {
    "duration": 1472,
    "start_time": "2023-05-08T17:38:23.012Z"
   },
   {
    "duration": 833,
    "start_time": "2023-05-08T17:38:24.486Z"
   },
   {
    "duration": 64,
    "start_time": "2023-05-08T17:38:25.320Z"
   },
   {
    "duration": 4,
    "start_time": "2023-05-08T17:38:25.386Z"
   },
   {
    "duration": 2425,
    "start_time": "2023-05-08T17:38:25.393Z"
   },
   {
    "duration": 30061,
    "start_time": "2023-05-08T17:38:27.820Z"
   },
   {
    "duration": 111,
    "start_time": "2023-05-08T17:38:57.882Z"
   },
   {
    "duration": 8,
    "start_time": "2023-05-08T17:38:57.995Z"
   },
   {
    "duration": 123,
    "start_time": "2023-05-08T17:38:58.004Z"
   },
   {
    "duration": 0,
    "start_time": "2023-05-08T17:38:58.128Z"
   },
   {
    "duration": 0,
    "start_time": "2023-05-08T17:38:58.134Z"
   },
   {
    "duration": 0,
    "start_time": "2023-05-08T17:38:58.135Z"
   },
   {
    "duration": 0,
    "start_time": "2023-05-08T17:38:58.136Z"
   },
   {
    "duration": 0,
    "start_time": "2023-05-08T17:38:58.136Z"
   },
   {
    "duration": 0,
    "start_time": "2023-05-08T17:38:58.137Z"
   },
   {
    "duration": 4,
    "start_time": "2023-05-08T17:39:15.464Z"
   },
   {
    "duration": 25,
    "start_time": "2023-05-08T17:39:16.125Z"
   },
   {
    "duration": 31,
    "start_time": "2023-05-08T17:39:21.377Z"
   },
   {
    "duration": 166,
    "start_time": "2023-05-08T17:39:22.233Z"
   },
   {
    "duration": 2156,
    "start_time": "2023-05-08T17:39:22.905Z"
   },
   {
    "duration": 3088,
    "start_time": "2023-05-08T17:39:25.063Z"
   },
   {
    "duration": 322,
    "start_time": "2023-05-08T17:39:34.352Z"
   },
   {
    "duration": 831,
    "start_time": "2023-05-08T17:42:00.611Z"
   },
   {
    "duration": 797,
    "start_time": "2023-05-08T17:43:17.019Z"
   },
   {
    "duration": 1503,
    "start_time": "2023-05-08T17:43:34.119Z"
   },
   {
    "duration": 776,
    "start_time": "2023-05-08T17:43:35.623Z"
   },
   {
    "duration": 59,
    "start_time": "2023-05-08T17:43:36.400Z"
   },
   {
    "duration": 3,
    "start_time": "2023-05-08T17:43:36.460Z"
   },
   {
    "duration": 2401,
    "start_time": "2023-05-08T17:43:36.466Z"
   },
   {
    "duration": 30467,
    "start_time": "2023-05-08T17:43:38.868Z"
   },
   {
    "duration": 108,
    "start_time": "2023-05-08T17:44:09.337Z"
   },
   {
    "duration": 8,
    "start_time": "2023-05-08T17:44:09.447Z"
   },
   {
    "duration": 6,
    "start_time": "2023-05-08T17:44:09.456Z"
   },
   {
    "duration": 32,
    "start_time": "2023-05-08T17:44:09.464Z"
   },
   {
    "duration": 24,
    "start_time": "2023-05-08T17:44:09.498Z"
   },
   {
    "duration": 212,
    "start_time": "2023-05-08T17:44:09.524Z"
   },
   {
    "duration": 507,
    "start_time": "2023-05-08T17:44:09.737Z"
   },
   {
    "duration": 1848,
    "start_time": "2023-05-08T17:44:10.246Z"
   },
   {
    "duration": 2322,
    "start_time": "2023-05-08T17:44:12.095Z"
   },
   {
    "duration": 274,
    "start_time": "2023-05-08T17:44:14.418Z"
   },
   {
    "duration": 1176,
    "start_time": "2023-05-08T17:44:33.469Z"
   },
   {
    "duration": 7,
    "start_time": "2023-05-08T17:44:38.707Z"
   },
   {
    "duration": 1486,
    "start_time": "2023-05-08T17:44:54.936Z"
   },
   {
    "duration": 811,
    "start_time": "2023-05-08T17:44:56.424Z"
   },
   {
    "duration": 52,
    "start_time": "2023-05-08T17:44:57.236Z"
   },
   {
    "duration": 3,
    "start_time": "2023-05-08T17:44:57.289Z"
   },
   {
    "duration": 2590,
    "start_time": "2023-05-08T17:44:57.295Z"
   },
   {
    "duration": 30567,
    "start_time": "2023-05-08T17:44:59.887Z"
   },
   {
    "duration": 129,
    "start_time": "2023-05-08T17:45:30.456Z"
   },
   {
    "duration": 9,
    "start_time": "2023-05-08T17:45:30.587Z"
   },
   {
    "duration": 86,
    "start_time": "2023-05-08T17:45:30.598Z"
   },
   {
    "duration": 72,
    "start_time": "2023-05-08T17:45:30.685Z"
   },
   {
    "duration": 52,
    "start_time": "2023-05-08T17:45:30.759Z"
   },
   {
    "duration": 229,
    "start_time": "2023-05-08T17:45:30.813Z"
   },
   {
    "duration": 753,
    "start_time": "2023-05-08T17:45:31.044Z"
   },
   {
    "duration": 2155,
    "start_time": "2023-05-08T17:45:31.799Z"
   },
   {
    "duration": 3162,
    "start_time": "2023-05-08T17:45:33.956Z"
   },
   {
    "duration": 367,
    "start_time": "2023-05-08T17:45:37.120Z"
   },
   {
    "duration": 125,
    "start_time": "2023-05-08T17:48:52.891Z"
   },
   {
    "duration": 1506,
    "start_time": "2023-05-08T17:49:08.408Z"
   },
   {
    "duration": 773,
    "start_time": "2023-05-08T17:49:09.916Z"
   },
   {
    "duration": 63,
    "start_time": "2023-05-08T17:49:10.690Z"
   },
   {
    "duration": 3,
    "start_time": "2023-05-08T17:49:10.755Z"
   },
   {
    "duration": 2423,
    "start_time": "2023-05-08T17:49:10.761Z"
   },
   {
    "duration": 30609,
    "start_time": "2023-05-08T17:49:13.185Z"
   },
   {
    "duration": 104,
    "start_time": "2023-05-08T17:49:43.795Z"
   },
   {
    "duration": 7,
    "start_time": "2023-05-08T17:49:43.900Z"
   },
   {
    "duration": 11,
    "start_time": "2023-05-08T17:49:43.909Z"
   },
   {
    "duration": 29,
    "start_time": "2023-05-08T17:49:43.921Z"
   },
   {
    "duration": 27,
    "start_time": "2023-05-08T17:49:43.952Z"
   },
   {
    "duration": 196,
    "start_time": "2023-05-08T17:49:43.980Z"
   },
   {
    "duration": 123,
    "start_time": "2023-05-08T17:49:44.178Z"
   },
   {
    "duration": 0,
    "start_time": "2023-05-08T17:49:44.303Z"
   },
   {
    "duration": 0,
    "start_time": "2023-05-08T17:49:44.304Z"
   },
   {
    "duration": 0,
    "start_time": "2023-05-08T17:49:44.305Z"
   },
   {
    "duration": 0,
    "start_time": "2023-05-08T17:49:44.306Z"
   },
   {
    "duration": 11,
    "start_time": "2023-05-08T17:52:11.713Z"
   },
   {
    "duration": 1524,
    "start_time": "2023-05-08T17:53:55.899Z"
   },
   {
    "duration": 795,
    "start_time": "2023-05-08T17:53:57.424Z"
   },
   {
    "duration": 58,
    "start_time": "2023-05-08T17:53:58.220Z"
   },
   {
    "duration": 3,
    "start_time": "2023-05-08T17:53:58.280Z"
   },
   {
    "duration": 2649,
    "start_time": "2023-05-08T17:53:58.286Z"
   },
   {
    "duration": 30076,
    "start_time": "2023-05-08T17:54:00.937Z"
   },
   {
    "duration": 122,
    "start_time": "2023-05-08T17:54:31.014Z"
   },
   {
    "duration": 8,
    "start_time": "2023-05-08T17:54:31.137Z"
   },
   {
    "duration": 25,
    "start_time": "2023-05-08T17:54:31.146Z"
   },
   {
    "duration": 25,
    "start_time": "2023-05-08T17:54:31.172Z"
   },
   {
    "duration": 240,
    "start_time": "2023-05-08T17:54:31.198Z"
   },
   {
    "duration": 0,
    "start_time": "2023-05-08T17:54:31.440Z"
   },
   {
    "duration": 0,
    "start_time": "2023-05-08T17:54:31.441Z"
   },
   {
    "duration": 0,
    "start_time": "2023-05-08T17:54:31.443Z"
   },
   {
    "duration": 0,
    "start_time": "2023-05-08T17:54:31.443Z"
   },
   {
    "duration": 0,
    "start_time": "2023-05-08T17:54:31.444Z"
   },
   {
    "duration": 0,
    "start_time": "2023-05-08T17:54:31.445Z"
   },
   {
    "duration": 4908,
    "start_time": "2023-05-08T17:56:01.824Z"
   },
   {
    "duration": 128,
    "start_time": "2023-05-08T17:56:08.744Z"
   },
   {
    "duration": 48986,
    "start_time": "2023-05-08T17:56:09.061Z"
   },
   {
    "duration": 636,
    "start_time": "2023-05-08T17:56:58.049Z"
   },
   {
    "duration": 108970,
    "start_time": "2023-05-08T17:56:58.687Z"
   },
   {
    "duration": 0,
    "start_time": "2023-05-08T17:58:47.659Z"
   },
   {
    "duration": 0,
    "start_time": "2023-05-08T17:58:47.660Z"
   },
   {
    "duration": 0,
    "start_time": "2023-05-08T17:58:47.662Z"
   },
   {
    "duration": 689,
    "start_time": "2023-05-08T17:58:51.914Z"
   },
   {
    "duration": 20,
    "start_time": "2023-05-08T18:01:00.713Z"
   },
   {
    "duration": 1448,
    "start_time": "2023-05-08T18:01:19.281Z"
   },
   {
    "duration": 785,
    "start_time": "2023-05-08T18:01:20.731Z"
   },
   {
    "duration": 59,
    "start_time": "2023-05-08T18:01:21.517Z"
   },
   {
    "duration": 3,
    "start_time": "2023-05-08T18:01:21.578Z"
   },
   {
    "duration": 2395,
    "start_time": "2023-05-08T18:01:21.583Z"
   },
   {
    "duration": 30650,
    "start_time": "2023-05-08T18:01:23.980Z"
   },
   {
    "duration": 141,
    "start_time": "2023-05-08T18:01:54.635Z"
   },
   {
    "duration": 8,
    "start_time": "2023-05-08T18:01:54.777Z"
   },
   {
    "duration": 8,
    "start_time": "2023-05-08T18:01:54.786Z"
   },
   {
    "duration": 5035,
    "start_time": "2023-05-08T18:01:54.795Z"
   },
   {
    "duration": 201,
    "start_time": "2023-05-08T18:01:59.834Z"
   },
   {
    "duration": 49014,
    "start_time": "2023-05-08T18:02:00.037Z"
   },
   {
    "duration": 49385,
    "start_time": "2023-05-08T18:04:26.553Z"
   },
   {
    "duration": 1554,
    "start_time": "2023-05-08T18:05:25.217Z"
   },
   {
    "duration": 904,
    "start_time": "2023-05-08T18:05:26.773Z"
   },
   {
    "duration": 69,
    "start_time": "2023-05-08T18:05:27.679Z"
   },
   {
    "duration": 3,
    "start_time": "2023-05-08T18:05:27.750Z"
   },
   {
    "duration": 3011,
    "start_time": "2023-05-08T18:05:27.755Z"
   },
   {
    "duration": 32792,
    "start_time": "2023-05-08T18:05:30.768Z"
   },
   {
    "duration": 122,
    "start_time": "2023-05-08T18:06:03.561Z"
   },
   {
    "duration": 8,
    "start_time": "2023-05-08T18:06:03.684Z"
   },
   {
    "duration": 27,
    "start_time": "2023-05-08T18:06:03.694Z"
   },
   {
    "duration": 4992,
    "start_time": "2023-05-08T18:06:03.722Z"
   },
   {
    "duration": 140,
    "start_time": "2023-05-08T18:06:08.716Z"
   },
   {
    "duration": 58586,
    "start_time": "2023-05-08T18:06:08.858Z"
   },
   {
    "duration": 55871,
    "start_time": "2023-05-08T18:11:26.564Z"
   },
   {
    "duration": 3475,
    "start_time": "2023-05-08T18:13:01.220Z"
   },
   {
    "duration": 808,
    "start_time": "2023-05-08T18:14:58.208Z"
   },
   {
    "duration": 3010,
    "start_time": "2023-05-08T18:15:20.915Z"
   },
   {
    "duration": 1518,
    "start_time": "2023-05-08T18:16:15.724Z"
   },
   {
    "duration": 854,
    "start_time": "2023-05-08T18:16:17.244Z"
   },
   {
    "duration": 65,
    "start_time": "2023-05-08T18:16:18.100Z"
   },
   {
    "duration": 3,
    "start_time": "2023-05-08T18:16:18.167Z"
   },
   {
    "duration": 2464,
    "start_time": "2023-05-08T18:16:18.173Z"
   },
   {
    "duration": 30107,
    "start_time": "2023-05-08T18:16:20.639Z"
   },
   {
    "duration": 115,
    "start_time": "2023-05-08T18:16:50.748Z"
   },
   {
    "duration": 7,
    "start_time": "2023-05-08T18:16:50.864Z"
   },
   {
    "duration": 10,
    "start_time": "2023-05-08T18:16:50.873Z"
   },
   {
    "duration": 5209,
    "start_time": "2023-05-08T18:16:50.884Z"
   },
   {
    "duration": 166,
    "start_time": "2023-05-08T18:16:56.095Z"
   },
   {
    "duration": 58479,
    "start_time": "2023-05-08T18:16:56.262Z"
   },
   {
    "duration": 3644,
    "start_time": "2023-05-08T18:17:54.743Z"
   },
   {
    "duration": 72904,
    "start_time": "2023-05-08T18:18:30.157Z"
   },
   {
    "duration": 50697,
    "start_time": "2023-05-08T18:19:59.264Z"
   },
   {
    "duration": 1597,
    "start_time": "2023-05-08T18:21:27.019Z"
   },
   {
    "duration": 848,
    "start_time": "2023-05-08T18:21:28.618Z"
   },
   {
    "duration": 53,
    "start_time": "2023-05-08T18:21:29.468Z"
   },
   {
    "duration": 3,
    "start_time": "2023-05-08T18:21:29.535Z"
   },
   {
    "duration": 2704,
    "start_time": "2023-05-08T18:21:29.540Z"
   },
   {
    "duration": 1496,
    "start_time": "2023-05-08T18:21:44.567Z"
   },
   {
    "duration": 804,
    "start_time": "2023-05-08T18:21:46.064Z"
   },
   {
    "duration": 70,
    "start_time": "2023-05-08T18:21:46.870Z"
   },
   {
    "duration": 3,
    "start_time": "2023-05-08T18:21:46.942Z"
   },
   {
    "duration": 2453,
    "start_time": "2023-05-08T18:21:46.948Z"
   },
   {
    "duration": 30794,
    "start_time": "2023-05-08T18:21:49.403Z"
   },
   {
    "duration": 113,
    "start_time": "2023-05-08T18:22:20.199Z"
   },
   {
    "duration": 8,
    "start_time": "2023-05-08T18:22:20.313Z"
   },
   {
    "duration": 3,
    "start_time": "2023-05-08T18:22:20.334Z"
   },
   {
    "duration": 4914,
    "start_time": "2023-05-08T18:22:20.339Z"
   },
   {
    "duration": 129,
    "start_time": "2023-05-08T18:22:25.255Z"
   },
   {
    "duration": 57057,
    "start_time": "2023-05-08T18:22:25.386Z"
   },
   {
    "duration": 30684,
    "start_time": "2023-05-08T18:23:22.445Z"
   },
   {
    "duration": 1510,
    "start_time": "2023-05-08T18:39:06.223Z"
   },
   {
    "duration": 776,
    "start_time": "2023-05-08T18:39:07.735Z"
   },
   {
    "duration": 52,
    "start_time": "2023-05-08T18:39:08.513Z"
   },
   {
    "duration": 3,
    "start_time": "2023-05-08T18:39:08.566Z"
   },
   {
    "duration": 2423,
    "start_time": "2023-05-08T18:39:08.571Z"
   },
   {
    "duration": 6161,
    "start_time": "2023-05-08T18:39:10.996Z"
   },
   {
    "duration": 104,
    "start_time": "2023-05-08T18:39:17.159Z"
   },
   {
    "duration": 8,
    "start_time": "2023-05-08T18:39:17.265Z"
   },
   {
    "duration": 733,
    "start_time": "2023-05-08T18:39:17.275Z"
   },
   {
    "duration": 1,
    "start_time": "2023-05-08T18:39:18.009Z"
   },
   {
    "duration": 0,
    "start_time": "2023-05-08T18:39:18.010Z"
   },
   {
    "duration": 0,
    "start_time": "2023-05-08T18:39:18.011Z"
   },
   {
    "duration": 0,
    "start_time": "2023-05-08T18:39:18.013Z"
   },
   {
    "duration": 0,
    "start_time": "2023-05-08T18:39:18.014Z"
   },
   {
    "duration": 1572,
    "start_time": "2023-05-08T18:39:29.459Z"
   },
   {
    "duration": 814,
    "start_time": "2023-05-08T18:39:31.035Z"
   },
   {
    "duration": 53,
    "start_time": "2023-05-08T18:39:31.851Z"
   },
   {
    "duration": 3,
    "start_time": "2023-05-08T18:39:31.905Z"
   },
   {
    "duration": 2438,
    "start_time": "2023-05-08T18:39:31.910Z"
   },
   {
    "duration": 30593,
    "start_time": "2023-05-08T18:39:34.350Z"
   },
   {
    "duration": 117,
    "start_time": "2023-05-08T18:40:04.944Z"
   },
   {
    "duration": 8,
    "start_time": "2023-05-08T18:40:05.063Z"
   },
   {
    "duration": 8,
    "start_time": "2023-05-08T18:40:05.073Z"
   },
   {
    "duration": 4915,
    "start_time": "2023-05-08T18:40:05.083Z"
   },
   {
    "duration": 236,
    "start_time": "2023-05-08T18:40:10.000Z"
   },
   {
    "duration": 57005,
    "start_time": "2023-05-08T18:40:10.237Z"
   },
   {
    "duration": 36241,
    "start_time": "2023-05-08T18:41:07.244Z"
   },
   {
    "duration": 1451,
    "start_time": "2023-05-08T18:50:34.587Z"
   },
   {
    "duration": 782,
    "start_time": "2023-05-08T18:50:36.039Z"
   },
   {
    "duration": 59,
    "start_time": "2023-05-08T18:50:36.823Z"
   },
   {
    "duration": 2,
    "start_time": "2023-05-08T18:50:36.884Z"
   },
   {
    "duration": 2548,
    "start_time": "2023-05-08T18:50:36.888Z"
   },
   {
    "duration": 30834,
    "start_time": "2023-05-08T18:50:39.437Z"
   },
   {
    "duration": 111,
    "start_time": "2023-05-08T18:51:10.273Z"
   },
   {
    "duration": 8,
    "start_time": "2023-05-08T18:51:10.385Z"
   },
   {
    "duration": 14,
    "start_time": "2023-05-08T18:51:10.394Z"
   },
   {
    "duration": 4941,
    "start_time": "2023-05-08T18:51:10.409Z"
   },
   {
    "duration": 233,
    "start_time": "2023-05-08T18:51:15.352Z"
   },
   {
    "duration": 55751,
    "start_time": "2023-05-08T18:51:15.587Z"
   },
   {
    "duration": 35643,
    "start_time": "2023-05-08T18:52:11.340Z"
   },
   {
    "duration": 1187,
    "start_time": "2023-05-08T19:00:47.593Z"
   },
   {
    "duration": 1590,
    "start_time": "2023-05-08T19:00:54.132Z"
   },
   {
    "duration": 2263,
    "start_time": "2023-05-08T19:00:55.724Z"
   },
   {
    "duration": 60,
    "start_time": "2023-05-08T19:00:57.989Z"
   },
   {
    "duration": 3,
    "start_time": "2023-05-08T19:00:58.051Z"
   },
   {
    "duration": 2580,
    "start_time": "2023-05-08T19:00:58.056Z"
   },
   {
    "duration": 31793,
    "start_time": "2023-05-08T19:01:00.638Z"
   },
   {
    "duration": 132,
    "start_time": "2023-05-08T19:01:32.435Z"
   },
   {
    "duration": 7,
    "start_time": "2023-05-08T19:01:32.569Z"
   },
   {
    "duration": 34,
    "start_time": "2023-05-08T19:01:32.578Z"
   },
   {
    "duration": 5115,
    "start_time": "2023-05-08T19:01:32.613Z"
   },
   {
    "duration": 136,
    "start_time": "2023-05-08T19:01:37.730Z"
   },
   {
    "duration": 57180,
    "start_time": "2023-05-08T19:01:37.868Z"
   },
   {
    "duration": 36029,
    "start_time": "2023-05-08T19:02:35.050Z"
   },
   {
    "duration": 1531,
    "start_time": "2023-05-08T19:35:04.288Z"
   },
   {
    "duration": 2189,
    "start_time": "2023-05-08T19:35:05.821Z"
   },
   {
    "duration": 48,
    "start_time": "2023-05-08T19:35:08.011Z"
   },
   {
    "duration": 3,
    "start_time": "2023-05-08T19:35:08.061Z"
   },
   {
    "duration": 2455,
    "start_time": "2023-05-08T19:35:08.066Z"
   },
   {
    "duration": 31142,
    "start_time": "2023-05-08T19:35:10.523Z"
   },
   {
    "duration": 110,
    "start_time": "2023-05-08T19:35:41.667Z"
   },
   {
    "duration": 8,
    "start_time": "2023-05-08T19:35:41.779Z"
   },
   {
    "duration": 10,
    "start_time": "2023-05-08T19:35:41.788Z"
   },
   {
    "duration": 5004,
    "start_time": "2023-05-08T19:35:41.799Z"
   },
   {
    "duration": 153,
    "start_time": "2023-05-08T19:35:46.805Z"
   },
   {
    "duration": 55678,
    "start_time": "2023-05-08T19:35:46.960Z"
   },
   {
    "duration": 35960,
    "start_time": "2023-05-08T19:36:42.640Z"
   },
   {
    "duration": 1509,
    "start_time": "2023-05-08T19:45:35.119Z"
   },
   {
    "duration": 2161,
    "start_time": "2023-05-08T19:45:36.630Z"
   },
   {
    "duration": 55,
    "start_time": "2023-05-08T19:45:38.792Z"
   },
   {
    "duration": 3,
    "start_time": "2023-05-08T19:45:38.848Z"
   },
   {
    "duration": 2409,
    "start_time": "2023-05-08T19:45:38.854Z"
   },
   {
    "duration": 30565,
    "start_time": "2023-05-08T19:45:41.265Z"
   },
   {
    "duration": 110,
    "start_time": "2023-05-08T19:46:11.835Z"
   },
   {
    "duration": 8,
    "start_time": "2023-05-08T19:46:11.947Z"
   },
   {
    "duration": 16,
    "start_time": "2023-05-08T19:46:11.956Z"
   },
   {
    "duration": 4984,
    "start_time": "2023-05-08T19:46:11.973Z"
   },
   {
    "duration": 207,
    "start_time": "2023-05-08T19:46:16.959Z"
   },
   {
    "duration": 1640,
    "start_time": "2023-05-08T19:46:43.910Z"
   },
   {
    "duration": 796,
    "start_time": "2023-05-08T19:46:45.552Z"
   },
   {
    "duration": 58,
    "start_time": "2023-05-08T19:46:46.349Z"
   },
   {
    "duration": 4,
    "start_time": "2023-05-08T19:46:46.408Z"
   },
   {
    "duration": 2455,
    "start_time": "2023-05-08T19:46:46.434Z"
   },
   {
    "duration": 30910,
    "start_time": "2023-05-08T19:46:48.890Z"
   },
   {
    "duration": 112,
    "start_time": "2023-05-08T19:47:19.802Z"
   },
   {
    "duration": 7,
    "start_time": "2023-05-08T19:47:19.916Z"
   },
   {
    "duration": 11,
    "start_time": "2023-05-08T19:47:19.925Z"
   },
   {
    "duration": 5077,
    "start_time": "2023-05-08T19:47:19.937Z"
   },
   {
    "duration": 165,
    "start_time": "2023-05-08T19:47:25.016Z"
   },
   {
    "duration": 57457,
    "start_time": "2023-05-08T19:47:25.182Z"
   },
   {
    "duration": 35865,
    "start_time": "2023-05-08T19:48:22.641Z"
   },
   {
    "duration": 1596,
    "start_time": "2023-05-08T20:01:30.523Z"
   },
   {
    "duration": 2233,
    "start_time": "2023-05-08T20:01:32.121Z"
   },
   {
    "duration": 55,
    "start_time": "2023-05-08T20:01:34.356Z"
   },
   {
    "duration": 3,
    "start_time": "2023-05-08T20:01:34.413Z"
   },
   {
    "duration": 2498,
    "start_time": "2023-05-08T20:01:34.418Z"
   },
   {
    "duration": 30948,
    "start_time": "2023-05-08T20:01:36.918Z"
   },
   {
    "duration": 119,
    "start_time": "2023-05-08T20:02:07.868Z"
   },
   {
    "duration": 10,
    "start_time": "2023-05-08T20:02:07.993Z"
   },
   {
    "duration": 33,
    "start_time": "2023-05-08T20:02:08.005Z"
   },
   {
    "duration": 4940,
    "start_time": "2023-05-08T20:02:08.040Z"
   },
   {
    "duration": 243,
    "start_time": "2023-05-08T20:02:12.981Z"
   },
   {
    "duration": 55617,
    "start_time": "2023-05-08T20:02:13.226Z"
   },
   {
    "duration": 36896,
    "start_time": "2023-05-08T20:03:08.845Z"
   },
   {
    "duration": 1816,
    "start_time": "2023-05-09T16:18:44.332Z"
   },
   {
    "duration": 2425,
    "start_time": "2023-05-09T16:18:46.151Z"
   },
   {
    "duration": 64,
    "start_time": "2023-05-09T16:18:48.578Z"
   },
   {
    "duration": 3,
    "start_time": "2023-05-09T16:18:48.644Z"
   },
   {
    "duration": 2682,
    "start_time": "2023-05-09T16:18:48.649Z"
   },
   {
    "duration": 1642,
    "start_time": "2023-05-09T16:19:06.941Z"
   },
   {
    "duration": 901,
    "start_time": "2023-05-09T16:19:08.585Z"
   },
   {
    "duration": 59,
    "start_time": "2023-05-09T16:19:09.487Z"
   },
   {
    "duration": 3,
    "start_time": "2023-05-09T16:19:09.548Z"
   },
   {
    "duration": 2735,
    "start_time": "2023-05-09T16:19:09.553Z"
   },
   {
    "duration": 33541,
    "start_time": "2023-05-09T16:19:12.289Z"
   },
   {
    "duration": 123,
    "start_time": "2023-05-09T16:19:45.831Z"
   },
   {
    "duration": 9,
    "start_time": "2023-05-09T16:19:45.955Z"
   },
   {
    "duration": 18,
    "start_time": "2023-05-09T16:19:45.965Z"
   },
   {
    "duration": 5294,
    "start_time": "2023-05-09T16:19:45.985Z"
   },
   {
    "duration": 223,
    "start_time": "2023-05-09T16:19:51.284Z"
   },
   {
    "duration": 61184,
    "start_time": "2023-05-09T16:19:51.509Z"
   },
   {
    "duration": 41470,
    "start_time": "2023-05-09T16:20:52.694Z"
   },
   {
    "duration": 1796,
    "start_time": "2023-05-09T16:43:23.367Z"
   },
   {
    "duration": 2277,
    "start_time": "2023-05-09T16:43:25.165Z"
   },
   {
    "duration": 61,
    "start_time": "2023-05-09T16:43:27.444Z"
   },
   {
    "duration": 4,
    "start_time": "2023-05-09T16:43:27.506Z"
   },
   {
    "duration": 2916,
    "start_time": "2023-05-09T16:43:27.512Z"
   },
   {
    "duration": 35367,
    "start_time": "2023-05-09T16:43:30.429Z"
   },
   {
    "duration": 130,
    "start_time": "2023-05-09T16:44:05.799Z"
   },
   {
    "duration": 10,
    "start_time": "2023-05-09T16:44:05.931Z"
   },
   {
    "duration": 7,
    "start_time": "2023-05-09T16:44:05.942Z"
   },
   {
    "duration": 5714,
    "start_time": "2023-05-09T16:44:05.950Z"
   },
   {
    "duration": 182,
    "start_time": "2023-05-09T16:44:11.666Z"
   },
   {
    "duration": 61645,
    "start_time": "2023-05-09T16:44:11.851Z"
   },
   {
    "duration": 39486,
    "start_time": "2023-05-09T16:45:13.498Z"
   },
   {
    "duration": 219339,
    "start_time": "2023-05-09T16:45:52.987Z"
   },
   {
    "duration": 10581083,
    "start_time": "2023-05-09T16:49:32.328Z"
   },
   {
    "duration": 1528,
    "start_time": "2023-05-09T22:49:49.925Z"
   },
   {
    "duration": 856,
    "start_time": "2023-05-09T22:49:51.455Z"
   },
   {
    "duration": 79,
    "start_time": "2023-05-09T22:49:52.313Z"
   },
   {
    "duration": 3,
    "start_time": "2023-05-09T22:49:52.395Z"
   },
   {
    "duration": 2687,
    "start_time": "2023-05-09T22:49:52.399Z"
   },
   {
    "duration": 33114,
    "start_time": "2023-05-09T22:49:55.088Z"
   },
   {
    "duration": 129,
    "start_time": "2023-05-09T22:50:28.204Z"
   },
   {
    "duration": 8,
    "start_time": "2023-05-09T22:50:28.335Z"
   },
   {
    "duration": 43,
    "start_time": "2023-05-09T22:50:28.345Z"
   },
   {
    "duration": 5424,
    "start_time": "2023-05-09T22:50:28.389Z"
   },
   {
    "duration": 158,
    "start_time": "2023-05-09T22:50:33.815Z"
   },
   {
    "duration": 63924,
    "start_time": "2023-05-09T22:50:33.975Z"
   },
   {
    "duration": 1589,
    "start_time": "2023-05-09T22:52:03.106Z"
   },
   {
    "duration": 880,
    "start_time": "2023-05-09T22:52:04.698Z"
   },
   {
    "duration": 61,
    "start_time": "2023-05-09T22:52:05.580Z"
   },
   {
    "duration": 3,
    "start_time": "2023-05-09T22:52:05.643Z"
   },
   {
    "duration": 2735,
    "start_time": "2023-05-09T22:52:05.649Z"
   },
   {
    "duration": 33932,
    "start_time": "2023-05-09T22:52:08.387Z"
   },
   {
    "duration": 124,
    "start_time": "2023-05-09T22:52:42.321Z"
   },
   {
    "duration": 9,
    "start_time": "2023-05-09T22:52:42.447Z"
   },
   {
    "duration": 6,
    "start_time": "2023-05-09T22:52:42.457Z"
   },
   {
    "duration": 5587,
    "start_time": "2023-05-09T22:52:42.465Z"
   },
   {
    "duration": 208,
    "start_time": "2023-05-09T22:52:48.054Z"
   },
   {
    "duration": 66720,
    "start_time": "2023-05-09T22:52:48.264Z"
   },
   {
    "duration": 78566,
    "start_time": "2023-05-09T22:53:54.986Z"
   },
   {
    "duration": 96,
    "start_time": "2023-05-09T23:07:57.258Z"
   },
   {
    "duration": 987,
    "start_time": "2023-05-09T23:08:24.552Z"
   },
   {
    "duration": 100,
    "start_time": "2023-05-09T23:08:25.726Z"
   },
   {
    "duration": 215,
    "start_time": "2023-05-09T23:08:54.332Z"
   },
   {
    "duration": 84,
    "start_time": "2023-05-09T23:08:54.749Z"
   },
   {
    "duration": 1604,
    "start_time": "2023-05-09T23:09:16.426Z"
   },
   {
    "duration": 2297,
    "start_time": "2023-05-09T23:09:18.032Z"
   },
   {
    "duration": 61,
    "start_time": "2023-05-09T23:09:20.331Z"
   },
   {
    "duration": 4,
    "start_time": "2023-05-09T23:09:20.393Z"
   },
   {
    "duration": 2622,
    "start_time": "2023-05-09T23:09:20.399Z"
   },
   {
    "duration": 33872,
    "start_time": "2023-05-09T23:09:23.023Z"
   },
   {
    "duration": 125,
    "start_time": "2023-05-09T23:09:56.897Z"
   },
   {
    "duration": 9,
    "start_time": "2023-05-09T23:09:57.023Z"
   },
   {
    "duration": 8,
    "start_time": "2023-05-09T23:09:57.033Z"
   },
   {
    "duration": 5747,
    "start_time": "2023-05-09T23:09:57.042Z"
   },
   {
    "duration": 220,
    "start_time": "2023-05-09T23:10:02.791Z"
   },
   {
    "duration": 62975,
    "start_time": "2023-05-09T23:10:03.013Z"
   },
   {
    "duration": 78330,
    "start_time": "2023-05-09T23:11:05.990Z"
   },
   {
    "duration": 2,
    "start_time": "2023-05-09T23:12:24.323Z"
   },
   {
    "duration": 7008743,
    "start_time": "2023-05-09T23:12:24.327Z"
   },
   {
    "duration": 2210,
    "start_time": "2023-05-10T09:15:29.758Z"
   },
   {
    "duration": 3184,
    "start_time": "2023-05-10T09:15:31.971Z"
   },
   {
    "duration": 66,
    "start_time": "2023-05-10T09:15:35.157Z"
   },
   {
    "duration": 3,
    "start_time": "2023-05-10T09:15:35.225Z"
   },
   {
    "duration": 2663,
    "start_time": "2023-05-10T09:15:35.230Z"
   },
   {
    "duration": 2095,
    "start_time": "2023-05-10T20:33:12.780Z"
   },
   {
    "duration": 951,
    "start_time": "2023-05-10T20:33:14.878Z"
   },
   {
    "duration": 92,
    "start_time": "2023-05-10T20:33:15.831Z"
   },
   {
    "duration": 7,
    "start_time": "2023-05-10T20:33:15.925Z"
   },
   {
    "duration": 3233,
    "start_time": "2023-05-10T20:33:15.936Z"
   },
   {
    "duration": 45326,
    "start_time": "2023-05-10T20:33:19.171Z"
   },
   {
    "duration": 171,
    "start_time": "2023-05-10T20:34:04.498Z"
   },
   {
    "duration": 11,
    "start_time": "2023-05-10T20:34:04.672Z"
   },
   {
    "duration": 21,
    "start_time": "2023-05-10T20:34:04.685Z"
   },
   {
    "duration": 7722,
    "start_time": "2023-05-10T20:34:04.709Z"
   },
   {
    "duration": 230,
    "start_time": "2023-05-10T20:34:12.433Z"
   },
   {
    "duration": 67367,
    "start_time": "2023-05-10T20:34:12.665Z"
   },
   {
    "duration": 306,
    "start_time": "2023-05-10T20:35:20.034Z"
   },
   {
    "duration": 3,
    "start_time": "2023-05-10T20:35:20.343Z"
   },
   {
    "duration": 2751,
    "start_time": "2023-05-11T04:15:30.291Z"
   },
   {
    "duration": 2517,
    "start_time": "2023-05-11T04:15:33.045Z"
   },
   {
    "duration": 69,
    "start_time": "2023-05-11T04:15:35.563Z"
   },
   {
    "duration": 4,
    "start_time": "2023-05-11T04:15:35.634Z"
   },
   {
    "duration": 3295,
    "start_time": "2023-05-11T04:15:35.640Z"
   },
   {
    "duration": 1388,
    "start_time": "2023-05-11T04:15:38.936Z"
   },
   {
    "duration": 3,
    "start_time": "2023-05-11T04:18:36.975Z"
   },
   {
    "duration": 35,
    "start_time": "2023-05-11T04:18:37.529Z"
   },
   {
    "duration": 2938,
    "start_time": "2023-05-11T14:19:27.243Z"
   },
   {
    "duration": 550,
    "start_time": "2023-05-11T14:19:30.183Z"
   },
   {
    "duration": 0,
    "start_time": "2023-05-11T14:19:30.735Z"
   },
   {
    "duration": 0,
    "start_time": "2023-05-11T14:19:30.736Z"
   },
   {
    "duration": 0,
    "start_time": "2023-05-11T14:19:30.738Z"
   },
   {
    "duration": 0,
    "start_time": "2023-05-11T14:19:30.739Z"
   },
   {
    "duration": 0,
    "start_time": "2023-05-11T14:19:30.741Z"
   },
   {
    "duration": 1854,
    "start_time": "2023-05-11T14:19:58.459Z"
   },
   {
    "duration": 50,
    "start_time": "2023-05-11T14:20:00.315Z"
   },
   {
    "duration": 167,
    "start_time": "2023-05-11T14:20:00.366Z"
   },
   {
    "duration": 2,
    "start_time": "2023-05-11T14:20:00.534Z"
   },
   {
    "duration": 4,
    "start_time": "2023-05-11T14:20:01.941Z"
   },
   {
    "duration": 1137,
    "start_time": "2023-05-11T14:20:05.149Z"
   },
   {
    "duration": 2909,
    "start_time": "2023-05-11T14:36:59.290Z"
   },
   {
    "duration": 203,
    "start_time": "2023-05-11T14:37:02.201Z"
   },
   {
    "duration": 70,
    "start_time": "2023-05-11T14:55:43.479Z"
   },
   {
    "duration": 1971,
    "start_time": "2023-05-11T14:55:45.272Z"
   },
   {
    "duration": 3447,
    "start_time": "2023-05-11T14:55:47.245Z"
   },
   {
    "duration": 132,
    "start_time": "2023-05-11T14:55:55.698Z"
   },
   {
    "duration": 5431,
    "start_time": "2023-05-11T18:33:36.010Z"
   },
   {
    "duration": 3592,
    "start_time": "2023-05-11T18:33:41.443Z"
   },
   {
    "duration": 80,
    "start_time": "2023-05-11T18:33:45.037Z"
   },
   {
    "duration": 227,
    "start_time": "2023-05-11T18:33:45.120Z"
   },
   {
    "duration": 3,
    "start_time": "2023-05-11T18:33:45.348Z"
   },
   {
    "duration": 6,
    "start_time": "2023-05-11T18:33:45.352Z"
   },
   {
    "duration": 3,
    "start_time": "2023-05-11T18:34:02.336Z"
   },
   {
    "duration": 1962,
    "start_time": "2023-05-11T18:34:03.895Z"
   },
   {
    "duration": 8359,
    "start_time": "2023-05-11T18:34:54.546Z"
   },
   {
    "duration": 1936,
    "start_time": "2023-05-11T18:35:06.307Z"
   },
   {
    "duration": 5,
    "start_time": "2023-05-11T18:35:22.375Z"
   },
   {
    "duration": 8485,
    "start_time": "2023-05-11T18:35:25.424Z"
   },
   {
    "duration": 1735,
    "start_time": "2023-05-11T18:36:01.463Z"
   },
   {
    "duration": 2956,
    "start_time": "2023-05-11T18:37:35.561Z"
   },
   {
    "duration": 765,
    "start_time": "2023-05-11T18:37:38.521Z"
   },
   {
    "duration": 63,
    "start_time": "2023-05-11T18:37:39.288Z"
   },
   {
    "duration": 212,
    "start_time": "2023-05-11T18:37:39.353Z"
   },
   {
    "duration": 3,
    "start_time": "2023-05-11T18:37:39.567Z"
   },
   {
    "duration": 20,
    "start_time": "2023-05-11T18:37:39.571Z"
   },
   {
    "duration": 8306,
    "start_time": "2023-05-11T18:38:02.661Z"
   },
   {
    "duration": 8127,
    "start_time": "2023-05-11T18:38:57.861Z"
   },
   {
    "duration": 1498,
    "start_time": "2023-05-11T18:39:35.514Z"
   }
  ],
  "kernelspec": {
   "display_name": "Python 3 (ipykernel)",
   "language": "python",
   "name": "python3"
  },
  "language_info": {
   "codemirror_mode": {
    "name": "ipython",
    "version": 3
   },
   "file_extension": ".py",
   "mimetype": "text/x-python",
   "name": "python",
   "nbconvert_exporter": "python",
   "pygments_lexer": "ipython3",
   "version": "3.10.9"
  },
  "toc": {
   "base_numbering": 1,
   "nav_menu": {},
   "number_sections": true,
   "sideBar": true,
   "skip_h1_title": true,
   "title_cell": "Содержание",
   "title_sidebar": "Contents",
   "toc_cell": true,
   "toc_position": {
    "height": "calc(100% - 180px)",
    "left": "10px",
    "top": "150px",
    "width": "302.391px"
   },
   "toc_section_display": true,
   "toc_window_display": false
  }
 },
 "nbformat": 4,
 "nbformat_minor": 2
}
