{
 "cells": [
  {
   "cell_type": "markdown",
   "metadata": {},
   "source": [
    "# Рекомендация тарифов"
   ]
  },
  {
   "cell_type": "markdown",
   "metadata": {},
   "source": [
    "В вашем распоряжении данные о поведении клиентов, которые уже перешли на эти тарифы (из проекта курса «Статистический анализ данных»). Нужно построить модель для задачи классификации, которая выберет подходящий тариф. Предобработка данных не понадобится — вы её уже сделали.\n",
    "\n",
    "Постройте модель с максимально большим значением *accuracy*. Чтобы сдать проект успешно, нужно довести долю правильных ответов по крайней мере до 0.75. Проверьте *accuracy* на тестовой выборке самостоятельно."
   ]
  },
  {
   "cell_type": "markdown",
   "metadata": {},
   "source": [
    "Цель проекта в нахождении модели с максимально большим значением accuracy.\n",
    "\n",
    "Задача использовать разные модели для нахождения лучшей модели"
   ]
  },
  {
   "cell_type": "markdown",
   "metadata": {},
   "source": [
    "## Откройте и изучите файл"
   ]
  },
  {
   "cell_type": "code",
   "execution_count": 1,
   "metadata": {},
   "outputs": [],
   "source": [
    "import pandas as pd\n",
    "from sklearn.model_selection import train_test_split\n",
    "from sklearn.tree import DecisionTreeClassifier\n",
    "from sklearn.ensemble import RandomForestClassifier\n",
    "from sklearn.neighbors import KNeighborsClassifier\n",
    "from sklearn.metrics import accuracy_score"
   ]
  },
  {
   "cell_type": "code",
   "execution_count": 2,
   "metadata": {},
   "outputs": [
    {
     "data": {
      "text/html": [
       "<div>\n",
       "<style scoped>\n",
       "    .dataframe tbody tr th:only-of-type {\n",
       "        vertical-align: middle;\n",
       "    }\n",
       "\n",
       "    .dataframe tbody tr th {\n",
       "        vertical-align: top;\n",
       "    }\n",
       "\n",
       "    .dataframe thead th {\n",
       "        text-align: right;\n",
       "    }\n",
       "</style>\n",
       "<table border=\"1\" class=\"dataframe\">\n",
       "  <thead>\n",
       "    <tr style=\"text-align: right;\">\n",
       "      <th></th>\n",
       "      <th>calls</th>\n",
       "      <th>minutes</th>\n",
       "      <th>messages</th>\n",
       "      <th>mb_used</th>\n",
       "      <th>is_ultra</th>\n",
       "    </tr>\n",
       "  </thead>\n",
       "  <tbody>\n",
       "    <tr>\n",
       "      <th>0</th>\n",
       "      <td>40.0</td>\n",
       "      <td>311.90</td>\n",
       "      <td>83.0</td>\n",
       "      <td>19915.42</td>\n",
       "      <td>0</td>\n",
       "    </tr>\n",
       "    <tr>\n",
       "      <th>1</th>\n",
       "      <td>85.0</td>\n",
       "      <td>516.75</td>\n",
       "      <td>56.0</td>\n",
       "      <td>22696.96</td>\n",
       "      <td>0</td>\n",
       "    </tr>\n",
       "    <tr>\n",
       "      <th>2</th>\n",
       "      <td>77.0</td>\n",
       "      <td>467.66</td>\n",
       "      <td>86.0</td>\n",
       "      <td>21060.45</td>\n",
       "      <td>0</td>\n",
       "    </tr>\n",
       "    <tr>\n",
       "      <th>3</th>\n",
       "      <td>106.0</td>\n",
       "      <td>745.53</td>\n",
       "      <td>81.0</td>\n",
       "      <td>8437.39</td>\n",
       "      <td>1</td>\n",
       "    </tr>\n",
       "    <tr>\n",
       "      <th>4</th>\n",
       "      <td>66.0</td>\n",
       "      <td>418.74</td>\n",
       "      <td>1.0</td>\n",
       "      <td>14502.75</td>\n",
       "      <td>0</td>\n",
       "    </tr>\n",
       "    <tr>\n",
       "      <th>...</th>\n",
       "      <td>...</td>\n",
       "      <td>...</td>\n",
       "      <td>...</td>\n",
       "      <td>...</td>\n",
       "      <td>...</td>\n",
       "    </tr>\n",
       "    <tr>\n",
       "      <th>3209</th>\n",
       "      <td>122.0</td>\n",
       "      <td>910.98</td>\n",
       "      <td>20.0</td>\n",
       "      <td>35124.90</td>\n",
       "      <td>1</td>\n",
       "    </tr>\n",
       "    <tr>\n",
       "      <th>3210</th>\n",
       "      <td>25.0</td>\n",
       "      <td>190.36</td>\n",
       "      <td>0.0</td>\n",
       "      <td>3275.61</td>\n",
       "      <td>0</td>\n",
       "    </tr>\n",
       "    <tr>\n",
       "      <th>3211</th>\n",
       "      <td>97.0</td>\n",
       "      <td>634.44</td>\n",
       "      <td>70.0</td>\n",
       "      <td>13974.06</td>\n",
       "      <td>0</td>\n",
       "    </tr>\n",
       "    <tr>\n",
       "      <th>3212</th>\n",
       "      <td>64.0</td>\n",
       "      <td>462.32</td>\n",
       "      <td>90.0</td>\n",
       "      <td>31239.78</td>\n",
       "      <td>0</td>\n",
       "    </tr>\n",
       "    <tr>\n",
       "      <th>3213</th>\n",
       "      <td>80.0</td>\n",
       "      <td>566.09</td>\n",
       "      <td>6.0</td>\n",
       "      <td>29480.52</td>\n",
       "      <td>1</td>\n",
       "    </tr>\n",
       "  </tbody>\n",
       "</table>\n",
       "<p>3214 rows × 5 columns</p>\n",
       "</div>"
      ],
      "text/plain": [
       "      calls  minutes  messages   mb_used  is_ultra\n",
       "0      40.0   311.90      83.0  19915.42         0\n",
       "1      85.0   516.75      56.0  22696.96         0\n",
       "2      77.0   467.66      86.0  21060.45         0\n",
       "3     106.0   745.53      81.0   8437.39         1\n",
       "4      66.0   418.74       1.0  14502.75         0\n",
       "...     ...      ...       ...       ...       ...\n",
       "3209  122.0   910.98      20.0  35124.90         1\n",
       "3210   25.0   190.36       0.0   3275.61         0\n",
       "3211   97.0   634.44      70.0  13974.06         0\n",
       "3212   64.0   462.32      90.0  31239.78         0\n",
       "3213   80.0   566.09       6.0  29480.52         1\n",
       "\n",
       "[3214 rows x 5 columns]"
      ]
     },
     "execution_count": 2,
     "metadata": {},
     "output_type": "execute_result"
    }
   ],
   "source": [
    "df = pd.read_csv('/datasets/users_behavior.csv')\n",
    "df"
   ]
  },
  {
   "cell_type": "code",
   "execution_count": 3,
   "metadata": {},
   "outputs": [
    {
     "name": "stdout",
     "output_type": "stream",
     "text": [
      "<class 'pandas.core.frame.DataFrame'>\n",
      "RangeIndex: 3214 entries, 0 to 3213\n",
      "Data columns (total 5 columns):\n",
      " #   Column    Non-Null Count  Dtype  \n",
      "---  ------    --------------  -----  \n",
      " 0   calls     3214 non-null   float64\n",
      " 1   minutes   3214 non-null   float64\n",
      " 2   messages  3214 non-null   float64\n",
      " 3   mb_used   3214 non-null   float64\n",
      " 4   is_ultra  3214 non-null   int64  \n",
      "dtypes: float64(4), int64(1)\n",
      "memory usage: 125.7 KB\n"
     ]
    }
   ],
   "source": [
    "df.info()"
   ]
  },
  {
   "cell_type": "markdown",
   "metadata": {},
   "source": [
    "## Разбейте данные на выборки"
   ]
  },
  {
   "cell_type": "code",
   "execution_count": 4,
   "metadata": {},
   "outputs": [
    {
     "name": "stdout",
     "output_type": "stream",
     "text": [
      "2410\n",
      "402\n"
     ]
    }
   ],
   "source": [
    "df_train, df_valid = train_test_split(df, test_size=0.25, random_state=12345)\n",
    "df_valid, df_test = train_test_split(df_valid,test_size = 0.5, random_state=12345)\n",
    "print(df_train.shape[0])\n",
    "print(df_valid.shape[0])"
   ]
  },
  {
   "cell_type": "markdown",
   "metadata": {},
   "source": [
    "## Исследуйте модели"
   ]
  },
  {
   "cell_type": "code",
   "execution_count": 5,
   "metadata": {},
   "outputs": [
    {
     "name": "stdout",
     "output_type": "stream",
     "text": [
      "402\n",
      "2410\n",
      "402\n"
     ]
    }
   ],
   "source": [
    "features = df.drop(['is_ultra'], axis=1)\n",
    "target = df['is_ultra']\n",
    "\n",
    "valid_features = df_valid.drop(['is_ultra'], axis=1)\n",
    "valid_target = df_valid['is_ultra']\n",
    "\n",
    "train_features = df_train.drop(['is_ultra'], axis=1)\n",
    "train_target = df_train['is_ultra']\n",
    "\n",
    "test_features = df_test.drop(['is_ultra'], axis=1)\n",
    "test_target = df_test['is_ultra']\n",
    "print(valid_features.shape[0])\n",
    "print(train_features.shape[0])\n",
    "print(test_features.shape[0])"
   ]
  },
  {
   "cell_type": "code",
   "execution_count": 6,
   "metadata": {},
   "outputs": [
    {
     "name": "stdout",
     "output_type": "stream",
     "text": [
      "Depth: 1        Accuracy: 0.763681592039801\n",
      "Depth: 2        Accuracy: 0.7935323383084577\n",
      "Depth: 3        Accuracy: 0.7985074626865671\n",
      "Depth: 4        Accuracy: 0.7985074626865671\n",
      "Depth: 5        Accuracy: 0.7985074626865671\n",
      "Depth: 6        Accuracy: 0.7786069651741293\n",
      "Depth: 7        Accuracy: 0.7885572139303483\n",
      "Depth: 8        Accuracy: 0.7835820895522388\n",
      "Depth: 9        Accuracy: 0.7786069651741293\n"
     ]
    }
   ],
   "source": [
    "depths = []\n",
    "DTC_accuracies = []\n",
    "\n",
    "for depth in range(1,10):\n",
    "    model = DecisionTreeClassifier(random_state=12345, max_depth=depth, criterion='gini', min_samples_split=2)\n",
    "    model.fit(train_features,train_target)\n",
    "    predictions = model.predict(valid_features)\n",
    "    score = accuracy_score(valid_target, predictions)\n",
    "    depths.append(depth)\n",
    "    DTC_accuracies.append(score)\n",
    "    print('Depth:', depth, end='')\n",
    "    print('        Accuracy:', score)"
   ]
  },
  {
   "cell_type": "code",
   "execution_count": 7,
   "metadata": {},
   "outputs": [
    {
     "name": "stdout",
     "output_type": "stream",
     "text": [
      "Estimator: 10        Accuracy: 0.7960199004975125\n",
      "Estimator: 14        Accuracy: 0.7935323383084577\n",
      "Estimator: 18        Accuracy: 0.7960199004975125\n",
      "Estimator: 22        Accuracy: 0.7960199004975125\n",
      "Estimator: 26        Accuracy: 0.7860696517412935\n",
      "Estimator: 30        Accuracy: 0.7935323383084577\n",
      "Estimator: 34        Accuracy: 0.7935323383084577\n",
      "Estimator: 38        Accuracy: 0.7985074626865671\n",
      "Estimator: 42        Accuracy: 0.7985074626865671\n",
      "Estimator: 46        Accuracy: 0.8009950248756219\n",
      "Estimator: 50        Accuracy: 0.8009950248756219\n"
     ]
    }
   ],
   "source": [
    "estimators = []\n",
    "RFC_accuracies = []\n",
    "\n",
    "for estim in range(10,51,4):\n",
    "    model = RandomForestClassifier(random_state=12345, n_estimators=estim)\n",
    "    model.fit(train_features, train_target)\n",
    "    predictions = model.predict(valid_features)\n",
    "    score = accuracy_score(valid_target, predictions)\n",
    "    estimators.append(estim)\n",
    "    RFC_accuracies.append(score)\n",
    "    print('Estimator:', estim, end='')\n",
    "    print('        Accuracy:', score)"
   ]
  },
  {
   "cell_type": "code",
   "execution_count": 8,
   "metadata": {},
   "outputs": [
    {
     "name": "stdout",
     "output_type": "stream",
     "text": [
      "Neighbors: 1        Accuracy: 0.7313432835820896\n",
      "Neighbors: 5        Accuracy: 0.7786069651741293\n",
      "Neighbors: 9        Accuracy: 0.7786069651741293\n",
      "Neighbors: 13        Accuracy: 0.7786069651741293\n",
      "Neighbors: 17        Accuracy: 0.7761194029850746\n",
      "Neighbors: 21        Accuracy: 0.7810945273631841\n",
      "Neighbors: 25        Accuracy: 0.7736318407960199\n",
      "Neighbors: 29        Accuracy: 0.7686567164179104\n",
      "Neighbors: 33        Accuracy: 0.7711442786069652\n"
     ]
    },
    {
     "name": "stderr",
     "output_type": "stream",
     "text": [
      "/opt/conda/lib/python3.9/site-packages/sklearn/neighbors/_classification.py:211: FutureWarning: Unlike other reduction functions (e.g. `skew`, `kurtosis`), the default behavior of `mode` typically preserves the axis it acts along. In SciPy 1.11.0, this behavior will change: the default value of `keepdims` will become False, the `axis` over which the statistic is taken will be eliminated, and the value None will no longer be accepted. Set `keepdims` to True or False to avoid this warning.\n",
      "  mode, _ = stats.mode(_y[neigh_ind, k], axis=1)\n",
      "/opt/conda/lib/python3.9/site-packages/sklearn/neighbors/_classification.py:211: FutureWarning: Unlike other reduction functions (e.g. `skew`, `kurtosis`), the default behavior of `mode` typically preserves the axis it acts along. In SciPy 1.11.0, this behavior will change: the default value of `keepdims` will become False, the `axis` over which the statistic is taken will be eliminated, and the value None will no longer be accepted. Set `keepdims` to True or False to avoid this warning.\n",
      "  mode, _ = stats.mode(_y[neigh_ind, k], axis=1)\n",
      "/opt/conda/lib/python3.9/site-packages/sklearn/neighbors/_classification.py:211: FutureWarning: Unlike other reduction functions (e.g. `skew`, `kurtosis`), the default behavior of `mode` typically preserves the axis it acts along. In SciPy 1.11.0, this behavior will change: the default value of `keepdims` will become False, the `axis` over which the statistic is taken will be eliminated, and the value None will no longer be accepted. Set `keepdims` to True or False to avoid this warning.\n",
      "  mode, _ = stats.mode(_y[neigh_ind, k], axis=1)\n",
      "/opt/conda/lib/python3.9/site-packages/sklearn/neighbors/_classification.py:211: FutureWarning: Unlike other reduction functions (e.g. `skew`, `kurtosis`), the default behavior of `mode` typically preserves the axis it acts along. In SciPy 1.11.0, this behavior will change: the default value of `keepdims` will become False, the `axis` over which the statistic is taken will be eliminated, and the value None will no longer be accepted. Set `keepdims` to True or False to avoid this warning.\n",
      "  mode, _ = stats.mode(_y[neigh_ind, k], axis=1)\n",
      "/opt/conda/lib/python3.9/site-packages/sklearn/neighbors/_classification.py:211: FutureWarning: Unlike other reduction functions (e.g. `skew`, `kurtosis`), the default behavior of `mode` typically preserves the axis it acts along. In SciPy 1.11.0, this behavior will change: the default value of `keepdims` will become False, the `axis` over which the statistic is taken will be eliminated, and the value None will no longer be accepted. Set `keepdims` to True or False to avoid this warning.\n",
      "  mode, _ = stats.mode(_y[neigh_ind, k], axis=1)\n",
      "/opt/conda/lib/python3.9/site-packages/sklearn/neighbors/_classification.py:211: FutureWarning: Unlike other reduction functions (e.g. `skew`, `kurtosis`), the default behavior of `mode` typically preserves the axis it acts along. In SciPy 1.11.0, this behavior will change: the default value of `keepdims` will become False, the `axis` over which the statistic is taken will be eliminated, and the value None will no longer be accepted. Set `keepdims` to True or False to avoid this warning.\n",
      "  mode, _ = stats.mode(_y[neigh_ind, k], axis=1)\n",
      "/opt/conda/lib/python3.9/site-packages/sklearn/neighbors/_classification.py:211: FutureWarning: Unlike other reduction functions (e.g. `skew`, `kurtosis`), the default behavior of `mode` typically preserves the axis it acts along. In SciPy 1.11.0, this behavior will change: the default value of `keepdims` will become False, the `axis` over which the statistic is taken will be eliminated, and the value None will no longer be accepted. Set `keepdims` to True or False to avoid this warning.\n",
      "  mode, _ = stats.mode(_y[neigh_ind, k], axis=1)\n",
      "/opt/conda/lib/python3.9/site-packages/sklearn/neighbors/_classification.py:211: FutureWarning: Unlike other reduction functions (e.g. `skew`, `kurtosis`), the default behavior of `mode` typically preserves the axis it acts along. In SciPy 1.11.0, this behavior will change: the default value of `keepdims` will become False, the `axis` over which the statistic is taken will be eliminated, and the value None will no longer be accepted. Set `keepdims` to True or False to avoid this warning.\n",
      "  mode, _ = stats.mode(_y[neigh_ind, k], axis=1)\n",
      "/opt/conda/lib/python3.9/site-packages/sklearn/neighbors/_classification.py:211: FutureWarning: Unlike other reduction functions (e.g. `skew`, `kurtosis`), the default behavior of `mode` typically preserves the axis it acts along. In SciPy 1.11.0, this behavior will change: the default value of `keepdims` will become False, the `axis` over which the statistic is taken will be eliminated, and the value None will no longer be accepted. Set `keepdims` to True or False to avoid this warning.\n",
      "  mode, _ = stats.mode(_y[neigh_ind, k], axis=1)\n"
     ]
    }
   ],
   "source": [
    "neighbors_list = []\n",
    "KNC_accuracies = []\n",
    "\n",
    "for neighbors in range(1,35,4):\n",
    "    model = KNeighborsClassifier(n_neighbors = neighbors)\n",
    "    model.fit(train_features, train_target)\n",
    "    predictions = model.predict(valid_features)\n",
    "    score = accuracy_score(valid_target, predictions)\n",
    "    neighbors_list.append(neighbors)\n",
    "    KNC_accuracies.append(score)\n",
    "    print('Neighbors:', neighbors, end='')\n",
    "    print('        Accuracy:', score)"
   ]
  },
  {
   "cell_type": "markdown",
   "metadata": {},
   "source": [
    "Было исследовано  дерево решений, ближайшие соседи, случайный лес.\n",
    "\n",
    "Вывод:\n",
    "\n",
    "У дерева решений при 3,4,5 деревьях Accuracy: 0.7985074626865671\n",
    "\n",
    "У соседей при 4 соседях Accuracy: 0.7910447761194029\n",
    "\n",
    "У случайного леса при 30 деревьях Accuracy: 0.7935323383084577\n",
    "\n",
    "Самый лучший Accuracy: 0.7985074626865671"
   ]
  },
  {
   "cell_type": "markdown",
   "metadata": {},
   "source": [
    "## Проверьте модель на тестовой выборке"
   ]
  },
  {
   "cell_type": "code",
   "execution_count": 9,
   "metadata": {},
   "outputs": [
    {
     "name": "stdout",
     "output_type": "stream",
     "text": [
      "Accuracy: 0.7910447761194029\n"
     ]
    }
   ],
   "source": [
    "model = DecisionTreeClassifier(random_state=12345, max_depth=7)\n",
    "model.fit(train_features,train_target)\n",
    "predictions = model.predict(test_features)\n",
    "score = accuracy_score(test_target, predictions)\n",
    "depths.append(depth)\n",
    "DTC_accuracies.append(score)\n",
    "print('Accuracy:', score)"
   ]
  },
  {
   "cell_type": "markdown",
   "metadata": {},
   "source": [
    "Дерево решений на тестовой выборке при глубине 7Accuracy: 0.7985074626865671"
   ]
  },
  {
   "cell_type": "markdown",
   "metadata": {},
   "source": [
    "## (бонус) Проверьте модели на адекватность"
   ]
  },
  {
   "cell_type": "code",
   "execution_count": 10,
   "metadata": {},
   "outputs": [
    {
     "name": "stdout",
     "output_type": "stream",
     "text": [
      "Model Accuracy: 0.8394190871369295\n"
     ]
    }
   ],
   "source": [
    "print('Model Accuracy:', model.score(train_features, train_target))"
   ]
  },
  {
   "cell_type": "markdown",
   "metadata": {},
   "source": [
    "Проверка точности предсказаний модели"
   ]
  },
  {
   "cell_type": "markdown",
   "metadata": {},
   "source": [
    "Было проведено иследование машинного обучения с целью найти максимально большой Accuracyl это дерево решений на тестовой выборке при глубине 4.\n",
    "\n",
    "Модели показывают большую точность, они выявили закономерности, позволяющие предложить новым пользователям тариф Ультра."
   ]
  },
  {
   "cell_type": "markdown",
   "metadata": {},
   "source": [
    "## Чек-лист готовности проекта"
   ]
  },
  {
   "cell_type": "markdown",
   "metadata": {},
   "source": [
    "Поставьте 'x' в выполненных пунктах. Далее нажмите Shift+Enter."
   ]
  },
  {
   "cell_type": "markdown",
   "metadata": {},
   "source": [
    "- [x] Jupyter Notebook открыт\n",
    "- [x] Весь код исполняется без ошибок\n",
    "- [x] Ячейки с кодом расположены в порядке исполнения\n",
    "- [x] Выполнено задание 1: данные загружены и изучены\n",
    "- [x] Выполнено задание 2: данные разбиты на три выборки\n",
    "- [x] Выполнено задание 3: проведено исследование моделей\n",
    "    - [x] Рассмотрено больше одной модели\n",
    "    - [x] Рассмотрено хотя бы 3 значения гипепараметров для какой-нибудь модели\n",
    "    - [x] Написаны выводы по результатам исследования\n",
    "- [x] Выполнено задание 3: Проведено тестирование\n",
    "- [x] Удалось достичь accuracy не меньше 0.75\n"
   ]
  }
 ],
 "metadata": {
  "ExecuteTimeLog": [
   {
    "duration": 361,
    "start_time": "2023-02-04T09:59:40.082Z"
   },
   {
    "duration": 101,
    "start_time": "2023-02-04T09:59:40.582Z"
   },
   {
    "duration": 80,
    "start_time": "2023-02-04T10:00:01.165Z"
   },
   {
    "duration": 10,
    "start_time": "2023-02-04T10:02:21.292Z"
   },
   {
    "duration": 1082,
    "start_time": "2023-02-04T10:02:50.319Z"
   },
   {
    "duration": 48,
    "start_time": "2023-02-04T10:02:51.403Z"
   },
   {
    "duration": 8,
    "start_time": "2023-02-04T10:02:51.453Z"
   },
   {
    "duration": 10,
    "start_time": "2023-02-04T10:03:27.916Z"
   },
   {
    "duration": 8,
    "start_time": "2023-02-04T10:03:53.704Z"
   },
   {
    "duration": 14,
    "start_time": "2023-02-04T10:04:49.821Z"
   },
   {
    "duration": 8,
    "start_time": "2023-02-04T10:05:12.318Z"
   },
   {
    "duration": 10,
    "start_time": "2023-02-04T10:10:40.980Z"
   },
   {
    "duration": 138,
    "start_time": "2023-02-04T10:11:43.616Z"
   },
   {
    "duration": 1123,
    "start_time": "2023-02-04T10:12:01.580Z"
   },
   {
    "duration": 52,
    "start_time": "2023-02-04T10:12:02.705Z"
   },
   {
    "duration": 12,
    "start_time": "2023-02-04T10:12:02.759Z"
   },
   {
    "duration": 43,
    "start_time": "2023-02-04T10:12:02.773Z"
   },
   {
    "duration": 12,
    "start_time": "2023-02-04T10:12:02.819Z"
   },
   {
    "duration": 232,
    "start_time": "2023-02-04T10:12:02.833Z"
   },
   {
    "duration": 8,
    "start_time": "2023-02-04T10:14:27.516Z"
   },
   {
    "duration": 124,
    "start_time": "2023-02-04T10:16:51.984Z"
   },
   {
    "duration": 9,
    "start_time": "2023-02-04T10:17:00.216Z"
   },
   {
    "duration": 71,
    "start_time": "2023-02-04T10:17:03.755Z"
   },
   {
    "duration": 141,
    "start_time": "2023-02-04T10:17:20.562Z"
   },
   {
    "duration": 11,
    "start_time": "2023-02-04T10:20:10.560Z"
   },
   {
    "duration": 10,
    "start_time": "2023-02-04T10:20:36.568Z"
   },
   {
    "duration": 24,
    "start_time": "2023-02-04T10:20:54.312Z"
   },
   {
    "duration": 8,
    "start_time": "2023-02-04T10:28:55.831Z"
   },
   {
    "duration": 1055,
    "start_time": "2023-02-04T10:31:07.513Z"
   },
   {
    "duration": 41,
    "start_time": "2023-02-04T10:31:08.570Z"
   },
   {
    "duration": 12,
    "start_time": "2023-02-04T10:31:08.612Z"
   },
   {
    "duration": 10,
    "start_time": "2023-02-04T10:31:08.625Z"
   },
   {
    "duration": 21,
    "start_time": "2023-02-04T10:31:08.637Z"
   },
   {
    "duration": 146,
    "start_time": "2023-02-04T10:31:08.660Z"
   },
   {
    "duration": 18,
    "start_time": "2023-02-04T10:31:08.808Z"
   },
   {
    "duration": 97,
    "start_time": "2023-02-04T16:31:52.543Z"
   },
   {
    "duration": 54,
    "start_time": "2023-02-04T17:58:53.502Z"
   },
   {
    "duration": 1118,
    "start_time": "2023-02-04T17:58:58.051Z"
   },
   {
    "duration": 81,
    "start_time": "2023-02-04T17:58:59.171Z"
   },
   {
    "duration": 11,
    "start_time": "2023-02-04T17:58:59.254Z"
   },
   {
    "duration": 9,
    "start_time": "2023-02-04T17:58:59.267Z"
   },
   {
    "duration": 9,
    "start_time": "2023-02-04T17:58:59.278Z"
   },
   {
    "duration": 184,
    "start_time": "2023-02-04T17:58:59.289Z"
   },
   {
    "duration": 23,
    "start_time": "2023-02-04T17:58:59.474Z"
   },
   {
    "duration": 1059,
    "start_time": "2023-02-07T00:47:02.692Z"
   },
   {
    "duration": 158,
    "start_time": "2023-02-07T00:47:03.755Z"
   },
   {
    "duration": 14,
    "start_time": "2023-02-07T00:47:03.915Z"
   },
   {
    "duration": 9,
    "start_time": "2023-02-07T00:47:03.931Z"
   },
   {
    "duration": 7,
    "start_time": "2023-02-07T00:47:03.942Z"
   },
   {
    "duration": 107,
    "start_time": "2023-02-07T00:47:03.951Z"
   },
   {
    "duration": 0,
    "start_time": "2023-02-07T00:47:04.060Z"
   },
   {
    "duration": 0,
    "start_time": "2023-02-07T00:47:04.061Z"
   },
   {
    "duration": 75,
    "start_time": "2023-02-07T00:47:15.316Z"
   },
   {
    "duration": 1490,
    "start_time": "2023-02-07T00:48:25.449Z"
   },
   {
    "duration": 187,
    "start_time": "2023-02-07T00:49:04.777Z"
   },
   {
    "duration": 172,
    "start_time": "2023-02-07T00:56:41.323Z"
   },
   {
    "duration": 30,
    "start_time": "2023-02-07T00:56:45.144Z"
   },
   {
    "duration": 53,
    "start_time": "2023-02-07T01:09:18.981Z"
   },
   {
    "duration": 52,
    "start_time": "2023-02-07T01:09:33.322Z"
   },
   {
    "duration": 15,
    "start_time": "2023-02-07T01:10:20.191Z"
   },
   {
    "duration": 17,
    "start_time": "2023-02-07T01:10:39.552Z"
   },
   {
    "duration": 8,
    "start_time": "2023-02-07T01:13:44.200Z"
   },
   {
    "duration": 1194,
    "start_time": "2023-02-07T01:14:02.778Z"
   },
   {
    "duration": 46,
    "start_time": "2023-02-07T01:14:03.974Z"
   },
   {
    "duration": 12,
    "start_time": "2023-02-07T01:14:04.022Z"
   },
   {
    "duration": 8,
    "start_time": "2023-02-07T01:14:04.036Z"
   },
   {
    "duration": 16,
    "start_time": "2023-02-07T01:14:04.046Z"
   },
   {
    "duration": 99,
    "start_time": "2023-02-07T01:14:04.065Z"
   },
   {
    "duration": 1479,
    "start_time": "2023-02-07T01:14:04.172Z"
   },
   {
    "duration": 187,
    "start_time": "2023-02-07T01:14:05.653Z"
   },
   {
    "duration": 20,
    "start_time": "2023-02-07T01:14:05.843Z"
   },
   {
    "duration": 18,
    "start_time": "2023-02-07T01:14:05.865Z"
   },
   {
    "duration": 151,
    "start_time": "2023-02-07T01:18:33.668Z"
   },
   {
    "duration": 21,
    "start_time": "2023-02-07T01:18:51.200Z"
   },
   {
    "duration": 22,
    "start_time": "2023-02-07T01:19:28.958Z"
   },
   {
    "duration": 50,
    "start_time": "2023-02-08T17:33:27.072Z"
   },
   {
    "duration": 1170,
    "start_time": "2023-02-08T17:33:31.820Z"
   },
   {
    "duration": 143,
    "start_time": "2023-02-08T17:33:32.993Z"
   },
   {
    "duration": 12,
    "start_time": "2023-02-08T17:33:33.137Z"
   },
   {
    "duration": 16,
    "start_time": "2023-02-08T17:33:33.151Z"
   },
   {
    "duration": 15,
    "start_time": "2023-02-08T17:33:33.170Z"
   },
   {
    "duration": 85,
    "start_time": "2023-02-08T17:33:33.187Z"
   },
   {
    "duration": 1395,
    "start_time": "2023-02-08T17:33:33.274Z"
   },
   {
    "duration": 23,
    "start_time": "2023-02-08T17:33:34.671Z"
   },
   {
    "duration": 15,
    "start_time": "2023-02-08T17:33:34.696Z"
   },
   {
    "duration": 27,
    "start_time": "2023-02-08T17:33:34.713Z"
   },
   {
    "duration": 68,
    "start_time": "2023-02-08T17:33:56.788Z"
   },
   {
    "duration": 22,
    "start_time": "2023-02-08T17:34:20.717Z"
   },
   {
    "duration": 23,
    "start_time": "2023-02-08T17:34:23.220Z"
   },
   {
    "duration": 27,
    "start_time": "2023-02-08T17:34:28.208Z"
   },
   {
    "duration": 155,
    "start_time": "2023-02-08T17:34:30.410Z"
   },
   {
    "duration": 103,
    "start_time": "2023-02-08T17:34:46.256Z"
   },
   {
    "duration": 144,
    "start_time": "2023-02-08T17:34:52.020Z"
   },
   {
    "duration": 159,
    "start_time": "2023-02-08T17:35:02.410Z"
   },
   {
    "duration": 74,
    "start_time": "2023-02-08T17:37:26.916Z"
   },
   {
    "duration": 79,
    "start_time": "2023-02-08T17:38:24.915Z"
   },
   {
    "duration": 1162,
    "start_time": "2023-02-08T17:38:30.460Z"
   },
   {
    "duration": 52,
    "start_time": "2023-02-08T17:38:31.626Z"
   },
   {
    "duration": 14,
    "start_time": "2023-02-08T17:38:31.680Z"
   },
   {
    "duration": 13,
    "start_time": "2023-02-08T17:38:31.697Z"
   },
   {
    "duration": 17,
    "start_time": "2023-02-08T17:38:31.712Z"
   },
   {
    "duration": 98,
    "start_time": "2023-02-08T17:38:31.732Z"
   },
   {
    "duration": 1385,
    "start_time": "2023-02-08T17:38:31.832Z"
   },
   {
    "duration": 167,
    "start_time": "2023-02-08T17:38:33.219Z"
   },
   {
    "duration": 11,
    "start_time": "2023-02-08T17:38:33.387Z"
   },
   {
    "duration": 25,
    "start_time": "2023-02-08T17:38:33.400Z"
   },
   {
    "duration": 23,
    "start_time": "2023-02-08T17:39:53.130Z"
   },
   {
    "duration": 1724,
    "start_time": "2023-02-08T17:40:57.670Z"
   },
   {
    "duration": 1171,
    "start_time": "2023-02-08T19:49:07.928Z"
   },
   {
    "duration": 85,
    "start_time": "2023-02-08T19:49:09.102Z"
   },
   {
    "duration": 12,
    "start_time": "2023-02-08T19:49:09.189Z"
   },
   {
    "duration": 21,
    "start_time": "2023-02-08T19:49:09.208Z"
   },
   {
    "duration": 7,
    "start_time": "2023-02-08T19:49:09.231Z"
   },
   {
    "duration": 81,
    "start_time": "2023-02-08T19:49:09.239Z"
   },
   {
    "duration": 1704,
    "start_time": "2023-02-08T19:49:09.323Z"
   },
   {
    "duration": 181,
    "start_time": "2023-02-08T19:49:11.029Z"
   },
   {
    "duration": 15,
    "start_time": "2023-02-08T19:49:11.212Z"
   },
   {
    "duration": 5,
    "start_time": "2023-02-08T19:49:11.228Z"
   },
   {
    "duration": 52,
    "start_time": "2023-02-08T20:43:16.096Z"
   },
   {
    "duration": 1158,
    "start_time": "2023-02-08T20:43:20.373Z"
   },
   {
    "duration": 98,
    "start_time": "2023-02-08T20:43:21.533Z"
   },
   {
    "duration": 11,
    "start_time": "2023-02-08T20:43:21.632Z"
   },
   {
    "duration": 18,
    "start_time": "2023-02-08T20:43:21.645Z"
   },
   {
    "duration": 26,
    "start_time": "2023-02-08T20:43:21.669Z"
   },
   {
    "duration": 89,
    "start_time": "2023-02-08T20:43:21.697Z"
   },
   {
    "duration": 1686,
    "start_time": "2023-02-08T20:43:21.788Z"
   },
   {
    "duration": 174,
    "start_time": "2023-02-08T20:43:23.476Z"
   },
   {
    "duration": 21,
    "start_time": "2023-02-08T20:43:23.652Z"
   },
   {
    "duration": 20,
    "start_time": "2023-02-08T20:43:23.676Z"
   },
   {
    "duration": 15,
    "start_time": "2023-02-08T20:44:10.403Z"
   },
   {
    "duration": 16,
    "start_time": "2023-02-08T20:44:17.296Z"
   },
   {
    "duration": 11,
    "start_time": "2023-02-08T20:44:20.865Z"
   },
   {
    "duration": 16,
    "start_time": "2023-02-08T20:44:24.675Z"
   },
   {
    "duration": 20,
    "start_time": "2023-02-08T20:44:29.783Z"
   },
   {
    "duration": 11,
    "start_time": "2023-02-08T20:45:32.650Z"
   },
   {
    "duration": 1082,
    "start_time": "2023-02-09T07:36:45.550Z"
   },
   {
    "duration": 142,
    "start_time": "2023-02-09T07:36:46.634Z"
   },
   {
    "duration": 10,
    "start_time": "2023-02-09T07:36:46.778Z"
   },
   {
    "duration": 7,
    "start_time": "2023-02-09T07:36:46.791Z"
   },
   {
    "duration": 9,
    "start_time": "2023-02-09T07:36:46.799Z"
   },
   {
    "duration": 65,
    "start_time": "2023-02-09T07:36:46.809Z"
   },
   {
    "duration": 1556,
    "start_time": "2023-02-09T07:36:46.875Z"
   },
   {
    "duration": 177,
    "start_time": "2023-02-09T07:36:48.432Z"
   },
   {
    "duration": 14,
    "start_time": "2023-02-09T07:36:48.611Z"
   },
   {
    "duration": 5,
    "start_time": "2023-02-09T07:36:48.627Z"
   }
  ],
  "kernelspec": {
   "display_name": "Python 3 (ipykernel)",
   "language": "python",
   "name": "python3"
  },
  "language_info": {
   "codemirror_mode": {
    "name": "ipython",
    "version": 3
   },
   "file_extension": ".py",
   "mimetype": "text/x-python",
   "name": "python",
   "nbconvert_exporter": "python",
   "pygments_lexer": "ipython3",
   "version": "3.10.9"
  },
  "toc": {
   "base_numbering": 1,
   "nav_menu": {},
   "number_sections": true,
   "sideBar": true,
   "skip_h1_title": true,
   "title_cell": "Table of Contents",
   "title_sidebar": "Contents",
   "toc_cell": false,
   "toc_position": {},
   "toc_section_display": true,
   "toc_window_display": false
  }
 },
 "nbformat": 4,
 "nbformat_minor": 2
}
